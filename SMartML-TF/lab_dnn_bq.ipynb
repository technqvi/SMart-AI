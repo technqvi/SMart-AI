{
 "cells": [
  {
   "cell_type": "code",
   "execution_count": 1,
   "id": "b68618c9-6486-40fc-90b4-ea42841340db",
   "metadata": {},
   "outputs": [],
   "source": [
    "#https://cloud.google.com/vertex-ai/docs/tutorials/train-tensorflow-bigquery\n",
    "#https://cloud.google.com/vertex-ai/docs/tutorials/tabular-bq-prediction"
   ]
  },
  {
   "cell_type": "code",
   "execution_count": 14,
   "id": "cd112903-c819-4cf8-ad02-cb3846ce8213",
   "metadata": {},
   "outputs": [],
   "source": [
    "project_id = \"pongthorn\"  # @param {type:\"string\"}\n",
    "# Set the project id\n",
    "# ! gcloud config set project {project_id}\n",
    "\n",
    "region = \"asia-southeast1\"  "
   ]
  },
  {
   "cell_type": "code",
   "execution_count": 15,
   "id": "22997379-269b-4da7-b100-8f21d149083b",
   "metadata": {},
   "outputs": [
    {
     "name": "stdout",
     "output_type": "stream",
     "text": [
      "gs://incident_tf_lab_pongthorn\n",
      "Bucket incident_tf_lab_pongthorn created.\n"
     ]
    }
   ],
   "source": [
    "bucket_name = \"incident_tf_lab_pongthorn\"  # @param {type:\"string\"}\n",
    "bucket_uri = f\"gs://{bucket_name}\"\n",
    "\n",
    "from datetime import datetime\n",
    "timestamp = datetime.now().strftime(\"%Y%m%d%H%M%S\")\n",
    "\n",
    "if bucket_name == \"\" or bucket_name is None or bucket_name == \"bucket-name-placeholder\":\n",
    "    bucket_name = project_id + \"aip-\" + timestamp\n",
    "    bucket_uri = \"gs://\" + bucket_name\n",
    "! echo $bucket_uri\n",
    "\n",
    "from google.cloud import storage\n",
    "client = storage.Client(project=project_id)\n",
    "\n",
    "# Create a bucket\n",
    "bucket = client.create_bucket(bucket_name, location=region)\n",
    "\n",
    "print(\"Bucket {} created.\".format(bucket.name))"
   ]
  },
  {
   "cell_type": "code",
   "execution_count": 17,
   "id": "3011f95b-c01c-4aec-8551-592c671be7bb",
   "metadata": {},
   "outputs": [
    {
     "ename": "ImportError",
     "evalue": "cannot import name 'aiplatform' from 'google.cloud' (unknown location)",
     "output_type": "error",
     "traceback": [
      "\u001b[1;31m---------------------------------------------------------------------------\u001b[0m",
      "\u001b[1;31mImportError\u001b[0m                               Traceback (most recent call last)",
      "Cell \u001b[1;32mIn[17], line 1\u001b[0m\n\u001b[1;32m----> 1\u001b[0m \u001b[38;5;28;01mfrom\u001b[39;00m \u001b[38;5;21;01mgoogle\u001b[39;00m\u001b[38;5;21;01m.\u001b[39;00m\u001b[38;5;21;01mcloud\u001b[39;00m \u001b[38;5;28;01mimport\u001b[39;00m aiplatform\n",
      "\u001b[1;31mImportError\u001b[0m: cannot import name 'aiplatform' from 'google.cloud' (unknown location)"
     ]
    }
   ],
   "source": [
    "from google.cloud import aiplatform\n",
    "\n",
    "# Initialize the Vertex AI SDK\n",
    "# aiplatform.init(project=project_id, location=region, staging_bucket=bucket_uri)"
   ]
  },
  {
   "cell_type": "code",
   "execution_count": null,
   "id": "fccb01ed-80e2-468b-b5e9-3f58d08db744",
   "metadata": {},
   "outputs": [],
   "source": []
  }
 ],
 "metadata": {
  "kernelspec": {
   "display_name": "Python 3 (ipykernel)",
   "language": "python",
   "name": "python3"
  },
  "language_info": {
   "codemirror_mode": {
    "name": "ipython",
    "version": 3
   },
   "file_extension": ".py",
   "mimetype": "text/x-python",
   "name": "python",
   "nbconvert_exporter": "python",
   "pygments_lexer": "ipython3",
   "version": "3.9.16"
  }
 },
 "nbformat": 4,
 "nbformat_minor": 5
}
