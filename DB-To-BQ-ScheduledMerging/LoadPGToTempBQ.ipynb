{
 "cells": [
  {
   "cell_type": "markdown",
   "metadata": {},
   "source": [
    "# Imported Library"
   ]
  },
  {
   "cell_type": "code",
   "execution_count": 406,
   "metadata": {
    "tags": []
   },
   "outputs": [],
   "source": [
    "import psycopg2\n",
    "from psycopg2 import sql\n",
    "import psycopg2.extras as extras\n",
    "import pandas as pd\n",
    "import json\n",
    "from datetime import datetime,timezone\n",
    "\n",
    "from configupdater import ConfigUpdater\n",
    "# pip install ConfigUpdater\n",
    "\n",
    "from dotenv import dotenv_values\n",
    "\n",
    "from google.cloud import bigquery\n",
    "from google.cloud.exceptions import NotFound\n",
    "from google.api_core.exceptions import BadRequest\n",
    "from google.oauth2 import service_account"
   ]
  },
  {
   "cell_type": "markdown",
   "metadata": {},
   "source": [
    "# Imported date"
   ]
  },
  {
   "cell_type": "code",
   "execution_count": 407,
   "metadata": {
    "tags": []
   },
   "outputs": [
    {
     "name": "stdout",
     "output_type": "stream",
     "text": [
      "2023-12-27 01:55:26\n"
     ]
    }
   ],
   "source": [
    "#dt_imported=datetime.now(timezone.utc) # utc\n",
    "dt_imported=datetime.now()\n",
    "dt_imported=datetime.strptime(dt_imported.strftime(\"%Y-%m-%d %H:%M:%S\"),\"%Y-%m-%d %H:%M:%S\")\n",
    "print(dt_imported)"
   ]
  },
  {
   "cell_type": "markdown",
   "metadata": {},
   "source": [
    "# Set view"
   ]
  },
  {
   "cell_type": "code",
   "execution_count": 408,
   "metadata": {
    "tags": []
   },
   "outputs": [],
   "source": [
    "log = \"models_logging_change\"\n",
    "\n",
    "view_name = \"pmr_pm_plan\"\n",
    "\n",
    "if view_name == \"pmr_pm_plan\":\n",
    "    content_id = 36\n",
    "    view_name_id = \"pm_id\"\n",
    "\n",
    "elif view_name == \"pmr_pm_item\":\n",
    "    content_id = 37\n",
    "    view_name_id = \"pm_item_id\"\n",
    "\n",
    "elif view_name == \"pmr_project\":\n",
    "    content_id = 7\n",
    "    view_name_id = \"project_id\"\n",
    "\n",
    "elif view_name == \"pmr_inventory\":\n",
    "    content_id = 14\n",
    "    view_name_id = \"inventory_id\"\n",
    "\n",
    "else:\n",
    "    raise Exception(\"No specified content type id\")"
   ]
  },
  {
   "cell_type": "markdown",
   "metadata": {},
   "source": [
    "# Set data and cofig path"
   ]
  },
  {
   "cell_type": "code",
   "execution_count": 409,
   "metadata": {
    "tags": []
   },
   "outputs": [
    {
     "name": "stdout",
     "output_type": "stream",
     "text": [
      "smart-data-ml.PMReport_Temp.temp_pm_plan\n",
      "smart-data-ml.PMReport_Main.pm_plan\n",
      "<google.cloud.bigquery.client.Client object at 0x0000021671FAFA60>\n"
     ]
    }
   ],
   "source": [
    "projectId='smart-data-ml'  # smart-data-ml  or kku-intern-dataai\n",
    "dataset_id='PMReport_Temp'\n",
    "table_name=view_name.replace(\"pmr_\",\"temp_\") #can change in (\"name\") to temp table\n",
    "table_id = f\"{projectId}.{dataset_id}.{table_name}\"\n",
    "print(table_id)\n",
    "\n",
    "main_dataset_id='PMReport_Main'\n",
    "main_table_name=view_name.replace(\"pmr_\",\"\")\n",
    "main_table_id = f\"{projectId}.{main_dataset_id}.{main_table_name}\"\n",
    "print(main_table_id)\n",
    "\n",
    "# https://cloud.google.com/bigquery/docs/reference/rest/v2/Job\n",
    "to_bq_mode=\"WRITE_EMPTY\"\n",
    "\n",
    "credentials = service_account.Credentials.from_service_account_file(r'C:\\Windows\\smart-data-ml-91b6f6204773.json')\n",
    "client = bigquery.Client(credentials= credentials,project=projectId)\n",
    "print(client)"
   ]
  },
  {
   "cell_type": "markdown",
   "metadata": {},
   "source": [
    "Read Configuration File and Initialize BQ Object"
   ]
  },
  {
   "cell_type": "code",
   "execution_count": 410,
   "metadata": {
    "tags": []
   },
   "outputs": [],
   "source": [
    "updater = ConfigUpdater()\n",
    "updater.read(\".cfg\")\n",
    "\n",
    "env_path='.env'\n",
    "config = dotenv_values(dotenv_path=env_path)"
   ]
  },
  {
   "cell_type": "code",
   "execution_count": 411,
   "metadata": {
    "tags": []
   },
   "outputs": [
    {
     "name": "stdout",
     "output_type": "stream",
     "text": [
      "2023-12-27 01:43:47\n"
     ]
    }
   ],
   "source": [
    "last_imported=datetime.strptime(updater[\"metadata\"][view_name].value,\"%Y-%m-%d %H:%M:%S\")\n",
    "print(last_imported)"
   ]
  },
  {
   "cell_type": "markdown",
   "metadata": {},
   "source": [
    "# Postgres &BigQuery"
   ]
  },
  {
   "cell_type": "code",
   "execution_count": 412,
   "metadata": {
    "tags": []
   },
   "outputs": [],
   "source": [
    "def get_postgres_conn():\n",
    " try:\n",
    "  conn = psycopg2.connect(\n",
    "        database=config['DATABASES_NAME'], user=config['DATABASES_USER'],\n",
    "      password=config['DATABASES_PASSWORD'], host=config['DATABASES_HOST']\n",
    "     )\n",
    "  return conn\n",
    "\n",
    " except Exception as error:\n",
    "  print(error)      \n",
    "  raise error\n",
    "def list_data(sql,params,connection):\n",
    " df=None   \n",
    " with connection.cursor() as cursor:\n",
    "    \n",
    "    if params is None:\n",
    "       cursor.execute(sql)\n",
    "    else:\n",
    "       cursor.execute(sql,params)\n",
    "    \n",
    "    columns = [col[0] for col in cursor.description]\n",
    "    dataList = [dict(zip(columns, row)) for row in cursor.fetchall()]\n",
    "    df = pd.DataFrame(data=dataList) \n",
    " return df "
   ]
  },
  {
   "cell_type": "code",
   "execution_count": 413,
   "metadata": {
    "tags": []
   },
   "outputs": [],
   "source": [
    "def get_bq_table():\n",
    " try:\n",
    "    table=client.get_table(table_id)  # Make an API request.\n",
    "    print(\"Table {} already exists.\".format(table_id))\n",
    "    print(table.schema)\n",
    "    return True\n",
    " except NotFound:\n",
    "    raise Exception(\"Table {} is not found.\".format(table_id))\n",
    "    \n",
    "def collectBQError(x_job):\n",
    " if x_job.errors is not None:\n",
    "    for error in x_job.errors:  \n",
    "      msg=f\"{error['reason']} - {error['message']}\"\n",
    "      listError.append([datetime.now().strftime(\"%Y-%m-%d %H:%M:%S\"),dtStr_imported,source_name,msg])\n",
    "    if   len(listError)>0:\n",
    "     logErrorMessage(listError,False)  \n",
    "\n",
    "    \n",
    "def insertDataFrameToBQ(df_trasns):\n",
    "    try:\n",
    "        job_config = bigquery.LoadJobConfig(write_disposition=to_bq_mode,)\n",
    "        job = client.load_table_from_dataframe(df_trasns, table_id, job_config=job_config)\n",
    "        try:\n",
    "         job.result()  # Wait for the job to complete.\n",
    "        except ClientError as e:\n",
    "         print(job.errors)\n",
    "\n",
    "        print(\"Total \", len(df_trasns), f\"Imported data to {table_id} on bigquery successfully\")\n",
    "\n",
    "    except BadRequest as e:\n",
    "        print(\"Bigquery Error\\n\")\n",
    "        print(e) "
   ]
  },
  {
   "cell_type": "markdown",
   "metadata": {},
   "source": [
    "# Load log table"
   ]
  },
  {
   "cell_type": "code",
   "execution_count": 414,
   "metadata": {
    "tags": []
   },
   "outputs": [
    {
     "name": "stdout",
     "output_type": "stream",
     "text": [
      "\n",
      "SELECT object_id, action,TO_CHAR(date_created,'YYYY-MM-DD HH24:MI:SS') as date_created FROM models_logging_change\n",
      "WHERE date_created >= '2023-12-27 01:43:47' AND content_type_id = 36 ORDER BY object_id, date_created\n",
      "\n",
      "Retrieve all rows after 2023-12-27 01:43:47\n",
      "<class 'pandas.core.frame.DataFrame'>\n",
      "RangeIndex: 4 entries, 0 to 3\n",
      "Data columns (total 3 columns):\n",
      " #   Column        Non-Null Count  Dtype \n",
      "---  ------        --------------  ----- \n",
      " 0   object_id     4 non-null      object\n",
      " 1   action        4 non-null      object\n",
      " 2   date_created  4 non-null      object\n",
      "dtypes: object(3)\n",
      "memory usage: 224.0+ bytes\n",
      "None\n"
     ]
    },
    {
     "data": {
      "text/html": [
       "<div>\n",
       "<style scoped>\n",
       "    .dataframe tbody tr th:only-of-type {\n",
       "        vertical-align: middle;\n",
       "    }\n",
       "\n",
       "    .dataframe tbody tr th {\n",
       "        vertical-align: top;\n",
       "    }\n",
       "\n",
       "    .dataframe thead th {\n",
       "        text-align: right;\n",
       "    }\n",
       "</style>\n",
       "<table border=\"1\" class=\"dataframe\">\n",
       "  <thead>\n",
       "    <tr style=\"text-align: right;\">\n",
       "      <th></th>\n",
       "      <th>object_id</th>\n",
       "      <th>action</th>\n",
       "      <th>date_created</th>\n",
       "    </tr>\n",
       "  </thead>\n",
       "  <tbody>\n",
       "    <tr>\n",
       "      <th>0</th>\n",
       "      <td>18</td>\n",
       "      <td>deleted</td>\n",
       "      <td>2023-12-27 01:54:07</td>\n",
       "    </tr>\n",
       "    <tr>\n",
       "      <th>1</th>\n",
       "      <td>38</td>\n",
       "      <td>changed</td>\n",
       "      <td>2023-12-27 01:52:35</td>\n",
       "    </tr>\n",
       "    <tr>\n",
       "      <th>2</th>\n",
       "      <td>41</td>\n",
       "      <td>added</td>\n",
       "      <td>2023-12-27 01:51:58</td>\n",
       "    </tr>\n",
       "    <tr>\n",
       "      <th>3</th>\n",
       "      <td>41</td>\n",
       "      <td>changed</td>\n",
       "      <td>2023-12-27 01:55:17</td>\n",
       "    </tr>\n",
       "  </tbody>\n",
       "</table>\n",
       "</div>"
      ],
      "text/plain": [
       "  object_id   action         date_created\n",
       "0        18  deleted  2023-12-27 01:54:07\n",
       "1        38  changed  2023-12-27 01:52:35\n",
       "2        41    added  2023-12-27 01:51:58\n",
       "3        41  changed  2023-12-27 01:55:17"
      ]
     },
     "execution_count": 414,
     "metadata": {},
     "output_type": "execute_result"
    }
   ],
   "source": [
    "sql_log = f\"\"\"\n",
    "SELECT object_id, action,TO_CHAR(date_created,'YYYY-MM-DD HH24:MI:SS') as date_created FROM {log}\n",
    "WHERE date_created >= '{last_imported}' AND content_type_id = {content_id} ORDER BY object_id, date_created\n",
    "\"\"\"\n",
    "print(sql_log)\n",
    "\n",
    "lf = list_data(sql_log, None, get_postgres_conn())\n",
    "print(f\"Retrieve all rows after {last_imported}\")\n",
    "print(lf.info())\n",
    "\n",
    "if lf.empty==True:\n",
    "    print(\"No row to be imported.\")\n",
    "    #exit()\n",
    "lf"
   ]
  },
  {
   "cell_type": "markdown",
   "metadata": {
    "tags": []
   },
   "source": [
    "# Get all actions from log table by selecting unique object_id and setting by doing something as logic "
   ]
  },
  {
   "cell_type": "code",
   "execution_count": 415,
   "metadata": {
    "tags": []
   },
   "outputs": [],
   "source": [
    "listIDs=lf[\"object_id\"].unique().tolist()\n",
    "listUpdateData=[]\n",
    "for id in listIDs:\n",
    "    lfTemp=lf.query(\"object_id==@id\")\n",
    "    # print(lfTemp)\n",
    "    # print(\"----------------------------------------------------------------\")\n",
    "    \n",
    "    \n",
    "    first_row = lfTemp.iloc[0]\n",
    "    last_row = lfTemp.iloc[-1]\n",
    "    # print(first_row)\n",
    "    # print(last_row)\n",
    "\n",
    "    if len(lfTemp)==1:\n",
    "        listUpdateData.append([id,first_row[\"action\"]])\n",
    "    else:\n",
    "        if first_row[\"action\"] == \"added\" and last_row[\"action\"] == \"deleted\":\n",
    "            continue\n",
    "        elif first_row[\"action\"] == \"added\" and last_row[\"action\"] != \"deleted\":\n",
    "            listUpdateData.append([id,\"added\"])\n",
    "        else : listUpdateData.append([id,last_row[\"action\"]])\n",
    "# print(listUpdateData)\n",
    "\n"
   ]
  },
  {
   "cell_type": "markdown",
   "metadata": {},
   "source": [
    "# Create  id and action dataframe form filtered rows from log table"
   ]
  },
  {
   "cell_type": "code",
   "execution_count": 416,
   "metadata": {
    "tags": []
   },
   "outputs": [
    {
     "name": "stdout",
     "output_type": "stream",
     "text": [
      "Convert listUpdate to dataframe\n",
      "<class 'pandas.core.frame.DataFrame'>\n",
      "RangeIndex: 3 entries, 0 to 2\n",
      "Data columns (total 2 columns):\n",
      " #   Column  Non-Null Count  Dtype \n",
      "---  ------  --------------  ----- \n",
      " 0   id      3 non-null      int64 \n",
      " 1   action  3 non-null      object\n",
      "dtypes: int64(1), object(1)\n",
      "memory usage: 176.0+ bytes\n",
      "None\n"
     ]
    },
    {
     "data": {
      "text/html": [
       "<div>\n",
       "<style scoped>\n",
       "    .dataframe tbody tr th:only-of-type {\n",
       "        vertical-align: middle;\n",
       "    }\n",
       "\n",
       "    .dataframe tbody tr th {\n",
       "        vertical-align: top;\n",
       "    }\n",
       "\n",
       "    .dataframe thead th {\n",
       "        text-align: right;\n",
       "    }\n",
       "</style>\n",
       "<table border=\"1\" class=\"dataframe\">\n",
       "  <thead>\n",
       "    <tr style=\"text-align: right;\">\n",
       "      <th></th>\n",
       "      <th>id</th>\n",
       "      <th>action</th>\n",
       "    </tr>\n",
       "  </thead>\n",
       "  <tbody>\n",
       "    <tr>\n",
       "      <th>0</th>\n",
       "      <td>18</td>\n",
       "      <td>deleted</td>\n",
       "    </tr>\n",
       "    <tr>\n",
       "      <th>1</th>\n",
       "      <td>38</td>\n",
       "      <td>changed</td>\n",
       "    </tr>\n",
       "    <tr>\n",
       "      <th>2</th>\n",
       "      <td>41</td>\n",
       "      <td>added</td>\n",
       "    </tr>\n",
       "  </tbody>\n",
       "</table>\n",
       "</div>"
      ],
      "text/plain": [
       "   id   action\n",
       "0  18  deleted\n",
       "1  38  changed\n",
       "2  41    added"
      ]
     },
     "execution_count": 416,
     "metadata": {},
     "output_type": "execute_result"
    }
   ],
   "source": [
    "print(\"Convert listUpdate to dataframe\")\n",
    "dfUpdateData = pd.DataFrame(listUpdateData, columns= ['id', 'action'])\n",
    "dfUpdateData['id'] = dfUpdateData['id'].astype('int64')\n",
    "print(dfUpdateData.info())\n",
    "dfUpdateData"
   ]
  },
  {
   "cell_type": "code",
   "execution_count": 417,
   "metadata": {
    "tags": []
   },
   "outputs": [
    {
     "name": "stdout",
     "output_type": "stream",
     "text": [
      "if the main table is empty , so the action of each row  must be 'added' on temp table\n"
     ]
    }
   ],
   "source": [
    "print(\"if the main table is empty , so the action of each row  must be 'added' on temp table\")\n",
    "\n",
    "rows_iter   = client.list_rows(main_table_id, max_results=1) \n",
    "if(len(list(rows_iter))==0):\n",
    "   print(f\"No data in {main_table_id}, so all rows in {table_id} action will be 'added' except delete\")\n",
    "   dfUpdateData=dfUpdateData.query(\"action!='deleted'\")\n",
    "   dfUpdateData['action']='added'\n",
    "    \n",
    "\n"
   ]
  },
  {
   "cell_type": "code",
   "execution_count": 418,
   "metadata": {
    "tags": []
   },
   "outputs": [
    {
     "name": "stdout",
     "output_type": "stream",
     "text": [
      "<class 'pandas.core.frame.DataFrame'>\n",
      "RangeIndex: 3 entries, 0 to 2\n",
      "Data columns (total 2 columns):\n",
      " #   Column  Non-Null Count  Dtype \n",
      "---  ------  --------------  ----- \n",
      " 0   id      3 non-null      int64 \n",
      " 1   action  3 non-null      object\n",
      "dtypes: int64(1), object(1)\n",
      "memory usage: 176.0+ bytes\n",
      "None\n"
     ]
    },
    {
     "data": {
      "text/html": [
       "<div>\n",
       "<style scoped>\n",
       "    .dataframe tbody tr th:only-of-type {\n",
       "        vertical-align: middle;\n",
       "    }\n",
       "\n",
       "    .dataframe tbody tr th {\n",
       "        vertical-align: top;\n",
       "    }\n",
       "\n",
       "    .dataframe thead th {\n",
       "        text-align: right;\n",
       "    }\n",
       "</style>\n",
       "<table border=\"1\" class=\"dataframe\">\n",
       "  <thead>\n",
       "    <tr style=\"text-align: right;\">\n",
       "      <th></th>\n",
       "      <th>id</th>\n",
       "      <th>action</th>\n",
       "    </tr>\n",
       "  </thead>\n",
       "  <tbody>\n",
       "    <tr>\n",
       "      <th>0</th>\n",
       "      <td>18</td>\n",
       "      <td>deleted</td>\n",
       "    </tr>\n",
       "    <tr>\n",
       "      <th>1</th>\n",
       "      <td>38</td>\n",
       "      <td>changed</td>\n",
       "    </tr>\n",
       "    <tr>\n",
       "      <th>2</th>\n",
       "      <td>41</td>\n",
       "      <td>added</td>\n",
       "    </tr>\n",
       "  </tbody>\n",
       "</table>\n",
       "</div>"
      ],
      "text/plain": [
       "   id   action\n",
       "0  18  deleted\n",
       "1  38  changed\n",
       "2  41    added"
      ]
     },
     "execution_count": 418,
     "metadata": {},
     "output_type": "execute_result"
    }
   ],
   "source": [
    "dfUpdateData=dfUpdateData.sort_values(by=\"id\")\n",
    "dfUpdateData=dfUpdateData.reset_index(drop=True)\n",
    "\n",
    "print(dfUpdateData.info())\n",
    "# Display the DataFrame\n",
    "\n",
    "dfUpdateData"
   ]
  },
  {
   "cell_type": "markdown",
   "metadata": {},
   "source": [
    "# Load view and transform"
   ]
  },
  {
   "cell_type": "code",
   "execution_count": 428,
   "metadata": {
    "tags": []
   },
   "outputs": [
    {
     "name": "stdout",
     "output_type": "stream",
     "text": [
      "[18, 38, 41]\n",
      "select *  from pmr_pm_plan  where pm_id in (18, 38, 41)\n",
      "<class 'pandas.core.frame.DataFrame'>\n",
      "RangeIndex: 2 entries, 0 to 1\n",
      "Data columns (total 5 columns):\n",
      " #   Column         Non-Null Count  Dtype \n",
      "---  ------         --------------  ----- \n",
      " 0   pm_id          2 non-null      int64 \n",
      " 1   project_id     2 non-null      int64 \n",
      " 2   planned_date   2 non-null      object\n",
      " 3   ended_pm_date  2 non-null      object\n",
      " 4   team_lead      2 non-null      object\n",
      "dtypes: int64(2), object(3)\n",
      "memory usage: 208.0+ bytes\n",
      "None\n"
     ]
    },
    {
     "data": {
      "text/html": [
       "<div>\n",
       "<style scoped>\n",
       "    .dataframe tbody tr th:only-of-type {\n",
       "        vertical-align: middle;\n",
       "    }\n",
       "\n",
       "    .dataframe tbody tr th {\n",
       "        vertical-align: top;\n",
       "    }\n",
       "\n",
       "    .dataframe thead th {\n",
       "        text-align: right;\n",
       "    }\n",
       "</style>\n",
       "<table border=\"1\" class=\"dataframe\">\n",
       "  <thead>\n",
       "    <tr style=\"text-align: right;\">\n",
       "      <th></th>\n",
       "      <th>pm_id</th>\n",
       "      <th>project_id</th>\n",
       "      <th>planned_date</th>\n",
       "      <th>ended_pm_date</th>\n",
       "      <th>team_lead</th>\n",
       "    </tr>\n",
       "  </thead>\n",
       "  <tbody>\n",
       "    <tr>\n",
       "      <th>0</th>\n",
       "      <td>38</td>\n",
       "      <td>26</td>\n",
       "      <td>2023-12-01</td>\n",
       "      <td>2023-12-30</td>\n",
       "      <td>Jitchanok Nakeiam</td>\n",
       "    </tr>\n",
       "    <tr>\n",
       "      <th>1</th>\n",
       "      <td>41</td>\n",
       "      <td>26</td>\n",
       "      <td>2024-02-01</td>\n",
       "      <td>2024-02-29</td>\n",
       "      <td>Taned Sangowingul</td>\n",
       "    </tr>\n",
       "  </tbody>\n",
       "</table>\n",
       "</div>"
      ],
      "text/plain": [
       "   pm_id  project_id planned_date ended_pm_date          team_lead\n",
       "0     38          26   2023-12-01    2023-12-30  Jitchanok Nakeiam\n",
       "1     41          26   2024-02-01    2024-02-29  Taned Sangowingul"
      ]
     },
     "execution_count": 428,
     "metadata": {},
     "output_type": "execute_result"
    }
   ],
   "source": [
    "listUpdateIDs = dfUpdateData['id'].tolist()\n",
    "print(listUpdateIDs)\n",
    "if len(listUpdateIDs)>1:\n",
    " sql_view=f\"select *  from {view_name}  where {view_name_id} in {tuple(listUpdateIDs)}\"\n",
    "else:\n",
    " sql_view=f\"select *  from {view_name}  where {view_name_id} ={listUpdateIDs[0]}\"\n",
    "print(sql_view)\n",
    "df=list_data(sql_view,None,get_postgres_conn())\n",
    "print(df.info())\n",
    "df"
   ]
  },
  {
   "cell_type": "markdown",
   "metadata": {},
   "source": [
    "# Merge LogDF and ViewDF"
   ]
  },
  {
   "cell_type": "code",
   "execution_count": 429,
   "metadata": {
    "tags": []
   },
   "outputs": [
    {
     "data": {
      "text/html": [
       "<div>\n",
       "<style scoped>\n",
       "    .dataframe tbody tr th:only-of-type {\n",
       "        vertical-align: middle;\n",
       "    }\n",
       "\n",
       "    .dataframe tbody tr th {\n",
       "        vertical-align: top;\n",
       "    }\n",
       "\n",
       "    .dataframe thead th {\n",
       "        text-align: right;\n",
       "    }\n",
       "</style>\n",
       "<table border=\"1\" class=\"dataframe\">\n",
       "  <thead>\n",
       "    <tr style=\"text-align: right;\">\n",
       "      <th></th>\n",
       "      <th>pm_id</th>\n",
       "      <th>project_id</th>\n",
       "      <th>planned_date</th>\n",
       "      <th>ended_pm_date</th>\n",
       "      <th>team_lead</th>\n",
       "      <th>action</th>\n",
       "    </tr>\n",
       "  </thead>\n",
       "  <tbody>\n",
       "    <tr>\n",
       "      <th>0</th>\n",
       "      <td>38</td>\n",
       "      <td>26</td>\n",
       "      <td>2023-12-01</td>\n",
       "      <td>2023-12-30</td>\n",
       "      <td>Jitchanok Nakeiam</td>\n",
       "      <td>changed</td>\n",
       "    </tr>\n",
       "    <tr>\n",
       "      <th>1</th>\n",
       "      <td>41</td>\n",
       "      <td>26</td>\n",
       "      <td>2024-02-01</td>\n",
       "      <td>2024-02-29</td>\n",
       "      <td>Taned Sangowingul</td>\n",
       "      <td>added</td>\n",
       "    </tr>\n",
       "  </tbody>\n",
       "</table>\n",
       "</div>"
      ],
      "text/plain": [
       "   pm_id  project_id planned_date ended_pm_date          team_lead   action\n",
       "0     38          26   2023-12-01    2023-12-30  Jitchanok Nakeiam  changed\n",
       "1     41          26   2024-02-01    2024-02-29  Taned Sangowingul    added"
      ]
     },
     "execution_count": 429,
     "metadata": {},
     "output_type": "execute_result"
    }
   ],
   "source": [
    "merged_df = pd.merge(df, dfUpdateData, left_on=view_name_id, right_on='id', how='inner')\n",
    "merged_df = merged_df.drop(columns=['id'])\n",
    "merged_df"
   ]
  },
  {
   "cell_type": "markdown",
   "metadata": {},
   "source": [
    "# Get Deleted Items  to Create deleted dataframe by using listDeleted\n",
    "## if there is one deletd row then  we will merge it to master dataframe"
   ]
  },
  {
   "cell_type": "code",
   "execution_count": 430,
   "metadata": {},
   "outputs": [
    {
     "name": "stdout",
     "output_type": "stream",
     "text": [
      "[38, 41]\n",
      "[18]\n",
      "There are some deleted rows\n",
      "   pm_id   action\n",
      "0     18  deleted\n"
     ]
    }
   ],
   "source": [
    "listSelected = df[view_name_id].tolist()\n",
    "print(listSelected)\n",
    "\n",
    "set1 = set(listUpdateIDs)\n",
    "set2 = set(listSelected)\n",
    "listDeleted = list(set1.symmetric_difference(set2))\n",
    "\n",
    "print(listDeleted)\n",
    "\n",
    "if len(listDeleted)>0:\n",
    "    print(\"There are some deleted rows\")\n",
    "    dfDeleted=pd.DataFrame(data=listDeleted,columns=[view_name_id])\n",
    "    dfDeleted['action']='deleted'\n",
    "    print(dfDeleted)\n",
    "    \n",
    "    merged_df=pd.concat([merged_df,dfDeleted],axis=0)\n",
    "\n",
    "    \n",
    "else:\n",
    "    print(\"No row deleted\")\n",
    "    \n"
   ]
  },
  {
   "cell_type": "markdown",
   "metadata": {},
   "source": [
    "# Final Transformation"
   ]
  },
  {
   "cell_type": "code",
   "execution_count": 431,
   "metadata": {
    "tags": []
   },
   "outputs": [
    {
     "data": {
      "text/html": [
       "<div>\n",
       "<style scoped>\n",
       "    .dataframe tbody tr th:only-of-type {\n",
       "        vertical-align: middle;\n",
       "    }\n",
       "\n",
       "    .dataframe tbody tr th {\n",
       "        vertical-align: top;\n",
       "    }\n",
       "\n",
       "    .dataframe thead th {\n",
       "        text-align: right;\n",
       "    }\n",
       "</style>\n",
       "<table border=\"1\" class=\"dataframe\">\n",
       "  <thead>\n",
       "    <tr style=\"text-align: right;\">\n",
       "      <th></th>\n",
       "      <th>pm_id</th>\n",
       "      <th>project_id</th>\n",
       "      <th>planned_date</th>\n",
       "      <th>ended_pm_date</th>\n",
       "      <th>team_lead</th>\n",
       "      <th>action</th>\n",
       "      <th>imported_at</th>\n",
       "    </tr>\n",
       "  </thead>\n",
       "  <tbody>\n",
       "    <tr>\n",
       "      <th>0</th>\n",
       "      <td>38</td>\n",
       "      <td>26.0</td>\n",
       "      <td>2023-12-01</td>\n",
       "      <td>2023-12-30</td>\n",
       "      <td>Jitchanok Nakeiam</td>\n",
       "      <td>changed</td>\n",
       "      <td>2023-12-27 01:55:26</td>\n",
       "    </tr>\n",
       "    <tr>\n",
       "      <th>1</th>\n",
       "      <td>41</td>\n",
       "      <td>26.0</td>\n",
       "      <td>2024-02-01</td>\n",
       "      <td>2024-02-29</td>\n",
       "      <td>Taned Sangowingul</td>\n",
       "      <td>added</td>\n",
       "      <td>2023-12-27 01:55:26</td>\n",
       "    </tr>\n",
       "    <tr>\n",
       "      <th>2</th>\n",
       "      <td>18</td>\n",
       "      <td>NaN</td>\n",
       "      <td>NaN</td>\n",
       "      <td>NaN</td>\n",
       "      <td>NaN</td>\n",
       "      <td>deleted</td>\n",
       "      <td>2023-12-27 01:55:26</td>\n",
       "    </tr>\n",
       "  </tbody>\n",
       "</table>\n",
       "</div>"
      ],
      "text/plain": [
       "   pm_id  project_id planned_date ended_pm_date          team_lead   action  \\\n",
       "0     38        26.0   2023-12-01    2023-12-30  Jitchanok Nakeiam  changed   \n",
       "1     41        26.0   2024-02-01    2024-02-29  Taned Sangowingul    added   \n",
       "2     18         NaN          NaN           NaN                NaN  deleted   \n",
       "\n",
       "          imported_at  \n",
       "0 2023-12-27 01:55:26  \n",
       "1 2023-12-27 01:55:26  \n",
       "2 2023-12-27 01:55:26  "
      ]
     },
     "execution_count": 431,
     "metadata": {},
     "output_type": "execute_result"
    }
   ],
   "source": [
    "merged_df['imported_at']=dt_imported\n",
    "merged_df=merged_df.reset_index(drop=True  )\n",
    "merged_df"
   ]
  },
  {
   "cell_type": "markdown",
   "metadata": {},
   "source": [
    "# Insert data to BQ data frame"
   ]
  },
  {
   "cell_type": "code",
   "execution_count": 432,
   "metadata": {
    "tags": []
   },
   "outputs": [
    {
     "name": "stdout",
     "output_type": "stream",
     "text": [
      "Table smart-data-ml.PMReport_Temp.temp_pm_plan already exists.\n",
      "[SchemaField('pm_id', 'INTEGER', 'NULLABLE', None, None, (), None), SchemaField('project_id', 'INTEGER', 'NULLABLE', None, None, (), None), SchemaField('planned_date', 'DATE', 'NULLABLE', None, None, (), None), SchemaField('ended_pm_date', 'DATE', 'NULLABLE', None, None, (), None), SchemaField('team_lead', 'STRING', 'NULLABLE', None, None, (), None), SchemaField('imported_at', 'TIMESTAMP', 'REQUIRED', None, None, (), None), SchemaField('action', 'STRING', 'NULLABLE', None, None, (), None)]\n",
      "Total  3 Imported data to smart-data-ml.PMReport_Temp.temp_pm_plan on bigquery successfully\n"
     ]
    }
   ],
   "source": [
    "if get_bq_table():\n",
    "    try:\n",
    "        insertDataFrameToBQ(merged_df)\n",
    "    except Exception as ex:\n",
    "        raise ex"
   ]
  },
  {
   "cell_type": "code",
   "execution_count": 396,
   "metadata": {
    "tags": []
   },
   "outputs": [
    {
     "data": {
      "text/plain": [
       "<ConfigUpdater [\n",
       "    <Section: 'metadata' [\n",
       "        <Option: pmr_project = '2023-12-01 00:05:00'>\n",
       "        <Option: pmr_pm_plan = '2023-12-27 01:43:47'>\n",
       "        <Option: pmr_pm_item = '2023-12-01 00:05:00'>\n",
       "        <Option: pmr_inventory = '2023-12-01 00:05:00'>\n",
       "    ]>\n",
       "]>"
      ]
     },
     "execution_count": 396,
     "metadata": {},
     "output_type": "execute_result"
    }
   ],
   "source": [
    "updater[\"metadata\"][view_name].value=dt_imported.strftime(\"%Y-%m-%d %H:%M:%S\")\n",
    "updater.update_file() "
   ]
  },
  {
   "cell_type": "code",
   "execution_count": null,
   "metadata": {},
   "outputs": [],
   "source": []
  },
  {
   "cell_type": "code",
   "execution_count": null,
   "metadata": {},
   "outputs": [],
   "source": []
  }
 ],
 "metadata": {
  "kernelspec": {
   "display_name": "Python 3 (ipykernel)",
   "language": "python",
   "name": "python3"
  },
  "language_info": {
   "codemirror_mode": {
    "name": "ipython",
    "version": 3
   },
   "file_extension": ".py",
   "mimetype": "text/x-python",
   "name": "python",
   "nbconvert_exporter": "python",
   "pygments_lexer": "ipython3",
   "version": "3.10.12"
  }
 },
 "nbformat": 4,
 "nbformat_minor": 4
}
