{
 "cells": [
  {
   "cell_type": "code",
   "execution_count": 228,
   "id": "63408083-7cfe-4134-9590-ea5973c1fba1",
   "metadata": {
    "tags": []
   },
   "outputs": [],
   "source": [
    "import psycopg2\n",
    "import psycopg2.extras as extras\n",
    "import pandas as pd\n",
    "import json\n",
    "from datetime import datetime,timezone\n",
    "\n",
    "from configupdater import ConfigUpdater\n",
    "# pip install ConfigUpdater\n",
    "\n",
    "from dotenv import dotenv_values\n",
    "\n",
    "from google.cloud import bigquery\n",
    "from google.cloud.exceptions import NotFound\n",
    "from google.api_core.exceptions import BadRequest\n",
    "from google.oauth2 import service_account"
   ]
  },
  {
   "cell_type": "code",
   "execution_count": 229,
   "id": "010aca85-d460-40b9-8719-ef84749c74eb",
   "metadata": {
    "tags": []
   },
   "outputs": [
    {
     "name": "stdout",
     "output_type": "stream",
     "text": [
      "2023-12-15 17:03:42\n"
     ]
    }
   ],
   "source": [
    "#dt_imported=datetime.now(timezone.utc) # utc\n",
    "dt_imported=datetime.now()\n",
    "dt_imported=datetime.strptime(dt_imported.strftime(\"%Y-%m-%d %H:%M:%S\"),\"%Y-%m-%d %H:%M:%S\")\n",
    "print(dt_imported)"
   ]
  },
  {
   "cell_type": "code",
   "execution_count": 237,
   "id": "b444fc5e-287d-447b-b3f1-8ca754e321b7",
   "metadata": {
    "tags": []
   },
   "outputs": [],
   "source": [
    "view_name=\"pmr_project\"\n",
    "listIDs=[25]\n",
    "key_id=\"project_id\"\n"
   ]
  },
  {
   "cell_type": "code",
   "execution_count": 238,
   "id": "d54b4d2f-6115-4836-908f-d37197374c4f",
   "metadata": {
    "tags": []
   },
   "outputs": [
    {
     "name": "stdout",
     "output_type": "stream",
     "text": [
      "kku-intern-dataai.Demo_PMReport.project\n"
     ]
    }
   ],
   "source": [
    "\n",
    "\n",
    "projectId='kku-intern-dataai'  # smart-data-ml\n",
    "dataset_id='Demo_PMReport'\n",
    "table_name=view_name.replace(\"pmr_\",\"\")\n",
    "table_id = f\"{projectId}.{dataset_id}.{table_name}\"\n",
    "print(table_id)\n",
    "to_bq_mode=\"WRITE_APPEND\""
   ]
  },
  {
   "cell_type": "markdown",
   "id": "3657a675-1dbf-44fd-992c-950a0e9d5fcd",
   "metadata": {},
   "source": [
    "# Read Configuration File and Initialize BQ Object"
   ]
  },
  {
   "cell_type": "code",
   "execution_count": 239,
   "id": "e92da294-7eec-41a4-aeb3-320f2e333cd6",
   "metadata": {
    "tags": []
   },
   "outputs": [],
   "source": [
    "updater = ConfigUpdater()\n",
    "updater.read(\"view_updater.cfg\")\n",
    "\n",
    "env_path='.env'\n",
    "config = dotenv_values(dotenv_path=env_path)"
   ]
  },
  {
   "cell_type": "code",
   "execution_count": 240,
   "id": "a085867e-d6c3-4042-b676-46b8420d2153",
   "metadata": {
    "tags": []
   },
   "outputs": [
    {
     "name": "stdout",
     "output_type": "stream",
     "text": [
      "<google.cloud.bigquery.client.Client object at 0x0000026C26C50E20>\n"
     ]
    }
   ],
   "source": [
    "credentials = service_account.Credentials.from_service_account_file(r'C:\\Windows\\kku-intern-dataai-a5449aee8483.json')\n",
    "client = bigquery.Client(credentials= credentials,project=projectId)\n",
    "print(client)"
   ]
  },
  {
   "cell_type": "code",
   "execution_count": 241,
   "id": "55895d8f-008c-4718-965f-5945a963a3fd",
   "metadata": {
    "tags": []
   },
   "outputs": [
    {
     "name": "stdout",
     "output_type": "stream",
     "text": [
      "2023-12-15 16:52:00\n"
     ]
    }
   ],
   "source": [
    "last_imported=datetime.strptime(updater[\"metadata\"][view_name].value,\"%Y-%m-%d %H:%M:%S\")\n",
    "print(last_imported)"
   ]
  },
  {
   "cell_type": "markdown",
   "id": "13f77b0f-c5ab-40bf-a51a-0f354bd23060",
   "metadata": {
    "tags": []
   },
   "source": [
    "# Postgres &BigQuery"
   ]
  },
  {
   "cell_type": "code",
   "execution_count": 242,
   "id": "6cb39a70-1a97-4c58-bd4b-96d6084944db",
   "metadata": {
    "tags": []
   },
   "outputs": [],
   "source": [
    "def get_postgres_conn():\n",
    " try:\n",
    "  conn = psycopg2.connect(\n",
    "        database=config['DATABASES_NAME'], user=config['DATABASES_USER'],\n",
    "      password=config['DATABASES_PASSWORD'], host=config['DATABASES_HOST']\n",
    "     )\n",
    "  return conn\n",
    "\n",
    " except Exception as error:\n",
    "  print(error)      \n",
    "  raise error\n",
    "def list_data(sql,params,connection):\n",
    " df=None   \n",
    " with connection.cursor() as cursor:\n",
    "    \n",
    "    if params is None:\n",
    "       cursor.execute(sql)\n",
    "    else:\n",
    "       cursor.execute(sql,params)\n",
    "    \n",
    "    columns = [col[0] for col in cursor.description]\n",
    "    dataList = [dict(zip(columns, row)) for row in cursor.fetchall()]\n",
    "    df = pd.DataFrame(data=dataList) \n",
    " return df "
   ]
  },
  {
   "cell_type": "code",
   "execution_count": 243,
   "id": "a19541a6-a521-42ca-b765-daf903eb6478",
   "metadata": {
    "tags": []
   },
   "outputs": [],
   "source": [
    "def get_bq_table():\n",
    " try:\n",
    "    table=client.get_table(table_id)  # Make an API request.\n",
    "    print(\"Table {} already exists.\".format(table_id))\n",
    "    print(table.schema)\n",
    "    return True\n",
    " except NotFound:\n",
    "    raise Exception(\"Table {} is not found.\".format(table_id))\n",
    "    \n",
    "def insertDataFrameToBQ(df_trasns):\n",
    "    try:\n",
    "        job_config = bigquery.LoadJobConfig(\n",
    "            write_disposition=to_bq_mode,\n",
    "        )\n",
    "\n",
    "        job = client.load_table_from_dataframe(\n",
    "            df_trasns, table_id, job_config=job_config\n",
    "        )\n",
    "        job.result()  # Wait for the job to complete.\n",
    "        print(\"Total \", len(df_trasns), f\"Imported data to {table_id} on bigquery successfully\")\n",
    "\n",
    "    except BadRequest as e:\n",
    "        print(\"Bigquery Error\\n\")\n",
    "        print(e) \n",
    "\n"
   ]
  },
  {
   "cell_type": "markdown",
   "id": "c3d175ef-431c-43e1-a6bd-8a6b2755ed72",
   "metadata": {},
   "source": [
    "# Load view and transform"
   ]
  },
  {
   "cell_type": "code",
   "execution_count": 246,
   "id": "21942a53-ef43-48d5-b473-9970a8bb012d",
   "metadata": {
    "tags": []
   },
   "outputs": [
    {
     "name": "stdout",
     "output_type": "stream",
     "text": [
      "select *  from pmr_project  where project_id =listIDs[0]\n"
     ]
    },
    {
     "ename": "UndefinedColumn",
     "evalue": "column \"listids\" does not exist\nLINE 1: select *  from pmr_project  where project_id =listIDs[0]\n                                                      ^\n",
     "output_type": "error",
     "traceback": [
      "\u001b[1;31m---------------------------------------------------------------------------\u001b[0m",
      "\u001b[1;31mUndefinedColumn\u001b[0m                           Traceback (most recent call last)",
      "Cell \u001b[1;32mIn[246], line 6\u001b[0m\n\u001b[0;32m      4\u001b[0m  sql_view\u001b[38;5;241m=\u001b[39m\u001b[38;5;124mf\u001b[39m\u001b[38;5;124m\"\u001b[39m\u001b[38;5;124mselect *  from \u001b[39m\u001b[38;5;132;01m{\u001b[39;00mview_name\u001b[38;5;132;01m}\u001b[39;00m\u001b[38;5;124m  where \u001b[39m\u001b[38;5;132;01m{\u001b[39;00mkey_id\u001b[38;5;132;01m}\u001b[39;00m\u001b[38;5;124m =listIDs[0]\u001b[39m\u001b[38;5;124m\"\u001b[39m\n\u001b[0;32m      5\u001b[0m \u001b[38;5;28mprint\u001b[39m(sql_view)\n\u001b[1;32m----> 6\u001b[0m df\u001b[38;5;241m=\u001b[39m\u001b[43mlist_data\u001b[49m\u001b[43m(\u001b[49m\u001b[43msql_view\u001b[49m\u001b[43m,\u001b[49m\u001b[38;5;28;43;01mNone\u001b[39;49;00m\u001b[43m,\u001b[49m\u001b[43mget_postgres_conn\u001b[49m\u001b[43m(\u001b[49m\u001b[43m)\u001b[49m\u001b[43m)\u001b[49m\n\u001b[0;32m      7\u001b[0m df[\u001b[38;5;124m'\u001b[39m\u001b[38;5;124mimported_at\u001b[39m\u001b[38;5;124m'\u001b[39m]\u001b[38;5;241m=\u001b[39mdt_imported\n\u001b[0;32m      8\u001b[0m df\n",
      "Cell \u001b[1;32mIn[242], line 17\u001b[0m, in \u001b[0;36mlist_data\u001b[1;34m(sql, params, connection)\u001b[0m\n\u001b[0;32m     14\u001b[0m \u001b[38;5;28;01mwith\u001b[39;00m connection\u001b[38;5;241m.\u001b[39mcursor() \u001b[38;5;28;01mas\u001b[39;00m cursor:\n\u001b[0;32m     16\u001b[0m    \u001b[38;5;28;01mif\u001b[39;00m params \u001b[38;5;129;01mis\u001b[39;00m \u001b[38;5;28;01mNone\u001b[39;00m:\n\u001b[1;32m---> 17\u001b[0m       \u001b[43mcursor\u001b[49m\u001b[38;5;241;43m.\u001b[39;49m\u001b[43mexecute\u001b[49m\u001b[43m(\u001b[49m\u001b[43msql\u001b[49m\u001b[43m)\u001b[49m\n\u001b[0;32m     18\u001b[0m    \u001b[38;5;28;01melse\u001b[39;00m:\n\u001b[0;32m     19\u001b[0m       cursor\u001b[38;5;241m.\u001b[39mexecute(sql,params)\n",
      "\u001b[1;31mUndefinedColumn\u001b[0m: column \"listids\" does not exist\nLINE 1: select *  from pmr_project  where project_id =listIDs[0]\n                                                      ^\n"
     ]
    }
   ],
   "source": [
    "if len(listIDs)>1:\n",
    " sql_view=f\"select *  from {view_name}  where {key_id} in {tuple(listIDs)}\"\n",
    "else:\n",
    " sql_view=f\"select *  from {view_name}  where {key_id} =listIDs[0]\"\n",
    "print(sql_view)\n",
    "df=list_data(sql_view,None,get_postgres_conn())\n",
    "df['imported_at']=dt_imported\n",
    "df"
   ]
  },
  {
   "cell_type": "markdown",
   "id": "365a239b-1bbc-40d4-a3fe-456808043d5f",
   "metadata": {},
   "source": [
    "# Ingest into BQ"
   ]
  },
  {
   "cell_type": "code",
   "execution_count": null,
   "id": "83978348-ebfd-4230-b1fb-e53b3a3f0790",
   "metadata": {
    "tags": []
   },
   "outputs": [],
   "source": [
    "if get_bq_table():\n",
    "    try:\n",
    "        insertDataFrameToBQ(df)\n",
    "    except Exception as ex:\n",
    "        raise ex"
   ]
  },
  {
   "cell_type": "code",
   "execution_count": null,
   "id": "b0f4db97-b7da-4d16-a39c-89c7a7db4377",
   "metadata": {
    "tags": []
   },
   "outputs": [],
   "source": [
    "# Update Last Update"
   ]
  },
  {
   "cell_type": "code",
   "execution_count": null,
   "id": "40ad97bd-6ee8-4dee-b759-0eb60e8eabb0",
   "metadata": {
    "tags": []
   },
   "outputs": [],
   "source": [
    "updater[\"metadata\"][view_name].value=dt_imported.strftime(\"%Y-%m-%d %H:%M:%S\")\n",
    "updater.update_file() "
   ]
  },
  {
   "cell_type": "code",
   "execution_count": null,
   "id": "0717d312-ed08-44d4-b263-077831318a61",
   "metadata": {},
   "outputs": [],
   "source": []
  },
  {
   "cell_type": "code",
   "execution_count": null,
   "id": "d2780e62-cf41-47e1-af66-3acc9dbad0f7",
   "metadata": {},
   "outputs": [],
   "source": []
  },
  {
   "cell_type": "code",
   "execution_count": null,
   "id": "20a549a8-6c9d-484d-b0f7-cf645e657bae",
   "metadata": {},
   "outputs": [],
   "source": []
  }
 ],
 "metadata": {
  "kernelspec": {
   "display_name": "Python 3 (ipykernel)",
   "language": "python",
   "name": "python3"
  },
  "language_info": {
   "codemirror_mode": {
    "name": "ipython",
    "version": 3
   },
   "file_extension": ".py",
   "mimetype": "text/x-python",
   "name": "python",
   "nbconvert_exporter": "python",
   "pygments_lexer": "ipython3",
   "version": "3.10.12"
  }
 },
 "nbformat": 4,
 "nbformat_minor": 5
}
