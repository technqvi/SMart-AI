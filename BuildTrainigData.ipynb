{
 "cells": [
  {
   "cell_type": "code",
   "execution_count": 23,
   "id": "077bed44-b35e-497f-86ad-d66182f0c089",
   "metadata": {},
   "outputs": [],
   "source": [
    "from google.cloud import bigquery\n",
    "import pandas as pd\n",
    "from sklearn.model_selection import train_test_split"
   ]
  },
  {
   "cell_type": "code",
   "execution_count": 24,
   "id": "4ad3fe1d-fb77-4e0d-a631-14cf2cafa68b",
   "metadata": {},
   "outputs": [
    {
     "name": "stdout",
     "output_type": "stream",
     "text": [
      "<class 'pandas.core.frame.DataFrame'>\n",
      "RangeIndex: 2143 entries, 0 to 2142\n",
      "Data columns (total 9 columns):\n",
      " #   Column                     Non-Null Count  Dtype  \n",
      "---  ------                     --------------  -----  \n",
      " 0   severity_id                2143 non-null   int64  \n",
      " 1   severity_name              2143 non-null   object \n",
      " 2   sla                        2143 non-null   object \n",
      " 3   product_type               2143 non-null   object \n",
      " 4   brand                      2143 non-null   object \n",
      " 5   service_type               2143 non-null   object \n",
      " 6   incident_type              2143 non-null   object \n",
      " 7   open_to_close_hour         2143 non-null   float64\n",
      " 8   response_to_resolved_hour  2143 non-null   float64\n",
      "dtypes: float64(2), int64(1), object(6)\n",
      "memory usage: 150.8+ KB\n"
     ]
    }
   ],
   "source": [
    "df=pd.read_csv(\"data/ML_Incident_20230316.csv\")\n",
    "df.info()"
   ]
  },
  {
   "cell_type": "code",
   "execution_count": null,
   "id": "9312aa77-8f3c-4bf7-9a48-848d67052a43",
   "metadata": {},
   "outputs": [],
   "source": [
    "  "
   ]
  },
  {
   "cell_type": "code",
   "execution_count": 25,
   "id": "1d2a2dae-56e1-4454-8e30-e2aad9668f78",
   "metadata": {},
   "outputs": [],
   "source": [
    "df['label_multi_severity'] =df['severity_name'].map({'Cosmatic':0,'Minor': 1, \"Major\": 2, \"Critical\": 3}) \n",
    "def map_4to2_serverity(severity_id):\n",
    "    if severity_id==1 or severity_id==2:\n",
    "       return 1\n",
    "    else:\n",
    "       return 0 \n",
    "df['label_binary_severity'] =df['severity_id'].apply(map_4to2_serverity)\n",
    "\n"
   ]
  },
  {
   "cell_type": "code",
   "execution_count": 14,
   "id": "c41f8974-c811-4231-b1a4-c383bc45b0a1",
   "metadata": {},
   "outputs": [
    {
     "data": {
      "text/html": [
       "<div>\n",
       "<style scoped>\n",
       "    .dataframe tbody tr th:only-of-type {\n",
       "        vertical-align: middle;\n",
       "    }\n",
       "\n",
       "    .dataframe tbody tr th {\n",
       "        vertical-align: top;\n",
       "    }\n",
       "\n",
       "    .dataframe thead th {\n",
       "        text-align: right;\n",
       "    }\n",
       "</style>\n",
       "<table border=\"1\" class=\"dataframe\">\n",
       "  <thead>\n",
       "    <tr style=\"text-align: right;\">\n",
       "      <th></th>\n",
       "      <th>severity_id</th>\n",
       "      <th>severity_name</th>\n",
       "      <th>sla</th>\n",
       "      <th>product_type</th>\n",
       "      <th>brand</th>\n",
       "      <th>service_type</th>\n",
       "      <th>incident_type</th>\n",
       "      <th>open_to_close_hour</th>\n",
       "      <th>response_to_resolved_hour</th>\n",
       "      <th>label_multi_severity</th>\n",
       "      <th>label_bianry_severity</th>\n",
       "    </tr>\n",
       "  </thead>\n",
       "  <tbody>\n",
       "    <tr>\n",
       "      <th>0</th>\n",
       "      <td>1</td>\n",
       "      <td>Critical</td>\n",
       "      <td>24x7 4Hrs Response Time</td>\n",
       "      <td>Server</td>\n",
       "      <td>HPE</td>\n",
       "      <td>Incident</td>\n",
       "      <td>Network Card Failure</td>\n",
       "      <td>28.933333</td>\n",
       "      <td>25.833333</td>\n",
       "      <td>3</td>\n",
       "      <td>1</td>\n",
       "    </tr>\n",
       "    <tr>\n",
       "      <th>1</th>\n",
       "      <td>2</td>\n",
       "      <td>Major</td>\n",
       "      <td>24x7 4Hrs Resolution Time</td>\n",
       "      <td>Server</td>\n",
       "      <td>HPE</td>\n",
       "      <td>Incident</td>\n",
       "      <td>Memory Failure</td>\n",
       "      <td>4.816667</td>\n",
       "      <td>4.600000</td>\n",
       "      <td>2</td>\n",
       "      <td>1</td>\n",
       "    </tr>\n",
       "    <tr>\n",
       "      <th>2</th>\n",
       "      <td>2</td>\n",
       "      <td>Major</td>\n",
       "      <td>24x7 4Hrs Resolution Time</td>\n",
       "      <td>Server</td>\n",
       "      <td>HPE</td>\n",
       "      <td>Incident</td>\n",
       "      <td>Hard Disk Drive Failure</td>\n",
       "      <td>3.883333</td>\n",
       "      <td>2.666667</td>\n",
       "      <td>2</td>\n",
       "      <td>1</td>\n",
       "    </tr>\n",
       "    <tr>\n",
       "      <th>3</th>\n",
       "      <td>2</td>\n",
       "      <td>Major</td>\n",
       "      <td>24x7 4Hrs Resolution Time</td>\n",
       "      <td>Storage</td>\n",
       "      <td>HPE</td>\n",
       "      <td>Incident</td>\n",
       "      <td>Hard Disk Drive Failure</td>\n",
       "      <td>5.600000</td>\n",
       "      <td>5.000000</td>\n",
       "      <td>2</td>\n",
       "      <td>1</td>\n",
       "    </tr>\n",
       "    <tr>\n",
       "      <th>4</th>\n",
       "      <td>2</td>\n",
       "      <td>Major</td>\n",
       "      <td>24x7 4Hrs Resolution Time</td>\n",
       "      <td>Hardware</td>\n",
       "      <td>Oracle</td>\n",
       "      <td>Incident</td>\n",
       "      <td>General Incident</td>\n",
       "      <td>14.000000</td>\n",
       "      <td>13.500000</td>\n",
       "      <td>2</td>\n",
       "      <td>1</td>\n",
       "    </tr>\n",
       "  </tbody>\n",
       "</table>\n",
       "</div>"
      ],
      "text/plain": [
       "   severity_id severity_name                        sla product_type   brand  \\\n",
       "0            1      Critical    24x7 4Hrs Response Time       Server     HPE   \n",
       "1            2         Major  24x7 4Hrs Resolution Time       Server     HPE   \n",
       "2            2         Major  24x7 4Hrs Resolution Time       Server     HPE   \n",
       "3            2         Major  24x7 4Hrs Resolution Time      Storage     HPE   \n",
       "4            2         Major  24x7 4Hrs Resolution Time     Hardware  Oracle   \n",
       "\n",
       "  service_type            incident_type  open_to_close_hour  \\\n",
       "0     Incident     Network Card Failure           28.933333   \n",
       "1     Incident           Memory Failure            4.816667   \n",
       "2     Incident  Hard Disk Drive Failure            3.883333   \n",
       "3     Incident  Hard Disk Drive Failure            5.600000   \n",
       "4     Incident         General Incident           14.000000   \n",
       "\n",
       "   response_to_resolved_hour  label_multi_severity  label_bianry_severity  \n",
       "0                  25.833333                     3                      1  \n",
       "1                   4.600000                     2                      1  \n",
       "2                   2.666667                     2                      1  \n",
       "3                   5.000000                     2                      1  \n",
       "4                  13.500000                     2                      1  "
      ]
     },
     "execution_count": 14,
     "metadata": {},
     "output_type": "execute_result"
    }
   ],
   "source": [
    "df.head()"
   ]
  },
  {
   "cell_type": "code",
   "execution_count": 26,
   "id": "13c0182a-6a21-4b54-8154-8dff1bda43ef",
   "metadata": {},
   "outputs": [
    {
     "name": "stdout",
     "output_type": "stream",
     "text": [
      "All Data = 2143\n",
      "1714 =train examples (80.0%)\n",
      "214 =val examples (10.0%)\n",
      "215 =test examples (10.0%)\n"
     ]
    }
   ],
   "source": [
    "len_all=len(df)\n",
    "print(f\"All Data = {len_all}\")\n",
    "\n",
    "train, val = train_test_split(df,test_size=0.2,random_state=1000,shuffle=True)\n",
    "val,test = train_test_split(val, test_size=0.5,random_state=1000,shuffle=True)\n",
    "\n",
    "len_all=len(df)\n",
    "len_train=len(train)\n",
    "len_val=len(val)\n",
    "len_test=len(test)\n",
    "print(f'{len_train} =train examples ({round(len_train/len_all*100,1)}%)')\n",
    "print(f'{len_val} =val examples ({round(len_val/len_all*100,1)}%)')\n",
    "print(f'{len_test} =test examples ({round(len_test/len_all*100,1)}%)')"
   ]
  },
  {
   "cell_type": "code",
   "execution_count": 27,
   "id": "09ab220d-6bf0-46a7-a0c1-79b40a40e961",
   "metadata": {},
   "outputs": [
    {
     "name": "stdout",
     "output_type": "stream",
     "text": [
      "[3 2 1 0]\n",
      "[1 0]\n"
     ]
    }
   ],
   "source": [
    "print(df['label_multi_severity'].unique())\n",
    "print(df['label_binary_severity'].unique())\n"
   ]
  },
  {
   "cell_type": "code",
   "execution_count": 28,
   "id": "0ea77e3a-4e01-42ca-b6b6-16dad2258785",
   "metadata": {},
   "outputs": [],
   "source": [
    "train.to_csv(\"data/train_incident.csv\",index=False)\n",
    "val.to_csv(\"data/validation_incident.csv\",index=False)\n",
    "test.to_csv(\"data/test_incident.csv\",index=False)"
   ]
  },
  {
   "cell_type": "code",
   "execution_count": null,
   "id": "9f02262d-388d-46f1-a290-f94685230bec",
   "metadata": {},
   "outputs": [],
   "source": []
  }
 ],
 "metadata": {
  "kernelspec": {
   "display_name": "Python 3 (ipykernel)",
   "language": "python",
   "name": "python3"
  },
  "language_info": {
   "codemirror_mode": {
    "name": "ipython",
    "version": 3
   },
   "file_extension": ".py",
   "mimetype": "text/x-python",
   "name": "python",
   "nbconvert_exporter": "python",
   "pygments_lexer": "ipython3",
   "version": "3.9.16"
  }
 },
 "nbformat": 4,
 "nbformat_minor": 5
}
