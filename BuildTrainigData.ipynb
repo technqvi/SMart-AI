{
 "cells": [
  {
   "cell_type": "code",
   "execution_count": 9,
   "id": "077bed44-b35e-497f-86ad-d66182f0c089",
   "metadata": {},
   "outputs": [],
   "source": [
    "from google.cloud import bigquery\n",
    "import pandas as pd\n",
    "from sklearn.model_selection import train_test_split\n",
    "import json\n",
    "from google.cloud import bigquery"
   ]
  },
  {
   "cell_type": "code",
   "execution_count": 15,
   "id": "4f269fdd-6806-4141-a8e7-be757137e447",
   "metadata": {},
   "outputs": [
    {
     "name": "stdout",
     "output_type": "stream",
     "text": [
      "Map severity Name to LabelCode: {'Cosmatic': 0, 'Minor': 1, 'Major': 2, 'Critical': 3}\n"
     ]
    }
   ],
   "source": [
    "isLocal=False\n",
    "\n",
    "map_sevirity_to_class={'Cosmatic':0,'Minor': 1, \"Major\": 2, \"Critical\": 3}\n",
    "print(f\"Map severity Name to LabelCode: {str(map_sevirity_to_class)}\")\n",
    "\n",
    "# Write to a file\n",
    "# BUCKET_URI = \"gs://smart-ml-pongthorn\"  \n",
    "# LabelCode_FILE = \"incident_sevirity_to_class.json\"\n",
    "\n",
    "# with open(LabelCode_FILE, \"w\") as outfile:\n",
    "#     json.dump(map_sevirity_to_class, outfile)\n",
    "# ! gsutil cp {LabelCode_FILE} {BUCKET_URI}"
   ]
  },
  {
   "cell_type": "code",
   "execution_count": 16,
   "id": "4ad3fe1d-fb77-4e0d-a631-14cf2cafa68b",
   "metadata": {},
   "outputs": [
    {
     "name": "stdout",
     "output_type": "stream",
     "text": [
      "Load ML Data from BQ\n",
      "<class 'pandas.core.frame.DataFrame'>\n",
      "RangeIndex: 2120 entries, 0 to 2119\n",
      "Data columns (total 9 columns):\n",
      " #   Column                     Non-Null Count  Dtype  \n",
      "---  ------                     --------------  -----  \n",
      " 0   severity_id                2120 non-null   Int64  \n",
      " 1   severity_name              2120 non-null   object \n",
      " 2   sla                        2120 non-null   object \n",
      " 3   product_type               2120 non-null   object \n",
      " 4   brand                      2120 non-null   object \n",
      " 5   service_type               2120 non-null   object \n",
      " 6   incident_type              2120 non-null   object \n",
      " 7   open_to_close_hour         2120 non-null   float64\n",
      " 8   response_to_resolved_hour  2120 non-null   float64\n",
      "dtypes: Int64(1), float64(2), object(6)\n",
      "memory usage: 151.3+ KB\n"
     ]
    }
   ],
   "source": [
    "if isLocal:\n",
    "    print(\"Load ML Data from local\")\n",
    "    df=pd.read_csv(\"data/ML_Incident.csv\")\n",
    "else:\n",
    "    print(\"Load ML Data from BQ\")\n",
    "    bqclient = bigquery.Client()\n",
    "    table = bigquery.TableReference.from_string(\"pongthorn.SMartML.ml_incident\")\n",
    "    df=bqclient.list_rows(table).to_dataframe(create_bqstorage_client=False)\n",
    "\n",
    "df.info()"
   ]
  },
  {
   "cell_type": "code",
   "execution_count": 20,
   "id": "1d2a2dae-56e1-4454-8e30-e2aad9668f78",
   "metadata": {},
   "outputs": [
    {
     "name": "stdout",
     "output_type": "stream",
     "text": [
      "[2, 1, 0, 3]\n",
      "[1 0]\n"
     ]
    },
    {
     "data": {
      "text/html": [
       "<div>\n",
       "<style scoped>\n",
       "    .dataframe tbody tr th:only-of-type {\n",
       "        vertical-align: middle;\n",
       "    }\n",
       "\n",
       "    .dataframe tbody tr th {\n",
       "        vertical-align: top;\n",
       "    }\n",
       "\n",
       "    .dataframe thead th {\n",
       "        text-align: right;\n",
       "    }\n",
       "</style>\n",
       "<table border=\"1\" class=\"dataframe\">\n",
       "  <thead>\n",
       "    <tr style=\"text-align: right;\">\n",
       "      <th></th>\n",
       "      <th>severity_id</th>\n",
       "      <th>severity_name</th>\n",
       "      <th>sla</th>\n",
       "      <th>product_type</th>\n",
       "      <th>brand</th>\n",
       "      <th>service_type</th>\n",
       "      <th>incident_type</th>\n",
       "      <th>open_to_close_hour</th>\n",
       "      <th>response_to_resolved_hour</th>\n",
       "      <th>label_multi_severity</th>\n",
       "      <th>label_binary_severity</th>\n",
       "    </tr>\n",
       "  </thead>\n",
       "  <tbody>\n",
       "    <tr>\n",
       "      <th>0</th>\n",
       "      <td>2</td>\n",
       "      <td>Major</td>\n",
       "      <td>24x7 4Hrs Resolution Time</td>\n",
       "      <td>Other</td>\n",
       "      <td>F5</td>\n",
       "      <td>Request</td>\n",
       "      <td>General Incident</td>\n",
       "      <td>147.883333</td>\n",
       "      <td>147.666667</td>\n",
       "      <td>2</td>\n",
       "      <td>1</td>\n",
       "    </tr>\n",
       "    <tr>\n",
       "      <th>1</th>\n",
       "      <td>3</td>\n",
       "      <td>Minor</td>\n",
       "      <td>24x7 4Hrs Resolution Time</td>\n",
       "      <td>Other</td>\n",
       "      <td>F5</td>\n",
       "      <td>Incident</td>\n",
       "      <td>Software</td>\n",
       "      <td>168.550000</td>\n",
       "      <td>55.866667</td>\n",
       "      <td>1</td>\n",
       "      <td>0</td>\n",
       "    </tr>\n",
       "    <tr>\n",
       "      <th>2</th>\n",
       "      <td>3</td>\n",
       "      <td>Minor</td>\n",
       "      <td>24x7 4Hrs Resolution Time</td>\n",
       "      <td>Other</td>\n",
       "      <td>F5</td>\n",
       "      <td>Incident</td>\n",
       "      <td>General Incident</td>\n",
       "      <td>570.933333</td>\n",
       "      <td>361.666667</td>\n",
       "      <td>1</td>\n",
       "      <td>0</td>\n",
       "    </tr>\n",
       "    <tr>\n",
       "      <th>3</th>\n",
       "      <td>3</td>\n",
       "      <td>Minor</td>\n",
       "      <td>24x7 4Hrs Resolution Time</td>\n",
       "      <td>Other</td>\n",
       "      <td>F5</td>\n",
       "      <td>Incident</td>\n",
       "      <td>General Incident</td>\n",
       "      <td>306.716667</td>\n",
       "      <td>184.016667</td>\n",
       "      <td>1</td>\n",
       "      <td>0</td>\n",
       "    </tr>\n",
       "    <tr>\n",
       "      <th>4</th>\n",
       "      <td>3</td>\n",
       "      <td>Minor</td>\n",
       "      <td>24x7 4Hrs Resolution Time</td>\n",
       "      <td>Other</td>\n",
       "      <td>F5</td>\n",
       "      <td>Incident</td>\n",
       "      <td>General Incident</td>\n",
       "      <td>478.766667</td>\n",
       "      <td>478.516667</td>\n",
       "      <td>1</td>\n",
       "      <td>0</td>\n",
       "    </tr>\n",
       "  </tbody>\n",
       "</table>\n",
       "</div>"
      ],
      "text/plain": [
       "   severity_id severity_name                        sla product_type brand  \\\n",
       "0            2         Major  24x7 4Hrs Resolution Time        Other    F5   \n",
       "1            3         Minor  24x7 4Hrs Resolution Time        Other    F5   \n",
       "2            3         Minor  24x7 4Hrs Resolution Time        Other    F5   \n",
       "3            3         Minor  24x7 4Hrs Resolution Time        Other    F5   \n",
       "4            3         Minor  24x7 4Hrs Resolution Time        Other    F5   \n",
       "\n",
       "  service_type     incident_type  open_to_close_hour  \\\n",
       "0      Request  General Incident          147.883333   \n",
       "1     Incident          Software          168.550000   \n",
       "2     Incident  General Incident          570.933333   \n",
       "3     Incident  General Incident          306.716667   \n",
       "4     Incident  General Incident          478.766667   \n",
       "\n",
       "   response_to_resolved_hour  label_multi_severity  label_binary_severity  \n",
       "0                 147.666667                     2                      1  \n",
       "1                  55.866667                     1                      0  \n",
       "2                 361.666667                     1                      0  \n",
       "3                 184.016667                     1                      0  \n",
       "4                 478.516667                     1                      0  "
      ]
     },
     "execution_count": 20,
     "metadata": {},
     "output_type": "execute_result"
    }
   ],
   "source": [
    "df['label_multi_severity'] =df['severity_name'].map(map_sevirity_to_class) \n",
    "def map_4to2_serverity(severity_id):\n",
    "    if severity_id==1 or severity_id==2:\n",
    "       return 1\n",
    "    else:\n",
    "       return 0 \n",
    "df['label_binary_severity'] =df['severity_id'].apply(map_4to2_serverity)\n",
    "\n",
    "print( list(df['label_multi_severity'].unique()))\n",
    "print(df['label_binary_severity'].unique())\n",
    "df.head()"
   ]
  },
  {
   "cell_type": "code",
   "execution_count": 21,
   "id": "13c0182a-6a21-4b54-8154-8dff1bda43ef",
   "metadata": {},
   "outputs": [
    {
     "name": "stdout",
     "output_type": "stream",
     "text": [
      "All Data = 2120\n",
      "1696 =train examples (80.0%)\n",
      "212 =val examples (10.0%)\n",
      "212 =test examples (10.0%)\n"
     ]
    }
   ],
   "source": [
    "len_all=len(df)\n",
    "print(f\"All Data = {len_all}\")\n",
    "\n",
    "train, val = train_test_split(df,test_size=0.2,random_state=1000,shuffle=True)\n",
    "val,test = train_test_split(val, test_size=0.5,random_state=1000,shuffle=True)\n",
    "\n",
    "len_all=len(df)\n",
    "len_train=len(train)\n",
    "len_val=len(val)\n",
    "len_test=len(test)\n",
    "print(f'{len_train} =train examples ({round(len_train/len_all*100,1)}%)')\n",
    "print(f'{len_val} =val examples ({round(len_val/len_all*100,1)}%)')\n",
    "print(f'{len_test} =test examples ({round(len_test/len_all*100,1)}%)')"
   ]
  },
  {
   "cell_type": "code",
   "execution_count": 29,
   "id": "36d5747a-be41-482b-a519-b3b0cdff52e2",
   "metadata": {},
   "outputs": [],
   "source": [
    "client = bigquery.Client()\n",
    "def loadDataFrameToBQ(table_id,dfx):\n",
    "    try:\n",
    "        job_config = bigquery.LoadJobConfig(\n",
    "            write_disposition=\"WRITE_TRUNCATE\",\n",
    "        )\n",
    "\n",
    "        job = client.load_table_from_dataframe(\n",
    "            dfx, table_id, job_config=job_config\n",
    "        )\n",
    "        job.result()  # Wait for the job to complete.\n",
    "        print(f\"{len(dfx)} rows imported to {table_id} successfully\")\n",
    "\n",
    "    except BadRequest as e:\n",
    "        print(\"Bigquery Error\\n\")\n",
    "        for e in job.errors:\n",
    "            print('ERROR: {}'.format(e['message']))\n"
   ]
  },
  {
   "cell_type": "code",
   "execution_count": 30,
   "id": "0ea77e3a-4e01-42ca-b6b6-16dad2258785",
   "metadata": {},
   "outputs": [
    {
     "name": "stdout",
     "output_type": "stream",
     "text": [
      "1696 rows imported to pongthorn.SMartML.train_incident successfully\n",
      "212 rows imported to pongthorn.SMartML.validation_incident successfully\n",
      "212 rows imported to pongthorn.SMartML.test_incident successfully\n"
     ]
    }
   ],
   "source": [
    "if isLocal:\n",
    "    train.to_csv(\"data/train_incident.csv\",index=False)\n",
    "    val.to_csv(\"data/validation_incident.csv\",index=False)\n",
    "    test.to_csv(\"data/test_incident.csv\",index=False)\n",
    "else:\n",
    "    try:\n",
    "     loadDataFrameToBQ(\"pongthorn.SMartML.train_incident\",train)\n",
    "     loadDataFrameToBQ(\"pongthorn.SMartML.validation_incident\",val)\n",
    "     loadDataFrameToBQ(\"pongthorn.SMartML.test_incident\",test)   \n",
    "    except Exception as ex:\n",
    "     raise ex\n",
    "    "
   ]
  },
  {
   "cell_type": "code",
   "execution_count": null,
   "id": "9f02262d-388d-46f1-a290-f94685230bec",
   "metadata": {},
   "outputs": [],
   "source": []
  }
 ],
 "metadata": {
  "kernelspec": {
   "display_name": "Python 3 (ipykernel)",
   "language": "python",
   "name": "python3"
  },
  "language_info": {
   "codemirror_mode": {
    "name": "ipython",
    "version": 3
   },
   "file_extension": ".py",
   "mimetype": "text/x-python",
   "name": "python",
   "nbconvert_exporter": "python",
   "pygments_lexer": "ipython3",
   "version": "3.9.16"
  }
 },
 "nbformat": 4,
 "nbformat_minor": 5
}
