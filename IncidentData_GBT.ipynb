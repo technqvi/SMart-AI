{
 "cells": [
  {
   "cell_type": "code",
   "execution_count": 69,
   "id": "5399b8df-1ce2-4a84-a7de-e596dc57cff2",
   "metadata": {},
   "outputs": [],
   "source": [
    "import pandas as pd\n",
    "from xgboost import XGBClassifier\n",
    "from sklearn.ensemble import RandomForestClassifier\n",
    "from sklearn.model_selection import train_test_split\n",
    "from sklearn.metrics import accuracy_score\n",
    "from sklearn.preprocessing import LabelEncoder\n",
    "\n",
    "# chrome://bookmarks/?q=xgboost"
   ]
  },
  {
   "cell_type": "code",
   "execution_count": 83,
   "id": "5de30887-34bf-459c-ab5e-9855f0472d59",
   "metadata": {},
   "outputs": [
    {
     "name": "stdout",
     "output_type": "stream",
     "text": [
      "['severity_label', 'product_type', 'brand', 'incident_type', 'service_type', 'is_failure_type', 'count_detail', 'open_to_close_hour', 'response_to_resolved_hour', 'open_to_response_hour', 'resolved_to_close_hour']\n"
     ]
    }
   ],
   "source": [
    "dateTimeCols=['open_datetime','response_datetime','resolved_datetime','close_datetime']\n",
    "cateFeatures=['product_type','brand','incident_type','service_type','is_failure_type']\n",
    "numericFeatures=['count_detail','open_to_close_hour','response_to_resolved_hour','open_to_response_hour','resolved_to_close_hour']\n",
    "colLabel='severity_label'\n",
    "\n",
    "\n",
    "colFeatures=cateFeatures+numericFeatures\n",
    "cols=[colLabel]+colFeatures\n",
    "print(cols)\n",
    "\n",
    "to_date='2023-12-31'"
   ]
  },
  {
   "cell_type": "markdown",
   "id": "b5f52e80-e704-45ab-a634-ee82e779feb5",
   "metadata": {},
   "source": [
    "# Load and Prepare Data"
   ]
  },
  {
   "cell_type": "code",
   "execution_count": 84,
   "id": "cc7ff82d-8ac8-4792-ad6a-d20852c33f5b",
   "metadata": {},
   "outputs": [
    {
     "name": "stdout",
     "output_type": "stream",
     "text": [
      "Incident From 2020-03-15 13:36:00 To 2023-02-01 06:40:00\n",
      "<class 'pandas.core.frame.DataFrame'>\n",
      "RangeIndex: 2096 entries, 0 to 2095\n",
      "Data columns (total 23 columns):\n",
      " #   Column                     Non-Null Count  Dtype         \n",
      "---  ------                     --------------  -----         \n",
      " 0   severity_label             2096 non-null   object        \n",
      " 1   id                         2096 non-null   int64         \n",
      " 2   incident_no                2096 non-null   object        \n",
      " 3   product_type               2096 non-null   object        \n",
      " 4   brand                      2096 non-null   object        \n",
      " 5   mode                       2096 non-null   object        \n",
      " 6   incident_type              2096 non-null   object        \n",
      " 7   status                     2096 non-null   object        \n",
      " 8   service_type               2096 non-null   object        \n",
      " 9   is_failure_type            2096 non-null   bool          \n",
      " 10  count_detail               2096 non-null   int64         \n",
      " 11  open_datetime              2096 non-null   datetime64[ns]\n",
      " 12  close_datetime             2095 non-null   datetime64[ns]\n",
      " 13  response_datetime          2096 non-null   datetime64[ns]\n",
      " 14  resolved_datetime          2095 non-null   datetime64[ns]\n",
      " 15  open_to_close              2095 non-null   object        \n",
      " 16  open_to_close_hour         2095 non-null   float64       \n",
      " 17  open_to_response           2096 non-null   object        \n",
      " 18  open_to_response_hour      2096 non-null   float64       \n",
      " 19  response_to_resolved       2095 non-null   object        \n",
      " 20  response_to_resolved_hour  2095 non-null   float64       \n",
      " 21  resolved_to_close          2094 non-null   object        \n",
      " 22  resolved_to_close_hour     2094 non-null   float64       \n",
      "dtypes: bool(1), datetime64[ns](4), float64(4), int64(2), object(12)\n",
      "memory usage: 362.4+ KB\n",
      "None\n"
     ]
    }
   ],
   "source": [
    "df_incident = pd.read_csv('incident_data.csv',parse_dates=dateTimeCols)\n",
    "print(f\"Incident From {df_incident['open_datetime'].min()} To {df_incident['open_datetime'].max()}\")\n",
    "print(df_incident.info())"
   ]
  },
  {
   "cell_type": "code",
   "execution_count": 85,
   "id": "89c1244c-9048-4e9b-957f-80543e65744c",
   "metadata": {},
   "outputs": [
    {
     "name": "stdout",
     "output_type": "stream",
     "text": [
      "<class 'pandas.core.frame.DataFrame'>\n",
      "Int64Index: 2096 entries, 0 to 2095\n",
      "Data columns (total 11 columns):\n",
      " #   Column                     Non-Null Count  Dtype  \n",
      "---  ------                     --------------  -----  \n",
      " 0   severity_label             2096 non-null   object \n",
      " 1   product_type               2096 non-null   object \n",
      " 2   brand                      2096 non-null   object \n",
      " 3   incident_type              2096 non-null   object \n",
      " 4   service_type               2096 non-null   object \n",
      " 5   is_failure_type            2096 non-null   bool   \n",
      " 6   count_detail               2096 non-null   int64  \n",
      " 7   open_to_close_hour         2095 non-null   float64\n",
      " 8   response_to_resolved_hour  2095 non-null   float64\n",
      " 9   open_to_response_hour      2096 non-null   float64\n",
      " 10  resolved_to_close_hour     2094 non-null   float64\n",
      "dtypes: bool(1), float64(4), int64(1), object(5)\n",
      "memory usage: 182.2+ KB\n",
      "None\n"
     ]
    },
    {
     "data": {
      "text/html": [
       "<div>\n",
       "<style scoped>\n",
       "    .dataframe tbody tr th:only-of-type {\n",
       "        vertical-align: middle;\n",
       "    }\n",
       "\n",
       "    .dataframe tbody tr th {\n",
       "        vertical-align: top;\n",
       "    }\n",
       "\n",
       "    .dataframe thead th {\n",
       "        text-align: right;\n",
       "    }\n",
       "</style>\n",
       "<table border=\"1\" class=\"dataframe\">\n",
       "  <thead>\n",
       "    <tr style=\"text-align: right;\">\n",
       "      <th></th>\n",
       "      <th>severity_label</th>\n",
       "      <th>product_type</th>\n",
       "      <th>brand</th>\n",
       "      <th>incident_type</th>\n",
       "      <th>service_type</th>\n",
       "      <th>is_failure_type</th>\n",
       "      <th>count_detail</th>\n",
       "      <th>open_to_close_hour</th>\n",
       "      <th>response_to_resolved_hour</th>\n",
       "      <th>open_to_response_hour</th>\n",
       "      <th>resolved_to_close_hour</th>\n",
       "    </tr>\n",
       "  </thead>\n",
       "  <tbody>\n",
       "    <tr>\n",
       "      <th>2091</th>\n",
       "      <td>Minor</td>\n",
       "      <td>Storage</td>\n",
       "      <td>YIP</td>\n",
       "      <td>General Incident</td>\n",
       "      <td>Request</td>\n",
       "      <td>False</td>\n",
       "      <td>1</td>\n",
       "      <td>67.250000</td>\n",
       "      <td>0.000000</td>\n",
       "      <td>67.250000</td>\n",
       "      <td>0.000000</td>\n",
       "    </tr>\n",
       "    <tr>\n",
       "      <th>2092</th>\n",
       "      <td>Major</td>\n",
       "      <td>Storage</td>\n",
       "      <td>NetApp</td>\n",
       "      <td>General Incident</td>\n",
       "      <td>Incident</td>\n",
       "      <td>False</td>\n",
       "      <td>3</td>\n",
       "      <td>365.316667</td>\n",
       "      <td>169.016667</td>\n",
       "      <td>2.633333</td>\n",
       "      <td>193.666667</td>\n",
       "    </tr>\n",
       "    <tr>\n",
       "      <th>2093</th>\n",
       "      <td>Major</td>\n",
       "      <td>Storage</td>\n",
       "      <td>NetApp</td>\n",
       "      <td>General Incident</td>\n",
       "      <td>Incident</td>\n",
       "      <td>False</td>\n",
       "      <td>2</td>\n",
       "      <td>20.166667</td>\n",
       "      <td>4.533333</td>\n",
       "      <td>0.550000</td>\n",
       "      <td>15.083333</td>\n",
       "    </tr>\n",
       "    <tr>\n",
       "      <th>2094</th>\n",
       "      <td>Major</td>\n",
       "      <td>Storage</td>\n",
       "      <td>NetApp</td>\n",
       "      <td>General Incident</td>\n",
       "      <td>Incident</td>\n",
       "      <td>False</td>\n",
       "      <td>1</td>\n",
       "      <td>23.783333</td>\n",
       "      <td>0.000000</td>\n",
       "      <td>23.783333</td>\n",
       "      <td>0.000000</td>\n",
       "    </tr>\n",
       "    <tr>\n",
       "      <th>2095</th>\n",
       "      <td>Major</td>\n",
       "      <td>Storage</td>\n",
       "      <td>NetApp</td>\n",
       "      <td>General Incident</td>\n",
       "      <td>Incident</td>\n",
       "      <td>False</td>\n",
       "      <td>2</td>\n",
       "      <td>31.150000</td>\n",
       "      <td>28.466667</td>\n",
       "      <td>1.450000</td>\n",
       "      <td>1.233333</td>\n",
       "    </tr>\n",
       "  </tbody>\n",
       "</table>\n",
       "</div>"
      ],
      "text/plain": [
       "     severity_label product_type   brand     incident_type service_type  \\\n",
       "2091          Minor      Storage     YIP  General Incident      Request   \n",
       "2092          Major      Storage  NetApp  General Incident     Incident   \n",
       "2093          Major      Storage  NetApp  General Incident     Incident   \n",
       "2094          Major      Storage  NetApp  General Incident     Incident   \n",
       "2095          Major      Storage  NetApp  General Incident     Incident   \n",
       "\n",
       "      is_failure_type  count_detail  open_to_close_hour  \\\n",
       "2091            False             1           67.250000   \n",
       "2092            False             3          365.316667   \n",
       "2093            False             2           20.166667   \n",
       "2094            False             1           23.783333   \n",
       "2095            False             2           31.150000   \n",
       "\n",
       "      response_to_resolved_hour  open_to_response_hour  resolved_to_close_hour  \n",
       "2091                   0.000000              67.250000                0.000000  \n",
       "2092                 169.016667               2.633333              193.666667  \n",
       "2093                   4.533333               0.550000               15.083333  \n",
       "2094                   0.000000              23.783333                0.000000  \n",
       "2095                  28.466667               1.450000                1.233333  "
      ]
     },
     "execution_count": 85,
     "metadata": {},
     "output_type": "execute_result"
    }
   ],
   "source": [
    "df_incident=df_incident.query(\"open_datetime<=@to_date\")\n",
    "df_incident=df_incident[cols]\n",
    "print(df_incident.info())\n",
    "df_incident.tail()"
   ]
  },
  {
   "cell_type": "markdown",
   "id": "24c778cd-01c0-4c36-9ca7-cac4b5b2ce26",
   "metadata": {},
   "source": [
    "# Split features and class"
   ]
  },
  {
   "cell_type": "code",
   "execution_count": 86,
   "id": "02cc62a0-6228-4ee3-937a-cf1a9493b0ef",
   "metadata": {},
   "outputs": [],
   "source": [
    "features=[ col for col in list(df_incident.columns) if  col!=colLabel ]\n",
    "X = df_incident.loc[:,features]\n",
    "Y = df_incident.loc[:,target_class]\n",
    "\n",
    "cate_features=[ col for col in features if  col not in ['warranty_months','incident_response_minutes'] ]\n",
    "for cate_col in cate_features:\n",
    "  X[cate_col]=X[cate_col].astype(\"category\")\n"
   ]
  },
  {
   "cell_type": "code",
   "execution_count": 87,
   "id": "64ebda29-0811-4277-9b99-a25f850dce7e",
   "metadata": {},
   "outputs": [
    {
     "data": {
      "text/html": [
       "<div>\n",
       "<style scoped>\n",
       "    .dataframe tbody tr th:only-of-type {\n",
       "        vertical-align: middle;\n",
       "    }\n",
       "\n",
       "    .dataframe tbody tr th {\n",
       "        vertical-align: top;\n",
       "    }\n",
       "\n",
       "    .dataframe thead th {\n",
       "        text-align: right;\n",
       "    }\n",
       "</style>\n",
       "<table border=\"1\" class=\"dataframe\">\n",
       "  <thead>\n",
       "    <tr style=\"text-align: right;\">\n",
       "      <th></th>\n",
       "      <th>product_type</th>\n",
       "      <th>brand</th>\n",
       "      <th>incident_type</th>\n",
       "      <th>service_type</th>\n",
       "      <th>is_failure_type</th>\n",
       "      <th>count_detail</th>\n",
       "      <th>open_to_close_hour</th>\n",
       "      <th>response_to_resolved_hour</th>\n",
       "      <th>open_to_response_hour</th>\n",
       "      <th>resolved_to_close_hour</th>\n",
       "    </tr>\n",
       "  </thead>\n",
       "  <tbody>\n",
       "    <tr>\n",
       "      <th>2091</th>\n",
       "      <td>Storage</td>\n",
       "      <td>YIP</td>\n",
       "      <td>General Incident</td>\n",
       "      <td>Request</td>\n",
       "      <td>False</td>\n",
       "      <td>1</td>\n",
       "      <td>67.250000</td>\n",
       "      <td>0.000000</td>\n",
       "      <td>67.250000</td>\n",
       "      <td>0.000000</td>\n",
       "    </tr>\n",
       "    <tr>\n",
       "      <th>2092</th>\n",
       "      <td>Storage</td>\n",
       "      <td>NetApp</td>\n",
       "      <td>General Incident</td>\n",
       "      <td>Incident</td>\n",
       "      <td>False</td>\n",
       "      <td>3</td>\n",
       "      <td>365.316667</td>\n",
       "      <td>169.016667</td>\n",
       "      <td>2.633333</td>\n",
       "      <td>193.666667</td>\n",
       "    </tr>\n",
       "    <tr>\n",
       "      <th>2093</th>\n",
       "      <td>Storage</td>\n",
       "      <td>NetApp</td>\n",
       "      <td>General Incident</td>\n",
       "      <td>Incident</td>\n",
       "      <td>False</td>\n",
       "      <td>2</td>\n",
       "      <td>20.166667</td>\n",
       "      <td>4.533333</td>\n",
       "      <td>0.550000</td>\n",
       "      <td>15.083333</td>\n",
       "    </tr>\n",
       "    <tr>\n",
       "      <th>2094</th>\n",
       "      <td>Storage</td>\n",
       "      <td>NetApp</td>\n",
       "      <td>General Incident</td>\n",
       "      <td>Incident</td>\n",
       "      <td>False</td>\n",
       "      <td>1</td>\n",
       "      <td>23.783333</td>\n",
       "      <td>0.000000</td>\n",
       "      <td>23.783333</td>\n",
       "      <td>0.000000</td>\n",
       "    </tr>\n",
       "    <tr>\n",
       "      <th>2095</th>\n",
       "      <td>Storage</td>\n",
       "      <td>NetApp</td>\n",
       "      <td>General Incident</td>\n",
       "      <td>Incident</td>\n",
       "      <td>False</td>\n",
       "      <td>2</td>\n",
       "      <td>31.150000</td>\n",
       "      <td>28.466667</td>\n",
       "      <td>1.450000</td>\n",
       "      <td>1.233333</td>\n",
       "    </tr>\n",
       "  </tbody>\n",
       "</table>\n",
       "</div>"
      ],
      "text/plain": [
       "     product_type   brand     incident_type service_type is_failure_type  \\\n",
       "2091      Storage     YIP  General Incident      Request           False   \n",
       "2092      Storage  NetApp  General Incident     Incident           False   \n",
       "2093      Storage  NetApp  General Incident     Incident           False   \n",
       "2094      Storage  NetApp  General Incident     Incident           False   \n",
       "2095      Storage  NetApp  General Incident     Incident           False   \n",
       "\n",
       "     count_detail open_to_close_hour response_to_resolved_hour  \\\n",
       "2091            1          67.250000                  0.000000   \n",
       "2092            3         365.316667                169.016667   \n",
       "2093            2          20.166667                  4.533333   \n",
       "2094            1          23.783333                  0.000000   \n",
       "2095            2          31.150000                 28.466667   \n",
       "\n",
       "     open_to_response_hour resolved_to_close_hour  \n",
       "2091             67.250000               0.000000  \n",
       "2092              2.633333             193.666667  \n",
       "2093              0.550000              15.083333  \n",
       "2094             23.783333               0.000000  \n",
       "2095              1.450000               1.233333  "
      ]
     },
     "execution_count": 87,
     "metadata": {},
     "output_type": "execute_result"
    }
   ],
   "source": [
    "X.tail()"
   ]
  },
  {
   "cell_type": "code",
   "execution_count": 88,
   "id": "6d35d9e9-db37-437d-b648-7bff3e1e0a70",
   "metadata": {},
   "outputs": [
    {
     "data": {
      "text/plain": [
       "2091    Minor\n",
       "2092    Major\n",
       "2093    Major\n",
       "2094    Major\n",
       "2095    Major\n",
       "Name: severity_label, dtype: object"
      ]
     },
     "execution_count": 88,
     "metadata": {},
     "output_type": "execute_result"
    }
   ],
   "source": [
    "Y.tail()"
   ]
  },
  {
   "cell_type": "markdown",
   "id": "01273c27-325f-40ef-a3af-d4c78880d79c",
   "metadata": {},
   "source": [
    "# Encode string class values as integers"
   ]
  },
  {
   "cell_type": "code",
   "execution_count": 89,
   "id": "ed1016c1-4666-49ea-b101-820c26bf4019",
   "metadata": {},
   "outputs": [
    {
     "name": "stdout",
     "output_type": "stream",
     "text": [
      "[3 2 2 2 2]\n"
     ]
    }
   ],
   "source": [
    "label_encoder = LabelEncoder()\n",
    "label_encoder = label_encoder.fit(Y)\n",
    "label_encoded_y = label_encoder.transform(Y)\n",
    "print(label_encoded_y[-5:])"
   ]
  },
  {
   "cell_type": "markdown",
   "id": "c421d26f-ad25-46d6-a803-73e4bae8df6f",
   "metadata": {},
   "source": [
    "# Split Train and Test Data"
   ]
  },
  {
   "cell_type": "code",
   "execution_count": 90,
   "id": "258dc7a5-fdf2-4063-a0d4-0e81e86cea7e",
   "metadata": {},
   "outputs": [
    {
     "name": "stdout",
     "output_type": "stream",
     "text": [
      "(1781, 10) (315, 10)\n",
      "(1781,) (315,)\n"
     ]
    }
   ],
   "source": [
    "seed = 7\n",
    "test_size = 0.15\n",
    "X_train, X_test, y_train, y_test = train_test_split(X, label_encoded_y, test_size=test_size, random_state=seed)\n",
    "print(X_train.shape,X_test.shape)\n",
    "print(y_train.shape,y_test.shape)"
   ]
  },
  {
   "cell_type": "markdown",
   "id": "75fcb321-e7b1-4e95-bf7d-ac63c1b68783",
   "metadata": {},
   "source": [
    "# XGBoost Fit model no training data and Predict"
   ]
  },
  {
   "cell_type": "code",
   "execution_count": 91,
   "id": "54cc4b9c-fd5a-42dd-9cd2-5d803c4ab60e",
   "metadata": {},
   "outputs": [
    {
     "name": "stdout",
     "output_type": "stream",
     "text": [
      "XGBClassifier(base_score=None, booster=None, callbacks=None,\n",
      "              colsample_bylevel=None, colsample_bynode=None,\n",
      "              colsample_bytree=None, early_stopping_rounds=None,\n",
      "              enable_categorical=True, eval_metric=None, feature_types=None,\n",
      "              gamma=None, gpu_id=None, grow_policy=None, importance_type=None,\n",
      "              interaction_constraints=None, learning_rate=None, max_bin=None,\n",
      "              max_cat_threshold=None, max_cat_to_onehot=None,\n",
      "              max_delta_step=None, max_depth=None, max_leaves=None,\n",
      "              min_child_weight=None, missing=nan, monotone_constraints=None,\n",
      "              n_estimators=100, n_jobs=None, num_parallel_tree=None,\n",
      "              objective='multi:softprob', predictor=None, ...)\n"
     ]
    }
   ],
   "source": [
    "# Supported tree methods are `gpu_hist`, `approx`, and `hist`.\n",
    "model_xg = XGBClassifier(enable_categorical=True,tree_method=\"hist\")\n",
    "\n",
    "model_xg.fit(X_train, y_train)\n",
    "print(model_xg)"
   ]
  },
  {
   "cell_type": "code",
   "execution_count": 92,
   "id": "9aaae547-9ac1-47d2-bbf7-cbcfae1eabb6",
   "metadata": {},
   "outputs": [
    {
     "name": "stdout",
     "output_type": "stream",
     "text": [
      "XGBoost Accuracy: 77.14%\n"
     ]
    }
   ],
   "source": [
    "y_pred_xg = model_xg.predict(X_test)\n",
    "predictions_xg = [round(value) for value in y_pred_xg]\n",
    "\n",
    "accuracy_xg = accuracy_score(y_test, predictions_xg)\n",
    "print(\"XGBoost Accuracy: %.2f%%\" % (accuracy_xg * 100.0))"
   ]
  },
  {
   "cell_type": "markdown",
   "id": "92ca3b64-c90a-47a6-ada7-e1a739f1eda3",
   "metadata": {},
   "source": [
    "# Feature Important"
   ]
  },
  {
   "cell_type": "code",
   "execution_count": 93,
   "id": "0b401945-7325-4dda-b21c-6c2f1add71a0",
   "metadata": {},
   "outputs": [
    {
     "data": {
      "text/plain": [
       "service_type                 0.540046\n",
       "brand                        0.069454\n",
       "open_to_close_hour           0.068434\n",
       "response_to_resolved_hour    0.067791\n",
       "incident_type                0.047208\n",
       "open_to_response_hour        0.046506\n",
       "resolved_to_close_hour       0.044928\n",
       "product_type                 0.042879\n",
       "count_detail                 0.042493\n",
       "is_failure_type              0.030262\n",
       "dtype: float32"
      ]
     },
     "execution_count": 93,
     "metadata": {},
     "output_type": "execute_result"
    }
   ],
   "source": [
    "import matplotlib.pyplot  as plt\n",
    "feature_series=pd.Series(model_xg.feature_importances_, index=X.columns).sort_values(ascending=False)\n",
    "feature_series"
   ]
  },
  {
   "cell_type": "code",
   "execution_count": 94,
   "id": "025726ba-5706-43ee-b338-94e81b0c9b9e",
   "metadata": {},
   "outputs": [
    {
     "data": {
      "image/png": "[encoded data removed]",
      "text/plain": [
       "<Figure size 640x480 with 1 Axes>"
      ]
     },
     "metadata": {},
     "output_type": "display_data"
    }
   ],
   "source": [
    "feature_series.plot(kind='barh')\n",
    "plt.show()"
   ]
  },
  {
   "cell_type": "code",
   "execution_count": null,
   "id": "3c888751-d444-46e2-9a66-7a8caf4f452c",
   "metadata": {},
   "outputs": [],
   "source": []
  }
 ],
 "metadata": {
  "kernelspec": {
   "display_name": "Python 3 (ipykernel)",
   "language": "python",
   "name": "python3"
  },
  "language_info": {
   "codemirror_mode": {
    "name": "ipython",
    "version": 3
   },
   "file_extension": ".py",
   "mimetype": "text/x-python",
   "name": "python",
   "nbconvert_exporter": "python",
   "pygments_lexer": "ipython3",
   "version": "3.9.16"
  }
 },
 "nbformat": 4,
 "nbformat_minor": 5
}
