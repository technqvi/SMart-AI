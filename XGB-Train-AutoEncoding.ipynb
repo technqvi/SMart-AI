{
 "cells": [
  {
   "cell_type": "code",
   "execution_count": 1,
   "id": "5399b8df-1ce2-4a84-a7de-e596dc57cff2",
   "metadata": {},
   "outputs": [],
   "source": [
    "import pandas as pd\n",
    "import numpy as np\n",
    "import xgboost as xgb\n",
    "from sklearn.model_selection import train_test_split\n",
    "from sklearn.metrics import accuracy_score\n",
    "from sklearn.preprocessing import LabelEncoder\n",
    "import matplotlib.pyplot as plt\n",
    "import seaborn as sns\n",
    "from sklearn.preprocessing import OneHotEncoder\n",
    "from sklearn.compose import ColumnTransformer\n",
    "\n",
    "\n",
    "from sklearn.model_selection import KFold,StratifiedKFold\n",
    "from sklearn.model_selection import cross_val_score\n",
    "import matplotlib.pyplot  as plt\n",
    "import os\n",
    "#https://github.com/GoogleCloudPlatform/training-data-analyst/blob/master/courses/machine_learning/deepdive2/launching_into_ml/solutions/TrainingWithXGBoostInCMLE.ipynb\n",
    "\n",
    "#https://github.com/GoogleCloudPlatform/training-data-analyst/blob/master/courses/machine_learning/deepdive2/launching_into_ml/solutions/decision_trees_and_random_Forests_in_Python.ipynb\n",
    "\n",
    "#https://github.com/GoogleCloudPlatform/vertex-ai-samples/blob/main/notebooks/official/workbench/predictive_maintainance/predictive_maintenance_usecase.ipynb\n",
    "#https://github.com/GoogleCloudPlatform/vertex-ai-samples/blob/main/notebooks/official/workbench/inventory-prediction/inventory_prediction.ipynb\n",
    "\n",
    "# best\n",
    "#https://github.com/GoogleCloudPlatform/vertex-ai-samples/blob/main/notebooks/official/custom/SDK_Custom_Container_Prediction.ipynb\n",
    "#https://github.com/GoogleCloudPlatform/vertex-ai-samples/blob/main/notebooks/official/datasets/get_started_bq_datasets.ipynb\n",
    "\n",
    "#https://github.com/GoogleCloudPlatform/python-docs-samples/tree/main/people-and-planet-ai\n",
    "#https://github.com/GoogleCloudPlatform/vertex-ai-samples/blob/main/notebooks/official/workbench/chicago_taxi_fare_prediction/chicago_taxi_fare_prediction.ipynb\n",
    "\n",
    "#http://localhost:8888/lab/workspaces/auto-O/tree/MyQuantFinProject/LearnDataSC/Prasertcbs_ML/sklearn_feature_importances_with_treeclassifier.ipynb\n",
    "#http://localhost:8888/lab/workspaces/auto-C/tree/MyQuantFinProject/LearnDataSC/Prasertcbs_ML/sklearn_classification_iris2.ipynb\n",
    "\n",
    "#https://cloud.google.com/vertex-ai/docs/tutorials/tabular-bq-prediction\n",
    "\n",
    "#chrome://bookmarks/?id=953\n",
    "\n",
    "# upload downlload \n",
    "#https://medium.com/@jchavezar/ml-from-local-to-production-vertex-ai-d3b09998008c\n",
    "\n",
    "#https://github.com/GoogleCloudPlatform/vertex-ai-samples/tree/main/notebooks/official/prediction\n",
    "#https://github.com/GoogleCloudPlatform/vertex-ai-samples/blob/main/notebooks/official/prediction/custom_batch_prediction_feature_filter.ipynb\n",
    "#https://github.com/GoogleCloudPlatform/vertex-ai-samples/tree/main/notebooks/official/model_registry\n",
    "#https://github.com/GoogleCloudPlatform/vertex-ai-samples/blob/main/notebooks/official/custom/custom-tabular-bq-managed-dataset.ipynb\n",
    "#https://github.com/GoogleCloudPlatform/vertex-ai-samples/blob/main/notebooks/official/workbench/ads_targetting/training-multi-class-classification-model-for-ads-targeting-usecase.ipynb\n",
    "#https://github.com/GoogleCloudPlatform/vertex-ai-samples/blob/main/notebooks/official/custom/SDK_Custom_Container_Prediction.ipynb\n",
    "#https://github.com/GoogleCloudPlatform/training-data-analyst/blob/master/courses/machine_learning/deepdive2/machine_learning_in_the_enterprise/solutions/sdk_custom_xgboost.ipynb\n",
    "#https://github.com/GoogleCloudPlatform/vertex-ai-samples/blob/main/notebooks/official/workbench/fraud_detection/fraud-detection-model.ipynb\n",
    "#https://github.com/GoogleCloudPlatform/vertex-ai-samples/blob/main/notebooks/official/sdk/SDK_Custom_Training_Python_Package_Managed_Text_Dataset_Tensorflow_Serving_Container.ipynb"
   ]
  },
  {
   "cell_type": "code",
   "execution_count": null,
   "id": "778f2a34-ec88-48d3-9d8e-f3052d395dde",
   "metadata": {},
   "outputs": [],
   "source": []
  },
  {
   "cell_type": "code",
   "execution_count": 12,
   "id": "221e4124-5f96-4bc1-b39c-90f8208ace65",
   "metadata": {},
   "outputs": [
    {
     "name": "stdout",
     "output_type": "stream",
     "text": [
      "1.6.2\n",
      "1.22.4\n",
      "1.5.0\n"
     ]
    }
   ],
   "source": [
    "print(xgb.__version__)\n",
    "print(np.__version__)\n",
    "print(pd.__version__)"
   ]
  },
  {
   "cell_type": "code",
   "execution_count": 13,
   "id": "5de30887-34bf-459c-ab5e-9855f0472d59",
   "metadata": {},
   "outputs": [
    {
     "name": "stdout",
     "output_type": "stream",
     "text": [
      "['severity_label', 'product_type', 'brand', 'incident_type', 'service_type', 'is_failure_type', 'sla', 'count_detail', 'open_to_close_hour']\n"
     ]
    }
   ],
   "source": [
    "# dateTimeCols=['open_datetime','response_datetime','resolved_datetime','close_datetime']\n",
    "dateTimeCols=['open_datetime','close_datetime']\n",
    "\n",
    "cateFeatures=['product_type','brand','incident_type','service_type','is_failure_type','sla']\n",
    "\n",
    "# numericFeatures=['count_detail','open_to_close_hour','response_to_resolved_hour','open_to_response_hour','resolved_to_close_hour']\n",
    "numericFeatures=['count_detail','open_to_close_hour']\n",
    "\n",
    "colLabel='severity_label'\n",
    "\n",
    "\n",
    "calLabelRefInfo=[colLabel,'severity_name']\n",
    "\n",
    "colFeatures=cateFeatures+numericFeatures\n",
    "\n",
    "cols=[colLabel]+colFeatures\n",
    "\n",
    "print(cols)\n",
    "\n",
    "\n",
    "\n",
    "\n",
    "to_date='2023-12-31'"
   ]
  },
  {
   "cell_type": "markdown",
   "id": "b5f52e80-e704-45ab-a634-ee82e779feb5",
   "metadata": {},
   "source": [
    "# Load and Prepare Data"
   ]
  },
  {
   "cell_type": "code",
   "execution_count": 14,
   "id": "cc7ff82d-8ac8-4792-ad6a-d20852c33f5b",
   "metadata": {},
   "outputs": [
    {
     "name": "stdout",
     "output_type": "stream",
     "text": [
      "Incident From 2020-03-15 13:36:00 To 2023-02-01 06:40:00\n",
      "<class 'pandas.core.frame.DataFrame'>\n",
      "RangeIndex: 2068 entries, 0 to 2067\n",
      "Data columns (total 21 columns):\n",
      " #   Column                   Non-Null Count  Dtype         \n",
      "---  ------                   --------------  -----         \n",
      " 0   severity_label           2068 non-null   int64         \n",
      " 1   severity_name            2068 non-null   object        \n",
      " 2   sla                      2068 non-null   object        \n",
      " 3   id                       2068 non-null   int64         \n",
      " 4   incident_no              2068 non-null   object        \n",
      " 5   product_type             2068 non-null   object        \n",
      " 6   brand                    2068 non-null   object        \n",
      " 7   mode                     2068 non-null   object        \n",
      " 8   customer_warranty_start  2068 non-null   object        \n",
      " 9   customer_warranty_end    2068 non-null   object        \n",
      " 10  incident_type            2068 non-null   object        \n",
      " 11  status                   2068 non-null   object        \n",
      " 12  service_type             2068 non-null   object        \n",
      " 13  is_failure_type          2068 non-null   bool          \n",
      " 14  count_detail             2068 non-null   int64         \n",
      " 15  open_datetime            2068 non-null   datetime64[ns]\n",
      " 16  close_datetime           2068 non-null   datetime64[ns]\n",
      " 17  response_datetime        2068 non-null   object        \n",
      " 18  resolved_datetime        2068 non-null   object        \n",
      " 19  open_to_close            2068 non-null   object        \n",
      " 20  open_to_close_hour       2068 non-null   float64       \n",
      "dtypes: bool(1), datetime64[ns](2), float64(1), int64(3), object(14)\n",
      "memory usage: 325.3+ KB\n",
      "None\n"
     ]
    }
   ],
   "source": [
    "df_incident = pd.read_csv('incident_data.csv',parse_dates=dateTimeCols)\n",
    "print(f\"Incident From {df_incident['open_datetime'].min()} To {df_incident['open_datetime'].max()}\")\n",
    "print(df_incident.info())\n"
   ]
  },
  {
   "cell_type": "code",
   "execution_count": 15,
   "id": "916d7f6f-4e86-4d23-b26d-6cd2b860fc4d",
   "metadata": {},
   "outputs": [],
   "source": [
    "df_incident=df_incident.query(\"open_datetime<=@to_date\")\n",
    "dfLabelRefInfo=df_incident[calLabelRefInfo]\n",
    "df_incident=df_incident[cols]"
   ]
  },
  {
   "cell_type": "code",
   "execution_count": 16,
   "id": "73c72d75-e6ae-41a6-aec4-f3359ca769eb",
   "metadata": {},
   "outputs": [
    {
     "name": "stdout",
     "output_type": "stream",
     "text": [
      "<class 'pandas.core.frame.DataFrame'>\n",
      "Int64Index: 2068 entries, 0 to 2067\n",
      "Data columns (total 9 columns):\n",
      " #   Column              Non-Null Count  Dtype  \n",
      "---  ------              --------------  -----  \n",
      " 0   severity_label      2068 non-null   int64  \n",
      " 1   product_type        2068 non-null   object \n",
      " 2   brand               2068 non-null   object \n",
      " 3   incident_type       2068 non-null   object \n",
      " 4   service_type        2068 non-null   object \n",
      " 5   is_failure_type     2068 non-null   bool   \n",
      " 6   sla                 2068 non-null   object \n",
      " 7   count_detail        2068 non-null   int64  \n",
      " 8   open_to_close_hour  2068 non-null   float64\n",
      "dtypes: bool(1), float64(1), int64(2), object(5)\n",
      "memory usage: 147.4+ KB\n",
      "None\n"
     ]
    },
    {
     "data": {
      "text/html": [
       "<div>\n",
       "<style scoped>\n",
       "    .dataframe tbody tr th:only-of-type {\n",
       "        vertical-align: middle;\n",
       "    }\n",
       "\n",
       "    .dataframe tbody tr th {\n",
       "        vertical-align: top;\n",
       "    }\n",
       "\n",
       "    .dataframe thead th {\n",
       "        text-align: right;\n",
       "    }\n",
       "</style>\n",
       "<table border=\"1\" class=\"dataframe\">\n",
       "  <thead>\n",
       "    <tr style=\"text-align: right;\">\n",
       "      <th></th>\n",
       "      <th>severity_label</th>\n",
       "      <th>product_type</th>\n",
       "      <th>brand</th>\n",
       "      <th>incident_type</th>\n",
       "      <th>service_type</th>\n",
       "      <th>is_failure_type</th>\n",
       "      <th>sla</th>\n",
       "      <th>count_detail</th>\n",
       "      <th>open_to_close_hour</th>\n",
       "    </tr>\n",
       "  </thead>\n",
       "  <tbody>\n",
       "    <tr>\n",
       "      <th>2063</th>\n",
       "      <td>2</td>\n",
       "      <td>Storage</td>\n",
       "      <td>NetApp</td>\n",
       "      <td>General Incident</td>\n",
       "      <td>Request</td>\n",
       "      <td>False</td>\n",
       "      <td>24x7 4Hrs Response Time</td>\n",
       "      <td>2</td>\n",
       "      <td>837.850000</td>\n",
       "    </tr>\n",
       "    <tr>\n",
       "      <th>2064</th>\n",
       "      <td>2</td>\n",
       "      <td>Storage</td>\n",
       "      <td>NetApp</td>\n",
       "      <td>General Incident</td>\n",
       "      <td>Incident</td>\n",
       "      <td>False</td>\n",
       "      <td>24x7 4Hrs Response Time</td>\n",
       "      <td>3</td>\n",
       "      <td>365.316667</td>\n",
       "    </tr>\n",
       "    <tr>\n",
       "      <th>2065</th>\n",
       "      <td>2</td>\n",
       "      <td>Storage</td>\n",
       "      <td>NetApp</td>\n",
       "      <td>General Incident</td>\n",
       "      <td>Incident</td>\n",
       "      <td>False</td>\n",
       "      <td>24x7 4Hrs Response Time</td>\n",
       "      <td>2</td>\n",
       "      <td>20.166667</td>\n",
       "    </tr>\n",
       "    <tr>\n",
       "      <th>2066</th>\n",
       "      <td>2</td>\n",
       "      <td>Storage</td>\n",
       "      <td>NetApp</td>\n",
       "      <td>General Incident</td>\n",
       "      <td>Incident</td>\n",
       "      <td>False</td>\n",
       "      <td>24x7 4Hrs Response Time</td>\n",
       "      <td>1</td>\n",
       "      <td>23.783333</td>\n",
       "    </tr>\n",
       "    <tr>\n",
       "      <th>2067</th>\n",
       "      <td>2</td>\n",
       "      <td>Storage</td>\n",
       "      <td>NetApp</td>\n",
       "      <td>General Incident</td>\n",
       "      <td>Incident</td>\n",
       "      <td>False</td>\n",
       "      <td>24x7 4Hrs Response Time</td>\n",
       "      <td>2</td>\n",
       "      <td>31.150000</td>\n",
       "    </tr>\n",
       "  </tbody>\n",
       "</table>\n",
       "</div>"
      ],
      "text/plain": [
       "      severity_label product_type   brand     incident_type service_type  \\\n",
       "2063               2      Storage  NetApp  General Incident      Request   \n",
       "2064               2      Storage  NetApp  General Incident     Incident   \n",
       "2065               2      Storage  NetApp  General Incident     Incident   \n",
       "2066               2      Storage  NetApp  General Incident     Incident   \n",
       "2067               2      Storage  NetApp  General Incident     Incident   \n",
       "\n",
       "      is_failure_type                      sla  count_detail  \\\n",
       "2063            False  24x7 4Hrs Response Time             2   \n",
       "2064            False  24x7 4Hrs Response Time             3   \n",
       "2065            False  24x7 4Hrs Response Time             2   \n",
       "2066            False  24x7 4Hrs Response Time             1   \n",
       "2067            False  24x7 4Hrs Response Time             2   \n",
       "\n",
       "      open_to_close_hour  \n",
       "2063          837.850000  \n",
       "2064          365.316667  \n",
       "2065           20.166667  \n",
       "2066           23.783333  \n",
       "2067           31.150000  "
      ]
     },
     "execution_count": 16,
     "metadata": {},
     "output_type": "execute_result"
    }
   ],
   "source": [
    "print(df_incident.info())\n",
    "df_incident.tail()"
   ]
  },
  {
   "cell_type": "code",
   "execution_count": 17,
   "id": "c99a6521-1192-48ee-88fb-f21b580242df",
   "metadata": {},
   "outputs": [
    {
     "name": "stdout",
     "output_type": "stream",
     "text": [
      "<class 'pandas.core.frame.DataFrame'>\n",
      "Int64Index: 2068 entries, 0 to 2067\n",
      "Data columns (total 3 columns):\n",
      " #   Column          Non-Null Count  Dtype \n",
      "---  ------          --------------  ----- \n",
      " 0   severity_label  2068 non-null   int64 \n",
      " 1   severity_name   2068 non-null   object\n",
      " 2   severity        2068 non-null   object\n",
      "dtypes: int64(1), object(2)\n",
      "memory usage: 64.6+ KB\n",
      "None\n"
     ]
    },
    {
     "data": {
      "text/html": [
       "<div>\n",
       "<style scoped>\n",
       "    .dataframe tbody tr th:only-of-type {\n",
       "        vertical-align: middle;\n",
       "    }\n",
       "\n",
       "    .dataframe tbody tr th {\n",
       "        vertical-align: top;\n",
       "    }\n",
       "\n",
       "    .dataframe thead th {\n",
       "        text-align: right;\n",
       "    }\n",
       "</style>\n",
       "<table border=\"1\" class=\"dataframe\">\n",
       "  <thead>\n",
       "    <tr style=\"text-align: right;\">\n",
       "      <th></th>\n",
       "      <th>severity_label</th>\n",
       "      <th>severity_name</th>\n",
       "      <th>severity</th>\n",
       "    </tr>\n",
       "  </thead>\n",
       "  <tbody>\n",
       "    <tr>\n",
       "      <th>2063</th>\n",
       "      <td>2</td>\n",
       "      <td>Major</td>\n",
       "      <td>2-Major</td>\n",
       "    </tr>\n",
       "    <tr>\n",
       "      <th>2064</th>\n",
       "      <td>2</td>\n",
       "      <td>Major</td>\n",
       "      <td>2-Major</td>\n",
       "    </tr>\n",
       "    <tr>\n",
       "      <th>2065</th>\n",
       "      <td>2</td>\n",
       "      <td>Major</td>\n",
       "      <td>2-Major</td>\n",
       "    </tr>\n",
       "    <tr>\n",
       "      <th>2066</th>\n",
       "      <td>2</td>\n",
       "      <td>Major</td>\n",
       "      <td>2-Major</td>\n",
       "    </tr>\n",
       "    <tr>\n",
       "      <th>2067</th>\n",
       "      <td>2</td>\n",
       "      <td>Major</td>\n",
       "      <td>2-Major</td>\n",
       "    </tr>\n",
       "  </tbody>\n",
       "</table>\n",
       "</div>"
      ],
      "text/plain": [
       "      severity_label severity_name severity\n",
       "2063               2         Major  2-Major\n",
       "2064               2         Major  2-Major\n",
       "2065               2         Major  2-Major\n",
       "2066               2         Major  2-Major\n",
       "2067               2         Major  2-Major"
      ]
     },
     "execution_count": 17,
     "metadata": {},
     "output_type": "execute_result"
    }
   ],
   "source": [
    "dfLabelRefInfo['severity']=dfLabelRefInfo.apply(lambda x:  f\"{x.severity_label}-{x.severity_name}\" ,axis=1)\n",
    "print(dfLabelRefInfo.info())\n",
    "dfLabelRefInfo.tail()"
   ]
  },
  {
   "cell_type": "code",
   "execution_count": 18,
   "id": "77e1c3eb-e053-490c-8198-d7e90697e73a",
   "metadata": {},
   "outputs": [
    {
     "data": {
      "image/png": "[encoded data removed]",
      "text/plain": [
       "<Figure size 432x288 with 1 Axes>"
      ]
     },
     "metadata": {
      "needs_background": "light"
     },
     "output_type": "display_data"
    },
    {
     "data": {
      "text/html": [
       "<div>\n",
       "<style scoped>\n",
       "    .dataframe tbody tr th:only-of-type {\n",
       "        vertical-align: middle;\n",
       "    }\n",
       "\n",
       "    .dataframe tbody tr th {\n",
       "        vertical-align: top;\n",
       "    }\n",
       "\n",
       "    .dataframe thead th {\n",
       "        text-align: right;\n",
       "    }\n",
       "</style>\n",
       "<table border=\"1\" class=\"dataframe\">\n",
       "  <thead>\n",
       "    <tr style=\"text-align: right;\">\n",
       "      <th></th>\n",
       "      <th>count</th>\n",
       "    </tr>\n",
       "    <tr>\n",
       "      <th>severity</th>\n",
       "      <th></th>\n",
       "    </tr>\n",
       "  </thead>\n",
       "  <tbody>\n",
       "    <tr>\n",
       "      <th>2-Major</th>\n",
       "      <td>956</td>\n",
       "    </tr>\n",
       "    <tr>\n",
       "      <th>3-Minor</th>\n",
       "      <td>599</td>\n",
       "    </tr>\n",
       "    <tr>\n",
       "      <th>4-Cosmatic</th>\n",
       "      <td>400</td>\n",
       "    </tr>\n",
       "    <tr>\n",
       "      <th>1-Critical</th>\n",
       "      <td>113</td>\n",
       "    </tr>\n",
       "  </tbody>\n",
       "</table>\n",
       "</div>"
      ],
      "text/plain": [
       "            count\n",
       "severity         \n",
       "2-Major       956\n",
       "3-Minor       599\n",
       "4-Cosmatic    400\n",
       "1-Critical    113"
      ]
     },
     "execution_count": 18,
     "metadata": {},
     "output_type": "execute_result"
    }
   ],
   "source": [
    "dfLabelSummary=dfLabelRefInfo.groupby(['severity']).size().to_frame('count').sort_values(by='count',ascending=False)\n",
    "\n",
    "dfLabelSummary.plot(kind='bar')\n",
    "plt.show()\n",
    "dfLabelSummary"
   ]
  },
  {
   "cell_type": "code",
   "execution_count": 19,
   "id": "0b431236-9a50-4dd6-934c-74700744890e",
   "metadata": {},
   "outputs": [
    {
     "name": "stdout",
     "output_type": "stream",
     "text": [
      "product_type\n"
     ]
    },
    {
     "data": {
      "image/png": "[encoded data removed]",
      "text/plain": [
       "<Figure size 432x288 with 1 Axes>"
      ]
     },
     "metadata": {
      "needs_background": "light"
     },
     "output_type": "display_data"
    },
    {
     "name": "stdout",
     "output_type": "stream",
     "text": [
      "brand\n"
     ]
    },
    {
     "data": {
      "image/png": "[encoded data removed]",
      "text/plain": [
       "<Figure size 432x288 with 1 Axes>"
      ]
     },
     "metadata": {
      "needs_background": "light"
     },
     "output_type": "display_data"
    },
    {
     "name": "stdout",
     "output_type": "stream",
     "text": [
      "incident_type\n"
     ]
    },
    {
     "data": {
      "image/png": "[encoded data removed]",
      "text/plain": [
       "<Figure size 432x288 with 1 Axes>"
      ]
     },
     "metadata": {
      "needs_background": "light"
     },
     "output_type": "display_data"
    },
    {
     "name": "stdout",
     "output_type": "stream",
     "text": [
      "service_type\n"
     ]
    },
    {
     "data": {
      "image/png": "[encoded data removed]",
      "text/plain": [
       "<Figure size 432x288 with 1 Axes>"
      ]
     },
     "metadata": {
      "needs_background": "light"
     },
     "output_type": "display_data"
    },
    {
     "name": "stdout",
     "output_type": "stream",
     "text": [
      "is_failure_type\n"
     ]
    },
    {
     "data": {
      "image/png": "[encoded data removed]",
      "text/plain": [
       "<Figure size 432x288 with 1 Axes>"
      ]
     },
     "metadata": {
      "needs_background": "light"
     },
     "output_type": "display_data"
    },
    {
     "name": "stdout",
     "output_type": "stream",
     "text": [
      "sla\n"
     ]
    },
    {
     "data": {
      "image/png": "[encoded data removed]",
      "text/plain": [
       "<Figure size 432x288 with 1 Axes>"
      ]
     },
     "metadata": {
      "needs_background": "light"
     },
     "output_type": "display_data"
    }
   ],
   "source": [
    "for col in cateFeatures:\n",
    "    print(col)\n",
    "    dfGroupCate=df_incident.groupby([col]).size().to_frame('count').sort_values(by='count',ascending=False)\n",
    "    dfGroupCate.plot(kind='bar')\n",
    "    plt.show()\n"
   ]
  },
  {
   "cell_type": "code",
   "execution_count": 20,
   "id": "c9fe7035-78f5-4778-a099-ff5f8e1bf5f5",
   "metadata": {},
   "outputs": [
    {
     "name": "stderr",
     "output_type": "stream",
     "text": [
      "D:\\ProgramData\\Anaconda3\\envs\\myquant_exp\\lib\\site-packages\\seaborn\\_decorators.py:36: FutureWarning: Pass the following variable as a keyword arg: x. From version 0.12, the only valid positional argument will be `data`, and passing other arguments without an explicit keyword will result in an error or misinterpretation.\n",
      "  warnings.warn(\n"
     ]
    },
    {
     "data": {
      "image/png": "[encoded data removed]",
      "text/plain": [
       "<Figure size 432x288 with 1 Axes>"
      ]
     },
     "metadata": {
      "needs_background": "light"
     },
     "output_type": "display_data"
    },
    {
     "name": "stderr",
     "output_type": "stream",
     "text": [
      "D:\\ProgramData\\Anaconda3\\envs\\myquant_exp\\lib\\site-packages\\seaborn\\_decorators.py:36: FutureWarning: Pass the following variable as a keyword arg: x. From version 0.12, the only valid positional argument will be `data`, and passing other arguments without an explicit keyword will result in an error or misinterpretation.\n",
      "  warnings.warn(\n"
     ]
    },
    {
     "data": {
      "image/png": "[encoded data removed]",
      "text/plain": [
       "<Figure size 432x288 with 1 Axes>"
      ]
     },
     "metadata": {
      "needs_background": "light"
     },
     "output_type": "display_data"
    }
   ],
   "source": [
    "# df_incident[numericFeatures].plot(kind='hist', subplots=True, layout=(len(numericFeatures),1), sharex=False)\n",
    "for col in numericFeatures:\n",
    "    sns.boxplot(df_incident[col])\n",
    "    plt.show()"
   ]
  },
  {
   "cell_type": "code",
   "execution_count": null,
   "id": "0b6de6e5-5058-469d-9462-5d01b8354280",
   "metadata": {},
   "outputs": [],
   "source": []
  },
  {
   "cell_type": "markdown",
   "id": "24c778cd-01c0-4c36-9ca7-cac4b5b2ce26",
   "metadata": {},
   "source": [
    "# Process features and target class"
   ]
  },
  {
   "cell_type": "code",
   "execution_count": 21,
   "id": "3d6c020a-e741-4224-88c8-a7c39f1e974b",
   "metadata": {},
   "outputs": [
    {
     "name": "stdout",
     "output_type": "stream",
     "text": [
      "['product_type', 'brand', 'incident_type', 'service_type', 'is_failure_type', 'sla'] and severity_label\n",
      "<class 'pandas.core.frame.DataFrame'>\n",
      "Int64Index: 2068 entries, 0 to 2067\n",
      "Data columns (total 8 columns):\n",
      " #   Column              Non-Null Count  Dtype   \n",
      "---  ------              --------------  -----   \n",
      " 0   product_type        2068 non-null   category\n",
      " 1   brand               2068 non-null   category\n",
      " 2   incident_type       2068 non-null   category\n",
      " 3   service_type        2068 non-null   category\n",
      " 4   is_failure_type     2068 non-null   category\n",
      " 5   sla                 2068 non-null   category\n",
      " 6   count_detail        2068 non-null   int64   \n",
      " 7   open_to_close_hour  2068 non-null   float64 \n",
      "dtypes: category(6), float64(1), int64(1)\n",
      "memory usage: 62.8 KB\n",
      "None\n"
     ]
    },
    {
     "data": {
      "text/html": [
       "<div>\n",
       "<style scoped>\n",
       "    .dataframe tbody tr th:only-of-type {\n",
       "        vertical-align: middle;\n",
       "    }\n",
       "\n",
       "    .dataframe tbody tr th {\n",
       "        vertical-align: top;\n",
       "    }\n",
       "\n",
       "    .dataframe thead th {\n",
       "        text-align: right;\n",
       "    }\n",
       "</style>\n",
       "<table border=\"1\" class=\"dataframe\">\n",
       "  <thead>\n",
       "    <tr style=\"text-align: right;\">\n",
       "      <th></th>\n",
       "      <th>product_type</th>\n",
       "      <th>brand</th>\n",
       "      <th>incident_type</th>\n",
       "      <th>service_type</th>\n",
       "      <th>is_failure_type</th>\n",
       "      <th>sla</th>\n",
       "      <th>count_detail</th>\n",
       "      <th>open_to_close_hour</th>\n",
       "    </tr>\n",
       "  </thead>\n",
       "  <tbody>\n",
       "    <tr>\n",
       "      <th>569</th>\n",
       "      <td>Software</td>\n",
       "      <td>VMWare</td>\n",
       "      <td>General Incident</td>\n",
       "      <td>Request</td>\n",
       "      <td>False</td>\n",
       "      <td>24x7 4Hrs Response Time</td>\n",
       "      <td>1</td>\n",
       "      <td>8.566667</td>\n",
       "    </tr>\n",
       "    <tr>\n",
       "      <th>574</th>\n",
       "      <td>Server</td>\n",
       "      <td>HPE</td>\n",
       "      <td>System Board Failure</td>\n",
       "      <td>Incident</td>\n",
       "      <td>False</td>\n",
       "      <td>24x7 4Hrs Resolution Time</td>\n",
       "      <td>1</td>\n",
       "      <td>5.400000</td>\n",
       "    </tr>\n",
       "    <tr>\n",
       "      <th>1857</th>\n",
       "      <td>Other</td>\n",
       "      <td>HPE</td>\n",
       "      <td>General Incident</td>\n",
       "      <td>Incident</td>\n",
       "      <td>False</td>\n",
       "      <td>24x7 4Hrs Resolution Time</td>\n",
       "      <td>1</td>\n",
       "      <td>0.716667</td>\n",
       "    </tr>\n",
       "    <tr>\n",
       "      <th>1865</th>\n",
       "      <td>Server</td>\n",
       "      <td>HPE</td>\n",
       "      <td>General Incident</td>\n",
       "      <td>Request</td>\n",
       "      <td>False</td>\n",
       "      <td>24x7 4Hrs Resolution Time</td>\n",
       "      <td>1</td>\n",
       "      <td>4.000000</td>\n",
       "    </tr>\n",
       "    <tr>\n",
       "      <th>1220</th>\n",
       "      <td>Server</td>\n",
       "      <td>HPE</td>\n",
       "      <td>General Incident</td>\n",
       "      <td>Incident</td>\n",
       "      <td>False</td>\n",
       "      <td>9x5xNBD 4Hrs Response Time</td>\n",
       "      <td>3</td>\n",
       "      <td>80.550000</td>\n",
       "    </tr>\n",
       "    <tr>\n",
       "      <th>1221</th>\n",
       "      <td>Other</td>\n",
       "      <td>Veritas</td>\n",
       "      <td>Backup Failure</td>\n",
       "      <td>Incident</td>\n",
       "      <td>False</td>\n",
       "      <td>24x7 4Hrs Response Time</td>\n",
       "      <td>2</td>\n",
       "      <td>21.616667</td>\n",
       "    </tr>\n",
       "    <tr>\n",
       "      <th>2007</th>\n",
       "      <td>Storage</td>\n",
       "      <td>NetApp</td>\n",
       "      <td>Software</td>\n",
       "      <td>Request</td>\n",
       "      <td>False</td>\n",
       "      <td>24x7 4Hrs Response Time</td>\n",
       "      <td>2</td>\n",
       "      <td>5142.250000</td>\n",
       "    </tr>\n",
       "    <tr>\n",
       "      <th>1515</th>\n",
       "      <td>Server</td>\n",
       "      <td>HPE</td>\n",
       "      <td>Hard Disk Drive Failure</td>\n",
       "      <td>Incident</td>\n",
       "      <td>False</td>\n",
       "      <td>24x7 4Hrs Resolution Time</td>\n",
       "      <td>1</td>\n",
       "      <td>10.000000</td>\n",
       "    </tr>\n",
       "    <tr>\n",
       "      <th>44</th>\n",
       "      <td>Storage</td>\n",
       "      <td>NetApp</td>\n",
       "      <td>General Incident</td>\n",
       "      <td>Incident</td>\n",
       "      <td>False</td>\n",
       "      <td>24x7 4Hrs Resolution Time</td>\n",
       "      <td>3</td>\n",
       "      <td>1.550000</td>\n",
       "    </tr>\n",
       "    <tr>\n",
       "      <th>1261</th>\n",
       "      <td>Server</td>\n",
       "      <td>HPE</td>\n",
       "      <td>Maintenance System</td>\n",
       "      <td>Request</td>\n",
       "      <td>False</td>\n",
       "      <td>24x7 4Hrs Resolution Time</td>\n",
       "      <td>1</td>\n",
       "      <td>8.000000</td>\n",
       "    </tr>\n",
       "  </tbody>\n",
       "</table>\n",
       "</div>"
      ],
      "text/plain": [
       "     product_type    brand            incident_type service_type  \\\n",
       "569      Software   VMWare         General Incident      Request   \n",
       "574        Server      HPE     System Board Failure     Incident   \n",
       "1857        Other      HPE         General Incident     Incident   \n",
       "1865       Server      HPE         General Incident      Request   \n",
       "1220       Server      HPE         General Incident     Incident   \n",
       "1221        Other  Veritas           Backup Failure     Incident   \n",
       "2007      Storage   NetApp                 Software      Request   \n",
       "1515       Server      HPE  Hard Disk Drive Failure     Incident   \n",
       "44        Storage   NetApp         General Incident     Incident   \n",
       "1261       Server      HPE       Maintenance System      Request   \n",
       "\n",
       "     is_failure_type                         sla  count_detail  \\\n",
       "569            False     24x7 4Hrs Response Time             1   \n",
       "574            False   24x7 4Hrs Resolution Time             1   \n",
       "1857           False   24x7 4Hrs Resolution Time             1   \n",
       "1865           False   24x7 4Hrs Resolution Time             1   \n",
       "1220           False  9x5xNBD 4Hrs Response Time             3   \n",
       "1221           False     24x7 4Hrs Response Time             2   \n",
       "2007           False     24x7 4Hrs Response Time             2   \n",
       "1515           False   24x7 4Hrs Resolution Time             1   \n",
       "44             False   24x7 4Hrs Resolution Time             3   \n",
       "1261           False   24x7 4Hrs Resolution Time             1   \n",
       "\n",
       "      open_to_close_hour  \n",
       "569             8.566667  \n",
       "574             5.400000  \n",
       "1857            0.716667  \n",
       "1865            4.000000  \n",
       "1220           80.550000  \n",
       "1221           21.616667  \n",
       "2007         5142.250000  \n",
       "1515           10.000000  \n",
       "44              1.550000  \n",
       "1261            8.000000  "
      ]
     },
     "execution_count": 21,
     "metadata": {},
     "output_type": "execute_result"
    }
   ],
   "source": [
    "# cateFeatures_cateLabel=cateFeatures.copy()+[colLabel]\n",
    "print(f\"{cateFeatures} and {colLabel}\")\n",
    "X = df_incident.loc[:,colFeatures]\n",
    "X[cateFeatures]=X[cateFeatures].astype(\"category\") \n",
    "\n",
    "print(X.info())\n",
    "X.sample(10)\n"
   ]
  },
  {
   "cell_type": "code",
   "execution_count": 22,
   "id": "8768b42d-bd92-4e9f-af35-876ea7afe27c",
   "metadata": {},
   "outputs": [
    {
     "name": "stdout",
     "output_type": "stream",
     "text": [
      "<class 'pandas.core.series.Series'>\n",
      "Int64Index: 2068 entries, 0 to 2067\n",
      "Series name: severity_label\n",
      "Non-Null Count  Dtype\n",
      "--------------  -----\n",
      "2068 non-null   int64\n",
      "dtypes: int64(1)\n",
      "memory usage: 32.3 KB\n",
      "None\n"
     ]
    },
    {
     "data": {
      "text/plain": [
       "1017    3\n",
       "2014    3\n",
       "218     2\n",
       "1517    1\n",
       "1483    4\n",
       "1820    4\n",
       "1373    4\n",
       "1258    2\n",
       "1738    3\n",
       "216     2\n",
       "Name: severity_label, dtype: int64"
      ]
     },
     "execution_count": 22,
     "metadata": {},
     "output_type": "execute_result"
    }
   ],
   "source": [
    "y=df_incident.loc[:,colLabel]\n",
    "print(y.info())\n",
    "y.sample(10)\n",
    "# y=y.astype(\"category\")"
   ]
  },
  {
   "cell_type": "code",
   "execution_count": null,
   "id": "52e11459-e6b2-474c-a7c6-5e5da6adeca2",
   "metadata": {},
   "outputs": [],
   "source": []
  },
  {
   "cell_type": "code",
   "execution_count": 23,
   "id": "75a2193d-756f-49a0-9519-08c680a0cdb9",
   "metadata": {},
   "outputs": [],
   "source": [
    "# label_encoder = LabelEncoder()\n",
    "# y = label_encoder.fit_transform(y)\n",
    "\n",
    "# print(label_encoder.classes_)\n",
    "\n",
    "# print(y[-5:])"
   ]
  },
  {
   "cell_type": "code",
   "execution_count": null,
   "id": "3352709f-11e8-4ce3-9442-26985c46c3a2",
   "metadata": {},
   "outputs": [],
   "source": []
  },
  {
   "cell_type": "markdown",
   "id": "6b0ba2d0-26f0-48ae-8ad6-3bc32f43a4bd",
   "metadata": {},
   "source": [
    "# Model Parameter Setting"
   ]
  },
  {
   "cell_type": "code",
   "execution_count": 24,
   "id": "f5caca37-bdd3-4381-8e3e-0d9aebfc83f0",
   "metadata": {},
   "outputs": [],
   "source": [
    "maxDept=10\n",
    "lerningRate=0.1\n",
    "nEstimators=100"
   ]
  },
  {
   "cell_type": "code",
   "execution_count": null,
   "id": "f1a9e8f6-dcb7-4a06-8ba4-99d182839fa6",
   "metadata": {},
   "outputs": [],
   "source": []
  },
  {
   "cell_type": "markdown",
   "id": "1df0c2c7-918e-4875-a026-eb84574047ae",
   "metadata": {},
   "source": [
    "# Final Model"
   ]
  },
  {
   "cell_type": "code",
   "execution_count": 25,
   "id": "af52561c-b5dd-4dfd-8490-712e62e58aea",
   "metadata": {},
   "outputs": [
    {
     "name": "stdout",
     "output_type": "stream",
     "text": [
      "Use DMatrix & Train Object\n"
     ]
    }
   ],
   "source": [
    "print(\"Use DMatrix & Train Object\") \n",
    "xg_param= {'max_depth': maxDept, 'learning_rate': lerningRate}\n",
    "dAllTrain = xgb.DMatrix(data= X, label=y,enable_categorical=True)\n",
    "model_xg=xgb.train(xg_param,dAllTrain,num_boost_round=nEstimators)"
   ]
  },
  {
   "cell_type": "code",
   "execution_count": 26,
   "id": "fda650dc-0824-4f5a-89cf-1011763f5526",
   "metadata": {},
   "outputs": [],
   "source": [
    "artifact_filename = 'model.bst'\n",
    "local_path = artifact_filename\n",
    "\n",
    "model_xg.save_model(local_path)\n",
    "\n",
    "# file_scaler_pred=f'{model_path}/scaler_pred_{modelName}.gz'\n",
    "# joblib.dump(scalerFinalTrain,file_scaler)"
   ]
  },
  {
   "cell_type": "code",
   "execution_count": 27,
   "id": "31c09007-404d-4bf0-b947-2dda8839b561",
   "metadata": {},
   "outputs": [],
   "source": [
    "# from google.cloud import storage\n",
    "\n",
    "# BUCKET_NAME='gs://smart-ai-model-pongthorn'\n",
    "# MODEL_DIR = BUCKET_NAME + \"/model\"\n",
    "# print(MODEL_DIR)\n",
    "\n",
    "\n",
    "# storage_path = os.path.join(MODEL_DIR, artifact_filename)\n",
    "# blob = storage.blob.Blob.from_string(storage_path, client=storage.Client())\n",
    "# blob.upload_from_filename(local_path)\n",
    "\n",
    "# storage_client = storage.Client()\n",
    "# blob = storage.blob.Blob.from_string(MODEL_DIR, client=storage.Client())\n",
    "# blob.upload_from_filename(local_path)"
   ]
  },
  {
   "cell_type": "code",
   "execution_count": 28,
   "id": "a409e3b9-3fa3-475b-ab23-eb8437612e63",
   "metadata": {},
   "outputs": [],
   "source": [
    "# def upload_blob(bucket_name, source_file_name, destination_blob_name):\n",
    "#     \"\"\"Uploads a file to the bucket.\"\"\"\n",
    "\n",
    "#     storage_client = storage.Client()\n",
    "#     bucket = storage_client.bucket(bucket_name)\n",
    "#     blob = bucket.blob(destination_blob_name)\n",
    "\n",
    "#     blob.upload_from_filename(source_file_name)\n",
    "\n",
    "#     destination_file_name = os.path.join(\"gs://\", bucket_name, destination_blob_name)\n",
    "\n",
    "#     return destination_file_name"
   ]
  },
  {
   "cell_type": "markdown",
   "id": "9b0e1ea6-bea2-4629-b71d-32f408870f31",
   "metadata": {},
   "source": [
    "# Train Data "
   ]
  },
  {
   "cell_type": "markdown",
   "id": "c421d26f-ad25-46d6-a803-73e4bae8df6f",
   "metadata": {},
   "source": [
    "# Split Train and Test Data"
   ]
  },
  {
   "cell_type": "code",
   "execution_count": 29,
   "id": "258dc7a5-fdf2-4063-a0d4-0e81e86cea7e",
   "metadata": {},
   "outputs": [
    {
     "name": "stdout",
     "output_type": "stream",
     "text": [
      "(1757, 8) (311, 8)\n",
      "(1757,) (311,)\n",
      "-----------------------------------------------------------------------------------------------------\n",
      "396     2\n",
      "113     2\n",
      "1853    3\n",
      "1269    4\n",
      "1656    1\n",
      "Name: severity_label, dtype: int64\n"
     ]
    },
    {
     "name": "stderr",
     "output_type": "stream",
     "text": [
      "C:\\Users\\pongthsa\\AppData\\Local\\Temp\\ipykernel_13112\\3656860413.py:8: FutureWarning: The behavior of `series[i:j]` with an integer-dtype index is deprecated. In a future version, this will be treated as *label-based* indexing, consistent with e.g. `series[i]` lookups. To retain the old behavior, use `series.iloc[i:j]`. To get the future behavior, use `series.loc[i:j]`.\n",
      "  print(y_train[:5])\n"
     ]
    },
    {
     "data": {
      "text/html": [
       "<div>\n",
       "<style scoped>\n",
       "    .dataframe tbody tr th:only-of-type {\n",
       "        vertical-align: middle;\n",
       "    }\n",
       "\n",
       "    .dataframe tbody tr th {\n",
       "        vertical-align: top;\n",
       "    }\n",
       "\n",
       "    .dataframe thead th {\n",
       "        text-align: right;\n",
       "    }\n",
       "</style>\n",
       "<table border=\"1\" class=\"dataframe\">\n",
       "  <thead>\n",
       "    <tr style=\"text-align: right;\">\n",
       "      <th></th>\n",
       "      <th>product_type</th>\n",
       "      <th>brand</th>\n",
       "      <th>incident_type</th>\n",
       "      <th>service_type</th>\n",
       "      <th>is_failure_type</th>\n",
       "      <th>sla</th>\n",
       "      <th>count_detail</th>\n",
       "      <th>open_to_close_hour</th>\n",
       "    </tr>\n",
       "  </thead>\n",
       "  <tbody>\n",
       "    <tr>\n",
       "      <th>396</th>\n",
       "      <td>Storage</td>\n",
       "      <td>HPE</td>\n",
       "      <td>Hard Disk Drive Failure</td>\n",
       "      <td>Incident</td>\n",
       "      <td>False</td>\n",
       "      <td>24x7 6Hrs Resolution Time</td>\n",
       "      <td>1</td>\n",
       "      <td>5.500000</td>\n",
       "    </tr>\n",
       "    <tr>\n",
       "      <th>113</th>\n",
       "      <td>Software</td>\n",
       "      <td>VMWare</td>\n",
       "      <td>Software</td>\n",
       "      <td>Incident</td>\n",
       "      <td>False</td>\n",
       "      <td>24x7 4Hrs Response Time</td>\n",
       "      <td>2</td>\n",
       "      <td>5.500000</td>\n",
       "    </tr>\n",
       "    <tr>\n",
       "      <th>1853</th>\n",
       "      <td>Storage</td>\n",
       "      <td>Oracle</td>\n",
       "      <td>Hard Disk Drive Failure</td>\n",
       "      <td>Incident</td>\n",
       "      <td>False</td>\n",
       "      <td>24x7 4Hrs Resolution Time</td>\n",
       "      <td>1</td>\n",
       "      <td>7.500000</td>\n",
       "    </tr>\n",
       "    <tr>\n",
       "      <th>1269</th>\n",
       "      <td>Server</td>\n",
       "      <td>HPE</td>\n",
       "      <td>Maintenance System</td>\n",
       "      <td>Request</td>\n",
       "      <td>False</td>\n",
       "      <td>24x7 4Hrs Resolution Time</td>\n",
       "      <td>1</td>\n",
       "      <td>10.183333</td>\n",
       "    </tr>\n",
       "    <tr>\n",
       "      <th>1656</th>\n",
       "      <td>Storage</td>\n",
       "      <td>HPE</td>\n",
       "      <td>General Incident</td>\n",
       "      <td>Incident</td>\n",
       "      <td>False</td>\n",
       "      <td>24x7 4Hrs Resolution Time</td>\n",
       "      <td>0</td>\n",
       "      <td>1.566667</td>\n",
       "    </tr>\n",
       "  </tbody>\n",
       "</table>\n",
       "</div>"
      ],
      "text/plain": [
       "     product_type   brand            incident_type service_type  \\\n",
       "396       Storage     HPE  Hard Disk Drive Failure     Incident   \n",
       "113      Software  VMWare                 Software     Incident   \n",
       "1853      Storage  Oracle  Hard Disk Drive Failure     Incident   \n",
       "1269       Server     HPE       Maintenance System      Request   \n",
       "1656      Storage     HPE         General Incident     Incident   \n",
       "\n",
       "     is_failure_type                        sla  count_detail  \\\n",
       "396            False  24x7 6Hrs Resolution Time             1   \n",
       "113            False    24x7 4Hrs Response Time             2   \n",
       "1853           False  24x7 4Hrs Resolution Time             1   \n",
       "1269           False  24x7 4Hrs Resolution Time             1   \n",
       "1656           False  24x7 4Hrs Resolution Time             0   \n",
       "\n",
       "      open_to_close_hour  \n",
       "396             5.500000  \n",
       "113             5.500000  \n",
       "1853            7.500000  \n",
       "1269           10.183333  \n",
       "1656            1.566667  "
      ]
     },
     "execution_count": 29,
     "metadata": {},
     "output_type": "execute_result"
    }
   ],
   "source": [
    "seed = 7\n",
    "test_size = 0.15\n",
    "X_train, X_test, y_train, y_test = train_test_split(X, y, test_size=test_size, random_state=seed)\n",
    "print(X_train.shape,X_test.shape)\n",
    "print(y_train.shape,y_test.shape)\n",
    "\n",
    "print(\"-----------------------------------------------------------------------------------------------------\")\n",
    "print(y_train[:5])\n",
    "X_train[:5]\n",
    "\n"
   ]
  },
  {
   "cell_type": "markdown",
   "id": "75fcb321-e7b1-4e95-bf7d-ac63c1b68783",
   "metadata": {},
   "source": [
    "# XGBoost "
   ]
  },
  {
   "cell_type": "code",
   "execution_count": 30,
   "id": "54cc4b9c-fd5a-42dd-9cd2-5d803c4ab60e",
   "metadata": {},
   "outputs": [
    {
     "name": "stdout",
     "output_type": "stream",
     "text": [
      "Use DMatrix & Train Object\n",
      "XGBoost Accuracy: 78.14%\n"
     ]
    }
   ],
   "source": [
    "print(\"Use DMatrix & Train Object\") \n",
    "xg_param= {'max_depth': maxDept, 'learning_rate': lerningRate}\n",
    "dtrain = xgb.DMatrix(data= X_train, label=y_train,enable_categorical=True)\n",
    "model_xg=xgb.train(xg_param,dtrain,num_boost_round=nEstimators)\n",
    "\n",
    "dtest = xgb.DMatrix(data=X_test,label=y_test,enable_categorical=True)\n",
    "y_pred_xg = model_xg.predict(dtest)\n",
    "\n",
    "\n",
    "predictions_xg = [round(value) for value in y_pred_xg]\n",
    "\n",
    "accuracy_xg = accuracy_score(y_test, predictions_xg)\n",
    "print(\"XGBoost Accuracy: %.2f%%\" % (accuracy_xg * 100.0))\n"
   ]
  },
  {
   "cell_type": "markdown",
   "id": "92ca3b64-c90a-47a6-ada7-e1a739f1eda3",
   "metadata": {},
   "source": [
    "# Feature Important"
   ]
  },
  {
   "cell_type": "code",
   "execution_count": 31,
   "id": "0b401945-7325-4dda-b21c-6c2f1add71a0",
   "metadata": {},
   "outputs": [
    {
     "data": {
      "image/png": "[encoded data removed]",
      "text/plain": [
       "<Figure size 432x288 with 1 Axes>"
      ]
     },
     "metadata": {
      "needs_background": "light"
     },
     "output_type": "display_data"
    }
   ],
   "source": [
    "xgb.plot_importance(model_xg)\n",
    "plt.show()"
   ]
  },
  {
   "cell_type": "code",
   "execution_count": null,
   "id": "3c888751-d444-46e2-9a66-7a8caf4f452c",
   "metadata": {},
   "outputs": [],
   "source": []
  },
  {
   "cell_type": "code",
   "execution_count": null,
   "id": "1ff5994d-4e86-4cfa-9d59-74bb149c7fbb",
   "metadata": {},
   "outputs": [],
   "source": []
  },
  {
   "cell_type": "code",
   "execution_count": null,
   "id": "a4ca25f8-b548-4887-81b8-89e3974efb29",
   "metadata": {},
   "outputs": [],
   "source": []
  },
  {
   "cell_type": "code",
   "execution_count": null,
   "id": "117cbd3b-f950-43b9-9e8b-1d31ca745dd9",
   "metadata": {},
   "outputs": [],
   "source": []
  }
 ],
 "metadata": {
  "kernelspec": {
   "display_name": "Python 3 (ipykernel)",
   "language": "python",
   "name": "python3"
  },
  "language_info": {
   "codemirror_mode": {
    "name": "ipython",
    "version": 3
   },
   "file_extension": ".py",
   "mimetype": "text/x-python",
   "name": "python",
   "nbconvert_exporter": "python",
   "pygments_lexer": "ipython3",
   "version": "3.9.16"
  }
 },
 "nbformat": 4,
 "nbformat_minor": 5
}
