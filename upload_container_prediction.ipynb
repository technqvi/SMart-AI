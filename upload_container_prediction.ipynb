{
 "cells": [
  {
   "cell_type": "code",
   "execution_count": 1,
   "id": "af1ced30-fecf-48d6-b132-4e32ae59142f",
   "metadata": {},
   "outputs": [],
   "source": [
    "PROJECT_ID = \"pongthorn\" \n",
    "REGION = \"asia-east1\""
   ]
  },
  {
   "cell_type": "code",
   "execution_count": 2,
   "id": "b055281d-b4ad-49d2-987e-1106e0c9f0a3",
   "metadata": {},
   "outputs": [],
   "source": [
    "BUCKET_NAME = f\"gs://smart-ai-model-pongthorn\" # replace bucket name"
   ]
  },
  {
   "cell_type": "code",
   "execution_count": 3,
   "id": "48e142dd-350e-4cf6-a136-00063aee93ad",
   "metadata": {},
   "outputs": [],
   "source": [
    "import google.cloud.aiplatform as aip"
   ]
  },
  {
   "cell_type": "code",
   "execution_count": 4,
   "id": "464620ec-2d47-4002-ae2f-2501362c8b19",
   "metadata": {},
   "outputs": [],
   "source": [
    "aip.init(project=PROJECT_ID, staging_bucket=BUCKET_NAME)"
   ]
  },
  {
   "cell_type": "code",
   "execution_count": 5,
   "id": "ab60d0ea-2886-4bc9-992a-cd1056e4285f",
   "metadata": {},
   "outputs": [
    {
     "name": "stdout",
     "output_type": "stream",
     "text": [
      "20230211014028\n"
     ]
    }
   ],
   "source": [
    "from datetime import datetime\n",
    "\n",
    "TIMESTAMP = datetime.now().strftime(\"%Y%m%d%H%M%S\")\n",
    "print(TIMESTAMP)"
   ]
  },
  {
   "cell_type": "code",
   "execution_count": 6,
   "id": "76163fe0-da6b-4097-b891-db3b5e4d58b3",
   "metadata": {},
   "outputs": [],
   "source": [
    "MODEL_FILE=\"gs://smart-ai-model-pongthorn/model/model.bst\"\n",
    "MODEL_DIR=\"gs://smart-ai-model-pongthorn/model\""
   ]
  },
  {
   "cell_type": "code",
   "execution_count": 7,
   "id": "da6c436a-d783-4aa7-84bd-667d40f9fe78",
   "metadata": {},
   "outputs": [
    {
     "name": "stdout",
     "output_type": "stream",
     "text": [
      "<Blob: smart-ai-model-pongthorn, model/, 1676050188132090>\n"
     ]
    }
   ],
   "source": [
    "from google.cloud import storage\n",
    "client = storage.Client()\n",
    "bucket = client.bucket('smart-ai-model-pongthorn')\n",
    "blob = bucket.get_blob('model/')\n",
    "# blob = bucket.get_blob('model/model.bst')\n",
    "print(blob)"
   ]
  },
  {
   "cell_type": "code",
   "execution_count": null,
   "id": "0db6202f-9f5c-4ef5-9538-7a086c7d3e2e",
   "metadata": {},
   "outputs": [],
   "source": []
  },
  {
   "cell_type": "code",
   "execution_count": 8,
   "id": "fc7c8d7a-464d-4d67-8ef5-35f6cd0c621b",
   "metadata": {},
   "outputs": [
    {
     "name": "stdout",
     "output_type": "stream",
     "text": [
      "Creating Model\n",
      "Create Model backing LRO: projects/780371717407/locations/us-central1/models/8183130682885668864/operations/6933743319457464320\n",
      "Model created. Resource name: projects/780371717407/locations/us-central1/models/8183130682885668864@1\n",
      "To use this Model in another session:\n",
      "model = aiplatform.Model('projects/780371717407/locations/us-central1/models/8183130682885668864@1')\n"
     ]
    }
   ],
   "source": [
    "DEPLOY_IMAGE = \"asia-docker.pkg.dev/vertex-ai/prediction/xgboost-cpu.1-6:latest\"\n",
    "\n",
    "model = aip.Model.upload(\n",
    "    display_name=\"ponghthorn_xgb_\" + TIMESTAMP,\n",
    "    artifact_uri=MODEL_DIR,\n",
    "    serving_container_image_uri=DEPLOY_IMAGE,\n",
    "    sync=False,\n",
    ")\n",
    "\n",
    "model.wait()\n"
   ]
  },
  {
   "cell_type": "code",
   "execution_count": null,
   "id": "7576cabd-92b9-4003-a136-977da80278a5",
   "metadata": {},
   "outputs": [],
   "source": []
  }
 ],
 "metadata": {
  "kernelspec": {
   "display_name": "Python 3 (ipykernel)",
   "language": "python",
   "name": "python3"
  },
  "language_info": {
   "codemirror_mode": {
    "name": "ipython",
    "version": 3
   },
   "file_extension": ".py",
   "mimetype": "text/x-python",
   "name": "python",
   "nbconvert_exporter": "python",
   "pygments_lexer": "ipython3",
   "version": "3.9.16"
  }
 },
 "nbformat": 4,
 "nbformat_minor": 5
}
