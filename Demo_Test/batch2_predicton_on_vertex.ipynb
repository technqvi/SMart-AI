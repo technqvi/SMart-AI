{
 "cells": [
  {
   "cell_type": "code",
   "execution_count": 3,
   "id": "111d858e-a2c1-4d56-9bac-9016184b67be",
   "metadata": {
    "tags": []
   },
   "outputs": [],
   "source": [
    "# Import Vertex AI library\n",
    "from google.cloud import aiplatform\n",
    "#https://github.com/rafaello9472/c4ds/blob/main/Predict%20with%20batch%20prediction%20in%20Vertex%20AI/batch_prediction.ipynb\n",
    "#https://github.com/GoogleCloudPlatform/training-data-analyst/blob/master/courses/machine_learning/deepdive2/machine_learning_in_the_enterprise/solutions/sdk_custom_xgboost.ipynb\n",
    "#https://cloud.google.com/vertex-ai/docs/predictions/get-batch-predictions#bigquery\n",
    "# https://medium.com/google-cloud/google-vertex-ai-batch-predictions-ad7057d18d1f"
   ]
  },
  {
   "cell_type": "code",
   "execution_count": 4,
   "id": "b67cd968-b639-44ab-9534-79b472580e95",
   "metadata": {
    "tags": []
   },
   "outputs": [],
   "source": [
    "project_number='xxxxx'\n",
    "project_id='pongthorn'\n",
    "region='asia-southeast1'\n",
    "model_id='xxxxxx'\n",
    "\n",
    "# Initialize connection\n",
    "aiplatform.init(location=region)"
   ]
  },
  {
   "cell_type": "code",
   "execution_count": 5,
   "id": "5b41f1b5-02b9-4089-9d97-58b4b5a3e1d1",
   "metadata": {
    "tags": []
   },
   "outputs": [
    {
     "name": "stdout",
     "output_type": "stream",
     "text": [
      "<google.cloud.aiplatform.models.Model object at 0x0000017451C72950> \n",
      "resource name: projects/780371717407/locations/asia-southeast1/models/8418854980764565504\n",
      "['jsonl', 'bigquery', 'csv', 'tf-record', 'tf-record-gzip', 'file-list']\n"
     ]
    }
   ],
   "source": [
    "# Get model that will make a batch prediction\n",
    "model_id = f'projects/{project_number}/locations/{region}/models/{model_id}'\n",
    "model = aiplatform.Model(model_id)\n",
    "print(model)\n",
    "# Check the supported batch prediction jobs input formats\n",
    "print(model.supported_input_storage_formats)"
   ]
  },
  {
   "cell_type": "code",
   "execution_count": 29,
   "id": "aba057f2-8812-4a82-a296-23d7bd7431ca",
   "metadata": {
    "tags": []
   },
   "outputs": [],
   "source": [
    "# Define required arguments for batch prediction job\n",
    "job_display_name = 'pongthsa-multi-dnn-incident-batch-prediction'\n",
    "bigquery_source = f'bq://{project_id}.SMartML.new_incident'\n",
    "bigquery_destination_prefix = f'bq://{project_id}.SMartML'"
   ]
  },
  {
   "cell_type": "code",
   "execution_count": 31,
   "id": "7389758a-63b7-4f66-8174-95e14181f864",
   "metadata": {
    "tags": []
   },
   "outputs": [],
   "source": [
    "# Create batch prediction job\n",
    "batch_prediction_job = model.batch_predict(\n",
    "    job_display_name=job_display_name,\n",
    "    bigquery_source=bigquery_source,\n",
    "    bigquery_destination_prefix=bigquery_destination_prefix,\n",
    "    machine_type= \"n1-standard-2\",\n",
    "    \n",
    "\n",
    ")"
   ]
  },
  {
   "cell_type": "code",
   "execution_count": null,
   "id": "53dbe02c-7a13-46f0-9832-9ec3e481f399",
   "metadata": {},
   "outputs": [],
   "source": []
  }
 ],
 "metadata": {
  "kernelspec": {
   "display_name": "Python 3 (ipykernel)",
   "language": "python",
   "name": "python3"
  },
  "language_info": {
   "codemirror_mode": {
    "name": "ipython",
    "version": 3
   },
   "file_extension": ".py",
   "mimetype": "text/x-python",
   "name": "python",
   "nbconvert_exporter": "python",
   "pygments_lexer": "ipython3",
   "version": "3.10.12"
  }
 },
 "nbformat": 4,
 "nbformat_minor": 5
}
