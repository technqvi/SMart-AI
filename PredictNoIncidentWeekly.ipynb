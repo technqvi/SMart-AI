{
 "cells": [
  {
   "cell_type": "code",
   "execution_count": 133,
   "id": "5399b8df-1ce2-4a84-a7de-e596dc57cff2",
   "metadata": {},
   "outputs": [],
   "source": [
    "import pandas as pd\n",
    "import matplotlib.pyplot as plt\n",
    "import psycopg2\n",
    "import psycopg2.extras as extras\n",
    "from google.cloud import bigquery\n",
    "from google.api_core.exceptions import BadRequest\n",
    "from dotenv import dotenv_values\n",
    "from datetime import datetime"
   ]
  },
  {
   "cell_type": "markdown",
   "id": "e9781c2b-4263-4bc5-8488-fe344b9b5170",
   "metadata": {},
   "source": [
    "## Note # Real system , you need to get data from PostGrest # if no incident  it will be 0\n",
    "## Schcule to send summary case at 00:01 and get count yester day to predict begining of the comming week"
   ]
  },
  {
   "cell_type": "code",
   "execution_count": 134,
   "id": "5de30887-34bf-459c-ab5e-9855f0472d59",
   "metadata": {},
   "outputs": [],
   "source": [
    "dateTimeCol='incident_datetime'\n",
    "dateCol='issue_date'\n",
    "\n",
    "today_date=datetime.now()\n",
    "\n",
    "countCol='count_incident'\n",
    "\n",
    "imported_from='2021-10-01'\n",
    "\n",
    "env_path='.env'\n",
    "config = dotenv_values(dotenv_path=env_path)\n",
    "\n",
    "# tf='W-SUN'\n",
    "tf='D'\n",
    "\n",
    "\n",
    "projectId='pongthorn'\n",
    "dataset_id='SMartDW'\n",
    "table_id = f\"{projectId}.{dataset_id}.daily_incident\""
   ]
  },
  {
   "cell_type": "code",
   "execution_count": 135,
   "id": "b0f54c7f-91bd-424c-b641-04c1431f72ea",
   "metadata": {},
   "outputs": [],
   "source": [
    "def get_postgres_conn():\n",
    " try:\n",
    "  conn = psycopg2.connect(\n",
    "        database=config['DATABASES_NAME'], user=config['DATABASES_USER'],\n",
    "      password=config['DATABASES_PASSWORD'], host=config['DATABASES_HOST']\n",
    "     )\n",
    "  return conn\n",
    "\n",
    " except Exception as error:\n",
    "  print(error)      \n",
    "  raise error\n",
    "def list_data(sql,params,connection):\n",
    " df=None   \n",
    " with connection.cursor() as cursor:\n",
    "    \n",
    "    if params is None:\n",
    "       cursor.execute(sql)\n",
    "    else:\n",
    "       cursor.execute(sql,params)\n",
    "    \n",
    "    columns = [col[0] for col in cursor.description]\n",
    "    dataList = [dict(zip(columns, row)) for row in cursor.fetchall()]\n",
    "    df = pd.DataFrame(data=dataList) \n",
    " return df "
   ]
  },
  {
   "cell_type": "code",
   "execution_count": 136,
   "id": "106af72a-ee24-42d5-a3bd-201c2e5b2b5a",
   "metadata": {},
   "outputs": [
    {
     "name": "stdout",
     "output_type": "stream",
     "text": [
      "\n",
      "select Date(incident_datetime) as issue_date,count(*) as count_incident  from app_incident\n",
      "where incident_datetime>='2021-10-01'\n",
      "group by   Date(incident_datetime) order by Date(incident_datetime)\n",
      "\n",
      "<class 'pandas.core.frame.DataFrame'>\n",
      "RangeIndex: 543 entries, 0 to 542\n",
      "Data columns (total 2 columns):\n",
      " #   Column          Non-Null Count  Dtype         \n",
      "---  ------          --------------  -----         \n",
      " 0   issue_date      543 non-null    datetime64[ns]\n",
      " 1   count_incident  543 non-null    int64         \n",
      "dtypes: datetime64[ns](1), int64(1)\n",
      "memory usage: 8.6 KB\n",
      "None\n",
      "  issue_date  count_incident\n",
      "0 2021-10-04               1\n",
      "1 2021-10-07               1\n",
      "2 2021-10-11               1\n",
      "3 2021-10-18               1\n",
      "4 2021-10-19               1\n",
      "    issue_date  count_incident\n",
      "538 2023-07-04              13\n",
      "539 2023-07-05               5\n",
      "540 2023-07-06               5\n",
      "541 2023-07-07               1\n",
      "542 2023-12-02               1\n"
     ]
    }
   ],
   "source": [
    "sql=f\"\"\"\n",
    "select Date({dateTimeCol}) as {dateCol},count(*) as {countCol}  from app_incident\n",
    "where {dateTimeCol}>='{imported_from}'\n",
    "group by   Date({dateTimeCol}) order by Date({dateTimeCol})\n",
    "\"\"\"\n",
    "print(sql)\n",
    "df_incident=list_data(sql,None,get_postgres_conn())\n",
    "df_incident[dateCol]=pd.to_datetime(df_incident[dateCol], format='%Y-%m-%d')\n",
    "\n",
    "print(df_incident.info())\n",
    "print(df_incident.head())\n",
    "print(df_incident.tail())"
   ]
  },
  {
   "cell_type": "code",
   "execution_count": 137,
   "id": "f6ac6f3b-2cfd-47c9-9518-ee651381b348",
   "metadata": {},
   "outputs": [
    {
     "name": "stdout",
     "output_type": "stream",
     "text": [
      "DatetimeIndex(['2021-10-04', '2021-10-05', '2021-10-06', '2021-10-07',\n",
      "               '2021-10-08', '2021-10-09', '2021-10-10', '2021-10-11',\n",
      "               '2021-10-12', '2021-10-13',\n",
      "               ...\n",
      "               '2023-06-29', '2023-06-30', '2023-07-01', '2023-07-02',\n",
      "               '2023-07-03', '2023-07-04', '2023-07-05', '2023-07-06',\n",
      "               '2023-07-07', '2023-07-08'],\n",
      "              dtype='datetime64[ns]', length=643, freq='D')\n",
      "<class 'pandas.core.frame.DataFrame'>\n",
      "RangeIndex: 643 entries, 0 to 642\n",
      "Data columns (total 1 columns):\n",
      " #   Column  Non-Null Count  Dtype         \n",
      "---  ------  --------------  -----         \n",
      " 0   date    643 non-null    datetime64[ns]\n",
      "dtypes: datetime64[ns](1)\n",
      "memory usage: 5.1 KB\n",
      "None\n",
      "        date\n",
      "0 2021-10-04\n",
      "1 2021-10-05\n",
      "2 2021-10-06\n",
      "3 2021-10-07\n",
      "4 2021-10-08\n",
      "          date\n",
      "638 2023-07-04\n",
      "639 2023-07-05\n",
      "640 2023-07-06\n",
      "641 2023-07-07\n",
      "642 2023-07-08\n"
     ]
    }
   ],
   "source": [
    "from_date=df_incident[dateCol].min().strftime('%Y-%m-%d')\n",
    "to_date=today_date.strftime('%Y-%m-%d')\n",
    "# to_date=df_incident[dateCol].max().strftime('%Y-%m-%d')\n",
    "period_index=pd.date_range(start=from_date,end=to_date, freq='D')\n",
    "print(period_index)\n",
    "dfDate=pd.DataFrame(index=period_index,columns=['date'])\n",
    "dfDate.reset_index(drop=False,inplace=True)\n",
    "dfDate['date']=dfDate['index']\n",
    "dfDate.drop(columns=['index'],inplace=True)\n",
    "print(dfDate.info())\n",
    "print(dfDate.head())\n",
    "print(dfDate.tail())"
   ]
  },
  {
   "cell_type": "code",
   "execution_count": 138,
   "id": "89c1244c-9048-4e9b-957f-80543e65744c",
   "metadata": {},
   "outputs": [
    {
     "name": "stdout",
     "output_type": "stream",
     "text": [
      "<class 'pandas.core.frame.DataFrame'>\n",
      "Int64Index: 643 entries, 0 to 642\n",
      "Data columns (total 2 columns):\n",
      " #   Column          Non-Null Count  Dtype         \n",
      "---  ------          --------------  -----         \n",
      " 0   date            643 non-null    datetime64[ns]\n",
      " 1   count_incident  643 non-null    float64       \n",
      "dtypes: datetime64[ns](1), float64(1)\n",
      "memory usage: 15.1 KB\n",
      "None\n",
      "          date  count_incident\n",
      "633 2023-06-29             2.0\n",
      "634 2023-06-30             5.0\n",
      "635 2023-07-01             3.0\n",
      "636 2023-07-02             1.0\n",
      "637 2023-07-03             8.0\n",
      "638 2023-07-04            13.0\n",
      "639 2023-07-05             5.0\n",
      "640 2023-07-06             5.0\n",
      "641 2023-07-07             1.0\n",
      "642 2023-07-08             0.0\n"
     ]
    }
   ],
   "source": [
    "df=dfDate.merge(df_incident,how='left',left_on='date',right_on=dateCol)\n",
    "df=df[['date',countCol]]\n",
    "df.fillna(value=0,inplace=True)\n",
    "# df=df.set_index('date')\n",
    "print(df.info())\n",
    "print(df.tail(10))\n",
    "\n",
    "# if time frame is bigger that day\n",
    "# dfXYZ=df.resample(tf).sum()\n",
    "# print(dfXYZ.info())\n",
    "# print(dfXYZ.tail(10))\n",
    "\n",
    "# dfXYZ.to_csv('NoIncident.csv',index=True)"
   ]
  },
  {
   "cell_type": "code",
   "execution_count": 140,
   "id": "82df7ae8-70d4-410c-81aa-08e42bbeed18",
   "metadata": {},
   "outputs": [
    {
     "name": "stdout",
     "output_type": "stream",
     "text": [
      "Total  643 Imported closed incident to bigquery successfully\n"
     ]
    }
   ],
   "source": [
    "client = bigquery.Client(project=projectId)\n",
    "def insertDataFrameToBQ(df_trasns):\n",
    "    try:\n",
    "        job_config = bigquery.LoadJobConfig(\n",
    "            write_disposition=\"WRITE_APPEND\",\n",
    "        )\n",
    "\n",
    "        job = client.load_table_from_dataframe(\n",
    "            df_trasns, table_id, job_config=job_config\n",
    "        )\n",
    "        job.result()  # Wait for the job to complete.\n",
    "        print(\"Total \", len(df_trasns), \"Imported closed incident to bigquery successfully\")\n",
    "\n",
    "    except BadRequest as e:\n",
    "        print(\"Bigquery Error\\n\")\n",
    "        print(e) \n",
    "\n",
    "try:\n",
    "    \n",
    "    insertDataFrameToBQ(df)\n",
    "except Exception as ex:\n",
    "    raise ex\n"
   ]
  }
 ],
 "metadata": {
  "kernelspec": {
   "display_name": "Python 3 (ipykernel)",
   "language": "python",
   "name": "python3"
  },
  "language_info": {
   "codemirror_mode": {
    "name": "ipython",
    "version": 3
   },
   "file_extension": ".py",
   "mimetype": "text/x-python",
   "name": "python",
   "nbconvert_exporter": "python",
   "pygments_lexer": "ipython3",
   "version": "3.9.16"
  }
 },
 "nbformat": 4,
 "nbformat_minor": 5
}
