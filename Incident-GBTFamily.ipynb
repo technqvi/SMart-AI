{
 "cells": [
  {
   "cell_type": "code",
   "execution_count": 69,
   "id": "5399b8df-1ce2-4a84-a7de-e596dc57cff2",
   "metadata": {},
   "outputs": [],
   "source": [
    "import pandas as pd\n",
    "from xgboost import XGBClassifier\n",
    "from sklearn.ensemble import RandomForestClassifier\n",
    "from sklearn.model_selection import train_test_split\n",
    "from sklearn.metrics import accuracy_score\n",
    "from sklearn.preprocessing import LabelEncoder\n",
    "import matplotlib.pyplot as plt\n",
    "import seaborn as sns\n",
    "from sklearn.preprocessing import OneHotEncoder\n",
    "from sklearn.compose import ColumnTransformer\n",
    "\n",
    "\n",
    "from sklearn.model_selection import KFold,StratifiedKFold\n",
    "from sklearn.model_selection import cross_val_score\n",
    "import matplotlib.pyplot  as plt\n",
    "\n",
    "#http://localhost:8888/lab/workspaces/auto-O/tree/MyQuantFinProject/LearnDataSC/Prasertcbs_ML/sklearn_feature_importances_with_treeclassifier.ipynb\n",
    "#http://localhost:8888/lab/workspaces/auto-C/tree/MyQuantFinProject/LearnDataSC/Prasertcbs_ML/sklearn_classification_iris2.ipynb"
   ]
  },
  {
   "cell_type": "code",
   "execution_count": 59,
   "id": "5de30887-34bf-459c-ab5e-9855f0472d59",
   "metadata": {},
   "outputs": [
    {
     "name": "stdout",
     "output_type": "stream",
     "text": [
      "['severity_label', 'product_type', 'brand', 'incident_type', 'service_type', 'is_failure_type', 'sla', 'count_detail', 'open_to_close_hour', 'response_to_resolved_hour', 'open_to_response_hour', 'resolved_to_close_hour']\n"
     ]
    }
   ],
   "source": [
    "dateTimeCols=['open_datetime','response_datetime','resolved_datetime','close_datetime']\n",
    "\n",
    "cateFeatures=['product_type','brand','incident_type','service_type','is_failure_type','sla']\n",
    "numericFeatures=['count_detail','open_to_close_hour','response_to_resolved_hour','open_to_response_hour','resolved_to_close_hour']\n",
    "\n",
    "colLabel='severity_label'\n",
    "\n",
    "colFeatures=cateFeatures+numericFeatures\n",
    "cols=[colLabel]+colFeatures\n",
    "print(cols)\n",
    "\n",
    "\n",
    "isAutomaticOneHotByColumnTransformer=False\n",
    "isManualEncoding=True\n",
    " \n",
    "\n",
    "\n",
    "to_date='2023-12-31'"
   ]
  },
  {
   "cell_type": "markdown",
   "id": "b5f52e80-e704-45ab-a634-ee82e779feb5",
   "metadata": {},
   "source": [
    "# Load and Prepare Data"
   ]
  },
  {
   "cell_type": "code",
   "execution_count": 60,
   "id": "cc7ff82d-8ac8-4792-ad6a-d20852c33f5b",
   "metadata": {},
   "outputs": [
    {
     "name": "stdout",
     "output_type": "stream",
     "text": [
      "Incident From 2020-03-15 13:36:00 To 2023-02-01 06:40:00\n",
      "<class 'pandas.core.frame.DataFrame'>\n",
      "Int64Index: 2094 entries, 0 to 2093\n",
      "Data columns (total 12 columns):\n",
      " #   Column                     Non-Null Count  Dtype  \n",
      "---  ------                     --------------  -----  \n",
      " 0   severity_label             2094 non-null   object \n",
      " 1   product_type               2094 non-null   object \n",
      " 2   brand                      2094 non-null   object \n",
      " 3   incident_type              2094 non-null   object \n",
      " 4   service_type               2094 non-null   object \n",
      " 5   is_failure_type            2094 non-null   bool   \n",
      " 6   sla                        2094 non-null   object \n",
      " 7   count_detail               2094 non-null   int64  \n",
      " 8   open_to_close_hour         2094 non-null   float64\n",
      " 9   response_to_resolved_hour  2094 non-null   float64\n",
      " 10  open_to_response_hour      2094 non-null   float64\n",
      " 11  resolved_to_close_hour     2094 non-null   float64\n",
      "dtypes: bool(1), float64(4), int64(1), object(6)\n",
      "memory usage: 198.4+ KB\n",
      "None\n"
     ]
    },
    {
     "data": {
      "text/html": [
       "<div>\n",
       "<style scoped>\n",
       "    .dataframe tbody tr th:only-of-type {\n",
       "        vertical-align: middle;\n",
       "    }\n",
       "\n",
       "    .dataframe tbody tr th {\n",
       "        vertical-align: top;\n",
       "    }\n",
       "\n",
       "    .dataframe thead th {\n",
       "        text-align: right;\n",
       "    }\n",
       "</style>\n",
       "<table border=\"1\" class=\"dataframe\">\n",
       "  <thead>\n",
       "    <tr style=\"text-align: right;\">\n",
       "      <th></th>\n",
       "      <th>severity_label</th>\n",
       "      <th>product_type</th>\n",
       "      <th>brand</th>\n",
       "      <th>incident_type</th>\n",
       "      <th>service_type</th>\n",
       "      <th>is_failure_type</th>\n",
       "      <th>sla</th>\n",
       "      <th>count_detail</th>\n",
       "      <th>open_to_close_hour</th>\n",
       "      <th>response_to_resolved_hour</th>\n",
       "      <th>open_to_response_hour</th>\n",
       "      <th>resolved_to_close_hour</th>\n",
       "    </tr>\n",
       "  </thead>\n",
       "  <tbody>\n",
       "    <tr>\n",
       "      <th>2089</th>\n",
       "      <td>Minor</td>\n",
       "      <td>Storage</td>\n",
       "      <td>YIP</td>\n",
       "      <td>General Incident</td>\n",
       "      <td>Request</td>\n",
       "      <td>False</td>\n",
       "      <td>24x7 6Hrs Resolution Time</td>\n",
       "      <td>1</td>\n",
       "      <td>67.250000</td>\n",
       "      <td>0.000000</td>\n",
       "      <td>67.250000</td>\n",
       "      <td>0.000000</td>\n",
       "    </tr>\n",
       "    <tr>\n",
       "      <th>2090</th>\n",
       "      <td>Major</td>\n",
       "      <td>Storage</td>\n",
       "      <td>NetApp</td>\n",
       "      <td>General Incident</td>\n",
       "      <td>Incident</td>\n",
       "      <td>False</td>\n",
       "      <td>24x7 4Hrs Response Time</td>\n",
       "      <td>3</td>\n",
       "      <td>365.316667</td>\n",
       "      <td>169.016667</td>\n",
       "      <td>2.633333</td>\n",
       "      <td>193.666667</td>\n",
       "    </tr>\n",
       "    <tr>\n",
       "      <th>2091</th>\n",
       "      <td>Major</td>\n",
       "      <td>Storage</td>\n",
       "      <td>NetApp</td>\n",
       "      <td>General Incident</td>\n",
       "      <td>Incident</td>\n",
       "      <td>False</td>\n",
       "      <td>24x7 4Hrs Response Time</td>\n",
       "      <td>2</td>\n",
       "      <td>20.166667</td>\n",
       "      <td>4.533333</td>\n",
       "      <td>0.550000</td>\n",
       "      <td>15.083333</td>\n",
       "    </tr>\n",
       "    <tr>\n",
       "      <th>2092</th>\n",
       "      <td>Major</td>\n",
       "      <td>Storage</td>\n",
       "      <td>NetApp</td>\n",
       "      <td>General Incident</td>\n",
       "      <td>Incident</td>\n",
       "      <td>False</td>\n",
       "      <td>24x7 4Hrs Response Time</td>\n",
       "      <td>1</td>\n",
       "      <td>23.783333</td>\n",
       "      <td>0.000000</td>\n",
       "      <td>23.783333</td>\n",
       "      <td>0.000000</td>\n",
       "    </tr>\n",
       "    <tr>\n",
       "      <th>2093</th>\n",
       "      <td>Major</td>\n",
       "      <td>Storage</td>\n",
       "      <td>NetApp</td>\n",
       "      <td>General Incident</td>\n",
       "      <td>Incident</td>\n",
       "      <td>False</td>\n",
       "      <td>24x7 4Hrs Response Time</td>\n",
       "      <td>2</td>\n",
       "      <td>31.150000</td>\n",
       "      <td>28.466667</td>\n",
       "      <td>1.450000</td>\n",
       "      <td>1.233333</td>\n",
       "    </tr>\n",
       "  </tbody>\n",
       "</table>\n",
       "</div>"
      ],
      "text/plain": [
       "     severity_label product_type   brand     incident_type service_type  \\\n",
       "2089          Minor      Storage     YIP  General Incident      Request   \n",
       "2090          Major      Storage  NetApp  General Incident     Incident   \n",
       "2091          Major      Storage  NetApp  General Incident     Incident   \n",
       "2092          Major      Storage  NetApp  General Incident     Incident   \n",
       "2093          Major      Storage  NetApp  General Incident     Incident   \n",
       "\n",
       "      is_failure_type                        sla  count_detail  \\\n",
       "2089            False  24x7 6Hrs Resolution Time             1   \n",
       "2090            False    24x7 4Hrs Response Time             3   \n",
       "2091            False    24x7 4Hrs Response Time             2   \n",
       "2092            False    24x7 4Hrs Response Time             1   \n",
       "2093            False    24x7 4Hrs Response Time             2   \n",
       "\n",
       "      open_to_close_hour  response_to_resolved_hour  open_to_response_hour  \\\n",
       "2089           67.250000                   0.000000              67.250000   \n",
       "2090          365.316667                 169.016667               2.633333   \n",
       "2091           20.166667                   4.533333               0.550000   \n",
       "2092           23.783333                   0.000000              23.783333   \n",
       "2093           31.150000                  28.466667               1.450000   \n",
       "\n",
       "      resolved_to_close_hour  \n",
       "2089                0.000000  \n",
       "2090              193.666667  \n",
       "2091               15.083333  \n",
       "2092                0.000000  \n",
       "2093                1.233333  "
      ]
     },
     "execution_count": 60,
     "metadata": {},
     "output_type": "execute_result"
    }
   ],
   "source": [
    "df_incident = pd.read_csv('incident_data.csv',parse_dates=dateTimeCols)\n",
    "print(f\"Incident From {df_incident['open_datetime'].min()} To {df_incident['open_datetime'].max()}\")\n",
    "df_incident=df_incident.query(\"open_datetime<=@to_date\")\n",
    "df_incident=df_incident[cols]\n",
    "print(df_incident.info())\n",
    "df_incident.tail()\n",
    "\n"
   ]
  },
  {
   "cell_type": "code",
   "execution_count": 61,
   "id": "77e1c3eb-e053-490c-8198-d7e90697e73a",
   "metadata": {},
   "outputs": [
    {
     "data": {
      "image/png": "[encoded data removed]",
      "text/plain": [
       "<Figure size 640x480 with 1 Axes>"
      ]
     },
     "metadata": {},
     "output_type": "display_data"
    },
    {
     "data": {
      "text/html": [
       "<div>\n",
       "<style scoped>\n",
       "    .dataframe tbody tr th:only-of-type {\n",
       "        vertical-align: middle;\n",
       "    }\n",
       "\n",
       "    .dataframe tbody tr th {\n",
       "        vertical-align: top;\n",
       "    }\n",
       "\n",
       "    .dataframe thead th {\n",
       "        text-align: right;\n",
       "    }\n",
       "</style>\n",
       "<table border=\"1\" class=\"dataframe\">\n",
       "  <thead>\n",
       "    <tr style=\"text-align: right;\">\n",
       "      <th></th>\n",
       "      <th>count</th>\n",
       "    </tr>\n",
       "    <tr>\n",
       "      <th>severity_label</th>\n",
       "      <th></th>\n",
       "    </tr>\n",
       "  </thead>\n",
       "  <tbody>\n",
       "    <tr>\n",
       "      <th>Major</th>\n",
       "      <td>958</td>\n",
       "    </tr>\n",
       "    <tr>\n",
       "      <th>Minor</th>\n",
       "      <td>606</td>\n",
       "    </tr>\n",
       "    <tr>\n",
       "      <th>Cosmatic</th>\n",
       "      <td>416</td>\n",
       "    </tr>\n",
       "    <tr>\n",
       "      <th>Critical</th>\n",
       "      <td>114</td>\n",
       "    </tr>\n",
       "  </tbody>\n",
       "</table>\n",
       "</div>"
      ],
      "text/plain": [
       "                count\n",
       "severity_label       \n",
       "Major             958\n",
       "Minor             606\n",
       "Cosmatic          416\n",
       "Critical          114"
      ]
     },
     "execution_count": 61,
     "metadata": {},
     "output_type": "execute_result"
    }
   ],
   "source": [
    "dfLabel=df_incident.groupby([colLabel]).size().to_frame('count').sort_values(by='count',ascending=False)\n",
    "dfLabel.plot(kind='bar')\n",
    "plt.show()\n",
    "dfLabel"
   ]
  },
  {
   "cell_type": "markdown",
   "id": "24c778cd-01c0-4c36-9ca7-cac4b5b2ce26",
   "metadata": {},
   "source": [
    "# Process features and class"
   ]
  },
  {
   "cell_type": "code",
   "execution_count": 62,
   "id": "02cc62a0-6228-4ee3-937a-cf1a9493b0ef",
   "metadata": {},
   "outputs": [
    {
     "name": "stdout",
     "output_type": "stream",
     "text": [
      "Encode by  LabelEncoder\n"
     ]
    }
   ],
   "source": [
    "# cate_features=[ col for col in features if  col not in numericFeatures ]\n",
    "if isAutomaticOneHotByColumnTransformer==False:\n",
    "    \n",
    "    if isManualEncoding==False:\n",
    "        print(\"Let XGBoost encode itself\")\n",
    "    else:\n",
    "        print(\"Encode by  LabelEncoder\")\n",
    "    features=[ col for col in list(df_incident.columns) if  col!=colLabel ]\n",
    "    X = df_incident.loc[:,features]\n",
    "    for cate_col in cateFeatures:\n",
    "        if isManualEncoding==False:\n",
    "              X[cate_col]=X[cate_col].astype(\"category\")             \n",
    "        else:  \n",
    "            cateFeatEncoder = LabelEncoder()\n",
    "            X[cate_col]=cateFeatEncoder.fit_transform(X[cate_col])\n",
    "\n",
    "else:\n",
    "        categorical_transformer = OneHotEncoder(sparse_output=False, handle_unknown=\"ignore\")\n",
    "        ct = ColumnTransformer(transformers=[(\"cat\", categorical_transformer,cateFeatures )],remainder='passthrough')\n",
    "        ct.set_output(transform='pandas')\n",
    "        X = ct.fit_transform(df_incident)\n",
    "        colLabel=f\"remainder__{colLabel}\"\n",
    "        print(f\"{colLabel} :OneHot Encoding to Fetures by ColumnTransformer\")\n",
    "        \n"
   ]
  },
  {
   "cell_type": "code",
   "execution_count": 63,
   "id": "972119e4-42f9-4707-9373-f82c68e4123a",
   "metadata": {},
   "outputs": [
    {
     "name": "stdout",
     "output_type": "stream",
     "text": [
      "<class 'pandas.core.frame.DataFrame'>\n",
      "Int64Index: 2094 entries, 0 to 2093\n",
      "Data columns (total 11 columns):\n",
      " #   Column                     Non-Null Count  Dtype  \n",
      "---  ------                     --------------  -----  \n",
      " 0   product_type               2094 non-null   int32  \n",
      " 1   brand                      2094 non-null   int32  \n",
      " 2   incident_type              2094 non-null   int32  \n",
      " 3   service_type               2094 non-null   int32  \n",
      " 4   is_failure_type            2094 non-null   int64  \n",
      " 5   sla                        2094 non-null   int32  \n",
      " 6   count_detail               2094 non-null   int64  \n",
      " 7   open_to_close_hour         2094 non-null   float64\n",
      " 8   response_to_resolved_hour  2094 non-null   float64\n",
      " 9   open_to_response_hour      2094 non-null   float64\n",
      " 10  resolved_to_close_hour     2094 non-null   float64\n",
      "dtypes: float64(4), int32(5), int64(2)\n",
      "memory usage: 155.4 KB\n",
      "None\n"
     ]
    },
    {
     "data": {
      "text/html": [
       "<div>\n",
       "<style scoped>\n",
       "    .dataframe tbody tr th:only-of-type {\n",
       "        vertical-align: middle;\n",
       "    }\n",
       "\n",
       "    .dataframe tbody tr th {\n",
       "        vertical-align: top;\n",
       "    }\n",
       "\n",
       "    .dataframe thead th {\n",
       "        text-align: right;\n",
       "    }\n",
       "</style>\n",
       "<table border=\"1\" class=\"dataframe\">\n",
       "  <thead>\n",
       "    <tr style=\"text-align: right;\">\n",
       "      <th></th>\n",
       "      <th>product_type</th>\n",
       "      <th>brand</th>\n",
       "      <th>incident_type</th>\n",
       "      <th>service_type</th>\n",
       "      <th>is_failure_type</th>\n",
       "      <th>sla</th>\n",
       "      <th>count_detail</th>\n",
       "      <th>open_to_close_hour</th>\n",
       "      <th>response_to_resolved_hour</th>\n",
       "      <th>open_to_response_hour</th>\n",
       "      <th>resolved_to_close_hour</th>\n",
       "    </tr>\n",
       "  </thead>\n",
       "  <tbody>\n",
       "    <tr>\n",
       "      <th>2089</th>\n",
       "      <td>7</td>\n",
       "      <td>19</td>\n",
       "      <td>7</td>\n",
       "      <td>1</td>\n",
       "      <td>0</td>\n",
       "      <td>2</td>\n",
       "      <td>1</td>\n",
       "      <td>67.250000</td>\n",
       "      <td>0.000000</td>\n",
       "      <td>67.250000</td>\n",
       "      <td>0.000000</td>\n",
       "    </tr>\n",
       "    <tr>\n",
       "      <th>2090</th>\n",
       "      <td>7</td>\n",
       "      <td>10</td>\n",
       "      <td>7</td>\n",
       "      <td>0</td>\n",
       "      <td>0</td>\n",
       "      <td>1</td>\n",
       "      <td>3</td>\n",
       "      <td>365.316667</td>\n",
       "      <td>169.016667</td>\n",
       "      <td>2.633333</td>\n",
       "      <td>193.666667</td>\n",
       "    </tr>\n",
       "    <tr>\n",
       "      <th>2091</th>\n",
       "      <td>7</td>\n",
       "      <td>10</td>\n",
       "      <td>7</td>\n",
       "      <td>0</td>\n",
       "      <td>0</td>\n",
       "      <td>1</td>\n",
       "      <td>2</td>\n",
       "      <td>20.166667</td>\n",
       "      <td>4.533333</td>\n",
       "      <td>0.550000</td>\n",
       "      <td>15.083333</td>\n",
       "    </tr>\n",
       "    <tr>\n",
       "      <th>2092</th>\n",
       "      <td>7</td>\n",
       "      <td>10</td>\n",
       "      <td>7</td>\n",
       "      <td>0</td>\n",
       "      <td>0</td>\n",
       "      <td>1</td>\n",
       "      <td>1</td>\n",
       "      <td>23.783333</td>\n",
       "      <td>0.000000</td>\n",
       "      <td>23.783333</td>\n",
       "      <td>0.000000</td>\n",
       "    </tr>\n",
       "    <tr>\n",
       "      <th>2093</th>\n",
       "      <td>7</td>\n",
       "      <td>10</td>\n",
       "      <td>7</td>\n",
       "      <td>0</td>\n",
       "      <td>0</td>\n",
       "      <td>1</td>\n",
       "      <td>2</td>\n",
       "      <td>31.150000</td>\n",
       "      <td>28.466667</td>\n",
       "      <td>1.450000</td>\n",
       "      <td>1.233333</td>\n",
       "    </tr>\n",
       "  </tbody>\n",
       "</table>\n",
       "</div>"
      ],
      "text/plain": [
       "      product_type  brand  incident_type  service_type  is_failure_type  sla  \\\n",
       "2089             7     19              7             1                0    2   \n",
       "2090             7     10              7             0                0    1   \n",
       "2091             7     10              7             0                0    1   \n",
       "2092             7     10              7             0                0    1   \n",
       "2093             7     10              7             0                0    1   \n",
       "\n",
       "      count_detail  open_to_close_hour  response_to_resolved_hour  \\\n",
       "2089             1           67.250000                   0.000000   \n",
       "2090             3          365.316667                 169.016667   \n",
       "2091             2           20.166667                   4.533333   \n",
       "2092             1           23.783333                   0.000000   \n",
       "2093             2           31.150000                  28.466667   \n",
       "\n",
       "      open_to_response_hour  resolved_to_close_hour  \n",
       "2089              67.250000                0.000000  \n",
       "2090               2.633333              193.666667  \n",
       "2091               0.550000               15.083333  \n",
       "2092              23.783333                0.000000  \n",
       "2093               1.450000                1.233333  "
      ]
     },
     "execution_count": 63,
     "metadata": {},
     "output_type": "execute_result"
    }
   ],
   "source": [
    "print(X.info())\n",
    "X.tail()"
   ]
  },
  {
   "cell_type": "code",
   "execution_count": 64,
   "id": "64ebda29-0811-4277-9b99-a25f850dce7e",
   "metadata": {},
   "outputs": [
    {
     "data": {
      "text/html": [
       "<div>\n",
       "<style scoped>\n",
       "    .dataframe tbody tr th:only-of-type {\n",
       "        vertical-align: middle;\n",
       "    }\n",
       "\n",
       "    .dataframe tbody tr th {\n",
       "        vertical-align: top;\n",
       "    }\n",
       "\n",
       "    .dataframe thead th {\n",
       "        text-align: right;\n",
       "    }\n",
       "</style>\n",
       "<table border=\"1\" class=\"dataframe\">\n",
       "  <thead>\n",
       "    <tr style=\"text-align: right;\">\n",
       "      <th></th>\n",
       "      <th>severity_label</th>\n",
       "    </tr>\n",
       "  </thead>\n",
       "  <tbody>\n",
       "    <tr>\n",
       "      <th>0</th>\n",
       "      <td>Major</td>\n",
       "    </tr>\n",
       "    <tr>\n",
       "      <th>1</th>\n",
       "      <td>Major</td>\n",
       "    </tr>\n",
       "    <tr>\n",
       "      <th>2</th>\n",
       "      <td>Major</td>\n",
       "    </tr>\n",
       "    <tr>\n",
       "      <th>3</th>\n",
       "      <td>Minor</td>\n",
       "    </tr>\n",
       "    <tr>\n",
       "      <th>4</th>\n",
       "      <td>Major</td>\n",
       "    </tr>\n",
       "  </tbody>\n",
       "</table>\n",
       "</div>"
      ],
      "text/plain": [
       "  severity_label\n",
       "0          Major\n",
       "1          Major\n",
       "2          Major\n",
       "3          Minor\n",
       "4          Major"
      ]
     },
     "execution_count": 64,
     "metadata": {},
     "output_type": "execute_result"
    }
   ],
   "source": [
    "if isAutomaticOneHotByColumnTransformer==False:\n",
    "    Y = df_incident.loc[:,[colLabel]]\n",
    "    Y[colLabel]=Y[colLabel].astype(\"category\")\n",
    "\n",
    "    \n",
    "else:\n",
    "    Y=X.pop(colLabel)\n",
    "    # # X=X.pop(colLabel)\n",
    "\n",
    "    print(Y.info())\n",
    "Y[:5]"
   ]
  },
  {
   "cell_type": "markdown",
   "id": "01273c27-325f-40ef-a3af-d4c78880d79c",
   "metadata": {},
   "source": [
    "# Encode string class values as integers"
   ]
  },
  {
   "cell_type": "code",
   "execution_count": 65,
   "id": "ed1016c1-4666-49ea-b101-820c26bf4019",
   "metadata": {},
   "outputs": [
    {
     "name": "stdout",
     "output_type": "stream",
     "text": [
      "['Cosmatic' 'Critical' 'Major' 'Minor']\n",
      "[3 2 2 2 2]\n"
     ]
    },
    {
     "name": "stderr",
     "output_type": "stream",
     "text": [
      "D:\\ProgramData\\Anaconda3\\envs\\dev_ml_local\\lib\\site-packages\\sklearn\\preprocessing\\_label.py:116: DataConversionWarning: A column-vector y was passed when a 1d array was expected. Please change the shape of y to (n_samples, ), for example using ravel().\n",
      "  y = column_or_1d(y, warn=True)\n"
     ]
    }
   ],
   "source": [
    "label_encoder = LabelEncoder()\n",
    "ylabelEncoded = label_encoder.fit_transform(Y)\n",
    "\n",
    "print(label_encoder.classes_)\n",
    "\n",
    "print(ylabelEncoded[-5:])"
   ]
  },
  {
   "cell_type": "markdown",
   "id": "c421d26f-ad25-46d6-a803-73e4bae8df6f",
   "metadata": {},
   "source": [
    "# Split Train and Test Data"
   ]
  },
  {
   "cell_type": "code",
   "execution_count": 66,
   "id": "258dc7a5-fdf2-4063-a0d4-0e81e86cea7e",
   "metadata": {},
   "outputs": [
    {
     "name": "stdout",
     "output_type": "stream",
     "text": [
      "(1779, 11) (315, 11)\n",
      "(1779,) (315,)\n",
      "---------------------------------------------------------------------------------------\n",
      "[0 2 2 2 2]\n"
     ]
    },
    {
     "data": {
      "text/html": [
       "<div>\n",
       "<style scoped>\n",
       "    .dataframe tbody tr th:only-of-type {\n",
       "        vertical-align: middle;\n",
       "    }\n",
       "\n",
       "    .dataframe tbody tr th {\n",
       "        vertical-align: top;\n",
       "    }\n",
       "\n",
       "    .dataframe thead th {\n",
       "        text-align: right;\n",
       "    }\n",
       "</style>\n",
       "<table border=\"1\" class=\"dataframe\">\n",
       "  <thead>\n",
       "    <tr style=\"text-align: right;\">\n",
       "      <th></th>\n",
       "      <th>product_type</th>\n",
       "      <th>brand</th>\n",
       "      <th>incident_type</th>\n",
       "      <th>service_type</th>\n",
       "      <th>is_failure_type</th>\n",
       "      <th>sla</th>\n",
       "      <th>count_detail</th>\n",
       "      <th>open_to_close_hour</th>\n",
       "      <th>response_to_resolved_hour</th>\n",
       "      <th>open_to_response_hour</th>\n",
       "      <th>resolved_to_close_hour</th>\n",
       "    </tr>\n",
       "  </thead>\n",
       "  <tbody>\n",
       "    <tr>\n",
       "      <th>1226</th>\n",
       "      <td>6</td>\n",
       "      <td>16</td>\n",
       "      <td>4</td>\n",
       "      <td>1</td>\n",
       "      <td>0</td>\n",
       "      <td>0</td>\n",
       "      <td>1</td>\n",
       "      <td>3.000000</td>\n",
       "      <td>2.983333</td>\n",
       "      <td>0.016667</td>\n",
       "      <td>0.0</td>\n",
       "    </tr>\n",
       "    <tr>\n",
       "      <th>544</th>\n",
       "      <td>5</td>\n",
       "      <td>7</td>\n",
       "      <td>7</td>\n",
       "      <td>0</td>\n",
       "      <td>0</td>\n",
       "      <td>3</td>\n",
       "      <td>1</td>\n",
       "      <td>11.833333</td>\n",
       "      <td>11.833333</td>\n",
       "      <td>0.000000</td>\n",
       "      <td>0.0</td>\n",
       "    </tr>\n",
       "    <tr>\n",
       "      <th>1157</th>\n",
       "      <td>0</td>\n",
       "      <td>2</td>\n",
       "      <td>7</td>\n",
       "      <td>0</td>\n",
       "      <td>0</td>\n",
       "      <td>0</td>\n",
       "      <td>1</td>\n",
       "      <td>1.000000</td>\n",
       "      <td>1.000000</td>\n",
       "      <td>0.000000</td>\n",
       "      <td>0.0</td>\n",
       "    </tr>\n",
       "    <tr>\n",
       "      <th>1042</th>\n",
       "      <td>5</td>\n",
       "      <td>7</td>\n",
       "      <td>7</td>\n",
       "      <td>0</td>\n",
       "      <td>0</td>\n",
       "      <td>0</td>\n",
       "      <td>1</td>\n",
       "      <td>6.850000</td>\n",
       "      <td>6.666667</td>\n",
       "      <td>0.183333</td>\n",
       "      <td>0.0</td>\n",
       "    </tr>\n",
       "    <tr>\n",
       "      <th>194</th>\n",
       "      <td>2</td>\n",
       "      <td>12</td>\n",
       "      <td>8</td>\n",
       "      <td>0</td>\n",
       "      <td>0</td>\n",
       "      <td>0</td>\n",
       "      <td>1</td>\n",
       "      <td>52.000000</td>\n",
       "      <td>47.750000</td>\n",
       "      <td>0.250000</td>\n",
       "      <td>4.0</td>\n",
       "    </tr>\n",
       "  </tbody>\n",
       "</table>\n",
       "</div>"
      ],
      "text/plain": [
       "      product_type  brand  incident_type  service_type  is_failure_type  sla  \\\n",
       "1226             6     16              4             1                0    0   \n",
       "544              5      7              7             0                0    3   \n",
       "1157             0      2              7             0                0    0   \n",
       "1042             5      7              7             0                0    0   \n",
       "194              2     12              8             0                0    0   \n",
       "\n",
       "      count_detail  open_to_close_hour  response_to_resolved_hour  \\\n",
       "1226             1            3.000000                   2.983333   \n",
       "544              1           11.833333                  11.833333   \n",
       "1157             1            1.000000                   1.000000   \n",
       "1042             1            6.850000                   6.666667   \n",
       "194              1           52.000000                  47.750000   \n",
       "\n",
       "      open_to_response_hour  resolved_to_close_hour  \n",
       "1226               0.016667                     0.0  \n",
       "544                0.000000                     0.0  \n",
       "1157               0.000000                     0.0  \n",
       "1042               0.183333                     0.0  \n",
       "194                0.250000                     4.0  "
      ]
     },
     "execution_count": 66,
     "metadata": {},
     "output_type": "execute_result"
    }
   ],
   "source": [
    "seed = 7\n",
    "test_size = 0.15\n",
    "X_train, X_test, y_train, y_test = train_test_split(X, ylabelEncoded, test_size=test_size, random_state=seed)\n",
    "print(X_train.shape,X_test.shape)\n",
    "print(y_train.shape,y_test.shape)\n",
    "\n",
    "print(\"---------------------------------------------------------------------------------------\")\n",
    "print(y_train[:5])\n",
    "X_train[:5]\n",
    "\n"
   ]
  },
  {
   "cell_type": "markdown",
   "id": "7f0816d4-4a32-464e-a110-7519cd7a15a4",
   "metadata": {},
   "source": [
    "# RandomForest"
   ]
  },
  {
   "cell_type": "code",
   "execution_count": 67,
   "id": "34b3169a-05ae-434f-941a-c629083da459",
   "metadata": {},
   "outputs": [
    {
     "name": "stdout",
     "output_type": "stream",
     "text": [
      "RandomForest Accuracy: 80.00%\n"
     ]
    }
   ],
   "source": [
    "model_rf = RandomForestClassifier()  \n",
    "\n",
    "model_rf.fit(X_train, y_train)\n",
    "\n",
    "y_pred_rf = model_rf.predict(X_test)\n",
    "predictions_rf = [round(value) for value in y_pred_rf]\n",
    "\n",
    "accuracy_rf = accuracy_score(y_test, predictions_rf)\n",
    "print(\"RandomForest Accuracy: %.2f%%\" % (accuracy_rf * 100.0))"
   ]
  },
  {
   "cell_type": "code",
   "execution_count": null,
   "id": "5b497e4c-de89-4f0a-8f1a-db224eeed557",
   "metadata": {},
   "outputs": [],
   "source": []
  },
  {
   "cell_type": "markdown",
   "id": "75fcb321-e7b1-4e95-bf7d-ac63c1b68783",
   "metadata": {},
   "source": [
    "# XGBoost "
   ]
  },
  {
   "cell_type": "code",
   "execution_count": 68,
   "id": "54cc4b9c-fd5a-42dd-9cd2-5d803c4ab60e",
   "metadata": {},
   "outputs": [
    {
     "name": "stdout",
     "output_type": "stream",
     "text": [
      "XGBClassifier()\n",
      "XGBoost Accuracy: 78.73%\n"
     ]
    }
   ],
   "source": [
    "# Supported tree methods are `gpu_hist`, `approx`, and `hist`.\n",
    "if isManualEncoding==True or isAutomaticOneHotByColumnTransformer==True:\n",
    "    print(\"XGBClassifier()\")\n",
    "    model_xg = XGBClassifier()\n",
    "else:\n",
    "   print(\"XGBClassifier(enable_categorical=True,tree_method=hist)\")\n",
    "   model_xg = XGBClassifier(enable_categorical=True,tree_method=\"hist\")\n",
    "\n",
    "# print(model_xg)\n",
    "model_xg.fit(X_train, y_train)\n",
    "\n",
    "y_pred_xg = model_xg.predict(X_test)\n",
    "predictions_xg = [round(value) for value in y_pred_xg]\n",
    "\n",
    "accuracy_xg = accuracy_score(y_test, predictions_xg)\n",
    "print(\"XGBoost Accuracy: %.2f%%\" % (accuracy_xg * 100.0))"
   ]
  },
  {
   "cell_type": "markdown",
   "id": "92ca3b64-c90a-47a6-ada7-e1a739f1eda3",
   "metadata": {},
   "source": [
    "# Feature Important"
   ]
  },
  {
   "cell_type": "code",
   "execution_count": 71,
   "id": "0b401945-7325-4dda-b21c-6c2f1add71a0",
   "metadata": {},
   "outputs": [
    {
     "name": "stdout",
     "output_type": "stream",
     "text": [
      "service_type                 0.534350\n",
      "is_failure_type              0.071407\n",
      "brand                        0.061659\n",
      "product_type                 0.054416\n",
      "resolved_to_close_hour       0.051134\n",
      "count_detail                 0.051083\n",
      "sla                          0.050865\n",
      "incident_type                0.034926\n",
      "open_to_response_hour        0.031893\n",
      "response_to_resolved_hour    0.031725\n",
      "open_to_close_hour           0.026540\n",
      "dtype: float32\n"
     ]
    },
    {
     "data": {
      "image/png": "[encoded data removed]",
      "text/plain": [
       "<Figure size 640x480 with 1 Axes>"
      ]
     },
     "metadata": {},
     "output_type": "display_data"
    }
   ],
   "source": [
    "feature_series=pd.Series(model_xg.feature_importances_, index=X.columns).sort_values(ascending=False)\n",
    "print(feature_series)\n",
    "feature_series.plot(kind='barh')\n",
    "plt.show()"
   ]
  },
  {
   "cell_type": "code",
   "execution_count": 72,
   "id": "025726ba-5706-43ee-b338-94e81b0c9b9e",
   "metadata": {},
   "outputs": [
    {
     "name": "stdout",
     "output_type": "stream",
     "text": [
      "service_type                 0.178898\n",
      "open_to_close_hour           0.138013\n",
      "response_to_resolved_hour    0.129936\n",
      "open_to_response_hour        0.127869\n",
      "brand                        0.091057\n",
      "incident_type                0.084440\n",
      "count_detail                 0.067623\n",
      "product_type                 0.066609\n",
      "resolved_to_close_hour       0.060911\n",
      "sla                          0.048913\n",
      "is_failure_type              0.005731\n",
      "dtype: float64\n"
     ]
    },
    {
     "data": {
      "image/png": "[encoded data removed]",
      "text/plain": [
       "<Figure size 640x480 with 1 Axes>"
      ]
     },
     "metadata": {},
     "output_type": "display_data"
    }
   ],
   "source": [
    "feature_series=pd.Series(model_rf.feature_importances_, index=X.columns).sort_values(ascending=False)\n",
    "print(feature_series)\n",
    "feature_series.plot(kind='barh')\n",
    "plt.show()"
   ]
  },
  {
   "cell_type": "code",
   "execution_count": null,
   "id": "3c888751-d444-46e2-9a66-7a8caf4f452c",
   "metadata": {},
   "outputs": [],
   "source": []
  },
  {
   "cell_type": "code",
   "execution_count": null,
   "id": "1ff5994d-4e86-4cfa-9d59-74bb149c7fbb",
   "metadata": {},
   "outputs": [],
   "source": []
  }
 ],
 "metadata": {
  "kernelspec": {
   "display_name": "Python 3 (ipykernel)",
   "language": "python",
   "name": "python3"
  },
  "language_info": {
   "codemirror_mode": {
    "name": "ipython",
    "version": 3
   },
   "file_extension": ".py",
   "mimetype": "text/x-python",
   "name": "python",
   "nbconvert_exporter": "python",
   "pygments_lexer": "ipython3",
   "version": "3.9.16"
  }
 },
 "nbformat": 4,
 "nbformat_minor": 5
}
