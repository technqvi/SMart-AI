{
 "cells": [
  {
   "cell_type": "code",
   "execution_count": 117,
   "id": "5399b8df-1ce2-4a84-a7de-e596dc57cff2",
   "metadata": {},
   "outputs": [],
   "source": [
    "import pandas as pd\n",
    "from xgboost import XGBClassifier\n",
    "from sklearn.ensemble import RandomForestClassifier\n",
    "from sklearn.model_selection import train_test_split\n",
    "from sklearn.metrics import accuracy_score\n",
    "from sklearn.preprocessing import LabelEncoder\n",
    "\n",
    "# chrome://bookmarks/?q=xgboost"
   ]
  },
  {
   "cell_type": "markdown",
   "id": "b5f52e80-e704-45ab-a634-ee82e779feb5",
   "metadata": {},
   "source": [
    "# Load and Prepare Data"
   ]
  },
  {
   "cell_type": "code",
   "execution_count": 118,
   "id": "cc7ff82d-8ac8-4792-ad6a-d20852c33f5b",
   "metadata": {},
   "outputs": [
    {
     "name": "stdout",
     "output_type": "stream",
     "text": [
      "<class 'pandas.core.frame.DataFrame'>\n",
      "Int64Index: 1925 entries, 0 to 1938\n",
      "Data columns (total 8 columns):\n",
      " #   Column                     Non-Null Count  Dtype \n",
      "---  ------                     --------------  ----- \n",
      " 0   productype_name            1925 non-null   object\n",
      " 1   brand_name                 1925 non-null   object\n",
      " 2   sla_name                   1925 non-null   object\n",
      " 3   warranty_months            1925 non-null   int64 \n",
      " 4   incident_type_name         1925 non-null   object\n",
      " 5   service_type_name          1925 non-null   object\n",
      " 6   incident_response_minutes  1925 non-null   int64 \n",
      " 7   severity_class             1925 non-null   object\n",
      "dtypes: int64(2), object(6)\n",
      "memory usage: 135.4+ KB\n",
      "None\n"
     ]
    },
    {
     "data": {
      "text/html": [
       "<div>\n",
       "<style scoped>\n",
       "    .dataframe tbody tr th:only-of-type {\n",
       "        vertical-align: middle;\n",
       "    }\n",
       "\n",
       "    .dataframe tbody tr th {\n",
       "        vertical-align: top;\n",
       "    }\n",
       "\n",
       "    .dataframe thead th {\n",
       "        text-align: right;\n",
       "    }\n",
       "</style>\n",
       "<table border=\"1\" class=\"dataframe\">\n",
       "  <thead>\n",
       "    <tr style=\"text-align: right;\">\n",
       "      <th></th>\n",
       "      <th>productype_name</th>\n",
       "      <th>brand_name</th>\n",
       "      <th>sla_name</th>\n",
       "      <th>warranty_months</th>\n",
       "      <th>incident_type_name</th>\n",
       "      <th>service_type_name</th>\n",
       "      <th>incident_response_minutes</th>\n",
       "      <th>severity_class</th>\n",
       "    </tr>\n",
       "  </thead>\n",
       "  <tbody>\n",
       "    <tr>\n",
       "      <th>1934</th>\n",
       "      <td>Storage</td>\n",
       "      <td>NetApp</td>\n",
       "      <td>24x7 4Hrs Response Time</td>\n",
       "      <td>24</td>\n",
       "      <td>General Incident</td>\n",
       "      <td>Request</td>\n",
       "      <td>17</td>\n",
       "      <td>Minor</td>\n",
       "    </tr>\n",
       "    <tr>\n",
       "      <th>1935</th>\n",
       "      <td>Software</td>\n",
       "      <td>VMWare</td>\n",
       "      <td>24x7 4Hrs Response Time</td>\n",
       "      <td>11</td>\n",
       "      <td>General Incident</td>\n",
       "      <td>Incident</td>\n",
       "      <td>18</td>\n",
       "      <td>Minor</td>\n",
       "    </tr>\n",
       "    <tr>\n",
       "      <th>1936</th>\n",
       "      <td>Storage</td>\n",
       "      <td>NetApp</td>\n",
       "      <td>24x7 4Hrs Response Time</td>\n",
       "      <td>11</td>\n",
       "      <td>Configuration Change</td>\n",
       "      <td>Request</td>\n",
       "      <td>11</td>\n",
       "      <td>Cosmatic</td>\n",
       "    </tr>\n",
       "    <tr>\n",
       "      <th>1937</th>\n",
       "      <td>Storage</td>\n",
       "      <td>NetApp</td>\n",
       "      <td>24x7 6Hrs Resolution Time</td>\n",
       "      <td>54</td>\n",
       "      <td>OS / Firmware</td>\n",
       "      <td>Incident</td>\n",
       "      <td>17</td>\n",
       "      <td>Minor</td>\n",
       "    </tr>\n",
       "    <tr>\n",
       "      <th>1938</th>\n",
       "      <td>Storage</td>\n",
       "      <td>NetApp</td>\n",
       "      <td>24x7 6Hrs Resolution Time</td>\n",
       "      <td>54</td>\n",
       "      <td>General Incident</td>\n",
       "      <td>Request</td>\n",
       "      <td>44</td>\n",
       "      <td>Minor</td>\n",
       "    </tr>\n",
       "  </tbody>\n",
       "</table>\n",
       "</div>"
      ],
      "text/plain": [
       "     productype_name brand_name                   sla_name  warranty_months  \\\n",
       "1934         Storage     NetApp    24x7 4Hrs Response Time               24   \n",
       "1935        Software     VMWare    24x7 4Hrs Response Time               11   \n",
       "1936         Storage     NetApp    24x7 4Hrs Response Time               11   \n",
       "1937         Storage     NetApp  24x7 6Hrs Resolution Time               54   \n",
       "1938         Storage     NetApp  24x7 6Hrs Resolution Time               54   \n",
       "\n",
       "        incident_type_name service_type_name  incident_response_minutes  \\\n",
       "1934      General Incident           Request                         17   \n",
       "1935      General Incident          Incident                         18   \n",
       "1936  Configuration Change           Request                         11   \n",
       "1937         OS / Firmware          Incident                         17   \n",
       "1938      General Incident           Request                         44   \n",
       "\n",
       "     severity_class  \n",
       "1934          Minor  \n",
       "1935          Minor  \n",
       "1936       Cosmatic  \n",
       "1937          Minor  \n",
       "1938          Minor  "
      ]
     },
     "execution_count": 118,
     "metadata": {},
     "output_type": "execute_result"
    }
   ],
   "source": [
    "df_incident = pd.read_csv('data/incident_dataset_trainTo151222.csv')\n",
    "df_incident=df_incident.query(\"incident_response_minutes>=0\")\n",
    "df_incident=df_incident.dropna(how='all')\n",
    "print(df_incident.info())\n",
    "df_incident.tail()"
   ]
  },
  {
   "cell_type": "markdown",
   "id": "24c778cd-01c0-4c36-9ca7-cac4b5b2ce26",
   "metadata": {},
   "source": [
    "# Split features and class"
   ]
  },
  {
   "cell_type": "code",
   "execution_count": 119,
   "id": "02cc62a0-6228-4ee3-937a-cf1a9493b0ef",
   "metadata": {},
   "outputs": [
    {
     "name": "stdout",
     "output_type": "stream",
     "text": [
      "<class 'pandas.core.frame.DataFrame'>\n",
      "Int64Index: 1925 entries, 0 to 1938\n",
      "Data columns (total 7 columns):\n",
      " #   Column                     Non-Null Count  Dtype   \n",
      "---  ------                     --------------  -----   \n",
      " 0   productype_name            1925 non-null   category\n",
      " 1   brand_name                 1925 non-null   category\n",
      " 2   sla_name                   1925 non-null   category\n",
      " 3   warranty_months            1925 non-null   int64   \n",
      " 4   incident_type_name         1925 non-null   category\n",
      " 5   service_type_name          1925 non-null   category\n",
      " 6   incident_response_minutes  1925 non-null   int64   \n",
      "dtypes: category(5), int64(2)\n",
      "memory usage: 56.6 KB\n"
     ]
    }
   ],
   "source": [
    "target_class='severity_class'\n",
    "features=[ col for col in list(df_incident.columns) if  col!=class_target ]\n",
    "X = df_incident.loc[:,features]\n",
    "Y = df_incident.loc[:,target_class]\n",
    "\n",
    "cate_features=[ col for col in features if  col not in ['warranty_months','incident_response_minutes'] ]\n",
    "for cate_col in cate_features:\n",
    "  X[cate_col]=X[cate_col].astype(\"category\")\n",
    "\n",
    "X.info()"
   ]
  },
  {
   "cell_type": "code",
   "execution_count": 120,
   "id": "6d35d9e9-db37-437d-b648-7bff3e1e0a70",
   "metadata": {},
   "outputs": [
    {
     "name": "stdout",
     "output_type": "stream",
     "text": [
      "=================================Features=============================\n",
      "     productype_name brand_name                   sla_name  warranty_months  \\\n",
      "1934         Storage     NetApp    24x7 4Hrs Response Time               24   \n",
      "1935        Software     VMWare    24x7 4Hrs Response Time               11   \n",
      "1936         Storage     NetApp    24x7 4Hrs Response Time               11   \n",
      "1937         Storage     NetApp  24x7 6Hrs Resolution Time               54   \n",
      "1938         Storage     NetApp  24x7 6Hrs Resolution Time               54   \n",
      "\n",
      "        incident_type_name service_type_name  incident_response_minutes  \n",
      "1934      General Incident           Request                         17  \n",
      "1935      General Incident          Incident                         18  \n",
      "1936  Configuration Change           Request                         11  \n",
      "1937         OS / Firmware          Incident                         17  \n",
      "1938      General Incident           Request                         44  \n",
      "=================================Target Class=============================\n",
      "1934       Minor\n",
      "1935       Minor\n",
      "1936    Cosmatic\n",
      "1937       Minor\n",
      "1938       Minor\n",
      "Name: severity_class, dtype: object\n"
     ]
    },
    {
     "name": "stderr",
     "output_type": "stream",
     "text": [
      "C:\\Users\\pongthsa\\AppData\\Local\\Temp\\ipykernel_18660\\3583843016.py:4: FutureWarning: The behavior of `series[i:j]` with an integer-dtype index is deprecated. In a future version, this will be treated as *label-based* indexing, consistent with e.g. `series[i]` lookups. To retain the old behavior, use `series.iloc[i:j]`. To get the future behavior, use `series.loc[i:j]`.\n",
      "  print(Y[-5:])\n"
     ]
    }
   ],
   "source": [
    "print(\"=================================Features=============================\")\n",
    "print(X.tail())\n",
    "print(\"=================================Target Class=============================\")\n",
    "print(Y[-5:])"
   ]
  },
  {
   "cell_type": "markdown",
   "id": "01273c27-325f-40ef-a3af-d4c78880d79c",
   "metadata": {},
   "source": [
    "# Encode string class values as integers"
   ]
  },
  {
   "cell_type": "code",
   "execution_count": 121,
   "id": "ed1016c1-4666-49ea-b101-820c26bf4019",
   "metadata": {},
   "outputs": [
    {
     "name": "stdout",
     "output_type": "stream",
     "text": [
      "[3 3 0 3 3]\n"
     ]
    }
   ],
   "source": [
    "label_encoder = LabelEncoder()\n",
    "label_encoder = label_encoder.fit(Y)\n",
    "label_encoded_y = label_encoder.transform(Y)\n",
    "print(label_encoded_y[-5:])"
   ]
  },
  {
   "cell_type": "markdown",
   "id": "c421d26f-ad25-46d6-a803-73e4bae8df6f",
   "metadata": {},
   "source": [
    "# Split Train and Test Data"
   ]
  },
  {
   "cell_type": "code",
   "execution_count": 122,
   "id": "258dc7a5-fdf2-4063-a0d4-0e81e86cea7e",
   "metadata": {},
   "outputs": [
    {
     "name": "stdout",
     "output_type": "stream",
     "text": [
      "(1540, 7) (385, 7)\n",
      "(1540,) (385,)\n"
     ]
    }
   ],
   "source": [
    "seed = 7\n",
    "test_size = 0.2\n",
    "X_train, X_test, y_train, y_test = train_test_split(X, label_encoded_y, test_size=test_size, random_state=seed)\n",
    "print(X_train.shape,X_test.shape)\n",
    "print(y_train.shape,y_test.shape)"
   ]
  },
  {
   "cell_type": "markdown",
   "id": "75fcb321-e7b1-4e95-bf7d-ac63c1b68783",
   "metadata": {},
   "source": [
    "# XGBoost Fit model no training data and Predict"
   ]
  },
  {
   "cell_type": "code",
   "execution_count": 123,
   "id": "54cc4b9c-fd5a-42dd-9cd2-5d803c4ab60e",
   "metadata": {},
   "outputs": [
    {
     "name": "stdout",
     "output_type": "stream",
     "text": [
      "XGBClassifier(base_score=0.5, booster='gbtree', callbacks=None,\n",
      "              colsample_bylevel=1, colsample_bynode=1, colsample_bytree=1,\n",
      "              early_stopping_rounds=None, enable_categorical=True,\n",
      "              eval_metric=None, gamma=0, gpu_id=-1, grow_policy='depthwise',\n",
      "              importance_type=None, interaction_constraints='',\n",
      "              learning_rate=0.300000012, max_bin=256, max_cat_to_onehot=4,\n",
      "              max_delta_step=0, max_depth=6, max_leaves=0, min_child_weight=1,\n",
      "              missing=nan, monotone_constraints='()', n_estimators=100,\n",
      "              n_jobs=0, num_parallel_tree=1, objective='multi:softprob',\n",
      "              predictor='auto', random_state=0, reg_alpha=0, ...)\n"
     ]
    }
   ],
   "source": [
    "# Supported tree methods are `gpu_hist`, `approx`, and `hist`.\n",
    "model_xg = XGBClassifier(enable_categorical=True,tree_method=\"hist\")\n",
    "\n",
    "model_xg.fit(X_train, y_train)\n",
    "print(model_xg)"
   ]
  },
  {
   "cell_type": "code",
   "execution_count": 124,
   "id": "9aaae547-9ac1-47d2-bbf7-cbcfae1eabb6",
   "metadata": {},
   "outputs": [
    {
     "name": "stdout",
     "output_type": "stream",
     "text": [
      "XGBoost Accuracy: 76.10%\n"
     ]
    }
   ],
   "source": [
    "y_pred_xg = model.predict(X_test)\n",
    "predictions_xg = [round(value) for value in y_pred_xg]\n",
    "\n",
    "accuracy_xg = accuracy_score(y_test, predictions_xg)\n",
    "print(\"XGBoost Accuracy: %.2f%%\" % (accuracy_xg * 100.0))"
   ]
  },
  {
   "cell_type": "markdown",
   "id": "92ca3b64-c90a-47a6-ada7-e1a739f1eda3",
   "metadata": {},
   "source": [
    "# Feature Important"
   ]
  },
  {
   "cell_type": "code",
   "execution_count": 129,
   "id": "0b401945-7325-4dda-b21c-6c2f1add71a0",
   "metadata": {},
   "outputs": [
    {
     "data": {
      "text/plain": [
       "service_type_name            0.652103\n",
       "brand_name                   0.093279\n",
       "incident_type_name           0.062424\n",
       "sla_name                     0.057586\n",
       "productype_name              0.055175\n",
       "warranty_months              0.046776\n",
       "incident_response_minutes    0.032656\n",
       "dtype: float32"
      ]
     },
     "execution_count": 129,
     "metadata": {},
     "output_type": "execute_result"
    }
   ],
   "source": [
    "import matplotlib.pyplot  as plt\n",
    "feature_series=pd.Series(model_xg.feature_importances_, index=X.columns).sort_values(ascending=False)\n",
    "feature_series"
   ]
  },
  {
   "cell_type": "code",
   "execution_count": 130,
   "id": "025726ba-5706-43ee-b338-94e81b0c9b9e",
   "metadata": {},
   "outputs": [
    {
     "data": {
      "image/png": "[encoded data removed]",
      "text/plain": [
       "<Figure size 640x480 with 1 Axes>"
      ]
     },
     "metadata": {},
     "output_type": "display_data"
    }
   ],
   "source": [
    "feature_series.plot(kind='barh')\n",
    "plt.show()"
   ]
  },
  {
   "cell_type": "code",
   "execution_count": null,
   "id": "3c888751-d444-46e2-9a66-7a8caf4f452c",
   "metadata": {},
   "outputs": [],
   "source": []
  }
 ],
 "metadata": {
  "kernelspec": {
   "display_name": "Python 3 (ipykernel)",
   "language": "python",
   "name": "python3"
  },
  "language_info": {
   "codemirror_mode": {
    "name": "ipython",
    "version": 3
   },
   "file_extension": ".py",
   "mimetype": "text/x-python",
   "name": "python",
   "nbconvert_exporter": "python",
   "pygments_lexer": "ipython3",
   "version": "3.9.13"
  }
 },
 "nbformat": 4,
 "nbformat_minor": 5
}
