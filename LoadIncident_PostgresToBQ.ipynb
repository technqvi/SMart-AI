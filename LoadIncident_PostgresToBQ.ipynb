{
 "cells": [
  {
   "cell_type": "code",
   "execution_count": null,
   "id": "8c39b3f6-bba0-4a86-a7e9-06936925e4e2",
   "metadata": {},
   "outputs": [],
   "source": [
    "import psycopg2\n",
    "import psycopg2.extras as extras\n",
    "import pandas as pd\n",
    "import json\n",
    "from datetime import datetime,timezone\n",
    "\n",
    "from dotenv import dotenv_values\n",
    "\n",
    "from google.cloud import bigquery\n",
    "from google.cloud.exceptions import NotFound\n",
    "from google.api_core.exceptions import BadRequest\n",
    "from google.oauth2 import service_account\n",
    "\n",
    "from dotenv import dotenv_values\n",
    "# https://cloud.google.com/bigquery/docs/quickstarts/quickstart-client-libraries\n",
    "# https://codelabs.developers.google.com/codelabs/cloud-bigquery-python#0\n",
    "\n",
    "# https://cloud.google.com/iam/docs/service-accounts-create#iam-service-accounts-create-console\n",
    "# https://cloud.google.com/python/docs/setup\u000b",
    "\n",
    "# https://cloud.google.com/apis/docs/getting-started#enabling_apis\n",
    "\n",
    "# https://cloud.google.com/bigquery/docs/reference/libraries\n",
    "# https://cloud.google.com/python/docs/reference/bigquery/latest\n",
    "# https://gcloud.readthedocs.io/en/latest/bigquery-client.html\n"
   ]
  },
  {
   "cell_type": "code",
   "execution_count": null,
   "id": "6bd520f3-6f59-4a14-a4e5-6361ae0ce539",
   "metadata": {},
   "outputs": [],
   "source": [
    "# credentials = service_account.Credentials.from_service_account_file(r'C:\\Windows\\xxxxxx.json')\n",
    "# print(credentials.project_id)"
   ]
  },
  {
   "cell_type": "code",
   "execution_count": null,
   "id": "8198452e-7971-480f-a2eb-e9e692834ba5",
   "metadata": {},
   "outputs": [],
   "source": [
    "start_date_query='2020-01-01'\n",
    "\n",
    "projectId='pongthorn'  # smart-data-ml\n",
    "dataset_id='SMartDW'\n",
    "table_id = f\"{projectId}.{dataset_id}.incident\"\n",
    "\n",
    "env_path='.env'\n",
    "config = dotenv_values(dotenv_path=env_path)"
   ]
  },
  {
   "cell_type": "code",
   "execution_count": null,
   "id": "db30fc8f-4269-4ede-a3b8-2b0a47673592",
   "metadata": {},
   "outputs": [],
   "source": [
    "# client = bigquery.Client(credentials= credentials,project=projectId)\n",
    "client = bigquery.Client(project=projectId)"
   ]
  },
  {
   "cell_type": "code",
   "execution_count": null,
   "id": "006faf12-708d-41d8-a92e-e675cd0fd1a5",
   "metadata": {},
   "outputs": [],
   "source": [
    "try:\n",
    "    table=client.get_table(table_id)  # Make an API request.\n",
    "    print(\"Table {} already exists.\".format(table_id))\n",
    "    print(table.schema)\n",
    "except NotFound:\n",
    "    raise Exception(\"Table {} is not found.\".format(table_id))"
   ]
  },
  {
   "cell_type": "code",
   "execution_count": null,
   "id": "48f7377b-387e-4a65-968b-64d7cf8d70dc",
   "metadata": {},
   "outputs": [],
   "source": [
    "dt_imported=datetime.now(timezone.utc) # utc\n",
    "#dt_imported=datetime.now() # utc\n",
    "str_imported=dt_imported.strftime('%Y-%m-%d %H:%M:%S')\n",
    "print(f\"Imported DateTime: {str_imported}\" )"
   ]
  },
  {
   "cell_type": "code",
   "execution_count": null,
   "id": "48f260bb-88f8-4f97-97d2-b7a5f3142a45",
   "metadata": {},
   "outputs": [],
   "source": [
    "sql_lastImport=f\"SELECT max(imported_at) as last_imported from `{table_id}` where open_datetime>='{start_date_query}' \"\n",
    "job_lastImported=client.query(sql_lastImport)\n",
    "str_lastImported=None\n",
    "for row in job_lastImported:    \n",
    "    if row.last_imported is not None: \n",
    "        str_lastImported=row.last_imported.strftime('%Y-%m-%d %H:%M:%S')\n",
    "print(f\"Last Imported DateTime: {str_lastImported}\" )\n",
    "\n",
    "if str_lastImported is not None:\n",
    "  start_date_query=str_lastImported\n",
    "\n",
    "print(f\"Start Import on update_at of last imported date : {start_date_query}\" )"
   ]
  },
  {
   "cell_type": "code",
   "execution_count": null,
   "id": "02058f8d-cc89-4eea-8fd4-1c7995a0a6cf",
   "metadata": {},
   "outputs": [],
   "source": [
    "def get_postgres_conn():\n",
    " try:\n",
    "  conn = psycopg2.connect(\n",
    "        database=config['DATABASES_NAME'], user=config['DATABASES_USER'],\n",
    "      password=config['DATABASES_PASSWORD'], host=config['DATABASES_HOST']\n",
    "     )\n",
    "  return conn\n",
    "\n",
    " except Exception as error:\n",
    "  print(error)      \n",
    "  raise error\n",
    "def list_data(sql,params,connection):\n",
    " df=None   \n",
    " with connection.cursor() as cursor:\n",
    "    \n",
    "    if params is None:\n",
    "       cursor.execute(sql)\n",
    "    else:\n",
    "       cursor.execute(sql,params)\n",
    "    \n",
    "    columns = [col[0] for col in cursor.description]\n",
    "    dataList = [dict(zip(columns, row)) for row in cursor.fetchall()]\n",
    "    df = pd.DataFrame(data=dataList) \n",
    " return df "
   ]
  },
  {
   "cell_type": "code",
   "execution_count": null,
   "id": "b1c895bd-11bd-4e29-8d2b-3f2cec660c3f",
   "metadata": {},
   "outputs": [],
   "source": [
    "# check schema \n",
    "#,timezone('UTC', incident.updated_at) as updated_at_utc\n",
    "# and incident.updated_at>=%(start_date_param)s\n",
    "sql_incident=f\"\"\"\n",
    "\n",
    "select\n",
    "incident.id as id, incident.incident_no as incident_no,\n",
    "\n",
    "severity.id as  severity_id,\n",
    "severity.severity_name as  severity_name,\n",
    "\n",
    "service_level.sla_name as sla,\n",
    "\n",
    "product_type.productype_name as product_type,brand.brand_name as brand,\n",
    "\n",
    "xtype.incident_type_name as incident_type,\n",
    "status.incident_status_name as status,\n",
    "service.service_type_name service_type,\n",
    "\n",
    "model.model_name as model,CASE WHEN failure_type IS NULL THEN  0 ELSE 1 END AS is_failure_type,\n",
    "\n",
    "\n",
    "(select count(*) from  app_incident_detail  as detail where  detail.incident_master_id=incident.id ) as count_detail\n",
    "\n",
    "\n",
    ",TO_CHAR(incident.incident_datetime  AT TIME ZONE 'Asia/Bangkok','YYYY-MM-DD HH24:MI') as open_datetime\n",
    ",TO_CHAR(incident.incident_close_datetime  AT TIME ZONE 'Asia/Bangkok','YYYY-MM-DD HH24:MI') as close_datetime\n",
    "\n",
    ",TO_CHAR(incident.incident_problem_start  AT TIME ZONE 'Asia/Bangkok','YYYY-MM-DD HH24:MI') as response_datetime\n",
    ",TO_CHAR(incident.incident_problem_end  AT TIME ZONE 'Asia/Bangkok','YYYY-MM-DD HH24:MI') as resolved_datetime\n",
    "\n",
    ",company.company_name as company\n",
    ",TO_CHAR(incident.updated_at,'YYYY-MM-DD HH24:MI:SS') as updated_at \n",
    "\n",
    "from app_incident as incident\n",
    "inner join app_incident_type as  xtype on incident.incident_type_id = xtype.id\n",
    "inner join  app_incident_status as status on incident.incident_status_id = status.id\n",
    "inner join  app_incident_severity as severity on  incident.incident_severity_id = severity.id\n",
    "inner join  app_service_type as service on incident.service_type_id= service.id\n",
    "\n",
    "inner join app_inventory as inventory on incident.inventory_id = inventory.id\n",
    "\n",
    "inner join app_brand as brand on inventory.brand_id = brand.id\n",
    "inner join app_model as model on inventory.model_id = model.id\n",
    "inner join app_product_type as product_type on inventory.product_type_id = product_type.id\n",
    "inner join app_sla as service_level on inventory.customer_sla_id = service_level.id\n",
    "\n",
    "inner join app_project as project on inventory.project_id = project.id\n",
    "inner join app_company as company on project.company_id = company.id\n",
    "\n",
    "where incident.incident_status_id =4\n",
    "and timezone('UTC', incident.updated_at)>='{start_date_query}'\n",
    "\n",
    "order by incident.updated_at \n",
    "\n",
    "\"\"\"\n",
    "\n",
    "# and timezone('UTC', incident.updated_at)>=%(start_date_param)s\n",
    "print(sql_incident)"
   ]
  },
  {
   "cell_type": "code",
   "execution_count": null,
   "id": "334b3f28-23d2-4d07-a74c-c405129bd466",
   "metadata": {},
   "outputs": [],
   "source": [
    "print(\"Create all issues dataframe\")\n",
    "#and timezone('UTC', incident.updated_at)>=%(start_date_param)s\n",
    "# dict_params={\"start_date_param\":start_date_query}\n",
    "# df_all=list_data(sql_incident,dict_params,get_postgres_conn())\n",
    "\n",
    "\n",
    "df_all=list_data(sql_incident,dict_params,get_postgres_conn())\n",
    "\n",
    "if df_all.empty==True:\n",
    "    print(\"no transsaction update\")\n",
    "    exit()\n",
    "else:\n",
    "    print(\"import data to bigquery\")\n",
    "print(df_all.info())\n",
    "df_all.tail()"
   ]
  },
  {
   "cell_type": "code",
   "execution_count": null,
   "id": "61aa2f70-16ee-41e5-b531-6548708042f2",
   "metadata": {},
   "outputs": [],
   "source": [
    "# convert object to datetime\n",
    "dateTimeCols=['open_datetime','response_datetime','resolved_datetime','close_datetime']\n",
    "for col in dateTimeCols:\n",
    " df_all[col]=pd.to_datetime(df_all[col], format='%Y-%m-%d %H:%M',errors= 'coerce')\n",
    "\n",
    "dateTimeCols2=['updated_at']\n",
    "for col in dateTimeCols2:\n",
    " df_all[col]=pd.to_datetime(df_all[col], format='%Y-%m-%d %H:%M:%S',errors= 'coerce')\n",
    "\n",
    "# UTC Import\n",
    "df_all['imported_at']=dt_imported"
   ]
  },
  {
   "cell_type": "code",
   "execution_count": null,
   "id": "fea0af81-42b8-462d-9aba-e791b23a62d6",
   "metadata": {},
   "outputs": [],
   "source": [
    "df_all.dropna(inplace=True)\n",
    "\n",
    "#df_all=df_all.head(10)\n",
    "print(df_all.info())\n",
    "df_all.head(10)"
   ]
  },
  {
   "cell_type": "code",
   "execution_count": null,
   "id": "8af8d43a-61d2-4a8e-94f3-0f96447a2a5a",
   "metadata": {},
   "outputs": [],
   "source": [
    "def insertDataFrameToBQ(df_trasns):\n",
    "    try:\n",
    "        job_config = bigquery.LoadJobConfig(\n",
    "            write_disposition=\"WRITE_APPEND\",\n",
    "        )\n",
    "\n",
    "        job = client.load_table_from_dataframe(\n",
    "            df_trasns, table_id, job_config=job_config\n",
    "        )\n",
    "        job.result()  # Wait for the job to complete.\n",
    "        print(\"Total \", len(df_trasns), \"Imported closed incident to bigquery successfully\")\n",
    "\n",
    "    except BadRequest as e:\n",
    "        print(\"Bigquery Error\\n\")\n",
    "        print(e) \n",
    "\n",
    "try:\n",
    "    insertDataFrameToBQ(df_all)\n",
    "except Exception as ex:\n",
    "    raise ex\n",
    "\n",
    "\n"
   ]
  },
  {
   "cell_type": "code",
   "execution_count": null,
   "id": "9996e057-c8cb-4b9b-a994-4d4c0265b143",
   "metadata": {},
   "outputs": [],
   "source": [
    "importDate=dt_imported.strftime(\"%Y-%m-%d\")\n",
    "\n",
    "def load_data_bq(sql:str):\n",
    " query_result=client.query(sql)\n",
    " dfx=query_result.to_dataframe()\n",
    " return dfx\n",
    "sql_query=f\"\"\" SELECT * FROM `{table_id}` WHERE imported_at >= '{importDate}' LIMIT 10 \"\"\"\n",
    "df=load_data_bq(sql_query)\n",
    "df.head()"
   ]
  },
  {
   "cell_type": "raw",
   "id": "12b2eb3c-6398-4cca-be09-74ecfef02f9e",
   "metadata": {},
   "source": []
  },
  {
   "cell_type": "code",
   "execution_count": null,
   "id": "e64c3f68-8ab8-447b-83ff-4ca648fbcb6f",
   "metadata": {},
   "outputs": [],
   "source": []
  },
  {
   "cell_type": "code",
   "execution_count": null,
   "id": "2944355e-8b23-4fbf-8f0d-cab8a0e7fdd9",
   "metadata": {},
   "outputs": [],
   "source": []
  }
 ],
 "metadata": {
  "kernelspec": {
   "display_name": "Python 3 (ipykernel)",
   "language": "python",
   "name": "python3"
  },
  "language_info": {
   "codemirror_mode": {
    "name": "ipython",
    "version": 3
   },
   "file_extension": ".py",
   "mimetype": "text/x-python",
   "name": "python",
   "nbconvert_exporter": "python",
   "pygments_lexer": "ipython3",
   "version": "3.10.12"
  },
  "vscode": {
   "interpreter": {
    "hash": "ae9335fe7a39c1d8f8945c5adbecc2ba1b1578dde5a497790f7db495f2189193"
   }
  }
 },
 "nbformat": 4,
 "nbformat_minor": 5
}
