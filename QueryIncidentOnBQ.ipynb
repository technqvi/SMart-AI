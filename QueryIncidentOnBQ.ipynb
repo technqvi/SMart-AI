{
 "cells": [
  {
   "cell_type": "code",
   "execution_count": null,
   "id": "82affb76-eafc-47db-9558-4ea3f721fe83",
   "metadata": {},
   "outputs": [],
   "source": [
    "from google.cloud import bigquery\n",
    "import pandas as pd\n",
    "import numpy as np\n",
    "from datetime import datetime "
   ]
  },
  {
   "cell_type": "code",
   "execution_count": null,
   "id": "74276cfb-6531-4b47-b100-92a4a2870efd",
   "metadata": {},
   "outputs": [],
   "source": [
    "projectId='pongthorn'\n",
    "dataset_id='DemoSMartDW'\n",
    "table_id = f\"{projectId}.{dataset_id}.incident\"\n",
    "\n",
    "client = bigquery.Client(project=projectId)"
   ]
  },
  {
   "cell_type": "code",
   "execution_count": null,
   "id": "12768fbd-b46d-4289-8101-aa92b2d2735e",
   "metadata": {},
   "outputs": [],
   "source": [
    "def load_data_bq(sql:str):\n",
    " client_bq = bigquery.Client()\n",
    " query_result=client_bq.query(sql)\n",
    " df_all=query_result.to_dataframe()\n",
    " return df_all"
   ]
  },
  {
   "cell_type": "code",
   "execution_count": null,
   "id": "5e4a59f9-b13b-43e8-a334-11ec0cee77ef",
   "metadata": {},
   "outputs": [],
   "source": [
    "sql_all=f\"\"\"\n",
    "SELECT  id,updated_at,imported_at,\n",
    "severity_id,severity_name,\n",
    "count_detail,sla,\n",
    "product_type,brand,service_type,incident_type,\n",
    "open_datetime,  close_datetime, response_datetime,resolved_datetime\n",
    "\n",
    "FROM `{table_id}` \n",
    "where id=2575\n",
    "order by imported_at \n",
    "\"\"\"\n",
    "#order by imported_at\n",
    "df=load_data_bq(sql_all)\n",
    "df=df.drop_duplicates(subset=['id'],keep='last')\n",
    "df"
   ]
  },
  {
   "cell_type": "code",
   "execution_count": null,
   "id": "50cebcca-99a2-40fb-94a4-5c4d4be6c432",
   "metadata": {},
   "outputs": [],
   "source": []
  }
 ],
 "metadata": {
  "kernelspec": {
   "display_name": "Python 3 (ipykernel)",
   "language": "python",
   "name": "python3"
  },
  "language_info": {
   "codemirror_mode": {
    "name": "ipython",
    "version": 3
   },
   "file_extension": ".py",
   "mimetype": "text/x-python",
   "name": "python",
   "nbconvert_exporter": "python",
   "pygments_lexer": "ipython3",
   "version": "3.10.12"
  }
 },
 "nbformat": 4,
 "nbformat_minor": 5
}
