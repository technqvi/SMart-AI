{
 "cells": [
  {
   "cell_type": "code",
   "execution_count": 19,
   "id": "82affb76-eafc-47db-9558-4ea3f721fe83",
   "metadata": {},
   "outputs": [],
   "source": [
    "from google.cloud import bigquery\n",
    "import pandas as pd\n",
    "import numpy as np\n",
    "from datetime import datetime "
   ]
  },
  {
   "cell_type": "code",
   "execution_count": 20,
   "id": "74276cfb-6531-4b47-b100-92a4a2870efd",
   "metadata": {},
   "outputs": [],
   "source": [
    "projectId='smart-data-ml'\n",
    "table_id = f\"{projectId}.SMartDW.incident\"\n",
    "\n",
    "client = bigquery.Client(project=projectId)"
   ]
  },
  {
   "cell_type": "code",
   "execution_count": 21,
   "id": "12768fbd-b46d-4289-8101-aa92b2d2735e",
   "metadata": {},
   "outputs": [],
   "source": [
    "def load_data_bq(sql:str):\n",
    " client_bq = bigquery.Client()\n",
    " query_result=client_bq.query(sql)\n",
    " df_all=query_result.to_dataframe()\n",
    " return df_all"
   ]
  },
  {
   "cell_type": "code",
   "execution_count": 22,
   "id": "5e4a59f9-b13b-43e8-a334-11ec0cee77ef",
   "metadata": {},
   "outputs": [
    {
     "data": {
      "text/html": [
       "<div>\n",
       "<style scoped>\n",
       "    .dataframe tbody tr th:only-of-type {\n",
       "        vertical-align: middle;\n",
       "    }\n",
       "\n",
       "    .dataframe tbody tr th {\n",
       "        vertical-align: top;\n",
       "    }\n",
       "\n",
       "    .dataframe thead th {\n",
       "        text-align: right;\n",
       "    }\n",
       "</style>\n",
       "<table border=\"1\" class=\"dataframe\">\n",
       "  <thead>\n",
       "    <tr style=\"text-align: right;\">\n",
       "      <th></th>\n",
       "      <th>id</th>\n",
       "      <th>updated_at</th>\n",
       "      <th>imported_at</th>\n",
       "      <th>severity_id</th>\n",
       "      <th>severity_name</th>\n",
       "      <th>count_detail</th>\n",
       "      <th>sla</th>\n",
       "      <th>product_type</th>\n",
       "      <th>brand</th>\n",
       "      <th>service_type</th>\n",
       "      <th>incident_type</th>\n",
       "      <th>open_datetime</th>\n",
       "      <th>close_datetime</th>\n",
       "      <th>response_datetime</th>\n",
       "      <th>resolved_datetime</th>\n",
       "    </tr>\n",
       "  </thead>\n",
       "  <tbody>\n",
       "    <tr>\n",
       "      <th>5</th>\n",
       "      <td>2575</td>\n",
       "      <td>2023-04-01 23:57:38</td>\n",
       "      <td>2023-04-02 00:05:04.558089</td>\n",
       "      <td>2</td>\n",
       "      <td>Major</td>\n",
       "      <td>1</td>\n",
       "      <td>24x7 6Hrs Resolution Time</td>\n",
       "      <td>Software</td>\n",
       "      <td>YIP</td>\n",
       "      <td>Incident</td>\n",
       "      <td>Software</td>\n",
       "      <td>2023-03-31 12:00:00</td>\n",
       "      <td>2023-04-01 23:30:00</td>\n",
       "      <td>2023-03-31 13:30:00</td>\n",
       "      <td>2023-04-01 23:00:00</td>\n",
       "    </tr>\n",
       "  </tbody>\n",
       "</table>\n",
       "</div>"
      ],
      "text/plain": [
       "     id          updated_at                imported_at  severity_id  \\\n",
       "5  2575 2023-04-01 23:57:38 2023-04-02 00:05:04.558089            2   \n",
       "\n",
       "  severity_name  count_detail                        sla product_type brand  \\\n",
       "5         Major             1  24x7 6Hrs Resolution Time     Software   YIP   \n",
       "\n",
       "  service_type incident_type       open_datetime      close_datetime  \\\n",
       "5     Incident      Software 2023-03-31 12:00:00 2023-04-01 23:30:00   \n",
       "\n",
       "    response_datetime   resolved_datetime  \n",
       "5 2023-03-31 13:30:00 2023-04-01 23:00:00  "
      ]
     },
     "execution_count": 22,
     "metadata": {},
     "output_type": "execute_result"
    }
   ],
   "source": [
    "sql_all=f\"\"\"\n",
    "SELECT  id,updated_at,imported_at,\n",
    "severity_id,severity_name,\n",
    "count_detail,sla,\n",
    "product_type,brand,service_type,incident_type,\n",
    "open_datetime,  close_datetime, response_datetime,resolved_datetime\n",
    "\n",
    "FROM `{table_id}` \n",
    "where id=2575\n",
    "order by imported_at \n",
    "\"\"\"\n",
    "#order by imported_at\n",
    "df=load_data_bq(sql_all)\n",
    "df=df.drop_duplicates(subset=['id'],keep='last')\n",
    "df"
   ]
  },
  {
   "cell_type": "code",
   "execution_count": null,
   "id": "50cebcca-99a2-40fb-94a4-5c4d4be6c432",
   "metadata": {},
   "outputs": [],
   "source": []
  }
 ],
 "metadata": {
  "kernelspec": {
   "display_name": "Python 3 (ipykernel)",
   "language": "python",
   "name": "python3"
  },
  "language_info": {
   "codemirror_mode": {
    "name": "ipython",
    "version": 3
   },
   "file_extension": ".py",
   "mimetype": "text/x-python",
   "name": "python",
   "nbconvert_exporter": "python",
   "pygments_lexer": "ipython3",
   "version": "3.9.16"
  }
 },
 "nbformat": 4,
 "nbformat_minor": 5
}
