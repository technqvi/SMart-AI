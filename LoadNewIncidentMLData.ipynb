{
 "cells": [
  {
   "cell_type": "code",
   "execution_count": 1,
   "id": "a1ee8b7a-39ed-46f9-ae2f-9106703a6ef8",
   "metadata": {},
   "outputs": [],
   "source": [
    "from google.cloud import bigquery\n",
    "from google.cloud import storage\n",
    "import pandas as pd\n",
    "import numpy as np\n",
    "from datetime import datetime "
   ]
  },
  {
   "cell_type": "code",
   "execution_count": 9,
   "id": "d30a13eb-83f8-4756-91fb-b0088462bae1",
   "metadata": {},
   "outputs": [
    {
     "data": {
      "text/html": [
       "<div>\n",
       "<style scoped>\n",
       "    .dataframe tbody tr th:only-of-type {\n",
       "        vertical-align: middle;\n",
       "    }\n",
       "\n",
       "    .dataframe tbody tr th {\n",
       "        vertical-align: top;\n",
       "    }\n",
       "\n",
       "    .dataframe thead th {\n",
       "        text-align: right;\n",
       "    }\n",
       "</style>\n",
       "<table border=\"1\" class=\"dataframe\">\n",
       "  <thead>\n",
       "    <tr style=\"text-align: right;\">\n",
       "      <th></th>\n",
       "      <th>CPU</th>\n",
       "      <th>QTY</th>\n",
       "    </tr>\n",
       "  </thead>\n",
       "  <tbody>\n",
       "    <tr>\n",
       "      <th>0</th>\n",
       "      <td>c1</td>\n",
       "      <td>1</td>\n",
       "    </tr>\n",
       "    <tr>\n",
       "      <th>1</th>\n",
       "      <td>c2</td>\n",
       "      <td>1</td>\n",
       "    </tr>\n",
       "  </tbody>\n",
       "</table>\n",
       "</div>"
      ],
      "text/plain": [
       "  CPU  QTY\n",
       "0  c1    1\n",
       "1  c2    1"
      ]
     },
     "execution_count": 9,
     "metadata": {},
     "output_type": "execute_result"
    }
   ],
   "source": [
    "df=pd.DataFrame(data=[{'CPU': 'c1', 'QTY': 1}, {'CPU': 'c2', 'QTY': 1}])\n",
    "df=df.fillna('')\n",
    "#[{\"CPU\": \"c1\", \"QTY\": 1}, {\"CPU\": \"c2\", \"QTY\": 1}]\n",
    "df\n",
    "\n"
   ]
  },
  {
   "cell_type": "code",
   "execution_count": 2,
   "id": "fc03020f-7cb1-4fd1-b7e9-c3bf10fc6a2f",
   "metadata": {},
   "outputs": [],
   "source": [
    "start_date_query='2023-03-21'"
   ]
  },
  {
   "cell_type": "code",
   "execution_count": 3,
   "id": "5637e899-8932-4033-82b2-0085f44ecb77",
   "metadata": {},
   "outputs": [],
   "source": [
    "# Get Last Upldate from BQ update data\n",
    "dateCols=['open_datetime','close_datetime','response_datetime','resolved_datetime']\n",
    "\n",
    "removeCols=dateCols+['open_to_close','response_to_resolved']\n",
    "\n",
    "numbericCols=['open_to_close_hour','response_to_resolved_hour']\n",
    "cateCols=['sla','product_type','brand','service_type','incident_type']\n",
    "\n",
    "file_name=\"New_Incident.csv\"\n",
    "table_id = \"pongthorn.SMartML.new_incident\"\n"
   ]
  },
  {
   "cell_type": "code",
   "execution_count": 4,
   "id": "af33c13f-462c-4e23-9b21-4cf6dd078f8f",
   "metadata": {},
   "outputs": [],
   "source": [
    "client = bigquery.Client()"
   ]
  },
  {
   "cell_type": "code",
   "execution_count": 5,
   "id": "d1eaec42-befe-4b83-b081-3b919bc68549",
   "metadata": {},
   "outputs": [
    {
     "name": "stdout",
     "output_type": "stream",
     "text": [
      "Table pongthorn.SMartML.new_incident already exists.\n"
     ]
    }
   ],
   "source": [
    "#https://cloud.google.com/bigquery/docs/samples/bigquery-create-table#bigquery_create_table-python\n",
    "\n",
    "try:\n",
    "    client.get_table(table_id)  # Make an API request.\n",
    "    print(\"Table {} already exists.\".format(table_id))\n",
    "except Exception as ex:\n",
    "    schema = [\n",
    "    bigquery.SchemaField(\"id\", \"INTEGER\", mode=\"REQUIRED\"),\n",
    "    bigquery.SchemaField(\"severity_id\", \"INTEGER\", mode=\"REQUIRED\"),\n",
    "    bigquery.SchemaField(\"severity_name\", \"STRING\", mode=\"REQUIRED\"),\n",
    "    bigquery.SchemaField(\"sla\", \"STRING\", mode=\"REQUIRED\"),    \n",
    "    bigquery.SchemaField(\"product_type\", \"STRING\", mode=\"REQUIRED\"),  \n",
    "    bigquery.SchemaField(\"brand\", \"STRING\", mode=\"REQUIRED\"),  \n",
    "    bigquery.SchemaField(\"service_type\", \"STRING\", mode=\"REQUIRED\"),  \n",
    "    bigquery.SchemaField(\"incident_type\", \"STRING\", mode=\"REQUIRED\"),  \n",
    "    bigquery.SchemaField(\"open_to_close_hour\", \"FLOAT\", mode=\"REQUIRED\"),\n",
    "    bigquery.SchemaField(\"response_to_resolved_hour\", \"FLOAT\", mode=\"REQUIRED\"),    \n",
    "    bigquery.SchemaField(\"imported_at\", \"DATETIME\", mode=\"REQUIRED\")    \n",
    "    ]\n",
    "\n",
    "    table = bigquery.Table(table_id,schema=schema)\n",
    "    table.time_partitioning = bigquery.TimePartitioning(\n",
    "    type_=bigquery.TimePartitioningType.DAY,field=\"imported_at\")\n",
    "\n",
    "    \n",
    "    table = client.create_table(table)  # Make an API request.\n",
    "    print(\n",
    "        \"Created table {}.{}.{}\".format(table.project, table.dataset_id, table.table_id)\n",
    "    )\n"
   ]
  },
  {
   "cell_type": "code",
   "execution_count": 6,
   "id": "cd9ca38f-2afe-44e4-8e30-eb0d96e27891",
   "metadata": {},
   "outputs": [
    {
     "name": "stdout",
     "output_type": "stream",
     "text": [
      "Imported DateTime: 2023-03-27 16:05:17\n"
     ]
    }
   ],
   "source": [
    "dt_imported=datetime.now()\n",
    "str_imported=dt_imported.strftime('%Y-%m-%d %H:%M:%S')\n",
    "print(f\"Imported DateTime: {str_imported}\" )"
   ]
  },
  {
   "cell_type": "code",
   "execution_count": 7,
   "id": "0ccf11d4-1c0f-4e50-8945-3a5223f3ab24",
   "metadata": {},
   "outputs": [
    {
     "name": "stdout",
     "output_type": "stream",
     "text": [
      "Last Imported DateTime: 2023-03-27 05:27:08\n",
      "Start date from last loading\n",
      "Start Import on update_at of last imported date : 2023-03-27 05:27:08\n"
     ]
    }
   ],
   "source": [
    "sql_lastImport=f\"SELECT max(imported_at) as last_imported from `{table_id}` \"\n",
    "job_lastImported=client.query(sql_lastImport)\n",
    "str_lastImported=None\n",
    "for row in job_lastImported:    \n",
    "    if row.last_imported is not None: \n",
    "        str_lastImported=row.last_imported.strftime('%Y-%m-%d %H:%M:%S')\n",
    "print(f\"Last Imported DateTime: {str_lastImported}\" )\n",
    "\n",
    "if str_lastImported is not None:\n",
    "  print(\"Start date from last loading\")  \n",
    "  start_date_query=str_lastImported\n",
    "else:\n",
    "  print(\"Init First loading\")  \n",
    "\n",
    "\n",
    "print(f\"Start Import on update_at of last imported date : {start_date_query}\" )\n"
   ]
  },
  {
   "cell_type": "code",
   "execution_count": 8,
   "id": "dc90e569-c293-4219-ace5-3792ad96382d",
   "metadata": {},
   "outputs": [
    {
     "name": "stdout",
     "output_type": "stream",
     "text": [
      "<class 'pandas.core.frame.DataFrame'>\n",
      "Index: 0 entries\n",
      "Data columns (total 12 columns):\n",
      " #   Column             Non-Null Count  Dtype \n",
      "---  ------             --------------  ----- \n",
      " 0   id                 0 non-null      object\n",
      " 1   severity_id        0 non-null      object\n",
      " 2   severity_name      0 non-null      object\n",
      " 3   sla                0 non-null      object\n",
      " 4   product_type       0 non-null      object\n",
      " 5   brand              0 non-null      object\n",
      " 6   service_type       0 non-null      object\n",
      " 7   incident_type      0 non-null      object\n",
      " 8   open_datetime      0 non-null      object\n",
      " 9   close_datetime     0 non-null      object\n",
      " 10  response_datetime  0 non-null      object\n",
      " 11  resolved_datetime  0 non-null      object\n",
      "dtypes: object(12)\n",
      "memory usage: 0.0+ bytes\n",
      "None\n"
     ]
    },
    {
     "data": {
      "text/html": [
       "<div>\n",
       "<style scoped>\n",
       "    .dataframe tbody tr th:only-of-type {\n",
       "        vertical-align: middle;\n",
       "    }\n",
       "\n",
       "    .dataframe tbody tr th {\n",
       "        vertical-align: top;\n",
       "    }\n",
       "\n",
       "    .dataframe thead th {\n",
       "        text-align: right;\n",
       "    }\n",
       "</style>\n",
       "<table border=\"1\" class=\"dataframe\">\n",
       "  <thead>\n",
       "    <tr style=\"text-align: right;\">\n",
       "      <th></th>\n",
       "      <th>id</th>\n",
       "      <th>severity_id</th>\n",
       "      <th>severity_name</th>\n",
       "      <th>sla</th>\n",
       "      <th>product_type</th>\n",
       "      <th>brand</th>\n",
       "      <th>service_type</th>\n",
       "      <th>incident_type</th>\n",
       "      <th>open_datetime</th>\n",
       "      <th>close_datetime</th>\n",
       "      <th>response_datetime</th>\n",
       "      <th>resolved_datetime</th>\n",
       "    </tr>\n",
       "  </thead>\n",
       "  <tbody>\n",
       "  </tbody>\n",
       "</table>\n",
       "</div>"
      ],
      "text/plain": [
       "Empty DataFrame\n",
       "Columns: [id, severity_id, severity_name, sla, product_type, brand, service_type, incident_type, open_datetime, close_datetime, response_datetime, resolved_datetime]\n",
       "Index: []"
      ]
     },
     "execution_count": 8,
     "metadata": {},
     "output_type": "execute_result"
    }
   ],
   "source": [
    "sql=f\"\"\"\n",
    "SELECT  id,\n",
    "severity_id,severity_name,sla,\n",
    "product_type,brand,service_type,incident_type,\n",
    "open_datetime,  close_datetime, response_datetime,resolved_datetime\n",
    "FROM `pongthorn.SMartDW.incident` \n",
    "WHERE imported_at>'{start_date_query}'\n",
    "order by imported_at\n",
    "\"\"\"\n",
    "#WHERE imported_at>='{start_date_query}' and imported_at<='2023-03-24'\n",
    "#WHERE imported_at>='{start_date_query}'\n",
    "\n",
    "query_result=client.query(sql)\n",
    "df_all=query_result.to_dataframe()\n",
    "print(df_all.info())\n",
    "df_all.head()"
   ]
  },
  {
   "cell_type": "code",
   "execution_count": 9,
   "id": "3ebd31f4-9049-474f-aef7-4b8f46534b9e",
   "metadata": {},
   "outputs": [
    {
     "name": "stdout",
     "output_type": "stream",
     "text": [
      "No record to load\n"
     ]
    }
   ],
   "source": [
    "if len(df_all)==0:\n",
    " print(\"No record to load\")   \n",
    " exit()"
   ]
  },
  {
   "cell_type": "code",
   "execution_count": 145,
   "id": "3a635248-2316-4280-ac1a-25d334b0c1aa",
   "metadata": {},
   "outputs": [],
   "source": [
    "start_end_list=[ ['open_datetime','close_datetime'],['response_datetime','resolved_datetime']]\n",
    "listDiffDateDeltaCols=[]\n",
    "listDiffHourCols=[]\n",
    "for item  in  start_end_list:\n",
    "   diff_str=f\"{item[0]}_to_{item[1]}\" \n",
    "   diff_str=diff_str.replace('_datetime','')  \n",
    "   listDiffDateDeltaCols.append(diff_str)\n",
    "   df_all[diff_str]=df_all[item[1]]-df_all[item[0]]\n",
    "    \n",
    "   diff_hour=f'{diff_str}_hour'\n",
    "   listDiffHourCols.append(diff_hour)\n",
    "   df_all[diff_hour] = df_all[diff_str].apply(lambda x:  x.total_seconds() / (60*60) if x is not np.nan else np.nan  )\n"
   ]
  },
  {
   "cell_type": "code",
   "execution_count": 146,
   "id": "bab5415e-8cc3-4214-a852-6925d6bd3004",
   "metadata": {},
   "outputs": [
    {
     "name": "stdout",
     "output_type": "stream",
     "text": [
      "<class 'pandas.core.frame.DataFrame'>\n",
      "Int64Index: 43 entries, 0 to 42\n",
      "Data columns (total 11 columns):\n",
      " #   Column                     Non-Null Count  Dtype         \n",
      "---  ------                     --------------  -----         \n",
      " 0   id                         43 non-null     Int64         \n",
      " 1   severity_id                43 non-null     Int64         \n",
      " 2   severity_name              43 non-null     object        \n",
      " 3   sla                        43 non-null     object        \n",
      " 4   product_type               43 non-null     object        \n",
      " 5   brand                      43 non-null     object        \n",
      " 6   service_type               43 non-null     object        \n",
      " 7   incident_type              43 non-null     object        \n",
      " 8   open_to_close_hour         43 non-null     float64       \n",
      " 9   response_to_resolved_hour  43 non-null     float64       \n",
      " 10  imported_at                43 non-null     datetime64[ns]\n",
      "dtypes: Int64(2), datetime64[ns](1), float64(2), object(6)\n",
      "memory usage: 4.1+ KB\n",
      "None\n"
     ]
    },
    {
     "data": {
      "text/html": [
       "<div>\n",
       "<style scoped>\n",
       "    .dataframe tbody tr th:only-of-type {\n",
       "        vertical-align: middle;\n",
       "    }\n",
       "\n",
       "    .dataframe tbody tr th {\n",
       "        vertical-align: top;\n",
       "    }\n",
       "\n",
       "    .dataframe thead th {\n",
       "        text-align: right;\n",
       "    }\n",
       "</style>\n",
       "<table border=\"1\" class=\"dataframe\">\n",
       "  <thead>\n",
       "    <tr style=\"text-align: right;\">\n",
       "      <th></th>\n",
       "      <th>id</th>\n",
       "      <th>severity_id</th>\n",
       "      <th>severity_name</th>\n",
       "      <th>sla</th>\n",
       "      <th>product_type</th>\n",
       "      <th>brand</th>\n",
       "      <th>service_type</th>\n",
       "      <th>incident_type</th>\n",
       "      <th>open_to_close_hour</th>\n",
       "      <th>response_to_resolved_hour</th>\n",
       "      <th>imported_at</th>\n",
       "    </tr>\n",
       "  </thead>\n",
       "  <tbody>\n",
       "    <tr>\n",
       "      <th>38</th>\n",
       "      <td>2472</td>\n",
       "      <td>2</td>\n",
       "      <td>Major</td>\n",
       "      <td>24x7 6Hrs Response Time</td>\n",
       "      <td>Software</td>\n",
       "      <td>Veritas</td>\n",
       "      <td>Incident</td>\n",
       "      <td>Backup Failure</td>\n",
       "      <td>141.466667</td>\n",
       "      <td>141.316667</td>\n",
       "      <td>2023-03-27 05:27:08.968019</td>\n",
       "    </tr>\n",
       "    <tr>\n",
       "      <th>39</th>\n",
       "      <td>2523</td>\n",
       "      <td>2</td>\n",
       "      <td>Major</td>\n",
       "      <td>24x7 4Hrs Response Time</td>\n",
       "      <td>Storage</td>\n",
       "      <td>NetApp</td>\n",
       "      <td>Incident</td>\n",
       "      <td>Hard Disk Drive Failure</td>\n",
       "      <td>8.916667</td>\n",
       "      <td>8.716667</td>\n",
       "      <td>2023-03-27 05:27:08.968019</td>\n",
       "    </tr>\n",
       "    <tr>\n",
       "      <th>40</th>\n",
       "      <td>2522</td>\n",
       "      <td>2</td>\n",
       "      <td>Major</td>\n",
       "      <td>8x5 4Hrs Response Time</td>\n",
       "      <td>Tape Library</td>\n",
       "      <td>HPE</td>\n",
       "      <td>Incident</td>\n",
       "      <td>Controller/Node Failure</td>\n",
       "      <td>12.383333</td>\n",
       "      <td>12.150000</td>\n",
       "      <td>2023-03-27 05:27:08.968019</td>\n",
       "    </tr>\n",
       "    <tr>\n",
       "      <th>41</th>\n",
       "      <td>2168</td>\n",
       "      <td>2</td>\n",
       "      <td>Major</td>\n",
       "      <td>24x7 4Hrs Response Time</td>\n",
       "      <td>Server</td>\n",
       "      <td>Cisco</td>\n",
       "      <td>Incident</td>\n",
       "      <td>Fan Failure</td>\n",
       "      <td>2137.500000</td>\n",
       "      <td>2016.883333</td>\n",
       "      <td>2023-03-27 05:27:08.968019</td>\n",
       "    </tr>\n",
       "    <tr>\n",
       "      <th>42</th>\n",
       "      <td>2524</td>\n",
       "      <td>2</td>\n",
       "      <td>Major</td>\n",
       "      <td>8x5 4Hrs Response Time</td>\n",
       "      <td>Software</td>\n",
       "      <td>Microsoft</td>\n",
       "      <td>Incident</td>\n",
       "      <td>General Incident</td>\n",
       "      <td>16.000000</td>\n",
       "      <td>12.500000</td>\n",
       "      <td>2023-03-27 05:27:08.968019</td>\n",
       "    </tr>\n",
       "  </tbody>\n",
       "</table>\n",
       "</div>"
      ],
      "text/plain": [
       "      id  severity_id severity_name                      sla  product_type  \\\n",
       "38  2472            2         Major  24x7 6Hrs Response Time      Software   \n",
       "39  2523            2         Major  24x7 4Hrs Response Time       Storage   \n",
       "40  2522            2         Major   8x5 4Hrs Response Time  Tape Library   \n",
       "41  2168            2         Major  24x7 4Hrs Response Time        Server   \n",
       "42  2524            2         Major   8x5 4Hrs Response Time      Software   \n",
       "\n",
       "        brand service_type            incident_type  open_to_close_hour  \\\n",
       "38    Veritas     Incident           Backup Failure          141.466667   \n",
       "39     NetApp     Incident  Hard Disk Drive Failure            8.916667   \n",
       "40        HPE     Incident  Controller/Node Failure           12.383333   \n",
       "41      Cisco     Incident              Fan Failure         2137.500000   \n",
       "42  Microsoft     Incident         General Incident           16.000000   \n",
       "\n",
       "    response_to_resolved_hour                imported_at  \n",
       "38                 141.316667 2023-03-27 05:27:08.968019  \n",
       "39                   8.716667 2023-03-27 05:27:08.968019  \n",
       "40                  12.150000 2023-03-27 05:27:08.968019  \n",
       "41                2016.883333 2023-03-27 05:27:08.968019  \n",
       "42                  12.500000 2023-03-27 05:27:08.968019  "
      ]
     },
     "execution_count": 146,
     "metadata": {},
     "output_type": "execute_result"
    }
   ],
   "source": [
    "for col in numbericCols:\n",
    " df_all=df_all.query(f'{col}!=0')\n",
    "\n",
    "df_all=df_all.drop_duplicates(subset=['id'],keep='first')\n",
    "df_all=df_all.drop(columns=removeCols)\n",
    "\n",
    "df_all['imported_at']=dt_imported\n",
    "\n",
    "df_all.dropna(inplace=True)\n",
    "\n",
    "print(df_all.info())\n",
    "df_all.tail()"
   ]
  },
  {
   "cell_type": "code",
   "execution_count": 147,
   "id": "f808705b-f1ac-4238-9b68-233d6bf7ba34",
   "metadata": {},
   "outputs": [
    {
     "name": "stdout",
     "output_type": "stream",
     "text": [
      "       open_to_close_hour  response_to_resolved_hour\n",
      "count           43.000000                  43.000000\n",
      "mean           110.340310                  87.460853\n",
      "std            351.182457                 319.776231\n",
      "min              0.083333                   0.066667\n",
      "10%              0.636667                   0.406667\n",
      "25%              4.408333                   3.350000\n",
      "50%              9.000000                   7.000000\n",
      "75%             25.450000                  22.691667\n",
      "90%            138.970000                 119.250000\n",
      "max           2137.500000                2016.883333\n"
     ]
    }
   ],
   "source": [
    "print(df_all[numbericCols].describe(percentiles=[.9,.75,.50,.25,.10]))"
   ]
  },
  {
   "cell_type": "code",
   "execution_count": 148,
   "id": "8f7f294d-3989-4e69-927e-1e1b23db7f7b",
   "metadata": {},
   "outputs": [],
   "source": [
    "df_all.to_csv(\"data/New_Incident.csv\",index=False)\n",
    "# dfError= df_all.query(\"open_to_close_hour>=524.183333\")\n",
    "# dfError.to_csv(\"Error_Incident.csv\",index=False)\n",
    "# dfError\n",
    "# dfError['id'].tolist()"
   ]
  },
  {
   "cell_type": "code",
   "execution_count": null,
   "id": "9e2546ea-5925-4fb1-bed5-910169343c4f",
   "metadata": {},
   "outputs": [],
   "source": []
  },
  {
   "cell_type": "code",
   "execution_count": 149,
   "id": "25f5e411-6f4c-4b92-a6e1-5ac9055744a5",
   "metadata": {},
   "outputs": [
    {
     "name": "stdout",
     "output_type": "stream",
     "text": [
      "Total  43 Imported igquery successfully\n"
     ]
    }
   ],
   "source": [
    "\n",
    "def loadDataFrameToBQ():\n",
    "    try:\n",
    "        job_config = bigquery.LoadJobConfig(\n",
    "            write_disposition=\"WRITE_APPEND\",\n",
    "        )\n",
    "\n",
    "        job = client.load_table_from_dataframe(\n",
    "            df_all, table_id, job_config=job_config\n",
    "        )\n",
    "        job.result()  # Wait for the job to complete.\n",
    "        print(\"Total \", len(df_all), \"Imported igquery successfully\")\n",
    "\n",
    "    except BadRequest as e:\n",
    "        print(\"Bigquery Error\\n\")\n",
    "        for e in job.errors:\n",
    "            print('ERROR: {}'.format(e['message']))\n",
    "\n",
    "try:\n",
    "    loadDataFrameToBQ()\n",
    "except Exception as ex:\n",
    "    raise ex\n"
   ]
  },
  {
   "cell_type": "code",
   "execution_count": null,
   "id": "fa3483c1-d9b2-4c3c-8364-1dd379a51873",
   "metadata": {},
   "outputs": [],
   "source": []
  }
 ],
 "metadata": {
  "kernelspec": {
   "display_name": "Python 3 (ipykernel)",
   "language": "python",
   "name": "python3"
  },
  "language_info": {
   "codemirror_mode": {
    "name": "ipython",
    "version": 3
   },
   "file_extension": ".py",
   "mimetype": "text/x-python",
   "name": "python",
   "nbconvert_exporter": "python",
   "pygments_lexer": "ipython3",
   "version": "3.9.16"
  }
 },
 "nbformat": 4,
 "nbformat_minor": 5
}
