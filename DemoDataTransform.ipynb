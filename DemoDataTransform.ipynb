{
 "cells": [
  {
   "cell_type": "code",
   "execution_count": 28,
   "id": "ab8d9e98-4215-4457-bf48-f758dfb969f7",
   "metadata": {},
   "outputs": [],
   "source": [
    "import pandas as pd\n"
   ]
  },
  {
   "cell_type": "markdown",
   "id": "0eb864f8-743e-4d57-af04-24c3f0d26370",
   "metadata": {},
   "source": [
    "# Numberic Value"
   ]
  },
  {
   "cell_type": "code",
   "execution_count": 29,
   "id": "bef9f90d-9244-4746-9d59-7d1ae7f07e5e",
   "metadata": {},
   "outputs": [
    {
     "data": {
      "text/html": [
       "<div>\n",
       "<style scoped>\n",
       "    .dataframe tbody tr th:only-of-type {\n",
       "        vertical-align: middle;\n",
       "    }\n",
       "\n",
       "    .dataframe tbody tr th {\n",
       "        vertical-align: top;\n",
       "    }\n",
       "\n",
       "    .dataframe thead th {\n",
       "        text-align: right;\n",
       "    }\n",
       "</style>\n",
       "<table border=\"1\" class=\"dataframe\">\n",
       "  <thead>\n",
       "    <tr style=\"text-align: right;\">\n",
       "      <th></th>\n",
       "      <th>id</th>\n",
       "      <th>name</th>\n",
       "      <th>age</th>\n",
       "      <th>salary_base_dollar</th>\n",
       "      <th>year_experience</th>\n",
       "    </tr>\n",
       "  </thead>\n",
       "  <tbody>\n",
       "    <tr>\n",
       "      <th>0</th>\n",
       "      <td>1</td>\n",
       "      <td>john</td>\n",
       "      <td>25</td>\n",
       "      <td>5000</td>\n",
       "      <td>2</td>\n",
       "    </tr>\n",
       "    <tr>\n",
       "      <th>1</th>\n",
       "      <td>2</td>\n",
       "      <td>tom</td>\n",
       "      <td>35</td>\n",
       "      <td>8000</td>\n",
       "      <td>15</td>\n",
       "    </tr>\n",
       "    <tr>\n",
       "      <th>2</th>\n",
       "      <td>3</td>\n",
       "      <td>peter</td>\n",
       "      <td>2</td>\n",
       "      <td>15</td>\n",
       "      <td>30</td>\n",
       "    </tr>\n",
       "  </tbody>\n",
       "</table>\n",
       "</div>"
      ],
      "text/plain": [
       "   id   name  age  salary_base_dollar  year_experience\n",
       "0   1   john   25                5000                2\n",
       "1   2    tom   35                8000               15\n",
       "2   3  peter    2                  15               30"
      ]
     },
     "execution_count": 29,
     "metadata": {},
     "output_type": "execute_result"
    }
   ],
   "source": [
    "worker=[ [1,'john',25,5000,2],[2,'tom',35,8000,15],[3,'peter',2,15,30] ]\n",
    "dfWorker=pd.DataFrame(data=worker,columns=['id','name','age','salary_base_dollar','year_experience'])\n",
    "dfWorker"
   ]
  },
  {
   "cell_type": "code",
   "execution_count": 30,
   "id": "2f8707a0-ca65-45f6-9e80-bfec47fbe061",
   "metadata": {},
   "outputs": [
    {
     "name": "stdout",
     "output_type": "stream",
     "text": [
      "[  20.66666667 4338.33333333   15.66666667]\n",
      "[1.90888889e+02 1.08456056e+07 1.30888889e+02]\n"
     ]
    },
    {
     "data": {
      "text/html": [
       "<div>\n",
       "<style scoped>\n",
       "    .dataframe tbody tr th:only-of-type {\n",
       "        vertical-align: middle;\n",
       "    }\n",
       "\n",
       "    .dataframe tbody tr th {\n",
       "        vertical-align: top;\n",
       "    }\n",
       "\n",
       "    .dataframe thead th {\n",
       "        text-align: right;\n",
       "    }\n",
       "</style>\n",
       "<table border=\"1\" class=\"dataframe\">\n",
       "  <thead>\n",
       "    <tr style=\"text-align: right;\">\n",
       "      <th></th>\n",
       "      <th>id</th>\n",
       "      <th>name</th>\n",
       "      <th>age</th>\n",
       "      <th>salary_base_dollar</th>\n",
       "      <th>year_experience</th>\n",
       "    </tr>\n",
       "  </thead>\n",
       "  <tbody>\n",
       "    <tr>\n",
       "      <th>0</th>\n",
       "      <td>1</td>\n",
       "      <td>john</td>\n",
       "      <td>0.313640</td>\n",
       "      <td>0.200915</td>\n",
       "      <td>-1.194569</td>\n",
       "    </tr>\n",
       "    <tr>\n",
       "      <th>1</th>\n",
       "      <td>2</td>\n",
       "      <td>tom</td>\n",
       "      <td>1.037425</td>\n",
       "      <td>1.111865</td>\n",
       "      <td>-0.058272</td>\n",
       "    </tr>\n",
       "    <tr>\n",
       "      <th>2</th>\n",
       "      <td>3</td>\n",
       "      <td>peter</td>\n",
       "      <td>-1.351066</td>\n",
       "      <td>-1.312780</td>\n",
       "      <td>1.252841</td>\n",
       "    </tr>\n",
       "  </tbody>\n",
       "</table>\n",
       "</div>"
      ],
      "text/plain": [
       "   id   name       age  salary_base_dollar  year_experience\n",
       "0   1   john  0.313640            0.200915        -1.194569\n",
       "1   2    tom  1.037425            1.111865        -0.058272\n",
       "2   3  peter -1.351066           -1.312780         1.252841"
      ]
     },
     "execution_count": 30,
     "metadata": {},
     "output_type": "execute_result"
    }
   ],
   "source": [
    "from sklearn.preprocessing import StandardScaler\n",
    "#https://scikit-learn.org/stable/modules/generated/sklearn.preprocessing.StandardScaler.html\n",
    "numCols=['age','salary_base_dollar','year_experience']\n",
    "scaler = StandardScaler()\n",
    "dfWorker.loc[:, numCols] = scaler.fit_transform(dfWorker[numCols])\n",
    "\n",
    "print(scaler.mean_)\n",
    "print(scaler.var_)\n",
    "\n",
    "dfWorker"
   ]
  },
  {
   "cell_type": "code",
   "execution_count": 31,
   "id": "f2dc7b74-1e7a-421b-a267-db75b43039ae",
   "metadata": {},
   "outputs": [
    {
     "data": {
      "text/html": [
       "<div>\n",
       "<style scoped>\n",
       "    .dataframe tbody tr th:only-of-type {\n",
       "        vertical-align: middle;\n",
       "    }\n",
       "\n",
       "    .dataframe tbody tr th {\n",
       "        vertical-align: top;\n",
       "    }\n",
       "\n",
       "    .dataframe thead th {\n",
       "        text-align: right;\n",
       "    }\n",
       "</style>\n",
       "<table border=\"1\" class=\"dataframe\">\n",
       "  <thead>\n",
       "    <tr style=\"text-align: right;\">\n",
       "      <th></th>\n",
       "      <th>id</th>\n",
       "      <th>product_type</th>\n",
       "      <th>service_type</th>\n",
       "      <th>open_to_close_hour</th>\n",
       "      <th>response_to_resolved_hour</th>\n",
       "      <th>count_detail</th>\n",
       "      <th>label_severity</th>\n",
       "    </tr>\n",
       "  </thead>\n",
       "  <tbody>\n",
       "    <tr>\n",
       "      <th>0</th>\n",
       "      <td>1</td>\n",
       "      <td>Storage</td>\n",
       "      <td>Incident</td>\n",
       "      <td>24</td>\n",
       "      <td>16</td>\n",
       "      <td>2</td>\n",
       "      <td>1</td>\n",
       "    </tr>\n",
       "    <tr>\n",
       "      <th>1</th>\n",
       "      <td>2</td>\n",
       "      <td>Storage</td>\n",
       "      <td>Incident</td>\n",
       "      <td>168</td>\n",
       "      <td>150</td>\n",
       "      <td>3</td>\n",
       "      <td>2</td>\n",
       "    </tr>\n",
       "    <tr>\n",
       "      <th>2</th>\n",
       "      <td>3</td>\n",
       "      <td>Software</td>\n",
       "      <td>Incident</td>\n",
       "      <td>720</td>\n",
       "      <td>70</td>\n",
       "      <td>2</td>\n",
       "      <td>3</td>\n",
       "    </tr>\n",
       "    <tr>\n",
       "      <th>3</th>\n",
       "      <td>5</td>\n",
       "      <td>Server</td>\n",
       "      <td>Request</td>\n",
       "      <td>2160</td>\n",
       "      <td>2000</td>\n",
       "      <td>1</td>\n",
       "      <td>0</td>\n",
       "    </tr>\n",
       "  </tbody>\n",
       "</table>\n",
       "</div>"
      ],
      "text/plain": [
       "   id product_type service_type  open_to_close_hour  \\\n",
       "0   1      Storage     Incident                  24   \n",
       "1   2      Storage     Incident                 168   \n",
       "2   3     Software     Incident                 720   \n",
       "3   5       Server      Request                2160   \n",
       "\n",
       "   response_to_resolved_hour  count_detail  label_severity  \n",
       "0                         16             2               1  \n",
       "1                        150             3               2  \n",
       "2                         70             2               3  \n",
       "3                       2000             1               0  "
      ]
     },
     "execution_count": 31,
     "metadata": {},
     "output_type": "execute_result"
    }
   ],
   "source": [
    "incidnt=[ [1,'Storage','Incident',24,16,2,1],[2,'Storage','Incident',168,150,3,2],\n",
    "         [3,'Software','Incident',720,70,2,3],[5,'Server','Request',2160,2000,1,0] ]\n",
    "dfIncidnt=pd.DataFrame(data=incidnt,columns=['id','product_type','service_type',\n",
    "                                             'open_to_close_hour','response_to_resolved_hour','count_detail','label_severity'])\n",
    "dfIncidnt"
   ]
  },
  {
   "cell_type": "code",
   "execution_count": 32,
   "id": "72771400-b660-4941-b07d-e0335a5972a5",
   "metadata": {},
   "outputs": [
    {
     "name": "stdout",
     "output_type": "stream",
     "text": [
      "[768. 559.   2.]\n",
      "[7.13376e+05 6.94433e+05 5.00000e-01]\n"
     ]
    },
    {
     "data": {
      "text/html": [
       "<div>\n",
       "<style scoped>\n",
       "    .dataframe tbody tr th:only-of-type {\n",
       "        vertical-align: middle;\n",
       "    }\n",
       "\n",
       "    .dataframe tbody tr th {\n",
       "        vertical-align: top;\n",
       "    }\n",
       "\n",
       "    .dataframe thead th {\n",
       "        text-align: right;\n",
       "    }\n",
       "</style>\n",
       "<table border=\"1\" class=\"dataframe\">\n",
       "  <thead>\n",
       "    <tr style=\"text-align: right;\">\n",
       "      <th></th>\n",
       "      <th>id</th>\n",
       "      <th>open_to_close_hour</th>\n",
       "      <th>response_to_resolved_hour</th>\n",
       "      <th>count_detail</th>\n",
       "    </tr>\n",
       "  </thead>\n",
       "  <tbody>\n",
       "    <tr>\n",
       "      <th>0</th>\n",
       "      <td>1</td>\n",
       "      <td>-0.880874</td>\n",
       "      <td>-0.651605</td>\n",
       "      <td>0.000000</td>\n",
       "    </tr>\n",
       "    <tr>\n",
       "      <th>1</th>\n",
       "      <td>2</td>\n",
       "      <td>-0.710382</td>\n",
       "      <td>-0.490804</td>\n",
       "      <td>1.414214</td>\n",
       "    </tr>\n",
       "    <tr>\n",
       "      <th>2</th>\n",
       "      <td>3</td>\n",
       "      <td>-0.056831</td>\n",
       "      <td>-0.586805</td>\n",
       "      <td>0.000000</td>\n",
       "    </tr>\n",
       "    <tr>\n",
       "      <th>3</th>\n",
       "      <td>5</td>\n",
       "      <td>1.648086</td>\n",
       "      <td>1.729214</td>\n",
       "      <td>-1.414214</td>\n",
       "    </tr>\n",
       "  </tbody>\n",
       "</table>\n",
       "</div>"
      ],
      "text/plain": [
       "   id  open_to_close_hour  response_to_resolved_hour  count_detail\n",
       "0   1           -0.880874                  -0.651605      0.000000\n",
       "1   2           -0.710382                  -0.490804      1.414214\n",
       "2   3           -0.056831                  -0.586805      0.000000\n",
       "3   5            1.648086                   1.729214     -1.414214"
      ]
     },
     "execution_count": 32,
     "metadata": {},
     "output_type": "execute_result"
    }
   ],
   "source": [
    "numCols=['open_to_close_hour','response_to_resolved_hour','count_detail']\n",
    "scaler = StandardScaler()\n",
    "dfIncidnt.loc[:, numCols] = scaler.fit_transform(dfIncidnt[numCols])\n",
    "\n",
    "print(scaler.mean_)\n",
    "print(scaler.var_)\n",
    "\n",
    "dfIncidnt[['id']+numCols]\n",
    "\n"
   ]
  },
  {
   "cell_type": "markdown",
   "id": "2e3e2132-fb02-43f6-9256-7afecf4962f6",
   "metadata": {},
   "source": [
    "# Cate Value"
   ]
  },
  {
   "cell_type": "code",
   "execution_count": 33,
   "id": "fe85423c-7995-4870-9420-f4b7c87dd662",
   "metadata": {},
   "outputs": [],
   "source": [
    "from sklearn.preprocessing import OneHotEncoder\n",
    "from sklearn.compose import ColumnTransformer"
   ]
  },
  {
   "cell_type": "code",
   "execution_count": 34,
   "id": "58bd311f-c26d-4a68-893a-bdd3815df516",
   "metadata": {},
   "outputs": [
    {
     "name": "stdout",
     "output_type": "stream",
     "text": [
      "product_type =['Storage' 'Software' 'Server']\n",
      "service_type =['Incident' 'Request']\n"
     ]
    }
   ],
   "source": [
    "cateCols=['product_type','service_type']\n",
    "for cate  in cateCols: \n",
    "   print(f\"{cate} ={dfIncidnt[cate].unique()}\")"
   ]
  },
  {
   "cell_type": "code",
   "execution_count": 35,
   "id": "a6e0f732-7f59-49c9-802a-de6440ed5ce4",
   "metadata": {},
   "outputs": [
    {
     "data": {
      "text/html": [
       "<div>\n",
       "<style scoped>\n",
       "    .dataframe tbody tr th:only-of-type {\n",
       "        vertical-align: middle;\n",
       "    }\n",
       "\n",
       "    .dataframe tbody tr th {\n",
       "        vertical-align: top;\n",
       "    }\n",
       "\n",
       "    .dataframe thead th {\n",
       "        text-align: right;\n",
       "    }\n",
       "</style>\n",
       "<table border=\"1\" class=\"dataframe\">\n",
       "  <thead>\n",
       "    <tr style=\"text-align: right;\">\n",
       "      <th></th>\n",
       "      <th>__product_type_Server</th>\n",
       "      <th>__product_type_Software</th>\n",
       "      <th>__product_type_Storage</th>\n",
       "      <th>__service_type_Incident</th>\n",
       "      <th>__service_type_Request</th>\n",
       "    </tr>\n",
       "  </thead>\n",
       "  <tbody>\n",
       "    <tr>\n",
       "      <th>0</th>\n",
       "      <td>0.0</td>\n",
       "      <td>0.0</td>\n",
       "      <td>1.0</td>\n",
       "      <td>1.0</td>\n",
       "      <td>0.0</td>\n",
       "    </tr>\n",
       "    <tr>\n",
       "      <th>1</th>\n",
       "      <td>0.0</td>\n",
       "      <td>0.0</td>\n",
       "      <td>1.0</td>\n",
       "      <td>1.0</td>\n",
       "      <td>0.0</td>\n",
       "    </tr>\n",
       "    <tr>\n",
       "      <th>2</th>\n",
       "      <td>0.0</td>\n",
       "      <td>1.0</td>\n",
       "      <td>0.0</td>\n",
       "      <td>1.0</td>\n",
       "      <td>0.0</td>\n",
       "    </tr>\n",
       "    <tr>\n",
       "      <th>3</th>\n",
       "      <td>1.0</td>\n",
       "      <td>0.0</td>\n",
       "      <td>0.0</td>\n",
       "      <td>0.0</td>\n",
       "      <td>1.0</td>\n",
       "    </tr>\n",
       "  </tbody>\n",
       "</table>\n",
       "</div>"
      ],
      "text/plain": [
       "   __product_type_Server  __product_type_Software  __product_type_Storage  \\\n",
       "0                    0.0                      0.0                     1.0   \n",
       "1                    0.0                      0.0                     1.0   \n",
       "2                    0.0                      1.0                     0.0   \n",
       "3                    1.0                      0.0                     0.0   \n",
       "\n",
       "   __service_type_Incident  __service_type_Request  \n",
       "0                      1.0                     0.0  \n",
       "1                      1.0                     0.0  \n",
       "2                      1.0                     0.0  \n",
       "3                      0.0                     1.0  "
      ]
     },
     "execution_count": 35,
     "metadata": {},
     "output_type": "execute_result"
    }
   ],
   "source": [
    "categorical_transformer = OneHotEncoder(sparse_output=False, handle_unknown=\"ignore\")\n",
    "ct = ColumnTransformer(transformers=[(\"\", categorical_transformer,cateCols )],remainder='drop',)\n",
    "ct.set_output(transform='pandas')\n",
    "dfIncidntCate = ct.fit_transform(dfIncidnt)\n",
    "dfIncidntCate"
   ]
  },
  {
   "cell_type": "markdown",
   "id": "0b1ddbac-073a-4a7c-9f6d-51086a0100a5",
   "metadata": {},
   "source": [
    "# LabeL: {0: 'Cosmatic', 1: 'Minor', 2: 'Major', 3: 'Critical'}"
   ]
  },
  {
   "cell_type": "code",
   "execution_count": 39,
   "id": "897db879-b858-42f2-b53a-9b2c2a955fa4",
   "metadata": {},
   "outputs": [
    {
     "name": "stdout",
     "output_type": "stream",
     "text": [
      "[1 2 3 0]\n"
     ]
    }
   ],
   "source": [
    "import tensorflow as tf\n",
    "print(dfIncidnt['label_severity'].unique())"
   ]
  },
  {
   "cell_type": "code",
   "execution_count": 41,
   "id": "bd797a4d-4c0a-4ed2-bf84-4e1e2e7ee7f0",
   "metadata": {},
   "outputs": [
    {
     "data": {
      "text/html": [
       "<div>\n",
       "<style scoped>\n",
       "    .dataframe tbody tr th:only-of-type {\n",
       "        vertical-align: middle;\n",
       "    }\n",
       "\n",
       "    .dataframe tbody tr th {\n",
       "        vertical-align: top;\n",
       "    }\n",
       "\n",
       "    .dataframe thead th {\n",
       "        text-align: right;\n",
       "    }\n",
       "</style>\n",
       "<table border=\"1\" class=\"dataframe\">\n",
       "  <thead>\n",
       "    <tr style=\"text-align: right;\">\n",
       "      <th></th>\n",
       "      <th>label_0</th>\n",
       "      <th>label_1</th>\n",
       "      <th>label_2</th>\n",
       "      <th>label_3</th>\n",
       "    </tr>\n",
       "  </thead>\n",
       "  <tbody>\n",
       "    <tr>\n",
       "      <th>0</th>\n",
       "      <td>0.0</td>\n",
       "      <td>1.0</td>\n",
       "      <td>0.0</td>\n",
       "      <td>0.0</td>\n",
       "    </tr>\n",
       "    <tr>\n",
       "      <th>1</th>\n",
       "      <td>0.0</td>\n",
       "      <td>0.0</td>\n",
       "      <td>1.0</td>\n",
       "      <td>0.0</td>\n",
       "    </tr>\n",
       "    <tr>\n",
       "      <th>2</th>\n",
       "      <td>0.0</td>\n",
       "      <td>0.0</td>\n",
       "      <td>0.0</td>\n",
       "      <td>1.0</td>\n",
       "    </tr>\n",
       "    <tr>\n",
       "      <th>3</th>\n",
       "      <td>1.0</td>\n",
       "      <td>0.0</td>\n",
       "      <td>0.0</td>\n",
       "      <td>0.0</td>\n",
       "    </tr>\n",
       "  </tbody>\n",
       "</table>\n",
       "</div>"
      ],
      "text/plain": [
       "   label_0  label_1  label_2  label_3\n",
       "0      0.0      1.0      0.0      0.0\n",
       "1      0.0      0.0      1.0      0.0\n",
       "2      0.0      0.0      0.0      1.0\n",
       "3      1.0      0.0      0.0      0.0"
      ]
     },
     "execution_count": 41,
     "metadata": {},
     "output_type": "execute_result"
    }
   ],
   "source": [
    "#dictNameToLabel={'Cosmatic':0,'Minor':1, 'Major':2, 'Critical':3}\n",
    "dictLabelName={0: 'Cosmatic', 1: 'Minor', 2: 'Major', 3: 'Critical'}\n",
    "labels  = tf.keras.utils.to_categorical(dfIncidnt['label_severity'], num_classes=len(dfIncidnt['label_severity'].unique()))\n",
    "label_cols=[ f\"label_{key}\" for key,value in dictLabelName.items() ]\n",
    "\n",
    "dfLabels=pd.DataFrame(data=labels,columns=label_cols)\n",
    "dfLabels"
   ]
  },
  {
   "cell_type": "code",
   "execution_count": null,
   "id": "1b99df3f-9414-439e-b3e1-4f87174d6038",
   "metadata": {},
   "outputs": [],
   "source": [
    "# from sklearn.preprocessing import LabelEncoder\n",
    "\n",
    "# cateCols=['product_type','service_type']\n",
    "# cateFeatEncoder = LabelEncoder()\n",
    "# for col in cateCols:\n",
    "#  dfIncidnt[col]=cateFeatEncoder.fit_transform(dfIncidnt[col])\n",
    "# dfIncidnt"
   ]
  },
  {
   "cell_type": "code",
   "execution_count": null,
   "id": "01c2dfd4-6c99-4604-845c-eeae39a2db16",
   "metadata": {},
   "outputs": [],
   "source": []
  }
 ],
 "metadata": {
  "kernelspec": {
   "display_name": "Python 3 (ipykernel)",
   "language": "python",
   "name": "python3"
  },
  "language_info": {
   "codemirror_mode": {
    "name": "ipython",
    "version": 3
   },
   "file_extension": ".py",
   "mimetype": "text/x-python",
   "name": "python",
   "nbconvert_exporter": "python",
   "pygments_lexer": "ipython3",
   "version": "3.9.16"
  }
 },
 "nbformat": 4,
 "nbformat_minor": 5
}
