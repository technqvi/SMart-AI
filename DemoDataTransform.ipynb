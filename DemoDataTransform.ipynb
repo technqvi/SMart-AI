{
 "cells": [
  {
   "cell_type": "code",
   "execution_count": null,
   "id": "ab8d9e98-4215-4457-bf48-f758dfb969f7",
   "metadata": {},
   "outputs": [],
   "source": [
    "import pandas as pd\n"
   ]
  },
  {
   "cell_type": "markdown",
   "id": "0eb864f8-743e-4d57-af04-24c3f0d26370",
   "metadata": {},
   "source": [
    "# Numberic Value"
   ]
  },
  {
   "cell_type": "code",
   "execution_count": null,
   "id": "bef9f90d-9244-4746-9d59-7d1ae7f07e5e",
   "metadata": {},
   "outputs": [],
   "source": [
    "worker=[ [1,'john',25,5000,2],[2,'tom',35,8000,15],[3,'peter',2,15,30] ]\n",
    "dfWorker=pd.DataFrame(data=worker,columns=['id','name','age','salary_base_dollar','year_experience'])\n",
    "dfWorker"
   ]
  },
  {
   "cell_type": "code",
   "execution_count": null,
   "id": "2f8707a0-ca65-45f6-9e80-bfec47fbe061",
   "metadata": {},
   "outputs": [],
   "source": [
    "from sklearn.preprocessing import StandardScaler\n",
    "#https://scikit-learn.org/stable/modules/generated/sklearn.preprocessing.StandardScaler.html\n",
    "numCols=['age','salary_base_dollar','year_experience']\n",
    "scaler = StandardScaler()\n",
    "dfWorker.loc[:, numCols] = scaler.fit_transform(dfWorker[numCols])\n",
    "\n",
    "print(scaler.mean_)\n",
    "print(scaler.var_)\n",
    "\n",
    "dfWorker"
   ]
  },
  {
   "cell_type": "code",
   "execution_count": null,
   "id": "f2dc7b74-1e7a-421b-a267-db75b43039ae",
   "metadata": {},
   "outputs": [],
   "source": [
    "incidnt=[ [1,'Storage','Incident',24,16,2,1],[2,'Storage','Incident',168,150,3,2],\n",
    "         [3,'Software','Incident',720,70,2,3],[5,'Server','Request',2160,2000,1,0] ]\n",
    "dfIncidnt=pd.DataFrame(data=incidnt,columns=['id','product_type','service_type',\n",
    "                                             'open_to_close_hour','response_to_resolved_hour','count_detail','label_severity'])\n",
    "dfIncidnt"
   ]
  },
  {
   "cell_type": "code",
   "execution_count": null,
   "id": "72771400-b660-4941-b07d-e0335a5972a5",
   "metadata": {},
   "outputs": [],
   "source": [
    "numCols=['open_to_close_hour','response_to_resolved_hour','count_detail']\n",
    "scaler = StandardScaler()\n",
    "dfIncidnt.loc[:, numCols] = scaler.fit_transform(dfIncidnt[numCols])\n",
    "\n",
    "print(scaler.mean_)\n",
    "print(scaler.var_)\n",
    "\n",
    "dfIncidnt[['id']+numCols]\n",
    "\n"
   ]
  },
  {
   "cell_type": "markdown",
   "id": "2e3e2132-fb02-43f6-9256-7afecf4962f6",
   "metadata": {},
   "source": [
    "# Cate Value"
   ]
  },
  {
   "cell_type": "code",
   "execution_count": null,
   "id": "fe85423c-7995-4870-9420-f4b7c87dd662",
   "metadata": {},
   "outputs": [],
   "source": [
    "from sklearn.preprocessing import OneHotEncoder\n",
    "from sklearn.compose import ColumnTransformer"
   ]
  },
  {
   "cell_type": "code",
   "execution_count": null,
   "id": "58bd311f-c26d-4a68-893a-bdd3815df516",
   "metadata": {},
   "outputs": [],
   "source": [
    "cateCols=['product_type','service_type']\n",
    "for cate  in cateCols: \n",
    "   print(f\"{cate} ={dfIncidnt[cate].unique()}\")"
   ]
  },
  {
   "cell_type": "code",
   "execution_count": null,
   "id": "a6e0f732-7f59-49c9-802a-de6440ed5ce4",
   "metadata": {},
   "outputs": [],
   "source": [
    "categorical_transformer = OneHotEncoder(sparse_output=False, handle_unknown=\"ignore\")\n",
    "ct = ColumnTransformer(transformers=[(\"\", categorical_transformer,cateCols )],remainder='drop',)\n",
    "ct.set_output(transform='pandas')\n",
    "dfIncidntCate = ct.fit_transform(dfIncidnt)\n",
    "dfIncidntCate"
   ]
  },
  {
   "cell_type": "markdown",
   "id": "0b1ddbac-073a-4a7c-9f6d-51086a0100a5",
   "metadata": {},
   "source": [
    "# LabeL: {0: 'Cosmatic', 1: 'Minor', 2: 'Major', 3: 'Critical'}"
   ]
  },
  {
   "cell_type": "code",
   "execution_count": null,
   "id": "897db879-b858-42f2-b53a-9b2c2a955fa4",
   "metadata": {},
   "outputs": [],
   "source": [
    "import tensorflow as tf\n",
    "print(dfIncidnt['label_severity'].unique())"
   ]
  },
  {
   "cell_type": "code",
   "execution_count": null,
   "id": "bd797a4d-4c0a-4ed2-bf84-4e1e2e7ee7f0",
   "metadata": {},
   "outputs": [],
   "source": [
    "#dictNameToLabel={'Cosmatic':0,'Minor':1, 'Major':2, 'Critical':3}\n",
    "dictLabelName={0: 'Cosmatic', 1: 'Minor', 2: 'Major', 3: 'Critical'}\n",
    "labels  = tf.keras.utils.to_categorical(dfIncidnt['label_severity'], num_classes=len(dfIncidnt['label_severity'].unique()))\n",
    "label_cols=[ f\"label_{key}\" for key,value in dictLabelName.items() ]\n",
    "\n",
    "dfLabels=pd.DataFrame(data=labels,columns=label_cols)\n",
    "dfLabels"
   ]
  },
  {
   "cell_type": "code",
   "execution_count": null,
   "id": "1b99df3f-9414-439e-b3e1-4f87174d6038",
   "metadata": {},
   "outputs": [],
   "source": [
    "# from sklearn.preprocessing import LabelEncoder\n",
    "\n",
    "# cateCols=['product_type','service_type']\n",
    "# cateFeatEncoder = LabelEncoder()\n",
    "# for col in cateCols:\n",
    "#  dfIncidnt[col]=cateFeatEncoder.fit_transform(dfIncidnt[col])\n",
    "# dfIncidnt"
   ]
  },
  {
   "cell_type": "code",
   "execution_count": null,
   "id": "01c2dfd4-6c99-4604-845c-eeae39a2db16",
   "metadata": {},
   "outputs": [],
   "source": []
  }
 ],
 "metadata": {
  "kernelspec": {
   "display_name": "Python 3 (ipykernel)",
   "language": "python",
   "name": "python3"
  },
  "language_info": {
   "codemirror_mode": {
    "name": "ipython",
    "version": 3
   },
   "file_extension": ".py",
   "mimetype": "text/x-python",
   "name": "python",
   "nbconvert_exporter": "python",
   "pygments_lexer": "ipython3",
   "version": "3.10.12"
  }
 },
 "nbformat": 4,
 "nbformat_minor": 5
}
