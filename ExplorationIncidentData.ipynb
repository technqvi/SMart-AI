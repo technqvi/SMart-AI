{
 "cells": [
  {
   "cell_type": "code",
   "execution_count": 121,
   "id": "30a368c3-7ced-40d0-90db-33650d68c12a",
   "metadata": {},
   "outputs": [],
   "source": [
    "from google.cloud import bigquery\n",
    "from google.cloud import storage\n",
    "import pandas as pd\n",
    "import numpy as np\n",
    "from scipy import stats\n",
    "import seaborn as sns\n",
    "import plotly.express as px\n",
    "import matplotlib.pyplot  as plt\n",
    "import math"
   ]
  },
  {
   "cell_type": "code",
   "execution_count": 122,
   "id": "6a5d5e4c-2e2d-472d-9095-8e2069b8233c",
   "metadata": {},
   "outputs": [],
   "source": [
    "isLastUpdate=False\n",
    "label='severity_id'\n",
    "labelName='severity_name'\n",
    "\n",
    "removeCols=['id','updated_at','imported_at']\n",
    "\n",
    "dateCols=['open_datetime','close_datetime','response_datetime','resolved_datetime']\n",
    "\n",
    "numbericCols=['count_detail','open_to_close_hour','open_to_response_hour','response_to_resolved_hour']\n",
    "#numbericCols=['count_detail','open_to_close_hour']\n",
    "\n",
    "cateCols=['sla','product_type','brand','service_type','incident_type']"
   ]
  },
  {
   "cell_type": "code",
   "execution_count": 123,
   "id": "a422e440-0c9b-4dea-bf5e-a9e87aa42ae8",
   "metadata": {},
   "outputs": [],
   "source": [
    "def load_data_bq(sql:str):\n",
    " client_bq = bigquery.Client()\n",
    " query_result=client_bq.query(sql)\n",
    " df_all=query_result.to_dataframe()\n",
    " return df_all"
   ]
  },
  {
   "cell_type": "code",
   "execution_count": 124,
   "id": "c9620595-e870-4dad-b99f-a34e95e5cce2",
   "metadata": {},
   "outputs": [
    {
     "name": "stdout",
     "output_type": "stream",
     "text": [
      "Load data from Load CSV\n",
      "<class 'pandas.core.frame.DataFrame'>\n",
      "Int64Index: 2252 entries, 0 to 2255\n",
      "Data columns (total 15 columns):\n",
      " #   Column             Non-Null Count  Dtype         \n",
      "---  ------             --------------  -----         \n",
      " 0   id                 2252 non-null   int64         \n",
      " 1   severity_id        2252 non-null   int64         \n",
      " 2   severity_name      2252 non-null   object        \n",
      " 3   count_detail       2252 non-null   int64         \n",
      " 4   sla                2252 non-null   object        \n",
      " 5   product_type       2252 non-null   object        \n",
      " 6   brand              2252 non-null   object        \n",
      " 7   service_type       2252 non-null   object        \n",
      " 8   incident_type      2252 non-null   object        \n",
      " 9   open_datetime      2252 non-null   datetime64[ns]\n",
      " 10  close_datetime     2252 non-null   datetime64[ns]\n",
      " 11  response_datetime  2252 non-null   datetime64[ns]\n",
      " 12  resolved_datetime  2252 non-null   datetime64[ns]\n",
      " 13  updated_at         2252 non-null   object        \n",
      " 14  imported_at        2252 non-null   object        \n",
      "dtypes: datetime64[ns](4), int64(3), object(8)\n",
      "memory usage: 281.5+ KB\n"
     ]
    }
   ],
   "source": [
    "sql_all=\"\"\"\n",
    "\n",
    "SELECT  id,\n",
    "severity_id,severity_name,\n",
    "count_detail,sla,\n",
    "product_type,brand,service_type,incident_type,\n",
    "open_datetime,  close_datetime, response_datetime,resolved_datetime, \n",
    "updated_at,imported_at\n",
    "FROM `pongthorn.SMartDW.incident` WHERE open_datetime > '2000-01-01'\n",
    "\n",
    "order by imported_at\n",
    "\n",
    "\"\"\"\n",
    "\n",
    "if isLastUpdate:\n",
    "    print(\"Load data from Bigquery\")\n",
    "    df_all=load_data_bq(sql_all)\n",
    "    if len(df_all)>0:\n",
    "     df_all.to_csv('Incident.csv',index=False)\n",
    "    else:\n",
    "     print(\"No records from bigquery\")   \n",
    "else:\n",
    "    print(\"Load data from Load CSV\")\n",
    "    df_all=pd.read_csv('Incident.csv',parse_dates=dateCols)\n",
    "    \n",
    "df_all=df_all.drop_duplicates(subset=['id'],keep='first')\n",
    "\n",
    "df_all.info()\n"
   ]
  },
  {
   "cell_type": "markdown",
   "id": "1baf186a-e117-4f30-8673-dbe5062009a0",
   "metadata": {},
   "source": [
    "# Manage Numberic Cols"
   ]
  },
  {
   "cell_type": "code",
   "execution_count": 125,
   "id": "7052fae2-17b8-4620-b25c-1e0bc7aea4bc",
   "metadata": {},
   "outputs": [],
   "source": [
    "start_end_list=[ ['open_datetime','close_datetime'],['open_datetime','response_datetime'],['response_datetime','resolved_datetime']]\n",
    "listDiffDateDeltaCols=[]\n",
    "listDiffHourCols=[]\n",
    "for item  in  start_end_list:\n",
    "   diff_str=f\"{item[0]}_to_{item[1]}\" \n",
    "   diff_str=diff_str.replace('_datetime','')  \n",
    "   listDiffDateDeltaCols.append(diff_str)\n",
    "   df_all[diff_str]=df_all[item[1]]-df_all[item[0]]\n",
    "    \n",
    "   diff_hour=f'{diff_str}_hour'\n",
    "   listDiffHourCols.append(diff_hour)\n",
    "   df_all[diff_hour] = df_all[diff_str].apply(lambda x:  x.total_seconds() / (60*60) if x is not np.nan else np.nan  )\n",
    "xScoreDiffHourCols=[]\n",
    "for col in listDiffHourCols:\n",
    "  z_col=f\"zscore_{col}\"   \n",
    "  df_all[z_col] = np.abs(stats.zscore(df_all[col]))   \n",
    "  xScoreDiffHourCols.append(z_col)  \n",
    "#remove oulier\n",
    "threshold_x_sd = 2\n",
    "for col in  xScoreDiffHourCols:\n",
    "  df_all=df_all.query(f\"{col}<@threshold_x_sd\")"
   ]
  },
  {
   "cell_type": "code",
   "execution_count": 126,
   "id": "373f6322-54a1-43ef-b320-a2440c05ff70",
   "metadata": {},
   "outputs": [
    {
     "name": "stdout",
     "output_type": "stream",
     "text": [
      "No. 0-hour row on count_detail = 114(5.2 %)\n",
      "No. 0-hour row on open_to_close_hour = 1(0.0 %)\n",
      "No. 0-hour row on open_to_response_hour = 427(19.6 %)\n",
      "No. 0-hour row on response_to_resolved_hour = 88(4.0 %)\n"
     ]
    }
   ],
   "source": [
    "# Find any rows  contain 0\n",
    "allRows=df_all.shape[0]\n",
    "for col in numbericCols:\n",
    "    zeroRows=len(df_all.query(f\"{col}==0\"))\n",
    "    pctZeroHour=round(zeroRows/allRows*100,1)\n",
    "    print(f\"No. 0-hour row on {col} = {zeroRows}({pctZeroHour} %)\")"
   ]
  },
  {
   "cell_type": "code",
   "execution_count": 127,
   "id": "c800b127-8282-4c60-a409-04dbe57a688a",
   "metadata": {},
   "outputs": [],
   "source": [
    "def explore_ranges_numberic_val(col,rangeList):\n",
    "    print(col)\n",
    "    rangeList.sort()\n",
    "    return pd.cut(df_all[col],rangeList, right=True).value_counts()"
   ]
  },
  {
   "cell_type": "code",
   "execution_count": 128,
   "id": "8cca43da-7d85-4a2e-8f11-5ee869f554ad",
   "metadata": {},
   "outputs": [
    {
     "name": "stdout",
     "output_type": "stream",
     "text": [
      "open_to_close_hour\n",
      "(0, 24]        1500\n",
      "(24, 168]       438\n",
      "(168, 360]      113\n",
      "(720, 1511]      62\n",
      "(360, 720]       60\n",
      "Name: open_to_close_hour, dtype: int64\n",
      "=======================================================\n",
      "response_to_resolved_hour\n",
      "(0, 4]        712\n",
      "(24, 1398]    525\n",
      "(4, 8]        503\n",
      "(12, 24]      191\n",
      "(8, 12]       155\n",
      "Name: response_to_resolved_hour, dtype: int64\n",
      "=======================================================\n",
      "open_to_response_hour\n",
      "(0, 4]      1624\n",
      "(12, 24]      43\n",
      "(4, 8]        32\n",
      "(24, 74]      26\n",
      "(8, 12]       22\n",
      "Name: open_to_response_hour, dtype: int64\n",
      "=======================================================\n",
      "count_detail\n",
      "(0, 2]     1651\n",
      "(2, 4]      252\n",
      "(4, 35]     158\n",
      "Name: count_detail, dtype: int64\n",
      "=======================================================\n"
     ]
    }
   ],
   "source": [
    "range1= [0,24, 168, 360, 720,math.floor(df_all['open_to_close_hour'].max())]\n",
    "print(explore_ranges_numberic_val('open_to_close_hour',range1))\n",
    "print(\"=======================================================\")\n",
    "\n",
    "range2= [0,4, 8, 12, 24,math.floor(df_all['response_to_resolved_hour'].max())]\n",
    "print(explore_ranges_numberic_val('response_to_resolved_hour',range2))\n",
    "print(\"=======================================================\")\n",
    "\n",
    "range3= [0,4, 8, 12, 24,math.floor(df_all['open_to_response_hour'].max())]\n",
    "print(explore_ranges_numberic_val('open_to_response_hour',range3))\n",
    "print(\"=======================================================\")\n",
    "\n",
    "range4= [0,2, 4,math.floor(df_all['count_detail'].max())]\n",
    "print(explore_ranges_numberic_val('count_detail',range4))\n",
    "print(\"=======================================================\")"
   ]
  },
  {
   "cell_type": "code",
   "execution_count": 129,
   "id": "d897da2f-1912-467e-a673-03f5d0855c24",
   "metadata": {},
   "outputs": [
    {
     "name": "stdout",
     "output_type": "stream",
     "text": [
      "remove some cate featurs that have imcompelte data\n"
     ]
    },
    {
     "data": {
      "text/plain": [
       "['open_to_close_hour', 'response_to_resolved_hour']"
      ]
     },
     "execution_count": 129,
     "metadata": {},
     "output_type": "execute_result"
    }
   ],
   "source": [
    "print(\"remove some cate featurs that have imcompelte data\")\n",
    "numColsRemove=['open_to_response_hour','count_detail'] \n",
    "numbericCols=[x for x in numbericCols if x not in numColsRemove]   \n",
    "numbericCols"
   ]
  },
  {
   "cell_type": "code",
   "execution_count": 130,
   "id": "a385df94-ae67-4060-a932-2a7ff14c5720",
   "metadata": {},
   "outputs": [],
   "source": [
    "df_all=df_all.query('response_to_resolved_hour!=0')"
   ]
  },
  {
   "cell_type": "code",
   "execution_count": 131,
   "id": "eaa1e9cb-7c9a-4cc7-aa2c-51639b481d47",
   "metadata": {},
   "outputs": [
    {
     "name": "stdout",
     "output_type": "stream",
     "text": [
      "<class 'pandas.core.frame.DataFrame'>\n",
      "Int64Index: 2087 entries, 0 to 2255\n",
      "Data columns (total 9 columns):\n",
      " #   Column                     Non-Null Count  Dtype  \n",
      "---  ------                     --------------  -----  \n",
      " 0   severity_id                2087 non-null   int64  \n",
      " 1   severity_name              2087 non-null   object \n",
      " 2   sla                        2087 non-null   object \n",
      " 3   product_type               2087 non-null   object \n",
      " 4   brand                      2087 non-null   object \n",
      " 5   service_type               2087 non-null   object \n",
      " 6   incident_type              2087 non-null   object \n",
      " 7   open_to_close_hour         2087 non-null   float64\n",
      " 8   response_to_resolved_hour  2087 non-null   float64\n",
      "dtypes: float64(2), int64(1), object(6)\n",
      "memory usage: 163.0+ KB\n"
     ]
    }
   ],
   "source": [
    "removeCols=removeCols+dateCols+xScoreDiffHourCols+listDiffDateDeltaCols+numColsRemove\n",
    "df_all=df_all.drop(columns=removeCols)\n",
    "df_all.info()"
   ]
  },
  {
   "cell_type": "code",
   "execution_count": 137,
   "id": "0fc225cc-d745-475d-9e1b-8a41fdda72a2",
   "metadata": {},
   "outputs": [
    {
     "data": {
      "text/html": [
       "<div>\n",
       "<style scoped>\n",
       "    .dataframe tbody tr th:only-of-type {\n",
       "        vertical-align: middle;\n",
       "    }\n",
       "\n",
       "    .dataframe tbody tr th {\n",
       "        vertical-align: top;\n",
       "    }\n",
       "\n",
       "    .dataframe thead th {\n",
       "        text-align: right;\n",
       "    }\n",
       "</style>\n",
       "<table border=\"1\" class=\"dataframe\">\n",
       "  <thead>\n",
       "    <tr style=\"text-align: right;\">\n",
       "      <th></th>\n",
       "      <th>severity_id</th>\n",
       "      <th>open_to_close_hour</th>\n",
       "      <th>response_to_resolved_hour</th>\n",
       "    </tr>\n",
       "  </thead>\n",
       "  <tbody>\n",
       "    <tr>\n",
       "      <th>count</th>\n",
       "      <td>2087.000000</td>\n",
       "      <td>2087.000000</td>\n",
       "      <td>2087.000000</td>\n",
       "    </tr>\n",
       "    <tr>\n",
       "      <th>mean</th>\n",
       "      <td>2.597988</td>\n",
       "      <td>79.448962</td>\n",
       "      <td>57.930762</td>\n",
       "    </tr>\n",
       "    <tr>\n",
       "      <th>std</th>\n",
       "      <td>0.842800</td>\n",
       "      <td>209.782957</td>\n",
       "      <td>169.336064</td>\n",
       "    </tr>\n",
       "    <tr>\n",
       "      <th>min</th>\n",
       "      <td>1.000000</td>\n",
       "      <td>0.166667</td>\n",
       "      <td>0.016667</td>\n",
       "    </tr>\n",
       "    <tr>\n",
       "      <th>25%</th>\n",
       "      <td>2.000000</td>\n",
       "      <td>4.158333</td>\n",
       "      <td>3.000000</td>\n",
       "    </tr>\n",
       "    <tr>\n",
       "      <th>50%</th>\n",
       "      <td>2.000000</td>\n",
       "      <td>8.600000</td>\n",
       "      <td>6.966667</td>\n",
       "    </tr>\n",
       "    <tr>\n",
       "      <th>75%</th>\n",
       "      <td>3.000000</td>\n",
       "      <td>33.983333</td>\n",
       "      <td>24.183333</td>\n",
       "    </tr>\n",
       "    <tr>\n",
       "      <th>max</th>\n",
       "      <td>4.000000</td>\n",
       "      <td>1511.600000</td>\n",
       "      <td>1398.916667</td>\n",
       "    </tr>\n",
       "  </tbody>\n",
       "</table>\n",
       "</div>"
      ],
      "text/plain": [
       "       severity_id  open_to_close_hour  response_to_resolved_hour\n",
       "count  2087.000000         2087.000000                2087.000000\n",
       "mean      2.597988           79.448962                  57.930762\n",
       "std       0.842800          209.782957                 169.336064\n",
       "min       1.000000            0.166667                   0.016667\n",
       "25%       2.000000            4.158333                   3.000000\n",
       "50%       2.000000            8.600000                   6.966667\n",
       "75%       3.000000           33.983333                  24.183333\n",
       "max       4.000000         1511.600000                1398.916667"
      ]
     },
     "execution_count": 137,
     "metadata": {},
     "output_type": "execute_result"
    }
   ],
   "source": [
    "df_all.describe()"
   ]
  },
  {
   "cell_type": "code",
   "execution_count": 135,
   "id": "00b61ed6-8719-460a-a17e-225fdb9d992c",
   "metadata": {},
   "outputs": [
    {
     "name": "stderr",
     "output_type": "stream",
     "text": [
      "D:\\ProgramData\\Anaconda3\\envs\\myquant_exp\\lib\\site-packages\\seaborn\\_decorators.py:36: FutureWarning: Pass the following variable as a keyword arg: x. From version 0.12, the only valid positional argument will be `data`, and passing other arguments without an explicit keyword will result in an error or misinterpretation.\n",
      "  warnings.warn(\n",
      "D:\\ProgramData\\Anaconda3\\envs\\myquant_exp\\lib\\site-packages\\seaborn\\_decorators.py:36: FutureWarning: Pass the following variable as a keyword arg: x. From version 0.12, the only valid positional argument will be `data`, and passing other arguments without an explicit keyword will result in an error or misinterpretation.\n",
      "  warnings.warn(\n"
     ]
    },
    {
     "data": {
      "image/png": "[encoded data removed]",
      "text/plain": [
       "<Figure size 1080x432 with 2 Axes>"
      ]
     },
     "metadata": {
      "needs_background": "light"
     },
     "output_type": "display_data"
    }
   ],
   "source": [
    "fig, axs = plt.subplots(nrows=1, ncols=len(numbericCols),figsize=(15,6))\n",
    "idx=0\n",
    "for col in numbericCols:\n",
    "  sns.boxplot(df_all[col],ax=axs[idx]).set_title(col)\n",
    "  idx=idx+1  \n",
    "plt.show()\n"
   ]
  },
  {
   "cell_type": "code",
   "execution_count": 136,
   "id": "2822d5b2-5a75-4477-bba8-c427b009dcaf",
   "metadata": {},
   "outputs": [
    {
     "data": {
      "text/plain": [
       "array([[<AxesSubplot:title={'center':'open_to_close_hour'}>,\n",
       "        <AxesSubplot:title={'center':'response_to_resolved_hour'}>]],\n",
       "      dtype=object)"
      ]
     },
     "execution_count": 136,
     "metadata": {},
     "output_type": "execute_result"
    },
    {
     "data": {
      "image/png": "[encoded data removed]",
      "text/plain": [
       "<Figure size 432x288 with 2 Axes>"
      ]
     },
     "metadata": {
      "needs_background": "light"
     },
     "output_type": "display_data"
    }
   ],
   "source": [
    "df_all[numbericCols].hist()"
   ]
  },
  {
   "cell_type": "markdown",
   "id": "3b89ad3e-2e20-4851-b902-f3e26b525156",
   "metadata": {},
   "source": [
    "# Manage Categorical Cols"
   ]
  },
  {
   "cell_type": "code",
   "execution_count": 138,
   "id": "be85c8aa-cf4a-4fea-838c-db6c7de73456",
   "metadata": {},
   "outputs": [
    {
     "data": {
      "text/html": [
       "<div>\n",
       "<style scoped>\n",
       "    .dataframe tbody tr th:only-of-type {\n",
       "        vertical-align: middle;\n",
       "    }\n",
       "\n",
       "    .dataframe tbody tr th {\n",
       "        vertical-align: top;\n",
       "    }\n",
       "\n",
       "    .dataframe thead th {\n",
       "        text-align: right;\n",
       "    }\n",
       "</style>\n",
       "<table border=\"1\" class=\"dataframe\">\n",
       "  <thead>\n",
       "    <tr style=\"text-align: right;\">\n",
       "      <th></th>\n",
       "      <th>sla</th>\n",
       "      <th>product_type</th>\n",
       "      <th>brand</th>\n",
       "      <th>service_type</th>\n",
       "      <th>incident_type</th>\n",
       "    </tr>\n",
       "  </thead>\n",
       "  <tbody>\n",
       "    <tr>\n",
       "      <th>0</th>\n",
       "      <td>24x7 4Hrs Response Time</td>\n",
       "      <td>Software</td>\n",
       "      <td>VMWare</td>\n",
       "      <td>Request</td>\n",
       "      <td>General Incident</td>\n",
       "    </tr>\n",
       "    <tr>\n",
       "      <th>1</th>\n",
       "      <td>24x7 4Hrs Response Time</td>\n",
       "      <td>Software</td>\n",
       "      <td>Trend Micro</td>\n",
       "      <td>Request</td>\n",
       "      <td>General Incident</td>\n",
       "    </tr>\n",
       "    <tr>\n",
       "      <th>2</th>\n",
       "      <td>24x7 4Hrs Resolution Time</td>\n",
       "      <td>Software</td>\n",
       "      <td>VMWare</td>\n",
       "      <td>Request</td>\n",
       "      <td>Upgrade Software</td>\n",
       "    </tr>\n",
       "    <tr>\n",
       "      <th>3</th>\n",
       "      <td>24x7 4Hrs Resolution Time</td>\n",
       "      <td>Other</td>\n",
       "      <td>F5</td>\n",
       "      <td>Request</td>\n",
       "      <td>General Incident</td>\n",
       "    </tr>\n",
       "    <tr>\n",
       "      <th>4</th>\n",
       "      <td>24x7 4Hrs Resolution Time</td>\n",
       "      <td>Firewall</td>\n",
       "      <td>Palo Alto</td>\n",
       "      <td>Request</td>\n",
       "      <td>General Incident</td>\n",
       "    </tr>\n",
       "    <tr>\n",
       "      <th>...</th>\n",
       "      <td>...</td>\n",
       "      <td>...</td>\n",
       "      <td>...</td>\n",
       "      <td>...</td>\n",
       "      <td>...</td>\n",
       "    </tr>\n",
       "    <tr>\n",
       "      <th>2251</th>\n",
       "      <td>24x7 4Hrs Resolution Time</td>\n",
       "      <td>Hardware</td>\n",
       "      <td>Oracle</td>\n",
       "      <td>Incident</td>\n",
       "      <td>Hard Disk Drive Failure</td>\n",
       "    </tr>\n",
       "    <tr>\n",
       "      <th>2252</th>\n",
       "      <td>24x7 4Hrs Resolution Time</td>\n",
       "      <td>Server</td>\n",
       "      <td>HPE</td>\n",
       "      <td>Incident</td>\n",
       "      <td>General Incident</td>\n",
       "    </tr>\n",
       "    <tr>\n",
       "      <th>2253</th>\n",
       "      <td>24x7 4Hrs Resolution Time</td>\n",
       "      <td>Server</td>\n",
       "      <td>HPE</td>\n",
       "      <td>Incident</td>\n",
       "      <td>General Incident</td>\n",
       "    </tr>\n",
       "    <tr>\n",
       "      <th>2254</th>\n",
       "      <td>24x7 4Hrs Resolution Time</td>\n",
       "      <td>Storage</td>\n",
       "      <td>NetApp</td>\n",
       "      <td>Incident</td>\n",
       "      <td>General Incident</td>\n",
       "    </tr>\n",
       "    <tr>\n",
       "      <th>2255</th>\n",
       "      <td>24x7 4Hrs Response Time</td>\n",
       "      <td>Storage</td>\n",
       "      <td>EMC</td>\n",
       "      <td>Incident</td>\n",
       "      <td>General Incident</td>\n",
       "    </tr>\n",
       "  </tbody>\n",
       "</table>\n",
       "<p>2087 rows × 5 columns</p>\n",
       "</div>"
      ],
      "text/plain": [
       "                            sla product_type        brand service_type  \\\n",
       "0       24x7 4Hrs Response Time     Software       VMWare      Request   \n",
       "1       24x7 4Hrs Response Time     Software  Trend Micro      Request   \n",
       "2     24x7 4Hrs Resolution Time     Software       VMWare      Request   \n",
       "3     24x7 4Hrs Resolution Time        Other           F5      Request   \n",
       "4     24x7 4Hrs Resolution Time     Firewall    Palo Alto      Request   \n",
       "...                         ...          ...          ...          ...   \n",
       "2251  24x7 4Hrs Resolution Time     Hardware       Oracle     Incident   \n",
       "2252  24x7 4Hrs Resolution Time       Server          HPE     Incident   \n",
       "2253  24x7 4Hrs Resolution Time       Server          HPE     Incident   \n",
       "2254  24x7 4Hrs Resolution Time      Storage       NetApp     Incident   \n",
       "2255    24x7 4Hrs Response Time      Storage          EMC     Incident   \n",
       "\n",
       "                incident_type  \n",
       "0            General Incident  \n",
       "1            General Incident  \n",
       "2            Upgrade Software  \n",
       "3            General Incident  \n",
       "4            General Incident  \n",
       "...                       ...  \n",
       "2251  Hard Disk Drive Failure  \n",
       "2252         General Incident  \n",
       "2253         General Incident  \n",
       "2254         General Incident  \n",
       "2255         General Incident  \n",
       "\n",
       "[2087 rows x 5 columns]"
      ]
     },
     "execution_count": 138,
     "metadata": {},
     "output_type": "execute_result"
    }
   ],
   "source": [
    "df_all[cateCols]"
   ]
  },
  {
   "cell_type": "code",
   "execution_count": null,
   "id": "b301e4cc-267c-4468-80ed-309d5cf247ee",
   "metadata": {},
   "outputs": [],
   "source": []
  }
 ],
 "metadata": {
  "kernelspec": {
   "display_name": "Python 3 (ipykernel)",
   "language": "python",
   "name": "python3"
  },
  "language_info": {
   "codemirror_mode": {
    "name": "ipython",
    "version": 3
   },
   "file_extension": ".py",
   "mimetype": "text/x-python",
   "name": "python",
   "nbconvert_exporter": "python",
   "pygments_lexer": "ipython3",
   "version": "3.9.12"
  }
 },
 "nbformat": 4,
 "nbformat_minor": 5
}
