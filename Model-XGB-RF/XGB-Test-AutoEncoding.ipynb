{
 "cells": [
  {
   "cell_type": "code",
   "execution_count": null,
   "id": "5399b8df-1ce2-4a84-a7de-e596dc57cff2",
   "metadata": {},
   "outputs": [],
   "source": [
    "import pandas as pd\n",
    "import xgboost as xgb\n",
    "from sklearn.model_selection import train_test_split\n",
    "from sklearn.metrics import accuracy_score\n",
    "from sklearn.preprocessing import LabelEncoder\n",
    "import matplotlib.pyplot as plt\n",
    "import seaborn as sns\n",
    "from sklearn.preprocessing import OneHotEncoder\n",
    "from sklearn.compose import ColumnTransformer\n",
    "\n",
    "\n",
    "from sklearn.model_selection import KFold,StratifiedKFold\n",
    "from sklearn.model_selection import cross_val_score\n",
    "import matplotlib.pyplot  as plt\n",
    "import os\n"
   ]
  },
  {
   "cell_type": "code",
   "execution_count": null,
   "id": "221e4124-5f96-4bc1-b39c-90f8208ace65",
   "metadata": {},
   "outputs": [],
   "source": [
    "print(xgb.__version__)"
   ]
  },
  {
   "cell_type": "code",
   "execution_count": null,
   "id": "5de30887-34bf-459c-ab5e-9855f0472d59",
   "metadata": {},
   "outputs": [],
   "source": [
    "# dateTimeCols=['open_datetime','response_datetime','resolved_datetime','close_datetime']\n",
    "dateTimeCols=['open_datetime','close_datetime']\n",
    "\n",
    "cateFeatures=['product_type','brand','incident_type','service_type','is_failure_type','sla']\n",
    "\n",
    "# numericFeatures=['count_detail','open_to_close_hour','response_to_resolved_hour','open_to_response_hour','resolved_to_close_hour']\n",
    "numericFeatures=['count_detail','open_to_close_hour']\n",
    "\n",
    "colLabel='severity_label'\n",
    "\n",
    "\n",
    "calLabelRefInfo=[colLabel,'severity_name']\n",
    "\n",
    "colFeatures=cateFeatures+numericFeatures\n",
    "\n",
    "cols=[colLabel]+colFeatures\n",
    "\n",
    "print(cols)\n",
    "\n",
    "from_date='2023-01-10'"
   ]
  },
  {
   "cell_type": "markdown",
   "id": "b5f52e80-e704-45ab-a634-ee82e779feb5",
   "metadata": {},
   "source": [
    "# Load and Prepare Data"
   ]
  },
  {
   "cell_type": "code",
   "execution_count": null,
   "id": "cc7ff82d-8ac8-4792-ad6a-d20852c33f5b",
   "metadata": {},
   "outputs": [],
   "source": [
    "df_incident = pd.read_csv('incident_data.csv',parse_dates=dateTimeCols)\n",
    "print(f\"Incident From {df_incident['open_datetime'].min()} To {df_incident['open_datetime'].max()}\")\n",
    "df_incident=df_incident.query(\"open_datetime>=@from_date\")\n",
    "\n",
    "df_incident=df_incident[cols]\n",
    "print(df_incident.info())\n",
    "df_incident.tail()"
   ]
  },
  {
   "cell_type": "markdown",
   "id": "24c778cd-01c0-4c36-9ca7-cac4b5b2ce26",
   "metadata": {},
   "source": [
    "# Process features and target class"
   ]
  },
  {
   "cell_type": "code",
   "execution_count": null,
   "id": "3d6c020a-e741-4224-88c8-a7c39f1e974b",
   "metadata": {},
   "outputs": [],
   "source": [
    "# cateFeatures_cateLabel=cateFeatures.copy()+[colLabel]\n",
    "print(f\"{cateFeatures} and {colLabel}\")\n",
    "X = df_incident.loc[:,colFeatures]\n",
    "X[cateFeatures]=X[cateFeatures].astype(\"category\") \n",
    "\n",
    "print(X.info())\n",
    "X.sample(10)\n"
   ]
  },
  {
   "cell_type": "code",
   "execution_count": null,
   "id": "8768b42d-bd92-4e9f-af35-876ea7afe27c",
   "metadata": {},
   "outputs": [],
   "source": [
    "y=df_incident.loc[:,colLabel]\n",
    "print(y.info())\n",
    "y.sample(10)\n",
    "# y=y.astype(\"category\")"
   ]
  },
  {
   "cell_type": "code",
   "execution_count": null,
   "id": "52e11459-e6b2-474c-a7c6-5e5da6adeca2",
   "metadata": {},
   "outputs": [],
   "source": []
  },
  {
   "cell_type": "code",
   "execution_count": null,
   "id": "75a2193d-756f-49a0-9519-08c680a0cdb9",
   "metadata": {},
   "outputs": [],
   "source": [
    "# label_encoder = LabelEncoder()\n",
    "# y = label_encoder.fit_transform(y)\n",
    "\n",
    "# print(label_encoder.classes_)\n",
    "\n",
    "# print(y[-5:])"
   ]
  },
  {
   "cell_type": "code",
   "execution_count": null,
   "id": "3352709f-11e8-4ce3-9442-26985c46c3a2",
   "metadata": {},
   "outputs": [],
   "source": []
  },
  {
   "cell_type": "markdown",
   "id": "1df0c2c7-918e-4875-a026-eb84574047ae",
   "metadata": {},
   "source": [
    "# Load Model Model to Predict"
   ]
  },
  {
   "cell_type": "code",
   "execution_count": null,
   "id": "a8db612c-031a-4d83-8f71-0371ebd1aaac",
   "metadata": {},
   "outputs": [],
   "source": [
    "model_xg = xgb.Booster()  # init model\n",
    "model_xg.load_model('model.bst')  # load data"
   ]
  },
  {
   "cell_type": "code",
   "execution_count": null,
   "id": "af52561c-b5dd-4dfd-8490-712e62e58aea",
   "metadata": {},
   "outputs": [],
   "source": [
    "dtest = xgb.DMatrix(data=X,label=y,enable_categorical=True)\n",
    "y_pred_values = model_xg.predict(dtest)\n",
    "yPredictionsList = [round(value) for value in y_pred_values]\n",
    "\n",
    "accuracy_xg = accuracy_score(y, yPredictionsList)\n",
    "print(\"XGBoost Accuracy: %.2f%%\" % (accuracy_xg * 100.0))"
   ]
  },
  {
   "cell_type": "code",
   "execution_count": null,
   "id": "008d8ddd-b1fa-4cab-a9f8-1a37b94da5b2",
   "metadata": {},
   "outputs": [],
   "source": [
    "yPrediction=pd.Series(yPredictionsList).to_frame(\"severity_prediction\")"
   ]
  },
  {
   "cell_type": "code",
   "execution_count": null,
   "id": "a409e3b9-3fa3-475b-ab23-eb8437612e63",
   "metadata": {},
   "outputs": [],
   "source": [
    "dfAll=pd.concat([yPrediction,y,X],axis=1)\n",
    "dfAll.info()\n",
    "dfAll"
   ]
  },
  {
   "cell_type": "code",
   "execution_count": null,
   "id": "3c888751-d444-46e2-9a66-7a8caf4f452c",
   "metadata": {},
   "outputs": [],
   "source": []
  },
  {
   "cell_type": "code",
   "execution_count": null,
   "id": "1ff5994d-4e86-4cfa-9d59-74bb149c7fbb",
   "metadata": {},
   "outputs": [],
   "source": []
  }
 ],
 "metadata": {
  "kernelspec": {
   "display_name": "Python 3 (ipykernel)",
   "language": "python",
   "name": "python3"
  },
  "language_info": {
   "codemirror_mode": {
    "name": "ipython",
    "version": 3
   },
   "file_extension": ".py",
   "mimetype": "text/x-python",
   "name": "python",
   "nbconvert_exporter": "python",
   "pygments_lexer": "ipython3",
   "version": "3.10.12"
  }
 },
 "nbformat": 4,
 "nbformat_minor": 5
}
