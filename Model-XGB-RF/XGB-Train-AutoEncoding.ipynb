{
 "cells": [
  {
   "cell_type": "code",
   "execution_count": null,
   "id": "5399b8df-1ce2-4a84-a7de-e596dc57cff2",
   "metadata": {},
   "outputs": [],
   "source": [
    "import pandas as pd\n",
    "import numpy as np\n",
    "import xgboost as xgb\n",
    "from sklearn.model_selection import train_test_split\n",
    "from sklearn.metrics import accuracy_score\n",
    "from sklearn.preprocessing import LabelEncoder\n",
    "import matplotlib.pyplot as plt\n",
    "import seaborn as sns\n",
    "from sklearn.preprocessing import OneHotEncoder\n",
    "from sklearn.compose import ColumnTransformer\n",
    "\n",
    "\n",
    "from sklearn.model_selection import KFold,StratifiedKFold\n",
    "from sklearn.model_selection import cross_val_score\n",
    "import matplotlib.pyplot  as plt\n",
    "import os\n",
    "\n"
   ]
  },
  {
   "cell_type": "code",
   "execution_count": null,
   "id": "778f2a34-ec88-48d3-9d8e-f3052d395dde",
   "metadata": {},
   "outputs": [],
   "source": []
  },
  {
   "cell_type": "code",
   "execution_count": null,
   "id": "221e4124-5f96-4bc1-b39c-90f8208ace65",
   "metadata": {},
   "outputs": [],
   "source": [
    "print(xgb.__version__)\n",
    "print(np.__version__)\n",
    "print(pd.__version__)"
   ]
  },
  {
   "cell_type": "code",
   "execution_count": null,
   "id": "5de30887-34bf-459c-ab5e-9855f0472d59",
   "metadata": {},
   "outputs": [],
   "source": [
    "# dateTimeCols=['open_datetime','response_datetime','resolved_datetime','close_datetime']\n",
    "dateTimeCols=['open_datetime','close_datetime']\n",
    "\n",
    "cateFeatures=['product_type','brand','incident_type','service_type','is_failure_type','sla']\n",
    "\n",
    "# numericFeatures=['count_detail','open_to_close_hour','response_to_resolved_hour','open_to_response_hour','resolved_to_close_hour']\n",
    "numericFeatures=['count_detail','open_to_close_hour']\n",
    "\n",
    "colLabel='severity_label'\n",
    "\n",
    "\n",
    "calLabelRefInfo=[colLabel,'severity_name']\n",
    "\n",
    "colFeatures=cateFeatures+numericFeatures\n",
    "\n",
    "cols=[colLabel]+colFeatures\n",
    "\n",
    "print(cols)\n",
    "\n",
    "\n",
    "\n",
    "\n",
    "to_date='2023-12-31'"
   ]
  },
  {
   "cell_type": "markdown",
   "id": "b5f52e80-e704-45ab-a634-ee82e779feb5",
   "metadata": {},
   "source": [
    "# Load and Prepare Data"
   ]
  },
  {
   "cell_type": "code",
   "execution_count": null,
   "id": "cc7ff82d-8ac8-4792-ad6a-d20852c33f5b",
   "metadata": {},
   "outputs": [],
   "source": [
    "df_incident = pd.read_csv('incident_data.csv',parse_dates=dateTimeCols)\n",
    "print(f\"Incident From {df_incident['open_datetime'].min()} To {df_incident['open_datetime'].max()}\")\n",
    "print(df_incident.info())\n"
   ]
  },
  {
   "cell_type": "code",
   "execution_count": null,
   "id": "916d7f6f-4e86-4d23-b26d-6cd2b860fc4d",
   "metadata": {},
   "outputs": [],
   "source": [
    "df_incident=df_incident.query(\"open_datetime<=@to_date\")\n",
    "dfLabelRefInfo=df_incident[calLabelRefInfo]\n",
    "df_incident=df_incident[cols]"
   ]
  },
  {
   "cell_type": "code",
   "execution_count": null,
   "id": "73c72d75-e6ae-41a6-aec4-f3359ca769eb",
   "metadata": {},
   "outputs": [],
   "source": [
    "print(df_incident.info())\n",
    "df_incident.tail()"
   ]
  },
  {
   "cell_type": "code",
   "execution_count": null,
   "id": "c99a6521-1192-48ee-88fb-f21b580242df",
   "metadata": {},
   "outputs": [],
   "source": [
    "dfLabelRefInfo['severity']=dfLabelRefInfo.apply(lambda x:  f\"{x.severity_label}-{x.severity_name}\" ,axis=1)\n",
    "print(dfLabelRefInfo.info())\n",
    "dfLabelRefInfo.tail()"
   ]
  },
  {
   "cell_type": "code",
   "execution_count": null,
   "id": "77e1c3eb-e053-490c-8198-d7e90697e73a",
   "metadata": {},
   "outputs": [],
   "source": [
    "dfLabelSummary=dfLabelRefInfo.groupby(['severity']).size().to_frame('count').sort_values(by='count',ascending=False)\n",
    "\n",
    "dfLabelSummary.plot(kind='bar')\n",
    "plt.show()\n",
    "dfLabelSummary"
   ]
  },
  {
   "cell_type": "code",
   "execution_count": null,
   "id": "0b431236-9a50-4dd6-934c-74700744890e",
   "metadata": {},
   "outputs": [],
   "source": [
    "for col in cateFeatures:\n",
    "    print(col)\n",
    "    dfGroupCate=df_incident.groupby([col]).size().to_frame('count').sort_values(by='count',ascending=False)\n",
    "    dfGroupCate.plot(kind='bar')\n",
    "    plt.show()\n"
   ]
  },
  {
   "cell_type": "code",
   "execution_count": null,
   "id": "c9fe7035-78f5-4778-a099-ff5f8e1bf5f5",
   "metadata": {},
   "outputs": [],
   "source": [
    "# df_incident[numericFeatures].plot(kind='hist', subplots=True, layout=(len(numericFeatures),1), sharex=False)\n",
    "for col in numericFeatures:\n",
    "    sns.boxplot(df_incident[col])\n",
    "    plt.show()"
   ]
  },
  {
   "cell_type": "code",
   "execution_count": null,
   "id": "0b6de6e5-5058-469d-9462-5d01b8354280",
   "metadata": {},
   "outputs": [],
   "source": []
  },
  {
   "cell_type": "markdown",
   "id": "24c778cd-01c0-4c36-9ca7-cac4b5b2ce26",
   "metadata": {},
   "source": [
    "# Process features and target class"
   ]
  },
  {
   "cell_type": "code",
   "execution_count": null,
   "id": "3d6c020a-e741-4224-88c8-a7c39f1e974b",
   "metadata": {},
   "outputs": [],
   "source": [
    "# cateFeatures_cateLabel=cateFeatures.copy()+[colLabel]\n",
    "print(f\"{cateFeatures} and {colLabel}\")\n",
    "X = df_incident.loc[:,colFeatures]\n",
    "X[cateFeatures]=X[cateFeatures].astype(\"category\") \n",
    "\n",
    "print(X.info())\n",
    "X.sample(10)\n"
   ]
  },
  {
   "cell_type": "code",
   "execution_count": null,
   "id": "8768b42d-bd92-4e9f-af35-876ea7afe27c",
   "metadata": {},
   "outputs": [],
   "source": [
    "y=df_incident.loc[:,colLabel]\n",
    "print(y.info())\n",
    "y.sample(10)\n",
    "# y=y.astype(\"category\")"
   ]
  },
  {
   "cell_type": "code",
   "execution_count": null,
   "id": "52e11459-e6b2-474c-a7c6-5e5da6adeca2",
   "metadata": {},
   "outputs": [],
   "source": []
  },
  {
   "cell_type": "code",
   "execution_count": null,
   "id": "75a2193d-756f-49a0-9519-08c680a0cdb9",
   "metadata": {},
   "outputs": [],
   "source": [
    "# label_encoder = LabelEncoder()\n",
    "# y = label_encoder.fit_transform(y)\n",
    "\n",
    "# print(label_encoder.classes_)\n",
    "\n",
    "# print(y[-5:])"
   ]
  },
  {
   "cell_type": "code",
   "execution_count": null,
   "id": "3352709f-11e8-4ce3-9442-26985c46c3a2",
   "metadata": {},
   "outputs": [],
   "source": []
  },
  {
   "cell_type": "markdown",
   "id": "6b0ba2d0-26f0-48ae-8ad6-3bc32f43a4bd",
   "metadata": {},
   "source": [
    "# Model Parameter Setting"
   ]
  },
  {
   "cell_type": "code",
   "execution_count": null,
   "id": "f5caca37-bdd3-4381-8e3e-0d9aebfc83f0",
   "metadata": {},
   "outputs": [],
   "source": [
    "maxDept=10\n",
    "lerningRate=0.1\n",
    "nEstimators=100"
   ]
  },
  {
   "cell_type": "code",
   "execution_count": null,
   "id": "f1a9e8f6-dcb7-4a06-8ba4-99d182839fa6",
   "metadata": {},
   "outputs": [],
   "source": []
  },
  {
   "cell_type": "markdown",
   "id": "1df0c2c7-918e-4875-a026-eb84574047ae",
   "metadata": {},
   "source": [
    "# Final Model"
   ]
  },
  {
   "cell_type": "code",
   "execution_count": null,
   "id": "af52561c-b5dd-4dfd-8490-712e62e58aea",
   "metadata": {},
   "outputs": [],
   "source": [
    "print(\"Use DMatrix & Train Object\") \n",
    "xg_param= {'max_depth': maxDept, 'learning_rate': lerningRate}\n",
    "dAllTrain = xgb.DMatrix(data= X, label=y,enable_categorical=True)\n",
    "model_xg=xgb.train(xg_param,dAllTrain,num_boost_round=nEstimators)"
   ]
  },
  {
   "cell_type": "code",
   "execution_count": null,
   "id": "fda650dc-0824-4f5a-89cf-1011763f5526",
   "metadata": {},
   "outputs": [],
   "source": [
    "artifact_filename = 'model.bst'\n",
    "local_path = artifact_filename\n",
    "\n",
    "model_xg.save_model(local_path)\n",
    "\n",
    "# file_scaler_pred=f'{model_path}/scaler_pred_{modelName}.gz'\n",
    "# joblib.dump(scalerFinalTrain,file_scaler)"
   ]
  },
  {
   "cell_type": "code",
   "execution_count": null,
   "id": "31c09007-404d-4bf0-b947-2dda8839b561",
   "metadata": {},
   "outputs": [],
   "source": [
    "# from google.cloud import storage\n",
    "\n",
    "# BUCKET_NAME='gs://smart-ai-model-pongthorn'\n",
    "# MODEL_DIR = BUCKET_NAME + \"/model\"\n",
    "# print(MODEL_DIR)\n",
    "\n",
    "\n",
    "# storage_path = os.path.join(MODEL_DIR, artifact_filename)\n",
    "# blob = storage.blob.Blob.from_string(storage_path, client=storage.Client())\n",
    "# blob.upload_from_filename(local_path)\n",
    "\n",
    "# storage_client = storage.Client()\n",
    "# blob = storage.blob.Blob.from_string(MODEL_DIR, client=storage.Client())\n",
    "# blob.upload_from_filename(local_path)"
   ]
  },
  {
   "cell_type": "code",
   "execution_count": null,
   "id": "a409e3b9-3fa3-475b-ab23-eb8437612e63",
   "metadata": {},
   "outputs": [],
   "source": [
    "# def upload_blob(bucket_name, source_file_name, destination_blob_name):\n",
    "#     \"\"\"Uploads a file to the bucket.\"\"\"\n",
    "\n",
    "#     storage_client = storage.Client()\n",
    "#     bucket = storage_client.bucket(bucket_name)\n",
    "#     blob = bucket.blob(destination_blob_name)\n",
    "\n",
    "#     blob.upload_from_filename(source_file_name)\n",
    "\n",
    "#     destination_file_name = os.path.join(\"gs://\", bucket_name, destination_blob_name)\n",
    "\n",
    "#     return destination_file_name"
   ]
  },
  {
   "cell_type": "markdown",
   "id": "9b0e1ea6-bea2-4629-b71d-32f408870f31",
   "metadata": {},
   "source": [
    "# Train Data "
   ]
  },
  {
   "cell_type": "markdown",
   "id": "c421d26f-ad25-46d6-a803-73e4bae8df6f",
   "metadata": {},
   "source": [
    "# Split Train and Test Data"
   ]
  },
  {
   "cell_type": "code",
   "execution_count": null,
   "id": "258dc7a5-fdf2-4063-a0d4-0e81e86cea7e",
   "metadata": {},
   "outputs": [],
   "source": [
    "seed = 7\n",
    "test_size = 0.15\n",
    "X_train, X_test, y_train, y_test = train_test_split(X, y, test_size=test_size, random_state=seed)\n",
    "print(X_train.shape,X_test.shape)\n",
    "print(y_train.shape,y_test.shape)\n",
    "\n",
    "print(\"-----------------------------------------------------------------------------------------------------\")\n",
    "print(y_train[:5])\n",
    "X_train[:5]\n",
    "\n"
   ]
  },
  {
   "cell_type": "markdown",
   "id": "75fcb321-e7b1-4e95-bf7d-ac63c1b68783",
   "metadata": {},
   "source": [
    "# XGBoost "
   ]
  },
  {
   "cell_type": "code",
   "execution_count": null,
   "id": "54cc4b9c-fd5a-42dd-9cd2-5d803c4ab60e",
   "metadata": {},
   "outputs": [],
   "source": [
    "print(\"Use DMatrix & Train Object\") \n",
    "xg_param= {'max_depth': maxDept, 'learning_rate': lerningRate}\n",
    "dtrain = xgb.DMatrix(data= X_train, label=y_train,enable_categorical=True)\n",
    "model_xg=xgb.train(xg_param,dtrain,num_boost_round=nEstimators)\n",
    "\n",
    "dtest = xgb.DMatrix(data=X_test,label=y_test,enable_categorical=True)\n",
    "y_pred_xg = model_xg.predict(dtest)\n",
    "\n",
    "\n",
    "predictions_xg = [round(value) for value in y_pred_xg]\n",
    "\n",
    "accuracy_xg = accuracy_score(y_test, predictions_xg)\n",
    "print(\"XGBoost Accuracy: %.2f%%\" % (accuracy_xg * 100.0))\n"
   ]
  },
  {
   "cell_type": "markdown",
   "id": "92ca3b64-c90a-47a6-ada7-e1a739f1eda3",
   "metadata": {},
   "source": [
    "# Feature Important"
   ]
  },
  {
   "cell_type": "code",
   "execution_count": null,
   "id": "0b401945-7325-4dda-b21c-6c2f1add71a0",
   "metadata": {},
   "outputs": [],
   "source": [
    "xgb.plot_importance(model_xg)\n",
    "plt.show()"
   ]
  },
  {
   "cell_type": "code",
   "execution_count": null,
   "id": "3c888751-d444-46e2-9a66-7a8caf4f452c",
   "metadata": {},
   "outputs": [],
   "source": []
  },
  {
   "cell_type": "code",
   "execution_count": null,
   "id": "1ff5994d-4e86-4cfa-9d59-74bb149c7fbb",
   "metadata": {},
   "outputs": [],
   "source": []
  },
  {
   "cell_type": "code",
   "execution_count": null,
   "id": "a4ca25f8-b548-4887-81b8-89e3974efb29",
   "metadata": {},
   "outputs": [],
   "source": []
  },
  {
   "cell_type": "code",
   "execution_count": null,
   "id": "117cbd3b-f950-43b9-9e8b-1d31ca745dd9",
   "metadata": {},
   "outputs": [],
   "source": []
  }
 ],
 "metadata": {
  "kernelspec": {
   "display_name": "Python 3 (ipykernel)",
   "language": "python",
   "name": "python3"
  },
  "language_info": {
   "codemirror_mode": {
    "name": "ipython",
    "version": 3
   },
   "file_extension": ".py",
   "mimetype": "text/x-python",
   "name": "python",
   "nbconvert_exporter": "python",
   "pygments_lexer": "ipython3",
   "version": "3.10.12"
  }
 },
 "nbformat": 4,
 "nbformat_minor": 5
}
