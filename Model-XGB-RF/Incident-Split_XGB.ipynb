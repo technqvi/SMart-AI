{
 "cells": [
  {
   "cell_type": "code",
   "execution_count": null,
   "id": "5399b8df-1ce2-4a84-a7de-e596dc57cff2",
   "metadata": {},
   "outputs": [],
   "source": [
    "import pandas as pd\n",
    "import xgboost as xgb\n",
    "from sklearn.model_selection import train_test_split\n",
    "from sklearn.metrics import accuracy_score\n",
    "from sklearn.preprocessing import LabelEncoder\n",
    "import matplotlib.pyplot as plt\n",
    "import seaborn as sns\n",
    "from sklearn.preprocessing import OneHotEncoder\n",
    "from sklearn.compose import ColumnTransformer\n",
    "\n",
    "\n",
    "from sklearn.model_selection import KFold,StratifiedKFold\n",
    "from sklearn.model_selection import cross_val_score\n",
    "import matplotlib.pyplot  as plt\n",
    "import os\n",
    "\n",
    "import joblib\n",
    "\n",
    "#http://localhost:8888/lab/workspaces/auto-O/tree/MyQuantFinProject/LearnDataSC/Prasertcbs_ML/sklearn_feature_importances_with_treeclassifier.ipynb\n",
    "#http://localhost:8888/lab/workspaces/auto-C/tree/MyQuantFinProject/LearnDataSC/Prasertcbs_ML/sklearn_classification_iris2.ipynb"
   ]
  },
  {
   "cell_type": "code",
   "execution_count": null,
   "id": "5de30887-34bf-459c-ab5e-9855f0472d59",
   "metadata": {},
   "outputs": [],
   "source": [
    "dateTimeCols=['open_datetime','response_datetime','resolved_datetime','close_datetime']\n",
    "\n",
    "cateFeatures=['product_type','brand','incident_type','service_type','is_failure_type','sla']\n",
    "numericFeatures=['count_detail','open_to_close_hour','response_to_resolved_hour','open_to_response_hour','resolved_to_close_hour']\n",
    "\n",
    "colLabel='severity_label'\n",
    "\n",
    "colFeatures=cateFeatures+numericFeatures\n",
    "cols=[colLabel]+colFeatures\n",
    "print(cols)\n",
    "\n",
    "isAutomaticOneHotByColumnTransformer=False\n",
    "\n",
    "if  isAutomaticOneHotByColumnTransformer==True:\n",
    " isManualEncoding=False\n",
    "else:\n",
    " isManualEncoding=True\n",
    "\n",
    "\n",
    "useDMtrix=False\n",
    "\n",
    "\n",
    "to_date='2023-12-31'"
   ]
  },
  {
   "cell_type": "markdown",
   "id": "b5f52e80-e704-45ab-a634-ee82e779feb5",
   "metadata": {},
   "source": [
    "# Load and Prepare Data"
   ]
  },
  {
   "cell_type": "code",
   "execution_count": null,
   "id": "cc7ff82d-8ac8-4792-ad6a-d20852c33f5b",
   "metadata": {},
   "outputs": [],
   "source": [
    "df_incident = pd.read_csv('incident_data.csv',parse_dates=dateTimeCols)\n",
    "print(f\"Incident From {df_incident['open_datetime'].min()} To {df_incident['open_datetime'].max()}\")\n",
    "df_incident=df_incident.query(\"open_datetime<=@to_date\")\n",
    "df_incident=df_incident[cols]\n",
    "print(df_incident.info())\n",
    "df_incident.tail()\n",
    "\n"
   ]
  },
  {
   "cell_type": "code",
   "execution_count": null,
   "id": "77e1c3eb-e053-490c-8198-d7e90697e73a",
   "metadata": {},
   "outputs": [],
   "source": [
    "dfLabel=df_incident.groupby([colLabel]).size().to_frame('count').sort_values(by='count',ascending=False)\n",
    "dfLabel.plot(kind='bar')\n",
    "plt.show()\n",
    "dfLabel"
   ]
  },
  {
   "cell_type": "markdown",
   "id": "24c778cd-01c0-4c36-9ca7-cac4b5b2ce26",
   "metadata": {},
   "source": [
    "# Process features and class"
   ]
  },
  {
   "cell_type": "code",
   "execution_count": null,
   "id": "02cc62a0-6228-4ee3-937a-cf1a9493b0ef",
   "metadata": {},
   "outputs": [],
   "source": [
    "# cate_features=[ col for col in features if  col not in numericFeatures ]\n",
    "if isAutomaticOneHotByColumnTransformer==False:\n",
    "    \n",
    "    if isManualEncoding==False:\n",
    "        print(\"Let XGBoost encode itself\")\n",
    "    else:\n",
    "        print(\"Encode by  LabelEncoder\")\n",
    "    features=[ col for col in list(df_incident.columns) if  col!=colLabel ]\n",
    "    X = df_incident.loc[:,features]\n",
    "    for cate_col in cateFeatures:\n",
    "        if isManualEncoding==False:\n",
    "              X[cate_col]=X[cate_col].astype(\"category\")             \n",
    "        else:  \n",
    "            cateFeatEncoder = LabelEncoder()\n",
    "            X[cate_col]=cateFeatEncoder.fit_transform(X[cate_col])\n",
    "\n",
    "else:\n",
    "        categorical_transformer = OneHotEncoder(sparse_output=False, handle_unknown=\"ignore\")\n",
    "        ct = ColumnTransformer(transformers=[(\"cat\", categorical_transformer,cateFeatures )],remainder='passthrough')\n",
    "        ct.set_output(transform='pandas')\n",
    "        X = ct.fit_transform(df_incident)\n",
    "        colLabel=f\"remainder__{colLabel}\"\n",
    "        print(f\"{colLabel} :OneHot Encoding to Fetures by ColumnTransformer\")\n",
    "        \n"
   ]
  },
  {
   "cell_type": "code",
   "execution_count": null,
   "id": "972119e4-42f9-4707-9373-f82c68e4123a",
   "metadata": {},
   "outputs": [],
   "source": [
    "print(X.info())\n",
    "X.tail()"
   ]
  },
  {
   "cell_type": "code",
   "execution_count": null,
   "id": "64ebda29-0811-4277-9b99-a25f850dce7e",
   "metadata": {},
   "outputs": [],
   "source": [
    "if isAutomaticOneHotByColumnTransformer==False:\n",
    "    Y = df_incident.loc[:,[colLabel]]\n",
    "    Y[colLabel]=Y[colLabel].astype(\"category\")    \n",
    "else:\n",
    "    Y=X.pop(colLabel)\n",
    "    # # X=X.pop(colLabel)\n",
    "\n",
    "print(Y.info())\n",
    "Y[:5]"
   ]
  },
  {
   "cell_type": "code",
   "execution_count": null,
   "id": "e1326fa3-79ad-4a30-84af-312a674758cf",
   "metadata": {},
   "outputs": [],
   "source": [
    "print(X.info())\n",
    "X.head(5)"
   ]
  },
  {
   "cell_type": "markdown",
   "id": "01273c27-325f-40ef-a3af-d4c78880d79c",
   "metadata": {},
   "source": [
    "# Encode string class values as integers"
   ]
  },
  {
   "cell_type": "code",
   "execution_count": null,
   "id": "ed1016c1-4666-49ea-b101-820c26bf4019",
   "metadata": {},
   "outputs": [],
   "source": [
    "label_encoder = LabelEncoder()\n",
    "ylabelEncoded = label_encoder.fit_transform(Y)\n",
    "\n",
    "print(f\"Encode Fitting : {label_encoder.classes_}\")\n",
    "\n",
    "ylabelEncoded = ylabelEncoded.ravel()\n",
    "\n",
    "print(ylabelEncoded[-5:])\n",
    "print(ylabelEncoded.shape)"
   ]
  },
  {
   "cell_type": "markdown",
   "id": "6b0ba2d0-26f0-48ae-8ad6-3bc32f43a4bd",
   "metadata": {},
   "source": [
    "# Parameter Setting"
   ]
  },
  {
   "cell_type": "code",
   "execution_count": null,
   "id": "f5caca37-bdd3-4381-8e3e-0d9aebfc83f0",
   "metadata": {},
   "outputs": [],
   "source": [
    "maxDept=10\n",
    "lerningRate=0.1\n",
    "nEstimators=100"
   ]
  },
  {
   "cell_type": "code",
   "execution_count": null,
   "id": "f1a9e8f6-dcb7-4a06-8ba4-99d182839fa6",
   "metadata": {},
   "outputs": [],
   "source": []
  },
  {
   "cell_type": "markdown",
   "id": "1df0c2c7-918e-4875-a026-eb84574047ae",
   "metadata": {},
   "source": [
    "# Final Model"
   ]
  },
  {
   "cell_type": "code",
   "execution_count": null,
   "id": "af52561c-b5dd-4dfd-8490-712e62e58aea",
   "metadata": {},
   "outputs": [],
   "source": [
    "# print(X.shape,ylabelEncoded.shape)\n",
    "# model = xgb.XGBClassifier(max_depth=maxDept,learning_rate=lerningRate,n_estimators=nEstimators)\n",
    "# model_xg.fit(X, ylabelEncoded)"
   ]
  },
  {
   "cell_type": "code",
   "execution_count": null,
   "id": "fda650dc-0824-4f5a-89cf-1011763f5526",
   "metadata": {},
   "outputs": [],
   "source": [
    "# artifact_filename = 'model.bst'\n",
    "# local_path = artifact_filename\n",
    "\n",
    "# model_xg.save_model(local_path)\n",
    "\n",
    "\n",
    "# file_scaler_pred=f'{model_path}/scaler_pred_{modelName}.gz'\n",
    "# joblib.dump(scalerFinalTrain,file_scaler)"
   ]
  },
  {
   "cell_type": "code",
   "execution_count": null,
   "id": "31c09007-404d-4bf0-b947-2dda8839b561",
   "metadata": {},
   "outputs": [],
   "source": [
    "# from google.cloud import storage\n",
    "\n",
    "# BUCKET_NAME='gs://smart-ai-model-pongthorn'\n",
    "# MODEL_DIR = BUCKET_NAME + \"/model\"\n",
    "# print(MODEL_DIR)\n",
    "\n",
    "\n",
    "# storage_path = os.path.join(MODEL_DIR, artifact_filename)\n",
    "# blob = storage.blob.Blob.from_string(storage_path, client=storage.Client())\n",
    "# blob.upload_from_filename(local_path)\n",
    "\n",
    "# storage_client = storage.Client()\n",
    "# blob = storage.blob.Blob.from_string(MODEL_DIR, client=storage.Client())\n",
    "# blob.upload_from_filename(local_path)"
   ]
  },
  {
   "cell_type": "code",
   "execution_count": null,
   "id": "a409e3b9-3fa3-475b-ab23-eb8437612e63",
   "metadata": {},
   "outputs": [],
   "source": []
  },
  {
   "cell_type": "code",
   "execution_count": null,
   "id": "ede5e0b9-04e5-46cf-8efb-6f7ac84446ca",
   "metadata": {},
   "outputs": [],
   "source": []
  },
  {
   "cell_type": "code",
   "execution_count": null,
   "id": "f3fabec7-e98d-435a-ad0c-d61330c7f352",
   "metadata": {},
   "outputs": [],
   "source": []
  },
  {
   "cell_type": "code",
   "execution_count": null,
   "id": "08b90efe-8d4a-42a9-b4c5-0fcfac615e59",
   "metadata": {},
   "outputs": [],
   "source": []
  },
  {
   "cell_type": "code",
   "execution_count": null,
   "id": "5e981228-e4a2-497e-9b45-98ba1ffafa6a",
   "metadata": {},
   "outputs": [],
   "source": []
  },
  {
   "cell_type": "markdown",
   "id": "9b0e1ea6-bea2-4629-b71d-32f408870f31",
   "metadata": {},
   "source": [
    "# Train Data "
   ]
  },
  {
   "cell_type": "markdown",
   "id": "c421d26f-ad25-46d6-a803-73e4bae8df6f",
   "metadata": {},
   "source": [
    "# Split Train and Test Data"
   ]
  },
  {
   "cell_type": "code",
   "execution_count": null,
   "id": "258dc7a5-fdf2-4063-a0d4-0e81e86cea7e",
   "metadata": {},
   "outputs": [],
   "source": [
    "seed = 7\n",
    "test_size = 0.2\n",
    "X_train, X_test, y_train, y_test = train_test_split(X, ylabelEncoded, test_size=test_size, random_state=seed)\n",
    "print(X_train.shape,X_test.shape)\n",
    "print(y_train.shape,y_test.shape)\n",
    "\n",
    "print(\"---------------------------------------------------------------------------------------\")\n",
    "print(y_train[:5])\n",
    "X_train[:5]\n",
    "\n"
   ]
  },
  {
   "cell_type": "markdown",
   "id": "75fcb321-e7b1-4e95-bf7d-ac63c1b68783",
   "metadata": {},
   "source": [
    "# XGBoost "
   ]
  },
  {
   "cell_type": "code",
   "execution_count": null,
   "id": "54cc4b9c-fd5a-42dd-9cd2-5d803c4ab60e",
   "metadata": {},
   "outputs": [],
   "source": [
    "\n",
    "\n",
    "if useDMtrix==False:\n",
    "    print(\"Use XGBClassifier Object\")\n",
    "\n",
    "    # Supported tree methods are `gpu_hist`, `approx`, and `hist`.\n",
    "    if isManualEncoding==True or isAutomaticOneHotByColumnTransformer==True:\n",
    "        print(\"XGBClassifier()\")\n",
    "        model_xg = xgb.XGBClassifier(max_depth=maxDept,learning_rate=lerningRate,n_estimators=nEstimators)\n",
    "    else:\n",
    "       print(\"XGBClassifier(enable_categorical=True,tree_method=hist)\")\n",
    "       model_xg = xgb.XGBClassifier(enable_categorical=True,tree_method=\"hist\",\\\n",
    "                                    max_depth=maxDept,learning_rate=lerningRate,n_estimators=nEstimators)\n",
    "    #use_label_encoder    \n",
    "    # print(model_xg)\n",
    "    model_xg.fit(X_train, y_train)\n",
    "    y_pred_xg = model_xg.predict(X_test)\n",
    "\n",
    "else:\n",
    "\n",
    "    print(\"Use DMatrix & Train Object\") \n",
    "    xg_param= {'max_depth': maxDept, 'learning_rate': lerningRate}\n",
    "    dtrain = xgb.DMatrix(X_train, label=y_train,enable_categorical=True,)\n",
    "    model_xg=xgb.train(xg_param,dtrain,num_boost_round=nEstimators)\n",
    "    dtest = xgb.DMatrix(X_test,y_test,enable_categorical=True)\n",
    "    y_pred_xg = model_xg.predict(dtest)\n"
   ]
  },
  {
   "cell_type": "code",
   "execution_count": null,
   "id": "546e881e-d316-4127-9916-a52d5f975d2f",
   "metadata": {},
   "outputs": [],
   "source": [
    "\n",
    "predictions_xg = [round(value) for value in y_pred_xg]\n",
    "\n",
    "accuracy_xg = accuracy_score(y_test, predictions_xg)\n",
    "print(\"XGBoost Accuracy: %.2f%%\" % (accuracy_xg * 100.0))"
   ]
  },
  {
   "cell_type": "markdown",
   "id": "92ca3b64-c90a-47a6-ada7-e1a739f1eda3",
   "metadata": {},
   "source": [
    "# Feature Important"
   ]
  },
  {
   "cell_type": "code",
   "execution_count": null,
   "id": "0b401945-7325-4dda-b21c-6c2f1add71a0",
   "metadata": {},
   "outputs": [],
   "source": [
    "xgb.plot_importance(model_xg)\n",
    "plt.show()"
   ]
  },
  {
   "cell_type": "code",
   "execution_count": null,
   "id": "3c888751-d444-46e2-9a66-7a8caf4f452c",
   "metadata": {},
   "outputs": [],
   "source": []
  },
  {
   "cell_type": "code",
   "execution_count": null,
   "id": "1ff5994d-4e86-4cfa-9d59-74bb149c7fbb",
   "metadata": {},
   "outputs": [],
   "source": []
  }
 ],
 "metadata": {
  "kernelspec": {
   "display_name": "Python 3 (ipykernel)",
   "language": "python",
   "name": "python3"
  },
  "language_info": {
   "codemirror_mode": {
    "name": "ipython",
    "version": 3
   },
   "file_extension": ".py",
   "mimetype": "text/x-python",
   "name": "python",
   "nbconvert_exporter": "python",
   "pygments_lexer": "ipython3",
   "version": "3.10.12"
  }
 },
 "nbformat": 4,
 "nbformat_minor": 5
}
