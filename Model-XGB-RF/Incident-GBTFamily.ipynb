{
 "cells": [
  {
   "cell_type": "code",
   "execution_count": null,
   "id": "5399b8df-1ce2-4a84-a7de-e596dc57cff2",
   "metadata": {},
   "outputs": [],
   "source": [
    "import pandas as pd\n",
    "from xgboost import XGBClassifier\n",
    "from sklearn.ensemble import RandomForestClassifier\n",
    "from sklearn.model_selection import train_test_split\n",
    "from sklearn.metrics import accuracy_score\n",
    "from sklearn.preprocessing import LabelEncoder\n",
    "import matplotlib.pyplot as plt\n",
    "import seaborn as sns\n",
    "from sklearn.preprocessing import OneHotEncoder\n",
    "from sklearn.compose import ColumnTransformer\n",
    "\n",
    "\n",
    "from sklearn.model_selection import KFold,StratifiedKFold\n",
    "from sklearn.model_selection import cross_val_score\n",
    "import matplotlib.pyplot  as plt\n",
    "\n",
    "#http://localhost:8888/lab/workspaces/auto-O/tree/MyQuantFinProject/LearnDataSC/Prasertcbs_ML/sklearn_feature_importances_with_treeclassifier.ipynb\n",
    "#http://localhost:8888/lab/workspaces/auto-C/tree/MyQuantFinProject/LearnDataSC/Prasertcbs_ML/sklearn_classification_iris2.ipynb"
   ]
  },
  {
   "cell_type": "code",
   "execution_count": null,
   "id": "5de30887-34bf-459c-ab5e-9855f0472d59",
   "metadata": {},
   "outputs": [],
   "source": [
    "dateTimeCols=['open_datetime','response_datetime','resolved_datetime','close_datetime']\n",
    "\n",
    "cateFeatures=['product_type','brand','incident_type','service_type','is_failure_type','sla']\n",
    "numericFeatures=['count_detail','open_to_close_hour','response_to_resolved_hour','open_to_response_hour','resolved_to_close_hour']\n",
    "\n",
    "colLabel='severity_label'\n",
    "\n",
    "colFeatures=cateFeatures+numericFeatures\n",
    "cols=[colLabel]+colFeatures\n",
    "print(cols)\n",
    "\n",
    "\n",
    "isAutomaticOneHotByColumnTransformer=False\n",
    "isManualEncoding=True\n",
    " \n",
    "\n",
    "\n",
    "to_date='2023-12-31'"
   ]
  },
  {
   "cell_type": "markdown",
   "id": "b5f52e80-e704-45ab-a634-ee82e779feb5",
   "metadata": {},
   "source": [
    "# Load and Prepare Data"
   ]
  },
  {
   "cell_type": "code",
   "execution_count": null,
   "id": "cc7ff82d-8ac8-4792-ad6a-d20852c33f5b",
   "metadata": {},
   "outputs": [],
   "source": [
    "df_incident = pd.read_csv('incident_data.csv',parse_dates=dateTimeCols)\n",
    "print(f\"Incident From {df_incident['open_datetime'].min()} To {df_incident['open_datetime'].max()}\")\n",
    "df_incident=df_incident.query(\"open_datetime<=@to_date\")\n",
    "df_incident=df_incident[cols]\n",
    "print(df_incident.info())\n",
    "df_incident.tail()\n",
    "\n"
   ]
  },
  {
   "cell_type": "code",
   "execution_count": null,
   "id": "77e1c3eb-e053-490c-8198-d7e90697e73a",
   "metadata": {},
   "outputs": [],
   "source": [
    "dfLabel=df_incident.groupby([colLabel]).size().to_frame('count').sort_values(by='count',ascending=False)\n",
    "dfLabel.plot(kind='bar')\n",
    "plt.show()\n",
    "dfLabel"
   ]
  },
  {
   "cell_type": "markdown",
   "id": "24c778cd-01c0-4c36-9ca7-cac4b5b2ce26",
   "metadata": {},
   "source": [
    "# Process features and class"
   ]
  },
  {
   "cell_type": "code",
   "execution_count": null,
   "id": "02cc62a0-6228-4ee3-937a-cf1a9493b0ef",
   "metadata": {},
   "outputs": [],
   "source": [
    "# cate_features=[ col for col in features if  col not in numericFeatures ]\n",
    "if isAutomaticOneHotByColumnTransformer==False:\n",
    "    \n",
    "    if isManualEncoding==False:\n",
    "        print(\"Let XGBoost encode itself\")\n",
    "    else:\n",
    "        print(\"Encode by  LabelEncoder\")\n",
    "    features=[ col for col in list(df_incident.columns) if  col!=colLabel ]\n",
    "    X = df_incident.loc[:,features]\n",
    "    for cate_col in cateFeatures:\n",
    "        if isManualEncoding==False:\n",
    "              X[cate_col]=X[cate_col].astype(\"category\")             \n",
    "        else:  \n",
    "            cateFeatEncoder = LabelEncoder()\n",
    "            X[cate_col]=cateFeatEncoder.fit_transform(X[cate_col])\n",
    "\n",
    "else:\n",
    "        categorical_transformer = OneHotEncoder(sparse_output=False, handle_unknown=\"ignore\")\n",
    "        ct = ColumnTransformer(transformers=[(\"cat\", categorical_transformer,cateFeatures )],remainder='passthrough')\n",
    "        ct.set_output(transform='pandas')\n",
    "        X = ct.fit_transform(df_incident)\n",
    "        colLabel=f\"remainder__{colLabel}\"\n",
    "        print(f\"{colLabel} :OneHot Encoding to Fetures by ColumnTransformer\")\n",
    "        \n"
   ]
  },
  {
   "cell_type": "code",
   "execution_count": null,
   "id": "972119e4-42f9-4707-9373-f82c68e4123a",
   "metadata": {},
   "outputs": [],
   "source": [
    "print(X.info())\n",
    "X.tail()"
   ]
  },
  {
   "cell_type": "code",
   "execution_count": null,
   "id": "64ebda29-0811-4277-9b99-a25f850dce7e",
   "metadata": {},
   "outputs": [],
   "source": [
    "if isAutomaticOneHotByColumnTransformer==False:\n",
    "    Y = df_incident.loc[:,[colLabel]]\n",
    "    Y[colLabel]=Y[colLabel].astype(\"category\")\n",
    "\n",
    "    \n",
    "else:\n",
    "    Y=X.pop(colLabel)\n",
    "    # # X=X.pop(colLabel)\n",
    "\n",
    "    print(Y.info())\n",
    "Y[:5]"
   ]
  },
  {
   "cell_type": "markdown",
   "id": "01273c27-325f-40ef-a3af-d4c78880d79c",
   "metadata": {},
   "source": [
    "# Encode string class values as integers"
   ]
  },
  {
   "cell_type": "code",
   "execution_count": null,
   "id": "ed1016c1-4666-49ea-b101-820c26bf4019",
   "metadata": {},
   "outputs": [],
   "source": [
    "#if Y is object/category , we need to encode , if  not ,we can disregard\n",
    "\n",
    "label_encoder = LabelEncoder()\n",
    "ylabelEncoded = label_encoder.fit_transform(Y)\n",
    "\n",
    "print(label_encoder.classes_)\n",
    "\n",
    "print(ylabelEncoded[-5:])"
   ]
  },
  {
   "cell_type": "markdown",
   "id": "c421d26f-ad25-46d6-a803-73e4bae8df6f",
   "metadata": {},
   "source": [
    "# Split Train and Test Data"
   ]
  },
  {
   "cell_type": "code",
   "execution_count": null,
   "id": "258dc7a5-fdf2-4063-a0d4-0e81e86cea7e",
   "metadata": {},
   "outputs": [],
   "source": [
    "seed = 7\n",
    "test_size = 0.15\n",
    "X_train, X_test, y_train, y_test = train_test_split(X, ylabelEncoded, test_size=test_size, random_state=seed)\n",
    "print(X_train.shape,X_test.shape)\n",
    "print(y_train.shape,y_test.shape)\n",
    "\n",
    "print(\"---------------------------------------------------------------------------------------\")\n",
    "print(y_train[:5])\n",
    "X_train[:5]\n",
    "\n"
   ]
  },
  {
   "cell_type": "markdown",
   "id": "7f0816d4-4a32-464e-a110-7519cd7a15a4",
   "metadata": {},
   "source": [
    "# RandomForest"
   ]
  },
  {
   "cell_type": "code",
   "execution_count": null,
   "id": "34b3169a-05ae-434f-941a-c629083da459",
   "metadata": {},
   "outputs": [],
   "source": [
    "model_rf = RandomForestClassifier()  \n",
    "\n",
    "model_rf.fit(X_train, y_train)\n",
    "\n",
    "y_pred_rf = model_rf.predict(X_test)\n",
    "predictions_rf = [round(value) for value in y_pred_rf]\n",
    "\n",
    "accuracy_rf = accuracy_score(y_test, predictions_rf)\n",
    "print(\"RandomForest Accuracy: %.2f%%\" % (accuracy_rf * 100.0))"
   ]
  },
  {
   "cell_type": "code",
   "execution_count": null,
   "id": "5b497e4c-de89-4f0a-8f1a-db224eeed557",
   "metadata": {},
   "outputs": [],
   "source": []
  },
  {
   "cell_type": "markdown",
   "id": "75fcb321-e7b1-4e95-bf7d-ac63c1b68783",
   "metadata": {},
   "source": [
    "# XGBoost "
   ]
  },
  {
   "cell_type": "code",
   "execution_count": null,
   "id": "54cc4b9c-fd5a-42dd-9cd2-5d803c4ab60e",
   "metadata": {},
   "outputs": [],
   "source": [
    "# Supported tree methods are `gpu_hist`, `approx`, and `hist`.\n",
    "if isManualEncoding==True or isAutomaticOneHotByColumnTransformer==True:\n",
    "    print(\"XGBClassifier()\")\n",
    "    model_xg = XGBClassifier()\n",
    "else:\n",
    "   print(\"XGBClassifier(enable_categorical=True,tree_method=hist)\")\n",
    "   model_xg = XGBClassifier(enable_categorical=True,tree_method=\"hist\")\n",
    "\n",
    "# print(model_xg)\n",
    "model_xg.fit(X_train, y_train)\n",
    "\n",
    "y_pred_xg = model_xg.predict(X_test)\n",
    "predictions_xg = [round(value) for value in y_pred_xg]\n",
    "\n",
    "accuracy_xg = accuracy_score(y_test, predictions_xg)\n",
    "print(\"XGBoost Accuracy: %.2f%%\" % (accuracy_xg * 100.0))"
   ]
  },
  {
   "cell_type": "markdown",
   "id": "92ca3b64-c90a-47a6-ada7-e1a739f1eda3",
   "metadata": {},
   "source": [
    "# Feature Important"
   ]
  },
  {
   "cell_type": "code",
   "execution_count": null,
   "id": "0b401945-7325-4dda-b21c-6c2f1add71a0",
   "metadata": {},
   "outputs": [],
   "source": [
    "feature_series=pd.Series(model_xg.feature_importances_, index=X.columns).sort_values(ascending=False)\n",
    "print(feature_series)\n",
    "feature_series.plot(kind='barh')\n",
    "plt.show()"
   ]
  },
  {
   "cell_type": "code",
   "execution_count": null,
   "id": "025726ba-5706-43ee-b338-94e81b0c9b9e",
   "metadata": {},
   "outputs": [],
   "source": [
    "feature_series=pd.Series(model_rf.feature_importances_, index=X.columns).sort_values(ascending=False)\n",
    "print(feature_series)\n",
    "feature_series.plot(kind='barh')\n",
    "plt.show()"
   ]
  },
  {
   "cell_type": "code",
   "execution_count": null,
   "id": "3c888751-d444-46e2-9a66-7a8caf4f452c",
   "metadata": {},
   "outputs": [],
   "source": []
  },
  {
   "cell_type": "code",
   "execution_count": null,
   "id": "1ff5994d-4e86-4cfa-9d59-74bb149c7fbb",
   "metadata": {},
   "outputs": [],
   "source": []
  }
 ],
 "metadata": {
  "kernelspec": {
   "display_name": "Python 3 (ipykernel)",
   "language": "python",
   "name": "python3"
  },
  "language_info": {
   "codemirror_mode": {
    "name": "ipython",
    "version": 3
   },
   "file_extension": ".py",
   "mimetype": "text/x-python",
   "name": "python",
   "nbconvert_exporter": "python",
   "pygments_lexer": "ipython3",
   "version": "3.10.12"
  }
 },
 "nbformat": 4,
 "nbformat_minor": 5
}
