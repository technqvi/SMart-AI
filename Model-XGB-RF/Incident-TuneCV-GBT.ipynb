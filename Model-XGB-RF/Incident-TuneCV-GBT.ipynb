{
 "cells": [
  {
   "cell_type": "code",
   "execution_count": null,
   "id": "5399b8df-1ce2-4a84-a7de-e596dc57cff2",
   "metadata": {},
   "outputs": [],
   "source": [
    "import pandas as pd\n",
    "import numpy as np\n",
    "from xgboost import XGBClassifier\n",
    "from sklearn.ensemble import RandomForestClassifier\n",
    "from sklearn.model_selection import train_test_split\n",
    "from sklearn.metrics import accuracy_score\n",
    "from sklearn.preprocessing import LabelEncoder\n",
    "import matplotlib.pyplot as plt\n",
    "\n",
    "from sklearn.preprocessing import OneHotEncoder\n",
    "from sklearn.compose import ColumnTransformer\n",
    "import time\n",
    "from datetime import datetime\n",
    "\n",
    "from sklearn.model_selection import KFold,StratifiedKFold\n",
    "from sklearn.model_selection import cross_val_score\n",
    "\n",
    "from sklearn.model_selection import GridSearchCV\n",
    "\n",
    "\n",
    "# Best: 0.766234 using {'learning_rate': 0.1, 'max_depth': 10, 'n_estimators': 50} with auto-category by xgoost\n"
   ]
  },
  {
   "cell_type": "code",
   "execution_count": null,
   "id": "5de30887-34bf-459c-ab5e-9855f0472d59",
   "metadata": {},
   "outputs": [],
   "source": [
    "dateTimeCols=['open_datetime','response_datetime','resolved_datetime','close_datetime']\n",
    "\n",
    "cateFeatures=['product_type','brand','incident_type','service_type','is_failure_type','sla']\n",
    "numericFeatures=['count_detail','open_to_close_hour','response_to_resolved_hour','open_to_response_hour','resolved_to_close_hour']\n",
    "\n",
    "colLabel='severity_label'\n",
    "\n",
    "colFeatures=cateFeatures+numericFeatures\n",
    "cols=[colLabel]+colFeatures\n",
    "print(cols)\n",
    "\n",
    "isAutomaticOneHotByColumnTransformer=True\n",
    "isManualEncoding=True\n",
    " \n",
    "to_date='2023-12-31'\n",
    "\n",
    "xscore='accuracy'"
   ]
  },
  {
   "cell_type": "markdown",
   "id": "b5f52e80-e704-45ab-a634-ee82e779feb5",
   "metadata": {},
   "source": [
    "# Load and Prepare Data"
   ]
  },
  {
   "cell_type": "code",
   "execution_count": null,
   "id": "cc7ff82d-8ac8-4792-ad6a-d20852c33f5b",
   "metadata": {},
   "outputs": [],
   "source": [
    "df_incident = pd.read_csv('incident_data.csv',parse_dates=dateTimeCols)\n",
    "print(f\"Incident From {df_incident['open_datetime'].min()} To {df_incident['open_datetime'].max()}\")\n",
    "df_incident=df_incident.query(\"open_datetime<=@to_date\")\n",
    "df_incident=df_incident[cols]\n",
    "print(df_incident.info())\n",
    "df_incident.tail()\n",
    "\n"
   ]
  },
  {
   "cell_type": "code",
   "execution_count": null,
   "id": "573a169a-9426-4987-ae85-7bf54360a0a4",
   "metadata": {},
   "outputs": [],
   "source": [
    "df_incident.groupby([colLabel]).size().plot(kind='bar')\n",
    "plt.show()"
   ]
  },
  {
   "cell_type": "markdown",
   "id": "24c778cd-01c0-4c36-9ca7-cac4b5b2ce26",
   "metadata": {},
   "source": [
    "# Process features and class"
   ]
  },
  {
   "cell_type": "code",
   "execution_count": null,
   "id": "02cc62a0-6228-4ee3-937a-cf1a9493b0ef",
   "metadata": {},
   "outputs": [],
   "source": [
    "# cate_features=[ col for col in features if  col not in numericFeatures ]\n",
    "if isAutomaticOneHotByColumnTransformer==False:\n",
    "    \n",
    "    if isManualEncoding==False:\n",
    "        print(\"Let XGBoost encode itself\")\n",
    "    else:\n",
    "        print(\"Encode by  LabelEncoder\")\n",
    "    features=[ col for col in list(df_incident.columns) if  col!=colLabel ]\n",
    "    X = df_incident.loc[:,features]\n",
    "    for cate_col in cateFeatures:\n",
    "        if isManualEncoding==False:\n",
    "              X[cate_col]=X[cate_col].astype(\"category\")             \n",
    "        else:  \n",
    "            cateFeatEncoder = LabelEncoder()\n",
    "            X[cate_col]=cateFeatEncoder.fit_transform(X[cate_col])\n",
    "\n",
    "else:\n",
    "        categorical_transformer = OneHotEncoder(sparse_output=False, handle_unknown=\"ignore\")\n",
    "        ct = ColumnTransformer(transformers=[(\"cat\", categorical_transformer,cateFeatures )],remainder='passthrough')\n",
    "        ct.set_output(transform='pandas')\n",
    "        X = ct.fit_transform(df_incident)\n",
    "        colLabel=f\"remainder__{colLabel}\"\n",
    "        print(f\"{colLabel} :OneHot Encoding to Fetures by ColumnTransformer\")\n",
    "         "
   ]
  },
  {
   "cell_type": "code",
   "execution_count": null,
   "id": "64ebda29-0811-4277-9b99-a25f850dce7e",
   "metadata": {},
   "outputs": [],
   "source": [
    "if isAutomaticOneHotByColumnTransformer==False:\n",
    "    Y = df_incident.loc[:,[colLabel]]\n",
    "    Y[colLabel]=Y[colLabel].astype(\"category\")\n",
    "\n",
    "    \n",
    "else:\n",
    "    Y=X.pop(colLabel)\n",
    "    # # X=X.pop(colLabel)\n",
    "    # Y[colLabel]=Y[colLabel].astype(\"category\")\n",
    "\n",
    "print(Y.info())\n",
    "Y[:5]"
   ]
  },
  {
   "cell_type": "code",
   "execution_count": null,
   "id": "360f1831-01da-4e1d-9d37-c40c9215f418",
   "metadata": {},
   "outputs": [],
   "source": [
    "print(X.info())\n",
    "X.tail()"
   ]
  },
  {
   "cell_type": "markdown",
   "id": "01273c27-325f-40ef-a3af-d4c78880d79c",
   "metadata": {},
   "source": [
    "# Encode string class values as integers"
   ]
  },
  {
   "cell_type": "code",
   "execution_count": null,
   "id": "ed1016c1-4666-49ea-b101-820c26bf4019",
   "metadata": {},
   "outputs": [],
   "source": [
    "label_encoder = LabelEncoder()\n",
    "ylabelEncoded = label_encoder.fit_transform(Y)\n",
    "\n",
    "print(label_encoder.classes_)\n",
    "\n",
    "print(ylabelEncoded[-5:])"
   ]
  },
  {
   "cell_type": "markdown",
   "id": "75fcb321-e7b1-4e95-bf7d-ac63c1b68783",
   "metadata": {},
   "source": [
    "# XGBoost"
   ]
  },
  {
   "cell_type": "code",
   "execution_count": null,
   "id": "54cc4b9c-fd5a-42dd-9cd2-5d803c4ab60e",
   "metadata": {},
   "outputs": [],
   "source": [
    "# # Supported tree methods are `gpu_hist`, `approx`, and `hist`.\n",
    "# if isManualEncoding==True or isAutomaticOneHotByColumnTransformer==True:\n",
    "#     print(\"XGBClassifier()\")\n",
    "#     model = XGBClassifier()\n",
    "# else:\n",
    "#    print(\"XGBClassifier(enable_categorical=True,tree_method=hist)\")\n",
    "#    model = XGBClassifier(enable_categorical=True,tree_method=\"hist\")\n",
    "\n",
    "# print(model)\n",
    "\n",
    "# n_estimators = list(range(10, 30,10))\n",
    "# learning_rate=[0.001,0.01]\n",
    "# n_estimators = list(range(50,500 ,50))\n",
    "# learning_rate =[0.001,0.005,0.01,0.05,0.1,0.5]\n",
    "# max_depth = [6, 10, 15, 20]\n",
    "\n",
    "# print('the number of trees: ',n_estimators)\n",
    "# print('learning rate: ',learning_rate)\n",
    "# print('max_depth: ',max_depth)\n",
    "\n",
    "# print(f\"Tune combination : {len(n_estimators)*len(learning_rate)*len(max_depth)}\")\n",
    "# param_grid = dict(learning_rate=learning_rate, n_estimators=n_estimators,max_depth=max_depth)"
   ]
  },
  {
   "cell_type": "markdown",
   "id": "b76f7269-2172-4441-8f29-80e540f52680",
   "metadata": {},
   "source": [
    "# Random Forst"
   ]
  },
  {
   "cell_type": "code",
   "execution_count": null,
   "id": "914a14d2-ed2c-480a-9b90-d7df1dcd6f8f",
   "metadata": {},
   "outputs": [],
   "source": [
    "random_x=7\n",
    "\n",
    "model=RandomForestClassifier()\n",
    "n_estimators = list(range(50,500 ,50))\n",
    "max_features =['auto', 'sqrt', 'log2']\n",
    "max_depth = [6, 10, 15, 20]\n",
    "\n",
    "\n",
    "print('the number of trees: ',n_estimators)\n",
    "print('max_features: ',max_features)\n",
    "print('max_depth: ',max_depth)\n",
    "\n",
    "print(f\"Tune combination : {len(n_estimators)*len(max_features)*len(max_depth)}\")\n",
    "param_grid = dict(max_features=max_features, n_estimators=n_estimators,max_depth=max_depth)\n"
   ]
  },
  {
   "cell_type": "code",
   "execution_count": null,
   "id": "f35312be-cf15-494b-aad2-d5c1a4d4dfb4",
   "metadata": {},
   "outputs": [],
   "source": [
    "# tune parameter\n",
    "xsplits=10\n",
    "kfold = StratifiedKFold(n_splits=xsplits, shuffle=True, random_state=random_x)"
   ]
  },
  {
   "cell_type": "code",
   "execution_count": null,
   "id": "8e1cf7f5-8125-4bef-b213-f8828a1bfca2",
   "metadata": {},
   "outputs": [],
   "source": [
    "t_Start=time.time()\n",
    "\n",
    "print(f\"Start tuning at {datetime.now()}\")"
   ]
  },
  {
   "cell_type": "code",
   "execution_count": null,
   "id": "447acede-7a77-499b-b80c-de15f4572fe2",
   "metadata": {},
   "outputs": [],
   "source": [
    "# grid search\n",
    "\n",
    "grid_search = GridSearchCV(model, param_grid, scoring=xscore, n_jobs=-1, cv=kfold)\n",
    "grid_result = grid_search.fit(X, ylabelEncoded)"
   ]
  },
  {
   "cell_type": "code",
   "execution_count": null,
   "id": "7be3c1ac-cf0a-4bd5-8bae-b473973174ab",
   "metadata": {},
   "outputs": [],
   "source": [
    "t_End=time.time()\n",
    "t_elapsed=(t_End-t_Start)/60/60\n",
    "print('Total execution : ',round(t_elapsed,2)) \n",
    "print(datetime.now())"
   ]
  },
  {
   "cell_type": "code",
   "execution_count": null,
   "id": "4c20231a-caa4-4b65-bd3d-b902a41b77ad",
   "metadata": {},
   "outputs": [],
   "source": [
    "# summarize results\n",
    "print(\"Best: %f using %s\" % (grid_result.best_score_, grid_result.best_params_))\n",
    "means = grid_result.cv_results_['mean_test_score']\n",
    "stds = grid_result.cv_results_['std_test_score']\n",
    "params = grid_result.cv_results_['params']\n",
    "for mean, stdev, param in zip(means, stds, params):\n",
    " print(\"%f (%f) with: %r\" % (mean, stdev, param))\n"
   ]
  },
  {
   "cell_type": "code",
   "execution_count": null,
   "id": "625652d0-b569-432b-b40a-0ed7364740ff",
   "metadata": {},
   "outputs": [],
   "source": [
    "# plot results\n",
    "scores = np.array(means).reshape(len(max_features), len(n_estimators),len(max_depth))\n",
    "print(scores)\n",
    "\n",
    "for i, value in enumerate(max_features):\n",
    "    plt.plot(n_estimators, scores[i], label='lr: ' + str(value))\n",
    "\n",
    "plt.legend()\n",
    "plt.xlabel('n_estimators')\n",
    "plt.ylabel(xscore.title())\n",
    "#plt.savefig('n_estimators-vs-learning_rate.png')\n",
    "plt.show()"
   ]
  },
  {
   "cell_type": "code",
   "execution_count": null,
   "id": "a40e7c1e-aebb-48b4-830e-9ddb61ad7c04",
   "metadata": {},
   "outputs": [],
   "source": [
    "# # plot results\n",
    "# scores = np.array(means).reshape(len(learning_rate), len(n_estimators),len(max_depth))\n",
    "#print(scores)\n",
    "\n",
    "# for i, value in enumerate(learning_rate):\n",
    "#     plt.plot(n_estimators, scores[i], label='lr: ' + str(value))\n",
    "\n",
    "# plt.legend()\n",
    "# plt.xlabel('n_estimators')\n",
    "# plt.ylabel(xscore.title())\n",
    "# #plt.savefig('n_estimators-vs-learning_rate.png')\n",
    "# plt.show()"
   ]
  },
  {
   "cell_type": "code",
   "execution_count": null,
   "id": "dcf7db59-e976-494b-8576-fbbe8724025c",
   "metadata": {},
   "outputs": [],
   "source": []
  }
 ],
 "metadata": {
  "kernelspec": {
   "display_name": "Python 3 (ipykernel)",
   "language": "python",
   "name": "python3"
  },
  "language_info": {
   "codemirror_mode": {
    "name": "ipython",
    "version": 3
   },
   "file_extension": ".py",
   "mimetype": "text/x-python",
   "name": "python",
   "nbconvert_exporter": "python",
   "pygments_lexer": "ipython3",
   "version": "3.10.12"
  }
 },
 "nbformat": 4,
 "nbformat_minor": 5
}
