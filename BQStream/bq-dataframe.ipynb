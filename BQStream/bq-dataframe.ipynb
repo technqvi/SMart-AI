{
 "cells": [
  {
   "cell_type": "markdown",
   "id": "7aZWXpbf0Eph",
   "metadata": {
    "id": "7aZWXpbf0Eph"
   },
   "source": [
    "# [Welcome to BigQueryDataframe](https://github.com/googleapis/python-bigquery-dataframes/tree/main/notebooks/getting_started)\n",
    "Connect to a Runtime and begin!"
   ]
  },
  {
   "cell_type": "code",
   "execution_count": null,
   "id": "35856bf2-aa5e-436b-977a-9e5725b1a595",
   "metadata": {
    "executionInfo": {
     "elapsed": 260,
     "status": "ok",
     "timestamp": 1697541227336,
     "user": {
      "displayName": "",
      "userId": ""
     },
     "user_tz": -420
    },
    "id": "35856bf2-aa5e-436b-977a-9e5725b1a595"
   },
   "outputs": [],
   "source": [
    "PROJECT_ID = \"pongthorn\"  # @param {type:\"string\"}\n",
    "REGION = \"US\""
   ]
  },
  {
   "cell_type": "code",
   "execution_count": null,
   "id": "-P9trfT0V40E",
   "metadata": {
    "executionInfo": {
     "elapsed": 5271,
     "status": "ok",
     "timestamp": 1697541240077,
     "user": {
      "displayName": "",
      "userId": ""
     },
     "user_tz": -420
    },
    "id": "-P9trfT0V40E"
   },
   "outputs": [],
   "source": [
    "import bigframes.pandas as bf"
   ]
  },
  {
   "cell_type": "code",
   "execution_count": null,
   "id": "cRNOo0F5V9ZY",
   "metadata": {
    "executionInfo": {
     "elapsed": 227,
     "status": "ok",
     "timestamp": 1697541256026,
     "user": {
      "displayName": "",
      "userId": ""
     },
     "user_tz": -420
    },
    "id": "cRNOo0F5V9ZY"
   },
   "outputs": [],
   "source": [
    "bf.options.bigquery.project = PROJECT_ID\n",
    "bf.options.bigquery.location = REGION"
   ]
  },
  {
   "cell_type": "code",
   "execution_count": null,
   "id": "9m2AaLs6WXFk",
   "metadata": {
    "colab": {
     "base_uri": "https://localhost:8080/",
     "height": 79,
     "referenced_widgets": [
      "b2be1005fa764876b73e371652a42bf6",
      "edc70aa85f2b4af492eaa15f554b2935",
      "45efc4a34e4a41f289965e762d7c5473",
      "d1e44dfd6e884000a7a4f52fc14aa671",
      "7656b4043ff44179adfeda631ef85830",
      "379ddff1026340c2ac7c08ba4c317a1f"
     ]
    },
    "executionInfo": {
     "elapsed": 59546,
     "status": "ok",
     "timestamp": 1697541418577,
     "user": {
      "displayName": "",
      "userId": ""
     },
     "user_tz": -420
    },
    "id": "9m2AaLs6WXFk",
    "outputId": "fd8d325b-5959-4e59-f375-016b54735fb8"
   },
   "outputs": [],
   "source": [
    "bq_df_sample = bf.read_gbq(\"bigquery-samples.wikipedia_pageviews.200809h\")"
   ]
  },
  {
   "cell_type": "code",
   "execution_count": null,
   "id": "LUCUXqC0WrJR",
   "metadata": {
    "colab": {
     "base_uri": "https://localhost:8080/",
     "height": 315,
     "referenced_widgets": [
      "f9dd6c569b814102979526141af12309",
      "b793f82c6f22468f90b5e58bccb23a16",
      "247867c9f12c4d27a8a5ba7750c6b430",
      "45486fa80814479dba15f6df21f6b7aa",
      "0591dd8b25eb41979d65c757072fc548",
      "9f4cebbd17f24a259f048002723b0260"
     ]
    },
    "executionInfo": {
     "elapsed": 35852,
     "status": "ok",
     "timestamp": 1697541519049,
     "user": {
      "displayName": "",
      "userId": ""
     },
     "user_tz": -420
    },
    "id": "LUCUXqC0WrJR",
    "outputId": "8eef7733-ecef-4d82-9533-822608d380e4"
   },
   "outputs": [],
   "source": [
    "bq_df_sample.head()"
   ]
  },
  {
   "cell_type": "code",
   "execution_count": null,
   "id": "Q_1naUPcXC6J",
   "metadata": {
    "id": "Q_1naUPcXC6J"
   },
   "outputs": [],
   "source": []
  }
 ],
 "metadata": {
  "colab": {
   "provenance": []
  },
  "kernelspec": {
   "display_name": "Python 3 (ipykernel)",
   "language": "python",
   "name": "python3"
  },
  "language_info": {
   "codemirror_mode": {
    "name": "ipython",
    "version": 3
   },
   "file_extension": ".py",
   "mimetype": "text/x-python",
   "name": "python",
   "nbconvert_exporter": "python",
   "pygments_lexer": "ipython3",
   "version": "3.10.12"
  },
  "widgets": {
   "application/vnd.jupyter.widget-state+json": {
    "0591dd8b25eb41979d65c757072fc548": {
     "model_module": "@jupyter-widgets/base",
     "model_module_version": "1.2.0",
     "model_name": "LayoutModel",
     "state": {
      "_model_module": "@jupyter-widgets/base",
      "_model_module_version": "1.2.0",
      "_model_name": "LayoutModel",
      "_view_count": null,
      "_view_module": "@jupyter-widgets/base",
      "_view_module_version": "1.2.0",
      "_view_name": "LayoutView",
      "align_content": null,
      "align_items": null,
      "align_self": null,
      "border": null,
      "bottom": null,
      "display": null,
      "flex": null,
      "flex_flow": null,
      "grid_area": null,
      "grid_auto_columns": null,
      "grid_auto_flow": null,
      "grid_auto_rows": null,
      "grid_column": null,
      "grid_gap": null,
      "grid_row": null,
      "grid_template_areas": null,
      "grid_template_columns": null,
      "grid_template_rows": null,
      "height": null,
      "justify_content": null,
      "justify_items": null,
      "left": null,
      "margin": null,
      "max_height": null,
      "max_width": null,
      "min_height": null,
      "min_width": null,
      "object_fit": null,
      "object_position": null,
      "order": null,
      "overflow": null,
      "overflow_x": null,
      "overflow_y": null,
      "padding": null,
      "right": null,
      "top": null,
      "visibility": null,
      "width": null
     }
    },
    "247867c9f12c4d27a8a5ba7750c6b430": {
     "model_module": "@jupyter-widgets/controls",
     "model_module_version": "1.5.0",
     "model_name": "DescriptionStyleModel",
     "state": {
      "_model_module": "@jupyter-widgets/controls",
      "_model_module_version": "1.5.0",
      "_model_name": "DescriptionStyleModel",
      "_view_count": null,
      "_view_module": "@jupyter-widgets/base",
      "_view_module_version": "1.2.0",
      "_view_name": "StyleView",
      "description_width": ""
     }
    },
    "379ddff1026340c2ac7c08ba4c317a1f": {
     "model_module": "@jupyter-widgets/controls",
     "model_module_version": "1.5.0",
     "model_name": "DescriptionStyleModel",
     "state": {
      "_model_module": "@jupyter-widgets/controls",
      "_model_module_version": "1.5.0",
      "_model_name": "DescriptionStyleModel",
      "_view_count": null,
      "_view_module": "@jupyter-widgets/base",
      "_view_module_version": "1.2.0",
      "_view_name": "StyleView",
      "description_width": ""
     }
    },
    "45486fa80814479dba15f6df21f6b7aa": {
     "model_module": "@jupyter-widgets/controls",
     "model_module_version": "1.5.0",
     "model_name": "HTMLModel",
     "state": {
      "_dom_classes": [],
      "_model_module": "@jupyter-widgets/controls",
      "_model_module_version": "1.5.0",
      "_model_name": "HTMLModel",
      "_view_count": null,
      "_view_module": "@jupyter-widgets/controls",
      "_view_module_version": "1.5.0",
      "_view_name": "HTMLView",
      "description": "",
      "description_tooltip": null,
      "layout": "IPY_MODEL_0591dd8b25eb41979d65c757072fc548",
      "placeholder": "​",
      "style": "IPY_MODEL_9f4cebbd17f24a259f048002723b0260",
      "value": "Query job 831e5973-4d7e-4cb6-938b-1a14f1bc1e11 is DONE. 72.5 GB processed. <a target=\"_blank\" href=\"https://console.cloud.google.com/bigquery?project=pongthorn&j=bq:US:831e5973-4d7e-4cb6-938b-1a14f1bc1e11&page=queryresults\">Open Job</a>"
     }
    },
    "45efc4a34e4a41f289965e762d7c5473": {
     "model_module": "@jupyter-widgets/controls",
     "model_module_version": "1.5.0",
     "model_name": "DescriptionStyleModel",
     "state": {
      "_model_module": "@jupyter-widgets/controls",
      "_model_module_version": "1.5.0",
      "_model_name": "DescriptionStyleModel",
      "_view_count": null,
      "_view_module": "@jupyter-widgets/base",
      "_view_module_version": "1.2.0",
      "_view_name": "StyleView",
      "description_width": ""
     }
    },
    "7656b4043ff44179adfeda631ef85830": {
     "model_module": "@jupyter-widgets/base",
     "model_module_version": "1.2.0",
     "model_name": "LayoutModel",
     "state": {
      "_model_module": "@jupyter-widgets/base",
      "_model_module_version": "1.2.0",
      "_model_name": "LayoutModel",
      "_view_count": null,
      "_view_module": "@jupyter-widgets/base",
      "_view_module_version": "1.2.0",
      "_view_name": "LayoutView",
      "align_content": null,
      "align_items": null,
      "align_self": null,
      "border": null,
      "bottom": null,
      "display": null,
      "flex": null,
      "flex_flow": null,
      "grid_area": null,
      "grid_auto_columns": null,
      "grid_auto_flow": null,
      "grid_auto_rows": null,
      "grid_column": null,
      "grid_gap": null,
      "grid_row": null,
      "grid_template_areas": null,
      "grid_template_columns": null,
      "grid_template_rows": null,
      "height": null,
      "justify_content": null,
      "justify_items": null,
      "left": null,
      "margin": null,
      "max_height": null,
      "max_width": null,
      "min_height": null,
      "min_width": null,
      "object_fit": null,
      "object_position": null,
      "order": null,
      "overflow": null,
      "overflow_x": null,
      "overflow_y": null,
      "padding": null,
      "right": null,
      "top": null,
      "visibility": null,
      "width": null
     }
    },
    "9f4cebbd17f24a259f048002723b0260": {
     "model_module": "@jupyter-widgets/controls",
     "model_module_version": "1.5.0",
     "model_name": "DescriptionStyleModel",
     "state": {
      "_model_module": "@jupyter-widgets/controls",
      "_model_module_version": "1.5.0",
      "_model_name": "DescriptionStyleModel",
      "_view_count": null,
      "_view_module": "@jupyter-widgets/base",
      "_view_module_version": "1.2.0",
      "_view_name": "StyleView",
      "description_width": ""
     }
    },
    "b2be1005fa764876b73e371652a42bf6": {
     "model_module": "@jupyter-widgets/controls",
     "model_module_version": "1.5.0",
     "model_name": "HTMLModel",
     "state": {
      "_dom_classes": [],
      "_model_module": "@jupyter-widgets/controls",
      "_model_module_version": "1.5.0",
      "_model_name": "HTMLModel",
      "_view_count": null,
      "_view_module": "@jupyter-widgets/controls",
      "_view_module_version": "1.5.0",
      "_view_name": "HTMLView",
      "description": "",
      "description_tooltip": null,
      "layout": "IPY_MODEL_edc70aa85f2b4af492eaa15f554b2935",
      "placeholder": "​",
      "style": "IPY_MODEL_45efc4a34e4a41f289965e762d7c5473",
      "value": "Query job 8cc0f8f6-b04d-44dd-8ece-6d271e3c8523 is DONE. 0 Bytes processed. <a target=\"_blank\" href=\"https://console.cloud.google.com/bigquery?project=pongthorn&j=bq:US:8cc0f8f6-b04d-44dd-8ece-6d271e3c8523&page=queryresults\">Open Job</a>"
     }
    },
    "b793f82c6f22468f90b5e58bccb23a16": {
     "model_module": "@jupyter-widgets/base",
     "model_module_version": "1.2.0",
     "model_name": "LayoutModel",
     "state": {
      "_model_module": "@jupyter-widgets/base",
      "_model_module_version": "1.2.0",
      "_model_name": "LayoutModel",
      "_view_count": null,
      "_view_module": "@jupyter-widgets/base",
      "_view_module_version": "1.2.0",
      "_view_name": "LayoutView",
      "align_content": null,
      "align_items": null,
      "align_self": null,
      "border": null,
      "bottom": null,
      "display": null,
      "flex": null,
      "flex_flow": null,
      "grid_area": null,
      "grid_auto_columns": null,
      "grid_auto_flow": null,
      "grid_auto_rows": null,
      "grid_column": null,
      "grid_gap": null,
      "grid_row": null,
      "grid_template_areas": null,
      "grid_template_columns": null,
      "grid_template_rows": null,
      "height": null,
      "justify_content": null,
      "justify_items": null,
      "left": null,
      "margin": null,
      "max_height": null,
      "max_width": null,
      "min_height": null,
      "min_width": null,
      "object_fit": null,
      "object_position": null,
      "order": null,
      "overflow": null,
      "overflow_x": null,
      "overflow_y": null,
      "padding": null,
      "right": null,
      "top": null,
      "visibility": null,
      "width": null
     }
    },
    "d1e44dfd6e884000a7a4f52fc14aa671": {
     "model_module": "@jupyter-widgets/controls",
     "model_module_version": "1.5.0",
     "model_name": "HTMLModel",
     "state": {
      "_dom_classes": [],
      "_model_module": "@jupyter-widgets/controls",
      "_model_module_version": "1.5.0",
      "_model_name": "HTMLModel",
      "_view_count": null,
      "_view_module": "@jupyter-widgets/controls",
      "_view_module_version": "1.5.0",
      "_view_name": "HTMLView",
      "description": "",
      "description_tooltip": null,
      "layout": "IPY_MODEL_7656b4043ff44179adfeda631ef85830",
      "placeholder": "​",
      "style": "IPY_MODEL_379ddff1026340c2ac7c08ba4c317a1f",
      "value": "Query job e32baeee-5fb3-45e9-8dce-14613db5e785 is DONE. 65.0 GB processed. <a target=\"_blank\" href=\"https://console.cloud.google.com/bigquery?project=pongthorn&j=bq:US:e32baeee-5fb3-45e9-8dce-14613db5e785&page=queryresults\">Open Job</a>"
     }
    },
    "edc70aa85f2b4af492eaa15f554b2935": {
     "model_module": "@jupyter-widgets/base",
     "model_module_version": "1.2.0",
     "model_name": "LayoutModel",
     "state": {
      "_model_module": "@jupyter-widgets/base",
      "_model_module_version": "1.2.0",
      "_model_name": "LayoutModel",
      "_view_count": null,
      "_view_module": "@jupyter-widgets/base",
      "_view_module_version": "1.2.0",
      "_view_name": "LayoutView",
      "align_content": null,
      "align_items": null,
      "align_self": null,
      "border": null,
      "bottom": null,
      "display": null,
      "flex": null,
      "flex_flow": null,
      "grid_area": null,
      "grid_auto_columns": null,
      "grid_auto_flow": null,
      "grid_auto_rows": null,
      "grid_column": null,
      "grid_gap": null,
      "grid_row": null,
      "grid_template_areas": null,
      "grid_template_columns": null,
      "grid_template_rows": null,
      "height": null,
      "justify_content": null,
      "justify_items": null,
      "left": null,
      "margin": null,
      "max_height": null,
      "max_width": null,
      "min_height": null,
      "min_width": null,
      "object_fit": null,
      "object_position": null,
      "order": null,
      "overflow": null,
      "overflow_x": null,
      "overflow_y": null,
      "padding": null,
      "right": null,
      "top": null,
      "visibility": null,
      "width": null
     }
    },
    "f9dd6c569b814102979526141af12309": {
     "model_module": "@jupyter-widgets/controls",
     "model_module_version": "1.5.0",
     "model_name": "HTMLModel",
     "state": {
      "_dom_classes": [],
      "_model_module": "@jupyter-widgets/controls",
      "_model_module_version": "1.5.0",
      "_model_name": "HTMLModel",
      "_view_count": null,
      "_view_module": "@jupyter-widgets/controls",
      "_view_module_version": "1.5.0",
      "_view_name": "HTMLView",
      "description": "",
      "description_tooltip": null,
      "layout": "IPY_MODEL_b793f82c6f22468f90b5e58bccb23a16",
      "placeholder": "​",
      "style": "IPY_MODEL_247867c9f12c4d27a8a5ba7750c6b430",
      "value": "Query job 8e09da47-3d3c-4a18-befb-7bce55a4791f is DONE. 4.2 MB processed. <a target=\"_blank\" href=\"https://console.cloud.google.com/bigquery?project=pongthorn&j=bq:US:8e09da47-3d3c-4a18-befb-7bce55a4791f&page=queryresults\">Open Job</a>"
     }
    }
   }
  }
 },
 "nbformat": 4,
 "nbformat_minor": 5
}
