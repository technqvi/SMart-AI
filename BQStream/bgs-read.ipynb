{
 "cells": [
  {
   "cell_type": "code",
   "execution_count": null,
   "id": "c129fdf9-161a-40a7-bdd5-d929788a42f0",
   "metadata": {},
   "outputs": [],
   "source": [
    "#https://cloud.google.com/bigquery/docs/reference/storage/libraries\n",
    "#https://github.com/rocketechgroup/bigquery-storage-read-api-example/blob/master/main_simple.py\n",
    "#https://github.com/googleapis/python-bigquery-storage/blob/main/samples/quickstart/quickstart.py\n",
    "from google.cloud.bigquery_storage import BigQueryReadClient\n",
    "from google.cloud.bigquery_storage import types\n",
    "from google.protobuf.internal.well_known_types import Timestamp\n",
    "import pandas as pd\n",
    "# import google.cloud.bigquery_storage\n",
    "# print('BQ-StorageAPI: ' +  google.cloud.bigquery_storage.__version__)\n",
    "# import fastavro print(f\"Fast-Avro: {fastavro.__version__}\")\n",
    "# import pyarrow \n",
    "# print(f\"PyArrow: {pyarrow .__version__}\")\n"
   ]
  },
  {
   "cell_type": "code",
   "execution_count": null,
   "id": "6f6aaf41-c722-4c5f-be8d-aca0c278306c",
   "metadata": {},
   "outputs": [],
   "source": [
    "mode=\"arrow\" #avro\n",
    "#mode=\"avro\"\n",
    "\n",
    "project_id = 'pongthorn'\n",
    "dataset_id=\"SMartDW\"\n",
    "table_id=\"incident_y23\"\n",
    "\n",
    "snapshot_millis = 0\n",
    "# The read session is created in this project. This project can be\n",
    "# different from that which contains the table.\n",
    "client = BigQueryReadClient()\n",
    "\n",
    "# This example reads baby name data from the public datasets.\n",
    "# table = \"projects/{}/datasets/{}/tables/{}\".format(\n",
    "#     \"bigquery-public-data\", \"usa_names\", \"usa_1910_current\"\n",
    "# )\n",
    "table = f\"projects/{project_id}/datasets/{dataset_id}/tables/{table_id}\"\n",
    "print(table)"
   ]
  },
  {
   "cell_type": "code",
   "execution_count": null,
   "id": "55313d95-f7bf-40dd-a018-a094eb6f949f",
   "metadata": {},
   "outputs": [],
   "source": [
    "requested_session = types.ReadSession()\n",
    "requested_session.table = table\n",
    "# This API can also deliver data serialized in Apache Arrow format.\n",
    "# This example leverages Apache Avro.\n",
    "\n",
    "if mode==\"arrow\" :\n",
    " requested_session.data_format = types.DataFormat.ARROW   \n",
    "else:\n",
    " requested_session.data_format = types.DataFormat.AVRO"
   ]
  },
  {
   "cell_type": "code",
   "execution_count": null,
   "id": "e1085b91-2061-4b1f-9259-427f738d7c85",
   "metadata": {},
   "outputs": [],
   "source": [
    "# We limit the output columns to a subset of those allowed in the table,\n",
    "# and set a simple filter to only report names from the state of\n",
    "# Washington (WA).\n",
    "\n",
    "requested_session.read_options.selected_fields = [\"id\", \"severity_name\", \"severity_id\",\n",
    "                                                  \"service_type\",\"incident_type\",\"imported_at\"]\n",
    "requested_session.read_options.row_restriction = 'severity_id in (2,3) and open_datetime>=\"2023-09-01\" '"
   ]
  },
  {
   "cell_type": "code",
   "execution_count": null,
   "id": "9dc41c2f-4d72-4a71-8ebc-9c2581c6921a",
   "metadata": {},
   "outputs": [],
   "source": [
    "# Set a snapshot time if it's been specified.\n",
    "if snapshot_millis > 0:\n",
    "    snapshot_time = types.Timestamp()\n",
    "    snapshot_time.FromMilliseconds(snapshot_millis)\n",
    "    requested_session.table_modifiers.snapshot_time = snapshot_time"
   ]
  },
  {
   "cell_type": "code",
   "execution_count": null,
   "id": "0fc0d5c2-b2a8-4b1d-a790-70e40de4972e",
   "metadata": {},
   "outputs": [],
   "source": [
    "parent = \"projects/{}\".format(project_id)\n",
    "session = client.create_read_session(\n",
    "    parent=parent,\n",
    "    read_session=requested_session,\n",
    "    # We'll use only a single stream for reading data from the table. However,\n",
    "    # if you wanted to fan out multiple readers you could do so by having a\n",
    "    # reader process each individual stream.\n",
    "    max_stream_count=1,\n",
    ")\n",
    "\n",
    "reader = client.read_rows(session.streams[0].name)  # max_stream_count=1"
   ]
  },
  {
   "cell_type": "markdown",
   "id": "8ab402e0-ea20-4579-b6ad-1772f79955f3",
   "metadata": {},
   "source": [
    "#  Read by Avro and  convert to DF for Huge Ingestion"
   ]
  },
  {
   "cell_type": "code",
   "execution_count": null,
   "id": "7d58bd7e-34c5-4941-99fa-c5ca43da4921",
   "metadata": {},
   "outputs": [],
   "source": [
    "if mode=='avro':\n",
    "# The read stream contains blocks of Avro-encoded bytes. The rows() method\n",
    "# uses the fastavro library to parse these blocks as an iterable of Python\n",
    "# dictionaries. Install fastavro with the following command:\n",
    "\n",
    "# Do any local processing by iterating over the rows. The\n",
    "# google-cloud-bigquery-storage client reconnects to the API after any\n",
    "# transient network errors or timeouts.\n",
    "# pip install google-cloud-bigquery-storage[fastavro]\n",
    "\n",
    "    rows = reader.rows(session)\n",
    "    frames = []\n",
    "    for row in rows:\n",
    "        frames.append(pd.Series(row))    \n",
    "    df=pd.concat(frames, axis=1).T   \n",
    "# convert all filed type manually"
   ]
  },
  {
   "cell_type": "code",
   "execution_count": null,
   "id": "dd593e6f-f8d9-4cbe-b641-3e7aba34a2cf",
   "metadata": {},
   "outputs": [],
   "source": []
  },
  {
   "cell_type": "markdown",
   "id": "2eb503e0-6663-4915-ac64-dfc5d16bf280",
   "metadata": {},
   "source": [
    "#  Read by Arrow and  convert to DF For Data Analysics"
   ]
  },
  {
   "cell_type": "code",
   "execution_count": null,
   "id": "80b52f88-2bed-4eec-855d-38182266673c",
   "metadata": {},
   "outputs": [],
   "source": [
    "if mode==\"arrow\" :\n",
    "    frames = []\n",
    "    for message in reader.rows().pages:\n",
    "        frames.append(message.to_dataframe())\n",
    "    df = pd.concat(frames)\n"
   ]
  },
  {
   "cell_type": "code",
   "execution_count": null,
   "id": "dbaf574e-bec3-450f-82fe-ccbe964c6c3b",
   "metadata": {},
   "outputs": [],
   "source": [
    "print(df.info())\n",
    "df.sample(20)"
   ]
  },
  {
   "cell_type": "code",
   "execution_count": null,
   "id": "0eace719-516c-4764-8eac-6a78f52af0d0",
   "metadata": {},
   "outputs": [],
   "source": []
  },
  {
   "cell_type": "code",
   "execution_count": null,
   "id": "6c2d1c64-f990-4710-965b-18be761f4eaa",
   "metadata": {},
   "outputs": [],
   "source": []
  }
 ],
 "metadata": {
  "environment": {
   "kernel": "python3",
   "name": "tf2-gpu.2-12.m109",
   "type": "gcloud",
   "uri": "gcr.io/deeplearning-platform-release/tf2-gpu.2-12:m109"
  },
  "kernelspec": {
   "display_name": "Python 3 (ipykernel)",
   "language": "python",
   "name": "python3"
  },
  "language_info": {
   "codemirror_mode": {
    "name": "ipython",
    "version": 3
   },
   "file_extension": ".py",
   "mimetype": "text/x-python",
   "name": "python",
   "nbconvert_exporter": "python",
   "pygments_lexer": "ipython3",
   "version": "3.10.12"
  }
 },
 "nbformat": 4,
 "nbformat_minor": 5
}
