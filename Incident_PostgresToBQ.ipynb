{
 "cells": [
  {
   "cell_type": "code",
   "execution_count": 1,
   "id": "8c39b3f6-bba0-4a86-a7e9-06936925e4e2",
   "metadata": {},
   "outputs": [],
   "source": [
    "import psycopg2\n",
    "import psycopg2.extras as extras\n",
    "import pandas as pd\n",
    "import json\n",
    "from datetime import datetime\n",
    "\n",
    "from google.cloud import bigquery\n",
    "from google.cloud.exceptions import NotFound\n",
    "from google.api_core.exceptions import BadRequest\n"
   ]
  },
  {
   "cell_type": "code",
   "execution_count": 2,
   "id": "d94cfee6-0815-41b3-a4da-af311c6b617f",
   "metadata": {},
   "outputs": [],
   "source": [
    "start_date_query='2020-01-01'"
   ]
  },
  {
   "cell_type": "code",
   "execution_count": 3,
   "id": "006faf12-708d-41d8-a92e-e675cd0fd1a5",
   "metadata": {},
   "outputs": [
    {
     "name": "stdout",
     "output_type": "stream",
     "text": [
      "Table pongthorn.SMartDW.incident already exists.\n"
     ]
    }
   ],
   "source": [
    "table_id = \"pongthorn.SMartDW.incident\"\n",
    "\n",
    "client = bigquery.Client()\n",
    "\n",
    "try:\n",
    "    client.get_table(table_id)  # Make an API request.\n",
    "    print(\"Table {} already exists.\".format(table_id))\n",
    "except NotFound:\n",
    "    raise Exception(\"Table {} is not found.\".format(table_id))"
   ]
  },
  {
   "cell_type": "code",
   "execution_count": null,
   "id": "45c3f144-68a2-4594-8b29-ad06d34267cb",
   "metadata": {},
   "outputs": [],
   "source": []
  },
  {
   "cell_type": "code",
   "execution_count": 4,
   "id": "48f7377b-387e-4a65-968b-64d7cf8d70dc",
   "metadata": {},
   "outputs": [
    {
     "name": "stdout",
     "output_type": "stream",
     "text": [
      "Imported DateTime: 2023-02-22 22:10:59\n"
     ]
    }
   ],
   "source": [
    "dt_imported=datetime.now()\n",
    "str_imported=dt_imported.strftime('%Y-%m-%d %H:%M:%S')\n",
    "print(f\"Imported DateTime: {str_imported}\" )"
   ]
  },
  {
   "cell_type": "code",
   "execution_count": 5,
   "id": "48f260bb-88f8-4f97-97d2-b7a5f3142a45",
   "metadata": {},
   "outputs": [
    {
     "name": "stdout",
     "output_type": "stream",
     "text": [
      "Last Imported DateTime: 2023-02-22 16:41:28\n",
      "Start Import on update_at of last imported date : 2023-02-22 16:41:28\n"
     ]
    }
   ],
   "source": [
    "sql_lastImport=f\"SELECT max(imported_at) as last_imported from `pongthorn.SMartDW.incident` where open_datetime>='{start_date_query}' \"\n",
    "job_lastImported=client.query(sql_lastImport)\n",
    "str_lastImported=None\n",
    "for row in job_lastImported:    \n",
    "    if row.last_imported is not None: \n",
    "        str_lastImported=row.last_imported.strftime('%Y-%m-%d %H:%M:%S')\n",
    "print(f\"Last Imported DateTime: {str_lastImported}\" )\n",
    "\n",
    "if str_lastImported is not None:\n",
    "  start_date_query=str_lastImported\n",
    "\n",
    "print(f\"Start Import on update_at of last imported date : {start_date_query}\" )"
   ]
  },
  {
   "cell_type": "code",
   "execution_count": 6,
   "id": "02058f8d-cc89-4eea-8fd4-1c7995a0a6cf",
   "metadata": {},
   "outputs": [],
   "source": [
    "def get_postgres_conn():\n",
    " try:\n",
    "  conn = psycopg2.connect(\n",
    "         database='SMartDB', user='postgres',\n",
    "      password='P@ssw0rd', host='localhost', \n",
    "     )\n",
    "  return conn\n",
    "\n",
    " except Exception as error:\n",
    "  print(error)      \n",
    "  raise error\n",
    "def list_data(sql,params,connection):\n",
    " df=None   \n",
    " with connection.cursor() as cursor:\n",
    "    \n",
    "    if params is None:\n",
    "       cursor.execute(sql)\n",
    "    else:\n",
    "       cursor.execute(sql,params)\n",
    "    \n",
    "    columns = [col[0] for col in cursor.description]\n",
    "    dataList = [dict(zip(columns, row)) for row in cursor.fetchall()]\n",
    "    df = pd.DataFrame(data=dataList) \n",
    " return df "
   ]
  },
  {
   "cell_type": "code",
   "execution_count": 7,
   "id": "b1c895bd-11bd-4e29-8d2b-3f2cec660c3f",
   "metadata": {},
   "outputs": [],
   "source": [
    "sql_incident=\"\"\"\n",
    "\n",
    "select\n",
    "incident.id as id, incident.incident_no as incident_no,\n",
    "\n",
    "severity.id as  severity_id,\n",
    "severity.severity_name as  severity_name,\n",
    "\n",
    "service_level.sla_name as sla,\n",
    "\n",
    "product_type.productype_name as product_type,brand.brand_name as brand,model.model_name as model,\n",
    "\n",
    "xtype.incident_type_name as incident_type,\n",
    "status.incident_status_name as status,\n",
    "service.service_type_name service_type,\n",
    "CASE WHEN failure_type IS NULL THEN  0 ELSE 1 END AS is_failure_type,\n",
    "\n",
    "(select count(*) from  app_incident_detail  as detail where  detail.incident_master_id=incident.id ) as count_detail\n",
    "\n",
    "\n",
    ",TO_CHAR(incident.incident_datetime  AT TIME ZONE 'Asia/Bangkok','YYYY-MM-DD HH24:MI') as open_datetime\n",
    ",TO_CHAR(incident.incident_close_datetime  AT TIME ZONE 'Asia/Bangkok','YYYY-MM-DD HH24:MI') as close_datetime\n",
    "\n",
    ",TO_CHAR(incident.incident_problem_start  AT TIME ZONE 'Asia/Bangkok','YYYY-MM-DD HH24:MI') as response_datetime\n",
    ",TO_CHAR(incident.incident_problem_end  AT TIME ZONE 'Asia/Bangkok','YYYY-MM-DD HH24:MI') as resolved_datetime\n",
    "\n",
    ",company.company_name as company\n",
    ",TO_CHAR(incident.updated_at,'YYYY-MM-DD HH24:MI:SS') as updated_at \n",
    "\n",
    "\n",
    "from app_incident as incident\n",
    "inner join app_incident_type as  xtype on incident.incident_type_id = xtype.id\n",
    "inner join  app_incident_status as status on incident.incident_status_id = status.id\n",
    "inner join  app_incident_severity as severity on  incident.incident_severity_id = severity.id\n",
    "inner join  app_service_type as service on incident.service_type_id= service.id\n",
    "\n",
    "inner join app_inventory as inventory on incident.inventory_id = inventory.id\n",
    "\n",
    "inner join app_brand as brand on inventory.brand_id = brand.id\n",
    "inner join app_model as model on inventory.model_id = model.id\n",
    "inner join app_product_type as product_type on inventory.product_type_id = product_type.id\n",
    "inner join app_sla as service_level on inventory.customer_sla_id = service_level.id\n",
    "\n",
    "inner join app_project as project on inventory.project_id = project.id\n",
    "inner join app_company as company on project.company_id = company.id\n",
    "\n",
    "where incident.incident_status_id =4\n",
    "and incident.updated_at>=%(start_date_param)s\n",
    "\n",
    "order by incident.incident_datetime desc\n",
    "\n",
    "\n",
    "\"\"\"\n"
   ]
  },
  {
   "cell_type": "code",
   "execution_count": 9,
   "id": "334b3f28-23d2-4d07-a74c-c405129bd466",
   "metadata": {},
   "outputs": [
    {
     "name": "stdout",
     "output_type": "stream",
     "text": [
      "Create all issues dataframe\n"
     ]
    }
   ],
   "source": [
    "print(\"Create all issues dataframe\")\n",
    "\n",
    "dict_params={\"start_date_param\":start_date_query}\n",
    "df_all=list_data(sql_incident,dict_params,get_postgres_conn())\n",
    "\n",
    "if df_all.empty==True:\n",
    "    print(\"no transsaction update\")\n",
    "    exit()\n"
   ]
  },
  {
   "cell_type": "code",
   "execution_count": 10,
   "id": "61aa2f70-16ee-41e5-b531-6548708042f2",
   "metadata": {},
   "outputs": [
    {
     "name": "stdout",
     "output_type": "stream",
     "text": [
      "<class 'pandas.core.frame.DataFrame'>\n",
      "RangeIndex: 1 entries, 0 to 0\n",
      "Data columns (total 20 columns):\n",
      " #   Column             Non-Null Count  Dtype         \n",
      "---  ------             --------------  -----         \n",
      " 0   id                 1 non-null      int64         \n",
      " 1   incident_no        1 non-null      object        \n",
      " 2   severity_id        1 non-null      int64         \n",
      " 3   severity_name      1 non-null      object        \n",
      " 4   sla                1 non-null      object        \n",
      " 5   product_type       1 non-null      object        \n",
      " 6   brand              1 non-null      object        \n",
      " 7   model              1 non-null      object        \n",
      " 8   incident_type      1 non-null      object        \n",
      " 9   status             1 non-null      object        \n",
      " 10  service_type       1 non-null      object        \n",
      " 11  is_failure_type    1 non-null      int64         \n",
      " 12  count_detail       1 non-null      int64         \n",
      " 13  open_datetime      1 non-null      datetime64[ns]\n",
      " 14  close_datetime     1 non-null      datetime64[ns]\n",
      " 15  response_datetime  1 non-null      datetime64[ns]\n",
      " 16  resolved_datetime  1 non-null      datetime64[ns]\n",
      " 17  company            1 non-null      object        \n",
      " 18  updated_at         1 non-null      datetime64[ns]\n",
      " 19  imported_at        1 non-null      datetime64[ns]\n",
      "dtypes: datetime64[ns](6), int64(4), object(10)\n",
      "memory usage: 288.0+ bytes\n",
      "None\n"
     ]
    },
    {
     "data": {
      "text/html": [
       "<div>\n",
       "<style scoped>\n",
       "    .dataframe tbody tr th:only-of-type {\n",
       "        vertical-align: middle;\n",
       "    }\n",
       "\n",
       "    .dataframe tbody tr th {\n",
       "        vertical-align: top;\n",
       "    }\n",
       "\n",
       "    .dataframe thead th {\n",
       "        text-align: right;\n",
       "    }\n",
       "</style>\n",
       "<table border=\"1\" class=\"dataframe\">\n",
       "  <thead>\n",
       "    <tr style=\"text-align: right;\">\n",
       "      <th></th>\n",
       "      <th>id</th>\n",
       "      <th>incident_no</th>\n",
       "      <th>severity_id</th>\n",
       "      <th>severity_name</th>\n",
       "      <th>sla</th>\n",
       "      <th>product_type</th>\n",
       "      <th>brand</th>\n",
       "      <th>model</th>\n",
       "      <th>incident_type</th>\n",
       "      <th>status</th>\n",
       "      <th>service_type</th>\n",
       "      <th>is_failure_type</th>\n",
       "      <th>count_detail</th>\n",
       "      <th>open_datetime</th>\n",
       "      <th>close_datetime</th>\n",
       "      <th>response_datetime</th>\n",
       "      <th>resolved_datetime</th>\n",
       "      <th>company</th>\n",
       "      <th>updated_at</th>\n",
       "      <th>imported_at</th>\n",
       "    </tr>\n",
       "  </thead>\n",
       "  <tbody>\n",
       "    <tr>\n",
       "      <th>0</th>\n",
       "      <td>2346</td>\n",
       "      <td>SR-ES-23-2346</td>\n",
       "      <td>2</td>\n",
       "      <td>Major</td>\n",
       "      <td>24x7 4Hrs Resolution Time</td>\n",
       "      <td>Storage</td>\n",
       "      <td>Oracle</td>\n",
       "      <td>ZFS StorEdge 7320</td>\n",
       "      <td>Power Supply Failure</td>\n",
       "      <td>Closed</td>\n",
       "      <td>Incident</td>\n",
       "      <td>0</td>\n",
       "      <td>0</td>\n",
       "      <td>2023-02-21 10:00:00</td>\n",
       "      <td>2023-02-22 16:20:00</td>\n",
       "      <td>2023-02-21 10:05:00</td>\n",
       "      <td>2023-02-22 16:20:00</td>\n",
       "      <td>CGD</td>\n",
       "      <td>2023-02-22 16:20:25</td>\n",
       "      <td>2023-02-22 16:20:47.874507</td>\n",
       "    </tr>\n",
       "  </tbody>\n",
       "</table>\n",
       "</div>"
      ],
      "text/plain": [
       "     id    incident_no  severity_id severity_name                        sla  \\\n",
       "0  2346  SR-ES-23-2346            2         Major  24x7 4Hrs Resolution Time   \n",
       "\n",
       "  product_type   brand              model         incident_type  status  \\\n",
       "0      Storage  Oracle  ZFS StorEdge 7320  Power Supply Failure  Closed   \n",
       "\n",
       "  service_type  is_failure_type  count_detail       open_datetime  \\\n",
       "0     Incident                0             0 2023-02-21 10:00:00   \n",
       "\n",
       "       close_datetime   response_datetime   resolved_datetime company  \\\n",
       "0 2023-02-22 16:20:00 2023-02-21 10:05:00 2023-02-22 16:20:00     CGD   \n",
       "\n",
       "           updated_at                imported_at  \n",
       "0 2023-02-22 16:20:25 2023-02-22 16:20:47.874507  "
      ]
     },
     "execution_count": 10,
     "metadata": {},
     "output_type": "execute_result"
    }
   ],
   "source": [
    "# convert object to datetime\n",
    "dateTimeCols=['open_datetime','response_datetime','resolved_datetime','close_datetime','updated_at']\n",
    "for col in dateTimeCols:\n",
    " df_all[col]=pd.to_datetime(df_all[col], format='%Y-%m-%d %H:%M',errors= 'coerce')\n",
    "\n",
    "df_all['imported_at']=dt_imported\n",
    "\n",
    "\n",
    "df_all.dropna(inplace=True)\n",
    "\n",
    "#df_all=df_all.head(10)\n",
    "print(df_all.info())\n",
    "df_all.head(10)"
   ]
  },
  {
   "cell_type": "code",
   "execution_count": 11,
   "id": "8af8d43a-61d2-4a8e-94f3-0f96447a2a5a",
   "metadata": {},
   "outputs": [
    {
     "name": "stdout",
     "output_type": "stream",
     "text": [
      "Total  1 Imported closed incident to bigquery successfully\n"
     ]
    }
   ],
   "source": [
    "def insertDataFrameToBQ(df_trasns):\n",
    "    try:\n",
    "        job_config = bigquery.LoadJobConfig(\n",
    "            write_disposition=\"WRITE_APPEND\",\n",
    "        )\n",
    "\n",
    "        job = client.load_table_from_dataframe(\n",
    "            df_trasns, table_id, job_config=job_config\n",
    "        )\n",
    "        job.result()  # Wait for the job to complete.\n",
    "        print(\"Total \", len(df_trasns), \"Imported closed incident to bigquery successfully\")\n",
    "\n",
    "    except BadRequest as e:\n",
    "        print(\"Bigquery Error\\n\")\n",
    "        for e in job.errors:\n",
    "            print('ERROR: {}'.format(e['message']))\n",
    "\n",
    "try:\n",
    "    insertDataFrameToBQ(df_all)\n",
    "except Exception as ex:\n",
    "    raise ex\n",
    "\n",
    "\n"
   ]
  },
  {
   "cell_type": "code",
   "execution_count": null,
   "id": "9996e057-c8cb-4b9b-a994-4d4c0265b143",
   "metadata": {},
   "outputs": [],
   "source": []
  },
  {
   "cell_type": "raw",
   "id": "12b2eb3c-6398-4cca-be09-74ecfef02f9e",
   "metadata": {},
   "source": []
  },
  {
   "cell_type": "code",
   "execution_count": null,
   "id": "e64c3f68-8ab8-447b-83ff-4ca648fbcb6f",
   "metadata": {},
   "outputs": [],
   "source": []
  },
  {
   "cell_type": "code",
   "execution_count": null,
   "id": "2944355e-8b23-4fbf-8f0d-cab8a0e7fdd9",
   "metadata": {},
   "outputs": [],
   "source": []
  }
 ],
 "metadata": {
  "kernelspec": {
   "display_name": "Python 3 (ipykernel)",
   "language": "python",
   "name": "python3"
  },
  "language_info": {
   "codemirror_mode": {
    "name": "ipython",
    "version": 3
   },
   "file_extension": ".py",
   "mimetype": "text/x-python",
   "name": "python",
   "nbconvert_exporter": "python",
   "pygments_lexer": "ipython3",
   "version": "3.9.16"
  }
 },
 "nbformat": 4,
 "nbformat_minor": 5
}
