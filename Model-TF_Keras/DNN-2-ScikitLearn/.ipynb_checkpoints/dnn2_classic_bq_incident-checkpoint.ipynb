{
 "cells": [
  {
   "cell_type": "code",
   "execution_count": 64,
   "id": "d6163c83-bfda-4e74-8129-9043d5749880",
   "metadata": {},
   "outputs": [],
   "source": [
    "import warnings\n",
    "\n",
    "import pandas as pd\n",
    "from google.cloud import bigquery\n",
    "from sklearn.model_selection import train_test_split\n",
    "from sklearn.preprocessing import StandardScaler\n",
    "from tensorflow.keras import Sequential\n",
    "from tensorflow.keras.callbacks import EarlyStopping\n",
    "from tensorflow.keras.layers import Dense\n",
    "from tensorflow.keras.utils import to_categorical\n",
    "\n",
    "import matplotlib.pyplot as plt\n",
    "import seaborn as sns\n",
    "\n",
    "warnings.filterwarnings(\"ignore\")\n",
    "#https://github.com/GoogleCloudPlatform/vertex-ai-samples/blob/main/notebooks/official/workbench/ads_targetting/training-multi-class-classification-model-for-ads-targeting-usecase.ipynb\n",
    "    "
   ]
  },
  {
   "cell_type": "code",
   "execution_count": 65,
   "id": "800d4fda-1c5d-4732-bd77-25582f0b4b3d",
   "metadata": {},
   "outputs": [],
   "source": [
    "categ_cols=['sla','product_type','brand','service_type','incident_type']\n",
    "num_cols=['open_to_close_hour','response_to_resolved_hour']\n",
    "label='severity_name'\n",
    "unusedCols=['severity_id','severity_name']\n",
    "\n",
    "target='severity'"
   ]
  },
  {
   "cell_type": "code",
   "execution_count": 66,
   "id": "ac890329-a740-4650-aa9e-87ad9dc2c8f0",
   "metadata": {},
   "outputs": [
    {
     "name": "stdout",
     "output_type": "stream",
     "text": [
      "<class 'pandas.core.frame.DataFrame'>\n",
      "RangeIndex: 2143 entries, 0 to 2142\n",
      "Data columns (total 10 columns):\n",
      " #   Column                     Non-Null Count  Dtype  \n",
      "---  ------                     --------------  -----  \n",
      " 0   severity_id                2143 non-null   int64  \n",
      " 1   severity_name              2143 non-null   object \n",
      " 2   sla                        2143 non-null   object \n",
      " 3   product_type               2143 non-null   object \n",
      " 4   brand                      2143 non-null   object \n",
      " 5   service_type               2143 non-null   object \n",
      " 6   incident_type              2143 non-null   object \n",
      " 7   open_to_close_hour         2143 non-null   float64\n",
      " 8   response_to_resolved_hour  2143 non-null   float64\n",
      " 9   severity                   2143 non-null   int64  \n",
      "dtypes: float64(2), int64(2), object(6)\n",
      "memory usage: 167.5+ KB\n",
      "None\n"
     ]
    }
   ],
   "source": [
    "df=pd.read_csv(\"../../data/ML_Incident_20230316.csv\")\n",
    "df[target] = df[label].map({'Cosmatic':0,'Minor': 1, \"Major\": 2, \"Critical\": 3})\n",
    "print(df.info())\n"
   ]
  },
  {
   "cell_type": "code",
   "execution_count": 67,
   "id": "5c534e4e-3993-45f8-9c50-5cc07d4b44e8",
   "metadata": {},
   "outputs": [
    {
     "data": {
      "image/png": "[encoded data removed]",
      "text/plain": [
       "<Figure size 1500x500 with 1 Axes>"
      ]
     },
     "metadata": {},
     "output_type": "display_data"
    }
   ],
   "source": [
    "fig , ax = plt.subplots(figsize=(15,5))\n",
    "ax =sns.countplot(x=target, data=df,)\n",
    "for p in ax.patches:\n",
    "   ax.annotate('{:.1f}'.format(p.get_height()), (p.get_x()+0.25, p.get_height()+0.01))\n",
    "plt.title(target.title())\n",
    "plt.show()"
   ]
  },
  {
   "cell_type": "code",
   "execution_count": 68,
   "id": "2dd96768-b4f3-42d9-95f9-a45556d07a9d",
   "metadata": {},
   "outputs": [
    {
     "name": "stdout",
     "output_type": "stream",
     "text": [
      "TargetLabel :[3, 2, 1, 0] = 4\n",
      "<class 'pandas.core.frame.DataFrame'>\n",
      "RangeIndex: 2143 entries, 0 to 2142\n",
      "Data columns (total 8 columns):\n",
      " #   Column                     Non-Null Count  Dtype  \n",
      "---  ------                     --------------  -----  \n",
      " 0   sla                        2143 non-null   object \n",
      " 1   product_type               2143 non-null   object \n",
      " 2   brand                      2143 non-null   object \n",
      " 3   service_type               2143 non-null   object \n",
      " 4   incident_type              2143 non-null   object \n",
      " 5   open_to_close_hour         2143 non-null   float64\n",
      " 6   response_to_resolved_hour  2143 non-null   float64\n",
      " 7   severity                   2143 non-null   int64  \n",
      "dtypes: float64(2), int64(1), object(5)\n",
      "memory usage: 134.1+ KB\n",
      "None\n"
     ]
    },
    {
     "data": {
      "text/html": [
       "<div>\n",
       "<style scoped>\n",
       "    .dataframe tbody tr th:only-of-type {\n",
       "        vertical-align: middle;\n",
       "    }\n",
       "\n",
       "    .dataframe tbody tr th {\n",
       "        vertical-align: top;\n",
       "    }\n",
       "\n",
       "    .dataframe thead th {\n",
       "        text-align: right;\n",
       "    }\n",
       "</style>\n",
       "<table border=\"1\" class=\"dataframe\">\n",
       "  <thead>\n",
       "    <tr style=\"text-align: right;\">\n",
       "      <th></th>\n",
       "      <th>sla</th>\n",
       "      <th>product_type</th>\n",
       "      <th>brand</th>\n",
       "      <th>service_type</th>\n",
       "      <th>incident_type</th>\n",
       "      <th>open_to_close_hour</th>\n",
       "      <th>response_to_resolved_hour</th>\n",
       "      <th>severity</th>\n",
       "    </tr>\n",
       "  </thead>\n",
       "  <tbody>\n",
       "    <tr>\n",
       "      <th>2138</th>\n",
       "      <td>24x7 4Hrs Resolution Time</td>\n",
       "      <td>Server</td>\n",
       "      <td>HPE</td>\n",
       "      <td>Incident</td>\n",
       "      <td>General Incident</td>\n",
       "      <td>141.366667</td>\n",
       "      <td>141.250000</td>\n",
       "      <td>2</td>\n",
       "    </tr>\n",
       "    <tr>\n",
       "      <th>2139</th>\n",
       "      <td>24x7 4Hrs Resolution Time</td>\n",
       "      <td>Server</td>\n",
       "      <td>HPE</td>\n",
       "      <td>Incident</td>\n",
       "      <td>General Incident</td>\n",
       "      <td>65.000000</td>\n",
       "      <td>64.866667</td>\n",
       "      <td>2</td>\n",
       "    </tr>\n",
       "    <tr>\n",
       "      <th>2140</th>\n",
       "      <td>24x7 4Hrs Response Time</td>\n",
       "      <td>Server</td>\n",
       "      <td>DELL</td>\n",
       "      <td>Incident</td>\n",
       "      <td>General Incident</td>\n",
       "      <td>7.216667</td>\n",
       "      <td>7.216667</td>\n",
       "      <td>1</td>\n",
       "    </tr>\n",
       "    <tr>\n",
       "      <th>2141</th>\n",
       "      <td>24x7 4Hrs Response Time</td>\n",
       "      <td>Storage</td>\n",
       "      <td>NetApp</td>\n",
       "      <td>Incident</td>\n",
       "      <td>Hard Disk Drive Failure</td>\n",
       "      <td>12.250000</td>\n",
       "      <td>11.866667</td>\n",
       "      <td>2</td>\n",
       "    </tr>\n",
       "    <tr>\n",
       "      <th>2142</th>\n",
       "      <td>24x7 4Hrs Response Time</td>\n",
       "      <td>Storage</td>\n",
       "      <td>NetApp</td>\n",
       "      <td>Incident</td>\n",
       "      <td>Maintenance System</td>\n",
       "      <td>4.100000</td>\n",
       "      <td>0.500000</td>\n",
       "      <td>2</td>\n",
       "    </tr>\n",
       "  </tbody>\n",
       "</table>\n",
       "</div>"
      ],
      "text/plain": [
       "                            sla product_type   brand service_type  \\\n",
       "2138  24x7 4Hrs Resolution Time       Server     HPE     Incident   \n",
       "2139  24x7 4Hrs Resolution Time       Server     HPE     Incident   \n",
       "2140    24x7 4Hrs Response Time       Server    DELL     Incident   \n",
       "2141    24x7 4Hrs Response Time      Storage  NetApp     Incident   \n",
       "2142    24x7 4Hrs Response Time      Storage  NetApp     Incident   \n",
       "\n",
       "                incident_type  open_to_close_hour  response_to_resolved_hour  \\\n",
       "2138         General Incident          141.366667                 141.250000   \n",
       "2139         General Incident           65.000000                  64.866667   \n",
       "2140         General Incident            7.216667                   7.216667   \n",
       "2141  Hard Disk Drive Failure           12.250000                  11.866667   \n",
       "2142       Maintenance System            4.100000                   0.500000   \n",
       "\n",
       "      severity  \n",
       "2138         2  \n",
       "2139         2  \n",
       "2140         1  \n",
       "2141         2  \n",
       "2142         2  "
      ]
     },
     "execution_count": 68,
     "metadata": {},
     "output_type": "execute_result"
    }
   ],
   "source": [
    "listTarget=list(df[target].unique())\n",
    "nTarget=len(listTarget)\n",
    "print(f\"TargetLabel :{listTarget } = {nTarget}\")\n",
    "\n",
    "df=df.drop(columns=unusedCols)\n",
    "\n",
    "print(df.info())\n",
    "\n",
    "df.tail()"
   ]
  },
  {
   "cell_type": "code",
   "execution_count": 69,
   "id": "981f7dae-6286-4593-9205-fb5ee2d00b65",
   "metadata": {},
   "outputs": [
    {
     "name": "stdout",
     "output_type": "stream",
     "text": [
      "<class 'pandas.core.frame.DataFrame'>\n",
      "RangeIndex: 2143 entries, 0 to 2142\n",
      "Data columns (total 59 columns):\n",
      " #   Column                                 Non-Null Count  Dtype  \n",
      "---  ------                                 --------------  -----  \n",
      " 0   open_to_close_hour                     2143 non-null   float64\n",
      " 1   response_to_resolved_hour              2143 non-null   float64\n",
      " 2   severity                               2143 non-null   int64  \n",
      " 3   sla_24x7 4Hrs Response Time            2143 non-null   uint8  \n",
      " 4   sla_24x7 6Hrs Resolution Time          2143 non-null   uint8  \n",
      " 5   sla_24x7 6Hrs Response Time            2143 non-null   uint8  \n",
      " 6   sla_8x5 4Hrs Response Time             2143 non-null   uint8  \n",
      " 7   sla_9x5xNBD 4Hrs Response Time         2143 non-null   uint8  \n",
      " 8   product_type_Firewall                  2143 non-null   uint8  \n",
      " 9   product_type_Hardware                  2143 non-null   uint8  \n",
      " 10  product_type_Other                     2143 non-null   uint8  \n",
      " 11  product_type_Security                  2143 non-null   uint8  \n",
      " 12  product_type_Server                    2143 non-null   uint8  \n",
      " 13  product_type_Software                  2143 non-null   uint8  \n",
      " 14  product_type_Storage                   2143 non-null   uint8  \n",
      " 15  product_type_Switch                    2143 non-null   uint8  \n",
      " 16  product_type_Tape Library              2143 non-null   uint8  \n",
      " 17  brand_CheckPoint                       2143 non-null   uint8  \n",
      " 18  brand_Cisco                            2143 non-null   uint8  \n",
      " 19  brand_DELL                             2143 non-null   uint8  \n",
      " 20  brand_EMC                              2143 non-null   uint8  \n",
      " 21  brand_F5                               2143 non-null   uint8  \n",
      " 22  brand_Fortinet                         2143 non-null   uint8  \n",
      " 23  brand_HPE                              2143 non-null   uint8  \n",
      " 24  brand_IBM                              2143 non-null   uint8  \n",
      " 25  brand_Microsoft                        2143 non-null   uint8  \n",
      " 26  brand_NetApp                           2143 non-null   uint8  \n",
      " 27  brand_Nutanix                          2143 non-null   uint8  \n",
      " 28  brand_Oracle                           2143 non-null   uint8  \n",
      " 29  brand_Palo Alto                        2143 non-null   uint8  \n",
      " 30  brand_Red Hat                          2143 non-null   uint8  \n",
      " 31  brand_SAPB1                            2143 non-null   uint8  \n",
      " 32  brand_Trend Micro                      2143 non-null   uint8  \n",
      " 33  brand_VMWare                           2143 non-null   uint8  \n",
      " 34  brand_Veeam                            2143 non-null   uint8  \n",
      " 35  brand_Veritas                          2143 non-null   uint8  \n",
      " 36  brand_YIP                              2143 non-null   uint8  \n",
      " 37  brand_eUnite                           2143 non-null   uint8  \n",
      " 38  service_type_Request                   2143 non-null   uint8  \n",
      " 39  incident_type_Battery Failure          2143 non-null   uint8  \n",
      " 40  incident_type_CPU Failure              2143 non-null   uint8  \n",
      " 41  incident_type_Cache Battery Failure    2143 non-null   uint8  \n",
      " 42  incident_type_Configuration Change     2143 non-null   uint8  \n",
      " 43  incident_type_Controller/Node Failure  2143 non-null   uint8  \n",
      " 44  incident_type_Fan Failure              2143 non-null   uint8  \n",
      " 45  incident_type_General Incident         2143 non-null   uint8  \n",
      " 46  incident_type_Hard Disk Drive Failure  2143 non-null   uint8  \n",
      " 47  incident_type_Maintenance System       2143 non-null   uint8  \n",
      " 48  incident_type_Memory Failure           2143 non-null   uint8  \n",
      " 49  incident_type_Network Adapter Failure  2143 non-null   uint8  \n",
      " 50  incident_type_Network Cable Failure    2143 non-null   uint8  \n",
      " 51  incident_type_Network Card Failure     2143 non-null   uint8  \n",
      " 52  incident_type_OS / Firmware            2143 non-null   uint8  \n",
      " 53  incident_type_Other Failure            2143 non-null   uint8  \n",
      " 54  incident_type_Power Supply Failure     2143 non-null   uint8  \n",
      " 55  incident_type_Report                   2143 non-null   uint8  \n",
      " 56  incident_type_Software                 2143 non-null   uint8  \n",
      " 57  incident_type_System Board Failure     2143 non-null   uint8  \n",
      " 58  incident_type_Upgrade Software         2143 non-null   uint8  \n",
      "dtypes: float64(2), int64(1), uint8(56)\n",
      "memory usage: 167.5 KB\n",
      "None\n"
     ]
    }
   ],
   "source": [
    "def encode_cols(data, col):\n",
    "    # Creating a dummy variable for the variable 'CategoryID' and dropping the first one.\n",
    "    categ = pd.get_dummies(data[col], prefix=col, drop_first=True)\n",
    "    # Adding the results to the master dataframe\n",
    "    data = pd.concat([data, categ], axis=1)\n",
    "    return data\n",
    "\n",
    "# dummy-encode the categorical fields\n",
    "for i in categ_cols:\n",
    "    df = encode_cols(df, i)\n",
    "    df.drop(columns=[i], inplace=True)\n",
    "\n",
    "# check the data's shape\n",
    "print(df.info())"
   ]
  },
  {
   "cell_type": "code",
   "execution_count": 70,
   "id": "0a6440b2-fc3a-4a52-8348-6dbfcb6bc705",
   "metadata": {},
   "outputs": [
    {
     "name": "stdout",
     "output_type": "stream",
     "text": [
      "(2143, 58) (2143,)\n"
     ]
    }
   ],
   "source": [
    "X=df.copy()\n",
    "y=X.pop(target)\n",
    "print(X.shape,y.shape)"
   ]
  },
  {
   "cell_type": "code",
   "execution_count": 71,
   "id": "2aa9ca6d-b39b-464e-b221-e258c110d7b2",
   "metadata": {},
   "outputs": [
    {
     "name": "stdout",
     "output_type": "stream",
     "text": [
      "(1714, 58) (429, 58)\n",
      "(1714,) (429,)\n"
     ]
    }
   ],
   "source": [
    "X_train, X_test, y_train, y_test = train_test_split(\n",
    "    X, y, train_size=0.8, random_state=36\n",
    ")\n",
    "print(X_train.shape, X_test.shape)\n",
    "print(y_train.shape, y_test.shape)"
   ]
  },
  {
   "cell_type": "code",
   "execution_count": 72,
   "id": "cd9aa412-b637-4641-bc41-dbe08655dbdd",
   "metadata": {},
   "outputs": [],
   "source": [
    "# For numberic\n",
    "scaler = StandardScaler()\n",
    "X_train.loc[:, num_cols] = scaler.fit_transform(X_train[num_cols])\n",
    "X_test.loc[:, num_cols] = scaler.transform(X_test[num_cols])\n",
    "\n",
    "# For category\n",
    "y_train_categ = to_categorical(y_train)\n",
    "y_test_categ = to_categorical(y_test)"
   ]
  },
  {
   "cell_type": "code",
   "execution_count": 73,
   "id": "030739cc-2f93-45e4-80ab-7761bff3d81d",
   "metadata": {},
   "outputs": [
    {
     "data": {
      "text/html": [
       "<div>\n",
       "<style scoped>\n",
       "    .dataframe tbody tr th:only-of-type {\n",
       "        vertical-align: middle;\n",
       "    }\n",
       "\n",
       "    .dataframe tbody tr th {\n",
       "        vertical-align: top;\n",
       "    }\n",
       "\n",
       "    .dataframe thead th {\n",
       "        text-align: right;\n",
       "    }\n",
       "</style>\n",
       "<table border=\"1\" class=\"dataframe\">\n",
       "  <thead>\n",
       "    <tr style=\"text-align: right;\">\n",
       "      <th></th>\n",
       "      <th>open_to_close_hour</th>\n",
       "      <th>response_to_resolved_hour</th>\n",
       "      <th>sla_24x7 4Hrs Response Time</th>\n",
       "      <th>sla_24x7 6Hrs Resolution Time</th>\n",
       "      <th>sla_24x7 6Hrs Response Time</th>\n",
       "      <th>sla_8x5 4Hrs Response Time</th>\n",
       "      <th>sla_9x5xNBD 4Hrs Response Time</th>\n",
       "      <th>product_type_Firewall</th>\n",
       "      <th>product_type_Hardware</th>\n",
       "      <th>product_type_Other</th>\n",
       "      <th>...</th>\n",
       "      <th>incident_type_Network Adapter Failure</th>\n",
       "      <th>incident_type_Network Cable Failure</th>\n",
       "      <th>incident_type_Network Card Failure</th>\n",
       "      <th>incident_type_OS / Firmware</th>\n",
       "      <th>incident_type_Other Failure</th>\n",
       "      <th>incident_type_Power Supply Failure</th>\n",
       "      <th>incident_type_Report</th>\n",
       "      <th>incident_type_Software</th>\n",
       "      <th>incident_type_System Board Failure</th>\n",
       "      <th>incident_type_Upgrade Software</th>\n",
       "    </tr>\n",
       "  </thead>\n",
       "  <tbody>\n",
       "    <tr>\n",
       "      <th>1493</th>\n",
       "      <td>-0.354006</td>\n",
       "      <td>-0.311879</td>\n",
       "      <td>1</td>\n",
       "      <td>0</td>\n",
       "      <td>0</td>\n",
       "      <td>0</td>\n",
       "      <td>0</td>\n",
       "      <td>0</td>\n",
       "      <td>0</td>\n",
       "      <td>0</td>\n",
       "      <td>...</td>\n",
       "      <td>0</td>\n",
       "      <td>0</td>\n",
       "      <td>0</td>\n",
       "      <td>0</td>\n",
       "      <td>0</td>\n",
       "      <td>0</td>\n",
       "      <td>0</td>\n",
       "      <td>0</td>\n",
       "      <td>0</td>\n",
       "      <td>0</td>\n",
       "    </tr>\n",
       "  </tbody>\n",
       "</table>\n",
       "<p>1 rows × 58 columns</p>\n",
       "</div>"
      ],
      "text/plain": [
       "      open_to_close_hour  response_to_resolved_hour  \\\n",
       "1493           -0.354006                  -0.311879   \n",
       "\n",
       "      sla_24x7 4Hrs Response Time  sla_24x7 6Hrs Resolution Time  \\\n",
       "1493                            1                              0   \n",
       "\n",
       "      sla_24x7 6Hrs Response Time  sla_8x5 4Hrs Response Time  \\\n",
       "1493                            0                           0   \n",
       "\n",
       "      sla_9x5xNBD 4Hrs Response Time  product_type_Firewall  \\\n",
       "1493                               0                      0   \n",
       "\n",
       "      product_type_Hardware  product_type_Other  ...  \\\n",
       "1493                      0                   0  ...   \n",
       "\n",
       "      incident_type_Network Adapter Failure  \\\n",
       "1493                                      0   \n",
       "\n",
       "      incident_type_Network Cable Failure  incident_type_Network Card Failure  \\\n",
       "1493                                    0                                   0   \n",
       "\n",
       "      incident_type_OS / Firmware  incident_type_Other Failure  \\\n",
       "1493                            0                            0   \n",
       "\n",
       "      incident_type_Power Supply Failure  incident_type_Report  \\\n",
       "1493                                   0                     0   \n",
       "\n",
       "      incident_type_Software  incident_type_System Board Failure  \\\n",
       "1493                       0                                   0   \n",
       "\n",
       "      incident_type_Upgrade Software  \n",
       "1493                               0  \n",
       "\n",
       "[1 rows x 58 columns]"
      ]
     },
     "execution_count": 73,
     "metadata": {},
     "output_type": "execute_result"
    }
   ],
   "source": [
    "X_train[:1]"
   ]
  },
  {
   "cell_type": "code",
   "execution_count": 74,
   "id": "d612c216-abcc-49f3-9643-9c33a507b770",
   "metadata": {},
   "outputs": [
    {
     "data": {
      "text/plain": [
       "array([[0., 0., 1., 0.]], dtype=float32)"
      ]
     },
     "execution_count": 74,
     "metadata": {},
     "output_type": "execute_result"
    }
   ],
   "source": [
    "y_train_categ[:1]"
   ]
  },
  {
   "cell_type": "code",
   "execution_count": 75,
   "id": "7a0eec29-1fe1-4835-90f9-6397ff56ddea",
   "metadata": {},
   "outputs": [
    {
     "name": "stdout",
     "output_type": "stream",
     "text": [
      "Model: \"sequential_4\"\n",
      "_________________________________________________________________\n",
      " Layer (type)                Output Shape              Param #   \n",
      "=================================================================\n",
      " dense_12 (Dense)            (None, 32)                1888      \n",
      "                                                                 \n",
      " dense_13 (Dense)            (None, 32)                1056      \n",
      "                                                                 \n",
      " dense_14 (Dense)            (None, 4)                 132       \n",
      "                                                                 \n",
      "=================================================================\n",
      "Total params: 3,076\n",
      "Trainable params: 3,076\n",
      "Non-trainable params: 0\n",
      "_________________________________________________________________\n"
     ]
    }
   ],
   "source": [
    "optimizer = \"adam\"\n",
    "num_hidden_layers = 2\n",
    "num_neurons = [32, 32]\n",
    "activ_func = [\"relu\", \"relu\"]\n",
    "\n",
    "\n",
    "model = Sequential()\n",
    "# construct the neural network as per the defined parameters\n",
    "for i in range(num_hidden_layers):\n",
    "    if i == 0:\n",
    "        # add the input layer\n",
    "        model.add(\n",
    "            Dense(\n",
    "                num_neurons[i],\n",
    "                activation=activ_func[i],\n",
    "                input_shape=(X_train.shape[1],),\n",
    "            )\n",
    "        )\n",
    "    else:\n",
    "        # add the hidden layers\n",
    "        model.add(Dense(num_neurons[i], activation=activ_func[i]))\n",
    "\n",
    "# add the output layer\n",
    "model.add(Dense(nTarget, activation=\"softmax\"))\n",
    "# compile the model\n",
    "model.compile(loss=\"categorical_crossentropy\", optimizer=optimizer, metrics=[\"accuracy\"])\n",
    "model.summary()\n"
   ]
  },
  {
   "cell_type": "code",
   "execution_count": 76,
   "id": "f96a1139-910d-48fa-8900-1e17f0d1a913",
   "metadata": {},
   "outputs": [
    {
     "name": "stdout",
     "output_type": "stream",
     "text": [
      "Epoch 1/100\n",
      "54/54 [==============================] - 1s 8ms/step - loss: 1.2190 - accuracy: 0.4848 - val_loss: 1.1019 - val_accuracy: 0.5128\n",
      "Epoch 2/100\n",
      "54/54 [==============================] - 0s 3ms/step - loss: 0.9979 - accuracy: 0.5852 - val_loss: 0.9331 - val_accuracy: 0.6317\n",
      "Epoch 3/100\n",
      "54/54 [==============================] - 0s 3ms/step - loss: 0.8580 - accuracy: 0.6540 - val_loss: 0.8065 - val_accuracy: 0.6667\n",
      "Epoch 4/100\n",
      "54/54 [==============================] - 0s 3ms/step - loss: 0.7730 - accuracy: 0.6727 - val_loss: 0.7575 - val_accuracy: 0.6876\n",
      "Epoch 5/100\n",
      "54/54 [==============================] - 0s 3ms/step - loss: 0.7358 - accuracy: 0.6844 - val_loss: 0.7353 - val_accuracy: 0.7133\n",
      "Epoch 6/100\n",
      "54/54 [==============================] - 0s 4ms/step - loss: 0.7125 - accuracy: 0.7013 - val_loss: 0.7226 - val_accuracy: 0.7016\n",
      "Epoch 7/100\n",
      "54/54 [==============================] - 0s 4ms/step - loss: 0.6976 - accuracy: 0.7042 - val_loss: 0.7196 - val_accuracy: 0.7296\n",
      "Epoch 8/100\n",
      "54/54 [==============================] - 0s 4ms/step - loss: 0.6834 - accuracy: 0.7258 - val_loss: 0.7136 - val_accuracy: 0.7133\n",
      "Epoch 9/100\n",
      "54/54 [==============================] - 0s 3ms/step - loss: 0.6730 - accuracy: 0.7305 - val_loss: 0.7046 - val_accuracy: 0.7110\n",
      "Epoch 10/100\n",
      "54/54 [==============================] - 0s 4ms/step - loss: 0.6643 - accuracy: 0.7281 - val_loss: 0.7040 - val_accuracy: 0.7040\n",
      "Epoch 11/100\n",
      "54/54 [==============================] - 0s 4ms/step - loss: 0.6558 - accuracy: 0.7415 - val_loss: 0.7027 - val_accuracy: 0.7110\n",
      "Epoch 12/100\n",
      "54/54 [==============================] - 0s 4ms/step - loss: 0.6502 - accuracy: 0.7363 - val_loss: 0.7051 - val_accuracy: 0.7086\n",
      "Epoch 13/100\n",
      "54/54 [==============================] - 0s 4ms/step - loss: 0.6426 - accuracy: 0.7439 - val_loss: 0.6914 - val_accuracy: 0.7133\n",
      "Epoch 14/100\n",
      "54/54 [==============================] - 0s 4ms/step - loss: 0.6333 - accuracy: 0.7503 - val_loss: 0.6934 - val_accuracy: 0.7203\n",
      "Epoch 15/100\n",
      "54/54 [==============================] - 0s 4ms/step - loss: 0.6258 - accuracy: 0.7544 - val_loss: 0.6934 - val_accuracy: 0.7319\n",
      "Epoch 16/100\n",
      "54/54 [==============================] - 0s 5ms/step - loss: 0.6214 - accuracy: 0.7532 - val_loss: 0.6926 - val_accuracy: 0.7273\n",
      "Epoch 17/100\n",
      "54/54 [==============================] - 0s 5ms/step - loss: 0.6150 - accuracy: 0.7602 - val_loss: 0.6941 - val_accuracy: 0.7226\n",
      "Epoch 18/100\n",
      "54/54 [==============================] - 0s 5ms/step - loss: 0.6104 - accuracy: 0.7585 - val_loss: 0.6862 - val_accuracy: 0.7459\n",
      "Epoch 19/100\n",
      "54/54 [==============================] - 0s 5ms/step - loss: 0.6063 - accuracy: 0.7526 - val_loss: 0.6920 - val_accuracy: 0.7226\n",
      "Epoch 20/100\n",
      "54/54 [==============================] - 0s 5ms/step - loss: 0.6012 - accuracy: 0.7625 - val_loss: 0.6906 - val_accuracy: 0.7319\n",
      "Epoch 21/100\n",
      "54/54 [==============================] - 0s 5ms/step - loss: 0.5925 - accuracy: 0.7719 - val_loss: 0.6975 - val_accuracy: 0.7319\n",
      "Epoch 22/100\n",
      "54/54 [==============================] - 0s 5ms/step - loss: 0.5900 - accuracy: 0.7690 - val_loss: 0.6936 - val_accuracy: 0.7296\n",
      "Epoch 23/100\n",
      "54/54 [==============================] - 0s 4ms/step - loss: 0.5858 - accuracy: 0.7684 - val_loss: 0.6943 - val_accuracy: 0.7366\n",
      "Epoch 24/100\n",
      "54/54 [==============================] - 0s 4ms/step - loss: 0.5827 - accuracy: 0.7707 - val_loss: 0.6966 - val_accuracy: 0.7179\n",
      "Epoch 25/100\n",
      "54/54 [==============================] - 0s 4ms/step - loss: 0.5796 - accuracy: 0.7730 - val_loss: 0.7068 - val_accuracy: 0.7273\n",
      "Epoch 26/100\n",
      "54/54 [==============================] - 0s 4ms/step - loss: 0.5754 - accuracy: 0.7754 - val_loss: 0.7007 - val_accuracy: 0.7319\n",
      "Epoch 27/100\n",
      "54/54 [==============================] - 0s 4ms/step - loss: 0.5727 - accuracy: 0.7748 - val_loss: 0.7017 - val_accuracy: 0.7203\n",
      "Epoch 28/100\n",
      "54/54 [==============================] - 0s 4ms/step - loss: 0.5687 - accuracy: 0.7777 - val_loss: 0.7087 - val_accuracy: 0.7156\n",
      "Epoch 28: early stopping\n"
     ]
    }
   ],
   "source": [
    "EPOCHS = 100\n",
    "BATCH_SIZE = 32\n",
    "early_stopping = EarlyStopping(monitor='val_loss', patience=10, verbose=1)\n",
    "history = model.fit(X_train, y_train_categ, validation_data=(X_test, y_test_categ),epochs=EPOCHS,batch_size=BATCH_SIZE, verbose=1,callbacks = [early_stopping])"
   ]
  },
  {
   "cell_type": "code",
   "execution_count": 77,
   "id": "328953b3-f729-49c5-b4ce-e48971fcc1c7",
   "metadata": {},
   "outputs": [
    {
     "name": "stdout",
     "output_type": "stream",
     "text": [
      "14/14 [==============================] - 0s 2ms/step - loss: 0.7087 - accuracy: 0.7156\n",
      "Test results - Loss: [0.7086963653564453, 0.7156177163124084]\n"
     ]
    }
   ],
   "source": [
    "test_results = model.evaluate(X_test, y_test_categ, verbose=1)\n",
    "print(f\"Test results - Loss: {test_results}\")"
   ]
  },
  {
   "cell_type": "code",
   "execution_count": 78,
   "id": "b3c4cb99-26c7-43e6-b45f-123f393294fe",
   "metadata": {},
   "outputs": [
    {
     "data": {
      "image/png": "[encoded data removed]",
      "text/plain": [
       "<Figure size 1500x800 with 2 Axes>"
      ]
     },
     "metadata": {},
     "output_type": "display_data"
    }
   ],
   "source": [
    "plt.figure(figsize=(15,8))\n",
    "colors = plt.rcParams['axes.prop_cycle'].by_key()['color']\n",
    "def plot_metrics(history):\n",
    "  metrics =  ['loss', 'accuracy']\n",
    "  for n, metric in enumerate(metrics):\n",
    "    name = metric.replace(\"_\",\" \").capitalize()\n",
    "    plt.subplot(2,2,n+1)\n",
    "    plt.plot(history.epoch,  history.history[metric], color=colors[0], label='Train')\n",
    "    plt.plot(history.epoch, history.history['val_'+metric],\n",
    "             color=colors[0], linestyle=\"--\", label='Val')\n",
    "    plt.xlabel('Epoch')\n",
    "    plt.ylabel(name)\n",
    "    if metric == 'loss':\n",
    "      plt.ylim([0, plt.ylim()[1]])\n",
    "    elif metric == 'auc':\n",
    "      plt.ylim([0.8,1])\n",
    "    else:\n",
    "      plt.ylim([0,1])\n",
    "\n",
    "    plt.legend()\n",
    "\n",
    "plot_metrics(history)"
   ]
  },
  {
   "cell_type": "code",
   "execution_count": null,
   "id": "3ff8bdec-c38d-4469-98ae-d1bee4ba05ee",
   "metadata": {},
   "outputs": [],
   "source": [
    "# GCS_PATH = BUCKET_URI + \"/path-to-save/\"\n",
    "# model.save(GCS_PATH)"
   ]
  }
 ],
 "metadata": {
  "kernelspec": {
   "display_name": "Python 3 (ipykernel)",
   "language": "python",
   "name": "python3"
  },
  "language_info": {
   "codemirror_mode": {
    "name": "ipython",
    "version": 3
   },
   "file_extension": ".py",
   "mimetype": "text/x-python",
   "name": "python",
   "nbconvert_exporter": "python",
   "pygments_lexer": "ipython3",
   "version": "3.9.16"
  }
 },
 "nbformat": 4,
 "nbformat_minor": 5
}
