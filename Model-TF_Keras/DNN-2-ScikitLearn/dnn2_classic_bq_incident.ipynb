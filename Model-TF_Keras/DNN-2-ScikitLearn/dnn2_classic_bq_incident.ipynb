{
 "cells": [
  {
   "cell_type": "code",
   "execution_count": null,
   "id": "d6163c83-bfda-4e74-8129-9043d5749880",
   "metadata": {},
   "outputs": [],
   "source": [
    "import warnings\n",
    "\n",
    "import pandas as pd\n",
    "from google.cloud import bigquery\n",
    "from sklearn.model_selection import train_test_split\n",
    "from sklearn.preprocessing import StandardScaler\n",
    "from tensorflow.keras import Sequential\n",
    "from tensorflow.keras.callbacks import EarlyStopping\n",
    "from tensorflow.keras.layers import Dense\n",
    "from tensorflow.keras.utils import to_categorical\n",
    "\n",
    "import matplotlib.pyplot as plt\n",
    "import seaborn as sns\n",
    "\n",
    "warnings.filterwarnings(\"ignore\")\n",
    "#https://github.com/GoogleCloudPlatform/vertex-ai-samples/blob/main/notebooks/official/workbench/ads_targetting/training-multi-class-classification-model-for-ads-targeting-usecase.ipynb\n",
    "    "
   ]
  },
  {
   "cell_type": "code",
   "execution_count": null,
   "id": "800d4fda-1c5d-4732-bd77-25582f0b4b3d",
   "metadata": {},
   "outputs": [],
   "source": [
    "categ_cols=['sla','product_type','brand','service_type','incident_type']\n",
    "num_cols=['open_to_close_hour','response_to_resolved_hour']\n",
    "label='severity_name'\n",
    "unusedCols=['severity_id','severity_name']\n",
    "\n",
    "target='severity'"
   ]
  },
  {
   "cell_type": "code",
   "execution_count": null,
   "id": "ac890329-a740-4650-aa9e-87ad9dc2c8f0",
   "metadata": {},
   "outputs": [],
   "source": [
    "df=pd.read_csv(\"../../data/ML_Incident_20230316.csv\")\n",
    "df[target] = df[label].map({'Cosmatic':0,'Minor': 1, \"Major\": 2, \"Critical\": 3})\n",
    "print(df.info())\n"
   ]
  },
  {
   "cell_type": "code",
   "execution_count": null,
   "id": "5c534e4e-3993-45f8-9c50-5cc07d4b44e8",
   "metadata": {},
   "outputs": [],
   "source": [
    "fig , ax = plt.subplots(figsize=(15,5))\n",
    "ax =sns.countplot(x=target, data=df,)\n",
    "for p in ax.patches:\n",
    "   ax.annotate('{:.1f}'.format(p.get_height()), (p.get_x()+0.25, p.get_height()+0.01))\n",
    "plt.title(target.title())\n",
    "plt.show()"
   ]
  },
  {
   "cell_type": "code",
   "execution_count": null,
   "id": "2dd96768-b4f3-42d9-95f9-a45556d07a9d",
   "metadata": {},
   "outputs": [],
   "source": [
    "listTarget=list(df[target].unique())\n",
    "nTarget=len(listTarget)\n",
    "print(f\"TargetLabel :{listTarget } = {nTarget}\")\n",
    "\n",
    "df=df.drop(columns=unusedCols)\n",
    "\n",
    "print(df.info())\n",
    "\n",
    "df.tail()"
   ]
  },
  {
   "cell_type": "code",
   "execution_count": null,
   "id": "981f7dae-6286-4593-9205-fb5ee2d00b65",
   "metadata": {},
   "outputs": [],
   "source": [
    "def encode_cols(data, col):\n",
    "    # Creating a dummy variable for the variable 'CategoryID' and dropping the first one.\n",
    "    categ = pd.get_dummies(data[col], prefix=col, drop_first=True)\n",
    "    # Adding the results to the master dataframe\n",
    "    data = pd.concat([data, categ], axis=1)\n",
    "    return data\n",
    "\n",
    "# dummy-encode the categorical fields\n",
    "for i in categ_cols:\n",
    "    df = encode_cols(df, i)\n",
    "    df.drop(columns=[i], inplace=True)\n",
    "\n",
    "# check the data's shape\n",
    "print(df.info())"
   ]
  },
  {
   "cell_type": "code",
   "execution_count": null,
   "id": "0a6440b2-fc3a-4a52-8348-6dbfcb6bc705",
   "metadata": {},
   "outputs": [],
   "source": [
    "X=df.copy()\n",
    "y=X.pop(target)\n",
    "print(X.shape,y.shape)"
   ]
  },
  {
   "cell_type": "code",
   "execution_count": null,
   "id": "2aa9ca6d-b39b-464e-b221-e258c110d7b2",
   "metadata": {},
   "outputs": [],
   "source": [
    "X_train, X_test, y_train, y_test = train_test_split(\n",
    "    X, y, train_size=0.8, random_state=36\n",
    ")\n",
    "print(X_train.shape, X_test.shape)\n",
    "print(y_train.shape, y_test.shape)"
   ]
  },
  {
   "cell_type": "code",
   "execution_count": null,
   "id": "cd9aa412-b637-4641-bc41-dbe08655dbdd",
   "metadata": {},
   "outputs": [],
   "source": [
    "# For numberic\n",
    "scaler = StandardScaler()\n",
    "X_train.loc[:, num_cols] = scaler.fit_transform(X_train[num_cols])\n",
    "X_test.loc[:, num_cols] = scaler.transform(X_test[num_cols])\n",
    "\n",
    "# For category\n",
    "y_train_categ = to_categorical(y_train)\n",
    "y_test_categ = to_categorical(y_test)"
   ]
  },
  {
   "cell_type": "code",
   "execution_count": null,
   "id": "030739cc-2f93-45e4-80ab-7761bff3d81d",
   "metadata": {},
   "outputs": [],
   "source": [
    "X_train[:1]"
   ]
  },
  {
   "cell_type": "code",
   "execution_count": null,
   "id": "d612c216-abcc-49f3-9643-9c33a507b770",
   "metadata": {},
   "outputs": [],
   "source": [
    "y_train_categ[:1]"
   ]
  },
  {
   "cell_type": "code",
   "execution_count": null,
   "id": "7a0eec29-1fe1-4835-90f9-6397ff56ddea",
   "metadata": {},
   "outputs": [],
   "source": [
    "optimizer = \"adam\"\n",
    "num_hidden_layers = 2\n",
    "num_neurons = [32, 32]\n",
    "activ_func = [\"relu\", \"relu\"]\n",
    "\n",
    "\n",
    "model = Sequential()\n",
    "# construct the neural network as per the defined parameters\n",
    "for i in range(num_hidden_layers):\n",
    "    if i == 0:\n",
    "        # add the input layer\n",
    "        model.add(\n",
    "            Dense(\n",
    "                num_neurons[i],\n",
    "                activation=activ_func[i],\n",
    "                input_shape=(X_train.shape[1],),\n",
    "            )\n",
    "        )\n",
    "    else:\n",
    "        # add the hidden layers\n",
    "        model.add(Dense(num_neurons[i], activation=activ_func[i]))\n",
    "\n",
    "# add the output layer\n",
    "model.add(Dense(nTarget, activation=\"softmax\"))\n",
    "# compile the model\n",
    "model.compile(loss=\"categorical_crossentropy\", optimizer=optimizer, metrics=[\"accuracy\"])\n",
    "model.summary()\n"
   ]
  },
  {
   "cell_type": "code",
   "execution_count": null,
   "id": "f96a1139-910d-48fa-8900-1e17f0d1a913",
   "metadata": {},
   "outputs": [],
   "source": [
    "EPOCHS = 100\n",
    "BATCH_SIZE = 32\n",
    "early_stopping = EarlyStopping(monitor='val_loss', patience=10, verbose=1)\n",
    "history = model.fit(X_train, y_train_categ, validation_data=(X_test, y_test_categ),epochs=EPOCHS,batch_size=BATCH_SIZE, verbose=1,callbacks = [early_stopping])"
   ]
  },
  {
   "cell_type": "code",
   "execution_count": null,
   "id": "328953b3-f729-49c5-b4ce-e48971fcc1c7",
   "metadata": {},
   "outputs": [],
   "source": [
    "test_results = model.evaluate(X_test, y_test_categ, verbose=1)\n",
    "print(f\"Test results - Loss: {test_results}\")"
   ]
  },
  {
   "cell_type": "code",
   "execution_count": null,
   "id": "b3c4cb99-26c7-43e6-b45f-123f393294fe",
   "metadata": {},
   "outputs": [],
   "source": [
    "plt.figure(figsize=(15,8))\n",
    "colors = plt.rcParams['axes.prop_cycle'].by_key()['color']\n",
    "def plot_metrics(history):\n",
    "  metrics =  ['loss', 'accuracy']\n",
    "  for n, metric in enumerate(metrics):\n",
    "    name = metric.replace(\"_\",\" \").capitalize()\n",
    "    plt.subplot(2,2,n+1)\n",
    "    plt.plot(history.epoch,  history.history[metric], color=colors[0], label='Train')\n",
    "    plt.plot(history.epoch, history.history['val_'+metric],\n",
    "             color=colors[0], linestyle=\"--\", label='Val')\n",
    "    plt.xlabel('Epoch')\n",
    "    plt.ylabel(name)\n",
    "    if metric == 'loss':\n",
    "      plt.ylim([0, plt.ylim()[1]])\n",
    "    elif metric == 'auc':\n",
    "      plt.ylim([0.8,1])\n",
    "    else:\n",
    "      plt.ylim([0,1])\n",
    "\n",
    "    plt.legend()\n",
    "\n",
    "plot_metrics(history)"
   ]
  },
  {
   "cell_type": "code",
   "execution_count": null,
   "id": "3ff8bdec-c38d-4469-98ae-d1bee4ba05ee",
   "metadata": {},
   "outputs": [],
   "source": [
    "# GCS_PATH = BUCKET_URI + \"/path-to-save/\"\n",
    "# model.save(GCS_PATH)"
   ]
  }
 ],
 "metadata": {
  "kernelspec": {
   "display_name": "Python 3 (ipykernel)",
   "language": "python",
   "name": "python3"
  },
  "language_info": {
   "codemirror_mode": {
    "name": "ipython",
    "version": 3
   },
   "file_extension": ".py",
   "mimetype": "text/x-python",
   "name": "python",
   "nbconvert_exporter": "python",
   "pygments_lexer": "ipython3",
   "version": "3.10.12"
  }
 },
 "nbformat": 4,
 "nbformat_minor": 5
}
