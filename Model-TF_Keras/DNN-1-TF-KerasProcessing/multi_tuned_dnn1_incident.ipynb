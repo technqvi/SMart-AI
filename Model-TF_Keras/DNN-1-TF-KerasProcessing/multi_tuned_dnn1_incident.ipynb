{
 "cells": [
  {
   "cell_type": "code",
   "execution_count": 21,
   "id": "efd54814-e227-4302-9a81-3d6ddcf0e9a5",
   "metadata": {},
   "outputs": [
    {
     "data": {
      "text/plain": [
       "'2.12.0'"
      ]
     },
     "execution_count": 21,
     "metadata": {},
     "output_type": "execute_result"
    }
   ],
   "source": [
    "# import necessary libraries\n",
    "\n",
    "#https://codelabs.developers.google.com/codelabs/fraud-detection-ai-explanations?hl=en#0\n",
    "#he Explainable AI SDK and Copy Model to Deploy\n",
    "\n",
    "#https://github.com/GoogleCloudPlatform/training-data-analyst/blob/master/courses/machine_learning/deepdive2/introduction_to_tensorflow/solutions/preprocessing_layers.ipynb\n",
    "#https://github.com/GoogleCloudPlatform/vertex-ai-samples/blob/main/notebooks/official/custom/custom-tabular-bq-managed-dataset.ipynb\n",
    "#https://github.com/GoogleCloudPlatform/vertex-ai-samples/blob/main/notebooks/official/experiments/comparing_local_trained_models.ipynb\n",
    "\n",
    "\n",
    "import numpy as np\n",
    "import pandas as pd\n",
    "import tensorflow as tf\n",
    "import matplotlib.pyplot as plt\n",
    "import seaborn as sns\n",
    "\n",
    "from tensorflow.keras import Sequential\n",
    "from tensorflow.keras.layers import Dense,DenseFeatures\n",
    "\n",
    "from datetime import date, timedelta, datetime # Date Functions\n",
    "import time\n",
    "\n",
    "\n",
    "from google.cloud import bigquery\n",
    "from sklearn.model_selection import train_test_split\n",
    "from tensorflow.keras import layers\n",
    "from tensorflow.keras.layers.experimental import preprocessing\n",
    "\n",
    "# from google.cloud import aiplatform as vertex_ai\n",
    "from tensorflow.python.keras.utils import data_utils\n",
    "\n",
    "tf.__version__"
   ]
  },
  {
   "cell_type": "code",
   "execution_count": 22,
   "id": "d28a9538-ca23-45f0-817b-e4b067cf9ab3",
   "metadata": {},
   "outputs": [],
   "source": [
    "#cateCols=['sla','product_type','brand','service_type','incident_type']\n",
    "cateCols=['sla','product_type','service_type','incident_type']\n",
    "\n",
    "#numbericCols=['open_to_close_hour','response_to_resolved_hour']\n",
    "numbericCols=['open_to_close_hour']\n",
    "\n",
    "unusedCols=['severity_id','severity_name','label_binary_severity','response_to_resolved_hour','brand']\n",
    "labelCol='label_multi_severity'\n",
    "\n",
    "main_metric='accuracy'\n",
    "main_objective=f'val_{main_metric}'\n",
    "\n",
    "\n",
    "objective_to_tued_and_monitor='val_loss' \n",
    "# objective_to_tued_and_monitor=main_objective\n",
    "\n",
    "seed=1932\n",
    "\n",
    "EPOCHS =50\n",
    "BATCH_SIZE = 32\n",
    "\n",
    "unitList=[32,64,128]\n",
    "dropOutList= [0.1, 0.2]\n",
    "# lrList=[0.01,0.001]\n",
    "nMax_trials=10\n",
    "nExecutions_per_trial=5\n",
    "nEarlyPatience=11\n",
    "\n",
    "model_tuned_dir='tuned_model'\n",
    "\n",
    "# df['label_multi_severity'] =df['severity_name'].map({'Cosmatic':0,'Minor': 1, \"Major\": 2, \"Critical\": 3}) "
   ]
  },
  {
   "cell_type": "markdown",
   "id": "3c0aa901-563f-4d2c-9203-67175431c32f",
   "metadata": {},
   "source": [
    "# Load Data"
   ]
  },
  {
   "cell_type": "code",
   "execution_count": 23,
   "id": "d1db6b46-bd0e-4053-8b4e-42e43f822da7",
   "metadata": {},
   "outputs": [],
   "source": [
    "projectId='pongthorn'\n",
    "client = bigquery.Client(project=projectId)\n",
    "dataset_id='SMartML'\n",
    "\n",
    "train_name='train_incident'\n",
    "validation_name='validation_incident'\n",
    "test_name='test_incident'\n",
    "\n",
    "train_table_id=f\"{projectId}.{dataset_id}.{train_name}\"\n",
    "val_tabel_id=f\"{projectId}.{dataset_id}.{validation_name}\"\n",
    "test_tabel_id=f\"{projectId}.{dataset_id}.{test_name}\""
   ]
  },
  {
   "cell_type": "code",
   "execution_count": 24,
   "id": "5ddea3e1-b732-48c4-95fc-637108802a2c",
   "metadata": {},
   "outputs": [
    {
     "name": "stdout",
     "output_type": "stream",
     "text": [
      "(2731, 6)\n",
      "(341, 6)\n",
      "(342, 6)\n",
      "[2, 1, 0, 3]\n",
      "No target label : 4\n",
      "<class 'pandas.core.frame.DataFrame'>\n",
      "RangeIndex: 2731 entries, 0 to 2730\n",
      "Data columns (total 6 columns):\n",
      " #   Column                Non-Null Count  Dtype  \n",
      "---  ------                --------------  -----  \n",
      " 0   sla                   2731 non-null   object \n",
      " 1   product_type          2731 non-null   object \n",
      " 2   service_type          2731 non-null   object \n",
      " 3   incident_type         2731 non-null   object \n",
      " 4   open_to_close_hour    2731 non-null   float64\n",
      " 5   label_multi_severity  2731 non-null   Int64  \n",
      "dtypes: Int64(1), float64(1), object(4)\n",
      "memory usage: 130.8+ KB\n",
      "None\n"
     ]
    },
    {
     "data": {
      "text/html": [
       "<div>\n",
       "<style scoped>\n",
       "    .dataframe tbody tr th:only-of-type {\n",
       "        vertical-align: middle;\n",
       "    }\n",
       "\n",
       "    .dataframe tbody tr th {\n",
       "        vertical-align: top;\n",
       "    }\n",
       "\n",
       "    .dataframe thead th {\n",
       "        text-align: right;\n",
       "    }\n",
       "</style>\n",
       "<table border=\"1\" class=\"dataframe\">\n",
       "  <thead>\n",
       "    <tr style=\"text-align: right;\">\n",
       "      <th></th>\n",
       "      <th>sla</th>\n",
       "      <th>product_type</th>\n",
       "      <th>service_type</th>\n",
       "      <th>incident_type</th>\n",
       "      <th>open_to_close_hour</th>\n",
       "      <th>label_multi_severity</th>\n",
       "    </tr>\n",
       "  </thead>\n",
       "  <tbody>\n",
       "    <tr>\n",
       "      <th>2726</th>\n",
       "      <td>24x7 4Hrs Response Time</td>\n",
       "      <td>Security</td>\n",
       "      <td>Request</td>\n",
       "      <td>General Incident</td>\n",
       "      <td>0.333333</td>\n",
       "      <td>0</td>\n",
       "    </tr>\n",
       "    <tr>\n",
       "      <th>2727</th>\n",
       "      <td>24x7 6Hrs Resolution Time</td>\n",
       "      <td>Software</td>\n",
       "      <td>Request</td>\n",
       "      <td>General Incident</td>\n",
       "      <td>0.883333</td>\n",
       "      <td>0</td>\n",
       "    </tr>\n",
       "    <tr>\n",
       "      <th>2728</th>\n",
       "      <td>24x7 4Hrs Response Time</td>\n",
       "      <td>Security</td>\n",
       "      <td>Request</td>\n",
       "      <td>OS / Firmware</td>\n",
       "      <td>16.666667</td>\n",
       "      <td>0</td>\n",
       "    </tr>\n",
       "    <tr>\n",
       "      <th>2729</th>\n",
       "      <td>24x7 4Hrs Response Time</td>\n",
       "      <td>Software</td>\n",
       "      <td>Request</td>\n",
       "      <td>General Incident</td>\n",
       "      <td>7.400000</td>\n",
       "      <td>0</td>\n",
       "    </tr>\n",
       "    <tr>\n",
       "      <th>2730</th>\n",
       "      <td>24x7 6Hrs Resolution Time</td>\n",
       "      <td>Software</td>\n",
       "      <td>Request</td>\n",
       "      <td>General Incident</td>\n",
       "      <td>5.483333</td>\n",
       "      <td>0</td>\n",
       "    </tr>\n",
       "  </tbody>\n",
       "</table>\n",
       "</div>"
      ],
      "text/plain": [
       "                            sla product_type service_type     incident_type  \\\n",
       "2726    24x7 4Hrs Response Time     Security      Request  General Incident   \n",
       "2727  24x7 6Hrs Resolution Time     Software      Request  General Incident   \n",
       "2728    24x7 4Hrs Response Time     Security      Request     OS / Firmware   \n",
       "2729    24x7 4Hrs Response Time     Software      Request  General Incident   \n",
       "2730  24x7 6Hrs Resolution Time     Software      Request  General Incident   \n",
       "\n",
       "      open_to_close_hour  label_multi_severity  \n",
       "2726            0.333333                     0  \n",
       "2727            0.883333                     0  \n",
       "2728           16.666667                     0  \n",
       "2729            7.400000                     0  \n",
       "2730            5.483333                     0  "
      ]
     },
     "execution_count": 24,
     "metadata": {},
     "output_type": "execute_result"
    }
   ],
   "source": [
    "# def load_ml_data(data_path):\n",
    "#  df=pd.read_csv(data_path)\n",
    "#  df =df.drop(columns=unusedCols)\n",
    "#  return df\n",
    "\n",
    "# root_path='../../data'    \n",
    "# train = load_ml_data(f\"{root_path}/train_incident.csv\")\n",
    "# # val=train.copy()\n",
    "# val=load_ml_data(f\"{root_path}/validation_incident.csv\")\n",
    "# # test =val.copy()\n",
    "# test =load_ml_data(f\"{root_path}/test_incident.csv\")\n",
    "\n",
    "def load_data_bq(sql:str):\n",
    " \n",
    " query_result=client.query(sql)\n",
    " df=query_result.to_dataframe()\n",
    " df =df.drop(columns=unusedCols)\n",
    "  \n",
    " return df\n",
    "    \n",
    "\n",
    "train=load_data_bq(f\"SELECT * FROM {train_table_id}\")\n",
    "val=load_data_bq(f\"SELECT * FROM {val_tabel_id}\")\n",
    "test=load_data_bq(f\"SELECT * FROM {test_tabel_id}\")\n",
    "\n",
    "print(train.shape)\n",
    "print(val.shape)\n",
    "print(test.shape)\n",
    "\n",
    "\n",
    "labelList=list(train[labelCol].unique())\n",
    "print(labelList)\n",
    "nLabel=len(labelList)\n",
    "print(f\"No target label : {nLabel}\")\n",
    "\n",
    "# sr_predict=df.iloc[-1,:]\n",
    "# df=df.iloc[0:len(df)-1,:]\n",
    "                 \n",
    "print(train.info())\n",
    "train.tail()"
   ]
  },
  {
   "cell_type": "code",
   "execution_count": 25,
   "id": "64adbe5e-d737-45a4-a04e-340a2926ad2d",
   "metadata": {},
   "outputs": [
    {
     "data": {
      "text/html": [
       "<div>\n",
       "<style scoped>\n",
       "    .dataframe tbody tr th:only-of-type {\n",
       "        vertical-align: middle;\n",
       "    }\n",
       "\n",
       "    .dataframe tbody tr th {\n",
       "        vertical-align: top;\n",
       "    }\n",
       "\n",
       "    .dataframe thead th {\n",
       "        text-align: right;\n",
       "    }\n",
       "</style>\n",
       "<table border=\"1\" class=\"dataframe\">\n",
       "  <thead>\n",
       "    <tr style=\"text-align: right;\">\n",
       "      <th></th>\n",
       "      <th>Train-No-Severity</th>\n",
       "      <th>Train-%-Severity</th>\n",
       "      <th>Val-No-Severity</th>\n",
       "      <th>Val-%-Severity</th>\n",
       "      <th>Test-No-Severity</th>\n",
       "      <th>Test-%-Severity</th>\n",
       "    </tr>\n",
       "    <tr>\n",
       "      <th>label_multi_severity</th>\n",
       "      <th></th>\n",
       "      <th></th>\n",
       "      <th></th>\n",
       "      <th></th>\n",
       "      <th></th>\n",
       "      <th></th>\n",
       "    </tr>\n",
       "  </thead>\n",
       "  <tbody>\n",
       "    <tr>\n",
       "      <th>0</th>\n",
       "      <td>511</td>\n",
       "      <td>19.0</td>\n",
       "      <td>53</td>\n",
       "      <td>16.0</td>\n",
       "      <td>55</td>\n",
       "      <td>16.0</td>\n",
       "    </tr>\n",
       "    <tr>\n",
       "      <th>1</th>\n",
       "      <td>778</td>\n",
       "      <td>28.0</td>\n",
       "      <td>97</td>\n",
       "      <td>28.0</td>\n",
       "      <td>92</td>\n",
       "      <td>27.0</td>\n",
       "    </tr>\n",
       "    <tr>\n",
       "      <th>2</th>\n",
       "      <td>1341</td>\n",
       "      <td>49.0</td>\n",
       "      <td>180</td>\n",
       "      <td>53.0</td>\n",
       "      <td>181</td>\n",
       "      <td>53.0</td>\n",
       "    </tr>\n",
       "    <tr>\n",
       "      <th>3</th>\n",
       "      <td>101</td>\n",
       "      <td>4.0</td>\n",
       "      <td>11</td>\n",
       "      <td>3.0</td>\n",
       "      <td>14</td>\n",
       "      <td>4.0</td>\n",
       "    </tr>\n",
       "  </tbody>\n",
       "</table>\n",
       "</div>"
      ],
      "text/plain": [
       "                      Train-No-Severity  Train-%-Severity  Val-No-Severity  \\\n",
       "label_multi_severity                                                         \n",
       "0                                   511              19.0               53   \n",
       "1                                   778              28.0               97   \n",
       "2                                  1341              49.0              180   \n",
       "3                                   101               4.0               11   \n",
       "\n",
       "                      Val-%-Severity  Test-No-Severity  Test-%-Severity  \n",
       "label_multi_severity                                                     \n",
       "0                               16.0                55             16.0  \n",
       "1                               28.0                92             27.0  \n",
       "2                               53.0               181             53.0  \n",
       "3                                3.0                14              4.0  "
      ]
     },
     "execution_count": 25,
     "metadata": {},
     "output_type": "execute_result"
    }
   ],
   "source": [
    "def CalPctEachTargetClass(dfx,colSev,colPctSev):\n",
    "    dfClassSummary=dfx.groupby([labelCol]).size().to_frame(colSev)\n",
    "    dfClassSummary[colPctSev]= dfClassSummary[colSev]/dfClassSummary[colSev].sum() *100\n",
    "    dfClassSummary=dfClassSummary.round(0)\n",
    "    return dfClassSummary\n",
    "\n",
    "pctDF1=CalPctEachTargetClass(train,'Train-No-Severity','Train-%-Severity')\n",
    "pctDF2=CalPctEachTargetClass(val,'Val-No-Severity','Val-%-Severity')\n",
    "pdcDF3=CalPctEachTargetClass(test,'Test-No-Severity','Test-%-Severity')\n",
    "pctDF=pd.concat([pctDF1,pctDF2,pdcDF3],axis=1)\n",
    "\n",
    "pctDF"
   ]
  },
  {
   "cell_type": "markdown",
   "id": "fa30d3fd-14e9-4c3d-a6aa-45d8114f5362",
   "metadata": {},
   "source": [
    "# Process Data  Layer"
   ]
  },
  {
   "cell_type": "code",
   "execution_count": 12,
   "id": "d9d3a943-09d5-4a43-b8d8-633bc4a90353",
   "metadata": {},
   "outputs": [],
   "source": [
    "def multiple_label_df_to_dataset(dataframe, shuffle=True, batch_size=32):\n",
    "  features = dataframe.copy()\n",
    "  labels = features.pop(labelCol)\n",
    "  labels  = tf.keras.utils.to_categorical(labels, num_classes=nLabel)\n",
    "    \n",
    "  ds = tf.data.Dataset.from_tensor_slices(( dict(features), labels ))\n",
    "  if shuffle:\n",
    "    ds = ds.shuffle(buffer_size=len(features))\n",
    "  ds = ds.batch(batch_size)\n",
    "  ds = ds.prefetch(batch_size)\n",
    "  return ds\n",
    "     \n",
    "     "
   ]
  },
  {
   "cell_type": "code",
   "execution_count": 13,
   "id": "02ad8837-968e-4d68-bdb6-1c7eba97e69c",
   "metadata": {},
   "outputs": [],
   "source": [
    "def get_normalization_layer(name, dataset):\n",
    "  # Create a Normalization layer for our feature.\n",
    "  normalizer = preprocessing.Normalization(axis=None)\n",
    "\n",
    "  # Prepare a Dataset that only yields our feature.\n",
    "  feature_ds = dataset.map(lambda x, y: x[name])\n",
    "\n",
    "  # Learn the statistics of the data.\n",
    "  normalizer.adapt(feature_ds)\n",
    "\n",
    "  return normalizer"
   ]
  },
  {
   "cell_type": "code",
   "execution_count": 14,
   "id": "237bce3c-9c77-4318-8682-fc36af0a6804",
   "metadata": {},
   "outputs": [],
   "source": [
    "def get_category_encoding_layer(name, dataset, dtype, max_tokens=None):\n",
    "  # Create a StringLookup layer which will turn strings into integer indices\n",
    "  if dtype == 'string':\n",
    "    index = preprocessing.StringLookup(max_tokens=max_tokens)\n",
    "  else:\n",
    "    index = preprocessing.IntegerLookup(max_tokens=max_tokens)\n",
    "\n",
    "  # Prepare a Dataset that only yields our feature\n",
    "  feature_ds = dataset.map(lambda x, y: x[name])\n",
    "\n",
    "  # Learn the set of possible values and assign them a fixed integer index.\n",
    "  index.adapt(feature_ds)\n",
    "\n",
    "  # Create a Discretization for our integer indices.\n",
    "  encoder = preprocessing.CategoryEncoding(num_tokens=index.vocabulary_size())\n",
    "\n",
    "  # Apply one-hot encoding to our indices. The lambda function captures the\n",
    "  # layer so we can use them, or include them in the functional model later.\n",
    "  return lambda feature: encoder(index(feature))\n",
    "     "
   ]
  },
  {
   "cell_type": "code",
   "execution_count": 15,
   "id": "a5c78f01-000a-4d3e-9fbf-6f4660cfb75b",
   "metadata": {},
   "outputs": [],
   "source": [
    "batch_size =32\n",
    "train_ds = multiple_label_df_to_dataset (train, batch_size=batch_size)\n",
    "val_ds = multiple_label_df_to_dataset(val, batch_size=batch_size)\n",
    "test_ds = multiple_label_df_to_dataset(test, batch_size=batch_size)\n",
    "# for element in train_ds.as_numpy_iterator():\n",
    "#     print(element)"
   ]
  },
  {
   "cell_type": "code",
   "execution_count": 19,
   "id": "723a69b6-d9c1-49d9-bc81-ed421d8700cb",
   "metadata": {},
   "outputs": [
    {
     "name": "stdout",
     "output_type": "stream",
     "text": [
      "open_to_close_hour\n",
      "header: Mean=120.7417429512999 and Std=339.9325107996055\n",
      "sla = 7 : ['24x7 4Hrs Resolution Time' '24x7 4Hrs Response Time'\n",
      " '24x7 6Hrs Resolution Time' '8x5 4Hrs Response Time'\n",
      " '9x5 NBD 4Hrs Response Time' '24x7 6Hrs Response Time' 'Non MA']\n",
      "sla\n",
      "product_type = 13 : ['Other' 'Printer' 'Storage' 'Software' 'Server' 'Access Point' 'Switch'\n",
      " 'Hardware' 'Tape Library' 'Security' 'Service' 'Notebook' 'Firewall']\n",
      "product_type\n",
      "service_type = 2 : ['Incident' 'Request']\n",
      "service_type\n",
      "incident_type = 21 : ['General Incident' 'Network Adapter Failure' 'Software'\n",
      " 'Maintenance System' 'Hard Disk Drive Failure' 'Power Supply Failure'\n",
      " 'Report' 'System Board Failure' 'Memory Failure' 'Network Card Failure'\n",
      " 'Controller/Node Failure' 'Backup Failure' 'Upgrade Software'\n",
      " 'CPU Failure' 'OS / Firmware' 'Configuration Change'\n",
      " 'Cache Battery Failure' 'Other Failure' 'Network Cable Failure'\n",
      " 'Battery Failure' 'Fan Failure']\n",
      "incident_type\n"
     ]
    }
   ],
   "source": [
    "all_inputs = []\n",
    "encoded_features = []\n",
    "numInputFeatToInitNodeUnit=0\n",
    "# Numeric features.\n",
    "for header in numbericCols:\n",
    "  print(header)  \n",
    "  stat_data=train[header].describe()\n",
    "  print(f\"header: Mean={stat_data['mean']} and Std={stat_data['std']}\") \n",
    "  numeric_col = tf.keras.Input(shape=(1,), name=header)\n",
    "  normalization_layer = get_normalization_layer(header, train_ds)\n",
    "  encoded_numeric_col = normalization_layer(numeric_col)\n",
    "  all_inputs.append(numeric_col)\n",
    "  encoded_features.append(encoded_numeric_col)\n",
    "  print(\"========================================================================\"  \n",
    "    \n",
    "numInputFeatToInitNodeUnit=numInputFeatToInitNodeUnit+len(numbericCols)\n",
    " \n",
    "# Categorical features encoded as string.\n",
    "categorical_cols = cateCols\n",
    "for header in categorical_cols:\n",
    "    \n",
    "  listCateItem=train[header].unique()\n",
    "  noCateItem=len(listCateItem)\n",
    "  numInputFeatToInitNodeUnit=numInputFeatToInitNodeUnit+noCateItem +1  # last 1 is unknow  \n",
    "  print(f\"{header} = {noCateItem} : {listCateItem}\")    \n",
    "    \n",
    "  print(header)  \n",
    "  categorical_col = tf.keras.Input(shape=(1,), name=header, dtype='string')\n",
    "  encoding_layer = get_category_encoding_layer(header, train_ds, dtype='string')\n",
    "                                        \n",
    "  encoded_categorical_col = encoding_layer(categorical_col)\n",
    "  all_inputs.append(categorical_col)\n",
    "  encoded_features.append(encoded_categorical_col)\n"
   ]
  },
  {
   "cell_type": "code",
   "execution_count": null,
   "id": "48f85f8a-4471-44e1-a389-102232c296e7",
   "metadata": {},
   "outputs": [],
   "source": []
  },
  {
   "cell_type": "markdown",
   "id": "bf75dae1-683f-403d-9f2d-aca95c970a21",
   "metadata": {},
   "source": [
    "# Tune HyperParameter By Keras Tuner"
   ]
  },
  {
   "cell_type": "code",
   "execution_count": 71,
   "id": "4267752a-455a-4fde-a7b9-518229a81a0e",
   "metadata": {},
   "outputs": [],
   "source": [
    "#https://github.com/technqvi/TimeSeriesML-FinMarket/blob/main/lstm-tune-dev/Tuned-MultiVarToManyOutputLSTM.ipynb\n",
    "#https://www.tensorflow.org/tutorials/keras/keras_tuner\n",
    "#https://keras.io/guides/keras_tuner/getting_started/\n",
    "import keras_tuner as kt\n",
    "from keras_tuner.engine.hyperparameters import HyperParameters\n",
    "\n",
    "tune_folder=\"IncidentMLP\""
   ]
  },
  {
   "cell_type": "code",
   "execution_count": 72,
   "id": "e44461a8-a751-40ae-98c4-e6578a1855e6",
   "metadata": {},
   "outputs": [
    {
     "name": "stdout",
     "output_type": "stream",
     "text": [
      "Start tund at 2023-07-20 12:51:02.730211\n",
      "=============================================================\n",
      "IncidentMLP_200723_1251\n"
     ]
    }
   ],
   "source": [
    "t_Start=time.time()\n",
    "\n",
    "print(f\"Start tund at {datetime.now()}\")\n",
    "print(\"=============================================================\")\n",
    "buildtime = datetime.now().strftime('%d%m%y_%H%M')\n",
    "project_model=f\"{tune_folder}_{buildtime}\"\n",
    "print(project_model)"
   ]
  },
  {
   "cell_type": "code",
   "execution_count": 73,
   "id": "c97a4d39-0145-49cd-9abf-277e76bd03af",
   "metadata": {},
   "outputs": [],
   "source": [
    "def build_model_for_tuning(hp):\n",
    "    \n",
    "    all_features = tf.keras.layers.concatenate(encoded_features)\n",
    "    \n",
    "    x = tf.keras.layers.Dense(hp.Choice('units', unitList), activation=\"relu\")(all_features)\n",
    "    \n",
    "    x = tf.keras.layers.Dropout(hp.Choice('Dropout_rate',dropOutList))(x)\n",
    "    \n",
    "    output = tf.keras.layers.Dense(nLabel,activation=tf.nn.softmax)(x)\n",
    "    \n",
    "    model = tf.keras.Model(all_inputs, output)\n",
    "    model.compile(optimizer='adam',loss=tf.keras.losses.CategoricalCrossentropy(),metrics=[main_metric])\n",
    "    \n",
    "    # hp_learning_rate = hp.Choice('learning_rate', values=lrList) \n",
    "    # model.compile(optimizer=tf.keras.optimizers.Adam(learning_rate=hp_learning_rate),\n",
    "    #               loss=tf.keras.losses.CategoricalCrossentropy(),metrics=[main_metric])\n",
    "    return model"
   ]
  },
  {
   "cell_type": "code",
   "execution_count": 74,
   "id": "e8a501b2-88c6-4b15-9724-2b05849fde59",
   "metadata": {},
   "outputs": [
    {
     "name": "stdout",
     "output_type": "stream",
     "text": [
      "Trial 10 Complete [00h 00m 37s]\n",
      "val_loss: 0.7139382759730021\n",
      "\n",
      "Best val_loss So Far: 0.7059268951416016\n",
      "Total elapsed time: 00h 07m 08s\n",
      "INFO:tensorflow:Oracle triggered exit\n"
     ]
    },
    {
     "name": "stderr",
     "output_type": "stream",
     "text": [
      "INFO:tensorflow:Oracle triggered exit\n"
     ]
    }
   ],
   "source": [
    "tuner = kt.BayesianOptimization(\n",
    "## tuner = kt.Hyperband(\n",
    "# tuner = keras_tuner.RandomSearch(  #main_objective\n",
    "    build_model_for_tuning, objective=objective_to_tued_and_monitor,seed=seed,\n",
    "    max_trials=nMax_trials,executions_per_trial=nExecutions_per_trial,\n",
    "    directory=f\"tuning/{tune_folder}/\",project_name= project_model)\n",
    "\n",
    "stop_early = tf.keras.callbacks.EarlyStopping(monitor=objective_to_tued_and_monitor, patience=nEarlyPatience)\n",
    "tuner.search(train_ds, batch_size=BATCH_SIZE,epochs=EPOCHS,validation_data=val_ds,callbacks=[stop_early])\n",
    "    \n"
   ]
  },
  {
   "cell_type": "code",
   "execution_count": 75,
   "id": "ed4c6208-4f0b-4c98-b847-f58b0a5b1308",
   "metadata": {},
   "outputs": [
    {
     "name": "stdout",
     "output_type": "stream",
     "text": [
      "{'units': 150, 'Dropout_rate': 0.2}\n"
     ]
    }
   ],
   "source": [
    "best_hps=tuner.get_best_hyperparameters(num_trials=1)[0]\n",
    "print(best_hps.values)"
   ]
  },
  {
   "cell_type": "code",
   "execution_count": 76,
   "id": "b213ad70-70d9-44d4-b70d-453d2f93c431",
   "metadata": {},
   "outputs": [
    {
     "name": "stdout",
     "output_type": "stream",
     "text": [
      "Total execution :  0.12\n",
      "2023-07-20 12:58:10.655924\n",
      "=============================================================\n"
     ]
    }
   ],
   "source": [
    "t_End=time.time()\n",
    "t_elapsed=(t_End-t_Start)/60/60\n",
    "print('Total execution : ',round(t_elapsed,2)) \n",
    "print(datetime.now())\n",
    "print(\"=============================================================\")"
   ]
  },
  {
   "cell_type": "markdown",
   "id": "c8cd0fa5-eb89-4a0d-9575-ccb10b981adc",
   "metadata": {},
   "source": [
    "# Retain by best model to product model to production"
   ]
  },
  {
   "cell_type": "code",
   "execution_count": 77,
   "id": "544099f0-746c-4e7b-af73-58e6351d90a3",
   "metadata": {},
   "outputs": [
    {
     "name": "stdout",
     "output_type": "stream",
     "text": [
      "Build the model with the optimal hyperparameters and train it on the data to find  N epochs\n",
      "Epoch 1/50\n",
      "70/70 [==============================] - 4s 19ms/step - loss: 1.0439 - accuracy: 0.5523 - val_loss: 0.8705 - val_accuracy: 0.6751\n",
      "Epoch 2/50\n",
      "70/70 [==============================] - 0s 7ms/step - loss: 0.8077 - accuracy: 0.6830 - val_loss: 0.7854 - val_accuracy: 0.6643\n",
      "Epoch 3/50\n",
      "70/70 [==============================] - 1s 8ms/step - loss: 0.7451 - accuracy: 0.6876 - val_loss: 0.7561 - val_accuracy: 0.6715\n",
      "Epoch 4/50\n",
      "70/70 [==============================] - 1s 8ms/step - loss: 0.7174 - accuracy: 0.7051 - val_loss: 0.7441 - val_accuracy: 0.6823\n",
      "Epoch 5/50\n",
      "70/70 [==============================] - 1s 8ms/step - loss: 0.6986 - accuracy: 0.7110 - val_loss: 0.7300 - val_accuracy: 0.6715\n",
      "Epoch 6/50\n",
      "70/70 [==============================] - 1s 8ms/step - loss: 0.6827 - accuracy: 0.7205 - val_loss: 0.7333 - val_accuracy: 0.6859\n",
      "Epoch 7/50\n",
      "70/70 [==============================] - 1s 8ms/step - loss: 0.6694 - accuracy: 0.7187 - val_loss: 0.7332 - val_accuracy: 0.6859\n",
      "Epoch 8/50\n",
      "70/70 [==============================] - 1s 8ms/step - loss: 0.6537 - accuracy: 0.7335 - val_loss: 0.7199 - val_accuracy: 0.6968\n",
      "Epoch 9/50\n",
      "70/70 [==============================] - 1s 7ms/step - loss: 0.6508 - accuracy: 0.7263 - val_loss: 0.7221 - val_accuracy: 0.7076\n",
      "Epoch 10/50\n",
      "70/70 [==============================] - 0s 7ms/step - loss: 0.6412 - accuracy: 0.7385 - val_loss: 0.7154 - val_accuracy: 0.7040\n",
      "Epoch 11/50\n",
      "70/70 [==============================] - 1s 7ms/step - loss: 0.6320 - accuracy: 0.7376 - val_loss: 0.7257 - val_accuracy: 0.7148\n",
      "Epoch 12/50\n",
      "70/70 [==============================] - 1s 7ms/step - loss: 0.6239 - accuracy: 0.7381 - val_loss: 0.7232 - val_accuracy: 0.7112\n",
      "Epoch 13/50\n",
      "70/70 [==============================] - 1s 8ms/step - loss: 0.6238 - accuracy: 0.7435 - val_loss: 0.7178 - val_accuracy: 0.7076\n",
      "Epoch 14/50\n",
      "70/70 [==============================] - 0s 7ms/step - loss: 0.6177 - accuracy: 0.7426 - val_loss: 0.7238 - val_accuracy: 0.7148\n",
      "Epoch 15/50\n",
      "70/70 [==============================] - 0s 7ms/step - loss: 0.6068 - accuracy: 0.7507 - val_loss: 0.7370 - val_accuracy: 0.7112\n",
      "Epoch 16/50\n",
      "70/70 [==============================] - 0s 6ms/step - loss: 0.6009 - accuracy: 0.7543 - val_loss: 0.7243 - val_accuracy: 0.7184\n",
      "Epoch 17/50\n",
      "70/70 [==============================] - 0s 6ms/step - loss: 0.5950 - accuracy: 0.7534 - val_loss: 0.7243 - val_accuracy: 0.7184\n",
      "Epoch 18/50\n",
      "70/70 [==============================] - 0s 6ms/step - loss: 0.5911 - accuracy: 0.7538 - val_loss: 0.7466 - val_accuracy: 0.7112\n",
      "Epoch 19/50\n",
      "70/70 [==============================] - 0s 6ms/step - loss: 0.5946 - accuracy: 0.7480 - val_loss: 0.7370 - val_accuracy: 0.7220\n",
      "Epoch 20/50\n",
      "70/70 [==============================] - 0s 6ms/step - loss: 0.5804 - accuracy: 0.7638 - val_loss: 0.7262 - val_accuracy: 0.7329\n",
      "Epoch 21/50\n",
      "70/70 [==============================] - 0s 6ms/step - loss: 0.5836 - accuracy: 0.7534 - val_loss: 0.7356 - val_accuracy: 0.7256\n",
      "Epoch 22/50\n",
      "70/70 [==============================] - 0s 6ms/step - loss: 0.5753 - accuracy: 0.7642 - val_loss: 0.7244 - val_accuracy: 0.7220\n",
      "Epoch 23/50\n",
      "70/70 [==============================] - 0s 6ms/step - loss: 0.5829 - accuracy: 0.7534 - val_loss: 0.7284 - val_accuracy: 0.7220\n",
      "Epoch 24/50\n",
      "70/70 [==============================] - 0s 6ms/step - loss: 0.5838 - accuracy: 0.7525 - val_loss: 0.7309 - val_accuracy: 0.7220\n",
      "Epoch 25/50\n",
      "70/70 [==============================] - 1s 8ms/step - loss: 0.5694 - accuracy: 0.7588 - val_loss: 0.7359 - val_accuracy: 0.7148\n",
      "Epoch 26/50\n",
      "70/70 [==============================] - 1s 7ms/step - loss: 0.5670 - accuracy: 0.7615 - val_loss: 0.7311 - val_accuracy: 0.7040\n",
      "Epoch 27/50\n",
      "70/70 [==============================] - 0s 6ms/step - loss: 0.5690 - accuracy: 0.7592 - val_loss: 0.7358 - val_accuracy: 0.7184\n",
      "Epoch 28/50\n",
      "70/70 [==============================] - 0s 6ms/step - loss: 0.5655 - accuracy: 0.7633 - val_loss: 0.7336 - val_accuracy: 0.7220\n",
      "Epoch 29/50\n",
      "70/70 [==============================] - 0s 6ms/step - loss: 0.5671 - accuracy: 0.7574 - val_loss: 0.7328 - val_accuracy: 0.7220\n",
      "Epoch 30/50\n",
      "70/70 [==============================] - 0s 6ms/step - loss: 0.5608 - accuracy: 0.7714 - val_loss: 0.7373 - val_accuracy: 0.7112\n",
      "Epoch 31/50\n",
      "70/70 [==============================] - 0s 6ms/step - loss: 0.5628 - accuracy: 0.7561 - val_loss: 0.7319 - val_accuracy: 0.7256\n",
      "Epoch 32/50\n",
      "70/70 [==============================] - 0s 6ms/step - loss: 0.5636 - accuracy: 0.7628 - val_loss: 0.7343 - val_accuracy: 0.7329\n",
      "Epoch 33/50\n",
      "70/70 [==============================] - 0s 6ms/step - loss: 0.5530 - accuracy: 0.7647 - val_loss: 0.7352 - val_accuracy: 0.7329\n",
      "Epoch 34/50\n",
      "70/70 [==============================] - 0s 6ms/step - loss: 0.5551 - accuracy: 0.7588 - val_loss: 0.7402 - val_accuracy: 0.7256\n",
      "Epoch 35/50\n",
      "70/70 [==============================] - 0s 6ms/step - loss: 0.5451 - accuracy: 0.7804 - val_loss: 0.7432 - val_accuracy: 0.7184\n",
      "Epoch 36/50\n",
      "70/70 [==============================] - 0s 7ms/step - loss: 0.5433 - accuracy: 0.7710 - val_loss: 0.7415 - val_accuracy: 0.7292\n",
      "Epoch 37/50\n",
      "70/70 [==============================] - 0s 6ms/step - loss: 0.5463 - accuracy: 0.7786 - val_loss: 0.7671 - val_accuracy: 0.7220\n",
      "Epoch 38/50\n",
      "70/70 [==============================] - 1s 7ms/step - loss: 0.5436 - accuracy: 0.7741 - val_loss: 0.7629 - val_accuracy: 0.7292\n",
      "Epoch 39/50\n",
      "70/70 [==============================] - 1s 8ms/step - loss: 0.5482 - accuracy: 0.7674 - val_loss: 0.7490 - val_accuracy: 0.7329\n",
      "Epoch 40/50\n",
      "70/70 [==============================] - 1s 7ms/step - loss: 0.5423 - accuracy: 0.7705 - val_loss: 0.7458 - val_accuracy: 0.7148\n",
      "Epoch 41/50\n",
      "70/70 [==============================] - 0s 6ms/step - loss: 0.5329 - accuracy: 0.7786 - val_loss: 0.7599 - val_accuracy: 0.7112\n",
      "Epoch 42/50\n",
      "70/70 [==============================] - 0s 6ms/step - loss: 0.5415 - accuracy: 0.7683 - val_loss: 0.7620 - val_accuracy: 0.7220\n",
      "Epoch 43/50\n",
      "70/70 [==============================] - 0s 5ms/step - loss: 0.5341 - accuracy: 0.7800 - val_loss: 0.7434 - val_accuracy: 0.7437\n",
      "Epoch 44/50\n",
      "70/70 [==============================] - 0s 5ms/step - loss: 0.5257 - accuracy: 0.7800 - val_loss: 0.7629 - val_accuracy: 0.7112\n",
      "Epoch 45/50\n",
      "70/70 [==============================] - 0s 5ms/step - loss: 0.5260 - accuracy: 0.7885 - val_loss: 0.7584 - val_accuracy: 0.7220\n",
      "Epoch 46/50\n",
      "70/70 [==============================] - 0s 6ms/step - loss: 0.5352 - accuracy: 0.7678 - val_loss: 0.7612 - val_accuracy: 0.7076\n",
      "Epoch 47/50\n",
      "70/70 [==============================] - 0s 5ms/step - loss: 0.5264 - accuracy: 0.7732 - val_loss: 0.7650 - val_accuracy: 0.7256\n",
      "Epoch 48/50\n",
      "70/70 [==============================] - 0s 5ms/step - loss: 0.5230 - accuracy: 0.7795 - val_loss: 0.7785 - val_accuracy: 0.7329\n",
      "Epoch 49/50\n",
      "70/70 [==============================] - 0s 5ms/step - loss: 0.5271 - accuracy: 0.7737 - val_loss: 0.7607 - val_accuracy: 0.7220\n",
      "Epoch 50/50\n",
      "70/70 [==============================] - 0s 5ms/step - loss: 0.5252 - accuracy: 0.7728 - val_loss: 0.7632 - val_accuracy: 0.7220\n"
     ]
    }
   ],
   "source": [
    "print(\"Build the model with the optimal hyperparameters and train it on the data to find  N epochs\")\n",
    "best_model = tuner.hypermodel.build(best_hps)\n",
    "# model.summary()\n",
    "history = best_model.fit(train_ds, validation_data=val_ds, epochs=EPOCHS, batch_size=BATCH_SIZE)"
   ]
  },
  {
   "cell_type": "code",
   "execution_count": 81,
   "id": "3958dd9f-5d48-4572-90af-b27754928f3b",
   "metadata": {},
   "outputs": [
    {
     "name": "stdout",
     "output_type": "stream",
     "text": [
      "Best epoch: 43\n"
     ]
    }
   ],
   "source": [
    "val_acc_per_epoch = history.history['val_accuracy']\n",
    "best_epoch = val_acc_per_epoch.index(max(val_acc_per_epoch)) + 1\n",
    "print(f'Best epoch: {best_epoch}')"
   ]
  },
  {
   "cell_type": "code",
   "execution_count": 82,
   "id": "d0719611-4770-47de-96fb-343698c0e381",
   "metadata": {},
   "outputs": [
    {
     "name": "stdout",
     "output_type": "stream",
     "text": [
      "Fid Optimal Best Epoch  by Re-instantiating the hypermodel and train it\n",
      "Epoch 1/43\n",
      "70/70 [==============================] - 3s 12ms/step - loss: 1.0681 - accuracy: 0.5189 - val_loss: 0.8786 - val_accuracy: 0.7184\n",
      "Epoch 2/43\n",
      "70/70 [==============================] - 0s 5ms/step - loss: 0.8185 - accuracy: 0.6740 - val_loss: 0.7811 - val_accuracy: 0.6643\n",
      "Epoch 3/43\n",
      "70/70 [==============================] - 0s 5ms/step - loss: 0.7489 - accuracy: 0.7024 - val_loss: 0.7602 - val_accuracy: 0.6751\n",
      "Epoch 4/43\n",
      "70/70 [==============================] - 0s 5ms/step - loss: 0.7186 - accuracy: 0.7029 - val_loss: 0.7353 - val_accuracy: 0.6679\n",
      "Epoch 5/43\n",
      "70/70 [==============================] - 0s 5ms/step - loss: 0.6957 - accuracy: 0.7205 - val_loss: 0.7203 - val_accuracy: 0.6679\n",
      "Epoch 6/43\n",
      "70/70 [==============================] - 0s 5ms/step - loss: 0.6874 - accuracy: 0.7110 - val_loss: 0.7290 - val_accuracy: 0.6823\n",
      "Epoch 7/43\n",
      "70/70 [==============================] - 0s 5ms/step - loss: 0.6744 - accuracy: 0.7092 - val_loss: 0.7166 - val_accuracy: 0.6823\n",
      "Epoch 8/43\n",
      "70/70 [==============================] - 0s 6ms/step - loss: 0.6543 - accuracy: 0.7268 - val_loss: 0.7065 - val_accuracy: 0.6859\n",
      "Epoch 9/43\n",
      "70/70 [==============================] - 0s 6ms/step - loss: 0.6547 - accuracy: 0.7268 - val_loss: 0.7215 - val_accuracy: 0.6968\n",
      "Epoch 10/43\n",
      "70/70 [==============================] - 1s 8ms/step - loss: 0.6457 - accuracy: 0.7277 - val_loss: 0.7071 - val_accuracy: 0.6931\n",
      "Epoch 11/43\n",
      "70/70 [==============================] - 1s 8ms/step - loss: 0.6379 - accuracy: 0.7353 - val_loss: 0.7066 - val_accuracy: 0.7112\n",
      "Epoch 12/43\n",
      "70/70 [==============================] - 1s 8ms/step - loss: 0.6240 - accuracy: 0.7385 - val_loss: 0.7063 - val_accuracy: 0.7004\n",
      "Epoch 13/43\n",
      "70/70 [==============================] - 0s 6ms/step - loss: 0.6216 - accuracy: 0.7381 - val_loss: 0.7123 - val_accuracy: 0.7148\n",
      "Epoch 14/43\n",
      "70/70 [==============================] - 0s 5ms/step - loss: 0.6225 - accuracy: 0.7331 - val_loss: 0.7095 - val_accuracy: 0.7148\n",
      "Epoch 15/43\n",
      "70/70 [==============================] - 0s 5ms/step - loss: 0.6159 - accuracy: 0.7484 - val_loss: 0.7066 - val_accuracy: 0.7184\n",
      "Epoch 16/43\n",
      "70/70 [==============================] - 0s 4ms/step - loss: 0.6061 - accuracy: 0.7480 - val_loss: 0.7153 - val_accuracy: 0.7112\n",
      "Epoch 17/43\n",
      "70/70 [==============================] - 1s 7ms/step - loss: 0.6049 - accuracy: 0.7484 - val_loss: 0.7207 - val_accuracy: 0.7184\n",
      "Epoch 18/43\n",
      "70/70 [==============================] - 1s 7ms/step - loss: 0.6004 - accuracy: 0.7498 - val_loss: 0.7247 - val_accuracy: 0.7292\n",
      "Epoch 19/43\n",
      "70/70 [==============================] - 1s 7ms/step - loss: 0.5954 - accuracy: 0.7498 - val_loss: 0.7173 - val_accuracy: 0.7040\n",
      "Epoch 20/43\n",
      "70/70 [==============================] - 1s 7ms/step - loss: 0.5962 - accuracy: 0.7453 - val_loss: 0.7286 - val_accuracy: 0.7256\n",
      "Epoch 21/43\n",
      "70/70 [==============================] - 0s 6ms/step - loss: 0.5780 - accuracy: 0.7656 - val_loss: 0.7300 - val_accuracy: 0.7401\n",
      "Epoch 22/43\n",
      "70/70 [==============================] - 1s 7ms/step - loss: 0.5830 - accuracy: 0.7543 - val_loss: 0.7204 - val_accuracy: 0.7220\n",
      "Epoch 23/43\n",
      "70/70 [==============================] - 1s 8ms/step - loss: 0.5799 - accuracy: 0.7669 - val_loss: 0.7226 - val_accuracy: 0.7220\n",
      "Epoch 24/43\n",
      "70/70 [==============================] - 1s 9ms/step - loss: 0.5780 - accuracy: 0.7633 - val_loss: 0.7288 - val_accuracy: 0.7256\n",
      "Epoch 25/43\n",
      "70/70 [==============================] - 1s 7ms/step - loss: 0.5702 - accuracy: 0.7592 - val_loss: 0.7307 - val_accuracy: 0.7184\n",
      "Epoch 26/43\n",
      "70/70 [==============================] - 1s 7ms/step - loss: 0.5682 - accuracy: 0.7619 - val_loss: 0.7292 - val_accuracy: 0.7184\n",
      "Epoch 27/43\n",
      "70/70 [==============================] - 0s 6ms/step - loss: 0.5716 - accuracy: 0.7561 - val_loss: 0.7283 - val_accuracy: 0.7148\n",
      "Epoch 28/43\n",
      "70/70 [==============================] - 0s 6ms/step - loss: 0.5667 - accuracy: 0.7660 - val_loss: 0.7344 - val_accuracy: 0.7292\n",
      "Epoch 29/43\n",
      "70/70 [==============================] - 0s 6ms/step - loss: 0.5678 - accuracy: 0.7647 - val_loss: 0.7389 - val_accuracy: 0.7256\n",
      "Epoch 30/43\n",
      "70/70 [==============================] - 0s 6ms/step - loss: 0.5609 - accuracy: 0.7583 - val_loss: 0.7356 - val_accuracy: 0.7256\n",
      "Epoch 31/43\n",
      "70/70 [==============================] - 1s 9ms/step - loss: 0.5592 - accuracy: 0.7710 - val_loss: 0.7437 - val_accuracy: 0.7220\n",
      "Epoch 32/43\n",
      "70/70 [==============================] - 1s 11ms/step - loss: 0.5507 - accuracy: 0.7701 - val_loss: 0.7328 - val_accuracy: 0.7148\n",
      "Epoch 33/43\n",
      "70/70 [==============================] - 1s 11ms/step - loss: 0.5540 - accuracy: 0.7719 - val_loss: 0.7357 - val_accuracy: 0.7076\n",
      "Epoch 34/43\n",
      "70/70 [==============================] - 1s 12ms/step - loss: 0.5536 - accuracy: 0.7619 - val_loss: 0.7384 - val_accuracy: 0.7220\n",
      "Epoch 35/43\n",
      "70/70 [==============================] - 1s 11ms/step - loss: 0.5506 - accuracy: 0.7701 - val_loss: 0.7453 - val_accuracy: 0.7148\n",
      "Epoch 36/43\n",
      "70/70 [==============================] - 1s 11ms/step - loss: 0.5491 - accuracy: 0.7759 - val_loss: 0.7380 - val_accuracy: 0.7112\n",
      "Epoch 37/43\n",
      "70/70 [==============================] - 1s 10ms/step - loss: 0.5441 - accuracy: 0.7696 - val_loss: 0.7484 - val_accuracy: 0.7112\n",
      "Epoch 38/43\n",
      "70/70 [==============================] - 1s 11ms/step - loss: 0.5442 - accuracy: 0.7705 - val_loss: 0.7526 - val_accuracy: 0.7220\n",
      "Epoch 39/43\n",
      "70/70 [==============================] - 1s 9ms/step - loss: 0.5477 - accuracy: 0.7723 - val_loss: 0.7475 - val_accuracy: 0.7184\n",
      "Epoch 40/43\n",
      "70/70 [==============================] - 1s 8ms/step - loss: 0.5433 - accuracy: 0.7732 - val_loss: 0.7496 - val_accuracy: 0.7112\n",
      "Epoch 41/43\n",
      "70/70 [==============================] - 1s 7ms/step - loss: 0.5340 - accuracy: 0.7804 - val_loss: 0.7462 - val_accuracy: 0.7076\n",
      "Epoch 42/43\n",
      "70/70 [==============================] - 1s 7ms/step - loss: 0.5374 - accuracy: 0.7705 - val_loss: 0.7500 - val_accuracy: 0.7148\n",
      "Epoch 43/43\n",
      "70/70 [==============================] - 1s 7ms/step - loss: 0.5322 - accuracy: 0.7813 - val_loss: 0.7533 - val_accuracy: 0.7112\n",
      "9/9 [==============================] - 0s 6ms/step - loss: 0.7533 - accuracy: 0.7112\n",
      "Eveluation on Val-Data at 43 epochs : loss=0.7532616257667542 and accuracy= 0.7111913561820984\n",
      "9/9 [==============================] - 0s 6ms/step - loss: 0.7869 - accuracy: 0.7158\n",
      "Evaluation on Test-Data at 43 epochs : loss=0.7869259715080261 and accuracy= 0.7158273458480835\n"
     ]
    }
   ],
   "source": [
    "print(\"Fid Optimal Best Epoch  by Re-instantiating the hypermodel and train it\")\n",
    "model = tuner.hypermodel.build(best_hps)\n",
    "# Retrain the model to get final\n",
    "history_hypermodel=model.fit(train_ds, validation_data=val_ds, epochs=best_epoch)\n",
    "\n",
    "val_loss, val_accuracy = model.evaluate(val_ds)\n",
    "print(f\"Eveluation on Val-Data at {best_epoch} epochs : loss={val_loss} and {main_metric}= {val_accuracy}\")\n",
    "test_loss, test_accuracy = model.evaluate(test_ds)\n",
    "print(f\"Evaluation on Test-Data at {best_epoch} epochs : loss={test_loss} and {main_metric}= {test_accuracy}\")"
   ]
  },
  {
   "cell_type": "code",
   "execution_count": 84,
   "id": "ee6ca53e-78d8-400e-a48e-cdcb93d2030f",
   "metadata": {},
   "outputs": [
    {
     "name": "stdout",
     "output_type": "stream",
     "text": [
      "4#Explore Result model\n"
     ]
    },
    {
     "data": {
      "image/png": "[encoded data removed]",
      "text/plain": [
       "<Figure size 1500x800 with 1 Axes>"
      ]
     },
     "metadata": {},
     "output_type": "display_data"
    },
    {
     "data": {
      "image/png": "[encoded data removed]",
      "text/plain": [
       "<Figure size 1500x800 with 1 Axes>"
      ]
     },
     "metadata": {},
     "output_type": "display_data"
    }
   ],
   "source": [
    "def plot_metrics(history,metric):\n",
    "    plt.figure(figsize=(15,8))\n",
    "    plt.title(metric)\n",
    "    plt.plot(history.history[metric], label='train')\n",
    "    plt.plot(history.history[f'val_{metric}'], label='validation')\n",
    "    plt.legend()\n",
    "    plt.show() \n",
    "\n",
    "print(\"4#Explore Result model\")\n",
    "plot_metrics(history,main_metric)\n",
    "plot_metrics(history,\"loss\")\n"
   ]
  },
  {
   "cell_type": "code",
   "execution_count": null,
   "id": "5ff49fc4-517c-4708-9861-13890bc08ba1",
   "metadata": {},
   "outputs": [],
   "source": []
  },
  {
   "cell_type": "code",
   "execution_count": 85,
   "id": "2bcf9758-bf3f-46aa-a0a0-1554b78d5baa",
   "metadata": {},
   "outputs": [
    {
     "name": "stderr",
     "output_type": "stream",
     "text": [
      "WARNING:absl:Found untraced functions such as _update_step_xla while saving (showing 1 of 1). These functions will not be directly callable after loading.\n"
     ]
    },
    {
     "name": "stdout",
     "output_type": "stream",
     "text": [
      "INFO:tensorflow:Assets written to: tuned_model\\assets\n"
     ]
    },
    {
     "name": "stderr",
     "output_type": "stream",
     "text": [
      "INFO:tensorflow:Assets written to: tuned_model\\assets\n"
     ]
    }
   ],
   "source": [
    "model.save(model_tuned_dir)\n",
    "# quit()"
   ]
  },
  {
   "cell_type": "code",
   "execution_count": 86,
   "id": "24b15af3-b755-4bdb-acbf-ad8409ebc2ff",
   "metadata": {},
   "outputs": [
    {
     "name": "stdout",
     "output_type": "stream",
     "text": [
      "{'sla': '24x7 4Hrs Response Time', 'product_type': 'Server', 'brand': 'VMWare', 'service_type': 'Incident', 'incident_type': 'General Incident', 'open_to_close_hour': 10, 'response_to_resolved_hour': 8.0}\n",
      "===============================================================================================================\n",
      "convert pain data to serdor as input to predict\n",
      "{'sla': <tf.Tensor: shape=(1,), dtype=string, numpy=array([b'24x7 4Hrs Response Time'], dtype=object)>, 'product_type': <tf.Tensor: shape=(1,), dtype=string, numpy=array([b'Server'], dtype=object)>, 'brand': <tf.Tensor: shape=(1,), dtype=string, numpy=array([b'VMWare'], dtype=object)>, 'service_type': <tf.Tensor: shape=(1,), dtype=string, numpy=array([b'Incident'], dtype=object)>, 'incident_type': <tf.Tensor: shape=(1,), dtype=string, numpy=array([b'General Incident'], dtype=object)>, 'open_to_close_hour': <tf.Tensor: shape=(1,), dtype=int32, numpy=array([10])>, 'response_to_resolved_hour': <tf.Tensor: shape=(1,), dtype=float32, numpy=array([8.], dtype=float32)>}\n",
      "1/1 [==============================] - 1s 529ms/step\n",
      "[[0.00572414 0.17363077 0.79714    0.02350508]]\n",
      "[50.143105 54.329895 68.93623  50.5876  ] %  as Severity\n"
     ]
    }
   ],
   "source": [
    "reloaded_model = tf.keras.models.load_model(model_tuned_dir)\n",
    "#label_multi_severity\n",
    "sample={\"sla\":\"24x7 4Hrs Response Time\",\n",
    "        \"product_type\":\"Server\",\n",
    "        \"brand\":\"VMWare\",                \n",
    "        \"service_type\":\"Incident\",\n",
    "        \"incident_type\":\"General Incident\",\n",
    "        \"open_to_close_hour\":10,\n",
    "        \"response_to_resolved_hour\":8.000000 \\\n",
    "       }\n",
    "\n",
    "print(sample)\n",
    "              \n",
    "print(\"===============================================================================================================\")    \n",
    "print(\"convert pain data to serdor as input to predict\")    \n",
    "input_dict = {name: tf.convert_to_tensor([value]) for name, value in sample.items()}\n",
    "print(input_dict)\n",
    "\n",
    "predictionList = reloaded_model.predict(input_dict)\n",
    "print(predictionList)\n",
    "prob = tf.nn.sigmoid(predictionList[0])\n",
    "print(f\"{(100 * prob)} %  as Severity\") "
   ]
  },
  {
   "cell_type": "code",
   "execution_count": null,
   "id": "197af355-c0d4-4c00-aa6e-d1d7ca6d0be6",
   "metadata": {},
   "outputs": [],
   "source": []
  },
  {
   "cell_type": "code",
   "execution_count": null,
   "id": "61641e5e-6ecd-4c92-b199-2981c02e1bd5",
   "metadata": {},
   "outputs": [],
   "source": []
  },
  {
   "cell_type": "code",
   "execution_count": null,
   "id": "217b56cb-75ff-4661-9145-fb59b8516b91",
   "metadata": {},
   "outputs": [],
   "source": []
  },
  {
   "cell_type": "code",
   "execution_count": null,
   "id": "499f77f8-03ed-4485-b0e6-7f6f5da16223",
   "metadata": {},
   "outputs": [],
   "source": []
  },
  {
   "cell_type": "markdown",
   "id": "c5587682-2265-4eff-985f-ca1f7852ddf4",
   "metadata": {},
   "source": [
    "# Copy Model From Local To GCS"
   ]
  },
  {
   "cell_type": "code",
   "execution_count": 94,
   "id": "eaabd3ac-47ad-43ae-b6e5-fc16fecec238",
   "metadata": {},
   "outputs": [
    {
     "name": "stderr",
     "output_type": "stream",
     "text": [
      "Copying file://.\\model\\saved_model.pb [Content-Type=application/octet-stream]...\n",
      "Copying file://.\\model\\variables\\variables.data-00000-of-00001 [Content-Type=application/octet-stream]...\n",
      "/ [0/5 files][    0.0 B/527.8 KiB]   0% Done                                    \n",
      "/ [0/5 files][    0.0 B/527.8 KiB]   0% Done                                    \n",
      "Copying file://.\\model\\fingerprint.pb [Content-Type=application/octet-stream]...\n",
      "Copying file://.\\model\\keras_metadata.pb [Content-Type=application/octet-stream]...\n",
      "/ [0/5 files][    0.0 B/527.8 KiB]   0% Done                                    \n",
      "/ [0/5 files][    0.0 B/527.8 KiB]   0% Done                                    \n",
      "Copying file://.\\model\\variables\\variables.index [Content-Type=application/octet-stream]...\n",
      "/ [0/5 files][    0.0 B/527.8 KiB]   0% Done                                    \n",
      "/ [1/5 files][ 97.0 KiB/527.8 KiB]  18% Done                                    \n",
      "/ [2/5 files][ 97.0 KiB/527.8 KiB]  18% Done                                    \n",
      "/ [3/5 files][ 97.0 KiB/527.8 KiB]  18% Done                                    \n",
      "/ [4/5 files][ 97.0 KiB/527.8 KiB]  18% Done                                    \n",
      "-\n",
      "- [5/5 files][527.8 KiB/527.8 KiB] 100% Done                                    \n",
      "\n",
      "Operation completed over 5 objects/527.8 KiB.                                    \n"
     ]
    }
   ],
   "source": [
    "# #https://codelabs.developers.google.com/codelabs/fraud-detection-ai-explanations?hl=en#6\n",
    "# press_y3=input(f\"Press y=True to save model to Google Cloud storage : \") \n",
    "# if press_y3.lower()=='y':\n",
    "#     MODEL_BUCKET = 'gs://tf1-incident-pongthorn'\n",
    "#     MODEL_NAME = 'tf1_incident_multi_model'\n",
    "\n",
    "# # !gsutil mb -l $REGION $MODEL_BUCKET\n",
    "# # !gsutil -m cp -r ./$model_tuned_dir/* $MODEL_BUCKET/model\n",
    "# else:\n",
    "#  quite()\n"
   ]
  },
  {
   "cell_type": "markdown",
   "id": "9fc32a07-c2fc-4ff6-a771-fc3532630f01",
   "metadata": {},
   "source": [
    "# Import Model to Vertex AI"
   ]
  },
  {
   "cell_type": "code",
   "execution_count": null,
   "id": "3b9774f1-2293-43db-9464-47ea7f44b540",
   "metadata": {},
   "outputs": [],
   "source": [
    "# https://cloud.google.com/vertex-ai/docs/model-registry/import-model#get-operation\n",
    "\n",
    "#https://codelabs.developers.google.com/vertex-p2p-predictions#3\n",
    "# Import model manually\n",
    "#https://console.cloud.google.com/vertex-ai/models?project=pongthorn\n",
    "# Upload wand wait for vertex to complete process (Email notification)\n",
    "# if run package ( you need to specify precuild-pacage\n",
    "\n",
    "\n",
    "#Import model programactically\n",
    "# https://cloud.google.com/vertex-ai/docs/predictions/pre-built-containers\n",
    "\n",
    "# from google.cloud import aiplatform\n",
    "# DEPLOY_IMAGE = \"asia-docker.pkg.dev/vertex-ai/prediction/xgboost-cpu.1-6:latest\"\n",
    "\n",
    "# model = aip.Model.upload(\n",
    "#     display_name=\"ponghthorn_xgb_\" + TIMESTAMP,\n",
    "#     artifact_uri=MODEL_DIR,\n",
    "#     serving_container_image_uri=DEPLOY_IMAGE,\n",
    "#     sync=False,\n",
    "# )\n",
    "\n",
    "# model.wait()\n"
   ]
  },
  {
   "cell_type": "markdown",
   "id": "2792371f-3e81-4717-95f5-4acff020cfb3",
   "metadata": {},
   "source": [
    "# Deploy Model to EndPoint"
   ]
  },
  {
   "cell_type": "code",
   "execution_count": null,
   "id": "2fbcd51c-0dce-4b75-bc53-70539c352ba5",
   "metadata": {},
   "outputs": [],
   "source": [
    "#https://codelabs.developers.google.com/vertex-p2p-predictions#4\n",
    "# Manual\n",
    "\n",
    "# Program\n",
    "# my_model = aiplatform.Model(\"projects/{PROJECT_NUMBER}/locations/us-central1/models/{MODEL_ID}\") \n",
    "\n",
    "# endpoint = my_model.deploy(\n",
    "#      deployed_model_display_name='my-endpoint',\n",
    "#      traffic_split={\"0\": 100},\n",
    "#      machine_type=\"n1-standard-4\",\n",
    "#      accelerator_count=0,\n",
    "#      min_replica_count=1,\n",
    "#      max_replica_count=1,\n",
    "#    )"
   ]
  },
  {
   "cell_type": "code",
   "execution_count": null,
   "id": "5a601d87-b648-4eea-b2de-b85b7723c5ba",
   "metadata": {},
   "outputs": [],
   "source": []
  },
  {
   "cell_type": "code",
   "execution_count": 95,
   "id": "20082661-dc7f-414b-a759-3478163adcdf",
   "metadata": {},
   "outputs": [],
   "source": [
    "# Deploy to AIPlatform (Deprecated)\n",
    "# MODEL = MODEL_NAME\n",
    "# VERSION = 'v1'\n",
    "# model_path = MODEL_BUCKET + '/model'\n",
    "\n",
    "# # !gcloud ai-platform models create $MODEL --region=$REGION\n",
    "\n",
    "# MACHINE_TYPE='n1-standard-2'\n",
    "\n",
    "# !gcloud  ai-platform versions create $VERSION --model $MODEL --origin $model_path --runtime-version 2.11 --framework TENSORFLOW --machine-type $MACHINE_TYPE --python-version 3.7 --region=$REGION\n",
    "# !gcloud ai-platform versions describe $VERSION --model $MODEL --region=$REGION"
   ]
  },
  {
   "cell_type": "code",
   "execution_count": 107,
   "id": "6465851a-f078-41a2-991c-80a71d3e695d",
   "metadata": {},
   "outputs": [],
   "source": [
    "\n"
   ]
  },
  {
   "cell_type": "code",
   "execution_count": null,
   "id": "6c0f6c5d-3ea4-4fae-ba78-b8decf134a92",
   "metadata": {},
   "outputs": [],
   "source": []
  },
  {
   "cell_type": "code",
   "execution_count": null,
   "id": "ff433f46-0e98-48ec-8b32-25b840541253",
   "metadata": {},
   "outputs": [],
   "source": []
  }
 ],
 "metadata": {
  "kernelspec": {
   "display_name": "Python 3 (ipykernel)",
   "language": "python",
   "name": "python3"
  },
  "language_info": {
   "codemirror_mode": {
    "name": "ipython",
    "version": 3
   },
   "file_extension": ".py",
   "mimetype": "text/x-python",
   "name": "python",
   "nbconvert_exporter": "python",
   "pygments_lexer": "ipython3",
   "version": "3.9.16"
  }
 },
 "nbformat": 4,
 "nbformat_minor": 5
}
