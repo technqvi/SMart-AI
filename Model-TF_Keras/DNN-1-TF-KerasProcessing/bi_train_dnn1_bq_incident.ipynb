{
 "cells": [
  {
   "cell_type": "code",
   "execution_count": 1,
   "id": "300e7850-0b43-4731-9253-684ba1a6a8d2",
   "metadata": {},
   "outputs": [],
   "source": [
    "#https://codelabs.developers.google.com/codelabs/fraud-detection-ai-explanations?hl=en#0\n",
    "#he Explainable AI SDK and Copy Model to Deploy\n",
    "\n",
    "#https://github.com/GoogleCloudPlatform/training-data-analyst/blob/master/courses/machine_learning/deepdive2/introduction_to_tensorflow/solutions/preprocessing_layers.ipynb"
   ]
  },
  {
   "cell_type": "code",
   "execution_count": 1,
   "id": "efd54814-e227-4302-9a81-3d6ddcf0e9a5",
   "metadata": {},
   "outputs": [
    {
     "data": {
      "text/plain": [
       "'2.11.0'"
      ]
     },
     "execution_count": 1,
     "metadata": {},
     "output_type": "execute_result"
    }
   ],
   "source": [
    "# import necessary libraries\n",
    "import numpy as np\n",
    "import pandas as pd\n",
    "import tensorflow as tf\n",
    "import matplotlib.pyplot as plt\n",
    "import seaborn as sns\n",
    "\n",
    "from tensorflow.keras import Sequential\n",
    "from tensorflow.keras.layers import Dense,DenseFeatures\n",
    "\n",
    "\n",
    "from google.cloud import bigquery\n",
    "from sklearn.model_selection import train_test_split\n",
    "from tensorflow.keras import layers\n",
    "from tensorflow.keras.layers.experimental import preprocessing\n",
    "\n",
    "tf.__version__"
   ]
  },
  {
   "cell_type": "code",
   "execution_count": 2,
   "id": "566531dc-5434-4689-b6d4-83b3f5d736b5",
   "metadata": {},
   "outputs": [],
   "source": [
    "#!gsutil cp gs://smart-ml-pongthorn/incident-train-data/TrainEval_Incident.csv data"
   ]
  },
  {
   "cell_type": "code",
   "execution_count": 3,
   "id": "d28a9538-ca23-45f0-817b-e4b067cf9ab3",
   "metadata": {},
   "outputs": [],
   "source": [
    "cateCols=['sla','product_type','brand','service_type','incident_type']\n",
    "numbericCols=['open_to_close_hour','response_to_resolved_hour']\n",
    "\n",
    "unusedCols=['severity_id','severity_name','label_multi_severity']\n",
    "labelCol='label_binary_severity'\n",
    "\n",
    "\n",
    "model_dir='tf1_binary_model'"
   ]
  },
  {
   "cell_type": "code",
   "execution_count": 4,
   "id": "5ddea3e1-b732-48c4-95fc-637108802a2c",
   "metadata": {},
   "outputs": [
    {
     "name": "stdout",
     "output_type": "stream",
     "text": [
      "[0, 1]\n",
      "No target label : 2\n",
      "<class 'pandas.core.frame.DataFrame'>\n",
      "RangeIndex: 1814 entries, 0 to 1813\n",
      "Data columns (total 8 columns):\n",
      " #   Column                     Non-Null Count  Dtype  \n",
      "---  ------                     --------------  -----  \n",
      " 0   sla                        1814 non-null   object \n",
      " 1   product_type               1814 non-null   object \n",
      " 2   brand                      1814 non-null   object \n",
      " 3   service_type               1814 non-null   object \n",
      " 4   incident_type              1814 non-null   object \n",
      " 5   open_to_close_hour         1814 non-null   float64\n",
      " 6   response_to_resolved_hour  1814 non-null   float64\n",
      " 7   label_binary_severity      1814 non-null   int64  \n",
      "dtypes: float64(2), int64(1), object(5)\n",
      "memory usage: 113.5+ KB\n",
      "None\n"
     ]
    },
    {
     "data": {
      "text/html": [
       "<div>\n",
       "<style scoped>\n",
       "    .dataframe tbody tr th:only-of-type {\n",
       "        vertical-align: middle;\n",
       "    }\n",
       "\n",
       "    .dataframe tbody tr th {\n",
       "        vertical-align: top;\n",
       "    }\n",
       "\n",
       "    .dataframe thead th {\n",
       "        text-align: right;\n",
       "    }\n",
       "</style>\n",
       "<table border=\"1\" class=\"dataframe\">\n",
       "  <thead>\n",
       "    <tr style=\"text-align: right;\">\n",
       "      <th></th>\n",
       "      <th>sla</th>\n",
       "      <th>product_type</th>\n",
       "      <th>brand</th>\n",
       "      <th>service_type</th>\n",
       "      <th>incident_type</th>\n",
       "      <th>open_to_close_hour</th>\n",
       "      <th>response_to_resolved_hour</th>\n",
       "      <th>label_binary_severity</th>\n",
       "    </tr>\n",
       "  </thead>\n",
       "  <tbody>\n",
       "    <tr>\n",
       "      <th>1809</th>\n",
       "      <td>24x7 6Hrs Resolution Time</td>\n",
       "      <td>Storage</td>\n",
       "      <td>NetApp</td>\n",
       "      <td>Incident</td>\n",
       "      <td>Hard Disk Drive Failure</td>\n",
       "      <td>11.400000</td>\n",
       "      <td>11.400000</td>\n",
       "      <td>1</td>\n",
       "    </tr>\n",
       "    <tr>\n",
       "      <th>1810</th>\n",
       "      <td>24x7 6Hrs Resolution Time</td>\n",
       "      <td>Software</td>\n",
       "      <td>SAPB1</td>\n",
       "      <td>Incident</td>\n",
       "      <td>General Incident</td>\n",
       "      <td>0.316667</td>\n",
       "      <td>0.300000</td>\n",
       "      <td>0</td>\n",
       "    </tr>\n",
       "    <tr>\n",
       "      <th>1811</th>\n",
       "      <td>24x7 4Hrs Resolution Time</td>\n",
       "      <td>Software</td>\n",
       "      <td>Veeam</td>\n",
       "      <td>Request</td>\n",
       "      <td>Configuration Change</td>\n",
       "      <td>13.983333</td>\n",
       "      <td>13.983333</td>\n",
       "      <td>0</td>\n",
       "    </tr>\n",
       "    <tr>\n",
       "      <th>1812</th>\n",
       "      <td>24x7 4Hrs Response Time</td>\n",
       "      <td>Server</td>\n",
       "      <td>HPE</td>\n",
       "      <td>Incident</td>\n",
       "      <td>General Incident</td>\n",
       "      <td>768.966667</td>\n",
       "      <td>768.833333</td>\n",
       "      <td>1</td>\n",
       "    </tr>\n",
       "    <tr>\n",
       "      <th>1813</th>\n",
       "      <td>24x7 6Hrs Resolution Time</td>\n",
       "      <td>Storage</td>\n",
       "      <td>NetApp</td>\n",
       "      <td>Incident</td>\n",
       "      <td>General Incident</td>\n",
       "      <td>1.566667</td>\n",
       "      <td>1.133333</td>\n",
       "      <td>0</td>\n",
       "    </tr>\n",
       "  </tbody>\n",
       "</table>\n",
       "</div>"
      ],
      "text/plain": [
       "                            sla product_type   brand service_type  \\\n",
       "1809  24x7 6Hrs Resolution Time      Storage  NetApp     Incident   \n",
       "1810  24x7 6Hrs Resolution Time     Software   SAPB1     Incident   \n",
       "1811  24x7 4Hrs Resolution Time     Software   Veeam      Request   \n",
       "1812    24x7 4Hrs Response Time       Server     HPE     Incident   \n",
       "1813  24x7 6Hrs Resolution Time      Storage  NetApp     Incident   \n",
       "\n",
       "                incident_type  open_to_close_hour  response_to_resolved_hour  \\\n",
       "1809  Hard Disk Drive Failure           11.400000                  11.400000   \n",
       "1810         General Incident            0.316667                   0.300000   \n",
       "1811     Configuration Change           13.983333                  13.983333   \n",
       "1812         General Incident          768.966667                 768.833333   \n",
       "1813         General Incident            1.566667                   1.133333   \n",
       "\n",
       "      label_binary_severity  \n",
       "1809                      1  \n",
       "1810                      0  \n",
       "1811                      0  \n",
       "1812                      1  \n",
       "1813                      0  "
      ]
     },
     "execution_count": 4,
     "metadata": {},
     "output_type": "execute_result"
    }
   ],
   "source": [
    "def load_ml_data(data_path):\n",
    " df=pd.read_csv(data_path)\n",
    " df =df.drop(columns=unusedCols)\n",
    " return df\n",
    "    \n",
    "root_path='../../data'    \n",
    "train = load_ml_data(f\"{root_path}/train_incident.csv\")\n",
    "# val=train.copy()\n",
    "val=load_ml_data(f\"{root_path}/validation_incident.csv\")\n",
    "# test =val.copy()\n",
    "test =load_ml_data(f\"{root_path}/test_incident.csv\")\n",
    "\n",
    "labelList=list(train[labelCol].unique())\n",
    "print(labelList)\n",
    "nLabel=len(labelList)\n",
    "print(f\"No target label : {nLabel}\")\n",
    "\n",
    "# sr_predict=df.iloc[-1,:]\n",
    "# df=df.iloc[0:len(df)-1,:]\n",
    "                 \n",
    "print(train.info())\n",
    "train.tail()"
   ]
  },
  {
   "cell_type": "code",
   "execution_count": 5,
   "id": "c59e9916-6668-4c4e-8974-af63c3f840b0",
   "metadata": {},
   "outputs": [
    {
     "data": {
      "image/png": "[encoded data removed]",
      "text/plain": [
       "<Figure size 1500x500 with 1 Axes>"
      ]
     },
     "metadata": {},
     "output_type": "display_data"
    },
    {
     "data": {
      "image/png": "[encoded data removed]",
      "text/plain": [
       "<Figure size 1500x500 with 1 Axes>"
      ]
     },
     "metadata": {},
     "output_type": "display_data"
    },
    {
     "data": {
      "image/png": "[encoded data removed]",
      "text/plain": [
       "<Figure size 1500x500 with 1 Axes>"
      ]
     },
     "metadata": {},
     "output_type": "display_data"
    }
   ],
   "source": [
    "def plot_class(df):\n",
    "    fig , ax = plt.subplots(figsize=(15,5))\n",
    "    ax =sns.countplot(x=labelCol, data=df,)\n",
    "    for p in ax.patches:\n",
    "       ax.annotate('{:.1f}'.format(p.get_height()), (p.get_x()+0.25, p.get_height()+0.01))\n",
    "    plt.title(labelCol.title())\n",
    "    plt.show()\n",
    "    \n",
    "plot_class(train)\n",
    "plot_class(val)\n",
    "plot_class(test)"
   ]
  },
  {
   "cell_type": "code",
   "execution_count": 6,
   "id": "6b44b56b-79a8-46e4-ace9-f44040e72b94",
   "metadata": {},
   "outputs": [],
   "source": [
    "# A utility method to create a tf.data dataset from a Pandas Dataframe\n",
    "def binary_label_df_to_dataset(dataframe, shuffle=True, batch_size=32):\n",
    "  dataframe = dataframe.copy()\n",
    "  labels = dataframe.pop(labelCol)\n",
    "  ds = tf.data.Dataset.from_tensor_slices((dict(dataframe), labels))\n",
    "  if shuffle:\n",
    "    ds = ds.shuffle(buffer_size=len(dataframe))\n",
    "  ds = ds.batch(batch_size)\n",
    "  ds = ds.prefetch(batch_size)\n",
    "  return ds"
   ]
  },
  {
   "cell_type": "code",
   "execution_count": null,
   "id": "bf51e019-91ce-4e47-a9e1-38f557de53f6",
   "metadata": {},
   "outputs": [],
   "source": []
  },
  {
   "cell_type": "code",
   "execution_count": 7,
   "id": "274122c2-9481-438b-b637-6e6ad393d809",
   "metadata": {},
   "outputs": [
    {
     "name": "stdout",
     "output_type": "stream",
     "text": [
      "Explore Data from Tensor before keras data processing\n",
      "Every feature: ['sla', 'product_type', 'brand', 'service_type', 'incident_type', 'open_to_close_hour', 'response_to_resolved_hour']\n",
      "service_type: tf.Tensor(\n",
      "[b'Incident' b'Incident' b'Incident' b'Incident' b'Incident' b'Incident'\n",
      " b'Incident' b'Incident' b'Incident' b'Request'], shape=(10,), dtype=string)\n",
      "incident_type: tf.Tensor(\n",
      "[b'General Incident' b'Network Card Failure' b'Software'\n",
      " b'General Incident' b'General Incident' b'Hard Disk Drive Failure'\n",
      " b'Hard Disk Drive Failure' b'General Incident' b'Hard Disk Drive Failure'\n",
      " b'General Incident'], shape=(10,), dtype=string)\n",
      "product_type: tf.Tensor(\n",
      "[b'Storage' b'Security' b'Software' b'Server' b'Server' b'Storage'\n",
      " b'Server' b'Software' b'Hardware' b'Software'], shape=(10,), dtype=string)\n",
      "brand: tf.Tensor(\n",
      "[b'Veritas' b'YIP' b'VMWare' b'HPE' b'HPE' b'NetApp' b'HPE' b'Red Hat'\n",
      " b'Oracle' b'VMWare'], shape=(10,), dtype=string)\n",
      "open_to_close_hour: tf.Tensor(\n",
      "[1.78033333e+02 6.95166667e+01 9.31916667e+02 6.21350000e+02\n",
      " 5.15000000e+00 5.16666667e-01 2.05000000e+01 6.61166667e+01\n",
      " 9.42500000e+01 3.98333333e+00], shape=(10,), dtype=float64)\n",
      "label_binary_severity :[1 1 1 1 1 1 1 0 0 0]\n"
     ]
    }
   ],
   "source": [
    "print(\"Explore Data from Tensor before keras data processing\")\n",
    "batch_size = 10\n",
    "train_ds =binary_label_df_to_dataset(train, batch_size=batch_size)\n",
    "\n",
    "[(train_features, label_batch)] = train_ds.take(1)\n",
    "print('Every feature:', list(train_features.keys()))\n",
    "print('service_type:', train_features['service_type'])\n",
    "print('incident_type:', train_features['incident_type'])\n",
    "print('product_type:', train_features['product_type'])\n",
    "print('brand:', train_features['brand'])\n",
    "print('open_to_close_hour:', train_features['open_to_close_hour'])\n",
    "print(f'{labelCol} :{label_batch }')"
   ]
  },
  {
   "cell_type": "code",
   "execution_count": 8,
   "id": "02ad8837-968e-4d68-bdb6-1c7eba97e69c",
   "metadata": {},
   "outputs": [],
   "source": [
    "def get_normalization_layer(name, dataset):\n",
    "  # Create a Normalization layer for our feature.\n",
    "  normalizer = preprocessing.Normalization(axis=None)\n",
    "\n",
    "  # Prepare a Dataset that only yields our feature.\n",
    "  feature_ds = dataset.map(lambda x, y: x[name])\n",
    "\n",
    "  # Learn the statistics of the data.\n",
    "  normalizer.adapt(feature_ds)\n",
    "\n",
    "  return normalizer"
   ]
  },
  {
   "cell_type": "code",
   "execution_count": 9,
   "id": "237bce3c-9c77-4318-8682-fc36af0a6804",
   "metadata": {},
   "outputs": [],
   "source": [
    "def get_category_encoding_layer(name, dataset, dtype, max_tokens=None):\n",
    "  # Create a StringLookup layer which will turn strings into integer indices\n",
    "  if dtype == 'string':\n",
    "    index = preprocessing.StringLookup(max_tokens=max_tokens)\n",
    "  else:\n",
    "    index = preprocessing.IntegerLookup(max_tokens=max_tokens)\n",
    "\n",
    "  # Prepare a Dataset that only yields our feature\n",
    "  feature_ds = dataset.map(lambda x, y: x[name])\n",
    "\n",
    "  # Learn the set of possible values and assign them a fixed integer index.\n",
    "  index.adapt(feature_ds)\n",
    "\n",
    "  # Create a Discretization for our integer indices.\n",
    "  encoder = preprocessing.CategoryEncoding(num_tokens=index.vocabulary_size())\n",
    "\n",
    "  # Apply one-hot encoding to our indices. The lambda function captures the\n",
    "  # layer so we can use them, or include them in the functional model later.\n",
    "  return lambda feature: encoder(index(feature))\n",
    "     "
   ]
  },
  {
   "cell_type": "code",
   "execution_count": 10,
   "id": "4ab6c0ac-ee9b-42f3-b140-a102e8f2f121",
   "metadata": {},
   "outputs": [
    {
     "name": "stdout",
     "output_type": "stream",
     "text": [
      "WARNING:tensorflow:From D:\\ProgramData\\Anaconda3\\envs\\dev_google\\lib\\site-packages\\tensorflow\\python\\autograph\\pyct\\static_analysis\\liveness.py:83: Analyzer.lamba_check (from tensorflow.python.autograph.pyct.static_analysis.liveness) is deprecated and will be removed after 2023-09-23.\n",
      "Instructions for updating:\n",
      "Lambda fuctions will be no more assumed to be used in the statement where they are used, or at least in the same block. https://github.com/tensorflow/tensorflow/issues/56089\n"
     ]
    },
    {
     "data": {
      "text/plain": [
       "<tf.Tensor: shape=(10,), dtype=float32, numpy=\n",
       "array([ 0.3077842 , -0.10289701,  3.1608548 ,  1.9855155 , -0.3464926 ,\n",
       "       -0.36402744, -0.28840053, -0.11576431, -0.00929375, -0.35090786],\n",
       "      dtype=float32)>"
      ]
     },
     "execution_count": 10,
     "metadata": {},
     "output_type": "execute_result"
    }
   ],
   "source": [
    "hour_col = train_features['open_to_close_hour']\n",
    "layer = get_normalization_layer('open_to_close_hour', train_ds)\n",
    "layer(hour_col)"
   ]
  },
  {
   "cell_type": "code",
   "execution_count": 11,
   "id": "19c0de50-a1fb-44b9-b91f-555ac779ec40",
   "metadata": {},
   "outputs": [
    {
     "data": {
      "text/plain": [
       "<tf.Tensor: shape=(11,), dtype=float32, numpy=array([0., 1., 1., 1., 1., 0., 0., 0., 0., 0., 1.], dtype=float32)>"
      ]
     },
     "execution_count": 11,
     "metadata": {},
     "output_type": "execute_result"
    }
   ],
   "source": [
    "# total no type+unkonw\n",
    "type_col = train_features['product_type']\n",
    "layer = get_category_encoding_layer('product_type', train_ds, 'string')\n",
    "layer(type_col)"
   ]
  },
  {
   "cell_type": "markdown",
   "id": "fa30d3fd-14e9-4c3d-a6aa-45d8114f5362",
   "metadata": {},
   "source": [
    "# Process Data "
   ]
  },
  {
   "cell_type": "code",
   "execution_count": 12,
   "id": "5b3122dc-b371-46ec-bd8c-82e81eb44ad1",
   "metadata": {},
   "outputs": [],
   "source": [
    "batch_size =32\n",
    "train_ds = binary_label_df_to_dataset (train, batch_size=batch_size)\n",
    "val_ds = binary_label_df_to_dataset(val, shuffle=False, batch_size=batch_size)\n",
    "test_ds = binary_label_df_to_dataset(test, shuffle=False, batch_size=batch_size)"
   ]
  },
  {
   "cell_type": "code",
   "execution_count": 13,
   "id": "e9958d24-4d8f-4527-bc19-c657e1d9b22e",
   "metadata": {},
   "outputs": [],
   "source": [
    "all_inputs = []\n",
    "encoded_features = []"
   ]
  },
  {
   "cell_type": "code",
   "execution_count": 14,
   "id": "723a69b6-d9c1-49d9-bc81-ed421d8700cb",
   "metadata": {},
   "outputs": [
    {
     "name": "stdout",
     "output_type": "stream",
     "text": [
      "open_to_close_hour\n",
      "response_to_resolved_hour\n"
     ]
    }
   ],
   "source": [
    "# Numeric features.\n",
    "for header in numbericCols:\n",
    "  print(header)  \n",
    "  numeric_col = tf.keras.Input(shape=(1,), name=header)\n",
    "  normalization_layer = get_normalization_layer(header, train_ds)\n",
    "  encoded_numeric_col = normalization_layer(numeric_col)\n",
    "  all_inputs.append(numeric_col)\n",
    "  encoded_features.append(encoded_numeric_col)"
   ]
  },
  {
   "cell_type": "code",
   "execution_count": 15,
   "id": "41b59cb7-0c30-42f7-b87f-f408c72dcc72",
   "metadata": {},
   "outputs": [
    {
     "name": "stdout",
     "output_type": "stream",
     "text": [
      "sla\n",
      "product_type\n",
      "brand\n",
      "service_type\n",
      "incident_type\n"
     ]
    }
   ],
   "source": [
    "# Categorical features encoded as string.\n",
    "categorical_cols = cateCols\n",
    "for header in categorical_cols:\n",
    "  print(header)  \n",
    "  categorical_col = tf.keras.Input(shape=(1,), name=header, dtype='string')\n",
    "  encoding_layer = get_category_encoding_layer(header, train_ds, dtype='string')\n",
    "                                        \n",
    "  encoded_categorical_col = encoding_layer(categorical_col)\n",
    "  all_inputs.append(categorical_col)\n",
    "  encoded_features.append(encoded_categorical_col)\n"
   ]
  },
  {
   "cell_type": "code",
   "execution_count": 16,
   "id": "f89ba051-c41f-432a-b306-7ab9dad5ad92",
   "metadata": {},
   "outputs": [],
   "source": [
    "all_features = tf.keras.layers.concatenate(encoded_features)\n",
    "\n",
    "x = tf.keras.layers.Dense(32, activation=\"relu\")(all_features)\n",
    "x = tf.keras.layers.Dropout(0.1)(x)\n",
    "\n",
    "# x = tf.keras.layers.Dense(32, activation=\"relu\")(x)\n",
    "# x = tf.keras.layers.Dropout(0.1)(x)\n",
    "\n",
    "output = tf.keras.layers.Dense(1)(x)\n",
    "\n",
    "model = tf.keras.Model(all_inputs, output)\n",
    "\n",
    "model.compile(optimizer='adam',\n",
    "              loss=tf.keras.losses.BinaryCrossentropy(from_logits=True),\n",
    "              metrics=[\"accuracy\"])\n",
    "\n"
   ]
  },
  {
   "cell_type": "code",
   "execution_count": 17,
   "id": "8d8227dc-0e69-43fd-80cd-ed01a403c34d",
   "metadata": {},
   "outputs": [
    {
     "name": "stdout",
     "output_type": "stream",
     "text": [
      "Model: \"model\"\n",
      "__________________________________________________________________________________________________\n",
      " Layer (type)                   Output Shape         Param #     Connected to                     \n",
      "==================================================================================================\n",
      " sla (InputLayer)               [(None, 1)]          0           []                               \n",
      "                                                                                                  \n",
      " product_type (InputLayer)      [(None, 1)]          0           []                               \n",
      "                                                                                                  \n",
      " brand (InputLayer)             [(None, 1)]          0           []                               \n",
      "                                                                                                  \n",
      " service_type (InputLayer)      [(None, 1)]          0           []                               \n",
      "                                                                                                  \n",
      " incident_type (InputLayer)     [(None, 1)]          0           []                               \n",
      "                                                                                                  \n",
      " open_to_close_hour (InputLayer  [(None, 1)]         0           []                               \n",
      " )                                                                                                \n",
      "                                                                                                  \n",
      " response_to_resolved_hour (Inp  [(None, 1)]         0           []                               \n",
      " utLayer)                                                                                         \n",
      "                                                                                                  \n",
      " string_lookup_1 (StringLookup)  (None, 1)           0           ['sla[0][0]']                    \n",
      "                                                                                                  \n",
      " string_lookup_2 (StringLookup)  (None, 1)           0           ['product_type[0][0]']           \n",
      "                                                                                                  \n",
      " string_lookup_3 (StringLookup)  (None, 1)           0           ['brand[0][0]']                  \n",
      "                                                                                                  \n",
      " string_lookup_4 (StringLookup)  (None, 1)           0           ['service_type[0][0]']           \n",
      "                                                                                                  \n",
      " string_lookup_5 (StringLookup)  (None, 1)           0           ['incident_type[0][0]']          \n",
      "                                                                                                  \n",
      " normalization_1 (Normalization  (None, 1)           3           ['open_to_close_hour[0][0]']     \n",
      " )                                                                                                \n",
      "                                                                                                  \n",
      " normalization_2 (Normalization  (None, 1)           3           ['response_to_resolved_hour[0][0]\n",
      " )                                                               ']                               \n",
      "                                                                                                  \n",
      " category_encoding_1 (CategoryE  (None, 8)           0           ['string_lookup_1[0][0]']        \n",
      " ncoding)                                                                                         \n",
      "                                                                                                  \n",
      " category_encoding_2 (CategoryE  (None, 11)          0           ['string_lookup_2[0][0]']        \n",
      " ncoding)                                                                                         \n",
      "                                                                                                  \n",
      " category_encoding_3 (CategoryE  (None, 24)          0           ['string_lookup_3[0][0]']        \n",
      " ncoding)                                                                                         \n",
      "                                                                                                  \n",
      " category_encoding_4 (CategoryE  (None, 3)           0           ['string_lookup_4[0][0]']        \n",
      " ncoding)                                                                                         \n",
      "                                                                                                  \n",
      " category_encoding_5 (CategoryE  (None, 22)          0           ['string_lookup_5[0][0]']        \n",
      " ncoding)                                                                                         \n",
      "                                                                                                  \n",
      " concatenate (Concatenate)      (None, 70)           0           ['normalization_1[0][0]',        \n",
      "                                                                  'normalization_2[0][0]',        \n",
      "                                                                  'category_encoding_1[0][0]',    \n",
      "                                                                  'category_encoding_2[0][0]',    \n",
      "                                                                  'category_encoding_3[0][0]',    \n",
      "                                                                  'category_encoding_4[0][0]',    \n",
      "                                                                  'category_encoding_5[0][0]']    \n",
      "                                                                                                  \n",
      " dense (Dense)                  (None, 32)           2272        ['concatenate[0][0]']            \n",
      "                                                                                                  \n",
      " dropout (Dropout)              (None, 32)           0           ['dense[0][0]']                  \n",
      "                                                                                                  \n",
      " dense_1 (Dense)                (None, 1)            33          ['dropout[0][0]']                \n",
      "                                                                                                  \n",
      "==================================================================================================\n",
      "Total params: 2,311\n",
      "Trainable params: 2,305\n",
      "Non-trainable params: 6\n",
      "__________________________________________________________________________________________________\n"
     ]
    }
   ],
   "source": [
    "model.summary()\n"
   ]
  },
  {
   "cell_type": "code",
   "execution_count": 18,
   "id": "25688a22-05f5-4cac-b662-d261b5dcfb78",
   "metadata": {},
   "outputs": [
    {
     "name": "stdout",
     "output_type": "stream",
     "text": [
      "Epoch 1/100\n",
      "57/57 [==============================] - 2s 12ms/step - loss: 0.6376 - accuracy: 0.5270 - val_loss: 0.5719 - val_accuracy: 0.6916\n",
      "Epoch 2/100\n",
      "57/57 [==============================] - 0s 4ms/step - loss: 0.5508 - accuracy: 0.6797 - val_loss: 0.5028 - val_accuracy: 0.7401\n",
      "Epoch 3/100\n",
      "57/57 [==============================] - 0s 3ms/step - loss: 0.5004 - accuracy: 0.7315 - val_loss: 0.4666 - val_accuracy: 0.7665\n",
      "Epoch 4/100\n",
      "57/57 [==============================] - 0s 4ms/step - loss: 0.4765 - accuracy: 0.7459 - val_loss: 0.4510 - val_accuracy: 0.7753\n",
      "Epoch 5/100\n",
      "57/57 [==============================] - 0s 4ms/step - loss: 0.4622 - accuracy: 0.7569 - val_loss: 0.4437 - val_accuracy: 0.7797\n",
      "Epoch 6/100\n",
      "57/57 [==============================] - 0s 4ms/step - loss: 0.4509 - accuracy: 0.7696 - val_loss: 0.4365 - val_accuracy: 0.7753\n",
      "Epoch 7/100\n",
      "57/57 [==============================] - 0s 4ms/step - loss: 0.4456 - accuracy: 0.7613 - val_loss: 0.4358 - val_accuracy: 0.7797\n",
      "Epoch 8/100\n",
      "57/57 [==============================] - 0s 4ms/step - loss: 0.4389 - accuracy: 0.7707 - val_loss: 0.4318 - val_accuracy: 0.7797\n",
      "Epoch 9/100\n",
      "57/57 [==============================] - 0s 4ms/step - loss: 0.4348 - accuracy: 0.7712 - val_loss: 0.4298 - val_accuracy: 0.7797\n",
      "Epoch 10/100\n",
      "57/57 [==============================] - 0s 4ms/step - loss: 0.4342 - accuracy: 0.7745 - val_loss: 0.4279 - val_accuracy: 0.7797\n",
      "Epoch 11/100\n",
      "57/57 [==============================] - 0s 4ms/step - loss: 0.4299 - accuracy: 0.7817 - val_loss: 0.4270 - val_accuracy: 0.7797\n",
      "Epoch 12/100\n",
      "57/57 [==============================] - 0s 4ms/step - loss: 0.4246 - accuracy: 0.7828 - val_loss: 0.4248 - val_accuracy: 0.7709\n",
      "Epoch 13/100\n",
      "57/57 [==============================] - 0s 4ms/step - loss: 0.4231 - accuracy: 0.7856 - val_loss: 0.4213 - val_accuracy: 0.7709\n",
      "Epoch 14/100\n",
      "57/57 [==============================] - 0s 4ms/step - loss: 0.4220 - accuracy: 0.7883 - val_loss: 0.4213 - val_accuracy: 0.7709\n",
      "Epoch 15/100\n",
      "57/57 [==============================] - 0s 4ms/step - loss: 0.4158 - accuracy: 0.7894 - val_loss: 0.4198 - val_accuracy: 0.7665\n",
      "Epoch 16/100\n",
      "57/57 [==============================] - 0s 4ms/step - loss: 0.4141 - accuracy: 0.7949 - val_loss: 0.4189 - val_accuracy: 0.7533\n",
      "Epoch 17/100\n",
      "57/57 [==============================] - 0s 4ms/step - loss: 0.4132 - accuracy: 0.7916 - val_loss: 0.4171 - val_accuracy: 0.7533\n",
      "Epoch 18/100\n",
      "57/57 [==============================] - 0s 4ms/step - loss: 0.4100 - accuracy: 0.7938 - val_loss: 0.4167 - val_accuracy: 0.7577\n",
      "Epoch 19/100\n",
      "57/57 [==============================] - 0s 3ms/step - loss: 0.4132 - accuracy: 0.7922 - val_loss: 0.4152 - val_accuracy: 0.7577\n",
      "Epoch 20/100\n",
      "57/57 [==============================] - 0s 4ms/step - loss: 0.4069 - accuracy: 0.7960 - val_loss: 0.4147 - val_accuracy: 0.7577\n",
      "Epoch 21/100\n",
      "57/57 [==============================] - 0s 4ms/step - loss: 0.4040 - accuracy: 0.8004 - val_loss: 0.4137 - val_accuracy: 0.7577\n",
      "Epoch 22/100\n",
      "57/57 [==============================] - 0s 4ms/step - loss: 0.4029 - accuracy: 0.8043 - val_loss: 0.4136 - val_accuracy: 0.7709\n",
      "Epoch 23/100\n",
      "57/57 [==============================] - 0s 3ms/step - loss: 0.4033 - accuracy: 0.8015 - val_loss: 0.4127 - val_accuracy: 0.7577\n",
      "Epoch 24/100\n",
      "57/57 [==============================] - 0s 3ms/step - loss: 0.4051 - accuracy: 0.8032 - val_loss: 0.4096 - val_accuracy: 0.7577\n",
      "Epoch 25/100\n",
      "57/57 [==============================] - 0s 4ms/step - loss: 0.3964 - accuracy: 0.8049 - val_loss: 0.4108 - val_accuracy: 0.7577\n",
      "Epoch 26/100\n",
      "57/57 [==============================] - 0s 4ms/step - loss: 0.3969 - accuracy: 0.8054 - val_loss: 0.4090 - val_accuracy: 0.7577\n",
      "Epoch 27/100\n",
      "57/57 [==============================] - 0s 4ms/step - loss: 0.3951 - accuracy: 0.8054 - val_loss: 0.4093 - val_accuracy: 0.7621\n",
      "Epoch 28/100\n",
      "57/57 [==============================] - 0s 4ms/step - loss: 0.3908 - accuracy: 0.8026 - val_loss: 0.4076 - val_accuracy: 0.7797\n",
      "Epoch 29/100\n",
      "57/57 [==============================] - 0s 3ms/step - loss: 0.3903 - accuracy: 0.8087 - val_loss: 0.4074 - val_accuracy: 0.7841\n",
      "Epoch 30/100\n",
      "57/57 [==============================] - 0s 3ms/step - loss: 0.3930 - accuracy: 0.8060 - val_loss: 0.4069 - val_accuracy: 0.7665\n",
      "Epoch 31/100\n",
      "57/57 [==============================] - 0s 3ms/step - loss: 0.3878 - accuracy: 0.8104 - val_loss: 0.4069 - val_accuracy: 0.7797\n",
      "Epoch 32/100\n",
      "57/57 [==============================] - 0s 4ms/step - loss: 0.3895 - accuracy: 0.8082 - val_loss: 0.4063 - val_accuracy: 0.7709\n",
      "Epoch 33/100\n",
      "57/57 [==============================] - 0s 4ms/step - loss: 0.3889 - accuracy: 0.8104 - val_loss: 0.4054 - val_accuracy: 0.7621\n",
      "Epoch 34/100\n",
      "57/57 [==============================] - 0s 4ms/step - loss: 0.3887 - accuracy: 0.8126 - val_loss: 0.4050 - val_accuracy: 0.7709\n",
      "Epoch 35/100\n",
      "57/57 [==============================] - 0s 4ms/step - loss: 0.3807 - accuracy: 0.8137 - val_loss: 0.4035 - val_accuracy: 0.7930\n",
      "Epoch 36/100\n",
      "57/57 [==============================] - 0s 4ms/step - loss: 0.3882 - accuracy: 0.8148 - val_loss: 0.4043 - val_accuracy: 0.7665\n",
      "Epoch 37/100\n",
      "57/57 [==============================] - 0s 4ms/step - loss: 0.3797 - accuracy: 0.8142 - val_loss: 0.4053 - val_accuracy: 0.7621\n",
      "Epoch 38/100\n",
      "57/57 [==============================] - 0s 4ms/step - loss: 0.3809 - accuracy: 0.8137 - val_loss: 0.4027 - val_accuracy: 0.7841\n",
      "Epoch 39/100\n",
      "57/57 [==============================] - 0s 4ms/step - loss: 0.3829 - accuracy: 0.8142 - val_loss: 0.4030 - val_accuracy: 0.7841\n",
      "Epoch 40/100\n",
      "57/57 [==============================] - 0s 4ms/step - loss: 0.3769 - accuracy: 0.8186 - val_loss: 0.4029 - val_accuracy: 0.7753\n",
      "Epoch 41/100\n",
      "57/57 [==============================] - 0s 4ms/step - loss: 0.3818 - accuracy: 0.8192 - val_loss: 0.4028 - val_accuracy: 0.7797\n",
      "Epoch 42/100\n",
      "57/57 [==============================] - 0s 4ms/step - loss: 0.3770 - accuracy: 0.8159 - val_loss: 0.4036 - val_accuracy: 0.7709\n",
      "Epoch 43/100\n",
      "57/57 [==============================] - 0s 5ms/step - loss: 0.3799 - accuracy: 0.8142 - val_loss: 0.4006 - val_accuracy: 0.7930\n",
      "Epoch 44/100\n",
      "57/57 [==============================] - 0s 4ms/step - loss: 0.3784 - accuracy: 0.8142 - val_loss: 0.4032 - val_accuracy: 0.7930\n",
      "Epoch 45/100\n",
      "57/57 [==============================] - 0s 7ms/step - loss: 0.3770 - accuracy: 0.8236 - val_loss: 0.4037 - val_accuracy: 0.7885\n",
      "Epoch 46/100\n",
      "57/57 [==============================] - 0s 6ms/step - loss: 0.3752 - accuracy: 0.8159 - val_loss: 0.4041 - val_accuracy: 0.7885\n",
      "Epoch 47/100\n",
      "57/57 [==============================] - 0s 7ms/step - loss: 0.3717 - accuracy: 0.8126 - val_loss: 0.4063 - val_accuracy: 0.7709\n",
      "Epoch 48/100\n",
      "57/57 [==============================] - 0s 6ms/step - loss: 0.3788 - accuracy: 0.8148 - val_loss: 0.4037 - val_accuracy: 0.7797\n",
      "Epoch 49/100\n",
      "57/57 [==============================] - 0s 6ms/step - loss: 0.3737 - accuracy: 0.8170 - val_loss: 0.4056 - val_accuracy: 0.7841\n",
      "Epoch 50/100\n",
      "57/57 [==============================] - 0s 5ms/step - loss: 0.3724 - accuracy: 0.8148 - val_loss: 0.4068 - val_accuracy: 0.7709\n",
      "Epoch 51/100\n",
      "57/57 [==============================] - 0s 5ms/step - loss: 0.3721 - accuracy: 0.8186 - val_loss: 0.4044 - val_accuracy: 0.7885\n",
      "Epoch 52/100\n",
      "57/57 [==============================] - 0s 5ms/step - loss: 0.3687 - accuracy: 0.8269 - val_loss: 0.4045 - val_accuracy: 0.7885\n",
      "Epoch 53/100\n",
      "57/57 [==============================] - 0s 5ms/step - loss: 0.3715 - accuracy: 0.8186 - val_loss: 0.4050 - val_accuracy: 0.7885\n",
      "Epoch 53: early stopping\n"
     ]
    }
   ],
   "source": [
    "EPOCHS = 100\n",
    "BATCH_SIZE = 32\n",
    "\n",
    "\n",
    "early_stopping = tf.keras.callbacks.EarlyStopping(monitor='val_loss', patience=10, verbose=1)\n",
    "history =model.fit(train_ds, validation_data=val_ds,epochs=EPOCHS,batch_size=BATCH_SIZE,callbacks = [early_stopping])\n",
    "# history =model.fit(train_ds,verbose=1,validation_data=val_ds,epochs=EPOCHS,batch_size=BATCH_SIZE)\n"
   ]
  },
  {
   "cell_type": "code",
   "execution_count": 19,
   "id": "f71e3efc-10f6-498b-97f6-5ed44b9534d0",
   "metadata": {},
   "outputs": [
    {
     "name": "stdout",
     "output_type": "stream",
     "text": [
      "8/8 [==============================] - 0s 3ms/step - loss: 0.4050 - accuracy: 0.7885\n",
      "Average Accuracy on Eveluation 0.7885462641716003\n",
      "8/8 [==============================] - 0s 3ms/step - loss: 0.4787 - accuracy: 0.7577\n",
      "Average Accuracy  on Test 0.757709264755249\n"
     ]
    }
   ],
   "source": [
    "loss, accuracy = model.evaluate(val_ds)\n",
    "print(\"Average Accuracy on Eveluation\", accuracy)\n",
    "loss, accuracy = model.evaluate(test_ds)\n",
    "print(\"Average Accuracy  on Test\", accuracy)\n",
    "     "
   ]
  },
  {
   "cell_type": "code",
   "execution_count": 20,
   "id": "50f86605-c8aa-47d9-97da-9771844c236b",
   "metadata": {},
   "outputs": [],
   "source": [
    "# tf.keras.utils.plot_model(model, show_shapes=True, rankdir=\"LR\")"
   ]
  },
  {
   "cell_type": "code",
   "execution_count": 21,
   "id": "ab8f677c-dfa2-48b5-b980-6cc10f2e0033",
   "metadata": {},
   "outputs": [
    {
     "name": "stderr",
     "output_type": "stream",
     "text": [
      "WARNING:absl:Found untraced functions such as _update_step_xla while saving (showing 1 of 1). These functions will not be directly callable after loading.\n"
     ]
    },
    {
     "name": "stdout",
     "output_type": "stream",
     "text": [
      "INFO:tensorflow:Assets written to: tf1_binary_model\\assets\n"
     ]
    },
    {
     "name": "stderr",
     "output_type": "stream",
     "text": [
      "INFO:tensorflow:Assets written to: tf1_binary_model\\assets\n"
     ]
    }
   ],
   "source": [
    "model.save(model_dir)\n"
   ]
  },
  {
   "cell_type": "code",
   "execution_count": 22,
   "id": "9db2353b-b178-4e97-9ca8-ca5550569793",
   "metadata": {},
   "outputs": [],
   "source": [
    "reloaded_model = tf.keras.models.load_model(model_dir)"
   ]
  },
  {
   "cell_type": "code",
   "execution_count": 23,
   "id": "dd916787-bacc-4537-b2b6-1c6d62932de8",
   "metadata": {},
   "outputs": [
    {
     "name": "stdout",
     "output_type": "stream",
     "text": [
      "{'sla': '24x7 4Hrs Response Time', 'product_type': 'Server', 'brand': 'VMWare', 'service_type': 'Incident', 'incident_type': 'General Incident', 'open_to_close_hour': 8.3, 'response_to_resolved_hour': 6.0}\n",
      "===============================================================================================================\n",
      "input t0 predict\n",
      "{'sla': <tf.Tensor: shape=(1,), dtype=string, numpy=array([b'24x7 4Hrs Response Time'], dtype=object)>, 'product_type': <tf.Tensor: shape=(1,), dtype=string, numpy=array([b'Server'], dtype=object)>, 'brand': <tf.Tensor: shape=(1,), dtype=string, numpy=array([b'VMWare'], dtype=object)>, 'service_type': <tf.Tensor: shape=(1,), dtype=string, numpy=array([b'Incident'], dtype=object)>, 'incident_type': <tf.Tensor: shape=(1,), dtype=string, numpy=array([b'General Incident'], dtype=object)>, 'open_to_close_hour': <tf.Tensor: shape=(1,), dtype=float32, numpy=array([8.3], dtype=float32)>, 'response_to_resolved_hour': <tf.Tensor: shape=(1,), dtype=float32, numpy=array([6.], dtype=float32)>}\n",
      "1/1 [==============================] - 0s 346ms/step\n",
      "[[1.5548998]]\n",
      "[82.56203] %  as Critical/Major\n"
     ]
    }
   ],
   "source": [
    "#label_binary_severity\n",
    "sample={\"sla\":\"24x7 4Hrs Response Time\",\n",
    "        \"product_type\":\"Server\",\n",
    "        \"brand\":\"VMWare\",                \n",
    "        \"service_type\":\"Incident\",\n",
    "        \"incident_type\":\"General Incident\",\n",
    "        \"open_to_close_hour\":8.30,\n",
    "        \"response_to_resolved_hour\":6.000000 \\\n",
    "       }\n",
    "\n",
    "print(sample)\n",
    "              \n",
    "print(\"===============================================================================================================\")    \n",
    "print(\"input t0 predict\")    \n",
    "input_dict = {name: tf.convert_to_tensor([value]) for name, value in sample.items()}\n",
    "print(input_dict)\n",
    "\n",
    "predictionList = reloaded_model.predict(input_dict)\n",
    "print(predictionList)\n",
    "prob = tf.nn.sigmoid(predictionList[0])\n",
    "print(f\"{(100 * prob)} %  as Critical/Major\")   "
   ]
  },
  {
   "cell_type": "code",
   "execution_count": 24,
   "id": "739ebc03-3f34-4f1a-92c4-b152887a538c",
   "metadata": {},
   "outputs": [
    {
     "data": {
      "image/png": "[encoded data removed]",
      "text/plain": [
       "<Figure size 1500x800 with 2 Axes>"
      ]
     },
     "metadata": {},
     "output_type": "display_data"
    }
   ],
   "source": [
    "plt.figure(figsize=(15,8))\n",
    "colors = plt.rcParams['axes.prop_cycle'].by_key()['color']\n",
    "\n",
    "def plot_metrics(history):\n",
    "  metrics =  ['loss', 'accuracy']\n",
    "  for n, metric in enumerate(metrics):\n",
    "    name = metric.replace(\"_\",\" \").capitalize()\n",
    "    plt.subplot(2,2,n+1)\n",
    "    plt.plot(history.epoch,  history.history[metric], color=colors[0], label='Train')\n",
    "    plt.plot(history.epoch, history.history['val_'+metric],\n",
    "             color=colors[0], linestyle=\"--\", label='Val')\n",
    "    plt.xlabel('Epoch')\n",
    "    plt.ylabel(name)\n",
    "    if metric == 'loss':\n",
    "      plt.ylim([0, plt.ylim()[1]])\n",
    "    elif metric == 'auc':\n",
    "      plt.ylim([0.8,1])\n",
    "    else:\n",
    "      plt.ylim([0,1])\n",
    "\n",
    "    plt.legend()\n",
    "\n",
    "plot_metrics(history)"
   ]
  },
  {
   "cell_type": "code",
   "execution_count": null,
   "id": "c5eca661-46ba-4492-9b48-41ef85487ee3",
   "metadata": {},
   "outputs": [],
   "source": []
  }
 ],
 "metadata": {
  "kernelspec": {
   "display_name": "Python 3 (ipykernel)",
   "language": "python",
   "name": "python3"
  },
  "language_info": {
   "codemirror_mode": {
    "name": "ipython",
    "version": 3
   },
   "file_extension": ".py",
   "mimetype": "text/x-python",
   "name": "python",
   "nbconvert_exporter": "python",
   "pygments_lexer": "ipython3",
   "version": "3.9.16"
  }
 },
 "nbformat": 4,
 "nbformat_minor": 5
}
