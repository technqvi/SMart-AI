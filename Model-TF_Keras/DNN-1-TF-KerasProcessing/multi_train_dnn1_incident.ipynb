{
 "cells": [
  {
   "cell_type": "code",
   "execution_count": 88,
   "id": "efd54814-e227-4302-9a81-3d6ddcf0e9a5",
   "metadata": {},
   "outputs": [
    {
     "data": {
      "text/plain": [
       "'2.11.0'"
      ]
     },
     "execution_count": 88,
     "metadata": {},
     "output_type": "execute_result"
    }
   ],
   "source": [
    "# import necessary libraries\n",
    "\n",
    "#https://codelabs.developers.google.com/codelabs/fraud-detection-ai-explanations?hl=en#0\n",
    "#he Explainable AI SDK and Copy Model to Deploy\n",
    "\n",
    "#https://github.com/GoogleCloudPlatform/training-data-analyst/blob/master/courses/machine_learning/deepdive2/introduction_to_tensorflow/solutions/preprocessing_layers.ipynb\n",
    "#https://github.com/GoogleCloudPlatform/vertex-ai-samples/blob/main/notebooks/official/custom/custom-tabular-bq-managed-dataset.ipynb\n",
    "#https://github.com/GoogleCloudPlatform/vertex-ai-samples/blob/main/notebooks/official/experiments/comparing_local_trained_models.ipynb\n",
    "\n",
    "\n",
    "import numpy as np\n",
    "import pandas as pd\n",
    "import tensorflow as tf\n",
    "import matplotlib.pyplot as plt\n",
    "import seaborn as sns\n",
    "\n",
    "from tensorflow.keras import Sequential\n",
    "from tensorflow.keras.layers import Dense,DenseFeatures\n",
    "\n",
    "from datetime import date, timedelta, datetime # Date Functions\n",
    "import time\n",
    "\n",
    "\n",
    "from google.cloud import bigquery\n",
    "from sklearn.model_selection import train_test_split\n",
    "from tensorflow.keras import layers\n",
    "from tensorflow.keras.layers.experimental import preprocessing\n",
    "\n",
    "from google.cloud import aiplatform as vertex_ai\n",
    "from tensorflow.python.keras.utils import data_utils\n",
    "\n",
    "tf.__version__"
   ]
  },
  {
   "cell_type": "code",
   "execution_count": 89,
   "id": "d28a9538-ca23-45f0-817b-e4b067cf9ab3",
   "metadata": {},
   "outputs": [],
   "source": [
    "cateCols=['sla','product_type','brand','service_type','incident_type']\n",
    "numbericCols=['open_to_close_hour','response_to_resolved_hour']\n",
    "\n",
    "unusedCols=['severity_id','severity_name','label_binary_severity']\n",
    "labelCol='label_multi_severity'\n",
    "\n",
    "model_dir='model'\n",
    "\n",
    "\n",
    "main_metric='accuracy'\n",
    "main_objective=f'val_{main_metric}'\n",
    "\n",
    "seed=1932\n",
    "\n",
    "nEarlyPatience=11\n",
    "\n",
    "\n",
    "model_tuned_dir='tuned_model'\n",
    "\n",
    "# df['label_multi_severity'] =df['severity_name'].map({'Cosmatic':0,'Minor': 1, \"Major\": 2, \"Critical\": 3}) "
   ]
  },
  {
   "cell_type": "markdown",
   "id": "3c0aa901-563f-4d2c-9203-67175431c32f",
   "metadata": {},
   "source": [
    "# Load Data"
   ]
  },
  {
   "cell_type": "code",
   "execution_count": 90,
   "id": "5ddea3e1-b732-48c4-95fc-637108802a2c",
   "metadata": {},
   "outputs": [
    {
     "name": "stdout",
     "output_type": "stream",
     "text": [
      "[2, 0, 1, 3]\n",
      "No target label : 4\n",
      "<class 'pandas.core.frame.DataFrame'>\n",
      "RangeIndex: 1696 entries, 0 to 1695\n",
      "Data columns (total 8 columns):\n",
      " #   Column                     Non-Null Count  Dtype  \n",
      "---  ------                     --------------  -----  \n",
      " 0   sla                        1696 non-null   object \n",
      " 1   product_type               1696 non-null   object \n",
      " 2   brand                      1696 non-null   object \n",
      " 3   service_type               1696 non-null   object \n",
      " 4   incident_type              1696 non-null   object \n",
      " 5   open_to_close_hour         1696 non-null   float64\n",
      " 6   response_to_resolved_hour  1696 non-null   float64\n",
      " 7   label_multi_severity       1696 non-null   int64  \n",
      "dtypes: float64(2), int64(1), object(5)\n",
      "memory usage: 106.1+ KB\n",
      "None\n"
     ]
    },
    {
     "data": {
      "text/html": [
       "<div>\n",
       "<style scoped>\n",
       "    .dataframe tbody tr th:only-of-type {\n",
       "        vertical-align: middle;\n",
       "    }\n",
       "\n",
       "    .dataframe tbody tr th {\n",
       "        vertical-align: top;\n",
       "    }\n",
       "\n",
       "    .dataframe thead th {\n",
       "        text-align: right;\n",
       "    }\n",
       "</style>\n",
       "<table border=\"1\" class=\"dataframe\">\n",
       "  <thead>\n",
       "    <tr style=\"text-align: right;\">\n",
       "      <th></th>\n",
       "      <th>sla</th>\n",
       "      <th>product_type</th>\n",
       "      <th>brand</th>\n",
       "      <th>service_type</th>\n",
       "      <th>incident_type</th>\n",
       "      <th>open_to_close_hour</th>\n",
       "      <th>response_to_resolved_hour</th>\n",
       "      <th>label_multi_severity</th>\n",
       "    </tr>\n",
       "  </thead>\n",
       "  <tbody>\n",
       "    <tr>\n",
       "      <th>1691</th>\n",
       "      <td>24x7 4Hrs Resolution Time</td>\n",
       "      <td>Firewall</td>\n",
       "      <td>Palo Alto</td>\n",
       "      <td>Incident</td>\n",
       "      <td>Software</td>\n",
       "      <td>13.633333</td>\n",
       "      <td>0.833333</td>\n",
       "      <td>2</td>\n",
       "    </tr>\n",
       "    <tr>\n",
       "      <th>1692</th>\n",
       "      <td>24x7 4Hrs Response Time</td>\n",
       "      <td>Software</td>\n",
       "      <td>Veritas</td>\n",
       "      <td>Incident</td>\n",
       "      <td>General Incident</td>\n",
       "      <td>1.283333</td>\n",
       "      <td>1.000000</td>\n",
       "      <td>2</td>\n",
       "    </tr>\n",
       "    <tr>\n",
       "      <th>1693</th>\n",
       "      <td>24x7 4Hrs Resolution Time</td>\n",
       "      <td>Switch</td>\n",
       "      <td>Cisco</td>\n",
       "      <td>Incident</td>\n",
       "      <td>General Incident</td>\n",
       "      <td>484.750000</td>\n",
       "      <td>271.016667</td>\n",
       "      <td>1</td>\n",
       "    </tr>\n",
       "    <tr>\n",
       "      <th>1694</th>\n",
       "      <td>24x7 4Hrs Resolution Time</td>\n",
       "      <td>Hardware</td>\n",
       "      <td>Oracle</td>\n",
       "      <td>Incident</td>\n",
       "      <td>Hard Disk Drive Failure</td>\n",
       "      <td>25.833333</td>\n",
       "      <td>23.916667</td>\n",
       "      <td>2</td>\n",
       "    </tr>\n",
       "    <tr>\n",
       "      <th>1695</th>\n",
       "      <td>24x7 6Hrs Resolution Time</td>\n",
       "      <td>Software</td>\n",
       "      <td>VMWare</td>\n",
       "      <td>Incident</td>\n",
       "      <td>General Incident</td>\n",
       "      <td>1.416667</td>\n",
       "      <td>1.266667</td>\n",
       "      <td>2</td>\n",
       "    </tr>\n",
       "  </tbody>\n",
       "</table>\n",
       "</div>"
      ],
      "text/plain": [
       "                            sla product_type      brand service_type  \\\n",
       "1691  24x7 4Hrs Resolution Time     Firewall  Palo Alto     Incident   \n",
       "1692    24x7 4Hrs Response Time     Software    Veritas     Incident   \n",
       "1693  24x7 4Hrs Resolution Time       Switch      Cisco     Incident   \n",
       "1694  24x7 4Hrs Resolution Time     Hardware     Oracle     Incident   \n",
       "1695  24x7 6Hrs Resolution Time     Software     VMWare     Incident   \n",
       "\n",
       "                incident_type  open_to_close_hour  response_to_resolved_hour  \\\n",
       "1691                 Software           13.633333                   0.833333   \n",
       "1692         General Incident            1.283333                   1.000000   \n",
       "1693         General Incident          484.750000                 271.016667   \n",
       "1694  Hard Disk Drive Failure           25.833333                  23.916667   \n",
       "1695         General Incident            1.416667                   1.266667   \n",
       "\n",
       "      label_multi_severity  \n",
       "1691                     2  \n",
       "1692                     2  \n",
       "1693                     1  \n",
       "1694                     2  \n",
       "1695                     2  "
      ]
     },
     "execution_count": 90,
     "metadata": {},
     "output_type": "execute_result"
    }
   ],
   "source": [
    "def load_ml_data(data_path):\n",
    " df=pd.read_csv(data_path)\n",
    " df =df.drop(columns=unusedCols)\n",
    " return df\n",
    "    \n",
    "root_path='../../data'    \n",
    "train = load_ml_data(f\"{root_path}/train_incident.csv\")\n",
    "# val=train.copy()\n",
    "val=load_ml_data(f\"{root_path}/validation_incident.csv\")\n",
    "# test =val.copy()\n",
    "test =load_ml_data(f\"{root_path}/test_incident.csv\")\n",
    "\n",
    "labelList=list(train[labelCol].unique())\n",
    "print(labelList)\n",
    "nLabel=len(labelList)\n",
    "print(f\"No target label : {nLabel}\")\n",
    "\n",
    "# sr_predict=df.iloc[-1,:]\n",
    "# df=df.iloc[0:len(df)-1,:]\n",
    "                 \n",
    "print(train.info())\n",
    "train.tail()"
   ]
  },
  {
   "cell_type": "code",
   "execution_count": 91,
   "id": "64adbe5e-d737-45a4-a04e-340a2926ad2d",
   "metadata": {},
   "outputs": [
    {
     "data": {
      "text/html": [
       "<div>\n",
       "<style scoped>\n",
       "    .dataframe tbody tr th:only-of-type {\n",
       "        vertical-align: middle;\n",
       "    }\n",
       "\n",
       "    .dataframe tbody tr th {\n",
       "        vertical-align: top;\n",
       "    }\n",
       "\n",
       "    .dataframe thead th {\n",
       "        text-align: right;\n",
       "    }\n",
       "</style>\n",
       "<table border=\"1\" class=\"dataframe\">\n",
       "  <thead>\n",
       "    <tr style=\"text-align: right;\">\n",
       "      <th></th>\n",
       "      <th>Train-No-Severity</th>\n",
       "      <th>Train-%-Severity</th>\n",
       "      <th>Val-No-Severity</th>\n",
       "      <th>Val-%-Severity</th>\n",
       "      <th>Test-No-Severity</th>\n",
       "      <th>Test-%-Severity</th>\n",
       "    </tr>\n",
       "    <tr>\n",
       "      <th>label_multi_severity</th>\n",
       "      <th></th>\n",
       "      <th></th>\n",
       "      <th></th>\n",
       "      <th></th>\n",
       "      <th></th>\n",
       "      <th></th>\n",
       "    </tr>\n",
       "  </thead>\n",
       "  <tbody>\n",
       "    <tr>\n",
       "      <th>0</th>\n",
       "      <td>305</td>\n",
       "      <td>18.0</td>\n",
       "      <td>35</td>\n",
       "      <td>17.0</td>\n",
       "      <td>42</td>\n",
       "      <td>20.0</td>\n",
       "    </tr>\n",
       "    <tr>\n",
       "      <th>1</th>\n",
       "      <td>487</td>\n",
       "      <td>29.0</td>\n",
       "      <td>54</td>\n",
       "      <td>25.0</td>\n",
       "      <td>68</td>\n",
       "      <td>32.0</td>\n",
       "    </tr>\n",
       "    <tr>\n",
       "      <th>2</th>\n",
       "      <td>812</td>\n",
       "      <td>48.0</td>\n",
       "      <td>111</td>\n",
       "      <td>52.0</td>\n",
       "      <td>96</td>\n",
       "      <td>45.0</td>\n",
       "    </tr>\n",
       "    <tr>\n",
       "      <th>3</th>\n",
       "      <td>92</td>\n",
       "      <td>5.0</td>\n",
       "      <td>12</td>\n",
       "      <td>6.0</td>\n",
       "      <td>6</td>\n",
       "      <td>3.0</td>\n",
       "    </tr>\n",
       "  </tbody>\n",
       "</table>\n",
       "</div>"
      ],
      "text/plain": [
       "                      Train-No-Severity  Train-%-Severity  Val-No-Severity  \\\n",
       "label_multi_severity                                                         \n",
       "0                                   305              18.0               35   \n",
       "1                                   487              29.0               54   \n",
       "2                                   812              48.0              111   \n",
       "3                                    92               5.0               12   \n",
       "\n",
       "                      Val-%-Severity  Test-No-Severity  Test-%-Severity  \n",
       "label_multi_severity                                                     \n",
       "0                               17.0                42             20.0  \n",
       "1                               25.0                68             32.0  \n",
       "2                               52.0                96             45.0  \n",
       "3                                6.0                 6              3.0  "
      ]
     },
     "execution_count": 91,
     "metadata": {},
     "output_type": "execute_result"
    }
   ],
   "source": [
    "def CalPctEachTargetClass(dfx,colSev,colPctSev):\n",
    "    dfClassSummary=dfx.groupby([labelCol]).size().to_frame(colSev)\n",
    "    dfClassSummary[colPctSev]= dfClassSummary[colSev]/dfClassSummary[colSev].sum() *100\n",
    "    dfClassSummary=dfClassSummary.round(0)\n",
    "    return dfClassSummary\n",
    "\n",
    "pctDF1=CalPctEachTargetClass(train,'Train-No-Severity','Train-%-Severity')\n",
    "pctDF2=CalPctEachTargetClass(val,'Val-No-Severity','Val-%-Severity')\n",
    "pdcDF3=CalPctEachTargetClass(test,'Test-No-Severity','Test-%-Severity')\n",
    "pctDF=pd.concat([pctDF1,pctDF2,pdcDF3],axis=1)\n",
    "\n",
    "pctDF"
   ]
  },
  {
   "cell_type": "code",
   "execution_count": 92,
   "id": "c59e9916-6668-4c4e-8974-af63c3f840b0",
   "metadata": {},
   "outputs": [
    {
     "data": {
      "image/png": "[encoded data removed]",
      "text/plain": [
       "<Figure size 1000x600 with 1 Axes>"
      ]
     },
     "metadata": {},
     "output_type": "display_data"
    },
    {
     "data": {
      "image/png": "[encoded data removed]",
      "text/plain": [
       "<Figure size 1000x600 with 1 Axes>"
      ]
     },
     "metadata": {},
     "output_type": "display_data"
    },
    {
     "data": {
      "image/png": "[encoded data removed]",
      "text/plain": [
       "<Figure size 1000x600 with 1 Axes>"
      ]
     },
     "metadata": {},
     "output_type": "display_data"
    }
   ],
   "source": [
    "def plot_class(df):\n",
    "    fig , ax = plt.subplots(figsize=(10,6))\n",
    "    ax =sns.countplot(x=labelCol, data=df,)\n",
    "    for p in ax.patches:\n",
    "       ax.annotate('{:.1f}'.format(p.get_height()), (p.get_x()+0.25, p.get_height()+0.01))\n",
    "    plt.title(labelCol.title())\n",
    "    plt.show()\n",
    "    \n",
    "plot_class(train)\n",
    "plot_class(val)\n",
    "plot_class(test)"
   ]
  },
  {
   "cell_type": "markdown",
   "id": "fa30d3fd-14e9-4c3d-a6aa-45d8114f5362",
   "metadata": {},
   "source": [
    "# Process Data  Layer"
   ]
  },
  {
   "cell_type": "code",
   "execution_count": 93,
   "id": "d9d3a943-09d5-4a43-b8d8-633bc4a90353",
   "metadata": {},
   "outputs": [],
   "source": [
    "def multiple_label_df_to_dataset(dataframe, shuffle=True, batch_size=32):\n",
    "  features = dataframe.copy()\n",
    "  labels = features.pop(labelCol)\n",
    "  labels  = tf.keras.utils.to_categorical(labels, num_classes=nLabel)\n",
    "    \n",
    "  ds = tf.data.Dataset.from_tensor_slices(( dict(features), labels ))\n",
    "  if shuffle:\n",
    "    ds = ds.shuffle(buffer_size=len(features))\n",
    "  ds = ds.batch(batch_size)\n",
    "  ds = ds.prefetch(batch_size)\n",
    "  return ds\n",
    "     \n",
    "     "
   ]
  },
  {
   "cell_type": "code",
   "execution_count": 94,
   "id": "274122c2-9481-438b-b637-6e6ad393d809",
   "metadata": {},
   "outputs": [
    {
     "name": "stdout",
     "output_type": "stream",
     "text": [
      "Explore Data from Tensor before keras data processing\n",
      "========Features==========\n",
      "Every feature: ['sla', 'product_type', 'brand', 'service_type', 'incident_type', 'open_to_close_hour', 'response_to_resolved_hour']\n",
      "product_type: tf.Tensor([b'Server'], shape=(1,), dtype=string)\n",
      "open_to_close_hour: tf.Tensor([6.55], shape=(1,), dtype=float64)\n",
      "========Labels==========\n",
      "[[0. 0. 1. 0.]]\n"
     ]
    }
   ],
   "source": [
    "print(\"Explore Data from Tensor before keras data processing\")\n",
    "batch_size = 1\n",
    "train_ds =multiple_label_df_to_dataset(train, batch_size=batch_size)\n",
    "\n",
    "[(train_features, label_batch)] = train_ds.take(1)\n",
    "print(\"========Features==========\")\n",
    "print('Every feature:', list(train_features.keys()))\n",
    "print('product_type:', train_features['product_type'])\n",
    "print('open_to_close_hour:', train_features['open_to_close_hour'])\n",
    "print(\"========Labels==========\")\n",
    "print(f'{label_batch }')"
   ]
  },
  {
   "cell_type": "code",
   "execution_count": 95,
   "id": "02ad8837-968e-4d68-bdb6-1c7eba97e69c",
   "metadata": {},
   "outputs": [],
   "source": [
    "def get_normalization_layer(name, dataset):\n",
    "  # Create a Normalization layer for our feature.\n",
    "  normalizer = preprocessing.Normalization(axis=None)\n",
    "\n",
    "  # Prepare a Dataset that only yields our feature.\n",
    "  feature_ds = dataset.map(lambda x, y: x[name])\n",
    "\n",
    "  # Learn the statistics of the data.\n",
    "  normalizer.adapt(feature_ds)\n",
    "\n",
    "  return normalizer"
   ]
  },
  {
   "cell_type": "code",
   "execution_count": 96,
   "id": "237bce3c-9c77-4318-8682-fc36af0a6804",
   "metadata": {},
   "outputs": [],
   "source": [
    "def get_category_encoding_layer(name, dataset, dtype, max_tokens=None):\n",
    "  # Create a StringLookup layer which will turn strings into integer indices\n",
    "  if dtype == 'string':\n",
    "    index = preprocessing.StringLookup(max_tokens=max_tokens)\n",
    "  else:\n",
    "    index = preprocessing.IntegerLookup(max_tokens=max_tokens)\n",
    "\n",
    "  # Prepare a Dataset that only yields our feature\n",
    "  feature_ds = dataset.map(lambda x, y: x[name])\n",
    "\n",
    "  # Learn the set of possible values and assign them a fixed integer index.\n",
    "  index.adapt(feature_ds)\n",
    "\n",
    "  # Create a Discretization for our integer indices.\n",
    "  encoder = preprocessing.CategoryEncoding(num_tokens=index.vocabulary_size())\n",
    "\n",
    "  # Apply one-hot encoding to our indices. The lambda function captures the\n",
    "  # layer so we can use them, or include them in the functional model later.\n",
    "  return lambda feature: encoder(index(feature))\n",
    "     "
   ]
  },
  {
   "cell_type": "code",
   "execution_count": 97,
   "id": "4ab6c0ac-ee9b-42f3-b140-a102e8f2f121",
   "metadata": {},
   "outputs": [
    {
     "data": {
      "text/plain": [
       "<tf.Tensor: shape=(1,), dtype=float32, numpy=array([-0.33575836], dtype=float32)>"
      ]
     },
     "execution_count": 97,
     "metadata": {},
     "output_type": "execute_result"
    }
   ],
   "source": [
    "hour_col = train_features['open_to_close_hour']\n",
    "layer = get_normalization_layer('open_to_close_hour', train_ds)\n",
    "layer(hour_col)"
   ]
  },
  {
   "cell_type": "code",
   "execution_count": 98,
   "id": "19c0de50-a1fb-44b9-b91f-555ac779ec40",
   "metadata": {},
   "outputs": [
    {
     "data": {
      "text/plain": [
       "<tf.Tensor: shape=(10,), dtype=float32, numpy=array([0., 0., 1., 0., 0., 0., 0., 0., 0., 0.], dtype=float32)>"
      ]
     },
     "execution_count": 98,
     "metadata": {},
     "output_type": "execute_result"
    }
   ],
   "source": [
    "# total no type+unkonw\n",
    "type_col = train_features['product_type']\n",
    "layer = get_category_encoding_layer('product_type', train_ds, 'string')\n",
    "layer(type_col)"
   ]
  },
  {
   "cell_type": "code",
   "execution_count": 99,
   "id": "a5c78f01-000a-4d3e-9fbf-6f4660cfb75b",
   "metadata": {},
   "outputs": [],
   "source": [
    "batch_size =32\n",
    "train_ds = multiple_label_df_to_dataset (train, batch_size=batch_size)\n",
    "val_ds = multiple_label_df_to_dataset(val, batch_size=batch_size)\n",
    "test_ds = multiple_label_df_to_dataset(test, batch_size=batch_size)\n",
    "# for element in train_ds.as_numpy_iterator():\n",
    "#     print(element)"
   ]
  },
  {
   "cell_type": "code",
   "execution_count": 100,
   "id": "723a69b6-d9c1-49d9-bc81-ed421d8700cb",
   "metadata": {},
   "outputs": [
    {
     "name": "stdout",
     "output_type": "stream",
     "text": [
      "open_to_close_hour\n",
      "response_to_resolved_hour\n",
      "sla\n",
      "product_type\n",
      "brand\n",
      "service_type\n",
      "incident_type\n"
     ]
    }
   ],
   "source": [
    "all_inputs = []\n",
    "encoded_features = []\n",
    "\n",
    "# Numeric features.\n",
    "for header in numbericCols:\n",
    "  print(header)  \n",
    "  numeric_col = tf.keras.Input(shape=(1,), name=header)\n",
    "  normalization_layer = get_normalization_layer(header, train_ds)\n",
    "  encoded_numeric_col = normalization_layer(numeric_col)\n",
    "  all_inputs.append(numeric_col)\n",
    "  encoded_features.append(encoded_numeric_col)\n",
    "    \n",
    "    # Categorical features encoded as string.\n",
    "categorical_cols = cateCols\n",
    "for header in categorical_cols:\n",
    "  print(header)  \n",
    "  categorical_col = tf.keras.Input(shape=(1,), name=header, dtype='string')\n",
    "  encoding_layer = get_category_encoding_layer(header, train_ds, dtype='string')\n",
    "                                        \n",
    "  encoded_categorical_col = encoding_layer(categorical_col)\n",
    "  all_inputs.append(categorical_col)\n",
    "  encoded_features.append(encoded_categorical_col)\n"
   ]
  },
  {
   "cell_type": "code",
   "execution_count": null,
   "id": "78419953-d126-4562-afe4-8b85c938a148",
   "metadata": {},
   "outputs": [],
   "source": []
  },
  {
   "cell_type": "code",
   "execution_count": null,
   "id": "48f85f8a-4471-44e1-a389-102232c296e7",
   "metadata": {},
   "outputs": [],
   "source": []
  },
  {
   "cell_type": "markdown",
   "id": "aa733595-628e-4a07-a6b8-719995fa535b",
   "metadata": {},
   "source": [
    "# Build and Train and Eveluate and Plot Result"
   ]
  },
  {
   "cell_type": "code",
   "execution_count": 101,
   "id": "ee6ca53e-78d8-400e-a48e-cdcb93d2030f",
   "metadata": {},
   "outputs": [],
   "source": [
    "def plot_metrics(history):\n",
    "  plt.figure(figsize=(15,8))\n",
    "  colors = plt.rcParams['axes.prop_cycle'].by_key()['color']  \n",
    "  metrics =  ['loss', main_metric]\n",
    "  for n, metric in enumerate(metrics):\n",
    "    name = metric.replace(\"_\",\" \").capitalize()\n",
    "    plt.subplot(2,2,n+1)\n",
    "    plt.plot(history.epoch,  history.history[metric], color=colors[0], label='Train')\n",
    "    plt.plot(history.epoch, history.history['val_'+metric],\n",
    "             color=colors[0], linestyle=\"--\", label='Val')\n",
    "    plt.xlabel('Epoch')\n",
    "    plt.ylabel(name)\n",
    "    if metric == 'loss':\n",
    "      plt.ylim([0, plt.ylim()[1]])\n",
    "    elif metric == 'auc':\n",
    "      plt.ylim([0.8,1])\n",
    "    else:\n",
    "      plt.ylim([0,1])\n",
    "\n",
    "    plt.legend()"
   ]
  },
  {
   "cell_type": "code",
   "execution_count": 104,
   "id": "0f6af5c9-fc24-486a-bdd7-f6c4730dd236",
   "metadata": {},
   "outputs": [],
   "source": [
    "# def build_model(num_units_1,num_units_layer2, dropout_rate):\n",
    "def build_model(num_units_layer1, dropout_rate,learningRate):\n",
    "    all_features = tf.keras.layers.concatenate(encoded_features)\n",
    "    x = tf.keras.layers.Dense(num_units_layer1, activation=\"relu\")(all_features)\n",
    "    x = tf.keras.layers.Dropout(dropout_rate)(x)\n",
    "\n",
    "    output = tf.keras.layers.Dense(nLabel,activation=tf.nn.softmax)(x)\n",
    "\n",
    "    model = tf.keras.Model(all_inputs, output)\n",
    "\n",
    "    model.compile(optimizer=tf.keras.optimizers.Adam(learning_rate=learningRate),\n",
    "                  loss=tf.keras.losses.CategoricalCrossentropy(),metrics=[main_metric])\n",
    "    return model\n",
    "\n",
    "# METRICS = [\n",
    "#       keras.metrics.BinaryAccuracy(name='accuracy'),\n",
    "#       keras.metrics.Precision(name='precision'),\n",
    "#       keras.metrics.Recall(name='recall'),\n",
    "#       keras.metrics.AUC(name='auc'),\n",
    "# ]\n",
    "\n",
    "def train_model(model,x_epochs,x_batch_size):  \n",
    "    # model.summary()\n",
    "    early_stopping = tf.keras.callbacks.EarlyStopping(monitor='val_loss', patience=nEarlyPatience, verbose=1)\n",
    "    history =model.fit(train_ds, validation_data=val_ds,epochs=x_epochs,batch_size=x_batch_size)\n",
    "    return history\n",
    "  \n",
    "\n"
   ]
  },
  {
   "cell_type": "markdown",
   "id": "c3816a15-6688-4c87-9d20-e5fc45d48d11",
   "metadata": {},
   "source": [
    "# Test Run Model"
   ]
  },
  {
   "cell_type": "code",
   "execution_count": 105,
   "id": "25688a22-05f5-4cac-b662-d261b5dcfb78",
   "metadata": {},
   "outputs": [
    {
     "name": "stdout",
     "output_type": "stream",
     "text": [
      "1#Build model\n",
      "2#Train model\n",
      "Epoch 1/47\n",
      "53/53 [==============================] - 3s 17ms/step - loss: 0.8599 - accuracy: 0.6303 - val_loss: 0.6837 - val_accuracy: 0.7311\n",
      "Epoch 2/47\n",
      "53/53 [==============================] - 0s 5ms/step - loss: 0.7084 - accuracy: 0.7040 - val_loss: 0.6637 - val_accuracy: 0.7642\n",
      "Epoch 3/47\n",
      "53/53 [==============================] - 0s 5ms/step - loss: 0.6656 - accuracy: 0.7258 - val_loss: 0.6614 - val_accuracy: 0.7547\n",
      "Epoch 4/47\n",
      "53/53 [==============================] - 0s 6ms/step - loss: 0.6344 - accuracy: 0.7358 - val_loss: 0.7075 - val_accuracy: 0.7406\n",
      "Epoch 5/47\n",
      "53/53 [==============================] - 0s 6ms/step - loss: 0.6291 - accuracy: 0.7435 - val_loss: 0.6787 - val_accuracy: 0.7783\n",
      "Epoch 6/47\n",
      "53/53 [==============================] - 0s 6ms/step - loss: 0.6130 - accuracy: 0.7500 - val_loss: 0.7025 - val_accuracy: 0.7736\n",
      "Epoch 7/47\n",
      "53/53 [==============================] - 0s 7ms/step - loss: 0.5962 - accuracy: 0.7518 - val_loss: 0.6836 - val_accuracy: 0.7689\n",
      "Epoch 8/47\n",
      "53/53 [==============================] - 0s 8ms/step - loss: 0.5812 - accuracy: 0.7583 - val_loss: 0.7157 - val_accuracy: 0.7689\n",
      "Epoch 9/47\n",
      "53/53 [==============================] - 0s 7ms/step - loss: 0.5830 - accuracy: 0.7618 - val_loss: 0.7083 - val_accuracy: 0.7736\n",
      "Epoch 10/47\n",
      "53/53 [==============================] - 0s 6ms/step - loss: 0.5751 - accuracy: 0.7588 - val_loss: 0.7525 - val_accuracy: 0.7642\n",
      "Epoch 11/47\n",
      "53/53 [==============================] - 0s 6ms/step - loss: 0.5621 - accuracy: 0.7695 - val_loss: 0.7782 - val_accuracy: 0.7264\n",
      "Epoch 12/47\n",
      "53/53 [==============================] - 0s 6ms/step - loss: 0.5585 - accuracy: 0.7612 - val_loss: 0.7678 - val_accuracy: 0.7689\n",
      "Epoch 13/47\n",
      "53/53 [==============================] - 0s 6ms/step - loss: 0.5595 - accuracy: 0.7812 - val_loss: 0.7941 - val_accuracy: 0.7783\n",
      "Epoch 14/47\n",
      "53/53 [==============================] - 0s 6ms/step - loss: 0.5525 - accuracy: 0.7771 - val_loss: 0.7791 - val_accuracy: 0.7736\n",
      "Epoch 15/47\n",
      "53/53 [==============================] - 0s 6ms/step - loss: 0.5588 - accuracy: 0.7706 - val_loss: 0.7941 - val_accuracy: 0.7358\n",
      "Epoch 16/47\n",
      "53/53 [==============================] - 0s 5ms/step - loss: 0.5397 - accuracy: 0.7812 - val_loss: 0.8050 - val_accuracy: 0.7689\n",
      "Epoch 17/47\n",
      "53/53 [==============================] - 0s 5ms/step - loss: 0.5436 - accuracy: 0.7801 - val_loss: 0.7706 - val_accuracy: 0.7406\n",
      "Epoch 18/47\n",
      "53/53 [==============================] - 0s 6ms/step - loss: 0.5307 - accuracy: 0.7789 - val_loss: 0.7625 - val_accuracy: 0.7642\n",
      "Epoch 19/47\n",
      "53/53 [==============================] - 0s 6ms/step - loss: 0.5465 - accuracy: 0.7736 - val_loss: 0.7923 - val_accuracy: 0.7689\n",
      "Epoch 20/47\n",
      "53/53 [==============================] - 0s 6ms/step - loss: 0.5439 - accuracy: 0.7836 - val_loss: 0.7946 - val_accuracy: 0.7642\n",
      "Epoch 21/47\n",
      "53/53 [==============================] - 0s 6ms/step - loss: 0.5298 - accuracy: 0.7759 - val_loss: 0.8338 - val_accuracy: 0.7642\n",
      "Epoch 22/47\n",
      "53/53 [==============================] - 0s 6ms/step - loss: 0.5315 - accuracy: 0.7706 - val_loss: 0.8581 - val_accuracy: 0.7453\n",
      "Epoch 23/47\n",
      "53/53 [==============================] - 0s 6ms/step - loss: 0.5393 - accuracy: 0.7783 - val_loss: 0.8463 - val_accuracy: 0.7547\n",
      "Epoch 24/47\n",
      "53/53 [==============================] - 0s 7ms/step - loss: 0.5224 - accuracy: 0.7860 - val_loss: 0.8283 - val_accuracy: 0.7642\n",
      "Epoch 25/47\n",
      "53/53 [==============================] - 0s 7ms/step - loss: 0.5177 - accuracy: 0.7848 - val_loss: 0.8534 - val_accuracy: 0.7689\n",
      "Epoch 26/47\n",
      "53/53 [==============================] - 0s 7ms/step - loss: 0.5246 - accuracy: 0.7754 - val_loss: 0.8566 - val_accuracy: 0.7689\n",
      "Epoch 27/47\n",
      "53/53 [==============================] - 0s 7ms/step - loss: 0.5235 - accuracy: 0.7754 - val_loss: 0.8428 - val_accuracy: 0.7642\n",
      "Epoch 28/47\n",
      "53/53 [==============================] - 0s 6ms/step - loss: 0.5172 - accuracy: 0.7848 - val_loss: 0.8798 - val_accuracy: 0.7358\n",
      "Epoch 29/47\n",
      "53/53 [==============================] - 0s 6ms/step - loss: 0.5105 - accuracy: 0.7901 - val_loss: 0.8754 - val_accuracy: 0.7689\n",
      "Epoch 30/47\n",
      "53/53 [==============================] - 0s 6ms/step - loss: 0.5161 - accuracy: 0.7889 - val_loss: 0.8500 - val_accuracy: 0.7736\n",
      "Epoch 31/47\n",
      "53/53 [==============================] - 0s 6ms/step - loss: 0.5059 - accuracy: 0.7848 - val_loss: 0.8902 - val_accuracy: 0.7642\n",
      "Epoch 32/47\n",
      "53/53 [==============================] - 0s 6ms/step - loss: 0.5161 - accuracy: 0.7901 - val_loss: 0.9417 - val_accuracy: 0.7689\n",
      "Epoch 33/47\n",
      "53/53 [==============================] - 0s 6ms/step - loss: 0.5070 - accuracy: 0.7871 - val_loss: 0.8882 - val_accuracy: 0.7264\n",
      "Epoch 34/47\n",
      "53/53 [==============================] - 0s 6ms/step - loss: 0.5051 - accuracy: 0.7818 - val_loss: 0.8995 - val_accuracy: 0.7736\n",
      "Epoch 35/47\n",
      "53/53 [==============================] - 0s 7ms/step - loss: 0.5024 - accuracy: 0.7930 - val_loss: 0.8811 - val_accuracy: 0.7500\n",
      "Epoch 36/47\n",
      "53/53 [==============================] - 0s 7ms/step - loss: 0.5107 - accuracy: 0.7860 - val_loss: 0.8954 - val_accuracy: 0.7736\n",
      "Epoch 37/47\n",
      "53/53 [==============================] - 0s 7ms/step - loss: 0.4949 - accuracy: 0.7972 - val_loss: 0.9315 - val_accuracy: 0.7642\n",
      "Epoch 38/47\n",
      "53/53 [==============================] - 1s 10ms/step - loss: 0.4937 - accuracy: 0.7960 - val_loss: 0.9587 - val_accuracy: 0.7406\n",
      "Epoch 39/47\n",
      "53/53 [==============================] - 1s 11ms/step - loss: 0.5072 - accuracy: 0.7913 - val_loss: 0.9301 - val_accuracy: 0.7453\n",
      "Epoch 40/47\n",
      "53/53 [==============================] - 1s 11ms/step - loss: 0.5094 - accuracy: 0.7930 - val_loss: 0.9829 - val_accuracy: 0.7264\n",
      "Epoch 41/47\n",
      "53/53 [==============================] - 1s 13ms/step - loss: 0.4952 - accuracy: 0.7936 - val_loss: 0.9788 - val_accuracy: 0.7594\n",
      "Epoch 42/47\n",
      "53/53 [==============================] - 1s 13ms/step - loss: 0.4891 - accuracy: 0.7954 - val_loss: 0.9647 - val_accuracy: 0.7217\n",
      "Epoch 43/47\n",
      "53/53 [==============================] - 1s 10ms/step - loss: 0.4985 - accuracy: 0.7972 - val_loss: 0.9868 - val_accuracy: 0.7406\n",
      "Epoch 44/47\n",
      "53/53 [==============================] - 1s 10ms/step - loss: 0.4924 - accuracy: 0.7907 - val_loss: 0.9580 - val_accuracy: 0.7406\n",
      "Epoch 45/47\n",
      "53/53 [==============================] - 1s 12ms/step - loss: 0.4996 - accuracy: 0.7860 - val_loss: 0.9527 - val_accuracy: 0.7736\n",
      "Epoch 46/47\n",
      "53/53 [==============================] - 1s 9ms/step - loss: 0.4973 - accuracy: 0.8007 - val_loss: 0.9537 - val_accuracy: 0.7689\n",
      "Epoch 47/47\n",
      "53/53 [==============================] - 0s 9ms/step - loss: 0.5079 - accuracy: 0.7866 - val_loss: 0.9034 - val_accuracy: 0.7736\n",
      "=============================================================================\n",
      "3#Evaluate model\n",
      "7/7 [==============================] - 0s 8ms/step - loss: 0.9034 - accuracy: 0.7736\n",
      "Average Accuracy on Eveluation 0.7735849022865295\n",
      "7/7 [==============================] - 0s 7ms/step - loss: 0.9630 - accuracy: 0.7075\n",
      "=============================================================================\n",
      "Average Accuracy  on Test 0.7075471878051758\n",
      "4#Explore Result model\n",
      "=============================================================================\n"
     ]
    },
    {
     "data": {
      "image/png": "[encoded data removed]",
      "text/plain": [
       "<Figure size 1500x800 with 2 Axes>"
      ]
     },
     "metadata": {},
     "output_type": "display_data"
    }
   ],
   "source": [
    "print(\"1#Build model\")\n",
    "\n",
    "# {'units': 128, 'Dropout_rate': 0.1, 'learning_rate': 0.01}\n",
    "#Eveluation on Val-Data at 47 epochs : loss=1.0402859449386597 and accuracy= 0.7405660152435303\n",
    "#Evaluation on Test-Data at 47 epochs : loss=0.8831631541252136 and accuracy= 0.7311320900917053\n",
    "\n",
    "model=build_model(128,0.1,0.01)\n",
    "\n",
    "print(\"2#Train model\")\n",
    "history=train_model(model,47,32)\n",
    "print(\"=============================================================================\")\n",
    "print(\"3#Evaluate model\")\n",
    "loss, accuracy = model.evaluate(val_ds)\n",
    "print(\"Average Accuracy on Eveluation\", accuracy)\n",
    "loss, accuracy = model.evaluate(test_ds)\n",
    "print(\"=============================================================================\")\n",
    "print(\"Average Accuracy  on Test\", accuracy)\n",
    "print(\"4#Explore Result model\")\n",
    "plot_metrics(history)\n",
    "print(\"=============================================================================\")\n"
   ]
  },
  {
   "cell_type": "code",
   "execution_count": null,
   "id": "499f77f8-03ed-4485-b0e6-7f6f5da16223",
   "metadata": {},
   "outputs": [],
   "source": []
  },
  {
   "cell_type": "markdown",
   "id": "5a67b13a-63e9-4e8e-afae-b18a6cb0426b",
   "metadata": {},
   "source": [
    "# Save Model"
   ]
  },
  {
   "cell_type": "code",
   "execution_count": 84,
   "id": "6fb8a1e7-3e2d-4ff6-9fd1-65a1a8ed8b1c",
   "metadata": {},
   "outputs": [
    {
     "name": "stderr",
     "output_type": "stream",
     "text": [
      "WARNING:absl:Found untraced functions such as _update_step_xla while saving (showing 1 of 1). These functions will not be directly callable after loading.\n"
     ]
    },
    {
     "name": "stdout",
     "output_type": "stream",
     "text": [
      "INFO:tensorflow:Assets written to: model\\assets\n"
     ]
    },
    {
     "name": "stderr",
     "output_type": "stream",
     "text": [
      "INFO:tensorflow:Assets written to: model\\assets\n"
     ]
    }
   ],
   "source": [
    "model.save(model_dir)\n"
   ]
  },
  {
   "cell_type": "code",
   "execution_count": null,
   "id": "ab8f677c-dfa2-48b5-b980-6cc10f2e0033",
   "metadata": {},
   "outputs": [],
   "source": [
    "\n"
   ]
  },
  {
   "cell_type": "code",
   "execution_count": 85,
   "id": "9db2353b-b178-4e97-9ca8-ca5550569793",
   "metadata": {},
   "outputs": [],
   "source": [
    "\n",
    "reloaded_model = tf.keras.models.load_model(model_dir)\n",
    "\n"
   ]
  },
  {
   "cell_type": "code",
   "execution_count": 86,
   "id": "dd916787-bacc-4537-b2b6-1c6d62932de8",
   "metadata": {},
   "outputs": [
    {
     "name": "stdout",
     "output_type": "stream",
     "text": [
      "{'sla': '24x7 4Hrs Response Time', 'product_type': 'Server', 'brand': 'VMWare', 'service_type': 'Incident', 'incident_type': 'General Incident', 'open_to_close_hour': 10, 'response_to_resolved_hour': 6.0}\n",
      "===============================================================================================================\n",
      "convert pain data to serdor as input to predict\n",
      "{'sla': <tf.Tensor: shape=(1,), dtype=string, numpy=array([b'24x7 4Hrs Response Time'], dtype=object)>, 'product_type': <tf.Tensor: shape=(1,), dtype=string, numpy=array([b'Server'], dtype=object)>, 'brand': <tf.Tensor: shape=(1,), dtype=string, numpy=array([b'VMWare'], dtype=object)>, 'service_type': <tf.Tensor: shape=(1,), dtype=string, numpy=array([b'Incident'], dtype=object)>, 'incident_type': <tf.Tensor: shape=(1,), dtype=string, numpy=array([b'General Incident'], dtype=object)>, 'open_to_close_hour': <tf.Tensor: shape=(1,), dtype=int32, numpy=array([10])>, 'response_to_resolved_hour': <tf.Tensor: shape=(1,), dtype=float32, numpy=array([6.], dtype=float32)>}\n",
      "1/1 [==============================] - 1s 545ms/step\n",
      "[[0.00718174 0.15063256 0.832291   0.00989467]]\n",
      "[50.179543 53.758705 69.683914 50.247364] %  as Severity\n"
     ]
    }
   ],
   "source": [
    "#label_multi_severity\n",
    "sample={\"sla\":\"24x7 4Hrs Response Time\",\n",
    "        \"product_type\":\"Server\",\n",
    "        \"brand\":\"VMWare\",                \n",
    "        \"service_type\":\"Incident\",\n",
    "        \"incident_type\":\"General Incident\",\n",
    "        \"open_to_close_hour\":10,\n",
    "        \"response_to_resolved_hour\":6.000000 \\\n",
    "       }\n",
    "\n",
    "print(sample)\n",
    "              \n",
    "print(\"===============================================================================================================\")    \n",
    "print(\"convert pain data to serdor as input to predict\")    \n",
    "input_dict = {name: tf.convert_to_tensor([value]) for name, value in sample.items()}\n",
    "print(input_dict)\n",
    "\n",
    "predictionList = reloaded_model.predict(input_dict)\n",
    "print(predictionList)\n",
    "prob = tf.nn.sigmoid(predictionList[0])\n",
    "print(f\"{(100 * prob)} %  as Severity\")   "
   ]
  },
  {
   "cell_type": "markdown",
   "id": "c5587682-2265-4eff-985f-ca1f7852ddf4",
   "metadata": {},
   "source": [
    "# Copy Model From Local To GCS"
   ]
  },
  {
   "cell_type": "code",
   "execution_count": 94,
   "id": "eaabd3ac-47ad-43ae-b6e5-fc16fecec238",
   "metadata": {},
   "outputs": [
    {
     "name": "stderr",
     "output_type": "stream",
     "text": [
      "Copying file://.\\model\\saved_model.pb [Content-Type=application/octet-stream]...\n",
      "Copying file://.\\model\\variables\\variables.data-00000-of-00001 [Content-Type=application/octet-stream]...\n",
      "/ [0/5 files][    0.0 B/527.8 KiB]   0% Done                                    \n",
      "/ [0/5 files][    0.0 B/527.8 KiB]   0% Done                                    \n",
      "Copying file://.\\model\\fingerprint.pb [Content-Type=application/octet-stream]...\n",
      "Copying file://.\\model\\keras_metadata.pb [Content-Type=application/octet-stream]...\n",
      "/ [0/5 files][    0.0 B/527.8 KiB]   0% Done                                    \n",
      "/ [0/5 files][    0.0 B/527.8 KiB]   0% Done                                    \n",
      "Copying file://.\\model\\variables\\variables.index [Content-Type=application/octet-stream]...\n",
      "/ [0/5 files][    0.0 B/527.8 KiB]   0% Done                                    \n",
      "/ [1/5 files][ 97.0 KiB/527.8 KiB]  18% Done                                    \n",
      "/ [2/5 files][ 97.0 KiB/527.8 KiB]  18% Done                                    \n",
      "/ [3/5 files][ 97.0 KiB/527.8 KiB]  18% Done                                    \n",
      "/ [4/5 files][ 97.0 KiB/527.8 KiB]  18% Done                                    \n",
      "-\n",
      "- [5/5 files][527.8 KiB/527.8 KiB] 100% Done                                    \n",
      "\n",
      "Operation completed over 5 objects/527.8 KiB.                                    \n"
     ]
    }
   ],
   "source": [
    "#https://codelabs.developers.google.com/codelabs/fraud-detection-ai-explanations?hl=en#6\n",
    "press_y3=input(f\"Press y=True to save model to Google Cloud storage : \") \n",
    "if press_y3.lower()=='y':\n",
    "    MODEL_BUCKET = 'gs://tf1-incident-pongthorn'\n",
    "    MODEL_NAME = 'tf1_incident_multi_model'\n",
    "\n",
    "# !gsutil mb -l $REGION $MODEL_BUCKET\n",
    "# !gsutil -m cp -r ./$model_dir/* $MODEL_BUCKET/model\n",
    "else:\n",
    " quite()\n"
   ]
  },
  {
   "cell_type": "markdown",
   "id": "9fc32a07-c2fc-4ff6-a771-fc3532630f01",
   "metadata": {},
   "source": [
    "# Import Model to Vertex AI"
   ]
  },
  {
   "cell_type": "code",
   "execution_count": null,
   "id": "3b9774f1-2293-43db-9464-47ea7f44b540",
   "metadata": {},
   "outputs": [],
   "source": [
    "# https://cloud.google.com/vertex-ai/docs/model-registry/import-model#get-operation\n",
    "\n",
    "#https://codelabs.developers.google.com/vertex-p2p-predictions#3\n",
    "# Import model manually\n",
    "#https://console.cloud.google.com/vertex-ai/models?project=pongthorn\n",
    "# Upload wand wait for vertex to complete process (Email notification)\n",
    "# if run package ( you need to specify precuild-pacage\n",
    "\n",
    "\n",
    "#Import model programactically\n",
    "# https://cloud.google.com/vertex-ai/docs/predictions/pre-built-containers\n",
    "\n",
    "# from google.cloud import aiplatform\n",
    "# DEPLOY_IMAGE = \"asia-docker.pkg.dev/vertex-ai/prediction/xgboost-cpu.1-6:latest\"\n",
    "\n",
    "# model = aip.Model.upload(\n",
    "#     display_name=\"ponghthorn_xgb_\" + TIMESTAMP,\n",
    "#     artifact_uri=MODEL_DIR,\n",
    "#     serving_container_image_uri=DEPLOY_IMAGE,\n",
    "#     sync=False,\n",
    "# )\n",
    "\n",
    "# model.wait()\n"
   ]
  },
  {
   "cell_type": "markdown",
   "id": "2792371f-3e81-4717-95f5-4acff020cfb3",
   "metadata": {},
   "source": [
    "# Deploy Model to EndPoint"
   ]
  },
  {
   "cell_type": "code",
   "execution_count": null,
   "id": "2fbcd51c-0dce-4b75-bc53-70539c352ba5",
   "metadata": {},
   "outputs": [],
   "source": [
    "#https://codelabs.developers.google.com/vertex-p2p-predictions#4\n",
    "# Manual\n",
    "\n",
    "# Program\n",
    "# my_model = aiplatform.Model(\"projects/{PROJECT_NUMBER}/locations/us-central1/models/{MODEL_ID}\") \n",
    "\n",
    "# endpoint = my_model.deploy(\n",
    "#      deployed_model_display_name='my-endpoint',\n",
    "#      traffic_split={\"0\": 100},\n",
    "#      machine_type=\"n1-standard-4\",\n",
    "#      accelerator_count=0,\n",
    "#      min_replica_count=1,\n",
    "#      max_replica_count=1,\n",
    "#    )"
   ]
  },
  {
   "cell_type": "code",
   "execution_count": null,
   "id": "5a601d87-b648-4eea-b2de-b85b7723c5ba",
   "metadata": {},
   "outputs": [],
   "source": []
  },
  {
   "cell_type": "code",
   "execution_count": 95,
   "id": "20082661-dc7f-414b-a759-3478163adcdf",
   "metadata": {},
   "outputs": [],
   "source": [
    "# Deploy to AIPlatform (Deprecated)\n",
    "# MODEL = MODEL_NAME\n",
    "# VERSION = 'v1'\n",
    "# model_path = MODEL_BUCKET + '/model'\n",
    "\n",
    "# # !gcloud ai-platform models create $MODEL --region=$REGION\n",
    "\n",
    "# MACHINE_TYPE='n1-standard-2'\n",
    "\n",
    "# !gcloud  ai-platform versions create $VERSION --model $MODEL --origin $model_path --runtime-version 2.11 --framework TENSORFLOW --machine-type $MACHINE_TYPE --python-version 3.7 --region=$REGION\n",
    "# !gcloud ai-platform versions describe $VERSION --model $MODEL --region=$REGION"
   ]
  },
  {
   "cell_type": "code",
   "execution_count": 107,
   "id": "6465851a-f078-41a2-991c-80a71d3e695d",
   "metadata": {},
   "outputs": [],
   "source": [
    "\n"
   ]
  },
  {
   "cell_type": "code",
   "execution_count": null,
   "id": "6c0f6c5d-3ea4-4fae-ba78-b8decf134a92",
   "metadata": {},
   "outputs": [],
   "source": []
  },
  {
   "cell_type": "code",
   "execution_count": null,
   "id": "ff433f46-0e98-48ec-8b32-25b840541253",
   "metadata": {},
   "outputs": [],
   "source": []
  }
 ],
 "metadata": {
  "kernelspec": {
   "display_name": "Python 3 (ipykernel)",
   "language": "python",
   "name": "python3"
  },
  "language_info": {
   "codemirror_mode": {
    "name": "ipython",
    "version": 3
   },
   "file_extension": ".py",
   "mimetype": "text/x-python",
   "name": "python",
   "nbconvert_exporter": "python",
   "pygments_lexer": "ipython3",
   "version": "3.9.16"
  }
 },
 "nbformat": 4,
 "nbformat_minor": 5
}
