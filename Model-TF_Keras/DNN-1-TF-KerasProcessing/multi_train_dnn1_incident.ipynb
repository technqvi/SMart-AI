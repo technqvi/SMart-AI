{
 "cells": [
  {
   "cell_type": "code",
   "execution_count": 1,
   "id": "efd54814-e227-4302-9a81-3d6ddcf0e9a5",
   "metadata": {
    "tags": []
   },
   "outputs": [
    {
     "name": "stdout",
     "output_type": "stream",
     "text": [
      "2.12.0\n",
      "1.31.1\n"
     ]
    }
   ],
   "source": [
    "# import necessary libraries\n",
    "\n",
    "# processing laryer\n",
    "#https://github.com/GoogleCloudPlatform/training-data-analyst/blob/master/courses/machine_learning/deepdive2/introduction_to_tensorflow/solutions/preprocessing_layers.ipynb\n",
    "#http://localhost:8888/lab/tree/MyQuantFinProject/SMart-AI/_sample_tf_google/tfcolumn_basic_feat_eng.ipynb\n",
    "\n",
    "# others\n",
    "#https://github.com/GoogleCloudPlatform/vertex-ai-samples/blob/main/notebooks/official/custom/custom-tabular-bq-managed-dataset.ipynb\n",
    "#https://github.com/GoogleCloudPlatform/training-data-analyst/blob/master/courses/machine_learning/deepdive2/introduction_to_tensorflow/solutions/int_logistic_regression.ipynb\n",
    "#http://localhost:8888/lab/tree/MyQuantFinProject/SMart-AI/DemoDataTransform.ipynb\n",
    "\n",
    "# tensorboard get start and all tutorial\n",
    "#https://www.tensorflow.org/tensorboard/get_started\n",
    "# https://www.tensorflow.org/tensorboard/scalars_and_keras\n",
    "#https://keras.io/api/callbacks/tensorboard/ \n",
    "# https://medium.com/mpercept-academy/working-with-tensorboard-on-keras-callbacks-b8d680d451e7\n",
    "\n",
    "#https://pair-code.github.io/lit/\n",
    "\n",
    "import math\n",
    "\n",
    "import numpy as np\n",
    "import pandas as pd\n",
    "import tensorflow as tf\n",
    "import matplotlib.pyplot as plt\n",
    "import seaborn as sns\n",
    "\n",
    "from tensorflow.keras import Sequential\n",
    "from tensorflow.keras.layers import Dense,DenseFeatures\n",
    "\n",
    "from datetime import date, timedelta, datetime # Date Functions\n",
    "import time\n",
    "\n",
    "\n",
    "import os\n",
    "\n",
    "import google.cloud.aiplatform as aip\n",
    "\n",
    "\n",
    "from google.cloud import bigquery\n",
    "from google.oauth2 import service_account\n",
    "from sklearn.model_selection import train_test_split\n",
    "from tensorflow.keras import layers\n",
    "from tensorflow.keras.layers.experimental import preprocessing\n",
    "\n",
    "# from google.cloud import aiplatform as vertex_ai\n",
    "from tensorflow.python.keras.utils import data_utils\n",
    "\n",
    "print(tf.__version__)\n",
    "print(aip.__version__)\n",
    "\n"
   ]
  },
  {
   "cell_type": "code",
   "execution_count": 3,
   "id": "25a2aab1-6f61-4737-8da7-a857ba866198",
   "metadata": {
    "tags": []
   },
   "outputs": [],
   "source": [
    "# Load the TensorBoard notebook extension.\n",
    "#%load_ext tensorboard\n",
    "%reload_ext tensorboard"
   ]
  },
  {
   "cell_type": "code",
   "execution_count": 4,
   "id": "d9f37a96-65e0-44be-ac95-ecfdc58b6292",
   "metadata": {
    "tags": []
   },
   "outputs": [],
   "source": [
    "cateCols=['sla','product_type','brand','service_type','incident_type']\n",
    "numbericCols=['open_to_close_hour','response_to_resolved_hour']\n",
    "unusedCols=['severity_id','severity_name','label_binary_severity']\n",
    "\n",
    "# cateCols=['sla','product_type','service_type','incident_type']\n",
    "# numbericCols=['open_to_close_hour']\n",
    "# unusedCols=['severity_id','severity_name','label_binary_severity','brand','response_to_resolved_hour']\n",
    "\n",
    "labelCol='label_multi_severity'\n",
    "\n",
    "model_dir='model_v2' # production\n",
    "# model_dir='gs://demo2-tf-incident-pongthorn/demo_model_tf' # demo\n",
    "\n",
    "main_metric='accuracy'\n",
    "main_objective=f'val_{main_metric}'\n",
    "\n",
    "n_epochs= 200 #100\n",
    "n_batch_size=32\n",
    "nEarlyPatience= int(n_epochs/10)+1  # 10\n",
    "\n",
    "tsb_path=\"tsb_logs/fit/\"\n",
    "\n",
    "# df['label_multi_severity'] =df['severity_name'].map({'Cosmatic':0,'Minor': 1, \"Major\": 2, \"Critical\": 3}) "
   ]
  },
  {
   "cell_type": "code",
   "execution_count": 5,
   "id": "89051a07-8d7f-476c-ab6b-1d2216074122",
   "metadata": {
    "tags": []
   },
   "outputs": [],
   "source": [
    "# Load data from BigQuery\n",
    "#projectId='smart-data-ml'\n",
    "# credentials = service_account.Credentials.from_service_account_file(r'C:\\Windows\\smart-data-ml-91b6f6204773.json')\n",
    "# client = bigquery.Client(credentials=credentials, project=projectId)\n",
    "\n",
    "projectId='pongthorn'\n",
    "client = bigquery.Client(project=projectId)\n",
    "dataset_id='SMartML'\n",
    "\n",
    "train_name='train_incident'\n",
    "validation_name='validation_incident'\n",
    "test_name='test_incident'"
   ]
  },
  {
   "cell_type": "markdown",
   "id": "3c0aa901-563f-4d2c-9203-67175431c32f",
   "metadata": {},
   "source": [
    "# Load Data"
   ]
  },
  {
   "cell_type": "code",
   "execution_count": 6,
   "id": "c09b03b7-3e9d-4f25-b8c8-5d8cd615afce",
   "metadata": {
    "tags": []
   },
   "outputs": [],
   "source": [
    "def load_ml_data(data_path):\n",
    " df=pd.read_csv(data_path)\n",
    " df =df.drop(columns=unusedCols)\n",
    " \n",
    " return df\n",
    "\n",
    "def load_data_bq(sql:str):\n",
    " \n",
    " query_result=client.query(sql)\n",
    " df=query_result.to_dataframe()\n",
    " df =df.drop(columns=unusedCols)\n",
    "  \n",
    " return df"
   ]
  },
  {
   "cell_type": "code",
   "execution_count": 7,
   "id": "5ddea3e1-b732-48c4-95fc-637108802a2c",
   "metadata": {
    "tags": []
   },
   "outputs": [
    {
     "name": "stdout",
     "output_type": "stream",
     "text": [
      "(2731, 8)\n",
      "(341, 8)\n",
      "(342, 8)\n"
     ]
    }
   ],
   "source": [
    "train_table_id=f\"{projectId}.{dataset_id}.{train_name}\"\n",
    "val_tabel_id=f\"{projectId}.{dataset_id}.{validation_name}\"\n",
    "test_tabel_id=f\"{projectId}.{dataset_id}.{test_name}\"\n",
    "\n",
    "train=load_data_bq(f\"SELECT * FROM {train_table_id}\")\n",
    "val=load_data_bq(f\"SELECT * FROM {val_tabel_id}\")\n",
    "test=load_data_bq(f\"SELECT * FROM {test_tabel_id}\")\n",
    "\n",
    "# Load data from CSV File\n",
    "# root_path='../../data'    \n",
    "# train = load_ml_data(f\"{root_path}/{train_name}.csv\")\n",
    "# val=load_ml_data(f\"{root_path}/{validation_name}.csv\")\n",
    "# test =load_ml_data(f\"{root_path}/{test_name}.csv\")\n",
    "\n",
    "print(train.shape)\n",
    "print(val.shape)\n",
    "print(test.shape)\n"
   ]
  },
  {
   "cell_type": "code",
   "execution_count": 8,
   "id": "1bcdca62-5198-4d5d-8704-b42fa468a47b",
   "metadata": {
    "tags": []
   },
   "outputs": [
    {
     "name": "stdout",
     "output_type": "stream",
     "text": [
      "List All Label: [0, 1, 2, 3]\n",
      "No target label : 4\n",
      "<class 'pandas.core.frame.DataFrame'>\n",
      "RangeIndex: 2731 entries, 0 to 2730\n",
      "Data columns (total 8 columns):\n",
      " #   Column                     Non-Null Count  Dtype  \n",
      "---  ------                     --------------  -----  \n",
      " 0   sla                        2731 non-null   object \n",
      " 1   product_type               2731 non-null   object \n",
      " 2   brand                      2731 non-null   object \n",
      " 3   service_type               2731 non-null   object \n",
      " 4   incident_type              2731 non-null   object \n",
      " 5   open_to_close_hour         2731 non-null   float64\n",
      " 6   response_to_resolved_hour  2731 non-null   float64\n",
      " 7   label_multi_severity       2731 non-null   Int64  \n",
      "dtypes: Int64(1), float64(2), object(5)\n",
      "memory usage: 173.5+ KB\n",
      "None\n"
     ]
    },
    {
     "data": {
      "text/html": [
       "<div>\n",
       "<style scoped>\n",
       "    .dataframe tbody tr th:only-of-type {\n",
       "        vertical-align: middle;\n",
       "    }\n",
       "\n",
       "    .dataframe tbody tr th {\n",
       "        vertical-align: top;\n",
       "    }\n",
       "\n",
       "    .dataframe thead th {\n",
       "        text-align: right;\n",
       "    }\n",
       "</style>\n",
       "<table border=\"1\" class=\"dataframe\">\n",
       "  <thead>\n",
       "    <tr style=\"text-align: right;\">\n",
       "      <th></th>\n",
       "      <th>sla</th>\n",
       "      <th>product_type</th>\n",
       "      <th>brand</th>\n",
       "      <th>service_type</th>\n",
       "      <th>incident_type</th>\n",
       "      <th>open_to_close_hour</th>\n",
       "      <th>response_to_resolved_hour</th>\n",
       "      <th>label_multi_severity</th>\n",
       "    </tr>\n",
       "  </thead>\n",
       "  <tbody>\n",
       "    <tr>\n",
       "      <th>2726</th>\n",
       "      <td>24x7 4Hrs Response Time</td>\n",
       "      <td>Security</td>\n",
       "      <td>Trend Micro</td>\n",
       "      <td>Request</td>\n",
       "      <td>General Incident</td>\n",
       "      <td>0.333333</td>\n",
       "      <td>0.333333</td>\n",
       "      <td>0</td>\n",
       "    </tr>\n",
       "    <tr>\n",
       "      <th>2727</th>\n",
       "      <td>24x7 6Hrs Resolution Time</td>\n",
       "      <td>Software</td>\n",
       "      <td>Trend Micro</td>\n",
       "      <td>Request</td>\n",
       "      <td>General Incident</td>\n",
       "      <td>0.883333</td>\n",
       "      <td>0.716667</td>\n",
       "      <td>0</td>\n",
       "    </tr>\n",
       "    <tr>\n",
       "      <th>2728</th>\n",
       "      <td>24x7 4Hrs Response Time</td>\n",
       "      <td>Security</td>\n",
       "      <td>Trend Micro</td>\n",
       "      <td>Request</td>\n",
       "      <td>OS / Firmware</td>\n",
       "      <td>16.666667</td>\n",
       "      <td>16.666667</td>\n",
       "      <td>0</td>\n",
       "    </tr>\n",
       "    <tr>\n",
       "      <th>2729</th>\n",
       "      <td>24x7 4Hrs Response Time</td>\n",
       "      <td>Software</td>\n",
       "      <td>Trend Micro</td>\n",
       "      <td>Request</td>\n",
       "      <td>General Incident</td>\n",
       "      <td>7.400000</td>\n",
       "      <td>7.283333</td>\n",
       "      <td>0</td>\n",
       "    </tr>\n",
       "    <tr>\n",
       "      <th>2730</th>\n",
       "      <td>24x7 6Hrs Resolution Time</td>\n",
       "      <td>Software</td>\n",
       "      <td>Trend Micro</td>\n",
       "      <td>Request</td>\n",
       "      <td>General Incident</td>\n",
       "      <td>5.483333</td>\n",
       "      <td>5.483333</td>\n",
       "      <td>0</td>\n",
       "    </tr>\n",
       "  </tbody>\n",
       "</table>\n",
       "</div>"
      ],
      "text/plain": [
       "                            sla product_type        brand service_type  \\\n",
       "2726    24x7 4Hrs Response Time     Security  Trend Micro      Request   \n",
       "2727  24x7 6Hrs Resolution Time     Software  Trend Micro      Request   \n",
       "2728    24x7 4Hrs Response Time     Security  Trend Micro      Request   \n",
       "2729    24x7 4Hrs Response Time     Software  Trend Micro      Request   \n",
       "2730  24x7 6Hrs Resolution Time     Software  Trend Micro      Request   \n",
       "\n",
       "         incident_type  open_to_close_hour  response_to_resolved_hour  \\\n",
       "2726  General Incident            0.333333                   0.333333   \n",
       "2727  General Incident            0.883333                   0.716667   \n",
       "2728     OS / Firmware           16.666667                  16.666667   \n",
       "2729  General Incident            7.400000                   7.283333   \n",
       "2730  General Incident            5.483333                   5.483333   \n",
       "\n",
       "      label_multi_severity  \n",
       "2726                     0  \n",
       "2727                     0  \n",
       "2728                     0  \n",
       "2729                     0  \n",
       "2730                     0  "
      ]
     },
     "execution_count": 8,
     "metadata": {},
     "output_type": "execute_result"
    }
   ],
   "source": [
    "labelList=list(train[labelCol].unique())\n",
    "print(\"List All Label:\" ,sorted(labelList))\n",
    "nLabel=len(labelList)\n",
    "print(f\"No target label : {nLabel}\")\n",
    "\n",
    "print(train.info())\n",
    "train.tail()"
   ]
  },
  {
   "cell_type": "code",
   "execution_count": 9,
   "id": "64adbe5e-d737-45a4-a04e-340a2926ad2d",
   "metadata": {
    "tags": []
   },
   "outputs": [
    {
     "data": {
      "text/html": [
       "<div>\n",
       "<style scoped>\n",
       "    .dataframe tbody tr th:only-of-type {\n",
       "        vertical-align: middle;\n",
       "    }\n",
       "\n",
       "    .dataframe tbody tr th {\n",
       "        vertical-align: top;\n",
       "    }\n",
       "\n",
       "    .dataframe thead th {\n",
       "        text-align: right;\n",
       "    }\n",
       "</style>\n",
       "<table border=\"1\" class=\"dataframe\">\n",
       "  <thead>\n",
       "    <tr style=\"text-align: right;\">\n",
       "      <th></th>\n",
       "      <th>Train-No-Severity</th>\n",
       "      <th>Train-%-Severity</th>\n",
       "      <th>Val-No-Severity</th>\n",
       "      <th>Val-%-Severity</th>\n",
       "      <th>Test-No-Severity</th>\n",
       "      <th>Test-%-Severity</th>\n",
       "    </tr>\n",
       "    <tr>\n",
       "      <th>label_multi_severity</th>\n",
       "      <th></th>\n",
       "      <th></th>\n",
       "      <th></th>\n",
       "      <th></th>\n",
       "      <th></th>\n",
       "      <th></th>\n",
       "    </tr>\n",
       "  </thead>\n",
       "  <tbody>\n",
       "    <tr>\n",
       "      <th>0</th>\n",
       "      <td>511</td>\n",
       "      <td>19.0</td>\n",
       "      <td>53</td>\n",
       "      <td>16.0</td>\n",
       "      <td>55</td>\n",
       "      <td>16.0</td>\n",
       "    </tr>\n",
       "    <tr>\n",
       "      <th>1</th>\n",
       "      <td>778</td>\n",
       "      <td>28.0</td>\n",
       "      <td>97</td>\n",
       "      <td>28.0</td>\n",
       "      <td>92</td>\n",
       "      <td>27.0</td>\n",
       "    </tr>\n",
       "    <tr>\n",
       "      <th>2</th>\n",
       "      <td>1341</td>\n",
       "      <td>49.0</td>\n",
       "      <td>180</td>\n",
       "      <td>53.0</td>\n",
       "      <td>181</td>\n",
       "      <td>53.0</td>\n",
       "    </tr>\n",
       "    <tr>\n",
       "      <th>3</th>\n",
       "      <td>101</td>\n",
       "      <td>4.0</td>\n",
       "      <td>11</td>\n",
       "      <td>3.0</td>\n",
       "      <td>14</td>\n",
       "      <td>4.0</td>\n",
       "    </tr>\n",
       "  </tbody>\n",
       "</table>\n",
       "</div>"
      ],
      "text/plain": [
       "                      Train-No-Severity  Train-%-Severity  Val-No-Severity  \\\n",
       "label_multi_severity                                                         \n",
       "0                                   511              19.0               53   \n",
       "1                                   778              28.0               97   \n",
       "2                                  1341              49.0              180   \n",
       "3                                   101               4.0               11   \n",
       "\n",
       "                      Val-%-Severity  Test-No-Severity  Test-%-Severity  \n",
       "label_multi_severity                                                     \n",
       "0                               16.0                55             16.0  \n",
       "1                               28.0                92             27.0  \n",
       "2                               53.0               181             53.0  \n",
       "3                                3.0                14              4.0  "
      ]
     },
     "execution_count": 9,
     "metadata": {},
     "output_type": "execute_result"
    }
   ],
   "source": [
    "def CalPctEachTargetClass(dfx,colSev,colPctSev):\n",
    "    dfClassSummary=dfx.groupby([labelCol]).size().to_frame(colSev)\n",
    "    dfClassSummary[colPctSev]= dfClassSummary[colSev]/dfClassSummary[colSev].sum() *100\n",
    "    dfClassSummary=dfClassSummary.round(0)\n",
    "    return dfClassSummary\n",
    "\n",
    "pctDF1=CalPctEachTargetClass(train,'Train-No-Severity','Train-%-Severity')\n",
    "pctDF2=CalPctEachTargetClass(val,'Val-No-Severity','Val-%-Severity')\n",
    "pdcDF3=CalPctEachTargetClass(test,'Test-No-Severity','Test-%-Severity')\n",
    "pctDF=pd.concat([pctDF1,pctDF2,pdcDF3],axis=1)\n",
    "\n",
    "pctDF"
   ]
  },
  {
   "cell_type": "code",
   "execution_count": 10,
   "id": "c59e9916-6668-4c4e-8974-af63c3f840b0",
   "metadata": {
    "tags": []
   },
   "outputs": [
    {
     "data": {
      "image/png": "[encoded data removed]",
      "text/plain": [
       "<Figure size 800x500 with 1 Axes>"
      ]
     },
     "metadata": {},
     "output_type": "display_data"
    },
    {
     "data": {
      "image/png": "[encoded data removed]",
      "text/plain": [
       "<Figure size 800x500 with 1 Axes>"
      ]
     },
     "metadata": {},
     "output_type": "display_data"
    },
    {
     "data": {
      "image/png": "[encoded data removed]",
      "text/plain": [
       "<Figure size 800x500 with 1 Axes>"
      ]
     },
     "metadata": {},
     "output_type": "display_data"
    }
   ],
   "source": [
    "def plot_class(df):\n",
    "    fig , ax = plt.subplots(figsize=(8,5))\n",
    "    ax =sns.countplot(x=labelCol, data=df,)\n",
    "    for p in ax.patches:\n",
    "       ax.annotate('{:.1f}'.format(p.get_height()), (p.get_x()+0.25, p.get_height()+0.01))\n",
    "    plt.title(labelCol.title())\n",
    "    plt.show()\n",
    "    \n",
    "plot_class(train)\n",
    "plot_class(val)\n",
    "plot_class(test)"
   ]
  },
  {
   "cell_type": "markdown",
   "id": "fa30d3fd-14e9-4c3d-a6aa-45d8114f5362",
   "metadata": {},
   "source": [
    "# Process Data  Layer"
   ]
  },
  {
   "cell_type": "code",
   "execution_count": 11,
   "id": "d9d3a943-09d5-4a43-b8d8-633bc4a90353",
   "metadata": {
    "tags": []
   },
   "outputs": [],
   "source": [
    "def multiple_label_df_to_dataset(dataframe, shuffle=True, batch_size=32):\n",
    "  features = dataframe.copy()\n",
    "  labels = features.pop(labelCol)\n",
    "  labels  = tf.keras.utils.to_categorical(labels, num_classes=nLabel)\n",
    "    \n",
    "  ds = tf.data.Dataset.from_tensor_slices(( dict(features), labels ))\n",
    "  if shuffle:\n",
    "    ds = ds.shuffle(buffer_size=len(features))\n",
    "  ds = ds.batch(batch_size)\n",
    "  ds = ds.prefetch(batch_size)\n",
    "  return ds\n",
    "     \n",
    "     "
   ]
  },
  {
   "cell_type": "code",
   "execution_count": 12,
   "id": "274122c2-9481-438b-b637-6e6ad393d809",
   "metadata": {
    "tags": []
   },
   "outputs": [
    {
     "name": "stdout",
     "output_type": "stream",
     "text": [
      "Explore Data from Tensor before keras data processing\n",
      "========Features==========\n",
      "Every feature: ['sla', 'product_type', 'brand', 'service_type', 'incident_type', 'open_to_close_hour', 'response_to_resolved_hour']\n",
      "product_type: tf.Tensor([b'Software'], shape=(1,), dtype=string)\n",
      "open_to_close_hour: tf.Tensor([1.5], shape=(1,), dtype=float64)\n"
     ]
    }
   ],
   "source": [
    "print(\"Explore Data from Tensor before keras data processing\")\n",
    "batch_size = 1\n",
    "train_ds =multiple_label_df_to_dataset(train, batch_size=batch_size)\n",
    "\n",
    "[(train_features, label_batch)] = train_ds.take(1)\n",
    "print(\"========Features==========\")\n",
    "print('Every feature:', list(train_features.keys()))\n",
    "print('product_type:', train_features['product_type'])  # sample cate feature\n",
    "print('open_to_close_hour:', train_features['open_to_close_hour'])  # sample numberic feature\n"
   ]
  },
  {
   "cell_type": "code",
   "execution_count": 13,
   "id": "ca7d4e1c-dbd6-42b4-8958-6aad45777bc5",
   "metadata": {
    "tags": []
   },
   "outputs": [
    {
     "name": "stdout",
     "output_type": "stream",
     "text": [
      "========Labels==========\n",
      "[[1. 0. 0. 0.]]\n"
     ]
    }
   ],
   "source": [
    "print(\"========Labels==========\")\n",
    "print(f'{label_batch }')"
   ]
  },
  {
   "cell_type": "code",
   "execution_count": null,
   "id": "dd22984c-e079-4b61-b94b-57acc540a487",
   "metadata": {},
   "outputs": [],
   "source": []
  },
  {
   "cell_type": "code",
   "execution_count": 14,
   "id": "02ad8837-968e-4d68-bdb6-1c7eba97e69c",
   "metadata": {
    "tags": []
   },
   "outputs": [],
   "source": [
    "def get_normalization_layer(name, dataset):\n",
    "  # Create a Normalization layer for our feature.\n",
    "  normalizer = preprocessing.Normalization(axis=None)\n",
    "\n",
    "  # Prepare a Dataset that only yields our feature.\n",
    "  feature_ds = dataset.map(lambda x, y: x[name])\n",
    "\n",
    "  # Learn the statistics of the data.\n",
    "  normalizer.adapt(feature_ds)\n",
    "\n",
    "  return normalizer"
   ]
  },
  {
   "cell_type": "code",
   "execution_count": 15,
   "id": "237bce3c-9c77-4318-8682-fc36af0a6804",
   "metadata": {
    "tags": []
   },
   "outputs": [],
   "source": [
    "def get_category_encoding_layer(name, dataset, dtype, max_tokens=None):\n",
    "  # Create a StringLookup layer which will turn strings into integer indices\n",
    "  if dtype == 'string':\n",
    "    index = preprocessing.StringLookup(max_tokens=max_tokens)\n",
    "  else:\n",
    "    index = preprocessing.IntegerLookup(max_tokens=max_tokens)\n",
    "\n",
    "  # Prepare a Dataset that only yields our feature\n",
    "  feature_ds = dataset.map(lambda x, y: x[name])\n",
    "\n",
    "  # Learn the set of possible values and assign them a fixed integer index.\n",
    "  index.adapt(feature_ds)\n",
    "\n",
    "  # Create a Discretization for our integer indices.\n",
    "  encoder = preprocessing.CategoryEncoding(num_tokens=index.vocabulary_size())\n",
    "\n",
    "  # Apply one-hot encoding to our indices. The lambda function captures the\n",
    "  # layer so we can use them, or include them in the functional model later.\n",
    "  return lambda feature: encoder(index(feature))\n",
    "     "
   ]
  },
  {
   "cell_type": "code",
   "execution_count": 16,
   "id": "4ab6c0ac-ee9b-42f3-b140-a102e8f2f121",
   "metadata": {
    "tags": []
   },
   "outputs": [
    {
     "data": {
      "text/plain": [
       "<tf.Tensor: shape=(1,), dtype=float32, numpy=array([-0.35084686], dtype=float32)>"
      ]
     },
     "execution_count": 16,
     "metadata": {},
     "output_type": "execute_result"
    }
   ],
   "source": [
    "hour_col = train_features['open_to_close_hour']\n",
    "layer = get_normalization_layer('open_to_close_hour', train_ds)\n",
    "layer(hour_col)"
   ]
  },
  {
   "cell_type": "code",
   "execution_count": 17,
   "id": "19c0de50-a1fb-44b9-b91f-555ac779ec40",
   "metadata": {
    "tags": []
   },
   "outputs": [
    {
     "name": "stdout",
     "output_type": "stream",
     "text": [
      "['Other' 'Printer' 'Storage' 'Software' 'Server' 'Access Point' 'Switch'\n",
      " 'Hardware' 'Tape Library' 'Security' 'Service' 'Notebook' 'Firewall']\n"
     ]
    },
    {
     "data": {
      "text/plain": [
       "<tf.Tensor: shape=(14,), dtype=float32, numpy=\n",
       "array([0., 1., 0., 0., 0., 0., 0., 0., 0., 0., 0., 0., 0., 0.],\n",
       "      dtype=float32)>"
      ]
     },
     "execution_count": 17,
     "metadata": {},
     "output_type": "execute_result"
    }
   ],
   "source": [
    "# total no type+unkonw\n",
    "print(train['product_type'].unique())\n",
    "type_col = train_features['product_type']\n",
    "layer = get_category_encoding_layer('product_type', train_ds, 'string')\n",
    "layer(type_col)\n",
    "\n",
    "# onehot-encoding = 10 category+unknown=11 columnn"
   ]
  },
  {
   "cell_type": "code",
   "execution_count": 18,
   "id": "a5c78f01-000a-4d3e-9fbf-6f4660cfb75b",
   "metadata": {
    "tags": []
   },
   "outputs": [],
   "source": [
    "batch_size =32\n",
    "train_ds = multiple_label_df_to_dataset (train, batch_size=batch_size)\n",
    "val_ds = multiple_label_df_to_dataset(val, batch_size=batch_size)\n",
    "test_ds = multiple_label_df_to_dataset(test, batch_size=batch_size)\n",
    "# for element in train_ds.as_numpy_iterator():\n",
    "#     print(element)"
   ]
  },
  {
   "cell_type": "markdown",
   "id": "a5430f2c-4130-4b3a-b0dd-095ec81926ba",
   "metadata": {},
   "source": [
    "# Data Transformation by Keras PreProcessing Layer "
   ]
  },
  {
   "cell_type": "code",
   "execution_count": 19,
   "id": "723a69b6-d9c1-49d9-bc81-ed421d8700cb",
   "metadata": {
    "tags": []
   },
   "outputs": [
    {
     "name": "stdout",
     "output_type": "stream",
     "text": [
      "header: Mean=120.7417429512999 and Std=339.9325107996055\n",
      "header: Mean=92.4087208592701 and Std=292.40800375934094\n",
      "sla = 7 : ['24x7 4Hrs Resolution Time' '24x7 4Hrs Response Time'\n",
      " '24x7 6Hrs Resolution Time' '8x5 4Hrs Response Time'\n",
      " '9x5 NBD 4Hrs Response Time' '24x7 6Hrs Response Time' 'Non MA']\n",
      "sla\n",
      "product_type = 13 : ['Other' 'Printer' 'Storage' 'Software' 'Server' 'Access Point' 'Switch'\n",
      " 'Hardware' 'Tape Library' 'Security' 'Service' 'Notebook' 'Firewall']\n",
      "product_type\n",
      "brand = 28 : ['F5' 'HP' 'EMC' 'HPE' 'IBM' 'YIP' 'DELL' 'QNAP' 'Cisco' 'SAPB1' 'Veeam'\n",
      " 'NetApp' 'Oracle' 'VMWare' 'Zabbix' 'eUnite' 'Nutanix' 'Red Hat'\n",
      " 'Veritas' 'Alfresco' 'Broadcom' 'Fortinet' 'Commvault' 'Microsoft'\n",
      " 'Palo Alto' 'CIMCO-CMMS' 'CheckPoint' 'Trend Micro']\n",
      "brand\n",
      "service_type = 2 : ['Incident' 'Request']\n",
      "service_type\n",
      "incident_type = 21 : ['General Incident' 'Network Adapter Failure' 'Software'\n",
      " 'Maintenance System' 'Hard Disk Drive Failure' 'Power Supply Failure'\n",
      " 'Report' 'System Board Failure' 'Memory Failure' 'Network Card Failure'\n",
      " 'Controller/Node Failure' 'Backup Failure' 'Upgrade Software'\n",
      " 'CPU Failure' 'OS / Firmware' 'Configuration Change'\n",
      " 'Cache Battery Failure' 'Other Failure' 'Network Cable Failure'\n",
      " 'Battery Failure' 'Fan Failure']\n",
      "incident_type\n"
     ]
    }
   ],
   "source": [
    "all_inputs = []\n",
    "encoded_features = []\n",
    "numInputFeatToInitNodeUnit=0\n",
    "\n",
    "# Numeric features.\n",
    "for header in numbericCols:\n",
    "  stat_data=train[header].describe()\n",
    "  print(f\"header: Mean={stat_data['mean']} and Std={stat_data['std']}\")  \n",
    "  numeric_col = tf.keras.Input(shape=(1,), name=header)\n",
    "  normalization_layer = get_normalization_layer(header, train_ds)\n",
    "  encoded_numeric_col = normalization_layer(numeric_col)\n",
    "  all_inputs.append(numeric_col)\n",
    "  encoded_features.append(encoded_numeric_col)\n",
    "    \n",
    "numInputFeatToInitNodeUnit=numInputFeatToInitNodeUnit+len(numbericCols)\n",
    "    \n",
    "    # Categorical features encoded as string.\n",
    "categorical_cols = cateCols\n",
    "for header in categorical_cols:\n",
    "  listCateItem=train[header].unique()\n",
    "  noCateItem=len(listCateItem)\n",
    "  numInputFeatToInitNodeUnit=numInputFeatToInitNodeUnit+noCateItem +1  # last 1 is unknow  \n",
    "  print(f\"{header} = {noCateItem} : {listCateItem}\")\n",
    "\n",
    "  print(header)  \n",
    "  categorical_col = tf.keras.Input(shape=(1,), name=header, dtype='string')\n",
    "  encoding_layer = get_category_encoding_layer(header, train_ds, dtype='string')\n",
    "                                        \n",
    "  encoded_categorical_col = encoding_layer(categorical_col)\n",
    "  all_inputs.append(categorical_col)\n",
    "  encoded_features.append(encoded_categorical_col)\n"
   ]
  },
  {
   "cell_type": "code",
   "execution_count": 20,
   "id": "48f85f8a-4471-44e1-a389-102232c296e7",
   "metadata": {
    "tags": []
   },
   "outputs": [
    {
     "name": "stdout",
     "output_type": "stream",
     "text": [
      "Total column to initialize first node input: 78\n"
     ]
    }
   ],
   "source": [
    "print(f\"Total column to initialize first node input: {numInputFeatToInitNodeUnit}\")"
   ]
  },
  {
   "cell_type": "markdown",
   "id": "aa733595-628e-4a07-a6b8-719995fa535b",
   "metadata": {},
   "source": [
    "# Build and Train and Eveluate and Plot Result"
   ]
  },
  {
   "cell_type": "code",
   "execution_count": 21,
   "id": "ee6ca53e-78d8-400e-a48e-cdcb93d2030f",
   "metadata": {
    "tags": []
   },
   "outputs": [],
   "source": [
    "def plot_metrics(history,metric):\n",
    "    plt.figure(figsize=(15,8))\n",
    "    plt.title(metric)\n",
    "    plt.plot(history.history[metric], label='train')\n",
    "    plt.plot(history.history[f'val_{metric}'], label='validation')\n",
    "    plt.legend()\n",
    "    plt.show() \n"
   ]
  },
  {
   "cell_type": "code",
   "execution_count": 22,
   "id": "6a23e758-73c0-4343-86f4-cf04daac639d",
   "metadata": {
    "tags": []
   },
   "outputs": [],
   "source": [
    "# logdir = f\"{tsb_path}/scalars\" + datetime.now().strftime(\"%Y%m%d-%H%M%S\")\n",
    "# file_writer = tf.summary.create_file_writer(logdir + \"/metrics\")\n",
    "# file_writer.set_as_default()\n",
    "\n",
    "\n",
    "# def lr_schedule(epoch):\n",
    "#   \"\"\"\n",
    "#   Returns a custom learning rate that decreases as epochs progress.\n",
    "#   \"\"\"\n",
    "#   learning_rate = 0.01 # default\n",
    "#   if epoch >= 50:\n",
    "#     learning_rate = 0.001   # default\n",
    "#   if epoch >= 100:\n",
    "#     learning_rate = 0.0001\n",
    "#   if epoch > 150:\n",
    "#     learning_rate = 0.00001\n",
    "\n",
    "#   tf.summary.scalar('learning rate', data=learning_rate, step=epoch)\n",
    "#   return learning_rate\n",
    "\n"
   ]
  },
  {
   "cell_type": "code",
   "execution_count": 23,
   "id": "e4e27d3b-9b17-4311-a7a2-d4c4007430b2",
   "metadata": {
    "tags": []
   },
   "outputs": [],
   "source": [
    "\n",
    "# def build_model(num_units_1,num_units_layer2, dropout_rate):\n",
    "def build_model(num_units_layer1, dropout_rate,learningRate,no_addtional_hidden_layer=1):\n",
    "    \n",
    "    all_features = tf.keras.layers.concatenate(encoded_features)\n",
    "   \n",
    "    x = tf.keras.layers.Dense(num_units_layer1, activation=\"relu\")(all_features)# layer1\n",
    "    \n",
    "    if dropout_rate>0:\n",
    "     print(f\"Dropout: { dropout_rate}\")\n",
    "     x = tf.keras.layers.Dropout(dropout_rate)(x)\n",
    "    \n",
    "    # if no_addtional_hidden_layer>1:\n",
    "    # for x  in range(0,1):  \n",
    "    # x = tf.keras.layers.Dense(num_units_layer1, activation=\"relu\")(x)  # layer2\n",
    "\n",
    "\n",
    "    output = tf.keras.layers.Dense(nLabel,activation=tf.nn.softmax)(x)\n",
    "\n",
    "    model = tf.keras.Model(all_inputs, output)\n",
    "    \n",
    "    if  learningRate==0:\n",
    "        model.compile(optimizer='adam',\n",
    "                      loss=tf.keras.losses.CategoricalCrossentropy(),metrics=[main_metric])\n",
    "    else:\n",
    "        print(f\"LR: {learningRate}\")\n",
    "        model.compile(optimizer=tf.keras.optimizers.Adam(learning_rate=learningRate),\n",
    "                      loss=tf.keras.losses.CategoricalCrossentropy(),metrics=[main_metric])\n",
    "    return model\n",
    "\n",
    "def train_model(model,x_epochs,x_batch_size):  \n",
    "    # model.summary()\n",
    "\n",
    "    \n",
    "    early_stopping = tf.keras.callbacks.EarlyStopping(monitor='val_loss', patience=nEarlyPatience, verbose=1)  \n",
    "    # history =model.fit(train_ds, validation_data=val_ds,epochs=x_epochs,batch_size=x_batch_size,callbacks=[early_stopping])\n",
    "    \n",
    "    log_dir = f\"{tsb_path}\" + datetime.now().strftime(\"%Y%m%d-%H%M\")\n",
    "    tensorboard_callback = tf.keras.callbacks.TensorBoard(log_dir=log_dir)\n",
    "    \n",
    "    history =model.fit(train_ds, validation_data=val_ds,epochs=x_epochs,batch_size=x_batch_size,\n",
    "                       callbacks=[early_stopping,tensorboard_callback])\n",
    "    \n",
    "     # lr_callback = tf.keras.callbacks.LearningRateScheduler(lr_schedule)\n",
    "    # history =model.fit(train_ds, validation_data=val_ds,epochs=x_epochs,batch_size=x_batch_size,\n",
    "    #                    callbacks=[early_stopping,tensorboard_callback, lr_callback ])\n",
    "    return history\n",
    "\n",
    "\n",
    "# def build_wide_deep_model()\n",
    "# METRICS = [\n",
    "#       keras.metrics.BinaryAccuracy(name='accuracy'),\n",
    "#       keras.metrics.Precision(name='precision'),\n",
    "#       keras.metrics.Recall(name='recall'),\n",
    "#       keras.metrics.AUC(name='auc'),\n",
    "# ]\n",
    "  "
   ]
  },
  {
   "cell_type": "markdown",
   "id": "c3816a15-6688-4c87-9d20-e5fc45d48d11",
   "metadata": {},
   "source": [
    "# Test Run Model"
   ]
  },
  {
   "cell_type": "code",
   "execution_count": 24,
   "id": "25688a22-05f5-4cac-b662-d261b5dcfb78",
   "metadata": {
    "tags": []
   },
   "outputs": [
    {
     "name": "stdout",
     "output_type": "stream",
     "text": [
      "1#Build model\n",
      "Dropout: 0.1\n",
      "LR: 0.0001\n"
     ]
    }
   ],
   "source": [
    "print(\"1#Build model\")\n",
    "\n",
    "# Smaller RL , longer , By doing this, you learn gradually rather than jumping around \n",
    "#A learning rate of 0.001 is the default (Adam)\n",
    "\n",
    "#model=build_model(32,0.1,0.0001)\n",
    "model=build_model(64,0.1,0.0001)\n",
    "#model=build_model(numInputFeatToInitNodeUnit,0,0)\n",
    "\n",
    "# print(model.summary())\n",
    "#model=build_model(128,0,0)\n"
   ]
  },
  {
   "cell_type": "code",
   "execution_count": 25,
   "id": "655da7c1-a716-437c-b1c0-fde9745a1a1d",
   "metadata": {
    "tags": []
   },
   "outputs": [
    {
     "name": "stdout",
     "output_type": "stream",
     "text": [
      "2#Train model\n",
      "Epoch 1/200\n",
      "86/86 [==============================] - 4s 20ms/step - loss: 1.3605 - accuracy: 0.3603 - val_loss: 1.3062 - val_accuracy: 0.4839\n",
      "Epoch 2/200\n",
      "86/86 [==============================] - 1s 8ms/step - loss: 1.2894 - accuracy: 0.4471 - val_loss: 1.2318 - val_accuracy: 0.5279\n",
      "Epoch 3/200\n",
      "86/86 [==============================] - 1s 8ms/step - loss: 1.2271 - accuracy: 0.4870 - val_loss: 1.1672 - val_accuracy: 0.5660\n",
      "Epoch 4/200\n",
      "86/86 [==============================] - 1s 10ms/step - loss: 1.1618 - accuracy: 0.5254 - val_loss: 1.1084 - val_accuracy: 0.5748\n",
      "Epoch 5/200\n",
      "86/86 [==============================] - 1s 10ms/step - loss: 1.1107 - accuracy: 0.5460 - val_loss: 1.0564 - val_accuracy: 0.5836\n",
      "Epoch 6/200\n",
      "86/86 [==============================] - 1s 9ms/step - loss: 1.0647 - accuracy: 0.5683 - val_loss: 1.0107 - val_accuracy: 0.6217\n",
      "Epoch 7/200\n",
      "86/86 [==============================] - 1s 10ms/step - loss: 1.0257 - accuracy: 0.5925 - val_loss: 0.9703 - val_accuracy: 0.6305\n",
      "Epoch 8/200\n",
      "86/86 [==============================] - 1s 11ms/step - loss: 0.9893 - accuracy: 0.6188 - val_loss: 0.9354 - val_accuracy: 0.6510\n",
      "Epoch 9/200\n",
      "86/86 [==============================] - 1s 9ms/step - loss: 0.9528 - accuracy: 0.6353 - val_loss: 0.9052 - val_accuracy: 0.6745\n",
      "Epoch 10/200\n",
      "86/86 [==============================] - 1s 10ms/step - loss: 0.9294 - accuracy: 0.6540 - val_loss: 0.8794 - val_accuracy: 0.6833\n",
      "Epoch 11/200\n",
      "86/86 [==============================] - 1s 12ms/step - loss: 0.9018 - accuracy: 0.6650 - val_loss: 0.8570 - val_accuracy: 0.6921\n",
      "Epoch 12/200\n",
      "86/86 [==============================] - 1s 10ms/step - loss: 0.8864 - accuracy: 0.6661 - val_loss: 0.8378 - val_accuracy: 0.7038\n",
      "Epoch 13/200\n",
      "86/86 [==============================] - 1s 13ms/step - loss: 0.8657 - accuracy: 0.6789 - val_loss: 0.8215 - val_accuracy: 0.7067\n",
      "Epoch 14/200\n",
      "86/86 [==============================] - 1s 9ms/step - loss: 0.8488 - accuracy: 0.6785 - val_loss: 0.8081 - val_accuracy: 0.7038\n",
      "Epoch 15/200\n",
      "86/86 [==============================] - 1s 7ms/step - loss: 0.8310 - accuracy: 0.6862 - val_loss: 0.7956 - val_accuracy: 0.6921\n",
      "Epoch 16/200\n",
      "86/86 [==============================] - 1s 9ms/step - loss: 0.8208 - accuracy: 0.6884 - val_loss: 0.7858 - val_accuracy: 0.6921\n",
      "Epoch 17/200\n",
      "86/86 [==============================] - 1s 7ms/step - loss: 0.8100 - accuracy: 0.6928 - val_loss: 0.7772 - val_accuracy: 0.6950\n",
      "Epoch 18/200\n",
      "86/86 [==============================] - 1s 7ms/step - loss: 0.8018 - accuracy: 0.6928 - val_loss: 0.7693 - val_accuracy: 0.6979\n",
      "Epoch 19/200\n",
      "86/86 [==============================] - 1s 7ms/step - loss: 0.7939 - accuracy: 0.6902 - val_loss: 0.7634 - val_accuracy: 0.6979\n",
      "Epoch 20/200\n",
      "86/86 [==============================] - 1s 8ms/step - loss: 0.7865 - accuracy: 0.6939 - val_loss: 0.7579 - val_accuracy: 0.6891\n",
      "Epoch 21/200\n",
      "86/86 [==============================] - 1s 7ms/step - loss: 0.7802 - accuracy: 0.6994 - val_loss: 0.7531 - val_accuracy: 0.6921\n",
      "Epoch 22/200\n",
      "86/86 [==============================] - 1s 7ms/step - loss: 0.7794 - accuracy: 0.6953 - val_loss: 0.7493 - val_accuracy: 0.6950\n",
      "Epoch 23/200\n",
      "86/86 [==============================] - 1s 8ms/step - loss: 0.7693 - accuracy: 0.7005 - val_loss: 0.7455 - val_accuracy: 0.6950\n",
      "Epoch 24/200\n",
      "86/86 [==============================] - 1s 8ms/step - loss: 0.7655 - accuracy: 0.6986 - val_loss: 0.7419 - val_accuracy: 0.6950\n",
      "Epoch 25/200\n",
      "86/86 [==============================] - 1s 10ms/step - loss: 0.7609 - accuracy: 0.6975 - val_loss: 0.7393 - val_accuracy: 0.6950\n",
      "Epoch 26/200\n",
      "86/86 [==============================] - 1s 11ms/step - loss: 0.7561 - accuracy: 0.6975 - val_loss: 0.7367 - val_accuracy: 0.6979\n",
      "Epoch 27/200\n",
      "86/86 [==============================] - 1s 9ms/step - loss: 0.7585 - accuracy: 0.7008 - val_loss: 0.7348 - val_accuracy: 0.6979\n",
      "Epoch 28/200\n",
      "86/86 [==============================] - 1s 9ms/step - loss: 0.7543 - accuracy: 0.7012 - val_loss: 0.7331 - val_accuracy: 0.7038\n",
      "Epoch 29/200\n",
      "86/86 [==============================] - 1s 10ms/step - loss: 0.7462 - accuracy: 0.7093 - val_loss: 0.7314 - val_accuracy: 0.7067\n",
      "Epoch 30/200\n",
      "86/86 [==============================] - 1s 7ms/step - loss: 0.7430 - accuracy: 0.6975 - val_loss: 0.7297 - val_accuracy: 0.7038\n",
      "Epoch 31/200\n",
      "86/86 [==============================] - 1s 8ms/step - loss: 0.7422 - accuracy: 0.7063 - val_loss: 0.7284 - val_accuracy: 0.7038\n",
      "Epoch 32/200\n",
      "86/86 [==============================] - 1s 8ms/step - loss: 0.7425 - accuracy: 0.7056 - val_loss: 0.7269 - val_accuracy: 0.7067\n",
      "Epoch 33/200\n",
      "86/86 [==============================] - 1s 10ms/step - loss: 0.7331 - accuracy: 0.7060 - val_loss: 0.7257 - val_accuracy: 0.7097\n",
      "Epoch 34/200\n",
      "86/86 [==============================] - 1s 7ms/step - loss: 0.7330 - accuracy: 0.7041 - val_loss: 0.7244 - val_accuracy: 0.7097\n",
      "Epoch 35/200\n",
      "86/86 [==============================] - 1s 12ms/step - loss: 0.7320 - accuracy: 0.7034 - val_loss: 0.7232 - val_accuracy: 0.7067\n",
      "Epoch 36/200\n",
      "86/86 [==============================] - 1s 10ms/step - loss: 0.7291 - accuracy: 0.7089 - val_loss: 0.7224 - val_accuracy: 0.7097\n",
      "Epoch 37/200\n",
      "86/86 [==============================] - 1s 11ms/step - loss: 0.7310 - accuracy: 0.7063 - val_loss: 0.7214 - val_accuracy: 0.7067\n",
      "Epoch 38/200\n",
      "86/86 [==============================] - 1s 9ms/step - loss: 0.7270 - accuracy: 0.7093 - val_loss: 0.7203 - val_accuracy: 0.7067\n",
      "Epoch 39/200\n",
      "86/86 [==============================] - 1s 8ms/step - loss: 0.7243 - accuracy: 0.7067 - val_loss: 0.7191 - val_accuracy: 0.7067\n",
      "Epoch 40/200\n",
      "86/86 [==============================] - 1s 10ms/step - loss: 0.7248 - accuracy: 0.7100 - val_loss: 0.7186 - val_accuracy: 0.7067\n",
      "Epoch 41/200\n",
      "86/86 [==============================] - 1s 10ms/step - loss: 0.7165 - accuracy: 0.7129 - val_loss: 0.7182 - val_accuracy: 0.7038\n",
      "Epoch 42/200\n",
      "86/86 [==============================] - 1s 8ms/step - loss: 0.7206 - accuracy: 0.7063 - val_loss: 0.7176 - val_accuracy: 0.7038\n",
      "Epoch 43/200\n",
      "86/86 [==============================] - 1s 9ms/step - loss: 0.7167 - accuracy: 0.7078 - val_loss: 0.7166 - val_accuracy: 0.7038\n",
      "Epoch 44/200\n",
      "86/86 [==============================] - 1s 9ms/step - loss: 0.7186 - accuracy: 0.7067 - val_loss: 0.7160 - val_accuracy: 0.7009\n",
      "Epoch 45/200\n",
      "86/86 [==============================] - 1s 7ms/step - loss: 0.7157 - accuracy: 0.7063 - val_loss: 0.7157 - val_accuracy: 0.7009\n",
      "Epoch 46/200\n",
      "86/86 [==============================] - 1s 11ms/step - loss: 0.7146 - accuracy: 0.7129 - val_loss: 0.7148 - val_accuracy: 0.7038\n",
      "Epoch 47/200\n",
      "86/86 [==============================] - 1s 10ms/step - loss: 0.7102 - accuracy: 0.7173 - val_loss: 0.7141 - val_accuracy: 0.7009\n",
      "Epoch 48/200\n",
      "86/86 [==============================] - 1s 11ms/step - loss: 0.7115 - accuracy: 0.7107 - val_loss: 0.7139 - val_accuracy: 0.7038\n",
      "Epoch 49/200\n",
      "86/86 [==============================] - 1s 14ms/step - loss: 0.7119 - accuracy: 0.7089 - val_loss: 0.7133 - val_accuracy: 0.7038\n",
      "Epoch 50/200\n",
      "86/86 [==============================] - 1s 12ms/step - loss: 0.7072 - accuracy: 0.7082 - val_loss: 0.7128 - val_accuracy: 0.7038\n",
      "Epoch 51/200\n",
      "86/86 [==============================] - 1s 8ms/step - loss: 0.7120 - accuracy: 0.7104 - val_loss: 0.7125 - val_accuracy: 0.7067\n",
      "Epoch 52/200\n",
      "86/86 [==============================] - 1s 12ms/step - loss: 0.7029 - accuracy: 0.7126 - val_loss: 0.7123 - val_accuracy: 0.7009\n",
      "Epoch 53/200\n",
      "86/86 [==============================] - 1s 11ms/step - loss: 0.7056 - accuracy: 0.7034 - val_loss: 0.7117 - val_accuracy: 0.7067\n",
      "Epoch 54/200\n",
      "86/86 [==============================] - 1s 14ms/step - loss: 0.7037 - accuracy: 0.7107 - val_loss: 0.7111 - val_accuracy: 0.7067\n",
      "Epoch 55/200\n",
      "86/86 [==============================] - 1s 9ms/step - loss: 0.6997 - accuracy: 0.7162 - val_loss: 0.7108 - val_accuracy: 0.7067\n",
      "Epoch 56/200\n",
      "86/86 [==============================] - 1s 12ms/step - loss: 0.6977 - accuracy: 0.7129 - val_loss: 0.7104 - val_accuracy: 0.7067\n",
      "Epoch 57/200\n",
      "86/86 [==============================] - 1s 9ms/step - loss: 0.6997 - accuracy: 0.7148 - val_loss: 0.7097 - val_accuracy: 0.7067\n",
      "Epoch 58/200\n",
      "86/86 [==============================] - 1s 8ms/step - loss: 0.6990 - accuracy: 0.7166 - val_loss: 0.7093 - val_accuracy: 0.7067\n",
      "Epoch 59/200\n",
      "86/86 [==============================] - 1s 14ms/step - loss: 0.6978 - accuracy: 0.7100 - val_loss: 0.7090 - val_accuracy: 0.7155\n",
      "Epoch 60/200\n",
      "86/86 [==============================] - 1s 11ms/step - loss: 0.6978 - accuracy: 0.7166 - val_loss: 0.7080 - val_accuracy: 0.7155\n",
      "Epoch 61/200\n",
      "86/86 [==============================] - 1s 15ms/step - loss: 0.6951 - accuracy: 0.7133 - val_loss: 0.7077 - val_accuracy: 0.7097\n",
      "Epoch 62/200\n",
      "86/86 [==============================] - 1s 12ms/step - loss: 0.6916 - accuracy: 0.7140 - val_loss: 0.7075 - val_accuracy: 0.7097\n",
      "Epoch 63/200\n",
      "86/86 [==============================] - 1s 12ms/step - loss: 0.6915 - accuracy: 0.7140 - val_loss: 0.7071 - val_accuracy: 0.7155\n",
      "Epoch 64/200\n",
      "86/86 [==============================] - 1s 11ms/step - loss: 0.6912 - accuracy: 0.7188 - val_loss: 0.7068 - val_accuracy: 0.7097\n",
      "Epoch 65/200\n",
      "86/86 [==============================] - 1s 8ms/step - loss: 0.6911 - accuracy: 0.7133 - val_loss: 0.7064 - val_accuracy: 0.7155\n",
      "Epoch 66/200\n",
      "86/86 [==============================] - 1s 9ms/step - loss: 0.6869 - accuracy: 0.7151 - val_loss: 0.7060 - val_accuracy: 0.7155\n",
      "Epoch 67/200\n",
      "86/86 [==============================] - 1s 9ms/step - loss: 0.6885 - accuracy: 0.7151 - val_loss: 0.7060 - val_accuracy: 0.7155\n",
      "Epoch 68/200\n",
      "86/86 [==============================] - 1s 9ms/step - loss: 0.6870 - accuracy: 0.7122 - val_loss: 0.7056 - val_accuracy: 0.7155\n",
      "Epoch 69/200\n",
      "86/86 [==============================] - 1s 8ms/step - loss: 0.6854 - accuracy: 0.7155 - val_loss: 0.7052 - val_accuracy: 0.7126\n",
      "Epoch 70/200\n",
      "86/86 [==============================] - 1s 8ms/step - loss: 0.6852 - accuracy: 0.7213 - val_loss: 0.7053 - val_accuracy: 0.7126\n",
      "Epoch 71/200\n",
      "86/86 [==============================] - 1s 10ms/step - loss: 0.6859 - accuracy: 0.7213 - val_loss: 0.7051 - val_accuracy: 0.7097\n",
      "Epoch 72/200\n",
      "86/86 [==============================] - 1s 11ms/step - loss: 0.6827 - accuracy: 0.7213 - val_loss: 0.7050 - val_accuracy: 0.7097\n",
      "Epoch 73/200\n",
      "86/86 [==============================] - 1s 7ms/step - loss: 0.6840 - accuracy: 0.7206 - val_loss: 0.7050 - val_accuracy: 0.7126\n",
      "Epoch 74/200\n",
      "86/86 [==============================] - 1s 8ms/step - loss: 0.6786 - accuracy: 0.7202 - val_loss: 0.7047 - val_accuracy: 0.7097\n",
      "Epoch 75/200\n",
      "86/86 [==============================] - 1s 7ms/step - loss: 0.6830 - accuracy: 0.7221 - val_loss: 0.7045 - val_accuracy: 0.7126\n",
      "Epoch 76/200\n",
      "86/86 [==============================] - 1s 7ms/step - loss: 0.6829 - accuracy: 0.7235 - val_loss: 0.7040 - val_accuracy: 0.7155\n",
      "Epoch 77/200\n",
      "86/86 [==============================] - 1s 7ms/step - loss: 0.6785 - accuracy: 0.7192 - val_loss: 0.7033 - val_accuracy: 0.7126\n",
      "Epoch 78/200\n",
      "86/86 [==============================] - 1s 7ms/step - loss: 0.6772 - accuracy: 0.7268 - val_loss: 0.7034 - val_accuracy: 0.7155\n",
      "Epoch 79/200\n",
      "86/86 [==============================] - 1s 7ms/step - loss: 0.6825 - accuracy: 0.7144 - val_loss: 0.7029 - val_accuracy: 0.7155\n",
      "Epoch 80/200\n",
      "86/86 [==============================] - 1s 8ms/step - loss: 0.6775 - accuracy: 0.7192 - val_loss: 0.7026 - val_accuracy: 0.7126\n",
      "Epoch 81/200\n",
      "86/86 [==============================] - 1s 8ms/step - loss: 0.6755 - accuracy: 0.7228 - val_loss: 0.7027 - val_accuracy: 0.7155\n",
      "Epoch 82/200\n",
      "86/86 [==============================] - 1s 8ms/step - loss: 0.6731 - accuracy: 0.7228 - val_loss: 0.7026 - val_accuracy: 0.7126\n",
      "Epoch 83/200\n",
      "86/86 [==============================] - 1s 8ms/step - loss: 0.6709 - accuracy: 0.7217 - val_loss: 0.7024 - val_accuracy: 0.7155\n",
      "Epoch 84/200\n",
      "86/86 [==============================] - 1s 7ms/step - loss: 0.6748 - accuracy: 0.7206 - val_loss: 0.7021 - val_accuracy: 0.7126\n",
      "Epoch 85/200\n",
      "86/86 [==============================] - 1s 7ms/step - loss: 0.6734 - accuracy: 0.7184 - val_loss: 0.7019 - val_accuracy: 0.7155\n",
      "Epoch 86/200\n",
      "86/86 [==============================] - 1s 7ms/step - loss: 0.6733 - accuracy: 0.7217 - val_loss: 0.7016 - val_accuracy: 0.7126\n",
      "Epoch 87/200\n",
      "86/86 [==============================] - 1s 7ms/step - loss: 0.6727 - accuracy: 0.7224 - val_loss: 0.7013 - val_accuracy: 0.7155\n",
      "Epoch 88/200\n",
      "86/86 [==============================] - 1s 8ms/step - loss: 0.6729 - accuracy: 0.7232 - val_loss: 0.7010 - val_accuracy: 0.7155\n",
      "Epoch 89/200\n",
      "86/86 [==============================] - 1s 10ms/step - loss: 0.6705 - accuracy: 0.7261 - val_loss: 0.7010 - val_accuracy: 0.7155\n",
      "Epoch 90/200\n",
      "86/86 [==============================] - 1s 8ms/step - loss: 0.6676 - accuracy: 0.7213 - val_loss: 0.7003 - val_accuracy: 0.7155\n",
      "Epoch 91/200\n",
      "86/86 [==============================] - 1s 9ms/step - loss: 0.6646 - accuracy: 0.7228 - val_loss: 0.7003 - val_accuracy: 0.7126\n",
      "Epoch 92/200\n",
      "86/86 [==============================] - 1s 7ms/step - loss: 0.6693 - accuracy: 0.7202 - val_loss: 0.7003 - val_accuracy: 0.7155\n",
      "Epoch 93/200\n",
      "86/86 [==============================] - 1s 7ms/step - loss: 0.6667 - accuracy: 0.7257 - val_loss: 0.6999 - val_accuracy: 0.7155\n",
      "Epoch 94/200\n",
      "86/86 [==============================] - 1s 7ms/step - loss: 0.6666 - accuracy: 0.7228 - val_loss: 0.6998 - val_accuracy: 0.7185\n",
      "Epoch 95/200\n",
      "86/86 [==============================] - 1s 7ms/step - loss: 0.6663 - accuracy: 0.7221 - val_loss: 0.6998 - val_accuracy: 0.7185\n",
      "Epoch 96/200\n",
      "86/86 [==============================] - 1s 7ms/step - loss: 0.6656 - accuracy: 0.7265 - val_loss: 0.6993 - val_accuracy: 0.7185\n",
      "Epoch 97/200\n",
      "86/86 [==============================] - 1s 8ms/step - loss: 0.6637 - accuracy: 0.7199 - val_loss: 0.6994 - val_accuracy: 0.7155\n",
      "Epoch 98/200\n",
      "86/86 [==============================] - 1s 8ms/step - loss: 0.6609 - accuracy: 0.7290 - val_loss: 0.6990 - val_accuracy: 0.7155\n",
      "Epoch 99/200\n",
      "86/86 [==============================] - 1s 8ms/step - loss: 0.6643 - accuracy: 0.7243 - val_loss: 0.6988 - val_accuracy: 0.7155\n",
      "Epoch 100/200\n",
      "86/86 [==============================] - 1s 7ms/step - loss: 0.6607 - accuracy: 0.7210 - val_loss: 0.6984 - val_accuracy: 0.7155\n",
      "Epoch 101/200\n",
      "86/86 [==============================] - 1s 7ms/step - loss: 0.6612 - accuracy: 0.7290 - val_loss: 0.6982 - val_accuracy: 0.7185\n",
      "Epoch 102/200\n",
      "86/86 [==============================] - 1s 7ms/step - loss: 0.6598 - accuracy: 0.7254 - val_loss: 0.6982 - val_accuracy: 0.7155\n",
      "Epoch 103/200\n",
      "86/86 [==============================] - 1s 8ms/step - loss: 0.6581 - accuracy: 0.7283 - val_loss: 0.6978 - val_accuracy: 0.7155\n",
      "Epoch 104/200\n",
      "86/86 [==============================] - 1s 7ms/step - loss: 0.6615 - accuracy: 0.7243 - val_loss: 0.6978 - val_accuracy: 0.7126\n",
      "Epoch 105/200\n",
      "86/86 [==============================] - 1s 7ms/step - loss: 0.6548 - accuracy: 0.7283 - val_loss: 0.6975 - val_accuracy: 0.7126\n",
      "Epoch 106/200\n",
      "86/86 [==============================] - 1s 7ms/step - loss: 0.6587 - accuracy: 0.7261 - val_loss: 0.6973 - val_accuracy: 0.7126\n",
      "Epoch 107/200\n",
      "86/86 [==============================] - 1s 8ms/step - loss: 0.6526 - accuracy: 0.7294 - val_loss: 0.6973 - val_accuracy: 0.7126\n",
      "Epoch 108/200\n",
      "86/86 [==============================] - 1s 7ms/step - loss: 0.6571 - accuracy: 0.7254 - val_loss: 0.6974 - val_accuracy: 0.7126\n",
      "Epoch 109/200\n",
      "86/86 [==============================] - 1s 7ms/step - loss: 0.6578 - accuracy: 0.7246 - val_loss: 0.6973 - val_accuracy: 0.7126\n",
      "Epoch 110/200\n",
      "86/86 [==============================] - 1s 7ms/step - loss: 0.6540 - accuracy: 0.7272 - val_loss: 0.6972 - val_accuracy: 0.7126\n",
      "Epoch 111/200\n",
      "86/86 [==============================] - 1s 7ms/step - loss: 0.6542 - accuracy: 0.7301 - val_loss: 0.6970 - val_accuracy: 0.7126\n",
      "Epoch 112/200\n",
      "86/86 [==============================] - 1s 8ms/step - loss: 0.6567 - accuracy: 0.7239 - val_loss: 0.6970 - val_accuracy: 0.7126\n",
      "Epoch 113/200\n",
      "86/86 [==============================] - 1s 10ms/step - loss: 0.6581 - accuracy: 0.7283 - val_loss: 0.6971 - val_accuracy: 0.7126\n",
      "Epoch 114/200\n",
      "86/86 [==============================] - 1s 9ms/step - loss: 0.6581 - accuracy: 0.7250 - val_loss: 0.6969 - val_accuracy: 0.7126\n",
      "Epoch 115/200\n",
      "86/86 [==============================] - 1s 8ms/step - loss: 0.6502 - accuracy: 0.7312 - val_loss: 0.6968 - val_accuracy: 0.7126\n",
      "Epoch 116/200\n",
      "86/86 [==============================] - 1s 8ms/step - loss: 0.6544 - accuracy: 0.7349 - val_loss: 0.6963 - val_accuracy: 0.7126\n",
      "Epoch 117/200\n",
      "86/86 [==============================] - 1s 9ms/step - loss: 0.6517 - accuracy: 0.7305 - val_loss: 0.6963 - val_accuracy: 0.7126\n",
      "Epoch 118/200\n",
      "86/86 [==============================] - 1s 8ms/step - loss: 0.6497 - accuracy: 0.7257 - val_loss: 0.6965 - val_accuracy: 0.7126\n",
      "Epoch 119/200\n",
      "86/86 [==============================] - 1s 14ms/step - loss: 0.6496 - accuracy: 0.7342 - val_loss: 0.6960 - val_accuracy: 0.7185\n",
      "Epoch 120/200\n",
      "86/86 [==============================] - 1s 12ms/step - loss: 0.6470 - accuracy: 0.7338 - val_loss: 0.6958 - val_accuracy: 0.7185\n",
      "Epoch 121/200\n",
      "86/86 [==============================] - 1s 7ms/step - loss: 0.6477 - accuracy: 0.7279 - val_loss: 0.6958 - val_accuracy: 0.7185\n",
      "Epoch 122/200\n",
      "86/86 [==============================] - 1s 8ms/step - loss: 0.6456 - accuracy: 0.7327 - val_loss: 0.6958 - val_accuracy: 0.7185\n",
      "Epoch 123/200\n",
      "86/86 [==============================] - 1s 9ms/step - loss: 0.6502 - accuracy: 0.7290 - val_loss: 0.6954 - val_accuracy: 0.7155\n",
      "Epoch 124/200\n",
      "86/86 [==============================] - 1s 9ms/step - loss: 0.6491 - accuracy: 0.7283 - val_loss: 0.6956 - val_accuracy: 0.7155\n",
      "Epoch 125/200\n",
      "86/86 [==============================] - 1s 14ms/step - loss: 0.6456 - accuracy: 0.7342 - val_loss: 0.6955 - val_accuracy: 0.7155\n",
      "Epoch 126/200\n",
      "86/86 [==============================] - 1s 14ms/step - loss: 0.6455 - accuracy: 0.7323 - val_loss: 0.6951 - val_accuracy: 0.7185\n",
      "Epoch 127/200\n",
      "86/86 [==============================] - 1s 9ms/step - loss: 0.6491 - accuracy: 0.7261 - val_loss: 0.6952 - val_accuracy: 0.7155\n",
      "Epoch 128/200\n",
      "86/86 [==============================] - 1s 15ms/step - loss: 0.6475 - accuracy: 0.7298 - val_loss: 0.6953 - val_accuracy: 0.7185\n",
      "Epoch 129/200\n",
      "86/86 [==============================] - 1s 13ms/step - loss: 0.6452 - accuracy: 0.7342 - val_loss: 0.6951 - val_accuracy: 0.7155\n",
      "Epoch 130/200\n",
      "86/86 [==============================] - 1s 11ms/step - loss: 0.6441 - accuracy: 0.7331 - val_loss: 0.6951 - val_accuracy: 0.7155\n",
      "Epoch 131/200\n",
      "86/86 [==============================] - 1s 8ms/step - loss: 0.6455 - accuracy: 0.7294 - val_loss: 0.6947 - val_accuracy: 0.7155\n",
      "Epoch 132/200\n",
      "86/86 [==============================] - 1s 7ms/step - loss: 0.6432 - accuracy: 0.7309 - val_loss: 0.6949 - val_accuracy: 0.7155\n",
      "Epoch 133/200\n",
      "86/86 [==============================] - 1s 8ms/step - loss: 0.6461 - accuracy: 0.7323 - val_loss: 0.6947 - val_accuracy: 0.7155\n",
      "Epoch 134/200\n",
      "86/86 [==============================] - 1s 6ms/step - loss: 0.6404 - accuracy: 0.7360 - val_loss: 0.6943 - val_accuracy: 0.7155\n",
      "Epoch 135/200\n",
      "86/86 [==============================] - 0s 5ms/step - loss: 0.6472 - accuracy: 0.7254 - val_loss: 0.6943 - val_accuracy: 0.7155\n",
      "Epoch 136/200\n",
      "86/86 [==============================] - 0s 5ms/step - loss: 0.6388 - accuracy: 0.7353 - val_loss: 0.6944 - val_accuracy: 0.7155\n",
      "Epoch 137/200\n",
      "86/86 [==============================] - 1s 8ms/step - loss: 0.6432 - accuracy: 0.7301 - val_loss: 0.6942 - val_accuracy: 0.7155\n",
      "Epoch 138/200\n",
      "86/86 [==============================] - 1s 8ms/step - loss: 0.6372 - accuracy: 0.7301 - val_loss: 0.6938 - val_accuracy: 0.7155\n",
      "Epoch 139/200\n",
      "86/86 [==============================] - 1s 8ms/step - loss: 0.6371 - accuracy: 0.7342 - val_loss: 0.6936 - val_accuracy: 0.7155\n",
      "Epoch 140/200\n",
      "86/86 [==============================] - 1s 8ms/step - loss: 0.6395 - accuracy: 0.7283 - val_loss: 0.6938 - val_accuracy: 0.7155\n",
      "Epoch 141/200\n",
      "86/86 [==============================] - 1s 9ms/step - loss: 0.6431 - accuracy: 0.7305 - val_loss: 0.6937 - val_accuracy: 0.7155\n",
      "Epoch 142/200\n",
      "86/86 [==============================] - 1s 10ms/step - loss: 0.6373 - accuracy: 0.7360 - val_loss: 0.6939 - val_accuracy: 0.7155\n",
      "Epoch 143/200\n",
      "86/86 [==============================] - 1s 10ms/step - loss: 0.6406 - accuracy: 0.7389 - val_loss: 0.6936 - val_accuracy: 0.7155\n",
      "Epoch 144/200\n",
      "86/86 [==============================] - 1s 9ms/step - loss: 0.6391 - accuracy: 0.7312 - val_loss: 0.6935 - val_accuracy: 0.7155\n",
      "Epoch 145/200\n",
      "86/86 [==============================] - 1s 8ms/step - loss: 0.6399 - accuracy: 0.7301 - val_loss: 0.6935 - val_accuracy: 0.7155\n",
      "Epoch 146/200\n",
      "86/86 [==============================] - 1s 9ms/step - loss: 0.6425 - accuracy: 0.7360 - val_loss: 0.6934 - val_accuracy: 0.7185\n",
      "Epoch 147/200\n",
      "86/86 [==============================] - 1s 7ms/step - loss: 0.6352 - accuracy: 0.7334 - val_loss: 0.6933 - val_accuracy: 0.7155\n",
      "Epoch 148/200\n",
      "86/86 [==============================] - 1s 8ms/step - loss: 0.6365 - accuracy: 0.7353 - val_loss: 0.6934 - val_accuracy: 0.7155\n",
      "Epoch 149/200\n",
      "86/86 [==============================] - 1s 9ms/step - loss: 0.6374 - accuracy: 0.7316 - val_loss: 0.6932 - val_accuracy: 0.7155\n",
      "Epoch 150/200\n",
      "86/86 [==============================] - 1s 8ms/step - loss: 0.6368 - accuracy: 0.7272 - val_loss: 0.6933 - val_accuracy: 0.7155\n",
      "Epoch 151/200\n",
      "86/86 [==============================] - 1s 8ms/step - loss: 0.6364 - accuracy: 0.7287 - val_loss: 0.6930 - val_accuracy: 0.7185\n",
      "Epoch 152/200\n",
      "86/86 [==============================] - 1s 8ms/step - loss: 0.6372 - accuracy: 0.7334 - val_loss: 0.6928 - val_accuracy: 0.7155\n",
      "Epoch 153/200\n",
      "86/86 [==============================] - 1s 7ms/step - loss: 0.6328 - accuracy: 0.7323 - val_loss: 0.6926 - val_accuracy: 0.7185\n",
      "Epoch 154/200\n",
      "86/86 [==============================] - 1s 7ms/step - loss: 0.6315 - accuracy: 0.7400 - val_loss: 0.6927 - val_accuracy: 0.7185\n",
      "Epoch 155/200\n",
      "86/86 [==============================] - 1s 9ms/step - loss: 0.6355 - accuracy: 0.7393 - val_loss: 0.6927 - val_accuracy: 0.7155\n",
      "Epoch 156/200\n",
      "86/86 [==============================] - 1s 9ms/step - loss: 0.6382 - accuracy: 0.7290 - val_loss: 0.6925 - val_accuracy: 0.7185\n",
      "Epoch 157/200\n",
      "86/86 [==============================] - 1s 11ms/step - loss: 0.6338 - accuracy: 0.7367 - val_loss: 0.6924 - val_accuracy: 0.7185\n",
      "Epoch 158/200\n",
      "86/86 [==============================] - 1s 9ms/step - loss: 0.6286 - accuracy: 0.7367 - val_loss: 0.6926 - val_accuracy: 0.7185\n",
      "Epoch 159/200\n",
      "86/86 [==============================] - 1s 9ms/step - loss: 0.6305 - accuracy: 0.7386 - val_loss: 0.6923 - val_accuracy: 0.7185\n",
      "Epoch 160/200\n",
      "86/86 [==============================] - 1s 8ms/step - loss: 0.6319 - accuracy: 0.7345 - val_loss: 0.6924 - val_accuracy: 0.7214\n",
      "Epoch 161/200\n",
      "86/86 [==============================] - 1s 9ms/step - loss: 0.6331 - accuracy: 0.7353 - val_loss: 0.6923 - val_accuracy: 0.7185\n",
      "Epoch 162/200\n",
      "86/86 [==============================] - 1s 8ms/step - loss: 0.6307 - accuracy: 0.7404 - val_loss: 0.6927 - val_accuracy: 0.7155\n",
      "Epoch 163/200\n",
      "86/86 [==============================] - 1s 8ms/step - loss: 0.6326 - accuracy: 0.7367 - val_loss: 0.6923 - val_accuracy: 0.7155\n",
      "Epoch 164/200\n",
      "86/86 [==============================] - 1s 9ms/step - loss: 0.6304 - accuracy: 0.7386 - val_loss: 0.6925 - val_accuracy: 0.7155\n",
      "Epoch 165/200\n",
      "86/86 [==============================] - 1s 7ms/step - loss: 0.6344 - accuracy: 0.7356 - val_loss: 0.6925 - val_accuracy: 0.7155\n",
      "Epoch 166/200\n",
      "86/86 [==============================] - 1s 8ms/step - loss: 0.6305 - accuracy: 0.7360 - val_loss: 0.6925 - val_accuracy: 0.7185\n",
      "Epoch 167/200\n",
      "86/86 [==============================] - 1s 9ms/step - loss: 0.6334 - accuracy: 0.7301 - val_loss: 0.6925 - val_accuracy: 0.7214\n",
      "Epoch 168/200\n",
      "86/86 [==============================] - 1s 9ms/step - loss: 0.6330 - accuracy: 0.7331 - val_loss: 0.6924 - val_accuracy: 0.7214\n",
      "Epoch 169/200\n",
      "86/86 [==============================] - 1s 9ms/step - loss: 0.6267 - accuracy: 0.7404 - val_loss: 0.6923 - val_accuracy: 0.7243\n",
      "Epoch 170/200\n",
      "86/86 [==============================] - 1s 10ms/step - loss: 0.6286 - accuracy: 0.7400 - val_loss: 0.6918 - val_accuracy: 0.7214\n",
      "Epoch 171/200\n",
      "86/86 [==============================] - 1s 9ms/step - loss: 0.6277 - accuracy: 0.7397 - val_loss: 0.6923 - val_accuracy: 0.7185\n",
      "Epoch 172/200\n",
      "86/86 [==============================] - 1s 7ms/step - loss: 0.6285 - accuracy: 0.7371 - val_loss: 0.6923 - val_accuracy: 0.7185\n",
      "Epoch 173/200\n",
      "86/86 [==============================] - 1s 9ms/step - loss: 0.6271 - accuracy: 0.7393 - val_loss: 0.6924 - val_accuracy: 0.7185\n",
      "Epoch 174/200\n",
      "86/86 [==============================] - 1s 9ms/step - loss: 0.6312 - accuracy: 0.7371 - val_loss: 0.6926 - val_accuracy: 0.7243\n",
      "Epoch 175/200\n",
      "86/86 [==============================] - 1s 8ms/step - loss: 0.6278 - accuracy: 0.7367 - val_loss: 0.6925 - val_accuracy: 0.7243\n",
      "Epoch 176/200\n",
      "86/86 [==============================] - 1s 8ms/step - loss: 0.6222 - accuracy: 0.7367 - val_loss: 0.6925 - val_accuracy: 0.7243\n",
      "Epoch 177/200\n",
      "86/86 [==============================] - 1s 8ms/step - loss: 0.6263 - accuracy: 0.7397 - val_loss: 0.6928 - val_accuracy: 0.7214\n",
      "Epoch 178/200\n",
      "86/86 [==============================] - 1s 11ms/step - loss: 0.6219 - accuracy: 0.7349 - val_loss: 0.6927 - val_accuracy: 0.7214\n",
      "Epoch 179/200\n",
      "86/86 [==============================] - 1s 6ms/step - loss: 0.6292 - accuracy: 0.7356 - val_loss: 0.6926 - val_accuracy: 0.7243\n",
      "Epoch 180/200\n",
      "86/86 [==============================] - 1s 9ms/step - loss: 0.6278 - accuracy: 0.7305 - val_loss: 0.6931 - val_accuracy: 0.7214\n",
      "Epoch 181/200\n",
      "86/86 [==============================] - 1s 9ms/step - loss: 0.6227 - accuracy: 0.7382 - val_loss: 0.6930 - val_accuracy: 0.7214\n",
      "Epoch 182/200\n",
      "86/86 [==============================] - 0s 5ms/step - loss: 0.6157 - accuracy: 0.7455 - val_loss: 0.6928 - val_accuracy: 0.7243\n",
      "Epoch 183/200\n",
      "86/86 [==============================] - 0s 5ms/step - loss: 0.6220 - accuracy: 0.7371 - val_loss: 0.6925 - val_accuracy: 0.7243\n",
      "Epoch 184/200\n",
      "86/86 [==============================] - 1s 7ms/step - loss: 0.6219 - accuracy: 0.7430 - val_loss: 0.6927 - val_accuracy: 0.7243\n",
      "Epoch 185/200\n",
      "86/86 [==============================] - 1s 7ms/step - loss: 0.6283 - accuracy: 0.7334 - val_loss: 0.6927 - val_accuracy: 0.7243\n",
      "Epoch 186/200\n",
      "86/86 [==============================] - 1s 8ms/step - loss: 0.6207 - accuracy: 0.7437 - val_loss: 0.6929 - val_accuracy: 0.7243\n",
      "Epoch 187/200\n",
      "86/86 [==============================] - 1s 8ms/step - loss: 0.6235 - accuracy: 0.7367 - val_loss: 0.6925 - val_accuracy: 0.7214\n",
      "Epoch 188/200\n",
      "86/86 [==============================] - 1s 6ms/step - loss: 0.6211 - accuracy: 0.7389 - val_loss: 0.6920 - val_accuracy: 0.7243\n",
      "Epoch 189/200\n",
      "86/86 [==============================] - 1s 8ms/step - loss: 0.6211 - accuracy: 0.7400 - val_loss: 0.6922 - val_accuracy: 0.7273\n",
      "Epoch 190/200\n",
      "86/86 [==============================] - 1s 9ms/step - loss: 0.6212 - accuracy: 0.7389 - val_loss: 0.6920 - val_accuracy: 0.7214\n",
      "Epoch 191/200\n",
      "86/86 [==============================] - 1s 8ms/step - loss: 0.6161 - accuracy: 0.7393 - val_loss: 0.6920 - val_accuracy: 0.7214\n",
      "Epoch 191: early stopping\n",
      "=============================================================================\n"
     ]
    }
   ],
   "source": [
    "print(\"2#Train model\")\n",
    "history=train_model(model,n_epochs,n_batch_size)\n",
    "print(\"=============================================================================\")\n"
   ]
  },
  {
   "cell_type": "code",
   "execution_count": 26,
   "id": "19961e63-4585-4662-98ee-25402fe7e735",
   "metadata": {
    "tags": []
   },
   "outputs": [
    {
     "name": "stdout",
     "output_type": "stream",
     "text": [
      "3#Evaluate model\n",
      "11/11 [==============================] - 0s 10ms/step - loss: 0.6920 - accuracy: 0.7214\n",
      "Average Loss - Accuracy on Eveluation 0.6920173168182373 -0.7214076519012451\n",
      "11/11 [==============================] - 0s 9ms/step - loss: 0.6671 - accuracy: 0.7105\n",
      "Average Loss - Accuracy on Test 0.6671358942985535 -0.7105262875556946\n",
      "=============================================================================\n"
     ]
    }
   ],
   "source": [
    "print(\"3#Evaluate model\")\n",
    "\n",
    "loss_val, accuracy_val = model.evaluate(val_ds)\n",
    "print(f\"Average Loss - Accuracy on Eveluation {loss_val} -{accuracy_val}\")\n",
    "\n",
    "loss_test, accuracy_test = model.evaluate(test_ds)\n",
    "print(f\"Average Loss - Accuracy on Test {loss_test} -{accuracy_test}\")\n",
    "\n",
    "print(\"=============================================================================\")\n",
    "\n",
    "\n",
    "# production data set to 12MAr23\n",
    "# 7/7 [==============================] - 0s 2ms/step - loss: 0.6655 - accuracy: 0.7689\n",
    "# Average Loss - Accuracy on Eveluation 0.6654592752456665 -0.7688679099082947\n",
    "# 7/7 [==============================] - 0s 2ms/step - loss: 0.6977 - accuracy: 0.7358\n",
    "# Average Loss - Accuracy on Test 0.6977102160453796 -0.7358490824699402\n",
    "\n",
    "\n",
    "# demo set to 04 April23\n",
    "# 8/8 [==============================] - 0s 2ms/step - loss: 0.7334 - accuracy: 0.7621\n",
    "# Average Loss - Accuracy on Eveluation 0.7333917617797852 -0.7621145248413086\n",
    "# 8/8 [==============================] - 0s 3ms/step - loss: 0.7452 - accuracy: 0.6740\n",
    "# Average Loss - Accuracy on Test 0.745168149471283 -0.6740087866783142\n",
    "# ============================================================================"
   ]
  },
  {
   "cell_type": "code",
   "execution_count": null,
   "id": "ac8dbb57-b0df-4e35-88fe-3ad1061ee047",
   "metadata": {},
   "outputs": [],
   "source": []
  },
  {
   "cell_type": "code",
   "execution_count": 27,
   "id": "3f43e5ca-f8a5-4f75-b768-33a296ee2fb9",
   "metadata": {
    "tags": []
   },
   "outputs": [
    {
     "name": "stdout",
     "output_type": "stream",
     "text": [
      "Known TensorBoard instances:\n",
      "  - port 6006: logdir logs/fit (started 23:52:56 ago; pid 13184)\n",
      "  - port 6006: logdir tsb_logs/fit/ (started 20:25:36 ago; pid 15264)\n",
      "  - port 6006: logdir tsb_logs/tune/ (started 19:18:56 ago; pid 15424)\n",
      "  - port 6006: logdir logs/fit (started 23:56:55 ago; pid 17184)\n",
      "  - port 6006: logdir tsb_logs/fit/ (started 19:48:37 ago; pid 18800)\n",
      "Selecting TensorBoard with logdir tsb_logs/tune/ (started 19:18:56 ago; port 6006, pid 15424).\n"
     ]
    },
    {
     "data": {
      "text/html": [
       "\n",
       "      <iframe id=\"tensorboard-frame-a9b7f57e7cb5bd52\" width=\"100%\" height=\"1000\" frameborder=\"0\">\n",
       "      </iframe>\n",
       "      <script>\n",
       "        (function() {\n",
       "          const frame = document.getElementById(\"tensorboard-frame-a9b7f57e7cb5bd52\");\n",
       "          const url = new URL(\"/\", window.location);\n",
       "          const port = 6006;\n",
       "          if (port) {\n",
       "            url.port = port;\n",
       "          }\n",
       "          frame.src = url;\n",
       "        })();\n",
       "      </script>\n",
       "    "
      ],
      "text/plain": [
       "<IPython.core.display.HTML object>"
      ]
     },
     "metadata": {},
     "output_type": "display_data"
    }
   ],
   "source": [
    "# Log result with Tensorboad\n",
    "# !kill 18800\n",
    "# load and use jupyter notebok\n",
    "# %tensorboard --logdir tsb_logs/fit/  --host 0.0.0.0\n",
    "\n",
    "#tensorboard --logdir=ilogs/ --port=6006\n",
    "#%tensorboard --logdir tsb_logs/fit/\n",
    "# ! del /f ./logs/\n",
    "\n",
    "from tensorboard import notebook\n",
    "notebook.list() # View open TensorBoard instances\n",
    "\n",
    "notebook.display(port=6006, height=1000)\n"
   ]
  },
  {
   "cell_type": "code",
   "execution_count": 28,
   "id": "00f3a39c-d489-4970-a709-cdf9c38805f2",
   "metadata": {
    "tags": []
   },
   "outputs": [
    {
     "name": "stdout",
     "output_type": "stream",
     "text": [
      "4#Explore Result model\n"
     ]
    },
    {
     "data": {
      "image/png": "[encoded data removed]",
      "text/plain": [
       "<Figure size 1500x800 with 1 Axes>"
      ]
     },
     "metadata": {},
     "output_type": "display_data"
    },
    {
     "data": {
      "image/png": "[encoded data removed]",
      "text/plain": [
       "<Figure size 1500x800 with 1 Axes>"
      ]
     },
     "metadata": {},
     "output_type": "display_data"
    }
   ],
   "source": [
    "print(\"4#Explore Result model\")\n",
    "plot_metrics(history,main_metric)\n",
    "plot_metrics(history,\"loss\")\n"
   ]
  },
  {
   "cell_type": "markdown",
   "id": "c05e9e8b-804d-4c37-9865-9dfcf2343411",
   "metadata": {},
   "source": [
    "# Save Model"
   ]
  },
  {
   "cell_type": "code",
   "execution_count": 32,
   "id": "ab8f677c-dfa2-48b5-b980-6cc10f2e0033",
   "metadata": {},
   "outputs": [
    {
     "name": "stderr",
     "output_type": "stream",
     "text": [
      "WARNING:absl:Found untraced functions such as _update_step_xla while saving (showing 1 of 1). These functions will not be directly callable after loading.\n"
     ]
    },
    {
     "name": "stdout",
     "output_type": "stream",
     "text": [
      "INFO:tensorflow:Assets written to: model_v2\\assets\n"
     ]
    },
    {
     "name": "stderr",
     "output_type": "stream",
     "text": [
      "INFO:tensorflow:Assets written to: model_v2\\assets\n"
     ]
    }
   ],
   "source": [
    "model.save(model_dir)\n"
   ]
  },
  {
   "cell_type": "markdown",
   "id": "f86af40e-2142-4c2f-af6d-13bae8cd463e",
   "metadata": {},
   "source": [
    "# Try Prediction"
   ]
  },
  {
   "cell_type": "code",
   "execution_count": 33,
   "id": "dd916787-bacc-4537-b2b6-1c6d62932de8",
   "metadata": {},
   "outputs": [
    {
     "name": "stdout",
     "output_type": "stream",
     "text": [
      "{'sla': '24x7 4Hrs Response Time', 'product_type': 'Server', 'brand': 'VMWare', 'service_type': 'Incident', 'incident_type': 'General Incident', 'open_to_close_hour': 12, 'response_to_resolved_hour': 8.5}\n",
      "===============================================================================================================\n",
      "convert pain data to serdor as input to predict\n",
      "{'sla': <tf.Tensor: shape=(1,), dtype=string, numpy=array([b'24x7 4Hrs Response Time'], dtype=object)>, 'product_type': <tf.Tensor: shape=(1,), dtype=string, numpy=array([b'Server'], dtype=object)>, 'brand': <tf.Tensor: shape=(1,), dtype=string, numpy=array([b'VMWare'], dtype=object)>, 'service_type': <tf.Tensor: shape=(1,), dtype=string, numpy=array([b'Incident'], dtype=object)>, 'incident_type': <tf.Tensor: shape=(1,), dtype=string, numpy=array([b'General Incident'], dtype=object)>, 'open_to_close_hour': <tf.Tensor: shape=(1,), dtype=int32, numpy=array([12])>, 'response_to_resolved_hour': <tf.Tensor: shape=(1,), dtype=float32, numpy=array([8.5], dtype=float32)>}\n",
      "1/1 [==============================] - 1s 687ms/step\n",
      "[[0.04325395 0.3451526  0.5855194  0.02607411]]\n",
      "[19.781261 26.752653 34.021767 19.444326] % at 2 as Severity\n"
     ]
    }
   ],
   "source": [
    "#label_multi_severity\n",
    "\n",
    "local_model= tf.keras.models.load_model(model_dir)\n",
    "\n",
    "sample={\"sla\":\"24x7 4Hrs Response Time\",\n",
    "        \"product_type\":\"Server\",\n",
    "        \"brand\":\"VMWare\",                \n",
    "        \"service_type\":\"Incident\",\n",
    "        \"incident_type\":\"General Incident\",\n",
    "        \"open_to_close_hour\":12,\n",
    "        \"response_to_resolved_hour\":8.500000 \\\n",
    "       }\n",
    "\n",
    "print(sample)\n",
    "              \n",
    "print(\"===============================================================================================================\")    \n",
    "print(\"convert pain data to serdor as input to predict\")    \n",
    "input_dict = {name: tf.convert_to_tensor([value]) for name, value in sample.items()}\n",
    "print(input_dict)\n",
    "\n",
    "predictionList = local_model.predict(input_dict)\n",
    "print(predictionList)\n",
    "\n",
    "prob = tf.nn.softmax(predictionList[0])\n",
    "print(f\"{(100 * prob)} % at {np.argmax(prob, axis=0)} as Severity\") \n"
   ]
  },
  {
   "cell_type": "markdown",
   "id": "c5587682-2265-4eff-985f-ca1f7852ddf4",
   "metadata": {},
   "source": [
    "# Copy Model From Local To GCS"
   ]
  },
  {
   "cell_type": "code",
   "execution_count": null,
   "id": "eaabd3ac-47ad-43ae-b6e5-fc16fecec238",
   "metadata": {},
   "outputs": [],
   "source": [
    "# # #https://codelabs.developers.google.com/codelabs/fraud-detection-ai-explanations?hl=en#6\n",
    "# # press_y3=input(f\"Press y=True to save model to Google Cloud storage : \") \n",
    "# # if press_y3.lower()=='y':\n",
    "# MODEL_BUCKET = 'gs://tf1-incident-smart-ml-yip'\n",
    "\n",
    "# # # # !gsutil mb -l $REGION $MODEL_BUCKET\n",
    "# # !gsutil -m cp -r ./$model_dir/* $MODEL_BUCKET/demo_model\n",
    "# !gsutil -m cp -r ./$model_dir/* $MODEL_BUCKET/model\n",
    "# #!gsutil -m cp -r ./$explain_meta_model_dir/* $MODEL_BUCKET/demo_model_explain_meta\n",
    "# # else:\n",
    "# #  quite()\n"
   ]
  },
  {
   "cell_type": "code",
   "execution_count": null,
   "id": "6465851a-f078-41a2-991c-80a71d3e695d",
   "metadata": {},
   "outputs": [],
   "source": [
    "\n"
   ]
  },
  {
   "cell_type": "code",
   "execution_count": null,
   "id": "6c0f6c5d-3ea4-4fae-ba78-b8decf134a92",
   "metadata": {},
   "outputs": [],
   "source": []
  },
  {
   "cell_type": "code",
   "execution_count": null,
   "id": "ff433f46-0e98-48ec-8b32-25b840541253",
   "metadata": {},
   "outputs": [],
   "source": []
  }
 ],
 "metadata": {
  "environment": {
   "kernel": "python3",
   "name": "tf2-gpu.2-12.m109",
   "type": "gcloud",
   "uri": "gcr.io/deeplearning-platform-release/tf2-gpu.2-12:m109"
  },
  "kernelspec": {
   "display_name": "Python 3 (ipykernel)",
   "language": "python",
   "name": "python3"
  },
  "language_info": {
   "codemirror_mode": {
    "name": "ipython",
    "version": 3
   },
   "file_extension": ".py",
   "mimetype": "text/x-python",
   "name": "python",
   "nbconvert_exporter": "python",
   "pygments_lexer": "ipython3",
   "version": "3.10.12"
  }
 },
 "nbformat": 4,
 "nbformat_minor": 5
}
