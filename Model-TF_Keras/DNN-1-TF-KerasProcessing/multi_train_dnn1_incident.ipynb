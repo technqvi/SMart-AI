{
 "cells": [
  {
   "cell_type": "code",
   "execution_count": 263,
   "id": "efd54814-e227-4302-9a81-3d6ddcf0e9a5",
   "metadata": {},
   "outputs": [
    {
     "data": {
      "text/plain": [
       "'2.11.0'"
      ]
     },
     "execution_count": 263,
     "metadata": {},
     "output_type": "execute_result"
    }
   ],
   "source": [
    "# import necessary libraries\n",
    "\n",
    "#https://github.com/GoogleCloudPlatform/training-data-analyst/blob/master/courses/machine_learning/deepdive2/introduction_to_tensorflow/solutions/preprocessing_layers.ipynb\n",
    "#https://github.com/GoogleCloudPlatform/vertex-ai-samples/blob/main/notebooks/official/custom/custom-tabular-bq-managed-dataset.ipynb\n",
    "#https://github.com/GoogleCloudPlatform/training-data-analyst/blob/master/courses/machine_learning/deepdive2/introduction_to_tensorflow/solutions/int_logistic_regression.ipynb\n",
    "#http://localhost:8888/lab/tree/MyQuantFinProject/SMart-AI/DemoDataTransform.ipynb\n",
    "\n",
    "import math\n",
    "\n",
    "import numpy as np\n",
    "import pandas as pd\n",
    "import tensorflow as tf\n",
    "import matplotlib.pyplot as plt\n",
    "import seaborn as sns\n",
    "\n",
    "from tensorflow.keras import Sequential\n",
    "from tensorflow.keras.layers import Dense,DenseFeatures\n",
    "\n",
    "from datetime import date, timedelta, datetime # Date Functions\n",
    "import time\n",
    "\n",
    "\n",
    "from google.cloud import bigquery\n",
    "from sklearn.model_selection import train_test_split\n",
    "from tensorflow.keras import layers\n",
    "from tensorflow.keras.layers.experimental import preprocessing\n",
    "\n",
    "from google.cloud import aiplatform as vertex_ai\n",
    "from tensorflow.python.keras.utils import data_utils\n",
    "\n",
    "tf.__version__"
   ]
  },
  {
   "cell_type": "code",
   "execution_count": 264,
   "id": "d28a9538-ca23-45f0-817b-e4b067cf9ab3",
   "metadata": {},
   "outputs": [],
   "source": [
    "cateCols=['sla','product_type','brand','service_type','incident_type']\n",
    "# cateCols=['sla','product_type','service_type','incident_type']\n",
    "\n",
    "numbericCols=['open_to_close_hour','response_to_resolved_hour']\n",
    "#numbericCols=['open_to_close_hour']\n",
    "\n",
    "unusedCols=['severity_id','severity_name','label_binary_severity']\n",
    "#unusedCols=['severity_id','severity_name','label_binary_severity','brand','response_to_resolved_hour']\n",
    "\n",
    "labelCol='label_multi_severity'\n",
    "\n",
    "#model_dir='model' # production\n",
    "model_dir='demo_model' # demo\n",
    "\n",
    "\n",
    "main_metric='accuracy'\n",
    "main_objective=f'val_{main_metric}'\n",
    "\n",
    "\n",
    "nEarlyPatience=10\n",
    "#nEarlyPatience=5\n",
    "\n",
    "# df['label_multi_severity'] =df['severity_name'].map({'Cosmatic':0,'Minor': 1, \"Major\": 2, \"Critical\": 3}) "
   ]
  },
  {
   "cell_type": "code",
   "execution_count": 265,
   "id": "9f189c38-58e7-4a2d-bc8d-16829d06ad98",
   "metadata": {},
   "outputs": [],
   "source": [
    "# Load data from BigQuery\n",
    "projectId='pongthorn'\n",
    "dataset_id='DemoSMartDW'"
   ]
  },
  {
   "cell_type": "code",
   "execution_count": 266,
   "id": "89051a07-8d7f-476c-ab6b-1d2216074122",
   "metadata": {},
   "outputs": [],
   "source": [
    "train_name='train_incident'\n",
    "validation_name='validation_incident'\n",
    "test_name='test_incident'"
   ]
  },
  {
   "cell_type": "markdown",
   "id": "3c0aa901-563f-4d2c-9203-67175431c32f",
   "metadata": {},
   "source": [
    "# Load Data"
   ]
  },
  {
   "cell_type": "code",
   "execution_count": 267,
   "id": "515ac215-f4eb-4752-9990-6d50b4303014",
   "metadata": {},
   "outputs": [],
   "source": [
    "client_bq = bigquery.Client()"
   ]
  },
  {
   "cell_type": "code",
   "execution_count": 268,
   "id": "c09b03b7-3e9d-4f25-b8c8-5d8cd615afce",
   "metadata": {},
   "outputs": [],
   "source": [
    "def load_ml_data(data_path):\n",
    " df=pd.read_csv(data_path)\n",
    " df =df.drop(columns=unusedCols)\n",
    " \n",
    " return df\n",
    "\n",
    "def load_data_bq(sql:str):\n",
    " \n",
    " query_result=client.query(sql)\n",
    " df=query_result.to_dataframe()\n",
    " df =df.drop(columns=unusedCols)\n",
    "  \n",
    " return df"
   ]
  },
  {
   "cell_type": "code",
   "execution_count": 269,
   "id": "5ddea3e1-b732-48c4-95fc-637108802a2c",
   "metadata": {},
   "outputs": [
    {
     "name": "stdout",
     "output_type": "stream",
     "text": [
      "(1814, 8)\n",
      "(227, 8)\n",
      "(227, 8)\n"
     ]
    }
   ],
   "source": [
    "\n",
    "\n",
    "train_table_id=f\"{projectId}.{dataset_id}.{train_name}\"\n",
    "val_tabel_id=f\"{projectId}.{dataset_id}.{validation_name}\"\n",
    "test_tabel_id=f\"{projectId}.{dataset_id}.{test_name}\"\n",
    "\n",
    "client = bigquery.Client(project=projectId)\n",
    "\n",
    "train=load_data_bq(f\"SELECT * FROM {train_table_id}\")\n",
    "val=load_data_bq(f\"SELECT * FROM {val_tabel_id}\")\n",
    "test=load_data_bq(f\"SELECT * FROM {test_tabel_id}\")\n",
    "\n",
    "# Load data from CSV File\n",
    "# root_path='../../data'    \n",
    "# train = load_ml_data(f\"{root_path}/{train_name}.csv\")\n",
    "# val=load_ml_data(f\"{root_path}/{validation_name}.csv\")\n",
    "# test =load_ml_data(f\"{root_path}/{test_name}.csv\")\n",
    "\n",
    "print(train.shape)\n",
    "print(val.shape)\n",
    "print(test.shape)\n"
   ]
  },
  {
   "cell_type": "code",
   "execution_count": 270,
   "id": "1bcdca62-5198-4d5d-8704-b42fa468a47b",
   "metadata": {},
   "outputs": [
    {
     "name": "stdout",
     "output_type": "stream",
     "text": [
      "List All Label: [0, 1, 2, 3]\n",
      "No target label : 4\n",
      "<class 'pandas.core.frame.DataFrame'>\n",
      "RangeIndex: 1814 entries, 0 to 1813\n",
      "Data columns (total 8 columns):\n",
      " #   Column                     Non-Null Count  Dtype  \n",
      "---  ------                     --------------  -----  \n",
      " 0   sla                        1814 non-null   object \n",
      " 1   product_type               1814 non-null   object \n",
      " 2   brand                      1814 non-null   object \n",
      " 3   service_type               1814 non-null   object \n",
      " 4   incident_type              1814 non-null   object \n",
      " 5   open_to_close_hour         1814 non-null   float64\n",
      " 6   response_to_resolved_hour  1814 non-null   float64\n",
      " 7   label_multi_severity       1814 non-null   Int64  \n",
      "dtypes: Int64(1), float64(2), object(5)\n",
      "memory usage: 115.3+ KB\n",
      "None\n"
     ]
    },
    {
     "data": {
      "text/html": [
       "<div>\n",
       "<style scoped>\n",
       "    .dataframe tbody tr th:only-of-type {\n",
       "        vertical-align: middle;\n",
       "    }\n",
       "\n",
       "    .dataframe tbody tr th {\n",
       "        vertical-align: top;\n",
       "    }\n",
       "\n",
       "    .dataframe thead th {\n",
       "        text-align: right;\n",
       "    }\n",
       "</style>\n",
       "<table border=\"1\" class=\"dataframe\">\n",
       "  <thead>\n",
       "    <tr style=\"text-align: right;\">\n",
       "      <th></th>\n",
       "      <th>sla</th>\n",
       "      <th>product_type</th>\n",
       "      <th>brand</th>\n",
       "      <th>service_type</th>\n",
       "      <th>incident_type</th>\n",
       "      <th>open_to_close_hour</th>\n",
       "      <th>response_to_resolved_hour</th>\n",
       "      <th>label_multi_severity</th>\n",
       "    </tr>\n",
       "  </thead>\n",
       "  <tbody>\n",
       "    <tr>\n",
       "      <th>1809</th>\n",
       "      <td>24x7 4Hrs Response Time</td>\n",
       "      <td>Software</td>\n",
       "      <td>Trend Micro</td>\n",
       "      <td>Request</td>\n",
       "      <td>General Incident</td>\n",
       "      <td>76.283333</td>\n",
       "      <td>1.316667</td>\n",
       "      <td>0</td>\n",
       "    </tr>\n",
       "    <tr>\n",
       "      <th>1810</th>\n",
       "      <td>24x7 4Hrs Response Time</td>\n",
       "      <td>Software</td>\n",
       "      <td>Trend Micro</td>\n",
       "      <td>Request</td>\n",
       "      <td>OS / Firmware</td>\n",
       "      <td>1193.283333</td>\n",
       "      <td>1193.283333</td>\n",
       "      <td>0</td>\n",
       "    </tr>\n",
       "    <tr>\n",
       "      <th>1811</th>\n",
       "      <td>24x7 4Hrs Response Time</td>\n",
       "      <td>Software</td>\n",
       "      <td>Trend Micro</td>\n",
       "      <td>Request</td>\n",
       "      <td>General Incident</td>\n",
       "      <td>24.366667</td>\n",
       "      <td>22.050000</td>\n",
       "      <td>0</td>\n",
       "    </tr>\n",
       "    <tr>\n",
       "      <th>1812</th>\n",
       "      <td>24x7 4Hrs Response Time</td>\n",
       "      <td>Software</td>\n",
       "      <td>Trend Micro</td>\n",
       "      <td>Request</td>\n",
       "      <td>General Incident</td>\n",
       "      <td>308.166667</td>\n",
       "      <td>308.033333</td>\n",
       "      <td>0</td>\n",
       "    </tr>\n",
       "    <tr>\n",
       "      <th>1813</th>\n",
       "      <td>24x7 6Hrs Resolution Time</td>\n",
       "      <td>Software</td>\n",
       "      <td>Trend Micro</td>\n",
       "      <td>Request</td>\n",
       "      <td>General Incident</td>\n",
       "      <td>5.483333</td>\n",
       "      <td>5.483333</td>\n",
       "      <td>0</td>\n",
       "    </tr>\n",
       "  </tbody>\n",
       "</table>\n",
       "</div>"
      ],
      "text/plain": [
       "                            sla product_type        brand service_type  \\\n",
       "1809    24x7 4Hrs Response Time     Software  Trend Micro      Request   \n",
       "1810    24x7 4Hrs Response Time     Software  Trend Micro      Request   \n",
       "1811    24x7 4Hrs Response Time     Software  Trend Micro      Request   \n",
       "1812    24x7 4Hrs Response Time     Software  Trend Micro      Request   \n",
       "1813  24x7 6Hrs Resolution Time     Software  Trend Micro      Request   \n",
       "\n",
       "         incident_type  open_to_close_hour  response_to_resolved_hour  \\\n",
       "1809  General Incident           76.283333                   1.316667   \n",
       "1810     OS / Firmware         1193.283333                1193.283333   \n",
       "1811  General Incident           24.366667                  22.050000   \n",
       "1812  General Incident          308.166667                 308.033333   \n",
       "1813  General Incident            5.483333                   5.483333   \n",
       "\n",
       "      label_multi_severity  \n",
       "1809                     0  \n",
       "1810                     0  \n",
       "1811                     0  \n",
       "1812                     0  \n",
       "1813                     0  "
      ]
     },
     "execution_count": 270,
     "metadata": {},
     "output_type": "execute_result"
    }
   ],
   "source": [
    "labelList=list(train[labelCol].unique())\n",
    "print(\"List All Label:\" ,sorted(labelList))\n",
    "nLabel=len(labelList)\n",
    "print(f\"No target label : {nLabel}\")\n",
    "\n",
    "print(train.info())\n",
    "train.tail()"
   ]
  },
  {
   "cell_type": "code",
   "execution_count": 271,
   "id": "64adbe5e-d737-45a4-a04e-340a2926ad2d",
   "metadata": {},
   "outputs": [
    {
     "data": {
      "text/html": [
       "<div>\n",
       "<style scoped>\n",
       "    .dataframe tbody tr th:only-of-type {\n",
       "        vertical-align: middle;\n",
       "    }\n",
       "\n",
       "    .dataframe tbody tr th {\n",
       "        vertical-align: top;\n",
       "    }\n",
       "\n",
       "    .dataframe thead th {\n",
       "        text-align: right;\n",
       "    }\n",
       "</style>\n",
       "<table border=\"1\" class=\"dataframe\">\n",
       "  <thead>\n",
       "    <tr style=\"text-align: right;\">\n",
       "      <th></th>\n",
       "      <th>Train-No-Severity</th>\n",
       "      <th>Train-%-Severity</th>\n",
       "      <th>Val-No-Severity</th>\n",
       "      <th>Val-%-Severity</th>\n",
       "      <th>Test-No-Severity</th>\n",
       "      <th>Test-%-Severity</th>\n",
       "    </tr>\n",
       "    <tr>\n",
       "      <th>label_multi_severity</th>\n",
       "      <th></th>\n",
       "      <th></th>\n",
       "      <th></th>\n",
       "      <th></th>\n",
       "      <th></th>\n",
       "      <th></th>\n",
       "    </tr>\n",
       "  </thead>\n",
       "  <tbody>\n",
       "    <tr>\n",
       "      <th>0</th>\n",
       "      <td>323</td>\n",
       "      <td>18.0</td>\n",
       "      <td>50</td>\n",
       "      <td>22.0</td>\n",
       "      <td>39</td>\n",
       "      <td>17.0</td>\n",
       "    </tr>\n",
       "    <tr>\n",
       "      <th>1</th>\n",
       "      <td>529</td>\n",
       "      <td>29.0</td>\n",
       "      <td>63</td>\n",
       "      <td>28.0</td>\n",
       "      <td>68</td>\n",
       "      <td>30.0</td>\n",
       "    </tr>\n",
       "    <tr>\n",
       "      <th>2</th>\n",
       "      <td>876</td>\n",
       "      <td>48.0</td>\n",
       "      <td>101</td>\n",
       "      <td>44.0</td>\n",
       "      <td>109</td>\n",
       "      <td>48.0</td>\n",
       "    </tr>\n",
       "    <tr>\n",
       "      <th>3</th>\n",
       "      <td>86</td>\n",
       "      <td>5.0</td>\n",
       "      <td>13</td>\n",
       "      <td>6.0</td>\n",
       "      <td>11</td>\n",
       "      <td>5.0</td>\n",
       "    </tr>\n",
       "  </tbody>\n",
       "</table>\n",
       "</div>"
      ],
      "text/plain": [
       "                      Train-No-Severity  Train-%-Severity  Val-No-Severity  \\\n",
       "label_multi_severity                                                         \n",
       "0                                   323              18.0               50   \n",
       "1                                   529              29.0               63   \n",
       "2                                   876              48.0              101   \n",
       "3                                    86               5.0               13   \n",
       "\n",
       "                      Val-%-Severity  Test-No-Severity  Test-%-Severity  \n",
       "label_multi_severity                                                     \n",
       "0                               22.0                39             17.0  \n",
       "1                               28.0                68             30.0  \n",
       "2                               44.0               109             48.0  \n",
       "3                                6.0                11              5.0  "
      ]
     },
     "execution_count": 271,
     "metadata": {},
     "output_type": "execute_result"
    }
   ],
   "source": [
    "def CalPctEachTargetClass(dfx,colSev,colPctSev):\n",
    "    dfClassSummary=dfx.groupby([labelCol]).size().to_frame(colSev)\n",
    "    dfClassSummary[colPctSev]= dfClassSummary[colSev]/dfClassSummary[colSev].sum() *100\n",
    "    dfClassSummary=dfClassSummary.round(0)\n",
    "    return dfClassSummary\n",
    "\n",
    "pctDF1=CalPctEachTargetClass(train,'Train-No-Severity','Train-%-Severity')\n",
    "pctDF2=CalPctEachTargetClass(val,'Val-No-Severity','Val-%-Severity')\n",
    "pdcDF3=CalPctEachTargetClass(test,'Test-No-Severity','Test-%-Severity')\n",
    "pctDF=pd.concat([pctDF1,pctDF2,pdcDF3],axis=1)\n",
    "\n",
    "pctDF"
   ]
  },
  {
   "cell_type": "code",
   "execution_count": 272,
   "id": "c59e9916-6668-4c4e-8974-af63c3f840b0",
   "metadata": {},
   "outputs": [
    {
     "data": {
      "image/png": "[encoded data removed]",
      "text/plain": [
       "<Figure size 800x500 with 1 Axes>"
      ]
     },
     "metadata": {},
     "output_type": "display_data"
    },
    {
     "data": {
      "image/png": "[encoded data removed]",
      "text/plain": [
       "<Figure size 800x500 with 1 Axes>"
      ]
     },
     "metadata": {},
     "output_type": "display_data"
    },
    {
     "data": {
      "image/png": "[encoded data removed]",
      "text/plain": [
       "<Figure size 800x500 with 1 Axes>"
      ]
     },
     "metadata": {},
     "output_type": "display_data"
    }
   ],
   "source": [
    "def plot_class(df):\n",
    "    fig , ax = plt.subplots(figsize=(8,5))\n",
    "    ax =sns.countplot(x=labelCol, data=df,)\n",
    "    for p in ax.patches:\n",
    "       ax.annotate('{:.1f}'.format(p.get_height()), (p.get_x()+0.25, p.get_height()+0.01))\n",
    "    plt.title(labelCol.title())\n",
    "    plt.show()\n",
    "    \n",
    "plot_class(train)\n",
    "plot_class(val)\n",
    "plot_class(test)"
   ]
  },
  {
   "cell_type": "markdown",
   "id": "fa30d3fd-14e9-4c3d-a6aa-45d8114f5362",
   "metadata": {},
   "source": [
    "# Process Data  Layer"
   ]
  },
  {
   "cell_type": "code",
   "execution_count": 273,
   "id": "d9d3a943-09d5-4a43-b8d8-633bc4a90353",
   "metadata": {},
   "outputs": [],
   "source": [
    "def multiple_label_df_to_dataset(dataframe, shuffle=True, batch_size=32):\n",
    "  features = dataframe.copy()\n",
    "  labels = features.pop(labelCol)\n",
    "  labels  = tf.keras.utils.to_categorical(labels, num_classes=nLabel)\n",
    "    \n",
    "  ds = tf.data.Dataset.from_tensor_slices(( dict(features), labels ))\n",
    "  if shuffle:\n",
    "    ds = ds.shuffle(buffer_size=len(features))\n",
    "  ds = ds.batch(batch_size)\n",
    "  ds = ds.prefetch(batch_size)\n",
    "  return ds\n",
    "     \n",
    "     "
   ]
  },
  {
   "cell_type": "code",
   "execution_count": 274,
   "id": "274122c2-9481-438b-b637-6e6ad393d809",
   "metadata": {},
   "outputs": [
    {
     "name": "stdout",
     "output_type": "stream",
     "text": [
      "Explore Data from Tensor before keras data processing\n",
      "========Features==========\n",
      "Every feature: ['sla', 'product_type', 'brand', 'service_type', 'incident_type', 'open_to_close_hour', 'response_to_resolved_hour']\n",
      "product_type: tf.Tensor([b'Software'], shape=(1,), dtype=string)\n",
      "open_to_close_hour: tf.Tensor([65.48333333], shape=(1,), dtype=float64)\n"
     ]
    }
   ],
   "source": [
    "print(\"Explore Data from Tensor before keras data processing\")\n",
    "batch_size = 1\n",
    "train_ds =multiple_label_df_to_dataset(train, batch_size=batch_size)\n",
    "\n",
    "[(train_features, label_batch)] = train_ds.take(1)\n",
    "print(\"========Features==========\")\n",
    "print('Every feature:', list(train_features.keys()))\n",
    "print('product_type:', train_features['product_type'])  # sample cate feature\n",
    "print('open_to_close_hour:', train_features['open_to_close_hour'])  # sample numberic feature\n"
   ]
  },
  {
   "cell_type": "code",
   "execution_count": 275,
   "id": "ca7d4e1c-dbd6-42b4-8958-6aad45777bc5",
   "metadata": {},
   "outputs": [
    {
     "name": "stdout",
     "output_type": "stream",
     "text": [
      "========Labels==========\n",
      "[[1. 0. 0. 0.]]\n"
     ]
    }
   ],
   "source": [
    "print(\"========Labels==========\")\n",
    "print(f'{label_batch }')"
   ]
  },
  {
   "cell_type": "code",
   "execution_count": 276,
   "id": "02ad8837-968e-4d68-bdb6-1c7eba97e69c",
   "metadata": {},
   "outputs": [],
   "source": [
    "def get_normalization_layer(name, dataset):\n",
    "  # Create a Normalization layer for our feature.\n",
    "  normalizer = preprocessing.Normalization(axis=None)\n",
    "\n",
    "  # Prepare a Dataset that only yields our feature.\n",
    "  feature_ds = dataset.map(lambda x, y: x[name])\n",
    "\n",
    "  # Learn the statistics of the data.\n",
    "  normalizer.adapt(feature_ds)\n",
    "\n",
    "  return normalizer"
   ]
  },
  {
   "cell_type": "code",
   "execution_count": 277,
   "id": "237bce3c-9c77-4318-8682-fc36af0a6804",
   "metadata": {},
   "outputs": [],
   "source": [
    "def get_category_encoding_layer(name, dataset, dtype, max_tokens=None):\n",
    "  # Create a StringLookup layer which will turn strings into integer indices\n",
    "  if dtype == 'string':\n",
    "    index = preprocessing.StringLookup(max_tokens=max_tokens)\n",
    "  else:\n",
    "    index = preprocessing.IntegerLookup(max_tokens=max_tokens)\n",
    "\n",
    "  # Prepare a Dataset that only yields our feature\n",
    "  feature_ds = dataset.map(lambda x, y: x[name])\n",
    "\n",
    "  # Learn the set of possible values and assign them a fixed integer index.\n",
    "  index.adapt(feature_ds)\n",
    "\n",
    "  # Create a Discretization for our integer indices.\n",
    "  encoder = preprocessing.CategoryEncoding(num_tokens=index.vocabulary_size())\n",
    "\n",
    "  # Apply one-hot encoding to our indices. The lambda function captures the\n",
    "  # layer so we can use them, or include them in the functional model later.\n",
    "  return lambda feature: encoder(index(feature))\n",
    "     "
   ]
  },
  {
   "cell_type": "code",
   "execution_count": 278,
   "id": "4ab6c0ac-ee9b-42f3-b140-a102e8f2f121",
   "metadata": {},
   "outputs": [
    {
     "data": {
      "text/plain": [
       "<tf.Tensor: shape=(1,), dtype=float32, numpy=array([-0.11816125], dtype=float32)>"
      ]
     },
     "execution_count": 278,
     "metadata": {},
     "output_type": "execute_result"
    }
   ],
   "source": [
    "hour_col = train_features['open_to_close_hour']\n",
    "layer = get_normalization_layer('open_to_close_hour', train_ds)\n",
    "layer(hour_col)"
   ]
  },
  {
   "cell_type": "code",
   "execution_count": 279,
   "id": "19c0de50-a1fb-44b9-b91f-555ac779ec40",
   "metadata": {},
   "outputs": [
    {
     "name": "stdout",
     "output_type": "stream",
     "text": [
      "['Server' 'Software' 'Other' 'Firewall' 'Hardware' 'Storage' 'Switch'\n",
      " 'Access Point' 'Security' 'Tape Library']\n"
     ]
    },
    {
     "data": {
      "text/plain": [
       "<tf.Tensor: shape=(11,), dtype=float32, numpy=array([0., 0., 1., 0., 0., 0., 0., 0., 0., 0., 0.], dtype=float32)>"
      ]
     },
     "execution_count": 279,
     "metadata": {},
     "output_type": "execute_result"
    }
   ],
   "source": [
    "# total no type+unkonw\n",
    "print(train['product_type'].unique())\n",
    "type_col = train_features['product_type']\n",
    "layer = get_category_encoding_layer('product_type', train_ds, 'string')\n",
    "layer(type_col)\n",
    "\n",
    "# onehot-encoding = 10 category+unknown=11 columnn"
   ]
  },
  {
   "cell_type": "code",
   "execution_count": 280,
   "id": "a5c78f01-000a-4d3e-9fbf-6f4660cfb75b",
   "metadata": {},
   "outputs": [],
   "source": [
    "batch_size =32\n",
    "train_ds = multiple_label_df_to_dataset (train, batch_size=batch_size)\n",
    "val_ds = multiple_label_df_to_dataset(val, batch_size=batch_size)\n",
    "test_ds = multiple_label_df_to_dataset(test, batch_size=batch_size)\n",
    "# for element in train_ds.as_numpy_iterator():\n",
    "#     print(element)"
   ]
  },
  {
   "cell_type": "markdown",
   "id": "a5430f2c-4130-4b3a-b0dd-095ec81926ba",
   "metadata": {},
   "source": [
    "# Full Process Layer"
   ]
  },
  {
   "cell_type": "code",
   "execution_count": 281,
   "id": "723a69b6-d9c1-49d9-bc81-ed421d8700cb",
   "metadata": {},
   "outputs": [
    {
     "name": "stdout",
     "output_type": "stream",
     "text": [
      "header: Mean=96.70577912532157 and Std=264.30857031412927\n",
      "header: Mean=69.23291988239617 and Std=210.15946331055562\n",
      "sla = 7 : ['24x7 4Hrs Resolution Time' '8x5 4Hrs Response Time'\n",
      " '24x7 6Hrs Resolution Time' '24x7 4Hrs Response Time'\n",
      " '9x5xNBD 4Hrs Response Time' '24x7 6Hrs Response Time' 'Non MA']\n",
      "sla\n",
      "product_type = 10 : ['Server' 'Software' 'Other' 'Firewall' 'Hardware' 'Storage' 'Switch'\n",
      " 'Access Point' 'Security' 'Tape Library']\n",
      "product_type\n",
      "brand = 23 : ['IBM' 'Microsoft' 'F5' 'Nutanix' 'CheckPoint' 'Broadcom' 'CIMCO-CMMS'\n",
      " 'eUnite' 'Fortinet' 'EMC' 'HPE' 'YIP' 'DELL' 'Cisco' 'SAPB1' 'Veeam'\n",
      " 'NetApp' 'Oracle' 'VMWare' 'Red Hat' 'Veritas' 'Palo Alto' 'Trend Micro']\n",
      "brand\n",
      "service_type = 2 : ['Incident' 'Request']\n",
      "service_type\n",
      "incident_type = 21 : ['Hard Disk Drive Failure' 'General Incident' 'Software'\n",
      " 'Network Cable Failure' 'Maintenance System' 'Upgrade Software'\n",
      " 'Network Adapter Failure' 'Report' 'Memory Failure'\n",
      " 'System Board Failure' 'Controller/Node Failure' 'CPU Failure'\n",
      " 'Network Card Failure' 'Power Supply Failure' 'Cache Battery Failure'\n",
      " 'Other Failure' 'OS / Firmware' 'Configuration Change' 'Battery Failure'\n",
      " 'Fan Failure' 'Backup Failure']\n",
      "incident_type\n",
      "Total column to initialize first node input: 70\n"
     ]
    }
   ],
   "source": [
    "all_inputs = []\n",
    "encoded_features = []\n",
    "numInputFeatToInitNodeUnit=0\n",
    "\n",
    "# Numeric features.\n",
    "for header in numbericCols:\n",
    "  stat_data=train[header].describe()\n",
    "  print(f\"header: Mean={stat_data['mean']} and Std={stat_data['std']}\")  \n",
    "  numeric_col = tf.keras.Input(shape=(1,), name=header)\n",
    "  normalization_layer = get_normalization_layer(header, train_ds)\n",
    "  encoded_numeric_col = normalization_layer(numeric_col)\n",
    "  all_inputs.append(numeric_col)\n",
    "  encoded_features.append(encoded_numeric_col)\n",
    "    \n",
    "numInputFeatToInitNodeUnit=numInputFeatToInitNodeUnit+len(numbericCols)\n",
    "    \n",
    "    # Categorical features encoded as string.\n",
    "categorical_cols = cateCols\n",
    "for header in categorical_cols:\n",
    "  listCateItem=train[header].unique()\n",
    "  noCateItem=len(listCateItem)\n",
    "  numInputFeatToInitNodeUnit=numInputFeatToInitNodeUnit+noCateItem +1  # last 1 is unknow\n",
    "    \n",
    "  print(f\"{header} = {noCateItem} : {listCateItem}\")\n",
    "\n",
    "  print(header)  \n",
    "  categorical_col = tf.keras.Input(shape=(1,), name=header, dtype='string')\n",
    "  encoding_layer = get_category_encoding_layer(header, train_ds, dtype='string')\n",
    "                                        \n",
    "  encoded_categorical_col = encoding_layer(categorical_col)\n",
    "  all_inputs.append(categorical_col)\n",
    "  encoded_features.append(encoded_categorical_col)\n",
    "\n",
    "\n",
    "print(f\"Total column to initialize first node input: {numInputFeatToInitNodeUnit}\")"
   ]
  },
  {
   "cell_type": "code",
   "execution_count": null,
   "id": "48f85f8a-4471-44e1-a389-102232c296e7",
   "metadata": {},
   "outputs": [],
   "source": []
  },
  {
   "cell_type": "markdown",
   "id": "aa733595-628e-4a07-a6b8-719995fa535b",
   "metadata": {},
   "source": [
    "# Build and Train and Eveluate and Plot Result"
   ]
  },
  {
   "cell_type": "code",
   "execution_count": 282,
   "id": "ee6ca53e-78d8-400e-a48e-cdcb93d2030f",
   "metadata": {},
   "outputs": [],
   "source": [
    "def plot_metrics(history,metric):\n",
    "    plt.figure(figsize=(15,8))\n",
    "    plt.title(metric)\n",
    "    plt.plot(history.history[metric], label='train')\n",
    "    plt.plot(history.history[f'val_{metric}'], label='validation')\n",
    "    plt.legend()\n",
    "    plt.show() \n"
   ]
  },
  {
   "cell_type": "code",
   "execution_count": 283,
   "id": "e4e27d3b-9b17-4311-a7a2-d4c4007430b2",
   "metadata": {},
   "outputs": [],
   "source": [
    "# def build_model(num_units_1,num_units_layer2, dropout_rate):\n",
    "def build_model(num_units_layer1, dropout_rate,learningRate):\n",
    "    \n",
    "    all_features = tf.keras.layers.concatenate(encoded_features)\n",
    "   \n",
    "    x = tf.keras.layers.Dense(num_units_layer1, activation=\"relu\")(all_features)\n",
    "    \n",
    "    if dropout_rate>0:\n",
    "     x = tf.keras.layers.Dropout(dropout_rate)(x)\n",
    "    \n",
    "    # x = tf.keras.layers.Dense(num_units_layer1, activation=\"relu\")(x)\n",
    "    # if dropout_rate>0:\n",
    "    #  x = tf.keras.layers.Dropout(dropout_rate)(x)\n",
    "\n",
    "    output = tf.keras.layers.Dense(nLabel,activation=tf.nn.softmax)(x)\n",
    "\n",
    "    model = tf.keras.Model(all_inputs, output)\n",
    "    \n",
    "    if  learningRate==0:\n",
    "        model.compile(optimizer='adam',\n",
    "                      loss=tf.keras.losses.CategoricalCrossentropy(),metrics=[main_metric])\n",
    "    else:\n",
    "        model.compile(optimizer=tf.keras.optimizers.Adam(learning_rate=learningRate),\n",
    "                      loss=tf.keras.losses.CategoricalCrossentropy(),metrics=[main_metric])\n",
    "    return model\n",
    "\n",
    "# def build_wide_deep_model()\n"
   ]
  },
  {
   "cell_type": "code",
   "execution_count": 284,
   "id": "0f6af5c9-fc24-486a-bdd7-f6c4730dd236",
   "metadata": {},
   "outputs": [],
   "source": [
    "\n",
    "# METRICS = [\n",
    "#       keras.metrics.BinaryAccuracy(name='accuracy'),\n",
    "#       keras.metrics.Precision(name='precision'),\n",
    "#       keras.metrics.Recall(name='recall'),\n",
    "#       keras.metrics.AUC(name='auc'),\n",
    "# ]\n",
    "\n",
    "def train_model(model,x_epochs,x_batch_size):  \n",
    "    # model.summary()\n",
    "    early_stopping = tf.keras.callbacks.EarlyStopping(monitor='val_loss', patience=nEarlyPatience, verbose=1)  \n",
    "    # loss\n",
    "    # early_stopping = tf.keras.callbacks.EarlyStopping(monitor=main_objective, patience=nEarlyPatience, verbose=1)  \n",
    "    # accuray\n",
    "    \n",
    "    history =model.fit(train_ds, validation_data=val_ds,epochs=x_epochs,batch_size=x_batch_size,callbacks=[early_stopping])\n",
    "    return history\n",
    "  \n",
    "\n"
   ]
  },
  {
   "cell_type": "markdown",
   "id": "c3816a15-6688-4c87-9d20-e5fc45d48d11",
   "metadata": {},
   "source": [
    "# Test Run Model"
   ]
  },
  {
   "cell_type": "code",
   "execution_count": 285,
   "id": "25688a22-05f5-4cac-b662-d261b5dcfb78",
   "metadata": {},
   "outputs": [
    {
     "name": "stdout",
     "output_type": "stream",
     "text": [
      "1#Build model\n",
      "2#Train model\n",
      "Epoch 1/100\n",
      "57/57 [==============================] - 2s 12ms/step - loss: 1.1914 - accuracy: 0.5265 - val_loss: 1.0535 - val_accuracy: 0.5947\n",
      "Epoch 2/100\n",
      "57/57 [==============================] - 0s 4ms/step - loss: 0.9321 - accuracy: 0.6395 - val_loss: 0.9154 - val_accuracy: 0.6256\n",
      "Epoch 3/100\n",
      "57/57 [==============================] - 0s 4ms/step - loss: 0.8270 - accuracy: 0.6670 - val_loss: 0.8347 - val_accuracy: 0.7004\n",
      "Epoch 4/100\n",
      "57/57 [==============================] - 0s 4ms/step - loss: 0.7700 - accuracy: 0.6786 - val_loss: 0.7978 - val_accuracy: 0.7004\n",
      "Epoch 5/100\n",
      "57/57 [==============================] - 0s 4ms/step - loss: 0.7391 - accuracy: 0.6852 - val_loss: 0.7851 - val_accuracy: 0.7004\n",
      "Epoch 6/100\n",
      "57/57 [==============================] - 0s 4ms/step - loss: 0.7238 - accuracy: 0.6918 - val_loss: 0.7710 - val_accuracy: 0.7093\n",
      "Epoch 7/100\n",
      "57/57 [==============================] - 0s 4ms/step - loss: 0.7057 - accuracy: 0.7150 - val_loss: 0.7683 - val_accuracy: 0.7137\n",
      "Epoch 8/100\n",
      "57/57 [==============================] - 0s 4ms/step - loss: 0.6991 - accuracy: 0.7018 - val_loss: 0.7576 - val_accuracy: 0.6960\n",
      "Epoch 9/100\n",
      "57/57 [==============================] - 0s 6ms/step - loss: 0.6794 - accuracy: 0.7205 - val_loss: 0.7599 - val_accuracy: 0.7181\n",
      "Epoch 10/100\n",
      "57/57 [==============================] - 0s 5ms/step - loss: 0.6721 - accuracy: 0.7205 - val_loss: 0.7524 - val_accuracy: 0.7093\n",
      "Epoch 11/100\n",
      "57/57 [==============================] - 0s 6ms/step - loss: 0.6644 - accuracy: 0.7155 - val_loss: 0.7517 - val_accuracy: 0.7269\n",
      "Epoch 12/100\n",
      "57/57 [==============================] - 0s 7ms/step - loss: 0.6563 - accuracy: 0.7194 - val_loss: 0.7435 - val_accuracy: 0.6960\n",
      "Epoch 13/100\n",
      "57/57 [==============================] - 0s 6ms/step - loss: 0.6512 - accuracy: 0.7315 - val_loss: 0.7460 - val_accuracy: 0.7313\n",
      "Epoch 14/100\n",
      "57/57 [==============================] - 0s 6ms/step - loss: 0.6487 - accuracy: 0.7216 - val_loss: 0.7420 - val_accuracy: 0.7269\n",
      "Epoch 15/100\n",
      "57/57 [==============================] - 0s 5ms/step - loss: 0.6411 - accuracy: 0.7227 - val_loss: 0.7414 - val_accuracy: 0.7445\n",
      "Epoch 16/100\n",
      "57/57 [==============================] - 0s 6ms/step - loss: 0.6288 - accuracy: 0.7464 - val_loss: 0.7361 - val_accuracy: 0.7225\n",
      "Epoch 17/100\n",
      "57/57 [==============================] - 0s 6ms/step - loss: 0.6258 - accuracy: 0.7321 - val_loss: 0.7388 - val_accuracy: 0.7004\n",
      "Epoch 18/100\n",
      "57/57 [==============================] - 0s 5ms/step - loss: 0.6279 - accuracy: 0.7348 - val_loss: 0.7287 - val_accuracy: 0.6960\n",
      "Epoch 19/100\n",
      "57/57 [==============================] - 0s 5ms/step - loss: 0.6232 - accuracy: 0.7431 - val_loss: 0.7321 - val_accuracy: 0.7313\n",
      "Epoch 20/100\n",
      "57/57 [==============================] - 0s 4ms/step - loss: 0.6156 - accuracy: 0.7437 - val_loss: 0.7326 - val_accuracy: 0.7445\n",
      "Epoch 21/100\n",
      "57/57 [==============================] - 0s 4ms/step - loss: 0.6096 - accuracy: 0.7519 - val_loss: 0.7288 - val_accuracy: 0.7137\n",
      "Epoch 22/100\n",
      "57/57 [==============================] - 0s 4ms/step - loss: 0.6082 - accuracy: 0.7464 - val_loss: 0.7281 - val_accuracy: 0.7357\n",
      "Epoch 23/100\n",
      "57/57 [==============================] - 0s 4ms/step - loss: 0.6030 - accuracy: 0.7519 - val_loss: 0.7311 - val_accuracy: 0.7489\n",
      "Epoch 24/100\n",
      "57/57 [==============================] - 0s 4ms/step - loss: 0.5980 - accuracy: 0.7514 - val_loss: 0.7320 - val_accuracy: 0.7357\n",
      "Epoch 25/100\n",
      "57/57 [==============================] - 0s 4ms/step - loss: 0.5960 - accuracy: 0.7525 - val_loss: 0.7214 - val_accuracy: 0.7533\n",
      "Epoch 26/100\n",
      "57/57 [==============================] - 0s 4ms/step - loss: 0.6001 - accuracy: 0.7453 - val_loss: 0.7204 - val_accuracy: 0.7401\n",
      "Epoch 27/100\n",
      "57/57 [==============================] - 0s 4ms/step - loss: 0.5897 - accuracy: 0.7668 - val_loss: 0.7226 - val_accuracy: 0.7445\n",
      "Epoch 28/100\n",
      "57/57 [==============================] - 0s 4ms/step - loss: 0.5877 - accuracy: 0.7630 - val_loss: 0.7185 - val_accuracy: 0.7533\n",
      "Epoch 29/100\n",
      "57/57 [==============================] - 0s 5ms/step - loss: 0.5830 - accuracy: 0.7574 - val_loss: 0.7174 - val_accuracy: 0.7401\n",
      "Epoch 30/100\n",
      "57/57 [==============================] - 0s 4ms/step - loss: 0.5764 - accuracy: 0.7668 - val_loss: 0.7249 - val_accuracy: 0.7489\n",
      "Epoch 31/100\n",
      "57/57 [==============================] - 0s 4ms/step - loss: 0.5766 - accuracy: 0.7641 - val_loss: 0.7240 - val_accuracy: 0.7137\n",
      "Epoch 32/100\n",
      "57/57 [==============================] - 0s 4ms/step - loss: 0.5781 - accuracy: 0.7525 - val_loss: 0.7169 - val_accuracy: 0.7533\n",
      "Epoch 33/100\n",
      "57/57 [==============================] - 0s 4ms/step - loss: 0.5716 - accuracy: 0.7624 - val_loss: 0.7256 - val_accuracy: 0.7621\n",
      "Epoch 34/100\n",
      "57/57 [==============================] - 0s 5ms/step - loss: 0.5682 - accuracy: 0.7685 - val_loss: 0.7174 - val_accuracy: 0.7489\n",
      "Epoch 35/100\n",
      "57/57 [==============================] - 0s 4ms/step - loss: 0.5720 - accuracy: 0.7690 - val_loss: 0.7175 - val_accuracy: 0.7225\n",
      "Epoch 36/100\n",
      "57/57 [==============================] - 0s 4ms/step - loss: 0.5637 - accuracy: 0.7745 - val_loss: 0.7147 - val_accuracy: 0.7489\n",
      "Epoch 37/100\n",
      "57/57 [==============================] - 0s 4ms/step - loss: 0.5613 - accuracy: 0.7696 - val_loss: 0.7186 - val_accuracy: 0.7489\n",
      "Epoch 38/100\n",
      "57/57 [==============================] - 0s 4ms/step - loss: 0.5618 - accuracy: 0.7679 - val_loss: 0.7179 - val_accuracy: 0.7489\n",
      "Epoch 39/100\n",
      "57/57 [==============================] - 0s 5ms/step - loss: 0.5575 - accuracy: 0.7696 - val_loss: 0.7248 - val_accuracy: 0.7445\n",
      "Epoch 40/100\n",
      "57/57 [==============================] - 0s 5ms/step - loss: 0.5525 - accuracy: 0.7778 - val_loss: 0.7215 - val_accuracy: 0.7533\n",
      "Epoch 41/100\n",
      "57/57 [==============================] - 0s 4ms/step - loss: 0.5599 - accuracy: 0.7712 - val_loss: 0.7175 - val_accuracy: 0.7533\n",
      "Epoch 42/100\n",
      "57/57 [==============================] - 0s 4ms/step - loss: 0.5550 - accuracy: 0.7795 - val_loss: 0.7172 - val_accuracy: 0.7533\n",
      "Epoch 43/100\n",
      "57/57 [==============================] - 0s 4ms/step - loss: 0.5545 - accuracy: 0.7734 - val_loss: 0.7180 - val_accuracy: 0.7577\n",
      "Epoch 44/100\n",
      "57/57 [==============================] - 0s 4ms/step - loss: 0.5491 - accuracy: 0.7701 - val_loss: 0.7231 - val_accuracy: 0.7577\n",
      "Epoch 45/100\n",
      "57/57 [==============================] - 0s 5ms/step - loss: 0.5482 - accuracy: 0.7817 - val_loss: 0.7244 - val_accuracy: 0.7533\n",
      "Epoch 46/100\n",
      "57/57 [==============================] - 0s 5ms/step - loss: 0.5520 - accuracy: 0.7751 - val_loss: 0.7380 - val_accuracy: 0.7621\n",
      "Epoch 46: early stopping\n",
      "=============================================================================\n"
     ]
    }
   ],
   "source": [
    "print(\"1#Build model\")\n",
    "\n",
    "# smaller RL , longer , By doing this, you learn gradually rather than jumping around \n",
    "#A learning rate of 0.001 is the default (Adam)\n",
    "#{'units': 32, 'Dropout_rate': 0.1}\n",
    "# model=build_model(32,0.1,0)\n",
    "model=build_model(numInputFeatToInitNodeUnit,0.1,0)\n",
    "\n",
    "print(\"2#Train model\")\n",
    "history=train_model(model,100,32)\n",
    "print(\"=============================================================================\")\n",
    "\n"
   ]
  },
  {
   "cell_type": "code",
   "execution_count": 286,
   "id": "19961e63-4585-4662-98ee-25402fe7e735",
   "metadata": {},
   "outputs": [
    {
     "name": "stdout",
     "output_type": "stream",
     "text": [
      "3#Evaluate model\n",
      "8/8 [==============================] - 0s 3ms/step - loss: 0.7380 - accuracy: 0.7621\n",
      "Average Loss - Accuracy on Eveluation 0.7380222082138062 -0.7621145248413086\n",
      "8/8 [==============================] - 0s 3ms/step - loss: 0.7422 - accuracy: 0.6784\n",
      "Average Loss - Accuracy on Test 0.7422076463699341 -0.6784141063690186\n",
      "=============================================================================\n"
     ]
    }
   ],
   "source": [
    "print(\"3#Evaluate model\")\n",
    "\n",
    "loss_val, accuracy_val = model.evaluate(val_ds)\n",
    "print(f\"Average Loss - Accuracy on Eveluation {loss_val} -{accuracy_val}\")\n",
    "\n",
    "loss_test, accuracy_test = model.evaluate(test_ds)\n",
    "print(f\"Average Loss - Accuracy on Test {loss_test} -{accuracy_test}\")\n",
    "\n",
    "print(\"=============================================================================\")\n",
    "\n",
    "\n",
    "# production data set to 12MAr23\n",
    "# 7/7 [==============================] - 0s 2ms/step - loss: 0.6655 - accuracy: 0.7689\n",
    "# Average Loss - Accuracy on Eveluation 0.6654592752456665 -0.7688679099082947\n",
    "# 7/7 [==============================] - 0s 2ms/step - loss: 0.6977 - accuracy: 0.7358\n",
    "# Average Loss - Accuracy on Test 0.6977102160453796 -0.7358490824699402\n",
    "\n",
    "\n",
    "# demo set to 04 April23\n",
    "# 8/8 [==============================] - 0s 2ms/step - loss: 0.7334 - accuracy: 0.7621\n",
    "# Average Loss - Accuracy on Eveluation 0.7333917617797852 -0.7621145248413086\n",
    "# 8/8 [==============================] - 0s 3ms/step - loss: 0.7452 - accuracy: 0.6740\n",
    "# Average Loss - Accuracy on Test 0.745168149471283 -0.6740087866783142\n",
    "# ============================================================================"
   ]
  },
  {
   "cell_type": "code",
   "execution_count": 287,
   "id": "00f3a39c-d489-4970-a709-cdf9c38805f2",
   "metadata": {},
   "outputs": [
    {
     "name": "stdout",
     "output_type": "stream",
     "text": [
      "4#Explore Result model\n"
     ]
    },
    {
     "data": {
      "image/png": "[encoded data removed]",
      "text/plain": [
       "<Figure size 1500x800 with 1 Axes>"
      ]
     },
     "metadata": {},
     "output_type": "display_data"
    },
    {
     "data": {
      "image/png": "[encoded data removed]",
      "text/plain": [
       "<Figure size 1500x800 with 1 Axes>"
      ]
     },
     "metadata": {},
     "output_type": "display_data"
    }
   ],
   "source": [
    "print(\"4#Explore Result model\")\n",
    "plot_metrics(history,main_metric)\n",
    "plot_metrics(history,\"loss\")\n"
   ]
  },
  {
   "cell_type": "markdown",
   "id": "c05e9e8b-804d-4c37-9865-9dfcf2343411",
   "metadata": {},
   "source": [
    "# Save Model"
   ]
  },
  {
   "cell_type": "code",
   "execution_count": 288,
   "id": "ab8f677c-dfa2-48b5-b980-6cc10f2e0033",
   "metadata": {},
   "outputs": [
    {
     "name": "stderr",
     "output_type": "stream",
     "text": [
      "WARNING:absl:Found untraced functions such as _update_step_xla while saving (showing 1 of 1). These functions will not be directly callable after loading.\n"
     ]
    },
    {
     "name": "stdout",
     "output_type": "stream",
     "text": [
      "INFO:tensorflow:Assets written to: demo_model\\assets\n"
     ]
    },
    {
     "name": "stderr",
     "output_type": "stream",
     "text": [
      "INFO:tensorflow:Assets written to: demo_model\\assets\n"
     ]
    }
   ],
   "source": [
    "model.save(model_dir)\n",
    "\n",
    "# OUTPUT_DIR = \"babyweight_trained\"\n",
    "# shutil.rmtree(OUTPUT_DIR, ignore_errors=True)\n",
    "# EXPORT_PATH = os.path.join(\n",
    "#     OUTPUT_DIR, datetime.datetime.now().strftime(\"%Y%m%d%H%M%S\"))\n",
    "# tf.saved_model.save(\n",
    "#     obj=model, export_dir=EXPORT_PATH)  # with default serving function\n",
    "# print(\"Exported trained model to {}\".format(EXPORT_PATH))\n"
   ]
  },
  {
   "cell_type": "markdown",
   "id": "24716314-65f3-43c1-9549-313df35c3703",
   "metadata": {},
   "source": [
    "# Save Model+MetaData for being Explainable AI"
   ]
  },
  {
   "cell_type": "raw",
   "id": "caf8e2d6-05f2-4fbf-b50b-8337513e6a3e",
   "metadata": {},
   "source": [
    "from explainable_ai_sdk.metadata.tf.v2 import SavedModelMetadataBuilder\n",
    "from explainable_ai_sdk.model import  configs\n",
    "import explainable_ai_sdk\n",
    "\n",
    "#https://github.com/GoogleCloudPlatform/explainable_ai_sdk\n",
    "\n",
    "#https://codelabs.developers.google.com/codelabs/fraud-detection-ai-explanations#5\n",
    "#https://www.kaggle.com/code/ryanholbrook/vertex-ai-with-mlb-player-digital-engagement\n",
    "#https://github.com/GoogleCloudPlatform/ai-platform-samples/blob/main/ai-explanations-local-experience.ipynb\n",
    "#https://cloud.google.com/vertex-ai/docs/explainable-ai/getting-explanations\n",
    "\n",
    "explain_meta_model_dir='demo_model_with_meta'\n",
    "\n",
    "builder = SavedModelMetadataBuilder(model_dir)\n",
    "export_path=builder.save_model_with_metadata(explain_meta_model_dir)\n",
    "metadata = builder.get_metadata()\n",
    "print(metadata)\n",
    "\n",
    "input_name = list(metadata['inputs'])[0]\n",
    "builder.set_numeric_metadata('open_to_close_hour')\n",
    "input_name\n",
    "\n",
    "num_paths = 7\n",
    "model_artifact_with_metadata = explainable_ai_sdk.load_model_from_local_path(\n",
    "    export_path,config=configs.SampledShapleyConfig(num_paths)\n",
    ")\n",
    "\n",
    "\n",
    "#m=explainable_ai_sdk.load_model_from_vertex\n",
    "m=explainable_ai_sdk.load_model_from_local_path(explain_meta_model_dir,configs.SampledShapleyConfig())\n"
   ]
  },
  {
   "cell_type": "markdown",
   "id": "f86af40e-2142-4c2f-af6d-13bae8cd463e",
   "metadata": {},
   "source": [
    "# Test Predict"
   ]
  },
  {
   "cell_type": "code",
   "execution_count": 289,
   "id": "dd916787-bacc-4537-b2b6-1c6d62932de8",
   "metadata": {},
   "outputs": [
    {
     "name": "stdout",
     "output_type": "stream",
     "text": [
      "{'sla': '24x7 4Hrs Response Time', 'product_type': 'Server', 'brand': 'VMWare', 'service_type': 'Incident', 'incident_type': 'General Incident', 'open_to_close_hour': 10, 'response_to_resolved_hour': 6.0}\n",
      "===============================================================================================================\n",
      "convert pain data to serdor as input to predict\n",
      "{'sla': <tf.Tensor: shape=(1,), dtype=string, numpy=array([b'24x7 4Hrs Response Time'], dtype=object)>, 'product_type': <tf.Tensor: shape=(1,), dtype=string, numpy=array([b'Server'], dtype=object)>, 'brand': <tf.Tensor: shape=(1,), dtype=string, numpy=array([b'VMWare'], dtype=object)>, 'service_type': <tf.Tensor: shape=(1,), dtype=string, numpy=array([b'Incident'], dtype=object)>, 'incident_type': <tf.Tensor: shape=(1,), dtype=string, numpy=array([b'General Incident'], dtype=object)>, 'open_to_close_hour': <tf.Tensor: shape=(1,), dtype=int32, numpy=array([10])>, 'response_to_resolved_hour': <tf.Tensor: shape=(1,), dtype=float32, numpy=array([6.], dtype=float32)>}\n",
      "1/1 [==============================] - 0s 451ms/step\n",
      "[[0.01082815 0.08436917 0.90197176 0.00283098]]\n"
     ]
    }
   ],
   "source": [
    "#label_multi_severity\n",
    "\n",
    "m = tf.keras.models.load_model(model_dir)\n",
    "\n",
    "sample={\"sla\":\"24x7 4Hrs Response Time\",\n",
    "        \"product_type\":\"Server\",\n",
    "        \"brand\":\"VMWare\",                \n",
    "        \"service_type\":\"Incident\",\n",
    "        \"incident_type\":\"General Incident\",\n",
    "        \"open_to_close_hour\":10,\n",
    "        \"response_to_resolved_hour\":6.000000 \\\n",
    "       }\n",
    "\n",
    "print(sample)\n",
    "              \n",
    "print(\"===============================================================================================================\")    \n",
    "print(\"convert pain data to serdor as input to predict\")    \n",
    "input_dict = {name: tf.convert_to_tensor([value]) for name, value in sample.items()}\n",
    "print(input_dict)\n",
    "\n",
    "predictionList = m.predict(input_dict)\n",
    "print(predictionList)\n"
   ]
  },
  {
   "cell_type": "code",
   "execution_count": 290,
   "id": "26d78b3d-3c2f-4f9b-9a19-3b559a803c97",
   "metadata": {},
   "outputs": [
    {
     "name": "stdout",
     "output_type": "stream",
     "text": [
      "[18.161135 19.54706  44.275322 18.016478] % at 2 as Severity\n",
      "\n"
     ]
    }
   ],
   "source": [
    "prob = tf.nn.softmax(predictionList[0])\n",
    "print(f\"{(100 * prob)} % at {np.argmax(prob, axis=0)} as Severity\") \n",
    "print()"
   ]
  },
  {
   "cell_type": "code",
   "execution_count": null,
   "id": "fb322a53-98ee-4c8a-a87e-c4c7961e3eb8",
   "metadata": {},
   "outputs": [],
   "source": []
  },
  {
   "cell_type": "markdown",
   "id": "c5587682-2265-4eff-985f-ca1f7852ddf4",
   "metadata": {},
   "source": [
    "# Copy Model From Local To GCS"
   ]
  },
  {
   "cell_type": "code",
   "execution_count": 50,
   "id": "eaabd3ac-47ad-43ae-b6e5-fc16fecec238",
   "metadata": {},
   "outputs": [
    {
     "name": "stderr",
     "output_type": "stream",
     "text": [
      "Copying file://.\\demo_model_explain_meta\\explanation_metadata.json [Content-Type=application/json]...\n",
      "Copying file://.\\demo_model_explain_meta\\variables\\variables.index [Content-Type=application/octet-stream]...\n",
      "/ [0/5 files][    0.0 B/487.8 KiB]   0% Done                                    \n",
      "Copying file://.\\demo_model_explain_meta\\fingerprint.pb [Content-Type=application/octet-stream]...\n",
      "/ [0/5 files][    0.0 B/487.8 KiB]   0% Done                                    \n",
      "Copying file://.\\demo_model_explain_meta\\saved_model.pb [Content-Type=application/octet-stream]...\n",
      "/ [0/5 files][    0.0 B/487.8 KiB]   0% Done                                    \n",
      "Copying file://.\\demo_model_explain_meta\\variables\\variables.data-00000-of-00001 [Content-Type=application/octet-stream]...\n",
      "/ [0/5 files][    0.0 B/487.8 KiB]   0% Done                                    \n",
      "/ [0/5 files][    0.0 B/487.8 KiB]   0% Done                                    \n",
      "/ [1/5 files][ 46.8 KiB/487.8 KiB]   9% Done                                    \n",
      "/ [2/5 files][ 46.8 KiB/487.8 KiB]   9% Done                                    \n",
      "/ [3/5 files][ 46.8 KiB/487.8 KiB]   9% Done                                    \n",
      "/ [4/5 files][366.8 KiB/487.8 KiB]  75% Done                                    \n",
      "/ [5/5 files][487.8 KiB/487.8 KiB] 100% Done                                    \n",
      "-\n",
      "\n",
      "Operation completed over 5 objects/487.8 KiB.                                    \n"
     ]
    }
   ],
   "source": [
    "# #https://codelabs.developers.google.com/codelabs/fraud-detection-ai-explanations?hl=en#6\n",
    "# press_y3=input(f\"Press y=True to save model to Google Cloud storage : \") \n",
    "# if press_y3.lower()=='y':\n",
    "MODEL_BUCKET = 'gs://tf1-incident-pongthorn'\n",
    "\n",
    "# # # !gsutil mb -l $REGION $MODEL_BUCKET\n",
    "# !gsutil -m cp -r ./$model_dir/* $MODEL_BUCKET/demo_model\n",
    "# !gsutil -m cp -r ./$model_dir/* $MODEL_BUCKET/model\n",
    "#!gsutil -m cp -r ./$explain_meta_model_dir/* $MODEL_BUCKET/demo_model_explain_meta\n",
    "# else:\n",
    "#  quite()\n"
   ]
  },
  {
   "cell_type": "markdown",
   "id": "9fc32a07-c2fc-4ff6-a771-fc3532630f01",
   "metadata": {},
   "source": [
    "# Import Model to Vertex AI"
   ]
  },
  {
   "cell_type": "code",
   "execution_count": null,
   "id": "3b9774f1-2293-43db-9464-47ea7f44b540",
   "metadata": {},
   "outputs": [],
   "source": [
    "# https://console.cloud.google.com/vertex-ai/models?project=pongthorn\n",
    "# name=tf_dnn_incident_pongthorn1\n",
    "# region =asia-southeast1\n",
    "# prebuild =tensorflow 11 \n",
    "# model path =gs://tf1-incident-pongthorn/model/\n",
    "\n",
    "\n",
    "# https://cloud.google.com/vertex-ai/docs/model-registry/import-model#get-operation\n",
    "\n",
    "\n",
    "#https://codelabs.developers.google.com/vertex-p2p-predictions#3\n",
    "# Import model manually\n",
    "#https://console.cloud.google.com/vertex-ai/models?project=pongthorn\n",
    "# Upload wand wait for vertex to complete process (Email notification)\n",
    "# if run package ( you need to specify precuild-pacage\n",
    "\n",
    "\n",
    "#Import model programactically\n",
    "# https://cloud.google.com/vertex-ai/docs/predictions/pre-built-containers\n",
    "\n",
    "# from google.cloud import aiplatform\n",
    "# DEPLOY_IMAGE = \"asia-docker.pkg.dev/vertex-ai/prediction/xgboost-cpu.1-6:latest\"\n",
    "\n",
    "# model = aip.Model.upload(\n",
    "#     display_name=\"ponghthorn_xgb_\" + TIMESTAMP,\n",
    "#     artifact_uri=MODEL_DIR,\n",
    "#     serving_container_image_uri=DEPLOY_IMAGE,\n",
    "#     sync=False,\n",
    "# )\n",
    "\n",
    "# model.wait()\n"
   ]
  },
  {
   "cell_type": "markdown",
   "id": "2792371f-3e81-4717-95f5-4acff020cfb3",
   "metadata": {},
   "source": [
    "# Deploy Model to EndPoint"
   ]
  },
  {
   "cell_type": "code",
   "execution_count": null,
   "id": "2fbcd51c-0dce-4b75-bc53-70539c352ba5",
   "metadata": {},
   "outputs": [],
   "source": [
    "#https://codelabs.developers.google.com/vertex-p2p-predictions#4\n",
    "# Manual\n",
    "\n",
    "#https://console.cloud.google.com/vertex-ai/endpoints?project=pongthorn\n",
    "#spec E2\n",
    "\n",
    "# Program\n",
    "# my_model = aiplatform.Model(\"projects/{PROJECT_NUMBER}/locations/us-central1/models/{MODEL_ID}\") \n",
    "\n",
    "# endpoint = my_model.deploy(\n",
    "#      deployed_model_display_name='my-endpoint',\n",
    "#      traffic_split={\"0\": 100},\n",
    "#      machine_type=\"n1-standard-4\",\n",
    "#      accelerator_count=0,\n",
    "#      min_replica_count=1,\n",
    "#      max_replica_count=1,\n",
    "#    )"
   ]
  },
  {
   "cell_type": "code",
   "execution_count": null,
   "id": "5a601d87-b648-4eea-b2de-b85b7723c5ba",
   "metadata": {},
   "outputs": [],
   "source": []
  },
  {
   "cell_type": "code",
   "execution_count": 95,
   "id": "20082661-dc7f-414b-a759-3478163adcdf",
   "metadata": {},
   "outputs": [],
   "source": [
    "# Deploy to AIPlatform (Deprecated)\n",
    "# MODEL = MODEL_NAME\n",
    "# VERSION = 'v1'\n",
    "# model_path = MODEL_BUCKET + '/model'\n",
    "\n",
    "# # !gcloud ai-platform models create $MODEL --region=$REGION\n",
    "\n",
    "# MACHINE_TYPE='n1-standard-2'\n",
    "\n",
    "# !gcloud  ai-platform versions create $VERSION --model $MODEL --origin $model_path --runtime-version 2.11 --framework TENSORFLOW --machine-type $MACHINE_TYPE --python-version 3.7 --region=$REGION\n",
    "# !gcloud ai-platform versions describe $VERSION --model $MODEL --region=$REGION"
   ]
  },
  {
   "cell_type": "code",
   "execution_count": 107,
   "id": "6465851a-f078-41a2-991c-80a71d3e695d",
   "metadata": {},
   "outputs": [],
   "source": [
    "\n"
   ]
  },
  {
   "cell_type": "code",
   "execution_count": null,
   "id": "6c0f6c5d-3ea4-4fae-ba78-b8decf134a92",
   "metadata": {},
   "outputs": [],
   "source": []
  },
  {
   "cell_type": "code",
   "execution_count": null,
   "id": "ff433f46-0e98-48ec-8b32-25b840541253",
   "metadata": {},
   "outputs": [],
   "source": []
  }
 ],
 "metadata": {
  "kernelspec": {
   "display_name": "Python 3 (ipykernel)",
   "language": "python",
   "name": "python3"
  },
  "language_info": {
   "codemirror_mode": {
    "name": "ipython",
    "version": 3
   },
   "file_extension": ".py",
   "mimetype": "text/x-python",
   "name": "python",
   "nbconvert_exporter": "python",
   "pygments_lexer": "ipython3",
   "version": "3.9.16"
  }
 },
 "nbformat": 4,
 "nbformat_minor": 5
}
