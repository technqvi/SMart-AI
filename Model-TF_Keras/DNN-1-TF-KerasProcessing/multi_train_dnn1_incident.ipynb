{
 "cells": [
  {
   "cell_type": "code",
   "execution_count": 1,
   "id": "efd54814-e227-4302-9a81-3d6ddcf0e9a5",
   "metadata": {},
   "outputs": [
    {
     "data": {
      "text/plain": [
       "'2.11.0'"
      ]
     },
     "execution_count": 1,
     "metadata": {},
     "output_type": "execute_result"
    }
   ],
   "source": [
    "# import necessary libraries\n",
    "\n",
    "#https://codelabs.developers.google.com/codelabs/fraud-detection-ai-explanations?hl=en#0\n",
    "#he Explainable AI SDK and Copy Model to Deploy\n",
    "\n",
    "#https://github.com/GoogleCloudPlatform/training-data-analyst/blob/master/courses/machine_learning/deepdive2/introduction_to_tensorflow/solutions/preprocessing_layers.ipynb\n",
    "#https://github.com/GoogleCloudPlatform/vertex-ai-samples/blob/main/notebooks/official/custom/custom-tabular-bq-managed-dataset.ipynb\n",
    "#https://github.com/GoogleCloudPlatform/vertex-ai-samples/blob/main/notebooks/official/experiments/comparing_local_trained_models.ipynb\n",
    "\n",
    "\n",
    "import numpy as np\n",
    "import pandas as pd\n",
    "import tensorflow as tf\n",
    "import matplotlib.pyplot as plt\n",
    "import seaborn as sns\n",
    "\n",
    "from tensorflow.keras import Sequential\n",
    "from tensorflow.keras.layers import Dense,DenseFeatures\n",
    "\n",
    "from datetime import date, timedelta, datetime # Date Functions\n",
    "import time\n",
    "\n",
    "\n",
    "from google.cloud import bigquery\n",
    "from sklearn.model_selection import train_test_split\n",
    "from tensorflow.keras import layers\n",
    "from tensorflow.keras.layers.experimental import preprocessing\n",
    "\n",
    "from google.cloud import aiplatform as vertex_ai\n",
    "from tensorflow.python.keras.utils import data_utils\n",
    "\n",
    "tf.__version__"
   ]
  },
  {
   "cell_type": "code",
   "execution_count": 2,
   "id": "d28a9538-ca23-45f0-817b-e4b067cf9ab3",
   "metadata": {},
   "outputs": [],
   "source": [
    "cateCols=['sla','product_type','brand','service_type','incident_type']\n",
    "numbericCols=['open_to_close_hour','response_to_resolved_hour']\n",
    "\n",
    "unusedCols=['severity_id','severity_name','label_binary_severity']\n",
    "labelCol='label_multi_severity'\n",
    "\n",
    "model_dir='model'\n",
    "\n",
    "\n",
    "main_metric='accuracy'\n",
    "main_objective=f'val_{main_metric}'\n",
    "\n",
    "\n",
    "nEarlyPatience=10\n",
    "\n",
    "\n",
    "# df['label_multi_severity'] =df['severity_name'].map({'Cosmatic':0,'Minor': 1, \"Major\": 2, \"Critical\": 3}) "
   ]
  },
  {
   "cell_type": "markdown",
   "id": "3c0aa901-563f-4d2c-9203-67175431c32f",
   "metadata": {},
   "source": [
    "# Load Data"
   ]
  },
  {
   "cell_type": "code",
   "execution_count": 3,
   "id": "5ddea3e1-b732-48c4-95fc-637108802a2c",
   "metadata": {},
   "outputs": [
    {
     "name": "stdout",
     "output_type": "stream",
     "text": [
      "[1, 2, 0, 3]\n",
      "No target label : 4\n",
      "<class 'pandas.core.frame.DataFrame'>\n",
      "RangeIndex: 1735 entries, 0 to 1734\n",
      "Data columns (total 8 columns):\n",
      " #   Column                     Non-Null Count  Dtype  \n",
      "---  ------                     --------------  -----  \n",
      " 0   sla                        1735 non-null   object \n",
      " 1   product_type               1735 non-null   object \n",
      " 2   brand                      1735 non-null   object \n",
      " 3   service_type               1735 non-null   object \n",
      " 4   incident_type              1735 non-null   object \n",
      " 5   open_to_close_hour         1735 non-null   float64\n",
      " 6   response_to_resolved_hour  1735 non-null   float64\n",
      " 7   label_multi_severity       1735 non-null   int64  \n",
      "dtypes: float64(2), int64(1), object(5)\n",
      "memory usage: 108.6+ KB\n",
      "None\n"
     ]
    },
    {
     "data": {
      "text/html": [
       "<div>\n",
       "<style scoped>\n",
       "    .dataframe tbody tr th:only-of-type {\n",
       "        vertical-align: middle;\n",
       "    }\n",
       "\n",
       "    .dataframe tbody tr th {\n",
       "        vertical-align: top;\n",
       "    }\n",
       "\n",
       "    .dataframe thead th {\n",
       "        text-align: right;\n",
       "    }\n",
       "</style>\n",
       "<table border=\"1\" class=\"dataframe\">\n",
       "  <thead>\n",
       "    <tr style=\"text-align: right;\">\n",
       "      <th></th>\n",
       "      <th>sla</th>\n",
       "      <th>product_type</th>\n",
       "      <th>brand</th>\n",
       "      <th>service_type</th>\n",
       "      <th>incident_type</th>\n",
       "      <th>open_to_close_hour</th>\n",
       "      <th>response_to_resolved_hour</th>\n",
       "      <th>label_multi_severity</th>\n",
       "    </tr>\n",
       "  </thead>\n",
       "  <tbody>\n",
       "    <tr>\n",
       "      <th>1730</th>\n",
       "      <td>24x7 4Hrs Response Time</td>\n",
       "      <td>Firewall</td>\n",
       "      <td>Palo Alto</td>\n",
       "      <td>Incident</td>\n",
       "      <td>General Incident</td>\n",
       "      <td>19.233333</td>\n",
       "      <td>11.283333</td>\n",
       "      <td>2</td>\n",
       "    </tr>\n",
       "    <tr>\n",
       "      <th>1731</th>\n",
       "      <td>24x7 4Hrs Resolution Time</td>\n",
       "      <td>Storage</td>\n",
       "      <td>NetApp</td>\n",
       "      <td>Incident</td>\n",
       "      <td>Hard Disk Drive Failure</td>\n",
       "      <td>2.000000</td>\n",
       "      <td>2.000000</td>\n",
       "      <td>2</td>\n",
       "    </tr>\n",
       "    <tr>\n",
       "      <th>1732</th>\n",
       "      <td>24x7 4Hrs Resolution Time</td>\n",
       "      <td>Server</td>\n",
       "      <td>HPE</td>\n",
       "      <td>Incident</td>\n",
       "      <td>General Incident</td>\n",
       "      <td>6.683333</td>\n",
       "      <td>6.550000</td>\n",
       "      <td>2</td>\n",
       "    </tr>\n",
       "    <tr>\n",
       "      <th>1733</th>\n",
       "      <td>24x7 4Hrs Resolution Time</td>\n",
       "      <td>Server</td>\n",
       "      <td>HPE</td>\n",
       "      <td>Incident</td>\n",
       "      <td>General Incident</td>\n",
       "      <td>176.566667</td>\n",
       "      <td>176.450000</td>\n",
       "      <td>2</td>\n",
       "    </tr>\n",
       "    <tr>\n",
       "      <th>1734</th>\n",
       "      <td>24x7 4Hrs Resolution Time</td>\n",
       "      <td>Hardware</td>\n",
       "      <td>Oracle</td>\n",
       "      <td>Incident</td>\n",
       "      <td>Hard Disk Drive Failure</td>\n",
       "      <td>97.816667</td>\n",
       "      <td>97.483333</td>\n",
       "      <td>2</td>\n",
       "    </tr>\n",
       "  </tbody>\n",
       "</table>\n",
       "</div>"
      ],
      "text/plain": [
       "                            sla product_type      brand service_type  \\\n",
       "1730    24x7 4Hrs Response Time     Firewall  Palo Alto     Incident   \n",
       "1731  24x7 4Hrs Resolution Time      Storage     NetApp     Incident   \n",
       "1732  24x7 4Hrs Resolution Time       Server        HPE     Incident   \n",
       "1733  24x7 4Hrs Resolution Time       Server        HPE     Incident   \n",
       "1734  24x7 4Hrs Resolution Time     Hardware     Oracle     Incident   \n",
       "\n",
       "                incident_type  open_to_close_hour  response_to_resolved_hour  \\\n",
       "1730         General Incident           19.233333                  11.283333   \n",
       "1731  Hard Disk Drive Failure            2.000000                   2.000000   \n",
       "1732         General Incident            6.683333                   6.550000   \n",
       "1733         General Incident          176.566667                 176.450000   \n",
       "1734  Hard Disk Drive Failure           97.816667                  97.483333   \n",
       "\n",
       "      label_multi_severity  \n",
       "1730                     2  \n",
       "1731                     2  \n",
       "1732                     2  \n",
       "1733                     2  \n",
       "1734                     2  "
      ]
     },
     "execution_count": 3,
     "metadata": {},
     "output_type": "execute_result"
    }
   ],
   "source": [
    "def load_ml_data(data_path):\n",
    " df=pd.read_csv(data_path)\n",
    " df =df.drop(columns=unusedCols)\n",
    " return df\n",
    "    \n",
    "root_path='../../data'    \n",
    "train = load_ml_data(f\"{root_path}/train_incident.csv\")\n",
    "# val=train.copy()\n",
    "val=load_ml_data(f\"{root_path}/validation_incident.csv\")\n",
    "# test =val.copy()\n",
    "test =load_ml_data(f\"{root_path}/test_incident.csv\")\n",
    "\n",
    "labelList=list(train[labelCol].unique())\n",
    "print(labelList)\n",
    "nLabel=len(labelList)\n",
    "print(f\"No target label : {nLabel}\")\n",
    "\n",
    "# sr_predict=df.iloc[-1,:]\n",
    "# df=df.iloc[0:len(df)-1,:]\n",
    "                 \n",
    "print(train.info())\n",
    "train.tail()"
   ]
  },
  {
   "cell_type": "code",
   "execution_count": 4,
   "id": "64adbe5e-d737-45a4-a04e-340a2926ad2d",
   "metadata": {},
   "outputs": [
    {
     "data": {
      "text/html": [
       "<div>\n",
       "<style scoped>\n",
       "    .dataframe tbody tr th:only-of-type {\n",
       "        vertical-align: middle;\n",
       "    }\n",
       "\n",
       "    .dataframe tbody tr th {\n",
       "        vertical-align: top;\n",
       "    }\n",
       "\n",
       "    .dataframe thead th {\n",
       "        text-align: right;\n",
       "    }\n",
       "</style>\n",
       "<table border=\"1\" class=\"dataframe\">\n",
       "  <thead>\n",
       "    <tr style=\"text-align: right;\">\n",
       "      <th></th>\n",
       "      <th>Train-No-Severity</th>\n",
       "      <th>Train-%-Severity</th>\n",
       "      <th>Val-No-Severity</th>\n",
       "      <th>Val-%-Severity</th>\n",
       "      <th>Test-No-Severity</th>\n",
       "      <th>Test-%-Severity</th>\n",
       "    </tr>\n",
       "    <tr>\n",
       "      <th>label_multi_severity</th>\n",
       "      <th></th>\n",
       "      <th></th>\n",
       "      <th></th>\n",
       "      <th></th>\n",
       "      <th></th>\n",
       "      <th></th>\n",
       "    </tr>\n",
       "  </thead>\n",
       "  <tbody>\n",
       "    <tr>\n",
       "      <th>0</th>\n",
       "      <td>307</td>\n",
       "      <td>18.0</td>\n",
       "      <td>37</td>\n",
       "      <td>17.0</td>\n",
       "      <td>45</td>\n",
       "      <td>21.0</td>\n",
       "    </tr>\n",
       "    <tr>\n",
       "      <th>1</th>\n",
       "      <td>505</td>\n",
       "      <td>29.0</td>\n",
       "      <td>63</td>\n",
       "      <td>29.0</td>\n",
       "      <td>52</td>\n",
       "      <td>24.0</td>\n",
       "    </tr>\n",
       "    <tr>\n",
       "      <th>2</th>\n",
       "      <td>842</td>\n",
       "      <td>49.0</td>\n",
       "      <td>99</td>\n",
       "      <td>46.0</td>\n",
       "      <td>109</td>\n",
       "      <td>50.0</td>\n",
       "    </tr>\n",
       "    <tr>\n",
       "      <th>3</th>\n",
       "      <td>81</td>\n",
       "      <td>5.0</td>\n",
       "      <td>18</td>\n",
       "      <td>8.0</td>\n",
       "      <td>11</td>\n",
       "      <td>5.0</td>\n",
       "    </tr>\n",
       "  </tbody>\n",
       "</table>\n",
       "</div>"
      ],
      "text/plain": [
       "                      Train-No-Severity  Train-%-Severity  Val-No-Severity  \\\n",
       "label_multi_severity                                                         \n",
       "0                                   307              18.0               37   \n",
       "1                                   505              29.0               63   \n",
       "2                                   842              49.0               99   \n",
       "3                                    81               5.0               18   \n",
       "\n",
       "                      Val-%-Severity  Test-No-Severity  Test-%-Severity  \n",
       "label_multi_severity                                                     \n",
       "0                               17.0                45             21.0  \n",
       "1                               29.0                52             24.0  \n",
       "2                               46.0               109             50.0  \n",
       "3                                8.0                11              5.0  "
      ]
     },
     "execution_count": 4,
     "metadata": {},
     "output_type": "execute_result"
    }
   ],
   "source": [
    "def CalPctEachTargetClass(dfx,colSev,colPctSev):\n",
    "    dfClassSummary=dfx.groupby([labelCol]).size().to_frame(colSev)\n",
    "    dfClassSummary[colPctSev]= dfClassSummary[colSev]/dfClassSummary[colSev].sum() *100\n",
    "    dfClassSummary=dfClassSummary.round(0)\n",
    "    return dfClassSummary\n",
    "\n",
    "pctDF1=CalPctEachTargetClass(train,'Train-No-Severity','Train-%-Severity')\n",
    "pctDF2=CalPctEachTargetClass(val,'Val-No-Severity','Val-%-Severity')\n",
    "pdcDF3=CalPctEachTargetClass(test,'Test-No-Severity','Test-%-Severity')\n",
    "pctDF=pd.concat([pctDF1,pctDF2,pdcDF3],axis=1)\n",
    "\n",
    "pctDF"
   ]
  },
  {
   "cell_type": "code",
   "execution_count": 5,
   "id": "c59e9916-6668-4c4e-8974-af63c3f840b0",
   "metadata": {},
   "outputs": [
    {
     "data": {
      "image/png": "[encoded data removed]",
      "text/plain": [
       "<Figure size 1000x600 with 1 Axes>"
      ]
     },
     "metadata": {},
     "output_type": "display_data"
    },
    {
     "data": {
      "image/png": "[encoded data removed]",
      "text/plain": [
       "<Figure size 1000x600 with 1 Axes>"
      ]
     },
     "metadata": {},
     "output_type": "display_data"
    },
    {
     "data": {
      "image/png": "[encoded data removed]",
      "text/plain": [
       "<Figure size 1000x600 with 1 Axes>"
      ]
     },
     "metadata": {},
     "output_type": "display_data"
    }
   ],
   "source": [
    "def plot_class(df):\n",
    "    fig , ax = plt.subplots(figsize=(10,6))\n",
    "    ax =sns.countplot(x=labelCol, data=df,)\n",
    "    for p in ax.patches:\n",
    "       ax.annotate('{:.1f}'.format(p.get_height()), (p.get_x()+0.25, p.get_height()+0.01))\n",
    "    plt.title(labelCol.title())\n",
    "    plt.show()\n",
    "    \n",
    "plot_class(train)\n",
    "plot_class(val)\n",
    "plot_class(test)"
   ]
  },
  {
   "cell_type": "markdown",
   "id": "fa30d3fd-14e9-4c3d-a6aa-45d8114f5362",
   "metadata": {},
   "source": [
    "# Process Data  Layer"
   ]
  },
  {
   "cell_type": "code",
   "execution_count": 6,
   "id": "d9d3a943-09d5-4a43-b8d8-633bc4a90353",
   "metadata": {},
   "outputs": [],
   "source": [
    "def multiple_label_df_to_dataset(dataframe, shuffle=True, batch_size=32):\n",
    "  features = dataframe.copy()\n",
    "  labels = features.pop(labelCol)\n",
    "  labels  = tf.keras.utils.to_categorical(labels, num_classes=nLabel)\n",
    "    \n",
    "  ds = tf.data.Dataset.from_tensor_slices(( dict(features), labels ))\n",
    "  if shuffle:\n",
    "    ds = ds.shuffle(buffer_size=len(features))\n",
    "  ds = ds.batch(batch_size)\n",
    "  ds = ds.prefetch(batch_size)\n",
    "  return ds\n",
    "     \n",
    "     "
   ]
  },
  {
   "cell_type": "code",
   "execution_count": 7,
   "id": "274122c2-9481-438b-b637-6e6ad393d809",
   "metadata": {},
   "outputs": [
    {
     "name": "stdout",
     "output_type": "stream",
     "text": [
      "Explore Data from Tensor before keras data processing\n",
      "========Features==========\n",
      "Every feature: ['sla', 'product_type', 'brand', 'service_type', 'incident_type', 'open_to_close_hour', 'response_to_resolved_hour']\n",
      "product_type: tf.Tensor([b'Server'], shape=(1,), dtype=string)\n",
      "open_to_close_hour: tf.Tensor([4.6], shape=(1,), dtype=float64)\n",
      "========Labels==========\n",
      "[[0. 0. 0. 1.]]\n"
     ]
    }
   ],
   "source": [
    "print(\"Explore Data from Tensor before keras data processing\")\n",
    "batch_size = 1\n",
    "train_ds =multiple_label_df_to_dataset(train, batch_size=batch_size)\n",
    "\n",
    "[(train_features, label_batch)] = train_ds.take(1)\n",
    "print(\"========Features==========\")\n",
    "print('Every feature:', list(train_features.keys()))\n",
    "print('product_type:', train_features['product_type'])\n",
    "print('open_to_close_hour:', train_features['open_to_close_hour'])\n",
    "print(\"========Labels==========\")\n",
    "print(f'{label_batch }')"
   ]
  },
  {
   "cell_type": "code",
   "execution_count": 8,
   "id": "02ad8837-968e-4d68-bdb6-1c7eba97e69c",
   "metadata": {},
   "outputs": [],
   "source": [
    "def get_normalization_layer(name, dataset):\n",
    "  # Create a Normalization layer for our feature.\n",
    "  normalizer = preprocessing.Normalization(axis=None)\n",
    "\n",
    "  # Prepare a Dataset that only yields our feature.\n",
    "  feature_ds = dataset.map(lambda x, y: x[name])\n",
    "\n",
    "  # Learn the statistics of the data.\n",
    "  normalizer.adapt(feature_ds)\n",
    "\n",
    "  return normalizer"
   ]
  },
  {
   "cell_type": "code",
   "execution_count": 9,
   "id": "237bce3c-9c77-4318-8682-fc36af0a6804",
   "metadata": {},
   "outputs": [],
   "source": [
    "def get_category_encoding_layer(name, dataset, dtype, max_tokens=None):\n",
    "  # Create a StringLookup layer which will turn strings into integer indices\n",
    "  if dtype == 'string':\n",
    "    index = preprocessing.StringLookup(max_tokens=max_tokens)\n",
    "  else:\n",
    "    index = preprocessing.IntegerLookup(max_tokens=max_tokens)\n",
    "\n",
    "  # Prepare a Dataset that only yields our feature\n",
    "  feature_ds = dataset.map(lambda x, y: x[name])\n",
    "\n",
    "  # Learn the set of possible values and assign them a fixed integer index.\n",
    "  index.adapt(feature_ds)\n",
    "\n",
    "  # Create a Discretization for our integer indices.\n",
    "  encoder = preprocessing.CategoryEncoding(num_tokens=index.vocabulary_size())\n",
    "\n",
    "  # Apply one-hot encoding to our indices. The lambda function captures the\n",
    "  # layer so we can use them, or include them in the functional model later.\n",
    "  return lambda feature: encoder(index(feature))\n",
    "     "
   ]
  },
  {
   "cell_type": "code",
   "execution_count": 10,
   "id": "4ab6c0ac-ee9b-42f3-b140-a102e8f2f121",
   "metadata": {},
   "outputs": [
    {
     "name": "stdout",
     "output_type": "stream",
     "text": [
      "WARNING:tensorflow:From D:\\ProgramData\\Anaconda3\\envs\\dev_google\\lib\\site-packages\\tensorflow\\python\\autograph\\pyct\\static_analysis\\liveness.py:83: Analyzer.lamba_check (from tensorflow.python.autograph.pyct.static_analysis.liveness) is deprecated and will be removed after 2023-09-23.\n",
      "Instructions for updating:\n",
      "Lambda fuctions will be no more assumed to be used in the statement where they are used, or at least in the same block. https://github.com/tensorflow/tensorflow/issues/56089\n"
     ]
    },
    {
     "data": {
      "text/plain": [
       "<tf.Tensor: shape=(1,), dtype=float32, numpy=array([-0.34739774], dtype=float32)>"
      ]
     },
     "execution_count": 10,
     "metadata": {},
     "output_type": "execute_result"
    }
   ],
   "source": [
    "hour_col = train_features['open_to_close_hour']\n",
    "layer = get_normalization_layer('open_to_close_hour', train_ds)\n",
    "layer(hour_col)"
   ]
  },
  {
   "cell_type": "code",
   "execution_count": 11,
   "id": "19c0de50-a1fb-44b9-b91f-555ac779ec40",
   "metadata": {},
   "outputs": [
    {
     "data": {
      "text/plain": [
       "<tf.Tensor: shape=(11,), dtype=float32, numpy=array([0., 1., 0., 0., 0., 0., 0., 0., 0., 0., 0.], dtype=float32)>"
      ]
     },
     "execution_count": 11,
     "metadata": {},
     "output_type": "execute_result"
    }
   ],
   "source": [
    "# total no type+unkonw\n",
    "type_col = train_features['product_type']\n",
    "layer = get_category_encoding_layer('product_type', train_ds, 'string')\n",
    "layer(type_col)"
   ]
  },
  {
   "cell_type": "code",
   "execution_count": 12,
   "id": "a5c78f01-000a-4d3e-9fbf-6f4660cfb75b",
   "metadata": {},
   "outputs": [],
   "source": [
    "batch_size =32\n",
    "train_ds = multiple_label_df_to_dataset (train, batch_size=batch_size)\n",
    "val_ds = multiple_label_df_to_dataset(val, batch_size=batch_size)\n",
    "test_ds = multiple_label_df_to_dataset(test, batch_size=batch_size)\n",
    "# for element in train_ds.as_numpy_iterator():\n",
    "#     print(element)"
   ]
  },
  {
   "cell_type": "code",
   "execution_count": 13,
   "id": "723a69b6-d9c1-49d9-bc81-ed421d8700cb",
   "metadata": {},
   "outputs": [
    {
     "name": "stdout",
     "output_type": "stream",
     "text": [
      "open_to_close_hour\n",
      "response_to_resolved_hour\n",
      "sla\n",
      "product_type\n",
      "brand\n",
      "service_type\n",
      "incident_type\n"
     ]
    }
   ],
   "source": [
    "all_inputs = []\n",
    "encoded_features = []\n",
    "\n",
    "# Numeric features.\n",
    "for header in numbericCols:\n",
    "  print(header)  \n",
    "  numeric_col = tf.keras.Input(shape=(1,), name=header)\n",
    "  normalization_layer = get_normalization_layer(header, train_ds)\n",
    "  encoded_numeric_col = normalization_layer(numeric_col)\n",
    "  all_inputs.append(numeric_col)\n",
    "  encoded_features.append(encoded_numeric_col)\n",
    "    \n",
    "    # Categorical features encoded as string.\n",
    "categorical_cols = cateCols\n",
    "for header in categorical_cols:\n",
    "  print(header)  \n",
    "  categorical_col = tf.keras.Input(shape=(1,), name=header, dtype='string')\n",
    "  encoding_layer = get_category_encoding_layer(header, train_ds, dtype='string')\n",
    "                                        \n",
    "  encoded_categorical_col = encoding_layer(categorical_col)\n",
    "  all_inputs.append(categorical_col)\n",
    "  encoded_features.append(encoded_categorical_col)\n"
   ]
  },
  {
   "cell_type": "code",
   "execution_count": null,
   "id": "78419953-d126-4562-afe4-8b85c938a148",
   "metadata": {},
   "outputs": [],
   "source": []
  },
  {
   "cell_type": "code",
   "execution_count": null,
   "id": "48f85f8a-4471-44e1-a389-102232c296e7",
   "metadata": {},
   "outputs": [],
   "source": []
  },
  {
   "cell_type": "markdown",
   "id": "aa733595-628e-4a07-a6b8-719995fa535b",
   "metadata": {},
   "source": [
    "# Build and Train and Eveluate and Plot Result"
   ]
  },
  {
   "cell_type": "code",
   "execution_count": 14,
   "id": "ee6ca53e-78d8-400e-a48e-cdcb93d2030f",
   "metadata": {},
   "outputs": [],
   "source": [
    "def plot_metrics(history,metric):\n",
    "    plt.figure(figsize=(15,8))\n",
    "    plt.title(metric)\n",
    "    plt.plot(history.history[metric], label='train')\n",
    "    plt.plot(history.history[f'val_{metric}'], label='validation')\n",
    "    plt.legend()\n",
    "    plt.show() \n"
   ]
  },
  {
   "cell_type": "code",
   "execution_count": 15,
   "id": "0f6af5c9-fc24-486a-bdd7-f6c4730dd236",
   "metadata": {},
   "outputs": [],
   "source": [
    "# def build_model(num_units_1,num_units_layer2, dropout_rate):\n",
    "def build_model(num_units_layer1, dropout_rate,learningRate):\n",
    "    \n",
    "    all_features = tf.keras.layers.concatenate(encoded_features)\n",
    "   \n",
    "    x = tf.keras.layers.Dense(num_units_layer1, activation=\"relu\")(all_features)\n",
    "    \n",
    "    if dropout_rate>0:\n",
    "     x = tf.keras.layers.Dropout(dropout_rate)(x)\n",
    "\n",
    "    output = tf.keras.layers.Dense(nLabel,activation=tf.nn.softmax)(x)\n",
    "\n",
    "    model = tf.keras.Model(all_inputs, output)\n",
    "    \n",
    "    if  learningRate==0:\n",
    "        model.compile(optimizer='adam',\n",
    "                      loss=tf.keras.losses.CategoricalCrossentropy(),metrics=[main_metric])\n",
    "    else:\n",
    "        model.compile(optimizer=tf.keras.optimizers.Adam(learning_rate=learningRate),\n",
    "                      loss=tf.keras.losses.CategoricalCrossentropy(),metrics=[main_metric])\n",
    "    return model\n",
    "\n",
    "# METRICS = [\n",
    "#       keras.metrics.BinaryAccuracy(name='accuracy'),\n",
    "#       keras.metrics.Precision(name='precision'),\n",
    "#       keras.metrics.Recall(name='recall'),\n",
    "#       keras.metrics.AUC(name='auc'),\n",
    "# ]\n",
    "\n",
    "def train_model(model,x_epochs,x_batch_size):  \n",
    "    # model.summary()\n",
    "    early_stopping = tf.keras.callbacks.EarlyStopping(monitor=main_objective, patience=nEarlyPatience, verbose=1)\n",
    "    history =model.fit(train_ds, validation_data=val_ds,epochs=x_epochs,batch_size=x_batch_size,callbacks=[early_stopping])\n",
    "    return history\n",
    "  \n",
    "\n"
   ]
  },
  {
   "cell_type": "markdown",
   "id": "c3816a15-6688-4c87-9d20-e5fc45d48d11",
   "metadata": {},
   "source": [
    "# Test Run Model"
   ]
  },
  {
   "cell_type": "code",
   "execution_count": 16,
   "id": "25688a22-05f5-4cac-b662-d261b5dcfb78",
   "metadata": {},
   "outputs": [
    {
     "name": "stdout",
     "output_type": "stream",
     "text": [
      "1#Build model\n",
      "2#Train model\n",
      "Epoch 1/100\n",
      "55/55 [==============================] - 2s 13ms/step - loss: 1.2424 - accuracy: 0.4242 - val_loss: 1.1624 - val_accuracy: 0.4700\n",
      "Epoch 2/100\n",
      "55/55 [==============================] - 0s 3ms/step - loss: 1.0524 - accuracy: 0.5522 - val_loss: 1.0648 - val_accuracy: 0.5714\n",
      "Epoch 3/100\n",
      "55/55 [==============================] - 0s 4ms/step - loss: 0.9442 - accuracy: 0.6277 - val_loss: 0.9943 - val_accuracy: 0.6267\n",
      "Epoch 4/100\n",
      "55/55 [==============================] - 0s 4ms/step - loss: 0.8696 - accuracy: 0.6571 - val_loss: 0.9464 - val_accuracy: 0.6313\n",
      "Epoch 5/100\n",
      "55/55 [==============================] - 0s 3ms/step - loss: 0.8124 - accuracy: 0.6795 - val_loss: 0.9178 - val_accuracy: 0.5945\n",
      "Epoch 6/100\n",
      "55/55 [==============================] - 0s 3ms/step - loss: 0.7910 - accuracy: 0.6836 - val_loss: 0.8994 - val_accuracy: 0.5991\n",
      "Epoch 7/100\n",
      "55/55 [==============================] - 0s 4ms/step - loss: 0.7743 - accuracy: 0.6749 - val_loss: 0.8865 - val_accuracy: 0.6267\n",
      "Epoch 8/100\n",
      "55/55 [==============================] - 0s 4ms/step - loss: 0.7538 - accuracy: 0.6899 - val_loss: 0.8804 - val_accuracy: 0.6037\n",
      "Epoch 9/100\n",
      "55/55 [==============================] - 0s 4ms/step - loss: 0.7428 - accuracy: 0.6934 - val_loss: 0.8725 - val_accuracy: 0.6221\n",
      "Epoch 10/100\n",
      "55/55 [==============================] - 0s 4ms/step - loss: 0.7341 - accuracy: 0.6997 - val_loss: 0.8670 - val_accuracy: 0.6406\n",
      "Epoch 11/100\n",
      "55/55 [==============================] - 0s 4ms/step - loss: 0.7180 - accuracy: 0.6957 - val_loss: 0.8646 - val_accuracy: 0.6359\n",
      "Epoch 12/100\n",
      "55/55 [==============================] - 0s 4ms/step - loss: 0.7171 - accuracy: 0.6991 - val_loss: 0.8522 - val_accuracy: 0.6452\n",
      "Epoch 13/100\n",
      "55/55 [==============================] - 0s 4ms/step - loss: 0.7125 - accuracy: 0.7078 - val_loss: 0.8494 - val_accuracy: 0.6590\n",
      "Epoch 14/100\n",
      "55/55 [==============================] - 0s 4ms/step - loss: 0.7074 - accuracy: 0.7095 - val_loss: 0.8500 - val_accuracy: 0.6590\n",
      "Epoch 15/100\n",
      "55/55 [==============================] - 0s 4ms/step - loss: 0.6974 - accuracy: 0.7187 - val_loss: 0.8441 - val_accuracy: 0.6590\n",
      "Epoch 16/100\n",
      "55/55 [==============================] - 0s 4ms/step - loss: 0.6913 - accuracy: 0.7037 - val_loss: 0.8448 - val_accuracy: 0.6728\n",
      "Epoch 17/100\n",
      "55/55 [==============================] - 0s 4ms/step - loss: 0.6863 - accuracy: 0.7187 - val_loss: 0.8388 - val_accuracy: 0.6544\n",
      "Epoch 18/100\n",
      "55/55 [==============================] - 0s 4ms/step - loss: 0.6899 - accuracy: 0.7118 - val_loss: 0.8359 - val_accuracy: 0.6544\n",
      "Epoch 19/100\n",
      "55/55 [==============================] - 0s 4ms/step - loss: 0.6779 - accuracy: 0.7256 - val_loss: 0.8329 - val_accuracy: 0.6544\n",
      "Epoch 20/100\n",
      "55/55 [==============================] - 0s 4ms/step - loss: 0.6733 - accuracy: 0.7216 - val_loss: 0.8309 - val_accuracy: 0.6636\n",
      "Epoch 21/100\n",
      "55/55 [==============================] - 0s 4ms/step - loss: 0.6685 - accuracy: 0.7285 - val_loss: 0.8337 - val_accuracy: 0.6498\n",
      "Epoch 22/100\n",
      "55/55 [==============================] - 0s 4ms/step - loss: 0.6628 - accuracy: 0.7337 - val_loss: 0.8298 - val_accuracy: 0.6452\n",
      "Epoch 23/100\n",
      "55/55 [==============================] - 0s 4ms/step - loss: 0.6655 - accuracy: 0.7216 - val_loss: 0.8330 - val_accuracy: 0.6544\n",
      "Epoch 24/100\n",
      "55/55 [==============================] - 0s 4ms/step - loss: 0.6542 - accuracy: 0.7308 - val_loss: 0.8305 - val_accuracy: 0.6682\n",
      "Epoch 25/100\n",
      "55/55 [==============================] - 0s 4ms/step - loss: 0.6600 - accuracy: 0.7291 - val_loss: 0.8243 - val_accuracy: 0.6636\n",
      "Epoch 26/100\n",
      "55/55 [==============================] - 0s 4ms/step - loss: 0.6543 - accuracy: 0.7343 - val_loss: 0.8247 - val_accuracy: 0.6313\n",
      "Epoch 26: early stopping\n",
      "=============================================================================\n"
     ]
    }
   ],
   "source": [
    "print(\"1#Build model\")\n",
    "\n",
    "# {'units': 128, 'Dropout_rate': 0.1, 'learning_rate': 0.01}\n",
    "#Eveluation on Val-Data at 47 epochs : loss=1.0402859449386597 and accuracy= 0.7405660152435303\n",
    "#Evaluation on Test-Data at 47 epochs : loss=0.8831631541252136 and accuracy= 0.7311320900917053\n",
    "\n",
    "model=build_model(32,0.1,0)\n",
    "\n",
    "print(\"2#Train model\")\n",
    "history=train_model(model,100,16)\n",
    "print(\"=============================================================================\")\n",
    "\n"
   ]
  },
  {
   "cell_type": "code",
   "execution_count": 17,
   "id": "19961e63-4585-4662-98ee-25402fe7e735",
   "metadata": {},
   "outputs": [
    {
     "name": "stdout",
     "output_type": "stream",
     "text": [
      "3#Evaluate model\n",
      "7/7 [==============================] - 0s 4ms/step - loss: 0.8247 - accuracy: 0.6313\n",
      "Average Loss - Accuracy on Eveluation 0.8246631026268005 -0.6313363909721375\n",
      "7/7 [==============================] - 0s 5ms/step - loss: 0.6458 - accuracy: 0.7512\n",
      "Average Loss - Accuracy on Test 0.6457671523094177 -0.7511520981788635\n",
      "=============================================================================\n"
     ]
    }
   ],
   "source": [
    "print(\"3#Evaluate model\")\n",
    "\n",
    "loss_val, accuracy_val = model.evaluate(val_ds)\n",
    "print(f\"Average Loss - Accuracy on Eveluation {loss_val} -{accuracy_val}\")\n",
    "\n",
    "loss_test, accuracy_test = model.evaluate(test_ds)\n",
    "print(f\"Average Loss - Accuracy on Test {loss_test} -{accuracy_test}\")\n",
    "\n",
    "print(\"=============================================================================\")"
   ]
  },
  {
   "cell_type": "code",
   "execution_count": 18,
   "id": "00f3a39c-d489-4970-a709-cdf9c38805f2",
   "metadata": {},
   "outputs": [
    {
     "name": "stdout",
     "output_type": "stream",
     "text": [
      "4#Explore Result model\n"
     ]
    },
    {
     "data": {
      "image/png": "[encoded data removed]",
      "text/plain": [
       "<Figure size 1500x800 with 1 Axes>"
      ]
     },
     "metadata": {},
     "output_type": "display_data"
    },
    {
     "data": {
      "image/png": "[encoded data removed]",
      "text/plain": [
       "<Figure size 1500x800 with 1 Axes>"
      ]
     },
     "metadata": {},
     "output_type": "display_data"
    }
   ],
   "source": [
    "print(\"4#Explore Result model\")\n",
    "plot_metrics(history,main_metric)\n",
    "plot_metrics(history,\"loss\")\n"
   ]
  },
  {
   "cell_type": "markdown",
   "id": "c05e9e8b-804d-4c37-9865-9dfcf2343411",
   "metadata": {},
   "source": [
    "# Save Model"
   ]
  },
  {
   "cell_type": "code",
   "execution_count": 101,
   "id": "ab8f677c-dfa2-48b5-b980-6cc10f2e0033",
   "metadata": {},
   "outputs": [],
   "source": [
    "# model.save(model_dir)\n",
    "\n",
    "# OUTPUT_DIR = \"babyweight_trained\"\n",
    "# shutil.rmtree(OUTPUT_DIR, ignore_errors=True)\n",
    "# EXPORT_PATH = os.path.join(\n",
    "#     OUTPUT_DIR, datetime.datetime.now().strftime(\"%Y%m%d%H%M%S\"))\n",
    "# tf.saved_model.save(\n",
    "#     obj=model, export_dir=EXPORT_PATH)  # with default serving function\n",
    "# print(\"Exported trained model to {}\".format(EXPORT_PATH))\n"
   ]
  },
  {
   "cell_type": "markdown",
   "id": "f86af40e-2142-4c2f-af6d-13bae8cd463e",
   "metadata": {},
   "source": [
    "# Test Predict"
   ]
  },
  {
   "cell_type": "code",
   "execution_count": 102,
   "id": "dd916787-bacc-4537-b2b6-1c6d62932de8",
   "metadata": {},
   "outputs": [
    {
     "name": "stdout",
     "output_type": "stream",
     "text": [
      "{'sla': '24x7 4Hrs Response Time', 'product_type': 'Server', 'brand': 'VMWare', 'service_type': 'Incident', 'incident_type': 'General Incident', 'open_to_close_hour': 10, 'response_to_resolved_hour': 6.0}\n",
      "===============================================================================================================\n",
      "convert pain data to serdor as input to predict\n",
      "{'sla': <tf.Tensor: shape=(1,), dtype=string, numpy=array([b'24x7 4Hrs Response Time'], dtype=object)>, 'product_type': <tf.Tensor: shape=(1,), dtype=string, numpy=array([b'Server'], dtype=object)>, 'brand': <tf.Tensor: shape=(1,), dtype=string, numpy=array([b'VMWare'], dtype=object)>, 'service_type': <tf.Tensor: shape=(1,), dtype=string, numpy=array([b'Incident'], dtype=object)>, 'incident_type': <tf.Tensor: shape=(1,), dtype=string, numpy=array([b'General Incident'], dtype=object)>, 'open_to_close_hour': <tf.Tensor: shape=(1,), dtype=int32, numpy=array([10])>, 'response_to_resolved_hour': <tf.Tensor: shape=(1,), dtype=float32, numpy=array([6.], dtype=float32)>}\n",
      "1/1 [==============================] - 0s 461ms/step\n",
      "[[0.00930819 0.2736823  0.7139948  0.00301468]]\n",
      "[18.798569 24.487307 38.0335   18.680632] %  as Severity\n"
     ]
    }
   ],
   "source": [
    "#label_multi_severity\n",
    "\n",
    "\n",
    "# model.predict(\n",
    "#     x={\n",
    "#         \"pickup_longitude\": tf.convert_to_tensor([-73.982683]),\n",
    "#         \"pickup_latitude\": tf.convert_to_tensor([40.742104]),\n",
    "#         \"dropoff_longitude\": tf.convert_to_tensor([-73.983766]),\n",
    "#         \"dropoff_latitude\": tf.convert_to_tensor([40.755174]),\n",
    "#         \"passenger_count\": tf.convert_to_tensor([3.0]),\n",
    "#     },\n",
    "#     steps=1,\n",
    "# )\n",
    "\n",
    "reloaded_model = tf.keras.models.load_model(model_dir)\n",
    "\n",
    "\n",
    "sample={\"sla\":\"24x7 4Hrs Response Time\",\n",
    "        \"product_type\":\"Server\",\n",
    "        \"brand\":\"VMWare\",                \n",
    "        \"service_type\":\"Incident\",\n",
    "        \"incident_type\":\"General Incident\",\n",
    "        \"open_to_close_hour\":10,\n",
    "        \"response_to_resolved_hour\":6.000000 \\\n",
    "       }\n",
    "\n",
    "print(sample)\n",
    "              \n",
    "print(\"===============================================================================================================\")    \n",
    "print(\"convert pain data to serdor as input to predict\")    \n",
    "input_dict = {name: tf.convert_to_tensor([value]) for name, value in sample.items()}\n",
    "print(input_dict)\n",
    "\n",
    "predictionList = reloaded_model.predict(input_dict)\n",
    "print(predictionList)\n",
    "prob = tf.nn.softmax(predictionList[0])\n",
    "print(f\"{(100 * prob)} %  as Severity\")   "
   ]
  },
  {
   "cell_type": "code",
   "execution_count": null,
   "id": "fa5ce92d-2c60-4565-a34a-bbd17d06b58c",
   "metadata": {},
   "outputs": [],
   "source": []
  },
  {
   "cell_type": "markdown",
   "id": "c5587682-2265-4eff-985f-ca1f7852ddf4",
   "metadata": {},
   "source": [
    "# Copy Model From Local To GCS"
   ]
  },
  {
   "cell_type": "code",
   "execution_count": 104,
   "id": "eaabd3ac-47ad-43ae-b6e5-fc16fecec238",
   "metadata": {},
   "outputs": [
    {
     "name": "stderr",
     "output_type": "stream",
     "text": [
      "Copying file://.\\model\\saved_model.pb [Content-Type=application/octet-stream]...\n",
      "/ [0/5 files][    0.0 B/476.2 KiB]   0% Done                                    \n",
      "Copying file://.\\model\\variables\\variables.index [Content-Type=application/octet-stream]...\n",
      "/ [0/5 files][    0.0 B/476.2 KiB]   0% Done                                    \n",
      "Copying file://.\\model\\variables\\variables.data-00000-of-00001 [Content-Type=application/octet-stream]...\n",
      "Copying file://.\\model\\keras_metadata.pb [Content-Type=application/octet-stream]...\n",
      "/ [0/5 files][    0.0 B/476.2 KiB]   0% Done                                    \n",
      "/ [0/5 files][    0.0 B/476.2 KiB]   0% Done                                    \n",
      "Copying file://.\\model\\fingerprint.pb [Content-Type=application/octet-stream]...\n",
      "/ [0/5 files][    0.0 B/476.2 KiB]   0% Done                                    \n",
      "/ [1/5 files][ 78.5 KiB/476.2 KiB]  16% Done                                    \n",
      "/ [2/5 files][398.5 KiB/476.2 KiB]  83% Done                                    \n",
      "/ [3/5 files][476.2 KiB/476.2 KiB]  99% Done                                    \n",
      "/ [4/5 files][476.2 KiB/476.2 KiB]  99% Done                                    \n",
      "/ [5/5 files][476.2 KiB/476.2 KiB] 100% Done                                    \n",
      "\n",
      "Operation completed over 5 objects/476.2 KiB.                                    \n"
     ]
    }
   ],
   "source": [
    "# #https://codelabs.developers.google.com/codelabs/fraud-detection-ai-explanations?hl=en#6\n",
    "# press_y3=input(f\"Press y=True to save model to Google Cloud storage : \") \n",
    "# if press_y3.lower()=='y':\n",
    "# MODEL_BUCKET = 'gs://tf1-incident-pongthorn'\n",
    "# MODEL_NAME = 'tf1_incident_multi_model'\n",
    "\n",
    "# # # !gsutil mb -l $REGION $MODEL_BUCKET\n",
    "# !gsutil -m cp -r ./$model_dir/* $MODEL_BUCKET/model\n",
    "# else:\n",
    "#  quite()\n"
   ]
  },
  {
   "cell_type": "markdown",
   "id": "9fc32a07-c2fc-4ff6-a771-fc3532630f01",
   "metadata": {},
   "source": [
    "# Import Model to Vertex AI"
   ]
  },
  {
   "cell_type": "code",
   "execution_count": null,
   "id": "3b9774f1-2293-43db-9464-47ea7f44b540",
   "metadata": {},
   "outputs": [],
   "source": [
    "# https://console.cloud.google.com/vertex-ai/models?project=pongthorn\n",
    "# name=tf_dnn_incident_pongthorn1\n",
    "# region =asia-southeast1\n",
    "# prebuild =tensorflow 11 \n",
    "# model path =gs://tf1-incident-pongthorn/model/\n",
    "\n",
    "\n",
    "# https://cloud.google.com/vertex-ai/docs/model-registry/import-model#get-operation\n",
    "\n",
    "\n",
    "#https://codelabs.developers.google.com/vertex-p2p-predictions#3\n",
    "# Import model manually\n",
    "#https://console.cloud.google.com/vertex-ai/models?project=pongthorn\n",
    "# Upload wand wait for vertex to complete process (Email notification)\n",
    "# if run package ( you need to specify precuild-pacage\n",
    "\n",
    "\n",
    "#Import model programactically\n",
    "# https://cloud.google.com/vertex-ai/docs/predictions/pre-built-containers\n",
    "\n",
    "# from google.cloud import aiplatform\n",
    "# DEPLOY_IMAGE = \"asia-docker.pkg.dev/vertex-ai/prediction/xgboost-cpu.1-6:latest\"\n",
    "\n",
    "# model = aip.Model.upload(\n",
    "#     display_name=\"ponghthorn_xgb_\" + TIMESTAMP,\n",
    "#     artifact_uri=MODEL_DIR,\n",
    "#     serving_container_image_uri=DEPLOY_IMAGE,\n",
    "#     sync=False,\n",
    "# )\n",
    "\n",
    "# model.wait()\n"
   ]
  },
  {
   "cell_type": "markdown",
   "id": "2792371f-3e81-4717-95f5-4acff020cfb3",
   "metadata": {},
   "source": [
    "# Deploy Model to EndPoint"
   ]
  },
  {
   "cell_type": "code",
   "execution_count": null,
   "id": "2fbcd51c-0dce-4b75-bc53-70539c352ba5",
   "metadata": {},
   "outputs": [],
   "source": [
    "#https://codelabs.developers.google.com/vertex-p2p-predictions#4\n",
    "# Manual\n",
    "\n",
    "# Program\n",
    "# my_model = aiplatform.Model(\"projects/{PROJECT_NUMBER}/locations/us-central1/models/{MODEL_ID}\") \n",
    "\n",
    "# endpoint = my_model.deploy(\n",
    "#      deployed_model_display_name='my-endpoint',\n",
    "#      traffic_split={\"0\": 100},\n",
    "#      machine_type=\"n1-standard-4\",\n",
    "#      accelerator_count=0,\n",
    "#      min_replica_count=1,\n",
    "#      max_replica_count=1,\n",
    "#    )"
   ]
  },
  {
   "cell_type": "code",
   "execution_count": null,
   "id": "5a601d87-b648-4eea-b2de-b85b7723c5ba",
   "metadata": {},
   "outputs": [],
   "source": []
  },
  {
   "cell_type": "code",
   "execution_count": 95,
   "id": "20082661-dc7f-414b-a759-3478163adcdf",
   "metadata": {},
   "outputs": [],
   "source": [
    "# Deploy to AIPlatform (Deprecated)\n",
    "# MODEL = MODEL_NAME\n",
    "# VERSION = 'v1'\n",
    "# model_path = MODEL_BUCKET + '/model'\n",
    "\n",
    "# # !gcloud ai-platform models create $MODEL --region=$REGION\n",
    "\n",
    "# MACHINE_TYPE='n1-standard-2'\n",
    "\n",
    "# !gcloud  ai-platform versions create $VERSION --model $MODEL --origin $model_path --runtime-version 2.11 --framework TENSORFLOW --machine-type $MACHINE_TYPE --python-version 3.7 --region=$REGION\n",
    "# !gcloud ai-platform versions describe $VERSION --model $MODEL --region=$REGION"
   ]
  },
  {
   "cell_type": "code",
   "execution_count": 107,
   "id": "6465851a-f078-41a2-991c-80a71d3e695d",
   "metadata": {},
   "outputs": [],
   "source": [
    "\n"
   ]
  },
  {
   "cell_type": "code",
   "execution_count": null,
   "id": "6c0f6c5d-3ea4-4fae-ba78-b8decf134a92",
   "metadata": {},
   "outputs": [],
   "source": []
  },
  {
   "cell_type": "code",
   "execution_count": null,
   "id": "ff433f46-0e98-48ec-8b32-25b840541253",
   "metadata": {},
   "outputs": [],
   "source": []
  }
 ],
 "metadata": {
  "kernelspec": {
   "display_name": "Python 3 (ipykernel)",
   "language": "python",
   "name": "python3"
  },
  "language_info": {
   "codemirror_mode": {
    "name": "ipython",
    "version": 3
   },
   "file_extension": ".py",
   "mimetype": "text/x-python",
   "name": "python",
   "nbconvert_exporter": "python",
   "pygments_lexer": "ipython3",
   "version": "3.9.16"
  }
 },
 "nbformat": 4,
 "nbformat_minor": 5
}
