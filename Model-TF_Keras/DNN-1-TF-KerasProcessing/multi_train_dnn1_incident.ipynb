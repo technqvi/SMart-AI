{
 "cells": [
  {
   "cell_type": "code",
   "execution_count": 21,
   "id": "efd54814-e227-4302-9a81-3d6ddcf0e9a5",
   "metadata": {},
   "outputs": [
    {
     "name": "stdout",
     "output_type": "stream",
     "text": [
      "2.12.0\n",
      "1.26.0\n"
     ]
    }
   ],
   "source": [
    "# import necessary libraries\n",
    "\n",
    "# processing laryer\n",
    "#https://github.com/GoogleCloudPlatform/training-data-analyst/blob/master/courses/machine_learning/deepdive2/introduction_to_tensorflow/solutions/preprocessing_layers.ipynb\n",
    "#http://localhost:8888/lab/tree/MyQuantFinProject/SMart-AI/_sample_tf_google/tfcolumn_basic_feat_eng.ipynb\n",
    "\n",
    "# others\n",
    "#https://github.com/GoogleCloudPlatform/vertex-ai-samples/blob/main/notebooks/official/custom/custom-tabular-bq-managed-dataset.ipynb\n",
    "#https://github.com/GoogleCloudPlatform/training-data-analyst/blob/master/courses/machine_learning/deepdive2/introduction_to_tensorflow/solutions/int_logistic_regression.ipynb\n",
    "#http://localhost:8888/lab/tree/MyQuantFinProject/SMart-AI/DemoDataTransform.ipynb\n",
    "\n",
    "import math\n",
    "\n",
    "import numpy as np\n",
    "import pandas as pd\n",
    "import tensorflow as tf\n",
    "import matplotlib.pyplot as plt\n",
    "import seaborn as sns\n",
    "\n",
    "from tensorflow.keras import Sequential\n",
    "from tensorflow.keras.layers import Dense,DenseFeatures\n",
    "\n",
    "from datetime import date, timedelta, datetime # Date Functions\n",
    "import time\n",
    "\n",
    "\n",
    "import os\n",
    "\n",
    "import google.cloud.aiplatform as aip\n",
    "\n",
    "\n",
    "from google.cloud import bigquery\n",
    "from google.oauth2 import service_account\n",
    "from sklearn.model_selection import train_test_split\n",
    "from tensorflow.keras import layers\n",
    "from tensorflow.keras.layers.experimental import preprocessing\n",
    "\n",
    "# from google.cloud import aiplatform as vertex_ai\n",
    "from tensorflow.python.keras.utils import data_utils\n",
    "\n",
    "print(tf.__version__)\n",
    "print(aip.__version__)"
   ]
  },
  {
   "cell_type": "code",
   "execution_count": 26,
   "id": "d9f37a96-65e0-44be-ac95-ecfdc58b6292",
   "metadata": {},
   "outputs": [],
   "source": [
    "cateCols=['sla','product_type','brand','service_type','incident_type']\n",
    "numbericCols=['open_to_close_hour','response_to_resolved_hour']\n",
    "unusedCols=['severity_id','severity_name','label_binary_severity']\n",
    "\n",
    "# cateCols=['sla','product_type','service_type','incident_type']\n",
    "# numbericCols=['open_to_close_hour']\n",
    "# unusedCols=['severity_id','severity_name','label_binary_severity','brand','response_to_resolved_hour']\n",
    "\n",
    "labelCol='label_multi_severity'\n",
    "\n",
    "#model_dir='model' # production\n",
    "model_dir='gs://demo2-tf-incident-pongthorn/demo_model_tf' # demo\n",
    "\n",
    "\n",
    "main_metric='accuracy'\n",
    "main_objective=f'val_{main_metric}'\n",
    "\n",
    "\n",
    "n_epochs=100\n",
    "n_batch_size=16\n",
    "nEarlyPatience=10\n",
    "\n",
    "\n",
    "# df['label_multi_severity'] =df['severity_name'].map({'Cosmatic':0,'Minor': 1, \"Major\": 2, \"Critical\": 3}) "
   ]
  },
  {
   "cell_type": "code",
   "execution_count": null,
   "id": "9f189c38-58e7-4a2d-bc8d-16829d06ad98",
   "metadata": {},
   "outputs": [],
   "source": []
  },
  {
   "cell_type": "code",
   "execution_count": 27,
   "id": "89051a07-8d7f-476c-ab6b-1d2216074122",
   "metadata": {},
   "outputs": [],
   "source": [
    "# Load data from BigQuery\n",
    "#projectId='smart-data-ml'\n",
    "# credentials = service_account.Credentials.from_service_account_file(r'C:\\Windows\\smart-data-ml-91b6f6204773.json')\n",
    "# client = bigquery.Client(credentials=credentials, project=projectId)\n",
    "\n",
    "projectId='pongthorn'\n",
    "client = bigquery.Client(project=projectId)\n",
    "dataset_id='SMartML'\n",
    "\n",
    "train_name='train_incident'\n",
    "validation_name='validation_incident'\n",
    "test_name='test_incident'"
   ]
  },
  {
   "cell_type": "markdown",
   "id": "3c0aa901-563f-4d2c-9203-67175431c32f",
   "metadata": {},
   "source": [
    "# Load Data"
   ]
  },
  {
   "cell_type": "code",
   "execution_count": null,
   "id": "515ac215-f4eb-4752-9990-6d50b4303014",
   "metadata": {},
   "outputs": [],
   "source": []
  },
  {
   "cell_type": "code",
   "execution_count": 28,
   "id": "c09b03b7-3e9d-4f25-b8c8-5d8cd615afce",
   "metadata": {},
   "outputs": [],
   "source": [
    "def load_ml_data(data_path):\n",
    " df=pd.read_csv(data_path)\n",
    " df =df.drop(columns=unusedCols)\n",
    " \n",
    " return df\n",
    "\n",
    "def load_data_bq(sql:str):\n",
    " \n",
    " query_result=client.query(sql)\n",
    " df=query_result.to_dataframe()\n",
    " df =df.drop(columns=unusedCols)\n",
    "  \n",
    " return df"
   ]
  },
  {
   "cell_type": "code",
   "execution_count": 29,
   "id": "5ddea3e1-b732-48c4-95fc-637108802a2c",
   "metadata": {},
   "outputs": [
    {
     "name": "stdout",
     "output_type": "stream",
     "text": [
      "(2731, 8)\n",
      "(341, 8)\n",
      "(342, 8)\n"
     ]
    }
   ],
   "source": [
    "train_table_id=f\"{projectId}.{dataset_id}.{train_name}\"\n",
    "val_tabel_id=f\"{projectId}.{dataset_id}.{validation_name}\"\n",
    "test_tabel_id=f\"{projectId}.{dataset_id}.{test_name}\"\n",
    "\n",
    "train=load_data_bq(f\"SELECT * FROM {train_table_id}\")\n",
    "val=load_data_bq(f\"SELECT * FROM {val_tabel_id}\")\n",
    "test=load_data_bq(f\"SELECT * FROM {test_tabel_id}\")\n",
    "\n",
    "# Load data from CSV File\n",
    "# root_path='../../data'    \n",
    "# train = load_ml_data(f\"{root_path}/{train_name}.csv\")\n",
    "# val=load_ml_data(f\"{root_path}/{validation_name}.csv\")\n",
    "# test =load_ml_data(f\"{root_path}/{test_name}.csv\")\n",
    "\n",
    "print(train.shape)\n",
    "print(val.shape)\n",
    "print(test.shape)\n"
   ]
  },
  {
   "cell_type": "code",
   "execution_count": 30,
   "id": "1bcdca62-5198-4d5d-8704-b42fa468a47b",
   "metadata": {},
   "outputs": [
    {
     "name": "stdout",
     "output_type": "stream",
     "text": [
      "List All Label: [0, 1, 2, 3]\n",
      "No target label : 4\n",
      "<class 'pandas.core.frame.DataFrame'>\n",
      "RangeIndex: 2731 entries, 0 to 2730\n",
      "Data columns (total 8 columns):\n",
      " #   Column                     Non-Null Count  Dtype  \n",
      "---  ------                     --------------  -----  \n",
      " 0   sla                        2731 non-null   object \n",
      " 1   product_type               2731 non-null   object \n",
      " 2   brand                      2731 non-null   object \n",
      " 3   service_type               2731 non-null   object \n",
      " 4   incident_type              2731 non-null   object \n",
      " 5   open_to_close_hour         2731 non-null   float64\n",
      " 6   response_to_resolved_hour  2731 non-null   float64\n",
      " 7   label_multi_severity       2731 non-null   Int64  \n",
      "dtypes: Int64(1), float64(2), object(5)\n",
      "memory usage: 173.5+ KB\n",
      "None\n"
     ]
    },
    {
     "data": {
      "text/html": [
       "<div>\n",
       "<style scoped>\n",
       "    .dataframe tbody tr th:only-of-type {\n",
       "        vertical-align: middle;\n",
       "    }\n",
       "\n",
       "    .dataframe tbody tr th {\n",
       "        vertical-align: top;\n",
       "    }\n",
       "\n",
       "    .dataframe thead th {\n",
       "        text-align: right;\n",
       "    }\n",
       "</style>\n",
       "<table border=\"1\" class=\"dataframe\">\n",
       "  <thead>\n",
       "    <tr style=\"text-align: right;\">\n",
       "      <th></th>\n",
       "      <th>sla</th>\n",
       "      <th>product_type</th>\n",
       "      <th>brand</th>\n",
       "      <th>service_type</th>\n",
       "      <th>incident_type</th>\n",
       "      <th>open_to_close_hour</th>\n",
       "      <th>response_to_resolved_hour</th>\n",
       "      <th>label_multi_severity</th>\n",
       "    </tr>\n",
       "  </thead>\n",
       "  <tbody>\n",
       "    <tr>\n",
       "      <th>2726</th>\n",
       "      <td>24x7 4Hrs Response Time</td>\n",
       "      <td>Security</td>\n",
       "      <td>Trend Micro</td>\n",
       "      <td>Request</td>\n",
       "      <td>General Incident</td>\n",
       "      <td>0.333333</td>\n",
       "      <td>0.333333</td>\n",
       "      <td>0</td>\n",
       "    </tr>\n",
       "    <tr>\n",
       "      <th>2727</th>\n",
       "      <td>24x7 6Hrs Resolution Time</td>\n",
       "      <td>Software</td>\n",
       "      <td>Trend Micro</td>\n",
       "      <td>Request</td>\n",
       "      <td>General Incident</td>\n",
       "      <td>0.883333</td>\n",
       "      <td>0.716667</td>\n",
       "      <td>0</td>\n",
       "    </tr>\n",
       "    <tr>\n",
       "      <th>2728</th>\n",
       "      <td>24x7 4Hrs Response Time</td>\n",
       "      <td>Security</td>\n",
       "      <td>Trend Micro</td>\n",
       "      <td>Request</td>\n",
       "      <td>OS / Firmware</td>\n",
       "      <td>16.666667</td>\n",
       "      <td>16.666667</td>\n",
       "      <td>0</td>\n",
       "    </tr>\n",
       "    <tr>\n",
       "      <th>2729</th>\n",
       "      <td>24x7 4Hrs Response Time</td>\n",
       "      <td>Software</td>\n",
       "      <td>Trend Micro</td>\n",
       "      <td>Request</td>\n",
       "      <td>General Incident</td>\n",
       "      <td>7.400000</td>\n",
       "      <td>7.283333</td>\n",
       "      <td>0</td>\n",
       "    </tr>\n",
       "    <tr>\n",
       "      <th>2730</th>\n",
       "      <td>24x7 6Hrs Resolution Time</td>\n",
       "      <td>Software</td>\n",
       "      <td>Trend Micro</td>\n",
       "      <td>Request</td>\n",
       "      <td>General Incident</td>\n",
       "      <td>5.483333</td>\n",
       "      <td>5.483333</td>\n",
       "      <td>0</td>\n",
       "    </tr>\n",
       "  </tbody>\n",
       "</table>\n",
       "</div>"
      ],
      "text/plain": [
       "                            sla product_type        brand service_type  \\\n",
       "2726    24x7 4Hrs Response Time     Security  Trend Micro      Request   \n",
       "2727  24x7 6Hrs Resolution Time     Software  Trend Micro      Request   \n",
       "2728    24x7 4Hrs Response Time     Security  Trend Micro      Request   \n",
       "2729    24x7 4Hrs Response Time     Software  Trend Micro      Request   \n",
       "2730  24x7 6Hrs Resolution Time     Software  Trend Micro      Request   \n",
       "\n",
       "         incident_type  open_to_close_hour  response_to_resolved_hour  \\\n",
       "2726  General Incident            0.333333                   0.333333   \n",
       "2727  General Incident            0.883333                   0.716667   \n",
       "2728     OS / Firmware           16.666667                  16.666667   \n",
       "2729  General Incident            7.400000                   7.283333   \n",
       "2730  General Incident            5.483333                   5.483333   \n",
       "\n",
       "      label_multi_severity  \n",
       "2726                     0  \n",
       "2727                     0  \n",
       "2728                     0  \n",
       "2729                     0  \n",
       "2730                     0  "
      ]
     },
     "execution_count": 30,
     "metadata": {},
     "output_type": "execute_result"
    }
   ],
   "source": [
    "labelList=list(train[labelCol].unique())\n",
    "print(\"List All Label:\" ,sorted(labelList))\n",
    "nLabel=len(labelList)\n",
    "print(f\"No target label : {nLabel}\")\n",
    "\n",
    "print(train.info())\n",
    "train.tail()"
   ]
  },
  {
   "cell_type": "code",
   "execution_count": 31,
   "id": "64adbe5e-d737-45a4-a04e-340a2926ad2d",
   "metadata": {},
   "outputs": [
    {
     "data": {
      "text/html": [
       "<div>\n",
       "<style scoped>\n",
       "    .dataframe tbody tr th:only-of-type {\n",
       "        vertical-align: middle;\n",
       "    }\n",
       "\n",
       "    .dataframe tbody tr th {\n",
       "        vertical-align: top;\n",
       "    }\n",
       "\n",
       "    .dataframe thead th {\n",
       "        text-align: right;\n",
       "    }\n",
       "</style>\n",
       "<table border=\"1\" class=\"dataframe\">\n",
       "  <thead>\n",
       "    <tr style=\"text-align: right;\">\n",
       "      <th></th>\n",
       "      <th>Train-No-Severity</th>\n",
       "      <th>Train-%-Severity</th>\n",
       "      <th>Val-No-Severity</th>\n",
       "      <th>Val-%-Severity</th>\n",
       "      <th>Test-No-Severity</th>\n",
       "      <th>Test-%-Severity</th>\n",
       "    </tr>\n",
       "    <tr>\n",
       "      <th>label_multi_severity</th>\n",
       "      <th></th>\n",
       "      <th></th>\n",
       "      <th></th>\n",
       "      <th></th>\n",
       "      <th></th>\n",
       "      <th></th>\n",
       "    </tr>\n",
       "  </thead>\n",
       "  <tbody>\n",
       "    <tr>\n",
       "      <th>0</th>\n",
       "      <td>511</td>\n",
       "      <td>19.0</td>\n",
       "      <td>53</td>\n",
       "      <td>16.0</td>\n",
       "      <td>55</td>\n",
       "      <td>16.0</td>\n",
       "    </tr>\n",
       "    <tr>\n",
       "      <th>1</th>\n",
       "      <td>778</td>\n",
       "      <td>28.0</td>\n",
       "      <td>97</td>\n",
       "      <td>28.0</td>\n",
       "      <td>92</td>\n",
       "      <td>27.0</td>\n",
       "    </tr>\n",
       "    <tr>\n",
       "      <th>2</th>\n",
       "      <td>1341</td>\n",
       "      <td>49.0</td>\n",
       "      <td>180</td>\n",
       "      <td>53.0</td>\n",
       "      <td>181</td>\n",
       "      <td>53.0</td>\n",
       "    </tr>\n",
       "    <tr>\n",
       "      <th>3</th>\n",
       "      <td>101</td>\n",
       "      <td>4.0</td>\n",
       "      <td>11</td>\n",
       "      <td>3.0</td>\n",
       "      <td>14</td>\n",
       "      <td>4.0</td>\n",
       "    </tr>\n",
       "  </tbody>\n",
       "</table>\n",
       "</div>"
      ],
      "text/plain": [
       "                      Train-No-Severity  Train-%-Severity  Val-No-Severity  \\\n",
       "label_multi_severity                                                         \n",
       "0                                   511              19.0               53   \n",
       "1                                   778              28.0               97   \n",
       "2                                  1341              49.0              180   \n",
       "3                                   101               4.0               11   \n",
       "\n",
       "                      Val-%-Severity  Test-No-Severity  Test-%-Severity  \n",
       "label_multi_severity                                                     \n",
       "0                               16.0                55             16.0  \n",
       "1                               28.0                92             27.0  \n",
       "2                               53.0               181             53.0  \n",
       "3                                3.0                14              4.0  "
      ]
     },
     "execution_count": 31,
     "metadata": {},
     "output_type": "execute_result"
    }
   ],
   "source": [
    "def CalPctEachTargetClass(dfx,colSev,colPctSev):\n",
    "    dfClassSummary=dfx.groupby([labelCol]).size().to_frame(colSev)\n",
    "    dfClassSummary[colPctSev]= dfClassSummary[colSev]/dfClassSummary[colSev].sum() *100\n",
    "    dfClassSummary=dfClassSummary.round(0)\n",
    "    return dfClassSummary\n",
    "\n",
    "pctDF1=CalPctEachTargetClass(train,'Train-No-Severity','Train-%-Severity')\n",
    "pctDF2=CalPctEachTargetClass(val,'Val-No-Severity','Val-%-Severity')\n",
    "pdcDF3=CalPctEachTargetClass(test,'Test-No-Severity','Test-%-Severity')\n",
    "pctDF=pd.concat([pctDF1,pctDF2,pdcDF3],axis=1)\n",
    "\n",
    "pctDF"
   ]
  },
  {
   "cell_type": "code",
   "execution_count": 32,
   "id": "c59e9916-6668-4c4e-8974-af63c3f840b0",
   "metadata": {},
   "outputs": [
    {
     "data": {
      "image/png": "[encoded data removed]",
      "text/plain": [
       "<Figure size 800x500 with 1 Axes>"
      ]
     },
     "metadata": {},
     "output_type": "display_data"
    },
    {
     "data": {
      "image/png": "[encoded data removed]",
      "text/plain": [
       "<Figure size 800x500 with 1 Axes>"
      ]
     },
     "metadata": {},
     "output_type": "display_data"
    },
    {
     "data": {
      "image/png": "[encoded data removed]",
      "text/plain": [
       "<Figure size 800x500 with 1 Axes>"
      ]
     },
     "metadata": {},
     "output_type": "display_data"
    }
   ],
   "source": [
    "def plot_class(df):\n",
    "    fig , ax = plt.subplots(figsize=(8,5))\n",
    "    ax =sns.countplot(x=labelCol, data=df,)\n",
    "    for p in ax.patches:\n",
    "       ax.annotate('{:.1f}'.format(p.get_height()), (p.get_x()+0.25, p.get_height()+0.01))\n",
    "    plt.title(labelCol.title())\n",
    "    plt.show()\n",
    "    \n",
    "plot_class(train)\n",
    "plot_class(val)\n",
    "plot_class(test)"
   ]
  },
  {
   "cell_type": "markdown",
   "id": "fa30d3fd-14e9-4c3d-a6aa-45d8114f5362",
   "metadata": {},
   "source": [
    "# Process Data  Layer"
   ]
  },
  {
   "cell_type": "code",
   "execution_count": 33,
   "id": "d9d3a943-09d5-4a43-b8d8-633bc4a90353",
   "metadata": {},
   "outputs": [],
   "source": [
    "def multiple_label_df_to_dataset(dataframe, shuffle=True, batch_size=32):\n",
    "  features = dataframe.copy()\n",
    "  labels = features.pop(labelCol)\n",
    "  labels  = tf.keras.utils.to_categorical(labels, num_classes=nLabel)\n",
    "    \n",
    "  ds = tf.data.Dataset.from_tensor_slices(( dict(features), labels ))\n",
    "  if shuffle:\n",
    "    ds = ds.shuffle(buffer_size=len(features))\n",
    "  ds = ds.batch(batch_size)\n",
    "  ds = ds.prefetch(batch_size)\n",
    "  return ds\n",
    "     \n",
    "     "
   ]
  },
  {
   "cell_type": "code",
   "execution_count": 34,
   "id": "274122c2-9481-438b-b637-6e6ad393d809",
   "metadata": {},
   "outputs": [
    {
     "name": "stdout",
     "output_type": "stream",
     "text": [
      "Explore Data from Tensor before keras data processing\n",
      "========Features==========\n",
      "Every feature: ['sla', 'product_type', 'brand', 'service_type', 'incident_type', 'open_to_close_hour', 'response_to_resolved_hour']\n",
      "product_type: tf.Tensor([b'Server'], shape=(1,), dtype=string)\n",
      "open_to_close_hour: tf.Tensor([100.35], shape=(1,), dtype=float64)\n"
     ]
    },
    {
     "name": "stderr",
     "output_type": "stream",
     "text": [
      "2023-11-10 05:10:08.709684: I tensorflow/core/common_runtime/executor.cc:1197] [/device:CPU:0] (DEBUG INFO) Executor start aborting (this does not indicate an error and you can ignore this message): INVALID_ARGUMENT: You must feed a value for placeholder tensor 'Placeholder/_1' with dtype string and shape [2731]\n",
      "\t [[{{node Placeholder/_1}}]]\n",
      "2023-11-10 05:10:08.711282: I tensorflow/core/common_runtime/executor.cc:1197] [/device:CPU:0] (DEBUG INFO) Executor start aborting (this does not indicate an error and you can ignore this message): INVALID_ARGUMENT: You must feed a value for placeholder tensor 'Placeholder/_4' with dtype double and shape [2731]\n",
      "\t [[{{node Placeholder/_4}}]]\n"
     ]
    }
   ],
   "source": [
    "print(\"Explore Data from Tensor before keras data processing\")\n",
    "batch_size = 1\n",
    "train_ds =multiple_label_df_to_dataset(train, batch_size=batch_size)\n",
    "\n",
    "[(train_features, label_batch)] = train_ds.take(1)\n",
    "print(\"========Features==========\")\n",
    "print('Every feature:', list(train_features.keys()))\n",
    "print('product_type:', train_features['product_type'])  # sample cate feature\n",
    "print('open_to_close_hour:', train_features['open_to_close_hour'])  # sample numberic feature\n"
   ]
  },
  {
   "cell_type": "code",
   "execution_count": 35,
   "id": "ca7d4e1c-dbd6-42b4-8958-6aad45777bc5",
   "metadata": {},
   "outputs": [
    {
     "name": "stdout",
     "output_type": "stream",
     "text": [
      "========Labels==========\n",
      "[[0. 0. 1. 0.]]\n"
     ]
    }
   ],
   "source": [
    "print(\"========Labels==========\")\n",
    "print(f'{label_batch }')"
   ]
  },
  {
   "cell_type": "code",
   "execution_count": null,
   "id": "dd22984c-e079-4b61-b94b-57acc540a487",
   "metadata": {},
   "outputs": [],
   "source": []
  },
  {
   "cell_type": "code",
   "execution_count": 36,
   "id": "02ad8837-968e-4d68-bdb6-1c7eba97e69c",
   "metadata": {},
   "outputs": [],
   "source": [
    "def get_normalization_layer(name, dataset):\n",
    "  # Create a Normalization layer for our feature.\n",
    "  normalizer = preprocessing.Normalization(axis=None)\n",
    "\n",
    "  # Prepare a Dataset that only yields our feature.\n",
    "  feature_ds = dataset.map(lambda x, y: x[name])\n",
    "\n",
    "  # Learn the statistics of the data.\n",
    "  normalizer.adapt(feature_ds)\n",
    "\n",
    "  return normalizer"
   ]
  },
  {
   "cell_type": "code",
   "execution_count": 37,
   "id": "237bce3c-9c77-4318-8682-fc36af0a6804",
   "metadata": {},
   "outputs": [],
   "source": [
    "def get_category_encoding_layer(name, dataset, dtype, max_tokens=None):\n",
    "  # Create a StringLookup layer which will turn strings into integer indices\n",
    "  if dtype == 'string':\n",
    "    index = preprocessing.StringLookup(max_tokens=max_tokens)\n",
    "  else:\n",
    "    index = preprocessing.IntegerLookup(max_tokens=max_tokens)\n",
    "\n",
    "  # Prepare a Dataset that only yields our feature\n",
    "  feature_ds = dataset.map(lambda x, y: x[name])\n",
    "\n",
    "  # Learn the set of possible values and assign them a fixed integer index.\n",
    "  index.adapt(feature_ds)\n",
    "\n",
    "  # Create a Discretization for our integer indices.\n",
    "  encoder = preprocessing.CategoryEncoding(num_tokens=index.vocabulary_size())\n",
    "\n",
    "  # Apply one-hot encoding to our indices. The lambda function captures the\n",
    "  # layer so we can use them, or include them in the functional model later.\n",
    "  return lambda feature: encoder(index(feature))\n",
    "     "
   ]
  },
  {
   "cell_type": "code",
   "execution_count": 38,
   "id": "4ab6c0ac-ee9b-42f3-b140-a102e8f2f121",
   "metadata": {},
   "outputs": [
    {
     "name": "stderr",
     "output_type": "stream",
     "text": [
      "2023-11-10 05:10:08.805767: I tensorflow/core/common_runtime/executor.cc:1197] [/device:CPU:0] (DEBUG INFO) Executor start aborting (this does not indicate an error and you can ignore this message): INVALID_ARGUMENT: You must feed a value for placeholder tensor 'Placeholder/_1' with dtype string and shape [2731]\n",
      "\t [[{{node Placeholder/_1}}]]\n",
      "2023-11-10 05:10:08.807104: I tensorflow/core/common_runtime/executor.cc:1197] [/device:CPU:0] (DEBUG INFO) Executor start aborting (this does not indicate an error and you can ignore this message): INVALID_ARGUMENT: You must feed a value for placeholder tensor 'Placeholder/_5' with dtype string and shape [2731]\n",
      "\t [[{{node Placeholder/_5}}]]\n"
     ]
    },
    {
     "data": {
      "text/plain": [
       "<tf.Tensor: shape=(1,), dtype=float32, numpy=array([-0.05999922], dtype=float32)>"
      ]
     },
     "execution_count": 38,
     "metadata": {},
     "output_type": "execute_result"
    }
   ],
   "source": [
    "hour_col = train_features['open_to_close_hour']\n",
    "layer = get_normalization_layer('open_to_close_hour', train_ds)\n",
    "layer(hour_col)"
   ]
  },
  {
   "cell_type": "code",
   "execution_count": 39,
   "id": "19c0de50-a1fb-44b9-b91f-555ac779ec40",
   "metadata": {},
   "outputs": [
    {
     "name": "stdout",
     "output_type": "stream",
     "text": [
      "['Other' 'Printer' 'Storage' 'Software' 'Server' 'Access Point' 'Switch'\n",
      " 'Hardware' 'Tape Library' 'Security' 'Service' 'Notebook' 'Firewall']\n"
     ]
    },
    {
     "name": "stderr",
     "output_type": "stream",
     "text": [
      "2023-11-10 05:10:14.102230: I tensorflow/core/common_runtime/executor.cc:1197] [/device:CPU:0] (DEBUG INFO) Executor start aborting (this does not indicate an error and you can ignore this message): INVALID_ARGUMENT: You must feed a value for placeholder tensor 'Placeholder/_3' with dtype string and shape [2731]\n",
      "\t [[{{node Placeholder/_3}}]]\n",
      "2023-11-10 05:10:14.103983: I tensorflow/core/common_runtime/executor.cc:1197] [/device:CPU:0] (DEBUG INFO) Executor start aborting (this does not indicate an error and you can ignore this message): INVALID_ARGUMENT: You must feed a value for placeholder tensor 'Placeholder/_5' with dtype string and shape [2731]\n",
      "\t [[{{node Placeholder/_5}}]]\n"
     ]
    },
    {
     "data": {
      "text/plain": [
       "<tf.Tensor: shape=(14,), dtype=float32, numpy=\n",
       "array([0., 0., 0., 1., 0., 0., 0., 0., 0., 0., 0., 0., 0., 0.],\n",
       "      dtype=float32)>"
      ]
     },
     "execution_count": 39,
     "metadata": {},
     "output_type": "execute_result"
    }
   ],
   "source": [
    "# total no type+unkonw\n",
    "print(train['product_type'].unique())\n",
    "type_col = train_features['product_type']\n",
    "layer = get_category_encoding_layer('product_type', train_ds, 'string')\n",
    "layer(type_col)\n",
    "\n",
    "# onehot-encoding = 10 category+unknown=11 columnn"
   ]
  },
  {
   "cell_type": "code",
   "execution_count": 40,
   "id": "a5c78f01-000a-4d3e-9fbf-6f4660cfb75b",
   "metadata": {},
   "outputs": [],
   "source": [
    "batch_size =32\n",
    "train_ds = multiple_label_df_to_dataset (train, batch_size=batch_size)\n",
    "val_ds = multiple_label_df_to_dataset(val, batch_size=batch_size)\n",
    "test_ds = multiple_label_df_to_dataset(test, batch_size=batch_size)\n",
    "# for element in train_ds.as_numpy_iterator():\n",
    "#     print(element)"
   ]
  },
  {
   "cell_type": "markdown",
   "id": "a5430f2c-4130-4b3a-b0dd-095ec81926ba",
   "metadata": {},
   "source": [
    "# Data Transformation by Keras PreProcessing Layer "
   ]
  },
  {
   "cell_type": "code",
   "execution_count": 41,
   "id": "723a69b6-d9c1-49d9-bc81-ed421d8700cb",
   "metadata": {},
   "outputs": [
    {
     "name": "stdout",
     "output_type": "stream",
     "text": [
      "header: Mean=120.7417429512999 and Std=339.9325107996055\n"
     ]
    },
    {
     "name": "stderr",
     "output_type": "stream",
     "text": [
      "2023-11-10 05:10:16.760242: I tensorflow/core/common_runtime/executor.cc:1197] [/device:CPU:0] (DEBUG INFO) Executor start aborting (this does not indicate an error and you can ignore this message): INVALID_ARGUMENT: You must feed a value for placeholder tensor 'Placeholder/_3' with dtype string and shape [2731]\n",
      "\t [[{{node Placeholder/_3}}]]\n",
      "2023-11-10 05:10:16.761700: I tensorflow/core/common_runtime/executor.cc:1197] [/device:CPU:0] (DEBUG INFO) Executor start aborting (this does not indicate an error and you can ignore this message): INVALID_ARGUMENT: You must feed a value for placeholder tensor 'Placeholder/_2' with dtype double and shape [2731]\n",
      "\t [[{{node Placeholder/_2}}]]\n"
     ]
    },
    {
     "name": "stdout",
     "output_type": "stream",
     "text": [
      "header: Mean=92.4087208592701 and Std=292.40800375934094\n"
     ]
    },
    {
     "name": "stderr",
     "output_type": "stream",
     "text": [
      "2023-11-10 05:10:17.081614: I tensorflow/core/common_runtime/executor.cc:1197] [/device:CPU:0] (DEBUG INFO) Executor start aborting (this does not indicate an error and you can ignore this message): INVALID_ARGUMENT: You must feed a value for placeholder tensor 'Placeholder/_4' with dtype double and shape [2731]\n",
      "\t [[{{node Placeholder/_4}}]]\n",
      "2023-11-10 05:10:17.082966: I tensorflow/core/common_runtime/executor.cc:1197] [/device:CPU:0] (DEBUG INFO) Executor start aborting (this does not indicate an error and you can ignore this message): INVALID_ARGUMENT: You must feed a value for placeholder tensor 'Placeholder/_6' with dtype string and shape [2731]\n",
      "\t [[{{node Placeholder/_6}}]]\n"
     ]
    },
    {
     "name": "stdout",
     "output_type": "stream",
     "text": [
      "sla = 7 : ['24x7 4Hrs Resolution Time' '24x7 4Hrs Response Time'\n",
      " '24x7 6Hrs Resolution Time' '8x5 4Hrs Response Time'\n",
      " '9x5 NBD 4Hrs Response Time' '24x7 6Hrs Response Time' 'Non MA']\n",
      "sla\n"
     ]
    },
    {
     "name": "stderr",
     "output_type": "stream",
     "text": [
      "2023-11-10 05:10:17.393288: I tensorflow/core/common_runtime/executor.cc:1197] [/device:CPU:0] (DEBUG INFO) Executor start aborting (this does not indicate an error and you can ignore this message): INVALID_ARGUMENT: You must feed a value for placeholder tensor 'Placeholder/_1' with dtype string and shape [2731]\n",
      "\t [[{{node Placeholder/_1}}]]\n",
      "2023-11-10 05:10:17.394559: I tensorflow/core/common_runtime/executor.cc:1197] [/device:CPU:0] (DEBUG INFO) Executor start aborting (this does not indicate an error and you can ignore this message): INVALID_ARGUMENT: You must feed a value for placeholder tensor 'Placeholder/_1' with dtype string and shape [2731]\n",
      "\t [[{{node Placeholder/_1}}]]\n"
     ]
    },
    {
     "name": "stdout",
     "output_type": "stream",
     "text": [
      "product_type = 13 : ['Other' 'Printer' 'Storage' 'Software' 'Server' 'Access Point' 'Switch'\n",
      " 'Hardware' 'Tape Library' 'Security' 'Service' 'Notebook' 'Firewall']\n",
      "product_type\n"
     ]
    },
    {
     "name": "stderr",
     "output_type": "stream",
     "text": [
      "2023-11-10 05:10:17.617896: I tensorflow/core/common_runtime/executor.cc:1197] [/device:CPU:0] (DEBUG INFO) Executor start aborting (this does not indicate an error and you can ignore this message): INVALID_ARGUMENT: You must feed a value for placeholder tensor 'Placeholder/_7' with dtype float and shape [2731,4]\n",
      "\t [[{{node Placeholder/_7}}]]\n",
      "2023-11-10 05:10:17.619168: I tensorflow/core/common_runtime/executor.cc:1197] [/device:CPU:0] (DEBUG INFO) Executor start aborting (this does not indicate an error and you can ignore this message): INVALID_ARGUMENT: You must feed a value for placeholder tensor 'Placeholder/_4' with dtype double and shape [2731]\n",
      "\t [[{{node Placeholder/_4}}]]\n"
     ]
    },
    {
     "name": "stdout",
     "output_type": "stream",
     "text": [
      "brand = 28 : ['F5' 'HP' 'EMC' 'HPE' 'IBM' 'YIP' 'DELL' 'QNAP' 'Cisco' 'SAPB1' 'Veeam'\n",
      " 'NetApp' 'Oracle' 'VMWare' 'Zabbix' 'eUnite' 'Nutanix' 'Red Hat'\n",
      " 'Veritas' 'Alfresco' 'Broadcom' 'Fortinet' 'Commvault' 'Microsoft'\n",
      " 'Palo Alto' 'CIMCO-CMMS' 'CheckPoint' 'Trend Micro']\n",
      "brand\n"
     ]
    },
    {
     "name": "stderr",
     "output_type": "stream",
     "text": [
      "2023-11-10 05:10:17.839206: I tensorflow/core/common_runtime/executor.cc:1197] [/device:CPU:0] (DEBUG INFO) Executor start aborting (this does not indicate an error and you can ignore this message): INVALID_ARGUMENT: You must feed a value for placeholder tensor 'Placeholder/_1' with dtype string and shape [2731]\n",
      "\t [[{{node Placeholder/_1}}]]\n",
      "2023-11-10 05:10:17.841137: I tensorflow/core/common_runtime/executor.cc:1197] [/device:CPU:0] (DEBUG INFO) Executor start aborting (this does not indicate an error and you can ignore this message): INVALID_ARGUMENT: You must feed a value for placeholder tensor 'Placeholder/_7' with dtype float and shape [2731,4]\n",
      "\t [[{{node Placeholder/_7}}]]\n"
     ]
    },
    {
     "name": "stdout",
     "output_type": "stream",
     "text": [
      "service_type = 2 : ['Incident' 'Request']\n",
      "service_type\n"
     ]
    },
    {
     "name": "stderr",
     "output_type": "stream",
     "text": [
      "2023-11-10 05:10:18.062230: I tensorflow/core/common_runtime/executor.cc:1197] [/device:CPU:0] (DEBUG INFO) Executor start aborting (this does not indicate an error and you can ignore this message): INVALID_ARGUMENT: You must feed a value for placeholder tensor 'Placeholder/_0' with dtype string and shape [2731]\n",
      "\t [[{{node Placeholder/_0}}]]\n",
      "2023-11-10 05:10:18.064494: I tensorflow/core/common_runtime/executor.cc:1197] [/device:CPU:0] (DEBUG INFO) Executor start aborting (this does not indicate an error and you can ignore this message): INVALID_ARGUMENT: You must feed a value for placeholder tensor 'Placeholder/_2' with dtype double and shape [2731]\n",
      "\t [[{{node Placeholder/_2}}]]\n"
     ]
    },
    {
     "name": "stdout",
     "output_type": "stream",
     "text": [
      "incident_type = 21 : ['General Incident' 'Network Adapter Failure' 'Software'\n",
      " 'Maintenance System' 'Hard Disk Drive Failure' 'Power Supply Failure'\n",
      " 'Report' 'System Board Failure' 'Memory Failure' 'Network Card Failure'\n",
      " 'Controller/Node Failure' 'Backup Failure' 'Upgrade Software'\n",
      " 'CPU Failure' 'OS / Firmware' 'Configuration Change'\n",
      " 'Cache Battery Failure' 'Other Failure' 'Network Cable Failure'\n",
      " 'Battery Failure' 'Fan Failure']\n",
      "incident_type\n"
     ]
    },
    {
     "name": "stderr",
     "output_type": "stream",
     "text": [
      "2023-11-10 05:10:18.291799: I tensorflow/core/common_runtime/executor.cc:1197] [/device:CPU:0] (DEBUG INFO) Executor start aborting (this does not indicate an error and you can ignore this message): INVALID_ARGUMENT: You must feed a value for placeholder tensor 'Placeholder/_3' with dtype string and shape [2731]\n",
      "\t [[{{node Placeholder/_3}}]]\n",
      "2023-11-10 05:10:18.293213: I tensorflow/core/common_runtime/executor.cc:1197] [/device:CPU:0] (DEBUG INFO) Executor start aborting (this does not indicate an error and you can ignore this message): INVALID_ARGUMENT: You must feed a value for placeholder tensor 'Placeholder/_1' with dtype string and shape [2731]\n",
      "\t [[{{node Placeholder/_1}}]]\n"
     ]
    }
   ],
   "source": [
    "all_inputs = []\n",
    "encoded_features = []\n",
    "numInputFeatToInitNodeUnit=0\n",
    "\n",
    "# Numeric features.\n",
    "for header in numbericCols:\n",
    "  stat_data=train[header].describe()\n",
    "  print(f\"header: Mean={stat_data['mean']} and Std={stat_data['std']}\")  \n",
    "  numeric_col = tf.keras.Input(shape=(1,), name=header)\n",
    "  normalization_layer = get_normalization_layer(header, train_ds)\n",
    "  encoded_numeric_col = normalization_layer(numeric_col)\n",
    "  all_inputs.append(numeric_col)\n",
    "  encoded_features.append(encoded_numeric_col)\n",
    "    \n",
    "numInputFeatToInitNodeUnit=numInputFeatToInitNodeUnit+len(numbericCols)\n",
    "    \n",
    "    # Categorical features encoded as string.\n",
    "categorical_cols = cateCols\n",
    "for header in categorical_cols:\n",
    "  listCateItem=train[header].unique()\n",
    "  noCateItem=len(listCateItem)\n",
    "  numInputFeatToInitNodeUnit=numInputFeatToInitNodeUnit+noCateItem +1  # last 1 is unknow  \n",
    "  print(f\"{header} = {noCateItem} : {listCateItem}\")\n",
    "\n",
    "  print(header)  \n",
    "  categorical_col = tf.keras.Input(shape=(1,), name=header, dtype='string')\n",
    "  encoding_layer = get_category_encoding_layer(header, train_ds, dtype='string')\n",
    "                                        \n",
    "  encoded_categorical_col = encoding_layer(categorical_col)\n",
    "  all_inputs.append(categorical_col)\n",
    "  encoded_features.append(encoded_categorical_col)\n"
   ]
  },
  {
   "cell_type": "code",
   "execution_count": 42,
   "id": "48f85f8a-4471-44e1-a389-102232c296e7",
   "metadata": {},
   "outputs": [
    {
     "name": "stdout",
     "output_type": "stream",
     "text": [
      "Total column to initialize first node input: 78\n"
     ]
    }
   ],
   "source": [
    "print(f\"Total column to initialize first node input: {numInputFeatToInitNodeUnit}\")"
   ]
  },
  {
   "cell_type": "markdown",
   "id": "aa733595-628e-4a07-a6b8-719995fa535b",
   "metadata": {},
   "source": [
    "# Build and Train and Eveluate and Plot Result"
   ]
  },
  {
   "cell_type": "code",
   "execution_count": 43,
   "id": "ee6ca53e-78d8-400e-a48e-cdcb93d2030f",
   "metadata": {},
   "outputs": [],
   "source": [
    "def plot_metrics(history,metric):\n",
    "    plt.figure(figsize=(15,8))\n",
    "    plt.title(metric)\n",
    "    plt.plot(history.history[metric], label='train')\n",
    "    plt.plot(history.history[f'val_{metric}'], label='validation')\n",
    "    plt.legend()\n",
    "    plt.show() \n"
   ]
  },
  {
   "cell_type": "code",
   "execution_count": 44,
   "id": "e4e27d3b-9b17-4311-a7a2-d4c4007430b2",
   "metadata": {},
   "outputs": [],
   "source": [
    "# def build_model(num_units_1,num_units_layer2, dropout_rate):\n",
    "def build_model(num_units_layer1, dropout_rate,learningRate,no_addtional_hidden_layer=1):\n",
    "    \n",
    "    all_features = tf.keras.layers.concatenate(encoded_features)\n",
    "   \n",
    "    x = tf.keras.layers.Dense(num_units_layer1, activation=\"relu\")(all_features)# layer1\n",
    "    \n",
    "    if dropout_rate>0:\n",
    "     print(f\"Dropout: { dropout_rate}\")\n",
    "     x = tf.keras.layers.Dropout(dropout_rate)(x)\n",
    "    \n",
    "    # if no_addtional_hidden_layer>1:\n",
    "    # for x  in range(0,1):  \n",
    "    # x = tf.keras.layers.Dense(num_units_layer1, activation=\"relu\")(x)  # layer2\n",
    "\n",
    "\n",
    "    output = tf.keras.layers.Dense(nLabel,activation=tf.nn.softmax)(x)\n",
    "\n",
    "    model = tf.keras.Model(all_inputs, output)\n",
    "    \n",
    "    if  learningRate==0:\n",
    "        model.compile(optimizer='adam',\n",
    "                      loss=tf.keras.losses.CategoricalCrossentropy(),metrics=[main_metric])\n",
    "    else:\n",
    "        print(f\"LR: {learningRate}\")\n",
    "        model.compile(optimizer=tf.keras.optimizers.Adam(learning_rate=learningRate),\n",
    "                      loss=tf.keras.losses.CategoricalCrossentropy(),metrics=[main_metric])\n",
    "    return model\n",
    "\n",
    "# def build_wide_deep_model()\n",
    "# METRICS = [\n",
    "#       keras.metrics.BinaryAccuracy(name='accuracy'),\n",
    "#       keras.metrics.Precision(name='precision'),\n",
    "#       keras.metrics.Recall(name='recall'),\n",
    "#       keras.metrics.AUC(name='auc'),\n",
    "# ]\n",
    "\n",
    "def train_model(model,x_epochs,x_batch_size):  \n",
    "    # model.summary()\n",
    "    early_stopping = tf.keras.callbacks.EarlyStopping(monitor='val_loss', patience=nEarlyPatience, verbose=1)  \n",
    "    history =model.fit(train_ds, validation_data=val_ds,epochs=x_epochs,batch_size=x_batch_size,callbacks=[early_stopping])\n",
    "    return history\n",
    "  "
   ]
  },
  {
   "cell_type": "code",
   "execution_count": null,
   "id": "0f6af5c9-fc24-486a-bdd7-f6c4730dd236",
   "metadata": {},
   "outputs": [],
   "source": []
  },
  {
   "cell_type": "markdown",
   "id": "c3816a15-6688-4c87-9d20-e5fc45d48d11",
   "metadata": {},
   "source": [
    "# Test Run Model"
   ]
  },
  {
   "cell_type": "code",
   "execution_count": 46,
   "id": "25688a22-05f5-4cac-b662-d261b5dcfb78",
   "metadata": {},
   "outputs": [
    {
     "name": "stdout",
     "output_type": "stream",
     "text": [
      "1#Build model\n",
      "Dropout: 0.1\n",
      "LR: 0.0001\n",
      "Model: \"model\"\n",
      "__________________________________________________________________________________________________\n",
      " Layer (type)                   Output Shape         Param #     Connected to                     \n",
      "==================================================================================================\n",
      " sla (InputLayer)               [(None, 1)]          0           []                               \n",
      "                                                                                                  \n",
      " product_type (InputLayer)      [(None, 1)]          0           []                               \n",
      "                                                                                                  \n",
      " brand (InputLayer)             [(None, 1)]          0           []                               \n",
      "                                                                                                  \n",
      " service_type (InputLayer)      [(None, 1)]          0           []                               \n",
      "                                                                                                  \n",
      " incident_type (InputLayer)     [(None, 1)]          0           []                               \n",
      "                                                                                                  \n",
      " open_to_close_hour (InputLayer  [(None, 1)]         0           []                               \n",
      " )                                                                                                \n",
      "                                                                                                  \n",
      " response_to_resolved_hour (Inp  [(None, 1)]         0           []                               \n",
      " utLayer)                                                                                         \n",
      "                                                                                                  \n",
      " string_lookup_2 (StringLookup)  (None, 1)           0           ['sla[0][0]']                    \n",
      "                                                                                                  \n",
      " string_lookup_3 (StringLookup)  (None, 1)           0           ['product_type[0][0]']           \n",
      "                                                                                                  \n",
      " string_lookup_4 (StringLookup)  (None, 1)           0           ['brand[0][0]']                  \n",
      "                                                                                                  \n",
      " string_lookup_5 (StringLookup)  (None, 1)           0           ['service_type[0][0]']           \n",
      "                                                                                                  \n",
      " string_lookup_6 (StringLookup)  (None, 1)           0           ['incident_type[0][0]']          \n",
      "                                                                                                  \n",
      " normalization_4 (Normalization  (None, 1)           3           ['open_to_close_hour[0][0]']     \n",
      " )                                                                                                \n",
      "                                                                                                  \n",
      " normalization_5 (Normalization  (None, 1)           3           ['response_to_resolved_hour[0][0]\n",
      " )                                                               ']                               \n",
      "                                                                                                  \n",
      " category_encoding_2 (CategoryE  (None, 8)           0           ['string_lookup_2[0][0]']        \n",
      " ncoding)                                                                                         \n",
      "                                                                                                  \n",
      " category_encoding_3 (CategoryE  (None, 14)          0           ['string_lookup_3[0][0]']        \n",
      " ncoding)                                                                                         \n",
      "                                                                                                  \n",
      " category_encoding_4 (CategoryE  (None, 29)          0           ['string_lookup_4[0][0]']        \n",
      " ncoding)                                                                                         \n",
      "                                                                                                  \n",
      " category_encoding_5 (CategoryE  (None, 3)           0           ['string_lookup_5[0][0]']        \n",
      " ncoding)                                                                                         \n",
      "                                                                                                  \n",
      " category_encoding_6 (CategoryE  (None, 22)          0           ['string_lookup_6[0][0]']        \n",
      " ncoding)                                                                                         \n",
      "                                                                                                  \n",
      " concatenate (Concatenate)      (None, 78)           0           ['normalization_4[0][0]',        \n",
      "                                                                  'normalization_5[0][0]',        \n",
      "                                                                  'category_encoding_2[0][0]',    \n",
      "                                                                  'category_encoding_3[0][0]',    \n",
      "                                                                  'category_encoding_4[0][0]',    \n",
      "                                                                  'category_encoding_5[0][0]',    \n",
      "                                                                  'category_encoding_6[0][0]']    \n",
      "                                                                                                  \n",
      " dense (Dense)                  (None, 64)           5056        ['concatenate[0][0]']            \n",
      "                                                                                                  \n",
      " dropout (Dropout)              (None, 64)           0           ['dense[0][0]']                  \n",
      "                                                                                                  \n",
      " dense_1 (Dense)                (None, 4)            260         ['dropout[0][0]']                \n",
      "                                                                                                  \n",
      "==================================================================================================\n",
      "Total params: 5,322\n",
      "Trainable params: 5,316\n",
      "Non-trainable params: 6\n",
      "__________________________________________________________________________________________________\n",
      "None\n"
     ]
    }
   ],
   "source": [
    "print(\"1#Build model\")\n",
    "\n",
    "# smaller RL , longer , By doing this, you learn gradually rather than jumping around \n",
    "#A learning rate of 0.001 is the default (Adam)\n",
    "#{'units': 32, 'Dropout_rate': 0.1}\n",
    "#model=build_model(32,0.1,0.0001)\n",
    "model=build_model(64,0.1,0.0001)\n",
    "#model=build_model(numInputFeatToInitNodeUnit,0,0)\n",
    "print(model.summary())\n",
    "#model=build_model(128,0,0)\n"
   ]
  },
  {
   "cell_type": "code",
   "execution_count": 47,
   "id": "655da7c1-a716-437c-b1c0-fde9745a1a1d",
   "metadata": {},
   "outputs": [
    {
     "name": "stdout",
     "output_type": "stream",
     "text": [
      "2#Train model\n",
      "Epoch 1/100\n"
     ]
    },
    {
     "name": "stderr",
     "output_type": "stream",
     "text": [
      "2023-11-10 05:10:40.029744: I tensorflow/core/common_runtime/executor.cc:1197] [/device:CPU:0] (DEBUG INFO) Executor start aborting (this does not indicate an error and you can ignore this message): INVALID_ARGUMENT: You must feed a value for placeholder tensor 'Placeholder/_6' with dtype string and shape [2731]\n",
      "\t [[{{node Placeholder/_6}}]]\n",
      "2023-11-10 05:10:40.031291: I tensorflow/core/common_runtime/executor.cc:1197] [/device:CPU:0] (DEBUG INFO) Executor start aborting (this does not indicate an error and you can ignore this message): INVALID_ARGUMENT: You must feed a value for placeholder tensor 'Placeholder/_6' with dtype string and shape [2731]\n",
      "\t [[{{node Placeholder/_6}}]]\n"
     ]
    },
    {
     "name": "stdout",
     "output_type": "stream",
     "text": [
      "56/86 [==================>...........] - ETA: 0s - loss: 1.4051 - accuracy: 0.3069"
     ]
    },
    {
     "name": "stderr",
     "output_type": "stream",
     "text": [
      "2023-11-10 05:10:41.184172: I tensorflow/core/common_runtime/executor.cc:1197] [/device:CPU:0] (DEBUG INFO) Executor start aborting (this does not indicate an error and you can ignore this message): INVALID_ARGUMENT: You must feed a value for placeholder tensor 'Placeholder/_6' with dtype string and shape [341]\n",
      "\t [[{{node Placeholder/_6}}]]\n",
      "2023-11-10 05:10:41.185676: I tensorflow/core/common_runtime/executor.cc:1197] [/device:CPU:0] (DEBUG INFO) Executor start aborting (this does not indicate an error and you can ignore this message): INVALID_ARGUMENT: You must feed a value for placeholder tensor 'Placeholder/_1' with dtype string and shape [341]\n",
      "\t [[{{node Placeholder/_1}}]]\n"
     ]
    },
    {
     "name": "stdout",
     "output_type": "stream",
     "text": [
      "86/86 [==============================] - 2s 7ms/step - loss: 1.3861 - accuracy: 0.3160 - val_loss: 1.3144 - val_accuracy: 0.3079\n",
      "Epoch 2/100\n",
      "86/86 [==============================] - 0s 2ms/step - loss: 1.2961 - accuracy: 0.3870 - val_loss: 1.2315 - val_accuracy: 0.4633\n",
      "Epoch 3/100\n",
      "86/86 [==============================] - 0s 2ms/step - loss: 1.2212 - accuracy: 0.4837 - val_loss: 1.1620 - val_accuracy: 0.5396\n",
      "Epoch 4/100\n",
      "86/86 [==============================] - 0s 2ms/step - loss: 1.1608 - accuracy: 0.5251 - val_loss: 1.1050 - val_accuracy: 0.5543\n",
      "Epoch 5/100\n",
      "86/86 [==============================] - 0s 2ms/step - loss: 1.1088 - accuracy: 0.5342 - val_loss: 1.0572 - val_accuracy: 0.5748\n",
      "Epoch 6/100\n",
      "86/86 [==============================] - 0s 2ms/step - loss: 1.0695 - accuracy: 0.5317 - val_loss: 1.0174 - val_accuracy: 0.5748\n",
      "Epoch 7/100\n",
      "86/86 [==============================] - 0s 2ms/step - loss: 1.0317 - accuracy: 0.5463 - val_loss: 0.9836 - val_accuracy: 0.5924\n",
      "Epoch 8/100\n",
      "86/86 [==============================] - 0s 2ms/step - loss: 0.9947 - accuracy: 0.5694 - val_loss: 0.9542 - val_accuracy: 0.5865\n",
      "Epoch 9/100\n",
      "86/86 [==============================] - 0s 2ms/step - loss: 0.9653 - accuracy: 0.5950 - val_loss: 0.9283 - val_accuracy: 0.6452\n",
      "Epoch 10/100\n",
      "86/86 [==============================] - 0s 2ms/step - loss: 0.9435 - accuracy: 0.6181 - val_loss: 0.9053 - val_accuracy: 0.6569\n",
      "Epoch 11/100\n",
      "86/86 [==============================] - 0s 2ms/step - loss: 0.9204 - accuracy: 0.6481 - val_loss: 0.8848 - val_accuracy: 0.6598\n",
      "Epoch 12/100\n",
      "86/86 [==============================] - 0s 2ms/step - loss: 0.8984 - accuracy: 0.6609 - val_loss: 0.8661 - val_accuracy: 0.6716\n",
      "Epoch 13/100\n",
      "86/86 [==============================] - 0s 2ms/step - loss: 0.8791 - accuracy: 0.6712 - val_loss: 0.8494 - val_accuracy: 0.6745\n",
      "Epoch 14/100\n",
      "86/86 [==============================] - 0s 2ms/step - loss: 0.8597 - accuracy: 0.6796 - val_loss: 0.8348 - val_accuracy: 0.6804\n",
      "Epoch 15/100\n",
      "86/86 [==============================] - 0s 2ms/step - loss: 0.8439 - accuracy: 0.6844 - val_loss: 0.8218 - val_accuracy: 0.7067\n",
      "Epoch 16/100\n",
      "86/86 [==============================] - 0s 2ms/step - loss: 0.8341 - accuracy: 0.6796 - val_loss: 0.8102 - val_accuracy: 0.7038\n",
      "Epoch 17/100\n",
      "86/86 [==============================] - 0s 2ms/step - loss: 0.8238 - accuracy: 0.6888 - val_loss: 0.7995 - val_accuracy: 0.7038\n",
      "Epoch 18/100\n",
      "86/86 [==============================] - 0s 2ms/step - loss: 0.8124 - accuracy: 0.6950 - val_loss: 0.7902 - val_accuracy: 0.7097\n",
      "Epoch 19/100\n",
      "86/86 [==============================] - 0s 2ms/step - loss: 0.8036 - accuracy: 0.6891 - val_loss: 0.7821 - val_accuracy: 0.7067\n",
      "Epoch 20/100\n",
      "86/86 [==============================] - 0s 2ms/step - loss: 0.7926 - accuracy: 0.6943 - val_loss: 0.7751 - val_accuracy: 0.7097\n",
      "Epoch 21/100\n",
      "86/86 [==============================] - 0s 2ms/step - loss: 0.7871 - accuracy: 0.6997 - val_loss: 0.7689 - val_accuracy: 0.7097\n",
      "Epoch 22/100\n",
      "86/86 [==============================] - 0s 2ms/step - loss: 0.7806 - accuracy: 0.7052 - val_loss: 0.7636 - val_accuracy: 0.7097\n",
      "Epoch 23/100\n",
      "86/86 [==============================] - 0s 2ms/step - loss: 0.7721 - accuracy: 0.7005 - val_loss: 0.7590 - val_accuracy: 0.7097\n",
      "Epoch 24/100\n",
      "86/86 [==============================] - 0s 2ms/step - loss: 0.7688 - accuracy: 0.7038 - val_loss: 0.7547 - val_accuracy: 0.7097\n",
      "Epoch 25/100\n",
      "86/86 [==============================] - 0s 2ms/step - loss: 0.7614 - accuracy: 0.7085 - val_loss: 0.7514 - val_accuracy: 0.7126\n",
      "Epoch 26/100\n",
      "86/86 [==============================] - 0s 2ms/step - loss: 0.7619 - accuracy: 0.7052 - val_loss: 0.7482 - val_accuracy: 0.7126\n",
      "Epoch 27/100\n",
      "86/86 [==============================] - 0s 2ms/step - loss: 0.7543 - accuracy: 0.7085 - val_loss: 0.7452 - val_accuracy: 0.7126\n",
      "Epoch 28/100\n",
      "86/86 [==============================] - 0s 2ms/step - loss: 0.7480 - accuracy: 0.7089 - val_loss: 0.7429 - val_accuracy: 0.7126\n",
      "Epoch 29/100\n",
      "86/86 [==============================] - 0s 2ms/step - loss: 0.7484 - accuracy: 0.7060 - val_loss: 0.7409 - val_accuracy: 0.7126\n",
      "Epoch 30/100\n",
      "86/86 [==============================] - 0s 2ms/step - loss: 0.7477 - accuracy: 0.7060 - val_loss: 0.7388 - val_accuracy: 0.7126\n",
      "Epoch 31/100\n",
      "86/86 [==============================] - 0s 2ms/step - loss: 0.7440 - accuracy: 0.7074 - val_loss: 0.7366 - val_accuracy: 0.7126\n",
      "Epoch 32/100\n",
      "86/86 [==============================] - 0s 2ms/step - loss: 0.7400 - accuracy: 0.7063 - val_loss: 0.7351 - val_accuracy: 0.7126\n",
      "Epoch 33/100\n",
      "86/86 [==============================] - 0s 2ms/step - loss: 0.7338 - accuracy: 0.7074 - val_loss: 0.7335 - val_accuracy: 0.7126\n",
      "Epoch 34/100\n",
      "86/86 [==============================] - 0s 2ms/step - loss: 0.7319 - accuracy: 0.7082 - val_loss: 0.7321 - val_accuracy: 0.7126\n",
      "Epoch 35/100\n",
      "86/86 [==============================] - 0s 2ms/step - loss: 0.7313 - accuracy: 0.7019 - val_loss: 0.7307 - val_accuracy: 0.7126\n",
      "Epoch 36/100\n",
      "86/86 [==============================] - 0s 2ms/step - loss: 0.7280 - accuracy: 0.7082 - val_loss: 0.7294 - val_accuracy: 0.7126\n",
      "Epoch 37/100\n",
      "86/86 [==============================] - 0s 2ms/step - loss: 0.7276 - accuracy: 0.7085 - val_loss: 0.7284 - val_accuracy: 0.7126\n",
      "Epoch 38/100\n",
      "86/86 [==============================] - 0s 2ms/step - loss: 0.7238 - accuracy: 0.7111 - val_loss: 0.7274 - val_accuracy: 0.7155\n",
      "Epoch 39/100\n",
      "86/86 [==============================] - 0s 2ms/step - loss: 0.7157 - accuracy: 0.7144 - val_loss: 0.7270 - val_accuracy: 0.7126\n",
      "Epoch 40/100\n",
      "86/86 [==============================] - 0s 2ms/step - loss: 0.7210 - accuracy: 0.7096 - val_loss: 0.7259 - val_accuracy: 0.7126\n",
      "Epoch 41/100\n",
      "86/86 [==============================] - 0s 2ms/step - loss: 0.7175 - accuracy: 0.7085 - val_loss: 0.7249 - val_accuracy: 0.7155\n",
      "Epoch 42/100\n",
      "86/86 [==============================] - 0s 2ms/step - loss: 0.7206 - accuracy: 0.7093 - val_loss: 0.7241 - val_accuracy: 0.7155\n",
      "Epoch 43/100\n",
      "86/86 [==============================] - 0s 2ms/step - loss: 0.7166 - accuracy: 0.7078 - val_loss: 0.7234 - val_accuracy: 0.7155\n",
      "Epoch 44/100\n",
      "86/86 [==============================] - 0s 2ms/step - loss: 0.7140 - accuracy: 0.7085 - val_loss: 0.7229 - val_accuracy: 0.7155\n",
      "Epoch 45/100\n",
      "86/86 [==============================] - 0s 2ms/step - loss: 0.7151 - accuracy: 0.7082 - val_loss: 0.7220 - val_accuracy: 0.7155\n",
      "Epoch 46/100\n",
      "86/86 [==============================] - 0s 2ms/step - loss: 0.7119 - accuracy: 0.7041 - val_loss: 0.7215 - val_accuracy: 0.7155\n",
      "Epoch 47/100\n",
      "86/86 [==============================] - 0s 2ms/step - loss: 0.7124 - accuracy: 0.7067 - val_loss: 0.7213 - val_accuracy: 0.7155\n",
      "Epoch 48/100\n",
      "86/86 [==============================] - 0s 2ms/step - loss: 0.7097 - accuracy: 0.7140 - val_loss: 0.7207 - val_accuracy: 0.7155\n",
      "Epoch 49/100\n",
      "86/86 [==============================] - 0s 2ms/step - loss: 0.7062 - accuracy: 0.7107 - val_loss: 0.7199 - val_accuracy: 0.7155\n",
      "Epoch 50/100\n",
      "86/86 [==============================] - 0s 2ms/step - loss: 0.7085 - accuracy: 0.7137 - val_loss: 0.7196 - val_accuracy: 0.7155\n",
      "Epoch 51/100\n",
      "86/86 [==============================] - 0s 2ms/step - loss: 0.7083 - accuracy: 0.7111 - val_loss: 0.7192 - val_accuracy: 0.7126\n",
      "Epoch 52/100\n",
      "86/86 [==============================] - 0s 2ms/step - loss: 0.7016 - accuracy: 0.7170 - val_loss: 0.7186 - val_accuracy: 0.7126\n",
      "Epoch 53/100\n",
      "86/86 [==============================] - 0s 2ms/step - loss: 0.7014 - accuracy: 0.7181 - val_loss: 0.7184 - val_accuracy: 0.7155\n",
      "Epoch 54/100\n",
      "86/86 [==============================] - 0s 2ms/step - loss: 0.7007 - accuracy: 0.7159 - val_loss: 0.7177 - val_accuracy: 0.7155\n",
      "Epoch 55/100\n",
      "86/86 [==============================] - 0s 2ms/step - loss: 0.6997 - accuracy: 0.7155 - val_loss: 0.7175 - val_accuracy: 0.7155\n",
      "Epoch 56/100\n",
      "86/86 [==============================] - 0s 2ms/step - loss: 0.6992 - accuracy: 0.7137 - val_loss: 0.7172 - val_accuracy: 0.7155\n",
      "Epoch 57/100\n",
      "86/86 [==============================] - 0s 2ms/step - loss: 0.6970 - accuracy: 0.7192 - val_loss: 0.7166 - val_accuracy: 0.7155\n",
      "Epoch 58/100\n",
      "86/86 [==============================] - 0s 3ms/step - loss: 0.6945 - accuracy: 0.7188 - val_loss: 0.7159 - val_accuracy: 0.7155\n",
      "Epoch 59/100\n",
      "86/86 [==============================] - 0s 2ms/step - loss: 0.6949 - accuracy: 0.7195 - val_loss: 0.7159 - val_accuracy: 0.7155\n",
      "Epoch 60/100\n",
      "86/86 [==============================] - 0s 2ms/step - loss: 0.6909 - accuracy: 0.7166 - val_loss: 0.7157 - val_accuracy: 0.7155\n",
      "Epoch 61/100\n",
      "86/86 [==============================] - 0s 2ms/step - loss: 0.6940 - accuracy: 0.7115 - val_loss: 0.7154 - val_accuracy: 0.7155\n",
      "Epoch 62/100\n",
      "86/86 [==============================] - 0s 2ms/step - loss: 0.6899 - accuracy: 0.7202 - val_loss: 0.7152 - val_accuracy: 0.7155\n",
      "Epoch 63/100\n",
      "86/86 [==============================] - 0s 2ms/step - loss: 0.6913 - accuracy: 0.7166 - val_loss: 0.7149 - val_accuracy: 0.7155\n",
      "Epoch 64/100\n",
      "86/86 [==============================] - 0s 2ms/step - loss: 0.6873 - accuracy: 0.7192 - val_loss: 0.7145 - val_accuracy: 0.7155\n",
      "Epoch 65/100\n",
      "86/86 [==============================] - 0s 2ms/step - loss: 0.6839 - accuracy: 0.7184 - val_loss: 0.7140 - val_accuracy: 0.7155\n",
      "Epoch 66/100\n",
      "86/86 [==============================] - 0s 5ms/step - loss: 0.6845 - accuracy: 0.7170 - val_loss: 0.7139 - val_accuracy: 0.7155\n",
      "Epoch 67/100\n",
      "86/86 [==============================] - 0s 5ms/step - loss: 0.6868 - accuracy: 0.7148 - val_loss: 0.7135 - val_accuracy: 0.7155\n",
      "Epoch 68/100\n",
      "86/86 [==============================] - 0s 5ms/step - loss: 0.6873 - accuracy: 0.7181 - val_loss: 0.7134 - val_accuracy: 0.7155\n",
      "Epoch 69/100\n",
      "86/86 [==============================] - 0s 5ms/step - loss: 0.6869 - accuracy: 0.7162 - val_loss: 0.7133 - val_accuracy: 0.7155\n",
      "Epoch 70/100\n",
      "86/86 [==============================] - 0s 5ms/step - loss: 0.6860 - accuracy: 0.7159 - val_loss: 0.7126 - val_accuracy: 0.7126\n",
      "Epoch 71/100\n",
      "86/86 [==============================] - 0s 3ms/step - loss: 0.6819 - accuracy: 0.7173 - val_loss: 0.7123 - val_accuracy: 0.7126\n",
      "Epoch 72/100\n",
      "86/86 [==============================] - 0s 2ms/step - loss: 0.6807 - accuracy: 0.7228 - val_loss: 0.7124 - val_accuracy: 0.7126\n",
      "Epoch 73/100\n",
      "86/86 [==============================] - 0s 2ms/step - loss: 0.6801 - accuracy: 0.7173 - val_loss: 0.7121 - val_accuracy: 0.7126\n",
      "Epoch 74/100\n",
      "86/86 [==============================] - 0s 2ms/step - loss: 0.6825 - accuracy: 0.7199 - val_loss: 0.7119 - val_accuracy: 0.7155\n",
      "Epoch 75/100\n",
      "86/86 [==============================] - 0s 2ms/step - loss: 0.6786 - accuracy: 0.7213 - val_loss: 0.7115 - val_accuracy: 0.7185\n",
      "Epoch 76/100\n",
      "86/86 [==============================] - 0s 2ms/step - loss: 0.6801 - accuracy: 0.7213 - val_loss: 0.7115 - val_accuracy: 0.7185\n",
      "Epoch 77/100\n",
      "86/86 [==============================] - 0s 2ms/step - loss: 0.6777 - accuracy: 0.7213 - val_loss: 0.7112 - val_accuracy: 0.7185\n",
      "Epoch 78/100\n",
      "86/86 [==============================] - 0s 2ms/step - loss: 0.6746 - accuracy: 0.7199 - val_loss: 0.7107 - val_accuracy: 0.7185\n",
      "Epoch 79/100\n",
      "86/86 [==============================] - 0s 2ms/step - loss: 0.6755 - accuracy: 0.7224 - val_loss: 0.7106 - val_accuracy: 0.7185\n",
      "Epoch 80/100\n",
      "86/86 [==============================] - 0s 2ms/step - loss: 0.6715 - accuracy: 0.7224 - val_loss: 0.7103 - val_accuracy: 0.7185\n",
      "Epoch 81/100\n",
      "86/86 [==============================] - 0s 2ms/step - loss: 0.6781 - accuracy: 0.7221 - val_loss: 0.7099 - val_accuracy: 0.7214\n",
      "Epoch 82/100\n",
      "86/86 [==============================] - 0s 2ms/step - loss: 0.6761 - accuracy: 0.7162 - val_loss: 0.7098 - val_accuracy: 0.7214\n",
      "Epoch 83/100\n",
      "86/86 [==============================] - 0s 2ms/step - loss: 0.6751 - accuracy: 0.7224 - val_loss: 0.7092 - val_accuracy: 0.7243\n",
      "Epoch 84/100\n",
      "86/86 [==============================] - 0s 2ms/step - loss: 0.6743 - accuracy: 0.7217 - val_loss: 0.7094 - val_accuracy: 0.7214\n",
      "Epoch 85/100\n",
      "86/86 [==============================] - 0s 2ms/step - loss: 0.6747 - accuracy: 0.7210 - val_loss: 0.7096 - val_accuracy: 0.7214\n",
      "Epoch 86/100\n",
      "86/86 [==============================] - 0s 2ms/step - loss: 0.6697 - accuracy: 0.7235 - val_loss: 0.7093 - val_accuracy: 0.7214\n",
      "Epoch 87/100\n",
      "86/86 [==============================] - 0s 2ms/step - loss: 0.6703 - accuracy: 0.7235 - val_loss: 0.7088 - val_accuracy: 0.7243\n",
      "Epoch 88/100\n",
      "86/86 [==============================] - 0s 2ms/step - loss: 0.6718 - accuracy: 0.7206 - val_loss: 0.7084 - val_accuracy: 0.7214\n",
      "Epoch 89/100\n",
      "86/86 [==============================] - 0s 2ms/step - loss: 0.6682 - accuracy: 0.7257 - val_loss: 0.7082 - val_accuracy: 0.7214\n",
      "Epoch 90/100\n",
      "86/86 [==============================] - 0s 2ms/step - loss: 0.6684 - accuracy: 0.7206 - val_loss: 0.7083 - val_accuracy: 0.7185\n",
      "Epoch 91/100\n",
      "86/86 [==============================] - 0s 2ms/step - loss: 0.6682 - accuracy: 0.7195 - val_loss: 0.7079 - val_accuracy: 0.7185\n",
      "Epoch 92/100\n",
      "86/86 [==============================] - 0s 2ms/step - loss: 0.6635 - accuracy: 0.7246 - val_loss: 0.7078 - val_accuracy: 0.7185\n",
      "Epoch 93/100\n",
      "86/86 [==============================] - 0s 2ms/step - loss: 0.6642 - accuracy: 0.7265 - val_loss: 0.7075 - val_accuracy: 0.7185\n",
      "Epoch 94/100\n",
      "86/86 [==============================] - 0s 5ms/step - loss: 0.6669 - accuracy: 0.7228 - val_loss: 0.7075 - val_accuracy: 0.7185\n",
      "Epoch 95/100\n",
      "86/86 [==============================] - 0s 5ms/step - loss: 0.6657 - accuracy: 0.7224 - val_loss: 0.7073 - val_accuracy: 0.7185\n",
      "Epoch 96/100\n",
      "86/86 [==============================] - 0s 5ms/step - loss: 0.6607 - accuracy: 0.7268 - val_loss: 0.7070 - val_accuracy: 0.7185\n",
      "Epoch 97/100\n",
      "86/86 [==============================] - 0s 2ms/step - loss: 0.6625 - accuracy: 0.7243 - val_loss: 0.7069 - val_accuracy: 0.7185\n",
      "Epoch 98/100\n",
      "86/86 [==============================] - 0s 2ms/step - loss: 0.6615 - accuracy: 0.7261 - val_loss: 0.7067 - val_accuracy: 0.7185\n",
      "Epoch 99/100\n",
      "86/86 [==============================] - 0s 2ms/step - loss: 0.6618 - accuracy: 0.7261 - val_loss: 0.7064 - val_accuracy: 0.7185\n",
      "Epoch 100/100\n",
      "86/86 [==============================] - 0s 2ms/step - loss: 0.6621 - accuracy: 0.7224 - val_loss: 0.7064 - val_accuracy: 0.7185\n",
      "=============================================================================\n"
     ]
    }
   ],
   "source": [
    "print(\"2#Train model\")\n",
    "history=train_model(model,n_epochs,n_batch_size)\n",
    "print(\"=============================================================================\")\n"
   ]
  },
  {
   "cell_type": "code",
   "execution_count": 48,
   "id": "19961e63-4585-4662-98ee-25402fe7e735",
   "metadata": {},
   "outputs": [
    {
     "name": "stdout",
     "output_type": "stream",
     "text": [
      "3#Evaluate model\n",
      "11/11 [==============================] - 0s 2ms/step - loss: 0.7064 - accuracy: 0.7185\n",
      "Average Loss - Accuracy on Eveluation 0.7063832879066467 -0.7184750437736511\n",
      "11/11 [==============================] - 0s 2ms/step - loss: 0.6786 - accuracy: 0.7193\n",
      "Average Loss - Accuracy on Test 0.678640604019165 -0.719298243522644\n",
      "=============================================================================\n"
     ]
    },
    {
     "name": "stderr",
     "output_type": "stream",
     "text": [
      "2023-11-10 05:11:15.239717: I tensorflow/core/common_runtime/executor.cc:1197] [/device:CPU:0] (DEBUG INFO) Executor start aborting (this does not indicate an error and you can ignore this message): INVALID_ARGUMENT: You must feed a value for placeholder tensor 'Placeholder/_2' with dtype double and shape [342]\n",
      "\t [[{{node Placeholder/_2}}]]\n",
      "2023-11-10 05:11:15.241407: I tensorflow/core/common_runtime/executor.cc:1197] [/device:CPU:0] (DEBUG INFO) Executor start aborting (this does not indicate an error and you can ignore this message): INVALID_ARGUMENT: You must feed a value for placeholder tensor 'Placeholder/_7' with dtype float and shape [342,4]\n",
      "\t [[{{node Placeholder/_7}}]]\n"
     ]
    }
   ],
   "source": [
    "print(\"3#Evaluate model\")\n",
    "\n",
    "loss_val, accuracy_val = model.evaluate(val_ds)\n",
    "print(f\"Average Loss - Accuracy on Eveluation {loss_val} -{accuracy_val}\")\n",
    "\n",
    "loss_test, accuracy_test = model.evaluate(test_ds)\n",
    "print(f\"Average Loss - Accuracy on Test {loss_test} -{accuracy_test}\")\n",
    "\n",
    "print(\"=============================================================================\")\n",
    "\n",
    "\n",
    "# production data set to 12MAr23\n",
    "# 7/7 [==============================] - 0s 2ms/step - loss: 0.6655 - accuracy: 0.7689\n",
    "# Average Loss - Accuracy on Eveluation 0.6654592752456665 -0.7688679099082947\n",
    "# 7/7 [==============================] - 0s 2ms/step - loss: 0.6977 - accuracy: 0.7358\n",
    "# Average Loss - Accuracy on Test 0.6977102160453796 -0.7358490824699402\n",
    "\n",
    "\n",
    "# demo set to 04 April23\n",
    "# 8/8 [==============================] - 0s 2ms/step - loss: 0.7334 - accuracy: 0.7621\n",
    "# Average Loss - Accuracy on Eveluation 0.7333917617797852 -0.7621145248413086\n",
    "# 8/8 [==============================] - 0s 3ms/step - loss: 0.7452 - accuracy: 0.6740\n",
    "# Average Loss - Accuracy on Test 0.745168149471283 -0.6740087866783142\n",
    "# ============================================================================"
   ]
  },
  {
   "cell_type": "code",
   "execution_count": 49,
   "id": "00f3a39c-d489-4970-a709-cdf9c38805f2",
   "metadata": {},
   "outputs": [
    {
     "name": "stdout",
     "output_type": "stream",
     "text": [
      "4#Explore Result model\n"
     ]
    },
    {
     "data": {
      "image/png": "[encoded data removed]",
      "text/plain": [
       "<Figure size 1500x800 with 1 Axes>"
      ]
     },
     "metadata": {},
     "output_type": "display_data"
    },
    {
     "data": {
      "image/png": "[encoded data removed]",
      "text/plain": [
       "<Figure size 1500x800 with 1 Axes>"
      ]
     },
     "metadata": {},
     "output_type": "display_data"
    }
   ],
   "source": [
    "print(\"4#Explore Result model\")\n",
    "plot_metrics(history,main_metric)\n",
    "plot_metrics(history,\"loss\")\n"
   ]
  },
  {
   "cell_type": "markdown",
   "id": "c05e9e8b-804d-4c37-9865-9dfcf2343411",
   "metadata": {},
   "source": [
    "# Save Model"
   ]
  },
  {
   "cell_type": "code",
   "execution_count": 50,
   "id": "ab8f677c-dfa2-48b5-b980-6cc10f2e0033",
   "metadata": {},
   "outputs": [
    {
     "name": "stderr",
     "output_type": "stream",
     "text": [
      "2023-11-10 05:11:16.386504: I tensorflow/core/common_runtime/executor.cc:1197] [/device:CPU:0] (DEBUG INFO) Executor start aborting (this does not indicate an error and you can ignore this message): INVALID_ARGUMENT: You must feed a value for placeholder tensor 'inputs' with dtype int64 and shape [?,1]\n",
      "\t [[{{node inputs}}]]\n",
      "2023-11-10 05:11:16.393920: I tensorflow/core/common_runtime/executor.cc:1197] [/device:CPU:0] (DEBUG INFO) Executor start aborting (this does not indicate an error and you can ignore this message): INVALID_ARGUMENT: You must feed a value for placeholder tensor 'inputs' with dtype int64 and shape [?,1]\n",
      "\t [[{{node inputs}}]]\n",
      "2023-11-10 05:11:16.400659: I tensorflow/core/common_runtime/executor.cc:1197] [/device:CPU:0] (DEBUG INFO) Executor start aborting (this does not indicate an error and you can ignore this message): INVALID_ARGUMENT: You must feed a value for placeholder tensor 'inputs' with dtype int64 and shape [?,1]\n",
      "\t [[{{node inputs}}]]\n",
      "2023-11-10 05:11:16.407181: I tensorflow/core/common_runtime/executor.cc:1197] [/device:CPU:0] (DEBUG INFO) Executor start aborting (this does not indicate an error and you can ignore this message): INVALID_ARGUMENT: You must feed a value for placeholder tensor 'inputs' with dtype int64 and shape [?,1]\n",
      "\t [[{{node inputs}}]]\n",
      "2023-11-10 05:11:16.413690: I tensorflow/core/common_runtime/executor.cc:1197] [/device:CPU:0] (DEBUG INFO) Executor start aborting (this does not indicate an error and you can ignore this message): INVALID_ARGUMENT: You must feed a value for placeholder tensor 'inputs' with dtype int64 and shape [?,1]\n",
      "\t [[{{node inputs}}]]\n",
      "2023-11-10 05:11:16.435478: I tensorflow/core/common_runtime/executor.cc:1197] [/device:CPU:0] (DEBUG INFO) Executor start aborting (this does not indicate an error and you can ignore this message): INVALID_ARGUMENT: You must feed a value for placeholder tensor 'inputs' with dtype float and shape [?,64]\n",
      "\t [[{{node inputs}}]]\n",
      "2023-11-10 05:11:17.139108: I tensorflow/core/common_runtime/executor.cc:1197] [/device:CPU:0] (DEBUG INFO) Executor start aborting (this does not indicate an error and you can ignore this message): INVALID_ARGUMENT: You must feed a value for placeholder tensor 'inputs' with dtype int64 and shape [?,1]\n",
      "\t [[{{node inputs}}]]\n",
      "2023-11-10 05:11:17.172685: I tensorflow/core/common_runtime/executor.cc:1197] [/device:CPU:0] (DEBUG INFO) Executor start aborting (this does not indicate an error and you can ignore this message): INVALID_ARGUMENT: You must feed a value for placeholder tensor 'inputs' with dtype int64 and shape [?,1]\n",
      "\t [[{{node inputs}}]]\n",
      "2023-11-10 05:11:17.205724: I tensorflow/core/common_runtime/executor.cc:1197] [/device:CPU:0] (DEBUG INFO) Executor start aborting (this does not indicate an error and you can ignore this message): INVALID_ARGUMENT: You must feed a value for placeholder tensor 'inputs' with dtype int64 and shape [?,1]\n",
      "\t [[{{node inputs}}]]\n",
      "2023-11-10 05:11:17.238908: I tensorflow/core/common_runtime/executor.cc:1197] [/device:CPU:0] (DEBUG INFO) Executor start aborting (this does not indicate an error and you can ignore this message): INVALID_ARGUMENT: You must feed a value for placeholder tensor 'inputs' with dtype int64 and shape [?,1]\n",
      "\t [[{{node inputs}}]]\n",
      "2023-11-10 05:11:17.271734: I tensorflow/core/common_runtime/executor.cc:1197] [/device:CPU:0] (DEBUG INFO) Executor start aborting (this does not indicate an error and you can ignore this message): INVALID_ARGUMENT: You must feed a value for placeholder tensor 'inputs' with dtype int64 and shape [?,1]\n",
      "\t [[{{node inputs}}]]\n",
      "2023-11-10 05:11:17.337498: I tensorflow/core/common_runtime/executor.cc:1197] [/device:CPU:0] (DEBUG INFO) Executor start aborting (this does not indicate an error and you can ignore this message): INVALID_ARGUMENT: You must feed a value for placeholder tensor 'inputs' with dtype float and shape [?,64]\n",
      "\t [[{{node inputs}}]]\n",
      "WARNING:absl:Found untraced functions such as _update_step_xla while saving (showing 1 of 1). These functions will not be directly callable after loading.\n"
     ]
    },
    {
     "name": "stdout",
     "output_type": "stream",
     "text": [
      "INFO:tensorflow:Assets written to: gs://demo2-tf-incident-pongthorn/demo_model_tf/assets\n"
     ]
    },
    {
     "name": "stderr",
     "output_type": "stream",
     "text": [
      "INFO:tensorflow:Assets written to: gs://demo2-tf-incident-pongthorn/demo_model_tf/assets\n"
     ]
    }
   ],
   "source": [
    "model.save(model_dir)\n"
   ]
  },
  {
   "cell_type": "markdown",
   "id": "f86af40e-2142-4c2f-af6d-13bae8cd463e",
   "metadata": {},
   "source": [
    "# Try Prediction"
   ]
  },
  {
   "cell_type": "code",
   "execution_count": 51,
   "id": "dd916787-bacc-4537-b2b6-1c6d62932de8",
   "metadata": {},
   "outputs": [
    {
     "name": "stdout",
     "output_type": "stream",
     "text": [
      "{'sla': '24x7 4Hrs Response Time', 'product_type': 'Server', 'brand': 'VMWare', 'service_type': 'Incident', 'incident_type': 'General Incident', 'open_to_close_hour': 12, 'response_to_resolved_hour': 8.5}\n",
      "===============================================================================================================\n",
      "convert pain data to serdor as input to predict\n",
      "{'sla': <tf.Tensor: shape=(1,), dtype=string, numpy=array([b'24x7 4Hrs Response Time'], dtype=object)>, 'product_type': <tf.Tensor: shape=(1,), dtype=string, numpy=array([b'Server'], dtype=object)>, 'brand': <tf.Tensor: shape=(1,), dtype=string, numpy=array([b'VMWare'], dtype=object)>, 'service_type': <tf.Tensor: shape=(1,), dtype=string, numpy=array([b'Incident'], dtype=object)>, 'incident_type': <tf.Tensor: shape=(1,), dtype=string, numpy=array([b'General Incident'], dtype=object)>, 'open_to_close_hour': <tf.Tensor: shape=(1,), dtype=int32, numpy=array([12], dtype=int32)>, 'response_to_resolved_hour': <tf.Tensor: shape=(1,), dtype=float32, numpy=array([8.5], dtype=float32)>}\n",
      "1/1 [==============================] - 0s 265ms/step\n",
      "[[0.04034232 0.3282619  0.6093099  0.02208597]]\n",
      "[19.677288 26.242615 34.758793 19.32131 ] % at 2 as Severity\n"
     ]
    }
   ],
   "source": [
    "#label_multi_severity\n",
    "\n",
    "local_model= tf.keras.models.load_model(model_dir)\n",
    "\n",
    "sample={\"sla\":\"24x7 4Hrs Response Time\",\n",
    "        \"product_type\":\"Server\",\n",
    "        \"brand\":\"VMWare\",                \n",
    "        \"service_type\":\"Incident\",\n",
    "        \"incident_type\":\"General Incident\",\n",
    "        \"open_to_close_hour\":12,\n",
    "        \"response_to_resolved_hour\":8.500000 \\\n",
    "       }\n",
    "\n",
    "print(sample)\n",
    "              \n",
    "print(\"===============================================================================================================\")    \n",
    "print(\"convert pain data to serdor as input to predict\")    \n",
    "input_dict = {name: tf.convert_to_tensor([value]) for name, value in sample.items()}\n",
    "print(input_dict)\n",
    "\n",
    "predictionList = local_model.predict(input_dict)\n",
    "print(predictionList)\n",
    "\n",
    "prob = tf.nn.softmax(predictionList[0])\n",
    "print(f\"{(100 * prob)} % at {np.argmax(prob, axis=0)} as Severity\") \n"
   ]
  },
  {
   "cell_type": "markdown",
   "id": "c5587682-2265-4eff-985f-ca1f7852ddf4",
   "metadata": {},
   "source": [
    "# Copy Model From Local To GCS"
   ]
  },
  {
   "cell_type": "code",
   "execution_count": 52,
   "id": "eaabd3ac-47ad-43ae-b6e5-fc16fecec238",
   "metadata": {},
   "outputs": [],
   "source": [
    "# # #https://codelabs.developers.google.com/codelabs/fraud-detection-ai-explanations?hl=en#6\n",
    "# # press_y3=input(f\"Press y=True to save model to Google Cloud storage : \") \n",
    "# # if press_y3.lower()=='y':\n",
    "# MODEL_BUCKET = 'gs://tf1-incident-smart-ml-yip'\n",
    "\n",
    "# # # # !gsutil mb -l $REGION $MODEL_BUCKET\n",
    "# # !gsutil -m cp -r ./$model_dir/* $MODEL_BUCKET/demo_model\n",
    "# !gsutil -m cp -r ./$model_dir/* $MODEL_BUCKET/model\n",
    "# #!gsutil -m cp -r ./$explain_meta_model_dir/* $MODEL_BUCKET/demo_model_explain_meta\n",
    "# # else:\n",
    "# #  quite()\n"
   ]
  },
  {
   "cell_type": "code",
   "execution_count": 107,
   "id": "6465851a-f078-41a2-991c-80a71d3e695d",
   "metadata": {},
   "outputs": [],
   "source": [
    "\n"
   ]
  },
  {
   "cell_type": "code",
   "execution_count": null,
   "id": "6c0f6c5d-3ea4-4fae-ba78-b8decf134a92",
   "metadata": {},
   "outputs": [],
   "source": []
  },
  {
   "cell_type": "code",
   "execution_count": null,
   "id": "ff433f46-0e98-48ec-8b32-25b840541253",
   "metadata": {},
   "outputs": [],
   "source": []
  }
 ],
 "metadata": {
  "environment": {
   "kernel": "python3",
   "name": "tf2-gpu.2-12.m109",
   "type": "gcloud",
   "uri": "gcr.io/deeplearning-platform-release/tf2-gpu.2-12:m109"
  },
  "kernelspec": {
   "display_name": "Python 3",
   "language": "python",
   "name": "python3"
  },
  "language_info": {
   "codemirror_mode": {
    "name": "ipython",
    "version": 3
   },
   "file_extension": ".py",
   "mimetype": "text/x-python",
   "name": "python",
   "nbconvert_exporter": "python",
   "pygments_lexer": "ipython3",
   "version": "3.10.11"
  }
 },
 "nbformat": 4,
 "nbformat_minor": 5
}
