{
 "cells": [
  {
   "cell_type": "code",
   "execution_count": null,
   "id": "c595f2d0-569a-477f-b3eb-abf740d4793d",
   "metadata": {},
   "outputs": [],
   "source": [
    "import pandas as pd"
   ]
  },
  {
   "cell_type": "code",
   "execution_count": null,
   "id": "7708c0ae-9f42-4c23-b877-ff2d223eb7a4",
   "metadata": {},
   "outputs": [],
   "source": [
    "listFile=['validation_incident_model-incident-tf-explainable_exp.xlsx' , \\\n",
    "          'test_incident_model-incident-tf-explainable_exp.xlsx' , \\\n",
    "          'new_incident_model-incident-tf-explainable_exp.xlsx']\n",
    "#listFile=['train_incident_model-incident-tf-explainable_exp.xlsx']"
   ]
  },
  {
   "cell_type": "code",
   "execution_count": null,
   "id": "d3335fd1-09d7-4ae1-a18a-8f66bdcdf416",
   "metadata": {},
   "outputs": [],
   "source": [
    "dfSummary=pd.DataFrame()\n",
    "for file in  listFile:\n",
    " df=pd.read_excel(file,sheet_name='Sheet2')\n",
    " dfSummary=pd.concat([dfSummary,df])\n",
    "    \n",
    "dfSummary=dfSummary.drop(columns=['dataset'])"
   ]
  },
  {
   "cell_type": "code",
   "execution_count": null,
   "id": "668430c8-c911-4e5a-974e-2b44805612c5",
   "metadata": {},
   "outputs": [],
   "source": [
    "srSummary=dfSummary.sum()\n",
    "srSummary.sort_values(ascending=False)"
   ]
  },
  {
   "cell_type": "code",
   "execution_count": null,
   "id": "07b26fef-29ce-490c-ba28-39f5cda2da0d",
   "metadata": {},
   "outputs": [],
   "source": [
    "srSummary.plot.barh(rot=15, title=\"Feature Importance\");\n"
   ]
  },
  {
   "cell_type": "code",
   "execution_count": null,
   "id": "82b22690-e04a-4a04-aef6-d8dceead957b",
   "metadata": {},
   "outputs": [],
   "source": []
  },
  {
   "cell_type": "code",
   "execution_count": null,
   "id": "72cc62c9-0dde-4df0-9706-dce0c834a0e3",
   "metadata": {},
   "outputs": [],
   "source": []
  }
 ],
 "metadata": {
  "environment": {
   "kernel": "python3",
   "name": "tf2-gpu.2-12.m109",
   "type": "gcloud",
   "uri": "gcr.io/deeplearning-platform-release/tf2-gpu.2-12:m109"
  },
  "kernelspec": {
   "display_name": "Python 3 (ipykernel)",
   "language": "python",
   "name": "python3"
  },
  "language_info": {
   "codemirror_mode": {
    "name": "ipython",
    "version": 3
   },
   "file_extension": ".py",
   "mimetype": "text/x-python",
   "name": "python",
   "nbconvert_exporter": "python",
   "pygments_lexer": "ipython3",
   "version": "3.10.12"
  }
 },
 "nbformat": 4,
 "nbformat_minor": 5
}
