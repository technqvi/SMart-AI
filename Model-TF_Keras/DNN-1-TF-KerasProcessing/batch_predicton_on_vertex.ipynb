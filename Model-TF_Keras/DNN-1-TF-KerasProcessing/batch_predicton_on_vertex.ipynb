{
 "cells": [
  {
   "cell_type": "code",
   "execution_count": 66,
   "id": "2ccc7dd0-f4e2-463f-8c28-ac62cb3535b9",
   "metadata": {},
   "outputs": [],
   "source": [
    "#chrome://bookmarks/?id=10824\n",
    "\n",
    "# https://github.com/GoogleCloudPlatform/vertex-ai-samples/blob/main/notebooks/official/model_monitoring/batch_prediction_model_monitoring.ipynb\n",
    "\n",
    "#https://github.com/GoogleCloudPlatform/vertex-ai-samples/blob/main/notebooks/official/prediction/custom_batch_prediction_feature_filter.ipynb\n",
    "\n",
    "# !gsutil cp gs://bp_mm_public_data/churn/churn_bp_outsample.jsonl  churn_bp_outsample.jsonl\n",
    "\n",
    "#https://cloud.google.com/vertex-ai/docs/samples/aiplatform-create-batch-prediction-job-bigquery-sample#aiplatform_create_batch_prediction_job_bigquery_sample-python\n",
    "# https://cloud.google.com/vertex-ai/docs/tabular-data/classification-regression/get-batch-predictions\n",
    "import numpy as np\n",
    "import pandas as pd\n",
    "from google.cloud import bigquery\n",
    "\n",
    "from datetime import date, timedelta, datetime # Date Functions\n",
    "import time"
   ]
  },
  {
   "cell_type": "code",
   "execution_count": 67,
   "id": "e77fcdac-b4fa-4c25-80af-785a134ef51b",
   "metadata": {},
   "outputs": [
    {
     "name": "stdout",
     "output_type": "stream",
     "text": [
      "2fiyraxp\n"
     ]
    }
   ],
   "source": [
    "import random\n",
    "import string\n",
    "# Generate a uuid of a specifed length(default=8)\n",
    "def generate_uuid(length: int = 8) -> str:\n",
    "    return \"\".join(random.choices(string.ascii_lowercase + string.digits, k=length))\n",
    "UUID = generate_uuid()\n",
    "print(UUID)"
   ]
  },
  {
   "cell_type": "code",
   "execution_count": 68,
   "id": "f0cc1f58-34e1-4aee-a319-e3b95dc3361e",
   "metadata": {},
   "outputs": [
    {
     "name": "stdout",
     "output_type": "stream",
     "text": [
      "<class 'pandas.core.frame.DataFrame'>\n",
      "RangeIndex: 5 entries, 0 to 4\n",
      "Data columns (total 11 columns):\n",
      " #   Column                     Non-Null Count  Dtype         \n",
      "---  ------                     --------------  -----         \n",
      " 0   id                         5 non-null      Int64         \n",
      " 1   severity_id                5 non-null      Int64         \n",
      " 2   severity_name              5 non-null      object        \n",
      " 3   sla                        5 non-null      object        \n",
      " 4   product_type               5 non-null      object        \n",
      " 5   brand                      5 non-null      object        \n",
      " 6   service_type               5 non-null      object        \n",
      " 7   incident_type              5 non-null      object        \n",
      " 8   open_to_close_hour         5 non-null      float64       \n",
      " 9   response_to_resolved_hour  5 non-null      float64       \n",
      " 10  imported_at                5 non-null      datetime64[ns]\n",
      "dtypes: Int64(2), datetime64[ns](1), float64(2), object(6)\n",
      "memory usage: 578.0+ bytes\n",
      "None\n"
     ]
    },
    {
     "data": {
      "text/html": [
       "<div>\n",
       "<style scoped>\n",
       "    .dataframe tbody tr th:only-of-type {\n",
       "        vertical-align: middle;\n",
       "    }\n",
       "\n",
       "    .dataframe tbody tr th {\n",
       "        vertical-align: top;\n",
       "    }\n",
       "\n",
       "    .dataframe thead th {\n",
       "        text-align: right;\n",
       "    }\n",
       "</style>\n",
       "<table border=\"1\" class=\"dataframe\">\n",
       "  <thead>\n",
       "    <tr style=\"text-align: right;\">\n",
       "      <th></th>\n",
       "      <th>id</th>\n",
       "      <th>severity_id</th>\n",
       "      <th>severity_name</th>\n",
       "      <th>sla</th>\n",
       "      <th>product_type</th>\n",
       "      <th>brand</th>\n",
       "      <th>service_type</th>\n",
       "      <th>incident_type</th>\n",
       "      <th>open_to_close_hour</th>\n",
       "      <th>response_to_resolved_hour</th>\n",
       "      <th>imported_at</th>\n",
       "    </tr>\n",
       "  </thead>\n",
       "  <tbody>\n",
       "    <tr>\n",
       "      <th>0</th>\n",
       "      <td>2452</td>\n",
       "      <td>2</td>\n",
       "      <td>Major</td>\n",
       "      <td>24x7 4Hrs Response Time</td>\n",
       "      <td>Server</td>\n",
       "      <td>HPE</td>\n",
       "      <td>Incident</td>\n",
       "      <td>Software</td>\n",
       "      <td>4.500000</td>\n",
       "      <td>4.0</td>\n",
       "      <td>2023-03-27 05:27:08.968019</td>\n",
       "    </tr>\n",
       "    <tr>\n",
       "      <th>1</th>\n",
       "      <td>2517</td>\n",
       "      <td>2</td>\n",
       "      <td>Major</td>\n",
       "      <td>24x7 4Hrs Resolution Time</td>\n",
       "      <td>Server</td>\n",
       "      <td>HPE</td>\n",
       "      <td>Incident</td>\n",
       "      <td>Memory Failure</td>\n",
       "      <td>6.166667</td>\n",
       "      <td>6.0</td>\n",
       "      <td>2023-03-27 05:27:08.968019</td>\n",
       "    </tr>\n",
       "    <tr>\n",
       "      <th>2</th>\n",
       "      <td>2519</td>\n",
       "      <td>2</td>\n",
       "      <td>Major</td>\n",
       "      <td>24x7 4Hrs Resolution Time</td>\n",
       "      <td>Server</td>\n",
       "      <td>HPE</td>\n",
       "      <td>Incident</td>\n",
       "      <td>Hard Disk Drive Failure</td>\n",
       "      <td>7.166667</td>\n",
       "      <td>7.0</td>\n",
       "      <td>2023-03-27 05:27:08.968019</td>\n",
       "    </tr>\n",
       "    <tr>\n",
       "      <th>3</th>\n",
       "      <td>2518</td>\n",
       "      <td>2</td>\n",
       "      <td>Major</td>\n",
       "      <td>24x7 4Hrs Resolution Time</td>\n",
       "      <td>Server</td>\n",
       "      <td>HPE</td>\n",
       "      <td>Incident</td>\n",
       "      <td>Hard Disk Drive Failure</td>\n",
       "      <td>7.166667</td>\n",
       "      <td>7.0</td>\n",
       "      <td>2023-03-27 05:27:08.968019</td>\n",
       "    </tr>\n",
       "    <tr>\n",
       "      <th>4</th>\n",
       "      <td>2520</td>\n",
       "      <td>2</td>\n",
       "      <td>Major</td>\n",
       "      <td>24x7 4Hrs Resolution Time</td>\n",
       "      <td>Server</td>\n",
       "      <td>HPE</td>\n",
       "      <td>Incident</td>\n",
       "      <td>Hard Disk Drive Failure</td>\n",
       "      <td>7.166667</td>\n",
       "      <td>7.0</td>\n",
       "      <td>2023-03-27 05:27:08.968019</td>\n",
       "    </tr>\n",
       "  </tbody>\n",
       "</table>\n",
       "</div>"
      ],
      "text/plain": [
       "     id  severity_id severity_name                        sla product_type  \\\n",
       "0  2452            2         Major    24x7 4Hrs Response Time       Server   \n",
       "1  2517            2         Major  24x7 4Hrs Resolution Time       Server   \n",
       "2  2519            2         Major  24x7 4Hrs Resolution Time       Server   \n",
       "3  2518            2         Major  24x7 4Hrs Resolution Time       Server   \n",
       "4  2520            2         Major  24x7 4Hrs Resolution Time       Server   \n",
       "\n",
       "  brand service_type            incident_type  open_to_close_hour  \\\n",
       "0   HPE     Incident                 Software            4.500000   \n",
       "1   HPE     Incident           Memory Failure            6.166667   \n",
       "2   HPE     Incident  Hard Disk Drive Failure            7.166667   \n",
       "3   HPE     Incident  Hard Disk Drive Failure            7.166667   \n",
       "4   HPE     Incident  Hard Disk Drive Failure            7.166667   \n",
       "\n",
       "   response_to_resolved_hour                imported_at  \n",
       "0                        4.0 2023-03-27 05:27:08.968019  \n",
       "1                        6.0 2023-03-27 05:27:08.968019  \n",
       "2                        7.0 2023-03-27 05:27:08.968019  \n",
       "3                        7.0 2023-03-27 05:27:08.968019  \n",
       "4                        7.0 2023-03-27 05:27:08.968019  "
      ]
     },
     "execution_count": 68,
     "metadata": {},
     "output_type": "execute_result"
    }
   ],
   "source": [
    "def load_data_bq(sql:str):\n",
    " client_bq = bigquery.Client()\n",
    " query_result=client_bq.query(sql)\n",
    " df_all=query_result.to_dataframe()\n",
    " return df_all\n",
    "\n",
    "df=load_data_bq(\"SELECT * FROM `pongthorn.SMartML.new_incident`  LIMIT 5\")\n",
    "print(df.info())\n",
    "df"
   ]
  },
  {
   "cell_type": "markdown",
   "id": "b594d182-580c-4bee-bd0d-b02fb97fcfd1",
   "metadata": {},
   "source": [
    "# Create batch prediction job"
   ]
  },
  {
   "cell_type": "code",
   "execution_count": 69,
   "id": "4cea0f51-805b-46bb-8e61-169bca03c11f",
   "metadata": {},
   "outputs": [],
   "source": [
    "from google.cloud.aiplatform_v1beta1.types import (\n",
    "    BatchDedicatedResources, BatchPredictionJob, GcsDestination, GcsSource,\n",
    "    MachineSpec, ModelMonitoringAlertConfig, ModelMonitoringConfig,\n",
    "    ModelMonitoringObjectiveConfig, ThresholdConfig)"
   ]
  },
  {
   "cell_type": "code",
   "execution_count": 71,
   "id": "e1e46459-2441-4978-8175-3ed327dfc005",
   "metadata": {},
   "outputs": [],
   "source": [
    "PROJECT_ID=\"pongthorn\"\n",
    "REGION=\"asia-southeast1\"\n",
    "MODEL_ID=\"2102389377610022912\"\n",
    "\n",
    "TABLE_ID=\"pongthorn.SMartML.new_incident\""
   ]
  },
  {
   "cell_type": "code",
   "execution_count": 72,
   "id": "57144d76-0a26-45c1-84c9-34f24aac9e02",
   "metadata": {},
   "outputs": [],
   "source": [
    "BATCH_JOB_NAME = f\"tf1_incident_batch_{UUID}\"\n",
    "MODEL_URI =  f'projects/{PROJECT_ID}/locations/{location}/models/{MODEL_ID}'\n",
    "INPUT_FORMAT = \"bigquery\"\n",
    "\n",
    "INPUT_URI = f\"bq://{TABLE_ID}\"\n",
    "OUTPUT_FORMAT = \"bigquery\"\n",
    "OUTPUT_URI = f\"bq://{PROJECT_ID}\"\n",
    "\n",
    "MACHINE_TYPE = \"n1-standard-2\"\n"
   ]
  },
  {
   "cell_type": "code",
   "execution_count": 73,
   "id": "025775f7-7d8f-4438-9f22-273263462bfb",
   "metadata": {},
   "outputs": [
    {
     "name": "stdout",
     "output_type": "stream",
     "text": [
      "['id', 'severity_id', 'severity_name', 'imported_at']\n",
      "['sla', 'product_type', 'brand', 'service_type', 'incident_type', 'open_to_close_hour', 'response_to_resolved_hour']\n"
     ]
    }
   ],
   "source": [
    "EXCLUDED_FIELDS = ['id','severity_id','severity_name','imported_at']\n",
    "INCLUDED_FIELDS= [ col  for col in df.columns.to_list() if col not in EXCLUDED_FIELDS ]\n",
    "print(EXCLUDED_FIELDS)\n",
    "print(INCLUDED_FIELDS)"
   ]
  },
  {
   "cell_type": "markdown",
   "id": "43a67e9a-e824-400b-a958-725c948df8b5",
   "metadata": {},
   "source": [
    "# Create JSON body requests"
   ]
  },
  {
   "cell_type": "code",
   "execution_count": 74,
   "id": "866db232-d020-4706-893e-ddd108662ca2",
   "metadata": {},
   "outputs": [],
   "source": [
    "\n",
    "import json\n",
    "\n",
    "request_with_excluded_fields = {\n",
    "    \"displayName\": f\"{BATCH_JOB_NAME}-excluded_fields\",\n",
    "    \"model\": MODEL_URI,\n",
    "    \"inputConfig\": {\n",
    "        \"instancesFormat\": INPUT_FORMAT,\n",
    "        \"bigquerySource\": {\"inputUri\": INPUT_URI},\n",
    "    },\n",
    "    \"outputConfig\": {\n",
    "        \"predictionsFormat\": OUTPUT_FORMAT,\n",
    "        \"bigqueryDestination\": {\"outputUri\": OUTPUT_URI},\n",
    "    },\n",
    "    \"dedicatedResources\": {\n",
    "        \"machineSpec\": {\n",
    "            \"machineType\": MACHINE_TYPE,\n",
    "        }\n",
    "    },\n",
    "    \"instanceConfig\": {\"excludedFields\": EXCLUDED_FIELDS},\n",
    "}\n",
    "\n",
    "with open(\"request_with_excluded_fields.json\", \"w\") as outfile:\n",
    "    json.dump(request_with_excluded_fields, outfile)\n",
    "     "
   ]
  },
  {
   "cell_type": "code",
   "execution_count": 75,
   "id": "054d1530-e402-44f6-bfd2-939645213d7f",
   "metadata": {},
   "outputs": [],
   "source": [
    "request_with_included_fields = {\n",
    "    \"displayName\": f\"{BATCH_JOB_NAME}-included_fields\",\n",
    "    \"model\": MODEL_URI,\n",
    "    \"inputConfig\": {\n",
    "        \"instancesFormat\": INPUT_FORMAT,\n",
    "        \"bigquerySource\": {\"inputUri\": INPUT_URI},\n",
    "    },\n",
    "    \"outputConfig\": {\n",
    "        \"predictionsFormat\": OUTPUT_FORMAT,\n",
    "        \"bigqueryDestination\": {\"outputUri\": OUTPUT_URI},\n",
    "    },\n",
    "    \"dedicatedResources\": {\n",
    "        \"machineSpec\": {\n",
    "            \"machineType\": MACHINE_TYPE,\n",
    "        }\n",
    "    },\n",
    "    \"instanceConfig\": {\"includedFields\": INCLUDED_FIELDS},\n",
    "}\n",
    "\n",
    "with open(\"request_with_included_fields.json\", \"w\") as outfile:\n",
    "    json.dump(request_with_included_fields, outfile)"
   ]
  },
  {
   "cell_type": "code",
   "execution_count": null,
   "id": "acaacb1f-b517-453f-acb5-10f93fe83739",
   "metadata": {},
   "outputs": [],
   "source": [
    "# !gcloud auth application-default print-access-token\n",
    "# ! curl \\\n",
    "#   -X POST \\\n",
    "#   -H \"Authorization: Bearer $(gcloud auth application-default print-access-token)\" \\\n",
    "#   -H \"Content-Type: application/json\" \\\n",
    "#   -d @request_with_excluded_fields.json \\\n",
    "#   https://{REGION}-aiplatform.googleapis.com/v1beta1/projects/{PROJECT_ID}/locations/{REGION}/batchPredictionJobs"
   ]
  },
  {
   "cell_type": "markdown",
   "id": "2d7c7505-4912-4a10-89b5-e653979d7507",
   "metadata": {},
   "source": [
    "# Send the requests"
   ]
  },
  {
   "cell_type": "code",
   "execution_count": 84,
   "id": "c449d14a-3821-4052-83f6-dbdd554d404b",
   "metadata": {},
   "outputs": [],
   "source": [
    "#https://cloud.google.com/vertex-ai/docs/samples/aiplatform-create-batch-prediction-job-bigquery-sample#aiplatform_create_batch_prediction_job_bigquery_sample-python"
   ]
  },
  {
   "cell_type": "code",
   "execution_count": 81,
   "id": "081ebf10-5bc9-4407-949d-08bce20cf609",
   "metadata": {},
   "outputs": [],
   "source": [
    "parent = f\"projects/{PROJECT_ID}/locations/{REGION}\"\n",
    "response = client.create_batch_prediction_job(\n",
    "    parent=parent, batch_prediction_job=batch_prediction_job\n",
    ")\n",
    "print(\"response:\", response)"
   ]
  },
  {
   "cell_type": "code",
   "execution_count": 83,
   "id": "43936b11-e13c-4ca6-8620-a8da6d5a91a2",
   "metadata": {},
   "outputs": [],
   "source": []
  },
  {
   "cell_type": "code",
   "execution_count": null,
   "id": "c2320799-d18f-4b20-8301-3c93df70dab4",
   "metadata": {},
   "outputs": [],
   "source": []
  }
 ],
 "metadata": {
  "kernelspec": {
   "display_name": "Python 3 (ipykernel)",
   "language": "python",
   "name": "python3"
  },
  "language_info": {
   "codemirror_mode": {
    "name": "ipython",
    "version": 3
   },
   "file_extension": ".py",
   "mimetype": "text/x-python",
   "name": "python",
   "nbconvert_exporter": "python",
   "pygments_lexer": "ipython3",
   "version": "3.9.16"
  }
 },
 "nbformat": 4,
 "nbformat_minor": 5
}
