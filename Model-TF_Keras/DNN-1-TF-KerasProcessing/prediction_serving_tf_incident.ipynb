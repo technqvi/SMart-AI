{
 "cells": [
  {
   "cell_type": "code",
   "execution_count": 35,
   "id": "50d3f8fc-de52-4c03-b3da-46145fc5adaf",
   "metadata": {},
   "outputs": [
    {
     "name": "stdout",
     "output_type": "stream",
     "text": [
      "2.11.0\n"
     ]
    }
   ],
   "source": [
    "import tensorflow as tf\n",
    "\n",
    "import pandas as pd\n",
    "\n",
    "import json\n",
    "import os\n",
    "from datetime import date,datetime,timedelta,timezone\n",
    "\n",
    "from google.cloud import bigquery\n",
    "from google.oauth2 import service_account\n",
    "from google.cloud.exceptions import NotFound\n",
    "from google.api_core.exceptions import BadRequest\n",
    "\n",
    "print(tf.__version__)"
   ]
  },
  {
   "cell_type": "code",
   "execution_count": 36,
   "id": "b9e4719a-8535-4db4-b01f-806edace1dfb",
   "metadata": {},
   "outputs": [],
   "source": [
    "#import functions_framework\n",
    "# @functions_framework.http\n",
    "# def predict_incident_severity_by_tf(request):"
   ]
  },
  {
   "cell_type": "code",
   "execution_count": 37,
   "id": "0ca5511f-5570-4f5a-bcd5-ad3ec26129b9",
   "metadata": {},
   "outputs": [
    {
     "name": "stdout",
     "output_type": "stream",
     "text": [
      "Prediction From = \n",
      "All prediction = 0\n"
     ]
    }
   ],
   "source": [
    "PROJECT_ID='smart-data-ml'\n",
    "dataset_id='SMartML'\n",
    "#PATH_FOLDER_ARTIFACTS=\"gs://demo-tuned-tf-incident-pongthorn/model_tuned\"\n",
    "PATH_FOLDER_ARTIFACTS=\"model\" \n",
    "\n",
    "# client = bigquery.Client(PROJECT_ID)\n",
    "\n",
    "credentials = service_account.Credentials.from_service_account_file(r'C:\\Windows\\smart-data-ml-91b6f6204773.json')\n",
    "client = bigquery.Client(credentials=credentials, project=PROJECT_ID)\n",
    "\n",
    "predict_from_date=os.environ.get('predict_from_date', '')\n",
    "all_prediction=os.environ.get('all_prediction', '0')  # 1 is all , 0 is 1 day\n",
    "\n",
    "print(f\"Prediction From = {predict_from_date}\")\n",
    "print(f\"All prediction = {all_prediction}\")\n",
    "\n",
    "# predict_from_date='2023-03-01'\n",
    "\n",
    "# map_sevirity_to_class={'Cosmatic': 0, 'Minor': 1, 'Major': 2, 'Critical': 3}"
   ]
  },
  {
   "cell_type": "code",
   "execution_count": 38,
   "id": "fe374606-a5e7-4850-b91b-b14a6dbdcf54",
   "metadata": {},
   "outputs": [],
   "source": [
    "table_id = f\"{PROJECT_ID}.{dataset_id}.new_incident\"\n",
    "predictResult_table_id=f\"{PROJECT_ID}.{dataset_id}.new_result_prediction_incident\"\n",
    "unUsedColtoPredict=['severity','id','severity_id','severity_name','imported_at']"
   ]
  },
  {
   "cell_type": "code",
   "execution_count": 39,
   "id": "a87c14ef-f2bc-4bdd-aeae-e333350a89b7",
   "metadata": {},
   "outputs": [
    {
     "name": "stdout",
     "output_type": "stream",
     "text": [
      "{'Cosmetic': 0, 'Minor': 1, 'Major': 2, 'Critical': 3}\n"
     ]
    }
   ],
   "source": [
    "mapping_file=\"incident_severity_to_class.json\"\n",
    "with open(mapping_file, 'r') as json_file:\n",
    "     map_sevirity_to_class= json.load(json_file)\n",
    "\n",
    "print(map_sevirity_to_class)"
   ]
  },
  {
   "cell_type": "code",
   "execution_count": 40,
   "id": "f6097b60-9950-4963-b1e4-2edecb4b132e",
   "metadata": {},
   "outputs": [
    {
     "name": "stdout",
     "output_type": "stream",
     "text": [
      "2023-07-19 20:09:04.125883+00:00\n"
     ]
    }
   ],
   "source": [
    "# Get today's date\n",
    "prediction_datetime=datetime.now(timezone.utc)\n",
    "today_str=prediction_datetime.strftime(\"%Y-%m-%d\")\n",
    "today=datetime.strptime(today_str,\"%Y-%m-%d\")\n",
    "print(prediction_datetime)"
   ]
  },
  {
   "cell_type": "code",
   "execution_count": 41,
   "id": "5c09568e-df8f-4715-adb8-8f94e46802dd",
   "metadata": {},
   "outputs": [
    {
     "name": "stdout",
     "output_type": "stream",
     "text": [
      "Get data between 2023-07-18 to 2023-07-19 to predict sevirity level\n"
     ]
    }
   ],
   "source": [
    "# Yesterday date\n",
    "if predict_from_date=='':\n",
    " yesterday = today - timedelta(days = 1)\n",
    " str_yesterday=yesterday.strftime('%Y-%m-%d')\n",
    "else:\n",
    " str_yesterday=predict_from_date\n",
    "\n",
    "str_today=today.strftime('%Y-%m-%d')\n",
    "\n",
    "print(f\"Get data between {str_yesterday} to {str_today} to predict sevirity level\")"
   ]
  },
  {
   "cell_type": "code",
   "execution_count": 42,
   "id": "4a9808f7-b785-430b-a34c-00686a10cdc4",
   "metadata": {},
   "outputs": [],
   "source": [
    "def load_data_bq(sql:str):\n",
    " \n",
    " query_result=client.query(sql)\n",
    " df=query_result.to_dataframe()\n",
    " return df"
   ]
  },
  {
   "cell_type": "code",
   "execution_count": 43,
   "id": "6c1718f0-3076-406c-81fd-178248304117",
   "metadata": {},
   "outputs": [
    {
     "name": "stdout",
     "output_type": "stream",
     "text": [
      "\n",
      "    SELECT *  FROM `smart-data-ml.SMartML.new_incident` \n",
      "     WHERE DATE(imported_at) >= '2023-07-18' and DATE(imported_at) < '2023-07-19' \n",
      "     order by imported_at\n",
      "    \n"
     ]
    }
   ],
   "source": [
    "if int(all_prediction)==0:\n",
    "    sql=f\"\"\"\n",
    "    SELECT *  FROM `{table_id}` \n",
    "     WHERE DATE(imported_at) >= '{str_yesterday}' and DATE(imported_at) < '{str_today}' \n",
    "     order by imported_at\n",
    "    \"\"\"\n",
    "else:\n",
    "    sql=f\"\"\"\n",
    "    SELECT *  FROM `{table_id}` \n",
    "     order by imported_at\n",
    "    \"\"\"\n",
    "\n",
    "print(sql)"
   ]
  },
  {
   "cell_type": "code",
   "execution_count": 14,
   "id": "a4a03ba4-3ed0-4fa4-b376-3898c271ccb4",
   "metadata": {},
   "outputs": [
    {
     "name": "stdout",
     "output_type": "stream",
     "text": [
      "<class 'pandas.core.frame.DataFrame'>\n",
      "RangeIndex: 37 entries, 0 to 36\n",
      "Data columns (total 12 columns):\n",
      " #   Column                     Non-Null Count  Dtype         \n",
      "---  ------                     --------------  -----         \n",
      " 0   id                         37 non-null     Int64         \n",
      " 1   severity_id                37 non-null     Int64         \n",
      " 2   severity                   37 non-null     int64         \n",
      " 3   severity_name              37 non-null     object        \n",
      " 4   sla                        37 non-null     object        \n",
      " 5   product_type               37 non-null     object        \n",
      " 6   brand                      37 non-null     object        \n",
      " 7   service_type               37 non-null     object        \n",
      " 8   incident_type              37 non-null     object        \n",
      " 9   open_to_close_hour         37 non-null     float64       \n",
      " 10  response_to_resolved_hour  37 non-null     float64       \n",
      " 11  imported_at                37 non-null     datetime64[ns]\n",
      "dtypes: Int64(2), datetime64[ns](1), float64(2), int64(1), object(6)\n",
      "memory usage: 3.7+ KB\n",
      "None\n"
     ]
    }
   ],
   "source": [
    "\n",
    "#LIMIT 2\n",
    "dfNewData=load_data_bq(sql)\n",
    "dfNewData=dfNewData.drop_duplicates(subset=['id'],keep='last')\n",
    "\n",
    "dfNewData.insert(2, 'severity', dfNewData['severity_name'].map(map_sevirity_to_class),True)\n",
    "\n",
    "\n",
    "print(dfNewData.info())\n",
    "# print(dfNewData)\n",
    "\n",
    "if len(dfNewData)==0:\n",
    "    print(\"No Data To predict\")\n",
    "    quit()\n",
    "    #return \"No Data To predict\"\n",
    "    "
   ]
  },
  {
   "cell_type": "code",
   "execution_count": 15,
   "id": "ece7849d-e583-436d-86be-3ea189fe0b03",
   "metadata": {},
   "outputs": [
    {
     "name": "stdout",
     "output_type": "stream",
     "text": [
      "Load from model\n"
     ]
    }
   ],
   "source": [
    "try:\n",
    "    model = tf.keras.models.load_model(PATH_FOLDER_ARTIFACTS)    \n",
    "    print(f\"Load from {PATH_FOLDER_ARTIFACTS}\")\n",
    "    # print(model.summary())\n",
    "except Exception as error:\n",
    "    \n",
    "  print(str(error))\n",
    "  raise error\n"
   ]
  },
  {
   "cell_type": "code",
   "execution_count": 16,
   "id": "687618c3-7fdb-4294-bfc4-ce0783cc8212",
   "metadata": {},
   "outputs": [
    {
     "name": "stdout",
     "output_type": "stream",
     "text": [
      "2856 - 2(Major)\n",
      "1/1 [==============================] - 0s 421ms/step\n",
      "0.0812989,0.6865528,0.2217652,0.010383062\n",
      "[[20.349737 37.274967 23.41869  18.956604]] %   as 1\n",
      "======================================================================================\n",
      "3171 - 2(Major)\n",
      "1/1 [==============================] - 0s 44ms/step\n",
      "0.0062230583,0.07276667,0.8138062,0.10720422\n",
      "[[18.458546 19.728632 41.39295  20.419874]] %   as 2\n",
      "======================================================================================\n",
      "3161 - 2(Major)\n",
      "1/1 [==============================] - 0s 46ms/step\n",
      "0.010316226,0.14508697,0.79600173,0.048595004\n",
      "[[18.597021 21.280092 40.800194 19.322691]] %   as 2\n",
      "======================================================================================\n",
      "3168 - 2(Major)\n",
      "1/1 [==============================] - 0s 46ms/step\n",
      "0.0020216804,0.02833116,0.96639663,0.0032505246\n",
      "[[17.695871 18.167618 46.418877 17.71763 ]] %   as 2\n",
      "======================================================================================\n",
      "3182 - 2(Major)\n",
      "1/1 [==============================] - 0s 47ms/step\n",
      "0.015951023,0.49201888,0.4240149,0.06801524\n",
      "[[19.353296 31.153622 29.105482 20.3876  ]] %   as 1\n",
      "======================================================================================\n",
      "3176 - 2(Major)\n",
      "1/1 [==============================] - 0s 52ms/step\n",
      "0.0005379665,0.13916841,0.8547235,0.0055700354\n",
      "[[18.17123  20.873283 42.69258  18.262901]] %   as 2\n",
      "======================================================================================\n",
      "3048 - 2(Major)\n",
      "1/1 [==============================] - 0s 48ms/step\n",
      "0.0017556746,0.2425577,0.69338524,0.06230141\n",
      "[[18.75591  23.862568 37.45494  19.926584]] %   as 2\n",
      "======================================================================================\n",
      "3063 - 2(Major)\n",
      "1/1 [==============================] - 0s 54ms/step\n",
      "0.017539889,0.1856397,0.7515269,0.045293447\n",
      "[[18.887285 22.34469  39.34921  19.418816]] %   as 2\n",
      "======================================================================================\n",
      "3193 - 2(Major)\n",
      "1/1 [==============================] - 0s 49ms/step\n",
      "0.005608277,0.6982204,0.17217277,0.12399854\n",
      "[[18.847109 37.674057 22.262959 21.215878]] %   as 1\n",
      "======================================================================================\n",
      "3148 - 2(Major)\n",
      "1/1 [==============================] - 0s 59ms/step\n",
      "0.0011672652,0.094923005,0.8823704,0.02153933\n",
      "[[18.07444  19.851004 43.628124 18.44643 ]] %   as 2\n",
      "======================================================================================\n",
      "3194 - 2(Major)\n",
      "1/1 [==============================] - 0s 58ms/step\n",
      "0.011608786,0.42849433,0.54490453,0.014992322\n",
      "[[19.138174 29.03699  32.6218   19.203037]] %   as 2\n",
      "======================================================================================\n",
      "3178 - 2(Major)\n",
      "1/1 [==============================] - 0s 48ms/step\n",
      "0.0022448073,0.24333732,0.7232188,0.031199131\n",
      "[[18.66211  23.750122 38.377415 19.210356]] %   as 2\n",
      "======================================================================================\n",
      "3186 - 2(Major)\n",
      "1/1 [==============================] - 0s 58ms/step\n",
      "0.0018283823,0.037663907,0.9566978,0.0038098712\n",
      "[[17.740562 18.387833 46.095856 17.77575 ]] %   as 2\n",
      "======================================================================================\n",
      "3195 - 2(Major)\n",
      "1/1 [==============================] - 0s 61ms/step\n",
      "0.00847826,0.82374346,0.15831997,0.009458313\n",
      "[[18.441998 41.674763 21.423153 18.46008 ]] %   as 1\n",
      "======================================================================================\n",
      "3198 - 2(Major)\n",
      "1/1 [==============================] - 0s 55ms/step\n",
      "0.010716343,0.74850744,0.23285186,0.007924345\n",
      "[[18.736193 39.183205 23.396645 18.683954]] %   as 1\n",
      "======================================================================================\n",
      "3196 - 1(Minor)\n",
      "1/1 [==============================] - 0s 62ms/step\n",
      "0.036253322,0.7862671,0.1737506,0.0037290861\n",
      "[[19.111591 40.459797 21.928612 18.500002]] %   as 1\n",
      "======================================================================================\n",
      "3188 - 1(Minor)\n",
      "1/1 [==============================] - 0s 60ms/step\n",
      "0.038240463,0.47609243,0.47758818,0.008078958\n",
      "[[19.71858  30.551487 30.59722  19.132719]] %   as 2\n",
      "======================================================================================\n",
      "3187 - 1(Minor)\n",
      "1/1 [==============================] - 0s 52ms/step\n",
      "0.037096284,0.443517,0.51178765,0.0075989994\n",
      "[[19.685482 29.556456 31.644768 19.113295]] %   as 2\n",
      "======================================================================================\n",
      "3169 - 1(Minor)\n",
      "1/1 [==============================] - 0s 56ms/step\n",
      "0.0073037213,0.8541888,0.1362754,0.0022320256\n",
      "[[18.298363 42.678562 20.817278 18.205795]] %   as 1\n",
      "======================================================================================\n",
      "3132 - 1(Minor)\n",
      "1/1 [==============================] - 0s 65ms/step\n",
      "0.004629348,0.12209408,0.87121433,0.0020623351\n",
      "[[18.179005 20.444872 43.24373  18.132397]] %   as 2\n",
      "======================================================================================\n",
      "3154 - 1(Minor)\n",
      "1/1 [==============================] - 0s 62ms/step\n",
      "0.0864818,0.54066,0.35463974,0.018218525\n",
      "[[20.762194 32.697933 27.14768  19.392189]] %   as 1\n",
      "======================================================================================\n",
      "3174 - 1(Minor)\n",
      "1/1 [==============================] - 0s 53ms/step\n",
      "0.0025273913,0.2377919,0.72960633,0.030074356\n",
      "[[18.649057 23.595598 38.585423 19.169924]] %   as 2\n",
      "======================================================================================\n",
      "3181 - 1(Minor)\n",
      "1/1 [==============================] - 0s 52ms/step\n",
      "0.002244948,0.24333997,0.7232189,0.031196184\n",
      "[[18.66211  23.750185 38.377415 19.210295]] %   as 2\n",
      "======================================================================================\n",
      "3180 - 1(Minor)\n",
      "1/1 [==============================] - 0s 51ms/step\n",
      "0.0022449612,0.24333428,0.7232242,0.03119654\n",
      "[[18.662094 23.750029 38.37759  19.210287]] %   as 2\n",
      "======================================================================================\n",
      "3179 - 1(Minor)\n",
      "1/1 [==============================] - 0s 61ms/step\n",
      "0.0022453456,0.24316527,0.72338223,0.03120715\n",
      "[[18.66168  23.745478 38.382786 19.210056]] %   as 2\n",
      "======================================================================================\n",
      "3065 - 1(Minor)\n",
      "1/1 [==============================] - 0s 55ms/step\n",
      "0.0023431284,0.06599429,0.9255682,0.0060943887\n",
      "[[17.899094 19.075432 45.059113 17.966364]] %   as 2\n",
      "======================================================================================\n",
      "2512 - 1(Minor)\n",
      "1/1 [==============================] - 0s 62ms/step\n",
      "0.007631481,0.21670587,0.7752791,0.00038360615\n",
      "[[18.587337 22.909576 40.04998  18.453106]] %   as 2\n",
      "======================================================================================\n",
      "3184 - 1(Minor)\n",
      "1/1 [==============================] - 0s 64ms/step\n",
      "0.0001848,0.9897775,0.009569923,0.00046771413\n",
      "[[17.54432  47.19665  17.70975  17.549284]] %   as 1\n",
      "======================================================================================\n",
      "3165 - 1(Minor)\n",
      "1/1 [==============================] - 0s 64ms/step\n",
      "0.00018406656,0.9898078,0.009541364,0.00046681092\n",
      "[[17.54415  47.19766  17.709085 17.54911 ]] %   as 1\n",
      "======================================================================================\n",
      "2409 - 0(Cosmetic)\n",
      "1/1 [==============================] - 0s 55ms/step\n",
      "0.34125376,0.65420604,0.0044835876,5.6623612e-05\n",
      "[[26.368195 36.057354 18.828814 18.745644]] %   as 1\n",
      "======================================================================================\n",
      "2966 - 0(Cosmetic)\n",
      "1/1 [==============================] - 0s 55ms/step\n",
      "0.31863767,0.62134737,0.059424587,0.0005903849\n",
      "[[25.955496 35.131325 20.028782 18.8844  ]] %   as 1\n",
      "======================================================================================\n",
      "3172 - 0(Cosmetic)\n",
      "1/1 [==============================] - 0s 56ms/step\n",
      "0.90383136,0.08075495,0.015000119,0.00041353487\n",
      "[[44.33809  19.467915 18.228985 17.965015]] %   as 0\n",
      "======================================================================================\n",
      "3192 - 0(Cosmetic)\n",
      "1/1 [==============================] - 0s 53ms/step\n",
      "0.090875365,0.42360073,0.48352486,0.00199908\n",
      "[[20.874115 29.11447  30.912462 19.098955]] %   as 2\n",
      "======================================================================================\n",
      "3173 - 0(Cosmetic)\n",
      "1/1 [==============================] - 0s 49ms/step\n",
      "0.09100139,0.4231022,0.48389706,0.001999341\n",
      "[[20.876825 29.100069 30.924086 19.099031]] %   as 2\n",
      "======================================================================================\n",
      "3191 - 0(Cosmetic)\n",
      "1/1 [==============================] - 0s 52ms/step\n",
      "0.99195427,0.0044711092,0.0033345073,0.00024014691\n",
      "[[47.26918  17.608387 17.588387 17.534044]] %   as 0\n",
      "======================================================================================\n",
      "3190 - 0(Cosmetic)\n",
      "1/1 [==============================] - 0s 45ms/step\n",
      "0.9921293,0.0043363757,0.003299134,0.00023514658\n",
      "[[47.274998 17.6051   17.586847 17.533045]] %   as 0\n",
      "======================================================================================\n",
      "3189 - 0(Cosmetic)\n",
      "1/1 [==============================] - 0s 63ms/step\n",
      "0.99211794,0.004346768,0.0033000277,0.00023527062\n",
      "[[47.274624 17.605345 17.586926 17.533108]] %   as 0\n",
      "======================================================================================\n"
     ]
    }
   ],
   "source": [
    "pdPrediction=pd.DataFrame(columns=['_id','predict_severity','prob_severity'])\n",
    "\n",
    "for  row_dict in dfNewData.to_dict(orient=\"records\"):\n",
    "      incident_id=row_dict['id']\n",
    "      print(f\"{incident_id} - {row_dict['severity']}({row_dict['severity_name']})\") \n",
    "      for key_removed in unUsedColtoPredict:\n",
    "       row_dict.pop(key_removed)\n",
    "      # print(row_dict)  \n",
    "\n",
    "      input_dict = {name: tf.convert_to_tensor([value]) for name, value in row_dict.items()}\n",
    "\n",
    "\n",
    "      predictionResult = model.predict(input_dict)\n",
    "      result_str=','.join([ str(prob) for prob in predictionResult[0]])  \n",
    "      print(result_str)   \n",
    "\n",
    "      prob = tf.nn.softmax(predictionResult)\n",
    "      prob_pct=(100 * prob)  \n",
    "      _class = tf.argmax(predictionResult,-1).numpy()[0]\n",
    "      \n",
    "      dictPrediction={'_id':incident_id, 'predict_severity':_class,'prob_severity':result_str} \n",
    "      pdPrediction =pd.concat([pdPrediction,pd.DataFrame.from_dict([dictPrediction])] )\n",
    "\n",
    "      print(f\"{prob_pct} %   as {_class}\")     \n",
    "      print(\"======================================================================================\")\n",
    "            \n",
    "dfPredictData=pd.merge(dfNewData,pdPrediction,how='inner',left_on='id',right_on='_id')\n",
    "dfPredictData=dfPredictData.drop(columns=['_id'])\n",
    "dfPredictData['predict_severity']=dfPredictData['predict_severity'].astype('int')\n",
    "dfPredictData=dfPredictData[['id','prob_severity','predict_severity','severity']]\n",
    "dfPredictData['prediction_item_date']= datetime.strptime(str_yesterday, '%Y-%m-%d')\n",
    "dfPredictData['prediction_datetime']=prediction_datetime"
   ]
  },
  {
   "cell_type": "code",
   "execution_count": 17,
   "id": "3488b1e9-b0df-4c1c-b834-3006c7809aed",
   "metadata": {},
   "outputs": [
    {
     "name": "stdout",
     "output_type": "stream",
     "text": [
      "<class 'pandas.core.frame.DataFrame'>\n",
      "RangeIndex: 37 entries, 0 to 36\n",
      "Data columns (total 6 columns):\n",
      " #   Column                Non-Null Count  Dtype         \n",
      "---  ------                --------------  -----         \n",
      " 0   id                    37 non-null     object        \n",
      " 1   prob_severity         37 non-null     object        \n",
      " 2   predict_severity      37 non-null     int32         \n",
      " 3   severity              37 non-null     int64         \n",
      " 4   prediction_item_date  37 non-null     datetime64[ns]\n",
      " 5   prediction_datetime   37 non-null     datetime64[ns]\n",
      "dtypes: datetime64[ns](2), int32(1), int64(1), object(2)\n",
      "memory usage: 1.7+ KB\n",
      "None\n",
      "      id                                      prob_severity  predict_severity  \\\n",
      "0   2856          0.0812989,0.6865528,0.2217652,0.010383062                 1   \n",
      "1   3171       0.0062230583,0.07276667,0.8138062,0.10720422                 2   \n",
      "2   3161      0.010316226,0.14508697,0.79600173,0.048595004                 2   \n",
      "3   3168    0.0020216804,0.02833116,0.96639663,0.0032505246                 2   \n",
      "4   3182        0.015951023,0.49201888,0.4240149,0.06801524                 1   \n",
      "5   3176     0.0005379665,0.13916841,0.8547235,0.0055700354                 2   \n",
      "6   3048       0.0017556746,0.2425577,0.69338524,0.06230141                 2   \n",
      "7   3063        0.017539889,0.1856397,0.7515269,0.045293447                 2   \n",
      "8   3193        0.005608277,0.6982204,0.17217277,0.12399854                 1   \n",
      "9   3148      0.0011672652,0.094923005,0.8823704,0.02153933                 2   \n",
      "10  3194      0.011608786,0.42849433,0.54490453,0.014992322                 2   \n",
      "11  3178      0.0022448073,0.24333732,0.7232188,0.031199131                 2   \n",
      "12  3186    0.0018283823,0.037663907,0.9566978,0.0038098712                 2   \n",
      "13  3195       0.00847826,0.82374346,0.15831997,0.009458313                 1   \n",
      "14  3198      0.010716343,0.74850744,0.23285186,0.007924345                 1   \n",
      "15  3196       0.036253322,0.7862671,0.1737506,0.0037290861                 1   \n",
      "16  3188      0.038240463,0.47609243,0.47758818,0.008078958                 2   \n",
      "17  3187       0.037096284,0.443517,0.51178765,0.0075989994                 2   \n",
      "18  3169      0.0073037213,0.8541888,0.1362754,0.0022320256                 1   \n",
      "19  3132     0.004629348,0.12209408,0.87121433,0.0020623351                 2   \n",
      "20  3154           0.0864818,0.54066,0.35463974,0.018218525                 1   \n",
      "21  3174      0.0025273913,0.2377919,0.72960633,0.030074356                 2   \n",
      "22  3181       0.002244948,0.24333997,0.7232189,0.031196184                 2   \n",
      "23  3180       0.0022449612,0.24333428,0.7232242,0.03119654                 2   \n",
      "24  3179      0.0022453456,0.24316527,0.72338223,0.03120715                 2   \n",
      "25  3065     0.0023431284,0.06599429,0.9255682,0.0060943887                 2   \n",
      "26  2512     0.007631481,0.21670587,0.7752791,0.00038360615                 2   \n",
      "27  3184      0.0001848,0.9897775,0.009569923,0.00046771413                 1   \n",
      "28  3165  0.00018406656,0.9898078,0.009541364,0.00046681092                 1   \n",
      "29  2409   0.34125376,0.65420604,0.0044835876,5.6623612e-05                 1   \n",
      "30  2966     0.31863767,0.62134737,0.059424587,0.0005903849                 1   \n",
      "31  3172    0.90383136,0.08075495,0.015000119,0.00041353487                 0   \n",
      "32  3192       0.090875365,0.42360073,0.48352486,0.00199908                 2   \n",
      "33  3173        0.09100139,0.4231022,0.48389706,0.001999341                 2   \n",
      "34  3191  0.99195427,0.0044711092,0.0033345073,0.0002401...                 0   \n",
      "35  3190   0.9921293,0.0043363757,0.003299134,0.00023514658                 0   \n",
      "36  3189  0.99211794,0.004346768,0.0033000277,0.00023527062                 0   \n",
      "\n",
      "    severity prediction_item_date        prediction_datetime  \n",
      "0          2           2023-07-19 2023-07-20 03:02:39.522521  \n",
      "1          2           2023-07-19 2023-07-20 03:02:39.522521  \n",
      "2          2           2023-07-19 2023-07-20 03:02:39.522521  \n",
      "3          2           2023-07-19 2023-07-20 03:02:39.522521  \n",
      "4          2           2023-07-19 2023-07-20 03:02:39.522521  \n",
      "5          2           2023-07-19 2023-07-20 03:02:39.522521  \n",
      "6          2           2023-07-19 2023-07-20 03:02:39.522521  \n",
      "7          2           2023-07-19 2023-07-20 03:02:39.522521  \n",
      "8          2           2023-07-19 2023-07-20 03:02:39.522521  \n",
      "9          2           2023-07-19 2023-07-20 03:02:39.522521  \n",
      "10         2           2023-07-19 2023-07-20 03:02:39.522521  \n",
      "11         2           2023-07-19 2023-07-20 03:02:39.522521  \n",
      "12         2           2023-07-19 2023-07-20 03:02:39.522521  \n",
      "13         2           2023-07-19 2023-07-20 03:02:39.522521  \n",
      "14         2           2023-07-19 2023-07-20 03:02:39.522521  \n",
      "15         1           2023-07-19 2023-07-20 03:02:39.522521  \n",
      "16         1           2023-07-19 2023-07-20 03:02:39.522521  \n",
      "17         1           2023-07-19 2023-07-20 03:02:39.522521  \n",
      "18         1           2023-07-19 2023-07-20 03:02:39.522521  \n",
      "19         1           2023-07-19 2023-07-20 03:02:39.522521  \n",
      "20         1           2023-07-19 2023-07-20 03:02:39.522521  \n",
      "21         1           2023-07-19 2023-07-20 03:02:39.522521  \n",
      "22         1           2023-07-19 2023-07-20 03:02:39.522521  \n",
      "23         1           2023-07-19 2023-07-20 03:02:39.522521  \n",
      "24         1           2023-07-19 2023-07-20 03:02:39.522521  \n",
      "25         1           2023-07-19 2023-07-20 03:02:39.522521  \n",
      "26         1           2023-07-19 2023-07-20 03:02:39.522521  \n",
      "27         1           2023-07-19 2023-07-20 03:02:39.522521  \n",
      "28         1           2023-07-19 2023-07-20 03:02:39.522521  \n",
      "29         0           2023-07-19 2023-07-20 03:02:39.522521  \n",
      "30         0           2023-07-19 2023-07-20 03:02:39.522521  \n",
      "31         0           2023-07-19 2023-07-20 03:02:39.522521  \n",
      "32         0           2023-07-19 2023-07-20 03:02:39.522521  \n",
      "33         0           2023-07-19 2023-07-20 03:02:39.522521  \n",
      "34         0           2023-07-19 2023-07-20 03:02:39.522521  \n",
      "35         0           2023-07-19 2023-07-20 03:02:39.522521  \n",
      "36         0           2023-07-19 2023-07-20 03:02:39.522521  \n"
     ]
    }
   ],
   "source": [
    "print(dfPredictData.info())\n",
    "print(dfPredictData)"
   ]
  },
  {
   "cell_type": "code",
   "execution_count": 23,
   "id": "ec2119b1-a353-48fd-91e2-6203367758c7",
   "metadata": {},
   "outputs": [
    {
     "name": "stdout",
     "output_type": "stream",
     "text": [
      "Predict Result Table pongthorn.DemoSMartDW.new_result_prediction_incident already exists.\n"
     ]
    }
   ],
   "source": [
    "#https://cloud.google.com/bigquery/docs/samples/bigquery-create-table#bigquery_create_table-python\n",
    "\n",
    "try:\n",
    "    client.get_table(predictResult_table_id)  # Make an API request.\n",
    "    print(\"Predict Result Table {} already exists.\".format(predictResult_table_id))\n",
    "except Exception as ex:\n",
    "    schema = [\n",
    "    bigquery.SchemaField(\"id\", \"INTEGER\", mode=\"REQUIRED\"),\n",
    "    bigquery.SchemaField(\"prob_severity\", \"STRING\", mode=\"REQUIRED\"),\n",
    "    bigquery.SchemaField(\"predict_severity\", \"INTEGER\", mode=\"REQUIRED\"),\n",
    "    bigquery.SchemaField(\"severity\", \"INTEGER\", mode=\"REQUIRED\"),    \n",
    "    bigquery.SchemaField(\"prediction_item_date\", \"DATETIME\", mode=\"REQUIRED\"),    \n",
    "    bigquery.SchemaField(\"prediction_datetime\", \"DATETIME\", mode=\"REQUIRED\") \n",
    "    ]\n",
    "\n",
    "    table = bigquery.Table(predictResult_table_id,schema=schema)\n",
    "    table.time_partitioning = bigquery.TimePartitioning(\n",
    "    type_=bigquery.TimePartitioningType.DAY,field=\"prediction_item_date\")\n",
    "    \n",
    "    table = client.create_table(table)  # Make an API request.\n",
    "    \n",
    "    print(\n",
    "        \"Created table {}.{}.{}\".format(table.project, table.dataset_id, table.table_id)\n",
    "    )"
   ]
  },
  {
   "cell_type": "code",
   "execution_count": 24,
   "id": "43baaa51-ffc8-451f-ba8d-d9d3003256da",
   "metadata": {},
   "outputs": [
    {
     "name": "stdout",
     "output_type": "stream",
     "text": [
      "Total Prediction ML  48 Imported bigquery successfully\n"
     ]
    }
   ],
   "source": [
    "def loadDataFrameToBQ():\n",
    "    try:\n",
    "        job_config = bigquery.LoadJobConfig(\n",
    "            write_disposition=\"WRITE_APPEND\",\n",
    "        )\n",
    "\n",
    "        job = client.load_table_from_dataframe(\n",
    "            dfPredictData, predictResult_table_id, job_config=job_config\n",
    "        )\n",
    "        job.result()  # Wait for the job to complete.\n",
    "        print(\"Total Prediction ML \", len(dfPredictData), \"Imported bigquery successfully\")\n",
    "\n",
    "    except BadRequest as e:\n",
    "        print(\"Bigquery Error\\n\")\n",
    "        for e in job.errors:\n",
    "            print('ERROR: {}'.format(e['message']))\n",
    "\n",
    "try:\n",
    "    loadDataFrameToBQ()\n",
    "except Exception as ex:\n",
    "    raise ex"
   ]
  },
  {
   "cell_type": "code",
   "execution_count": null,
   "id": "30050fa4-e771-4c93-884e-fe096202c928",
   "metadata": {},
   "outputs": [],
   "source": []
  },
  {
   "cell_type": "code",
   "execution_count": null,
   "id": "d100f629-1e0c-4c2d-8c10-a391334b5d0f",
   "metadata": {},
   "outputs": [],
   "source": []
  },
  {
   "cell_type": "code",
   "execution_count": null,
   "id": "f8bbed47-52ee-4a09-bed3-12c70cf03f96",
   "metadata": {},
   "outputs": [],
   "source": [
    "# return 'ok'"
   ]
  },
  {
   "cell_type": "code",
   "execution_count": null,
   "id": "f842295f-2a5a-4ee7-8abb-fa0fdd06a96b",
   "metadata": {},
   "outputs": [],
   "source": [
    "# if __name__ == \"__main__\":\n",
    "#  result=predict_incident_severity_by_tf(None)\n",
    "#  print(result)\n"
   ]
  },
  {
   "cell_type": "code",
   "execution_count": null,
   "id": "950857cf-eb31-4973-9925-aa7f0b1434d7",
   "metadata": {},
   "outputs": [],
   "source": []
  },
  {
   "cell_type": "code",
   "execution_count": null,
   "id": "e7c87c03-93b1-4461-af09-9418520b4606",
   "metadata": {},
   "outputs": [],
   "source": []
  }
 ],
 "metadata": {
  "kernelspec": {
   "display_name": "Python 3 (ipykernel)",
   "language": "python",
   "name": "python3"
  },
  "language_info": {
   "codemirror_mode": {
    "name": "ipython",
    "version": 3
   },
   "file_extension": ".py",
   "mimetype": "text/x-python",
   "name": "python",
   "nbconvert_exporter": "python",
   "pygments_lexer": "ipython3",
   "version": "3.9.16"
  }
 },
 "nbformat": 4,
 "nbformat_minor": 5
}
