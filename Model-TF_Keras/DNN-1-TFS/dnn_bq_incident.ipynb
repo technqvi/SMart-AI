{
 "cells": [
  {
   "cell_type": "code",
   "execution_count": 304,
   "id": "efd54814-e227-4302-9a81-3d6ddcf0e9a5",
   "metadata": {},
   "outputs": [
    {
     "data": {
      "text/plain": [
       "'2.11.0'"
      ]
     },
     "execution_count": 304,
     "metadata": {},
     "output_type": "execute_result"
    }
   ],
   "source": [
    "# import necessary libraries\n",
    "import numpy as np\n",
    "import pandas as pd\n",
    "import tensorflow as tf\n",
    "import matplotlib.pyplot as plt\n",
    "import seaborn as sns\n",
    "\n",
    "from tensorflow.keras import Sequential\n",
    "from tensorflow.keras.layers import Dense,DenseFeatures\n",
    "\n",
    "\n",
    "from google.cloud import bigquery\n",
    "from sklearn.model_selection import train_test_split\n",
    "from tensorflow.keras import layers\n",
    "from tensorflow.keras.layers.experimental import preprocessing\n",
    "\n",
    "tf.__version__"
   ]
  },
  {
   "cell_type": "code",
   "execution_count": 305,
   "id": "300e7850-0b43-4731-9253-684ba1a6a8d2",
   "metadata": {},
   "outputs": [],
   "source": [
    "\n",
    "#https://codelabs.developers.google.com/codelabs/fraud-detection-ai-explanations?hl=en#0\n",
    "#he Explainable AI SDK and Copy Model to Deploy\n",
    "\n",
    "#https://github.com/GoogleCloudPlatform/training-data-analyst/blob/master/courses/machine_learning/deepdive2/introduction_to_tensorflow/solutions/preprocessing_layers.ipynb"
   ]
  },
  {
   "cell_type": "code",
   "execution_count": 306,
   "id": "566531dc-5434-4689-b6d4-83b3f5d736b5",
   "metadata": {},
   "outputs": [],
   "source": [
    "#!gsutil cp gs://smart-ml-pongthorn/incident-train-data/TrainEval_Incident.csv data"
   ]
  },
  {
   "cell_type": "code",
   "execution_count": 307,
   "id": "d28a9538-ca23-45f0-817b-e4b067cf9ab3",
   "metadata": {},
   "outputs": [],
   "source": [
    "cateCols=['sla','product_type','brand','service_type','incident_type']\n",
    "numbericCols=['open_to_close_hour','response_to_resolved_hour']\n",
    "labelCol='Critical'\n",
    "labelID='severity_id'\n",
    "unusedCols=['severity_id','severity_name']\n",
    "\n",
    "model_dir='critical_incident_dnn'"
   ]
  },
  {
   "cell_type": "code",
   "execution_count": 308,
   "id": "b696aedc-f937-4ae8-91e0-1621d4323af9",
   "metadata": {},
   "outputs": [
    {
     "name": "stdout",
     "output_type": "stream",
     "text": [
      "<class 'pandas.core.frame.DataFrame'>\n",
      "RangeIndex: 2142 entries, 0 to 2141\n",
      "Data columns (total 9 columns):\n",
      " #   Column                     Non-Null Count  Dtype  \n",
      "---  ------                     --------------  -----  \n",
      " 0   severity_id                2142 non-null   Int64  \n",
      " 1   severity_name              2142 non-null   object \n",
      " 2   sla                        2142 non-null   object \n",
      " 3   product_type               2142 non-null   object \n",
      " 4   brand                      2142 non-null   object \n",
      " 5   service_type               2142 non-null   object \n",
      " 6   incident_type              2142 non-null   object \n",
      " 7   open_to_close_hour         2142 non-null   float64\n",
      " 8   response_to_resolved_hour  2142 non-null   float64\n",
      "dtypes: Int64(1), float64(2), object(6)\n",
      "memory usage: 152.8+ KB\n",
      "None\n"
     ]
    }
   ],
   "source": [
    "# df = pd.read_csv('../../data/TrainEval_Incident.csv')\n",
    "\n",
    "def download_table(bq_table_uri: str):\n",
    "    bqclient = bigquery.Client()\n",
    "    # Remove bq:// prefix if present\n",
    "    prefix = \"bq://\"\n",
    "    if bq_table_uri.startswith(prefix):\n",
    "        bq_table_uri = bq_table_uri[len(prefix) :]\n",
    "\n",
    "    table = bigquery.TableReference.from_string(bq_table_uri)\n",
    "    rows = bqclient.list_rows(\n",
    "        table,\n",
    "    )\n",
    "    return rows.to_dataframe()\n",
    "df=download_table(\"pongthorn.SMartML.TrainEval_Incident_20230316\")\n",
    "\n",
    "\n",
    "sr_predict=df.iloc[-1,:]\n",
    "df=df.iloc[0:len(df)-1,:]\n",
    "print(df.info())"
   ]
  },
  {
   "cell_type": "code",
   "execution_count": 309,
   "id": "354b3da3-2b41-4d63-aae5-ec5be0540db1",
   "metadata": {},
   "outputs": [
    {
     "name": "stdout",
     "output_type": "stream",
     "text": [
      "No target label : 2\n"
     ]
    }
   ],
   "source": [
    "def map_4to2_serverity(severity_id):\n",
    "    if severity_id==1 or severity_id==2:\n",
    "       return 1\n",
    "    else:\n",
    "       return 0 \n",
    "df[labelCol] =df[labelID].apply(map_4to2_serverity)\n",
    "\n",
    "# df[labelCol] = df['severity_name'].map({'Cosmatic':0,'Minor': 1, \"Major\": 2, \"Critical\": 3})\n",
    "\n",
    "df =df.drop(columns=unusedCols)\n",
    "       \n",
    "nLabel=len(list(df[labelCol].unique()))\n",
    "\n",
    "print(f\"No target label : {nLabel}\")\n"
   ]
  },
  {
   "cell_type": "code",
   "execution_count": 310,
   "id": "c59e9916-6668-4c4e-8974-af63c3f840b0",
   "metadata": {},
   "outputs": [
    {
     "data": {
      "image/png": "[encoded data removed]",
      "text/plain": [
       "<Figure size 1500x500 with 1 Axes>"
      ]
     },
     "metadata": {},
     "output_type": "display_data"
    }
   ],
   "source": [
    "fig , ax = plt.subplots(figsize=(15,5))\n",
    "ax =sns.countplot(x=labelCol, data=df,)\n",
    "for p in ax.patches:\n",
    "   ax.annotate('{:.1f}'.format(p.get_height()), (p.get_x()+0.25, p.get_height()+0.01))\n",
    "plt.title(labelCol.title())\n",
    "plt.show()"
   ]
  },
  {
   "cell_type": "code",
   "execution_count": 311,
   "id": "e37895d9-c15a-4a9e-a723-7b43ed7f7940",
   "metadata": {},
   "outputs": [
    {
     "data": {
      "text/html": [
       "<div>\n",
       "<style scoped>\n",
       "    .dataframe tbody tr th:only-of-type {\n",
       "        vertical-align: middle;\n",
       "    }\n",
       "\n",
       "    .dataframe tbody tr th {\n",
       "        vertical-align: top;\n",
       "    }\n",
       "\n",
       "    .dataframe thead th {\n",
       "        text-align: right;\n",
       "    }\n",
       "</style>\n",
       "<table border=\"1\" class=\"dataframe\">\n",
       "  <thead>\n",
       "    <tr style=\"text-align: right;\">\n",
       "      <th></th>\n",
       "      <th>sla</th>\n",
       "      <th>product_type</th>\n",
       "      <th>brand</th>\n",
       "      <th>service_type</th>\n",
       "      <th>incident_type</th>\n",
       "      <th>open_to_close_hour</th>\n",
       "      <th>response_to_resolved_hour</th>\n",
       "      <th>Critical</th>\n",
       "    </tr>\n",
       "  </thead>\n",
       "  <tbody>\n",
       "    <tr>\n",
       "      <th>2137</th>\n",
       "      <td>24x7 4Hrs Response Time</td>\n",
       "      <td>Software</td>\n",
       "      <td>Trend Micro</td>\n",
       "      <td>Request</td>\n",
       "      <td>General Incident</td>\n",
       "      <td>308.166667</td>\n",
       "      <td>308.033333</td>\n",
       "      <td>0</td>\n",
       "    </tr>\n",
       "    <tr>\n",
       "      <th>2138</th>\n",
       "      <td>24x7 4Hrs Response Time</td>\n",
       "      <td>Software</td>\n",
       "      <td>Trend Micro</td>\n",
       "      <td>Request</td>\n",
       "      <td>Configuration Change</td>\n",
       "      <td>5.516667</td>\n",
       "      <td>5.416667</td>\n",
       "      <td>0</td>\n",
       "    </tr>\n",
       "    <tr>\n",
       "      <th>2139</th>\n",
       "      <td>24x7 4Hrs Response Time</td>\n",
       "      <td>Software</td>\n",
       "      <td>Trend Micro</td>\n",
       "      <td>Request</td>\n",
       "      <td>General Incident</td>\n",
       "      <td>168.150000</td>\n",
       "      <td>164.666667</td>\n",
       "      <td>0</td>\n",
       "    </tr>\n",
       "    <tr>\n",
       "      <th>2140</th>\n",
       "      <td>24x7 4Hrs Response Time</td>\n",
       "      <td>Software</td>\n",
       "      <td>Trend Micro</td>\n",
       "      <td>Request</td>\n",
       "      <td>General Incident</td>\n",
       "      <td>163.850000</td>\n",
       "      <td>163.850000</td>\n",
       "      <td>0</td>\n",
       "    </tr>\n",
       "    <tr>\n",
       "      <th>2141</th>\n",
       "      <td>24x7 6Hrs Resolution Time</td>\n",
       "      <td>Software</td>\n",
       "      <td>Trend Micro</td>\n",
       "      <td>Request</td>\n",
       "      <td>General Incident</td>\n",
       "      <td>5.483333</td>\n",
       "      <td>5.483333</td>\n",
       "      <td>0</td>\n",
       "    </tr>\n",
       "  </tbody>\n",
       "</table>\n",
       "</div>"
      ],
      "text/plain": [
       "                            sla product_type        brand service_type  \\\n",
       "2137    24x7 4Hrs Response Time     Software  Trend Micro      Request   \n",
       "2138    24x7 4Hrs Response Time     Software  Trend Micro      Request   \n",
       "2139    24x7 4Hrs Response Time     Software  Trend Micro      Request   \n",
       "2140    24x7 4Hrs Response Time     Software  Trend Micro      Request   \n",
       "2141  24x7 6Hrs Resolution Time     Software  Trend Micro      Request   \n",
       "\n",
       "             incident_type  open_to_close_hour  response_to_resolved_hour  \\\n",
       "2137      General Incident          308.166667                 308.033333   \n",
       "2138  Configuration Change            5.516667                   5.416667   \n",
       "2139      General Incident          168.150000                 164.666667   \n",
       "2140      General Incident          163.850000                 163.850000   \n",
       "2141      General Incident            5.483333                   5.483333   \n",
       "\n",
       "      Critical  \n",
       "2137         0  \n",
       "2138         0  \n",
       "2139         0  \n",
       "2140         0  \n",
       "2141         0  "
      ]
     },
     "execution_count": 311,
     "metadata": {},
     "output_type": "execute_result"
    }
   ],
   "source": [
    "df.tail()"
   ]
  },
  {
   "cell_type": "code",
   "execution_count": 312,
   "id": "4fa0282b-beb3-4e4a-b892-041410cbc9ce",
   "metadata": {},
   "outputs": [
    {
     "name": "stdout",
     "output_type": "stream",
     "text": [
      "All Data = 2142\n",
      "1713 =train examples (80.0%)\n",
      "214 =val examples (10.0%)\n",
      "215 =test examples (10.0%)\n"
     ]
    }
   ],
   "source": [
    "len_all=len(df)\n",
    "print(f\"All Data = {len_all}\")\n",
    "\n",
    "train, val = train_test_split(df,test_size=0.2)\n",
    "val,test = train_test_split(val, test_size=0.5)\n",
    "\n",
    "len_all=len(df)\n",
    "len_train=len(train)\n",
    "len_val=len(val)\n",
    "len_test=len(test)\n",
    "print(f'{len_train} =train examples ({round(len_train/len_all*100,1)}%)')\n",
    "print(f'{len_val} =val examples ({round(len_val/len_all*100,1)}%)')\n",
    "print(f'{len_test} =test examples ({round(len_test/len_all*100,1)}%)')\n",
    "\n",
    "\n"
   ]
  },
  {
   "cell_type": "code",
   "execution_count": 313,
   "id": "d9d3a943-09d5-4a43-b8d8-633bc4a90353",
   "metadata": {},
   "outputs": [],
   "source": [
    "# A utility method to create a tf.data dataset from a Pandas Dataframe\n",
    "def df_to_dataset(dataframe, shuffle=True, batch_size=32):\n",
    "  dataframe = dataframe.copy()\n",
    "  labels = dataframe.pop(labelCol)\n",
    "  ds = tf.data.Dataset.from_tensor_slices((dict(dataframe), labels))\n",
    "  if shuffle:\n",
    "    ds = ds.shuffle(buffer_size=len(dataframe))\n",
    "  ds = ds.batch(batch_size)\n",
    "  ds = ds.prefetch(batch_size)\n",
    "  return ds\n",
    "     "
   ]
  },
  {
   "cell_type": "code",
   "execution_count": 314,
   "id": "bf51e019-91ce-4e47-a9e1-38f557de53f6",
   "metadata": {},
   "outputs": [],
   "source": [
    "batch_size = 10\n",
    "train_ds = df_to_dataset(train, batch_size=batch_size)"
   ]
  },
  {
   "cell_type": "code",
   "execution_count": 315,
   "id": "274122c2-9481-438b-b637-6e6ad393d809",
   "metadata": {},
   "outputs": [
    {
     "name": "stdout",
     "output_type": "stream",
     "text": [
      "Every feature: ['sla', 'product_type', 'brand', 'service_type', 'incident_type', 'open_to_close_hour', 'response_to_resolved_hour']\n",
      "service_type: tf.Tensor(\n",
      "[b'Request' b'Incident' b'Incident' b'Incident' b'Incident' b'Request'\n",
      " b'Incident' b'Incident' b'Incident' b'Incident'], shape=(10,), dtype=string)\n",
      "incident_type: tf.Tensor(\n",
      "[b'General Incident' b'Software' b'General Incident'\n",
      " b'System Board Failure' b'Hard Disk Drive Failure'\n",
      " b'Configuration Change' b'General Incident' b'General Incident'\n",
      " b'General Incident' b'General Incident'], shape=(10,), dtype=string)\n",
      "product_type: tf.Tensor(\n",
      "[b'Server' b'Software' b'Software' b'Hardware' b'Storage' b'Server'\n",
      " b'Server' b'Other' b'Server' b'Server'], shape=(10,), dtype=string)\n",
      "open_to_close_hour: tf.Tensor(\n",
      "[  5.13333333   1.06666667   3.8          3.16666667   8.03333333\n",
      "  89.15        49.         306.71666667  17.93333333   7.11666667], shape=(10,), dtype=float64)\n",
      "Critical :[1 1 1 1 1 0 1 0 1 1]\n"
     ]
    }
   ],
   "source": [
    "[(train_features, label_batch)] = train_ds.take(1)\n",
    "print('Every feature:', list(train_features.keys()))\n",
    "print('service_type:', train_features['service_type'])\n",
    "print('incident_type:', train_features['incident_type'])\n",
    "print('product_type:', train_features['product_type'])\n",
    "print('open_to_close_hour:', train_features['open_to_close_hour'])\n",
    "print(f'{labelCol} :{label_batch }')"
   ]
  },
  {
   "cell_type": "code",
   "execution_count": 316,
   "id": "02ad8837-968e-4d68-bdb6-1c7eba97e69c",
   "metadata": {},
   "outputs": [],
   "source": [
    "def get_normalization_layer(name, dataset):\n",
    "  # Create a Normalization layer for our feature.\n",
    "  normalizer = preprocessing.Normalization(axis=None)\n",
    "\n",
    "  # Prepare a Dataset that only yields our feature.\n",
    "  feature_ds = dataset.map(lambda x, y: x[name])\n",
    "\n",
    "  # Learn the statistics of the data.\n",
    "  normalizer.adapt(feature_ds)\n",
    "\n",
    "  return normalizer"
   ]
  },
  {
   "cell_type": "code",
   "execution_count": 317,
   "id": "62266860-62da-4126-be6c-5cb4bf35f8a7",
   "metadata": {},
   "outputs": [
    {
     "data": {
      "text/plain": [
       "<tf.Tensor: shape=(10,), dtype=float32, numpy=\n",
       "array([-0.3493588 , -0.36430478, -0.3542591 , -0.35658678, -0.33870056,\n",
       "       -0.0405768 , -0.18813796,  0.7590344 , -0.30231562, -0.34206954],\n",
       "      dtype=float32)>"
      ]
     },
     "execution_count": 317,
     "metadata": {},
     "output_type": "execute_result"
    }
   ],
   "source": [
    "hour_col = train_features['open_to_close_hour']\n",
    "layer = get_normalization_layer('open_to_close_hour', train_ds)\n",
    "layer(hour_col)"
   ]
  },
  {
   "cell_type": "code",
   "execution_count": 318,
   "id": "237bce3c-9c77-4318-8682-fc36af0a6804",
   "metadata": {},
   "outputs": [],
   "source": [
    "def get_category_encoding_layer(name, dataset, dtype, max_tokens=None):\n",
    "  # Create a StringLookup layer which will turn strings into integer indices\n",
    "  if dtype == 'string':\n",
    "    index = preprocessing.StringLookup(max_tokens=max_tokens)\n",
    "  else:\n",
    "    index = preprocessing.IntegerLookup(max_tokens=max_tokens)\n",
    "\n",
    "  # Prepare a Dataset that only yields our feature\n",
    "  feature_ds = dataset.map(lambda x, y: x[name])\n",
    "\n",
    "  # Learn the set of possible values and assign them a fixed integer index.\n",
    "  index.adapt(feature_ds)\n",
    "\n",
    "  # Create a Discretization for our integer indices.\n",
    "  encoder = preprocessing.CategoryEncoding(num_tokens=index.vocabulary_size())\n",
    "\n",
    "  # Apply one-hot encoding to our indices. The lambda function captures the\n",
    "  # layer so we can use them, or include them in the functional model later.\n",
    "  return lambda feature: encoder(index(feature))\n",
    "     "
   ]
  },
  {
   "cell_type": "code",
   "execution_count": 319,
   "id": "19c0de50-a1fb-44b9-b91f-555ac779ec40",
   "metadata": {},
   "outputs": [
    {
     "data": {
      "text/plain": [
       "<tf.Tensor: shape=(11,), dtype=float32, numpy=array([0., 1., 1., 1., 1., 0., 1., 0., 0., 0., 0.], dtype=float32)>"
      ]
     },
     "execution_count": 319,
     "metadata": {},
     "output_type": "execute_result"
    }
   ],
   "source": [
    "# total no type+unkonw\n",
    "type_col = train_features['product_type']\n",
    "layer = get_category_encoding_layer('product_type', train_ds, 'string')\n",
    "layer(type_col)"
   ]
  },
  {
   "cell_type": "code",
   "execution_count": 320,
   "id": "5b3122dc-b371-46ec-bd8c-82e81eb44ad1",
   "metadata": {},
   "outputs": [],
   "source": [
    "batch_size =32\n",
    "train_ds = df_to_dataset(train, batch_size=batch_size)\n",
    "val_ds = df_to_dataset(val, shuffle=False, batch_size=batch_size)\n",
    "test_ds = df_to_dataset(test, shuffle=False, batch_size=batch_size)"
   ]
  },
  {
   "cell_type": "code",
   "execution_count": 321,
   "id": "e9958d24-4d8f-4527-bc19-c657e1d9b22e",
   "metadata": {},
   "outputs": [],
   "source": [
    "all_inputs = []\n",
    "encoded_features = []"
   ]
  },
  {
   "cell_type": "code",
   "execution_count": 322,
   "id": "723a69b6-d9c1-49d9-bc81-ed421d8700cb",
   "metadata": {},
   "outputs": [
    {
     "name": "stdout",
     "output_type": "stream",
     "text": [
      "open_to_close_hour\n",
      "response_to_resolved_hour\n"
     ]
    }
   ],
   "source": [
    "# Numeric features.\n",
    "for header in numbericCols:\n",
    "  print(header)  \n",
    "  numeric_col = tf.keras.Input(shape=(1,), name=header)\n",
    "  normalization_layer = get_normalization_layer(header, train_ds)\n",
    "  encoded_numeric_col = normalization_layer(numeric_col)\n",
    "  all_inputs.append(numeric_col)\n",
    "  encoded_features.append(encoded_numeric_col)"
   ]
  },
  {
   "cell_type": "code",
   "execution_count": 323,
   "id": "41b59cb7-0c30-42f7-b87f-f408c72dcc72",
   "metadata": {},
   "outputs": [
    {
     "name": "stdout",
     "output_type": "stream",
     "text": [
      "sla\n",
      "product_type\n",
      "brand\n",
      "service_type\n",
      "incident_type\n"
     ]
    }
   ],
   "source": [
    "# Categorical features encoded as string.\n",
    "categorical_cols = cateCols\n",
    "for header in categorical_cols:\n",
    "  print(header)  \n",
    "  categorical_col = tf.keras.Input(shape=(1,), name=header, dtype='string')\n",
    "  encoding_layer = get_category_encoding_layer(header, train_ds, dtype='string')\n",
    "                                        \n",
    "  encoded_categorical_col = encoding_layer(categorical_col)\n",
    "  all_inputs.append(categorical_col)\n",
    "  encoded_features.append(encoded_categorical_col)\n"
   ]
  },
  {
   "cell_type": "code",
   "execution_count": 324,
   "id": "f89ba051-c41f-432a-b306-7ab9dad5ad92",
   "metadata": {},
   "outputs": [],
   "source": [
    "all_features = tf.keras.layers.concatenate(encoded_features)\n",
    "\n",
    "x = tf.keras.layers.Dense(16, activation=\"relu\")(all_features)\n",
    "# x = tf.keras.layers.Dropout(0.2)(x)\n",
    "\n",
    "x = tf.keras.layers.Dense(16, activation=\"relu\")(x)\n",
    "# x = tf.keras.layers.Dropout(0.2)(x)\n",
    "\n",
    "output = tf.keras.layers.Dense(1)(x)\n",
    "# output = tf.keras.layers.Dense(nLabel,activation=tf.nn.softmax)(x)\n",
    "\n",
    "model = tf.keras.Model(all_inputs, output)\n",
    "\n",
    "\n",
    "# METRICS = [\n",
    "#       keras.metrics.TruePositives(name='tp'),\n",
    "#       keras.metrics.FalsePositives(name='fp'),\n",
    "#       keras.metrics.TrueNegatives(name='tn'),\n",
    "#       keras.metrics.FalseNegatives(name='fn'), \n",
    "#       keras.metrics.BinaryAccuracy(name='accuracy'),\n",
    "#       keras.metrics.Precision(name='precision'),\n",
    "#       keras.metrics.Recall(name='recall'),\n",
    "#       keras.metrics.AUC(name='auc'),\n",
    "# ]\n",
    "\n",
    "\n",
    "model.compile(optimizer='adam',\n",
    "              loss=tf.keras.losses.BinaryCrossentropy(from_logits=True),\n",
    "              metrics=[\"accuracy\"])\n",
    "\n",
    "# model.compile(optimizer='adam',\n",
    "#               loss=tf.keras.losses.CategoricalCrossentropy(),\n",
    "#               metrics=[\"accuracy\"])\n",
    "     "
   ]
  },
  {
   "cell_type": "code",
   "execution_count": 325,
   "id": "8d8227dc-0e69-43fd-80cd-ed01a403c34d",
   "metadata": {},
   "outputs": [
    {
     "name": "stdout",
     "output_type": "stream",
     "text": [
      "Model: \"model_9\"\n",
      "__________________________________________________________________________________________________\n",
      " Layer (type)                   Output Shape         Param #     Connected to                     \n",
      "==================================================================================================\n",
      " sla (InputLayer)               [(None, 1)]          0           []                               \n",
      "                                                                                                  \n",
      " product_type (InputLayer)      [(None, 1)]          0           []                               \n",
      "                                                                                                  \n",
      " brand (InputLayer)             [(None, 1)]          0           []                               \n",
      "                                                                                                  \n",
      " service_type (InputLayer)      [(None, 1)]          0           []                               \n",
      "                                                                                                  \n",
      " incident_type (InputLayer)     [(None, 1)]          0           []                               \n",
      "                                                                                                  \n",
      " open_to_close_hour (InputLayer  [(None, 1)]         0           []                               \n",
      " )                                                                                                \n",
      "                                                                                                  \n",
      " response_to_resolved_hour (Inp  [(None, 1)]         0           []                               \n",
      " utLayer)                                                                                         \n",
      "                                                                                                  \n",
      " string_lookup_56 (StringLookup  (None, 1)           0           ['sla[0][0]']                    \n",
      " )                                                                                                \n",
      "                                                                                                  \n",
      " string_lookup_57 (StringLookup  (None, 1)           0           ['product_type[0][0]']           \n",
      " )                                                                                                \n",
      "                                                                                                  \n",
      " string_lookup_58 (StringLookup  (None, 1)           0           ['brand[0][0]']                  \n",
      " )                                                                                                \n",
      "                                                                                                  \n",
      " string_lookup_59 (StringLookup  (None, 1)           0           ['service_type[0][0]']           \n",
      " )                                                                                                \n",
      "                                                                                                  \n",
      " string_lookup_60 (StringLookup  (None, 1)           0           ['incident_type[0][0]']          \n",
      " )                                                                                                \n",
      "                                                                                                  \n",
      " normalization_29 (Normalizatio  (None, 1)           3           ['open_to_close_hour[0][0]']     \n",
      " n)                                                                                               \n",
      "                                                                                                  \n",
      " normalization_30 (Normalizatio  (None, 1)           3           ['response_to_resolved_hour[0][0]\n",
      " n)                                                              ']                               \n",
      "                                                                                                  \n",
      " category_encoding_56 (Category  (None, 7)           0           ['string_lookup_56[0][0]']       \n",
      " Encoding)                                                                                        \n",
      "                                                                                                  \n",
      " category_encoding_57 (Category  (None, 11)          0           ['string_lookup_57[0][0]']       \n",
      " Encoding)                                                                                        \n",
      "                                                                                                  \n",
      " category_encoding_58 (Category  (None, 22)          0           ['string_lookup_58[0][0]']       \n",
      " Encoding)                                                                                        \n",
      "                                                                                                  \n",
      " category_encoding_59 (Category  (None, 3)           0           ['string_lookup_59[0][0]']       \n",
      " Encoding)                                                                                        \n",
      "                                                                                                  \n",
      " category_encoding_60 (Category  (None, 22)          0           ['string_lookup_60[0][0]']       \n",
      " Encoding)                                                                                        \n",
      "                                                                                                  \n",
      " concatenate_9 (Concatenate)    (None, 67)           0           ['normalization_29[0][0]',       \n",
      "                                                                  'normalization_30[0][0]',       \n",
      "                                                                  'category_encoding_56[0][0]',   \n",
      "                                                                  'category_encoding_57[0][0]',   \n",
      "                                                                  'category_encoding_58[0][0]',   \n",
      "                                                                  'category_encoding_59[0][0]',   \n",
      "                                                                  'category_encoding_60[0][0]']   \n",
      "                                                                                                  \n",
      " dense_27 (Dense)               (None, 16)           1088        ['concatenate_9[0][0]']          \n",
      "                                                                                                  \n",
      " dense_28 (Dense)               (None, 16)           272         ['dense_27[0][0]']               \n",
      "                                                                                                  \n",
      " dense_29 (Dense)               (None, 1)            17          ['dense_28[0][0]']               \n",
      "                                                                                                  \n",
      "==================================================================================================\n",
      "Total params: 1,383\n",
      "Trainable params: 1,377\n",
      "Non-trainable params: 6\n",
      "__________________________________________________________________________________________________\n"
     ]
    }
   ],
   "source": [
    "model.summary()\n"
   ]
  },
  {
   "cell_type": "code",
   "execution_count": 326,
   "id": "25688a22-05f5-4cac-b662-d261b5dcfb78",
   "metadata": {},
   "outputs": [
    {
     "name": "stdout",
     "output_type": "stream",
     "text": [
      "Epoch 1/100\n",
      "54/54 [==============================] - 3s 16ms/step - loss: 0.6765 - accuracy: 0.4694 - val_loss: 0.6453 - val_accuracy: 0.4579\n",
      "Epoch 2/100\n",
      "54/54 [==============================] - 0s 4ms/step - loss: 0.6140 - accuracy: 0.5593 - val_loss: 0.5808 - val_accuracy: 0.6776\n",
      "Epoch 3/100\n",
      "54/54 [==============================] - 0s 4ms/step - loss: 0.5451 - accuracy: 0.7093 - val_loss: 0.5173 - val_accuracy: 0.7383\n",
      "Epoch 4/100\n",
      "54/54 [==============================] - 0s 5ms/step - loss: 0.4901 - accuracy: 0.7513 - val_loss: 0.4847 - val_accuracy: 0.7290\n",
      "Epoch 5/100\n",
      "54/54 [==============================] - 0s 4ms/step - loss: 0.4620 - accuracy: 0.7630 - val_loss: 0.4712 - val_accuracy: 0.7383\n",
      "Epoch 6/100\n",
      "54/54 [==============================] - 0s 5ms/step - loss: 0.4464 - accuracy: 0.7840 - val_loss: 0.4621 - val_accuracy: 0.7570\n",
      "Epoch 7/100\n",
      "54/54 [==============================] - 0s 4ms/step - loss: 0.4360 - accuracy: 0.7869 - val_loss: 0.4578 - val_accuracy: 0.7570\n",
      "Epoch 8/100\n",
      "54/54 [==============================] - 0s 5ms/step - loss: 0.4273 - accuracy: 0.7928 - val_loss: 0.4497 - val_accuracy: 0.7477\n",
      "Epoch 9/100\n",
      "54/54 [==============================] - 0s 4ms/step - loss: 0.4198 - accuracy: 0.7974 - val_loss: 0.4500 - val_accuracy: 0.7757\n",
      "Epoch 10/100\n",
      "54/54 [==============================] - 0s 4ms/step - loss: 0.4134 - accuracy: 0.7957 - val_loss: 0.4440 - val_accuracy: 0.7523\n",
      "Epoch 11/100\n",
      "54/54 [==============================] - 0s 4ms/step - loss: 0.4079 - accuracy: 0.7998 - val_loss: 0.4423 - val_accuracy: 0.7570\n",
      "Epoch 12/100\n",
      "54/54 [==============================] - 0s 4ms/step - loss: 0.4035 - accuracy: 0.8009 - val_loss: 0.4404 - val_accuracy: 0.7477\n",
      "Epoch 13/100\n",
      "54/54 [==============================] - 0s 4ms/step - loss: 0.3996 - accuracy: 0.8021 - val_loss: 0.4376 - val_accuracy: 0.7897\n",
      "Epoch 14/100\n",
      "54/54 [==============================] - 0s 3ms/step - loss: 0.3960 - accuracy: 0.8114 - val_loss: 0.4360 - val_accuracy: 0.7897\n",
      "Epoch 15/100\n",
      "54/54 [==============================] - 0s 4ms/step - loss: 0.3931 - accuracy: 0.8144 - val_loss: 0.4339 - val_accuracy: 0.7804\n",
      "Epoch 16/100\n",
      "54/54 [==============================] - 0s 3ms/step - loss: 0.3890 - accuracy: 0.8173 - val_loss: 0.4346 - val_accuracy: 0.7991\n",
      "Epoch 17/100\n",
      "54/54 [==============================] - 0s 4ms/step - loss: 0.3870 - accuracy: 0.8190 - val_loss: 0.4309 - val_accuracy: 0.7710\n",
      "Epoch 18/100\n",
      "54/54 [==============================] - 0s 3ms/step - loss: 0.3837 - accuracy: 0.8179 - val_loss: 0.4314 - val_accuracy: 0.8131\n",
      "Epoch 19/100\n",
      "54/54 [==============================] - 0s 3ms/step - loss: 0.3817 - accuracy: 0.8231 - val_loss: 0.4266 - val_accuracy: 0.8037\n",
      "Epoch 20/100\n",
      "54/54 [==============================] - 0s 3ms/step - loss: 0.3806 - accuracy: 0.8149 - val_loss: 0.4279 - val_accuracy: 0.8037\n",
      "Epoch 21/100\n",
      "54/54 [==============================] - 0s 4ms/step - loss: 0.3759 - accuracy: 0.8214 - val_loss: 0.4270 - val_accuracy: 0.8037\n",
      "Epoch 22/100\n",
      "54/54 [==============================] - 0s 3ms/step - loss: 0.3742 - accuracy: 0.8214 - val_loss: 0.4271 - val_accuracy: 0.8037\n",
      "Epoch 23/100\n",
      "54/54 [==============================] - 0s 4ms/step - loss: 0.3717 - accuracy: 0.8208 - val_loss: 0.4236 - val_accuracy: 0.8037\n",
      "Epoch 24/100\n",
      "54/54 [==============================] - 0s 4ms/step - loss: 0.3704 - accuracy: 0.8237 - val_loss: 0.4260 - val_accuracy: 0.8037\n",
      "Epoch 25/100\n",
      "54/54 [==============================] - 0s 6ms/step - loss: 0.3694 - accuracy: 0.8243 - val_loss: 0.4253 - val_accuracy: 0.7991\n",
      "Epoch 26/100\n",
      "54/54 [==============================] - 0s 4ms/step - loss: 0.3682 - accuracy: 0.8237 - val_loss: 0.4241 - val_accuracy: 0.8037\n",
      "Epoch 27/100\n",
      "54/54 [==============================] - 0s 6ms/step - loss: 0.3649 - accuracy: 0.8272 - val_loss: 0.4322 - val_accuracy: 0.8084\n",
      "Epoch 28/100\n",
      "54/54 [==============================] - 0s 4ms/step - loss: 0.3666 - accuracy: 0.8255 - val_loss: 0.4270 - val_accuracy: 0.8084\n",
      "Epoch 29/100\n",
      "54/54 [==============================] - 0s 4ms/step - loss: 0.3636 - accuracy: 0.8255 - val_loss: 0.4249 - val_accuracy: 0.8084\n",
      "Epoch 30/100\n",
      "54/54 [==============================] - 0s 6ms/step - loss: 0.3620 - accuracy: 0.8307 - val_loss: 0.4234 - val_accuracy: 0.8131\n",
      "Epoch 31/100\n",
      "54/54 [==============================] - 0s 4ms/step - loss: 0.3614 - accuracy: 0.8260 - val_loss: 0.4270 - val_accuracy: 0.8084\n",
      "Epoch 32/100\n",
      "54/54 [==============================] - 0s 4ms/step - loss: 0.3607 - accuracy: 0.8260 - val_loss: 0.4281 - val_accuracy: 0.8131\n",
      "Epoch 33/100\n",
      "54/54 [==============================] - 0s 4ms/step - loss: 0.3592 - accuracy: 0.8342 - val_loss: 0.4247 - val_accuracy: 0.8084\n",
      "Epoch 34/100\n",
      "54/54 [==============================] - 0s 4ms/step - loss: 0.3581 - accuracy: 0.8301 - val_loss: 0.4318 - val_accuracy: 0.8131\n",
      "Epoch 35/100\n",
      "54/54 [==============================] - 0s 4ms/step - loss: 0.3566 - accuracy: 0.8290 - val_loss: 0.4298 - val_accuracy: 0.8178\n",
      "Epoch 36/100\n",
      "54/54 [==============================] - 0s 4ms/step - loss: 0.3561 - accuracy: 0.8360 - val_loss: 0.4326 - val_accuracy: 0.8037\n",
      "Epoch 37/100\n",
      "54/54 [==============================] - 0s 4ms/step - loss: 0.3590 - accuracy: 0.8255 - val_loss: 0.4290 - val_accuracy: 0.8084\n",
      "Epoch 38/100\n",
      "54/54 [==============================] - 0s 4ms/step - loss: 0.3540 - accuracy: 0.8330 - val_loss: 0.4297 - val_accuracy: 0.8131\n",
      "Epoch 39/100\n",
      "54/54 [==============================] - 0s 4ms/step - loss: 0.3539 - accuracy: 0.8336 - val_loss: 0.4308 - val_accuracy: 0.8178\n",
      "Epoch 40/100\n",
      "54/54 [==============================] - 0s 4ms/step - loss: 0.3521 - accuracy: 0.8377 - val_loss: 0.4340 - val_accuracy: 0.8178\n",
      "Epoch 41/100\n",
      "54/54 [==============================] - 0s 4ms/step - loss: 0.3540 - accuracy: 0.8336 - val_loss: 0.4353 - val_accuracy: 0.8178\n",
      "Epoch 42/100\n",
      "54/54 [==============================] - 0s 4ms/step - loss: 0.3501 - accuracy: 0.8348 - val_loss: 0.4325 - val_accuracy: 0.8084\n",
      "Epoch 43/100\n",
      "54/54 [==============================] - 0s 4ms/step - loss: 0.3498 - accuracy: 0.8348 - val_loss: 0.4388 - val_accuracy: 0.8178\n",
      "Epoch 44/100\n",
      "54/54 [==============================] - 0s 4ms/step - loss: 0.3511 - accuracy: 0.8313 - val_loss: 0.4373 - val_accuracy: 0.8178\n",
      "Epoch 45/100\n",
      "54/54 [==============================] - 0s 3ms/step - loss: 0.3489 - accuracy: 0.8365 - val_loss: 0.4364 - val_accuracy: 0.8084\n",
      "Epoch 46/100\n",
      "54/54 [==============================] - 0s 4ms/step - loss: 0.3484 - accuracy: 0.8348 - val_loss: 0.4396 - val_accuracy: 0.8084\n",
      "Epoch 47/100\n",
      "54/54 [==============================] - 0s 3ms/step - loss: 0.3471 - accuracy: 0.8354 - val_loss: 0.4378 - val_accuracy: 0.8131\n",
      "Epoch 48/100\n",
      "54/54 [==============================] - 0s 4ms/step - loss: 0.3464 - accuracy: 0.8360 - val_loss: 0.4405 - val_accuracy: 0.8131\n",
      "Epoch 49/100\n",
      "54/54 [==============================] - 0s 4ms/step - loss: 0.3461 - accuracy: 0.8377 - val_loss: 0.4432 - val_accuracy: 0.8131\n",
      "Epoch 50/100\n",
      "54/54 [==============================] - 0s 4ms/step - loss: 0.3445 - accuracy: 0.8360 - val_loss: 0.4459 - val_accuracy: 0.8178\n",
      "Epoch 51/100\n",
      "54/54 [==============================] - 0s 4ms/step - loss: 0.3439 - accuracy: 0.8360 - val_loss: 0.4418 - val_accuracy: 0.8131\n",
      "Epoch 52/100\n",
      "54/54 [==============================] - 0s 4ms/step - loss: 0.3429 - accuracy: 0.8406 - val_loss: 0.4455 - val_accuracy: 0.8084\n",
      "Epoch 53/100\n",
      "54/54 [==============================] - 0s 4ms/step - loss: 0.3440 - accuracy: 0.8389 - val_loss: 0.4456 - val_accuracy: 0.8131\n",
      "Epoch 54/100\n",
      "54/54 [==============================] - 0s 4ms/step - loss: 0.3414 - accuracy: 0.8400 - val_loss: 0.4469 - val_accuracy: 0.8131\n",
      "Epoch 55/100\n",
      "54/54 [==============================] - 0s 4ms/step - loss: 0.3404 - accuracy: 0.8336 - val_loss: 0.4502 - val_accuracy: 0.8131\n",
      "Epoch 56/100\n",
      "54/54 [==============================] - 0s 3ms/step - loss: 0.3405 - accuracy: 0.8418 - val_loss: 0.4525 - val_accuracy: 0.8131\n",
      "Epoch 57/100\n",
      "54/54 [==============================] - 0s 4ms/step - loss: 0.3408 - accuracy: 0.8371 - val_loss: 0.4506 - val_accuracy: 0.8131\n",
      "Epoch 58/100\n",
      "54/54 [==============================] - 0s 4ms/step - loss: 0.3392 - accuracy: 0.8377 - val_loss: 0.4502 - val_accuracy: 0.8131\n",
      "Epoch 59/100\n",
      "54/54 [==============================] - 0s 4ms/step - loss: 0.3384 - accuracy: 0.8400 - val_loss: 0.4586 - val_accuracy: 0.8131\n",
      "Epoch 60/100\n",
      "54/54 [==============================] - 0s 4ms/step - loss: 0.3376 - accuracy: 0.8424 - val_loss: 0.4567 - val_accuracy: 0.8084\n",
      "Epoch 61/100\n",
      "54/54 [==============================] - 0s 4ms/step - loss: 0.3364 - accuracy: 0.8412 - val_loss: 0.4547 - val_accuracy: 0.8084\n",
      "Epoch 62/100\n",
      "54/54 [==============================] - 0s 4ms/step - loss: 0.3377 - accuracy: 0.8424 - val_loss: 0.4603 - val_accuracy: 0.8131\n",
      "Epoch 63/100\n",
      "54/54 [==============================] - 0s 4ms/step - loss: 0.3372 - accuracy: 0.8424 - val_loss: 0.4562 - val_accuracy: 0.8131\n",
      "Epoch 64/100\n",
      "54/54 [==============================] - 0s 4ms/step - loss: 0.3359 - accuracy: 0.8383 - val_loss: 0.4574 - val_accuracy: 0.8084\n",
      "Epoch 65/100\n",
      "54/54 [==============================] - 0s 4ms/step - loss: 0.3356 - accuracy: 0.8476 - val_loss: 0.4588 - val_accuracy: 0.8084\n",
      "Epoch 66/100\n",
      "54/54 [==============================] - 0s 4ms/step - loss: 0.3348 - accuracy: 0.8447 - val_loss: 0.4665 - val_accuracy: 0.8084\n",
      "Epoch 67/100\n",
      "54/54 [==============================] - 0s 4ms/step - loss: 0.3338 - accuracy: 0.8459 - val_loss: 0.4625 - val_accuracy: 0.8084\n",
      "Epoch 68/100\n",
      "54/54 [==============================] - 0s 4ms/step - loss: 0.3344 - accuracy: 0.8494 - val_loss: 0.4670 - val_accuracy: 0.8037\n",
      "Epoch 69/100\n",
      "54/54 [==============================] - 0s 4ms/step - loss: 0.3330 - accuracy: 0.8465 - val_loss: 0.4599 - val_accuracy: 0.8084\n",
      "Epoch 70/100\n",
      "54/54 [==============================] - 0s 4ms/step - loss: 0.3320 - accuracy: 0.8441 - val_loss: 0.4672 - val_accuracy: 0.8037\n",
      "Epoch 71/100\n",
      "54/54 [==============================] - 0s 4ms/step - loss: 0.3329 - accuracy: 0.8465 - val_loss: 0.4650 - val_accuracy: 0.7991\n",
      "Epoch 72/100\n",
      "54/54 [==============================] - 0s 4ms/step - loss: 0.3300 - accuracy: 0.8447 - val_loss: 0.4683 - val_accuracy: 0.8037\n",
      "Epoch 73/100\n",
      "54/54 [==============================] - 0s 3ms/step - loss: 0.3303 - accuracy: 0.8441 - val_loss: 0.4801 - val_accuracy: 0.8084\n",
      "Epoch 74/100\n",
      "54/54 [==============================] - 0s 4ms/step - loss: 0.3315 - accuracy: 0.8476 - val_loss: 0.4728 - val_accuracy: 0.8131\n",
      "Epoch 75/100\n",
      "54/54 [==============================] - 0s 4ms/step - loss: 0.3305 - accuracy: 0.8476 - val_loss: 0.4708 - val_accuracy: 0.8037\n",
      "Epoch 76/100\n",
      "54/54 [==============================] - 0s 4ms/step - loss: 0.3304 - accuracy: 0.8441 - val_loss: 0.4754 - val_accuracy: 0.7991\n",
      "Epoch 77/100\n",
      "54/54 [==============================] - 0s 4ms/step - loss: 0.3300 - accuracy: 0.8435 - val_loss: 0.4770 - val_accuracy: 0.8084\n",
      "Epoch 78/100\n",
      "54/54 [==============================] - 0s 5ms/step - loss: 0.3285 - accuracy: 0.8459 - val_loss: 0.4784 - val_accuracy: 0.7991\n",
      "Epoch 79/100\n",
      "54/54 [==============================] - 0s 5ms/step - loss: 0.3291 - accuracy: 0.8476 - val_loss: 0.4818 - val_accuracy: 0.8084\n",
      "Epoch 80/100\n",
      "54/54 [==============================] - 0s 4ms/step - loss: 0.3283 - accuracy: 0.8459 - val_loss: 0.4818 - val_accuracy: 0.8084\n",
      "Epoch 81/100\n",
      "54/54 [==============================] - 0s 4ms/step - loss: 0.3286 - accuracy: 0.8511 - val_loss: 0.4772 - val_accuracy: 0.8084\n",
      "Epoch 82/100\n",
      "54/54 [==============================] - 0s 4ms/step - loss: 0.3260 - accuracy: 0.8453 - val_loss: 0.4924 - val_accuracy: 0.8178\n",
      "Epoch 83/100\n",
      "54/54 [==============================] - 0s 4ms/step - loss: 0.3271 - accuracy: 0.8465 - val_loss: 0.4802 - val_accuracy: 0.7944\n",
      "Epoch 84/100\n",
      "54/54 [==============================] - 0s 4ms/step - loss: 0.3268 - accuracy: 0.8494 - val_loss: 0.4814 - val_accuracy: 0.7991\n",
      "Epoch 85/100\n",
      "54/54 [==============================] - 0s 4ms/step - loss: 0.3266 - accuracy: 0.8511 - val_loss: 0.4874 - val_accuracy: 0.8084\n",
      "Epoch 86/100\n",
      "54/54 [==============================] - 0s 4ms/step - loss: 0.3251 - accuracy: 0.8506 - val_loss: 0.4877 - val_accuracy: 0.7991\n",
      "Epoch 87/100\n",
      "54/54 [==============================] - 0s 4ms/step - loss: 0.3226 - accuracy: 0.8517 - val_loss: 0.4937 - val_accuracy: 0.8037\n",
      "Epoch 88/100\n",
      "54/54 [==============================] - 0s 4ms/step - loss: 0.3231 - accuracy: 0.8494 - val_loss: 0.4864 - val_accuracy: 0.8037\n",
      "Epoch 89/100\n",
      "54/54 [==============================] - 0s 4ms/step - loss: 0.3223 - accuracy: 0.8500 - val_loss: 0.4944 - val_accuracy: 0.8084\n",
      "Epoch 90/100\n",
      "54/54 [==============================] - 0s 4ms/step - loss: 0.3239 - accuracy: 0.8500 - val_loss: 0.4920 - val_accuracy: 0.8037\n",
      "Epoch 91/100\n",
      "54/54 [==============================] - 0s 4ms/step - loss: 0.3229 - accuracy: 0.8494 - val_loss: 0.4931 - val_accuracy: 0.8084\n",
      "Epoch 92/100\n",
      "54/54 [==============================] - 0s 4ms/step - loss: 0.3213 - accuracy: 0.8482 - val_loss: 0.4968 - val_accuracy: 0.7944\n",
      "Epoch 93/100\n",
      "54/54 [==============================] - 0s 4ms/step - loss: 0.3214 - accuracy: 0.8529 - val_loss: 0.4961 - val_accuracy: 0.8037\n",
      "Epoch 94/100\n",
      "54/54 [==============================] - 0s 4ms/step - loss: 0.3196 - accuracy: 0.8465 - val_loss: 0.4944 - val_accuracy: 0.8084\n",
      "Epoch 95/100\n",
      "54/54 [==============================] - 0s 5ms/step - loss: 0.3211 - accuracy: 0.8511 - val_loss: 0.4956 - val_accuracy: 0.8084\n",
      "Epoch 96/100\n",
      "54/54 [==============================] - 0s 4ms/step - loss: 0.3198 - accuracy: 0.8511 - val_loss: 0.5015 - val_accuracy: 0.8037\n",
      "Epoch 97/100\n",
      "54/54 [==============================] - 0s 4ms/step - loss: 0.3198 - accuracy: 0.8511 - val_loss: 0.4977 - val_accuracy: 0.8037\n",
      "Epoch 98/100\n",
      "54/54 [==============================] - 0s 4ms/step - loss: 0.3197 - accuracy: 0.8465 - val_loss: 0.5037 - val_accuracy: 0.8037\n",
      "Epoch 99/100\n",
      "54/54 [==============================] - 0s 6ms/step - loss: 0.3197 - accuracy: 0.8506 - val_loss: 0.5047 - val_accuracy: 0.8131\n",
      "Epoch 100/100\n",
      "54/54 [==============================] - 0s 5ms/step - loss: 0.3194 - accuracy: 0.8453 - val_loss: 0.5092 - val_accuracy: 0.7991\n"
     ]
    }
   ],
   "source": [
    "EPOCHS = 100\n",
    "BATCH_SIZE = 32\n",
    "\n",
    "\n",
    "# early_stopping = tf.keras.callbacks.EarlyStopping(monitor='val_loss', patience=6, verbose=1)\n",
    "# history =model.fit(train_ds, validation_data=val_ds,epochs=EPOCHS,batch_size=BATCH_SIZE,callbacks = [early_stopping])\n",
    "history =model.fit(train_ds, validation_data=val_ds,epochs=EPOCHS,batch_size=BATCH_SIZE)\n"
   ]
  },
  {
   "cell_type": "code",
   "execution_count": 330,
   "id": "f71e3efc-10f6-498b-97f6-5ed44b9534d0",
   "metadata": {},
   "outputs": [
    {
     "name": "stdout",
     "output_type": "stream",
     "text": [
      "7/7 [==============================] - 0s 3ms/step - loss: 0.5514 - accuracy: 0.7535\n",
      "Accuracy 0.7534883618354797\n"
     ]
    }
   ],
   "source": [
    "loss, accuracy = model.evaluate(test_ds)\n",
    "print(\"Accuracy\", accuracy)\n",
    "     "
   ]
  },
  {
   "cell_type": "code",
   "execution_count": 331,
   "id": "50f86605-c8aa-47d9-97da-9771844c236b",
   "metadata": {},
   "outputs": [
    {
     "name": "stdout",
     "output_type": "stream",
     "text": [
      "You must install pydot (`pip install pydot`) and install graphviz (see instructions at https://graphviz.gitlab.io/download/) for plot_model to work.\n"
     ]
    }
   ],
   "source": [
    "tf.keras.utils.plot_model(model, show_shapes=True, rankdir=\"LR\")"
   ]
  },
  {
   "cell_type": "code",
   "execution_count": 332,
   "id": "ab8f677c-dfa2-48b5-b980-6cc10f2e0033",
   "metadata": {},
   "outputs": [
    {
     "name": "stderr",
     "output_type": "stream",
     "text": [
      "WARNING:absl:Found untraced functions such as _update_step_xla while saving (showing 1 of 1). These functions will not be directly callable after loading.\n"
     ]
    },
    {
     "name": "stdout",
     "output_type": "stream",
     "text": [
      "INFO:tensorflow:Assets written to: critical_incident_dnn\\assets\n"
     ]
    },
    {
     "name": "stderr",
     "output_type": "stream",
     "text": [
      "INFO:tensorflow:Assets written to: critical_incident_dnn\\assets\n"
     ]
    }
   ],
   "source": [
    "model.save(model_dir)\n"
   ]
  },
  {
   "cell_type": "code",
   "execution_count": 302,
   "id": "dd916787-bacc-4537-b2b6-1c6d62932de8",
   "metadata": {},
   "outputs": [
    {
     "name": "stdout",
     "output_type": "stream",
     "text": [
      "severity_id                                        4\n",
      "severity_name                               Cosmatic\n",
      "sla                          24x7 4Hrs Response Time\n",
      "product_type                                Software\n",
      "brand                                    Trend Micro\n",
      "service_type                                 Request\n",
      "incident_type                   Configuration Change\n",
      "open_to_close_hour                          4.066667\n",
      "response_to_resolved_hour                       4.05\n",
      "Name: 2142, dtype: object\n"
     ]
    },
    {
     "name": "stderr",
     "output_type": "stream",
     "text": [
      "D:\\ProgramData\\Anaconda3\\envs\\dev_google\\lib\\site-packages\\keras\\engine\\functional.py:638: UserWarning: Input dict contained keys ['severity_id', 'severity_name'] which did not match any model input. They will be ignored by the model.\n",
      "  inputs = self._flatten_to_reference_inputs(inputs)\n"
     ]
    },
    {
     "name": "stdout",
     "output_type": "stream",
     "text": [
      "1/1 [==============================] - 0s 386ms/step\n",
      "[[-11.003057]]\n",
      "This particular pet had a 0.0 percent probability of getting adopted.\n"
     ]
    }
   ],
   "source": [
    "reloaded_model = tf.keras.models.load_model(model_dir)\n",
    "print(sr_predict)\n",
    "sample=sr_predict.to_dict()\n",
    "input_dict = {name: tf.convert_to_tensor([value]) for name, value in sample.items()}\n",
    "predictions = reloaded_model.predict(input_dict)\n",
    "print(predictions)\n",
    "prob = tf.nn.sigmoid(predictions[0])\n",
    "print(\n",
    "    \"This particular pet had a %.1f percent probability \"\n",
    "    \"of getting adopted.\" % (100 * prob)\n",
    ")                               "
   ]
  },
  {
   "cell_type": "code",
   "execution_count": 303,
   "id": "739ebc03-3f34-4f1a-92c4-b152887a538c",
   "metadata": {},
   "outputs": [
    {
     "data": {
      "image/png": "[encoded data removed]",
      "text/plain": [
       "<Figure size 1500x800 with 2 Axes>"
      ]
     },
     "metadata": {},
     "output_type": "display_data"
    }
   ],
   "source": [
    "plt.figure(figsize=(15,8))\n",
    "colors = plt.rcParams['axes.prop_cycle'].by_key()['color']\n",
    "\n",
    "def plot_metrics(history):\n",
    "  metrics =  ['loss', 'accuracy']\n",
    "  for n, metric in enumerate(metrics):\n",
    "    name = metric.replace(\"_\",\" \").capitalize()\n",
    "    plt.subplot(2,2,n+1)\n",
    "    plt.plot(history.epoch,  history.history[metric], color=colors[0], label='Train')\n",
    "    plt.plot(history.epoch, history.history['val_'+metric],\n",
    "             color=colors[0], linestyle=\"--\", label='Val')\n",
    "    plt.xlabel('Epoch')\n",
    "    plt.ylabel(name)\n",
    "    if metric == 'loss':\n",
    "      plt.ylim([0, plt.ylim()[1]])\n",
    "    elif metric == 'auc':\n",
    "      plt.ylim([0.8,1])\n",
    "    else:\n",
    "      plt.ylim([0,1])\n",
    "\n",
    "    plt.legend()\n",
    "\n",
    "plot_metrics(history)"
   ]
  },
  {
   "cell_type": "code",
   "execution_count": 273,
   "id": "e591b434-35eb-4750-b360-11e2f885c6fa",
   "metadata": {},
   "outputs": [],
   "source": [
    "# from explainable_ai_sdk.metadata.tf.v2 import SavedModelMetadataBuilder\n",
    "# import explainable_ai_sdk\n",
    "\n",
    "# model_builder = SavedModelMetadataBuilder(model_dir)\n",
    "# metadata = model_builder.get_metadata()\n",
    "# print(metadata)"
   ]
  },
  {
   "cell_type": "code",
   "execution_count": 274,
   "id": "b3dcdd05-4b59-4590-9605-c5325313ac4b",
   "metadata": {},
   "outputs": [],
   "source": [
    "# # Update these to your own GCP project and model\n",
    "# PROJECT_ID = 'pongthorn'\n",
    "# REGION = \"asia-southeast1\"  # @param {type: \"string\"}\n",
    "# MODEL_BUCKET = 'gs://tf1-incident-pongthorn'\n",
    "\n",
    "# !gsutil mb -l$REGION $MODEL_BUCKET"
   ]
  },
  {
   "cell_type": "code",
   "execution_count": 275,
   "id": "90c2006e-022f-43f6-9b4f-105b350b535a",
   "metadata": {},
   "outputs": [],
   "source": [
    "# !gsutil -m cp -r ./$model_dir/* $MODEL_BUCKET/model"
   ]
  },
  {
   "cell_type": "markdown",
   "id": "9fc32a07-c2fc-4ff6-a771-fc3532630f01",
   "metadata": {},
   "source": [
    "# Deploy the model"
   ]
  },
  {
   "cell_type": "code",
   "execution_count": 385,
   "id": "20082661-dc7f-414b-a759-3478163adcdf",
   "metadata": {},
   "outputs": [],
   "source": [
    "# MODEL = 'tf1_incident'\n",
    "# VERSION = 'v1'\n",
    "# model_path = MODEL_BUCKET + '/model'"
   ]
  },
  {
   "cell_type": "code",
   "execution_count": 392,
   "id": "ad83952a-aa9f-4126-b36c-128723cc608a",
   "metadata": {},
   "outputs": [],
   "source": [
    "# !gcloud ai-platform models create $MODEL --region=$REGION"
   ]
  },
  {
   "cell_type": "code",
   "execution_count": null,
   "id": "6465851a-f078-41a2-991c-80a71d3e695d",
   "metadata": {},
   "outputs": [],
   "source": []
  }
 ],
 "metadata": {
  "kernelspec": {
   "display_name": "Python 3 (ipykernel)",
   "language": "python",
   "name": "python3"
  },
  "language_info": {
   "codemirror_mode": {
    "name": "ipython",
    "version": 3
   },
   "file_extension": ".py",
   "mimetype": "text/x-python",
   "name": "python",
   "nbconvert_exporter": "python",
   "pygments_lexer": "ipython3",
   "version": "3.9.16"
  }
 },
 "nbformat": 4,
 "nbformat_minor": 5
}
