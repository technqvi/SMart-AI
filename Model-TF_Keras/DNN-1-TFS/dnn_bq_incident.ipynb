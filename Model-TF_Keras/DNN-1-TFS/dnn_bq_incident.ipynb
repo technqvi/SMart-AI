{
 "cells": [
  {
   "cell_type": "code",
   "execution_count": 12,
   "id": "efd54814-e227-4302-9a81-3d6ddcf0e9a5",
   "metadata": {},
   "outputs": [
    {
     "data": {
      "text/plain": [
       "'2.11.0'"
      ]
     },
     "execution_count": 12,
     "metadata": {},
     "output_type": "execute_result"
    }
   ],
   "source": [
    "# import necessary libraries\n",
    "import numpy as np\n",
    "import pandas as pd\n",
    "import tensorflow as tf\n",
    "import matplotlib.pyplot as plt\n",
    "import seaborn as sns\n",
    "\n",
    "from tensorflow.keras import Sequential\n",
    "from tensorflow.keras.layers import Dense,DenseFeatures\n",
    "\n",
    "\n",
    "\n",
    "from sklearn.model_selection import train_test_split\n",
    "from tensorflow.keras import layers\n",
    "from tensorflow.keras.layers.experimental import preprocessing\n",
    "\n",
    "tf.__version__"
   ]
  },
  {
   "cell_type": "code",
   "execution_count": 13,
   "id": "300e7850-0b43-4731-9253-684ba1a6a8d2",
   "metadata": {},
   "outputs": [],
   "source": [
    "\n",
    "#https://codelabs.developers.google.com/codelabs/fraud-detection-ai-explanations?hl=en#0\n",
    "#he Explainable AI SDK and Copy Model to Deploy\n",
    "\n",
    "#https://github.com/GoogleCloudPlatform/training-data-analyst/blob/master/courses/machine_learning/deepdive2/introduction_to_tensorflow/solutions/preprocessing_layers.ipynb"
   ]
  },
  {
   "cell_type": "code",
   "execution_count": 14,
   "id": "566531dc-5434-4689-b6d4-83b3f5d736b5",
   "metadata": {},
   "outputs": [],
   "source": [
    "#!gsutil cp gs://smart-ml-pongthorn/incident-train-data/TrainEval_Incident.csv data"
   ]
  },
  {
   "cell_type": "code",
   "execution_count": 42,
   "id": "d28a9538-ca23-45f0-817b-e4b067cf9ab3",
   "metadata": {},
   "outputs": [],
   "source": [
    "cateCols=['sla','product_type','brand','service_type','incident_type']\n",
    "numbericCols=['open_to_close_hour','response_to_resolved_hour']\n",
    "labelCol='Critical'\n",
    "labelID='severity_id'\n",
    "unusedCols=['severity_id','severity_name']\n",
    "\n",
    "model_dir='critical_incident_dnn'"
   ]
  },
  {
   "cell_type": "code",
   "execution_count": 75,
   "id": "b696aedc-f937-4ae8-91e0-1621d4323af9",
   "metadata": {},
   "outputs": [
    {
     "name": "stdout",
     "output_type": "stream",
     "text": [
      "<class 'pandas.core.frame.DataFrame'>\n",
      "RangeIndex: 2136 entries, 0 to 2135\n",
      "Data columns (total 9 columns):\n",
      " #   Column                     Non-Null Count  Dtype  \n",
      "---  ------                     --------------  -----  \n",
      " 0   severity_id                2136 non-null   int64  \n",
      " 1   severity_name              2136 non-null   object \n",
      " 2   sla                        2136 non-null   object \n",
      " 3   product_type               2136 non-null   object \n",
      " 4   brand                      2136 non-null   object \n",
      " 5   service_type               2136 non-null   object \n",
      " 6   incident_type              2136 non-null   object \n",
      " 7   open_to_close_hour         2136 non-null   float64\n",
      " 8   response_to_resolved_hour  2136 non-null   float64\n",
      "dtypes: float64(2), int64(1), object(6)\n",
      "memory usage: 150.3+ KB\n",
      "None\n"
     ]
    }
   ],
   "source": [
    "df = pd.read_csv('../data/TrainEval_Incident.csv')\n",
    "\n",
    "sr_predict=df.iloc[-1,:]\n",
    "df=df.iloc[0:len(df)-1,:]\n",
    "print(df.info())"
   ]
  },
  {
   "cell_type": "code",
   "execution_count": 44,
   "id": "354b3da3-2b41-4d63-aae5-ec5be0540db1",
   "metadata": {},
   "outputs": [
    {
     "name": "stdout",
     "output_type": "stream",
     "text": [
      "No target label : 2\n"
     ]
    }
   ],
   "source": [
    "def map_4to2_serverity(severity_id):\n",
    "    if severity_id==1 or severity_id==2:\n",
    "       return 1\n",
    "    else:\n",
    "       return 0 \n",
    "df[labelCol] =df[labelID].apply(map_4to2_serverity)\n",
    "\n",
    "# df[labelCol] = df['severity_name'].map({'Cosmatic':0,'Minor': 1, \"Major\": 2, \"Critical\": 3})\n",
    "\n",
    "df =df.drop(columns=unusedCols)\n",
    "       \n",
    "nLabel=len(list(df[labelCol].unique()))\n",
    "\n",
    "print(f\"No target label : {nLabel}\")\n"
   ]
  },
  {
   "cell_type": "code",
   "execution_count": 45,
   "id": "c59e9916-6668-4c4e-8974-af63c3f840b0",
   "metadata": {},
   "outputs": [
    {
     "data": {
      "image/png": "[encoded data removed]",
      "text/plain": [
       "<Figure size 1500x500 with 1 Axes>"
      ]
     },
     "metadata": {},
     "output_type": "display_data"
    }
   ],
   "source": [
    "fig , ax = plt.subplots(figsize=(15,5))\n",
    "ax =sns.countplot(x=labelCol, data=df,)\n",
    "for p in ax.patches:\n",
    "   ax.annotate('{:.1f}'.format(p.get_height()), (p.get_x()+0.25, p.get_height()+0.01))\n",
    "plt.title(labelCol.title())\n",
    "plt.show()"
   ]
  },
  {
   "cell_type": "code",
   "execution_count": 46,
   "id": "e37895d9-c15a-4a9e-a723-7b43ed7f7940",
   "metadata": {},
   "outputs": [
    {
     "data": {
      "text/html": [
       "<div>\n",
       "<style scoped>\n",
       "    .dataframe tbody tr th:only-of-type {\n",
       "        vertical-align: middle;\n",
       "    }\n",
       "\n",
       "    .dataframe tbody tr th {\n",
       "        vertical-align: top;\n",
       "    }\n",
       "\n",
       "    .dataframe thead th {\n",
       "        text-align: right;\n",
       "    }\n",
       "</style>\n",
       "<table border=\"1\" class=\"dataframe\">\n",
       "  <thead>\n",
       "    <tr style=\"text-align: right;\">\n",
       "      <th></th>\n",
       "      <th>sla</th>\n",
       "      <th>product_type</th>\n",
       "      <th>brand</th>\n",
       "      <th>service_type</th>\n",
       "      <th>incident_type</th>\n",
       "      <th>open_to_close_hour</th>\n",
       "      <th>response_to_resolved_hour</th>\n",
       "      <th>Critical</th>\n",
       "    </tr>\n",
       "  </thead>\n",
       "  <tbody>\n",
       "    <tr>\n",
       "      <th>2131</th>\n",
       "      <td>24x7 4Hrs Response Time</td>\n",
       "      <td>Storage</td>\n",
       "      <td>NetApp</td>\n",
       "      <td>Incident</td>\n",
       "      <td>Hard Disk Drive Failure</td>\n",
       "      <td>4.166667</td>\n",
       "      <td>4.083333</td>\n",
       "      <td>1</td>\n",
       "    </tr>\n",
       "    <tr>\n",
       "      <th>2132</th>\n",
       "      <td>24x7 4Hrs Response Time</td>\n",
       "      <td>Software</td>\n",
       "      <td>VMWare</td>\n",
       "      <td>Incident</td>\n",
       "      <td>General Incident</td>\n",
       "      <td>6.433333</td>\n",
       "      <td>1.033333</td>\n",
       "      <td>0</td>\n",
       "    </tr>\n",
       "    <tr>\n",
       "      <th>2133</th>\n",
       "      <td>24x7 4Hrs Resolution Time</td>\n",
       "      <td>Firewall</td>\n",
       "      <td>Palo Alto</td>\n",
       "      <td>Incident</td>\n",
       "      <td>General Incident</td>\n",
       "      <td>0.583333</td>\n",
       "      <td>0.350000</td>\n",
       "      <td>1</td>\n",
       "    </tr>\n",
       "    <tr>\n",
       "      <th>2134</th>\n",
       "      <td>24x7 4Hrs Resolution Time</td>\n",
       "      <td>Software</td>\n",
       "      <td>Red Hat</td>\n",
       "      <td>Incident</td>\n",
       "      <td>General Incident</td>\n",
       "      <td>119.433333</td>\n",
       "      <td>119.333333</td>\n",
       "      <td>1</td>\n",
       "    </tr>\n",
       "    <tr>\n",
       "      <th>2135</th>\n",
       "      <td>24x7 4Hrs Resolution Time</td>\n",
       "      <td>Server</td>\n",
       "      <td>Oracle</td>\n",
       "      <td>Incident</td>\n",
       "      <td>General Incident</td>\n",
       "      <td>23.500000</td>\n",
       "      <td>23.250000</td>\n",
       "      <td>1</td>\n",
       "    </tr>\n",
       "  </tbody>\n",
       "</table>\n",
       "</div>"
      ],
      "text/plain": [
       "                            sla product_type      brand service_type  \\\n",
       "2131    24x7 4Hrs Response Time      Storage     NetApp     Incident   \n",
       "2132    24x7 4Hrs Response Time     Software     VMWare     Incident   \n",
       "2133  24x7 4Hrs Resolution Time     Firewall  Palo Alto     Incident   \n",
       "2134  24x7 4Hrs Resolution Time     Software    Red Hat     Incident   \n",
       "2135  24x7 4Hrs Resolution Time       Server     Oracle     Incident   \n",
       "\n",
       "                incident_type  open_to_close_hour  response_to_resolved_hour  \\\n",
       "2131  Hard Disk Drive Failure            4.166667                   4.083333   \n",
       "2132         General Incident            6.433333                   1.033333   \n",
       "2133         General Incident            0.583333                   0.350000   \n",
       "2134         General Incident          119.433333                 119.333333   \n",
       "2135         General Incident           23.500000                  23.250000   \n",
       "\n",
       "      Critical  \n",
       "2131         1  \n",
       "2132         0  \n",
       "2133         1  \n",
       "2134         1  \n",
       "2135         1  "
      ]
     },
     "execution_count": 46,
     "metadata": {},
     "output_type": "execute_result"
    }
   ],
   "source": [
    "df.tail()"
   ]
  },
  {
   "cell_type": "code",
   "execution_count": 47,
   "id": "96a769a9-1c8a-497a-b2ea-35aabe040c51",
   "metadata": {},
   "outputs": [
    {
     "data": {
      "text/plain": [
       "severity_id                                          3\n",
       "severity_name                                    Minor\n",
       "sla                          24x7 4Hrs Resolution Time\n",
       "product_type                                    Server\n",
       "brand                                              HPE\n",
       "service_type                                  Incident\n",
       "incident_type                           Memory Failure\n",
       "open_to_close_hour                           95.666667\n",
       "response_to_resolved_hour                         95.5\n",
       "Name: 2136, dtype: object"
      ]
     },
     "execution_count": 47,
     "metadata": {},
     "output_type": "execute_result"
    }
   ],
   "source": [
    "sr_predict"
   ]
  },
  {
   "cell_type": "code",
   "execution_count": 48,
   "id": "4fa0282b-beb3-4e4a-b892-041410cbc9ce",
   "metadata": {},
   "outputs": [
    {
     "name": "stdout",
     "output_type": "stream",
     "text": [
      "All Data = 2136\n",
      "1708 =train examples (80.0%)\n",
      "214 =val examples (10.0%)\n",
      "214 =test examples (10.0%)\n"
     ]
    }
   ],
   "source": [
    "len_all=len(df)\n",
    "print(f\"All Data = {len_all}\")\n",
    "\n",
    "train, val = train_test_split(df,test_size=0.2)\n",
    "val,test = train_test_split(val, test_size=0.5)\n",
    "\n",
    "len_all=len(df)\n",
    "len_train=len(train)\n",
    "len_val=len(val)\n",
    "len_test=len(test)\n",
    "print(f'{len_train} =train examples ({round(len_train/len_all*100,1)}%)')\n",
    "print(f'{len_val} =val examples ({round(len_val/len_all*100,1)}%)')\n",
    "print(f'{len_test} =test examples ({round(len_test/len_all*100,1)}%)')\n",
    "\n",
    "\n"
   ]
  },
  {
   "cell_type": "code",
   "execution_count": 49,
   "id": "d9d3a943-09d5-4a43-b8d8-633bc4a90353",
   "metadata": {},
   "outputs": [],
   "source": [
    "# A utility method to create a tf.data dataset from a Pandas Dataframe\n",
    "def df_to_dataset(dataframe, shuffle=True, batch_size=32):\n",
    "  dataframe = dataframe.copy()\n",
    "  labels = dataframe.pop(labelCol)\n",
    "  ds = tf.data.Dataset.from_tensor_slices((dict(dataframe), labels))\n",
    "  if shuffle:\n",
    "    ds = ds.shuffle(buffer_size=len(dataframe))\n",
    "  ds = ds.batch(batch_size)\n",
    "  ds = ds.prefetch(batch_size)\n",
    "  return ds\n",
    "     "
   ]
  },
  {
   "cell_type": "code",
   "execution_count": 50,
   "id": "bf51e019-91ce-4e47-a9e1-38f557de53f6",
   "metadata": {},
   "outputs": [],
   "source": [
    "batch_size = 5\n",
    "train_ds = df_to_dataset(train, batch_size=batch_size)"
   ]
  },
  {
   "cell_type": "code",
   "execution_count": 51,
   "id": "274122c2-9481-438b-b637-6e6ad393d809",
   "metadata": {},
   "outputs": [
    {
     "name": "stdout",
     "output_type": "stream",
     "text": [
      "Every feature: ['sla', 'product_type', 'brand', 'service_type', 'incident_type', 'open_to_close_hour', 'response_to_resolved_hour']\n",
      "service_type: tf.Tensor([b'Incident' b'Incident' b'Request' b'Incident' b'Incident'], shape=(5,), dtype=string)\n",
      "incident_type: tf.Tensor(\n",
      "[b'Hard Disk Drive Failure' b'Software' b'General Incident'\n",
      " b'General Incident' b'General Incident'], shape=(5,), dtype=string)\n",
      "product_type: tf.Tensor([b'Storage' b'Software' b'Storage' b'Software' b'Storage'], shape=(5,), dtype=string)\n",
      "open_to_close_hour: tf.Tensor(\n",
      "[8.99166667e+01 5.20000000e+00 1.44230000e+03 3.02333333e+01\n",
      " 1.20000000e+00], shape=(5,), dtype=float64)\n",
      "Critical :[1 1 0 0 1]\n"
     ]
    }
   ],
   "source": [
    "[(train_features, label_batch)] = train_ds.take(1)\n",
    "print('Every feature:', list(train_features.keys()))\n",
    "print('service_type:', train_features['service_type'])\n",
    "print('incident_type:', train_features['incident_type'])\n",
    "print('product_type:', train_features['product_type'])\n",
    "print('open_to_close_hour:', train_features['open_to_close_hour'])\n",
    "print(f'{labelCol} :{label_batch }')"
   ]
  },
  {
   "cell_type": "code",
   "execution_count": 52,
   "id": "02ad8837-968e-4d68-bdb6-1c7eba97e69c",
   "metadata": {},
   "outputs": [],
   "source": [
    "def get_normalization_layer(name, dataset):\n",
    "  # Create a Normalization layer for our feature.\n",
    "  normalizer = preprocessing.Normalization(axis=None)\n",
    "\n",
    "  # Prepare a Dataset that only yields our feature.\n",
    "  feature_ds = dataset.map(lambda x, y: x[name])\n",
    "\n",
    "  # Learn the statistics of the data.\n",
    "  normalizer.adapt(feature_ds)\n",
    "\n",
    "  return normalizer"
   ]
  },
  {
   "cell_type": "code",
   "execution_count": 53,
   "id": "62266860-62da-4126-be6c-5cb4bf35f8a7",
   "metadata": {},
   "outputs": [
    {
     "data": {
      "text/plain": [
       "<tf.Tensor: shape=(5,), dtype=float32, numpy=\n",
       "array([-0.00933218, -0.33942586,  5.260153  , -0.24188489, -0.35501164],\n",
       "      dtype=float32)>"
      ]
     },
     "execution_count": 53,
     "metadata": {},
     "output_type": "execute_result"
    }
   ],
   "source": [
    "hour_col = train_features['open_to_close_hour']\n",
    "layer = get_normalization_layer('open_to_close_hour', train_ds)\n",
    "layer(hour_col)"
   ]
  },
  {
   "cell_type": "code",
   "execution_count": 54,
   "id": "237bce3c-9c77-4318-8682-fc36af0a6804",
   "metadata": {},
   "outputs": [],
   "source": [
    "def get_category_encoding_layer(name, dataset, dtype, max_tokens=None):\n",
    "  # Create a StringLookup layer which will turn strings into integer indices\n",
    "  if dtype == 'string':\n",
    "    index = preprocessing.StringLookup(max_tokens=max_tokens)\n",
    "  else:\n",
    "    index = preprocessing.IntegerLookup(max_tokens=max_tokens)\n",
    "\n",
    "  # Prepare a Dataset that only yields our feature\n",
    "  feature_ds = dataset.map(lambda x, y: x[name])\n",
    "\n",
    "  # Learn the set of possible values and assign them a fixed integer index.\n",
    "  index.adapt(feature_ds)\n",
    "\n",
    "  # Create a Discretization for our integer indices.\n",
    "  encoder = preprocessing.CategoryEncoding(num_tokens=index.vocabulary_size())\n",
    "\n",
    "  # Apply one-hot encoding to our indices. The lambda function captures the\n",
    "  # layer so we can use them, or include them in the functional model later.\n",
    "  return lambda feature: encoder(index(feature))\n",
    "     "
   ]
  },
  {
   "cell_type": "code",
   "execution_count": 55,
   "id": "19c0de50-a1fb-44b9-b91f-555ac779ec40",
   "metadata": {},
   "outputs": [
    {
     "data": {
      "text/plain": [
       "<tf.Tensor: shape=(10,), dtype=float32, numpy=array([0., 0., 1., 1., 0., 0., 0., 0., 0., 0.], dtype=float32)>"
      ]
     },
     "execution_count": 55,
     "metadata": {},
     "output_type": "execute_result"
    }
   ],
   "source": [
    "# total no type+unkonw\n",
    "type_col = train_features['product_type']\n",
    "layer = get_category_encoding_layer('product_type', train_ds, 'string')\n",
    "layer(type_col)"
   ]
  },
  {
   "cell_type": "code",
   "execution_count": 56,
   "id": "5b3122dc-b371-46ec-bd8c-82e81eb44ad1",
   "metadata": {},
   "outputs": [],
   "source": [
    "batch_size = 256\n",
    "train_ds = df_to_dataset(train, batch_size=batch_size)\n",
    "val_ds = df_to_dataset(val, shuffle=False, batch_size=batch_size)\n",
    "test_ds = df_to_dataset(test, shuffle=False, batch_size=batch_size)"
   ]
  },
  {
   "cell_type": "code",
   "execution_count": 57,
   "id": "e9958d24-4d8f-4527-bc19-c657e1d9b22e",
   "metadata": {},
   "outputs": [],
   "source": [
    "all_inputs = []\n",
    "encoded_features = []"
   ]
  },
  {
   "cell_type": "code",
   "execution_count": 58,
   "id": "723a69b6-d9c1-49d9-bc81-ed421d8700cb",
   "metadata": {},
   "outputs": [
    {
     "name": "stdout",
     "output_type": "stream",
     "text": [
      "open_to_close_hour\n",
      "response_to_resolved_hour\n"
     ]
    }
   ],
   "source": [
    "# Numeric features.\n",
    "for header in numbericCols:\n",
    "  print(header)  \n",
    "  numeric_col = tf.keras.Input(shape=(1,), name=header)\n",
    "  normalization_layer = get_normalization_layer(header, train_ds)\n",
    "  encoded_numeric_col = normalization_layer(numeric_col)\n",
    "  all_inputs.append(numeric_col)\n",
    "  encoded_features.append(encoded_numeric_col)"
   ]
  },
  {
   "cell_type": "code",
   "execution_count": 59,
   "id": "41b59cb7-0c30-42f7-b87f-f408c72dcc72",
   "metadata": {},
   "outputs": [
    {
     "name": "stdout",
     "output_type": "stream",
     "text": [
      "sla\n",
      "product_type\n",
      "brand\n",
      "service_type\n",
      "incident_type\n"
     ]
    }
   ],
   "source": [
    "# Categorical features encoded as string.\n",
    "categorical_cols = cateCols\n",
    "for header in categorical_cols:\n",
    "  print(header)  \n",
    "  categorical_col = tf.keras.Input(shape=(1,), name=header, dtype='string')\n",
    "  encoding_layer = get_category_encoding_layer(header, train_ds, dtype='string')\n",
    "                                        \n",
    "  encoded_categorical_col = encoding_layer(categorical_col)\n",
    "  all_inputs.append(categorical_col)\n",
    "  encoded_features.append(encoded_categorical_col)\n"
   ]
  },
  {
   "cell_type": "code",
   "execution_count": 63,
   "id": "f89ba051-c41f-432a-b306-7ab9dad5ad92",
   "metadata": {},
   "outputs": [],
   "source": [
    "all_features = tf.keras.layers.concatenate(encoded_features)\n",
    "\n",
    "x = tf.keras.layers.Dense(16, activation=\"relu\")(all_features)\n",
    "# x = tf.keras.layers.Dropout(0.2)(x)\n",
    "\n",
    "x = tf.keras.layers.Dense(16, activation=\"relu\")(x)\n",
    "# x = tf.keras.layers.Dropout(0.2)(x)\n",
    "\n",
    "output = tf.keras.layers.Dense(1)(x)\n",
    "# output = tf.keras.layers.Dense(nLabel,activation=tf.nn.softmax)(x)\n",
    "\n",
    "model = tf.keras.Model(all_inputs, output)\n",
    "\n",
    "\n",
    "# METRICS = [\n",
    "#       keras.metrics.TruePositives(name='tp'),\n",
    "#       keras.metrics.FalsePositives(name='fp'),\n",
    "#       keras.metrics.TrueNegatives(name='tn'),\n",
    "#       keras.metrics.FalseNegatives(name='fn'), \n",
    "#       keras.metrics.BinaryAccuracy(name='accuracy'),\n",
    "#       keras.metrics.Precision(name='precision'),\n",
    "#       keras.metrics.Recall(name='recall'),\n",
    "#       keras.metrics.AUC(name='auc'),\n",
    "# ]\n",
    "\n",
    "\n",
    "model.compile(optimizer='adam',\n",
    "              loss=tf.keras.losses.BinaryCrossentropy(from_logits=True),\n",
    "              metrics=[\"accuracy\"])\n",
    "\n",
    "# model.compile(optimizer='adam',\n",
    "#               loss=tf.keras.losses.CategoricalCrossentropy(),\n",
    "#               metrics=[\"accuracy\"])\n",
    "     "
   ]
  },
  {
   "cell_type": "code",
   "execution_count": 64,
   "id": "8d8227dc-0e69-43fd-80cd-ed01a403c34d",
   "metadata": {},
   "outputs": [
    {
     "name": "stdout",
     "output_type": "stream",
     "text": [
      "Model: \"model_4\"\n",
      "__________________________________________________________________________________________________\n",
      " Layer (type)                   Output Shape         Param #     Connected to                     \n",
      "==================================================================================================\n",
      " sla (InputLayer)               [(None, 1)]          0           []                               \n",
      "                                                                                                  \n",
      " product_type (InputLayer)      [(None, 1)]          0           []                               \n",
      "                                                                                                  \n",
      " brand (InputLayer)             [(None, 1)]          0           []                               \n",
      "                                                                                                  \n",
      " service_type (InputLayer)      [(None, 1)]          0           []                               \n",
      "                                                                                                  \n",
      " incident_type (InputLayer)     [(None, 1)]          0           []                               \n",
      "                                                                                                  \n",
      " open_to_close_hour (InputLayer  [(None, 1)]         0           []                               \n",
      " )                                                                                                \n",
      "                                                                                                  \n",
      " response_to_resolved_hour (Inp  [(None, 1)]         0           []                               \n",
      " utLayer)                                                                                         \n",
      "                                                                                                  \n",
      " string_lookup_7 (StringLookup)  (None, 1)           0           ['sla[0][0]']                    \n",
      "                                                                                                  \n",
      " string_lookup_8 (StringLookup)  (None, 1)           0           ['product_type[0][0]']           \n",
      "                                                                                                  \n",
      " string_lookup_9 (StringLookup)  (None, 1)           0           ['brand[0][0]']                  \n",
      "                                                                                                  \n",
      " string_lookup_10 (StringLookup  (None, 1)           0           ['service_type[0][0]']           \n",
      " )                                                                                                \n",
      "                                                                                                  \n",
      " string_lookup_11 (StringLookup  (None, 1)           0           ['incident_type[0][0]']          \n",
      " )                                                                                                \n",
      "                                                                                                  \n",
      " normalization_4 (Normalization  (None, 1)           3           ['open_to_close_hour[0][0]']     \n",
      " )                                                                                                \n",
      "                                                                                                  \n",
      " normalization_5 (Normalization  (None, 1)           3           ['response_to_resolved_hour[0][0]\n",
      " )                                                               ']                               \n",
      "                                                                                                  \n",
      " category_encoding_7 (CategoryE  (None, 7)           0           ['string_lookup_7[0][0]']        \n",
      " ncoding)                                                                                         \n",
      "                                                                                                  \n",
      " category_encoding_8 (CategoryE  (None, 10)          0           ['string_lookup_8[0][0]']        \n",
      " ncoding)                                                                                         \n",
      "                                                                                                  \n",
      " category_encoding_9 (CategoryE  (None, 23)          0           ['string_lookup_9[0][0]']        \n",
      " ncoding)                                                                                         \n",
      "                                                                                                  \n",
      " category_encoding_10 (Category  (None, 3)           0           ['string_lookup_10[0][0]']       \n",
      " Encoding)                                                                                        \n",
      "                                                                                                  \n",
      " category_encoding_11 (Category  (None, 22)          0           ['string_lookup_11[0][0]']       \n",
      " Encoding)                                                                                        \n",
      "                                                                                                  \n",
      " concatenate_4 (Concatenate)    (None, 67)           0           ['normalization_4[0][0]',        \n",
      "                                                                  'normalization_5[0][0]',        \n",
      "                                                                  'category_encoding_7[0][0]',    \n",
      "                                                                  'category_encoding_8[0][0]',    \n",
      "                                                                  'category_encoding_9[0][0]',    \n",
      "                                                                  'category_encoding_10[0][0]',   \n",
      "                                                                  'category_encoding_11[0][0]']   \n",
      "                                                                                                  \n",
      " dense_12 (Dense)               (None, 16)           1088        ['concatenate_4[0][0]']          \n",
      "                                                                                                  \n",
      " dense_13 (Dense)               (None, 16)           272         ['dense_12[0][0]']               \n",
      "                                                                                                  \n",
      " dense_14 (Dense)               (None, 1)            17          ['dense_13[0][0]']               \n",
      "                                                                                                  \n",
      "==================================================================================================\n",
      "Total params: 1,383\n",
      "Trainable params: 1,377\n",
      "Non-trainable params: 6\n",
      "__________________________________________________________________________________________________\n"
     ]
    }
   ],
   "source": [
    "model.summary()\n"
   ]
  },
  {
   "cell_type": "code",
   "execution_count": 67,
   "id": "25688a22-05f5-4cac-b662-d261b5dcfb78",
   "metadata": {},
   "outputs": [
    {
     "name": "stdout",
     "output_type": "stream",
     "text": [
      "Epoch 1/150\n",
      "7/7 [==============================] - 0s 8ms/step - loss: 0.3598 - accuracy: 0.8226 - val_loss: 0.4836 - val_accuracy: 0.7850\n",
      "Epoch 2/150\n",
      "7/7 [==============================] - 0s 7ms/step - loss: 0.3593 - accuracy: 0.8214 - val_loss: 0.4831 - val_accuracy: 0.7850\n",
      "Epoch 3/150\n",
      "7/7 [==============================] - 0s 7ms/step - loss: 0.3585 - accuracy: 0.8232 - val_loss: 0.4846 - val_accuracy: 0.7897\n",
      "Epoch 4/150\n",
      "7/7 [==============================] - 0s 8ms/step - loss: 0.3581 - accuracy: 0.8232 - val_loss: 0.4851 - val_accuracy: 0.7897\n",
      "Epoch 5/150\n",
      "7/7 [==============================] - 0s 9ms/step - loss: 0.3577 - accuracy: 0.8208 - val_loss: 0.4857 - val_accuracy: 0.7804\n",
      "Epoch 6/150\n",
      "7/7 [==============================] - 0s 9ms/step - loss: 0.3583 - accuracy: 0.8226 - val_loss: 0.4857 - val_accuracy: 0.7897\n",
      "Epoch 7/150\n",
      "7/7 [==============================] - 0s 8ms/step - loss: 0.3569 - accuracy: 0.8226 - val_loss: 0.4878 - val_accuracy: 0.7850\n",
      "Epoch 8/150\n",
      "7/7 [==============================] - 0s 9ms/step - loss: 0.3570 - accuracy: 0.8197 - val_loss: 0.4877 - val_accuracy: 0.7850\n",
      "Epoch 9/150\n",
      "7/7 [==============================] - 0s 8ms/step - loss: 0.3559 - accuracy: 0.8232 - val_loss: 0.4888 - val_accuracy: 0.7850\n",
      "Epoch 10/150\n",
      "7/7 [==============================] - 0s 7ms/step - loss: 0.3563 - accuracy: 0.8238 - val_loss: 0.4903 - val_accuracy: 0.7850\n",
      "Epoch 11/150\n",
      "7/7 [==============================] - 0s 7ms/step - loss: 0.3549 - accuracy: 0.8226 - val_loss: 0.4899 - val_accuracy: 0.7850\n",
      "Epoch 12/150\n",
      "7/7 [==============================] - 0s 7ms/step - loss: 0.3551 - accuracy: 0.8197 - val_loss: 0.4899 - val_accuracy: 0.7850\n",
      "Epoch 13/150\n",
      "7/7 [==============================] - 0s 7ms/step - loss: 0.3546 - accuracy: 0.8220 - val_loss: 0.4907 - val_accuracy: 0.7850\n",
      "Epoch 14/150\n",
      "7/7 [==============================] - 0s 8ms/step - loss: 0.3541 - accuracy: 0.8232 - val_loss: 0.4910 - val_accuracy: 0.7850\n",
      "Epoch 15/150\n",
      "7/7 [==============================] - 0s 8ms/step - loss: 0.3539 - accuracy: 0.8203 - val_loss: 0.4916 - val_accuracy: 0.7850\n",
      "Epoch 16/150\n",
      "7/7 [==============================] - 0s 7ms/step - loss: 0.3534 - accuracy: 0.8208 - val_loss: 0.4929 - val_accuracy: 0.7850\n",
      "Epoch 17/150\n",
      "7/7 [==============================] - 0s 7ms/step - loss: 0.3531 - accuracy: 0.8232 - val_loss: 0.4935 - val_accuracy: 0.7850\n",
      "Epoch 18/150\n",
      "7/7 [==============================] - 0s 7ms/step - loss: 0.3525 - accuracy: 0.8214 - val_loss: 0.4935 - val_accuracy: 0.7850\n",
      "Epoch 19/150\n",
      "7/7 [==============================] - 0s 12ms/step - loss: 0.3530 - accuracy: 0.8203 - val_loss: 0.4941 - val_accuracy: 0.7850\n",
      "Epoch 20/150\n",
      "7/7 [==============================] - 0s 8ms/step - loss: 0.3534 - accuracy: 0.8220 - val_loss: 0.4963 - val_accuracy: 0.7757\n",
      "Epoch 21/150\n",
      "7/7 [==============================] - 0s 7ms/step - loss: 0.3522 - accuracy: 0.8238 - val_loss: 0.4967 - val_accuracy: 0.7850\n",
      "Epoch 22/150\n",
      "7/7 [==============================] - 0s 7ms/step - loss: 0.3518 - accuracy: 0.8203 - val_loss: 0.4956 - val_accuracy: 0.7850\n",
      "Epoch 23/150\n",
      "7/7 [==============================] - 0s 7ms/step - loss: 0.3511 - accuracy: 0.8226 - val_loss: 0.4963 - val_accuracy: 0.7850\n",
      "Epoch 24/150\n",
      "7/7 [==============================] - 0s 7ms/step - loss: 0.3503 - accuracy: 0.8232 - val_loss: 0.4972 - val_accuracy: 0.7850\n",
      "Epoch 25/150\n",
      "7/7 [==============================] - 0s 7ms/step - loss: 0.3502 - accuracy: 0.8208 - val_loss: 0.5000 - val_accuracy: 0.7850\n",
      "Epoch 26/150\n",
      "7/7 [==============================] - 0s 7ms/step - loss: 0.3498 - accuracy: 0.8238 - val_loss: 0.5010 - val_accuracy: 0.7850\n",
      "Epoch 27/150\n",
      "7/7 [==============================] - 0s 7ms/step - loss: 0.3495 - accuracy: 0.8208 - val_loss: 0.4995 - val_accuracy: 0.7850\n",
      "Epoch 28/150\n",
      "7/7 [==============================] - 0s 8ms/step - loss: 0.3489 - accuracy: 0.8220 - val_loss: 0.4990 - val_accuracy: 0.7850\n",
      "Epoch 29/150\n",
      "7/7 [==============================] - 0s 7ms/step - loss: 0.3489 - accuracy: 0.8244 - val_loss: 0.5010 - val_accuracy: 0.7850\n",
      "Epoch 30/150\n",
      "7/7 [==============================] - 0s 7ms/step - loss: 0.3488 - accuracy: 0.8238 - val_loss: 0.5018 - val_accuracy: 0.7850\n",
      "Epoch 31/150\n",
      "7/7 [==============================] - 0s 8ms/step - loss: 0.3480 - accuracy: 0.8226 - val_loss: 0.5003 - val_accuracy: 0.7850\n",
      "Epoch 32/150\n",
      "7/7 [==============================] - 0s 6ms/step - loss: 0.3479 - accuracy: 0.8232 - val_loss: 0.5015 - val_accuracy: 0.7850\n",
      "Epoch 33/150\n",
      "7/7 [==============================] - 0s 7ms/step - loss: 0.3473 - accuracy: 0.8255 - val_loss: 0.5031 - val_accuracy: 0.7850\n",
      "Epoch 34/150\n",
      "7/7 [==============================] - 0s 6ms/step - loss: 0.3475 - accuracy: 0.8220 - val_loss: 0.5052 - val_accuracy: 0.7850\n",
      "Epoch 35/150\n",
      "7/7 [==============================] - 0s 9ms/step - loss: 0.3470 - accuracy: 0.8232 - val_loss: 0.5041 - val_accuracy: 0.7850\n",
      "Epoch 36/150\n",
      "7/7 [==============================] - 0s 7ms/step - loss: 0.3467 - accuracy: 0.8255 - val_loss: 0.5056 - val_accuracy: 0.7804\n",
      "Epoch 37/150\n",
      "7/7 [==============================] - 0s 7ms/step - loss: 0.3459 - accuracy: 0.8238 - val_loss: 0.5066 - val_accuracy: 0.7850\n",
      "Epoch 38/150\n",
      "7/7 [==============================] - 0s 9ms/step - loss: 0.3466 - accuracy: 0.8261 - val_loss: 0.5080 - val_accuracy: 0.7804\n",
      "Epoch 39/150\n",
      "7/7 [==============================] - 0s 6ms/step - loss: 0.3454 - accuracy: 0.8244 - val_loss: 0.5089 - val_accuracy: 0.7850\n",
      "Epoch 40/150\n",
      "7/7 [==============================] - 0s 6ms/step - loss: 0.3454 - accuracy: 0.8238 - val_loss: 0.5087 - val_accuracy: 0.7850\n",
      "Epoch 41/150\n",
      "7/7 [==============================] - 0s 7ms/step - loss: 0.3448 - accuracy: 0.8255 - val_loss: 0.5095 - val_accuracy: 0.7850\n",
      "Epoch 42/150\n",
      "7/7 [==============================] - 0s 7ms/step - loss: 0.3443 - accuracy: 0.8249 - val_loss: 0.5098 - val_accuracy: 0.7850\n",
      "Epoch 43/150\n",
      "7/7 [==============================] - 0s 7ms/step - loss: 0.3442 - accuracy: 0.8249 - val_loss: 0.5123 - val_accuracy: 0.7804\n",
      "Epoch 44/150\n",
      "7/7 [==============================] - 0s 9ms/step - loss: 0.3437 - accuracy: 0.8255 - val_loss: 0.5131 - val_accuracy: 0.7804\n",
      "Epoch 45/150\n",
      "7/7 [==============================] - 0s 8ms/step - loss: 0.3437 - accuracy: 0.8285 - val_loss: 0.5137 - val_accuracy: 0.7850\n",
      "Epoch 46/150\n",
      "7/7 [==============================] - 0s 12ms/step - loss: 0.3439 - accuracy: 0.8320 - val_loss: 0.5133 - val_accuracy: 0.7804\n",
      "Epoch 47/150\n",
      "7/7 [==============================] - 0s 8ms/step - loss: 0.3430 - accuracy: 0.8261 - val_loss: 0.5147 - val_accuracy: 0.7850\n",
      "Epoch 48/150\n",
      "7/7 [==============================] - 0s 7ms/step - loss: 0.3433 - accuracy: 0.8267 - val_loss: 0.5163 - val_accuracy: 0.7897\n",
      "Epoch 49/150\n",
      "7/7 [==============================] - 0s 6ms/step - loss: 0.3425 - accuracy: 0.8308 - val_loss: 0.5156 - val_accuracy: 0.7804\n",
      "Epoch 50/150\n",
      "7/7 [==============================] - 0s 6ms/step - loss: 0.3423 - accuracy: 0.8261 - val_loss: 0.5173 - val_accuracy: 0.7850\n",
      "Epoch 51/150\n",
      "7/7 [==============================] - 0s 6ms/step - loss: 0.3419 - accuracy: 0.8255 - val_loss: 0.5178 - val_accuracy: 0.7804\n",
      "Epoch 52/150\n",
      "7/7 [==============================] - 0s 7ms/step - loss: 0.3419 - accuracy: 0.8296 - val_loss: 0.5184 - val_accuracy: 0.7804\n",
      "Epoch 53/150\n",
      "7/7 [==============================] - 0s 8ms/step - loss: 0.3413 - accuracy: 0.8255 - val_loss: 0.5208 - val_accuracy: 0.7757\n",
      "Epoch 54/150\n",
      "7/7 [==============================] - 0s 6ms/step - loss: 0.3411 - accuracy: 0.8261 - val_loss: 0.5205 - val_accuracy: 0.7850\n",
      "Epoch 55/150\n",
      "7/7 [==============================] - 0s 6ms/step - loss: 0.3408 - accuracy: 0.8314 - val_loss: 0.5233 - val_accuracy: 0.7804\n",
      "Epoch 56/150\n",
      "7/7 [==============================] - 0s 7ms/step - loss: 0.3407 - accuracy: 0.8273 - val_loss: 0.5236 - val_accuracy: 0.7804\n",
      "Epoch 57/150\n",
      "7/7 [==============================] - 0s 8ms/step - loss: 0.3409 - accuracy: 0.8296 - val_loss: 0.5256 - val_accuracy: 0.7757\n",
      "Epoch 58/150\n",
      "7/7 [==============================] - 0s 7ms/step - loss: 0.3399 - accuracy: 0.8302 - val_loss: 0.5240 - val_accuracy: 0.7804\n",
      "Epoch 59/150\n",
      "7/7 [==============================] - 0s 8ms/step - loss: 0.3405 - accuracy: 0.8255 - val_loss: 0.5238 - val_accuracy: 0.7850\n",
      "Epoch 60/150\n",
      "7/7 [==============================] - 0s 6ms/step - loss: 0.3390 - accuracy: 0.8308 - val_loss: 0.5268 - val_accuracy: 0.7804\n",
      "Epoch 61/150\n",
      "7/7 [==============================] - 0s 8ms/step - loss: 0.3394 - accuracy: 0.8337 - val_loss: 0.5265 - val_accuracy: 0.7804\n",
      "Epoch 62/150\n",
      "7/7 [==============================] - 0s 7ms/step - loss: 0.3387 - accuracy: 0.8290 - val_loss: 0.5275 - val_accuracy: 0.7850\n",
      "Epoch 63/150\n",
      "7/7 [==============================] - 0s 6ms/step - loss: 0.3387 - accuracy: 0.8279 - val_loss: 0.5300 - val_accuracy: 0.7804\n",
      "Epoch 64/150\n",
      "7/7 [==============================] - 0s 8ms/step - loss: 0.3381 - accuracy: 0.8320 - val_loss: 0.5294 - val_accuracy: 0.7804\n",
      "Epoch 65/150\n",
      "7/7 [==============================] - 0s 6ms/step - loss: 0.3380 - accuracy: 0.8308 - val_loss: 0.5283 - val_accuracy: 0.7757\n",
      "Epoch 66/150\n",
      "7/7 [==============================] - 0s 7ms/step - loss: 0.3375 - accuracy: 0.8302 - val_loss: 0.5298 - val_accuracy: 0.7804\n",
      "Epoch 67/150\n",
      "7/7 [==============================] - 0s 7ms/step - loss: 0.3379 - accuracy: 0.8331 - val_loss: 0.5305 - val_accuracy: 0.7804\n",
      "Epoch 68/150\n",
      "7/7 [==============================] - 0s 6ms/step - loss: 0.3377 - accuracy: 0.8296 - val_loss: 0.5321 - val_accuracy: 0.7757\n",
      "Epoch 69/150\n",
      "7/7 [==============================] - 0s 8ms/step - loss: 0.3373 - accuracy: 0.8296 - val_loss: 0.5328 - val_accuracy: 0.7757\n",
      "Epoch 70/150\n",
      "7/7 [==============================] - 0s 8ms/step - loss: 0.3377 - accuracy: 0.8343 - val_loss: 0.5315 - val_accuracy: 0.7850\n",
      "Epoch 71/150\n",
      "7/7 [==============================] - 0s 8ms/step - loss: 0.3378 - accuracy: 0.8290 - val_loss: 0.5323 - val_accuracy: 0.7850\n",
      "Epoch 72/150\n",
      "7/7 [==============================] - 0s 8ms/step - loss: 0.3363 - accuracy: 0.8314 - val_loss: 0.5328 - val_accuracy: 0.7850\n",
      "Epoch 73/150\n",
      "7/7 [==============================] - 0s 6ms/step - loss: 0.3366 - accuracy: 0.8343 - val_loss: 0.5343 - val_accuracy: 0.7804\n",
      "Epoch 74/150\n",
      "7/7 [==============================] - 0s 7ms/step - loss: 0.3368 - accuracy: 0.8290 - val_loss: 0.5343 - val_accuracy: 0.7804\n",
      "Epoch 75/150\n",
      "7/7 [==============================] - 0s 8ms/step - loss: 0.3368 - accuracy: 0.8296 - val_loss: 0.5362 - val_accuracy: 0.7804\n",
      "Epoch 76/150\n",
      "7/7 [==============================] - 0s 7ms/step - loss: 0.3355 - accuracy: 0.8331 - val_loss: 0.5362 - val_accuracy: 0.7757\n",
      "Epoch 77/150\n",
      "7/7 [==============================] - 0s 7ms/step - loss: 0.3354 - accuracy: 0.8331 - val_loss: 0.5371 - val_accuracy: 0.7757\n",
      "Epoch 78/150\n",
      "7/7 [==============================] - 0s 8ms/step - loss: 0.3350 - accuracy: 0.8320 - val_loss: 0.5371 - val_accuracy: 0.7804\n",
      "Epoch 79/150\n",
      "7/7 [==============================] - 0s 7ms/step - loss: 0.3357 - accuracy: 0.8331 - val_loss: 0.5374 - val_accuracy: 0.7804\n",
      "Epoch 80/150\n",
      "7/7 [==============================] - 0s 6ms/step - loss: 0.3342 - accuracy: 0.8331 - val_loss: 0.5372 - val_accuracy: 0.7850\n",
      "Epoch 81/150\n",
      "7/7 [==============================] - 0s 6ms/step - loss: 0.3343 - accuracy: 0.8314 - val_loss: 0.5386 - val_accuracy: 0.7804\n",
      "Epoch 82/150\n",
      "7/7 [==============================] - 0s 6ms/step - loss: 0.3344 - accuracy: 0.8337 - val_loss: 0.5374 - val_accuracy: 0.7850\n",
      "Epoch 83/150\n",
      "7/7 [==============================] - 0s 7ms/step - loss: 0.3339 - accuracy: 0.8349 - val_loss: 0.5388 - val_accuracy: 0.7850\n",
      "Epoch 84/150\n",
      "7/7 [==============================] - 0s 6ms/step - loss: 0.3339 - accuracy: 0.8308 - val_loss: 0.5404 - val_accuracy: 0.7804\n",
      "Epoch 85/150\n",
      "7/7 [==============================] - 0s 7ms/step - loss: 0.3340 - accuracy: 0.8355 - val_loss: 0.5421 - val_accuracy: 0.7850\n",
      "Epoch 86/150\n",
      "7/7 [==============================] - 0s 8ms/step - loss: 0.3332 - accuracy: 0.8355 - val_loss: 0.5427 - val_accuracy: 0.7757\n",
      "Epoch 87/150\n",
      "7/7 [==============================] - 0s 7ms/step - loss: 0.3334 - accuracy: 0.8337 - val_loss: 0.5427 - val_accuracy: 0.7757\n",
      "Epoch 88/150\n",
      "7/7 [==============================] - 0s 8ms/step - loss: 0.3329 - accuracy: 0.8343 - val_loss: 0.5420 - val_accuracy: 0.7804\n",
      "Epoch 89/150\n",
      "7/7 [==============================] - 0s 7ms/step - loss: 0.3326 - accuracy: 0.8331 - val_loss: 0.5418 - val_accuracy: 0.7897\n",
      "Epoch 90/150\n",
      "7/7 [==============================] - 0s 8ms/step - loss: 0.3323 - accuracy: 0.8355 - val_loss: 0.5425 - val_accuracy: 0.7897\n",
      "Epoch 91/150\n",
      "7/7 [==============================] - 0s 8ms/step - loss: 0.3329 - accuracy: 0.8343 - val_loss: 0.5428 - val_accuracy: 0.7804\n",
      "Epoch 92/150\n",
      "7/7 [==============================] - 0s 7ms/step - loss: 0.3318 - accuracy: 0.8355 - val_loss: 0.5457 - val_accuracy: 0.7850\n",
      "Epoch 93/150\n",
      "7/7 [==============================] - 0s 7ms/step - loss: 0.3319 - accuracy: 0.8361 - val_loss: 0.5440 - val_accuracy: 0.7897\n",
      "Epoch 94/150\n",
      "7/7 [==============================] - 0s 8ms/step - loss: 0.3313 - accuracy: 0.8355 - val_loss: 0.5436 - val_accuracy: 0.7897\n",
      "Epoch 95/150\n",
      "7/7 [==============================] - 0s 7ms/step - loss: 0.3313 - accuracy: 0.8355 - val_loss: 0.5438 - val_accuracy: 0.7897\n",
      "Epoch 96/150\n",
      "7/7 [==============================] - 0s 8ms/step - loss: 0.3313 - accuracy: 0.8343 - val_loss: 0.5464 - val_accuracy: 0.7897\n",
      "Epoch 97/150\n",
      "7/7 [==============================] - 0s 8ms/step - loss: 0.3306 - accuracy: 0.8361 - val_loss: 0.5482 - val_accuracy: 0.7897\n",
      "Epoch 98/150\n",
      "7/7 [==============================] - 0s 7ms/step - loss: 0.3313 - accuracy: 0.8378 - val_loss: 0.5484 - val_accuracy: 0.7897\n",
      "Epoch 99/150\n",
      "7/7 [==============================] - 0s 9ms/step - loss: 0.3303 - accuracy: 0.8337 - val_loss: 0.5474 - val_accuracy: 0.7897\n",
      "Epoch 100/150\n",
      "7/7 [==============================] - 0s 9ms/step - loss: 0.3306 - accuracy: 0.8349 - val_loss: 0.5464 - val_accuracy: 0.7944\n",
      "Epoch 101/150\n",
      "7/7 [==============================] - 0s 8ms/step - loss: 0.3300 - accuracy: 0.8355 - val_loss: 0.5494 - val_accuracy: 0.7897\n",
      "Epoch 102/150\n",
      "7/7 [==============================] - 0s 8ms/step - loss: 0.3301 - accuracy: 0.8378 - val_loss: 0.5496 - val_accuracy: 0.7944\n",
      "Epoch 103/150\n",
      "7/7 [==============================] - 0s 8ms/step - loss: 0.3306 - accuracy: 0.8320 - val_loss: 0.5503 - val_accuracy: 0.7944\n",
      "Epoch 104/150\n",
      "7/7 [==============================] - 0s 10ms/step - loss: 0.3294 - accuracy: 0.8367 - val_loss: 0.5524 - val_accuracy: 0.7897\n",
      "Epoch 105/150\n",
      "7/7 [==============================] - 0s 9ms/step - loss: 0.3297 - accuracy: 0.8390 - val_loss: 0.5524 - val_accuracy: 0.7897\n",
      "Epoch 106/150\n",
      "7/7 [==============================] - 0s 8ms/step - loss: 0.3291 - accuracy: 0.8367 - val_loss: 0.5514 - val_accuracy: 0.7944\n",
      "Epoch 107/150\n",
      "7/7 [==============================] - 0s 9ms/step - loss: 0.3290 - accuracy: 0.8384 - val_loss: 0.5545 - val_accuracy: 0.7897\n",
      "Epoch 108/150\n",
      "7/7 [==============================] - 0s 10ms/step - loss: 0.3287 - accuracy: 0.8372 - val_loss: 0.5540 - val_accuracy: 0.7944\n",
      "Epoch 109/150\n",
      "7/7 [==============================] - 0s 9ms/step - loss: 0.3289 - accuracy: 0.8367 - val_loss: 0.5530 - val_accuracy: 0.7944\n",
      "Epoch 110/150\n",
      "7/7 [==============================] - 0s 7ms/step - loss: 0.3287 - accuracy: 0.8367 - val_loss: 0.5554 - val_accuracy: 0.7897\n",
      "Epoch 111/150\n",
      "7/7 [==============================] - 0s 6ms/step - loss: 0.3281 - accuracy: 0.8390 - val_loss: 0.5537 - val_accuracy: 0.7944\n",
      "Epoch 112/150\n",
      "7/7 [==============================] - 0s 7ms/step - loss: 0.3284 - accuracy: 0.8367 - val_loss: 0.5553 - val_accuracy: 0.7944\n",
      "Epoch 113/150\n",
      "7/7 [==============================] - 0s 8ms/step - loss: 0.3276 - accuracy: 0.8384 - val_loss: 0.5564 - val_accuracy: 0.7897\n",
      "Epoch 114/150\n",
      "7/7 [==============================] - 0s 8ms/step - loss: 0.3275 - accuracy: 0.8390 - val_loss: 0.5560 - val_accuracy: 0.7897\n",
      "Epoch 115/150\n",
      "7/7 [==============================] - 0s 7ms/step - loss: 0.3277 - accuracy: 0.8384 - val_loss: 0.5562 - val_accuracy: 0.7944\n",
      "Epoch 116/150\n",
      "7/7 [==============================] - 0s 8ms/step - loss: 0.3271 - accuracy: 0.8378 - val_loss: 0.5556 - val_accuracy: 0.7944\n",
      "Epoch 117/150\n",
      "7/7 [==============================] - 0s 7ms/step - loss: 0.3268 - accuracy: 0.8378 - val_loss: 0.5565 - val_accuracy: 0.7944\n",
      "Epoch 118/150\n",
      "7/7 [==============================] - 0s 7ms/step - loss: 0.3269 - accuracy: 0.8378 - val_loss: 0.5580 - val_accuracy: 0.7944\n",
      "Epoch 119/150\n",
      "7/7 [==============================] - 0s 8ms/step - loss: 0.3266 - accuracy: 0.8372 - val_loss: 0.5614 - val_accuracy: 0.7897\n",
      "Epoch 120/150\n",
      "7/7 [==============================] - 0s 14ms/step - loss: 0.3270 - accuracy: 0.8413 - val_loss: 0.5598 - val_accuracy: 0.7897\n",
      "Epoch 121/150\n",
      "7/7 [==============================] - 0s 5ms/step - loss: 0.3264 - accuracy: 0.8390 - val_loss: 0.5603 - val_accuracy: 0.7944\n",
      "Epoch 122/150\n",
      "7/7 [==============================] - 0s 8ms/step - loss: 0.3263 - accuracy: 0.8378 - val_loss: 0.5600 - val_accuracy: 0.7897\n",
      "Epoch 123/150\n",
      "7/7 [==============================] - 0s 9ms/step - loss: 0.3260 - accuracy: 0.8384 - val_loss: 0.5602 - val_accuracy: 0.7897\n",
      "Epoch 124/150\n",
      "7/7 [==============================] - 0s 7ms/step - loss: 0.3257 - accuracy: 0.8372 - val_loss: 0.5602 - val_accuracy: 0.7944\n",
      "Epoch 125/150\n",
      "7/7 [==============================] - 0s 5ms/step - loss: 0.3254 - accuracy: 0.8384 - val_loss: 0.5620 - val_accuracy: 0.7944\n",
      "Epoch 126/150\n",
      "7/7 [==============================] - 0s 6ms/step - loss: 0.3253 - accuracy: 0.8384 - val_loss: 0.5629 - val_accuracy: 0.7944\n",
      "Epoch 127/150\n",
      "7/7 [==============================] - 0s 6ms/step - loss: 0.3254 - accuracy: 0.8402 - val_loss: 0.5611 - val_accuracy: 0.7897\n",
      "Epoch 128/150\n",
      "7/7 [==============================] - 0s 7ms/step - loss: 0.3250 - accuracy: 0.8384 - val_loss: 0.5614 - val_accuracy: 0.7944\n",
      "Epoch 129/150\n",
      "7/7 [==============================] - 0s 7ms/step - loss: 0.3249 - accuracy: 0.8390 - val_loss: 0.5639 - val_accuracy: 0.7944\n",
      "Epoch 130/150\n",
      "7/7 [==============================] - 0s 8ms/step - loss: 0.3245 - accuracy: 0.8384 - val_loss: 0.5643 - val_accuracy: 0.7944\n",
      "Epoch 131/150\n",
      "7/7 [==============================] - 0s 7ms/step - loss: 0.3242 - accuracy: 0.8384 - val_loss: 0.5648 - val_accuracy: 0.7944\n",
      "Epoch 132/150\n",
      "7/7 [==============================] - 0s 7ms/step - loss: 0.3242 - accuracy: 0.8407 - val_loss: 0.5663 - val_accuracy: 0.7944\n",
      "Epoch 133/150\n",
      "7/7 [==============================] - 0s 9ms/step - loss: 0.3238 - accuracy: 0.8402 - val_loss: 0.5662 - val_accuracy: 0.7897\n",
      "Epoch 134/150\n",
      "7/7 [==============================] - 0s 8ms/step - loss: 0.3238 - accuracy: 0.8396 - val_loss: 0.5667 - val_accuracy: 0.7897\n",
      "Epoch 135/150\n",
      "7/7 [==============================] - 0s 7ms/step - loss: 0.3235 - accuracy: 0.8413 - val_loss: 0.5670 - val_accuracy: 0.7944\n",
      "Epoch 136/150\n",
      "7/7 [==============================] - 0s 9ms/step - loss: 0.3238 - accuracy: 0.8407 - val_loss: 0.5677 - val_accuracy: 0.7944\n",
      "Epoch 137/150\n",
      "7/7 [==============================] - 0s 8ms/step - loss: 0.3236 - accuracy: 0.8384 - val_loss: 0.5669 - val_accuracy: 0.7897\n",
      "Epoch 138/150\n",
      "7/7 [==============================] - 0s 7ms/step - loss: 0.3242 - accuracy: 0.8437 - val_loss: 0.5678 - val_accuracy: 0.7944\n",
      "Epoch 139/150\n",
      "7/7 [==============================] - 0s 8ms/step - loss: 0.3230 - accuracy: 0.8407 - val_loss: 0.5668 - val_accuracy: 0.7944\n",
      "Epoch 140/150\n",
      "7/7 [==============================] - 0s 9ms/step - loss: 0.3227 - accuracy: 0.8378 - val_loss: 0.5678 - val_accuracy: 0.7944\n",
      "Epoch 141/150\n",
      "7/7 [==============================] - 0s 9ms/step - loss: 0.3230 - accuracy: 0.8413 - val_loss: 0.5704 - val_accuracy: 0.7991\n",
      "Epoch 142/150\n",
      "7/7 [==============================] - 0s 7ms/step - loss: 0.3220 - accuracy: 0.8407 - val_loss: 0.5708 - val_accuracy: 0.7944\n",
      "Epoch 143/150\n",
      "7/7 [==============================] - 0s 8ms/step - loss: 0.3225 - accuracy: 0.8384 - val_loss: 0.5687 - val_accuracy: 0.7944\n",
      "Epoch 144/150\n",
      "7/7 [==============================] - 0s 8ms/step - loss: 0.3221 - accuracy: 0.8413 - val_loss: 0.5701 - val_accuracy: 0.7944\n",
      "Epoch 145/150\n",
      "7/7 [==============================] - 0s 9ms/step - loss: 0.3220 - accuracy: 0.8413 - val_loss: 0.5729 - val_accuracy: 0.7944\n",
      "Epoch 146/150\n",
      "7/7 [==============================] - 0s 9ms/step - loss: 0.3214 - accuracy: 0.8413 - val_loss: 0.5715 - val_accuracy: 0.7944\n",
      "Epoch 147/150\n",
      "7/7 [==============================] - 0s 9ms/step - loss: 0.3218 - accuracy: 0.8407 - val_loss: 0.5725 - val_accuracy: 0.7944\n",
      "Epoch 148/150\n",
      "7/7 [==============================] - 0s 13ms/step - loss: 0.3216 - accuracy: 0.8407 - val_loss: 0.5751 - val_accuracy: 0.7944\n",
      "Epoch 149/150\n",
      "7/7 [==============================] - 0s 6ms/step - loss: 0.3214 - accuracy: 0.8402 - val_loss: 0.5766 - val_accuracy: 0.7944\n",
      "Epoch 150/150\n",
      "7/7 [==============================] - 0s 7ms/step - loss: 0.3213 - accuracy: 0.8407 - val_loss: 0.5746 - val_accuracy: 0.7944\n"
     ]
    }
   ],
   "source": [
    "EPOCHS = 150\n",
    "BATCH_SIZE = 32\n",
    "\n",
    "\n",
    "# early_stopping = tf.keras.callbacks.EarlyStopping(monitor='val_loss', patience=6, verbose=1)\n",
    "# history =model.fit(train_ds, validation_data=val_ds,epochs=EPOCHS,batch_size=BATCH_SIZE,callbacks = [early_stopping])\n",
    "history =model.fit(train_ds, validation_data=val_ds,epochs=EPOCHS,batch_size=BATCH_SIZE)\n"
   ]
  },
  {
   "cell_type": "code",
   "execution_count": 69,
   "id": "f71e3efc-10f6-498b-97f6-5ed44b9534d0",
   "metadata": {},
   "outputs": [
    {
     "name": "stdout",
     "output_type": "stream",
     "text": [
      "1/1 [==============================] - 0s 22ms/step - loss: 0.4366 - accuracy: 0.8037\n",
      "Accuracy 0.8037382960319519\n"
     ]
    }
   ],
   "source": [
    "loss, accuracy = model.evaluate(test_ds)\n",
    "print(\"Accuracy\", accuracy)\n",
    "     "
   ]
  },
  {
   "cell_type": "code",
   "execution_count": 70,
   "id": "50f86605-c8aa-47d9-97da-9771844c236b",
   "metadata": {},
   "outputs": [
    {
     "name": "stdout",
     "output_type": "stream",
     "text": [
      "You must install pydot (`pip install pydot`) and install graphviz (see instructions at https://graphviz.gitlab.io/download/) for plot_model to work.\n"
     ]
    }
   ],
   "source": [
    "tf.keras.utils.plot_model(model, show_shapes=True, rankdir=\"LR\")"
   ]
  },
  {
   "cell_type": "code",
   "execution_count": 72,
   "id": "ab8f677c-dfa2-48b5-b980-6cc10f2e0033",
   "metadata": {},
   "outputs": [
    {
     "name": "stderr",
     "output_type": "stream",
     "text": [
      "WARNING:absl:Found untraced functions such as _update_step_xla while saving (showing 1 of 1). These functions will not be directly callable after loading.\n"
     ]
    },
    {
     "name": "stdout",
     "output_type": "stream",
     "text": [
      "INFO:tensorflow:Assets written to: critical_incident_dnn\\assets\n"
     ]
    },
    {
     "name": "stderr",
     "output_type": "stream",
     "text": [
      "INFO:tensorflow:Assets written to: critical_incident_dnn\\assets\n"
     ]
    }
   ],
   "source": [
    "model.save(model_dir)\n"
   ]
  },
  {
   "cell_type": "code",
   "execution_count": 73,
   "id": "dd916787-bacc-4537-b2b6-1c6d62932de8",
   "metadata": {},
   "outputs": [
    {
     "name": "stderr",
     "output_type": "stream",
     "text": [
      "D:\\ProgramData\\Anaconda3\\envs\\dev_google\\lib\\site-packages\\keras\\engine\\functional.py:638: UserWarning: Input dict contained keys ['severity_id', 'severity_name'] which did not match any model input. They will be ignored by the model.\n",
      "  inputs = self._flatten_to_reference_inputs(inputs)\n"
     ]
    },
    {
     "name": "stdout",
     "output_type": "stream",
     "text": [
      "1/1 [==============================] - 0s 300ms/step\n",
      "This particular pet had a 93.9 percent probability of getting adopted.\n"
     ]
    }
   ],
   "source": [
    "reloaded_model = tf.keras.models.load_model(model_dir)\n",
    "sample=sr_predict.to_dict()\n",
    "input_dict = {name: tf.convert_to_tensor([value]) for name, value in sample.items()}\n",
    "predictions = reloaded_model.predict(input_dict)\n",
    "prob = tf.nn.sigmoid(predictions[0])\n",
    "print(\n",
    "    \"This particular pet had a %.1f percent probability \"\n",
    "    \"of getting adopted.\" % (100 * prob)\n",
    ")\n",
    "                                "
   ]
  },
  {
   "cell_type": "code",
   "execution_count": 74,
   "id": "739ebc03-3f34-4f1a-92c4-b152887a538c",
   "metadata": {},
   "outputs": [
    {
     "data": {
      "image/png": "[encoded data removed]",
      "text/plain": [
       "<Figure size 1500x800 with 2 Axes>"
      ]
     },
     "metadata": {},
     "output_type": "display_data"
    }
   ],
   "source": [
    "plt.figure(figsize=(15,8))\n",
    "colors = plt.rcParams['axes.prop_cycle'].by_key()['color']\n",
    "\n",
    "def plot_metrics(history):\n",
    "  metrics =  ['loss', 'accuracy']\n",
    "  for n, metric in enumerate(metrics):\n",
    "    name = metric.replace(\"_\",\" \").capitalize()\n",
    "    plt.subplot(2,2,n+1)\n",
    "    plt.plot(history.epoch,  history.history[metric], color=colors[0], label='Train')\n",
    "    plt.plot(history.epoch, history.history['val_'+metric],\n",
    "             color=colors[0], linestyle=\"--\", label='Val')\n",
    "    plt.xlabel('Epoch')\n",
    "    plt.ylabel(name)\n",
    "    if metric == 'loss':\n",
    "      plt.ylim([0, plt.ylim()[1]])\n",
    "    elif metric == 'auc':\n",
    "      plt.ylim([0.8,1])\n",
    "    else:\n",
    "      plt.ylim([0,1])\n",
    "\n",
    "    plt.legend()\n",
    "\n",
    "plot_metrics(history)"
   ]
  },
  {
   "cell_type": "code",
   "execution_count": 349,
   "id": "e591b434-35eb-4750-b360-11e2f885c6fa",
   "metadata": {},
   "outputs": [
    {
     "name": "stdout",
     "output_type": "stream",
     "text": [
      "{'outputs': OrderedDict([('dense_38', {'output_tensor_name': 'dense_38'})]), 'inputs': OrderedDict([('response_to_resolved_hour', {'input_tensor_name': 'response_to_resolved_hour', 'encoding': 'identity', 'modality': 'numeric'}), ('open_to_close_hour', {'input_tensor_name': 'open_to_close_hour', 'encoding': 'identity', 'modality': 'numeric'}), ('incident_type', {'input_tensor_name': 'incident_type', 'encoding': 'identity', 'modality': 'categorical'}), ('sla', {'input_tensor_name': 'sla', 'encoding': 'identity', 'modality': 'categorical'}), ('product_type', {'input_tensor_name': 'product_type', 'encoding': 'identity', 'modality': 'categorical'}), ('brand', {'input_tensor_name': 'brand', 'encoding': 'identity', 'modality': 'categorical'}), ('service_type', {'input_tensor_name': 'service_type', 'encoding': 'identity', 'modality': 'categorical'})]), 'framework': 'tensorflow2', 'tags': ['explainable_ai_sdk']}\n"
     ]
    }
   ],
   "source": [
    "from explainable_ai_sdk.metadata.tf.v2 import SavedModelMetadataBuilder\n",
    "import explainable_ai_sdk\n",
    "\n",
    "model_builder = SavedModelMetadataBuilder(model_dir)\n",
    "metadata = model_builder.get_metadata()\n",
    "print(metadata)"
   ]
  },
  {
   "cell_type": "code",
   "execution_count": 383,
   "id": "b3dcdd05-4b59-4590-9605-c5325313ac4b",
   "metadata": {},
   "outputs": [
    {
     "name": "stderr",
     "output_type": "stream",
     "text": [
      "Creating gs://tf1-incident-pongthorn/...\n"
     ]
    }
   ],
   "source": [
    "# Update these to your own GCP project and model\n",
    "PROJECT_ID = 'pongthorn'\n",
    "REGION = \"asia-southeast1\"  # @param {type: \"string\"}\n",
    "MODEL_BUCKET = 'gs://tf1-incident-pongthorn'\n",
    "\n",
    "!gsutil mb -l$REGION $MODEL_BUCKET"
   ]
  },
  {
   "cell_type": "code",
   "execution_count": 384,
   "id": "90c2006e-022f-43f6-9b4f-105b350b535a",
   "metadata": {},
   "outputs": [
    {
     "name": "stderr",
     "output_type": "stream",
     "text": [
      "Copying file://.\\critical_incident_dnn\\variables\\variables.index [Content-Type=application/octet-stream]...\n",
      "/ [0/5 files][    0.0 B/505.0 KiB]   0% Done                                    \n",
      "Copying file://.\\critical_incident_dnn\\fingerprint.pb [Content-Type=application/octet-stream]...\n",
      "/ [0/5 files][    0.0 B/505.0 KiB]   0% Done                                    \n",
      "Copying file://.\\critical_incident_dnn\\variables\\variables.data-00000-of-00001 [Content-Type=application/octet-stream]...\n",
      "/ [0/5 files][    0.0 B/505.0 KiB]   0% Done                                    \n",
      "Copying file://.\\critical_incident_dnn\\saved_model.pb [Content-Type=application/octet-stream]...\n",
      "Copying file://.\\critical_incident_dnn\\keras_metadata.pb [Content-Type=application/octet-stream]...\n",
      "/ [0/5 files][    0.0 B/505.0 KiB]   0% Done                                    \n",
      "/ [0/5 files][    0.0 B/505.0 KiB]   0% Done                                    \n",
      "/ [1/5 files][ 73.2 KiB/505.0 KiB]  14% Done                                    \n",
      "/ [2/5 files][393.2 KiB/505.0 KiB]  77% Done                                    \n",
      "/ [3/5 files][393.2 KiB/505.0 KiB]  77% Done                                    \n",
      "/ [4/5 files][505.0 KiB/505.0 KiB]  99% Done                                    \n",
      "/ [5/5 files][505.0 KiB/505.0 KiB] 100% Done                                    \n",
      "\n",
      "Operation completed over 5 objects/505.0 KiB.                                    \n"
     ]
    }
   ],
   "source": [
    "!gsutil -m cp -r ./$model_dir/* $MODEL_BUCKET/model"
   ]
  },
  {
   "cell_type": "markdown",
   "id": "9fc32a07-c2fc-4ff6-a771-fc3532630f01",
   "metadata": {},
   "source": [
    "# Deploy the model"
   ]
  },
  {
   "cell_type": "code",
   "execution_count": 385,
   "id": "20082661-dc7f-414b-a759-3478163adcdf",
   "metadata": {},
   "outputs": [],
   "source": [
    "MODEL = 'tf1_incident'\n",
    "VERSION = 'v1'\n",
    "model_path = MODEL_BUCKET + '/model'"
   ]
  },
  {
   "cell_type": "code",
   "execution_count": 392,
   "id": "ad83952a-aa9f-4126-b36c-128723cc608a",
   "metadata": {},
   "outputs": [],
   "source": [
    "# !gcloud ai-platform models create $MODEL --region=$REGION"
   ]
  },
  {
   "cell_type": "code",
   "execution_count": null,
   "id": "6465851a-f078-41a2-991c-80a71d3e695d",
   "metadata": {},
   "outputs": [],
   "source": []
  }
 ],
 "metadata": {
  "kernelspec": {
   "display_name": "Python 3 (ipykernel)",
   "language": "python",
   "name": "python3"
  },
  "language_info": {
   "codemirror_mode": {
    "name": "ipython",
    "version": 3
   },
   "file_extension": ".py",
   "mimetype": "text/x-python",
   "name": "python",
   "nbconvert_exporter": "python",
   "pygments_lexer": "ipython3",
   "version": "3.9.16"
  }
 },
 "nbformat": 4,
 "nbformat_minor": 5
}
