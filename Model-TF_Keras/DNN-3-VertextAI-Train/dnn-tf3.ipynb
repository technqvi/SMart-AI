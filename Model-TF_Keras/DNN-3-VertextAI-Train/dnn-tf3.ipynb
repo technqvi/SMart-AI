{
 "cells": [
  {
   "cell_type": "code",
   "execution_count": 2,
   "id": "a9ae199c-8589-46ed-9d1b-43955d41ca29",
   "metadata": {},
   "outputs": [],
   "source": [
    "#https://github.com/GoogleCloudPlatform/vertex-ai-samples/blob/main/notebooks/official/prediction/custom_batch_prediction_feature_filter.ipynb"
   ]
  },
  {
   "cell_type": "code",
   "execution_count": 4,
   "id": "2671a710-86f5-4cac-a321-023064dc86f3",
   "metadata": {},
   "outputs": [],
   "source": [
    "import argparse\n",
    "import os\n",
    "from typing import Tuple, Optional\n",
    "\n",
    "import pandas as pd\n",
    "import numpy as np\n",
    "import tensorflow as tf\n",
    "\n",
    "from google.cloud import bigquery\n",
    "from google.cloud import storage\n"
   ]
  },
  {
   "cell_type": "code",
   "execution_count": 3,
   "id": "d5180021-6872-49a9-b80b-2b0e33cdb08c",
   "metadata": {},
   "outputs": [],
   "source": [
    "LABEL_COLUMN = \"Critical\"\n",
    "UNUSED_COLUMNS = []\n",
    "NA_VALUES = [\"NA\", \".\"]"
   ]
  }
 ],
 "metadata": {
  "kernelspec": {
   "display_name": "Python 3 (ipykernel)",
   "language": "python",
   "name": "python3"
  },
  "language_info": {
   "codemirror_mode": {
    "name": "ipython",
    "version": 3
   },
   "file_extension": ".py",
   "mimetype": "text/x-python",
   "name": "python",
   "nbconvert_exporter": "python",
   "pygments_lexer": "ipython3",
   "version": "3.9.16"
  }
 },
 "nbformat": 4,
 "nbformat_minor": 5
}
