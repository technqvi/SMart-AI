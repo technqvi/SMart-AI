{
 "cells": [
  {
   "cell_type": "code",
   "execution_count": 20,
   "id": "cb4be6bb-de68-4297-b6b3-473f074a5d61",
   "metadata": {},
   "outputs": [],
   "source": [
    "import json\n",
    "import os\n",
    "\n",
    "import numpy as np\n",
    "import pandas as pd\n",
    "from google.cloud import aiplatform, bigquery"
   ]
  },
  {
   "cell_type": "code",
   "execution_count": 21,
   "id": "5bd52d7a-0133-4d7c-bdb7-9e70cde8a65f",
   "metadata": {},
   "outputs": [],
   "source": [
    "PROJECT_ID = \"pongthorn\""
   ]
  },
  {
   "cell_type": "code",
   "execution_count": 22,
   "id": "bb9d6039-4613-4d76-bdd8-e6a3359b1bce",
   "metadata": {},
   "outputs": [],
   "source": [
    "bqclient = bigquery.Client(PROJECT_ID)\n",
    "\n",
    "def download_table(bq_table_uri: str):\n",
    "    # Remove bq:// prefix if present\n",
    "    prefix = \"bq://\"\n",
    "    if bq_table_uri.startswith(prefix):\n",
    "        bq_table_uri = bq_table_uri[len(prefix) :]\n",
    "\n",
    "    table = bigquery.TableReference.from_string(bq_table_uri)\n",
    "    rows = bqclient.list_rows(\n",
    "        table,\n",
    "    )\n",
    "    return rows.to_dataframe()\n",
    "\n",
    "def calculate_mean_and_std(df):\n",
    "    # Calculate mean and std for each applicable column\n",
    "    mean_and_std = {}\n",
    "    dtypes = list(zip(df.dtypes.index, map(str, df.dtypes)))\n",
    "    # Normalize numeric columns.\n",
    "    for column, dtype in dtypes:\n",
    "        if dtype == \"float32\" or dtype == \"float64\":\n",
    "            mean_and_std[column] = {\n",
    "                \"mean\": df[column].mean(),\n",
    "                \"std\": df[column].std(),\n",
    "            }\n",
    "\n",
    "    return mean_and_std\n",
    "\n"
   ]
  },
  {
   "cell_type": "code",
   "execution_count": 28,
   "id": "36b60fb2-6c27-482e-86bc-18413cc619a9",
   "metadata": {},
   "outputs": [
    {
     "name": "stdout",
     "output_type": "stream",
     "text": [
      "<class 'pandas.core.frame.DataFrame'>\n",
      "RangeIndex: 2142 entries, 0 to 2141\n",
      "Data columns (total 9 columns):\n",
      " #   Column                     Non-Null Count  Dtype  \n",
      "---  ------                     --------------  -----  \n",
      " 0   severity_id                2142 non-null   Int64  \n",
      " 1   severity_name              2142 non-null   object \n",
      " 2   sla                        2142 non-null   object \n",
      " 3   product_type               2142 non-null   object \n",
      " 4   brand                      2142 non-null   object \n",
      " 5   service_type               2142 non-null   object \n",
      " 6   incident_type              2142 non-null   object \n",
      " 7   open_to_close_hour         2142 non-null   float64\n",
      " 8   response_to_resolved_hour  2142 non-null   float64\n",
      "dtypes: Int64(1), float64(2), object(6)\n",
      "memory usage: 152.8+ KB\n",
      "None\n"
     ]
    }
   ],
   "source": [
    "# Define the BigQuery source dataset\n",
    "BQ_SOURCE = \"bq://pongthorn.SMartML.TrainEval_Incident_20230316\"\n",
    "\n",
    "dataframe = download_table(BQ_SOURCE)\n",
    "dataframe=dataframe.iloc[0:len(dataframe)-1,:]\n",
    "print(dataframe.info())\n"
   ]
  },
  {
   "cell_type": "code",
   "execution_count": 29,
   "id": "a5293082-6e82-4eaa-894c-e81f2994bb3a",
   "metadata": {},
   "outputs": [
    {
     "name": "stdout",
     "output_type": "stream",
     "text": [
      "The mean and stds for each column are: {'open_to_close_hour': {'mean': 95.90196856520386, 'std': 262.5754868829863}, 'response_to_resolved_hour': {'mean': 70.41082321817616, 'std': 217.11239323048156}}\n"
     ]
    }
   ],
   "source": [
    "mean_and_std = calculate_mean_and_std(dataframe)\n",
    "print(f\"The mean and stds for each column are: {str(mean_and_std)}\")\n",
    "\n",
    "# Write to a file\n",
    "MEAN_AND_STD_JSON_FILE = \"incident_mean_and_std.json\"\n",
    "\n",
    "with open(MEAN_AND_STD_JSON_FILE, \"w\") as outfile:\n",
    "    json.dump(mean_and_std, outfile)\n"
   ]
  },
  {
   "cell_type": "code",
   "execution_count": null,
   "id": "1187df02-982a-4b01-9661-5e3e07ce0290",
   "metadata": {},
   "outputs": [],
   "source": []
  }
 ],
 "metadata": {
  "kernelspec": {
   "display_name": "Python 3 (ipykernel)",
   "language": "python",
   "name": "python3"
  },
  "language_info": {
   "codemirror_mode": {
    "name": "ipython",
    "version": 3
   },
   "file_extension": ".py",
   "mimetype": "text/x-python",
   "name": "python",
   "nbconvert_exporter": "python",
   "pygments_lexer": "ipython3",
   "version": "3.9.16"
  }
 },
 "nbformat": 4,
 "nbformat_minor": 5
}
