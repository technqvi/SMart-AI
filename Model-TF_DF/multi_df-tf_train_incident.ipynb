{
 "cells": [
  {
   "cell_type": "code",
   "execution_count": 164,
   "id": "c6920b3d-e127-4d00-b7ae-0779e6ef5803",
   "metadata": {},
   "outputs": [
    {
     "name": "stdout",
     "output_type": "stream",
     "text": [
      "2.12.0\n"
     ]
    }
   ],
   "source": [
    "# https://www.tensorflow.org/decision_forests/tutorials/beginner_colab\n",
    "# https://www.tensorflow.org/decision_forests/tutorials/predict_colab\n",
    "# https://www.tensorflow.org/decision_forests/tutorials/automatic_tuning_colab\n",
    "# https://www.tensorflow.org/decision_forests/tutorials/dtreeviz_colab\n",
    "from google.cloud import aiplatform\n",
    "from google.cloud import bigquery\n",
    "\n",
    "import pandas as pd\n",
    "import numpy as np\n",
    "\n",
    "import math\n",
    "import os\n",
    "\n",
    "import tensorflow as tf\n",
    "print(tf.__version__)"
   ]
  },
  {
   "cell_type": "code",
   "execution_count": 165,
   "id": "5eb2a0e9-ddd0-4a05-86e9-e2ed32435331",
   "metadata": {},
   "outputs": [
    {
     "name": "stdout",
     "output_type": "stream",
     "text": [
      "1.3.0\n"
     ]
    }
   ],
   "source": [
    "# ! pip install --upgrade tensorflow-decision-forests\n",
    "import tensorflow_decision_forests as tfdf\n",
    "print(tfdf.__version__)"
   ]
  },
  {
   "cell_type": "markdown",
   "id": "1f6748e1-f46a-4d3d-9ade-3e91150f3391",
   "metadata": {},
   "source": [
    "# Variable to Configuration"
   ]
  },
  {
   "cell_type": "code",
   "execution_count": 166,
   "id": "08b48f64-eb5b-4f0e-8e27-acb7ee210d4b",
   "metadata": {},
   "outputs": [
    {
     "name": "stdout",
     "output_type": "stream",
     "text": [
      "train-ds = pongthorn.SMartML.train2_incident\n",
      "test-ds = pongthorn.SMartML.test2_incident\n"
     ]
    }
   ],
   "source": [
    "projectId='pongthorn'\n",
    "dataset_id='SMartML'\n",
    "\n",
    "train_name='train2_incident'\n",
    "test_name='test2_incident'\n",
    "\n",
    "train_table_id=f\"{projectId}.{dataset_id}.{train_name}\"\n",
    "test_tabel_id=f\"{projectId}.{dataset_id}.{test_name}\"\n",
    "print(f\"train-ds = {train_table_id}\")\n",
    "print(f\"test-ds = {test_tabel_id}\")"
   ]
  },
  {
   "cell_type": "code",
   "execution_count": 167,
   "id": "86703035-9e51-439c-ad30-fcb8131ae83f",
   "metadata": {},
   "outputs": [],
   "source": [
    "metric=\"accuracy\"\n",
    "model_gs_path=\"gs://demo-tuned-tf-incident-pongthorn/model_df_tf\""
   ]
  },
  {
   "cell_type": "code",
   "execution_count": 168,
   "id": "6ed72e3f-b0a4-4712-a1f8-c2c7156eb03a",
   "metadata": {},
   "outputs": [],
   "source": [
    "# unusedCols=['severity_id','severity_name','label_binary_severity','open_to_close_hour','response_to_resolved_hour']\n",
    "# cateCols=['sla','product_type','brand','service_type','incident_type','range_open_to_close_hour','range_response_to_resolved_hour']\n",
    "# numbericCols=[]\n",
    "\n",
    "unusedCols=['severity_id','severity_name','label_binary_severity','range_open_to_close_hour','range_response_to_resolved_hour']\n",
    "cateCols=['sla','product_type','brand','service_type','incident_type']\n",
    "numbericCols=['open_to_close_hour','response_to_resolved_hour']\n",
    "\n",
    "\n",
    "labelCol='label_multi_severity'\n",
    "# labelCol='label_binary_severity'"
   ]
  },
  {
   "cell_type": "markdown",
   "id": "cdd9f87b-86b1-4869-a88e-28f63279a9aa",
   "metadata": {},
   "source": [
    "# Load & Prepare Data"
   ]
  },
  {
   "cell_type": "code",
   "execution_count": 169,
   "id": "b54d4427-4ded-438a-9910-9531e0dc651e",
   "metadata": {},
   "outputs": [],
   "source": [
    "def load_ml_data(data_path):\n",
    " df=pd.read_csv(data_path)\n",
    " df =df.drop(columns=unusedCols)\n",
    " \n",
    " return df\n",
    "\n",
    "def load_data_bq(sql:str):\n",
    " \n",
    " query_result=client.query(sql)\n",
    " df=query_result.to_dataframe()\n",
    " df =df.drop(columns=unusedCols)\n",
    " df[labelCol]=df[labelCol].astype('int') \n",
    " df=df[[labelCol]+cateCols+numbericCols]   \n",
    "  \n",
    " return df"
   ]
  },
  {
   "cell_type": "code",
   "execution_count": 170,
   "id": "93a32924-01b9-44f0-9c95-3dc335daaf96",
   "metadata": {},
   "outputs": [
    {
     "name": "stdout",
     "output_type": "stream",
     "text": [
      "<class 'pandas.core.frame.DataFrame'>\n",
      "RangeIndex: 2076 entries, 0 to 2075\n",
      "Data columns (total 8 columns):\n",
      " #   Column                     Non-Null Count  Dtype  \n",
      "---  ------                     --------------  -----  \n",
      " 0   label_multi_severity       2076 non-null   int64  \n",
      " 1   sla                        2076 non-null   object \n",
      " 2   product_type               2076 non-null   object \n",
      " 3   brand                      2076 non-null   object \n",
      " 4   service_type               2076 non-null   object \n",
      " 5   incident_type              2076 non-null   object \n",
      " 6   open_to_close_hour         2076 non-null   float64\n",
      " 7   response_to_resolved_hour  2076 non-null   float64\n",
      "dtypes: float64(2), int64(1), object(5)\n",
      "memory usage: 129.9+ KB\n",
      "None\n",
      "<class 'pandas.core.frame.DataFrame'>\n",
      "RangeIndex: 519 entries, 0 to 518\n",
      "Data columns (total 8 columns):\n",
      " #   Column                     Non-Null Count  Dtype  \n",
      "---  ------                     --------------  -----  \n",
      " 0   label_multi_severity       519 non-null    int64  \n",
      " 1   sla                        519 non-null    object \n",
      " 2   product_type               519 non-null    object \n",
      " 3   brand                      519 non-null    object \n",
      " 4   service_type               519 non-null    object \n",
      " 5   incident_type              519 non-null    object \n",
      " 6   open_to_close_hour         519 non-null    float64\n",
      " 7   response_to_resolved_hour  519 non-null    float64\n",
      "dtypes: float64(2), int64(1), object(5)\n",
      "memory usage: 32.6+ KB\n",
      "None\n"
     ]
    }
   ],
   "source": [
    "client = bigquery.Client(project=projectId)\n",
    "\n",
    "train=load_data_bq(f\"SELECT * FROM {train_table_id}\")\n",
    "test=load_data_bq(f\"SELECT * FROM {test_tabel_id}\")\n",
    "\n",
    "print(train.info())\n",
    "\n",
    "print(test.info())"
   ]
  },
  {
   "cell_type": "code",
   "execution_count": 171,
   "id": "33b553e0-a511-489a-9d16-e68535cec436",
   "metadata": {},
   "outputs": [
    {
     "data": {
      "text/html": [
       "<div>\n",
       "<style scoped>\n",
       "    .dataframe tbody tr th:only-of-type {\n",
       "        vertical-align: middle;\n",
       "    }\n",
       "\n",
       "    .dataframe tbody tr th {\n",
       "        vertical-align: top;\n",
       "    }\n",
       "\n",
       "    .dataframe thead th {\n",
       "        text-align: right;\n",
       "    }\n",
       "</style>\n",
       "<table border=\"1\" class=\"dataframe\">\n",
       "  <thead>\n",
       "    <tr style=\"text-align: right;\">\n",
       "      <th></th>\n",
       "      <th>label_multi_severity</th>\n",
       "      <th>sla</th>\n",
       "      <th>product_type</th>\n",
       "      <th>brand</th>\n",
       "      <th>service_type</th>\n",
       "      <th>incident_type</th>\n",
       "      <th>open_to_close_hour</th>\n",
       "      <th>response_to_resolved_hour</th>\n",
       "    </tr>\n",
       "  </thead>\n",
       "  <tbody>\n",
       "    <tr>\n",
       "      <th>2071</th>\n",
       "      <td>1</td>\n",
       "      <td>24x7 4Hrs Response Time</td>\n",
       "      <td>Software</td>\n",
       "      <td>Trend Micro</td>\n",
       "      <td>Request</td>\n",
       "      <td>Software</td>\n",
       "      <td>2.000000</td>\n",
       "      <td>1.916667</td>\n",
       "    </tr>\n",
       "    <tr>\n",
       "      <th>2072</th>\n",
       "      <td>2</td>\n",
       "      <td>24x7 6Hrs Resolution Time</td>\n",
       "      <td>Software</td>\n",
       "      <td>Trend Micro</td>\n",
       "      <td>Incident</td>\n",
       "      <td>Configuration Change</td>\n",
       "      <td>119.616667</td>\n",
       "      <td>119.033333</td>\n",
       "    </tr>\n",
       "    <tr>\n",
       "      <th>2073</th>\n",
       "      <td>2</td>\n",
       "      <td>24x7 4Hrs Response Time</td>\n",
       "      <td>Software</td>\n",
       "      <td>Trend Micro</td>\n",
       "      <td>Incident</td>\n",
       "      <td>General Incident</td>\n",
       "      <td>2247.850000</td>\n",
       "      <td>2247.850000</td>\n",
       "    </tr>\n",
       "    <tr>\n",
       "      <th>2074</th>\n",
       "      <td>2</td>\n",
       "      <td>24x7 6Hrs Resolution Time</td>\n",
       "      <td>Software</td>\n",
       "      <td>Trend Micro</td>\n",
       "      <td>Incident</td>\n",
       "      <td>General Incident</td>\n",
       "      <td>306.583333</td>\n",
       "      <td>306.200000</td>\n",
       "    </tr>\n",
       "    <tr>\n",
       "      <th>2075</th>\n",
       "      <td>2</td>\n",
       "      <td>24x7 6Hrs Resolution Time</td>\n",
       "      <td>Software</td>\n",
       "      <td>Trend Micro</td>\n",
       "      <td>Incident</td>\n",
       "      <td>General Incident</td>\n",
       "      <td>21.883333</td>\n",
       "      <td>21.600000</td>\n",
       "    </tr>\n",
       "  </tbody>\n",
       "</table>\n",
       "</div>"
      ],
      "text/plain": [
       "      label_multi_severity                        sla product_type  \\\n",
       "2071                     1    24x7 4Hrs Response Time     Software   \n",
       "2072                     2  24x7 6Hrs Resolution Time     Software   \n",
       "2073                     2    24x7 4Hrs Response Time     Software   \n",
       "2074                     2  24x7 6Hrs Resolution Time     Software   \n",
       "2075                     2  24x7 6Hrs Resolution Time     Software   \n",
       "\n",
       "            brand service_type         incident_type  open_to_close_hour  \\\n",
       "2071  Trend Micro      Request              Software            2.000000   \n",
       "2072  Trend Micro     Incident  Configuration Change          119.616667   \n",
       "2073  Trend Micro     Incident      General Incident         2247.850000   \n",
       "2074  Trend Micro     Incident      General Incident          306.583333   \n",
       "2075  Trend Micro     Incident      General Incident           21.883333   \n",
       "\n",
       "      response_to_resolved_hour  \n",
       "2071                   1.916667  \n",
       "2072                 119.033333  \n",
       "2073                2247.850000  \n",
       "2074                 306.200000  \n",
       "2075                  21.600000  "
      ]
     },
     "execution_count": 171,
     "metadata": {},
     "output_type": "execute_result"
    }
   ],
   "source": [
    "train.tail(5)"
   ]
  },
  {
   "cell_type": "code",
   "execution_count": 172,
   "id": "1e02a588-c078-4d19-8c8d-0f221caee6c3",
   "metadata": {},
   "outputs": [
    {
     "name": "stdout",
     "output_type": "stream",
     "text": [
      "<class 'pandas.core.frame.DataFrame'>\n",
      "RangeIndex: 19 entries, 500 to 518\n",
      "Data columns (total 8 columns):\n",
      " #   Column                     Non-Null Count  Dtype  \n",
      "---  ------                     --------------  -----  \n",
      " 0   label_multi_severity       19 non-null     int64  \n",
      " 1   sla                        19 non-null     object \n",
      " 2   product_type               19 non-null     object \n",
      " 3   brand                      19 non-null     object \n",
      " 4   service_type               19 non-null     object \n",
      " 5   incident_type              19 non-null     object \n",
      " 6   open_to_close_hour         19 non-null     float64\n",
      " 7   response_to_resolved_hour  19 non-null     float64\n",
      "dtypes: float64(2), int64(1), object(5)\n",
      "memory usage: 1.3+ KB\n",
      "None\n"
     ]
    },
    {
     "data": {
      "text/html": [
       "<div>\n",
       "<style scoped>\n",
       "    .dataframe tbody tr th:only-of-type {\n",
       "        vertical-align: middle;\n",
       "    }\n",
       "\n",
       "    .dataframe tbody tr th {\n",
       "        vertical-align: top;\n",
       "    }\n",
       "\n",
       "    .dataframe thead th {\n",
       "        text-align: right;\n",
       "    }\n",
       "</style>\n",
       "<table border=\"1\" class=\"dataframe\">\n",
       "  <thead>\n",
       "    <tr style=\"text-align: right;\">\n",
       "      <th></th>\n",
       "      <th>label_multi_severity</th>\n",
       "      <th>sla</th>\n",
       "      <th>product_type</th>\n",
       "      <th>brand</th>\n",
       "      <th>service_type</th>\n",
       "      <th>incident_type</th>\n",
       "      <th>open_to_close_hour</th>\n",
       "      <th>response_to_resolved_hour</th>\n",
       "    </tr>\n",
       "  </thead>\n",
       "  <tbody>\n",
       "    <tr>\n",
       "      <th>500</th>\n",
       "      <td>2</td>\n",
       "      <td>24x7 4Hrs Resolution Time</td>\n",
       "      <td>Firewall</td>\n",
       "      <td>Palo Alto</td>\n",
       "      <td>Incident</td>\n",
       "      <td>General Incident</td>\n",
       "      <td>1.183333</td>\n",
       "      <td>0.916667</td>\n",
       "    </tr>\n",
       "    <tr>\n",
       "      <th>501</th>\n",
       "      <td>2</td>\n",
       "      <td>24x7 4Hrs Resolution Time</td>\n",
       "      <td>Firewall</td>\n",
       "      <td>Palo Alto</td>\n",
       "      <td>Incident</td>\n",
       "      <td>General Incident</td>\n",
       "      <td>0.550000</td>\n",
       "      <td>0.416667</td>\n",
       "    </tr>\n",
       "    <tr>\n",
       "      <th>502</th>\n",
       "      <td>2</td>\n",
       "      <td>24x7 4Hrs Resolution Time</td>\n",
       "      <td>Firewall</td>\n",
       "      <td>Palo Alto</td>\n",
       "      <td>Incident</td>\n",
       "      <td>General Incident</td>\n",
       "      <td>0.583333</td>\n",
       "      <td>0.566667</td>\n",
       "    </tr>\n",
       "    <tr>\n",
       "      <th>503</th>\n",
       "      <td>2</td>\n",
       "      <td>24x7 4Hrs Resolution Time</td>\n",
       "      <td>Firewall</td>\n",
       "      <td>Palo Alto</td>\n",
       "      <td>Incident</td>\n",
       "      <td>General Incident</td>\n",
       "      <td>0.466667</td>\n",
       "      <td>0.416667</td>\n",
       "    </tr>\n",
       "    <tr>\n",
       "      <th>504</th>\n",
       "      <td>2</td>\n",
       "      <td>24x7 4Hrs Resolution Time</td>\n",
       "      <td>Firewall</td>\n",
       "      <td>Palo Alto</td>\n",
       "      <td>Incident</td>\n",
       "      <td>General Incident</td>\n",
       "      <td>0.416667</td>\n",
       "      <td>0.400000</td>\n",
       "    </tr>\n",
       "    <tr>\n",
       "      <th>505</th>\n",
       "      <td>2</td>\n",
       "      <td>24x7 4Hrs Resolution Time</td>\n",
       "      <td>Firewall</td>\n",
       "      <td>Palo Alto</td>\n",
       "      <td>Incident</td>\n",
       "      <td>Software</td>\n",
       "      <td>13.633333</td>\n",
       "      <td>0.833333</td>\n",
       "    </tr>\n",
       "    <tr>\n",
       "      <th>506</th>\n",
       "      <td>2</td>\n",
       "      <td>24x7 4Hrs Resolution Time</td>\n",
       "      <td>Firewall</td>\n",
       "      <td>Palo Alto</td>\n",
       "      <td>Incident</td>\n",
       "      <td>General Incident</td>\n",
       "      <td>0.933333</td>\n",
       "      <td>0.933333</td>\n",
       "    </tr>\n",
       "    <tr>\n",
       "      <th>507</th>\n",
       "      <td>2</td>\n",
       "      <td>24x7 4Hrs Resolution Time</td>\n",
       "      <td>Firewall</td>\n",
       "      <td>Palo Alto</td>\n",
       "      <td>Incident</td>\n",
       "      <td>General Incident</td>\n",
       "      <td>0.650000</td>\n",
       "      <td>0.650000</td>\n",
       "    </tr>\n",
       "    <tr>\n",
       "      <th>508</th>\n",
       "      <td>2</td>\n",
       "      <td>24x7 4Hrs Resolution Time</td>\n",
       "      <td>Firewall</td>\n",
       "      <td>Palo Alto</td>\n",
       "      <td>Incident</td>\n",
       "      <td>General Incident</td>\n",
       "      <td>0.216667</td>\n",
       "      <td>0.200000</td>\n",
       "    </tr>\n",
       "    <tr>\n",
       "      <th>509</th>\n",
       "      <td>2</td>\n",
       "      <td>24x7 4Hrs Response Time</td>\n",
       "      <td>Firewall</td>\n",
       "      <td>Palo Alto</td>\n",
       "      <td>Incident</td>\n",
       "      <td>General Incident</td>\n",
       "      <td>472.516667</td>\n",
       "      <td>404.850000</td>\n",
       "    </tr>\n",
       "    <tr>\n",
       "      <th>510</th>\n",
       "      <td>1</td>\n",
       "      <td>24x7 6Hrs Resolution Time</td>\n",
       "      <td>Software</td>\n",
       "      <td>CIMCO-CMMS</td>\n",
       "      <td>Incident</td>\n",
       "      <td>Software</td>\n",
       "      <td>317.550000</td>\n",
       "      <td>315.000000</td>\n",
       "    </tr>\n",
       "    <tr>\n",
       "      <th>511</th>\n",
       "      <td>2</td>\n",
       "      <td>24x7 6Hrs Resolution Time</td>\n",
       "      <td>Software</td>\n",
       "      <td>CIMCO-CMMS</td>\n",
       "      <td>Incident</td>\n",
       "      <td>Software</td>\n",
       "      <td>55.316667</td>\n",
       "      <td>51.500000</td>\n",
       "    </tr>\n",
       "    <tr>\n",
       "      <th>512</th>\n",
       "      <td>2</td>\n",
       "      <td>24x7 6Hrs Resolution Time</td>\n",
       "      <td>Software</td>\n",
       "      <td>CIMCO-CMMS</td>\n",
       "      <td>Incident</td>\n",
       "      <td>General Incident</td>\n",
       "      <td>191.716667</td>\n",
       "      <td>191.583333</td>\n",
       "    </tr>\n",
       "    <tr>\n",
       "      <th>513</th>\n",
       "      <td>0</td>\n",
       "      <td>24x7 4Hrs Response Time</td>\n",
       "      <td>Software</td>\n",
       "      <td>Trend Micro</td>\n",
       "      <td>Request</td>\n",
       "      <td>General Incident</td>\n",
       "      <td>163.850000</td>\n",
       "      <td>163.850000</td>\n",
       "    </tr>\n",
       "    <tr>\n",
       "      <th>514</th>\n",
       "      <td>0</td>\n",
       "      <td>24x7 4Hrs Response Time</td>\n",
       "      <td>Software</td>\n",
       "      <td>Trend Micro</td>\n",
       "      <td>Request</td>\n",
       "      <td>General Incident</td>\n",
       "      <td>220.333333</td>\n",
       "      <td>85.483333</td>\n",
       "    </tr>\n",
       "    <tr>\n",
       "      <th>515</th>\n",
       "      <td>0</td>\n",
       "      <td>24x7 4Hrs Response Time</td>\n",
       "      <td>Software</td>\n",
       "      <td>Trend Micro</td>\n",
       "      <td>Request</td>\n",
       "      <td>General Incident</td>\n",
       "      <td>21.333333</td>\n",
       "      <td>2.800000</td>\n",
       "    </tr>\n",
       "    <tr>\n",
       "      <th>516</th>\n",
       "      <td>1</td>\n",
       "      <td>24x7 4Hrs Response Time</td>\n",
       "      <td>Software</td>\n",
       "      <td>Trend Micro</td>\n",
       "      <td>Incident</td>\n",
       "      <td>Software</td>\n",
       "      <td>1.533333</td>\n",
       "      <td>1.233333</td>\n",
       "    </tr>\n",
       "    <tr>\n",
       "      <th>517</th>\n",
       "      <td>1</td>\n",
       "      <td>24x7 4Hrs Response Time</td>\n",
       "      <td>Software</td>\n",
       "      <td>Trend Micro</td>\n",
       "      <td>Incident</td>\n",
       "      <td>Software</td>\n",
       "      <td>54.000000</td>\n",
       "      <td>53.916667</td>\n",
       "    </tr>\n",
       "    <tr>\n",
       "      <th>518</th>\n",
       "      <td>1</td>\n",
       "      <td>24x7 4Hrs Response Time</td>\n",
       "      <td>Software</td>\n",
       "      <td>Trend Micro</td>\n",
       "      <td>Incident</td>\n",
       "      <td>General Incident</td>\n",
       "      <td>34.933333</td>\n",
       "      <td>34.733333</td>\n",
       "    </tr>\n",
       "  </tbody>\n",
       "</table>\n",
       "</div>"
      ],
      "text/plain": [
       "     label_multi_severity                        sla product_type  \\\n",
       "500                     2  24x7 4Hrs Resolution Time     Firewall   \n",
       "501                     2  24x7 4Hrs Resolution Time     Firewall   \n",
       "502                     2  24x7 4Hrs Resolution Time     Firewall   \n",
       "503                     2  24x7 4Hrs Resolution Time     Firewall   \n",
       "504                     2  24x7 4Hrs Resolution Time     Firewall   \n",
       "505                     2  24x7 4Hrs Resolution Time     Firewall   \n",
       "506                     2  24x7 4Hrs Resolution Time     Firewall   \n",
       "507                     2  24x7 4Hrs Resolution Time     Firewall   \n",
       "508                     2  24x7 4Hrs Resolution Time     Firewall   \n",
       "509                     2    24x7 4Hrs Response Time     Firewall   \n",
       "510                     1  24x7 6Hrs Resolution Time     Software   \n",
       "511                     2  24x7 6Hrs Resolution Time     Software   \n",
       "512                     2  24x7 6Hrs Resolution Time     Software   \n",
       "513                     0    24x7 4Hrs Response Time     Software   \n",
       "514                     0    24x7 4Hrs Response Time     Software   \n",
       "515                     0    24x7 4Hrs Response Time     Software   \n",
       "516                     1    24x7 4Hrs Response Time     Software   \n",
       "517                     1    24x7 4Hrs Response Time     Software   \n",
       "518                     1    24x7 4Hrs Response Time     Software   \n",
       "\n",
       "           brand service_type     incident_type  open_to_close_hour  \\\n",
       "500    Palo Alto     Incident  General Incident            1.183333   \n",
       "501    Palo Alto     Incident  General Incident            0.550000   \n",
       "502    Palo Alto     Incident  General Incident            0.583333   \n",
       "503    Palo Alto     Incident  General Incident            0.466667   \n",
       "504    Palo Alto     Incident  General Incident            0.416667   \n",
       "505    Palo Alto     Incident          Software           13.633333   \n",
       "506    Palo Alto     Incident  General Incident            0.933333   \n",
       "507    Palo Alto     Incident  General Incident            0.650000   \n",
       "508    Palo Alto     Incident  General Incident            0.216667   \n",
       "509    Palo Alto     Incident  General Incident          472.516667   \n",
       "510   CIMCO-CMMS     Incident          Software          317.550000   \n",
       "511   CIMCO-CMMS     Incident          Software           55.316667   \n",
       "512   CIMCO-CMMS     Incident  General Incident          191.716667   \n",
       "513  Trend Micro      Request  General Incident          163.850000   \n",
       "514  Trend Micro      Request  General Incident          220.333333   \n",
       "515  Trend Micro      Request  General Incident           21.333333   \n",
       "516  Trend Micro     Incident          Software            1.533333   \n",
       "517  Trend Micro     Incident          Software           54.000000   \n",
       "518  Trend Micro     Incident  General Incident           34.933333   \n",
       "\n",
       "     response_to_resolved_hour  \n",
       "500                   0.916667  \n",
       "501                   0.416667  \n",
       "502                   0.566667  \n",
       "503                   0.416667  \n",
       "504                   0.400000  \n",
       "505                   0.833333  \n",
       "506                   0.933333  \n",
       "507                   0.650000  \n",
       "508                   0.200000  \n",
       "509                 404.850000  \n",
       "510                 315.000000  \n",
       "511                  51.500000  \n",
       "512                 191.583333  \n",
       "513                 163.850000  \n",
       "514                  85.483333  \n",
       "515                   2.800000  \n",
       "516                   1.233333  \n",
       "517                  53.916667  \n",
       "518                  34.733333  "
      ]
     },
     "execution_count": 172,
     "metadata": {},
     "output_type": "execute_result"
    }
   ],
   "source": [
    "no_unseen=19\n",
    "unseen=test.iloc[-no_unseen:,:]\n",
    "print(unseen.info())\n",
    "unseen"
   ]
  },
  {
   "cell_type": "code",
   "execution_count": 173,
   "id": "e37f9812-69ab-4672-9641-0e9c1873396a",
   "metadata": {},
   "outputs": [
    {
     "name": "stdout",
     "output_type": "stream",
     "text": [
      "<class 'pandas.core.frame.DataFrame'>\n",
      "RangeIndex: 500 entries, 0 to 499\n",
      "Data columns (total 8 columns):\n",
      " #   Column                     Non-Null Count  Dtype  \n",
      "---  ------                     --------------  -----  \n",
      " 0   label_multi_severity       500 non-null    int64  \n",
      " 1   sla                        500 non-null    object \n",
      " 2   product_type               500 non-null    object \n",
      " 3   brand                      500 non-null    object \n",
      " 4   service_type               500 non-null    object \n",
      " 5   incident_type              500 non-null    object \n",
      " 6   open_to_close_hour         500 non-null    float64\n",
      " 7   response_to_resolved_hour  500 non-null    float64\n",
      "dtypes: float64(2), int64(1), object(5)\n",
      "memory usage: 31.4+ KB\n",
      "None\n"
     ]
    },
    {
     "data": {
      "text/html": [
       "<div>\n",
       "<style scoped>\n",
       "    .dataframe tbody tr th:only-of-type {\n",
       "        vertical-align: middle;\n",
       "    }\n",
       "\n",
       "    .dataframe tbody tr th {\n",
       "        vertical-align: top;\n",
       "    }\n",
       "\n",
       "    .dataframe thead th {\n",
       "        text-align: right;\n",
       "    }\n",
       "</style>\n",
       "<table border=\"1\" class=\"dataframe\">\n",
       "  <thead>\n",
       "    <tr style=\"text-align: right;\">\n",
       "      <th></th>\n",
       "      <th>label_multi_severity</th>\n",
       "      <th>sla</th>\n",
       "      <th>product_type</th>\n",
       "      <th>brand</th>\n",
       "      <th>service_type</th>\n",
       "      <th>incident_type</th>\n",
       "      <th>open_to_close_hour</th>\n",
       "      <th>response_to_resolved_hour</th>\n",
       "    </tr>\n",
       "  </thead>\n",
       "  <tbody>\n",
       "    <tr>\n",
       "      <th>495</th>\n",
       "      <td>2</td>\n",
       "      <td>8x5 4Hrs Response Time</td>\n",
       "      <td>Software</td>\n",
       "      <td>Microsoft</td>\n",
       "      <td>Request</td>\n",
       "      <td>General Incident</td>\n",
       "      <td>16.000000</td>\n",
       "      <td>13.500000</td>\n",
       "    </tr>\n",
       "    <tr>\n",
       "      <th>496</th>\n",
       "      <td>2</td>\n",
       "      <td>8x5 4Hrs Response Time</td>\n",
       "      <td>Software</td>\n",
       "      <td>Microsoft</td>\n",
       "      <td>Incident</td>\n",
       "      <td>General Incident</td>\n",
       "      <td>0.366667</td>\n",
       "      <td>0.200000</td>\n",
       "    </tr>\n",
       "    <tr>\n",
       "      <th>497</th>\n",
       "      <td>0</td>\n",
       "      <td>24x7 4Hrs Response Time</td>\n",
       "      <td>Firewall</td>\n",
       "      <td>Palo Alto</td>\n",
       "      <td>Request</td>\n",
       "      <td>Configuration Change</td>\n",
       "      <td>641.033333</td>\n",
       "      <td>638.466667</td>\n",
       "    </tr>\n",
       "    <tr>\n",
       "      <th>498</th>\n",
       "      <td>1</td>\n",
       "      <td>24x7 4Hrs Resolution Time</td>\n",
       "      <td>Firewall</td>\n",
       "      <td>Palo Alto</td>\n",
       "      <td>Incident</td>\n",
       "      <td>General Incident</td>\n",
       "      <td>1.783333</td>\n",
       "      <td>0.016667</td>\n",
       "    </tr>\n",
       "    <tr>\n",
       "      <th>499</th>\n",
       "      <td>2</td>\n",
       "      <td>24x7 4Hrs Resolution Time</td>\n",
       "      <td>Firewall</td>\n",
       "      <td>Palo Alto</td>\n",
       "      <td>Incident</td>\n",
       "      <td>General Incident</td>\n",
       "      <td>0.616667</td>\n",
       "      <td>0.416667</td>\n",
       "    </tr>\n",
       "  </tbody>\n",
       "</table>\n",
       "</div>"
      ],
      "text/plain": [
       "     label_multi_severity                        sla product_type      brand  \\\n",
       "495                     2     8x5 4Hrs Response Time     Software  Microsoft   \n",
       "496                     2     8x5 4Hrs Response Time     Software  Microsoft   \n",
       "497                     0    24x7 4Hrs Response Time     Firewall  Palo Alto   \n",
       "498                     1  24x7 4Hrs Resolution Time     Firewall  Palo Alto   \n",
       "499                     2  24x7 4Hrs Resolution Time     Firewall  Palo Alto   \n",
       "\n",
       "    service_type         incident_type  open_to_close_hour  \\\n",
       "495      Request      General Incident           16.000000   \n",
       "496     Incident      General Incident            0.366667   \n",
       "497      Request  Configuration Change          641.033333   \n",
       "498     Incident      General Incident            1.783333   \n",
       "499     Incident      General Incident            0.616667   \n",
       "\n",
       "     response_to_resolved_hour  \n",
       "495                  13.500000  \n",
       "496                   0.200000  \n",
       "497                 638.466667  \n",
       "498                   0.016667  \n",
       "499                   0.416667  "
      ]
     },
     "execution_count": 173,
     "metadata": {},
     "output_type": "execute_result"
    }
   ],
   "source": [
    "test=test.iloc[0:len(test)-no_unseen,:]\n",
    "print(test.info())\n",
    "test.tail()"
   ]
  },
  {
   "cell_type": "markdown",
   "id": "aa72159d-066d-4e7c-be00-3e74b60a4062",
   "metadata": {},
   "source": [
    "# Build Model"
   ]
  },
  {
   "cell_type": "code",
   "execution_count": 174,
   "id": "1c895353-d33e-44b8-91eb-75a4322db7b9",
   "metadata": {},
   "outputs": [],
   "source": [
    "train_ds = tfdf.keras.pd_dataframe_to_tf_dataset(train, label=labelCol)\n",
    "test_ds = tfdf.keras.pd_dataframe_to_tf_dataset(test, label=labelCol)"
   ]
  },
  {
   "cell_type": "code",
   "execution_count": 175,
   "id": "da1f2012-412a-4c3a-aaeb-9b98dd11fec4",
   "metadata": {},
   "outputs": [
    {
     "name": "stdout",
     "output_type": "stream",
     "text": [
      "Use /var/tmp/tmpzh9rkj8d as temporary training directory\n",
      "Reading training dataset...\n"
     ]
    },
    {
     "name": "stderr",
     "output_type": "stream",
     "text": [
      "[WARNING 23-06-27 08:01:32.4777 UTC gradient_boosted_trees.cc:1797] \"goss_alpha\" set but \"sampling_method\" not equal to \"GOSS\".\n",
      "[WARNING 23-06-27 08:01:32.4787 UTC gradient_boosted_trees.cc:1808] \"goss_beta\" set but \"sampling_method\" not equal to \"GOSS\".\n",
      "[WARNING 23-06-27 08:01:32.4791 UTC gradient_boosted_trees.cc:1822] \"selective_gradient_boosting_ratio\" set but \"sampling_method\" not equal to \"SELGB\".\n",
      "2023-06-27 08:01:32.494615: I tensorflow/core/common_runtime/executor.cc:1197] [/device:CPU:0] (DEBUG INFO) Executor start aborting (this does not indicate an error and you can ignore this message): INVALID_ARGUMENT: You must feed a value for placeholder tensor 'Placeholder/_6' with dtype string and shape [2076]\n",
      "\t [[{{node Placeholder/_6}}]]\n"
     ]
    },
    {
     "name": "stdout",
     "output_type": "stream",
     "text": [
      "Training dataset read in 0:00:00.224357. Found 2076 examples.\n",
      "Training model...\n",
      "Model trained in 0:00:00.383498\n",
      "Compiling model...\n",
      "Model compiled.\n"
     ]
    },
    {
     "name": "stderr",
     "output_type": "stream",
     "text": [
      "[INFO 23-06-27 08:01:33.0724 UTC kernel.cc:1242] Loading model from path /var/tmp/tmpzh9rkj8d/model/ with prefix fd0bbd9ee4f44aa6\n",
      "[INFO 23-06-27 08:01:33.0944 UTC decision_forest.cc:660] Model loaded with 136 root(s), 6380 node(s), and 7 input feature(s).\n",
      "[INFO 23-06-27 08:01:33.0953 UTC abstract_model.cc:1311] Engine \"GradientBoostedTreesGeneric\" built\n",
      "[INFO 23-06-27 08:01:33.0958 UTC kernel.cc:1074] Use fast generic engine\n",
      "2023-06-27 08:01:33.110434: I tensorflow/core/common_runtime/executor.cc:1197] [/device:CPU:0] (DEBUG INFO) Executor start aborting (this does not indicate an error and you can ignore this message): INVALID_ARGUMENT: You must feed a value for placeholder tensor 'Placeholder/_4' with dtype double and shape [2076]\n",
      "\t [[{{node Placeholder/_4}}]]\n"
     ]
    },
    {
     "data": {
      "text/plain": [
       "<keras.callbacks.History at 0x7f27dbb318a0>"
      ]
     },
     "execution_count": 175,
     "metadata": {},
     "output_type": "execute_result"
    }
   ],
   "source": [
    "# Specify the model.\n",
    "#model = tfdf.keras.RandomForestModel()\n",
    "model=tfdf.keras.GradientBoostedTreesModel()\n",
    "model.fit(x=train_ds)"
   ]
  },
  {
   "cell_type": "code",
   "execution_count": 176,
   "id": "ed1044ae-7da6-4273-acac-363700e7aecb",
   "metadata": {},
   "outputs": [
    {
     "name": "stdout",
     "output_type": "stream",
     "text": [
      "1/1 [==============================] - 0s 161ms/step - loss: 0.0000e+00 - accuracy: 0.6980\n",
      "loss: 0.0000\n",
      "accuracy: 0.7060\n"
     ]
    },
    {
     "name": "stderr",
     "output_type": "stream",
     "text": [
      "2023-06-27 08:01:33.352105: I tensorflow/core/common_runtime/executor.cc:1197] [/device:CPU:0] (DEBUG INFO) Executor start aborting (this does not indicate an error and you can ignore this message): INVALID_ARGUMENT: You must feed a value for placeholder tensor 'Placeholder/_5' with dtype string and shape [500]\n",
      "\t [[{{node Placeholder/_5}}]]\n"
     ]
    }
   ],
   "source": [
    "model.compile(metrics=[metric])\n",
    "model.evaluate(test_ds)\n",
    "# evaluation = model.evaluate(test_ds, return_dict=True)\n",
    "for name, value in evaluation.items():\n",
    "  print(f\"{name}: {value:.4f}\")"
   ]
  },
  {
   "cell_type": "markdown",
   "id": "74420e30-fbb5-4730-bb48-b8a3efce49ce",
   "metadata": {},
   "source": [
    "# Save Model"
   ]
  },
  {
   "cell_type": "code",
   "execution_count": 177,
   "id": "2b21d1d7-6d34-4c40-b0a2-fac22ca7097e",
   "metadata": {},
   "outputs": [
    {
     "name": "stderr",
     "output_type": "stream",
     "text": [
      "WARNING:absl:Found untraced functions such as call_get_leaves, _update_step_xla while saving (showing 2 of 2). These functions will not be directly callable after loading.\n"
     ]
    },
    {
     "name": "stdout",
     "output_type": "stream",
     "text": [
      "INFO:tensorflow:Assets written to: gs://demo-tuned-tf-incident-pongthorn/model_df_tf/assets\n"
     ]
    },
    {
     "name": "stderr",
     "output_type": "stream",
     "text": [
      "INFO:tensorflow:Assets written to: gs://demo-tuned-tf-incident-pongthorn/model_df_tf/assets\n"
     ]
    }
   ],
   "source": [
    "model.save(model_gs_path)"
   ]
  },
  {
   "cell_type": "markdown",
   "id": "825873e3-7376-42b8-947e-78776f364b23",
   "metadata": {},
   "source": [
    "# Load Model"
   ]
  },
  {
   "cell_type": "code",
   "execution_count": 178,
   "id": "60e05a71-2597-41e4-b5a3-28513855df56",
   "metadata": {},
   "outputs": [
    {
     "name": "stderr",
     "output_type": "stream",
     "text": [
      "[INFO 23-06-27 08:02:17.7610 UTC kernel.cc:1242] Loading model from path gs://demo-tuned-tf-incident-pongthorn/model_df_tf/assets/ with prefix fd0bbd9ee4f44aa6\n",
      "[INFO 23-06-27 08:02:18.1944 UTC decision_forest.cc:660] Model loaded with 136 root(s), 6380 node(s), and 7 input feature(s).\n",
      "[INFO 23-06-27 08:02:18.1953 UTC abstract_model.cc:1311] Engine \"GradientBoostedTreesGeneric\" built\n",
      "[INFO 23-06-27 08:02:18.1958 UTC kernel.cc:1074] Use fast generic engine\n"
     ]
    }
   ],
   "source": [
    "abc_model = tf.keras.models.load_model(model_gs_path)  "
   ]
  },
  {
   "cell_type": "markdown",
   "id": "54787dc3-5153-4f98-bf0a-80f285c28daf",
   "metadata": {},
   "source": [
    "# Make Prediction"
   ]
  },
  {
   "cell_type": "code",
   "execution_count": 179,
   "id": "fecb29d8-c5ca-4b8d-ab11-6598b35616cc",
   "metadata": {},
   "outputs": [
    {
     "data": {
      "text/plain": [
       "<_PrefetchDataset element_spec={'sla': TensorSpec(shape=(None,), dtype=tf.string, name=None), 'product_type': TensorSpec(shape=(None,), dtype=tf.string, name=None), 'brand': TensorSpec(shape=(None,), dtype=tf.string, name=None), 'service_type': TensorSpec(shape=(None,), dtype=tf.string, name=None), 'incident_type': TensorSpec(shape=(None,), dtype=tf.string, name=None), 'open_to_close_hour': TensorSpec(shape=(None,), dtype=tf.float64, name=None), 'response_to_resolved_hour': TensorSpec(shape=(None,), dtype=tf.float64, name=None)}>"
      ]
     },
     "execution_count": 179,
     "metadata": {},
     "output_type": "execute_result"
    }
   ],
   "source": [
    "unseen_ds= tfdf.keras.pd_dataframe_to_tf_dataset(unseen.drop(columns=[labelCol]))\n",
    "unseen_ds"
   ]
  },
  {
   "cell_type": "code",
   "execution_count": 180,
   "id": "27a54df6-4227-4031-ba63-fc3e3c5d3c83",
   "metadata": {},
   "outputs": [
    {
     "name": "stdout",
     "output_type": "stream",
     "text": [
      "1/1 [==============================] - 0s 81ms/step\n"
     ]
    },
    {
     "name": "stderr",
     "output_type": "stream",
     "text": [
      "2023-06-27 08:02:27.198756: I tensorflow/core/common_runtime/executor.cc:1197] [/device:CPU:0] (DEBUG INFO) Executor start aborting (this does not indicate an error and you can ignore this message): INVALID_ARGUMENT: You must feed a value for placeholder tensor 'Placeholder/_1' with dtype string and shape [19]\n",
      "\t [[{{node Placeholder/_1}}]]\n"
     ]
    }
   ],
   "source": [
    "predResultList=abc_model.predict(unseen_ds)"
   ]
  },
  {
   "cell_type": "code",
   "execution_count": 181,
   "id": "0d0dca0e-0423-4866-bcf9-cf44effd38e7",
   "metadata": {},
   "outputs": [
    {
     "name": "stdout",
     "output_type": "stream",
     "text": [
      "[0.00961858 0.05841344 0.9206418  0.01132618] : 2 as severity#2\n",
      "[0.00912646 0.03197109 0.94815576 0.01074669] : 2 as severity#2\n",
      "[0.00951547 0.03333384 0.9459459  0.01120477] : 2 as severity#2\n",
      "[0.01011193 0.03193929 0.9472127  0.010736  ] : 2 as severity#2\n",
      "[0.01011193 0.03193929 0.9472127  0.010736  ] : 2 as severity#2\n",
      "[0.00949452 0.08582594 0.8954805  0.00919898] : 2 as severity#2\n",
      "[0.00961858 0.05841344 0.9206418  0.01132618] : 2 as severity#2\n",
      "[0.00952273 0.03259631 0.94666773 0.01121331] : 2 as severity#2\n",
      "[0.00906669 0.03499257 0.94522727 0.0107135 ] : 2 as severity#2\n",
      "[0.00935035 0.09552983 0.8881262  0.00699364] : 2 as severity#2\n",
      "[0.00698659 0.13805676 0.8480582  0.00689839] : 2 as severity#2\n",
      "[0.01192594 0.2820107  0.694288   0.01177539] : 2 as severity#2\n",
      "[0.00737353 0.16599399 0.8194053  0.00722716] : 2 as severity#2\n",
      "[0.9037126  0.08144306 0.01039661 0.00444784] : 0 as severity#4\n",
      "[0.9092407  0.07490288 0.0113813  0.00447505] : 0 as severity#4\n",
      "[0.923732   0.06390007 0.00817693 0.004191  ] : 0 as severity#4\n",
      "[0.01321445 0.784623   0.18896072 0.01320175] : 1 as severity#3\n",
      "[0.01738011 0.74094886 0.22544101 0.01622998] : 1 as severity#3\n",
      "[0.01803938 0.64441544 0.3203279  0.01721731] : 1 as severity#3\n"
     ]
    }
   ],
   "source": [
    "map_severity_to_class={0:4,1: 3, 2: 2, 3: 1}\n",
    "for predResult in predResultList:\n",
    "    _class=tf.argmax(predResult,-1).numpy()\n",
    "    print(f\"{predResult} : {_class} as severity#{map_severity_to_class[_class]}\")   "
   ]
  },
  {
   "cell_type": "code",
   "execution_count": null,
   "id": "c328d6fa-68ae-4ddd-a3c0-9b58aefc0c0c",
   "metadata": {},
   "outputs": [],
   "source": []
  }
 ],
 "metadata": {
  "environment": {
   "kernel": "python3",
   "name": "tf2-gpu.2-12.m109",
   "type": "gcloud",
   "uri": "gcr.io/deeplearning-platform-release/tf2-gpu.2-12:m109"
  },
  "kernelspec": {
   "display_name": "Python 3",
   "language": "python",
   "name": "python3"
  },
  "language_info": {
   "codemirror_mode": {
    "name": "ipython",
    "version": 3
   },
   "file_extension": ".py",
   "mimetype": "text/x-python",
   "name": "python",
   "nbconvert_exporter": "python",
   "pygments_lexer": "ipython3",
   "version": "3.10.11"
  }
 },
 "nbformat": 4,
 "nbformat_minor": 5
}
