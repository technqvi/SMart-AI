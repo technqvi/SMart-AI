{
 "cells": [
  {
   "cell_type": "code",
   "execution_count": 121,
   "id": "c6920b3d-e127-4d00-b7ae-0779e6ef5803",
   "metadata": {},
   "outputs": [
    {
     "name": "stdout",
     "output_type": "stream",
     "text": [
      "2.12.0\n"
     ]
    }
   ],
   "source": [
    "# https://www.tensorflow.org/decision_forests/tutorials/beginner_colab\n",
    "# https://www.tensorflow.org/decision_forests/tutorials/predict_colab\n",
    "# https://www.tensorflow.org/decision_forests/tutorials/advanced_colab \n",
    "\n",
    "from google.cloud import bigquery\n",
    "\n",
    "import pandas as pd\n",
    "import numpy as np\n",
    "\n",
    "import math\n",
    "import os\n",
    "\n",
    "import tensorflow as tf\n",
    "print(tf.__version__)\n",
    "\n",
    "\n",
    "#https://developers.google.com/machine-learning/crash-course/classification/precision-and-recall\n",
    "#https://developers.google.com/machine-learning/crash-course/classification/accuracy"
   ]
  },
  {
   "cell_type": "code",
   "execution_count": 122,
   "id": "5eb2a0e9-ddd0-4a05-86e9-e2ed32435331",
   "metadata": {},
   "outputs": [
    {
     "name": "stdout",
     "output_type": "stream",
     "text": [
      "1.4.0\n"
     ]
    }
   ],
   "source": [
    "#pip install tensorflow_decision_forests --upgrade --user\n",
    "import tensorflow_decision_forests as tfdf\n",
    "print(tfdf.__version__)"
   ]
  },
  {
   "cell_type": "markdown",
   "id": "1f6748e1-f46a-4d3d-9ade-3e91150f3391",
   "metadata": {},
   "source": [
    "# Variable to Configuration"
   ]
  },
  {
   "cell_type": "code",
   "execution_count": 123,
   "id": "f42f6351-3e31-40ce-88a9-81d531ea3530",
   "metadata": {},
   "outputs": [],
   "source": [
    "model_tree_type=1# 1= xgboost  2=random forest\n",
    "option_cate_feature=1 # the best formance    # 1=numberice hour 2. range hour\n",
    "hyperparameter_template=False\n",
    "\n",
    "#labelCol='label_multi_severity'\n",
    "labelCol='label_binary_severity'\n",
    "\n",
    "#Others are more proper than Accuracy in this case AUC,Recall,F1  (F1 provide  since tensorflow 1.13\n",
    "\n",
    "model_prefix=\"demo2\"\n",
    "bucket_name=\"gs://demo2-tf-incident-pongthorn\""
   ]
  },
  {
   "cell_type": "code",
   "execution_count": 124,
   "id": "08b48f64-eb5b-4f0e-8e27-acb7ee210d4b",
   "metadata": {},
   "outputs": [
    {
     "name": "stdout",
     "output_type": "stream",
     "text": [
      "train-ds = pongthorn.SMartML.train2_incident\n",
      "test-ds = pongthorn.SMartML.test2_incident\n"
     ]
    }
   ],
   "source": [
    "projectId='pongthorn'\n",
    "dataset_id='SMartML'\n",
    "\n",
    "train_name='train2_incident'\n",
    "test_name='test2_incident'\n",
    "\n",
    "\n",
    "train_table_id=f\"{projectId}.{dataset_id}.{train_name}\"\n",
    "test_tabel_id=f\"{projectId}.{dataset_id}.{test_name}\"\n",
    "print(f\"train-ds = {train_table_id}\")\n",
    "print(f\"test-ds = {test_tabel_id}\")"
   ]
  },
  {
   "cell_type": "code",
   "execution_count": 125,
   "id": "6ed72e3f-b0a4-4712-a1f8-c2c7156eb03a",
   "metadata": {},
   "outputs": [
    {
     "name": "stdout",
     "output_type": "stream",
     "text": [
      "CateCols : ['sla', 'product_type', 'brand', 'service_type', 'incident_type']\n",
      "NumbericCols : ['open_to_close_hour']\n",
      "UnusedCols : ['id', 'severity_id', 'severity_name', 'range_open_to_close_hour', 'label_multi_severity']\n",
      "gs://demo2-tf-incident-pongthorn/demo2_binary_gbt_tf_model\n"
     ]
    }
   ],
   "source": [
    "if  labelCol=='label_multi_severity':\n",
    "    if model_tree_type==1:\n",
    "        _model=f'{model_prefix}_multi_gbt_tf_model'\n",
    "    else:\n",
    "         _model=f'{model_prefix}_multi_rf_tf__model'\n",
    "else:\n",
    "    if model_tree_type==1:\n",
    "        _model=f'{model_prefix}_binary_gbt_tf_model'\n",
    "    else:\n",
    "         _model=f'{model_prefix}_binary_rf_tf_model'\n",
    "\n",
    "if option_cate_feature==1:\n",
    "    \n",
    "    cateCols=['sla','product_type','brand','service_type','incident_type']\n",
    "    numbericCols=['open_to_close_hour']\n",
    "    if labelCol=='label_multi_severity':\n",
    "     unusedCols=['id','severity_id','severity_name','range_open_to_close_hour','label_binary_severity']\n",
    "    else:\n",
    "      unusedCols=['id','severity_id','severity_name','range_open_to_close_hour','label_multi_severity']  \n",
    "else:\n",
    "    # cateCols=['sla','product_type','brand','service_type','incident_type','range_open_to_close_hour','range_response_to_resolved_hour']\n",
    "    cateCols=['sla','product_type','brand','service_type','incident_type','range_open_to_close_hour']\n",
    "    numbericCols=[]\n",
    "    #unusedCols=['id','severity_id','severity_name','label_binary_severity','open_to_close_hour','response_to_resolved_hour']\n",
    "    if labelCol=='label_multi_severity':\n",
    "     unusedCols=['id','severity_id','severity_name','open_to_close_hour','label_binary_severity']\n",
    "    else:\n",
    "     unusedCols=['id','severity_id','severity_name','open_to_close_hour','label_multi_severity']   \n",
    "    \n",
    "    _model=f\"{_model}_range_hour\"\n",
    " \n",
    "\n",
    "\n",
    "print(f\"CateCols : {cateCols}\")\n",
    "print(f\"NumbericCols : {numbericCols}\")\n",
    "print(f\"UnusedCols : {unusedCols}\")\n",
    "\n",
    "model_gs_path=f\"{bucket_name}/{_model}\"\n",
    "print(model_gs_path)\n",
    "#model_local_path=_model"
   ]
  },
  {
   "cell_type": "markdown",
   "id": "cdd9f87b-86b1-4869-a88e-28f63279a9aa",
   "metadata": {},
   "source": [
    "# Load & Prepare Data"
   ]
  },
  {
   "cell_type": "code",
   "execution_count": 126,
   "id": "b54d4427-4ded-438a-9910-9531e0dc651e",
   "metadata": {},
   "outputs": [],
   "source": [
    "def load_ml_data(data_path):\n",
    " df=pd.read_csv(data_path)\n",
    " df =df.drop(columns=unusedCols)\n",
    " \n",
    " return df\n",
    "\n",
    "def load_data_bq(sql:str):\n",
    " \n",
    " query_result=client.query(sql)\n",
    " df=query_result.to_dataframe()\n",
    " df =df.drop(columns=unusedCols)\n",
    " df[labelCol]=df[labelCol].astype('int64') \n",
    " df=df[[labelCol]+cateCols+numbericCols]   \n",
    "  \n",
    " return df"
   ]
  },
  {
   "cell_type": "code",
   "execution_count": 127,
   "id": "93a32924-01b9-44f0-9c95-3dc335daaf96",
   "metadata": {},
   "outputs": [
    {
     "name": "stdout",
     "output_type": "stream",
     "text": [
      "<class 'pandas.core.frame.DataFrame'>\n",
      "RangeIndex: 3252 entries, 0 to 3251\n",
      "Data columns (total 7 columns):\n",
      " #   Column                 Non-Null Count  Dtype  \n",
      "---  ------                 --------------  -----  \n",
      " 0   label_binary_severity  3252 non-null   int64  \n",
      " 1   sla                    3252 non-null   object \n",
      " 2   product_type           3252 non-null   object \n",
      " 3   brand                  3252 non-null   object \n",
      " 4   service_type           3252 non-null   object \n",
      " 5   incident_type          3252 non-null   object \n",
      " 6   open_to_close_hour     3252 non-null   float64\n",
      "dtypes: float64(1), int64(1), object(5)\n",
      "memory usage: 178.0+ KB\n",
      "None\n",
      "<class 'pandas.core.frame.DataFrame'>\n",
      "RangeIndex: 814 entries, 0 to 813\n",
      "Data columns (total 7 columns):\n",
      " #   Column                 Non-Null Count  Dtype  \n",
      "---  ------                 --------------  -----  \n",
      " 0   label_binary_severity  814 non-null    int64  \n",
      " 1   sla                    814 non-null    object \n",
      " 2   product_type           814 non-null    object \n",
      " 3   brand                  814 non-null    object \n",
      " 4   service_type           814 non-null    object \n",
      " 5   incident_type          814 non-null    object \n",
      " 6   open_to_close_hour     814 non-null    float64\n",
      "dtypes: float64(1), int64(1), object(5)\n",
      "memory usage: 44.6+ KB\n",
      "None\n"
     ]
    }
   ],
   "source": [
    "client = bigquery.Client(project=projectId)\n",
    "\n",
    "train=load_data_bq(f\"SELECT * FROM {train_table_id}\")\n",
    "test=load_data_bq(f\"SELECT * FROM {test_tabel_id}\")\n",
    "\n",
    "print(train.info())\n",
    "\n",
    "print(test.info())"
   ]
  },
  {
   "cell_type": "markdown",
   "id": "c2c726d8-993f-4a91-921c-f0efcf4fae11",
   "metadata": {},
   "source": [
    "# Explore & Visualize Target Class Label"
   ]
  },
  {
   "cell_type": "code",
   "execution_count": 128,
   "id": "db86f9b2-8cab-44c7-a9f4-a1d7617ea969",
   "metadata": {},
   "outputs": [
    {
     "name": "stdout",
     "output_type": "stream",
     "text": [
      "[0, 1]\n"
     ]
    }
   ],
   "source": [
    "classes_train = list(train[labelCol].unique())\n",
    "classes_test = list(test[labelCol].unique())\n",
    "\n",
    "set_classes=set(classes_train) & set(classes_test)\n",
    "classes=list(set_classes)\n",
    "print(classes)\n",
    "\n"
   ]
  },
  {
   "cell_type": "code",
   "execution_count": 129,
   "id": "287868d5-106f-4d1e-9eb3-ade6e6530687",
   "metadata": {},
   "outputs": [
    {
     "name": "stdout",
     "output_type": "stream",
     "text": [
      "1(Critical) in Train=1717 and  1(Critical) in Test=414\n",
      "Train: Ratio of 1(Critical) to AllLabels is 0.53\n",
      "Test: Ratio of 1(Critical) to AllLabels is 0.51\n"
     ]
    },
    {
     "data": {
      "image/png": "[encoded data removed]",
      "text/plain": [
       "<Figure size 1500x500 with 1 Axes>"
      ]
     },
     "metadata": {},
     "output_type": "display_data"
    },
    {
     "data": {
      "image/png": "[encoded data removed]",
      "text/plain": [
       "<Figure size 1500x500 with 1 Axes>"
      ]
     },
     "metadata": {},
     "output_type": "display_data"
    }
   ],
   "source": [
    "no_1_train=len(train.query(f\"{labelCol}==1\"))\n",
    "no_1_test=len(test.query(f\"{labelCol}==1\"))\n",
    "print(f\"1(Critical) in Train={no_1_train} and  1(Critical) in Test={no_1_test}\")\n",
    "\n",
    "print(f\"Train: Ratio of 1(Critical) to AllLabels is {round(no_1_train/len(train),2)}\")\n",
    "print(f\"Test: Ratio of 1(Critical) to AllLabels is {round(no_1_test/len(test),2)}\")\n",
    "\n",
    "import seaborn as sns\n",
    "import matplotlib.pyplot  as plt\n",
    "def plot_label(df_):\n",
    "\n",
    "    fig , ax = plt.subplots(figsize=(15,5))\n",
    "    ax =sns.countplot(x=labelCol, data=df_,)\n",
    "    for p in ax.patches:\n",
    "       ax.annotate('{:.1f}'.format(p.get_height()), (p.get_x()+0.25, p.get_height()+0.01))\n",
    "    plt.title(labelCol)\n",
    "    plt.show()\n",
    "        \n",
    "plot_label(train)\n",
    "plot_label(test)"
   ]
  },
  {
   "cell_type": "code",
   "execution_count": 130,
   "id": "33b553e0-a511-489a-9d16-e68535cec436",
   "metadata": {},
   "outputs": [
    {
     "data": {
      "text/html": [
       "<div>\n",
       "<style scoped>\n",
       "    .dataframe tbody tr th:only-of-type {\n",
       "        vertical-align: middle;\n",
       "    }\n",
       "\n",
       "    .dataframe tbody tr th {\n",
       "        vertical-align: top;\n",
       "    }\n",
       "\n",
       "    .dataframe thead th {\n",
       "        text-align: right;\n",
       "    }\n",
       "</style>\n",
       "<table border=\"1\" class=\"dataframe\">\n",
       "  <thead>\n",
       "    <tr style=\"text-align: right;\">\n",
       "      <th></th>\n",
       "      <th>label_binary_severity</th>\n",
       "      <th>sla</th>\n",
       "      <th>product_type</th>\n",
       "      <th>brand</th>\n",
       "      <th>service_type</th>\n",
       "      <th>incident_type</th>\n",
       "      <th>open_to_close_hour</th>\n",
       "    </tr>\n",
       "  </thead>\n",
       "  <tbody>\n",
       "    <tr>\n",
       "      <th>3247</th>\n",
       "      <td>0</td>\n",
       "      <td>24x7 4Hrs Response Time</td>\n",
       "      <td>Software</td>\n",
       "      <td>Trend Micro</td>\n",
       "      <td>Request</td>\n",
       "      <td>General Incident</td>\n",
       "      <td>308.166667</td>\n",
       "    </tr>\n",
       "    <tr>\n",
       "      <th>3248</th>\n",
       "      <td>0</td>\n",
       "      <td>24x7 4Hrs Response Time</td>\n",
       "      <td>Software</td>\n",
       "      <td>Trend Micro</td>\n",
       "      <td>Request</td>\n",
       "      <td>Configuration Change</td>\n",
       "      <td>4.066667</td>\n",
       "    </tr>\n",
       "    <tr>\n",
       "      <th>3249</th>\n",
       "      <td>0</td>\n",
       "      <td>24x7 4Hrs Response Time</td>\n",
       "      <td>Security</td>\n",
       "      <td>Trend Micro</td>\n",
       "      <td>Request</td>\n",
       "      <td>General Incident</td>\n",
       "      <td>0.333333</td>\n",
       "    </tr>\n",
       "    <tr>\n",
       "      <th>3250</th>\n",
       "      <td>0</td>\n",
       "      <td>24x7 4Hrs Response Time</td>\n",
       "      <td>Software</td>\n",
       "      <td>Trend Micro</td>\n",
       "      <td>Request</td>\n",
       "      <td>Configuration Change</td>\n",
       "      <td>5.516667</td>\n",
       "    </tr>\n",
       "    <tr>\n",
       "      <th>3251</th>\n",
       "      <td>0</td>\n",
       "      <td>24x7 4Hrs Response Time</td>\n",
       "      <td>Software</td>\n",
       "      <td>Trend Micro</td>\n",
       "      <td>Request</td>\n",
       "      <td>General Incident</td>\n",
       "      <td>21.333333</td>\n",
       "    </tr>\n",
       "  </tbody>\n",
       "</table>\n",
       "</div>"
      ],
      "text/plain": [
       "      label_binary_severity                      sla product_type  \\\n",
       "3247                      0  24x7 4Hrs Response Time     Software   \n",
       "3248                      0  24x7 4Hrs Response Time     Software   \n",
       "3249                      0  24x7 4Hrs Response Time     Security   \n",
       "3250                      0  24x7 4Hrs Response Time     Software   \n",
       "3251                      0  24x7 4Hrs Response Time     Software   \n",
       "\n",
       "            brand service_type         incident_type  open_to_close_hour  \n",
       "3247  Trend Micro      Request      General Incident          308.166667  \n",
       "3248  Trend Micro      Request  Configuration Change            4.066667  \n",
       "3249  Trend Micro      Request      General Incident            0.333333  \n",
       "3250  Trend Micro      Request  Configuration Change            5.516667  \n",
       "3251  Trend Micro      Request      General Incident           21.333333  "
      ]
     },
     "execution_count": 130,
     "metadata": {},
     "output_type": "execute_result"
    }
   ],
   "source": [
    "train.tail(5)"
   ]
  },
  {
   "cell_type": "code",
   "execution_count": 131,
   "id": "e37f9812-69ab-4672-9641-0e9c1873396a",
   "metadata": {},
   "outputs": [
    {
     "data": {
      "text/html": [
       "<div>\n",
       "<style scoped>\n",
       "    .dataframe tbody tr th:only-of-type {\n",
       "        vertical-align: middle;\n",
       "    }\n",
       "\n",
       "    .dataframe tbody tr th {\n",
       "        vertical-align: top;\n",
       "    }\n",
       "\n",
       "    .dataframe thead th {\n",
       "        text-align: right;\n",
       "    }\n",
       "</style>\n",
       "<table border=\"1\" class=\"dataframe\">\n",
       "  <thead>\n",
       "    <tr style=\"text-align: right;\">\n",
       "      <th></th>\n",
       "      <th>label_binary_severity</th>\n",
       "      <th>sla</th>\n",
       "      <th>product_type</th>\n",
       "      <th>brand</th>\n",
       "      <th>service_type</th>\n",
       "      <th>incident_type</th>\n",
       "      <th>open_to_close_hour</th>\n",
       "    </tr>\n",
       "  </thead>\n",
       "  <tbody>\n",
       "    <tr>\n",
       "      <th>809</th>\n",
       "      <td>0</td>\n",
       "      <td>24x7 4Hrs Response Time</td>\n",
       "      <td>Software</td>\n",
       "      <td>Trend Micro</td>\n",
       "      <td>Request</td>\n",
       "      <td>General Incident</td>\n",
       "      <td>76.283333</td>\n",
       "    </tr>\n",
       "    <tr>\n",
       "      <th>810</th>\n",
       "      <td>0</td>\n",
       "      <td>24x7 4Hrs Response Time</td>\n",
       "      <td>Software</td>\n",
       "      <td>Trend Micro</td>\n",
       "      <td>Request</td>\n",
       "      <td>General Incident</td>\n",
       "      <td>114.066667</td>\n",
       "    </tr>\n",
       "    <tr>\n",
       "      <th>811</th>\n",
       "      <td>0</td>\n",
       "      <td>24x7 4Hrs Response Time</td>\n",
       "      <td>Software</td>\n",
       "      <td>Trend Micro</td>\n",
       "      <td>Incident</td>\n",
       "      <td>General Incident</td>\n",
       "      <td>456.600000</td>\n",
       "    </tr>\n",
       "    <tr>\n",
       "      <th>812</th>\n",
       "      <td>0</td>\n",
       "      <td>24x7 4Hrs Response Time</td>\n",
       "      <td>Software</td>\n",
       "      <td>Trend Micro</td>\n",
       "      <td>Incident</td>\n",
       "      <td>General Incident</td>\n",
       "      <td>142.883333</td>\n",
       "    </tr>\n",
       "    <tr>\n",
       "      <th>813</th>\n",
       "      <td>0</td>\n",
       "      <td>24x7 4Hrs Response Time</td>\n",
       "      <td>Software</td>\n",
       "      <td>Trend Micro</td>\n",
       "      <td>Incident</td>\n",
       "      <td>Software</td>\n",
       "      <td>54.000000</td>\n",
       "    </tr>\n",
       "  </tbody>\n",
       "</table>\n",
       "</div>"
      ],
      "text/plain": [
       "     label_binary_severity                      sla product_type        brand  \\\n",
       "809                      0  24x7 4Hrs Response Time     Software  Trend Micro   \n",
       "810                      0  24x7 4Hrs Response Time     Software  Trend Micro   \n",
       "811                      0  24x7 4Hrs Response Time     Software  Trend Micro   \n",
       "812                      0  24x7 4Hrs Response Time     Software  Trend Micro   \n",
       "813                      0  24x7 4Hrs Response Time     Software  Trend Micro   \n",
       "\n",
       "    service_type     incident_type  open_to_close_hour  \n",
       "809      Request  General Incident           76.283333  \n",
       "810      Request  General Incident          114.066667  \n",
       "811     Incident  General Incident          456.600000  \n",
       "812     Incident  General Incident          142.883333  \n",
       "813     Incident          Software           54.000000  "
      ]
     },
     "execution_count": 131,
     "metadata": {},
     "output_type": "execute_result"
    }
   ],
   "source": [
    "test.tail()"
   ]
  },
  {
   "cell_type": "markdown",
   "id": "33949018-88a8-4d9a-9a99-ce9cb3edd3ec",
   "metadata": {},
   "source": [
    "# Convert dataframe to tensorflow dataset"
   ]
  },
  {
   "cell_type": "code",
   "execution_count": 132,
   "id": "1c895353-d33e-44b8-91eb-75a4322db7b9",
   "metadata": {},
   "outputs": [],
   "source": [
    "train_ds = tfdf.keras.pd_dataframe_to_tf_dataset(train, label=labelCol)\n",
    "test_ds = tfdf.keras.pd_dataframe_to_tf_dataset(test, label=labelCol)"
   ]
  },
  {
   "cell_type": "markdown",
   "id": "aa72159d-066d-4e7c-be00-3e74b60a4062",
   "metadata": {},
   "source": [
    "# Build Model"
   ]
  },
  {
   "cell_type": "code",
   "execution_count": 133,
   "id": "da1f2012-412a-4c3a-aaeb-9b98dd11fec4",
   "metadata": {},
   "outputs": [
    {
     "name": "stdout",
     "output_type": "stream",
     "text": [
      "GradientBoostedTreesModel and HyperparameterTemplate=False\n",
      "Use /var/tmp/tmpco8kes6k as temporary training directory\n",
      "List hyperparameter\n",
      "[HyperParameterTemplate(name='better_default', version=1, parameters={'growing_strategy': 'BEST_FIRST_GLOBAL'}, description='A configuration that is generally better than the default parameters without being more expensive.'), HyperParameterTemplate(name='benchmark_rank1', version=1, parameters={'growing_strategy': 'BEST_FIRST_GLOBAL', 'categorical_algorithm': 'RANDOM', 'split_axis': 'SPARSE_OBLIQUE', 'sparse_oblique_normalization': 'MIN_MAX', 'sparse_oblique_num_projections_exponent': 1.0}, description='Top ranking hyper-parameters on our benchmark slightly modified to run in reasonable time.')]\n"
     ]
    },
    {
     "name": "stderr",
     "output_type": "stream",
     "text": [
      "[WARNING 24-01-06 13:14:35.7948 UTC gradient_boosted_trees.cc:1818] \"goss_alpha\" set but \"sampling_method\" not equal to \"GOSS\".\n",
      "[WARNING 24-01-06 13:14:35.7960 UTC gradient_boosted_trees.cc:1829] \"goss_beta\" set but \"sampling_method\" not equal to \"GOSS\".\n",
      "[WARNING 24-01-06 13:14:35.7965 UTC gradient_boosted_trees.cc:1843] \"selective_gradient_boosting_ratio\" set but \"sampling_method\" not equal to \"SELGB\".\n"
     ]
    }
   ],
   "source": [
    "# Specify the model.\n",
    "if model_tree_type==1:\n",
    "    print(f\"GradientBoostedTreesModel and HyperparameterTemplate={hyperparameter_template}\")\n",
    "    #https://www.tensorflow.org/decision_forests/api_docs/python/tfdf/keras/GradientBoostedTreesModel\n",
    "    if hyperparameter_template:\n",
    "     model=tfdf.keras.GradientBoostedTreesModel(hyperparameter_template=\"benchmark_rank1\")\n",
    "    else:\n",
    "     model=tfdf.keras.GradientBoostedTreesModel()\n",
    "else:\n",
    "    print(f\"RandomForestModel and HyperparameterTemplate={hyperparameter_template}\")\n",
    "    if hyperparameter_template:\n",
    "     model = tfdf.keras.RandomForestModel(hyperparameter_template=\"benchmark_rank1\")\n",
    "    else:\n",
    "       model = tfdf.keras.RandomForestModel()  \n",
    " \n",
    "print(\"List hyperparameter\")   \n",
    "print(tfdf.keras.GradientBoostedTreesModel.predefined_hyperparameters())\n"
   ]
  },
  {
   "cell_type": "code",
   "execution_count": 134,
   "id": "4025d93b-2fd1-4a0d-8a30-6ee6b447d107",
   "metadata": {},
   "outputs": [
    {
     "name": "stdout",
     "output_type": "stream",
     "text": [
      "Reading training dataset...\n"
     ]
    },
    {
     "name": "stderr",
     "output_type": "stream",
     "text": [
      "2024-01-06 13:14:35.831140: I tensorflow/core/common_runtime/executor.cc:1197] [/device:CPU:0] (DEBUG INFO) Executor start aborting (this does not indicate an error and you can ignore this message): INVALID_ARGUMENT: You must feed a value for placeholder tensor 'Placeholder/_5' with dtype string and shape [3252]\n",
      "\t [[{{node Placeholder/_5}}]]\n"
     ]
    },
    {
     "name": "stdout",
     "output_type": "stream",
     "text": [
      "WARNING:tensorflow:6 out of the last 6 calls to <function CoreModel._consumes_training_examples_until_eof at 0x7f12471af130> triggered tf.function retracing. Tracing is expensive and the excessive number of tracings could be due to (1) creating @tf.function repeatedly in a loop, (2) passing tensors with different shapes, (3) passing Python objects instead of tensors. For (1), please define your @tf.function outside of the loop. For (2), @tf.function has reduce_retracing=True option that can avoid unnecessary retracing. For (3), please refer to https://www.tensorflow.org/guide/function#controlling_retracing and https://www.tensorflow.org/api_docs/python/tf/function for  more details.\n"
     ]
    },
    {
     "name": "stderr",
     "output_type": "stream",
     "text": [
      "WARNING:tensorflow:6 out of the last 6 calls to <function CoreModel._consumes_training_examples_until_eof at 0x7f12471af130> triggered tf.function retracing. Tracing is expensive and the excessive number of tracings could be due to (1) creating @tf.function repeatedly in a loop, (2) passing tensors with different shapes, (3) passing Python objects instead of tensors. For (1), please define your @tf.function outside of the loop. For (2), @tf.function has reduce_retracing=True option that can avoid unnecessary retracing. For (3), please refer to https://www.tensorflow.org/guide/function#controlling_retracing and https://www.tensorflow.org/api_docs/python/tf/function for  more details.\n"
     ]
    },
    {
     "name": "stdout",
     "output_type": "stream",
     "text": [
      "Training dataset read in 0:00:00.190777. Found 3252 examples.\n",
      "Training model...\n",
      "Model trained in 0:00:00.187172\n",
      "Compiling model...\n"
     ]
    },
    {
     "name": "stderr",
     "output_type": "stream",
     "text": [
      "[INFO 24-01-06 13:14:36.1960 UTC kernel.cc:1243] Loading model from path /var/tmp/tmpco8kes6k/model/ with prefix 4169b1565f0942d7\n",
      "[INFO 24-01-06 13:14:36.2037 UTC abstract_model.cc:1311] Engine \"GradientBoostedTreesQuickScorerExtended\" built\n",
      "[INFO 24-01-06 13:14:36.2043 UTC kernel.cc:1075] Use fast generic engine\n",
      "2024-01-06 13:14:36.215752: I tensorflow/core/common_runtime/executor.cc:1197] [/device:CPU:0] (DEBUG INFO) Executor start aborting (this does not indicate an error and you can ignore this message): INVALID_ARGUMENT: You must feed a value for placeholder tensor 'Placeholder/_4' with dtype string and shape [3252]\n",
      "\t [[{{node Placeholder/_4}}]]\n"
     ]
    },
    {
     "name": "stdout",
     "output_type": "stream",
     "text": [
      "WARNING:tensorflow:6 out of the last 6 calls to <function InferenceCoreModel.make_predict_function.<locals>.predict_function_trained at 0x7f123c522f80> triggered tf.function retracing. Tracing is expensive and the excessive number of tracings could be due to (1) creating @tf.function repeatedly in a loop, (2) passing tensors with different shapes, (3) passing Python objects instead of tensors. For (1), please define your @tf.function outside of the loop. For (2), @tf.function has reduce_retracing=True option that can avoid unnecessary retracing. For (3), please refer to https://www.tensorflow.org/guide/function#controlling_retracing and https://www.tensorflow.org/api_docs/python/tf/function for  more details.\n"
     ]
    },
    {
     "name": "stderr",
     "output_type": "stream",
     "text": [
      "WARNING:tensorflow:6 out of the last 6 calls to <function InferenceCoreModel.make_predict_function.<locals>.predict_function_trained at 0x7f123c522f80> triggered tf.function retracing. Tracing is expensive and the excessive number of tracings could be due to (1) creating @tf.function repeatedly in a loop, (2) passing tensors with different shapes, (3) passing Python objects instead of tensors. For (1), please define your @tf.function outside of the loop. For (2), @tf.function has reduce_retracing=True option that can avoid unnecessary retracing. For (3), please refer to https://www.tensorflow.org/guide/function#controlling_retracing and https://www.tensorflow.org/api_docs/python/tf/function for  more details.\n"
     ]
    },
    {
     "name": "stdout",
     "output_type": "stream",
     "text": [
      "Model compiled.\n",
      "WARNING:tensorflow:5 out of the last 11 calls to <function InferenceCoreModel.yggdrasil_model_path_tensor at 0x7f123c522cb0> triggered tf.function retracing. Tracing is expensive and the excessive number of tracings could be due to (1) creating @tf.function repeatedly in a loop, (2) passing tensors with different shapes, (3) passing Python objects instead of tensors. For (1), please define your @tf.function outside of the loop. For (2), @tf.function has reduce_retracing=True option that can avoid unnecessary retracing. For (3), please refer to https://www.tensorflow.org/guide/function#controlling_retracing and https://www.tensorflow.org/api_docs/python/tf/function for  more details.\n"
     ]
    },
    {
     "name": "stderr",
     "output_type": "stream",
     "text": [
      "WARNING:tensorflow:5 out of the last 11 calls to <function InferenceCoreModel.yggdrasil_model_path_tensor at 0x7f123c522cb0> triggered tf.function retracing. Tracing is expensive and the excessive number of tracings could be due to (1) creating @tf.function repeatedly in a loop, (2) passing tensors with different shapes, (3) passing Python objects instead of tensors. For (1), please define your @tf.function outside of the loop. For (2), @tf.function has reduce_retracing=True option that can avoid unnecessary retracing. For (3), please refer to https://www.tensorflow.org/guide/function#controlling_retracing and https://www.tensorflow.org/api_docs/python/tf/function for  more details.\n"
     ]
    },
    {
     "data": {
      "text/plain": [
       "<keras.callbacks.History at 0x7f123ca8b670>"
      ]
     },
     "execution_count": 134,
     "metadata": {},
     "output_type": "execute_result"
    }
   ],
   "source": [
    "model.fit(x=train_ds)"
   ]
  },
  {
   "cell_type": "code",
   "execution_count": 135,
   "id": "ed1044ae-7da6-4273-acac-363700e7aecb",
   "metadata": {},
   "outputs": [
    {
     "name": "stderr",
     "output_type": "stream",
     "text": [
      "2024-01-06 13:14:36.656537: I tensorflow/core/common_runtime/executor.cc:1197] [/device:CPU:0] (DEBUG INFO) Executor start aborting (this does not indicate an error and you can ignore this message): INVALID_ARGUMENT: You must feed a value for placeholder tensor 'Placeholder/_6' with dtype int64 and shape [814]\n",
      "\t [[{{node Placeholder/_6}}]]\n"
     ]
    },
    {
     "name": "stdout",
     "output_type": "stream",
     "text": [
      "WARNING:tensorflow:6 out of the last 6 calls to <function InferenceCoreModel.make_test_function.<locals>.test_function at 0x7f123c523910> triggered tf.function retracing. Tracing is expensive and the excessive number of tracings could be due to (1) creating @tf.function repeatedly in a loop, (2) passing tensors with different shapes, (3) passing Python objects instead of tensors. For (1), please define your @tf.function outside of the loop. For (2), @tf.function has reduce_retracing=True option that can avoid unnecessary retracing. For (3), please refer to https://www.tensorflow.org/guide/function#controlling_retracing and https://www.tensorflow.org/api_docs/python/tf/function for  more details.\n"
     ]
    },
    {
     "name": "stderr",
     "output_type": "stream",
     "text": [
      "WARNING:tensorflow:6 out of the last 6 calls to <function InferenceCoreModel.make_test_function.<locals>.test_function at 0x7f123c523910> triggered tf.function retracing. Tracing is expensive and the excessive number of tracings could be due to (1) creating @tf.function repeatedly in a loop, (2) passing tensors with different shapes, (3) passing Python objects instead of tensors. For (1), please define your @tf.function outside of the loop. For (2), @tf.function has reduce_retracing=True option that can avoid unnecessary retracing. For (3), please refer to https://www.tensorflow.org/guide/function#controlling_retracing and https://www.tensorflow.org/api_docs/python/tf/function for  more details.\n"
     ]
    },
    {
     "name": "stdout",
     "output_type": "stream",
     "text": [
      "1/1 [==============================] - 0s 281ms/step - loss: 0.0000e+00 - binary_accuracy: 0.8268 - auc_5: 0.9007 - precision_5: 0.7872 - recall_5: 0.8937\n",
      "loss: 0.0000\n",
      "binary_accuracy: 0.8268\n",
      "auc_5: 0.9007\n",
      "precision_5: 0.7872\n",
      "recall_5: 0.8937\n"
     ]
    }
   ],
   "source": [
    "# https://www.tensorflow.org/api_docs/python/tf/keras/metrics\n",
    "# https://www.tensorflow.org/api_docs/python/tf/keras/metrics/AUC\n",
    "# https://keras.io/api/metrics/classification_metrics/\n",
    "# https://www.tensorflow.org/api_docs/python/tf/keras/metrics/Recall\n",
    "rc_pc_thresholds=0.4\n",
    "\n",
    "myMetrics=[\n",
    "           # tf.keras.metrics.BinaryAccuracy(threshold=rc_pc_thresholds)\n",
    "           tf.keras.metrics.BinaryAccuracy()\n",
    "           ,tf.keras.metrics.AUC()\n",
    "           ,tf.keras.metrics.Precision(thresholds=rc_pc_thresholds)\n",
    "           ,tf.keras.metrics.Recall(thresholds=rc_pc_thresholds)]\n",
    "\n",
    "model.compile(metrics=myMetrics)\n",
    "evaluation = model.evaluate(test_ds, return_dict=True)\n",
    "for name, value in evaluation.items():\n",
    "  print(f\"{name}: {value:.4f}\")"
   ]
  },
  {
   "cell_type": "code",
   "execution_count": null,
   "id": "45b542cc-ae5f-486a-8290-4122d1f89f3a",
   "metadata": {},
   "outputs": [],
   "source": []
  },
  {
   "cell_type": "markdown",
   "id": "6ba6e508-1298-4916-a8f1-af00990c0645",
   "metadata": {},
   "source": [
    "# Inspect and debug decision forest models\n",
    "## Model structure and feature importance"
   ]
  },
  {
   "cell_type": "code",
   "execution_count": 136,
   "id": "c76bd1ff-9df4-4769-845e-851fd798c80e",
   "metadata": {},
   "outputs": [
    {
     "name": "stdout",
     "output_type": "stream",
     "text": [
      "Model type: GRADIENT_BOOSTED_TREES\n",
      "Number of trees: 39\n",
      "Objective: Classification(label=__LABEL, class=None, num_classes=2)\n",
      "Input features: [\"brand\" (4; #1), \"incident_type\" (4; #2), \"open_to_close_hour\" (1; #3), \"product_type\" (4; #4), \"service_type\" (4; #5), \"sla\" (4; #6)]\n"
     ]
    }
   ],
   "source": [
    "inspector=model.make_inspector()\n",
    "\n",
    "print(\"Model type:\", inspector.model_type())\n",
    "print(\"Number of trees:\", inspector.num_trees())\n",
    "print(\"Objective:\", inspector.objective())\n",
    "print(\"Input features:\", inspector.features())\n",
    "\n",
    "#[field for field in dir(inspector) if not field.startswith(\"_\")]\n",
    "# SUM_SCORE ,NUM_AS_ROOT"
   ]
  },
  {
   "cell_type": "code",
   "execution_count": 137,
   "id": "8b43f6c7-e2a7-442b-8ddc-1e8b5afbae48",
   "metadata": {},
   "outputs": [
    {
     "name": "stdout",
     "output_type": "stream",
     "text": [
      "Available variable importances:\n",
      "\t INV_MEAN_MIN_DEPTH\n",
      "\t NUM_NODES\n",
      "\t NUM_AS_ROOT\n",
      "\t SUM_SCORE\n"
     ]
    }
   ],
   "source": [
    "print(f\"Available variable importances:\")\n",
    "for importance in inspector.variable_importances().keys():\n",
    "  print(\"\\t\", importance)"
   ]
  },
  {
   "cell_type": "markdown",
   "id": "047e3b09-00eb-45c0-b6b4-20f2e98ca28c",
   "metadata": {},
   "source": [
    "# Model Self Evaluation"
   ]
  },
  {
   "cell_type": "code",
   "execution_count": 138,
   "id": "2ef13536-a1f8-4595-b3ab-04494b5993e8",
   "metadata": {},
   "outputs": [
    {
     "data": {
      "text/plain": [
       "Evaluation(num_examples=None, accuracy=0.8242811560630798, loss=0.7957839369773865, rmse=None, ndcg=None, aucs=None, auuc=None, qini=None)"
      ]
     },
     "execution_count": 138,
     "metadata": {},
     "output_type": "execute_result"
    }
   ],
   "source": [
    "inspector.evaluation()"
   ]
  },
  {
   "cell_type": "code",
   "execution_count": null,
   "id": "a0ff4fe3-cd9e-43e8-8b0f-f1271eafce08",
   "metadata": {},
   "outputs": [],
   "source": []
  },
  {
   "cell_type": "code",
   "execution_count": 139,
   "id": "c8c9fbad-7c64-4a3e-ae19-841c9bd07eeb",
   "metadata": {},
   "outputs": [
    {
     "data": {
      "image/png": "[encoded data removed]",
      "text/plain": [
       "<Figure size 1200x400 with 1 Axes>"
      ]
     },
     "metadata": {},
     "output_type": "display_data"
    }
   ],
   "source": [
    "import matplotlib.pyplot as plt\n",
    "\n",
    "plt.figure(figsize=(12, 4))\n",
    "\n",
    "# Mean decrease in AUC of the class 1 vs the others.\n",
    "variable_importance_metric = \"SUM_SCORE\"\n",
    "variable_importances = inspector.variable_importances()[variable_importance_metric]\n",
    "\n",
    "# Extract the feature name and importance values.\n",
    "#\n",
    "# `variable_importances` is a list of <feature, importance> tuples.\n",
    "feature_names = [vi[0].name for vi in variable_importances]\n",
    "feature_importances = [vi[1] for vi in variable_importances]\n",
    "# The feature are ordered in decreasing importance value.\n",
    "feature_ranks = range(len(feature_names))\n",
    "\n",
    "bar = plt.barh(feature_ranks, feature_importances, label=[str(x) for x in feature_ranks])\n",
    "plt.yticks(feature_ranks, feature_names)\n",
    "plt.gca().invert_yaxis()\n",
    "\n",
    "# TODO: Replace with \"plt.bar_label()\" when available.\n",
    "# Label each bar with values\n",
    "for importance, patch in zip(feature_importances, bar.patches):\n",
    "  plt.text(patch.get_x() + patch.get_width(), patch.get_y(), f\"{importance:.4f}\", va=\"top\")\n",
    "\n",
    "plt.xlabel(variable_importance_metric)\n",
    "plt.title(variable_importance_metric)\n",
    "plt.tight_layout()\n",
    "plt.show()"
   ]
  },
  {
   "cell_type": "markdown",
   "id": "ca463f9d-e736-45ac-9c77-f2bdd2e36f79",
   "metadata": {},
   "source": [
    "# Plot the model"
   ]
  },
  {
   "cell_type": "code",
   "execution_count": 140,
   "id": "24e694a5-2116-441b-ab54-a256beb6ca49",
   "metadata": {},
   "outputs": [
    {
     "data": {
      "text/html": [
       "\n",
       "<script src=\"https://d3js.org/d3.v6.min.js\"></script>\n",
       "<div id=\"tree_plot_8e3690d6dfba4d21ab58ad8add4a959e\"></div>\n",
       "<script>\n",
       "/*\n",
       " * Copyright 2021 Google LLC.\n",
       " * Licensed under the Apache License, Version 2.0 (the \"License\");\n",
       " * you may not use this file except in compliance with the License.\n",
       " * You may obtain a copy of the License at\n",
       " *\n",
       " *     https://www.apache.org/licenses/LICENSE-2.0\n",
       " *\n",
       " * Unless required by applicable law or agreed to in writing, software\n",
       " * distributed under the License is distributed on an \"AS IS\" BASIS,\n",
       " * WITHOUT WARRANTIES OR CONDITIONS OF ANY KIND, either express or implied.\n",
       " * See the License for the specific language governing permissions and\n",
       " * limitations under the License.\n",
       " */\n",
       "\n",
       "/**\n",
       " *  Plotting of decision trees generated by TF-DF.\n",
       " *\n",
       " *  A tree is a recursive structure of node objects.\n",
       " *  A node contains one or more of the following components:\n",
       " *\n",
       " *    - A value: Representing the output of the node. If the node is not a leaf,\n",
       " *      the value is only present for analysis i.e. it is not used for\n",
       " *      predictions.\n",
       " *\n",
       " *    - A condition : For non-leaf nodes, the condition (also known as split)\n",
       " *      defines a binary test to branch to the positive or negative child.\n",
       " *\n",
       " *    - An explanation: Generally a plot showing the relation between the label\n",
       " *      and the condition to give insights about the effect of the condition.\n",
       " *\n",
       " *    - Two children : For non-leaf nodes, the children nodes. The first\n",
       " *      children (i.e. \"node.children[0]\") is the negative children (drawn in\n",
       " *      red). The second children is the positive one (drawn in green).\n",
       " *\n",
       " */\n",
       "\n",
       "/**\n",
       " * Plots a single decision tree into a DOM element.\n",
       " * @param {!options} options Dictionary of configurations.\n",
       " * @param {!tree} raw_tree Recursive tree structure.\n",
       " * @param {string} canvas_id Id of the output dom element.\n",
       " */\n",
       "function display_tree(options, raw_tree, canvas_id) {\n",
       "  console.log(options);\n",
       "\n",
       "  // Determine the node placement.\n",
       "  const tree_struct = d3.tree().nodeSize(\n",
       "      [options.node_y_offset, options.node_x_offset])(d3.hierarchy(raw_tree));\n",
       "\n",
       "  // Boundaries of the node placement.\n",
       "  let x_min = Infinity;\n",
       "  let x_max = -x_min;\n",
       "  let y_min = Infinity;\n",
       "  let y_max = -x_min;\n",
       "\n",
       "  tree_struct.each(d => {\n",
       "    if (d.x > x_max) x_max = d.x;\n",
       "    if (d.x < x_min) x_min = d.x;\n",
       "    if (d.y > y_max) y_max = d.y;\n",
       "    if (d.y < y_min) y_min = d.y;\n",
       "  });\n",
       "\n",
       "  // Size of the plot.\n",
       "  const width = y_max - y_min + options.node_x_size + options.margin * 2;\n",
       "  const height = x_max - x_min + options.node_y_size + options.margin * 2 +\n",
       "      options.node_y_offset - options.node_y_size;\n",
       "\n",
       "  const plot = d3.select(canvas_id);\n",
       "\n",
       "  // Tool tip\n",
       "  options.tooltip = plot.append('div')\n",
       "                        .attr('width', 100)\n",
       "                        .attr('height', 100)\n",
       "                        .style('padding', '4px')\n",
       "                        .style('background', '#fff')\n",
       "                        .style('box-shadow', '4px 4px 0px rgba(0,0,0,0.1)')\n",
       "                        .style('border', '1px solid black')\n",
       "                        .style('font-family', 'sans-serif')\n",
       "                        .style('font-size', options.font_size)\n",
       "                        .style('position', 'absolute')\n",
       "                        .style('z-index', '10')\n",
       "                        .attr('pointer-events', 'none')\n",
       "                        .style('display', 'none');\n",
       "\n",
       "  // Create canvas\n",
       "  const svg = plot.append('svg').attr('width', width).attr('height', height);\n",
       "  const graph =\n",
       "      svg.style('overflow', 'visible')\n",
       "          .append('g')\n",
       "          .attr('font-family', 'sans-serif')\n",
       "          .attr('font-size', options.font_size)\n",
       "          .attr(\n",
       "              'transform',\n",
       "              () => `translate(${options.margin},${\n",
       "                  - x_min + options.node_y_offset / 2 + options.margin})`);\n",
       "\n",
       "  // Plot bounding box.\n",
       "  if (options.show_plot_bounding_box) {\n",
       "    svg.append('rect')\n",
       "        .attr('width', width)\n",
       "        .attr('height', height)\n",
       "        .attr('fill', 'none')\n",
       "        .attr('stroke-width', 1.0)\n",
       "        .attr('stroke', 'black');\n",
       "  }\n",
       "\n",
       "  // Draw the edges.\n",
       "  display_edges(options, graph, tree_struct);\n",
       "\n",
       "  // Draw the nodes.\n",
       "  display_nodes(options, graph, tree_struct);\n",
       "}\n",
       "\n",
       "/**\n",
       " * Draw the nodes of the tree.\n",
       " * @param {!options} options Dictionary of configurations.\n",
       " * @param {!graph} graph D3 search handle containing the graph.\n",
       " * @param {!tree_struct} tree_struct Structure of the tree (node placement,\n",
       " *     data, etc.).\n",
       " */\n",
       "function display_nodes(options, graph, tree_struct) {\n",
       "  const nodes = graph.append('g')\n",
       "                    .selectAll('g')\n",
       "                    .data(tree_struct.descendants())\n",
       "                    .join('g')\n",
       "                    .attr('transform', d => `translate(${d.y},${d.x})`);\n",
       "\n",
       "  nodes.append('rect')\n",
       "      .attr('x', 0.5)\n",
       "      .attr('y', 0.5)\n",
       "      .attr('width', options.node_x_size)\n",
       "      .attr('height', options.node_y_size)\n",
       "      .attr('stroke', 'lightgrey')\n",
       "      .attr('stroke-width', 1)\n",
       "      .attr('fill', 'white')\n",
       "      .attr('y', -options.node_y_size / 2);\n",
       "\n",
       "  // Brackets on the right of condition nodes without children.\n",
       "  non_leaf_node_without_children =\n",
       "      nodes.filter(node => node.data.condition != null && node.children == null)\n",
       "          .append('g')\n",
       "          .attr('transform', `translate(${options.node_x_size},0)`);\n",
       "\n",
       "  non_leaf_node_without_children.append('path')\n",
       "      .attr('d', 'M0,0 C 10,0 0,10 10,10')\n",
       "      .attr('fill', 'none')\n",
       "      .attr('stroke-width', 1.0)\n",
       "      .attr('stroke', '#F00');\n",
       "\n",
       "  non_leaf_node_without_children.append('path')\n",
       "      .attr('d', 'M0,0 C 10,0 0,-10 10,-10')\n",
       "      .attr('fill', 'none')\n",
       "      .attr('stroke-width', 1.0)\n",
       "      .attr('stroke', '#0F0');\n",
       "\n",
       "  const node_content = nodes.append('g').attr(\n",
       "      'transform',\n",
       "      `translate(0,${options.node_padding - options.node_y_size / 2})`);\n",
       "\n",
       "  node_content.append(node => create_node_element(options, node));\n",
       "}\n",
       "\n",
       "/**\n",
       " * Creates the D3 content for a single node.\n",
       " * @param {!options} options Dictionary of configurations.\n",
       " * @param {!node} node Node to draw.\n",
       " * @return {!d3} D3 content.\n",
       " */\n",
       "function create_node_element(options, node) {\n",
       "  // Output accumulator.\n",
       "  let output = {\n",
       "    // Content to draw.\n",
       "    content: d3.create('svg:g'),\n",
       "    // Vertical offset to the next element to draw.\n",
       "    vertical_offset: 0\n",
       "  };\n",
       "\n",
       "  // Conditions.\n",
       "  if (node.data.condition != null) {\n",
       "    display_condition(options, node.data.condition, output);\n",
       "  }\n",
       "\n",
       "  // Values.\n",
       "  if (node.data.value != null) {\n",
       "    display_value(options, node.data.value, output);\n",
       "  }\n",
       "\n",
       "  // Explanations.\n",
       "  if (node.data.explanation != null) {\n",
       "    display_explanation(options, node.data.explanation, output);\n",
       "  }\n",
       "\n",
       "  return output.content.node();\n",
       "}\n",
       "\n",
       "\n",
       "/**\n",
       " * Adds a single line of text inside of a node.\n",
       " * @param {!options} options Dictionary of configurations.\n",
       " * @param {string} text Text to display.\n",
       " * @param {!output} output Output display accumulator.\n",
       " */\n",
       "function display_node_text(options, text, output) {\n",
       "  output.content.append('text')\n",
       "      .attr('x', options.node_padding)\n",
       "      .attr('y', output.vertical_offset)\n",
       "      .attr('alignment-baseline', 'hanging')\n",
       "      .text(text);\n",
       "  output.vertical_offset += 10;\n",
       "}\n",
       "\n",
       "/**\n",
       " * Adds a single line of text inside of a node with a tooltip.\n",
       " * @param {!options} options Dictionary of configurations.\n",
       " * @param {string} text Text to display.\n",
       " * @param {string} tooltip Text in the Tooltip.\n",
       " * @param {!output} output Output display accumulator.\n",
       " */\n",
       "function display_node_text_with_tooltip(options, text, tooltip, output) {\n",
       "  const item = output.content.append('text')\n",
       "                   .attr('x', options.node_padding)\n",
       "                   .attr('alignment-baseline', 'hanging')\n",
       "                   .text(text);\n",
       "\n",
       "  add_tooltip(options, item, () => tooltip);\n",
       "  output.vertical_offset += 10;\n",
       "}\n",
       "\n",
       "/**\n",
       " * Adds a tooltip to a dom element.\n",
       " * @param {!options} options Dictionary of configurations.\n",
       " * @param {!dom} target Dom element to equip with a tooltip.\n",
       " * @param {!func} get_content Generates the html content of the tooltip.\n",
       " */\n",
       "function add_tooltip(options, target, get_content) {\n",
       "  function show(d) {\n",
       "    options.tooltip.style('display', 'block');\n",
       "    options.tooltip.html(get_content());\n",
       "  }\n",
       "\n",
       "  function hide(d) {\n",
       "    options.tooltip.style('display', 'none');\n",
       "  }\n",
       "\n",
       "  function move(d) {\n",
       "    options.tooltip.style('display', 'block');\n",
       "    options.tooltip.style('left', (d.pageX + 5) + 'px');\n",
       "    options.tooltip.style('top', d.pageY + 'px');\n",
       "  }\n",
       "\n",
       "  target.on('mouseover', show);\n",
       "  target.on('mouseout', hide);\n",
       "  target.on('mousemove', move);\n",
       "}\n",
       "\n",
       "/**\n",
       " * Adds a condition inside of a node.\n",
       " * @param {!options} options Dictionary of configurations.\n",
       " * @param {!condition} condition Condition to display.\n",
       " * @param {!output} output Output display accumulator.\n",
       " */\n",
       "function display_condition(options, condition, output) {\n",
       "  threshold_format = d3.format('r');\n",
       "\n",
       "  if (condition.type === 'IS_MISSING') {\n",
       "    display_node_text(options, `${condition.attribute} is missing`, output);\n",
       "    return;\n",
       "  }\n",
       "\n",
       "  if (condition.type === 'IS_TRUE') {\n",
       "    display_node_text(options, `${condition.attribute} is true`, output);\n",
       "    return;\n",
       "  }\n",
       "\n",
       "  if (condition.type === 'NUMERICAL_IS_HIGHER_THAN') {\n",
       "    format = d3.format('r');\n",
       "    display_node_text(\n",
       "        options,\n",
       "        `${condition.attribute} >= ${threshold_format(condition.threshold)}`,\n",
       "        output);\n",
       "    return;\n",
       "  }\n",
       "\n",
       "  if (condition.type === 'CATEGORICAL_IS_IN') {\n",
       "    display_node_text_with_tooltip(\n",
       "        options, `${condition.attribute} in [...]`,\n",
       "        `${condition.attribute} in [${condition.mask}]`, output);\n",
       "    return;\n",
       "  }\n",
       "\n",
       "  if (condition.type === 'CATEGORICAL_SET_CONTAINS') {\n",
       "    display_node_text_with_tooltip(\n",
       "        options, `${condition.attribute} intersect [...]`,\n",
       "        `${condition.attribute} intersect [${condition.mask}]`, output);\n",
       "    return;\n",
       "  }\n",
       "\n",
       "  if (condition.type === 'NUMERICAL_SPARSE_OBLIQUE') {\n",
       "    display_node_text_with_tooltip(\n",
       "        options, `Sparse oblique split...`,\n",
       "        `[${condition.attributes}]*[${condition.weights}]>=${\n",
       "            threshold_format(condition.threshold)}`,\n",
       "        output);\n",
       "    return;\n",
       "  }\n",
       "\n",
       "  display_node_text(\n",
       "      options, `Non supported condition ${condition.type}`, output);\n",
       "}\n",
       "\n",
       "/**\n",
       " * Adds a value inside of a node.\n",
       " * @param {!options} options Dictionary of configurations.\n",
       " * @param {!value} value Value to display.\n",
       " * @param {!output} output Output display accumulator.\n",
       " */\n",
       "function display_value(options, value, output) {\n",
       "  if (value.type === 'PROBABILITY') {\n",
       "    const left_margin = 0;\n",
       "    const right_margin = 50;\n",
       "    const plot_width = options.node_x_size - options.node_padding * 2 -\n",
       "        left_margin - right_margin;\n",
       "\n",
       "    let cusum = Array.from(d3.cumsum(value.distribution));\n",
       "    cusum.unshift(0);\n",
       "    const distribution_plot = output.content.append('g').attr(\n",
       "        'transform', `translate(0,${output.vertical_offset + 0.5})`);\n",
       "\n",
       "    distribution_plot.selectAll('rect')\n",
       "        .data(value.distribution)\n",
       "        .join('rect')\n",
       "        .attr('height', 10)\n",
       "        .attr(\n",
       "            'x',\n",
       "            (d, i) =>\n",
       "                (cusum[i] * plot_width + left_margin + options.node_padding))\n",
       "        .attr('width', (d, i) => d * plot_width)\n",
       "        .style('fill', (d, i) => d3.schemeSet1[i]);\n",
       "\n",
       "    const num_examples =\n",
       "        output.content.append('g')\n",
       "            .attr('transform', `translate(0,${output.vertical_offset})`)\n",
       "            .append('text')\n",
       "            .attr('x', options.node_x_size - options.node_padding)\n",
       "            .attr('alignment-baseline', 'hanging')\n",
       "            .attr('text-anchor', 'end')\n",
       "            .text(`(${value.num_examples})`);\n",
       "\n",
       "    const distribution_details = d3.create('ul');\n",
       "    distribution_details.selectAll('li')\n",
       "        .data(value.distribution)\n",
       "        .join('li')\n",
       "        .append('span')\n",
       "        .text(\n",
       "            (d, i) =>\n",
       "                'class ' + i + ': ' + d3.format('.3%')(value.distribution[i]));\n",
       "\n",
       "    add_tooltip(options, distribution_plot, () => distribution_details.html());\n",
       "    add_tooltip(options, num_examples, () => 'Number of examples');\n",
       "\n",
       "    output.vertical_offset += 10;\n",
       "    return;\n",
       "  }\n",
       "\n",
       "  if (value.type === 'REGRESSION') {\n",
       "    display_node_text(\n",
       "        options,\n",
       "        'value: ' + d3.format('r')(value.value) + ` (` +\n",
       "            d3.format('.6')(value.num_examples) + `)`,\n",
       "        output);\n",
       "    return;\n",
       "  }\n",
       "\n",
       "  if (value.type === 'UPLIFT') {\n",
       "    display_node_text(\n",
       "        options,\n",
       "        'effect: ' + d3.format('r')(value.treatment_effect) + ` (` +\n",
       "            d3.format('.6')(value.num_examples) + `)`,\n",
       "        output);\n",
       "    return;\n",
       "  }\n",
       "\n",
       "  display_node_text(options, `Non supported value ${value.type}`, output);\n",
       "}\n",
       "\n",
       "/**\n",
       " * Adds an explanation inside of a node.\n",
       " * @param {!options} options Dictionary of configurations.\n",
       " * @param {!explanation} explanation Explanation to display.\n",
       " * @param {!output} output Output display accumulator.\n",
       " */\n",
       "function display_explanation(options, explanation, output) {\n",
       "  // Margin before the explanation.\n",
       "  output.vertical_offset += 10;\n",
       "\n",
       "  display_node_text(\n",
       "      options, `Non supported explanation ${explanation.type}`, output);\n",
       "}\n",
       "\n",
       "\n",
       "/**\n",
       " * Draw the edges of the tree.\n",
       " * @param {!options} options Dictionary of configurations.\n",
       " * @param {!graph} graph D3 search handle containing the graph.\n",
       " * @param {!tree_struct} tree_struct Structure of the tree (node placement,\n",
       " *     data, etc.).\n",
       " */\n",
       "function display_edges(options, graph, tree_struct) {\n",
       "  // Draw an edge between a parent and a child node with a bezier.\n",
       "  function draw_single_edge(d) {\n",
       "    return 'M' + (d.source.y + options.node_x_size) + ',' + d.source.x + ' C' +\n",
       "        (d.source.y + options.node_x_size + options.edge_rounding) + ',' +\n",
       "        d.source.x + ' ' + (d.target.y - options.edge_rounding) + ',' +\n",
       "        d.target.x + ' ' + d.target.y + ',' + d.target.x;\n",
       "  }\n",
       "\n",
       "  graph.append('g')\n",
       "      .attr('fill', 'none')\n",
       "      .attr('stroke-width', 1.2)\n",
       "      .selectAll('path')\n",
       "      .data(tree_struct.links())\n",
       "      .join('path')\n",
       "      .attr('d', draw_single_edge)\n",
       "      .attr(\n",
       "          'stroke', d => (d.target === d.source.children[0]) ? '#0F0' : '#F00');\n",
       "}\n",
       "\n",
       "display_tree({\"margin\": 10, \"node_x_size\": 160, \"node_y_size\": 28, \"node_x_offset\": 180, \"node_y_offset\": 33, \"font_size\": 10, \"edge_rounding\": 20, \"node_padding\": 2, \"show_plot_bounding_box\": false}, {\"value\": {\"type\": \"REGRESSION\", \"value\": 6.643680716678091e-09, \"num_examples\": 2939.0, \"standard_deviation\": 0.4990924216704408}, \"condition\": {\"type\": \"CATEGORICAL_IS_IN\", \"attribute\": \"service_type\", \"mask\": [\"<OOD>\", \"Incident\"]}, \"children\": [{\"value\": {\"type\": \"REGRESSION\", \"value\": 0.0592213049530983, \"num_examples\": 2159.0, \"standard_deviation\": 0.46738431924506035}, \"condition\": {\"type\": \"CATEGORICAL_IS_IN\", \"attribute\": \"brand\", \"mask\": [\"HPE\", \"Oracle\", \"Palo Alto\", \"Veritas\", \"SAPB1\", \"Veeam\", \"DELL\", \"Microsoft\", \"IBM\", \"Commvault\"]}, \"children\": [{\"value\": {\"type\": \"REGRESSION\", \"value\": 0.12430540472269058, \"num_examples\": 1273.0, \"standard_deviation\": 0.36683902625826326}, \"condition\": {\"type\": \"CATEGORICAL_IS_IN\", \"attribute\": \"product_type\", \"mask\": [\"<OOD>\", \"Server\", \"Hardware\", \"Firewall\"]}, \"children\": [{\"value\": {\"type\": \"REGRESSION\", \"value\": 0.14418427646160126, \"num_examples\": 885.0, \"standard_deviation\": 0.31380303094959766}, \"condition\": {\"type\": \"CATEGORICAL_IS_IN\", \"attribute\": \"incident_type\", \"mask\": [\"<OOD>\", \"General Incident\", \"Hard Disk Drive Failure\", \"Software\", \"Configuration Change\", \"Memory Failure\", \"OS / Firmware\", \"Power Supply Failure\", \"Backup Failure\", \"System Board Failure\", \"Other Failure\", \"Controller/Node Failure\", \"Network Card Failure\", \"Network Adapter Failure\", \"Report\", \"Network Cable Failure\", \"Battery Failure\", \"CPU Failure\", \"Cache Battery Failure\", \"Fan Failure\"]}, \"children\": [{\"value\": {\"type\": \"REGRESSION\", \"value\": 0.1465253084897995, \"num_examples\": 877.0, \"standard_deviation\": 0.3064284960015186}, \"condition\": {\"type\": \"CATEGORICAL_IS_IN\", \"attribute\": \"brand\", \"mask\": [\"HPE\", \"Palo Alto\", \"IBM\"]}}, {\"value\": {\"type\": \"REGRESSION\", \"value\": -0.11245276778936386, \"num_examples\": 8.0, \"standard_deviation\": 0.43301269125480396}}]}, {\"value\": {\"type\": \"REGRESSION\", \"value\": 0.07896314561367035, \"num_examples\": 388.0, \"standard_deviation\": 0.44560059174129735}, \"condition\": {\"type\": \"CATEGORICAL_IS_IN\", \"attribute\": \"incident_type\", \"mask\": [\"<OOD>\", \"General Incident\", \"Hard Disk Drive Failure\", \"Software\", \"OS / Firmware\", \"Power Supply Failure\", \"Backup Failure\", \"System Board Failure\", \"Controller/Node Failure\", \"Network Adapter Failure\", \"Report\", \"Network Cable Failure\", \"CPU Failure\", \"Cache Battery Failure\", \"Fan Failure\"]}, \"children\": [{\"value\": {\"type\": \"REGRESSION\", \"value\": 0.09048107266426086, \"num_examples\": 364.0, \"standard_deviation\": 0.42979362022056744}, \"condition\": {\"type\": \"NUMERICAL_IS_HIGHER_THAN\", \"attribute\": \"open_to_close_hour\", \"threshold\": 4.099999904632568}}, {\"value\": {\"type\": \"REGRESSION\", \"value\": -0.09572543948888779, \"num_examples\": 24.0, \"standard_deviation\": 0.4545296619922974}, \"condition\": {\"type\": \"NUMERICAL_IS_HIGHER_THAN\", \"attribute\": \"open_to_close_hour\", \"threshold\": 6.641666412353516}}]}]}, {\"value\": {\"type\": \"REGRESSION\", \"value\": -0.03429117798805237, \"num_examples\": 886.0, \"standard_deviation\": 0.496931966548242}, \"condition\": {\"type\": \"CATEGORICAL_IS_IN\", \"attribute\": \"sla\", \"mask\": [\"<OOD>\", \"24x7 4Hrs Resolution Time\", \"8x5 4Hrs Response Time\", \"24x7 6Hrs Response Time\", \"24x7 1Hr Response Time\", \"8x5 NBD Response Time\"]}, \"children\": [{\"value\": {\"type\": \"REGRESSION\", \"value\": 0.022181889042258263, \"num_examples\": 287.0, \"standard_deviation\": 0.4926587732033381}, \"condition\": {\"type\": \"CATEGORICAL_IS_IN\", \"attribute\": \"brand\", \"mask\": [\"VMWare\", \"Red Hat\", \"EMC\"]}, \"children\": [{\"value\": {\"type\": \"REGRESSION\", \"value\": 0.09290745109319687, \"num_examples\": 130.0, \"standard_deviation\": 0.42614273611823994}, \"condition\": {\"type\": \"CATEGORICAL_IS_IN\", \"attribute\": \"incident_type\", \"mask\": [\"Software\", \"Upgrade Software\", \"Configuration Change\", \"Controller/Node Failure\", \"Network Adapter Failure\", \"Battery Failure\"]}}, {\"value\": {\"type\": \"REGRESSION\", \"value\": -0.03638068214058876, \"num_examples\": 157.0, \"standard_deviation\": 0.4963250824501204}, \"condition\": {\"type\": \"CATEGORICAL_IS_IN\", \"attribute\": \"incident_type\", \"mask\": [\"<OOD>\", \"General Incident\", \"Upgrade Software\", \"Configuration Change\", \"Memory Failure\", \"OS / Firmware\", \"Power Supply Failure\", \"Maintenance System\", \"Backup Failure\", \"Controller/Node Failure\", \"Network Card Failure\", \"Network Adapter Failure\", \"Report\", \"Network Cable Failure\", \"CPU Failure\", \"Cache Battery Failure\", \"Fan Failure\"]}}]}, {\"value\": {\"type\": \"REGRESSION\", \"value\": -0.06134922429919243, \"num_examples\": 599.0, \"standard_deviation\": 0.48470980650352896}, \"condition\": {\"type\": \"CATEGORICAL_IS_IN\", \"attribute\": \"incident_type\", \"mask\": [\"<OOD>\", \"Hard Disk Drive Failure\", \"Configuration Change\", \"OS / Firmware\", \"Power Supply Failure\", \"Backup Failure\", \"System Board Failure\", \"Controller/Node Failure\", \"Network Card Failure\", \"Battery Failure\", \"CPU Failure\", \"Fan Failure\"]}, \"children\": [{\"value\": {\"type\": \"REGRESSION\", \"value\": 0.023153575137257576, \"num_examples\": 131.0, \"standard_deviation\": 0.49223324598889395}, \"condition\": {\"type\": \"CATEGORICAL_IS_IN\", \"attribute\": \"incident_type\", \"mask\": [\"Power Supply Failure\", \"System Board Failure\", \"Controller/Node Failure\", \"Battery Failure\", \"Fan Failure\"]}}, {\"value\": {\"type\": \"REGRESSION\", \"value\": -0.08500278741121292, \"num_examples\": 468.0, \"standard_deviation\": 0.4658462614082852}, \"condition\": {\"type\": \"CATEGORICAL_IS_IN\", \"attribute\": \"brand\", \"mask\": [\"<OOD>\", \"HPE\", \"VMWare\", \"Oracle\", \"Palo Alto\", \"Red Hat\", \"YIP\", \"Veritas\", \"SAPB1\", \"Veeam\", \"DELL\", \"EMC\", \"F5\", \"CIMCO-CMMS\", \"Microsoft\", \"IBM\", \"Commvault\"]}}]}]}]}, {\"value\": {\"type\": \"REGRESSION\", \"value\": -0.1639215052127838, \"num_examples\": 780.0, \"standard_deviation\": 0.3270487270677955}, \"condition\": {\"type\": \"CATEGORICAL_IS_IN\", \"attribute\": \"product_type\", \"mask\": [\"Server\", \"Hardware\", \"Firewall\", \"Switch\"]}, \"children\": [{\"value\": {\"type\": \"REGRESSION\", \"value\": -0.09116343408823013, \"num_examples\": 198.0, \"standard_deviation\": 0.45956819956738415}, \"condition\": {\"type\": \"CATEGORICAL_IS_IN\", \"attribute\": \"incident_type\", \"mask\": [\"<OOD>\", \"General Incident\", \"Hard Disk Drive Failure\", \"Software\", \"OS / Firmware\", \"Power Supply Failure\", \"System Board Failure\", \"Controller/Node Failure\", \"Network Adapter Failure\", \"Network Cable Failure\", \"Battery Failure\", \"CPU Failure\", \"Cache Battery Failure\"]}, \"children\": [{\"value\": {\"type\": \"REGRESSION\", \"value\": -0.04936681687831879, \"num_examples\": 140.0, \"standard_deviation\": 0.4913018869796323}, \"condition\": {\"type\": \"CATEGORICAL_IS_IN\", \"attribute\": \"sla\", \"mask\": [\"<OOD>\", \"24x7 4Hrs Resolution Time\", \"24x7 4Hrs Response Time\", \"24x7 1Hr Response Time\", \"8x5 NBD Response Time\"]}, \"children\": [{\"value\": {\"type\": \"REGRESSION\", \"value\": -0.02677617035806179, \"num_examples\": 123.0, \"standard_deviation\": 0.49865970859215003}, \"condition\": {\"type\": \"NUMERICAL_IS_HIGHER_THAN\", \"attribute\": \"open_to_close_hour\", \"threshold\": 4.066666603088379}}, {\"value\": {\"type\": \"REGRESSION\", \"value\": -0.21281678974628448, \"num_examples\": 17.0}}]}, {\"value\": {\"type\": \"REGRESSION\", \"value\": -0.19205182790756226, \"num_examples\": 58.0, \"standard_deviation\": 0.22146949974999575}, \"condition\": {\"type\": \"CATEGORICAL_IS_IN\", \"attribute\": \"brand\", \"mask\": [\"NetApp\", \"VMWare\", \"Oracle\", \"Palo Alto\", \"Red Hat\", \"YIP\", \"Veritas\", \"SAPB1\", \"Veeam\", \"Trend Micro\", \"DELL\", \"EMC\", \"eUnite\", \"F5\", \"CIMCO-CMMS\", \"Microsoft\", \"IBM\", \"Commvault\"]}, \"children\": [{\"value\": {\"type\": \"REGRESSION\", \"value\": -0.15105432271957397, \"num_examples\": 13.0, \"standard_deviation\": 0.3608011975421141}, \"condition\": {\"type\": \"NUMERICAL_IS_HIGHER_THAN\", \"attribute\": \"open_to_close_hour\", \"threshold\": 25.71666717529297}}, {\"value\": {\"type\": \"REGRESSION\", \"value\": -0.20389555394649506, \"num_examples\": 45.0, \"standard_deviation\": 0.1474055034769841}, \"condition\": {\"type\": \"CATEGORICAL_IS_IN\", \"attribute\": \"incident_type\", \"mask\": [\"<OOD>\", \"General Incident\", \"Hard Disk Drive Failure\", \"Software\", \"OS / Firmware\", \"Power Supply Failure\", \"Backup Failure\", \"System Board Failure\", \"Controller/Node Failure\", \"Network Card Failure\", \"Network Adapter Failure\", \"Network Cable Failure\", \"Battery Failure\", \"CPU Failure\", \"Cache Battery Failure\"]}}]}]}, {\"value\": {\"type\": \"REGRESSION\", \"value\": -0.18867425620555878, \"num_examples\": 582.0, \"standard_deviation\": 0.2377413116465655}, \"condition\": {\"type\": \"CATEGORICAL_IS_IN\", \"attribute\": \"brand\", \"mask\": [\"Palo Alto\", \"SAPB1\", \"DELL\", \"Microsoft\", \"IBM\", \"Commvault\"]}, \"children\": [{\"value\": {\"type\": \"REGRESSION\", \"value\": 0.034233104437589645, \"num_examples\": 13.0, \"standard_deviation\": 0.4865042515383885}, \"condition\": {\"type\": \"CATEGORICAL_IS_IN\", \"attribute\": \"brand\", \"mask\": [\"<OOD>\", \"HPE\", \"NetApp\", \"VMWare\", \"Oracle\", \"Palo Alto\", \"Red Hat\", \"Cisco\", \"YIP\", \"Veritas\", \"Veeam\", \"Trend Micro\", \"DELL\", \"EMC\", \"eUnite\", \"F5\", \"CIMCO-CMMS\", \"Microsoft\", \"IBM\", \"Commvault\"]}, \"children\": [{\"value\": {\"type\": \"REGRESSION\", \"value\": 0.12172994762659073, \"num_examples\": 6.0, \"standard_deviation\": 0.3726779955524086}}, {\"value\": {\"type\": \"REGRESSION\", \"value\": -0.04076418653130531, \"num_examples\": 7.0, \"standard_deviation\": 0.4948716526861518}}]}, {\"value\": {\"type\": \"REGRESSION\", \"value\": -0.19376704096794128, \"num_examples\": 569.0, \"standard_deviation\": 0.21260290783024974}, \"condition\": {\"type\": \"CATEGORICAL_IS_IN\", \"attribute\": \"incident_type\", \"mask\": [\"<OOD>\", \"Software\", \"Upgrade Software\", \"Memory Failure\", \"Power Supply Failure\", \"System Board Failure\", \"Other Failure\", \"Network Card Failure\", \"Network Adapter Failure\", \"Network Cable Failure\", \"Battery Failure\", \"CPU Failure\", \"Cache Battery Failure\", \"Fan Failure\"]}, \"children\": [{\"value\": {\"type\": \"REGRESSION\", \"value\": -0.15744353830814362, \"num_examples\": 116.0, \"standard_deviation\": 0.3448275704276633}, \"condition\": {\"type\": \"CATEGORICAL_IS_IN\", \"attribute\": \"brand\", \"mask\": [\"HPE\", \"Oracle\", \"Palo Alto\", \"Cisco\", \"YIP\", \"SAPB1\", \"DELL\", \"EMC\", \"F5\", \"Microsoft\", \"IBM\", \"Commvault\"]}}, {\"value\": {\"type\": \"REGRESSION\", \"value\": -0.20306842029094696, \"num_examples\": 453.0, \"standard_deviation\": 0.15392499919187227}, \"condition\": {\"type\": \"CATEGORICAL_IS_IN\", \"attribute\": \"sla\", \"mask\": [\"<OOD>\", \"24x7 4Hrs Resolution Time\", \"9x5 NBD 4Hrs Response Time\", \"8x5 NBD Response Time\"]}}]}]}]}]}, \"#tree_plot_8e3690d6dfba4d21ab58ad8add4a959e\")\n",
       "</script>\n"
      ],
      "text/plain": [
       "<IPython.core.display.HTML object>"
      ]
     },
     "execution_count": 140,
     "metadata": {},
     "output_type": "execute_result"
    }
   ],
   "source": [
    "tfdf.model_plotter.plot_model_in_colab(model, tree_idx=0, max_depth=4)"
   ]
  },
  {
   "cell_type": "markdown",
   "id": "91e5de47-03fa-493a-86b5-a51be7689c1e",
   "metadata": {},
   "source": [
    "# Examine log training"
   ]
  },
  {
   "cell_type": "code",
   "execution_count": null,
   "id": "1b6f6f32-da31-4c99-944a-505292126a03",
   "metadata": {},
   "outputs": [],
   "source": []
  },
  {
   "cell_type": "code",
   "execution_count": 141,
   "id": "7a27b3a0-d4e2-43ea-8594-5d4f2c782409",
   "metadata": {},
   "outputs": [],
   "source": [
    "logs = inspector.training_logs()\n"
   ]
  },
  {
   "cell_type": "markdown",
   "id": "0cadf966-6f4f-417b-8529-2ec2e64759b7",
   "metadata": {},
   "source": [
    "# Plotting the training logs"
   ]
  },
  {
   "cell_type": "code",
   "execution_count": 142,
   "id": "68a3292b-f7cc-4f0c-b491-e84206636957",
   "metadata": {},
   "outputs": [
    {
     "data": {
      "image/png": "[encoded data removed]",
      "text/plain": [
       "<Figure size 1500x500 with 2 Axes>"
      ]
     },
     "metadata": {},
     "output_type": "display_data"
    }
   ],
   "source": [
    "import matplotlib.pyplot as plt\n",
    "\n",
    "plt.figure(figsize=(15, 5))\n",
    "\n",
    "plt.subplot(1, 2, 1)\n",
    "plt.plot([log.num_trees for log in logs], [log.evaluation.accuracy for log in logs])\n",
    "plt.xlabel(\"Number of trees\")\n",
    "plt.ylabel(\"Accuracy\")\n",
    "\n",
    "plt.subplot(1, 2, 2)\n",
    "plt.plot([log.num_trees for log in logs], [log.evaluation.loss for log in logs])\n",
    "plt.xlabel(\"Number of trees\")\n",
    "plt.ylabel(\"Logloss\")\n",
    "\n",
    "plt.show()"
   ]
  },
  {
   "cell_type": "code",
   "execution_count": 22,
   "id": "2b21d1d7-6d34-4c40-b0a2-fac22ca7097e",
   "metadata": {},
   "outputs": [
    {
     "name": "stderr",
     "output_type": "stream",
     "text": [
      "WARNING:absl:Found untraced functions such as call_get_leaves, _update_step_xla while saving (showing 2 of 2). These functions will not be directly callable after loading.\n"
     ]
    },
    {
     "name": "stdout",
     "output_type": "stream",
     "text": [
      "INFO:tensorflow:Assets written to: gs://demo2-tf-incident-pongthorn/demo2_binary_gbt_tf_model/assets\n"
     ]
    },
    {
     "name": "stderr",
     "output_type": "stream",
     "text": [
      "INFO:tensorflow:Assets written to: gs://demo2-tf-incident-pongthorn/demo2_binary_gbt_tf_model/assets\n"
     ]
    }
   ],
   "source": [
    "\n",
    "#model.save(model_gs_path)"
   ]
  },
  {
   "cell_type": "code",
   "execution_count": 23,
   "id": "e62b65f7-d674-4dd9-8fb2-d7fcb2f7e355",
   "metadata": {},
   "outputs": [],
   "source": [
    "# To Tensorbord\n",
    "#inspector.export_to_tensorboard(f\"./tb_logs/{_model}\")"
   ]
  },
  {
   "cell_type": "code",
   "execution_count": null,
   "id": "96b76a15-64d9-4414-9f2e-9aa5ad098eaf",
   "metadata": {},
   "outputs": [],
   "source": []
  }
 ],
 "metadata": {
  "environment": {
   "kernel": "python3",
   "name": "tf2-gpu.2-12.m109",
   "type": "gcloud",
   "uri": "gcr.io/deeplearning-platform-release/tf2-gpu.2-12:m109"
  },
  "kernelspec": {
   "display_name": "Python 3",
   "language": "python",
   "name": "python3"
  },
  "language_info": {
   "codemirror_mode": {
    "name": "ipython",
    "version": 3
   },
   "file_extension": ".py",
   "mimetype": "text/x-python",
   "name": "python",
   "nbconvert_exporter": "python",
   "pygments_lexer": "ipython3",
   "version": "3.10.11"
  }
 },
 "nbformat": 4,
 "nbformat_minor": 5
}
