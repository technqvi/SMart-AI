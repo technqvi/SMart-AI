{
 "cells": [
  {
   "cell_type": "code",
   "execution_count": 1,
   "id": "c6920b3d-e127-4d00-b7ae-0779e6ef5803",
   "metadata": {},
   "outputs": [
    {
     "name": "stderr",
     "output_type": "stream",
     "text": [
      "2023-07-07 14:53:46.210826: I tensorflow/core/platform/cpu_feature_guard.cc:182] This TensorFlow binary is optimized to use available CPU instructions in performance-critical operations.\n",
      "To enable the following instructions: AVX2 FMA, in other operations, rebuild TensorFlow with the appropriate compiler flags.\n",
      "/opt/conda/lib/python3.10/site-packages/tensorflow_io/python/ops/__init__.py:98: UserWarning: unable to load libtensorflow_io_plugins.so: unable to open file: libtensorflow_io_plugins.so, from paths: ['/opt/conda/lib/python3.10/site-packages/tensorflow_io/python/ops/libtensorflow_io_plugins.so']\n",
      "caused by: ['/opt/conda/lib/python3.10/site-packages/tensorflow_io/python/ops/libtensorflow_io_plugins.so: undefined symbol: _ZN3tsl6StatusC1EN10tensorflow5error4CodeESt17basic_string_viewIcSt11char_traitsIcEENS_14SourceLocationE']\n",
      "  warnings.warn(f\"unable to load libtensorflow_io_plugins.so: {e}\")\n",
      "/opt/conda/lib/python3.10/site-packages/tensorflow_io/python/ops/__init__.py:104: UserWarning: file system plugins are not loaded: unable to open file: libtensorflow_io.so, from paths: ['/opt/conda/lib/python3.10/site-packages/tensorflow_io/python/ops/libtensorflow_io.so']\n",
      "caused by: ['/opt/conda/lib/python3.10/site-packages/tensorflow_io/python/ops/libtensorflow_io.so: undefined symbol: _ZTVN10tensorflow13GcsFileSystemE']\n",
      "  warnings.warn(f\"file system plugins are not loaded: {e}\")\n"
     ]
    },
    {
     "name": "stdout",
     "output_type": "stream",
     "text": [
      "2.12.0\n"
     ]
    }
   ],
   "source": [
    "# https://www.tensorflow.org/decision_forests/tutorials/beginner_colab\n",
    "# https://www.tensorflow.org/decision_forests/tutorials/predict_colab\n",
    "# https://www.tensorflow.org/decision_forests/tutorials/automatic_tuning_colab\n",
    "# https://www.tensorflow.org/decision_forests/tutorials/advanced_colab \n",
    "\n",
    "from google.cloud import bigquery\n",
    "\n",
    "import pandas as pd\n",
    "import numpy as np\n",
    "\n",
    "import math\n",
    "import os\n",
    "\n",
    "import tensorflow as tf\n",
    "print(tf.__version__)"
   ]
  },
  {
   "cell_type": "code",
   "execution_count": 2,
   "id": "5eb2a0e9-ddd0-4a05-86e9-e2ed32435331",
   "metadata": {},
   "outputs": [
    {
     "name": "stdout",
     "output_type": "stream",
     "text": [
      "1.4.0\n"
     ]
    }
   ],
   "source": [
    "#pip install tensorflow_decision_forests --upgrade --user\n",
    "import tensorflow_decision_forests as tfdf\n",
    "print(tfdf.__version__)"
   ]
  },
  {
   "cell_type": "markdown",
   "id": "1f6748e1-f46a-4d3d-9ade-3e91150f3391",
   "metadata": {},
   "source": [
    "# Variable to Configuration"
   ]
  },
  {
   "cell_type": "code",
   "execution_count": 4,
   "id": "f42f6351-3e31-40ce-88a9-81d531ea3530",
   "metadata": {},
   "outputs": [],
   "source": [
    "model_tree_type=1# 1= xgboost  2-random forest\n",
    "option_cate_feature=1\n",
    "\n",
    "labelCol='label_multi_severity'\n",
    "# labelCol='label_binary_severity'"
   ]
  },
  {
   "cell_type": "code",
   "execution_count": 5,
   "id": "08b48f64-eb5b-4f0e-8e27-acb7ee210d4b",
   "metadata": {},
   "outputs": [
    {
     "name": "stdout",
     "output_type": "stream",
     "text": [
      "train-ds = pongthorn.SMartML.train2_incident\n",
      "test-ds = pongthorn.SMartML.test2_incident\n"
     ]
    }
   ],
   "source": [
    "projectId='pongthorn'\n",
    "dataset_id='SMartML'\n",
    "\n",
    "train_name='train2_incident'\n",
    "test_name='test2_incident'\n",
    "\n",
    "train_table_id=f\"{projectId}.{dataset_id}.{train_name}\"\n",
    "test_tabel_id=f\"{projectId}.{dataset_id}.{test_name}\"\n",
    "print(f\"train-ds = {train_table_id}\")\n",
    "print(f\"test-ds = {test_tabel_id}\")"
   ]
  },
  {
   "cell_type": "code",
   "execution_count": 6,
   "id": "86703035-9e51-439c-ad30-fcb8131ae83f",
   "metadata": {},
   "outputs": [
    {
     "name": "stdout",
     "output_type": "stream",
     "text": [
      "gs://demo-tuned-tf-incident-pongthorn/model_xgb_tf\n"
     ]
    }
   ],
   "source": [
    "metric=\"accuracy\"\n",
    "\n",
    "if model_tree_type==1:\n",
    "    _model='model_xgb_tf'\n",
    "else:\n",
    "     _model='model_rf_tf'\n",
    "\n",
    "model_gs_path=f\"gs://demo-tuned-tf-incident-pongthorn/{_model}\"\n",
    "print(model_gs_path)\n",
    "#model_local_path=_model"
   ]
  },
  {
   "cell_type": "code",
   "execution_count": 7,
   "id": "6ed72e3f-b0a4-4712-a1f8-c2c7156eb03a",
   "metadata": {},
   "outputs": [],
   "source": [
    "\n",
    "if option_cate_feature==1:\n",
    "    # cateCols=['sla','product_type','brand','service_type','incident_type','range_open_to_close_hour','range_response_to_resolved_hour']\n",
    "    cateCols=['sla','product_type','brand','service_type','incident_type','range_open_to_close_hour']\n",
    "    numbericCols=[]\n",
    "    #unusedCols=['id','severity_id','severity_name','label_binary_severity','open_to_close_hour','response_to_resolved_hour']\n",
    "    unusedCols=['id','severity_id','severity_name','label_binary_severity','open_to_close_hour']\n",
    "else:\n",
    "    cateCols=['sla','product_type','brand','service_type','incident_type']\n",
    "    numbericCols=['open_to_close_hour']\n",
    "    unusedCols=['id','severity_id','severity_name','label_binary_severity','range_open_to_close_hour']\n",
    "\n",
    "\n"
   ]
  },
  {
   "cell_type": "markdown",
   "id": "cdd9f87b-86b1-4869-a88e-28f63279a9aa",
   "metadata": {},
   "source": [
    "# Load & Prepare Data"
   ]
  },
  {
   "cell_type": "code",
   "execution_count": 8,
   "id": "b54d4427-4ded-438a-9910-9531e0dc651e",
   "metadata": {},
   "outputs": [],
   "source": [
    "def load_ml_data(data_path):\n",
    " df=pd.read_csv(data_path)\n",
    " df =df.drop(columns=unusedCols)\n",
    " \n",
    " return df\n",
    "\n",
    "def load_data_bq(sql:str):\n",
    " \n",
    " query_result=client.query(sql)\n",
    " df=query_result.to_dataframe()\n",
    " df =df.drop(columns=unusedCols)\n",
    " df[labelCol]=df[labelCol].astype('int64') \n",
    " df=df[[labelCol]+cateCols+numbericCols]   \n",
    "  \n",
    " return df"
   ]
  },
  {
   "cell_type": "code",
   "execution_count": 9,
   "id": "93a32924-01b9-44f0-9c95-3dc335daaf96",
   "metadata": {},
   "outputs": [
    {
     "name": "stdout",
     "output_type": "stream",
     "text": [
      "<class 'pandas.core.frame.DataFrame'>\n",
      "RangeIndex: 2241 entries, 0 to 2240\n",
      "Data columns (total 7 columns):\n",
      " #   Column                    Non-Null Count  Dtype \n",
      "---  ------                    --------------  ----- \n",
      " 0   label_multi_severity      2241 non-null   int64 \n",
      " 1   sla                       2241 non-null   object\n",
      " 2   product_type              2241 non-null   object\n",
      " 3   brand                     2241 non-null   object\n",
      " 4   service_type              2241 non-null   object\n",
      " 5   incident_type             2241 non-null   object\n",
      " 6   range_open_to_close_hour  2241 non-null   object\n",
      "dtypes: int64(1), object(6)\n",
      "memory usage: 122.7+ KB\n",
      "None\n",
      "<class 'pandas.core.frame.DataFrame'>\n",
      "RangeIndex: 561 entries, 0 to 560\n",
      "Data columns (total 7 columns):\n",
      " #   Column                    Non-Null Count  Dtype \n",
      "---  ------                    --------------  ----- \n",
      " 0   label_multi_severity      561 non-null    int64 \n",
      " 1   sla                       561 non-null    object\n",
      " 2   product_type              561 non-null    object\n",
      " 3   brand                     561 non-null    object\n",
      " 4   service_type              561 non-null    object\n",
      " 5   incident_type             561 non-null    object\n",
      " 6   range_open_to_close_hour  561 non-null    object\n",
      "dtypes: int64(1), object(6)\n",
      "memory usage: 30.8+ KB\n",
      "None\n"
     ]
    }
   ],
   "source": [
    "client = bigquery.Client(project=projectId)\n",
    "\n",
    "train=load_data_bq(f\"SELECT * FROM {train_table_id}\")\n",
    "test=load_data_bq(f\"SELECT * FROM {test_tabel_id}\")\n",
    "\n",
    "print(train.info())\n",
    "\n",
    "print(test.info())"
   ]
  },
  {
   "cell_type": "code",
   "execution_count": 10,
   "id": "db86f9b2-8cab-44c7-a9f4-a1d7617ea969",
   "metadata": {},
   "outputs": [
    {
     "data": {
      "text/plain": [
       "[0, 1, 2, 3]"
      ]
     },
     "execution_count": 10,
     "metadata": {},
     "output_type": "execute_result"
    }
   ],
   "source": [
    "classes_train = list(train[labelCol].unique())\n",
    "classes_test = list(test[labelCol].unique())\n",
    "\n",
    "set_classes=set(classes_train) & set(classes_test)\n",
    "classes=list(set_classes)\n",
    "classes"
   ]
  },
  {
   "cell_type": "code",
   "execution_count": 11,
   "id": "33b553e0-a511-489a-9d16-e68535cec436",
   "metadata": {},
   "outputs": [
    {
     "data": {
      "text/html": [
       "<div>\n",
       "<style scoped>\n",
       "    .dataframe tbody tr th:only-of-type {\n",
       "        vertical-align: middle;\n",
       "    }\n",
       "\n",
       "    .dataframe tbody tr th {\n",
       "        vertical-align: top;\n",
       "    }\n",
       "\n",
       "    .dataframe thead th {\n",
       "        text-align: right;\n",
       "    }\n",
       "</style>\n",
       "<table border=\"1\" class=\"dataframe\">\n",
       "  <thead>\n",
       "    <tr style=\"text-align: right;\">\n",
       "      <th></th>\n",
       "      <th>label_multi_severity</th>\n",
       "      <th>sla</th>\n",
       "      <th>product_type</th>\n",
       "      <th>brand</th>\n",
       "      <th>service_type</th>\n",
       "      <th>incident_type</th>\n",
       "      <th>range_open_to_close_hour</th>\n",
       "    </tr>\n",
       "  </thead>\n",
       "  <tbody>\n",
       "    <tr>\n",
       "      <th>2236</th>\n",
       "      <td>0</td>\n",
       "      <td>24x7 4Hrs Response Time</td>\n",
       "      <td>Software</td>\n",
       "      <td>Trend Micro</td>\n",
       "      <td>Request</td>\n",
       "      <td>Configuration Change</td>\n",
       "      <td>soonest</td>\n",
       "    </tr>\n",
       "    <tr>\n",
       "      <th>2237</th>\n",
       "      <td>0</td>\n",
       "      <td>24x7 4Hrs Response Time</td>\n",
       "      <td>Software</td>\n",
       "      <td>Trend Micro</td>\n",
       "      <td>Request</td>\n",
       "      <td>OS / Firmware</td>\n",
       "      <td>latest</td>\n",
       "    </tr>\n",
       "    <tr>\n",
       "      <th>2238</th>\n",
       "      <td>0</td>\n",
       "      <td>24x7 6Hrs Resolution Time</td>\n",
       "      <td>Software</td>\n",
       "      <td>Trend Micro</td>\n",
       "      <td>Request</td>\n",
       "      <td>General Incident</td>\n",
       "      <td>soonest</td>\n",
       "    </tr>\n",
       "    <tr>\n",
       "      <th>2239</th>\n",
       "      <td>0</td>\n",
       "      <td>24x7 4Hrs Response Time</td>\n",
       "      <td>Security</td>\n",
       "      <td>Trend Micro</td>\n",
       "      <td>Request</td>\n",
       "      <td>Upgrade Software</td>\n",
       "      <td>fair</td>\n",
       "    </tr>\n",
       "    <tr>\n",
       "      <th>2240</th>\n",
       "      <td>0</td>\n",
       "      <td>24x7 4Hrs Response Time</td>\n",
       "      <td>Software</td>\n",
       "      <td>Trend Micro</td>\n",
       "      <td>Request</td>\n",
       "      <td>General Incident</td>\n",
       "      <td>soonest</td>\n",
       "    </tr>\n",
       "  </tbody>\n",
       "</table>\n",
       "</div>"
      ],
      "text/plain": [
       "      label_multi_severity                        sla product_type  \\\n",
       "2236                     0    24x7 4Hrs Response Time     Software   \n",
       "2237                     0    24x7 4Hrs Response Time     Software   \n",
       "2238                     0  24x7 6Hrs Resolution Time     Software   \n",
       "2239                     0    24x7 4Hrs Response Time     Security   \n",
       "2240                     0    24x7 4Hrs Response Time     Software   \n",
       "\n",
       "            brand service_type         incident_type range_open_to_close_hour  \n",
       "2236  Trend Micro      Request  Configuration Change                  soonest  \n",
       "2237  Trend Micro      Request         OS / Firmware                   latest  \n",
       "2238  Trend Micro      Request      General Incident                  soonest  \n",
       "2239  Trend Micro      Request      Upgrade Software                     fair  \n",
       "2240  Trend Micro      Request      General Incident                  soonest  "
      ]
     },
     "execution_count": 11,
     "metadata": {},
     "output_type": "execute_result"
    }
   ],
   "source": [
    "train.tail(5)"
   ]
  },
  {
   "cell_type": "code",
   "execution_count": 12,
   "id": "e37f9812-69ab-4672-9641-0e9c1873396a",
   "metadata": {},
   "outputs": [
    {
     "data": {
      "text/html": [
       "<div>\n",
       "<style scoped>\n",
       "    .dataframe tbody tr th:only-of-type {\n",
       "        vertical-align: middle;\n",
       "    }\n",
       "\n",
       "    .dataframe tbody tr th {\n",
       "        vertical-align: top;\n",
       "    }\n",
       "\n",
       "    .dataframe thead th {\n",
       "        text-align: right;\n",
       "    }\n",
       "</style>\n",
       "<table border=\"1\" class=\"dataframe\">\n",
       "  <thead>\n",
       "    <tr style=\"text-align: right;\">\n",
       "      <th></th>\n",
       "      <th>label_multi_severity</th>\n",
       "      <th>sla</th>\n",
       "      <th>product_type</th>\n",
       "      <th>brand</th>\n",
       "      <th>service_type</th>\n",
       "      <th>incident_type</th>\n",
       "      <th>range_open_to_close_hour</th>\n",
       "    </tr>\n",
       "  </thead>\n",
       "  <tbody>\n",
       "    <tr>\n",
       "      <th>556</th>\n",
       "      <td>0</td>\n",
       "      <td>24x7 4Hrs Resolution Time</td>\n",
       "      <td>Firewall</td>\n",
       "      <td>Palo Alto</td>\n",
       "      <td>Request</td>\n",
       "      <td>Software</td>\n",
       "      <td>late</td>\n",
       "    </tr>\n",
       "    <tr>\n",
       "      <th>557</th>\n",
       "      <td>3</td>\n",
       "      <td>24x7 6Hrs Resolution Time</td>\n",
       "      <td>Software</td>\n",
       "      <td>Trend Micro</td>\n",
       "      <td>Incident</td>\n",
       "      <td>General Incident</td>\n",
       "      <td>soonest</td>\n",
       "    </tr>\n",
       "    <tr>\n",
       "      <th>558</th>\n",
       "      <td>1</td>\n",
       "      <td>24x7 4Hrs Response Time</td>\n",
       "      <td>Software</td>\n",
       "      <td>Trend Micro</td>\n",
       "      <td>Request</td>\n",
       "      <td>Software</td>\n",
       "      <td>late</td>\n",
       "    </tr>\n",
       "    <tr>\n",
       "      <th>559</th>\n",
       "      <td>0</td>\n",
       "      <td>24x7 4Hrs Response Time</td>\n",
       "      <td>Software</td>\n",
       "      <td>Trend Micro</td>\n",
       "      <td>Request</td>\n",
       "      <td>General Incident</td>\n",
       "      <td>soon</td>\n",
       "    </tr>\n",
       "    <tr>\n",
       "      <th>560</th>\n",
       "      <td>0</td>\n",
       "      <td>24x7 4Hrs Response Time</td>\n",
       "      <td>Software</td>\n",
       "      <td>Trend Micro</td>\n",
       "      <td>Request</td>\n",
       "      <td>General Incident</td>\n",
       "      <td>soon</td>\n",
       "    </tr>\n",
       "  </tbody>\n",
       "</table>\n",
       "</div>"
      ],
      "text/plain": [
       "     label_multi_severity                        sla product_type  \\\n",
       "556                     0  24x7 4Hrs Resolution Time     Firewall   \n",
       "557                     3  24x7 6Hrs Resolution Time     Software   \n",
       "558                     1    24x7 4Hrs Response Time     Software   \n",
       "559                     0    24x7 4Hrs Response Time     Software   \n",
       "560                     0    24x7 4Hrs Response Time     Software   \n",
       "\n",
       "           brand service_type     incident_type range_open_to_close_hour  \n",
       "556    Palo Alto      Request          Software                     late  \n",
       "557  Trend Micro     Incident  General Incident                  soonest  \n",
       "558  Trend Micro      Request          Software                     late  \n",
       "559  Trend Micro      Request  General Incident                     soon  \n",
       "560  Trend Micro      Request  General Incident                     soon  "
      ]
     },
     "execution_count": 12,
     "metadata": {},
     "output_type": "execute_result"
    }
   ],
   "source": [
    "test.tail()"
   ]
  },
  {
   "cell_type": "markdown",
   "id": "aa72159d-066d-4e7c-be00-3e74b60a4062",
   "metadata": {},
   "source": [
    "# Build Model"
   ]
  },
  {
   "cell_type": "code",
   "execution_count": 13,
   "id": "1c895353-d33e-44b8-91eb-75a4322db7b9",
   "metadata": {},
   "outputs": [],
   "source": [
    "train_ds = tfdf.keras.pd_dataframe_to_tf_dataset(train, label=labelCol)\n",
    "test_ds = tfdf.keras.pd_dataframe_to_tf_dataset(test, label=labelCol)"
   ]
  },
  {
   "cell_type": "code",
   "execution_count": 14,
   "id": "da1f2012-412a-4c3a-aaeb-9b98dd11fec4",
   "metadata": {},
   "outputs": [
    {
     "name": "stdout",
     "output_type": "stream",
     "text": [
      "GradientBoostedTreesModel\n",
      "Use /var/tmp/tmp8lcik4c_ as temporary training directory\n",
      "Reading training dataset...\n"
     ]
    },
    {
     "name": "stderr",
     "output_type": "stream",
     "text": [
      "[WARNING 23-07-07 14:55:14.0983 UTC gradient_boosted_trees.cc:1818] \"goss_alpha\" set but \"sampling_method\" not equal to \"GOSS\".\n",
      "[WARNING 23-07-07 14:55:14.0991 UTC gradient_boosted_trees.cc:1829] \"goss_beta\" set but \"sampling_method\" not equal to \"GOSS\".\n",
      "[WARNING 23-07-07 14:55:14.0993 UTC gradient_boosted_trees.cc:1843] \"selective_gradient_boosting_ratio\" set but \"sampling_method\" not equal to \"SELGB\".\n",
      "2023-07-07 14:55:14.205313: I tensorflow/core/common_runtime/executor.cc:1197] [/device:CPU:0] (DEBUG INFO) Executor start aborting (this does not indicate an error and you can ignore this message): INVALID_ARGUMENT: You must feed a value for placeholder tensor 'Placeholder/_2' with dtype string and shape [2241]\n",
      "\t [[{{node Placeholder/_2}}]]\n"
     ]
    },
    {
     "name": "stdout",
     "output_type": "stream",
     "text": [
      "Training dataset read in 0:00:04.582684. Found 2241 examples.\n",
      "Training model...\n",
      "Model trained in 0:00:00.341295\n",
      "Compiling model...\n"
     ]
    },
    {
     "name": "stderr",
     "output_type": "stream",
     "text": [
      "[INFO 23-07-07 14:55:19.0234 UTC kernel.cc:1243] Loading model from path /var/tmp/tmp8lcik4c_/model/ with prefix 3ac63f3679524a2a\n",
      "[INFO 23-07-07 14:55:19.0839 UTC decision_forest.cc:660] Model loaded with 148 root(s), 7318 node(s), and 6 input feature(s).\n",
      "[INFO 23-07-07 14:55:19.0848 UTC abstract_model.cc:1311] Engine \"GradientBoostedTreesGeneric\" built\n",
      "[INFO 23-07-07 14:55:19.0853 UTC kernel.cc:1075] Use fast generic engine\n",
      "2023-07-07 14:55:19.134495: I tensorflow/core/common_runtime/executor.cc:1197] [/device:CPU:0] (DEBUG INFO) Executor start aborting (this does not indicate an error and you can ignore this message): INVALID_ARGUMENT: You must feed a value for placeholder tensor 'Placeholder/_3' with dtype string and shape [2241]\n",
      "\t [[{{node Placeholder/_3}}]]\n"
     ]
    },
    {
     "name": "stdout",
     "output_type": "stream",
     "text": [
      "WARNING:tensorflow:AutoGraph could not transform <function simple_ml_inference_op_with_handle at 0x7fd0c1ff5e10> and will run it as-is.\n",
      "Please report this to the TensorFlow team. When filing the bug, set the verbosity to 10 (on Linux, `export AUTOGRAPH_VERBOSITY=10`) and attach the full output.\n",
      "Cause: could not get source code\n",
      "To silence this warning, decorate the function with @tf.autograph.experimental.do_not_convert\n"
     ]
    },
    {
     "name": "stderr",
     "output_type": "stream",
     "text": [
      "WARNING:tensorflow:AutoGraph could not transform <function simple_ml_inference_op_with_handle at 0x7fd0c1ff5e10> and will run it as-is.\n",
      "Please report this to the TensorFlow team. When filing the bug, set the verbosity to 10 (on Linux, `export AUTOGRAPH_VERBOSITY=10`) and attach the full output.\n",
      "Cause: could not get source code\n",
      "To silence this warning, decorate the function with @tf.autograph.experimental.do_not_convert\n"
     ]
    },
    {
     "name": "stdout",
     "output_type": "stream",
     "text": [
      "WARNING: AutoGraph could not transform <function simple_ml_inference_op_with_handle at 0x7fd0c1ff5e10> and will run it as-is.\n",
      "Please report this to the TensorFlow team. When filing the bug, set the verbosity to 10 (on Linux, `export AUTOGRAPH_VERBOSITY=10`) and attach the full output.\n",
      "Cause: could not get source code\n",
      "To silence this warning, decorate the function with @tf.autograph.experimental.do_not_convert\n",
      "Model compiled.\n"
     ]
    },
    {
     "data": {
      "text/plain": [
       "<keras.callbacks.History at 0x7fd0c1686920>"
      ]
     },
     "execution_count": 14,
     "metadata": {},
     "output_type": "execute_result"
    }
   ],
   "source": [
    "# Specify the model.\n",
    "if model_tree_type==1:\n",
    "    print(\"GradientBoostedTreesModel\")\n",
    "    model=tfdf.keras.GradientBoostedTreesModel()\n",
    "else:\n",
    "    print(\"RandomForestModel\")\n",
    "    model = tfdf.keras.RandomForestModel()\n",
    "\n",
    "model.fit(x=train_ds)"
   ]
  },
  {
   "cell_type": "code",
   "execution_count": 15,
   "id": "ed1044ae-7da6-4273-acac-363700e7aecb",
   "metadata": {},
   "outputs": [
    {
     "name": "stderr",
     "output_type": "stream",
     "text": [
      "2023-07-07 14:55:21.307552: I tensorflow/core/common_runtime/executor.cc:1197] [/device:CPU:0] (DEBUG INFO) Executor start aborting (this does not indicate an error and you can ignore this message): INVALID_ARGUMENT: You must feed a value for placeholder tensor 'Placeholder/_4' with dtype string and shape [561]\n",
      "\t [[{{node Placeholder/_4}}]]\n"
     ]
    },
    {
     "name": "stdout",
     "output_type": "stream",
     "text": [
      "1/1 [==============================] - 0s 411ms/step - loss: 0.0000e+00 - accuracy: 0.7005\n",
      "loss: 0.0000\n",
      "accuracy: 0.7005\n"
     ]
    }
   ],
   "source": [
    "model.compile(metrics=[metric])\n",
    "evaluation = model.evaluate(test_ds, return_dict=True)\n",
    "for name, value in evaluation.items():\n",
    "  print(f\"{name}: {value:.4f}\")"
   ]
  },
  {
   "cell_type": "markdown",
   "id": "6ba6e508-1298-4916-a8f1-af00990c0645",
   "metadata": {},
   "source": [
    "# Model Summary\n",
    "## Model structure and feature importance"
   ]
  },
  {
   "cell_type": "code",
   "execution_count": 16,
   "id": "c76bd1ff-9df4-4769-845e-851fd798c80e",
   "metadata": {},
   "outputs": [
    {
     "data": {
      "text/plain": [
       "{'SUM_SCORE': [(\"service_type\" (4; #5), 1362.6787708219756),\n",
       "  (\"brand\" (4; #1), 806.0843573779655),\n",
       "  (\"incident_type\" (4; #2), 553.010785214987),\n",
       "  (\"sla\" (4; #6), 233.9900549257477),\n",
       "  (\"product_type\" (4; #3), 206.88513010378165),\n",
       "  (\"range_open_to_close_hour\" (4; #4), 171.18086536869487)],\n",
       " 'NUM_NODES': [(\"incident_type\" (4; #2), 1053.0),\n",
       "  (\"brand\" (4; #1), 854.0),\n",
       "  (\"range_open_to_close_hour\" (4; #4), 581.0),\n",
       "  (\"sla\" (4; #6), 466.0),\n",
       "  (\"product_type\" (4; #3), 450.0),\n",
       "  (\"service_type\" (4; #5), 181.0)],\n",
       " 'INV_MEAN_MIN_DEPTH': [(\"incident_type\" (4; #2), 0.3849568498156877),\n",
       "  (\"brand\" (4; #1), 0.34223006001996),\n",
       "  (\"service_type\" (4; #5), 0.3040375450057004),\n",
       "  (\"product_type\" (4; #3), 0.2583184820129492),\n",
       "  (\"sla\" (4; #6), 0.21723119307292227),\n",
       "  (\"range_open_to_close_hour\" (4; #4), 0.21416562596709304)],\n",
       " 'NUM_AS_ROOT': [(\"service_type\" (4; #5), 69.0),\n",
       "  (\"brand\" (4; #1), 35.0),\n",
       "  (\"incident_type\" (4; #2), 31.0),\n",
       "  (\"product_type\" (4; #3), 10.0),\n",
       "  (\"range_open_to_close_hour\" (4; #4), 2.0),\n",
       "  (\"sla\" (4; #6), 1.0)]}"
      ]
     },
     "execution_count": 16,
     "metadata": {},
     "output_type": "execute_result"
    }
   ],
   "source": [
    "#model_detail=model.summary()\n",
    "model.make_inspector().variable_importances()\n",
    "# SUM_SCORE ,NUM_AS_ROOT"
   ]
  },
  {
   "cell_type": "markdown",
   "id": "047e3b09-00eb-45c0-b6b4-20f2e98ca28c",
   "metadata": {},
   "source": [
    "# Model Self Evaluation"
   ]
  },
  {
   "cell_type": "code",
   "execution_count": 17,
   "id": "2ef13536-a1f8-4595-b3ab-04494b5993e8",
   "metadata": {},
   "outputs": [
    {
     "data": {
      "text/plain": [
       "Evaluation(num_examples=None, accuracy=0.7150259017944336, loss=0.6810050010681152, rmse=None, ndcg=None, aucs=None, auuc=None, qini=None)"
      ]
     },
     "execution_count": 17,
     "metadata": {},
     "output_type": "execute_result"
    }
   ],
   "source": [
    "model.make_inspector().evaluation()"
   ]
  },
  {
   "cell_type": "markdown",
   "id": "0cadf966-6f4f-417b-8529-2ec2e64759b7",
   "metadata": {},
   "source": [
    "# Plotting the training logs"
   ]
  },
  {
   "cell_type": "code",
   "execution_count": 18,
   "id": "68a3292b-f7cc-4f0c-b491-e84206636957",
   "metadata": {},
   "outputs": [
    {
     "data": {
      "image/png": "[encoded data removed]",
      "text/plain": [
       "<Figure size 1500x500 with 2 Axes>"
      ]
     },
     "metadata": {},
     "output_type": "display_data"
    }
   ],
   "source": [
    "import matplotlib.pyplot as plt\n",
    "\n",
    "logs = model.make_inspector().training_logs()\n",
    "\n",
    "plt.figure(figsize=(15, 5))\n",
    "\n",
    "plt.subplot(1, 2, 1)\n",
    "plt.plot([log.num_trees for log in logs], [log.evaluation.accuracy for log in logs])\n",
    "plt.xlabel(\"Number of trees\")\n",
    "plt.ylabel(\"Accuracy\")\n",
    "\n",
    "plt.subplot(1, 2, 2)\n",
    "plt.plot([log.num_trees for log in logs], [log.evaluation.loss for log in logs])\n",
    "plt.xlabel(\"Number of trees\")\n",
    "plt.ylabel(\"Logloss\")\n",
    "\n",
    "plt.show()"
   ]
  },
  {
   "cell_type": "markdown",
   "id": "ca463f9d-e736-45ac-9c77-f2bdd2e36f79",
   "metadata": {},
   "source": [
    "# Plot the model"
   ]
  },
  {
   "cell_type": "code",
   "execution_count": 19,
   "id": "24e694a5-2116-441b-ab54-a256beb6ca49",
   "metadata": {},
   "outputs": [
    {
     "data": {
      "text/html": [
       "\n",
       "<script src=\"https://d3js.org/d3.v6.min.js\"></script>\n",
       "<div id=\"tree_plot_2eb764c109fd4f09ae6a3c19b9452a16\"></div>\n",
       "<script>\n",
       "/*\n",
       " * Copyright 2021 Google LLC.\n",
       " * Licensed under the Apache License, Version 2.0 (the \"License\");\n",
       " * you may not use this file except in compliance with the License.\n",
       " * You may obtain a copy of the License at\n",
       " *\n",
       " *     https://www.apache.org/licenses/LICENSE-2.0\n",
       " *\n",
       " * Unless required by applicable law or agreed to in writing, software\n",
       " * distributed under the License is distributed on an \"AS IS\" BASIS,\n",
       " * WITHOUT WARRANTIES OR CONDITIONS OF ANY KIND, either express or implied.\n",
       " * See the License for the specific language governing permissions and\n",
       " * limitations under the License.\n",
       " */\n",
       "\n",
       "/**\n",
       " *  Plotting of decision trees generated by TF-DF.\n",
       " *\n",
       " *  A tree is a recursive structure of node objects.\n",
       " *  A node contains one or more of the following components:\n",
       " *\n",
       " *    - A value: Representing the output of the node. If the node is not a leaf,\n",
       " *      the value is only present for analysis i.e. it is not used for\n",
       " *      predictions.\n",
       " *\n",
       " *    - A condition : For non-leaf nodes, the condition (also known as split)\n",
       " *      defines a binary test to branch to the positive or negative child.\n",
       " *\n",
       " *    - An explanation: Generally a plot showing the relation between the label\n",
       " *      and the condition to give insights about the effect of the condition.\n",
       " *\n",
       " *    - Two children : For non-leaf nodes, the children nodes. The first\n",
       " *      children (i.e. \"node.children[0]\") is the negative children (drawn in\n",
       " *      red). The second children is the positive one (drawn in green).\n",
       " *\n",
       " */\n",
       "\n",
       "/**\n",
       " * Plots a single decision tree into a DOM element.\n",
       " * @param {!options} options Dictionary of configurations.\n",
       " * @param {!tree} raw_tree Recursive tree structure.\n",
       " * @param {string} canvas_id Id of the output dom element.\n",
       " */\n",
       "function display_tree(options, raw_tree, canvas_id) {\n",
       "  console.log(options);\n",
       "\n",
       "  // Determine the node placement.\n",
       "  const tree_struct = d3.tree().nodeSize(\n",
       "      [options.node_y_offset, options.node_x_offset])(d3.hierarchy(raw_tree));\n",
       "\n",
       "  // Boundaries of the node placement.\n",
       "  let x_min = Infinity;\n",
       "  let x_max = -x_min;\n",
       "  let y_min = Infinity;\n",
       "  let y_max = -x_min;\n",
       "\n",
       "  tree_struct.each(d => {\n",
       "    if (d.x > x_max) x_max = d.x;\n",
       "    if (d.x < x_min) x_min = d.x;\n",
       "    if (d.y > y_max) y_max = d.y;\n",
       "    if (d.y < y_min) y_min = d.y;\n",
       "  });\n",
       "\n",
       "  // Size of the plot.\n",
       "  const width = y_max - y_min + options.node_x_size + options.margin * 2;\n",
       "  const height = x_max - x_min + options.node_y_size + options.margin * 2 +\n",
       "      options.node_y_offset - options.node_y_size;\n",
       "\n",
       "  const plot = d3.select(canvas_id);\n",
       "\n",
       "  // Tool tip\n",
       "  options.tooltip = plot.append('div')\n",
       "                        .attr('width', 100)\n",
       "                        .attr('height', 100)\n",
       "                        .style('padding', '4px')\n",
       "                        .style('background', '#fff')\n",
       "                        .style('box-shadow', '4px 4px 0px rgba(0,0,0,0.1)')\n",
       "                        .style('border', '1px solid black')\n",
       "                        .style('font-family', 'sans-serif')\n",
       "                        .style('font-size', options.font_size)\n",
       "                        .style('position', 'absolute')\n",
       "                        .style('z-index', '10')\n",
       "                        .attr('pointer-events', 'none')\n",
       "                        .style('display', 'none');\n",
       "\n",
       "  // Create canvas\n",
       "  const svg = plot.append('svg').attr('width', width).attr('height', height);\n",
       "  const graph =\n",
       "      svg.style('overflow', 'visible')\n",
       "          .append('g')\n",
       "          .attr('font-family', 'sans-serif')\n",
       "          .attr('font-size', options.font_size)\n",
       "          .attr(\n",
       "              'transform',\n",
       "              () => `translate(${options.margin},${\n",
       "                  - x_min + options.node_y_offset / 2 + options.margin})`);\n",
       "\n",
       "  // Plot bounding box.\n",
       "  if (options.show_plot_bounding_box) {\n",
       "    svg.append('rect')\n",
       "        .attr('width', width)\n",
       "        .attr('height', height)\n",
       "        .attr('fill', 'none')\n",
       "        .attr('stroke-width', 1.0)\n",
       "        .attr('stroke', 'black');\n",
       "  }\n",
       "\n",
       "  // Draw the edges.\n",
       "  display_edges(options, graph, tree_struct);\n",
       "\n",
       "  // Draw the nodes.\n",
       "  display_nodes(options, graph, tree_struct);\n",
       "}\n",
       "\n",
       "/**\n",
       " * Draw the nodes of the tree.\n",
       " * @param {!options} options Dictionary of configurations.\n",
       " * @param {!graph} graph D3 search handle containing the graph.\n",
       " * @param {!tree_struct} tree_struct Structure of the tree (node placement,\n",
       " *     data, etc.).\n",
       " */\n",
       "function display_nodes(options, graph, tree_struct) {\n",
       "  const nodes = graph.append('g')\n",
       "                    .selectAll('g')\n",
       "                    .data(tree_struct.descendants())\n",
       "                    .join('g')\n",
       "                    .attr('transform', d => `translate(${d.y},${d.x})`);\n",
       "\n",
       "  nodes.append('rect')\n",
       "      .attr('x', 0.5)\n",
       "      .attr('y', 0.5)\n",
       "      .attr('width', options.node_x_size)\n",
       "      .attr('height', options.node_y_size)\n",
       "      .attr('stroke', 'lightgrey')\n",
       "      .attr('stroke-width', 1)\n",
       "      .attr('fill', 'white')\n",
       "      .attr('y', -options.node_y_size / 2);\n",
       "\n",
       "  // Brackets on the right of condition nodes without children.\n",
       "  non_leaf_node_without_children =\n",
       "      nodes.filter(node => node.data.condition != null && node.children == null)\n",
       "          .append('g')\n",
       "          .attr('transform', `translate(${options.node_x_size},0)`);\n",
       "\n",
       "  non_leaf_node_without_children.append('path')\n",
       "      .attr('d', 'M0,0 C 10,0 0,10 10,10')\n",
       "      .attr('fill', 'none')\n",
       "      .attr('stroke-width', 1.0)\n",
       "      .attr('stroke', '#F00');\n",
       "\n",
       "  non_leaf_node_without_children.append('path')\n",
       "      .attr('d', 'M0,0 C 10,0 0,-10 10,-10')\n",
       "      .attr('fill', 'none')\n",
       "      .attr('stroke-width', 1.0)\n",
       "      .attr('stroke', '#0F0');\n",
       "\n",
       "  const node_content = nodes.append('g').attr(\n",
       "      'transform',\n",
       "      `translate(0,${options.node_padding - options.node_y_size / 2})`);\n",
       "\n",
       "  node_content.append(node => create_node_element(options, node));\n",
       "}\n",
       "\n",
       "/**\n",
       " * Creates the D3 content for a single node.\n",
       " * @param {!options} options Dictionary of configurations.\n",
       " * @param {!node} node Node to draw.\n",
       " * @return {!d3} D3 content.\n",
       " */\n",
       "function create_node_element(options, node) {\n",
       "  // Output accumulator.\n",
       "  let output = {\n",
       "    // Content to draw.\n",
       "    content: d3.create('svg:g'),\n",
       "    // Vertical offset to the next element to draw.\n",
       "    vertical_offset: 0\n",
       "  };\n",
       "\n",
       "  // Conditions.\n",
       "  if (node.data.condition != null) {\n",
       "    display_condition(options, node.data.condition, output);\n",
       "  }\n",
       "\n",
       "  // Values.\n",
       "  if (node.data.value != null) {\n",
       "    display_value(options, node.data.value, output);\n",
       "  }\n",
       "\n",
       "  // Explanations.\n",
       "  if (node.data.explanation != null) {\n",
       "    display_explanation(options, node.data.explanation, output);\n",
       "  }\n",
       "\n",
       "  return output.content.node();\n",
       "}\n",
       "\n",
       "\n",
       "/**\n",
       " * Adds a single line of text inside of a node.\n",
       " * @param {!options} options Dictionary of configurations.\n",
       " * @param {string} text Text to display.\n",
       " * @param {!output} output Output display accumulator.\n",
       " */\n",
       "function display_node_text(options, text, output) {\n",
       "  output.content.append('text')\n",
       "      .attr('x', options.node_padding)\n",
       "      .attr('y', output.vertical_offset)\n",
       "      .attr('alignment-baseline', 'hanging')\n",
       "      .text(text);\n",
       "  output.vertical_offset += 10;\n",
       "}\n",
       "\n",
       "/**\n",
       " * Adds a single line of text inside of a node with a tooltip.\n",
       " * @param {!options} options Dictionary of configurations.\n",
       " * @param {string} text Text to display.\n",
       " * @param {string} tooltip Text in the Tooltip.\n",
       " * @param {!output} output Output display accumulator.\n",
       " */\n",
       "function display_node_text_with_tooltip(options, text, tooltip, output) {\n",
       "  const item = output.content.append('text')\n",
       "                   .attr('x', options.node_padding)\n",
       "                   .attr('alignment-baseline', 'hanging')\n",
       "                   .text(text);\n",
       "\n",
       "  add_tooltip(options, item, () => tooltip);\n",
       "  output.vertical_offset += 10;\n",
       "}\n",
       "\n",
       "/**\n",
       " * Adds a tooltip to a dom element.\n",
       " * @param {!options} options Dictionary of configurations.\n",
       " * @param {!dom} target Dom element to equip with a tooltip.\n",
       " * @param {!func} get_content Generates the html content of the tooltip.\n",
       " */\n",
       "function add_tooltip(options, target, get_content) {\n",
       "  function show(d) {\n",
       "    options.tooltip.style('display', 'block');\n",
       "    options.tooltip.html(get_content());\n",
       "  }\n",
       "\n",
       "  function hide(d) {\n",
       "    options.tooltip.style('display', 'none');\n",
       "  }\n",
       "\n",
       "  function move(d) {\n",
       "    options.tooltip.style('display', 'block');\n",
       "    options.tooltip.style('left', (d.pageX + 5) + 'px');\n",
       "    options.tooltip.style('top', d.pageY + 'px');\n",
       "  }\n",
       "\n",
       "  target.on('mouseover', show);\n",
       "  target.on('mouseout', hide);\n",
       "  target.on('mousemove', move);\n",
       "}\n",
       "\n",
       "/**\n",
       " * Adds a condition inside of a node.\n",
       " * @param {!options} options Dictionary of configurations.\n",
       " * @param {!condition} condition Condition to display.\n",
       " * @param {!output} output Output display accumulator.\n",
       " */\n",
       "function display_condition(options, condition, output) {\n",
       "  threshold_format = d3.format('r');\n",
       "\n",
       "  if (condition.type === 'IS_MISSING') {\n",
       "    display_node_text(options, `${condition.attribute} is missing`, output);\n",
       "    return;\n",
       "  }\n",
       "\n",
       "  if (condition.type === 'IS_TRUE') {\n",
       "    display_node_text(options, `${condition.attribute} is true`, output);\n",
       "    return;\n",
       "  }\n",
       "\n",
       "  if (condition.type === 'NUMERICAL_IS_HIGHER_THAN') {\n",
       "    format = d3.format('r');\n",
       "    display_node_text(\n",
       "        options,\n",
       "        `${condition.attribute} >= ${threshold_format(condition.threshold)}`,\n",
       "        output);\n",
       "    return;\n",
       "  }\n",
       "\n",
       "  if (condition.type === 'CATEGORICAL_IS_IN') {\n",
       "    display_node_text_with_tooltip(\n",
       "        options, `${condition.attribute} in [...]`,\n",
       "        `${condition.attribute} in [${condition.mask}]`, output);\n",
       "    return;\n",
       "  }\n",
       "\n",
       "  if (condition.type === 'CATEGORICAL_SET_CONTAINS') {\n",
       "    display_node_text_with_tooltip(\n",
       "        options, `${condition.attribute} intersect [...]`,\n",
       "        `${condition.attribute} intersect [${condition.mask}]`, output);\n",
       "    return;\n",
       "  }\n",
       "\n",
       "  if (condition.type === 'NUMERICAL_SPARSE_OBLIQUE') {\n",
       "    display_node_text_with_tooltip(\n",
       "        options, `Sparse oblique split...`,\n",
       "        `[${condition.attributes}]*[${condition.weights}]>=${\n",
       "            threshold_format(condition.threshold)}`,\n",
       "        output);\n",
       "    return;\n",
       "  }\n",
       "\n",
       "  display_node_text(\n",
       "      options, `Non supported condition ${condition.type}`, output);\n",
       "}\n",
       "\n",
       "/**\n",
       " * Adds a value inside of a node.\n",
       " * @param {!options} options Dictionary of configurations.\n",
       " * @param {!value} value Value to display.\n",
       " * @param {!output} output Output display accumulator.\n",
       " */\n",
       "function display_value(options, value, output) {\n",
       "  if (value.type === 'PROBABILITY') {\n",
       "    const left_margin = 0;\n",
       "    const right_margin = 50;\n",
       "    const plot_width = options.node_x_size - options.node_padding * 2 -\n",
       "        left_margin - right_margin;\n",
       "\n",
       "    let cusum = Array.from(d3.cumsum(value.distribution));\n",
       "    cusum.unshift(0);\n",
       "    const distribution_plot = output.content.append('g').attr(\n",
       "        'transform', `translate(0,${output.vertical_offset + 0.5})`);\n",
       "\n",
       "    distribution_plot.selectAll('rect')\n",
       "        .data(value.distribution)\n",
       "        .join('rect')\n",
       "        .attr('height', 10)\n",
       "        .attr(\n",
       "            'x',\n",
       "            (d, i) =>\n",
       "                (cusum[i] * plot_width + left_margin + options.node_padding))\n",
       "        .attr('width', (d, i) => d * plot_width)\n",
       "        .style('fill', (d, i) => d3.schemeSet1[i]);\n",
       "\n",
       "    const num_examples =\n",
       "        output.content.append('g')\n",
       "            .attr('transform', `translate(0,${output.vertical_offset})`)\n",
       "            .append('text')\n",
       "            .attr('x', options.node_x_size - options.node_padding)\n",
       "            .attr('alignment-baseline', 'hanging')\n",
       "            .attr('text-anchor', 'end')\n",
       "            .text(`(${value.num_examples})`);\n",
       "\n",
       "    const distribution_details = d3.create('ul');\n",
       "    distribution_details.selectAll('li')\n",
       "        .data(value.distribution)\n",
       "        .join('li')\n",
       "        .append('span')\n",
       "        .text(\n",
       "            (d, i) =>\n",
       "                'class ' + i + ': ' + d3.format('.3%')(value.distribution[i]));\n",
       "\n",
       "    add_tooltip(options, distribution_plot, () => distribution_details.html());\n",
       "    add_tooltip(options, num_examples, () => 'Number of examples');\n",
       "\n",
       "    output.vertical_offset += 10;\n",
       "    return;\n",
       "  }\n",
       "\n",
       "  if (value.type === 'REGRESSION') {\n",
       "    display_node_text(\n",
       "        options,\n",
       "        'value: ' + d3.format('r')(value.value) + ` (` +\n",
       "            d3.format('.6')(value.num_examples) + `)`,\n",
       "        output);\n",
       "    return;\n",
       "  }\n",
       "\n",
       "  if (value.type === 'UPLIFT') {\n",
       "    display_node_text(\n",
       "        options,\n",
       "        'effect: ' + d3.format('r')(value.treatment_effect) + ` (` +\n",
       "            d3.format('.6')(value.num_examples) + `)`,\n",
       "        output);\n",
       "    return;\n",
       "  }\n",
       "\n",
       "  display_node_text(options, `Non supported value ${value.type}`, output);\n",
       "}\n",
       "\n",
       "/**\n",
       " * Adds an explanation inside of a node.\n",
       " * @param {!options} options Dictionary of configurations.\n",
       " * @param {!explanation} explanation Explanation to display.\n",
       " * @param {!output} output Output display accumulator.\n",
       " */\n",
       "function display_explanation(options, explanation, output) {\n",
       "  // Margin before the explanation.\n",
       "  output.vertical_offset += 10;\n",
       "\n",
       "  display_node_text(\n",
       "      options, `Non supported explanation ${explanation.type}`, output);\n",
       "}\n",
       "\n",
       "\n",
       "/**\n",
       " * Draw the edges of the tree.\n",
       " * @param {!options} options Dictionary of configurations.\n",
       " * @param {!graph} graph D3 search handle containing the graph.\n",
       " * @param {!tree_struct} tree_struct Structure of the tree (node placement,\n",
       " *     data, etc.).\n",
       " */\n",
       "function display_edges(options, graph, tree_struct) {\n",
       "  // Draw an edge between a parent and a child node with a bezier.\n",
       "  function draw_single_edge(d) {\n",
       "    return 'M' + (d.source.y + options.node_x_size) + ',' + d.source.x + ' C' +\n",
       "        (d.source.y + options.node_x_size + options.edge_rounding) + ',' +\n",
       "        d.source.x + ' ' + (d.target.y - options.edge_rounding) + ',' +\n",
       "        d.target.x + ' ' + d.target.y + ',' + d.target.x;\n",
       "  }\n",
       "\n",
       "  graph.append('g')\n",
       "      .attr('fill', 'none')\n",
       "      .attr('stroke-width', 1.2)\n",
       "      .selectAll('path')\n",
       "      .data(tree_struct.links())\n",
       "      .join('path')\n",
       "      .attr('d', draw_single_edge)\n",
       "      .attr(\n",
       "          'stroke', d => (d.target === d.source.children[0]) ? '#0F0' : '#F00');\n",
       "}\n",
       "\n",
       "display_tree({\"margin\": 10, \"node_x_size\": 160, \"node_y_size\": 28, \"node_x_offset\": 180, \"node_y_offset\": 33, \"font_size\": 10, \"edge_rounding\": 20, \"node_padding\": 2, \"show_plot_bounding_box\": false}, {\"value\": {\"type\": \"REGRESSION\", \"value\": -0.02851562574505806, \"num_examples\": 2048.0, \"standard_deviation\": 0.38311008642147637}, \"condition\": {\"type\": \"CATEGORICAL_IS_IN\", \"attribute\": \"service_type\", \"mask\": [\"<OOD>\", \"Request\"]}, \"children\": [{\"value\": {\"type\": \"REGRESSION\", \"value\": 0.16614481806755066, \"num_examples\": 511.0, \"standard_deviation\": 0.4718637486671652}, \"condition\": {\"type\": \"CATEGORICAL_IS_IN\", \"attribute\": \"brand\", \"mask\": [\"VMWare\", \"YIP\", \"Palo Alto\", \"Trend Micro\", \"DELL\", \"F5\"]}, \"children\": [{\"value\": {\"type\": \"REGRESSION\", \"value\": 0.277777761220932, \"num_examples\": 216.0, \"standard_deviation\": 0.22906142364542562}, \"condition\": {\"type\": \"CATEGORICAL_IS_IN\", \"attribute\": \"incident_type\", \"mask\": [\"General Incident\", \"Upgrade Software\", \"Configuration Change\", \"OS / Firmware\", \"Maintenance System\"]}, \"children\": [{\"value\": {\"type\": \"REGRESSION\", \"value\": 0.29200002551078796, \"num_examples\": 200.0, \"standard_deviation\": 0.13999999999999982}, \"condition\": {\"type\": \"CATEGORICAL_IS_IN\", \"attribute\": \"range_open_to_close_hour\", \"mask\": [\"soonest\", \"latest\"]}}, {\"value\": {\"type\": \"REGRESSION\", \"value\": 0.10000000149011612, \"num_examples\": 16.0, \"standard_deviation\": 0.5}, \"condition\": {\"type\": \"CATEGORICAL_IS_IN\", \"attribute\": \"sla\", \"mask\": [\"24x7 4Hrs Resolution Time\"]}}]}, {\"value\": {\"type\": \"REGRESSION\", \"value\": 0.0844067856669426, \"num_examples\": 295.0, \"standard_deviation\": 0.49847800527869285}, \"condition\": {\"type\": \"CATEGORICAL_IS_IN\", \"attribute\": \"incident_type\", \"mask\": [\"<OOD>\", \"Upgrade Software\", \"Configuration Change\", \"Maintenance System\", \"Controller/Node Failure\", \"Report\"]}, \"children\": [{\"value\": {\"type\": \"REGRESSION\", \"value\": 0.2142857164144516, \"num_examples\": 70.0, \"standard_deviation\": 0.41032590332414487}, \"condition\": {\"type\": \"CATEGORICAL_IS_IN\", \"attribute\": \"range_open_to_close_hour\", \"mask\": [\"soonest\"]}}, {\"value\": {\"type\": \"REGRESSION\", \"value\": 0.04399999976158142, \"num_examples\": 225.0, \"standard_deviation\": 0.48}, \"condition\": {\"type\": \"CATEGORICAL_IS_IN\", \"attribute\": \"sla\", \"mask\": [\"24x7 6Hrs Resolution Time\", \"8x5 4Hrs Response Time\"]}}]}]}, {\"value\": {\"type\": \"REGRESSION\", \"value\": -0.09323357790708542, \"num_examples\": 1537.0, \"standard_deviation\": 0.12895703483518714}, \"condition\": {\"type\": \"CATEGORICAL_IS_IN\", \"attribute\": \"incident_type\", \"mask\": [\"Upgrade Software\", \"Configuration Change\", \"Report\"]}, \"children\": [{\"value\": {\"type\": \"REGRESSION\", \"value\": -0.01666666753590107, \"num_examples\": 24.0, \"standard_deviation\": 0.4061164310337068}, \"condition\": {\"type\": \"CATEGORICAL_IS_IN\", \"attribute\": \"brand\", \"mask\": [\"NetApp\", \"VMWare\", \"Oracle\", \"YIP\", \"Palo Alto\", \"Veritas\", \"DELL\", \"EMC\", \"Veeam\", \"F5\", \"eUnite\", \"CIMCO-CMMS\"]}, \"children\": [{\"value\": {\"type\": \"REGRESSION\", \"value\": 0.07777778059244156, \"num_examples\": 9.0, \"standard_deviation\": 0.49690399499995325}}, {\"value\": {\"type\": \"REGRESSION\", \"value\": -0.07333333790302277, \"num_examples\": 15.0, \"standard_deviation\": 0.24944382578492943}, \"condition\": {\"type\": \"CATEGORICAL_IS_IN\", \"attribute\": \"brand\", \"mask\": [\"NetApp\", \"VMWare\", \"Oracle\", \"YIP\", \"Palo Alto\", \"Cisco\", \"Veritas\", \"DELL\", \"EMC\", \"Veeam\", \"F5\", \"eUnite\", \"CIMCO-CMMS\"]}}]}, {\"value\": {\"type\": \"REGRESSION\", \"value\": -0.09444811195135117, \"num_examples\": 1513.0, \"standard_deviation\": 0.11699172133073622}, \"condition\": {\"type\": \"CATEGORICAL_IS_IN\", \"attribute\": \"brand\", \"mask\": [\"NetApp\", \"YIP\", \"Veritas\", \"SAPB1\"]}, \"children\": [{\"value\": {\"type\": \"REGRESSION\", \"value\": -0.08746736496686935, \"num_examples\": 383.0, \"standard_deviation\": 0.17421229574529792}, \"condition\": {\"type\": \"CATEGORICAL_IS_IN\", \"attribute\": \"incident_type\", \"mask\": [\"Memory Failure\", \"Upgrade Software\", \"Configuration Change\", \"Maintenance System\", \"Power Supply Failure\", \"Other Failure\", \"Report\", \"CPU Failure\"]}}, {\"value\": {\"type\": \"REGRESSION\", \"value\": -0.09681416302919388, \"num_examples\": 1130.0, \"standard_deviation\": 0.08888850819176924}, \"condition\": {\"type\": \"CATEGORICAL_IS_IN\", \"attribute\": \"product_type\", \"mask\": [\"<OOD>\", \"Storage\", \"Access Point\"]}}]}]}]}, \"#tree_plot_2eb764c109fd4f09ae6a3c19b9452a16\")\n",
       "</script>\n"
      ],
      "text/plain": [
       "<IPython.core.display.HTML object>"
      ]
     },
     "execution_count": 19,
     "metadata": {},
     "output_type": "execute_result"
    }
   ],
   "source": [
    "tfdf.model_plotter.plot_model_in_colab(model, tree_idx=0, max_depth=3)"
   ]
  },
  {
   "cell_type": "markdown",
   "id": "74420e30-fbb5-4730-bb48-b8a3efce49ce",
   "metadata": {},
   "source": [
    "# Save Model"
   ]
  },
  {
   "cell_type": "code",
   "execution_count": 20,
   "id": "2b21d1d7-6d34-4c40-b0a2-fac22ca7097e",
   "metadata": {},
   "outputs": [
    {
     "name": "stderr",
     "output_type": "stream",
     "text": [
      "WARNING:absl:Found untraced functions such as call_get_leaves, _update_step_xla while saving (showing 2 of 2). These functions will not be directly callable after loading.\n"
     ]
    },
    {
     "name": "stdout",
     "output_type": "stream",
     "text": [
      "INFO:tensorflow:Assets written to: gs://demo-tuned-tf-incident-pongthorn/model_xgb_tf/assets\n"
     ]
    },
    {
     "name": "stderr",
     "output_type": "stream",
     "text": [
      "INFO:tensorflow:Assets written to: gs://demo-tuned-tf-incident-pongthorn/model_xgb_tf/assets\n"
     ]
    }
   ],
   "source": [
    "# https://colab.research.google.com/github/tensorflow/docs/blob/master/site/en/tutorials/distribute/save_and_load.ipynb#scrollTo=jFcuzsI94bNA\n",
    "#save_options = tf.saved_model.SaveOptions(experimental_io_device='/job:localhost')\n",
    "# model.save(model_gs_path,options=save_options)\n",
    "# model.save(model_local_path,options=save_options)\n",
    "model.save(model_gs_path)"
   ]
  },
  {
   "cell_type": "code",
   "execution_count": null,
   "id": "e62b65f7-d674-4dd9-8fb2-d7fcb2f7e355",
   "metadata": {},
   "outputs": [],
   "source": []
  }
 ],
 "metadata": {
  "environment": {
   "kernel": "python3",
   "name": "tf2-gpu.2-12.m109",
   "type": "gcloud",
   "uri": "gcr.io/deeplearning-platform-release/tf2-gpu.2-12:m109"
  },
  "kernelspec": {
   "display_name": "Python 3",
   "language": "python",
   "name": "python3"
  },
  "language_info": {
   "codemirror_mode": {
    "name": "ipython",
    "version": 3
   },
   "file_extension": ".py",
   "mimetype": "text/x-python",
   "name": "python",
   "nbconvert_exporter": "python",
   "pygments_lexer": "ipython3",
   "version": "3.10.11"
  }
 },
 "nbformat": 4,
 "nbformat_minor": 5
}
