{
 "cells": [
  {
   "cell_type": "code",
   "execution_count": 50,
   "id": "9df47983-136a-4ae5-99cb-114efcecc044",
   "metadata": {},
   "outputs": [
    {
     "name": "stdout",
     "output_type": "stream",
     "text": [
      "2.12.0\n"
     ]
    }
   ],
   "source": [
    "from google.cloud import aiplatform\n",
    "from google.cloud import bigquery\n",
    "\n",
    "import pandas as pd\n",
    "import numpy as np\n",
    "\n",
    "import math\n",
    "import os\n",
    "\n",
    "import tensorflow as tf\n",
    "print(tf.__version__)"
   ]
  },
  {
   "cell_type": "code",
   "execution_count": 55,
   "id": "b9604a8d-66ee-41f8-bca5-4ced39eadd0a",
   "metadata": {},
   "outputs": [],
   "source": [
    "model_gs_path=\"gs://demo-tuned-tf-incident-pongthorn/model_df_tf\"\n",
    "map_severity_to_class={0:4,1: 3, 2: 2, 3: 1}\n",
    "option=2\n",
    "if option==1:\n",
    "    unusedCols_unseen=['id','severity_name','open_to_close_hour','response_to_resolved_hour']\n",
    "else:\n",
    "    unusedCols_unseen=['id','severity_name','range_open_to_close_hour','range_response_to_resolved_hour']"
   ]
  },
  {
   "cell_type": "markdown",
   "id": "e6feef88-a349-497c-9845-731e4fad788c",
   "metadata": {},
   "source": [
    "# Load Model"
   ]
  },
  {
   "cell_type": "code",
   "execution_count": 56,
   "id": "83c3e87a-46fb-4294-8ad9-45cd14f2e21c",
   "metadata": {},
   "outputs": [
    {
     "name": "stderr",
     "output_type": "stream",
     "text": [
      "[INFO 23-07-01 18:09:04.6912 UTC kernel.cc:1242] Loading model from path gs://demo-tuned-tf-incident-pongthorn/model_df_tf/assets/ with prefix b7df4480ba60471f\n",
      "[INFO 23-07-01 18:09:05.3550 UTC decision_forest.cc:660] Model loaded with 76 root(s), 3878 node(s), and 7 input feature(s).\n",
      "[INFO 23-07-01 18:09:05.3559 UTC abstract_model.cc:1311] Engine \"GradientBoostedTreesGeneric\" built\n",
      "[INFO 23-07-01 18:09:05.3565 UTC kernel.cc:1074] Use fast generic engine\n"
     ]
    }
   ],
   "source": [
    "abc_model = tf.keras.models.load_model(model_gs_path)  "
   ]
  },
  {
   "cell_type": "markdown",
   "id": "eaffc009-d504-4345-8af0-75ea4100d667",
   "metadata": {},
   "source": [
    "# Make Prediction"
   ]
  },
  {
   "cell_type": "code",
   "execution_count": 60,
   "id": "c849ad7a-10f4-43b8-8421-1f907fc42b7e",
   "metadata": {},
   "outputs": [
    {
     "name": "stdout",
     "output_type": "stream",
     "text": [
      "<class 'pandas.core.frame.DataFrame'>\n",
      "RangeIndex: 25 entries, 0 to 24\n",
      "Data columns (total 8 columns):\n",
      " #   Column                     Non-Null Count  Dtype  \n",
      "---  ------                     --------------  -----  \n",
      " 0   severity_id                25 non-null     Int64  \n",
      " 1   sla                        25 non-null     object \n",
      " 2   product_type               25 non-null     object \n",
      " 3   brand                      25 non-null     object \n",
      " 4   service_type               25 non-null     object \n",
      " 5   incident_type              25 non-null     object \n",
      " 6   open_to_close_hour         25 non-null     float64\n",
      " 7   response_to_resolved_hour  25 non-null     float64\n",
      "dtypes: Int64(1), float64(2), object(5)\n",
      "memory usage: 1.7+ KB\n",
      "None\n"
     ]
    },
    {
     "data": {
      "text/html": [
       "<div>\n",
       "<style scoped>\n",
       "    .dataframe tbody tr th:only-of-type {\n",
       "        vertical-align: middle;\n",
       "    }\n",
       "\n",
       "    .dataframe tbody tr th {\n",
       "        vertical-align: top;\n",
       "    }\n",
       "\n",
       "    .dataframe thead th {\n",
       "        text-align: right;\n",
       "    }\n",
       "</style>\n",
       "<table border=\"1\" class=\"dataframe\">\n",
       "  <thead>\n",
       "    <tr style=\"text-align: right;\">\n",
       "      <th></th>\n",
       "      <th>severity_id</th>\n",
       "      <th>sla</th>\n",
       "      <th>product_type</th>\n",
       "      <th>brand</th>\n",
       "      <th>service_type</th>\n",
       "      <th>incident_type</th>\n",
       "      <th>open_to_close_hour</th>\n",
       "      <th>response_to_resolved_hour</th>\n",
       "    </tr>\n",
       "  </thead>\n",
       "  <tbody>\n",
       "    <tr>\n",
       "      <th>15</th>\n",
       "      <td>2</td>\n",
       "      <td>24x7 4Hrs Resolution Time</td>\n",
       "      <td>Server</td>\n",
       "      <td>HPE</td>\n",
       "      <td>Incident</td>\n",
       "      <td>Memory Failure</td>\n",
       "      <td>57.316667</td>\n",
       "      <td>0.000000</td>\n",
       "    </tr>\n",
       "    <tr>\n",
       "      <th>16</th>\n",
       "      <td>2</td>\n",
       "      <td>24x7 4Hrs Resolution Time</td>\n",
       "      <td>Server</td>\n",
       "      <td>HPE</td>\n",
       "      <td>Incident</td>\n",
       "      <td>General Incident</td>\n",
       "      <td>329.316667</td>\n",
       "      <td>329.300000</td>\n",
       "    </tr>\n",
       "    <tr>\n",
       "      <th>17</th>\n",
       "      <td>2</td>\n",
       "      <td>24x7 4Hrs Resolution Time</td>\n",
       "      <td>Firewall</td>\n",
       "      <td>Palo Alto</td>\n",
       "      <td>Incident</td>\n",
       "      <td>General Incident</td>\n",
       "      <td>0.600000</td>\n",
       "      <td>0.583333</td>\n",
       "    </tr>\n",
       "    <tr>\n",
       "      <th>18</th>\n",
       "      <td>2</td>\n",
       "      <td>24x7 4Hrs Resolution Time</td>\n",
       "      <td>Firewall</td>\n",
       "      <td>Palo Alto</td>\n",
       "      <td>Incident</td>\n",
       "      <td>General Incident</td>\n",
       "      <td>12.583333</td>\n",
       "      <td>12.583333</td>\n",
       "    </tr>\n",
       "    <tr>\n",
       "      <th>19</th>\n",
       "      <td>2</td>\n",
       "      <td>24x7 4Hrs Resolution Time</td>\n",
       "      <td>Software</td>\n",
       "      <td>Microsoft</td>\n",
       "      <td>Incident</td>\n",
       "      <td>Software</td>\n",
       "      <td>17.266667</td>\n",
       "      <td>15.166667</td>\n",
       "    </tr>\n",
       "    <tr>\n",
       "      <th>20</th>\n",
       "      <td>3</td>\n",
       "      <td>24x7 6Hrs Resolution Time</td>\n",
       "      <td>Software</td>\n",
       "      <td>eUnite</td>\n",
       "      <td>Incident</td>\n",
       "      <td>Software</td>\n",
       "      <td>9.750000</td>\n",
       "      <td>1.233333</td>\n",
       "    </tr>\n",
       "    <tr>\n",
       "      <th>21</th>\n",
       "      <td>3</td>\n",
       "      <td>24x7 6Hrs Resolution Time</td>\n",
       "      <td>Software</td>\n",
       "      <td>SAPB1</td>\n",
       "      <td>Request</td>\n",
       "      <td>Software</td>\n",
       "      <td>150.000000</td>\n",
       "      <td>76.366667</td>\n",
       "    </tr>\n",
       "    <tr>\n",
       "      <th>22</th>\n",
       "      <td>2</td>\n",
       "      <td>9x5 NBD 4Hrs Response Time</td>\n",
       "      <td>Server</td>\n",
       "      <td>HPE</td>\n",
       "      <td>Incident</td>\n",
       "      <td>Memory Failure</td>\n",
       "      <td>2878.000000</td>\n",
       "      <td>0.500000</td>\n",
       "    </tr>\n",
       "    <tr>\n",
       "      <th>23</th>\n",
       "      <td>2</td>\n",
       "      <td>9x5 NBD 4Hrs Response Time</td>\n",
       "      <td>Server</td>\n",
       "      <td>HPE</td>\n",
       "      <td>Incident</td>\n",
       "      <td>Memory Failure</td>\n",
       "      <td>2878.000000</td>\n",
       "      <td>0.500000</td>\n",
       "    </tr>\n",
       "    <tr>\n",
       "      <th>24</th>\n",
       "      <td>2</td>\n",
       "      <td>9x5 NBD 4Hrs Response Time</td>\n",
       "      <td>Server</td>\n",
       "      <td>HPE</td>\n",
       "      <td>Incident</td>\n",
       "      <td>General Incident</td>\n",
       "      <td>4894.666667</td>\n",
       "      <td>0.000000</td>\n",
       "    </tr>\n",
       "  </tbody>\n",
       "</table>\n",
       "</div>"
      ],
      "text/plain": [
       "    severity_id                         sla product_type      brand  \\\n",
       "15            2   24x7 4Hrs Resolution Time       Server        HPE   \n",
       "16            2   24x7 4Hrs Resolution Time       Server        HPE   \n",
       "17            2   24x7 4Hrs Resolution Time     Firewall  Palo Alto   \n",
       "18            2   24x7 4Hrs Resolution Time     Firewall  Palo Alto   \n",
       "19            2   24x7 4Hrs Resolution Time     Software  Microsoft   \n",
       "20            3   24x7 6Hrs Resolution Time     Software     eUnite   \n",
       "21            3   24x7 6Hrs Resolution Time     Software      SAPB1   \n",
       "22            2  9x5 NBD 4Hrs Response Time       Server        HPE   \n",
       "23            2  9x5 NBD 4Hrs Response Time       Server        HPE   \n",
       "24            2  9x5 NBD 4Hrs Response Time       Server        HPE   \n",
       "\n",
       "   service_type     incident_type  open_to_close_hour  \\\n",
       "15     Incident    Memory Failure           57.316667   \n",
       "16     Incident  General Incident          329.316667   \n",
       "17     Incident  General Incident            0.600000   \n",
       "18     Incident  General Incident           12.583333   \n",
       "19     Incident          Software           17.266667   \n",
       "20     Incident          Software            9.750000   \n",
       "21      Request          Software          150.000000   \n",
       "22     Incident    Memory Failure         2878.000000   \n",
       "23     Incident    Memory Failure         2878.000000   \n",
       "24     Incident  General Incident         4894.666667   \n",
       "\n",
       "    response_to_resolved_hour  \n",
       "15                   0.000000  \n",
       "16                 329.300000  \n",
       "17                   0.583333  \n",
       "18                  12.583333  \n",
       "19                  15.166667  \n",
       "20                   1.233333  \n",
       "21                  76.366667  \n",
       "22                   0.500000  \n",
       "23                   0.500000  \n",
       "24                   0.000000  "
      ]
     },
     "execution_count": 60,
     "metadata": {},
     "output_type": "execute_result"
    }
   ],
   "source": [
    "new_data_table_id=f\"{projectId}.{dataset_id}.new2_incident\"\n",
    "\n",
    "query_result=client.query(f\"SELECT * FROM {new_data_table_id}\")\n",
    "unseen=query_result.to_dataframe()\n",
    "\n",
    "unseen =unseen.drop(columns=unusedCols_unseen)\n",
    "print(unseen.info())\n",
    "unseen.tail(10)"
   ]
  },
  {
   "cell_type": "code",
   "execution_count": 61,
   "id": "a4b709a5-91c0-4e40-abd7-7fc4bc49c5f3",
   "metadata": {},
   "outputs": [
    {
     "data": {
      "text/plain": [
       "<_PrefetchDataset element_spec={'sla': TensorSpec(shape=(None,), dtype=tf.string, name=None), 'product_type': TensorSpec(shape=(None,), dtype=tf.string, name=None), 'brand': TensorSpec(shape=(None,), dtype=tf.string, name=None), 'service_type': TensorSpec(shape=(None,), dtype=tf.string, name=None), 'incident_type': TensorSpec(shape=(None,), dtype=tf.string, name=None), 'open_to_close_hour': TensorSpec(shape=(None,), dtype=tf.float64, name=None), 'response_to_resolved_hour': TensorSpec(shape=(None,), dtype=tf.float64, name=None)}>"
      ]
     },
     "execution_count": 61,
     "metadata": {},
     "output_type": "execute_result"
    }
   ],
   "source": [
    "unseen_ds= tfdf.keras.pd_dataframe_to_tf_dataset(unseen.drop(columns=['severity_id']))\n",
    "unseen_ds"
   ]
  },
  {
   "cell_type": "code",
   "execution_count": 62,
   "id": "31d90302-f84b-4266-9407-a03f1689026f",
   "metadata": {},
   "outputs": [
    {
     "name": "stdout",
     "output_type": "stream",
     "text": [
      "1/1 [==============================] - 0s 23ms/step\n",
      "[0.12458684 0.27730078 0.5568445  0.04126785] : 2 as severity#2\n",
      "[0.0561542  0.28682926 0.39496237 0.26205423] : 2 as severity#2\n",
      "[0.05830425 0.259523   0.41008484 0.27208787] : 2 as severity#2\n",
      "[0.05163502 0.25586787 0.58655477 0.10594236] : 2 as severity#2\n",
      "[0.07665343 0.09465248 0.4437611  0.3849329 ] : 2 as severity#2\n",
      "[0.04009691 0.5711386  0.34551597 0.04324858] : 1 as severity#3\n",
      "[0.03908427 0.65540355 0.26227185 0.04324043] : 1 as severity#3\n",
      "[0.03911032 0.6662627  0.25307414 0.04155282] : 1 as severity#3\n",
      "[0.04372857 0.6302673  0.28063557 0.04536868] : 1 as severity#3\n",
      "[0.83008295 0.13320114 0.02023761 0.01647828] : 0 as severity#4\n",
      "[0.8405155  0.12625903 0.01857574 0.01464964] : 0 as severity#4\n",
      "[0.03562729 0.2171825  0.7095243  0.03766594] : 2 as severity#2\n",
      "[0.04688214 0.2732623  0.60661834 0.07323733] : 2 as severity#2\n",
      "[0.05026319 0.26938713 0.5980158  0.08233388] : 2 as severity#2\n",
      "[0.04688214 0.2732623  0.60661834 0.07323733] : 2 as severity#2\n",
      "[0.03477897 0.34602848 0.56528705 0.05390549] : 2 as severity#2\n",
      "[0.03856752 0.09362654 0.7981468  0.0696592 ] : 2 as severity#2\n",
      "[0.03223865 0.0597716  0.8713027  0.03668708] : 2 as severity#2\n",
      "[0.03953383 0.06689578 0.85647315 0.03709723] : 2 as severity#2\n",
      "[0.0412074  0.10756966 0.79504824 0.05617465] : 2 as severity#2\n",
      "[0.03256995 0.7997807  0.13773002 0.02991931] : 1 as severity#3\n",
      "[0.04790004 0.29225785 0.63567466 0.02416752] : 2 as severity#2\n",
      "[0.04075688 0.21681634 0.70918787 0.03323889] : 2 as severity#2\n",
      "[0.04075688 0.21681634 0.70918787 0.03323889] : 2 as severity#2\n",
      "[0.03668913 0.3213919  0.60585946 0.0360595 ] : 2 as severity#2\n"
     ]
    },
    {
     "name": "stderr",
     "output_type": "stream",
     "text": [
      "2023-07-01 18:10:13.231427: I tensorflow/core/common_runtime/executor.cc:1197] [/device:CPU:0] (DEBUG INFO) Executor start aborting (this does not indicate an error and you can ignore this message): INVALID_ARGUMENT: You must feed a value for placeholder tensor 'Placeholder/_1' with dtype string and shape [25]\n",
      "\t [[{{node Placeholder/_1}}]]\n"
     ]
    }
   ],
   "source": [
    "predResultList=abc_model.predict(unseen_ds)\n",
    "\n",
    "for predResult in predResultList:\n",
    "    _class=tf.argmax(predResult,-1).numpy()\n",
    "    print(f\"{predResult} : {_class} as severity#{map_severity_to_class[_class]}\")   "
   ]
  },
  {
   "cell_type": "code",
   "execution_count": null,
   "id": "a6cc20c8-399b-4d0c-b82c-f9ef2c6670b6",
   "metadata": {},
   "outputs": [],
   "source": []
  }
 ],
 "metadata": {
  "environment": {
   "kernel": "python3",
   "name": "tf2-gpu.2-12.m109",
   "type": "gcloud",
   "uri": "gcr.io/deeplearning-platform-release/tf2-gpu.2-12:m109"
  },
  "kernelspec": {
   "display_name": "Python 3",
   "language": "python",
   "name": "python3"
  },
  "language_info": {
   "codemirror_mode": {
    "name": "ipython",
    "version": 3
   },
   "file_extension": ".py",
   "mimetype": "text/x-python",
   "name": "python",
   "nbconvert_exporter": "python",
   "pygments_lexer": "ipython3",
   "version": "3.10.11"
  }
 },
 "nbformat": 4,
 "nbformat_minor": 5
}
