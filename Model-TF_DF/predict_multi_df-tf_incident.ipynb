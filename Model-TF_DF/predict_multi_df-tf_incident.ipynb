{
 "cells": [
  {
   "cell_type": "code",
   "execution_count": 103,
   "id": "9df47983-136a-4ae5-99cb-114efcecc044",
   "metadata": {},
   "outputs": [
    {
     "name": "stdout",
     "output_type": "stream",
     "text": [
      "2.12.0\n",
      "1.4.0\n"
     ]
    }
   ],
   "source": [
    "from google.cloud import aiplatform\n",
    "from google.cloud import bigquery\n",
    "\n",
    "import pandas as pd\n",
    "import numpy as np\n",
    "from datetime import date,datetime,timedelta\n",
    "\n",
    "import math\n",
    "import os\n",
    "\n",
    "import tensorflow as tf\n",
    "import tensorflow_decision_forests as tfdf  # constantly registered to load model \n",
    "print(tf.__version__)\n",
    "print(tfdf.__version__)"
   ]
  },
  {
   "cell_type": "code",
   "execution_count": 104,
   "id": "b7633548-9dc9-406c-a8ec-080e7c5562f3",
   "metadata": {},
   "outputs": [],
   "source": [
    "# import functions_framework\n",
    "# @functions_framework.http\n",
    "# def xgb_tf_predict_incident_severity(request):"
   ]
  },
  {
   "cell_type": "code",
   "execution_count": 105,
   "id": "b9604a8d-66ee-41f8-bca5-4ced39eadd0a",
   "metadata": {},
   "outputs": [
    {
     "name": "stdout",
     "output_type": "stream",
     "text": [
      "gs://demo-tuned-tf-incident-pongthorn/model_tuned_xgb_tf\n"
     ]
    }
   ],
   "source": [
    "option=1\n",
    "# data unssen 01-08 July 23\n",
    "\n",
    "# best unseen\n",
    "#_model='model_xgb_tf'  # the best better unseen 75% but unseen beat train 70%\n",
    "_model='model_tuned_xgb_tf'   # the is resonable because unsseen and tune 70&\n",
    "\n",
    "#_model='model_rf_tf' \n",
    "# _model='model_tuned_rf_tf'\n",
    "\n",
    "\n",
    "\n",
    "\n",
    "model_gs_path=f\"gs://demo-tuned-tf-incident-pongthorn/{_model}\"\n",
    "print(model_gs_path)\n",
    "\n",
    "projectId=\"pongthorn\"\n",
    "dataset_id=\"SMartML\"\n",
    "\n",
    "map_severity_to_class={0:4,1: 3, 2: 2, 3: 1}\n",
    "\n",
    "if option==1:\n",
    "    unusedCols_unseen=['id','severity_name','open_to_close_hour']\n",
    "else:\n",
    "    unusedCols_unseen=['id','severity_name','range_open_to_close_hour']\n",
    "    "
   ]
  },
  {
   "cell_type": "markdown",
   "id": "e6feef88-a349-497c-9845-731e4fad788c",
   "metadata": {},
   "source": [
    "# Load Model"
   ]
  },
  {
   "cell_type": "code",
   "execution_count": 106,
   "id": "83c3e87a-46fb-4294-8ad9-45cd14f2e21c",
   "metadata": {},
   "outputs": [
    {
     "name": "stderr",
     "output_type": "stream",
     "text": [
      "[INFO 23-07-08 16:21:35.5781 UTC kernel.cc:1243] Loading model from path gs://demo-tuned-tf-incident-pongthorn/model_tuned_xgb_tf/assets/ with prefix 0a60e8fe1cef472f\n",
      "[INFO 23-07-08 16:21:36.1826 UTC decision_forest.cc:660] Model loaded with 260 root(s), 17482 node(s), and 6 input feature(s).\n",
      "[INFO 23-07-08 16:21:36.1834 UTC abstract_model.cc:1311] Engine \"GradientBoostedTreesGeneric\" built\n",
      "[INFO 23-07-08 16:21:36.1839 UTC kernel.cc:1075] Use fast generic engine\n"
     ]
    },
    {
     "name": "stdout",
     "output_type": "stream",
     "text": [
      "Model: \"gradient_boosted_trees_model_4\"\n",
      "_________________________________________________________________\n",
      " Layer (type)                Output Shape              Param #   \n",
      "=================================================================\n",
      "=================================================================\n",
      "Total params: 1\n",
      "Trainable params: 0\n",
      "Non-trainable params: 1\n",
      "_________________________________________________________________\n",
      "None\n"
     ]
    }
   ],
   "source": [
    "abc_model = tf.keras.models.load_model(model_gs_path)  \n",
    "print(abc_model.summary())\n",
    "# abc_model = tf.keras.models.load_model(model_local_path) "
   ]
  },
  {
   "cell_type": "markdown",
   "id": "eaffc009-d504-4345-8af0-75ea4100d667",
   "metadata": {},
   "source": [
    "# Make Prediction"
   ]
  },
  {
   "cell_type": "code",
   "execution_count": 107,
   "id": "c849ad7a-10f4-43b8-8421-1f907fc42b7e",
   "metadata": {},
   "outputs": [
    {
     "name": "stdout",
     "output_type": "stream",
     "text": [
      "<class 'pandas.core.frame.DataFrame'>\n",
      "RangeIndex: 80 entries, 0 to 79\n",
      "Data columns (total 7 columns):\n",
      " #   Column                    Non-Null Count  Dtype \n",
      "---  ------                    --------------  ----- \n",
      " 0   severity_id               80 non-null     Int64 \n",
      " 1   sla                       80 non-null     object\n",
      " 2   product_type              80 non-null     object\n",
      " 3   brand                     80 non-null     object\n",
      " 4   service_type              80 non-null     object\n",
      " 5   incident_type             80 non-null     object\n",
      " 6   range_open_to_close_hour  80 non-null     object\n",
      "dtypes: Int64(1), object(6)\n",
      "memory usage: 4.6+ KB\n",
      "None\n"
     ]
    },
    {
     "data": {
      "text/html": [
       "<div>\n",
       "<style scoped>\n",
       "    .dataframe tbody tr th:only-of-type {\n",
       "        vertical-align: middle;\n",
       "    }\n",
       "\n",
       "    .dataframe tbody tr th {\n",
       "        vertical-align: top;\n",
       "    }\n",
       "\n",
       "    .dataframe thead th {\n",
       "        text-align: right;\n",
       "    }\n",
       "</style>\n",
       "<table border=\"1\" class=\"dataframe\">\n",
       "  <thead>\n",
       "    <tr style=\"text-align: right;\">\n",
       "      <th></th>\n",
       "      <th>severity_id</th>\n",
       "      <th>sla</th>\n",
       "      <th>product_type</th>\n",
       "      <th>brand</th>\n",
       "      <th>service_type</th>\n",
       "      <th>incident_type</th>\n",
       "      <th>range_open_to_close_hour</th>\n",
       "    </tr>\n",
       "  </thead>\n",
       "  <tbody>\n",
       "    <tr>\n",
       "      <th>70</th>\n",
       "      <td>4</td>\n",
       "      <td>24x7 4Hrs Resolution Time</td>\n",
       "      <td>Access Point</td>\n",
       "      <td>Cisco</td>\n",
       "      <td>Request</td>\n",
       "      <td>General Incident</td>\n",
       "      <td>soonest</td>\n",
       "    </tr>\n",
       "    <tr>\n",
       "      <th>71</th>\n",
       "      <td>4</td>\n",
       "      <td>24x7 4Hrs Resolution Time</td>\n",
       "      <td>Access Point</td>\n",
       "      <td>Cisco</td>\n",
       "      <td>Request</td>\n",
       "      <td>General Incident</td>\n",
       "      <td>soonest</td>\n",
       "    </tr>\n",
       "    <tr>\n",
       "      <th>72</th>\n",
       "      <td>4</td>\n",
       "      <td>24x7 4Hrs Resolution Time</td>\n",
       "      <td>Software</td>\n",
       "      <td>Veeam</td>\n",
       "      <td>Request</td>\n",
       "      <td>Software</td>\n",
       "      <td>soonest</td>\n",
       "    </tr>\n",
       "    <tr>\n",
       "      <th>73</th>\n",
       "      <td>4</td>\n",
       "      <td>24x7 4Hrs Response Time</td>\n",
       "      <td>Storage</td>\n",
       "      <td>NetApp</td>\n",
       "      <td>Incident</td>\n",
       "      <td>General Incident</td>\n",
       "      <td>soon</td>\n",
       "    </tr>\n",
       "    <tr>\n",
       "      <th>74</th>\n",
       "      <td>4</td>\n",
       "      <td>24x7 4Hrs Resolution Time</td>\n",
       "      <td>Server</td>\n",
       "      <td>Oracle</td>\n",
       "      <td>Request</td>\n",
       "      <td>OS / Firmware</td>\n",
       "      <td>soonest</td>\n",
       "    </tr>\n",
       "    <tr>\n",
       "      <th>75</th>\n",
       "      <td>4</td>\n",
       "      <td>24x7 4Hrs Resolution Time</td>\n",
       "      <td>Server</td>\n",
       "      <td>Oracle</td>\n",
       "      <td>Request</td>\n",
       "      <td>Software</td>\n",
       "      <td>soonest</td>\n",
       "    </tr>\n",
       "    <tr>\n",
       "      <th>76</th>\n",
       "      <td>4</td>\n",
       "      <td>24x7 4Hrs Resolution Time</td>\n",
       "      <td>Server</td>\n",
       "      <td>Oracle</td>\n",
       "      <td>Request</td>\n",
       "      <td>Software</td>\n",
       "      <td>soonest</td>\n",
       "    </tr>\n",
       "    <tr>\n",
       "      <th>77</th>\n",
       "      <td>4</td>\n",
       "      <td>24x7 4Hrs Resolution Time</td>\n",
       "      <td>Software</td>\n",
       "      <td>VMWare</td>\n",
       "      <td>Request</td>\n",
       "      <td>Software</td>\n",
       "      <td>soonest</td>\n",
       "    </tr>\n",
       "    <tr>\n",
       "      <th>78</th>\n",
       "      <td>4</td>\n",
       "      <td>24x7 4Hrs Resolution Time</td>\n",
       "      <td>Software</td>\n",
       "      <td>VMWare</td>\n",
       "      <td>Request</td>\n",
       "      <td>Software</td>\n",
       "      <td>soon</td>\n",
       "    </tr>\n",
       "    <tr>\n",
       "      <th>79</th>\n",
       "      <td>4</td>\n",
       "      <td>24x7 4Hrs Response Time</td>\n",
       "      <td>Storage</td>\n",
       "      <td>Veritas</td>\n",
       "      <td>Incident</td>\n",
       "      <td>General Incident</td>\n",
       "      <td>soon</td>\n",
       "    </tr>\n",
       "  </tbody>\n",
       "</table>\n",
       "</div>"
      ],
      "text/plain": [
       "    severity_id                        sla  product_type    brand  \\\n",
       "70            4  24x7 4Hrs Resolution Time  Access Point    Cisco   \n",
       "71            4  24x7 4Hrs Resolution Time  Access Point    Cisco   \n",
       "72            4  24x7 4Hrs Resolution Time      Software    Veeam   \n",
       "73            4    24x7 4Hrs Response Time       Storage   NetApp   \n",
       "74            4  24x7 4Hrs Resolution Time        Server   Oracle   \n",
       "75            4  24x7 4Hrs Resolution Time        Server   Oracle   \n",
       "76            4  24x7 4Hrs Resolution Time        Server   Oracle   \n",
       "77            4  24x7 4Hrs Resolution Time      Software   VMWare   \n",
       "78            4  24x7 4Hrs Resolution Time      Software   VMWare   \n",
       "79            4    24x7 4Hrs Response Time       Storage  Veritas   \n",
       "\n",
       "   service_type     incident_type range_open_to_close_hour  \n",
       "70      Request  General Incident                  soonest  \n",
       "71      Request  General Incident                  soonest  \n",
       "72      Request          Software                  soonest  \n",
       "73     Incident  General Incident                     soon  \n",
       "74      Request     OS / Firmware                  soonest  \n",
       "75      Request          Software                  soonest  \n",
       "76      Request          Software                  soonest  \n",
       "77      Request          Software                  soonest  \n",
       "78      Request          Software                     soon  \n",
       "79     Incident  General Incident                     soon  "
      ]
     },
     "execution_count": 107,
     "metadata": {},
     "output_type": "execute_result"
    }
   ],
   "source": [
    "client = bigquery.Client(project=projectId)\n",
    "new_data_table_id=f\"{projectId}.{dataset_id}.new2_incident\"\n",
    "\n",
    "query_result=client.query(f\"SELECT * FROM {new_data_table_id}\")\n",
    "df=query_result.to_dataframe()\n",
    "\n",
    "unseen =df.drop(columns=unusedCols_unseen)\n",
    "print(unseen.info())\n",
    "unseen.tail(10)"
   ]
  },
  {
   "cell_type": "code",
   "execution_count": 108,
   "id": "a4b709a5-91c0-4e40-abd7-7fc4bc49c5f3",
   "metadata": {},
   "outputs": [
    {
     "name": "stdout",
     "output_type": "stream",
     "text": [
      "<_PrefetchDataset element_spec={'sla': TensorSpec(shape=(None,), dtype=tf.string, name=None), 'product_type': TensorSpec(shape=(None,), dtype=tf.string, name=None), 'brand': TensorSpec(shape=(None,), dtype=tf.string, name=None), 'service_type': TensorSpec(shape=(None,), dtype=tf.string, name=None), 'incident_type': TensorSpec(shape=(None,), dtype=tf.string, name=None), 'range_open_to_close_hour': TensorSpec(shape=(None,), dtype=tf.string, name=None)}>\n"
     ]
    }
   ],
   "source": [
    "unseen_ds= tfdf.keras.pd_dataframe_to_tf_dataset(unseen.drop(columns=['severity_id']))\n",
    "print(unseen_ds)"
   ]
  },
  {
   "cell_type": "code",
   "execution_count": 109,
   "id": "31d90302-f84b-4266-9407-a03f1689026f",
   "metadata": {},
   "outputs": [
    {
     "name": "stdout",
     "output_type": "stream",
     "text": [
      "1/1 [==============================] - 0s 70ms/step\n",
      "[0.01799557 0.09285075 0.8145847  0.074569  ] : 2 as severity#2\n",
      "[0.01832141 0.06919935 0.84633416 0.06614505] : 2 as severity#2\n",
      "[0.01832141 0.06919935 0.84633416 0.06614505] : 2 as severity#2\n",
      "[0.01832141 0.06919935 0.84633416 0.06614505] : 2 as severity#2\n",
      "[0.01832141 0.06919935 0.84633416 0.06614505] : 2 as severity#2\n",
      "[0.01832141 0.06919935 0.84633416 0.06614505] : 2 as severity#2\n",
      "[0.01832141 0.06919935 0.84633416 0.06614505] : 2 as severity#2\n",
      "[0.01832141 0.06919935 0.84633416 0.06614505] : 2 as severity#2\n",
      "[0.01678087 0.04709776 0.9200242  0.01609717] : 2 as severity#2\n",
      "[0.01799557 0.09285075 0.8145847  0.074569  ] : 2 as severity#2\n",
      "[0.01832141 0.06919935 0.84633416 0.06614505] : 2 as severity#2\n",
      "[0.01412469 0.05813367 0.9156004  0.01214121] : 2 as severity#2\n",
      "[0.03391875 0.17696662 0.7378639  0.05125079] : 2 as severity#2\n",
      "[0.01617492 0.05836035 0.9068268  0.01863783] : 2 as severity#2\n",
      "[0.01817565 0.06535953 0.8925816  0.02388329] : 2 as severity#2\n",
      "[0.01489045 0.12529379 0.8457708  0.01404498] : 2 as severity#2\n",
      "[0.01489045 0.12529379 0.8457708  0.01404498] : 2 as severity#2\n",
      "[0.01413639 0.15079726 0.8215684  0.01349789] : 2 as severity#2\n",
      "[0.01489045 0.12529379 0.8457708  0.01404498] : 2 as severity#2\n",
      "[0.16961956 0.67463803 0.1398264  0.01591599] : 1 as severity#3\n",
      "[0.04071036 0.2143106  0.71473193 0.03024709] : 2 as severity#2\n",
      "[0.04071036 0.2143106  0.71473193 0.03024709] : 2 as severity#2\n",
      "[0.02796049 0.16657846 0.79476273 0.0106984 ] : 2 as severity#2\n",
      "[0.0087591  0.06220292 0.9185877  0.01045033] : 2 as severity#2\n",
      "[0.02478976 0.16518332 0.7892074  0.02081965] : 2 as severity#2\n",
      "[0.01597054 0.08845513 0.84864885 0.04692553] : 2 as severity#2\n",
      "[0.01026393 0.954036   0.02749651 0.00820359] : 1 as severity#3\n",
      "[0.01457932 0.37259454 0.5988643  0.01396181] : 2 as severity#2\n",
      "[0.01374994 0.05550226 0.9019301  0.02881768] : 2 as severity#2\n",
      "[0.01374994 0.05550226 0.9019301  0.02881768] : 2 as severity#2\n",
      "[0.01374994 0.05550226 0.9019301  0.02881768] : 2 as severity#2\n",
      "[0.01374994 0.05550226 0.9019301  0.02881768] : 2 as severity#2\n",
      "[0.5014771  0.3710552  0.09594066 0.03152702] : 0 as severity#4\n",
      "[0.52816385 0.36730388 0.05616683 0.04836543] : 0 as severity#4\n",
      "[0.01982278 0.073938   0.8832544  0.02298477] : 2 as severity#2\n",
      "[0.6678812  0.22186647 0.0783761  0.03187622] : 0 as severity#4\n",
      "[0.01523343 0.7762428  0.17119707 0.03732674] : 1 as severity#3\n",
      "[0.06715173 0.66503644 0.23912452 0.02868731] : 1 as severity#3\n",
      "[0.03767971 0.77335584 0.16943672 0.01952782] : 1 as severity#3\n",
      "[0.0224672 0.3864057 0.5680162 0.023111 ] : 2 as severity#2\n",
      "[0.03214455 0.1661606  0.36981717 0.4318776 ] : 3 as severity#1\n",
      "[0.03403791 0.25226942 0.41844237 0.2952503 ] : 2 as severity#2\n",
      "[0.01669468 0.7118509  0.22889507 0.04255936] : 1 as severity#3\n",
      "[0.02057302 0.18613195 0.7651531  0.02814186] : 2 as severity#2\n",
      "[0.04025952 0.23656757 0.7051073  0.01806573] : 2 as severity#2\n",
      "[0.02017697 0.47505128 0.48068658 0.02408514] : 2 as severity#2\n",
      "[0.02017697 0.47505128 0.48068658 0.02408514] : 2 as severity#2\n",
      "[0.18524928 0.72154385 0.07241845 0.02078835] : 1 as severity#3\n",
      "[0.01376616 0.90287554 0.07208042 0.01127788] : 1 as severity#3\n",
      "[0.01026393 0.954036   0.02749651 0.00820359] : 1 as severity#3\n",
      "[0.09757041 0.6322594  0.2422504  0.02791972] : 1 as severity#3\n",
      "[0.95675665 0.02971691 0.00875852 0.00476787] : 0 as severity#4\n",
      "[0.5801515  0.30948624 0.08137075 0.02899145] : 0 as severity#4\n",
      "[0.2796818  0.68471074 0.02220499 0.01340247] : 1 as severity#3\n",
      "[0.5801515  0.30948624 0.08137075 0.02899145] : 0 as severity#4\n",
      "[0.5801515  0.30948624 0.08137075 0.02899145] : 0 as severity#4\n",
      "[0.5801515  0.30948624 0.08137075 0.02899145] : 0 as severity#4\n",
      "[0.5801515  0.30948624 0.08137075 0.02899145] : 0 as severity#4\n",
      "[0.5801515  0.30948624 0.08137075 0.02899145] : 0 as severity#4\n",
      "[0.5801515  0.30948624 0.08137075 0.02899145] : 0 as severity#4\n",
      "[0.5801515  0.30948624 0.08137075 0.02899145] : 0 as severity#4\n",
      "[0.5801515  0.30948624 0.08137075 0.02899145] : 0 as severity#4\n",
      "[0.5801515  0.30948624 0.08137075 0.02899145] : 0 as severity#4\n",
      "[0.5801515  0.30948624 0.08137075 0.02899145] : 0 as severity#4\n",
      "[0.5801515  0.30948624 0.08137075 0.02899145] : 0 as severity#4\n",
      "[0.02180557 0.27197716 0.6856951  0.02052216] : 2 as severity#2\n",
      "[0.5801515  0.30948624 0.08137075 0.02899145] : 0 as severity#4\n",
      "[0.02145451 0.20074655 0.7393314  0.03846743] : 2 as severity#2\n",
      "[0.02180557 0.27197716 0.6856951  0.02052216] : 2 as severity#2\n",
      "[0.02145451 0.20074655 0.7393314  0.03846743] : 2 as severity#2\n",
      "[0.5801515  0.30948624 0.08137075 0.02899145] : 0 as severity#4\n",
      "[0.5801515  0.30948624 0.08137075 0.02899145] : 0 as severity#4\n",
      "[0.13453186 0.61885524 0.20206268 0.04455021] : 1 as severity#3\n",
      "[0.02258852 0.72754246 0.2323817  0.01748732] : 1 as severity#3\n",
      "[0.09900139 0.157663   0.72629315 0.01704249] : 2 as severity#2\n",
      "[0.04388919 0.13420638 0.81015676 0.01174766] : 2 as severity#2\n",
      "[0.04388919 0.13420638 0.81015676 0.01174766] : 2 as severity#2\n",
      "[0.6569954  0.14297064 0.17405707 0.02597676] : 0 as severity#4\n",
      "[0.716809   0.19542818 0.07135145 0.01641144] : 0 as severity#4\n",
      "[0.03924529 0.43807206 0.47457942 0.0481033 ] : 2 as severity#2\n"
     ]
    },
    {
     "name": "stderr",
     "output_type": "stream",
     "text": [
      "2023-07-08 16:21:39.634215: I tensorflow/core/common_runtime/executor.cc:1197] [/device:CPU:0] (DEBUG INFO) Executor start aborting (this does not indicate an error and you can ignore this message): INVALID_ARGUMENT: You must feed a value for placeholder tensor 'Placeholder/_4' with dtype string and shape [80]\n",
      "\t [[{{node Placeholder/_4}}]]\n"
     ]
    }
   ],
   "source": [
    "predResultList=abc_model.predict(unseen_ds)\n",
    "predServerityIDList=[]\n",
    "for predResult in predResultList:\n",
    "    _class=tf.argmax(predResult,-1).numpy()\n",
    "    pred_seveirty_id=map_severity_to_class[_class]\n",
    "    predServerityIDList.append(pred_seveirty_id)\n",
    "    print(f\"{predResult} : {_class} as severity#{pred_seveirty_id}\")\n",
    "    \n",
    "dfPred=pd.DataFrame(data=predServerityIDList,columns=[\"pred_severity_id\"])   \n",
    "df=pd.concat([dfPred,df],axis=1)\n",
    "# df"
   ]
  },
  {
   "cell_type": "markdown",
   "id": "767ac965-914f-4ca8-99f4-33f25079bed1",
   "metadata": {},
   "source": [
    "# Evaluate model"
   ]
  },
  {
   "cell_type": "code",
   "execution_count": 111,
   "id": "06828323-74af-44fb-b261-aade71784b68",
   "metadata": {},
   "outputs": [
    {
     "name": "stdout",
     "output_type": "stream",
     "text": [
      "          pred-1  pred-2  pred-3  pred-4\n",
      "actual-1       0       0       0       0\n",
      "actual-2       0      30       2       0\n",
      "actual-3       1       7       8       3\n",
      "actual-4       0       8       3      18\n",
      "              precision    recall  f1-score   support\n",
      "\n",
      "           1       0.00      0.00      0.00         0\n",
      "           2       0.67      0.94      0.78        32\n",
      "           3       0.62      0.42      0.50        19\n",
      "           4       0.86      0.62      0.72        29\n",
      "\n",
      "    accuracy                           0.70        80\n",
      "   macro avg       0.53      0.49      0.50        80\n",
      "weighted avg       0.72      0.70      0.69        80\n",
      "\n"
     ]
    },
    {
     "name": "stderr",
     "output_type": "stream",
     "text": [
      "/opt/conda/lib/python3.10/site-packages/sklearn/metrics/_classification.py:1344: UndefinedMetricWarning: Recall and F-score are ill-defined and being set to 0.0 in labels with no true samples. Use `zero_division` parameter to control this behavior.\n",
      "  _warn_prf(average, modifier, msg_start, len(result))\n",
      "/opt/conda/lib/python3.10/site-packages/sklearn/metrics/_classification.py:1344: UndefinedMetricWarning: Recall and F-score are ill-defined and being set to 0.0 in labels with no true samples. Use `zero_division` parameter to control this behavior.\n",
      "  _warn_prf(average, modifier, msg_start, len(result))\n",
      "/opt/conda/lib/python3.10/site-packages/sklearn/metrics/_classification.py:1344: UndefinedMetricWarning: Recall and F-score are ill-defined and being set to 0.0 in labels with no true samples. Use `zero_division` parameter to control this behavior.\n",
      "  _warn_prf(average, modifier, msg_start, len(result))\n"
     ]
    }
   ],
   "source": [
    "from sklearn.metrics import confusion_matrix,classification_report\n",
    "className=list(set().union(list(df['pred_severity_id'].unique()),list(df['severity_id'].unique())))\n",
    "className\n",
    "actualClass=[  f'actual-{x}' for x in  className]\n",
    "predictedlClass=[  f'pred-{x}' for x in className]\n",
    "y_true=list(df['severity_id'])\n",
    "y_pred=list(df['pred_severity_id'])\n",
    "cnf_matrix = confusion_matrix(y_true,y_pred)\n",
    "cnf_matrix\n",
    "\n",
    "# #index=actual , column=prediction\n",
    "cm_df = pd.DataFrame(cnf_matrix,\n",
    "                     index = actualClass, \n",
    "                     columns = predictedlClass)\n",
    "print(cm_df)\n",
    "print(classification_report(y_true, y_pred, labels=className))"
   ]
  },
  {
   "cell_type": "markdown",
   "id": "e98ac483-bdf4-4060-b394-95ae66b01286",
   "metadata": {},
   "source": [
    "# Write Prediction Result to BQ"
   ]
  },
  {
   "cell_type": "code",
   "execution_count": 112,
   "id": "b18455cc-545f-424b-9640-37eb84b4dad2",
   "metadata": {},
   "outputs": [
    {
     "name": "stdout",
     "output_type": "stream",
     "text": [
      "      id  severity_id  pred_severity_id        prediction_datetime\n",
      "0   2766            2                 2 2023-07-08 16:22:04.497444\n",
      "1   3107            2                 2 2023-07-08 16:22:04.497444\n",
      "2   3105            2                 2 2023-07-08 16:22:04.497444\n",
      "3   3104            2                 2 2023-07-08 16:22:04.497444\n",
      "4   3103            2                 2 2023-07-08 16:22:04.497444\n",
      "..   ...          ...               ...                        ...\n",
      "75  3094            4                 2 2023-07-08 16:22:04.497444\n",
      "76  3093            4                 2 2023-07-08 16:22:04.497444\n",
      "77  3053            4                 4 2023-07-08 16:22:04.497444\n",
      "78  3052            4                 4 2023-07-08 16:22:04.497444\n",
      "79  3029            4                 2 2023-07-08 16:22:04.497444\n",
      "\n",
      "[80 rows x 4 columns]\n"
     ]
    }
   ],
   "source": [
    "df=df[['id','severity_id','pred_severity_id']]\n",
    "df['prediction_datetime']=datetime.now()\n",
    "print(df)"
   ]
  },
  {
   "cell_type": "code",
   "execution_count": null,
   "id": "7a466acd-b50a-44c0-85fe-4a4d07afd09c",
   "metadata": {},
   "outputs": [],
   "source": []
  },
  {
   "cell_type": "code",
   "execution_count": 113,
   "id": "d6d6b712-df15-4cc4-8fa5-fef554725ee1",
   "metadata": {},
   "outputs": [
    {
     "name": "stdout",
     "output_type": "stream",
     "text": [
      "Predict Result Table pongthorn.SMartML.new2_result_prediction_incident already exists.\n"
     ]
    }
   ],
   "source": [
    "predictResult_table_id=f\"{projectId}.{dataset_id}.new2_result_prediction_incident\"\n",
    "\n",
    "try:\n",
    "    client.get_table(predictResult_table_id)  # Make an API request.\n",
    "    print(\"Predict Result Table {} already exists.\".format(predictResult_table_id))\n",
    "except Exception as ex:\n",
    "    schema = [\n",
    "    bigquery.SchemaField(\"id\", \"INTEGER\", mode=\"REQUIRED\"),\n",
    "    bigquery.SchemaField(\"severity_id\", \"INTEGER\", mode=\"REQUIRED\"),\n",
    "    bigquery.SchemaField(\"pred_severity_id\", \"INTEGER\", mode=\"REQUIRED\"),       \n",
    "    bigquery.SchemaField(\"prediction_datetime\", \"DATETIME\", mode=\"REQUIRED\") \n",
    "    ]\n",
    "\n",
    "    table = bigquery.Table(predictResult_table_id,schema=schema)\n",
    "    # table.time_partitioning = bigquery.TimePartitioning(\n",
    "    # type_=bigquery.TimePartitioningType.DAY,field=\"prediction_item_date\")\n",
    "    \n",
    "    table = client.create_table(table)  # Make an API request.\n",
    "    \n",
    "    print(\n",
    "        \"Created table {}.{}.{}\".format(table.project, table.dataset_id, table.table_id)\n",
    "    )"
   ]
  },
  {
   "cell_type": "code",
   "execution_count": 114,
   "id": "690bc079-2458-42b7-8343-30114abb4435",
   "metadata": {},
   "outputs": [
    {
     "name": "stdout",
     "output_type": "stream",
     "text": [
      "Total Prediction ML  80 Imported bigquery successfully\n"
     ]
    }
   ],
   "source": [
    "def loadDataFrameToBQ():\n",
    "    # WRITE_TRUNCATE , WRITE_APPEND\n",
    "    try:\n",
    "        job_config = bigquery.LoadJobConfig(\n",
    "            write_disposition=\"WRITE_TRUNCATE\",\n",
    "        )\n",
    "\n",
    "        job = client.load_table_from_dataframe(\n",
    "            df, predictResult_table_id, job_config=job_config\n",
    "        )\n",
    "        job.result()  # Wait for the job to complete.\n",
    "        print(\"Total Prediction ML \", len(df), \"Imported bigquery successfully\")\n",
    "\n",
    "    except BadRequest as e:\n",
    "        print(\"Bigquery Error\\n\")\n",
    "        for e in job.errors:\n",
    "            print('ERROR: {}'.format(e['message']))\n",
    "\n",
    "try:\n",
    "    loadDataFrameToBQ()\n",
    "except Exception as ex:\n",
    "    raise ex"
   ]
  },
  {
   "cell_type": "code",
   "execution_count": null,
   "id": "293e9a0a-85c3-46c3-8298-2271d8b462f7",
   "metadata": {},
   "outputs": [],
   "source": [
    "# return 'All incidents has been predicted completely.'"
   ]
  }
 ],
 "metadata": {
  "environment": {
   "kernel": "python3",
   "name": "tf2-gpu.2-12.m109",
   "type": "gcloud",
   "uri": "gcr.io/deeplearning-platform-release/tf2-gpu.2-12:m109"
  },
  "kernelspec": {
   "display_name": "Python 3",
   "language": "python",
   "name": "python3"
  },
  "language_info": {
   "codemirror_mode": {
    "name": "ipython",
    "version": 3
   },
   "file_extension": ".py",
   "mimetype": "text/x-python",
   "name": "python",
   "nbconvert_exporter": "python",
   "pygments_lexer": "ipython3",
   "version": "3.10.11"
  }
 },
 "nbformat": 4,
 "nbformat_minor": 5
}
