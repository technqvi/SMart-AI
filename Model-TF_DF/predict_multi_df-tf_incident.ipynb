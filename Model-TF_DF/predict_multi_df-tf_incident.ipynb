{
 "cells": [
  {
   "cell_type": "code",
   "execution_count": 1,
   "id": "9df47983-136a-4ae5-99cb-114efcecc044",
   "metadata": {},
   "outputs": [
    {
     "name": "stderr",
     "output_type": "stream",
     "text": [
      "2023-07-06 11:16:16.417693: I tensorflow/core/platform/cpu_feature_guard.cc:182] This TensorFlow binary is optimized to use available CPU instructions in performance-critical operations.\n",
      "To enable the following instructions: AVX2 FMA, in other operations, rebuild TensorFlow with the appropriate compiler flags.\n",
      "/opt/conda/lib/python3.10/site-packages/tensorflow_io/python/ops/__init__.py:98: UserWarning: unable to load libtensorflow_io_plugins.so: unable to open file: libtensorflow_io_plugins.so, from paths: ['/opt/conda/lib/python3.10/site-packages/tensorflow_io/python/ops/libtensorflow_io_plugins.so']\n",
      "caused by: ['/opt/conda/lib/python3.10/site-packages/tensorflow_io/python/ops/libtensorflow_io_plugins.so: undefined symbol: _ZN3tsl6StatusC1EN10tensorflow5error4CodeESt17basic_string_viewIcSt11char_traitsIcEENS_14SourceLocationE']\n",
      "  warnings.warn(f\"unable to load libtensorflow_io_plugins.so: {e}\")\n",
      "/opt/conda/lib/python3.10/site-packages/tensorflow_io/python/ops/__init__.py:104: UserWarning: file system plugins are not loaded: unable to open file: libtensorflow_io.so, from paths: ['/opt/conda/lib/python3.10/site-packages/tensorflow_io/python/ops/libtensorflow_io.so']\n",
      "caused by: ['/opt/conda/lib/python3.10/site-packages/tensorflow_io/python/ops/libtensorflow_io.so: undefined symbol: _ZTVN10tensorflow13GcsFileSystemE']\n",
      "  warnings.warn(f\"file system plugins are not loaded: {e}\")\n"
     ]
    },
    {
     "name": "stdout",
     "output_type": "stream",
     "text": [
      "2.12.0\n",
      "1.4.0\n"
     ]
    }
   ],
   "source": [
    "from google.cloud import aiplatform\n",
    "from google.cloud import bigquery\n",
    "\n",
    "import pandas as pd\n",
    "import numpy as np\n",
    "\n",
    "import math\n",
    "import os\n",
    "\n",
    "import tensorflow as tf\n",
    "import tensorflow_decision_forests as tfdf  # constantly registered to load model \n",
    "print(tf.__version__)\n",
    "print(tfdf.__version__)"
   ]
  },
  {
   "cell_type": "code",
   "execution_count": 20,
   "id": "b9604a8d-66ee-41f8-bca5-4ced39eadd0a",
   "metadata": {},
   "outputs": [
    {
     "name": "stdout",
     "output_type": "stream",
     "text": [
      "gs://demo-tuned-tf-incident-pongthorn/model_rf_tf\n"
     ]
    }
   ],
   "source": [
    "model_tree_type=2 # 1= xgboost  2-random forest\n",
    "option=2\n",
    "\n",
    "if model_tree_type==1:\n",
    "    _model='model_xgb_tf'\n",
    "else:\n",
    "     _model='model_rf_tf'\n",
    "\n",
    "model_gs_path=f\"gs://demo-tuned-tf-incident-pongthorn/{_model}\"\n",
    "print(model_gs_path)\n",
    "\n",
    "projectId=\"pongthorn\"\n",
    "dataset_id=\"SMartML\"\n",
    "\n",
    "map_severity_to_class={0:4,1: 3, 2: 2, 3: 1}\n",
    "\n",
    "if option==1:\n",
    "    unusedCols_unseen=['id','severity_name','open_to_close_hour']\n",
    "else:\n",
    "    unusedCols_unseen=['id','severity_name','range_open_to_close_hour']\n",
    "    "
   ]
  },
  {
   "cell_type": "markdown",
   "id": "e6feef88-a349-497c-9845-731e4fad788c",
   "metadata": {},
   "source": [
    "# Load Model"
   ]
  },
  {
   "cell_type": "code",
   "execution_count": 21,
   "id": "83c3e87a-46fb-4294-8ad9-45cd14f2e21c",
   "metadata": {},
   "outputs": [
    {
     "name": "stderr",
     "output_type": "stream",
     "text": [
      "[INFO 23-07-06 11:20:11.0687 UTC kernel.cc:1243] Loading model from path gs://demo-tuned-tf-incident-pongthorn/model_rf_tf/assets/ with prefix e3168b6d1bdc44ce\n",
      "[INFO 23-07-06 11:20:11.8151 UTC decision_forest.cc:660] Model loaded with 300 root(s), 140518 node(s), and 6 input feature(s).\n",
      "[INFO 23-07-06 11:20:11.8160 UTC abstract_model.cc:1311] Engine \"RandomForestGeneric\" built\n",
      "[INFO 23-07-06 11:20:11.8165 UTC kernel.cc:1075] Use fast generic engine\n"
     ]
    },
    {
     "name": "stdout",
     "output_type": "stream",
     "text": [
      "Model: \"random_forest_model\"\n",
      "_________________________________________________________________\n",
      " Layer (type)                Output Shape              Param #   \n",
      "=================================================================\n",
      "=================================================================\n",
      "Total params: 1\n",
      "Trainable params: 0\n",
      "Non-trainable params: 1\n",
      "_________________________________________________________________\n",
      "None\n"
     ]
    }
   ],
   "source": [
    "abc_model = tf.keras.models.load_model(model_gs_path)  \n",
    "print(abc_model.summary())\n",
    "# abc_model = tf.keras.models.load_model(model_local_path) "
   ]
  },
  {
   "cell_type": "markdown",
   "id": "eaffc009-d504-4345-8af0-75ea4100d667",
   "metadata": {},
   "source": [
    "# Make Prediction"
   ]
  },
  {
   "cell_type": "code",
   "execution_count": 22,
   "id": "c849ad7a-10f4-43b8-8421-1f907fc42b7e",
   "metadata": {},
   "outputs": [
    {
     "name": "stdout",
     "output_type": "stream",
     "text": [
      "<class 'pandas.core.frame.DataFrame'>\n",
      "RangeIndex: 17 entries, 0 to 16\n",
      "Data columns (total 7 columns):\n",
      " #   Column              Non-Null Count  Dtype  \n",
      "---  ------              --------------  -----  \n",
      " 0   severity_id         17 non-null     Int64  \n",
      " 1   sla                 17 non-null     object \n",
      " 2   product_type        17 non-null     object \n",
      " 3   brand               17 non-null     object \n",
      " 4   service_type        17 non-null     object \n",
      " 5   incident_type       17 non-null     object \n",
      " 6   open_to_close_hour  17 non-null     float64\n",
      "dtypes: Int64(1), float64(1), object(5)\n",
      "memory usage: 1.1+ KB\n",
      "None\n"
     ]
    },
    {
     "data": {
      "text/html": [
       "<div>\n",
       "<style scoped>\n",
       "    .dataframe tbody tr th:only-of-type {\n",
       "        vertical-align: middle;\n",
       "    }\n",
       "\n",
       "    .dataframe tbody tr th {\n",
       "        vertical-align: top;\n",
       "    }\n",
       "\n",
       "    .dataframe thead th {\n",
       "        text-align: right;\n",
       "    }\n",
       "</style>\n",
       "<table border=\"1\" class=\"dataframe\">\n",
       "  <thead>\n",
       "    <tr style=\"text-align: right;\">\n",
       "      <th></th>\n",
       "      <th>severity_id</th>\n",
       "      <th>sla</th>\n",
       "      <th>product_type</th>\n",
       "      <th>brand</th>\n",
       "      <th>service_type</th>\n",
       "      <th>incident_type</th>\n",
       "      <th>open_to_close_hour</th>\n",
       "    </tr>\n",
       "  </thead>\n",
       "  <tbody>\n",
       "    <tr>\n",
       "      <th>7</th>\n",
       "      <td>3</td>\n",
       "      <td>24x7 4Hrs Response Time</td>\n",
       "      <td>Storage</td>\n",
       "      <td>NetApp</td>\n",
       "      <td>Incident</td>\n",
       "      <td>Controller/Node Failure</td>\n",
       "      <td>34.250000</td>\n",
       "    </tr>\n",
       "    <tr>\n",
       "      <th>8</th>\n",
       "      <td>3</td>\n",
       "      <td>24x7 4Hrs Resolution Time</td>\n",
       "      <td>Storage</td>\n",
       "      <td>NetApp</td>\n",
       "      <td>Incident</td>\n",
       "      <td>Controller/Node Failure</td>\n",
       "      <td>34.250000</td>\n",
       "    </tr>\n",
       "    <tr>\n",
       "      <th>9</th>\n",
       "      <td>3</td>\n",
       "      <td>24x7 4Hrs Resolution Time</td>\n",
       "      <td>Storage</td>\n",
       "      <td>NetApp</td>\n",
       "      <td>Incident</td>\n",
       "      <td>Hard Disk Drive Failure</td>\n",
       "      <td>24.500000</td>\n",
       "    </tr>\n",
       "    <tr>\n",
       "      <th>10</th>\n",
       "      <td>3</td>\n",
       "      <td>24x7 4Hrs Response Time</td>\n",
       "      <td>Storage</td>\n",
       "      <td>NetApp</td>\n",
       "      <td>Incident</td>\n",
       "      <td>Hard Disk Drive Failure</td>\n",
       "      <td>97.500000</td>\n",
       "    </tr>\n",
       "    <tr>\n",
       "      <th>11</th>\n",
       "      <td>4</td>\n",
       "      <td>24x7 4Hrs Response Time</td>\n",
       "      <td>Storage</td>\n",
       "      <td>NetApp</td>\n",
       "      <td>Incident</td>\n",
       "      <td>General Incident</td>\n",
       "      <td>89.433333</td>\n",
       "    </tr>\n",
       "    <tr>\n",
       "      <th>12</th>\n",
       "      <td>3</td>\n",
       "      <td>24x7 4Hrs Response Time</td>\n",
       "      <td>Security</td>\n",
       "      <td>Trend Micro</td>\n",
       "      <td>Incident</td>\n",
       "      <td>Upgrade Software</td>\n",
       "      <td>59.000000</td>\n",
       "    </tr>\n",
       "    <tr>\n",
       "      <th>13</th>\n",
       "      <td>3</td>\n",
       "      <td>24x7 4Hrs Response Time</td>\n",
       "      <td>Software</td>\n",
       "      <td>VMWare</td>\n",
       "      <td>Incident</td>\n",
       "      <td>General Incident</td>\n",
       "      <td>2.300000</td>\n",
       "    </tr>\n",
       "    <tr>\n",
       "      <th>14</th>\n",
       "      <td>3</td>\n",
       "      <td>24x7 4Hrs Response Time</td>\n",
       "      <td>Software</td>\n",
       "      <td>VMWare</td>\n",
       "      <td>Incident</td>\n",
       "      <td>General Incident</td>\n",
       "      <td>1.233333</td>\n",
       "    </tr>\n",
       "    <tr>\n",
       "      <th>15</th>\n",
       "      <td>3</td>\n",
       "      <td>24x7 6Hrs Resolution Time</td>\n",
       "      <td>Software</td>\n",
       "      <td>eUnite</td>\n",
       "      <td>Incident</td>\n",
       "      <td>Software</td>\n",
       "      <td>6.316667</td>\n",
       "    </tr>\n",
       "    <tr>\n",
       "      <th>16</th>\n",
       "      <td>2</td>\n",
       "      <td>24x7 6Hrs Resolution Time</td>\n",
       "      <td>Software</td>\n",
       "      <td>eUnite</td>\n",
       "      <td>Incident</td>\n",
       "      <td>Software</td>\n",
       "      <td>23.483333</td>\n",
       "    </tr>\n",
       "  </tbody>\n",
       "</table>\n",
       "</div>"
      ],
      "text/plain": [
       "    severity_id                        sla product_type        brand  \\\n",
       "7             3    24x7 4Hrs Response Time      Storage       NetApp   \n",
       "8             3  24x7 4Hrs Resolution Time      Storage       NetApp   \n",
       "9             3  24x7 4Hrs Resolution Time      Storage       NetApp   \n",
       "10            3    24x7 4Hrs Response Time      Storage       NetApp   \n",
       "11            4    24x7 4Hrs Response Time      Storage       NetApp   \n",
       "12            3    24x7 4Hrs Response Time     Security  Trend Micro   \n",
       "13            3    24x7 4Hrs Response Time     Software       VMWare   \n",
       "14            3    24x7 4Hrs Response Time     Software       VMWare   \n",
       "15            3  24x7 6Hrs Resolution Time     Software       eUnite   \n",
       "16            2  24x7 6Hrs Resolution Time     Software       eUnite   \n",
       "\n",
       "   service_type            incident_type  open_to_close_hour  \n",
       "7      Incident  Controller/Node Failure           34.250000  \n",
       "8      Incident  Controller/Node Failure           34.250000  \n",
       "9      Incident  Hard Disk Drive Failure           24.500000  \n",
       "10     Incident  Hard Disk Drive Failure           97.500000  \n",
       "11     Incident         General Incident           89.433333  \n",
       "12     Incident         Upgrade Software           59.000000  \n",
       "13     Incident         General Incident            2.300000  \n",
       "14     Incident         General Incident            1.233333  \n",
       "15     Incident                 Software            6.316667  \n",
       "16     Incident                 Software           23.483333  "
      ]
     },
     "execution_count": 22,
     "metadata": {},
     "output_type": "execute_result"
    }
   ],
   "source": [
    "client = bigquery.Client(project=projectId)\n",
    "new_data_table_id=f\"{projectId}.{dataset_id}.new2_incident\"\n",
    "\n",
    "query_result=client.query(f\"SELECT * FROM {new_data_table_id}\")\n",
    "df=query_result.to_dataframe()\n",
    "\n",
    "unseen =df.drop(columns=unusedCols_unseen)\n",
    "print(unseen.info())\n",
    "unseen.tail(10)"
   ]
  },
  {
   "cell_type": "code",
   "execution_count": 23,
   "id": "a4b709a5-91c0-4e40-abd7-7fc4bc49c5f3",
   "metadata": {},
   "outputs": [
    {
     "data": {
      "text/plain": [
       "<_PrefetchDataset element_spec={'sla': TensorSpec(shape=(None,), dtype=tf.string, name=None), 'product_type': TensorSpec(shape=(None,), dtype=tf.string, name=None), 'brand': TensorSpec(shape=(None,), dtype=tf.string, name=None), 'service_type': TensorSpec(shape=(None,), dtype=tf.string, name=None), 'incident_type': TensorSpec(shape=(None,), dtype=tf.string, name=None), 'open_to_close_hour': TensorSpec(shape=(None,), dtype=tf.float64, name=None)}>"
      ]
     },
     "execution_count": 23,
     "metadata": {},
     "output_type": "execute_result"
    }
   ],
   "source": [
    "unseen_ds= tfdf.keras.pd_dataframe_to_tf_dataset(unseen.drop(columns=['severity_id']))\n",
    "unseen_ds"
   ]
  },
  {
   "cell_type": "code",
   "execution_count": 24,
   "id": "31d90302-f84b-4266-9407-a03f1689026f",
   "metadata": {},
   "outputs": [
    {
     "name": "stdout",
     "output_type": "stream",
     "text": [
      "1/1 [==============================] - 0s 72ms/step\n",
      "[0.97666585 0.01666667 0.00333333 0.00333333] : 0 as severity#4\n",
      "[0.         0.01333333 0.98666584 0.        ] : 2 as severity#2\n",
      "[0.         0.08999998 0.88666594 0.02333334] : 2 as severity#2\n",
      "[0.         0.00666667 0.9933325  0.        ] : 2 as severity#2\n",
      "[0.01333333 0.12666662 0.816666   0.04333334] : 2 as severity#2\n",
      "[0.         0.04666667 0.95333254 0.        ] : 2 as severity#2\n",
      "[0.00333333 0.3533331  0.63333285 0.01      ] : 2 as severity#2\n",
      "[0.05666667 0.29666647 0.40666637 0.23999985] : 2 as severity#2\n",
      "[0.03666667 0.21999986 0.41333303 0.32999977] : 2 as severity#2\n",
      "[0.         0.67666614 0.31666645 0.00666667] : 1 as severity#3\n",
      "[0.09999997 0.12666662 0.7733327  0.        ] : 2 as severity#2\n",
      "[0.         0.52333295 0.4766663  0.        ] : 1 as severity#3\n",
      "[0.20333321 0.5366663  0.25333318 0.00666667] : 1 as severity#3\n",
      "[0.         0.2566665  0.74333274 0.        ] : 2 as severity#2\n",
      "[0.         0.6833328  0.31666645 0.        ] : 1 as severity#3\n",
      "[0.01333333 0.96666586 0.02       0.        ] : 1 as severity#3\n",
      "[0.00333333 0.9033326  0.09333331 0.        ] : 1 as severity#3\n"
     ]
    },
    {
     "name": "stderr",
     "output_type": "stream",
     "text": [
      "2023-07-06 11:20:20.005890: I tensorflow/core/common_runtime/executor.cc:1197] [/device:CPU:0] (DEBUG INFO) Executor start aborting (this does not indicate an error and you can ignore this message): INVALID_ARGUMENT: You must feed a value for placeholder tensor 'Placeholder/_5' with dtype string and shape [17]\n",
      "\t [[{{node Placeholder/_5}}]]\n"
     ]
    }
   ],
   "source": [
    "predResultList=abc_model.predict(unseen_ds)\n",
    "predServerityIDList=[]\n",
    "for predResult in predResultList:\n",
    "    _class=tf.argmax(predResult,-1).numpy()\n",
    "    pred_seveirty_id=map_severity_to_class[_class]\n",
    "    predServerityIDList.append(pred_seveirty_id)\n",
    "    print(f\"{predResult} : {_class} as severity#{pred_seveirty_id}\")\n",
    "    \n",
    "dfPred=pd.DataFrame(data=predServerityIDList,columns=[\"pred_severity_id\"])   \n",
    "df=pd.concat([dfPred,df],axis=1)"
   ]
  },
  {
   "cell_type": "code",
   "execution_count": null,
   "id": "a6cc20c8-399b-4d0c-b82c-f9ef2c6670b6",
   "metadata": {},
   "outputs": [],
   "source": []
  },
  {
   "cell_type": "code",
   "execution_count": 25,
   "id": "06828323-74af-44fb-b261-aade71784b68",
   "metadata": {},
   "outputs": [
    {
     "data": {
      "text/html": [
       "<div>\n",
       "<style scoped>\n",
       "    .dataframe tbody tr th:only-of-type {\n",
       "        vertical-align: middle;\n",
       "    }\n",
       "\n",
       "    .dataframe tbody tr th {\n",
       "        vertical-align: top;\n",
       "    }\n",
       "\n",
       "    .dataframe thead th {\n",
       "        text-align: right;\n",
       "    }\n",
       "</style>\n",
       "<table border=\"1\" class=\"dataframe\">\n",
       "  <thead>\n",
       "    <tr style=\"text-align: right;\">\n",
       "      <th></th>\n",
       "      <th>pred-2</th>\n",
       "      <th>pred-3</th>\n",
       "      <th>pred-4</th>\n",
       "    </tr>\n",
       "  </thead>\n",
       "  <tbody>\n",
       "    <tr>\n",
       "      <th>actual-2</th>\n",
       "      <td>4</td>\n",
       "      <td>1</td>\n",
       "      <td>0</td>\n",
       "    </tr>\n",
       "    <tr>\n",
       "      <th>actual-3</th>\n",
       "      <td>5</td>\n",
       "      <td>4</td>\n",
       "      <td>0</td>\n",
       "    </tr>\n",
       "    <tr>\n",
       "      <th>actual-4</th>\n",
       "      <td>1</td>\n",
       "      <td>1</td>\n",
       "      <td>1</td>\n",
       "    </tr>\n",
       "  </tbody>\n",
       "</table>\n",
       "</div>"
      ],
      "text/plain": [
       "          pred-2  pred-3  pred-4\n",
       "actual-2       4       1       0\n",
       "actual-3       5       4       0\n",
       "actual-4       1       1       1"
      ]
     },
     "execution_count": 25,
     "metadata": {},
     "output_type": "execute_result"
    }
   ],
   "source": [
    "from sklearn.metrics import confusion_matrix,classification_report\n",
    "className=list(set().union(list(df['pred_severity_id'].unique()),list(df['severity_id'].unique())))\n",
    "className\n",
    "actualClass=[  f'actual-{x}' for x in  className]\n",
    "predictedlClass=[  f'pred-{x}' for x in className]\n",
    "y_true=list(df['severity_id'])\n",
    "y_pred=list(df['pred_severity_id'])\n",
    "cnf_matrix = confusion_matrix(y_true,y_pred)\n",
    "cnf_matrix\n",
    "\n",
    "# #index=actual , column=prediction\n",
    "cm_df = pd.DataFrame(cnf_matrix,\n",
    "                     index = actualClass, \n",
    "                     columns = predictedlClass)\n",
    "cm_df"
   ]
  },
  {
   "cell_type": "code",
   "execution_count": 26,
   "id": "5c8ee882-2810-4e4e-96f9-b08cf281c0d0",
   "metadata": {},
   "outputs": [
    {
     "name": "stdout",
     "output_type": "stream",
     "text": [
      "              precision    recall  f1-score   support\n",
      "\n",
      "           2       0.40      0.80      0.53         5\n",
      "           3       0.67      0.44      0.53         9\n",
      "           4       1.00      0.33      0.50         3\n",
      "\n",
      "    accuracy                           0.53        17\n",
      "   macro avg       0.69      0.53      0.52        17\n",
      "weighted avg       0.65      0.53      0.53        17\n",
      "\n"
     ]
    }
   ],
   "source": [
    "print(classification_report(y_true, y_pred, labels=className))"
   ]
  },
  {
   "cell_type": "code",
   "execution_count": null,
   "id": "613fa77c-27e2-4a25-8361-7d51c32dafd6",
   "metadata": {},
   "outputs": [],
   "source": []
  }
 ],
 "metadata": {
  "environment": {
   "kernel": "python3",
   "name": "tf2-gpu.2-12.m109",
   "type": "gcloud",
   "uri": "gcr.io/deeplearning-platform-release/tf2-gpu.2-12:m109"
  },
  "kernelspec": {
   "display_name": "Python 3",
   "language": "python",
   "name": "python3"
  },
  "language_info": {
   "codemirror_mode": {
    "name": "ipython",
    "version": 3
   },
   "file_extension": ".py",
   "mimetype": "text/x-python",
   "name": "python",
   "nbconvert_exporter": "python",
   "pygments_lexer": "ipython3",
   "version": "3.10.11"
  }
 },
 "nbformat": 4,
 "nbformat_minor": 5
}
