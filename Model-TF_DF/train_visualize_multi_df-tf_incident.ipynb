{
 "cells": [
  {
   "cell_type": "code",
   "execution_count": 26,
   "id": "c6920b3d-e127-4d00-b7ae-0779e6ef5803",
   "metadata": {},
   "outputs": [
    {
     "name": "stdout",
     "output_type": "stream",
     "text": [
      "2.12.0\n"
     ]
    }
   ],
   "source": [
    "# https://www.tensorflow.org/decision_forests/tutorials/beginner_colab\n",
    "# https://www.tensorflow.org/decision_forests/tutorials/predict_colab\n",
    "# https://www.tensorflow.org/decision_forests/tutorials/automatic_tuning_colab\n",
    "# https://www.tensorflow.org/decision_forests/tutorials/dtreeviz_colab\n",
    "from google.cloud import aiplatform\n",
    "from google.cloud import bigquery\n",
    "\n",
    "import pandas as pd\n",
    "import numpy as np\n",
    "\n",
    "import math\n",
    "import os\n",
    "\n",
    "import tensorflow as tf\n",
    "print(tf.__version__)"
   ]
  },
  {
   "cell_type": "code",
   "execution_count": 27,
   "id": "5eb2a0e9-ddd0-4a05-86e9-e2ed32435331",
   "metadata": {},
   "outputs": [
    {
     "name": "stdout",
     "output_type": "stream",
     "text": [
      "1.3.0\n"
     ]
    }
   ],
   "source": [
    "# ! pip install --upgrade tensorflow-decision-forests\n",
    "import tensorflow_decision_forests as tfdf\n",
    "print(tfdf.__version__)"
   ]
  },
  {
   "cell_type": "markdown",
   "id": "1f6748e1-f46a-4d3d-9ade-3e91150f3391",
   "metadata": {},
   "source": [
    "# Variable to Configuration"
   ]
  },
  {
   "cell_type": "code",
   "execution_count": 28,
   "id": "08b48f64-eb5b-4f0e-8e27-acb7ee210d4b",
   "metadata": {},
   "outputs": [
    {
     "name": "stdout",
     "output_type": "stream",
     "text": [
      "train-ds = pongthorn.SMartML.train2_incident\n",
      "test-ds = pongthorn.SMartML.test2_incident\n"
     ]
    }
   ],
   "source": [
    "projectId='pongthorn'\n",
    "dataset_id='SMartML'\n",
    "\n",
    "train_name='train2_incident'\n",
    "test_name='test2_incident'\n",
    "\n",
    "train_table_id=f\"{projectId}.{dataset_id}.{train_name}\"\n",
    "test_tabel_id=f\"{projectId}.{dataset_id}.{test_name}\"\n",
    "print(f\"train-ds = {train_table_id}\")\n",
    "print(f\"test-ds = {test_tabel_id}\")"
   ]
  },
  {
   "cell_type": "code",
   "execution_count": 29,
   "id": "86703035-9e51-439c-ad30-fcb8131ae83f",
   "metadata": {},
   "outputs": [],
   "source": [
    "metric=\"accuracy\"\n",
    "model_gs_path=\"gs://demo-tuned-tf-incident-pongthorn/model_df_tf\""
   ]
  },
  {
   "cell_type": "code",
   "execution_count": 30,
   "id": "6ed72e3f-b0a4-4712-a1f8-c2c7156eb03a",
   "metadata": {},
   "outputs": [],
   "source": [
    "option=2\n",
    "if option==1:\n",
    "\n",
    "    unusedCols=['id','severity_id','severity_name','label_binary_severity','open_to_close_hour','response_to_resolved_hour']\n",
    "    cateCols=['sla','product_type','brand','service_type','incident_type','range_open_to_close_hour','range_response_to_resolved_hour']\n",
    "    numbericCols=[]\n",
    "else:\n",
    "    unusedCols=['id','severity_id','severity_name','label_binary_severity','range_open_to_close_hour','range_response_to_resolved_hour']\n",
    "    cateCols=['sla','product_type','brand','service_type','incident_type']\n",
    "    numbericCols=['open_to_close_hour','response_to_resolved_hour']\n",
    "\n",
    "\n",
    "labelCol='label_multi_severity'\n",
    "# labelCol='label_binary_severity'"
   ]
  },
  {
   "cell_type": "markdown",
   "id": "cdd9f87b-86b1-4869-a88e-28f63279a9aa",
   "metadata": {},
   "source": [
    "# Load & Prepare Data"
   ]
  },
  {
   "cell_type": "code",
   "execution_count": 31,
   "id": "b54d4427-4ded-438a-9910-9531e0dc651e",
   "metadata": {},
   "outputs": [],
   "source": [
    "def load_ml_data(data_path):\n",
    " df=pd.read_csv(data_path)\n",
    " df =df.drop(columns=unusedCols)\n",
    " \n",
    " return df\n",
    "\n",
    "def load_data_bq(sql:str):\n",
    " \n",
    " query_result=client.query(sql)\n",
    " df=query_result.to_dataframe()\n",
    " df =df.drop(columns=unusedCols)\n",
    " df[labelCol]=df[labelCol].astype('int64') \n",
    " df=df[[labelCol]+cateCols+numbericCols]   \n",
    "  \n",
    " return df"
   ]
  },
  {
   "cell_type": "code",
   "execution_count": 32,
   "id": "93a32924-01b9-44f0-9c95-3dc335daaf96",
   "metadata": {},
   "outputs": [
    {
     "name": "stdout",
     "output_type": "stream",
     "text": [
      "<class 'pandas.core.frame.DataFrame'>\n",
      "RangeIndex: 2104 entries, 0 to 2103\n",
      "Data columns (total 8 columns):\n",
      " #   Column                     Non-Null Count  Dtype  \n",
      "---  ------                     --------------  -----  \n",
      " 0   label_multi_severity       2104 non-null   int64  \n",
      " 1   sla                        2104 non-null   object \n",
      " 2   product_type               2104 non-null   object \n",
      " 3   brand                      2104 non-null   object \n",
      " 4   service_type               2104 non-null   object \n",
      " 5   incident_type              2104 non-null   object \n",
      " 6   open_to_close_hour         2104 non-null   float64\n",
      " 7   response_to_resolved_hour  2104 non-null   float64\n",
      "dtypes: float64(2), int64(1), object(5)\n",
      "memory usage: 131.6+ KB\n",
      "None\n",
      "<class 'pandas.core.frame.DataFrame'>\n",
      "RangeIndex: 527 entries, 0 to 526\n",
      "Data columns (total 8 columns):\n",
      " #   Column                     Non-Null Count  Dtype  \n",
      "---  ------                     --------------  -----  \n",
      " 0   label_multi_severity       527 non-null    int64  \n",
      " 1   sla                        527 non-null    object \n",
      " 2   product_type               527 non-null    object \n",
      " 3   brand                      527 non-null    object \n",
      " 4   service_type               527 non-null    object \n",
      " 5   incident_type              527 non-null    object \n",
      " 6   open_to_close_hour         527 non-null    float64\n",
      " 7   response_to_resolved_hour  527 non-null    float64\n",
      "dtypes: float64(2), int64(1), object(5)\n",
      "memory usage: 33.1+ KB\n",
      "None\n"
     ]
    }
   ],
   "source": [
    "client = bigquery.Client(project=projectId)\n",
    "\n",
    "train=load_data_bq(f\"SELECT * FROM {train_table_id}\")\n",
    "test=load_data_bq(f\"SELECT * FROM {test_tabel_id}\")\n",
    "\n",
    "print(train.info())\n",
    "\n",
    "print(test.info())"
   ]
  },
  {
   "cell_type": "code",
   "execution_count": 33,
   "id": "33b553e0-a511-489a-9d16-e68535cec436",
   "metadata": {},
   "outputs": [
    {
     "data": {
      "text/html": [
       "<div>\n",
       "<style scoped>\n",
       "    .dataframe tbody tr th:only-of-type {\n",
       "        vertical-align: middle;\n",
       "    }\n",
       "\n",
       "    .dataframe tbody tr th {\n",
       "        vertical-align: top;\n",
       "    }\n",
       "\n",
       "    .dataframe thead th {\n",
       "        text-align: right;\n",
       "    }\n",
       "</style>\n",
       "<table border=\"1\" class=\"dataframe\">\n",
       "  <thead>\n",
       "    <tr style=\"text-align: right;\">\n",
       "      <th></th>\n",
       "      <th>label_multi_severity</th>\n",
       "      <th>sla</th>\n",
       "      <th>product_type</th>\n",
       "      <th>brand</th>\n",
       "      <th>service_type</th>\n",
       "      <th>incident_type</th>\n",
       "      <th>open_to_close_hour</th>\n",
       "      <th>response_to_resolved_hour</th>\n",
       "    </tr>\n",
       "  </thead>\n",
       "  <tbody>\n",
       "    <tr>\n",
       "      <th>2099</th>\n",
       "      <td>2</td>\n",
       "      <td>24x7 4Hrs Response Time</td>\n",
       "      <td>Software</td>\n",
       "      <td>Trend Micro</td>\n",
       "      <td>Incident</td>\n",
       "      <td>General Incident</td>\n",
       "      <td>2247.850000</td>\n",
       "      <td>2247.850000</td>\n",
       "    </tr>\n",
       "    <tr>\n",
       "      <th>2100</th>\n",
       "      <td>2</td>\n",
       "      <td>24x7 6Hrs Resolution Time</td>\n",
       "      <td>Software</td>\n",
       "      <td>Trend Micro</td>\n",
       "      <td>Incident</td>\n",
       "      <td>General Incident</td>\n",
       "      <td>21.883333</td>\n",
       "      <td>21.600000</td>\n",
       "    </tr>\n",
       "    <tr>\n",
       "      <th>2101</th>\n",
       "      <td>2</td>\n",
       "      <td>24x7 4Hrs Response Time</td>\n",
       "      <td>Security</td>\n",
       "      <td>Trend Micro</td>\n",
       "      <td>Incident</td>\n",
       "      <td>Software</td>\n",
       "      <td>51.166667</td>\n",
       "      <td>51.166667</td>\n",
       "    </tr>\n",
       "    <tr>\n",
       "      <th>2102</th>\n",
       "      <td>2</td>\n",
       "      <td>24x7 6Hrs Resolution Time</td>\n",
       "      <td>Software</td>\n",
       "      <td>Trend Micro</td>\n",
       "      <td>Incident</td>\n",
       "      <td>Configuration Change</td>\n",
       "      <td>119.616667</td>\n",
       "      <td>119.033333</td>\n",
       "    </tr>\n",
       "    <tr>\n",
       "      <th>2103</th>\n",
       "      <td>2</td>\n",
       "      <td>24x7 6Hrs Resolution Time</td>\n",
       "      <td>Software</td>\n",
       "      <td>Trend Micro</td>\n",
       "      <td>Incident</td>\n",
       "      <td>General Incident</td>\n",
       "      <td>306.583333</td>\n",
       "      <td>306.200000</td>\n",
       "    </tr>\n",
       "  </tbody>\n",
       "</table>\n",
       "</div>"
      ],
      "text/plain": [
       "      label_multi_severity                        sla product_type  \\\n",
       "2099                     2    24x7 4Hrs Response Time     Software   \n",
       "2100                     2  24x7 6Hrs Resolution Time     Software   \n",
       "2101                     2    24x7 4Hrs Response Time     Security   \n",
       "2102                     2  24x7 6Hrs Resolution Time     Software   \n",
       "2103                     2  24x7 6Hrs Resolution Time     Software   \n",
       "\n",
       "            brand service_type         incident_type  open_to_close_hour  \\\n",
       "2099  Trend Micro     Incident      General Incident         2247.850000   \n",
       "2100  Trend Micro     Incident      General Incident           21.883333   \n",
       "2101  Trend Micro     Incident              Software           51.166667   \n",
       "2102  Trend Micro     Incident  Configuration Change          119.616667   \n",
       "2103  Trend Micro     Incident      General Incident          306.583333   \n",
       "\n",
       "      response_to_resolved_hour  \n",
       "2099                2247.850000  \n",
       "2100                  21.600000  \n",
       "2101                  51.166667  \n",
       "2102                 119.033333  \n",
       "2103                 306.200000  "
      ]
     },
     "execution_count": 33,
     "metadata": {},
     "output_type": "execute_result"
    }
   ],
   "source": [
    "train.tail(5)"
   ]
  },
  {
   "cell_type": "code",
   "execution_count": 34,
   "id": "e37f9812-69ab-4672-9641-0e9c1873396a",
   "metadata": {},
   "outputs": [
    {
     "data": {
      "text/html": [
       "<div>\n",
       "<style scoped>\n",
       "    .dataframe tbody tr th:only-of-type {\n",
       "        vertical-align: middle;\n",
       "    }\n",
       "\n",
       "    .dataframe tbody tr th {\n",
       "        vertical-align: top;\n",
       "    }\n",
       "\n",
       "    .dataframe thead th {\n",
       "        text-align: right;\n",
       "    }\n",
       "</style>\n",
       "<table border=\"1\" class=\"dataframe\">\n",
       "  <thead>\n",
       "    <tr style=\"text-align: right;\">\n",
       "      <th></th>\n",
       "      <th>label_multi_severity</th>\n",
       "      <th>sla</th>\n",
       "      <th>product_type</th>\n",
       "      <th>brand</th>\n",
       "      <th>service_type</th>\n",
       "      <th>incident_type</th>\n",
       "      <th>open_to_close_hour</th>\n",
       "      <th>response_to_resolved_hour</th>\n",
       "    </tr>\n",
       "  </thead>\n",
       "  <tbody>\n",
       "    <tr>\n",
       "      <th>522</th>\n",
       "      <td>2</td>\n",
       "      <td>24x7 4Hrs Resolution Time</td>\n",
       "      <td>Firewall</td>\n",
       "      <td>Palo Alto</td>\n",
       "      <td>Incident</td>\n",
       "      <td>General Incident</td>\n",
       "      <td>0.700000</td>\n",
       "      <td>0.666667</td>\n",
       "    </tr>\n",
       "    <tr>\n",
       "      <th>523</th>\n",
       "      <td>1</td>\n",
       "      <td>24x7 4Hrs Resolution Time</td>\n",
       "      <td>Firewall</td>\n",
       "      <td>Palo Alto</td>\n",
       "      <td>Incident</td>\n",
       "      <td>General Incident</td>\n",
       "      <td>116.766667</td>\n",
       "      <td>28.116667</td>\n",
       "    </tr>\n",
       "    <tr>\n",
       "      <th>524</th>\n",
       "      <td>0</td>\n",
       "      <td>24x7 4Hrs Response Time</td>\n",
       "      <td>Firewall</td>\n",
       "      <td>Palo Alto</td>\n",
       "      <td>Request</td>\n",
       "      <td>Configuration Change</td>\n",
       "      <td>527.383333</td>\n",
       "      <td>526.483333</td>\n",
       "    </tr>\n",
       "    <tr>\n",
       "      <th>525</th>\n",
       "      <td>1</td>\n",
       "      <td>24x7 4Hrs Response Time</td>\n",
       "      <td>Software</td>\n",
       "      <td>Trend Micro</td>\n",
       "      <td>Incident</td>\n",
       "      <td>Software</td>\n",
       "      <td>1.533333</td>\n",
       "      <td>1.233333</td>\n",
       "    </tr>\n",
       "    <tr>\n",
       "      <th>526</th>\n",
       "      <td>0</td>\n",
       "      <td>24x7 4Hrs Response Time</td>\n",
       "      <td>Software</td>\n",
       "      <td>Trend Micro</td>\n",
       "      <td>Request</td>\n",
       "      <td>General Incident</td>\n",
       "      <td>220.333333</td>\n",
       "      <td>85.483333</td>\n",
       "    </tr>\n",
       "  </tbody>\n",
       "</table>\n",
       "</div>"
      ],
      "text/plain": [
       "     label_multi_severity                        sla product_type  \\\n",
       "522                     2  24x7 4Hrs Resolution Time     Firewall   \n",
       "523                     1  24x7 4Hrs Resolution Time     Firewall   \n",
       "524                     0    24x7 4Hrs Response Time     Firewall   \n",
       "525                     1    24x7 4Hrs Response Time     Software   \n",
       "526                     0    24x7 4Hrs Response Time     Software   \n",
       "\n",
       "           brand service_type         incident_type  open_to_close_hour  \\\n",
       "522    Palo Alto     Incident      General Incident            0.700000   \n",
       "523    Palo Alto     Incident      General Incident          116.766667   \n",
       "524    Palo Alto      Request  Configuration Change          527.383333   \n",
       "525  Trend Micro     Incident              Software            1.533333   \n",
       "526  Trend Micro      Request      General Incident          220.333333   \n",
       "\n",
       "     response_to_resolved_hour  \n",
       "522                   0.666667  \n",
       "523                  28.116667  \n",
       "524                 526.483333  \n",
       "525                   1.233333  \n",
       "526                  85.483333  "
      ]
     },
     "execution_count": 34,
     "metadata": {},
     "output_type": "execute_result"
    }
   ],
   "source": [
    "test.tail()"
   ]
  },
  {
   "cell_type": "markdown",
   "id": "aa72159d-066d-4e7c-be00-3e74b60a4062",
   "metadata": {},
   "source": [
    "# Build Model"
   ]
  },
  {
   "cell_type": "code",
   "execution_count": 35,
   "id": "1c895353-d33e-44b8-91eb-75a4322db7b9",
   "metadata": {},
   "outputs": [],
   "source": [
    "train_ds = tfdf.keras.pd_dataframe_to_tf_dataset(train, label=labelCol)\n",
    "test_ds = tfdf.keras.pd_dataframe_to_tf_dataset(test, label=labelCol)"
   ]
  },
  {
   "cell_type": "code",
   "execution_count": 36,
   "id": "da1f2012-412a-4c3a-aaeb-9b98dd11fec4",
   "metadata": {},
   "outputs": [
    {
     "name": "stdout",
     "output_type": "stream",
     "text": [
      "Use /var/tmp/tmpiqj_yuuh as temporary training directory\n",
      "Reading training dataset...\n"
     ]
    },
    {
     "name": "stderr",
     "output_type": "stream",
     "text": [
      "[WARNING 23-07-01 18:04:52.2805 UTC gradient_boosted_trees.cc:1797] \"goss_alpha\" set but \"sampling_method\" not equal to \"GOSS\".\n",
      "[WARNING 23-07-01 18:04:52.2825 UTC gradient_boosted_trees.cc:1808] \"goss_beta\" set but \"sampling_method\" not equal to \"GOSS\".\n",
      "[WARNING 23-07-01 18:04:52.2844 UTC gradient_boosted_trees.cc:1822] \"selective_gradient_boosting_ratio\" set but \"sampling_method\" not equal to \"SELGB\".\n",
      "2023-07-01 18:04:52.310508: I tensorflow/core/common_runtime/executor.cc:1197] [/device:CPU:0] (DEBUG INFO) Executor start aborting (this does not indicate an error and you can ignore this message): INVALID_ARGUMENT: You must feed a value for placeholder tensor 'Placeholder/_0' with dtype string and shape [2104]\n",
      "\t [[{{node Placeholder/_0}}]]\n"
     ]
    },
    {
     "name": "stdout",
     "output_type": "stream",
     "text": [
      "Training dataset read in 0:00:00.244463. Found 2104 examples.\n",
      "Training model...\n",
      "Model trained in 0:00:00.271529\n",
      "Compiling model...\n",
      "Model compiled.\n"
     ]
    },
    {
     "name": "stderr",
     "output_type": "stream",
     "text": [
      "[INFO 23-07-01 18:04:52.7999 UTC kernel.cc:1242] Loading model from path /var/tmp/tmpiqj_yuuh/model/ with prefix b7df4480ba60471f\n",
      "[INFO 23-07-01 18:04:52.8139 UTC decision_forest.cc:660] Model loaded with 76 root(s), 3878 node(s), and 7 input feature(s).\n",
      "[INFO 23-07-01 18:04:52.8147 UTC abstract_model.cc:1311] Engine \"GradientBoostedTreesGeneric\" built\n",
      "[INFO 23-07-01 18:04:52.8154 UTC kernel.cc:1074] Use fast generic engine\n",
      "2023-07-01 18:04:52.838089: I tensorflow/core/common_runtime/executor.cc:1197] [/device:CPU:0] (DEBUG INFO) Executor start aborting (this does not indicate an error and you can ignore this message): INVALID_ARGUMENT: You must feed a value for placeholder tensor 'Placeholder/_5' with dtype string and shape [2104]\n",
      "\t [[{{node Placeholder/_5}}]]\n"
     ]
    },
    {
     "data": {
      "text/plain": [
       "<keras.callbacks.History at 0x7f8dcb02b760>"
      ]
     },
     "execution_count": 36,
     "metadata": {},
     "output_type": "execute_result"
    }
   ],
   "source": [
    "# Specify the model.\n",
    "#model = tfdf.keras.RandomForestModel()\n",
    "model=tfdf.keras.GradientBoostedTreesModel()\n",
    "model.fit(x=train_ds)"
   ]
  },
  {
   "cell_type": "code",
   "execution_count": 37,
   "id": "ed1044ae-7da6-4273-acac-363700e7aecb",
   "metadata": {},
   "outputs": [
    {
     "name": "stdout",
     "output_type": "stream",
     "text": [
      "1/1 [==============================] - 0s 172ms/step - loss: 0.0000e+00 - accuracy: 0.7495\n",
      "loss: 0.0000\n",
      "accuracy: 0.7495\n"
     ]
    },
    {
     "name": "stderr",
     "output_type": "stream",
     "text": [
      "2023-07-01 18:04:53.198581: I tensorflow/core/common_runtime/executor.cc:1197] [/device:CPU:0] (DEBUG INFO) Executor start aborting (this does not indicate an error and you can ignore this message): INVALID_ARGUMENT: You must feed a value for placeholder tensor 'Placeholder/_5' with dtype string and shape [527]\n",
      "\t [[{{node Placeholder/_5}}]]\n"
     ]
    }
   ],
   "source": [
    "model.compile(metrics=[metric])\n",
    "evaluation = model.evaluate(test_ds, return_dict=True)\n",
    "for name, value in evaluation.items():\n",
    "  print(f\"{name}: {value:.4f}\")"
   ]
  },
  {
   "cell_type": "markdown",
   "id": "74420e30-fbb5-4730-bb48-b8a3efce49ce",
   "metadata": {},
   "source": [
    "# Save Model"
   ]
  },
  {
   "cell_type": "code",
   "execution_count": 38,
   "id": "2b21d1d7-6d34-4c40-b0a2-fac22ca7097e",
   "metadata": {},
   "outputs": [
    {
     "name": "stderr",
     "output_type": "stream",
     "text": [
      "WARNING:absl:Found untraced functions such as call_get_leaves, _update_step_xla while saving (showing 2 of 2). These functions will not be directly callable after loading.\n"
     ]
    },
    {
     "name": "stdout",
     "output_type": "stream",
     "text": [
      "INFO:tensorflow:Assets written to: gs://demo-tuned-tf-incident-pongthorn/model_df_tf/assets\n"
     ]
    },
    {
     "name": "stderr",
     "output_type": "stream",
     "text": [
      "INFO:tensorflow:Assets written to: gs://demo-tuned-tf-incident-pongthorn/model_df_tf/assets\n"
     ]
    }
   ],
   "source": [
    "model.save(model_gs_path)"
   ]
  },
  {
   "cell_type": "code",
   "execution_count": null,
   "id": "c328d6fa-68ae-4ddd-a3c0-9b58aefc0c0c",
   "metadata": {},
   "outputs": [],
   "source": []
  }
 ],
 "metadata": {
  "environment": {
   "kernel": "python3",
   "name": "tf2-gpu.2-12.m109",
   "type": "gcloud",
   "uri": "gcr.io/deeplearning-platform-release/tf2-gpu.2-12:m109"
  },
  "kernelspec": {
   "display_name": "Python 3",
   "language": "python",
   "name": "python3"
  },
  "language_info": {
   "codemirror_mode": {
    "name": "ipython",
    "version": 3
   },
   "file_extension": ".py",
   "mimetype": "text/x-python",
   "name": "python",
   "nbconvert_exporter": "python",
   "pygments_lexer": "ipython3",
   "version": "3.10.11"
  }
 },
 "nbformat": 4,
 "nbformat_minor": 5
}
