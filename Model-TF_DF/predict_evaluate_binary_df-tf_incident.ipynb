{
 "cells": [
  {
   "cell_type": "code",
   "execution_count": 96,
   "id": "9df47983-136a-4ae5-99cb-114efcecc044",
   "metadata": {},
   "outputs": [
    {
     "name": "stdout",
     "output_type": "stream",
     "text": [
      "2.12.0\n",
      "1.4.0\n"
     ]
    }
   ],
   "source": [
    "from google.cloud import bigquery\n",
    "\n",
    "import pandas as pd\n",
    "import numpy as np\n",
    "from datetime import date,datetime,timedelta,timezone\n",
    "\n",
    "import math\n",
    "import os\n",
    "\n",
    "import tensorflow as tf\n",
    "import tensorflow_decision_forests as tfdf  # constantly registered to load model \n",
    "print(tf.__version__)\n",
    "print(tfdf.__version__)"
   ]
  },
  {
   "cell_type": "code",
   "execution_count": 97,
   "id": "b7633548-9dc9-406c-a8ec-080e7c5562f3",
   "metadata": {},
   "outputs": [],
   "source": [
    "# import functions_framework\n",
    "# @functions_framework.http\n",
    "# def xgb_tf_predict_incident_severity(request):"
   ]
  },
  {
   "cell_type": "markdown",
   "id": "166aefd0-bb63-428a-a29e-9f1548e1b354",
   "metadata": {},
   "source": [
    "# Load Configuration Data and Constant Variable"
   ]
  },
  {
   "cell_type": "code",
   "execution_count": 98,
   "id": "b9604a8d-66ee-41f8-bca5-4ced39eadd0a",
   "metadata": {},
   "outputs": [
    {
     "name": "stdout",
     "output_type": "stream",
     "text": [
      "Prediction at 2023-07-21 17:21:58.941017+00:00 for 2023-07-21 (2023-07-21 00:00:00)\n",
      "gs://demo-tf-incident-pongthorn/tuned_binary_xgb_tf_model\n",
      "Data: new2_incident and Prediction: new2_result_binary_prediction_incident\n"
     ]
    }
   ],
   "source": [
    "projectId=\"pongthorn\"\n",
    "#_model='binary_xgb_tf_model'   # the is resonable because unsseen and tune 70%\n",
    "all_prediction=False\n",
    "is_evaluation=True\n",
    "\n",
    "_model=\"tuned_binary_xgb_tf_model\"  # best 75% on unseen test\n",
    "model_version=f'{_model}_v1_t150723'\n",
    "\n",
    "model_gs_path=f\"gs://demo-tf-incident-pongthorn/{_model}\"\n",
    "\n",
    "dataset_id=\"SMartML\"\n",
    "\n",
    "data_table=\"new2_incident\"\n",
    "prediction_table=\"new2_result_binary_prediction_incident\"\n",
    "\n",
    "\n",
    "# unusedCols_unseen=['id','severity_name','imported_at','open_to_close_hour']\n",
    "\n",
    "unusedCols_unseen=['id','severity_name','imported_at','range_open_to_close_hour']\n",
    "\n",
    "\n",
    "# Get today's date\n",
    "prediction_datetime=datetime.now(timezone.utc)\n",
    "today_str=prediction_datetime.strftime(\"%Y-%m-%d\")\n",
    "today=datetime.strptime(today_str,\"%Y-%m-%d\")\n",
    "print(f\"Prediction at {prediction_datetime} for {today_str} ({today})\")\n",
    "\n",
    "print(model_gs_path)\n",
    "print(f\"Data: {data_table} and Prediction: {prediction_table}\")"
   ]
  },
  {
   "cell_type": "markdown",
   "id": "e6feef88-a349-497c-9845-731e4fad788c",
   "metadata": {},
   "source": [
    "# Load Model"
   ]
  },
  {
   "cell_type": "code",
   "execution_count": 99,
   "id": "83c3e87a-46fb-4294-8ad9-45cd14f2e21c",
   "metadata": {},
   "outputs": [
    {
     "name": "stderr",
     "output_type": "stream",
     "text": [
      "[INFO 23-07-21 17:22:01.4874 UTC kernel.cc:1243] Loading model from path gs://demo-tf-incident-pongthorn/tuned_binary_xgb_tf_model/assets/ with prefix fe39250a4ca44dae\n",
      "[INFO 23-07-21 17:22:02.1517 UTC decision_forest.cc:660] Model loaded with 60 root(s), 4704 node(s), and 6 input feature(s).\n",
      "[INFO 23-07-21 17:22:02.1527 UTC abstract_model.cc:1311] Engine \"GradientBoostedTreesGeneric\" built\n",
      "[INFO 23-07-21 17:22:02.1533 UTC kernel.cc:1075] Use fast generic engine\n"
     ]
    },
    {
     "name": "stdout",
     "output_type": "stream",
     "text": [
      "Model: \"gradient_boosted_trees_model_1\"\n",
      "_________________________________________________________________\n",
      " Layer (type)                Output Shape              Param #   \n",
      "=================================================================\n",
      "=================================================================\n",
      "Total params: 1\n",
      "Trainable params: 0\n",
      "Non-trainable params: 1\n",
      "_________________________________________________________________\n",
      "None\n"
     ]
    }
   ],
   "source": [
    "abc_model = tf.keras.models.load_model(model_gs_path)  \n",
    "print(abc_model.summary())\n",
    "# abc_model = tf.keras.models.load_model(model_local_path) "
   ]
  },
  {
   "cell_type": "markdown",
   "id": "ff853c6f-9db7-4e35-8e29-5ad37e3cfef2",
   "metadata": {},
   "source": [
    "# BigQuery Configuration"
   ]
  },
  {
   "cell_type": "code",
   "execution_count": 100,
   "id": "4bc0a0cc-321a-47a3-9712-d428a838533c",
   "metadata": {},
   "outputs": [
    {
     "name": "stdout",
     "output_type": "stream",
     "text": [
      "pongthorn.SMartML.new2_incident\n",
      "pongthorn.SMartML.new2_result_binary_prediction_incident\n"
     ]
    }
   ],
   "source": [
    "client = bigquery.Client(project=projectId)\n",
    "new_data_table_id=f\"{projectId}.{dataset_id}.{data_table}\"\n",
    "predictResult_table_id=f\"{projectId}.{dataset_id}.{prediction_table}\"\n",
    "print(new_data_table_id)\n",
    "print(predictResult_table_id)"
   ]
  },
  {
   "cell_type": "code",
   "execution_count": 101,
   "id": "5939dbb1-3319-4953-b238-40d5109dee90",
   "metadata": {},
   "outputs": [
    {
     "name": "stdout",
     "output_type": "stream",
     "text": [
      "Predict Result Table pongthorn.SMartML.new2_result_binary_prediction_incident already exists.\n"
     ]
    }
   ],
   "source": [
    "try:\n",
    "    client.get_table(predictResult_table_id)  # Make an API request.\n",
    "    print(\"Predict Result Table {} already exists.\".format(predictResult_table_id))\n",
    "    \n",
    "except Exception as ex:\n",
    "    schema = [\n",
    "    bigquery.SchemaField(\"id\", \"INTEGER\", mode=\"REQUIRED\"),\n",
    "    bigquery.SchemaField(\"prediction_item_date\", \"DATE\", mode=\"REQUIRED\"),    \n",
    "    bigquery.SchemaField(\"label_binary_severity\", \"INTEGER\", mode=\"REQUIRED\"),\n",
    "    bigquery.SchemaField(\"pred_binary_severity\", \"INTEGER\", mode=\"REQUIRED\"),       \n",
    "    bigquery.SchemaField(\"prediction_datetime\", \"DATETIME\", mode=\"REQUIRED\") ,\n",
    "    bigquery.SchemaField(\"model_version\", \"STRING\", mode=\"REQUIRED\")     \n",
    "    ]\n",
    "\n",
    "    table = bigquery.Table(predictResult_table_id,schema=schema)\n",
    "    table.time_partitioning = bigquery.TimePartitioning(\n",
    "    type_=bigquery.TimePartitioningType.DAY,field=\"prediction_item_date\")\n",
    "    \n",
    "    table = client.create_table(table)  # Make an API request.\n",
    "    \n",
    "    print(\n",
    "        \"Created table {}.{}.{}\".format(table.project, table.dataset_id, table.table_id)\n",
    "    )"
   ]
  },
  {
   "cell_type": "markdown",
   "id": "eaffc009-d504-4345-8af0-75ea4100d667",
   "metadata": {},
   "source": [
    "# Load data to Make Prediction"
   ]
  },
  {
   "cell_type": "code",
   "execution_count": 102,
   "id": "c849ad7a-10f4-43b8-8421-1f907fc42b7e",
   "metadata": {},
   "outputs": [
    {
     "name": "stdout",
     "output_type": "stream",
     "text": [
      "\n",
      "    SELECT *  FROM `pongthorn.SMartML.new2_incident` \n",
      "     WHERE DATE(imported_at) = '2023-07-21'\n",
      "     order by imported_at\n",
      "    \n",
      "no data to make prediction\n",
      "<class 'pandas.core.frame.DataFrame'>\n",
      "Index: 0 entries\n",
      "Data columns (total 11 columns):\n",
      " #   Column                    Non-Null Count  Dtype \n",
      "---  ------                    --------------  ----- \n",
      " 0   id                        0 non-null      object\n",
      " 1   severity_id               0 non-null      object\n",
      " 2   severity_name             0 non-null      object\n",
      " 3   sla                       0 non-null      object\n",
      " 4   product_type              0 non-null      object\n",
      " 5   brand                     0 non-null      object\n",
      " 6   service_type              0 non-null      object\n",
      " 7   incident_type             0 non-null      object\n",
      " 8   open_to_close_hour        0 non-null      object\n",
      " 9   range_open_to_close_hour  0 non-null      object\n",
      " 10  imported_at               0 non-null      object\n",
      "dtypes: object(11)\n",
      "memory usage: 0.0+ bytes\n",
      "None\n"
     ]
    }
   ],
   "source": [
    "if int(all_prediction)==0:\n",
    "    sql=f\"\"\"\n",
    "    SELECT *  FROM `{new_data_table_id}` \n",
    "     WHERE DATE(imported_at) = '{today_str}'\n",
    "     order by imported_at\n",
    "    \"\"\"\n",
    "else:\n",
    "    sql=f\"\"\"\n",
    "    SELECT *  FROM `{new_data_table_id}` \n",
    "     order by imported_at\n",
    "    \"\"\"\n",
    "\n",
    "print(sql)\n",
    "\n",
    "\n",
    "query_result=client.query(sql)\n",
    "df=query_result.to_dataframe()\n",
    "if df.empty==True:\n",
    "  print(\"no data to make prediction\")  \n",
    "  # return \"no data to make prediction\"\n",
    "print(df.info())"
   ]
  },
  {
   "cell_type": "code",
   "execution_count": 81,
   "id": "fdd59584-42b3-4ca4-83f4-4656a1d71baf",
   "metadata": {},
   "outputs": [
    {
     "name": "stdout",
     "output_type": "stream",
     "text": [
      "<class 'pandas.core.frame.DataFrame'>\n",
      "RangeIndex: 49 entries, 0 to 48\n",
      "Data columns (total 7 columns):\n",
      " #   Column              Non-Null Count  Dtype  \n",
      "---  ------              --------------  -----  \n",
      " 0   severity_id         49 non-null     Int64  \n",
      " 1   sla                 49 non-null     object \n",
      " 2   product_type        49 non-null     object \n",
      " 3   brand               49 non-null     object \n",
      " 4   service_type        49 non-null     object \n",
      " 5   incident_type       49 non-null     object \n",
      " 6   open_to_close_hour  49 non-null     float64\n",
      "dtypes: Int64(1), float64(1), object(5)\n",
      "memory usage: 2.9+ KB\n",
      "None\n"
     ]
    },
    {
     "data": {
      "text/html": [
       "<div>\n",
       "<style scoped>\n",
       "    .dataframe tbody tr th:only-of-type {\n",
       "        vertical-align: middle;\n",
       "    }\n",
       "\n",
       "    .dataframe tbody tr th {\n",
       "        vertical-align: top;\n",
       "    }\n",
       "\n",
       "    .dataframe thead th {\n",
       "        text-align: right;\n",
       "    }\n",
       "</style>\n",
       "<table border=\"1\" class=\"dataframe\">\n",
       "  <thead>\n",
       "    <tr style=\"text-align: right;\">\n",
       "      <th></th>\n",
       "      <th>severity_id</th>\n",
       "      <th>sla</th>\n",
       "      <th>product_type</th>\n",
       "      <th>brand</th>\n",
       "      <th>service_type</th>\n",
       "      <th>incident_type</th>\n",
       "      <th>open_to_close_hour</th>\n",
       "    </tr>\n",
       "  </thead>\n",
       "  <tbody>\n",
       "    <tr>\n",
       "      <th>39</th>\n",
       "      <td>4</td>\n",
       "      <td>24x7 4Hrs Response Time</td>\n",
       "      <td>Firewall</td>\n",
       "      <td>Palo Alto</td>\n",
       "      <td>Request</td>\n",
       "      <td>Software</td>\n",
       "      <td>622.283333</td>\n",
       "    </tr>\n",
       "    <tr>\n",
       "      <th>40</th>\n",
       "      <td>2</td>\n",
       "      <td>24x7 4Hrs Resolution Time</td>\n",
       "      <td>Firewall</td>\n",
       "      <td>Palo Alto</td>\n",
       "      <td>Incident</td>\n",
       "      <td>General Incident</td>\n",
       "      <td>0.683333</td>\n",
       "    </tr>\n",
       "    <tr>\n",
       "      <th>41</th>\n",
       "      <td>2</td>\n",
       "      <td>24x7 4Hrs Response Time</td>\n",
       "      <td>Server</td>\n",
       "      <td>DELL</td>\n",
       "      <td>Incident</td>\n",
       "      <td>Network Card Failure</td>\n",
       "      <td>17.400000</td>\n",
       "    </tr>\n",
       "    <tr>\n",
       "      <th>42</th>\n",
       "      <td>3</td>\n",
       "      <td>24x7 4Hrs Response Time</td>\n",
       "      <td>Software</td>\n",
       "      <td>Red Hat</td>\n",
       "      <td>Incident</td>\n",
       "      <td>General Incident</td>\n",
       "      <td>4.200000</td>\n",
       "    </tr>\n",
       "    <tr>\n",
       "      <th>43</th>\n",
       "      <td>3</td>\n",
       "      <td>24x7 4Hrs Response Time</td>\n",
       "      <td>Software</td>\n",
       "      <td>VMWare</td>\n",
       "      <td>Incident</td>\n",
       "      <td>General Incident</td>\n",
       "      <td>1.233333</td>\n",
       "    </tr>\n",
       "    <tr>\n",
       "      <th>44</th>\n",
       "      <td>4</td>\n",
       "      <td>24x7 4Hrs Resolution Time</td>\n",
       "      <td>Software</td>\n",
       "      <td>VMWare</td>\n",
       "      <td>Request</td>\n",
       "      <td>Upgrade Software</td>\n",
       "      <td>5.000000</td>\n",
       "    </tr>\n",
       "    <tr>\n",
       "      <th>45</th>\n",
       "      <td>4</td>\n",
       "      <td>24x7 4Hrs Resolution Time</td>\n",
       "      <td>Software</td>\n",
       "      <td>VMWare</td>\n",
       "      <td>Request</td>\n",
       "      <td>Upgrade Software</td>\n",
       "      <td>2.833333</td>\n",
       "    </tr>\n",
       "    <tr>\n",
       "      <th>46</th>\n",
       "      <td>4</td>\n",
       "      <td>24x7 4Hrs Resolution Time</td>\n",
       "      <td>Software</td>\n",
       "      <td>VMWare</td>\n",
       "      <td>Request</td>\n",
       "      <td>Upgrade Software</td>\n",
       "      <td>2.500000</td>\n",
       "    </tr>\n",
       "    <tr>\n",
       "      <th>47</th>\n",
       "      <td>4</td>\n",
       "      <td>24x7 6Hrs Resolution Time</td>\n",
       "      <td>Storage</td>\n",
       "      <td>HPE</td>\n",
       "      <td>Request</td>\n",
       "      <td>OS / Firmware</td>\n",
       "      <td>2.500000</td>\n",
       "    </tr>\n",
       "    <tr>\n",
       "      <th>48</th>\n",
       "      <td>4</td>\n",
       "      <td>24x7 6Hrs Resolution Time</td>\n",
       "      <td>Storage</td>\n",
       "      <td>HPE</td>\n",
       "      <td>Request</td>\n",
       "      <td>OS / Firmware</td>\n",
       "      <td>15.283333</td>\n",
       "    </tr>\n",
       "  </tbody>\n",
       "</table>\n",
       "</div>"
      ],
      "text/plain": [
       "    severity_id                        sla product_type      brand  \\\n",
       "39            4    24x7 4Hrs Response Time     Firewall  Palo Alto   \n",
       "40            2  24x7 4Hrs Resolution Time     Firewall  Palo Alto   \n",
       "41            2    24x7 4Hrs Response Time       Server       DELL   \n",
       "42            3    24x7 4Hrs Response Time     Software    Red Hat   \n",
       "43            3    24x7 4Hrs Response Time     Software     VMWare   \n",
       "44            4  24x7 4Hrs Resolution Time     Software     VMWare   \n",
       "45            4  24x7 4Hrs Resolution Time     Software     VMWare   \n",
       "46            4  24x7 4Hrs Resolution Time     Software     VMWare   \n",
       "47            4  24x7 6Hrs Resolution Time      Storage        HPE   \n",
       "48            4  24x7 6Hrs Resolution Time      Storage        HPE   \n",
       "\n",
       "   service_type         incident_type  open_to_close_hour  \n",
       "39      Request              Software          622.283333  \n",
       "40     Incident      General Incident            0.683333  \n",
       "41     Incident  Network Card Failure           17.400000  \n",
       "42     Incident      General Incident            4.200000  \n",
       "43     Incident      General Incident            1.233333  \n",
       "44      Request      Upgrade Software            5.000000  \n",
       "45      Request      Upgrade Software            2.833333  \n",
       "46      Request      Upgrade Software            2.500000  \n",
       "47      Request         OS / Firmware            2.500000  \n",
       "48      Request         OS / Firmware           15.283333  "
      ]
     },
     "execution_count": 81,
     "metadata": {},
     "output_type": "execute_result"
    }
   ],
   "source": [
    "unseen =df.drop(columns=unusedCols_unseen)\n",
    "print(unseen.info())\n",
    "unseen.tail(10)"
   ]
  },
  {
   "cell_type": "code",
   "execution_count": 82,
   "id": "a4b709a5-91c0-4e40-abd7-7fc4bc49c5f3",
   "metadata": {},
   "outputs": [
    {
     "name": "stdout",
     "output_type": "stream",
     "text": [
      "<_PrefetchDataset element_spec={'sla': TensorSpec(shape=(None,), dtype=tf.string, name=None), 'product_type': TensorSpec(shape=(None,), dtype=tf.string, name=None), 'brand': TensorSpec(shape=(None,), dtype=tf.string, name=None), 'service_type': TensorSpec(shape=(None,), dtype=tf.string, name=None), 'incident_type': TensorSpec(shape=(None,), dtype=tf.string, name=None), 'open_to_close_hour': TensorSpec(shape=(None,), dtype=tf.float64, name=None)}>\n"
     ]
    }
   ],
   "source": [
    "unseen_ds= tfdf.keras.pd_dataframe_to_tf_dataset(unseen.drop(columns=['severity_id']))\n",
    "print(unseen_ds)"
   ]
  },
  {
   "cell_type": "code",
   "execution_count": 83,
   "id": "31d90302-f84b-4266-9407-a03f1689026f",
   "metadata": {},
   "outputs": [
    {
     "name": "stdout",
     "output_type": "stream",
     "text": [
      "1/1 [==============================] - 0s 71ms/step\n",
      "[0.25636742] : 0\n",
      "[0.17903766] : 0\n",
      "[0.9165269] : 1\n",
      "[0.9285503] : 1\n",
      "[0.87518704] : 1\n",
      "[0.69971377] : 1\n",
      "[0.9147515] : 1\n",
      "[0.92415375] : 1\n",
      "[0.84933454] : 1\n",
      "[0.44458163] : 0\n",
      "[0.9435532] : 1\n",
      "[0.8062814] : 1\n",
      "[0.7003334] : 1\n",
      "[0.9286715] : 1\n",
      "[0.5661504] : 1\n",
      "[0.66304684] : 1\n",
      "[0.9765022] : 1\n",
      "[0.951737] : 1\n",
      "[0.44791013] : 0\n",
      "[0.9255828] : 1\n",
      "[0.42805284] : 0\n",
      "[0.45431378] : 0\n",
      "[0.20582551] : 0\n",
      "[0.76085263] : 1\n",
      "[0.5264448] : 1\n",
      "[0.53275955] : 1\n",
      "[0.67538774] : 1\n",
      "[0.19062455] : 0\n",
      "[0.1809187] : 0\n",
      "[0.7941052] : 1\n",
      "[0.9313895] : 1\n",
      "[0.2712011] : 0\n",
      "[0.05013854] : 0\n",
      "[0.03604104] : 0\n",
      "[0.08623972] : 0\n",
      "[0.01716065] : 0\n",
      "[0.01691318] : 0\n",
      "[0.01121346] : 0\n",
      "[0.00765095] : 0\n",
      "[0.02547074] : 0\n",
      "[0.9886457] : 1\n",
      "[0.92415375] : 1\n",
      "[0.3675326] : 0\n",
      "[0.3275662] : 0\n",
      "[0.02060693] : 0\n",
      "[0.0102007] : 0\n",
      "[0.00765095] : 0\n",
      "[0.00982146] : 0\n",
      "[0.19293757] : 0\n"
     ]
    },
    {
     "name": "stderr",
     "output_type": "stream",
     "text": [
      "2023-07-21 17:06:52.373743: I tensorflow/core/common_runtime/executor.cc:1197] [/device:CPU:0] (DEBUG INFO) Executor start aborting (this does not indicate an error and you can ignore this message): INVALID_ARGUMENT: You must feed a value for placeholder tensor 'Placeholder/_0' with dtype string and shape [49]\n",
      "\t [[{{node Placeholder/_0}}]]\n"
     ]
    }
   ],
   "source": [
    "predResultList=abc_model.predict(unseen_ds)\n",
    "predServerityIDList=[]\n",
    "for predResult in predResultList:\n",
    "    # prob = tf.nn.sigmoid(predResult) # no need to convert to Signmoid\n",
    "    # print(prob)\n",
    "    # pred_seveirty_id= \"critical\" if _class==1 else \"normal\"\n",
    "    _class= 1 if predResult[0]>=0.5 else 0  \n",
    "    predServerityIDList.append(_class) #0=normal , 1=critical\n",
    "    print(f\"{predResult} : {_class}\")\n",
    "\n",
    "dfPred=pd.DataFrame(data=predServerityIDList,columns=[\"pred_binary_severity\"])   \n"
   ]
  },
  {
   "cell_type": "code",
   "execution_count": 84,
   "id": "1ff6f7b4-ca5a-400f-a451-a15e2abb7e55",
   "metadata": {},
   "outputs": [],
   "source": [
    "def map_4to2_serverity(severity_id):\n",
    "    if severity_id==1 or severity_id==2:\n",
    "       return 1\n",
    "    else:\n",
    "       return 0 \n",
    "df['label_binary_severity'] =df['severity_id'].apply(map_4to2_serverity)\n",
    "\n",
    "dfPred\n",
    "df=pd.concat([df,dfPred],axis=1)\n",
    "# df"
   ]
  },
  {
   "cell_type": "markdown",
   "id": "767ac965-914f-4ca8-99f4-33f25079bed1",
   "metadata": {},
   "source": [
    "# Evaluate model"
   ]
  },
  {
   "cell_type": "code",
   "execution_count": 85,
   "id": "06828323-74af-44fb-b261-aade71784b68",
   "metadata": {},
   "outputs": [
    {
     "name": "stdout",
     "output_type": "stream",
     "text": [
      "[0, 1]\n",
      "          pred-0  pred-1\n",
      "actual-0      22       7\n",
      "actual-1       3      17\n",
      "              precision    recall  f1-score   support\n",
      "\n",
      "           0       0.88      0.76      0.81        29\n",
      "           1       0.71      0.85      0.77        20\n",
      "\n",
      "    accuracy                           0.80        49\n",
      "   macro avg       0.79      0.80      0.79        49\n",
      "weighted avg       0.81      0.80      0.80        49\n",
      "\n"
     ]
    }
   ],
   "source": [
    "if is_evaluation:\n",
    "    from sklearn.metrics import confusion_matrix,classification_report\n",
    "    className=list(set().union(list(df['pred_binary_severity'].unique()),list(df['label_binary_severity'].unique())))\n",
    "    print(className)\n",
    "    actualClass=[  f'actual-{x}' for x in  className]\n",
    "    predictedlClass=[  f'pred-{x}' for x in className]\n",
    "    y_true=list(df['label_binary_severity'])\n",
    "    y_pred=list(df['pred_binary_severity'])\n",
    "    cnf_matrix = confusion_matrix(y_true,y_pred)\n",
    "    cnf_matrix\n",
    "\n",
    "    # #index=actual , column=prediction\n",
    "    cm_df = pd.DataFrame(cnf_matrix,\n",
    "                         index = actualClass, \n",
    "                         columns = predictedlClass)\n",
    "    print(cm_df)\n",
    "    print(classification_report(y_true, y_pred, labels=className))"
   ]
  },
  {
   "cell_type": "markdown",
   "id": "e98ac483-bdf4-4060-b394-95ae66b01286",
   "metadata": {},
   "source": [
    "# Transform data for Writing Prediction Result to BQ"
   ]
  },
  {
   "cell_type": "code",
   "execution_count": 86,
   "id": "b18455cc-545f-424b-9640-37eb84b4dad2",
   "metadata": {},
   "outputs": [],
   "source": [
    "df=df[['id','label_binary_severity','pred_binary_severity']]\n",
    "df['prediction_item_date']=today\n",
    "df['prediction_datetime']=datetime.now()\n",
    "df['model_version']=model_version\n",
    "# print(df)"
   ]
  },
  {
   "cell_type": "code",
   "execution_count": null,
   "id": "7a466acd-b50a-44c0-85fe-4a4d07afd09c",
   "metadata": {},
   "outputs": [],
   "source": []
  },
  {
   "cell_type": "markdown",
   "id": "9c973c88-9133-4fbb-adcd-fcc7981702f1",
   "metadata": {},
   "source": [
    "# Load ata to BQ"
   ]
  },
  {
   "cell_type": "code",
   "execution_count": 87,
   "id": "690bc079-2458-42b7-8343-30114abb4435",
   "metadata": {},
   "outputs": [
    {
     "name": "stdout",
     "output_type": "stream",
     "text": [
      "Total Prediction ML  49 Imported bigquery successfully\n"
     ]
    }
   ],
   "source": [
    "def loadDataFrameToBQ():\n",
    "    # WRITE_TRUNCATE , WRITE_APPEND\n",
    "    try:\n",
    "        if all_prediction==1: \n",
    "            job_config = bigquery.LoadJobConfig(write_disposition=\"WRITE_TRUNCATE\")\n",
    "        else:\n",
    "            job_config = bigquery.LoadJobConfig(write_disposition=\"WRITE_APPEND\")\n",
    "\n",
    "        job = client.load_table_from_dataframe(\n",
    "            df, predictResult_table_id, job_config=job_config\n",
    "        )\n",
    "        job.result()  # Wait for the job to complete.\n",
    "        print(\"Total Prediction ML \", len(df), \"Imported bigquery successfully\")\n",
    "\n",
    "    except BadRequest as e:\n",
    "        print(\"Bigquery Error\\n\")\n",
    "        for e in job.errors:\n",
    "            print('ERROR: {}'.format(e['message']))\n",
    "\n",
    "try:\n",
    "    loadDataFrameToBQ()\n",
    "except Exception as ex:\n",
    "    raise ex"
   ]
  },
  {
   "cell_type": "code",
   "execution_count": null,
   "id": "293e9a0a-85c3-46c3-8298-2271d8b462f7",
   "metadata": {},
   "outputs": [],
   "source": [
    "# return 'All incidents has been predicted completely.'"
   ]
  }
 ],
 "metadata": {
  "environment": {
   "kernel": "python3",
   "name": "tf2-gpu.2-12.m109",
   "type": "gcloud",
   "uri": "gcr.io/deeplearning-platform-release/tf2-gpu.2-12:m109"
  },
  "kernelspec": {
   "display_name": "Python 3",
   "language": "python",
   "name": "python3"
  },
  "language_info": {
   "codemirror_mode": {
    "name": "ipython",
    "version": 3
   },
   "file_extension": ".py",
   "mimetype": "text/x-python",
   "name": "python",
   "nbconvert_exporter": "python",
   "pygments_lexer": "ipython3",
   "version": "3.10.11"
  }
 },
 "nbformat": 4,
 "nbformat_minor": 5
}
