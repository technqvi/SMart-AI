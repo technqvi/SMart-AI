{
 "cells": [
  {
   "cell_type": "code",
   "execution_count": 14,
   "id": "9df47983-136a-4ae5-99cb-114efcecc044",
   "metadata": {},
   "outputs": [
    {
     "name": "stdout",
     "output_type": "stream",
     "text": [
      "2.12.0\n",
      "1.4.0\n"
     ]
    }
   ],
   "source": [
    "from google.cloud import bigquery\n",
    "\n",
    "import pandas as pd\n",
    "import numpy as np\n",
    "from datetime import date,datetime,timedelta,timezone\n",
    "\n",
    "import math\n",
    "import os\n",
    "\n",
    "import tensorflow as tf\n",
    "import tensorflow_decision_forests as tfdf  # constantly registered to load model \n",
    "print(tf.__version__)\n",
    "print(tfdf.__version__)"
   ]
  },
  {
   "cell_type": "code",
   "execution_count": 15,
   "id": "b7633548-9dc9-406c-a8ec-080e7c5562f3",
   "metadata": {},
   "outputs": [],
   "source": [
    "# import functions_framework\n",
    "# @functions_framework.http\n",
    "# def xgb_tf_predict_incident_severity(request):"
   ]
  },
  {
   "cell_type": "markdown",
   "id": "166aefd0-bb63-428a-a29e-9f1548e1b354",
   "metadata": {},
   "source": [
    "# Load Configuration Data and Constant Variable"
   ]
  },
  {
   "cell_type": "code",
   "execution_count": 16,
   "id": "b9604a8d-66ee-41f8-bca5-4ced39eadd0a",
   "metadata": {},
   "outputs": [
    {
     "name": "stdout",
     "output_type": "stream",
     "text": [
      "Prediction at 2023-08-06 13:00:01.046552+00:00 for 2023-08-06 (2023-08-06 00:00:00)\n",
      "gs://demo-tf-incident-pongthorn/demo_binary_xgb_tf_model\n",
      "Data: new2_incident and Prediction: new2_result_binary_prediction_incident\n"
     ]
    }
   ],
   "source": [
    "projectId=\"pongthorn\"\n",
    "#_model='binary_xgb_tf_model'   # the is resonable because unsseen and tune 70%\n",
    "all_prediction=True\n",
    "is_evaluation=True\n",
    "\n",
    "_model=\"demo_binary_xgb_tf_model\"  # best 75% on unseen test\n",
    "model_version=f'{_model}_demo_t150723'\n",
    "\n",
    "model_gs_path=f\"gs://demo-tf-incident-pongthorn/{_model}\"\n",
    "\n",
    "dataset_id=\"SMartML\"\n",
    "\n",
    "data_table=\"new2_incident\"\n",
    "prediction_table=\"new2_result_binary_prediction_incident\"\n",
    "\n",
    "\n",
    "# unusedCols_unseen=['id','severity_name','imported_at','open_to_close_hour']\n",
    "\n",
    "unusedCols_unseen=['id','severity_name','imported_at','range_open_to_close_hour']\n",
    "\n",
    "\n",
    "# Get today's date\n",
    "prediction_datetime=datetime.now(timezone.utc)\n",
    "today_str=prediction_datetime.strftime(\"%Y-%m-%d\")\n",
    "today=datetime.strptime(today_str,\"%Y-%m-%d\")\n",
    "print(f\"Prediction at {prediction_datetime} for {today_str} ({today})\")\n",
    "\n",
    "print(model_gs_path)\n",
    "print(f\"Data: {data_table} and Prediction: {prediction_table}\")"
   ]
  },
  {
   "cell_type": "markdown",
   "id": "e6feef88-a349-497c-9845-731e4fad788c",
   "metadata": {},
   "source": [
    "# Load Model"
   ]
  },
  {
   "cell_type": "code",
   "execution_count": 17,
   "id": "83c3e87a-46fb-4294-8ad9-45cd14f2e21c",
   "metadata": {},
   "outputs": [
    {
     "name": "stderr",
     "output_type": "stream",
     "text": [
      "[INFO 23-08-06 13:00:04.3141 UTC kernel.cc:1243] Loading model from path gs://demo-tf-incident-pongthorn/demo_binary_xgb_tf_model/assets/ with prefix 1a7b1c3944f24706\n",
      "[INFO 23-08-06 13:00:04.8914 UTC abstract_model.cc:1311] Engine \"GradientBoostedTreesQuickScorerExtended\" built\n",
      "[INFO 23-08-06 13:00:04.8921 UTC kernel.cc:1075] Use fast generic engine\n"
     ]
    },
    {
     "name": "stdout",
     "output_type": "stream",
     "text": [
      "Model: \"gradient_boosted_trees_model\"\n",
      "_________________________________________________________________\n",
      " Layer (type)                Output Shape              Param #   \n",
      "=================================================================\n",
      "=================================================================\n",
      "Total params: 1\n",
      "Trainable params: 0\n",
      "Non-trainable params: 1\n",
      "_________________________________________________________________\n",
      "None\n"
     ]
    }
   ],
   "source": [
    "abc_model = tf.keras.models.load_model(model_gs_path)  \n",
    "print(abc_model.summary())\n",
    "# abc_model = tf.keras.models.load_model(model_local_path) "
   ]
  },
  {
   "cell_type": "markdown",
   "id": "ff853c6f-9db7-4e35-8e29-5ad37e3cfef2",
   "metadata": {},
   "source": [
    "# BigQuery Configuration"
   ]
  },
  {
   "cell_type": "code",
   "execution_count": 18,
   "id": "4bc0a0cc-321a-47a3-9712-d428a838533c",
   "metadata": {},
   "outputs": [
    {
     "name": "stdout",
     "output_type": "stream",
     "text": [
      "pongthorn.SMartML.new2_incident\n",
      "pongthorn.SMartML.new2_result_binary_prediction_incident\n"
     ]
    }
   ],
   "source": [
    "client = bigquery.Client(project=projectId)\n",
    "new_data_table_id=f\"{projectId}.{dataset_id}.{data_table}\"\n",
    "predictResult_table_id=f\"{projectId}.{dataset_id}.{prediction_table}\"\n",
    "print(new_data_table_id)\n",
    "print(predictResult_table_id)"
   ]
  },
  {
   "cell_type": "code",
   "execution_count": 19,
   "id": "5939dbb1-3319-4953-b238-40d5109dee90",
   "metadata": {},
   "outputs": [
    {
     "name": "stdout",
     "output_type": "stream",
     "text": [
      "Predict Result Table pongthorn.SMartML.new2_result_binary_prediction_incident already exists.\n"
     ]
    }
   ],
   "source": [
    "try:\n",
    "    client.get_table(predictResult_table_id)  # Make an API request.\n",
    "    print(\"Predict Result Table {} already exists.\".format(predictResult_table_id))\n",
    "    \n",
    "except Exception as ex:\n",
    "    schema = [\n",
    "    bigquery.SchemaField(\"id\", \"INTEGER\", mode=\"REQUIRED\"),\n",
    "    bigquery.SchemaField(\"prediction_item_date\", \"DATE\", mode=\"REQUIRED\"),    \n",
    "    bigquery.SchemaField(\"label_binary_severity\", \"INTEGER\", mode=\"REQUIRED\"),\n",
    "    bigquery.SchemaField(\"pred_binary_severity\", \"INTEGER\", mode=\"REQUIRED\"),       \n",
    "    bigquery.SchemaField(\"prediction_datetime\", \"DATETIME\", mode=\"REQUIRED\") ,\n",
    "    bigquery.SchemaField(\"model_version\", \"STRING\", mode=\"REQUIRED\")     \n",
    "    ]\n",
    "\n",
    "    table = bigquery.Table(predictResult_table_id,schema=schema)\n",
    "    table.time_partitioning = bigquery.TimePartitioning(\n",
    "    type_=bigquery.TimePartitioningType.DAY,field=\"prediction_item_date\")\n",
    "    \n",
    "    table = client.create_table(table)  # Make an API request.\n",
    "    \n",
    "    print(\n",
    "        \"Created table {}.{}.{}\".format(table.project, table.dataset_id, table.table_id)\n",
    "    )"
   ]
  },
  {
   "cell_type": "markdown",
   "id": "eaffc009-d504-4345-8af0-75ea4100d667",
   "metadata": {},
   "source": [
    "# Load data to Make Prediction"
   ]
  },
  {
   "cell_type": "code",
   "execution_count": 25,
   "id": "c849ad7a-10f4-43b8-8421-1f907fc42b7e",
   "metadata": {},
   "outputs": [
    {
     "name": "stdout",
     "output_type": "stream",
     "text": [
      "\n",
      "    SELECT *  FROM `pongthorn.SMartML.new2_incident` \n",
      "     order by imported_at\n",
      "    \n",
      "<class 'pandas.core.frame.DataFrame'>\n",
      "RangeIndex: 100 entries, 0 to 99\n",
      "Data columns (total 11 columns):\n",
      " #   Column                    Non-Null Count  Dtype         \n",
      "---  ------                    --------------  -----         \n",
      " 0   id                        100 non-null    Int64         \n",
      " 1   severity_id               100 non-null    Int64         \n",
      " 2   severity_name             100 non-null    object        \n",
      " 3   sla                       100 non-null    object        \n",
      " 4   product_type              100 non-null    object        \n",
      " 5   brand                     100 non-null    object        \n",
      " 6   service_type              100 non-null    object        \n",
      " 7   incident_type             100 non-null    object        \n",
      " 8   open_to_close_hour        100 non-null    float64       \n",
      " 9   range_open_to_close_hour  100 non-null    object        \n",
      " 10  imported_at               100 non-null    datetime64[ns]\n",
      "dtypes: Int64(2), datetime64[ns](1), float64(1), object(7)\n",
      "memory usage: 8.9+ KB\n",
      "None\n"
     ]
    }
   ],
   "source": [
    "if int(all_prediction)==0:\n",
    "    sql=f\"\"\"\n",
    "    SELECT *  FROM `{new_data_table_id}` \n",
    "     WHERE DATE(imported_at) = '{today_str}'\n",
    "     order by imported_at\n",
    "    \"\"\"\n",
    "else:\n",
    "    sql=f\"\"\"\n",
    "    SELECT *  FROM `{new_data_table_id}` \n",
    "     order by imported_at\n",
    "    \"\"\"\n",
    "\n",
    "print(sql)\n",
    "\n",
    "\n",
    "query_result=client.query(sql)\n",
    "df=query_result.to_dataframe()\n",
    "if df.empty==True:\n",
    "  print(\"no data to make prediction\")  \n",
    "  # return \"no data to make prediction\"\n",
    "print(df.info())\n"
   ]
  },
  {
   "cell_type": "markdown",
   "id": "8d3afe76-1f85-4b6c-9079-6c00b98edd0d",
   "metadata": {},
   "source": [
    "# Build Unseen data by removing label and others"
   ]
  },
  {
   "cell_type": "code",
   "execution_count": 27,
   "id": "fdd59584-42b3-4ca4-83f4-4656a1d71baf",
   "metadata": {},
   "outputs": [
    {
     "name": "stdout",
     "output_type": "stream",
     "text": [
      "<class 'pandas.core.frame.DataFrame'>\n",
      "RangeIndex: 100 entries, 0 to 99\n",
      "Data columns (total 7 columns):\n",
      " #   Column              Non-Null Count  Dtype  \n",
      "---  ------              --------------  -----  \n",
      " 0   severity_id         100 non-null    Int64  \n",
      " 1   sla                 100 non-null    object \n",
      " 2   product_type        100 non-null    object \n",
      " 3   brand               100 non-null    object \n",
      " 4   service_type        100 non-null    object \n",
      " 5   incident_type       100 non-null    object \n",
      " 6   open_to_close_hour  100 non-null    float64\n",
      "dtypes: Int64(1), float64(1), object(5)\n",
      "memory usage: 5.7+ KB\n",
      "None\n"
     ]
    },
    {
     "data": {
      "text/html": [
       "<div>\n",
       "<style scoped>\n",
       "    .dataframe tbody tr th:only-of-type {\n",
       "        vertical-align: middle;\n",
       "    }\n",
       "\n",
       "    .dataframe tbody tr th {\n",
       "        vertical-align: top;\n",
       "    }\n",
       "\n",
       "    .dataframe thead th {\n",
       "        text-align: right;\n",
       "    }\n",
       "</style>\n",
       "<table border=\"1\" class=\"dataframe\">\n",
       "  <thead>\n",
       "    <tr style=\"text-align: right;\">\n",
       "      <th></th>\n",
       "      <th>severity_id</th>\n",
       "      <th>sla</th>\n",
       "      <th>product_type</th>\n",
       "      <th>brand</th>\n",
       "      <th>service_type</th>\n",
       "      <th>incident_type</th>\n",
       "      <th>open_to_close_hour</th>\n",
       "    </tr>\n",
       "  </thead>\n",
       "  <tbody>\n",
       "    <tr>\n",
       "      <th>90</th>\n",
       "      <td>4</td>\n",
       "      <td>24x7 4Hrs Resolution Time</td>\n",
       "      <td>Software</td>\n",
       "      <td>VMWare</td>\n",
       "      <td>Request</td>\n",
       "      <td>Upgrade Software</td>\n",
       "      <td>2.833333</td>\n",
       "    </tr>\n",
       "    <tr>\n",
       "      <th>91</th>\n",
       "      <td>4</td>\n",
       "      <td>24x7 4Hrs Resolution Time</td>\n",
       "      <td>Software</td>\n",
       "      <td>VMWare</td>\n",
       "      <td>Request</td>\n",
       "      <td>Upgrade Software</td>\n",
       "      <td>2.500000</td>\n",
       "    </tr>\n",
       "    <tr>\n",
       "      <th>92</th>\n",
       "      <td>4</td>\n",
       "      <td>24x7 4Hrs Resolution Time</td>\n",
       "      <td>Software</td>\n",
       "      <td>VMWare</td>\n",
       "      <td>Request</td>\n",
       "      <td>Upgrade Software</td>\n",
       "      <td>2.000000</td>\n",
       "    </tr>\n",
       "    <tr>\n",
       "      <th>93</th>\n",
       "      <td>4</td>\n",
       "      <td>24x7 4Hrs Resolution Time</td>\n",
       "      <td>Software</td>\n",
       "      <td>VMWare</td>\n",
       "      <td>Request</td>\n",
       "      <td>Upgrade Software</td>\n",
       "      <td>14.500000</td>\n",
       "    </tr>\n",
       "    <tr>\n",
       "      <th>94</th>\n",
       "      <td>4</td>\n",
       "      <td>24x7 4Hrs Resolution Time</td>\n",
       "      <td>Software</td>\n",
       "      <td>Veeam</td>\n",
       "      <td>Request</td>\n",
       "      <td>Software</td>\n",
       "      <td>2.000000</td>\n",
       "    </tr>\n",
       "    <tr>\n",
       "      <th>95</th>\n",
       "      <td>4</td>\n",
       "      <td>24x7 4Hrs Resolution Time</td>\n",
       "      <td>Software</td>\n",
       "      <td>VMWare</td>\n",
       "      <td>Request</td>\n",
       "      <td>Upgrade Software</td>\n",
       "      <td>2.500000</td>\n",
       "    </tr>\n",
       "    <tr>\n",
       "      <th>96</th>\n",
       "      <td>4</td>\n",
       "      <td>24x7 4Hrs Resolution Time</td>\n",
       "      <td>Software</td>\n",
       "      <td>Veeam</td>\n",
       "      <td>Request</td>\n",
       "      <td>Software</td>\n",
       "      <td>4.000000</td>\n",
       "    </tr>\n",
       "    <tr>\n",
       "      <th>97</th>\n",
       "      <td>4</td>\n",
       "      <td>24x7 4Hrs Resolution Time</td>\n",
       "      <td>Access Point</td>\n",
       "      <td>Cisco</td>\n",
       "      <td>Request</td>\n",
       "      <td>General Incident</td>\n",
       "      <td>27.500000</td>\n",
       "    </tr>\n",
       "    <tr>\n",
       "      <th>98</th>\n",
       "      <td>4</td>\n",
       "      <td>24x7 4Hrs Resolution Time</td>\n",
       "      <td>Access Point</td>\n",
       "      <td>Cisco</td>\n",
       "      <td>Request</td>\n",
       "      <td>General Incident</td>\n",
       "      <td>34.000000</td>\n",
       "    </tr>\n",
       "    <tr>\n",
       "      <th>99</th>\n",
       "      <td>4</td>\n",
       "      <td>24x7 4Hrs Resolution Time</td>\n",
       "      <td>Access Point</td>\n",
       "      <td>Cisco</td>\n",
       "      <td>Request</td>\n",
       "      <td>General Incident</td>\n",
       "      <td>4.500000</td>\n",
       "    </tr>\n",
       "  </tbody>\n",
       "</table>\n",
       "</div>"
      ],
      "text/plain": [
       "    severity_id                        sla  product_type   brand service_type  \\\n",
       "90            4  24x7 4Hrs Resolution Time      Software  VMWare      Request   \n",
       "91            4  24x7 4Hrs Resolution Time      Software  VMWare      Request   \n",
       "92            4  24x7 4Hrs Resolution Time      Software  VMWare      Request   \n",
       "93            4  24x7 4Hrs Resolution Time      Software  VMWare      Request   \n",
       "94            4  24x7 4Hrs Resolution Time      Software   Veeam      Request   \n",
       "95            4  24x7 4Hrs Resolution Time      Software  VMWare      Request   \n",
       "96            4  24x7 4Hrs Resolution Time      Software   Veeam      Request   \n",
       "97            4  24x7 4Hrs Resolution Time  Access Point   Cisco      Request   \n",
       "98            4  24x7 4Hrs Resolution Time  Access Point   Cisco      Request   \n",
       "99            4  24x7 4Hrs Resolution Time  Access Point   Cisco      Request   \n",
       "\n",
       "       incident_type  open_to_close_hour  \n",
       "90  Upgrade Software            2.833333  \n",
       "91  Upgrade Software            2.500000  \n",
       "92  Upgrade Software            2.000000  \n",
       "93  Upgrade Software           14.500000  \n",
       "94          Software            2.000000  \n",
       "95  Upgrade Software            2.500000  \n",
       "96          Software            4.000000  \n",
       "97  General Incident           27.500000  \n",
       "98  General Incident           34.000000  \n",
       "99  General Incident            4.500000  "
      ]
     },
     "execution_count": 27,
     "metadata": {},
     "output_type": "execute_result"
    }
   ],
   "source": [
    "unseen =df.drop(columns=unusedCols_unseen)\n",
    "print(unseen.info())\n",
    "unseen.tail(10)"
   ]
  },
  {
   "cell_type": "markdown",
   "id": "2629f7e6-c179-436e-8a8c-09b902c76938",
   "metadata": {},
   "source": [
    "# Convert dataframe to tensorflow dataset"
   ]
  },
  {
   "cell_type": "code",
   "execution_count": 28,
   "id": "a4b709a5-91c0-4e40-abd7-7fc4bc49c5f3",
   "metadata": {},
   "outputs": [
    {
     "name": "stdout",
     "output_type": "stream",
     "text": [
      "<_PrefetchDataset element_spec={'sla': TensorSpec(shape=(None,), dtype=tf.string, name=None), 'product_type': TensorSpec(shape=(None,), dtype=tf.string, name=None), 'brand': TensorSpec(shape=(None,), dtype=tf.string, name=None), 'service_type': TensorSpec(shape=(None,), dtype=tf.string, name=None), 'incident_type': TensorSpec(shape=(None,), dtype=tf.string, name=None), 'open_to_close_hour': TensorSpec(shape=(None,), dtype=tf.float64, name=None)}>\n"
     ]
    }
   ],
   "source": [
    "unseen_ds= tfdf.keras.pd_dataframe_to_tf_dataset(unseen.drop(columns=['severity_id']))\n",
    "print(unseen_ds)"
   ]
  },
  {
   "cell_type": "code",
   "execution_count": 29,
   "id": "31d90302-f84b-4266-9407-a03f1689026f",
   "metadata": {},
   "outputs": [
    {
     "name": "stdout",
     "output_type": "stream",
     "text": [
      "1/1 [==============================] - 0s 104ms/step\n",
      "[0.40459675] : 0\n",
      "[0.91025925] : 1\n",
      "[0.25244436] : 0\n",
      "[0.34089568] : 0\n",
      "[0.9617809] : 1\n",
      "[0.60632724] : 1\n",
      "[0.81013334] : 1\n",
      "[0.9286333] : 1\n",
      "[0.88944894] : 1\n",
      "[0.9286333] : 1\n",
      "[0.9286333] : 1\n",
      "[0.9286333] : 1\n",
      "[0.9286333] : 1\n",
      "[0.84635705] : 1\n",
      "[0.90719855] : 1\n",
      "[0.7699413] : 1\n",
      "[0.9286333] : 1\n",
      "[0.64559114] : 1\n",
      "[0.95130616] : 1\n",
      "[0.93978626] : 1\n",
      "[0.87598825] : 1\n",
      "[0.8502955] : 1\n",
      "[0.23758069] : 0\n",
      "[0.73691845] : 1\n",
      "[0.60076374] : 1\n",
      "[0.8000254] : 1\n",
      "[0.38826528] : 0\n",
      "[0.2761874] : 0\n",
      "[0.45083866] : 0\n",
      "[0.4864321] : 0\n",
      "[0.26064032] : 0\n",
      "[0.50909126] : 1\n",
      "[0.49745125] : 0\n",
      "[0.03467112] : 0\n",
      "[0.01200945] : 0\n",
      "[0.01200945] : 0\n",
      "[0.01172972] : 0\n",
      "[0.01987898] : 0\n",
      "[0.01579809] : 0\n",
      "[0.02643545] : 0\n",
      "[0.03242865] : 0\n",
      "[0.95745105] : 1\n",
      "[0.8460066] : 1\n",
      "[0.95449686] : 1\n",
      "[0.96046495] : 1\n",
      "[0.95745105] : 1\n",
      "[0.96093214] : 1\n",
      "[0.8357462] : 1\n",
      "[0.9153345] : 1\n",
      "[0.05288174] : 0\n",
      "[0.50073874] : 1\n",
      "[0.92288953] : 1\n",
      "[0.9035213] : 1\n",
      "[0.8831729] : 1\n",
      "[0.72316307] : 1\n",
      "[0.72316307] : 1\n",
      "[0.8174651] : 1\n",
      "[0.82854366] : 1\n",
      "[0.7700566] : 1\n",
      "[0.79387695] : 1\n",
      "[0.79387695] : 1\n",
      "[0.81838596] : 1\n",
      "[0.75159734] : 1\n",
      "[0.5625912] : 1\n",
      "[0.9157668] : 1\n",
      "[0.24127518] : 0\n",
      "[0.26354194] : 0\n",
      "[0.72316307] : 1\n",
      "[0.82818574] : 1\n",
      "[0.46887663] : 0\n",
      "[0.13862671] : 0\n",
      "[0.8334907] : 1\n",
      "[0.04447795] : 0\n",
      "[0.09441822] : 0\n",
      "[0.16165674] : 0\n",
      "[0.24433355] : 0\n",
      "[0.36741084] : 0\n",
      "[0.2463334] : 0\n",
      "[0.72316307] : 1\n",
      "[0.79387695] : 1\n",
      "[0.72316307] : 1\n",
      "[0.72316307] : 1\n",
      "[0.16705696] : 0\n",
      "[0.72259086] : 1\n",
      "[0.13862671] : 0\n",
      "[0.01514251] : 0\n",
      "[0.01898298] : 0\n",
      "[0.05419886] : 0\n",
      "[0.3582977] : 0\n",
      "[0.03115185] : 0\n",
      "[0.02319324] : 0\n",
      "[0.02319324] : 0\n",
      "[0.0354101] : 0\n",
      "[0.01935798] : 0\n",
      "[0.06017044] : 0\n",
      "[0.02319324] : 0\n",
      "[0.05590243] : 0\n",
      "[0.05520267] : 0\n",
      "[0.05520267] : 0\n",
      "[0.04418347] : 0\n"
     ]
    },
    {
     "name": "stderr",
     "output_type": "stream",
     "text": [
      "2023-08-06 13:07:01.049980: I tensorflow/core/common_runtime/executor.cc:1197] [/device:CPU:0] (DEBUG INFO) Executor start aborting (this does not indicate an error and you can ignore this message): INVALID_ARGUMENT: You must feed a value for placeholder tensor 'Placeholder/_5' with dtype string and shape [100]\n",
      "\t [[{{node Placeholder/_5}}]]\n"
     ]
    }
   ],
   "source": [
    "predResultList=abc_model.predict(unseen_ds)\n",
    "predServerityIDList=[]\n",
    "for predResult in predResultList:\n",
    "    # prob = tf.nn.sigmoid(predResult) # no need to convert to Signmoid\n",
    "    # print(prob)\n",
    "    # pred_seveirty_id= \"critical\" if _class==1 else \"normal\"\n",
    "    _class= 1 if predResult[0]>=0.5 else 0  \n",
    "    predServerityIDList.append(_class) #0=normal , 1=critical\n",
    "    print(f\"{predResult} : {_class}\")\n",
    "\n",
    "dfPred=pd.DataFrame(data=predServerityIDList,columns=[\"pred_binary_severity\"])   \n"
   ]
  },
  {
   "cell_type": "markdown",
   "id": "73ecdf4a-3e80-43d5-a02f-ad8a7f620658",
   "metadata": {},
   "source": [
    "# Map severity_id to label for actual value.\n",
    "# Merge predicted value to main dataframe"
   ]
  },
  {
   "cell_type": "code",
   "execution_count": 30,
   "id": "66ada838-3f00-45b6-9cbe-7b84f701348e",
   "metadata": {},
   "outputs": [],
   "source": [
    "def map_4to2_serverity(severity_id):\n",
    "    if severity_id==1 or severity_id==2:\n",
    "       return 1\n",
    "    else:\n",
    "       return 0 \n",
    "df['label_binary_severity'] =df['severity_id'].apply(map_4to2_serverity)\n",
    "\n",
    "dfPred\n",
    "df=pd.concat([df,dfPred],axis=1)\n",
    "# df"
   ]
  },
  {
   "cell_type": "markdown",
   "id": "767ac965-914f-4ca8-99f4-33f25079bed1",
   "metadata": {},
   "source": [
    "# Evaluate model and Show Metric Report"
   ]
  },
  {
   "cell_type": "code",
   "execution_count": 31,
   "id": "06828323-74af-44fb-b261-aade71784b68",
   "metadata": {},
   "outputs": [
    {
     "name": "stdout",
     "output_type": "stream",
     "text": [
      "[0, 1]\n",
      "          pred-0  pred-1\n",
      "actual-0      40       9\n",
      "actual-1       6      45\n",
      "              precision    recall  f1-score   support\n",
      "\n",
      "           0       0.87      0.82      0.84        49\n",
      "           1       0.83      0.88      0.86        51\n",
      "\n",
      "    accuracy                           0.85       100\n",
      "   macro avg       0.85      0.85      0.85       100\n",
      "weighted avg       0.85      0.85      0.85       100\n",
      "\n"
     ]
    }
   ],
   "source": [
    "if is_evaluation:\n",
    "    from sklearn.metrics import confusion_matrix,classification_report\n",
    "    className=list(set().union(list(df['pred_binary_severity'].unique()),list(df['label_binary_severity'].unique())))\n",
    "    print(className)\n",
    "    actualClass=[  f'actual-{x}' for x in  className]\n",
    "    predictedlClass=[  f'pred-{x}' for x in className]\n",
    "    y_true=list(df['label_binary_severity'])\n",
    "    y_pred=list(df['pred_binary_severity'])\n",
    "    cnf_matrix = confusion_matrix(y_true,y_pred)\n",
    "    cnf_matrix\n",
    "\n",
    "    # #index=actual , column=prediction\n",
    "    cm_df = pd.DataFrame(cnf_matrix,\n",
    "                         index = actualClass, \n",
    "                         columns = predictedlClass)\n",
    "    print(cm_df)\n",
    "    print(classification_report(y_true, y_pred, labels=className))"
   ]
  },
  {
   "cell_type": "markdown",
   "id": "e98ac483-bdf4-4060-b394-95ae66b01286",
   "metadata": {},
   "source": [
    "# Transform data for Writing Prediction Result to BQ"
   ]
  },
  {
   "cell_type": "code",
   "execution_count": 32,
   "id": "b18455cc-545f-424b-9640-37eb84b4dad2",
   "metadata": {},
   "outputs": [],
   "source": [
    "df=df[['id','label_binary_severity','pred_binary_severity']]\n",
    "df['prediction_item_date']=today\n",
    "df['prediction_datetime']=datetime.now()\n",
    "df['model_version']=model_version\n",
    "# print(df)"
   ]
  },
  {
   "cell_type": "code",
   "execution_count": null,
   "id": "7a466acd-b50a-44c0-85fe-4a4d07afd09c",
   "metadata": {},
   "outputs": [],
   "source": []
  },
  {
   "cell_type": "markdown",
   "id": "9c973c88-9133-4fbb-adcd-fcc7981702f1",
   "metadata": {},
   "source": [
    "# Load ata to BQ"
   ]
  },
  {
   "cell_type": "code",
   "execution_count": 33,
   "id": "690bc079-2458-42b7-8343-30114abb4435",
   "metadata": {},
   "outputs": [
    {
     "name": "stdout",
     "output_type": "stream",
     "text": [
      "Total Prediction ML  100 Imported bigquery successfully\n"
     ]
    }
   ],
   "source": [
    "def loadDataFrameToBQ():\n",
    "    # WRITE_TRUNCATE , WRITE_APPEND\n",
    "    try:\n",
    "        if all_prediction==1: \n",
    "            job_config = bigquery.LoadJobConfig(write_disposition=\"WRITE_TRUNCATE\")\n",
    "        else:\n",
    "            job_config = bigquery.LoadJobConfig(write_disposition=\"WRITE_APPEND\")\n",
    "\n",
    "        job = client.load_table_from_dataframe(\n",
    "            df, predictResult_table_id, job_config=job_config\n",
    "        )\n",
    "        job.result()  # Wait for the job to complete.\n",
    "        print(\"Total Prediction ML \", len(df), \"Imported bigquery successfully\")\n",
    "\n",
    "    except BadRequest as e:\n",
    "        print(\"Bigquery Error\\n\")\n",
    "        for e in job.errors:\n",
    "            print('ERROR: {}'.format(e['message']))\n",
    "\n",
    "try:\n",
    "    loadDataFrameToBQ()\n",
    "except Exception as ex:\n",
    "    raise ex"
   ]
  },
  {
   "cell_type": "code",
   "execution_count": null,
   "id": "293e9a0a-85c3-46c3-8298-2271d8b462f7",
   "metadata": {},
   "outputs": [],
   "source": [
    "# return 'All incidents has been predicted completely.'"
   ]
  }
 ],
 "metadata": {
  "environment": {
   "kernel": "python3",
   "name": "tf2-gpu.2-12.m109",
   "type": "gcloud",
   "uri": "gcr.io/deeplearning-platform-release/tf2-gpu.2-12:m109"
  },
  "kernelspec": {
   "display_name": "Python 3",
   "language": "python",
   "name": "python3"
  },
  "language_info": {
   "codemirror_mode": {
    "name": "ipython",
    "version": 3
   },
   "file_extension": ".py",
   "mimetype": "text/x-python",
   "name": "python",
   "nbconvert_exporter": "python",
   "pygments_lexer": "ipython3",
   "version": "3.10.11"
  }
 },
 "nbformat": 4,
 "nbformat_minor": 5
}
