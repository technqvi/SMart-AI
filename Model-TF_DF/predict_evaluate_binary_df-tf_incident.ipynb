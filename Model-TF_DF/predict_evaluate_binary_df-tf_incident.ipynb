{
  "cells": [
    {
      "cell_type": "code",
      "execution_count": 36,
      "id": "h4KiyKLHwhUP",
      "metadata": {
        "colab": {
          "base_uri": "https://localhost:8080/"
        },
        "executionInfo": {
          "elapsed": 199,
          "status": "ok",
          "timestamp": 1704617428712,
          "user": {
            "displayName": "",
            "userId": ""
          },
          "user_tz": -420
        },
        "id": "h4KiyKLHwhUP",
        "outputId": "02ad221b-1794-49c1-b368-aad2ab5785bd"
      },
      "outputs": [
        {
          "output_type": "stream",
          "name": "stdout",
          "text": [
            "2.15.0\n",
            "1.8.1\n"
          ]
        }
      ],
      "source": [
        "from google.cloud import bigquery\n",
        "from google.cloud.exceptions import NotFound\n",
        "from google.api_core.exceptions import BadRequest\n",
        "\n",
        "import pandas as pd\n",
        "import numpy as np\n",
        "from datetime import date,datetime,timedelta,timezone\n",
        "\n",
        "import math\n",
        "import os\n",
        "\n",
        "import tensorflow as tf\n",
        "import tensorflow_decision_forests as tfdf  # constantly registered to load model\n",
        "print(tf.__version__)\n",
        "print(tfdf.__version__)"
      ]
    },
    {
      "cell_type": "code",
      "execution_count": 37,
      "id": "b7633548-9dc9-406c-a8ec-080e7c5562f3",
      "metadata": {
        "executionInfo": {
          "elapsed": 14,
          "status": "ok",
          "timestamp": 1704617428902,
          "user": {
            "displayName": "",
            "userId": ""
          },
          "user_tz": -420
        },
        "id": "b7633548-9dc9-406c-a8ec-080e7c5562f3"
      },
      "outputs": [],
      "source": [
        "# import functions_framework\n",
        "# @functions_framework.http\n",
        "# def xgb_tf_predict_incident_severity(request):"
      ]
    },
    {
      "cell_type": "markdown",
      "id": "SdfoZuQvt0iv",
      "metadata": {
        "id": "SdfoZuQvt0iv"
      },
      "source": [
        "# Assign Constant Variable"
      ]
    },
    {
      "cell_type": "code",
      "execution_count": 38,
      "id": "Hg8rQcUfy4Az",
      "metadata": {
        "executionInfo": {
          "elapsed": 14,
          "status": "ok",
          "timestamp": 1704617428902,
          "user": {
            "displayName": "",
            "userId": ""
          },
          "user_tz": -420
        },
        "id": "Hg8rQcUfy4Az"
      },
      "outputs": [],
      "source": [
        "is_evaluation=False # set False on production\n",
        "request = None # comment on cloud function production"
      ]
    },
    {
      "cell_type": "code",
      "execution_count": 39,
      "id": "-eoaAS__tyD1",
      "metadata": {
        "colab": {
          "base_uri": "https://localhost:8080/"
        },
        "executionInfo": {
          "elapsed": 14,
          "status": "ok",
          "timestamp": 1704617428903,
          "user": {
            "displayName": "",
            "userId": ""
          },
          "user_tz": -420
        },
        "id": "-eoaAS__tyD1",
        "outputId": "770f28a7-8813-4958-dd91-2bb040654628"
      },
      "outputs": [
        {
          "output_type": "stream",
          "name": "stdout",
          "text": [
            "Predict From: 2024-01-01\n",
            "GS Root Path:demo-tf-incident-pongthorn\n",
            "Model Folder: binary_gbt_tf12_tuned_model_dec23\n",
            "Model Version: v2_binary_xgb_tf12_tuned_model_dec23\n"
          ]
        }
      ],
      "source": [
        "projectId=os.environ.get('PROJECT_ID','pongthorn')\n",
        "init_predict_from=os.environ.get('DATE_PREDICT_FROM','2024-01-01')    # daily predction set va lue as ''\n",
        "gs_root_path=os.environ.get('GS_MODEL_PATH', 'demo-tf-incident-pongthorn')\n",
        "model_folder=os.environ.get('MODEL_FOLDER','binary_gbt_tf12_tuned_model_dec23' )  # the same value as .env.yaml\n",
        "model_version=os.environ.get('MODEL_VERSION','v2_binary_xgb_tf12_tuned_model_dec23')    # the same value as .env.yaml\n",
        "\n",
        "print(f\"Project ID: {projectId}\")\n",
        "print(f\"Predict From: {init_predict_from}\")\n",
        "print(f\"GS Root Path:{gs_root_path}\")\n",
        "print(f\"Model Folder: {model_folder}\")\n",
        "print(f\"Model Version: {model_version}\")"
      ]
    },
    {
      "cell_type": "markdown",
      "id": "166aefd0-bb63-428a-a29e-9f1548e1b354",
      "metadata": {
        "id": "166aefd0-bb63-428a-a29e-9f1548e1b354"
      },
      "source": [
        "# Set and Load Configuration Data and Constant Variable"
      ]
    },
    {
      "cell_type": "code",
      "execution_count": 40,
      "id": "b9604a8d-66ee-41f8-bca5-4ced39eadd0a",
      "metadata": {
        "colab": {
          "base_uri": "https://localhost:8080/"
        },
        "executionInfo": {
          "elapsed": 13,
          "status": "ok",
          "timestamp": 1704617428903,
          "user": {
            "displayName": "",
            "userId": ""
          },
          "user_tz": -420
        },
        "id": "b9604a8d-66ee-41f8-bca5-4ced39eadd0a",
        "outputId": "1c1b312f-f559-4eca-8c7c-66869366ecc4"
      },
      "outputs": [
        {
          "output_type": "stream",
          "name": "stdout",
          "text": [
            "GS Path: gs://demo-tf-incident-pongthorn/binary_gbt_tf12_tuned_model_dec23\n"
          ]
        }
      ],
      "source": [
        "if request is not None and request.get_json():\n",
        "    request_json = request.get_json()\n",
        "    model_folder=request_json['MODEL_FOLDER']\n",
        "    model_version=request_json['MODEL_VERSION']\n",
        "    print(f\"Load from JSON Post - Model Folder: {model_folder}\")\n",
        "    print(f\"Load from JSON Post - Model Version: {model_version}\")\n",
        "\n",
        "model_gs_path=f\"gs://{gs_root_path}/{model_folder}\"\n",
        "print(f\"GS Path: {model_gs_path}\")"
      ]
    },
    {
      "cell_type": "code",
      "execution_count": 41,
      "id": "_enh5HqPybU5",
      "metadata": {
        "colab": {
          "base_uri": "https://localhost:8080/"
        },
        "executionInfo": {
          "elapsed": 10,
          "status": "ok",
          "timestamp": 1704617428903,
          "user": {
            "displayName": "",
            "userId": ""
          },
          "user_tz": -420
        },
        "id": "_enh5HqPybU5",
        "outputId": "354180b6-dd0b-49d2-a131-439132d4b463"
      },
      "outputs": [
        {
          "output_type": "stream",
          "name": "stdout",
          "text": [
            "Backfilling prediction at 2024-01-07 08:50:28.733064+00:00 from 2024-01-01\n",
            "Data: new2_incident and Prediction: new2_result_binary_prediction_incident\n"
          ]
        }
      ],
      "source": [
        "dataset_id=\"SMartML\"\n",
        "data_table=\"new2_incident\"\n",
        "data_table=\"new2_incident\"\n",
        "prediction_table=\"new2_result_binary_prediction_incident\"\n",
        "\n",
        "\n",
        "# unusedCols_unseen=['id','severity_name','imported_at','open_to_close_hour']\n",
        "unusedCols_unseen=['id','severity_name','imported_at','range_open_to_close_hour']\n",
        "\n",
        "prediction_datetime=datetime.now(timezone.utc)\n",
        "# Get today's date\n",
        "if init_predict_from =='':\n",
        "    today_str=prediction_datetime.strftime(\"%Y-%m-%d\")\n",
        "    print(f\"Daily prediction at {prediction_datetime} for {today_str}\")\n",
        "else:\n",
        "    today_str=init_predict_from\n",
        "    print(f\"Backfilling prediction at {prediction_datetime} from {today_str}\")\n",
        "\n",
        "today=datetime.strptime(today_str,\"%Y-%m-%d\")\n",
        "print(f\"Data: {data_table} and Prediction: {prediction_table}\")"
      ]
    },
    {
      "cell_type": "markdown",
      "id": "e6feef88-a349-497c-9845-731e4fad788c",
      "metadata": {
        "id": "e6feef88-a349-497c-9845-731e4fad788c"
      },
      "source": [
        "# Load Model"
      ]
    },
    {
      "cell_type": "code",
      "execution_count": 42,
      "id": "83c3e87a-46fb-4294-8ad9-45cd14f2e21c",
      "metadata": {
        "colab": {
          "base_uri": "https://localhost:8080/"
        },
        "executionInfo": {
          "elapsed": 1753,
          "status": "ok",
          "timestamp": 1704617430648,
          "user": {
            "displayName": "",
            "userId": ""
          },
          "user_tz": -420
        },
        "id": "83c3e87a-46fb-4294-8ad9-45cd14f2e21c",
        "outputId": "bfa3551e-b659-4754-b29c-eafb9090660d"
      },
      "outputs": [
        {
          "output_type": "stream",
          "name": "stdout",
          "text": [
            "Model: \"gradient_boosted_trees_model_1\"\n",
            "_________________________________________________________________\n",
            " Layer (type)                Output Shape              Param #   \n",
            "=================================================================\n",
            "=================================================================\n",
            "Total params: 1 (1.00 Byte)\n",
            "Trainable params: 0 (0.00 Byte)\n",
            "Non-trainable params: 1 (1.00 Byte)\n",
            "_________________________________________________________________\n",
            "None\n"
          ]
        }
      ],
      "source": [
        "try:\n",
        "    abc_model = tf.keras.models.load_model(model_gs_path)\n",
        "    print(abc_model.summary())\n",
        "except Exception as ex:\n",
        "    print(f\"Error loading model {model_gs_path} : {ex}\")"
      ]
    },
    {
      "cell_type": "markdown",
      "id": "ff853c6f-9db7-4e35-8e29-5ad37e3cfef2",
      "metadata": {
        "id": "ff853c6f-9db7-4e35-8e29-5ad37e3cfef2"
      },
      "source": [
        "# BigQuery Configuration"
      ]
    },
    {
      "cell_type": "code",
      "execution_count": 43,
      "id": "4bc0a0cc-321a-47a3-9712-d428a838533c",
      "metadata": {
        "colab": {
          "base_uri": "https://localhost:8080/"
        },
        "executionInfo": {
          "elapsed": 11,
          "status": "ok",
          "timestamp": 1704617430648,
          "user": {
            "displayName": "",
            "userId": ""
          },
          "user_tz": -420
        },
        "id": "4bc0a0cc-321a-47a3-9712-d428a838533c",
        "outputId": "17bbd950-b089-470c-a5c4-d7edafc47a58"
      },
      "outputs": [
        {
          "output_type": "stream",
          "name": "stdout",
          "text": [
            "Project ID: pongthorn\n",
            "pongthorn.SMartML.new2_incident\n",
            "pongthorn.SMartML.new2_result_binary_prediction_incident\n"
          ]
        }
      ],
      "source": [
        "client = bigquery.Client(project=projectId)\n",
        "# client = bigquery.Client()\n",
        "# projectId=client.project\n",
        "print(f\"Project ID: {projectId}\")\n",
        "new_data_table_id=f\"{projectId}.{dataset_id}.{data_table}\"\n",
        "predictResult_table_id=f\"{projectId}.{dataset_id}.{prediction_table}\"\n",
        "print(new_data_table_id)\n",
        "print(predictResult_table_id)"
      ]
    },
    {
      "cell_type": "code",
      "execution_count": 44,
      "id": "5939dbb1-3319-4953-b238-40d5109dee90",
      "metadata": {
        "colab": {
          "base_uri": "https://localhost:8080/"
        },
        "executionInfo": {
          "elapsed": 320,
          "status": "ok",
          "timestamp": 1704617430959,
          "user": {
            "displayName": "",
            "userId": ""
          },
          "user_tz": -420
        },
        "id": "5939dbb1-3319-4953-b238-40d5109dee90",
        "outputId": "582bbbec-d29e-4edd-c786-f78f2942d6df"
      },
      "outputs": [
        {
          "output_type": "stream",
          "name": "stdout",
          "text": [
            "Predict Result Table pongthorn.SMartML.new2_result_binary_prediction_incident already exists.\n"
          ]
        }
      ],
      "source": [
        "try:\n",
        "    client.get_table(predictResult_table_id)  # Make an API request.\n",
        "    print(\"Predict Result Table {} already exists.\".format(predictResult_table_id))\n",
        "\n",
        "except Exception as ex:\n",
        "    schema = [\n",
        "    bigquery.SchemaField(\"id\", \"INTEGER\", mode=\"REQUIRED\"),\n",
        "    bigquery.SchemaField(\"prediction_item_date\", \"DATE\", mode=\"REQUIRED\"),\n",
        "    bigquery.SchemaField(\"label_binary_severity\", \"INTEGER\", mode=\"REQUIRED\"),\n",
        "    bigquery.SchemaField(\"pred_binary_severity\", \"INTEGER\", mode=\"REQUIRED\"),\n",
        "    bigquery.SchemaField(\"prediction_datetime\", \"DATETIME\", mode=\"REQUIRED\") ,\n",
        "    bigquery.SchemaField(\"model_version\", \"STRING\", mode=\"REQUIRED\")\n",
        "    ]\n",
        "\n",
        "    table = bigquery.Table(predictResult_table_id,schema=schema)\n",
        "    table.time_partitioning = bigquery.TimePartitioning(\n",
        "    type_=bigquery.TimePartitioningType.DAY,field=\"prediction_item_date\")\n",
        "\n",
        "    table = client.create_table(table)  # Make an API request.\n",
        "\n",
        "    print(\n",
        "        \"Created table {}.{}.{}\".format(table.project, table.dataset_id, table.table_id)\n",
        "    )"
      ]
    },
    {
      "cell_type": "markdown",
      "id": "eaffc009-d504-4345-8af0-75ea4100d667",
      "metadata": {
        "id": "eaffc009-d504-4345-8af0-75ea4100d667"
      },
      "source": [
        "# Load data to Make Prediction"
      ]
    },
    {
      "cell_type": "code",
      "execution_count": 45,
      "id": "c849ad7a-10f4-43b8-8421-1f907fc42b7e",
      "metadata": {
        "colab": {
          "base_uri": "https://localhost:8080/"
        },
        "executionInfo": {
          "elapsed": 1909,
          "status": "ok",
          "timestamp": 1704617432848,
          "user": {
            "displayName": "",
            "userId": ""
          },
          "user_tz": -420
        },
        "id": "c849ad7a-10f4-43b8-8421-1f907fc42b7e",
        "outputId": "f8b84fe1-c420-48d5-be37-544468ef7bb8"
      },
      "outputs": [
        {
          "output_type": "stream",
          "name": "stdout",
          "text": [
            "\n",
            "    SELECT *  FROM `pongthorn.SMartML.new2_incident`\n",
            "    WHERE DATE(imported_at) >= '2024-01-01'\n",
            "     order by imported_at\n",
            "    \n",
            "<class 'pandas.core.frame.DataFrame'>\n",
            "RangeIndex: 12 entries, 0 to 11\n",
            "Data columns (total 11 columns):\n",
            " #   Column                    Non-Null Count  Dtype         \n",
            "---  ------                    --------------  -----         \n",
            " 0   id                        12 non-null     Int64         \n",
            " 1   severity_id               12 non-null     Int64         \n",
            " 2   severity_name             12 non-null     object        \n",
            " 3   sla                       12 non-null     object        \n",
            " 4   product_type              12 non-null     object        \n",
            " 5   brand                     12 non-null     object        \n",
            " 6   service_type              12 non-null     object        \n",
            " 7   incident_type             12 non-null     object        \n",
            " 8   open_to_close_hour        12 non-null     float64       \n",
            " 9   range_open_to_close_hour  12 non-null     object        \n",
            " 10  imported_at               12 non-null     datetime64[ns]\n",
            "dtypes: Int64(2), datetime64[ns](1), float64(1), object(7)\n",
            "memory usage: 1.2+ KB\n",
            "None\n"
          ]
        }
      ],
      "source": [
        "if init_predict_from =='':\n",
        "    sql=f\"\"\"\n",
        "    SELECT *  FROM `{new_data_table_id}`\n",
        "     WHERE DATE(imported_at) = '{today_str}'\n",
        "     order by imported_at\n",
        "    \"\"\"\n",
        "else:\n",
        "    sql=f\"\"\"\n",
        "    SELECT *  FROM `{new_data_table_id}`\n",
        "    WHERE DATE(imported_at) >= '{today_str}'\n",
        "     order by imported_at\n",
        "    \"\"\"\n",
        "\n",
        "print(sql)\n",
        "\n",
        "\n",
        "query_result=client.query(sql)\n",
        "df=query_result.to_dataframe()\n",
        "if df.empty==True:\n",
        "    print(\"no data to make prediction\")\n",
        "    # return \"no data to make prediction\"\n",
        "print(df.info())\n"
      ]
    },
    {
      "cell_type": "markdown",
      "id": "8d3afe76-1f85-4b6c-9079-6c00b98edd0d",
      "metadata": {
        "id": "8d3afe76-1f85-4b6c-9079-6c00b98edd0d"
      },
      "source": [
        "# Build Unseen data by removing label and others"
      ]
    },
    {
      "cell_type": "code",
      "execution_count": 46,
      "id": "fdd59584-42b3-4ca4-83f4-4656a1d71baf",
      "metadata": {
        "colab": {
          "base_uri": "https://localhost:8080/",
          "height": 636
        },
        "executionInfo": {
          "elapsed": 23,
          "status": "ok",
          "timestamp": 1704617432849,
          "user": {
            "displayName": "",
            "userId": ""
          },
          "user_tz": -420
        },
        "id": "fdd59584-42b3-4ca4-83f4-4656a1d71baf",
        "outputId": "7896db23-0c4c-4028-f9ea-3b069d00e0f6"
      },
      "outputs": [
        {
          "output_type": "stream",
          "name": "stdout",
          "text": [
            "<class 'pandas.core.frame.DataFrame'>\n",
            "RangeIndex: 12 entries, 0 to 11\n",
            "Data columns (total 7 columns):\n",
            " #   Column              Non-Null Count  Dtype  \n",
            "---  ------              --------------  -----  \n",
            " 0   severity_id         12 non-null     Int64  \n",
            " 1   sla                 12 non-null     object \n",
            " 2   product_type        12 non-null     object \n",
            " 3   brand               12 non-null     object \n",
            " 4   service_type        12 non-null     object \n",
            " 5   incident_type       12 non-null     object \n",
            " 6   open_to_close_hour  12 non-null     float64\n",
            "dtypes: Int64(1), float64(1), object(5)\n",
            "memory usage: 812.0+ bytes\n",
            "None\n"
          ]
        },
        {
          "output_type": "execute_result",
          "data": {
            "text/plain": [
              "    severity_id                        sla product_type      brand  \\\n",
              "2             2  24x7 4Hrs Resolution Time     Firewall  Palo Alto   \n",
              "3             2  24x7 4Hrs Resolution Time     Firewall  Palo Alto   \n",
              "4             2  24x7 4Hrs Resolution Time     Firewall  Palo Alto   \n",
              "5             2  24x7 4Hrs Resolution Time     Firewall  Palo Alto   \n",
              "6             2    24x7 4Hrs Response Time     Software    Red Hat   \n",
              "7             4    24x7 4Hrs Response Time     Software    Red Hat   \n",
              "8             4    24x7 4Hrs Response Time     Software    Red Hat   \n",
              "9             4    24x7 4Hrs Response Time     Software    Red Hat   \n",
              "10            4    24x7 4Hrs Response Time     Software    Red Hat   \n",
              "11            4    24x7 4Hrs Response Time     Software    Red Hat   \n",
              "\n",
              "   service_type     incident_type  open_to_close_hour  \n",
              "2      Incident  General Incident            0.866667  \n",
              "3      Incident  General Incident            0.666667  \n",
              "4      Incident  General Incident            0.600000  \n",
              "5      Incident  General Incident            0.500000  \n",
              "6      Incident  General Incident          484.900000  \n",
              "7       Request  General Incident          848.300000  \n",
              "8       Request  General Incident            3.000000  \n",
              "9       Request  General Incident            2.500000  \n",
              "10      Request  General Incident            2.500000  \n",
              "11      Request  General Incident            3.500000  "
            ],
            "text/html": [
              "\n",
              "  <div id=\"df-c681efd1-6b3e-490d-8dc6-fe1254a65fe4\" class=\"colab-df-container\">\n",
              "    <div>\n",
              "<style scoped>\n",
              "    .dataframe tbody tr th:only-of-type {\n",
              "        vertical-align: middle;\n",
              "    }\n",
              "\n",
              "    .dataframe tbody tr th {\n",
              "        vertical-align: top;\n",
              "    }\n",
              "\n",
              "    .dataframe thead th {\n",
              "        text-align: right;\n",
              "    }\n",
              "</style>\n",
              "<table border=\"1\" class=\"dataframe\">\n",
              "  <thead>\n",
              "    <tr style=\"text-align: right;\">\n",
              "      <th></th>\n",
              "      <th>severity_id</th>\n",
              "      <th>sla</th>\n",
              "      <th>product_type</th>\n",
              "      <th>brand</th>\n",
              "      <th>service_type</th>\n",
              "      <th>incident_type</th>\n",
              "      <th>open_to_close_hour</th>\n",
              "    </tr>\n",
              "  </thead>\n",
              "  <tbody>\n",
              "    <tr>\n",
              "      <th>2</th>\n",
              "      <td>2</td>\n",
              "      <td>24x7 4Hrs Resolution Time</td>\n",
              "      <td>Firewall</td>\n",
              "      <td>Palo Alto</td>\n",
              "      <td>Incident</td>\n",
              "      <td>General Incident</td>\n",
              "      <td>0.866667</td>\n",
              "    </tr>\n",
              "    <tr>\n",
              "      <th>3</th>\n",
              "      <td>2</td>\n",
              "      <td>24x7 4Hrs Resolution Time</td>\n",
              "      <td>Firewall</td>\n",
              "      <td>Palo Alto</td>\n",
              "      <td>Incident</td>\n",
              "      <td>General Incident</td>\n",
              "      <td>0.666667</td>\n",
              "    </tr>\n",
              "    <tr>\n",
              "      <th>4</th>\n",
              "      <td>2</td>\n",
              "      <td>24x7 4Hrs Resolution Time</td>\n",
              "      <td>Firewall</td>\n",
              "      <td>Palo Alto</td>\n",
              "      <td>Incident</td>\n",
              "      <td>General Incident</td>\n",
              "      <td>0.600000</td>\n",
              "    </tr>\n",
              "    <tr>\n",
              "      <th>5</th>\n",
              "      <td>2</td>\n",
              "      <td>24x7 4Hrs Resolution Time</td>\n",
              "      <td>Firewall</td>\n",
              "      <td>Palo Alto</td>\n",
              "      <td>Incident</td>\n",
              "      <td>General Incident</td>\n",
              "      <td>0.500000</td>\n",
              "    </tr>\n",
              "    <tr>\n",
              "      <th>6</th>\n",
              "      <td>2</td>\n",
              "      <td>24x7 4Hrs Response Time</td>\n",
              "      <td>Software</td>\n",
              "      <td>Red Hat</td>\n",
              "      <td>Incident</td>\n",
              "      <td>General Incident</td>\n",
              "      <td>484.900000</td>\n",
              "    </tr>\n",
              "    <tr>\n",
              "      <th>7</th>\n",
              "      <td>4</td>\n",
              "      <td>24x7 4Hrs Response Time</td>\n",
              "      <td>Software</td>\n",
              "      <td>Red Hat</td>\n",
              "      <td>Request</td>\n",
              "      <td>General Incident</td>\n",
              "      <td>848.300000</td>\n",
              "    </tr>\n",
              "    <tr>\n",
              "      <th>8</th>\n",
              "      <td>4</td>\n",
              "      <td>24x7 4Hrs Response Time</td>\n",
              "      <td>Software</td>\n",
              "      <td>Red Hat</td>\n",
              "      <td>Request</td>\n",
              "      <td>General Incident</td>\n",
              "      <td>3.000000</td>\n",
              "    </tr>\n",
              "    <tr>\n",
              "      <th>9</th>\n",
              "      <td>4</td>\n",
              "      <td>24x7 4Hrs Response Time</td>\n",
              "      <td>Software</td>\n",
              "      <td>Red Hat</td>\n",
              "      <td>Request</td>\n",
              "      <td>General Incident</td>\n",
              "      <td>2.500000</td>\n",
              "    </tr>\n",
              "    <tr>\n",
              "      <th>10</th>\n",
              "      <td>4</td>\n",
              "      <td>24x7 4Hrs Response Time</td>\n",
              "      <td>Software</td>\n",
              "      <td>Red Hat</td>\n",
              "      <td>Request</td>\n",
              "      <td>General Incident</td>\n",
              "      <td>2.500000</td>\n",
              "    </tr>\n",
              "    <tr>\n",
              "      <th>11</th>\n",
              "      <td>4</td>\n",
              "      <td>24x7 4Hrs Response Time</td>\n",
              "      <td>Software</td>\n",
              "      <td>Red Hat</td>\n",
              "      <td>Request</td>\n",
              "      <td>General Incident</td>\n",
              "      <td>3.500000</td>\n",
              "    </tr>\n",
              "  </tbody>\n",
              "</table>\n",
              "</div>\n",
              "    <div class=\"colab-df-buttons\">\n",
              "\n",
              "  <div class=\"colab-df-container\">\n",
              "    <button class=\"colab-df-convert\" onclick=\"convertToInteractive('df-c681efd1-6b3e-490d-8dc6-fe1254a65fe4')\"\n",
              "            title=\"Convert this dataframe to an interactive table.\"\n",
              "            style=\"display:none;\">\n",
              "\n",
              "  <svg xmlns=\"http://www.w3.org/2000/svg\" height=\"24px\" viewBox=\"0 -960 960 960\">\n",
              "    <path d=\"M120-120v-720h720v720H120Zm60-500h600v-160H180v160Zm220 220h160v-160H400v160Zm0 220h160v-160H400v160ZM180-400h160v-160H180v160Zm440 0h160v-160H620v160ZM180-180h160v-160H180v160Zm440 0h160v-160H620v160Z\"/>\n",
              "  </svg>\n",
              "    </button>\n",
              "\n",
              "  <style>\n",
              "    .colab-df-container {\n",
              "      display:flex;\n",
              "      gap: 12px;\n",
              "    }\n",
              "\n",
              "    .colab-df-convert {\n",
              "      background-color: #E8F0FE;\n",
              "      border: none;\n",
              "      border-radius: 50%;\n",
              "      cursor: pointer;\n",
              "      display: none;\n",
              "      fill: #1967D2;\n",
              "      height: 32px;\n",
              "      padding: 0 0 0 0;\n",
              "      width: 32px;\n",
              "    }\n",
              "\n",
              "    .colab-df-convert:hover {\n",
              "      background-color: #E2EBFA;\n",
              "      box-shadow: 0px 1px 2px rgba(60, 64, 67, 0.3), 0px 1px 3px 1px rgba(60, 64, 67, 0.15);\n",
              "      fill: #174EA6;\n",
              "    }\n",
              "\n",
              "    .colab-df-buttons div {\n",
              "      margin-bottom: 4px;\n",
              "    }\n",
              "\n",
              "    [theme=dark] .colab-df-convert {\n",
              "      background-color: #3B4455;\n",
              "      fill: #D2E3FC;\n",
              "    }\n",
              "\n",
              "    [theme=dark] .colab-df-convert:hover {\n",
              "      background-color: #434B5C;\n",
              "      box-shadow: 0px 1px 3px 1px rgba(0, 0, 0, 0.15);\n",
              "      filter: drop-shadow(0px 1px 2px rgba(0, 0, 0, 0.3));\n",
              "      fill: #FFFFFF;\n",
              "    }\n",
              "  </style>\n",
              "\n",
              "    <script>\n",
              "      const buttonEl =\n",
              "        document.querySelector('#df-c681efd1-6b3e-490d-8dc6-fe1254a65fe4 button.colab-df-convert');\n",
              "      buttonEl.style.display =\n",
              "        google.colab.kernel.accessAllowed ? 'block' : 'none';\n",
              "\n",
              "      async function convertToInteractive(key) {\n",
              "        const element = document.querySelector('#df-c681efd1-6b3e-490d-8dc6-fe1254a65fe4');\n",
              "        const dataTable =\n",
              "          await google.colab.kernel.invokeFunction('convertToInteractive',\n",
              "                                                    [key], {});\n",
              "        if (!dataTable) return;\n",
              "\n",
              "        const docLinkHtml = 'Like what you see? Visit the ' +\n",
              "          '<a target=\"_blank\" href=https://colab.research.google.com/notebooks/data_table.ipynb>data table notebook</a>'\n",
              "          + ' to learn more about interactive tables.';\n",
              "        element.innerHTML = '';\n",
              "        dataTable['output_type'] = 'display_data';\n",
              "        await google.colab.output.renderOutput(dataTable, element);\n",
              "        const docLink = document.createElement('div');\n",
              "        docLink.innerHTML = docLinkHtml;\n",
              "        element.appendChild(docLink);\n",
              "      }\n",
              "    </script>\n",
              "  </div>\n",
              "\n",
              "\n",
              "<div id=\"df-464a5bb0-0ad1-41c2-8c9b-d1bf0429519f\">\n",
              "  <button class=\"colab-df-quickchart\" onclick=\"quickchart('df-464a5bb0-0ad1-41c2-8c9b-d1bf0429519f')\"\n",
              "            title=\"Suggest charts\"\n",
              "            style=\"display:none;\">\n",
              "\n",
              "<svg xmlns=\"http://www.w3.org/2000/svg\" height=\"24px\"viewBox=\"0 0 24 24\"\n",
              "     width=\"24px\">\n",
              "    <g>\n",
              "        <path d=\"M19 3H5c-1.1 0-2 .9-2 2v14c0 1.1.9 2 2 2h14c1.1 0 2-.9 2-2V5c0-1.1-.9-2-2-2zM9 17H7v-7h2v7zm4 0h-2V7h2v10zm4 0h-2v-4h2v4z\"/>\n",
              "    </g>\n",
              "</svg>\n",
              "  </button>\n",
              "\n",
              "<style>\n",
              "  .colab-df-quickchart {\n",
              "      --bg-color: #E8F0FE;\n",
              "      --fill-color: #1967D2;\n",
              "      --hover-bg-color: #E2EBFA;\n",
              "      --hover-fill-color: #174EA6;\n",
              "      --disabled-fill-color: #AAA;\n",
              "      --disabled-bg-color: #DDD;\n",
              "  }\n",
              "\n",
              "  [theme=dark] .colab-df-quickchart {\n",
              "      --bg-color: #3B4455;\n",
              "      --fill-color: #D2E3FC;\n",
              "      --hover-bg-color: #434B5C;\n",
              "      --hover-fill-color: #FFFFFF;\n",
              "      --disabled-bg-color: #3B4455;\n",
              "      --disabled-fill-color: #666;\n",
              "  }\n",
              "\n",
              "  .colab-df-quickchart {\n",
              "    background-color: var(--bg-color);\n",
              "    border: none;\n",
              "    border-radius: 50%;\n",
              "    cursor: pointer;\n",
              "    display: none;\n",
              "    fill: var(--fill-color);\n",
              "    height: 32px;\n",
              "    padding: 0;\n",
              "    width: 32px;\n",
              "  }\n",
              "\n",
              "  .colab-df-quickchart:hover {\n",
              "    background-color: var(--hover-bg-color);\n",
              "    box-shadow: 0 1px 2px rgba(60, 64, 67, 0.3), 0 1px 3px 1px rgba(60, 64, 67, 0.15);\n",
              "    fill: var(--button-hover-fill-color);\n",
              "  }\n",
              "\n",
              "  .colab-df-quickchart-complete:disabled,\n",
              "  .colab-df-quickchart-complete:disabled:hover {\n",
              "    background-color: var(--disabled-bg-color);\n",
              "    fill: var(--disabled-fill-color);\n",
              "    box-shadow: none;\n",
              "  }\n",
              "\n",
              "  .colab-df-spinner {\n",
              "    border: 2px solid var(--fill-color);\n",
              "    border-color: transparent;\n",
              "    border-bottom-color: var(--fill-color);\n",
              "    animation:\n",
              "      spin 1s steps(1) infinite;\n",
              "  }\n",
              "\n",
              "  @keyframes spin {\n",
              "    0% {\n",
              "      border-color: transparent;\n",
              "      border-bottom-color: var(--fill-color);\n",
              "      border-left-color: var(--fill-color);\n",
              "    }\n",
              "    20% {\n",
              "      border-color: transparent;\n",
              "      border-left-color: var(--fill-color);\n",
              "      border-top-color: var(--fill-color);\n",
              "    }\n",
              "    30% {\n",
              "      border-color: transparent;\n",
              "      border-left-color: var(--fill-color);\n",
              "      border-top-color: var(--fill-color);\n",
              "      border-right-color: var(--fill-color);\n",
              "    }\n",
              "    40% {\n",
              "      border-color: transparent;\n",
              "      border-right-color: var(--fill-color);\n",
              "      border-top-color: var(--fill-color);\n",
              "    }\n",
              "    60% {\n",
              "      border-color: transparent;\n",
              "      border-right-color: var(--fill-color);\n",
              "    }\n",
              "    80% {\n",
              "      border-color: transparent;\n",
              "      border-right-color: var(--fill-color);\n",
              "      border-bottom-color: var(--fill-color);\n",
              "    }\n",
              "    90% {\n",
              "      border-color: transparent;\n",
              "      border-bottom-color: var(--fill-color);\n",
              "    }\n",
              "  }\n",
              "</style>\n",
              "\n",
              "  <script>\n",
              "    async function quickchart(key) {\n",
              "      const quickchartButtonEl =\n",
              "        document.querySelector('#' + key + ' button');\n",
              "      quickchartButtonEl.disabled = true;  // To prevent multiple clicks.\n",
              "      quickchartButtonEl.classList.add('colab-df-spinner');\n",
              "      try {\n",
              "        const charts = await google.colab.kernel.invokeFunction(\n",
              "            'suggestCharts', [key], {});\n",
              "      } catch (error) {\n",
              "        console.error('Error during call to suggestCharts:', error);\n",
              "      }\n",
              "      quickchartButtonEl.classList.remove('colab-df-spinner');\n",
              "      quickchartButtonEl.classList.add('colab-df-quickchart-complete');\n",
              "    }\n",
              "    (() => {\n",
              "      let quickchartButtonEl =\n",
              "        document.querySelector('#df-464a5bb0-0ad1-41c2-8c9b-d1bf0429519f button');\n",
              "      quickchartButtonEl.style.display =\n",
              "        google.colab.kernel.accessAllowed ? 'block' : 'none';\n",
              "    })();\n",
              "  </script>\n",
              "</div>\n",
              "    </div>\n",
              "  </div>\n"
            ]
          },
          "metadata": {},
          "execution_count": 46
        }
      ],
      "source": [
        "unseen =df.drop(columns=unusedCols_unseen)\n",
        "print(unseen.info())\n",
        "unseen.tail(10)"
      ]
    },
    {
      "cell_type": "markdown",
      "id": "2629f7e6-c179-436e-8a8c-09b902c76938",
      "metadata": {
        "id": "2629f7e6-c179-436e-8a8c-09b902c76938"
      },
      "source": [
        "# Convert dataframe to tensorflow dataset"
      ]
    },
    {
      "cell_type": "code",
      "execution_count": 47,
      "id": "a4b709a5-91c0-4e40-abd7-7fc4bc49c5f3",
      "metadata": {
        "colab": {
          "base_uri": "https://localhost:8080/"
        },
        "executionInfo": {
          "elapsed": 16,
          "status": "ok",
          "timestamp": 1704617432850,
          "user": {
            "displayName": "",
            "userId": ""
          },
          "user_tz": -420
        },
        "id": "a4b709a5-91c0-4e40-abd7-7fc4bc49c5f3",
        "outputId": "6809a6f3-58e1-46fc-cf4e-fab6b9fb72a6"
      },
      "outputs": [
        {
          "output_type": "stream",
          "name": "stdout",
          "text": [
            "<_PrefetchDataset element_spec={'sla': TensorSpec(shape=(None,), dtype=tf.string, name=None), 'product_type': TensorSpec(shape=(None,), dtype=tf.string, name=None), 'brand': TensorSpec(shape=(None,), dtype=tf.string, name=None), 'service_type': TensorSpec(shape=(None,), dtype=tf.string, name=None), 'incident_type': TensorSpec(shape=(None,), dtype=tf.string, name=None), 'open_to_close_hour': TensorSpec(shape=(None,), dtype=tf.float64, name=None)}>\n"
          ]
        }
      ],
      "source": [
        "unseen_ds= tfdf.keras.pd_dataframe_to_tf_dataset(unseen.drop(columns=['severity_id']))\n",
        "print(unseen_ds)"
      ]
    },
    {
      "cell_type": "code",
      "execution_count": 48,
      "id": "31d90302-f84b-4266-9407-a03f1689026f",
      "metadata": {
        "colab": {
          "base_uri": "https://localhost:8080/"
        },
        "executionInfo": {
          "elapsed": 14,
          "status": "ok",
          "timestamp": 1704617432850,
          "user": {
            "displayName": "",
            "userId": ""
          },
          "user_tz": -420
        },
        "id": "31d90302-f84b-4266-9407-a03f1689026f",
        "outputId": "d8e30d2b-8b42-45d6-9006-7c582b7c7eea"
      },
      "outputs": [
        {
          "output_type": "stream",
          "name": "stdout",
          "text": [
            "1/1 [==============================] - 0s 64ms/step\n",
            "[0.9193333] : 1\n",
            "[0.27885315] : 0\n",
            "[0.9737128] : 1\n",
            "[0.9850007] : 1\n",
            "[0.9850007] : 1\n",
            "[0.97781646] : 1\n",
            "[0.30134833] : 0\n",
            "[0.03579123] : 0\n",
            "[0.04470447] : 0\n",
            "[0.02844199] : 0\n",
            "[0.02844199] : 0\n",
            "[0.04083699] : 0\n"
          ]
        }
      ],
      "source": [
        "predResultList=abc_model.predict(unseen_ds)\n",
        "predServerityIDList=[]\n",
        "for predResult in predResultList:\n",
        "    # prob = tf.nn.sigmoid(predResult) # no need to convert to Signmoid\n",
        "    # print(prob)\n",
        "    # pred_seveirty_id= \"critical\" if _class==1 else \"normal\"\n",
        "    _class= 1 if predResult[0]>=0.5 else 0\n",
        "    predServerityIDList.append(_class) #0=normal , 1=critical\n",
        "    print(f\"{predResult} : {_class}\")\n",
        "\n",
        "dfPred=pd.DataFrame(data=predServerityIDList,columns=[\"pred_binary_severity\"])\n"
      ]
    },
    {
      "cell_type": "markdown",
      "id": "73ecdf4a-3e80-43d5-a02f-ad8a7f620658",
      "metadata": {
        "id": "73ecdf4a-3e80-43d5-a02f-ad8a7f620658"
      },
      "source": [
        "# Map severity_id to label for actual value.\n",
        "# Merge predicted value to main dataframe"
      ]
    },
    {
      "cell_type": "code",
      "execution_count": 49,
      "id": "66ada838-3f00-45b6-9cbe-7b84f701348e",
      "metadata": {
        "executionInfo": {
          "elapsed": 250,
          "status": "ok",
          "timestamp": 1704617433090,
          "user": {
            "displayName": "",
            "userId": ""
          },
          "user_tz": -420
        },
        "id": "66ada838-3f00-45b6-9cbe-7b84f701348e"
      },
      "outputs": [],
      "source": [
        "def map_4to2_serverity(severity_id):\n",
        "    if severity_id==1 or severity_id==2:\n",
        "        return 1\n",
        "    else:\n",
        "        return 0\n",
        "df['label_binary_severity'] =df['severity_id'].apply(map_4to2_serverity)\n",
        "\n",
        "dfPred\n",
        "df=pd.concat([df,dfPred],axis=1)\n",
        "# df"
      ]
    },
    {
      "cell_type": "markdown",
      "id": "767ac965-914f-4ca8-99f4-33f25079bed1",
      "metadata": {
        "id": "767ac965-914f-4ca8-99f4-33f25079bed1"
      },
      "source": [
        "# Evaluate model and Show Metric Report"
      ]
    },
    {
      "cell_type": "code",
      "execution_count": 50,
      "id": "06828323-74af-44fb-b261-aade71784b68",
      "metadata": {
        "executionInfo": {
          "elapsed": 16,
          "status": "ok",
          "timestamp": 1704617433090,
          "user": {
            "displayName": "",
            "userId": ""
          },
          "user_tz": -420
        },
        "id": "06828323-74af-44fb-b261-aade71784b68"
      },
      "outputs": [],
      "source": [
        "if is_evaluation:\n",
        "    from sklearn.metrics import confusion_matrix,classification_report\n",
        "    className=list(set().union(list(df['pred_binary_severity'].unique()),list(df['label_binary_severity'].unique())))\n",
        "    # className.sort(reverse = True)\n",
        "    # print(className)\n",
        "    actualClass=[  f'actual-{x}' for x in  className]\n",
        "    predictedlClass=[  f'pred-{x}' for x in className]\n",
        "    y_true=list(df['label_binary_severity'])\n",
        "    y_pred=list(df['pred_binary_severity'])\n",
        "    cnf_matrix = confusion_matrix(y_true,y_pred)\n",
        "    cnf_matrix\n",
        "\n",
        "    # #index=actual , column=prediction\n",
        "    cm_df = pd.DataFrame(cnf_matrix,\n",
        "                         index = actualClass,\n",
        "                         columns = predictedlClass)\n",
        "    print(cm_df)\n",
        "    print(classification_report(y_true, y_pred, labels=className))"
      ]
    },
    {
      "cell_type": "markdown",
      "id": "e98ac483-bdf4-4060-b394-95ae66b01286",
      "metadata": {
        "id": "e98ac483-bdf4-4060-b394-95ae66b01286"
      },
      "source": [
        "# Transform data for Writing Prediction Result to BQ"
      ]
    },
    {
      "cell_type": "code",
      "execution_count": 51,
      "id": "b18455cc-545f-424b-9640-37eb84b4dad2",
      "metadata": {
        "colab": {
          "base_uri": "https://localhost:8080/",
          "height": 425
        },
        "executionInfo": {
          "elapsed": 15,
          "status": "ok",
          "timestamp": 1704617433091,
          "user": {
            "displayName": "",
            "userId": ""
          },
          "user_tz": -420
        },
        "id": "b18455cc-545f-424b-9640-37eb84b4dad2",
        "outputId": "2a001795-093a-47b9-d5ae-4cd0ccdd593d"
      },
      "outputs": [
        {
          "output_type": "execute_result",
          "data": {
            "text/plain": [
              "      id  label_binary_severity  pred_binary_severity prediction_item_date  \\\n",
              "0   4305                      0                     1           2024-01-01   \n",
              "1   4302                      0                     0           2024-01-01   \n",
              "2   4298                      1                     1           2024-01-01   \n",
              "3   4299                      1                     1           2024-01-01   \n",
              "4   4304                      1                     1           2024-01-01   \n",
              "5   4310                      1                     1           2024-01-01   \n",
              "6   4197                      1                     0           2024-01-01   \n",
              "7   4204                      0                     0           2024-01-01   \n",
              "8   4303                      0                     0           2024-01-01   \n",
              "9   4307                      0                     0           2024-01-01   \n",
              "10  4308                      0                     0           2024-01-01   \n",
              "11  4309                      0                     0           2024-01-01   \n",
              "\n",
              "          prediction_datetime                         model_version  \n",
              "0  2024-01-07 08:50:32.768498  v2_binary_xgb_tf12_tuned_model_dec23  \n",
              "1  2024-01-07 08:50:32.768498  v2_binary_xgb_tf12_tuned_model_dec23  \n",
              "2  2024-01-07 08:50:32.768498  v2_binary_xgb_tf12_tuned_model_dec23  \n",
              "3  2024-01-07 08:50:32.768498  v2_binary_xgb_tf12_tuned_model_dec23  \n",
              "4  2024-01-07 08:50:32.768498  v2_binary_xgb_tf12_tuned_model_dec23  \n",
              "5  2024-01-07 08:50:32.768498  v2_binary_xgb_tf12_tuned_model_dec23  \n",
              "6  2024-01-07 08:50:32.768498  v2_binary_xgb_tf12_tuned_model_dec23  \n",
              "7  2024-01-07 08:50:32.768498  v2_binary_xgb_tf12_tuned_model_dec23  \n",
              "8  2024-01-07 08:50:32.768498  v2_binary_xgb_tf12_tuned_model_dec23  \n",
              "9  2024-01-07 08:50:32.768498  v2_binary_xgb_tf12_tuned_model_dec23  \n",
              "10 2024-01-07 08:50:32.768498  v2_binary_xgb_tf12_tuned_model_dec23  \n",
              "11 2024-01-07 08:50:32.768498  v2_binary_xgb_tf12_tuned_model_dec23  "
            ],
            "text/html": [
              "\n",
              "  <div id=\"df-0852b83b-1720-403d-88c9-3768fcc5bbcf\" class=\"colab-df-container\">\n",
              "    <div>\n",
              "<style scoped>\n",
              "    .dataframe tbody tr th:only-of-type {\n",
              "        vertical-align: middle;\n",
              "    }\n",
              "\n",
              "    .dataframe tbody tr th {\n",
              "        vertical-align: top;\n",
              "    }\n",
              "\n",
              "    .dataframe thead th {\n",
              "        text-align: right;\n",
              "    }\n",
              "</style>\n",
              "<table border=\"1\" class=\"dataframe\">\n",
              "  <thead>\n",
              "    <tr style=\"text-align: right;\">\n",
              "      <th></th>\n",
              "      <th>id</th>\n",
              "      <th>label_binary_severity</th>\n",
              "      <th>pred_binary_severity</th>\n",
              "      <th>prediction_item_date</th>\n",
              "      <th>prediction_datetime</th>\n",
              "      <th>model_version</th>\n",
              "    </tr>\n",
              "  </thead>\n",
              "  <tbody>\n",
              "    <tr>\n",
              "      <th>0</th>\n",
              "      <td>4305</td>\n",
              "      <td>0</td>\n",
              "      <td>1</td>\n",
              "      <td>2024-01-01</td>\n",
              "      <td>2024-01-07 08:50:32.768498</td>\n",
              "      <td>v2_binary_xgb_tf12_tuned_model_dec23</td>\n",
              "    </tr>\n",
              "    <tr>\n",
              "      <th>1</th>\n",
              "      <td>4302</td>\n",
              "      <td>0</td>\n",
              "      <td>0</td>\n",
              "      <td>2024-01-01</td>\n",
              "      <td>2024-01-07 08:50:32.768498</td>\n",
              "      <td>v2_binary_xgb_tf12_tuned_model_dec23</td>\n",
              "    </tr>\n",
              "    <tr>\n",
              "      <th>2</th>\n",
              "      <td>4298</td>\n",
              "      <td>1</td>\n",
              "      <td>1</td>\n",
              "      <td>2024-01-01</td>\n",
              "      <td>2024-01-07 08:50:32.768498</td>\n",
              "      <td>v2_binary_xgb_tf12_tuned_model_dec23</td>\n",
              "    </tr>\n",
              "    <tr>\n",
              "      <th>3</th>\n",
              "      <td>4299</td>\n",
              "      <td>1</td>\n",
              "      <td>1</td>\n",
              "      <td>2024-01-01</td>\n",
              "      <td>2024-01-07 08:50:32.768498</td>\n",
              "      <td>v2_binary_xgb_tf12_tuned_model_dec23</td>\n",
              "    </tr>\n",
              "    <tr>\n",
              "      <th>4</th>\n",
              "      <td>4304</td>\n",
              "      <td>1</td>\n",
              "      <td>1</td>\n",
              "      <td>2024-01-01</td>\n",
              "      <td>2024-01-07 08:50:32.768498</td>\n",
              "      <td>v2_binary_xgb_tf12_tuned_model_dec23</td>\n",
              "    </tr>\n",
              "    <tr>\n",
              "      <th>5</th>\n",
              "      <td>4310</td>\n",
              "      <td>1</td>\n",
              "      <td>1</td>\n",
              "      <td>2024-01-01</td>\n",
              "      <td>2024-01-07 08:50:32.768498</td>\n",
              "      <td>v2_binary_xgb_tf12_tuned_model_dec23</td>\n",
              "    </tr>\n",
              "    <tr>\n",
              "      <th>6</th>\n",
              "      <td>4197</td>\n",
              "      <td>1</td>\n",
              "      <td>0</td>\n",
              "      <td>2024-01-01</td>\n",
              "      <td>2024-01-07 08:50:32.768498</td>\n",
              "      <td>v2_binary_xgb_tf12_tuned_model_dec23</td>\n",
              "    </tr>\n",
              "    <tr>\n",
              "      <th>7</th>\n",
              "      <td>4204</td>\n",
              "      <td>0</td>\n",
              "      <td>0</td>\n",
              "      <td>2024-01-01</td>\n",
              "      <td>2024-01-07 08:50:32.768498</td>\n",
              "      <td>v2_binary_xgb_tf12_tuned_model_dec23</td>\n",
              "    </tr>\n",
              "    <tr>\n",
              "      <th>8</th>\n",
              "      <td>4303</td>\n",
              "      <td>0</td>\n",
              "      <td>0</td>\n",
              "      <td>2024-01-01</td>\n",
              "      <td>2024-01-07 08:50:32.768498</td>\n",
              "      <td>v2_binary_xgb_tf12_tuned_model_dec23</td>\n",
              "    </tr>\n",
              "    <tr>\n",
              "      <th>9</th>\n",
              "      <td>4307</td>\n",
              "      <td>0</td>\n",
              "      <td>0</td>\n",
              "      <td>2024-01-01</td>\n",
              "      <td>2024-01-07 08:50:32.768498</td>\n",
              "      <td>v2_binary_xgb_tf12_tuned_model_dec23</td>\n",
              "    </tr>\n",
              "    <tr>\n",
              "      <th>10</th>\n",
              "      <td>4308</td>\n",
              "      <td>0</td>\n",
              "      <td>0</td>\n",
              "      <td>2024-01-01</td>\n",
              "      <td>2024-01-07 08:50:32.768498</td>\n",
              "      <td>v2_binary_xgb_tf12_tuned_model_dec23</td>\n",
              "    </tr>\n",
              "    <tr>\n",
              "      <th>11</th>\n",
              "      <td>4309</td>\n",
              "      <td>0</td>\n",
              "      <td>0</td>\n",
              "      <td>2024-01-01</td>\n",
              "      <td>2024-01-07 08:50:32.768498</td>\n",
              "      <td>v2_binary_xgb_tf12_tuned_model_dec23</td>\n",
              "    </tr>\n",
              "  </tbody>\n",
              "</table>\n",
              "</div>\n",
              "    <div class=\"colab-df-buttons\">\n",
              "\n",
              "  <div class=\"colab-df-container\">\n",
              "    <button class=\"colab-df-convert\" onclick=\"convertToInteractive('df-0852b83b-1720-403d-88c9-3768fcc5bbcf')\"\n",
              "            title=\"Convert this dataframe to an interactive table.\"\n",
              "            style=\"display:none;\">\n",
              "\n",
              "  <svg xmlns=\"http://www.w3.org/2000/svg\" height=\"24px\" viewBox=\"0 -960 960 960\">\n",
              "    <path d=\"M120-120v-720h720v720H120Zm60-500h600v-160H180v160Zm220 220h160v-160H400v160Zm0 220h160v-160H400v160ZM180-400h160v-160H180v160Zm440 0h160v-160H620v160ZM180-180h160v-160H180v160Zm440 0h160v-160H620v160Z\"/>\n",
              "  </svg>\n",
              "    </button>\n",
              "\n",
              "  <style>\n",
              "    .colab-df-container {\n",
              "      display:flex;\n",
              "      gap: 12px;\n",
              "    }\n",
              "\n",
              "    .colab-df-convert {\n",
              "      background-color: #E8F0FE;\n",
              "      border: none;\n",
              "      border-radius: 50%;\n",
              "      cursor: pointer;\n",
              "      display: none;\n",
              "      fill: #1967D2;\n",
              "      height: 32px;\n",
              "      padding: 0 0 0 0;\n",
              "      width: 32px;\n",
              "    }\n",
              "\n",
              "    .colab-df-convert:hover {\n",
              "      background-color: #E2EBFA;\n",
              "      box-shadow: 0px 1px 2px rgba(60, 64, 67, 0.3), 0px 1px 3px 1px rgba(60, 64, 67, 0.15);\n",
              "      fill: #174EA6;\n",
              "    }\n",
              "\n",
              "    .colab-df-buttons div {\n",
              "      margin-bottom: 4px;\n",
              "    }\n",
              "\n",
              "    [theme=dark] .colab-df-convert {\n",
              "      background-color: #3B4455;\n",
              "      fill: #D2E3FC;\n",
              "    }\n",
              "\n",
              "    [theme=dark] .colab-df-convert:hover {\n",
              "      background-color: #434B5C;\n",
              "      box-shadow: 0px 1px 3px 1px rgba(0, 0, 0, 0.15);\n",
              "      filter: drop-shadow(0px 1px 2px rgba(0, 0, 0, 0.3));\n",
              "      fill: #FFFFFF;\n",
              "    }\n",
              "  </style>\n",
              "\n",
              "    <script>\n",
              "      const buttonEl =\n",
              "        document.querySelector('#df-0852b83b-1720-403d-88c9-3768fcc5bbcf button.colab-df-convert');\n",
              "      buttonEl.style.display =\n",
              "        google.colab.kernel.accessAllowed ? 'block' : 'none';\n",
              "\n",
              "      async function convertToInteractive(key) {\n",
              "        const element = document.querySelector('#df-0852b83b-1720-403d-88c9-3768fcc5bbcf');\n",
              "        const dataTable =\n",
              "          await google.colab.kernel.invokeFunction('convertToInteractive',\n",
              "                                                    [key], {});\n",
              "        if (!dataTable) return;\n",
              "\n",
              "        const docLinkHtml = 'Like what you see? Visit the ' +\n",
              "          '<a target=\"_blank\" href=https://colab.research.google.com/notebooks/data_table.ipynb>data table notebook</a>'\n",
              "          + ' to learn more about interactive tables.';\n",
              "        element.innerHTML = '';\n",
              "        dataTable['output_type'] = 'display_data';\n",
              "        await google.colab.output.renderOutput(dataTable, element);\n",
              "        const docLink = document.createElement('div');\n",
              "        docLink.innerHTML = docLinkHtml;\n",
              "        element.appendChild(docLink);\n",
              "      }\n",
              "    </script>\n",
              "  </div>\n",
              "\n",
              "\n",
              "<div id=\"df-63bc6fe9-2e7d-43b5-b66c-acd9d428b39a\">\n",
              "  <button class=\"colab-df-quickchart\" onclick=\"quickchart('df-63bc6fe9-2e7d-43b5-b66c-acd9d428b39a')\"\n",
              "            title=\"Suggest charts\"\n",
              "            style=\"display:none;\">\n",
              "\n",
              "<svg xmlns=\"http://www.w3.org/2000/svg\" height=\"24px\"viewBox=\"0 0 24 24\"\n",
              "     width=\"24px\">\n",
              "    <g>\n",
              "        <path d=\"M19 3H5c-1.1 0-2 .9-2 2v14c0 1.1.9 2 2 2h14c1.1 0 2-.9 2-2V5c0-1.1-.9-2-2-2zM9 17H7v-7h2v7zm4 0h-2V7h2v10zm4 0h-2v-4h2v4z\"/>\n",
              "    </g>\n",
              "</svg>\n",
              "  </button>\n",
              "\n",
              "<style>\n",
              "  .colab-df-quickchart {\n",
              "      --bg-color: #E8F0FE;\n",
              "      --fill-color: #1967D2;\n",
              "      --hover-bg-color: #E2EBFA;\n",
              "      --hover-fill-color: #174EA6;\n",
              "      --disabled-fill-color: #AAA;\n",
              "      --disabled-bg-color: #DDD;\n",
              "  }\n",
              "\n",
              "  [theme=dark] .colab-df-quickchart {\n",
              "      --bg-color: #3B4455;\n",
              "      --fill-color: #D2E3FC;\n",
              "      --hover-bg-color: #434B5C;\n",
              "      --hover-fill-color: #FFFFFF;\n",
              "      --disabled-bg-color: #3B4455;\n",
              "      --disabled-fill-color: #666;\n",
              "  }\n",
              "\n",
              "  .colab-df-quickchart {\n",
              "    background-color: var(--bg-color);\n",
              "    border: none;\n",
              "    border-radius: 50%;\n",
              "    cursor: pointer;\n",
              "    display: none;\n",
              "    fill: var(--fill-color);\n",
              "    height: 32px;\n",
              "    padding: 0;\n",
              "    width: 32px;\n",
              "  }\n",
              "\n",
              "  .colab-df-quickchart:hover {\n",
              "    background-color: var(--hover-bg-color);\n",
              "    box-shadow: 0 1px 2px rgba(60, 64, 67, 0.3), 0 1px 3px 1px rgba(60, 64, 67, 0.15);\n",
              "    fill: var(--button-hover-fill-color);\n",
              "  }\n",
              "\n",
              "  .colab-df-quickchart-complete:disabled,\n",
              "  .colab-df-quickchart-complete:disabled:hover {\n",
              "    background-color: var(--disabled-bg-color);\n",
              "    fill: var(--disabled-fill-color);\n",
              "    box-shadow: none;\n",
              "  }\n",
              "\n",
              "  .colab-df-spinner {\n",
              "    border: 2px solid var(--fill-color);\n",
              "    border-color: transparent;\n",
              "    border-bottom-color: var(--fill-color);\n",
              "    animation:\n",
              "      spin 1s steps(1) infinite;\n",
              "  }\n",
              "\n",
              "  @keyframes spin {\n",
              "    0% {\n",
              "      border-color: transparent;\n",
              "      border-bottom-color: var(--fill-color);\n",
              "      border-left-color: var(--fill-color);\n",
              "    }\n",
              "    20% {\n",
              "      border-color: transparent;\n",
              "      border-left-color: var(--fill-color);\n",
              "      border-top-color: var(--fill-color);\n",
              "    }\n",
              "    30% {\n",
              "      border-color: transparent;\n",
              "      border-left-color: var(--fill-color);\n",
              "      border-top-color: var(--fill-color);\n",
              "      border-right-color: var(--fill-color);\n",
              "    }\n",
              "    40% {\n",
              "      border-color: transparent;\n",
              "      border-right-color: var(--fill-color);\n",
              "      border-top-color: var(--fill-color);\n",
              "    }\n",
              "    60% {\n",
              "      border-color: transparent;\n",
              "      border-right-color: var(--fill-color);\n",
              "    }\n",
              "    80% {\n",
              "      border-color: transparent;\n",
              "      border-right-color: var(--fill-color);\n",
              "      border-bottom-color: var(--fill-color);\n",
              "    }\n",
              "    90% {\n",
              "      border-color: transparent;\n",
              "      border-bottom-color: var(--fill-color);\n",
              "    }\n",
              "  }\n",
              "</style>\n",
              "\n",
              "  <script>\n",
              "    async function quickchart(key) {\n",
              "      const quickchartButtonEl =\n",
              "        document.querySelector('#' + key + ' button');\n",
              "      quickchartButtonEl.disabled = true;  // To prevent multiple clicks.\n",
              "      quickchartButtonEl.classList.add('colab-df-spinner');\n",
              "      try {\n",
              "        const charts = await google.colab.kernel.invokeFunction(\n",
              "            'suggestCharts', [key], {});\n",
              "      } catch (error) {\n",
              "        console.error('Error during call to suggestCharts:', error);\n",
              "      }\n",
              "      quickchartButtonEl.classList.remove('colab-df-spinner');\n",
              "      quickchartButtonEl.classList.add('colab-df-quickchart-complete');\n",
              "    }\n",
              "    (() => {\n",
              "      let quickchartButtonEl =\n",
              "        document.querySelector('#df-63bc6fe9-2e7d-43b5-b66c-acd9d428b39a button');\n",
              "      quickchartButtonEl.style.display =\n",
              "        google.colab.kernel.accessAllowed ? 'block' : 'none';\n",
              "    })();\n",
              "  </script>\n",
              "</div>\n",
              "    </div>\n",
              "  </div>\n"
            ]
          },
          "metadata": {},
          "execution_count": 51
        }
      ],
      "source": [
        "df=df[['id','label_binary_severity','pred_binary_severity']]\n",
        "df['prediction_item_date']=today\n",
        "df['prediction_datetime']=datetime.now()\n",
        "df['model_version']=model_version\n",
        "df"
      ]
    },
    {
      "cell_type": "markdown",
      "id": "9c973c88-9133-4fbb-adcd-fcc7981702f1",
      "metadata": {
        "id": "9c973c88-9133-4fbb-adcd-fcc7981702f1"
      },
      "source": [
        "# Load ata to BQ"
      ]
    },
    {
      "cell_type": "code",
      "execution_count": 52,
      "id": "690bc079-2458-42b7-8343-30114abb4435",
      "metadata": {
        "colab": {
          "base_uri": "https://localhost:8080/"
        },
        "executionInfo": {
          "elapsed": 2882,
          "status": "ok",
          "timestamp": 1704617435962,
          "user": {
            "displayName": "",
            "userId": ""
          },
          "user_tz": -420
        },
        "id": "690bc079-2458-42b7-8343-30114abb4435",
        "outputId": "14b8a79d-2a31-4e5a-a774-6c0310540808"
      },
      "outputs": [
        {
          "output_type": "stream",
          "name": "stdout",
          "text": [
            "Total Prediction ML  12 Imported bigquery successfully\n"
          ]
        }
      ],
      "source": [
        "def loadDataFrameToBQ():\n",
        "    # WRITE_TRUNCATE , WRITE_APPEND\n",
        "    try:\n",
        "        if init_predict_from =='':\n",
        "            job_config = bigquery.LoadJobConfig(write_disposition=\"WRITE_APPEND\")\n",
        "        else:\n",
        "            job_config = bigquery.LoadJobConfig(write_disposition=\"WRITE_TRUNCATE\")\n",
        "\n",
        "        job = client.load_table_from_dataframe(\n",
        "            df, predictResult_table_id, job_config=job_config\n",
        "        )\n",
        "        job.result()  # Wait for the job to complete.\n",
        "        print(\"Total Prediction ML \", len(df), \"Imported bigquery successfully\")\n",
        "\n",
        "    except BadRequest as e:\n",
        "        print(\"Bigquery Error\\n\")\n",
        "        for e in job.errors:\n",
        "            print('ERROR: {}'.format(e['message']))\n",
        "\n",
        "try:\n",
        "    loadDataFrameToBQ()\n",
        "except Exception as ex:\n",
        "    raise ex"
      ]
    },
    {
      "cell_type": "code",
      "execution_count": 53,
      "id": "293e9a0a-85c3-46c3-8298-2271d8b462f7",
      "metadata": {
        "executionInfo": {
          "elapsed": 8,
          "status": "ok",
          "timestamp": 1704617435962,
          "user": {
            "displayName": "",
            "userId": ""
          },
          "user_tz": -420
        },
        "id": "293e9a0a-85c3-46c3-8298-2271d8b462f7"
      },
      "outputs": [],
      "source": [
        "# return 'All incidents has been predicted completely.'"
      ]
    }
  ],
  "metadata": {
    "colab": {
      "provenance": []
    },
    "environment": {
      "kernel": "python3",
      "name": "tf2-gpu.2-12.m109",
      "type": "gcloud",
      "uri": "gcr.io/deeplearning-platform-release/tf2-gpu.2-12:m109"
    },
    "kernelspec": {
      "display_name": "Python 3 (ipykernel)",
      "language": "python",
      "name": "python3"
    },
    "language_info": {
      "codemirror_mode": {
        "name": "ipython",
        "version": 3
      },
      "file_extension": ".py",
      "mimetype": "text/x-python",
      "name": "python",
      "nbconvert_exporter": "python",
      "pygments_lexer": "ipython3",
      "version": "3.10.12"
    }
  },
  "nbformat": 4,
  "nbformat_minor": 5
}