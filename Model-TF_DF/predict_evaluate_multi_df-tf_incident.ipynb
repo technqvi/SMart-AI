{
 "cells": [
  {
   "cell_type": "code",
   "execution_count": 26,
   "id": "9df47983-136a-4ae5-99cb-114efcecc044",
   "metadata": {},
   "outputs": [
    {
     "name": "stdout",
     "output_type": "stream",
     "text": [
      "2.12.0\n",
      "1.4.0\n"
     ]
    }
   ],
   "source": [
    "from google.cloud import aiplatform\n",
    "from google.cloud import bigquery\n",
    "\n",
    "import pandas as pd\n",
    "import numpy as np\n",
    "from datetime import date,datetime,timedelta\n",
    "\n",
    "import math\n",
    "import os\n",
    "\n",
    "import tensorflow as tf\n",
    "import tensorflow_decision_forests as tfdf  # constantly registered to load model \n",
    "print(tf.__version__)\n",
    "print(tfdf.__version__)"
   ]
  },
  {
   "cell_type": "code",
   "execution_count": 27,
   "id": "b7633548-9dc9-406c-a8ec-080e7c5562f3",
   "metadata": {},
   "outputs": [],
   "source": [
    "# import functions_framework\n",
    "# @functions_framework.http\n",
    "# def xgb_tf_predict_incident_severity(request):"
   ]
  },
  {
   "cell_type": "code",
   "execution_count": 24,
   "id": "b9604a8d-66ee-41f8-bca5-4ced39eadd0a",
   "metadata": {},
   "outputs": [
    {
     "name": "stdout",
     "output_type": "stream",
     "text": [
      "gs://demo-tuned-tf-incident-pongthorn/model_binary_gb_tf\n"
     ]
    }
   ],
   "source": [
    "option=1\n",
    "\n",
    "_model='model_binary_gb_tf'   # the is resonable because unsseen and tune 70&\n",
    "\n",
    "\n",
    "model_gs_path=f\"gs://demo-tuned-tf-incident-pongthorn/{_model}\"\n",
    "print(model_gs_path)\n",
    "\n",
    "projectId=\"pongthorn\"\n",
    "dataset_id=\"SMartML\"\n",
    "\n",
    "\n",
    "if option==1:\n",
    "    unusedCols_unseen=['id','severity_name','open_to_close_hour']\n",
    "else:\n",
    "    unusedCols_unseen=['id','severity_name','range_open_to_close_hour']\n",
    "    "
   ]
  },
  {
   "cell_type": "markdown",
   "id": "e6feef88-a349-497c-9845-731e4fad788c",
   "metadata": {},
   "source": [
    "# Load Model"
   ]
  },
  {
   "cell_type": "code",
   "execution_count": 25,
   "id": "83c3e87a-46fb-4294-8ad9-45cd14f2e21c",
   "metadata": {},
   "outputs": [
    {
     "ename": "OSError",
     "evalue": "No file or directory found at gs://demo-tuned-tf-incident-pongthorn/model_binary_gb_tf",
     "output_type": "error",
     "traceback": [
      "\u001b[0;31m---------------------------------------------------------------------------\u001b[0m",
      "\u001b[0;31mOSError\u001b[0m                                   Traceback (most recent call last)",
      "Cell \u001b[0;32mIn[25], line 1\u001b[0m\n\u001b[0;32m----> 1\u001b[0m abc_model \u001b[38;5;241m=\u001b[39m \u001b[43mtf\u001b[49m\u001b[38;5;241;43m.\u001b[39;49m\u001b[43mkeras\u001b[49m\u001b[38;5;241;43m.\u001b[39;49m\u001b[43mmodels\u001b[49m\u001b[38;5;241;43m.\u001b[39;49m\u001b[43mload_model\u001b[49m\u001b[43m(\u001b[49m\u001b[43mmodel_gs_path\u001b[49m\u001b[43m)\u001b[49m  \n\u001b[1;32m      2\u001b[0m \u001b[38;5;28mprint\u001b[39m(abc_model\u001b[38;5;241m.\u001b[39msummary())\n\u001b[1;32m      3\u001b[0m \u001b[38;5;66;03m# abc_model = tf.keras.models.load_model(model_local_path) \u001b[39;00m\n",
      "File \u001b[0;32m/opt/conda/lib/python3.10/site-packages/keras/saving/saving_api.py:212\u001b[0m, in \u001b[0;36mload_model\u001b[0;34m(filepath, custom_objects, compile, safe_mode, **kwargs)\u001b[0m\n\u001b[1;32m    204\u001b[0m     \u001b[38;5;28;01mreturn\u001b[39;00m saving_lib\u001b[38;5;241m.\u001b[39mload_model(\n\u001b[1;32m    205\u001b[0m         filepath,\n\u001b[1;32m    206\u001b[0m         custom_objects\u001b[38;5;241m=\u001b[39mcustom_objects,\n\u001b[1;32m    207\u001b[0m         \u001b[38;5;28mcompile\u001b[39m\u001b[38;5;241m=\u001b[39m\u001b[38;5;28mcompile\u001b[39m,\n\u001b[1;32m    208\u001b[0m         safe_mode\u001b[38;5;241m=\u001b[39msafe_mode,\n\u001b[1;32m    209\u001b[0m     )\n\u001b[1;32m    211\u001b[0m \u001b[38;5;66;03m# Legacy case.\u001b[39;00m\n\u001b[0;32m--> 212\u001b[0m \u001b[38;5;28;01mreturn\u001b[39;00m \u001b[43mlegacy_sm_saving_lib\u001b[49m\u001b[38;5;241;43m.\u001b[39;49m\u001b[43mload_model\u001b[49m\u001b[43m(\u001b[49m\n\u001b[1;32m    213\u001b[0m \u001b[43m    \u001b[49m\u001b[43mfilepath\u001b[49m\u001b[43m,\u001b[49m\u001b[43m \u001b[49m\u001b[43mcustom_objects\u001b[49m\u001b[38;5;241;43m=\u001b[39;49m\u001b[43mcustom_objects\u001b[49m\u001b[43m,\u001b[49m\u001b[43m \u001b[49m\u001b[38;5;28;43mcompile\u001b[39;49m\u001b[38;5;241;43m=\u001b[39;49m\u001b[38;5;28;43mcompile\u001b[39;49m\u001b[43m,\u001b[49m\u001b[43m \u001b[49m\u001b[38;5;241;43m*\u001b[39;49m\u001b[38;5;241;43m*\u001b[39;49m\u001b[43mkwargs\u001b[49m\n\u001b[1;32m    214\u001b[0m \u001b[43m\u001b[49m\u001b[43m)\u001b[49m\n",
      "File \u001b[0;32m/opt/conda/lib/python3.10/site-packages/keras/utils/traceback_utils.py:70\u001b[0m, in \u001b[0;36mfilter_traceback.<locals>.error_handler\u001b[0;34m(*args, **kwargs)\u001b[0m\n\u001b[1;32m     67\u001b[0m     filtered_tb \u001b[38;5;241m=\u001b[39m _process_traceback_frames(e\u001b[38;5;241m.\u001b[39m__traceback__)\n\u001b[1;32m     68\u001b[0m     \u001b[38;5;66;03m# To get the full stack trace, call:\u001b[39;00m\n\u001b[1;32m     69\u001b[0m     \u001b[38;5;66;03m# `tf.debugging.disable_traceback_filtering()`\u001b[39;00m\n\u001b[0;32m---> 70\u001b[0m     \u001b[38;5;28;01mraise\u001b[39;00m e\u001b[38;5;241m.\u001b[39mwith_traceback(filtered_tb) \u001b[38;5;28;01mfrom\u001b[39;00m \u001b[38;5;28;01mNone\u001b[39;00m\n\u001b[1;32m     71\u001b[0m \u001b[38;5;28;01mfinally\u001b[39;00m:\n\u001b[1;32m     72\u001b[0m     \u001b[38;5;28;01mdel\u001b[39;00m filtered_tb\n",
      "File \u001b[0;32m/opt/conda/lib/python3.10/site-packages/keras/saving/legacy/save.py:230\u001b[0m, in \u001b[0;36mload_model\u001b[0;34m(filepath, custom_objects, compile, options)\u001b[0m\n\u001b[1;32m    228\u001b[0m \u001b[38;5;28;01mif\u001b[39;00m \u001b[38;5;28misinstance\u001b[39m(filepath_str, \u001b[38;5;28mstr\u001b[39m):\n\u001b[1;32m    229\u001b[0m     \u001b[38;5;28;01mif\u001b[39;00m \u001b[38;5;129;01mnot\u001b[39;00m tf\u001b[38;5;241m.\u001b[39mio\u001b[38;5;241m.\u001b[39mgfile\u001b[38;5;241m.\u001b[39mexists(filepath_str):\n\u001b[0;32m--> 230\u001b[0m         \u001b[38;5;28;01mraise\u001b[39;00m \u001b[38;5;167;01mIOError\u001b[39;00m(\n\u001b[1;32m    231\u001b[0m             \u001b[38;5;124mf\u001b[39m\u001b[38;5;124m\"\u001b[39m\u001b[38;5;124mNo file or directory found at \u001b[39m\u001b[38;5;132;01m{\u001b[39;00mfilepath_str\u001b[38;5;132;01m}\u001b[39;00m\u001b[38;5;124m\"\u001b[39m\n\u001b[1;32m    232\u001b[0m         )\n\u001b[1;32m    234\u001b[0m     \u001b[38;5;28;01mif\u001b[39;00m tf\u001b[38;5;241m.\u001b[39mio\u001b[38;5;241m.\u001b[39mgfile\u001b[38;5;241m.\u001b[39misdir(filepath_str):\n\u001b[1;32m    235\u001b[0m         \u001b[38;5;28;01mreturn\u001b[39;00m saved_model_load\u001b[38;5;241m.\u001b[39mload(\n\u001b[1;32m    236\u001b[0m             filepath_str, \u001b[38;5;28mcompile\u001b[39m, options\n\u001b[1;32m    237\u001b[0m         )\n",
      "\u001b[0;31mOSError\u001b[0m: No file or directory found at gs://demo-tuned-tf-incident-pongthorn/model_binary_gb_tf"
     ]
    }
   ],
   "source": [
    "abc_model = tf.keras.models.load_model(model_gs_path)  \n",
    "print(abc_model.summary())\n",
    "# abc_model = tf.keras.models.load_model(model_local_path) "
   ]
  },
  {
   "cell_type": "markdown",
   "id": "eaffc009-d504-4345-8af0-75ea4100d667",
   "metadata": {},
   "source": [
    "# Make Prediction"
   ]
  },
  {
   "cell_type": "code",
   "execution_count": 12,
   "id": "c849ad7a-10f4-43b8-8421-1f907fc42b7e",
   "metadata": {},
   "outputs": [
    {
     "name": "stdout",
     "output_type": "stream",
     "text": [
      "<class 'pandas.core.frame.DataFrame'>\n",
      "RangeIndex: 80 entries, 0 to 79\n",
      "Data columns (total 7 columns):\n",
      " #   Column                    Non-Null Count  Dtype \n",
      "---  ------                    --------------  ----- \n",
      " 0   severity_id               80 non-null     Int64 \n",
      " 1   sla                       80 non-null     object\n",
      " 2   product_type              80 non-null     object\n",
      " 3   brand                     80 non-null     object\n",
      " 4   service_type              80 non-null     object\n",
      " 5   incident_type             80 non-null     object\n",
      " 6   range_open_to_close_hour  80 non-null     object\n",
      "dtypes: Int64(1), object(6)\n",
      "memory usage: 4.6+ KB\n",
      "None\n"
     ]
    },
    {
     "data": {
      "text/html": [
       "<div>\n",
       "<style scoped>\n",
       "    .dataframe tbody tr th:only-of-type {\n",
       "        vertical-align: middle;\n",
       "    }\n",
       "\n",
       "    .dataframe tbody tr th {\n",
       "        vertical-align: top;\n",
       "    }\n",
       "\n",
       "    .dataframe thead th {\n",
       "        text-align: right;\n",
       "    }\n",
       "</style>\n",
       "<table border=\"1\" class=\"dataframe\">\n",
       "  <thead>\n",
       "    <tr style=\"text-align: right;\">\n",
       "      <th></th>\n",
       "      <th>severity_id</th>\n",
       "      <th>sla</th>\n",
       "      <th>product_type</th>\n",
       "      <th>brand</th>\n",
       "      <th>service_type</th>\n",
       "      <th>incident_type</th>\n",
       "      <th>range_open_to_close_hour</th>\n",
       "    </tr>\n",
       "  </thead>\n",
       "  <tbody>\n",
       "    <tr>\n",
       "      <th>70</th>\n",
       "      <td>4</td>\n",
       "      <td>24x7 4Hrs Resolution Time</td>\n",
       "      <td>Access Point</td>\n",
       "      <td>Cisco</td>\n",
       "      <td>Request</td>\n",
       "      <td>General Incident</td>\n",
       "      <td>soonest</td>\n",
       "    </tr>\n",
       "    <tr>\n",
       "      <th>71</th>\n",
       "      <td>4</td>\n",
       "      <td>24x7 4Hrs Resolution Time</td>\n",
       "      <td>Access Point</td>\n",
       "      <td>Cisco</td>\n",
       "      <td>Request</td>\n",
       "      <td>General Incident</td>\n",
       "      <td>soonest</td>\n",
       "    </tr>\n",
       "    <tr>\n",
       "      <th>72</th>\n",
       "      <td>4</td>\n",
       "      <td>24x7 4Hrs Resolution Time</td>\n",
       "      <td>Software</td>\n",
       "      <td>Veeam</td>\n",
       "      <td>Request</td>\n",
       "      <td>Software</td>\n",
       "      <td>soonest</td>\n",
       "    </tr>\n",
       "    <tr>\n",
       "      <th>73</th>\n",
       "      <td>4</td>\n",
       "      <td>24x7 4Hrs Response Time</td>\n",
       "      <td>Storage</td>\n",
       "      <td>NetApp</td>\n",
       "      <td>Incident</td>\n",
       "      <td>General Incident</td>\n",
       "      <td>soon</td>\n",
       "    </tr>\n",
       "    <tr>\n",
       "      <th>74</th>\n",
       "      <td>4</td>\n",
       "      <td>24x7 4Hrs Resolution Time</td>\n",
       "      <td>Server</td>\n",
       "      <td>Oracle</td>\n",
       "      <td>Request</td>\n",
       "      <td>OS / Firmware</td>\n",
       "      <td>soonest</td>\n",
       "    </tr>\n",
       "    <tr>\n",
       "      <th>75</th>\n",
       "      <td>4</td>\n",
       "      <td>24x7 4Hrs Resolution Time</td>\n",
       "      <td>Server</td>\n",
       "      <td>Oracle</td>\n",
       "      <td>Request</td>\n",
       "      <td>Software</td>\n",
       "      <td>soonest</td>\n",
       "    </tr>\n",
       "    <tr>\n",
       "      <th>76</th>\n",
       "      <td>4</td>\n",
       "      <td>24x7 4Hrs Resolution Time</td>\n",
       "      <td>Server</td>\n",
       "      <td>Oracle</td>\n",
       "      <td>Request</td>\n",
       "      <td>Software</td>\n",
       "      <td>soonest</td>\n",
       "    </tr>\n",
       "    <tr>\n",
       "      <th>77</th>\n",
       "      <td>4</td>\n",
       "      <td>24x7 4Hrs Resolution Time</td>\n",
       "      <td>Software</td>\n",
       "      <td>VMWare</td>\n",
       "      <td>Request</td>\n",
       "      <td>Software</td>\n",
       "      <td>soonest</td>\n",
       "    </tr>\n",
       "    <tr>\n",
       "      <th>78</th>\n",
       "      <td>4</td>\n",
       "      <td>24x7 4Hrs Resolution Time</td>\n",
       "      <td>Software</td>\n",
       "      <td>VMWare</td>\n",
       "      <td>Request</td>\n",
       "      <td>Software</td>\n",
       "      <td>soon</td>\n",
       "    </tr>\n",
       "    <tr>\n",
       "      <th>79</th>\n",
       "      <td>4</td>\n",
       "      <td>24x7 4Hrs Response Time</td>\n",
       "      <td>Storage</td>\n",
       "      <td>Veritas</td>\n",
       "      <td>Incident</td>\n",
       "      <td>General Incident</td>\n",
       "      <td>soon</td>\n",
       "    </tr>\n",
       "  </tbody>\n",
       "</table>\n",
       "</div>"
      ],
      "text/plain": [
       "    severity_id                        sla  product_type    brand  \\\n",
       "70            4  24x7 4Hrs Resolution Time  Access Point    Cisco   \n",
       "71            4  24x7 4Hrs Resolution Time  Access Point    Cisco   \n",
       "72            4  24x7 4Hrs Resolution Time      Software    Veeam   \n",
       "73            4    24x7 4Hrs Response Time       Storage   NetApp   \n",
       "74            4  24x7 4Hrs Resolution Time        Server   Oracle   \n",
       "75            4  24x7 4Hrs Resolution Time        Server   Oracle   \n",
       "76            4  24x7 4Hrs Resolution Time        Server   Oracle   \n",
       "77            4  24x7 4Hrs Resolution Time      Software   VMWare   \n",
       "78            4  24x7 4Hrs Resolution Time      Software   VMWare   \n",
       "79            4    24x7 4Hrs Response Time       Storage  Veritas   \n",
       "\n",
       "   service_type     incident_type range_open_to_close_hour  \n",
       "70      Request  General Incident                  soonest  \n",
       "71      Request  General Incident                  soonest  \n",
       "72      Request          Software                  soonest  \n",
       "73     Incident  General Incident                     soon  \n",
       "74      Request     OS / Firmware                  soonest  \n",
       "75      Request          Software                  soonest  \n",
       "76      Request          Software                  soonest  \n",
       "77      Request          Software                  soonest  \n",
       "78      Request          Software                     soon  \n",
       "79     Incident  General Incident                     soon  "
      ]
     },
     "execution_count": 12,
     "metadata": {},
     "output_type": "execute_result"
    }
   ],
   "source": [
    "client = bigquery.Client(project=projectId)\n",
    "new_data_table_id=f\"{projectId}.{dataset_id}.new2_incident\"\n",
    "\n",
    "query_result=client.query(f\"SELECT * FROM {new_data_table_id}\")\n",
    "df=query_result.to_dataframe()\n",
    "\n",
    "unseen =df.drop(columns=unusedCols_unseen)\n",
    "print(unseen.info())\n",
    "unseen.tail(10)"
   ]
  },
  {
   "cell_type": "code",
   "execution_count": 13,
   "id": "a4b709a5-91c0-4e40-abd7-7fc4bc49c5f3",
   "metadata": {},
   "outputs": [
    {
     "name": "stdout",
     "output_type": "stream",
     "text": [
      "<_PrefetchDataset element_spec={'sla': TensorSpec(shape=(None,), dtype=tf.string, name=None), 'product_type': TensorSpec(shape=(None,), dtype=tf.string, name=None), 'brand': TensorSpec(shape=(None,), dtype=tf.string, name=None), 'service_type': TensorSpec(shape=(None,), dtype=tf.string, name=None), 'incident_type': TensorSpec(shape=(None,), dtype=tf.string, name=None), 'range_open_to_close_hour': TensorSpec(shape=(None,), dtype=tf.string, name=None)}>\n"
     ]
    }
   ],
   "source": [
    "unseen_ds= tfdf.keras.pd_dataframe_to_tf_dataset(unseen.drop(columns=['severity_id']))\n",
    "print(unseen_ds)"
   ]
  },
  {
   "cell_type": "code",
   "execution_count": 14,
   "id": "31d90302-f84b-4266-9407-a03f1689026f",
   "metadata": {},
   "outputs": [
    {
     "name": "stdout",
     "output_type": "stream",
     "text": [
      "1/1 [==============================] - 0s 102ms/step\n",
      "[0.01513131 0.1000897  0.796147   0.08863197] : 2 as severity#2\n",
      "[0.0154452  0.07310431 0.84545916 0.06599136] : 2 as severity#2\n",
      "[0.0154452  0.07310431 0.84545916 0.06599136] : 2 as severity#2\n",
      "[0.0154452  0.07310431 0.84545916 0.06599136] : 2 as severity#2\n",
      "[0.0154452  0.07310431 0.84545916 0.06599136] : 2 as severity#2\n",
      "[0.0154452  0.07310431 0.84545916 0.06599136] : 2 as severity#2\n",
      "[0.0154452  0.07310431 0.84545916 0.06599136] : 2 as severity#2\n",
      "[0.0154452  0.07310431 0.84545916 0.06599136] : 2 as severity#2\n",
      "[0.01336976 0.04342543 0.93415433 0.00905051] : 2 as severity#2\n",
      "[0.01513131 0.1000897  0.796147   0.08863197] : 2 as severity#2\n",
      "[0.0154452  0.07310431 0.84545916 0.06599136] : 2 as severity#2\n",
      "[0.00982261 0.04917946 0.9345066  0.0064913 ] : 2 as severity#2\n",
      "[0.02062506 0.12977083 0.8195875  0.03001656] : 2 as severity#2\n",
      "[0.01779265 0.08065245 0.8698259  0.03172899] : 2 as severity#2\n",
      "[0.02177456 0.06510144 0.8986616  0.01446236] : 2 as severity#2\n",
      "[0.01055668 0.1438489  0.8321496  0.01344477] : 2 as severity#2\n",
      "[0.01055668 0.1438489  0.8321496  0.01344477] : 2 as severity#2\n",
      "[0.01095982 0.18089415 0.7992448  0.00890123] : 2 as severity#2\n",
      "[0.01055668 0.1438489  0.8321496  0.01344477] : 2 as severity#2\n",
      "[0.12487961 0.7903349  0.08020031 0.00458524] : 1 as severity#3\n",
      "[0.02862903 0.25963795 0.6924046  0.0193284 ] : 2 as severity#2\n",
      "[0.02862903 0.25963795 0.6924046  0.0193284 ] : 2 as severity#2\n",
      "[0.03941397 0.19457279 0.7498816  0.01613164] : 2 as severity#2\n",
      "[0.00518139 0.04826583 0.936481   0.01007174] : 2 as severity#2\n",
      "[0.00608945 0.02475835 0.9644008  0.00475137] : 2 as severity#2\n",
      "[0.01281216 0.08827943 0.8596373  0.03927114] : 2 as severity#2\n",
      "[0.00540476 0.9591863  0.03236104 0.00304785] : 1 as severity#3\n",
      "[0.00683691 0.5527583  0.43505812 0.00534672] : 1 as severity#3\n",
      "[0.00947633 0.06233887 0.9014619  0.02672288] : 2 as severity#2\n",
      "[0.00947633 0.06233887 0.9014619  0.02672288] : 2 as severity#2\n",
      "[0.00947633 0.06233887 0.9014619  0.02672288] : 2 as severity#2\n",
      "[0.00947633 0.06233887 0.9014619  0.02672288] : 2 as severity#2\n",
      "[0.4151922  0.43291062 0.12694877 0.02494839] : 1 as severity#3\n",
      "[0.6152199  0.3027026  0.0428898  0.03918782] : 0 as severity#4\n",
      "[0.01796301 0.07064571 0.8959037  0.0154876 ] : 2 as severity#2\n",
      "[0.31734088 0.63901585 0.02950993 0.01413336] : 1 as severity#3\n",
      "[0.01391079 0.717401   0.23214456 0.03654356] : 1 as severity#3\n",
      "[0.04532138 0.5727143  0.37115216 0.01081215] : 1 as severity#3\n",
      "[0.03572739 0.7718266  0.17677337 0.01567251] : 1 as severity#3\n",
      "[0.01318795 0.4098764  0.5532594  0.02367628] : 2 as severity#2\n",
      "[0.01782154 0.24195981 0.26666096 0.47355765] : 3 as severity#1\n",
      "[0.0084537  0.5115585  0.3211109  0.15887694] : 1 as severity#3\n",
      "[0.01380757 0.7401283  0.21320215 0.03286188] : 1 as severity#3\n",
      "[0.01495496 0.20427756 0.7614709  0.01929658] : 2 as severity#2\n",
      "[0.00811459 0.14992681 0.8342501  0.00770854] : 2 as severity#2\n",
      "[0.0132471  0.5037367  0.46594632 0.01706991] : 1 as severity#3\n",
      "[0.0132471  0.5037367  0.46594632 0.01706991] : 1 as severity#3\n",
      "[0.237443   0.7058801  0.04094538 0.01573155] : 1 as severity#3\n",
      "[0.01872371 0.82966524 0.14270706 0.00890403] : 1 as severity#3\n",
      "[0.00540476 0.9591863  0.03236104 0.00304785] : 1 as severity#3\n",
      "[0.01177808 0.9077274  0.07633034 0.00416415] : 1 as severity#3\n",
      "[0.94347364 0.0481788  0.00486785 0.00347972] : 0 as severity#4\n",
      "[0.6147867  0.32151422 0.03669259 0.02700651] : 0 as severity#4\n",
      "[0.2880164  0.69082344 0.01431442 0.0068458 ] : 1 as severity#3\n",
      "[0.6147867  0.32151422 0.03669259 0.02700651] : 0 as severity#4\n",
      "[0.6147867  0.32151422 0.03669259 0.02700651] : 0 as severity#4\n",
      "[0.6147867  0.32151422 0.03669259 0.02700651] : 0 as severity#4\n",
      "[0.6147867  0.32151422 0.03669259 0.02700651] : 0 as severity#4\n",
      "[0.6147867  0.32151422 0.03669259 0.02700651] : 0 as severity#4\n",
      "[0.6147867  0.32151422 0.03669259 0.02700651] : 0 as severity#4\n",
      "[0.6147867  0.32151422 0.03669259 0.02700651] : 0 as severity#4\n",
      "[0.6147867  0.32151422 0.03669259 0.02700651] : 0 as severity#4\n",
      "[0.6147867  0.32151422 0.03669259 0.02700651] : 0 as severity#4\n",
      "[0.6147867  0.32151422 0.03669259 0.02700651] : 0 as severity#4\n",
      "[0.6147867  0.32151422 0.03669259 0.02700651] : 0 as severity#4\n",
      "[0.02079764 0.28740105 0.6704604  0.02134094] : 2 as severity#2\n",
      "[0.6147867  0.32151422 0.03669259 0.02700651] : 0 as severity#4\n",
      "[0.01558084 0.14980558 0.798923   0.03569065] : 2 as severity#2\n",
      "[0.02079764 0.28740105 0.6704604  0.02134094] : 2 as severity#2\n",
      "[0.01558084 0.14980558 0.798923   0.03569065] : 2 as severity#2\n",
      "[0.6147867  0.32151422 0.03669259 0.02700651] : 0 as severity#4\n",
      "[0.6147867  0.32151422 0.03669259 0.02700651] : 0 as severity#4\n",
      "[0.12266542 0.77954245 0.07921631 0.01857576] : 1 as severity#3\n",
      "[0.01558995 0.7628804  0.208927   0.01260272] : 1 as severity#3\n",
      "[0.06834944 0.1495417  0.76330054 0.01880828] : 2 as severity#2\n",
      "[0.07266448 0.21165285 0.69687504 0.0188077 ] : 2 as severity#2\n",
      "[0.07266448 0.21165285 0.69687504 0.0188077 ] : 2 as severity#2\n",
      "[0.69874436 0.13422512 0.14236675 0.02466379] : 0 as severity#4\n",
      "[0.8283352  0.10252471 0.05960057 0.0095395 ] : 0 as severity#4\n",
      "[0.0202044  0.33375847 0.6294168  0.0166203 ] : 2 as severity#2\n"
     ]
    },
    {
     "name": "stderr",
     "output_type": "stream",
     "text": [
      "2023-07-12 04:37:51.892276: I tensorflow/core/common_runtime/executor.cc:1197] [/device:CPU:0] (DEBUG INFO) Executor start aborting (this does not indicate an error and you can ignore this message): INVALID_ARGUMENT: You must feed a value for placeholder tensor 'Placeholder/_2' with dtype string and shape [80]\n",
      "\t [[{{node Placeholder/_2}}]]\n"
     ]
    }
   ],
   "source": [
    "predResultList=abc_model.predict(unseen_ds)\n",
    "predServerityIDList=[]\n",
    "for predResult in predResultList:\n",
    "    _class=tf.argmax(predResult,-1).numpy()\n",
    "    pred_seveirty_id=map_severity_to_class[_class]\n",
    "    predServerityIDList.append(pred_seveirty_id)\n",
    "    print(f\"{predResult} : {_class} as severity#{pred_seveirty_id}\")\n",
    "    \n",
    "dfPred=pd.DataFrame(data=predServerityIDList,columns=[\"pred_severity_id\"])   \n",
    "df=pd.concat([dfPred,df],axis=1)\n",
    "# df"
   ]
  },
  {
   "cell_type": "markdown",
   "id": "767ac965-914f-4ca8-99f4-33f25079bed1",
   "metadata": {},
   "source": [
    "# Evaluate model"
   ]
  },
  {
   "cell_type": "code",
   "execution_count": 15,
   "id": "06828323-74af-44fb-b261-aade71784b68",
   "metadata": {},
   "outputs": [
    {
     "name": "stdout",
     "output_type": "stream",
     "text": [
      "          pred-1  pred-2  pred-3  pred-4\n",
      "actual-1       0       0       0       0\n",
      "actual-2       0      29       3       0\n",
      "actual-3       1       4      13       1\n",
      "actual-4       0       8       3      18\n",
      "              precision    recall  f1-score   support\n",
      "\n",
      "           1       0.00      0.00      0.00         0\n",
      "           2       0.71      0.91      0.79        32\n",
      "           3       0.68      0.68      0.68        19\n",
      "           4       0.95      0.62      0.75        29\n",
      "\n",
      "    accuracy                           0.75        80\n",
      "   macro avg       0.58      0.55      0.56        80\n",
      "weighted avg       0.79      0.75      0.75        80\n",
      "\n"
     ]
    },
    {
     "name": "stderr",
     "output_type": "stream",
     "text": [
      "/opt/conda/lib/python3.10/site-packages/sklearn/metrics/_classification.py:1344: UndefinedMetricWarning: Recall and F-score are ill-defined and being set to 0.0 in labels with no true samples. Use `zero_division` parameter to control this behavior.\n",
      "  _warn_prf(average, modifier, msg_start, len(result))\n",
      "/opt/conda/lib/python3.10/site-packages/sklearn/metrics/_classification.py:1344: UndefinedMetricWarning: Recall and F-score are ill-defined and being set to 0.0 in labels with no true samples. Use `zero_division` parameter to control this behavior.\n",
      "  _warn_prf(average, modifier, msg_start, len(result))\n",
      "/opt/conda/lib/python3.10/site-packages/sklearn/metrics/_classification.py:1344: UndefinedMetricWarning: Recall and F-score are ill-defined and being set to 0.0 in labels with no true samples. Use `zero_division` parameter to control this behavior.\n",
      "  _warn_prf(average, modifier, msg_start, len(result))\n"
     ]
    }
   ],
   "source": [
    "from sklearn.metrics import confusion_matrix,classification_report\n",
    "className=list(set().union(list(df['pred_severity_id'].unique()),list(df['severity_id'].unique())))\n",
    "className\n",
    "actualClass=[  f'actual-{x}' for x in  className]\n",
    "predictedlClass=[  f'pred-{x}' for x in className]\n",
    "y_true=list(df['severity_id'])\n",
    "y_pred=list(df['pred_severity_id'])\n",
    "cnf_matrix = confusion_matrix(y_true,y_pred)\n",
    "cnf_matrix\n",
    "\n",
    "# #index=actual , column=prediction\n",
    "cm_df = pd.DataFrame(cnf_matrix,\n",
    "                     index = actualClass, \n",
    "                     columns = predictedlClass)\n",
    "print(cm_df)\n",
    "print(classification_report(y_true, y_pred, labels=className))"
   ]
  },
  {
   "cell_type": "markdown",
   "id": "e98ac483-bdf4-4060-b394-95ae66b01286",
   "metadata": {},
   "source": [
    "# Write Prediction Result to BQ"
   ]
  },
  {
   "cell_type": "code",
   "execution_count": 16,
   "id": "b18455cc-545f-424b-9640-37eb84b4dad2",
   "metadata": {},
   "outputs": [
    {
     "name": "stdout",
     "output_type": "stream",
     "text": [
      "      id  severity_id  pred_severity_id        prediction_datetime\n",
      "0   2766            2                 2 2023-07-12 04:37:59.068290\n",
      "1   3107            2                 2 2023-07-12 04:37:59.068290\n",
      "2   3105            2                 2 2023-07-12 04:37:59.068290\n",
      "3   3104            2                 2 2023-07-12 04:37:59.068290\n",
      "4   3103            2                 2 2023-07-12 04:37:59.068290\n",
      "..   ...          ...               ...                        ...\n",
      "75  3094            4                 2 2023-07-12 04:37:59.068290\n",
      "76  3093            4                 2 2023-07-12 04:37:59.068290\n",
      "77  3053            4                 4 2023-07-12 04:37:59.068290\n",
      "78  3052            4                 4 2023-07-12 04:37:59.068290\n",
      "79  3029            4                 2 2023-07-12 04:37:59.068290\n",
      "\n",
      "[80 rows x 4 columns]\n"
     ]
    }
   ],
   "source": [
    "df=df[['id','severity_id','pred_severity_id']]\n",
    "df['prediction_datetime']=datetime.now()\n",
    "print(df)"
   ]
  },
  {
   "cell_type": "code",
   "execution_count": null,
   "id": "7a466acd-b50a-44c0-85fe-4a4d07afd09c",
   "metadata": {},
   "outputs": [],
   "source": []
  },
  {
   "cell_type": "code",
   "execution_count": 17,
   "id": "d6d6b712-df15-4cc4-8fa5-fef554725ee1",
   "metadata": {},
   "outputs": [
    {
     "name": "stdout",
     "output_type": "stream",
     "text": [
      "Predict Result Table pongthorn.SMartML.new2_result_prediction_incident already exists.\n"
     ]
    }
   ],
   "source": [
    "predictResult_table_id=f\"{projectId}.{dataset_id}.new2_result_prediction_incident\"\n",
    "\n",
    "try:\n",
    "    client.get_table(predictResult_table_id)  # Make an API request.\n",
    "    print(\"Predict Result Table {} already exists.\".format(predictResult_table_id))\n",
    "except Exception as ex:\n",
    "    schema = [\n",
    "    bigquery.SchemaField(\"id\", \"INTEGER\", mode=\"REQUIRED\"),\n",
    "    bigquery.SchemaField(\"severity_id\", \"INTEGER\", mode=\"REQUIRED\"),\n",
    "    bigquery.SchemaField(\"pred_severity_id\", \"INTEGER\", mode=\"REQUIRED\"),       \n",
    "    bigquery.SchemaField(\"prediction_datetime\", \"DATETIME\", mode=\"REQUIRED\") \n",
    "    ]\n",
    "\n",
    "    table = bigquery.Table(predictResult_table_id,schema=schema)\n",
    "    # table.time_partitioning = bigquery.TimePartitioning(\n",
    "    # type_=bigquery.TimePartitioningType.DAY,field=\"prediction_item_date\")\n",
    "    \n",
    "    table = client.create_table(table)  # Make an API request.\n",
    "    \n",
    "    print(\n",
    "        \"Created table {}.{}.{}\".format(table.project, table.dataset_id, table.table_id)\n",
    "    )"
   ]
  },
  {
   "cell_type": "code",
   "execution_count": 18,
   "id": "690bc079-2458-42b7-8343-30114abb4435",
   "metadata": {},
   "outputs": [
    {
     "name": "stdout",
     "output_type": "stream",
     "text": [
      "Total Prediction ML  80 Imported bigquery successfully\n"
     ]
    }
   ],
   "source": [
    "def loadDataFrameToBQ():\n",
    "    # WRITE_TRUNCATE , WRITE_APPEND\n",
    "    try:\n",
    "        job_config = bigquery.LoadJobConfig(\n",
    "            write_disposition=\"WRITE_TRUNCATE\",\n",
    "        )\n",
    "\n",
    "        job = client.load_table_from_dataframe(\n",
    "            df, predictResult_table_id, job_config=job_config\n",
    "        )\n",
    "        job.result()  # Wait for the job to complete.\n",
    "        print(\"Total Prediction ML \", len(df), \"Imported bigquery successfully\")\n",
    "\n",
    "    except BadRequest as e:\n",
    "        print(\"Bigquery Error\\n\")\n",
    "        for e in job.errors:\n",
    "            print('ERROR: {}'.format(e['message']))\n",
    "\n",
    "try:\n",
    "    loadDataFrameToBQ()\n",
    "except Exception as ex:\n",
    "    raise ex"
   ]
  },
  {
   "cell_type": "code",
   "execution_count": 19,
   "id": "293e9a0a-85c3-46c3-8298-2271d8b462f7",
   "metadata": {},
   "outputs": [],
   "source": [
    "# return 'All incidents has been predicted completely.'"
   ]
  },
  {
   "cell_type": "code",
   "execution_count": null,
   "id": "3154f63c-afe3-490c-8d9c-5350740f3295",
   "metadata": {},
   "outputs": [],
   "source": []
  }
 ],
 "metadata": {
  "environment": {
   "kernel": "python3",
   "name": "tf2-gpu.2-12.m109",
   "type": "gcloud",
   "uri": "gcr.io/deeplearning-platform-release/tf2-gpu.2-12:m109"
  },
  "kernelspec": {
   "display_name": "Python 3",
   "language": "python",
   "name": "python3"
  },
  "language_info": {
   "codemirror_mode": {
    "name": "ipython",
    "version": 3
   },
   "file_extension": ".py",
   "mimetype": "text/x-python",
   "name": "python",
   "nbconvert_exporter": "python",
   "pygments_lexer": "ipython3",
   "version": "3.10.11"
  }
 },
 "nbformat": 4,
 "nbformat_minor": 5
}
