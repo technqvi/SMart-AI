{
 "cells": [
  {
   "cell_type": "code",
   "execution_count": null,
   "id": "0037756f-ab9b-4dea-b877-df0bf90e78fe",
   "metadata": {},
   "outputs": [
    {
     "name": "stderr",
     "output_type": "stream",
     "text": [
      "2023-03-11 11:48:39.696040: I tensorflow/core/platform/cpu_feature_guard.cc:193] This TensorFlow binary is optimized with oneAPI Deep Neural Network Library (oneDNN) to use the following CPU instructions in performance-critical operations:  AVX2 FMA\n",
      "To enable them in other operations, rebuild TensorFlow with the appropriate compiler flags.\n",
      "2023-03-11 11:48:54.524638: W tensorflow/compiler/xla/stream_executor/platform/default/dso_loader.cc:64] Could not load dynamic library 'libnvinfer.so.7'; dlerror: libnvinfer.so.7: cannot open shared object file: No such file or directory; LD_LIBRARY_PATH: /usr/local/cuda/lib64:/usr/local/cuda/lib:/usr/local/lib/x86_64-linux-gnu:/usr/local/nvidia/lib:/usr/local/nvidia/lib64:/usr/local/nvidia/lib:/usr/local/nvidia/lib64\n",
      "2023-03-11 11:48:54.546211: W tensorflow/compiler/xla/stream_executor/platform/default/dso_loader.cc:64] Could not load dynamic library 'libnvinfer_plugin.so.7'; dlerror: libnvinfer_plugin.so.7: cannot open shared object file: No such file or directory; LD_LIBRARY_PATH: /usr/local/cuda/lib64:/usr/local/cuda/lib:/usr/local/lib/x86_64-linux-gnu:/usr/local/nvidia/lib:/usr/local/nvidia/lib64:/usr/local/nvidia/lib:/usr/local/nvidia/lib64\n",
      "2023-03-11 11:48:54.546240: W tensorflow/compiler/tf2tensorrt/utils/py_utils.cc:38] TF-TRT Warning: Cannot dlopen some TensorRT libraries. If you would like to use Nvidia GPU with TensorRT, please make sure the missing libraries mentioned above are installed properly.\n"
     ]
    }
   ],
   "source": [
    "# pip install --user --upgrade tensorflow\n",
    "# https://github.com/GoogleCloudPlatform/training-data-analyst/blob/master/courses/machine_learning/deepdive2/introduction_to_tensorflow/solutions/train_models_with_tensorFlow_decision_forests.ipynb\n",
    "\n",
    "from google.cloud import aiplatform\n",
    "import tensorflow as tf\n",
    "import tensorflow_decision_forests as tfdf\n",
    "import pandas as pd\n",
    "import numpy as np\n",
    "\n",
    "import math\n",
    "import os"
   ]
  },
  {
   "cell_type": "code",
   "execution_count": null,
   "id": "ff7d9e9b-2caf-4e31-a425-ee62d52e0ab7",
   "metadata": {},
   "outputs": [
    {
     "name": "stdout",
     "output_type": "stream",
     "text": [
      "Aiplatform1.22.0\n",
      "TensorFlow2.11.0\n",
      "TensorFlow Decision Forests 1.2.0\n",
      "Pandas 1.3.5\n",
      "Numpy 1.21.6\n"
     ]
    }
   ],
   "source": [
    "print(\"Aiplatform\" + aiplatform.__version__)\n",
    "print(\"TensorFlow\" + tf.__version__)\n",
    "print(\"TensorFlow Decision Forests \" + tfdf.__version__)\n",
    "print(\"Pandas \"+pd.__version__)\n",
    "print(\"Numpy \"+np.__version__)"
   ]
  },
  {
   "cell_type": "code",
   "execution_count": null,
   "id": "a6f1bad7-3288-4a95-a49e-8dc9c02424f1",
   "metadata": {},
   "outputs": [
    {
     "name": "stdout",
     "output_type": "stream",
     "text": [
      "Label classes: [4, 2, 3, 1]\n",
      "<class 'pandas.core.frame.DataFrame'>\n",
      "RangeIndex: 2109 entries, 0 to 2108\n",
      "Data columns (total 8 columns):\n",
      " #   Column                     Non-Null Count  Dtype  \n",
      "---  ------                     --------------  -----  \n",
      " 0   severity                   2109 non-null   int64  \n",
      " 1   sla                        2109 non-null   object \n",
      " 2   product_type               2109 non-null   object \n",
      " 3   brand                      2109 non-null   object \n",
      " 4   service_type               2109 non-null   object \n",
      " 5   incident_type              2109 non-null   object \n",
      " 6   open_to_close_hour         2109 non-null   float64\n",
      " 7   response_to_resolved_hour  2109 non-null   float64\n",
      "dtypes: float64(2), int64(1), object(5)\n",
      "memory usage: 131.9+ KB\n",
      "None\n"
     ]
    },
    {
     "data": {
      "text/html": [
       "<div>\n",
       "<style scoped>\n",
       "    .dataframe tbody tr th:only-of-type {\n",
       "        vertical-align: middle;\n",
       "    }\n",
       "\n",
       "    .dataframe tbody tr th {\n",
       "        vertical-align: top;\n",
       "    }\n",
       "\n",
       "    .dataframe thead th {\n",
       "        text-align: right;\n",
       "    }\n",
       "</style>\n",
       "<table border=\"1\" class=\"dataframe\">\n",
       "  <thead>\n",
       "    <tr style=\"text-align: right;\">\n",
       "      <th></th>\n",
       "      <th>severity</th>\n",
       "      <th>sla</th>\n",
       "      <th>product_type</th>\n",
       "      <th>brand</th>\n",
       "      <th>service_type</th>\n",
       "      <th>incident_type</th>\n",
       "      <th>open_to_close_hour</th>\n",
       "      <th>response_to_resolved_hour</th>\n",
       "    </tr>\n",
       "  </thead>\n",
       "  <tbody>\n",
       "    <tr>\n",
       "      <th>0</th>\n",
       "      <td>4</td>\n",
       "      <td>24x7 4Hrs Response Time</td>\n",
       "      <td>Software</td>\n",
       "      <td>VMWare</td>\n",
       "      <td>Incident</td>\n",
       "      <td>General Incident</td>\n",
       "      <td>8.050000</td>\n",
       "      <td>7.000000</td>\n",
       "    </tr>\n",
       "    <tr>\n",
       "      <th>1</th>\n",
       "      <td>4</td>\n",
       "      <td>24x7 4Hrs Response Time</td>\n",
       "      <td>Software</td>\n",
       "      <td>VMWare</td>\n",
       "      <td>Request</td>\n",
       "      <td>General Incident</td>\n",
       "      <td>0.983333</td>\n",
       "      <td>0.583333</td>\n",
       "    </tr>\n",
       "    <tr>\n",
       "      <th>2</th>\n",
       "      <td>4</td>\n",
       "      <td>24x7 4Hrs Response Time</td>\n",
       "      <td>Software</td>\n",
       "      <td>VMWare</td>\n",
       "      <td>Request</td>\n",
       "      <td>General Incident</td>\n",
       "      <td>9.333333</td>\n",
       "      <td>9.266667</td>\n",
       "    </tr>\n",
       "    <tr>\n",
       "      <th>3</th>\n",
       "      <td>4</td>\n",
       "      <td>24x7 4Hrs Resolution Time</td>\n",
       "      <td>Software</td>\n",
       "      <td>VMWare</td>\n",
       "      <td>Request</td>\n",
       "      <td>Upgrade Software</td>\n",
       "      <td>7.000000</td>\n",
       "      <td>7.000000</td>\n",
       "    </tr>\n",
       "    <tr>\n",
       "      <th>4</th>\n",
       "      <td>2</td>\n",
       "      <td>24x7 4Hrs Resolution Time</td>\n",
       "      <td>Hardware</td>\n",
       "      <td>Oracle</td>\n",
       "      <td>Incident</td>\n",
       "      <td>Hard Disk Drive Failure</td>\n",
       "      <td>23.000000</td>\n",
       "      <td>19.500000</td>\n",
       "    </tr>\n",
       "  </tbody>\n",
       "</table>\n",
       "</div>"
      ],
      "text/plain": [
       "   severity                        sla product_type   brand service_type  \\\n",
       "0         4    24x7 4Hrs Response Time     Software  VMWare     Incident   \n",
       "1         4    24x7 4Hrs Response Time     Software  VMWare      Request   \n",
       "2         4    24x7 4Hrs Response Time     Software  VMWare      Request   \n",
       "3         4  24x7 4Hrs Resolution Time     Software  VMWare      Request   \n",
       "4         2  24x7 4Hrs Resolution Time     Hardware  Oracle     Incident   \n",
       "\n",
       "             incident_type  open_to_close_hour  response_to_resolved_hour  \n",
       "0         General Incident            8.050000                   7.000000  \n",
       "1         General Incident            0.983333                   0.583333  \n",
       "2         General Incident            9.333333                   9.266667  \n",
       "3         Upgrade Software            7.000000                   7.000000  \n",
       "4  Hard Disk Drive Failure           23.000000                  19.500000  "
      ]
     },
     "execution_count": 23,
     "metadata": {},
     "output_type": "execute_result"
    }
   ],
   "source": [
    "# !gsutil cp gs://smart-ml-pongthorn/incident-train-data/TrainEval_Incident.csv data/TrainEval_Incident.csv\n",
    "dataset_df = pd.read_csv(\"data/TrainEval_Incident.csv\")\n",
    "\n",
    "\n",
    "label = \"severity\"\n",
    "\n",
    "dataset_df=dataset_df.drop(columns=['severity_name'])\n",
    "dataset_df=dataset_df.rename(columns={'severity_id':'severity'})\n",
    "\n",
    "classes = dataset_df[label].unique().tolist()\n",
    "\n",
    "# dataset_df=dataset_df.drop(columns=['severity_id'])\n",
    "# dataset_df=dataset_df.rename(columns={'severity_name':'severity'})\n",
    "# dataset_df[label] = dataset_df[label].map(classes.index)\n",
    "\n",
    "\n",
    "print(f\"Label classes: {classes}\")\n",
    "\n",
    "print(dataset_df.info())\n",
    "dataset_df.head()"
   ]
  },
  {
   "cell_type": "code",
   "execution_count": null,
   "id": "98dd5812-fc0d-4801-86f0-ea870e24c159",
   "metadata": {},
   "outputs": [
    {
     "name": "stdout",
     "output_type": "stream",
     "text": [
      "1693 examples in training, 416 examples for testing.\n"
     ]
    }
   ],
   "source": [
    "# Split the dataset into a training and a testing dataset.\n",
    "def split_dataset(dataset, test_ratio=0.20):\n",
    "  \"\"\"Splits a panda dataframe in two.\"\"\"\n",
    "  test_indices = np.random.rand(len(dataset)) < test_ratio\n",
    "  return dataset[~test_indices], dataset[test_indices]\n",
    "\n",
    "\n",
    "train_ds_pd, test_ds_pd = split_dataset(dataset_df)\n",
    "print(\"{} examples in training, {} examples for testing.\".format(\n",
    "    len(train_ds_pd), len(test_ds_pd)))"
   ]
  },
  {
   "cell_type": "code",
   "execution_count": null,
   "id": "c16c5c8f-e1e2-4f55-868e-8917d2125fc4",
   "metadata": {},
   "outputs": [],
   "source": [
    "train_ds = tfdf.keras.pd_dataframe_to_tf_dataset(train_ds_pd, label=label)\n",
    "test_ds = tfdf.keras.pd_dataframe_to_tf_dataset(test_ds_pd, label=label)"
   ]
  },
  {
   "cell_type": "code",
   "execution_count": null,
   "id": "2f96a45d-b015-4ead-bab6-febc37fb8a59",
   "metadata": {},
   "outputs": [
    {
     "name": "stdout",
     "output_type": "stream",
     "text": [
      "Use /tmp/tmpq6rkjoxc as temporary training directory\n",
      "Reading training dataset...\n",
      "Training dataset read in 0:00:00.219697. Found 1693 examples.\n",
      "Training model...\n"
     ]
    },
    {
     "name": "stderr",
     "output_type": "stream",
     "text": [
      "[INFO 2023-03-11T12:36:22.023566838+00:00 kernel.cc:1214] Loading model from path /tmp/tmpq6rkjoxc/model/ with prefix 8f73c47ae30b472c\n"
     ]
    },
    {
     "name": "stdout",
     "output_type": "stream",
     "text": [
      "Model trained in 0:00:02.682914\n",
      "Compiling model...\n"
     ]
    },
    {
     "name": "stderr",
     "output_type": "stream",
     "text": [
      "[INFO 2023-03-11T12:36:22.576554026+00:00 decision_forest.cc:661] Model loaded with 300 root(s), 102634 node(s), and 7 input feature(s).\n",
      "[INFO 2023-03-11T12:36:22.581827144+00:00 abstract_model.cc:1311] Engine \"RandomForestGeneric\" built\n",
      "[INFO 2023-03-11T12:36:22.585732868+00:00 kernel.cc:1046] Use fast generic engine\n"
     ]
    },
    {
     "name": "stdout",
     "output_type": "stream",
     "text": [
      "Model compiled.\n"
     ]
    },
    {
     "data": {
      "text/plain": [
       "<keras.callbacks.History at 0x7f246dda7710>"
      ]
     },
     "execution_count": 26,
     "metadata": {},
     "output_type": "execute_result"
    }
   ],
   "source": [
    "# Specify the model.\n",
    "model_rf = tfdf.keras.RandomForestModel()\n",
    "\n",
    "# Optionally, add evaluation metrics.\n",
    "model_rf.compile(\n",
    "    metrics=[\"accuracy\"])\n",
    "\n",
    "model_rf.fit(x=train_ds)"
   ]
  },
  {
   "cell_type": "code",
   "execution_count": null,
   "id": "bb500d5c-f0d8-4355-9291-fd72a17011b1",
   "metadata": {},
   "outputs": [
    {
     "name": "stdout",
     "output_type": "stream",
     "text": [
      "1/1 [==============================] - 0s 212ms/step - loss: 0.0000e+00 - accuracy: 0.7452\n",
      "loss: 0.0000\n",
      "accuracy: 0.7452\n"
     ]
    }
   ],
   "source": [
    "evaluation = model_rf.evaluate(test_ds, return_dict=True)\n",
    "for name, value in evaluation.items():\n",
    "  print(f\"{name}: {value:.4f}\")"
   ]
  },
  {
   "cell_type": "code",
   "execution_count": null,
   "id": "90636501-be7d-4ee0-8546-dbaab7bf5f3d",
   "metadata": {},
   "outputs": [
    {
     "name": "stderr",
     "output_type": "stream",
     "text": [
      "WARNING:absl:Found untraced functions such as call_get_leaves, _update_step_xla while saving (showing 2 of 2). These functions will not be directly callable after loading.\n"
     ]
    },
    {
     "name": "stdout",
     "output_type": "stream",
     "text": [
      "INFO:tensorflow:Assets written to: model/assets\n"
     ]
    },
    {
     "name": "stderr",
     "output_type": "stream",
     "text": [
      "INFO:tensorflow:Assets written to: model/assets\n"
     ]
    }
   ],
   "source": [
    "# Save the model\n",
    "model_rf.save(\"model\")"
   ]
  },
  {
   "cell_type": "code",
   "execution_count": null,
   "id": "891b6b2a-dd7b-451a-9edf-e8bd8a8fc7ec",
   "metadata": {},
   "outputs": [
    {
     "data": {
      "text/html": [
       "\n",
       "<script src=\"https://d3js.org/d3.v6.min.js\"></script>\n",
       "<div id=\"tree_plot_7dc3f4cb2d224bd8b968cf0f820d4daa\"></div>\n",
       "<script>\n",
       "/*\n",
       " * Copyright 2021 Google LLC.\n",
       " * Licensed under the Apache License, Version 2.0 (the \"License\");\n",
       " * you may not use this file except in compliance with the License.\n",
       " * You may obtain a copy of the License at\n",
       " *\n",
       " *     https://www.apache.org/licenses/LICENSE-2.0\n",
       " *\n",
       " * Unless required by applicable law or agreed to in writing, software\n",
       " * distributed under the License is distributed on an \"AS IS\" BASIS,\n",
       " * WITHOUT WARRANTIES OR CONDITIONS OF ANY KIND, either express or implied.\n",
       " * See the License for the specific language governing permissions and\n",
       " * limitations under the License.\n",
       " */\n",
       "\n",
       "/**\n",
       " *  Plotting of decision trees generated by TF-DF.\n",
       " *\n",
       " *  A tree is a recursive structure of node objects.\n",
       " *  A node contains one or more of the following components:\n",
       " *\n",
       " *    - A value: Representing the output of the node. If the node is not a leaf,\n",
       " *      the value is only present for analysis i.e. it is not used for\n",
       " *      predictions.\n",
       " *\n",
       " *    - A condition : For non-leaf nodes, the condition (also known as split)\n",
       " *      defines a binary test to branch to the positive or negative child.\n",
       " *\n",
       " *    - An explanation: Generally a plot showing the relation between the label\n",
       " *      and the condition to give insights about the effect of the condition.\n",
       " *\n",
       " *    - Two children : For non-leaf nodes, the children nodes. The first\n",
       " *      children (i.e. \"node.children[0]\") is the negative children (drawn in\n",
       " *      red). The second children is the positive one (drawn in green).\n",
       " *\n",
       " */\n",
       "\n",
       "/**\n",
       " * Plots a single decision tree into a DOM element.\n",
       " * @param {!options} options Dictionary of configurations.\n",
       " * @param {!tree} raw_tree Recursive tree structure.\n",
       " * @param {string} canvas_id Id of the output dom element.\n",
       " */\n",
       "function display_tree(options, raw_tree, canvas_id) {\n",
       "  console.log(options);\n",
       "\n",
       "  // Determine the node placement.\n",
       "  const tree_struct = d3.tree().nodeSize(\n",
       "      [options.node_y_offset, options.node_x_offset])(d3.hierarchy(raw_tree));\n",
       "\n",
       "  // Boundaries of the node placement.\n",
       "  let x_min = Infinity;\n",
       "  let x_max = -x_min;\n",
       "  let y_min = Infinity;\n",
       "  let y_max = -x_min;\n",
       "\n",
       "  tree_struct.each(d => {\n",
       "    if (d.x > x_max) x_max = d.x;\n",
       "    if (d.x < x_min) x_min = d.x;\n",
       "    if (d.y > y_max) y_max = d.y;\n",
       "    if (d.y < y_min) y_min = d.y;\n",
       "  });\n",
       "\n",
       "  // Size of the plot.\n",
       "  const width = y_max - y_min + options.node_x_size + options.margin * 2;\n",
       "  const height = x_max - x_min + options.node_y_size + options.margin * 2 +\n",
       "      options.node_y_offset - options.node_y_size;\n",
       "\n",
       "  const plot = d3.select(canvas_id);\n",
       "\n",
       "  // Tool tip\n",
       "  options.tooltip = plot.append('div')\n",
       "                        .attr('width', 100)\n",
       "                        .attr('height', 100)\n",
       "                        .style('padding', '4px')\n",
       "                        .style('background', '#fff')\n",
       "                        .style('box-shadow', '4px 4px 0px rgba(0,0,0,0.1)')\n",
       "                        .style('border', '1px solid black')\n",
       "                        .style('font-family', 'sans-serif')\n",
       "                        .style('font-size', options.font_size)\n",
       "                        .style('position', 'absolute')\n",
       "                        .style('z-index', '10')\n",
       "                        .attr('pointer-events', 'none')\n",
       "                        .style('display', 'none');\n",
       "\n",
       "  // Create canvas\n",
       "  const svg = plot.append('svg').attr('width', width).attr('height', height);\n",
       "  const graph =\n",
       "      svg.style('overflow', 'visible')\n",
       "          .append('g')\n",
       "          .attr('font-family', 'sans-serif')\n",
       "          .attr('font-size', options.font_size)\n",
       "          .attr(\n",
       "              'transform',\n",
       "              () => `translate(${options.margin},${\n",
       "                  - x_min + options.node_y_offset / 2 + options.margin})`);\n",
       "\n",
       "  // Plot bounding box.\n",
       "  if (options.show_plot_bounding_box) {\n",
       "    svg.append('rect')\n",
       "        .attr('width', width)\n",
       "        .attr('height', height)\n",
       "        .attr('fill', 'none')\n",
       "        .attr('stroke-width', 1.0)\n",
       "        .attr('stroke', 'black');\n",
       "  }\n",
       "\n",
       "  // Draw the edges.\n",
       "  display_edges(options, graph, tree_struct);\n",
       "\n",
       "  // Draw the nodes.\n",
       "  display_nodes(options, graph, tree_struct);\n",
       "}\n",
       "\n",
       "/**\n",
       " * Draw the nodes of the tree.\n",
       " * @param {!options} options Dictionary of configurations.\n",
       " * @param {!graph} graph D3 search handle containing the graph.\n",
       " * @param {!tree_struct} tree_struct Structure of the tree (node placement,\n",
       " *     data, etc.).\n",
       " */\n",
       "function display_nodes(options, graph, tree_struct) {\n",
       "  const nodes = graph.append('g')\n",
       "                    .selectAll('g')\n",
       "                    .data(tree_struct.descendants())\n",
       "                    .join('g')\n",
       "                    .attr('transform', d => `translate(${d.y},${d.x})`);\n",
       "\n",
       "  nodes.append('rect')\n",
       "      .attr('x', 0.5)\n",
       "      .attr('y', 0.5)\n",
       "      .attr('width', options.node_x_size)\n",
       "      .attr('height', options.node_y_size)\n",
       "      .attr('stroke', 'lightgrey')\n",
       "      .attr('stroke-width', 1)\n",
       "      .attr('fill', 'white')\n",
       "      .attr('y', -options.node_y_size / 2);\n",
       "\n",
       "  // Brackets on the right of condition nodes without children.\n",
       "  non_leaf_node_without_children =\n",
       "      nodes.filter(node => node.data.condition != null && node.children == null)\n",
       "          .append('g')\n",
       "          .attr('transform', `translate(${options.node_x_size},0)`);\n",
       "\n",
       "  non_leaf_node_without_children.append('path')\n",
       "      .attr('d', 'M0,0 C 10,0 0,10 10,10')\n",
       "      .attr('fill', 'none')\n",
       "      .attr('stroke-width', 1.0)\n",
       "      .attr('stroke', '#F00');\n",
       "\n",
       "  non_leaf_node_without_children.append('path')\n",
       "      .attr('d', 'M0,0 C 10,0 0,-10 10,-10')\n",
       "      .attr('fill', 'none')\n",
       "      .attr('stroke-width', 1.0)\n",
       "      .attr('stroke', '#0F0');\n",
       "\n",
       "  const node_content = nodes.append('g').attr(\n",
       "      'transform',\n",
       "      `translate(0,${options.node_padding - options.node_y_size / 2})`);\n",
       "\n",
       "  node_content.append(node => create_node_element(options, node));\n",
       "}\n",
       "\n",
       "/**\n",
       " * Creates the D3 content for a single node.\n",
       " * @param {!options} options Dictionary of configurations.\n",
       " * @param {!node} node Node to draw.\n",
       " * @return {!d3} D3 content.\n",
       " */\n",
       "function create_node_element(options, node) {\n",
       "  // Output accumulator.\n",
       "  let output = {\n",
       "    // Content to draw.\n",
       "    content: d3.create('svg:g'),\n",
       "    // Vertical offset to the next element to draw.\n",
       "    vertical_offset: 0\n",
       "  };\n",
       "\n",
       "  // Conditions.\n",
       "  if (node.data.condition != null) {\n",
       "    display_condition(options, node.data.condition, output);\n",
       "  }\n",
       "\n",
       "  // Values.\n",
       "  if (node.data.value != null) {\n",
       "    display_value(options, node.data.value, output);\n",
       "  }\n",
       "\n",
       "  // Explanations.\n",
       "  if (node.data.explanation != null) {\n",
       "    display_explanation(options, node.data.explanation, output);\n",
       "  }\n",
       "\n",
       "  return output.content.node();\n",
       "}\n",
       "\n",
       "\n",
       "/**\n",
       " * Adds a single line of text inside of a node.\n",
       " * @param {!options} options Dictionary of configurations.\n",
       " * @param {string} text Text to display.\n",
       " * @param {!output} output Output display accumulator.\n",
       " */\n",
       "function display_node_text(options, text, output) {\n",
       "  output.content.append('text')\n",
       "      .attr('x', options.node_padding)\n",
       "      .attr('y', output.vertical_offset)\n",
       "      .attr('alignment-baseline', 'hanging')\n",
       "      .text(text);\n",
       "  output.vertical_offset += 10;\n",
       "}\n",
       "\n",
       "/**\n",
       " * Adds a single line of text inside of a node with a tooltip.\n",
       " * @param {!options} options Dictionary of configurations.\n",
       " * @param {string} text Text to display.\n",
       " * @param {string} tooltip Text in the Tooltip.\n",
       " * @param {!output} output Output display accumulator.\n",
       " */\n",
       "function display_node_text_with_tooltip(options, text, tooltip, output) {\n",
       "  const item = output.content.append('text')\n",
       "                   .attr('x', options.node_padding)\n",
       "                   .attr('alignment-baseline', 'hanging')\n",
       "                   .text(text);\n",
       "\n",
       "  add_tooltip(options, item, () => tooltip);\n",
       "  output.vertical_offset += 10;\n",
       "}\n",
       "\n",
       "/**\n",
       " * Adds a tooltip to a dom element.\n",
       " * @param {!options} options Dictionary of configurations.\n",
       " * @param {!dom} target Dom element to equip with a tooltip.\n",
       " * @param {!func} get_content Generates the html content of the tooltip.\n",
       " */\n",
       "function add_tooltip(options, target, get_content) {\n",
       "  function show(d) {\n",
       "    options.tooltip.style('display', 'block');\n",
       "    options.tooltip.html(get_content());\n",
       "  }\n",
       "\n",
       "  function hide(d) {\n",
       "    options.tooltip.style('display', 'none');\n",
       "  }\n",
       "\n",
       "  function move(d) {\n",
       "    options.tooltip.style('display', 'block');\n",
       "    options.tooltip.style('left', (d.pageX + 5) + 'px');\n",
       "    options.tooltip.style('top', d.pageY + 'px');\n",
       "  }\n",
       "\n",
       "  target.on('mouseover', show);\n",
       "  target.on('mouseout', hide);\n",
       "  target.on('mousemove', move);\n",
       "}\n",
       "\n",
       "/**\n",
       " * Adds a condition inside of a node.\n",
       " * @param {!options} options Dictionary of configurations.\n",
       " * @param {!condition} condition Condition to display.\n",
       " * @param {!output} output Output display accumulator.\n",
       " */\n",
       "function display_condition(options, condition, output) {\n",
       "  threshold_format = d3.format('r');\n",
       "\n",
       "  if (condition.type === 'IS_MISSING') {\n",
       "    display_node_text(options, `${condition.attribute} is missing`, output);\n",
       "    return;\n",
       "  }\n",
       "\n",
       "  if (condition.type === 'IS_TRUE') {\n",
       "    display_node_text(options, `${condition.attribute} is true`, output);\n",
       "    return;\n",
       "  }\n",
       "\n",
       "  if (condition.type === 'NUMERICAL_IS_HIGHER_THAN') {\n",
       "    format = d3.format('r');\n",
       "    display_node_text(\n",
       "        options,\n",
       "        `${condition.attribute} >= ${threshold_format(condition.threshold)}`,\n",
       "        output);\n",
       "    return;\n",
       "  }\n",
       "\n",
       "  if (condition.type === 'CATEGORICAL_IS_IN') {\n",
       "    display_node_text_with_tooltip(\n",
       "        options, `${condition.attribute} in [...]`,\n",
       "        `${condition.attribute} in [${condition.mask}]`, output);\n",
       "    return;\n",
       "  }\n",
       "\n",
       "  if (condition.type === 'CATEGORICAL_SET_CONTAINS') {\n",
       "    display_node_text_with_tooltip(\n",
       "        options, `${condition.attribute} intersect [...]`,\n",
       "        `${condition.attribute} intersect [${condition.mask}]`, output);\n",
       "    return;\n",
       "  }\n",
       "\n",
       "  if (condition.type === 'NUMERICAL_SPARSE_OBLIQUE') {\n",
       "    display_node_text_with_tooltip(\n",
       "        options, `Sparse oblique split...`,\n",
       "        `[${condition.attributes}]*[${condition.weights}]>=${\n",
       "            threshold_format(condition.threshold)}`,\n",
       "        output);\n",
       "    return;\n",
       "  }\n",
       "\n",
       "  display_node_text(\n",
       "      options, `Non supported condition ${condition.type}`, output);\n",
       "}\n",
       "\n",
       "/**\n",
       " * Adds a value inside of a node.\n",
       " * @param {!options} options Dictionary of configurations.\n",
       " * @param {!value} value Value to display.\n",
       " * @param {!output} output Output display accumulator.\n",
       " */\n",
       "function display_value(options, value, output) {\n",
       "  if (value.type === 'PROBABILITY') {\n",
       "    const left_margin = 0;\n",
       "    const right_margin = 50;\n",
       "    const plot_width = options.node_x_size - options.node_padding * 2 -\n",
       "        left_margin - right_margin;\n",
       "\n",
       "    let cusum = Array.from(d3.cumsum(value.distribution));\n",
       "    cusum.unshift(0);\n",
       "    const distribution_plot = output.content.append('g').attr(\n",
       "        'transform', `translate(0,${output.vertical_offset + 0.5})`);\n",
       "\n",
       "    distribution_plot.selectAll('rect')\n",
       "        .data(value.distribution)\n",
       "        .join('rect')\n",
       "        .attr('height', 10)\n",
       "        .attr(\n",
       "            'x',\n",
       "            (d, i) =>\n",
       "                (cusum[i] * plot_width + left_margin + options.node_padding))\n",
       "        .attr('width', (d, i) => d * plot_width)\n",
       "        .style('fill', (d, i) => d3.schemeSet1[i]);\n",
       "\n",
       "    const num_examples =\n",
       "        output.content.append('g')\n",
       "            .attr('transform', `translate(0,${output.vertical_offset})`)\n",
       "            .append('text')\n",
       "            .attr('x', options.node_x_size - options.node_padding)\n",
       "            .attr('alignment-baseline', 'hanging')\n",
       "            .attr('text-anchor', 'end')\n",
       "            .text(`(${value.num_examples})`);\n",
       "\n",
       "    const distribution_details = d3.create('ul');\n",
       "    distribution_details.selectAll('li')\n",
       "        .data(value.distribution)\n",
       "        .join('li')\n",
       "        .append('span')\n",
       "        .text(\n",
       "            (d, i) =>\n",
       "                'class ' + i + ': ' + d3.format('.3%')(value.distribution[i]));\n",
       "\n",
       "    add_tooltip(options, distribution_plot, () => distribution_details.html());\n",
       "    add_tooltip(options, num_examples, () => 'Number of examples');\n",
       "\n",
       "    output.vertical_offset += 10;\n",
       "    return;\n",
       "  }\n",
       "\n",
       "  if (value.type === 'REGRESSION') {\n",
       "    display_node_text(\n",
       "        options,\n",
       "        'value: ' + d3.format('r')(value.value) + ` (` +\n",
       "            d3.format('.6')(value.num_examples) + `)`,\n",
       "        output);\n",
       "    return;\n",
       "  }\n",
       "\n",
       "  display_node_text(options, `Non supported value ${value.type}`, output);\n",
       "}\n",
       "\n",
       "/**\n",
       " * Adds an explanation inside of a node.\n",
       " * @param {!options} options Dictionary of configurations.\n",
       " * @param {!explanation} explanation Explanation to display.\n",
       " * @param {!output} output Output display accumulator.\n",
       " */\n",
       "function display_explanation(options, explanation, output) {\n",
       "  // Margin before the explanation.\n",
       "  output.vertical_offset += 10;\n",
       "\n",
       "  display_node_text(\n",
       "      options, `Non supported explanation ${explanation.type}`, output);\n",
       "}\n",
       "\n",
       "\n",
       "/**\n",
       " * Draw the edges of the tree.\n",
       " * @param {!options} options Dictionary of configurations.\n",
       " * @param {!graph} graph D3 search handle containing the graph.\n",
       " * @param {!tree_struct} tree_struct Structure of the tree (node placement,\n",
       " *     data, etc.).\n",
       " */\n",
       "function display_edges(options, graph, tree_struct) {\n",
       "  // Draw an edge between a parent and a child node with a bezier.\n",
       "  function draw_single_edge(d) {\n",
       "    return 'M' + (d.source.y + options.node_x_size) + ',' + d.source.x + ' C' +\n",
       "        (d.source.y + options.node_x_size + options.edge_rounding) + ',' +\n",
       "        d.source.x + ' ' + (d.target.y - options.edge_rounding) + ',' +\n",
       "        d.target.x + ' ' + d.target.y + ',' + d.target.x;\n",
       "  }\n",
       "\n",
       "  graph.append('g')\n",
       "      .attr('fill', 'none')\n",
       "      .attr('stroke-width', 1.2)\n",
       "      .selectAll('path')\n",
       "      .data(tree_struct.links())\n",
       "      .join('path')\n",
       "      .attr('d', draw_single_edge)\n",
       "      .attr(\n",
       "          'stroke', d => (d.target === d.source.children[0]) ? '#0F0' : '#F00');\n",
       "}\n",
       "\n",
       "display_tree({\"margin\": 10, \"node_x_size\": 160, \"node_y_size\": 28, \"node_x_offset\": 180, \"node_y_offset\": 33, \"font_size\": 10, \"edge_rounding\": 20, \"node_padding\": 2, \"show_plot_bounding_box\": false}, {\"value\": {\"type\": \"PROBABILITY\", \"distribution\": [0.0, 0.050797401063201415, 0.4737152982870644, 0.2876550502067336, 0.1878322504430006], \"num_examples\": 1693.0}, \"condition\": {\"type\": \"CATEGORICAL_IS_IN\", \"attribute\": \"product_type\", \"mask\": [\"<OOD>\", \"Server\", \"Hardware\", \"Firewall\"]}, \"children\": [{\"value\": {\"type\": \"PROBABILITY\", \"distribution\": [0.0, 0.0926517571884984, 0.6853035143769968, 0.14536741214057508, 0.07667731629392971], \"num_examples\": 626.0}, \"condition\": {\"type\": \"CATEGORICAL_IS_IN\", \"attribute\": \"service_type\", \"mask\": [\"Incident\"]}, \"children\": [{\"value\": {\"type\": \"PROBABILITY\", \"distribution\": [0.0, 0.10748560460652591, 0.7600767754318618, 0.12859884836852206, 0.003838771593090211], \"num_examples\": 521.0}, \"condition\": {\"type\": \"CATEGORICAL_IS_IN\", \"attribute\": \"sla\", \"mask\": [\"24x7 4Hrs Response Time\", \"24x7 6Hrs Response Time\"]}, \"children\": [{\"value\": {\"type\": \"PROBABILITY\", \"distribution\": [0.0, 0.01, 0.91, 0.06, 0.02], \"num_examples\": 100.0}, \"condition\": {\"type\": \"CATEGORICAL_IS_IN\", \"attribute\": \"incident_type\", \"mask\": [\"General Incident\", \"Software\", \"Configuration Change\", \"System Board Failure\", \"OS / Firmware\", \"Network Card Failure\", \"Controller/Node Failure\", \"Network Adapter Failure\", \"Other Failure\"]}}, {\"value\": {\"type\": \"PROBABILITY\", \"distribution\": [0.0, 0.13064133016627077, 0.7244655581947743, 0.14489311163895488, 0.0], \"num_examples\": 421.0}, \"condition\": {\"type\": \"CATEGORICAL_IS_IN\", \"attribute\": \"incident_type\", \"mask\": [\"General Incident\", \"Software\", \"Power Supply Failure\", \"OS / Firmware\", \"Network Card Failure\", \"Other Failure\"]}}]}, {\"value\": {\"type\": \"PROBABILITY\", \"distribution\": [0.0, 0.01904761904761905, 0.3142857142857143, 0.22857142857142856, 0.4380952380952381], \"num_examples\": 105.0}, \"condition\": {\"type\": \"NUMERICAL_IS_HIGHER_THAN\", \"attribute\": \"response_to_resolved_hour\", \"threshold\": 10.991666793823242}, \"children\": [{\"value\": {\"type\": \"PROBABILITY\", \"distribution\": [0.0, 0.0, 0.0, 0.34210526315789475, 0.6578947368421053], \"num_examples\": 38.0}, \"condition\": {\"type\": \"CATEGORICAL_IS_IN\", \"attribute\": \"sla\", \"mask\": [\"24x7 4Hrs Response Time\", \"24x7 6Hrs Resolution Time\"]}}, {\"value\": {\"type\": \"PROBABILITY\", \"distribution\": [0.0, 0.029850746268656716, 0.4925373134328358, 0.16417910447761194, 0.31343283582089554], \"num_examples\": 67.0}, \"condition\": {\"type\": \"CATEGORICAL_IS_IN\", \"attribute\": \"incident_type\", \"mask\": [\"Configuration Change\", \"Upgrade Software\", \"Maintenance System\", \"Other Failure\"]}}]}]}, {\"value\": {\"type\": \"PROBABILITY\", \"distribution\": [0.0, 0.026241799437675725, 0.34957825679475163, 0.3711340206185567, 0.2530459231490159], \"num_examples\": 1067.0}, \"condition\": {\"type\": \"CATEGORICAL_IS_IN\", \"attribute\": \"incident_type\", \"mask\": [\"General Incident\", \"Configuration Change\", \"Upgrade Software\", \"Maintenance System\", \"Controller/Node Failure\", \"Report\", \"Other Failure\"]}, \"children\": [{\"value\": {\"type\": \"PROBABILITY\", \"distribution\": [0.0, 0.02727272727272727, 0.2606060606060606, 0.346969696969697, 0.36515151515151517], \"num_examples\": 660.0}, \"condition\": {\"type\": \"CATEGORICAL_IS_IN\", \"attribute\": \"brand\", \"mask\": [\"HPE\", \"VMWare\", \"Oracle\", \"Cisco\", \"YIP\", \"Veritas\", \"Trend Micro\", \"Veeam\", \"F5\"]}, \"children\": [{\"value\": {\"type\": \"PROBABILITY\", \"distribution\": [0.0, 0.021505376344086023, 0.2817204301075269, 0.23010752688172043, 0.4666666666666667], \"num_examples\": 465.0}, \"condition\": {\"type\": \"CATEGORICAL_IS_IN\", \"attribute\": \"service_type\", \"mask\": [\"Incident\"]}}, {\"value\": {\"type\": \"PROBABILITY\", \"distribution\": [0.0, 0.041025641025641026, 0.21025641025641026, 0.6256410256410256, 0.12307692307692308], \"num_examples\": 195.0}, \"condition\": {\"type\": \"CATEGORICAL_IS_IN\", \"attribute\": \"service_type\", \"mask\": [\"Request\"]}}]}, {\"value\": {\"type\": \"PROBABILITY\", \"distribution\": [0.0, 0.02457002457002457, 0.49385749385749383, 0.4103194103194103, 0.07125307125307126], \"num_examples\": 407.0}, \"condition\": {\"type\": \"CATEGORICAL_IS_IN\", \"attribute\": \"service_type\", \"mask\": [\"Request\"]}, \"children\": [{\"value\": {\"type\": \"PROBABILITY\", \"distribution\": [0.0, 0.0, 0.023809523809523808, 0.6190476190476191, 0.35714285714285715], \"num_examples\": 42.0}, \"condition\": {\"type\": \"CATEGORICAL_IS_IN\", \"attribute\": \"product_type\", \"mask\": [\"Software\"]}}, {\"value\": {\"type\": \"PROBABILITY\", \"distribution\": [0.0, 0.0273972602739726, 0.547945205479452, 0.3863013698630137, 0.038356164383561646], \"num_examples\": 365.0}, \"condition\": {\"type\": \"NUMERICAL_IS_HIGHER_THAN\", \"attribute\": \"response_to_resolved_hour\", \"threshold\": 1.8250000476837158}}]}]}]}, \"#tree_plot_7dc3f4cb2d224bd8b968cf0f820d4daa\")\n",
       "</script>\n"
      ],
      "text/plain": [
       "<IPython.core.display.HTML object>"
      ]
     },
     "execution_count": 29,
     "metadata": {},
     "output_type": "execute_result"
    }
   ],
   "source": [
    "tfdf.model_plotter.plot_model_in_colab(model_rf, tree_idx=0, max_depth=3)"
   ]
  },
  {
   "cell_type": "code",
   "execution_count": null,
   "id": "2d14dc90-b28e-46ac-9fa5-78c0ce04e8de",
   "metadata": {},
   "outputs": [
    {
     "name": "stdout",
     "output_type": "stream",
     "text": [
      "Model: \"random_forest_model_1\"\n",
      "_________________________________________________________________\n",
      " Layer (type)                Output Shape              Param #   \n",
      "=================================================================\n",
      "=================================================================\n",
      "Total params: 1\n",
      "Trainable params: 0\n",
      "Non-trainable params: 1\n",
      "_________________________________________________________________\n",
      "Type: \"RANDOM_FOREST\"\n",
      "Task: CLASSIFICATION\n",
      "Label: \"__LABEL\"\n",
      "\n",
      "Input Features (7):\n",
      "\tbrand\n",
      "\tincident_type\n",
      "\topen_to_close_hour\n",
      "\tproduct_type\n",
      "\tresponse_to_resolved_hour\n",
      "\tservice_type\n",
      "\tsla\n",
      "\n",
      "No weights\n",
      "\n",
      "Variable Importance: INV_MEAN_MIN_DEPTH:\n",
      "    1.              \"service_type\"  0.517778 ################\n",
      "    2.                     \"brand\"  0.295098 ######\n",
      "    3.             \"incident_type\"  0.268195 #####\n",
      "    4.              \"product_type\"  0.212969 ##\n",
      "    5.                       \"sla\"  0.171968 \n",
      "    6. \"response_to_resolved_hour\"  0.150829 \n",
      "    7.        \"open_to_close_hour\"  0.149569 \n",
      "\n",
      "Variable Importance: NUM_AS_ROOT:\n",
      "    1.  \"service_type\" 175.000000 ################\n",
      "    2.         \"brand\" 65.000000 ####\n",
      "    3.  \"product_type\" 37.000000 #\n",
      "    4. \"incident_type\" 23.000000 \n",
      "\n",
      "Variable Importance: NUM_NODES:\n",
      "    1.        \"open_to_close_hour\" 18073.000000 ################\n",
      "    2. \"response_to_resolved_hour\" 15913.000000 ##############\n",
      "    3.             \"incident_type\" 6182.000000 #####\n",
      "    4.                     \"brand\" 4055.000000 ###\n",
      "    5.                       \"sla\" 3734.000000 ##\n",
      "    6.              \"product_type\" 2605.000000 #\n",
      "    7.              \"service_type\" 605.000000 \n",
      "\n",
      "Variable Importance: SUM_SCORE:\n",
      "    1.              \"service_type\" 123939.786838 ################\n",
      "    2.        \"open_to_close_hour\" 75371.701955 #######\n",
      "    3. \"response_to_resolved_hour\" 69805.983088 ######\n",
      "    4.             \"incident_type\" 67021.797018 ######\n",
      "    5.                     \"brand\" 64313.252995 #####\n",
      "    6.              \"product_type\" 39311.673024 #\n",
      "    7.                       \"sla\" 29750.780864 \n",
      "\n",
      "\n",
      "\n",
      "Winner takes all: true\n",
      "Out-of-bag evaluation: accuracy:0.76137 logloss:1.23298\n",
      "Number of trees: 300\n",
      "Total number of nodes: 102634\n",
      "\n",
      "Number of nodes by tree:\n",
      "Count: 300 Average: 342.113 StdDev: 13.6967\n",
      "Min: 303 Max: 377 Ignored: 0\n",
      "----------------------------------------------\n",
      "[ 303, 306)  4   1.33%   1.33% #\n",
      "[ 306, 310)  1   0.33%   1.67%\n",
      "[ 310, 314)  5   1.67%   3.33% #\n",
      "[ 314, 318)  8   2.67%   6.00% ##\n",
      "[ 318, 321)  2   0.67%   6.67%\n",
      "[ 321, 325)  7   2.33%   9.00% ##\n",
      "[ 325, 329) 11   3.67%  12.67% ###\n",
      "[ 329, 333) 22   7.33%  20.00% #####\n",
      "[ 333, 336) 28   9.33%  29.33% #######\n",
      "[ 336, 340) 39  13.00%  42.33% ##########\n",
      "[ 340, 344) 40  13.33%  55.67% ##########\n",
      "[ 344, 348) 41  13.67%  69.33% ##########\n",
      "[ 348, 351) 18   6.00%  75.33% ####\n",
      "[ 351, 355) 19   6.33%  81.67% #####\n",
      "[ 355, 359) 14   4.67%  86.33% ###\n",
      "[ 359, 363) 17   5.67%  92.00% ####\n",
      "[ 363, 366) 14   4.67%  96.67% ###\n",
      "[ 366, 370)  4   1.33%  98.00% #\n",
      "[ 370, 374)  2   0.67%  98.67%\n",
      "[ 374, 377]  4   1.33% 100.00% #\n",
      "\n",
      "Depth by leafs:\n",
      "Count: 51467 Average: 9.27575 StdDev: 2.52137\n",
      "Min: 3 Max: 15 Ignored: 0\n",
      "----------------------------------------------\n",
      "[  3,  4)   96   0.19%   0.19%\n",
      "[  4,  5)  845   1.64%   1.83% #\n",
      "[  5,  6) 2283   4.44%   6.26% ###\n",
      "[  6,  7) 4039   7.85%  14.11% #####\n",
      "[  7,  8) 5743  11.16%  25.27% #######\n",
      "[  8,  9) 7419  14.42%  39.69% #########\n",
      "[  9, 10) 7843  15.24%  54.92% ##########\n",
      "[ 10, 11) 7362  14.30%  69.23% #########\n",
      "[ 11, 12) 5915  11.49%  80.72% ########\n",
      "[ 12, 13) 4155   8.07%  88.79% #####\n",
      "[ 13, 14) 2729   5.30%  94.10% ###\n",
      "[ 14, 15) 1654   3.21%  97.31% ##\n",
      "[ 15, 15] 1384   2.69% 100.00% ##\n",
      "\n",
      "Number of training obs by leaf:\n",
      "Count: 51467 Average: 9.86846 StdDev: 12.4539\n",
      "Min: 5 Max: 189 Ignored: 0\n",
      "----------------------------------------------\n",
      "[   5,  14) 44785  87.02%  87.02% ##########\n",
      "[  14,  23)  4072   7.91%  94.93% #\n",
      "[  23,  32)  1167   2.27%  97.20%\n",
      "[  32,  42)   516   1.00%  98.20%\n",
      "[  42,  51)   243   0.47%  98.67%\n",
      "[  51,  60)   112   0.22%  98.89%\n",
      "[  60,  69)    88   0.17%  99.06%\n",
      "[  69,  79)    82   0.16%  99.22%\n",
      "[  79,  88)    47   0.09%  99.31%\n",
      "[  88,  97)    44   0.09%  99.40%\n",
      "[  97, 106)    26   0.05%  99.45%\n",
      "[ 106, 116)    50   0.10%  99.54%\n",
      "[ 116, 125)    44   0.09%  99.63%\n",
      "[ 125, 134)    45   0.09%  99.72%\n",
      "[ 134, 143)    45   0.09%  99.80%\n",
      "[ 143, 153)    49   0.10%  99.90%\n",
      "[ 153, 162)    24   0.05%  99.95%\n",
      "[ 162, 171)    13   0.03%  99.97%\n",
      "[ 171, 180)     9   0.02%  99.99%\n",
      "[ 180, 189]     6   0.01% 100.00%\n",
      "\n",
      "Attribute in nodes:\n",
      "\t18073 : open_to_close_hour [NUMERICAL]\n",
      "\t15913 : response_to_resolved_hour [NUMERICAL]\n",
      "\t6182 : incident_type [CATEGORICAL]\n",
      "\t4055 : brand [CATEGORICAL]\n",
      "\t3734 : sla [CATEGORICAL]\n",
      "\t2605 : product_type [CATEGORICAL]\n",
      "\t605 : service_type [CATEGORICAL]\n",
      "\n",
      "Attribute in nodes with depth <= 0:\n",
      "\t175 : service_type [CATEGORICAL]\n",
      "\t65 : brand [CATEGORICAL]\n",
      "\t37 : product_type [CATEGORICAL]\n",
      "\t23 : incident_type [CATEGORICAL]\n",
      "\n",
      "Attribute in nodes with depth <= 1:\n",
      "\t301 : service_type [CATEGORICAL]\n",
      "\t291 : brand [CATEGORICAL]\n",
      "\t179 : product_type [CATEGORICAL]\n",
      "\t82 : incident_type [CATEGORICAL]\n",
      "\t40 : sla [CATEGORICAL]\n",
      "\t5 : response_to_resolved_hour [NUMERICAL]\n",
      "\t2 : open_to_close_hour [NUMERICAL]\n",
      "\n",
      "Attribute in nodes with depth <= 2:\n",
      "\t521 : brand [CATEGORICAL]\n",
      "\t469 : incident_type [CATEGORICAL]\n",
      "\t420 : service_type [CATEGORICAL]\n",
      "\t344 : product_type [CATEGORICAL]\n",
      "\t215 : sla [CATEGORICAL]\n",
      "\t76 : response_to_resolved_hour [NUMERICAL]\n",
      "\t55 : open_to_close_hour [NUMERICAL]\n",
      "\n",
      "Attribute in nodes with depth <= 3:\n",
      "\t1169 : incident_type [CATEGORICAL]\n",
      "\t822 : brand [CATEGORICAL]\n",
      "\t597 : sla [CATEGORICAL]\n",
      "\t593 : product_type [CATEGORICAL]\n",
      "\t493 : service_type [CATEGORICAL]\n",
      "\t393 : response_to_resolved_hour [NUMERICAL]\n",
      "\t337 : open_to_close_hour [NUMERICAL]\n",
      "\n",
      "Attribute in nodes with depth <= 5:\n",
      "\t2947 : incident_type [CATEGORICAL]\n",
      "\t2670 : open_to_close_hour [NUMERICAL]\n",
      "\t2613 : response_to_resolved_hour [NUMERICAL]\n",
      "\t1821 : brand [CATEGORICAL]\n",
      "\t1519 : sla [CATEGORICAL]\n",
      "\t1260 : product_type [CATEGORICAL]\n",
      "\t580 : service_type [CATEGORICAL]\n",
      "\n",
      "Condition type in nodes:\n",
      "\t33986 : HigherCondition\n",
      "\t17181 : ContainsBitmapCondition\n",
      "Condition type in nodes with depth <= 0:\n",
      "\t300 : ContainsBitmapCondition\n",
      "Condition type in nodes with depth <= 1:\n",
      "\t893 : ContainsBitmapCondition\n",
      "\t7 : HigherCondition\n",
      "Condition type in nodes with depth <= 2:\n",
      "\t1969 : ContainsBitmapCondition\n",
      "\t131 : HigherCondition\n",
      "Condition type in nodes with depth <= 3:\n",
      "\t3674 : ContainsBitmapCondition\n",
      "\t730 : HigherCondition\n",
      "Condition type in nodes with depth <= 5:\n",
      "\t8127 : ContainsBitmapCondition\n",
      "\t5283 : HigherCondition\n",
      "Node format: NOT_SET\n",
      "\n",
      "Training OOB:\n",
      "\ttrees: 1, Out-of-bag evaluation: accuracy:0.675159 logloss:11.7084\n",
      "\ttrees: 11, Out-of-bag evaluation: accuracy:0.713266 logloss:5.01948\n",
      "\ttrees: 21, Out-of-bag evaluation: accuracy:0.733018 logloss:3.30176\n",
      "\ttrees: 31, Out-of-bag evaluation: accuracy:0.75192 logloss:2.64528\n",
      "\ttrees: 41, Out-of-bag evaluation: accuracy:0.746013 logloss:2.32908\n",
      "\ttrees: 51, Out-of-bag evaluation: accuracy:0.754873 logloss:2.11723\n",
      "\ttrees: 61, Out-of-bag evaluation: accuracy:0.757826 logloss:1.97944\n",
      "\ttrees: 71, Out-of-bag evaluation: accuracy:0.756645 logloss:1.82586\n",
      "\ttrees: 81, Out-of-bag evaluation: accuracy:0.756054 logloss:1.76666\n",
      "\ttrees: 91, Out-of-bag evaluation: accuracy:0.757236 logloss:1.68905\n",
      "\ttrees: 101, Out-of-bag evaluation: accuracy:0.759008 logloss:1.66816\n",
      "\ttrees: 111, Out-of-bag evaluation: accuracy:0.758417 logloss:1.65006\n",
      "\ttrees: 121, Out-of-bag evaluation: accuracy:0.755464 logloss:1.61036\n",
      "\ttrees: 131, Out-of-bag evaluation: accuracy:0.755464 logloss:1.5543\n",
      "\ttrees: 141, Out-of-bag evaluation: accuracy:0.758417 logloss:1.55293\n",
      "\ttrees: 151, Out-of-bag evaluation: accuracy:0.757826 logloss:1.49796\n",
      "\ttrees: 161, Out-of-bag evaluation: accuracy:0.760189 logloss:1.4613\n",
      "\ttrees: 171, Out-of-bag evaluation: accuracy:0.759008 logloss:1.46112\n",
      "\ttrees: 181, Out-of-bag evaluation: accuracy:0.758417 logloss:1.45963\n",
      "\ttrees: 191, Out-of-bag evaluation: accuracy:0.757826 logloss:1.46098\n",
      "\ttrees: 201, Out-of-bag evaluation: accuracy:0.760189 logloss:1.42295\n",
      "\ttrees: 211, Out-of-bag evaluation: accuracy:0.757826 logloss:1.40336\n",
      "\ttrees: 221, Out-of-bag evaluation: accuracy:0.759598 logloss:1.36477\n",
      "\ttrees: 231, Out-of-bag evaluation: accuracy:0.760189 logloss:1.36398\n",
      "\ttrees: 241, Out-of-bag evaluation: accuracy:0.759598 logloss:1.34384\n",
      "\ttrees: 251, Out-of-bag evaluation: accuracy:0.757236 logloss:1.32555\n",
      "\ttrees: 261, Out-of-bag evaluation: accuracy:0.759008 logloss:1.25106\n",
      "\ttrees: 271, Out-of-bag evaluation: accuracy:0.756645 logloss:1.25155\n",
      "\ttrees: 281, Out-of-bag evaluation: accuracy:0.759598 logloss:1.25174\n",
      "\ttrees: 291, Out-of-bag evaluation: accuracy:0.759598 logloss:1.2338\n",
      "\ttrees: 300, Out-of-bag evaluation: accuracy:0.76137 logloss:1.23298\n",
      "\n"
     ]
    }
   ],
   "source": [
    "model_rf.summary()"
   ]
  },
  {
   "cell_type": "code",
   "execution_count": null,
   "id": "45d629fa-131d-456a-af9a-12a7e75274c7",
   "metadata": {},
   "outputs": [
    {
     "data": {
      "text/plain": [
       "[\"brand\" (4; #1),\n",
       " \"incident_type\" (4; #2),\n",
       " \"open_to_close_hour\" (1; #3),\n",
       " \"product_type\" (4; #4),\n",
       " \"response_to_resolved_hour\" (1; #5),\n",
       " \"service_type\" (4; #6),\n",
       " \"sla\" (4; #7)]"
      ]
     },
     "execution_count": 31,
     "metadata": {},
     "output_type": "execute_result"
    }
   ],
   "source": [
    "# The input features\n",
    "model_rf.make_inspector().features()"
   ]
  },
  {
   "cell_type": "code",
   "execution_count": null,
   "id": "93a65978-966e-4823-840b-fd903182d34d",
   "metadata": {},
   "outputs": [
    {
     "data": {
      "text/plain": [
       "{'NUM_NODES': [(\"open_to_close_hour\" (1; #3), 18073.0),\n",
       "  (\"response_to_resolved_hour\" (1; #5), 15913.0),\n",
       "  (\"incident_type\" (4; #2), 6182.0),\n",
       "  (\"brand\" (4; #1), 4055.0),\n",
       "  (\"sla\" (4; #7), 3734.0),\n",
       "  (\"product_type\" (4; #4), 2605.0),\n",
       "  (\"service_type\" (4; #6), 605.0)],\n",
       " 'SUM_SCORE': [(\"service_type\" (4; #6), 123939.78683808818),\n",
       "  (\"open_to_close_hour\" (1; #3), 75371.70195500401),\n",
       "  (\"response_to_resolved_hour\" (1; #5), 69805.98308826619),\n",
       "  (\"incident_type\" (4; #2), 67021.79701839294),\n",
       "  (\"brand\" (4; #1), 64313.252995473624),\n",
       "  (\"product_type\" (4; #4), 39311.67302406663),\n",
       "  (\"sla\" (4; #7), 29750.78086438228)],\n",
       " 'INV_MEAN_MIN_DEPTH': [(\"service_type\" (4; #6), 0.5177781063981726),\n",
       "  (\"brand\" (4; #1), 0.29509839983033054),\n",
       "  (\"incident_type\" (4; #2), 0.26819468746061914),\n",
       "  (\"product_type\" (4; #4), 0.21296880479827152),\n",
       "  (\"sla\" (4; #7), 0.1719679302211018),\n",
       "  (\"response_to_resolved_hour\" (1; #5), 0.1508286601788411),\n",
       "  (\"open_to_close_hour\" (1; #3), 0.14956869188850008)],\n",
       " 'NUM_AS_ROOT': [(\"service_type\" (4; #6), 175.0),\n",
       "  (\"brand\" (4; #1), 65.0),\n",
       "  (\"product_type\" (4; #4), 37.0),\n",
       "  (\"incident_type\" (4; #2), 23.0)]}"
      ]
     },
     "execution_count": 32,
     "metadata": {},
     "output_type": "execute_result"
    }
   ],
   "source": [
    "# The feature importances\n",
    "model_rf.make_inspector().variable_importances()"
   ]
  },
  {
   "cell_type": "markdown",
   "id": "68a19224-8a66-4298-98ed-545469c489ce",
   "metadata": {},
   "source": [
    "# Model Self Evaluation\n",
    "During training TFDF models can self evaluate even if no validation dataset is provided to the fit() method. The exact logic depends on the model. For example, Random Forest will use Out-of-bag evaluation while Gradient Boosted Trees will use internal train-validation"
   ]
  },
  {
   "cell_type": "code",
   "execution_count": null,
   "id": "4a5fcdf1-eafe-4df7-a20f-838395d49e61",
   "metadata": {},
   "outputs": [
    {
     "data": {
      "text/plain": [
       "Evaluation(num_examples=1693, accuracy=0.761370348493798, loss=1.232976917206044, rmse=None, ndcg=None, aucs=None, auuc=None, qini=None)"
      ]
     },
     "execution_count": 36,
     "metadata": {},
     "output_type": "execute_result"
    }
   ],
   "source": [
    "model_rf.make_inspector().evaluation()"
   ]
  },
  {
   "cell_type": "markdown",
   "id": "781b24f4-8ffc-40cb-b9cc-264d2c2bb147",
   "metadata": {},
   "source": [
    "# Plotting the training logs"
   ]
  },
  {
   "cell_type": "code",
   "execution_count": null,
   "id": "c3c772d4-8bb9-4009-bdcb-ec7ef453004d",
   "metadata": {},
   "outputs": [
    {
     "data": {
      "image/png": "[encoded data removed]",
      "text/plain": [
       "<Figure size 1200x400 with 2 Axes>"
      ]
     },
     "metadata": {},
     "output_type": "display_data"
    }
   ],
   "source": [
    "# Import necessary libraries\n",
    "import matplotlib.pyplot as plt\n",
    "\n",
    "logs = model_rf.make_inspector().training_logs()\n",
    "\n",
    "# Plot the logs\n",
    "plt.figure(figsize=(12, 4))\n",
    "\n",
    "plt.subplot(1, 2, 1)\n",
    "plt.plot([log.num_trees for log in logs], [log.evaluation.accuracy for log in logs])\n",
    "plt.xlabel(\"Number of trees\")\n",
    "plt.ylabel(\"Accuracy (out-of-bag)\")\n",
    "\n",
    "plt.subplot(1, 2, 2)\n",
    "plt.plot([log.num_trees for log in logs], [log.evaluation.loss for log in logs])\n",
    "plt.xlabel(\"Number of trees\")\n",
    "plt.ylabel(\"Logloss (out-of-bag)\")\n",
    "\n",
    "plt.show()"
   ]
  },
  {
   "cell_type": "code",
   "execution_count": null,
   "id": "08f30789-f23c-4d2e-93a9-3d9b190fb74e",
   "metadata": {},
   "outputs": [],
   "source": [
    "# This cell start TensorBoard that can be slow.\n",
    "# Load the TensorBoard notebook extension\n",
    "# %load_ext tensorboard\n",
    "# Google internal version\n",
    "# %load_ext google3.learning.brain.tensorboard.notebook.extension"
   ]
  },
  {
   "cell_type": "code",
   "execution_count": null,
   "id": "fbe3bb21-a385-4c16-af76-dba951dc95cf",
   "metadata": {},
   "outputs": [],
   "source": [
    "# # Clear existing results (if any)\n",
    "# !rm -fr \"/tmp/tensorboard_logs\"\n",
    "\n",
    "# # Export the meta-data to tensorboard.\n",
    "# model_rf.make_inspector().export_to_tensorboard(\"/tmp/tensorboard_logs\")\n",
    "\n",
    "# # docs_infra: no_execute\n",
    "# # Start a tensorboard instance.\n",
    "# %tensorboard --logdir \"/tmp/tensorboard_logs\""
   ]
  },
  {
   "cell_type": "markdown",
   "id": "d00ec211-398f-41b0-8aa2-8da4a4ee0065",
   "metadata": {},
   "source": [
    "# Re-train the model with a different learning algorithm\n",
    "The learning algorithm is defined by the model class. For example, tfdf.keras.RandomForestModel() trains a Random Forest, while tfdf.keras.GradientBoostedTreesModel() trains a Gradient Boosted Decision Trees.\n",
    "\n",
    "The learning algorithms are listed by calling tfdf.keras.get_all_models()"
   ]
  },
  {
   "cell_type": "code",
   "execution_count": null,
   "id": "eeabbcd2-e25f-4917-a3bd-f9fe90b97aed",
   "metadata": {},
   "outputs": [
    {
     "data": {
      "text/plain": [
       "[tensorflow_decision_forests.keras.RandomForestModel,\n",
       " tensorflow_decision_forests.keras.GradientBoostedTreesModel,\n",
       " tensorflow_decision_forests.keras.CartModel,\n",
       " tensorflow_decision_forests.keras.DistributedGradientBoostedTreesModel]"
      ]
     },
     "execution_count": 46,
     "metadata": {},
     "output_type": "execute_result"
    }
   ],
   "source": [
    "# List all algorithms\n",
    "tfdf.keras.get_all_models()"
   ]
  },
  {
   "cell_type": "code",
   "execution_count": null,
   "id": "0cb16090-52a5-4caf-ba00-9be25d2070f0",
   "metadata": {},
   "outputs": [],
   "source": [
    "# # help works anywhere.\n",
    "# help(tfdf.keras.RandomForestModel)\n",
    "\n",
    "# # ? only works in ipython or notebooks, it usually opens on a separate panel.\n",
    "# tfdf.keras.RandomForestModel?"
   ]
  },
  {
   "cell_type": "markdown",
   "id": "b41623ee-595a-450d-b337-0fb7ee45c6f7",
   "metadata": {},
   "source": [
    "# GradientBoostedTreesModel"
   ]
  },
  {
   "cell_type": "code",
   "execution_count": null,
   "id": "8fe53b59-450b-490f-80d2-9d916e5c19e6",
   "metadata": {},
   "outputs": [
    {
     "name": "stdout",
     "output_type": "stream",
     "text": [
      "Use /tmp/tmppez63ey5 as temporary training directory\n",
      "Reading training dataset...\n",
      "Training dataset read in 0:00:01.790768. Found 1693 examples.\n",
      "Reading validation dataset...\n",
      "WARNING:tensorflow:6 out of the last 6 calls to <function CoreModel._consumes_validation_examples_until_eof at 0x7f2470491d40> triggered tf.function retracing. Tracing is expensive and the excessive number of tracings could be due to (1) creating @tf.function repeatedly in a loop, (2) passing tensors with different shapes, (3) passing Python objects instead of tensors. For (1), please define your @tf.function outside of the loop. For (2), @tf.function has reduce_retracing=True option that can avoid unnecessary retracing. For (3), please refer to https://www.tensorflow.org/guide/function#controlling_retracing and https://www.tensorflow.org/api_docs/python/tf/function for  more details.\n"
     ]
    },
    {
     "name": "stderr",
     "output_type": "stream",
     "text": [
      "WARNING:tensorflow:6 out of the last 6 calls to <function CoreModel._consumes_validation_examples_until_eof at 0x7f2470491d40> triggered tf.function retracing. Tracing is expensive and the excessive number of tracings could be due to (1) creating @tf.function repeatedly in a loop, (2) passing tensors with different shapes, (3) passing Python objects instead of tensors. For (1), please define your @tf.function outside of the loop. For (2), @tf.function has reduce_retracing=True option that can avoid unnecessary retracing. For (3), please refer to https://www.tensorflow.org/guide/function#controlling_retracing and https://www.tensorflow.org/api_docs/python/tf/function for  more details.\n"
     ]
    },
    {
     "name": "stdout",
     "output_type": "stream",
     "text": [
      "Num validation examples: tf.Tensor(416, shape=(), dtype=int32)\n",
      "Validation dataset read in 0:00:01.452818. Found 416 examples.\n",
      "Training model...\n"
     ]
    },
    {
     "name": "stderr",
     "output_type": "stream",
     "text": [
      "2023-03-11 13:19:21.085435: W external/ydf/yggdrasil_decision_forests/learner/gradient_boosted_trees/gradient_boosted_trees.cc:1790] \"goss_alpha\" set but \"sampling_method\" not equal to \"GOSS\".\n",
      "2023-03-11 13:19:21.088381: W external/ydf/yggdrasil_decision_forests/learner/gradient_boosted_trees/gradient_boosted_trees.cc:1800] \"goss_beta\" set but \"sampling_method\" not equal to \"GOSS\".\n",
      "2023-03-11 13:19:21.095790: W external/ydf/yggdrasil_decision_forests/learner/gradient_boosted_trees/gradient_boosted_trees.cc:1814] \"selective_gradient_boosting_ratio\" set but \"sampling_method\" not equal to \"SELGB\".\n",
      "2023-03-11 13:19:21.114260: I external/ydf/yggdrasil_decision_forests/learner/gradient_boosted_trees/gradient_boosted_trees.cc:452] Default loss set to MULTINOMIAL_LOG_LIKELIHOOD\n",
      "2023-03-11 13:19:21.117482: I external/ydf/yggdrasil_decision_forests/learner/gradient_boosted_trees/gradient_boosted_trees.cc:1077] Training gradient boosted tree on 1693 example(s) and 7 feature(s).\n",
      "2023-03-11 13:19:21.119531: I external/ydf/yggdrasil_decision_forests/learner/gradient_boosted_trees/gradient_boosted_trees.cc:1120] 1693 examples used for training and 416 examples used for validation\n",
      "2023-03-11 13:19:21.151028: I external/ydf/yggdrasil_decision_forests/learner/gradient_boosted_trees/gradient_boosted_trees.cc:1518] \tnum-trees:1 train-loss:1.394529 train-accuracy:0.761961 valid-loss:1.482794 valid-accuracy:0.548077\n",
      "2023-03-11 13:19:21.252431: I external/ydf/yggdrasil_decision_forests/learner/gradient_boosted_trees/gradient_boosted_trees.cc:1520] \tnum-trees:2 train-loss:1.243056 train-accuracy:0.769049 valid-loss:1.394799 valid-accuracy:0.540865\n",
      "2023-03-11 13:19:22.314291: I external/ydf/yggdrasil_decision_forests/learner/gradient_boosted_trees/gradient_boosted_trees.cc:1568] Create final snapshot of the model at iteration 26\n",
      "2023-03-11 13:19:22.354990: I external/ydf/yggdrasil_decision_forests/learner/gradient_boosted_trees/gradient_boosted_trees.cc:247] Truncates the model to 105 tree(s) i.e. 21  iteration(s).\n",
      "2023-03-11 13:19:22.357241: I external/ydf/yggdrasil_decision_forests/learner/gradient_boosted_trees/gradient_boosted_trees.cc:309] Final model num-trees:21 valid-loss:1.038776 valid-accuracy:0.538462\n"
     ]
    },
    {
     "name": "stdout",
     "output_type": "stream",
     "text": [
      "Model trained in 0:00:01.771281\n"
     ]
    },
    {
     "name": "stderr",
     "output_type": "stream",
     "text": [
      "[INFO 2023-03-11T13:19:22.626969994+00:00 kernel.cc:1214] Loading model from path /tmp/tmppez63ey5/model/ with prefix 7129444fc4044b92\n",
      "[INFO 2023-03-11T13:19:22.750952515+00:00 decision_forest.cc:661] Model loaded with 105 root(s), 5263 node(s), and 7 input feature(s).\n",
      "[INFO 2023-03-11T13:19:22.763536407+00:00 abstract_model.cc:1311] Engine \"GradientBoostedTreesGeneric\" built\n",
      "[INFO 2023-03-11T13:19:22.775176765+00:00 kernel.cc:1046] Use fast generic engine\n"
     ]
    },
    {
     "name": "stdout",
     "output_type": "stream",
     "text": [
      "Compiling model...\n",
      "Model compiled.\n",
      "1/1 [==============================] - 1s 704ms/step - loss: 0.0000e+00 - accuracy: 0.7620\n",
      "{'loss': 0.0, 'accuracy': 0.7620192170143127}\n"
     ]
    }
   ],
   "source": [
    "# feature_1 = tfdf.keras.FeatureUsage(name=\"product_type\")\n",
    "# feature_2 = tfdf.keras.FeatureUsage(name=\"service_type\")\n",
    "# feature_3 = tfdf.keras.FeatureUsage(name=\"incident_type\")\n",
    "# selective_features = [feature_1, feature_2,feature_3]\n",
    "# model_xgb = tfdf.keras.GradientBoostedTreesModel(features=selective_features, exclude_non_specified_features=True)\n",
    "\n",
    "model_xgb = tfdf.keras.GradientBoostedTreesModel()\n",
    "model_xgb.compile(metrics=[\"accuracy\"])\n",
    "model_xgb.fit(x=train_ds, validation_data=test_ds)\n",
    "\n",
    "print(model_xgb.evaluate(test_ds, return_dict=True))"
   ]
  },
  {
   "cell_type": "markdown",
   "id": "2537e44d-50f3-439e-962b-c3cc20be4f6a",
   "metadata": {},
   "source": [
    "# Hyper-parameters\n",
    "Hyper-parameters are parameters of the training algorithm that impact the quality of the final model. They are specified in the model class constructor. The list of hyper-parameters is visible with the question mark colab command (e.g. ?tfdf.keras.GradientBoostedTreesModel)."
   ]
  },
  {
   "cell_type": "code",
   "execution_count": null,
   "id": "b9e77d84-d274-4934-b1c2-d8769222c0f0",
   "metadata": {},
   "outputs": [
    {
     "name": "stdout",
     "output_type": "stream",
     "text": [
      "Use /tmp/tmp_dooagt7 as temporary training directory\n",
      "Reading training dataset...\n",
      "Training dataset read in 0:00:00.221517. Found 1693 examples.\n",
      "Training model...\n"
     ]
    },
    {
     "name": "stderr",
     "output_type": "stream",
     "text": [
      "2023-03-11 13:20:19.880434: W external/ydf/yggdrasil_decision_forests/learner/gradient_boosted_trees/gradient_boosted_trees.cc:1790] \"goss_alpha\" set but \"sampling_method\" not equal to \"GOSS\".\n",
      "2023-03-11 13:20:19.884561: W external/ydf/yggdrasil_decision_forests/learner/gradient_boosted_trees/gradient_boosted_trees.cc:1800] \"goss_beta\" set but \"sampling_method\" not equal to \"GOSS\".\n",
      "2023-03-11 13:20:19.885260: W external/ydf/yggdrasil_decision_forests/learner/gradient_boosted_trees/gradient_boosted_trees.cc:1814] \"selective_gradient_boosting_ratio\" set but \"sampling_method\" not equal to \"SELGB\".\n",
      "2023-03-11 13:20:19.887198: I external/ydf/yggdrasil_decision_forests/learner/gradient_boosted_trees/gradient_boosted_trees.cc:452] Default loss set to MULTINOMIAL_LOG_LIKELIHOOD\n",
      "2023-03-11 13:20:19.887865: I external/ydf/yggdrasil_decision_forests/learner/gradient_boosted_trees/gradient_boosted_trees.cc:1077] Training gradient boosted tree on 1693 example(s) and 7 feature(s).\n",
      "2023-03-11 13:20:19.888991: I external/ydf/yggdrasil_decision_forests/learner/gradient_boosted_trees/gradient_boosted_trees.cc:1120] 1545 examples used for training and 148 examples used for validation\n",
      "2023-03-11 13:20:19.901337: I external/ydf/yggdrasil_decision_forests/learner/gradient_boosted_trees/gradient_boosted_trees.cc:1518] \tnum-trees:1 train-loss:1.371591 train-accuracy:0.809061 valid-loss:1.416407 valid-accuracy:0.695946\n",
      "2023-03-11 13:20:19.914189: I external/ydf/yggdrasil_decision_forests/learner/gradient_boosted_trees/gradient_boosted_trees.cc:1520] \tnum-trees:2 train-loss:1.205508 train-accuracy:0.815534 valid-loss:1.296815 valid-accuracy:0.668919\n",
      "2023-03-11 13:20:20.751508: I external/ydf/yggdrasil_decision_forests/learner/gradient_boosted_trees/gradient_boosted_trees.cc:1568] Create final snapshot of the model at iteration 37\n",
      "2023-03-11 13:20:20.765431: I external/ydf/yggdrasil_decision_forests/learner/gradient_boosted_trees/gradient_boosted_trees.cc:247] Truncates the model to 160 tree(s) i.e. 32  iteration(s).\n",
      "2023-03-11 13:20:20.771292: I external/ydf/yggdrasil_decision_forests/learner/gradient_boosted_trees/gradient_boosted_trees.cc:309] Final model num-trees:32 valid-loss:0.839644 valid-accuracy:0.689189\n",
      "[INFO 2023-03-11T13:20:20.853836097+00:00 kernel.cc:1214] Loading model from path /tmp/tmp_dooagt7/model/ with prefix 047b2a74775c4596\n",
      "[INFO 2023-03-11T13:20:20.947397446+00:00 decision_forest.cc:661] Model loaded with 160 root(s), 9700 node(s), and "
     ]
    },
    {
     "name": "stdout",
     "output_type": "stream",
     "text": [
      "Model trained in 0:00:01.119471\n",
      "Compiling model...\n"
     ]
    },
    {
     "name": "stderr",
     "output_type": "stream",
     "text": [
      "7 input feature(s).\n",
      "[INFO 2023-03-11T13:20:20.970010932+00:00 abstract_model.cc:1311] Engine \"GradientBoostedTreesGeneric\" built\n",
      "[INFO 2023-03-11T13:20:20.978112679+00:00 kernel.cc:1046] Use fast generic engine\n"
     ]
    },
    {
     "name": "stdout",
     "output_type": "stream",
     "text": [
      "Model compiled.\n"
     ]
    },
    {
     "data": {
      "text/plain": [
       "<keras.callbacks.History at 0x7f246a085690>"
      ]
     },
     "execution_count": 56,
     "metadata": {},
     "output_type": "execute_result"
    }
   ],
   "source": [
    "# A classical but slighly more complex model.\n",
    "model_xgb2 = tfdf.keras.GradientBoostedTreesModel(\n",
    "    num_trees=500, growing_strategy=\"BEST_FIRST_GLOBAL\", max_depth=8)\n",
    "model_xgb2.fit(x=train_ds)\n",
    "\n",
    "# model_xgb2 = tfdf.keras.GradientBoostedTreesModel(\n",
    "#     num_trees=500,\n",
    "#     growing_strategy=\"BEST_FIRST_GLOBAL\",\n",
    "#     max_depth=8,\n",
    "#     split_axis=\"SPARSE_OBLIQUE\",\n",
    "#     categorical_algorithm=\"RANDOM\",\n",
    "#     )\n",
    "# model_xgb2.fit(x=train_ds)"
   ]
  },
  {
   "cell_type": "code",
   "execution_count": null,
   "id": "61e848a2-54fc-42a4-84fe-8197d6917a42",
   "metadata": {},
   "outputs": [
    {
     "name": "stdout",
     "output_type": "stream",
     "text": [
      "Resolve hyper-parameter template \"benchmark_rank1\" to \"benchmark_rank1@v1\" -> {'growing_strategy': 'BEST_FIRST_GLOBAL', 'categorical_algorithm': 'RANDOM', 'split_axis': 'SPARSE_OBLIQUE', 'sparse_oblique_normalization': 'MIN_MAX', 'sparse_oblique_num_projections_exponent': 1.0}.\n",
      "Use /tmp/tmpwo_r32bw as temporary training directory\n",
      "Reading training dataset...\n",
      "Training dataset read in 0:00:00.455399. Found 1693 examples.\n",
      "Training model...\n"
     ]
    },
    {
     "name": "stderr",
     "output_type": "stream",
     "text": [
      "2023-03-11 13:27:51.845325: W external/ydf/yggdrasil_decision_forests/learner/gradient_boosted_trees/gradient_boosted_trees.cc:1790] \"goss_alpha\" set but \"sampling_method\" not equal to \"GOSS\".\n",
      "2023-03-11 13:27:51.851855: W external/ydf/yggdrasil_decision_forests/learner/gradient_boosted_trees/gradient_boosted_trees.cc:1800] \"goss_beta\" set but \"sampling_method\" not equal to \"GOSS\".\n",
      "2023-03-11 13:27:51.854198: W external/ydf/yggdrasil_decision_forests/learner/gradient_boosted_trees/gradient_boosted_trees.cc:1814] \"selective_gradient_boosting_ratio\" set but \"sampling_method\" not equal to \"SELGB\".\n",
      "2023-03-11 13:27:51.859425: I external/ydf/yggdrasil_decision_forests/learner/gradient_boosted_trees/gradient_boosted_trees.cc:452] Default loss set to MULTINOMIAL_LOG_LIKELIHOOD\n",
      "2023-03-11 13:27:51.860077: I external/ydf/yggdrasil_decision_forests/learner/gradient_boosted_trees/gradient_boosted_trees.cc:1077] Training gradient boosted tree on 1693 example(s) and 7 feature(s).\n",
      "2023-03-11 13:27:51.861970: I external/ydf/yggdrasil_decision_forests/learner/gradient_boosted_trees/gradient_boosted_trees.cc:1120] 1545 examples used for training and 148 examples used for validation\n",
      "2023-03-11 13:27:51.906882: I external/ydf/yggdrasil_decision_forests/learner/gradient_boosted_trees/gradient_boosted_trees.cc:1518] \tnum-trees:1 train-loss:1.380096 train-accuracy:0.798058 valid-loss:1.426813 valid-accuracy:0.635135\n",
      "2023-03-11 13:27:51.953055: I external/ydf/yggdrasil_decision_forests/learner/gradient_boosted_trees/gradient_boosted_trees.cc:1520] \tnum-trees:2 train-loss:1.216225 train-accuracy:0.803883 valid-loss:1.308066 valid-accuracy:0.614865\n"
     ]
    },
    {
     "name": "stdout",
     "output_type": "stream",
     "text": [
      "Model trained in 0:00:01.584865\n",
      "Compiling model...\n"
     ]
    },
    {
     "name": "stderr",
     "output_type": "stream",
     "text": [
      "2023-03-11 13:27:53.316636: I external/ydf/yggdrasil_decision_forests/learner/gradient_boosted_trees/gradient_boosted_trees.cc:1568] Create final snapshot of the model at iteration 31\n",
      "2023-03-11 13:27:53.325961: I external/ydf/yggdrasil_decision_forests/learner/gradient_boosted_trees/gradient_boosted_trees.cc:247] Truncates the model to 130 tree(s) i.e. 26  iteration(s).\n",
      "2023-03-11 13:27:53.327269: I external/ydf/yggdrasil_decision_forests/learner/gradient_boosted_trees/gradient_boosted_trees.cc:309] Final model num-trees:26 valid-loss:0.814694 valid-accuracy:0.716216\n",
      "[INFO 2023-03-11T13:27:53.356496072+00:00 kernel.cc:1214] Loading model from path /tmp/tmpwo_r32bw/model/ with prefix e63127ea425c4d35\n",
      "[INFO 2023-03-11T13:27:53.401230804+00:00 decision_forest.cc:661] Model loaded with 130 root(s), 7798 node(s), and 7 input feature(s).\n",
      "[INFO 2023-03-11T13:27:53.406860474+00:00 abstract_model.cc:1311] Engine \"GradientBoostedTreesGeneric\" built\n",
      "[INFO 2023-03-11T13:27:53.411005061+00:00 kernel.cc:1046] Use fast generic engine\n"
     ]
    },
    {
     "name": "stdout",
     "output_type": "stream",
     "text": [
      "Model compiled.\n"
     ]
    },
    {
     "data": {
      "text/plain": [
       "<keras.callbacks.History at 0x7f246dc57850>"
      ]
     },
     "execution_count": 58,
     "metadata": {},
     "output_type": "execute_result"
    }
   ],
   "source": [
    "model_xgb3 = tfdf.keras.GradientBoostedTreesModel(hyperparameter_template=\"benchmark_rank1\")\n",
    "model_xgb3.fit(x=train_ds)"
   ]
  },
  {
   "cell_type": "code",
   "execution_count": null,
   "id": "201824ac-2bc3-42d2-bc69-eb5ba7c2d617",
   "metadata": {},
   "outputs": [
    {
     "name": "stdout",
     "output_type": "stream",
     "text": [
      "[HyperParameterTemplate(name='better_default', version=1, parameters={'growing_strategy': 'BEST_FIRST_GLOBAL'}, description='A configuration that is generally better than the default parameters without being more expensive.'), HyperParameterTemplate(name='benchmark_rank1', version=1, parameters={'growing_strategy': 'BEST_FIRST_GLOBAL', 'categorical_algorithm': 'RANDOM', 'split_axis': 'SPARSE_OBLIQUE', 'sparse_oblique_normalization': 'MIN_MAX', 'sparse_oblique_num_projections_exponent': 1.0}, description='Top ranking hyper-parameters on our benchmark slightly modified to run in reasonable time.')]\n"
     ]
    }
   ],
   "source": [
    "# The hyper-parameter templates of the Gradient Boosted Tree model.\n",
    "print(tfdf.keras.GradientBoostedTreesModel.predefined_hyperparameters())"
   ]
  },
  {
   "cell_type": "code",
   "execution_count": null,
   "id": "08a6dee0-20f4-4ce5-8db2-c8460b1534ee",
   "metadata": {},
   "outputs": [],
   "source": []
  },
  {
   "cell_type": "code",
   "execution_count": null,
   "id": "bb87ae1f-227e-44d8-a320-95a2fae7b3c1",
   "metadata": {},
   "outputs": [],
   "source": []
  },
  {
   "cell_type": "code",
   "execution_count": null,
   "id": "34fc4d8a-3820-4891-9221-70969357b692",
   "metadata": {},
   "outputs": [],
   "source": []
  },
  {
   "cell_type": "code",
   "execution_count": null,
   "id": "7d405fe1-6193-4d1d-96e4-58d4680f1dbf",
   "metadata": {},
   "outputs": [],
   "source": [
    "# tune model\n",
    "# dataset = pd.read_csv(\"project/dataset.csv\")\n",
    "# tf_dataset = tfdf.keras.pd_dataframe_to_tf_dataset(dataset, label=\"my_label\")\n",
    "\n",
    "# tuner = tfdf.tuner.RandomSearch(num_trials=20)\n",
    "# # Hyper-parameters to optimize.\n",
    "# tuner.discret(\"max_depth\", [4, 5, 6, 7])\n",
    "\n",
    "# model = tfdf.keras.GradientBoostedTreesModel(tuner=tuner)\n",
    "# model.fit(tf_dataset)"
   ]
  }
 ],
 "metadata": {
  "kernelspec": {
   "display_name": "",
   "name": ""
  },
  "language_info": {
   "name": ""
  }
 },
 "nbformat": 4,
 "nbformat_minor": 5
}
