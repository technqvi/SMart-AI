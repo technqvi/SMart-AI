{
 "cells": [
  {
   "cell_type": "code",
   "execution_count": 65,
   "id": "858162f0-1fd2-4848-910e-95aa62370760",
   "metadata": {},
   "outputs": [],
   "source": [
    "import pandas as pd\n",
    "import numpy as np\n",
    "from google.cloud import bigquery\n",
    "import os, json"
   ]
  },
  {
   "cell_type": "code",
   "execution_count": 66,
   "id": "17b1b0ee-840a-47e9-b277-4abfe540361d",
   "metadata": {},
   "outputs": [],
   "source": [
    "#https://www.anycodings.com/1questions/4113004/can-you-load-json-formatted-data-to-a-bigquery-table-using-python-and-loadtablefromjson"
   ]
  },
  {
   "cell_type": "code",
   "execution_count": 67,
   "id": "ece78fa9-279c-4ab5-bf78-9a1719532ae8",
   "metadata": {},
   "outputs": [],
   "source": [
    "def format_schema(schema):\n",
    "    formatted_schema = []\n",
    "    for row in schema:\n",
    "        formatted_schema.append(bigquery.SchemaField(row['name'], row['type'], row['mode']))\n",
    "    return formatted_schema"
   ]
  },
  {
   "cell_type": "code",
   "execution_count": 68,
   "id": "19c248cb-f5d3-4b82-bbaa-66cbdeb12ded",
   "metadata": {},
   "outputs": [
    {
     "data": {
      "text/html": [
       "<div>\n",
       "<style scoped>\n",
       "    .dataframe tbody tr th:only-of-type {\n",
       "        vertical-align: middle;\n",
       "    }\n",
       "\n",
       "    .dataframe tbody tr th {\n",
       "        vertical-align: top;\n",
       "    }\n",
       "\n",
       "    .dataframe thead th {\n",
       "        text-align: right;\n",
       "    }\n",
       "</style>\n",
       "<table border=\"1\" class=\"dataframe\">\n",
       "  <thead>\n",
       "    <tr style=\"text-align: right;\">\n",
       "      <th></th>\n",
       "      <th>id</th>\n",
       "      <th>name</th>\n",
       "    </tr>\n",
       "  </thead>\n",
       "  <tbody>\n",
       "    <tr>\n",
       "      <th>0</th>\n",
       "      <td>1</td>\n",
       "      <td>Jeff</td>\n",
       "    </tr>\n",
       "    <tr>\n",
       "      <th>1</th>\n",
       "      <td>2</td>\n",
       "      <td>John</td>\n",
       "    </tr>\n",
       "    <tr>\n",
       "      <th>2</th>\n",
       "      <td>3</td>\n",
       "      <td>HearToo</td>\n",
       "    </tr>\n",
       "    <tr>\n",
       "      <th>3</th>\n",
       "      <td>4</td>\n",
       "      <td>Dictx</td>\n",
       "    </tr>\n",
       "    <tr>\n",
       "      <th>4</th>\n",
       "      <td>5</td>\n",
       "      <td>HearToo2</td>\n",
       "    </tr>\n",
       "  </tbody>\n",
       "</table>\n",
       "</div>"
      ],
      "text/plain": [
       "   id      name\n",
       "0   1      Jeff\n",
       "1   2      John\n",
       "2   3   HearToo\n",
       "3   4     Dictx\n",
       "4   5  HearToo2"
      ]
     },
     "execution_count": 68,
     "metadata": {},
     "output_type": "execute_result"
    }
   ],
   "source": [
    "df = pd.DataFrame([[1, 'Jeff'],[2, 'John'],[3, 'HearToo'],[4, 'Dictx'],[5, 'HearToo2']],columns=['id', 'name'])\n",
    "\n",
    "df"
   ]
  },
  {
   "cell_type": "code",
   "execution_count": 69,
   "id": "e445022e-fa84-499e-982f-9a48dffaedba",
   "metadata": {},
   "outputs": [
    {
     "data": {
      "text/plain": [
       "[{'id': 1, 'name': 'Jeff'},\n",
       " {'id': 2, 'name': 'John'},\n",
       " {'id': 3, 'name': 'HearToo'},\n",
       " {'id': 4, 'name': 'Dictx'},\n",
       " {'id': 5, 'name': 'HearToo2'}]"
      ]
     },
     "execution_count": 69,
     "metadata": {},
     "output_type": "execute_result"
    }
   ],
   "source": [
    "json_data = df.to_json(orient = 'records')\n",
    "json_object = json.loads(json_data)\n",
    "json_object"
   ]
  },
  {
   "cell_type": "code",
   "execution_count": 70,
   "id": "ac238da7-92f1-4c9c-a1fb-555e8c3065a1",
   "metadata": {},
   "outputs": [],
   "source": [
    "table_schema = {'name': 'id','type': 'INTEGER','mode': 'REQUIRED'}, {'name': 'name','type': 'STRING','mode': 'REQUIRED'}"
   ]
  },
  {
   "cell_type": "code",
   "execution_count": 71,
   "id": "ecd8310a-2d40-4a57-8ce7-9e5d63e631e5",
   "metadata": {},
   "outputs": [],
   "source": [
    "table_id='pongthorn.SMartDW.personal_info'\n",
    "client  = bigquery.Client()"
   ]
  },
  {
   "cell_type": "code",
   "execution_count": 72,
   "id": "569b7e16-b914-4327-9a0d-cd75d8f7263a",
   "metadata": {},
   "outputs": [],
   "source": [
    "job_config = bigquery.LoadJobConfig()\n",
    "job_config.source_format = bigquery.SourceFormat.NEWLINE_DELIMITED_JSON\n",
    "job_config.schema = format_schema(table_schema)\n"
   ]
  },
  {
   "cell_type": "code",
   "execution_count": 73,
   "id": "16062360-925b-4c19-8176-5d2cfe449889",
   "metadata": {},
   "outputs": [
    {
     "data": {
      "text/plain": [
       "[SchemaField('id', 'INTEGER', 'REQUIRED', None, (), None),\n",
       " SchemaField('name', 'STRING', 'REQUIRED', None, (), None)]"
      ]
     },
     "execution_count": 73,
     "metadata": {},
     "output_type": "execute_result"
    }
   ],
   "source": [
    "job_config.schema"
   ]
  },
  {
   "cell_type": "code",
   "execution_count": 62,
   "id": "281c2068-36d7-47a0-a647-642b4ffc21b0",
   "metadata": {},
   "outputs": [],
   "source": [
    "job = client.load_table_from_json(json_object, table_id, job_config = job_config)"
   ]
  },
  {
   "cell_type": "code",
   "execution_count": 63,
   "id": "2aae193e-c694-487d-add6-e8dad3caa214",
   "metadata": {},
   "outputs": [
    {
     "name": "stdout",
     "output_type": "stream",
     "text": [
      "LoadJob<project=pongthorn, location=us-central1, id=879764bf-32ab-4b57-8c66-58b9a2b4ab6f>\n"
     ]
    }
   ],
   "source": [
    "print(job.result())"
   ]
  },
  {
   "cell_type": "code",
   "execution_count": null,
   "id": "3fedf653-1aed-40a4-a887-fdcd997a6e62",
   "metadata": {},
   "outputs": [],
   "source": []
  },
  {
   "cell_type": "code",
   "execution_count": null,
   "id": "b58c5658-092b-452c-8f47-a4e78bef3356",
   "metadata": {},
   "outputs": [],
   "source": []
  }
 ],
 "metadata": {
  "kernelspec": {
   "display_name": "Python 3 (ipykernel)",
   "language": "python",
   "name": "python3"
  },
  "language_info": {
   "codemirror_mode": {
    "name": "ipython",
    "version": 3
   },
   "file_extension": ".py",
   "mimetype": "text/x-python",
   "name": "python",
   "nbconvert_exporter": "python",
   "pygments_lexer": "ipython3",
   "version": "3.9.12"
  }
 },
 "nbformat": 4,
 "nbformat_minor": 5
}
