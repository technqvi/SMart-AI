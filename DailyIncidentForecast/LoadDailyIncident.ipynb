{
 "cells": [
  {
   "cell_type": "code",
   "execution_count": 1,
   "id": "5399b8df-1ce2-4a84-a7de-e596dc57cff2",
   "metadata": {},
   "outputs": [],
   "source": [
    "import pandas as pd\n",
    "import matplotlib.pyplot as plt\n",
    "import psycopg2\n",
    "import psycopg2.extras as extras\n",
    "from google.cloud import bigquery\n",
    "from google.api_core.exceptions import BadRequest\n",
    "from dotenv import dotenv_values\n",
    "from datetime import datetime,date,timedelta\n",
    "\n",
    "# eeeoe 07-07-203 have 1 but bq=0"
   ]
  },
  {
   "cell_type": "markdown",
   "id": "55c7c497-f336-46ba-8149-11c41a238c86",
   "metadata": {},
   "source": [
    "# Init Params"
   ]
  },
  {
   "cell_type": "code",
   "execution_count": 3,
   "id": "55d0ad7b-753d-49a4-8fec-5a50a0b2ee36",
   "metadata": {},
   "outputs": [],
   "source": [
    "isDailyMode=True\n",
    "projectId='pongthorn'\n",
    "dataset_id='SMartDW'\n",
    "\n",
    "\n",
    "datetime_imported=datetime.now()\n",
    "\n",
    "env_path=r'D:\\PythonDev\\MyQuantFinProject\\SMart-AI\\.env'\n",
    "config = dotenv_values(dotenv_path=env_path)\n",
    "\n",
    "# the first load and it became train/test dat\n",
    "imported_from='2022-01-01'\n",
    "day_imported='2023-07-07'\n",
    "\n"
   ]
  },
  {
   "cell_type": "markdown",
   "id": "74afa6e1-d0c4-4a4d-8956-fcf61666f4c2",
   "metadata": {},
   "source": [
    "# Set Date  to ingest data along with given mode\n",
    "## Unseen data as Daily Mode : Yesterday data\n",
    "## Train data as ML Mode : Given period"
   ]
  },
  {
   "cell_type": "code",
   "execution_count": 5,
   "id": "5de30887-34bf-459c-ab5e-9855f0472d59",
   "metadata": {},
   "outputs": [
    {
     "name": "stdout",
     "output_type": "stream",
     "text": [
      "DailyMode=True :  2023-09-03\n"
     ]
    }
   ],
   "source": [
    "if isDailyMode:\n",
    "    today = date.today()   \n",
    "    \n",
    "    day_imported = today - timedelta(days = 1)\n",
    "    day_imported=day_imported.strftime('%Y-%m-%d')\n",
    "    print(f\"DailyMode={isDailyMode} :  {day_imported}\" )\n",
    "else:\n",
    "    imported_to = datetime.strptime(day_imported,'%Y-%m-%d')\n",
    "    imported_to = imported_to + timedelta(days = 1)\n",
    "    imported_to=imported_to.strftime('%Y-%m-%d')\n",
    "    print(f\"DailyMode={isDailyMode} : From {imported_from} To {imported_to}\" )\n",
    "    \n",
    "\n",
    "dateTimeCol='incident_datetime'\n",
    "dateCol='date'\n",
    "\n",
    "countCol='count_incident'\n",
    "\n",
    "tf='D'\n",
    "bigger_tf='W-SUN'\n"
   ]
  },
  {
   "cell_type": "markdown",
   "id": "94cf768c-da88-48d0-8cea-eb57191a9383",
   "metadata": {},
   "source": [
    "# BigQuery"
   ]
  },
  {
   "cell_type": "code",
   "execution_count": 6,
   "id": "67b3e81c-bc6d-499b-a0eb-4fa6e7243d4d",
   "metadata": {},
   "outputs": [],
   "source": [
    "table_id = f\"{projectId}.{dataset_id}.daily_incident\"\n",
    "# create table first\n",
    "client = bigquery.Client(project=projectId)\n",
    "def insertDataFrameToBQ(df_trasns):\n",
    "    try:\n",
    "        if isDailyMode==True:\n",
    "            job_config = bigquery.LoadJobConfig(\n",
    "                write_disposition=\"WRITE_APPEND\",\n",
    "            )\n",
    "        else:\n",
    "            job_config = bigquery.LoadJobConfig(\n",
    "                write_disposition=\"WRITE_TRUNCATE\",\n",
    "            )\n",
    "\n",
    "        job = client.load_table_from_dataframe(\n",
    "            df_trasns, table_id, job_config=job_config\n",
    "        )\n",
    "        job.result()  # Wait for the job to complete.\n",
    "        print(\"Total \", len(df_trasns), \"Imported closed incident to bigquery successfully\")\n",
    "\n",
    "    except BadRequest as e:\n",
    "        print(\"Bigquery Error\\n\")\n",
    "        print(e) \n"
   ]
  },
  {
   "cell_type": "markdown",
   "id": "1892f443-0192-450f-8bcc-4ea32f15d0d7",
   "metadata": {},
   "source": [
    "# Postgres"
   ]
  },
  {
   "cell_type": "code",
   "execution_count": 92,
   "id": "b0f54c7f-91bd-424c-b641-04c1431f72ea",
   "metadata": {},
   "outputs": [],
   "source": [
    "def get_postgres_conn():\n",
    " try:\n",
    "  conn = psycopg2.connect(\n",
    "        database=config['DATABASES_NAME'], user=config['DATABASES_USER'],\n",
    "      password=config['DATABASES_PASSWORD'], host=config['DATABASES_HOST']\n",
    "     )\n",
    "  return conn\n",
    "\n",
    " except Exception as error:\n",
    "  print(error)      \n",
    "  raise error\n",
    "def list_data(sql,params,connection):\n",
    " df=None   \n",
    " with connection.cursor() as cursor:\n",
    "    \n",
    "    if params is None:\n",
    "       cursor.execute(sql)\n",
    "    else:\n",
    "       cursor.execute(sql,params)\n",
    "    \n",
    "    columns = [col[0] for col in cursor.description]\n",
    "    dataList = [dict(zip(columns, row)) for row in cursor.fetchall()]\n",
    "    df = pd.DataFrame(data=dataList) \n",
    " return df "
   ]
  },
  {
   "cell_type": "markdown",
   "id": "5ace0d16-0f60-4fbd-ac01-8dd03851522d",
   "metadata": {},
   "source": [
    "# Create SQL Statement for  pulling data from  Postgres\n"
   ]
  },
  {
   "cell_type": "code",
   "execution_count": 7,
   "id": "106af72a-ee24-42d5-a3bd-201c2e5b2b5a",
   "metadata": {},
   "outputs": [
    {
     "name": "stdout",
     "output_type": "stream",
     "text": [
      "True\n",
      "\n",
      "    select count(*) as count_incident  from app_incident\n",
      "    where  Date(incident_datetime)='2023-09-03'\n",
      "    \n"
     ]
    }
   ],
   "source": [
    "if isDailyMode==False:\n",
    "    sql=f\"\"\"\n",
    "    select Date({dateTimeCol}) as {dateCol},count(*) as {countCol}  from app_incident\n",
    "    where {dateTimeCol}>='{imported_from}' and incident_datetime<'{imported_to}'\n",
    "    group by   Date({dateTimeCol}) order by Date({dateTimeCol})\n",
    "    \"\"\"\n",
    "else:\n",
    "    sql=f\"\"\"\n",
    "    select count(*) as {countCol}  from app_incident\n",
    "    where  Date({dateTimeCol})='{day_imported}'\n",
    "    \"\"\"\n",
    "print(isDailyMode)    \n",
    "print(sql)\n"
   ]
  },
  {
   "cell_type": "code",
   "execution_count": 94,
   "id": "3faf323e-01c8-4d55-be22-25b278a678c1",
   "metadata": {},
   "outputs": [
    {
     "name": "stdout",
     "output_type": "stream",
     "text": [
      "<class 'pandas.core.frame.DataFrame'>\n",
      "RangeIndex: 1 entries, 0 to 0\n",
      "Data columns (total 2 columns):\n",
      " #   Column          Non-Null Count  Dtype         \n",
      "---  ------          --------------  -----         \n",
      " 0   date            1 non-null      datetime64[ns]\n",
      " 1   count_incident  1 non-null      int64         \n",
      "dtypes: datetime64[ns](1), int64(1)\n",
      "memory usage: 144.0 bytes\n",
      "None\n",
      "        date  count_incident\n",
      "0 2023-07-08               0\n",
      "        date  count_incident\n",
      "0 2023-07-08               0\n"
     ]
    }
   ],
   "source": [
    "df_incident=list_data(sql,None,get_postgres_conn())\n",
    "if isDailyMode:\n",
    "   df_incident[dateCol] =day_imported\n",
    "   df_incident=df_incident[[dateCol,countCol]] \n",
    "df_incident[dateCol]=pd.to_datetime(df_incident[dateCol], format='%Y-%m-%d')\n",
    "print(df_incident.info()) \n",
    "print(df_incident.head(10))\n",
    "print(df_incident.tail(10))"
   ]
  },
  {
   "cell_type": "markdown",
   "id": "4608a176-21c1-4cb8-b423-286c9aab6407",
   "metadata": {},
   "source": [
    "# Transforam data and Ingest to BQ"
   ]
  },
  {
   "cell_type": "code",
   "execution_count": 95,
   "id": "f6ac6f3b-2cfd-47c9-9518-ee651381b348",
   "metadata": {},
   "outputs": [
    {
     "name": "stdout",
     "output_type": "stream",
     "text": [
      "Total  1 Imported closed incident to bigquery successfully\n"
     ]
    }
   ],
   "source": [
    "try: \n",
    " if isDailyMode==False:\n",
    " \n",
    "    print(\"Create date range to get prepared for build time-series dataframe\")\n",
    "    from_date=df_incident[dateCol].min().strftime('%Y-%m-%d')\n",
    "    to_date=day_imported\n",
    "    # to_date=df_incident[dateCol].max().strftime('%Y-%m-%d')\n",
    "    period_index=pd.date_range(start=from_date,end=to_date, freq='D')\n",
    "    print(period_index)\n",
    "    dfDate=pd.DataFrame(index=period_index,columns=['date'])\n",
    "    dfDate.reset_index(drop=False,inplace=True)\n",
    "    dfDate['date']=dfDate['index']\n",
    "    dfDate.drop(columns=['index'],inplace=True)\n",
    "    print(dfDate.info())\n",
    "    print(dfDate.head())\n",
    "    print(dfDate.tail())\n",
    "\n",
    "    print(\"Merge data as time series data\")\n",
    "    df=dfDate.merge(df_incident,how='left',left_on='date',right_on=dateCol)\n",
    "    df=df[['date',countCol]]\n",
    "    df.fillna(value=0,inplace=True)\n",
    "    df['datetime_imported']=datetime_imported\n",
    "    # df=df.set_index('date')\n",
    "    print(df.info())\n",
    "    print(df.tail(10))\n",
    "\n",
    "    \n",
    "    df.to_csv('DailyIncident.csv',index=False)\n",
    "    insertDataFrameToBQ(df)\n",
    " else:\n",
    "    df_incident['datetime_imported']=datetime_imported\n",
    "    insertDataFrameToBQ(df_incident)\n",
    "    \n",
    "except Exception as ex:\n",
    "     raise ex\n",
    "        \n"
   ]
  },
  {
   "cell_type": "code",
   "execution_count": null,
   "id": "82df7ae8-70d4-410c-81aa-08e42bbeed18",
   "metadata": {},
   "outputs": [],
   "source": [
    "\n",
    "    \n"
   ]
  },
  {
   "cell_type": "code",
   "execution_count": 76,
   "id": "624b70e4-ba75-4fd9-a46f-f7d26a2bd4f0",
   "metadata": {},
   "outputs": [],
   "source": [
    "# dfXYZ=df.set_index('date').resample(bigger_tf).sum()\n",
    "# print(dfXYZ.info())\n",
    "# print(dfXYZ)\n",
    "\n",
    "# import plotly.express as px\n",
    "\n",
    "# fig = px.line(dfXYZ, y=countCol, title=f'{bigger_tf}-{countCol}')\n",
    "# fig.show()\n"
   ]
  },
  {
   "cell_type": "code",
   "execution_count": null,
   "id": "53ce4da6-8c3f-47fa-ae0f-209002622d52",
   "metadata": {},
   "outputs": [],
   "source": [
    "\n",
    "\n"
   ]
  }
 ],
 "metadata": {
  "kernelspec": {
   "display_name": "Python 3 (ipykernel)",
   "language": "python",
   "name": "python3"
  },
  "language_info": {
   "codemirror_mode": {
    "name": "ipython",
    "version": 3
   },
   "file_extension": ".py",
   "mimetype": "text/x-python",
   "name": "python",
   "nbconvert_exporter": "python",
   "pygments_lexer": "ipython3",
   "version": "3.9.16"
  }
 },
 "nbformat": 4,
 "nbformat_minor": 5
}
