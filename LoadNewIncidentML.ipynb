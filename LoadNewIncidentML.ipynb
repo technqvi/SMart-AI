{
 "cells": [
  {
   "cell_type": "code",
   "execution_count": 1,
   "id": "a1ee8b7a-39ed-46f9-ae2f-9106703a6ef8",
   "metadata": {},
   "outputs": [],
   "source": [
    "from google.cloud import bigquery\n",
    "import pandas as pd\n",
    "import numpy as np\n",
    "from datetime import datetime \n",
    "from google.oauth2 import service_account\n",
    "\n",
    "import functions_framework\n",
    "\n",
    "from google.cloud.exceptions import NotFound\n",
    "from google.api_core.exceptions import BadRequest\n",
    "import os\n"
   ]
  },
  {
   "cell_type": "code",
   "execution_count": 9,
   "id": "9a7ca4f1-4eb8-4342-9e5d-a4932e18af8a",
   "metadata": {},
   "outputs": [],
   "source": [
    "# @functions_framework.http\n",
    "# def load_new_incident_ml(request):"
   ]
  },
  {
   "cell_type": "code",
   "execution_count": null,
   "id": "6cc6f43e-8ef8-497f-8805-5bd97d221626",
   "metadata": {},
   "outputs": [],
   "source": []
  },
  {
   "cell_type": "code",
   "execution_count": 5,
   "id": "ca4bd654-bc3f-4550-8a7b-da20db7f1048",
   "metadata": {},
   "outputs": [],
   "source": [
    "projectId='smart-data-ml'\n",
    "start_date_query=os.environ.get('start_date_query', '2023-03-13')\n",
    "start_date_query='2023-03-13'"
   ]
  },
  {
   "cell_type": "code",
   "execution_count": 6,
   "id": "83836b2e-bd9b-401f-88c6-6ce57a6cf927",
   "metadata": {},
   "outputs": [],
   "source": [
    "projectId='smart-data-ml'\n",
    "\n",
    "table_ml_id = f\"{projectId}.SMartML.new_incident\"\n",
    "table_dw_id=f\"{projectId}.SMartDW.incident\"\n",
    "\n",
    "# credentials = service_account.Credentials.from_service_account_file(r'C:\\Windows\\smart-data-ml-91b6f6204773.json')\n",
    "# client = bigquery.Client(credentials=credentials, project=projectId)\n",
    "\n",
    "client = bigquery.Client(project=project=projectId)"
   ]
  },
  {
   "cell_type": "code",
   "execution_count": 88,
   "id": "5637e899-8932-4033-82b2-0085f44ecb77",
   "metadata": {},
   "outputs": [],
   "source": [
    "# Get Last Upldate from BQ update data\n",
    "dateCols=['open_datetime','close_datetime','response_datetime','resolved_datetime']\n",
    "\n",
    "removeCols=dateCols+['open_to_close','response_to_resolved']\n",
    "\n",
    "numbericCols=['open_to_close_hour','response_to_resolved_hour']\n",
    "cateCols=['sla','product_type','brand','service_type','incident_type']\n",
    "\n",
    "file_name=\"New_Incident.csv\"\n"
   ]
  },
  {
   "cell_type": "code",
   "execution_count": 89,
   "id": "d1eaec42-befe-4b83-b081-3b919bc68549",
   "metadata": {},
   "outputs": [
    {
     "name": "stdout",
     "output_type": "stream",
     "text": [
      "Table smart-data-ml.SMartML.new_incident already exists.\n"
     ]
    }
   ],
   "source": [
    "#https://cloud.google.com/bigquery/docs/samples/bigquery-create-table#bigquery_create_table-python\n",
    "\n",
    "try:\n",
    "    client.get_table(table_ml_id)  # Make an API request.\n",
    "    print(\"Table {} already exists.\".format(table_ml_id))\n",
    "except Exception as ex:\n",
    "    schema = [\n",
    "    bigquery.SchemaField(\"id\", \"INTEGER\", mode=\"REQUIRED\"),\n",
    "    bigquery.SchemaField(\"severity_id\", \"INTEGER\", mode=\"REQUIRED\"),\n",
    "    bigquery.SchemaField(\"severity_name\", \"STRING\", mode=\"REQUIRED\"),\n",
    "    bigquery.SchemaField(\"sla\", \"STRING\", mode=\"REQUIRED\"),    \n",
    "    bigquery.SchemaField(\"product_type\", \"STRING\", mode=\"REQUIRED\"),  \n",
    "    bigquery.SchemaField(\"brand\", \"STRING\", mode=\"REQUIRED\"),  \n",
    "    bigquery.SchemaField(\"service_type\", \"STRING\", mode=\"REQUIRED\"),  \n",
    "    bigquery.SchemaField(\"incident_type\", \"STRING\", mode=\"REQUIRED\"),  \n",
    "    bigquery.SchemaField(\"open_to_close_hour\", \"FLOAT\", mode=\"REQUIRED\"),\n",
    "    bigquery.SchemaField(\"response_to_resolved_hour\", \"FLOAT\", mode=\"REQUIRED\"),    \n",
    "    bigquery.SchemaField(\"imported_at\", \"DATETIME\", mode=\"REQUIRED\")    \n",
    "    ]\n",
    "\n",
    "    table = bigquery.Table(table_ml_id,schema=schema)\n",
    "    table.time_partitioning = bigquery.TimePartitioning(\n",
    "    type_=bigquery.TimePartitioningType.DAY,field=\"imported_at\")\n",
    "\n",
    "    \n",
    "    table = client.create_table(table)  # Make an API request.\n",
    "    print(\n",
    "        \"Created table {}.{}.{}\".format(table.project, table.dataset_id, table.table_id)\n",
    "    )\n"
   ]
  },
  {
   "cell_type": "code",
   "execution_count": 63,
   "id": "cd9ca38f-2afe-44e4-8e30-eb0d96e27891",
   "metadata": {},
   "outputs": [
    {
     "name": "stdout",
     "output_type": "stream",
     "text": [
      "Imported DateTime: 2023-03-31 22:36:07\n"
     ]
    }
   ],
   "source": []
  },
  {
   "cell_type": "code",
   "execution_count": 74,
   "id": "0ccf11d4-1c0f-4e50-8945-3a5223f3ab24",
   "metadata": {},
   "outputs": [
    {
     "name": "stdout",
     "output_type": "stream",
     "text": [
      "Imported DateTime: 2023-03-31 22:39:35\n",
      "Last Imported DateTime: 2023-03-31 01:00:04\n",
      "Start date from last loading\n",
      "Start Import on update_at of last imported date : 2023-03-31 01:00:04\n"
     ]
    }
   ],
   "source": [
    "dt_imported=datetime.now()\n",
    "str_imported=dt_imported.strftime('%Y-%m-%d %H:%M:%S')\n",
    "print(f\"Imported DateTime: {str_imported}\" )\n",
    "\n",
    "sql_lastImport=f\"SELECT max(imported_at) as last_imported from `{table_ml_id}` \"\n",
    "job_lastImported=client.query(sql_lastImport)\n",
    "str_lastImported=None\n",
    "for row in job_lastImported:    \n",
    "    if row.last_imported is not None: \n",
    "        str_lastImported=row.last_imported.strftime('%Y-%m-%d %H:%M:%S')\n",
    "print(f\"Last Imported DateTime: {str_lastImported}\" )\n",
    "\n",
    "if str_lastImported is not None:\n",
    "  print(\"Start date from last loading\")  \n",
    "  start_date_query=str_lastImported\n",
    "else:\n",
    "  print(\"Init First loading\")  \n",
    "\n",
    "\n",
    "print(f\"Start Import on update_at of last imported date : {start_date_query}\" )\n"
   ]
  },
  {
   "cell_type": "code",
   "execution_count": 75,
   "id": "dc90e569-c293-4219-ace5-3792ad96382d",
   "metadata": {},
   "outputs": [
    {
     "name": "stdout",
     "output_type": "stream",
     "text": [
      "<class 'pandas.core.frame.DataFrame'>\n",
      "RangeIndex: 2 entries, 0 to 1\n",
      "Data columns (total 12 columns):\n",
      " #   Column             Non-Null Count  Dtype         \n",
      "---  ------             --------------  -----         \n",
      " 0   id                 2 non-null      Int64         \n",
      " 1   severity_id        2 non-null      Int64         \n",
      " 2   severity_name      2 non-null      object        \n",
      " 3   sla                2 non-null      object        \n",
      " 4   product_type       2 non-null      object        \n",
      " 5   brand              2 non-null      object        \n",
      " 6   service_type       2 non-null      object        \n",
      " 7   incident_type      2 non-null      object        \n",
      " 8   open_datetime      2 non-null      datetime64[ns]\n",
      " 9   close_datetime     2 non-null      datetime64[ns]\n",
      " 10  response_datetime  2 non-null      datetime64[ns]\n",
      " 11  resolved_datetime  2 non-null      datetime64[ns]\n",
      "dtypes: Int64(2), datetime64[ns](4), object(6)\n",
      "memory usage: 324.0+ bytes\n",
      "None\n"
     ]
    },
    {
     "data": {
      "text/html": [
       "<div>\n",
       "<style scoped>\n",
       "    .dataframe tbody tr th:only-of-type {\n",
       "        vertical-align: middle;\n",
       "    }\n",
       "\n",
       "    .dataframe tbody tr th {\n",
       "        vertical-align: top;\n",
       "    }\n",
       "\n",
       "    .dataframe thead th {\n",
       "        text-align: right;\n",
       "    }\n",
       "</style>\n",
       "<table border=\"1\" class=\"dataframe\">\n",
       "  <thead>\n",
       "    <tr style=\"text-align: right;\">\n",
       "      <th></th>\n",
       "      <th>id</th>\n",
       "      <th>severity_id</th>\n",
       "      <th>severity_name</th>\n",
       "      <th>sla</th>\n",
       "      <th>product_type</th>\n",
       "      <th>brand</th>\n",
       "      <th>service_type</th>\n",
       "      <th>incident_type</th>\n",
       "      <th>open_datetime</th>\n",
       "      <th>close_datetime</th>\n",
       "      <th>response_datetime</th>\n",
       "      <th>resolved_datetime</th>\n",
       "    </tr>\n",
       "  </thead>\n",
       "  <tbody>\n",
       "    <tr>\n",
       "      <th>0</th>\n",
       "      <td>2524</td>\n",
       "      <td>2</td>\n",
       "      <td>Major</td>\n",
       "      <td>8x5 4Hrs Response Time</td>\n",
       "      <td>Software</td>\n",
       "      <td>Microsoft</td>\n",
       "      <td>Request</td>\n",
       "      <td>General Incident</td>\n",
       "      <td>2023-03-26 09:00:00</td>\n",
       "      <td>2023-03-27 01:00:00</td>\n",
       "      <td>2023-03-26 09:30:00</td>\n",
       "      <td>2023-03-26 23:00:00</td>\n",
       "    </tr>\n",
       "    <tr>\n",
       "      <th>1</th>\n",
       "      <td>2575</td>\n",
       "      <td>2</td>\n",
       "      <td>Major</td>\n",
       "      <td>24x7 6Hrs Resolution Time</td>\n",
       "      <td>Software</td>\n",
       "      <td>YIP</td>\n",
       "      <td>Request</td>\n",
       "      <td>Software</td>\n",
       "      <td>2023-03-31 12:00:00</td>\n",
       "      <td>2023-03-31 16:53:00</td>\n",
       "      <td>2023-03-31 13:10:00</td>\n",
       "      <td>2023-03-31 16:53:00</td>\n",
       "    </tr>\n",
       "  </tbody>\n",
       "</table>\n",
       "</div>"
      ],
      "text/plain": [
       "     id  severity_id severity_name                        sla product_type  \\\n",
       "0  2524            2         Major     8x5 4Hrs Response Time     Software   \n",
       "1  2575            2         Major  24x7 6Hrs Resolution Time     Software   \n",
       "\n",
       "       brand service_type     incident_type       open_datetime  \\\n",
       "0  Microsoft      Request  General Incident 2023-03-26 09:00:00   \n",
       "1        YIP      Request          Software 2023-03-31 12:00:00   \n",
       "\n",
       "       close_datetime   response_datetime   resolved_datetime  \n",
       "0 2023-03-27 01:00:00 2023-03-26 09:30:00 2023-03-26 23:00:00  \n",
       "1 2023-03-31 16:53:00 2023-03-31 13:10:00 2023-03-31 16:53:00  "
      ]
     },
     "execution_count": 75,
     "metadata": {},
     "output_type": "execute_result"
    }
   ],
   "source": [
    "sql=f\"\"\"\n",
    "SELECT  id,\n",
    "severity_id,severity_name,sla,\n",
    "product_type,brand,service_type,incident_type,\n",
    "open_datetime,  close_datetime, response_datetime,resolved_datetime\n",
    "FROM `{table_dw_id}` \n",
    "WHERE imported_at>'{start_date_query}'\n",
    "order by imported_at\n",
    "\"\"\"\n",
    "#WHERE imported_at>='{start_date_query}' and imported_at<='2023-03-24'\n",
    "#WHERE imported_at>='{start_date_query}'\n",
    "\n",
    "query_result=client.query(sql)\n",
    "df_all=query_result.to_dataframe()\n",
    "print(df_all.info())\n",
    "df_all.head()"
   ]
  },
  {
   "cell_type": "code",
   "execution_count": 76,
   "id": "3ebd31f4-9049-474f-aef7-4b8f46534b9e",
   "metadata": {},
   "outputs": [],
   "source": [
    "if len(df_all)==0:\n",
    " print(\"No record to load\")   \n",
    " return \"No record to load\"  "
   ]
  },
  {
   "cell_type": "code",
   "execution_count": 77,
   "id": "3a635248-2316-4280-ac1a-25d334b0c1aa",
   "metadata": {},
   "outputs": [],
   "source": [
    "start_end_list=[ ['open_datetime','close_datetime'],['response_datetime','resolved_datetime']]\n",
    "listDiffDateDeltaCols=[]\n",
    "listDiffHourCols=[]\n",
    "for item  in  start_end_list:\n",
    "   diff_str=f\"{item[0]}_to_{item[1]}\" \n",
    "   diff_str=diff_str.replace('_datetime','')  \n",
    "   listDiffDateDeltaCols.append(diff_str)\n",
    "   df_all[diff_str]=df_all[item[1]]-df_all[item[0]]\n",
    "    \n",
    "   diff_hour=f'{diff_str}_hour'\n",
    "   listDiffHourCols.append(diff_hour)\n",
    "   df_all[diff_hour] = df_all[diff_str].apply(lambda x:  x.total_seconds() / (60*60) if x is not np.nan else np.nan  )\n"
   ]
  },
  {
   "cell_type": "code",
   "execution_count": 82,
   "id": "bab5415e-8cc3-4214-a852-6925d6bd3004",
   "metadata": {},
   "outputs": [
    {
     "ename": "KeyError",
     "evalue": "\"['open_datetime', 'close_datetime', 'response_datetime', 'resolved_datetime', 'open_to_close', 'response_to_resolved'] not found in axis\"",
     "output_type": "error",
     "traceback": [
      "\u001b[1;31m---------------------------------------------------------------------------\u001b[0m",
      "\u001b[1;31mKeyError\u001b[0m                                  Traceback (most recent call last)",
      "\u001b[1;32m~\\AppData\\Local\\Temp\\ipykernel_8196\\3285380499.py\u001b[0m in \u001b[0;36m<cell line: 5>\u001b[1;34m()\u001b[0m\n\u001b[0;32m      3\u001b[0m \u001b[1;33m\u001b[0m\u001b[0m\n\u001b[0;32m      4\u001b[0m \u001b[0mdf_all\u001b[0m\u001b[1;33m=\u001b[0m\u001b[0mdf_all\u001b[0m\u001b[1;33m.\u001b[0m\u001b[0mdrop_duplicates\u001b[0m\u001b[1;33m(\u001b[0m\u001b[0msubset\u001b[0m\u001b[1;33m=\u001b[0m\u001b[1;33m[\u001b[0m\u001b[1;34m'id'\u001b[0m\u001b[1;33m]\u001b[0m\u001b[1;33m,\u001b[0m\u001b[0mkeep\u001b[0m\u001b[1;33m=\u001b[0m\u001b[1;34m'first'\u001b[0m\u001b[1;33m)\u001b[0m\u001b[1;33m\u001b[0m\u001b[1;33m\u001b[0m\u001b[0m\n\u001b[1;32m----> 5\u001b[1;33m \u001b[0mdf_all\u001b[0m\u001b[1;33m=\u001b[0m\u001b[0mdf_all\u001b[0m\u001b[1;33m.\u001b[0m\u001b[0mdrop\u001b[0m\u001b[1;33m(\u001b[0m\u001b[0mcolumns\u001b[0m\u001b[1;33m=\u001b[0m\u001b[0mremoveCols\u001b[0m\u001b[1;33m)\u001b[0m\u001b[1;33m\u001b[0m\u001b[1;33m\u001b[0m\u001b[0m\n\u001b[0m\u001b[0;32m      6\u001b[0m \u001b[1;33m\u001b[0m\u001b[0m\n\u001b[0;32m      7\u001b[0m \u001b[0mdf_all\u001b[0m\u001b[1;33m[\u001b[0m\u001b[1;34m'imported_at'\u001b[0m\u001b[1;33m]\u001b[0m\u001b[1;33m=\u001b[0m\u001b[0mdt_imported\u001b[0m\u001b[1;33m\u001b[0m\u001b[1;33m\u001b[0m\u001b[0m\n",
      "\u001b[1;32mD:\\ProgramData\\Anaconda3\\envs\\dev_google\\lib\\site-packages\\pandas\\util\\_decorators.py\u001b[0m in \u001b[0;36mwrapper\u001b[1;34m(*args, **kwargs)\u001b[0m\n\u001b[0;32m    329\u001b[0m                     \u001b[0mstacklevel\u001b[0m\u001b[1;33m=\u001b[0m\u001b[0mfind_stack_level\u001b[0m\u001b[1;33m(\u001b[0m\u001b[1;33m)\u001b[0m\u001b[1;33m,\u001b[0m\u001b[1;33m\u001b[0m\u001b[1;33m\u001b[0m\u001b[0m\n\u001b[0;32m    330\u001b[0m                 )\n\u001b[1;32m--> 331\u001b[1;33m             \u001b[1;32mreturn\u001b[0m \u001b[0mfunc\u001b[0m\u001b[1;33m(\u001b[0m\u001b[1;33m*\u001b[0m\u001b[0margs\u001b[0m\u001b[1;33m,\u001b[0m \u001b[1;33m**\u001b[0m\u001b[0mkwargs\u001b[0m\u001b[1;33m)\u001b[0m\u001b[1;33m\u001b[0m\u001b[1;33m\u001b[0m\u001b[0m\n\u001b[0m\u001b[0;32m    332\u001b[0m \u001b[1;33m\u001b[0m\u001b[0m\n\u001b[0;32m    333\u001b[0m         \u001b[1;31m# error: \"Callable[[VarArg(Any), KwArg(Any)], Any]\" has no\u001b[0m\u001b[1;33m\u001b[0m\u001b[1;33m\u001b[0m\u001b[0m\n",
      "\u001b[1;32mD:\\ProgramData\\Anaconda3\\envs\\dev_google\\lib\\site-packages\\pandas\\core\\frame.py\u001b[0m in \u001b[0;36mdrop\u001b[1;34m(self, labels, axis, index, columns, level, inplace, errors)\u001b[0m\n\u001b[0;32m   5397\u001b[0m                 \u001b[0mweight\u001b[0m  \u001b[1;36m1.0\u001b[0m     \u001b[1;36m0.8\u001b[0m\u001b[1;33m\u001b[0m\u001b[1;33m\u001b[0m\u001b[0m\n\u001b[0;32m   5398\u001b[0m         \"\"\"\n\u001b[1;32m-> 5399\u001b[1;33m         return super().drop(\n\u001b[0m\u001b[0;32m   5400\u001b[0m             \u001b[0mlabels\u001b[0m\u001b[1;33m=\u001b[0m\u001b[0mlabels\u001b[0m\u001b[1;33m,\u001b[0m\u001b[1;33m\u001b[0m\u001b[1;33m\u001b[0m\u001b[0m\n\u001b[0;32m   5401\u001b[0m             \u001b[0maxis\u001b[0m\u001b[1;33m=\u001b[0m\u001b[0maxis\u001b[0m\u001b[1;33m,\u001b[0m\u001b[1;33m\u001b[0m\u001b[1;33m\u001b[0m\u001b[0m\n",
      "\u001b[1;32mD:\\ProgramData\\Anaconda3\\envs\\dev_google\\lib\\site-packages\\pandas\\util\\_decorators.py\u001b[0m in \u001b[0;36mwrapper\u001b[1;34m(*args, **kwargs)\u001b[0m\n\u001b[0;32m    329\u001b[0m                     \u001b[0mstacklevel\u001b[0m\u001b[1;33m=\u001b[0m\u001b[0mfind_stack_level\u001b[0m\u001b[1;33m(\u001b[0m\u001b[1;33m)\u001b[0m\u001b[1;33m,\u001b[0m\u001b[1;33m\u001b[0m\u001b[1;33m\u001b[0m\u001b[0m\n\u001b[0;32m    330\u001b[0m                 )\n\u001b[1;32m--> 331\u001b[1;33m             \u001b[1;32mreturn\u001b[0m \u001b[0mfunc\u001b[0m\u001b[1;33m(\u001b[0m\u001b[1;33m*\u001b[0m\u001b[0margs\u001b[0m\u001b[1;33m,\u001b[0m \u001b[1;33m**\u001b[0m\u001b[0mkwargs\u001b[0m\u001b[1;33m)\u001b[0m\u001b[1;33m\u001b[0m\u001b[1;33m\u001b[0m\u001b[0m\n\u001b[0m\u001b[0;32m    332\u001b[0m \u001b[1;33m\u001b[0m\u001b[0m\n\u001b[0;32m    333\u001b[0m         \u001b[1;31m# error: \"Callable[[VarArg(Any), KwArg(Any)], Any]\" has no\u001b[0m\u001b[1;33m\u001b[0m\u001b[1;33m\u001b[0m\u001b[0m\n",
      "\u001b[1;32mD:\\ProgramData\\Anaconda3\\envs\\dev_google\\lib\\site-packages\\pandas\\core\\generic.py\u001b[0m in \u001b[0;36mdrop\u001b[1;34m(self, labels, axis, index, columns, level, inplace, errors)\u001b[0m\n\u001b[0;32m   4503\u001b[0m         \u001b[1;32mfor\u001b[0m \u001b[0maxis\u001b[0m\u001b[1;33m,\u001b[0m \u001b[0mlabels\u001b[0m \u001b[1;32min\u001b[0m \u001b[0maxes\u001b[0m\u001b[1;33m.\u001b[0m\u001b[0mitems\u001b[0m\u001b[1;33m(\u001b[0m\u001b[1;33m)\u001b[0m\u001b[1;33m:\u001b[0m\u001b[1;33m\u001b[0m\u001b[1;33m\u001b[0m\u001b[0m\n\u001b[0;32m   4504\u001b[0m             \u001b[1;32mif\u001b[0m \u001b[0mlabels\u001b[0m \u001b[1;32mis\u001b[0m \u001b[1;32mnot\u001b[0m \u001b[1;32mNone\u001b[0m\u001b[1;33m:\u001b[0m\u001b[1;33m\u001b[0m\u001b[1;33m\u001b[0m\u001b[0m\n\u001b[1;32m-> 4505\u001b[1;33m                 \u001b[0mobj\u001b[0m \u001b[1;33m=\u001b[0m \u001b[0mobj\u001b[0m\u001b[1;33m.\u001b[0m\u001b[0m_drop_axis\u001b[0m\u001b[1;33m(\u001b[0m\u001b[0mlabels\u001b[0m\u001b[1;33m,\u001b[0m \u001b[0maxis\u001b[0m\u001b[1;33m,\u001b[0m \u001b[0mlevel\u001b[0m\u001b[1;33m=\u001b[0m\u001b[0mlevel\u001b[0m\u001b[1;33m,\u001b[0m \u001b[0merrors\u001b[0m\u001b[1;33m=\u001b[0m\u001b[0merrors\u001b[0m\u001b[1;33m)\u001b[0m\u001b[1;33m\u001b[0m\u001b[1;33m\u001b[0m\u001b[0m\n\u001b[0m\u001b[0;32m   4506\u001b[0m \u001b[1;33m\u001b[0m\u001b[0m\n\u001b[0;32m   4507\u001b[0m         \u001b[1;32mif\u001b[0m \u001b[0minplace\u001b[0m\u001b[1;33m:\u001b[0m\u001b[1;33m\u001b[0m\u001b[1;33m\u001b[0m\u001b[0m\n",
      "\u001b[1;32mD:\\ProgramData\\Anaconda3\\envs\\dev_google\\lib\\site-packages\\pandas\\core\\generic.py\u001b[0m in \u001b[0;36m_drop_axis\u001b[1;34m(self, labels, axis, level, errors, only_slice)\u001b[0m\n\u001b[0;32m   4544\u001b[0m                 \u001b[0mnew_axis\u001b[0m \u001b[1;33m=\u001b[0m \u001b[0maxis\u001b[0m\u001b[1;33m.\u001b[0m\u001b[0mdrop\u001b[0m\u001b[1;33m(\u001b[0m\u001b[0mlabels\u001b[0m\u001b[1;33m,\u001b[0m \u001b[0mlevel\u001b[0m\u001b[1;33m=\u001b[0m\u001b[0mlevel\u001b[0m\u001b[1;33m,\u001b[0m \u001b[0merrors\u001b[0m\u001b[1;33m=\u001b[0m\u001b[0merrors\u001b[0m\u001b[1;33m)\u001b[0m\u001b[1;33m\u001b[0m\u001b[1;33m\u001b[0m\u001b[0m\n\u001b[0;32m   4545\u001b[0m             \u001b[1;32melse\u001b[0m\u001b[1;33m:\u001b[0m\u001b[1;33m\u001b[0m\u001b[1;33m\u001b[0m\u001b[0m\n\u001b[1;32m-> 4546\u001b[1;33m                 \u001b[0mnew_axis\u001b[0m \u001b[1;33m=\u001b[0m \u001b[0maxis\u001b[0m\u001b[1;33m.\u001b[0m\u001b[0mdrop\u001b[0m\u001b[1;33m(\u001b[0m\u001b[0mlabels\u001b[0m\u001b[1;33m,\u001b[0m \u001b[0merrors\u001b[0m\u001b[1;33m=\u001b[0m\u001b[0merrors\u001b[0m\u001b[1;33m)\u001b[0m\u001b[1;33m\u001b[0m\u001b[1;33m\u001b[0m\u001b[0m\n\u001b[0m\u001b[0;32m   4547\u001b[0m             \u001b[0mindexer\u001b[0m \u001b[1;33m=\u001b[0m \u001b[0maxis\u001b[0m\u001b[1;33m.\u001b[0m\u001b[0mget_indexer\u001b[0m\u001b[1;33m(\u001b[0m\u001b[0mnew_axis\u001b[0m\u001b[1;33m)\u001b[0m\u001b[1;33m\u001b[0m\u001b[1;33m\u001b[0m\u001b[0m\n\u001b[0;32m   4548\u001b[0m \u001b[1;33m\u001b[0m\u001b[0m\n",
      "\u001b[1;32mD:\\ProgramData\\Anaconda3\\envs\\dev_google\\lib\\site-packages\\pandas\\core\\indexes\\base.py\u001b[0m in \u001b[0;36mdrop\u001b[1;34m(self, labels, errors)\u001b[0m\n\u001b[0;32m   6932\u001b[0m         \u001b[1;32mif\u001b[0m \u001b[0mmask\u001b[0m\u001b[1;33m.\u001b[0m\u001b[0many\u001b[0m\u001b[1;33m(\u001b[0m\u001b[1;33m)\u001b[0m\u001b[1;33m:\u001b[0m\u001b[1;33m\u001b[0m\u001b[1;33m\u001b[0m\u001b[0m\n\u001b[0;32m   6933\u001b[0m             \u001b[1;32mif\u001b[0m \u001b[0merrors\u001b[0m \u001b[1;33m!=\u001b[0m \u001b[1;34m\"ignore\"\u001b[0m\u001b[1;33m:\u001b[0m\u001b[1;33m\u001b[0m\u001b[1;33m\u001b[0m\u001b[0m\n\u001b[1;32m-> 6934\u001b[1;33m                 \u001b[1;32mraise\u001b[0m \u001b[0mKeyError\u001b[0m\u001b[1;33m(\u001b[0m\u001b[1;34mf\"{list(labels[mask])} not found in axis\"\u001b[0m\u001b[1;33m)\u001b[0m\u001b[1;33m\u001b[0m\u001b[1;33m\u001b[0m\u001b[0m\n\u001b[0m\u001b[0;32m   6935\u001b[0m             \u001b[0mindexer\u001b[0m \u001b[1;33m=\u001b[0m \u001b[0mindexer\u001b[0m\u001b[1;33m[\u001b[0m\u001b[1;33m~\u001b[0m\u001b[0mmask\u001b[0m\u001b[1;33m]\u001b[0m\u001b[1;33m\u001b[0m\u001b[1;33m\u001b[0m\u001b[0m\n\u001b[0;32m   6936\u001b[0m         \u001b[1;32mreturn\u001b[0m \u001b[0mself\u001b[0m\u001b[1;33m.\u001b[0m\u001b[0mdelete\u001b[0m\u001b[1;33m(\u001b[0m\u001b[0mindexer\u001b[0m\u001b[1;33m)\u001b[0m\u001b[1;33m\u001b[0m\u001b[1;33m\u001b[0m\u001b[0m\n",
      "\u001b[1;31mKeyError\u001b[0m: \"['open_datetime', 'close_datetime', 'response_datetime', 'resolved_datetime', 'open_to_close', 'response_to_resolved'] not found in axis\""
     ]
    }
   ],
   "source": [
    "for col in numbericCols:\n",
    " df_all=df_all.query(f'{col}!=0')\n",
    "\n",
    "df_all=df_all.drop_duplicates(subset=['id'],keep='first')\n",
    "df_all=df_all.drop(columns=removeCols)\n",
    "\n",
    "df_all['imported_at']=dt_imported\n",
    "\n",
    "df_all.dropna(inplace=True)\n",
    "\n",
    "print(df_all.info())\n",
    "print(df_all.tail())"
   ]
  },
  {
   "cell_type": "code",
   "execution_count": 79,
   "id": "f808705b-f1ac-4238-9b68-233d6bf7ba34",
   "metadata": {},
   "outputs": [],
   "source": [
    "# print(df_all[numbericCols].describe(percentiles=[.9,.75,.50,.25,.10]))"
   ]
  },
  {
   "cell_type": "code",
   "execution_count": 80,
   "id": "8f7f294d-3989-4e69-927e-1e1b23db7f7b",
   "metadata": {},
   "outputs": [],
   "source": [
    "# df_all.to_csv(\"data/New_Incident.csv\",index=False)\n"
   ]
  },
  {
   "cell_type": "code",
   "execution_count": null,
   "id": "9e2546ea-5925-4fb1-bed5-910169343c4f",
   "metadata": {},
   "outputs": [],
   "source": []
  },
  {
   "cell_type": "code",
   "execution_count": 81,
   "id": "25f5e411-6f4c-4b92-a6e1-5ac9055744a5",
   "metadata": {},
   "outputs": [
    {
     "name": "stdout",
     "output_type": "stream",
     "text": [
      "Total  2 Imported igquery successfully\n"
     ]
    }
   ],
   "source": [
    "\n",
    "def loadDataFrameToBQ():\n",
    "    try:\n",
    "        job_config = bigquery.LoadJobConfig(\n",
    "            write_disposition=\"WRITE_APPEND\",\n",
    "        )\n",
    "\n",
    "        job = client.load_table_from_dataframe(\n",
    "            df_all, table_ml_id, job_config=job_config\n",
    "        )\n",
    "        job.result()  # Wait for the job to complete.\n",
    "        print(\"Total \", len(df_all), \"Imported bigquery successfully\")\n",
    "\n",
    "    except BadRequest as e:\n",
    "        print(\"Bigquery Error\\n\")\n",
    "        for e in job.errors:\n",
    "            print('ERROR: {}'.format(e['message']))\n",
    "\n",
    "try:\n",
    "    loadDataFrameToBQ()\n",
    "except Exception as ex:\n",
    "    raise ex\n"
   ]
  },
  {
   "cell_type": "code",
   "execution_count": null,
   "id": "fa3483c1-d9b2-4c3c-8364-1dd379a51873",
   "metadata": {},
   "outputs": [],
   "source": [
    "# return 'ok'"
   ]
  }
 ],
 "metadata": {
  "kernelspec": {
   "display_name": "Python 3 (ipykernel)",
   "language": "python",
   "name": "python3"
  },
  "language_info": {
   "codemirror_mode": {
    "name": "ipython",
    "version": 3
   },
   "file_extension": ".py",
   "mimetype": "text/x-python",
   "name": "python",
   "nbconvert_exporter": "python",
   "pygments_lexer": "ipython3",
   "version": "3.9.16"
  }
 },
 "nbformat": 4,
 "nbformat_minor": 5
}
