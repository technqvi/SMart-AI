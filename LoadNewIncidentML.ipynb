{
 "cells": [
  {
   "cell_type": "code",
   "execution_count": 4,
   "id": "a1ee8b7a-39ed-46f9-ae2f-9106703a6ef8",
   "metadata": {},
   "outputs": [],
   "source": [
    "from google.cloud import bigquery\n",
    "import pandas as pd\n",
    "import numpy as np\n",
    "from datetime import datetime \n",
    "from google.oauth2 import service_account\n",
    "\n",
    "import functions_framework\n",
    "\n",
    "from google.cloud.exceptions import NotFound\n",
    "from google.api_core.exceptions import BadRequest\n",
    "import os\n"
   ]
  },
  {
   "cell_type": "code",
   "execution_count": 5,
   "id": "9a7ca4f1-4eb8-4342-9e5d-a4932e18af8a",
   "metadata": {},
   "outputs": [],
   "source": [
    "# @functions_framework.http\n",
    "# def load_new_incident_ml(request):"
   ]
  },
  {
   "cell_type": "code",
   "execution_count": 6,
   "id": "ca4bd654-bc3f-4550-8a7b-da20db7f1048",
   "metadata": {
    "tags": []
   },
   "outputs": [],
   "source": [
    "projectId='pongthorn'\n",
    "dataset_id='SMartDW'\n",
    "start_date_query=os.environ.get('start_date_query', '2023-04-05')\n",
    "start_date_query='2023-07-01'"
   ]
  },
  {
   "cell_type": "code",
   "execution_count": 7,
   "id": "83836b2e-bd9b-401f-88c6-6ce57a6cf927",
   "metadata": {},
   "outputs": [],
   "source": [
    "table_ml_id = f\"{projectId}.{dataset_id}.new_incident\"\n",
    "table_dw_id=f\"{projectId}.{dataset_id}.incident\"\n",
    "\n",
    "# credentials = service_account.Credentials.from_service_account_file(r'C:\\Windows\\smart-data-ml-91b6f6204773.json')\n",
    "# client = bigquery.Client(credentials=credentials, project=projectId)\n",
    "\n",
    "client = bigquery.Client(project=projectId)"
   ]
  },
  {
   "cell_type": "code",
   "execution_count": 8,
   "id": "5637e899-8932-4033-82b2-0085f44ecb77",
   "metadata": {},
   "outputs": [],
   "source": [
    "# Get Last Upldate from BQ update data\n",
    "dateCols=['open_datetime','close_datetime','response_datetime','resolved_datetime']\n",
    "\n",
    "removeCols=dateCols+['open_to_close','response_to_resolved']\n",
    "\n",
    "numbericCols=['open_to_close_hour','response_to_resolved_hour']\n",
    "cateCols=['sla','product_type','brand','service_type','incident_type']\n",
    "\n",
    "file_name=\"New_Incident.csv\"\n"
   ]
  },
  {
   "cell_type": "code",
   "execution_count": 9,
   "id": "d1eaec42-befe-4b83-b081-3b919bc68549",
   "metadata": {},
   "outputs": [
    {
     "name": "stdout",
     "output_type": "stream",
     "text": [
      "Created table pongthorn.SMartDW.new_incident\n"
     ]
    }
   ],
   "source": [
    "#https://cloud.google.com/bigquery/docs/samples/bigquery-create-table#bigquery_create_table-python\n",
    "\n",
    "try:\n",
    "    client.get_table(table_ml_id)  # Make an API request.\n",
    "    print(\"Table {} already exists.\".format(table_ml_id))\n",
    "except Exception as ex:\n",
    "    schema = [\n",
    "    bigquery.SchemaField(\"id\", \"INTEGER\", mode=\"REQUIRED\"),\n",
    "    bigquery.SchemaField(\"severity_id\", \"INTEGER\", mode=\"REQUIRED\"),\n",
    "    bigquery.SchemaField(\"severity_name\", \"STRING\", mode=\"REQUIRED\"),\n",
    "    bigquery.SchemaField(\"sla\", \"STRING\", mode=\"REQUIRED\"),    \n",
    "    bigquery.SchemaField(\"product_type\", \"STRING\", mode=\"REQUIRED\"),  \n",
    "    bigquery.SchemaField(\"brand\", \"STRING\", mode=\"REQUIRED\"),  \n",
    "    bigquery.SchemaField(\"service_type\", \"STRING\", mode=\"REQUIRED\"),  \n",
    "    bigquery.SchemaField(\"incident_type\", \"STRING\", mode=\"REQUIRED\"),  \n",
    "    bigquery.SchemaField(\"open_to_close_hour\", \"FLOAT\", mode=\"REQUIRED\"),\n",
    "    bigquery.SchemaField(\"response_to_resolved_hour\", \"FLOAT\", mode=\"REQUIRED\"),    \n",
    "    bigquery.SchemaField(\"imported_at\", \"DATETIME\", mode=\"REQUIRED\")    \n",
    "    ]\n",
    "\n",
    "    table = bigquery.Table(table_ml_id,schema=schema)\n",
    "    table.time_partitioning = bigquery.TimePartitioning(\n",
    "    type_=bigquery.TimePartitioningType.DAY,field=\"imported_at\")\n",
    "\n",
    "    \n",
    "    table = client.create_table(table)  # Make an API request.\n",
    "    print(\n",
    "        \"Created table {}.{}.{}\".format(table.project, table.dataset_id, table.table_id)\n",
    "    )\n"
   ]
  },
  {
   "cell_type": "code",
   "execution_count": 10,
   "id": "0ccf11d4-1c0f-4e50-8945-3a5223f3ab24",
   "metadata": {},
   "outputs": [
    {
     "name": "stdout",
     "output_type": "stream",
     "text": [
      "Imported DateTime: 2023-07-04 14:22:50\n",
      "SELECT max(imported_at) as last_imported from `pongthorn.SMartDW.new_incident` \n",
      "Last Imported DateTime: None\n",
      "Init First loading\n",
      "Start Import on update_at of last imported date : 2023-07-01\n"
     ]
    }
   ],
   "source": [
    "dt_imported=datetime.now()\n",
    "str_imported=dt_imported.strftime('%Y-%m-%d %H:%M:%S')\n",
    "print(f\"Imported DateTime: {str_imported}\" )\n",
    "\n",
    "sql_lastImport=f\"SELECT max(imported_at) as last_imported from `{table_ml_id}` \"\n",
    "\n",
    "print(sql_lastImport)\n",
    "\n",
    "job_lastImported=client.query(sql_lastImport)\n",
    "str_lastImported=None\n",
    "for row in job_lastImported:    \n",
    "    if row.last_imported is not None: \n",
    "        str_lastImported=row.last_imported.strftime('%Y-%m-%d %H:%M:%S')\n",
    "print(f\"Last Imported DateTime: {str_lastImported}\" )\n",
    "\n",
    "if str_lastImported is not None:\n",
    "  print(\"Start date from last loading\")  \n",
    "  start_date_query=str_lastImported\n",
    "else:\n",
    "  print(\"Init First loading\")  \n",
    "\n",
    "\n",
    "print(f\"Start Import on update_at of last imported date : {start_date_query}\" )\n"
   ]
  },
  {
   "cell_type": "code",
   "execution_count": 11,
   "id": "dc90e569-c293-4219-ace5-3792ad96382d",
   "metadata": {},
   "outputs": [
    {
     "name": "stdout",
     "output_type": "stream",
     "text": [
      "\n",
      "SELECT  id,\n",
      "severity_id,severity_name,sla,\n",
      "product_type,brand,service_type,incident_type,\n",
      "open_datetime,  close_datetime, response_datetime,resolved_datetime\n",
      "FROM `pongthorn.SMartDW.incident` \n",
      "WHERE imported_at>'2023-07-01'\n",
      "order by imported_at\n",
      "\n",
      "<class 'pandas.core.frame.DataFrame'>\n",
      "Int64Index: 179 entries, 0 to 178\n",
      "Data columns (total 12 columns):\n",
      " #   Column             Non-Null Count  Dtype         \n",
      "---  ------             --------------  -----         \n",
      " 0   id                 179 non-null    Int64         \n",
      " 1   severity_id        179 non-null    Int64         \n",
      " 2   severity_name      179 non-null    object        \n",
      " 3   sla                179 non-null    object        \n",
      " 4   product_type       179 non-null    object        \n",
      " 5   brand              179 non-null    object        \n",
      " 6   service_type       179 non-null    object        \n",
      " 7   incident_type      179 non-null    object        \n",
      " 8   open_datetime      179 non-null    datetime64[ns]\n",
      " 9   close_datetime     179 non-null    datetime64[ns]\n",
      " 10  response_datetime  179 non-null    datetime64[ns]\n",
      " 11  resolved_datetime  179 non-null    datetime64[ns]\n",
      "dtypes: Int64(2), datetime64[ns](4), object(6)\n",
      "memory usage: 18.5+ KB\n",
      "None\n"
     ]
    },
    {
     "data": {
      "text/html": [
       "<div>\n",
       "<style scoped>\n",
       "    .dataframe tbody tr th:only-of-type {\n",
       "        vertical-align: middle;\n",
       "    }\n",
       "\n",
       "    .dataframe tbody tr th {\n",
       "        vertical-align: top;\n",
       "    }\n",
       "\n",
       "    .dataframe thead th {\n",
       "        text-align: right;\n",
       "    }\n",
       "</style>\n",
       "<table border=\"1\" class=\"dataframe\">\n",
       "  <thead>\n",
       "    <tr style=\"text-align: right;\">\n",
       "      <th></th>\n",
       "      <th>id</th>\n",
       "      <th>severity_id</th>\n",
       "      <th>severity_name</th>\n",
       "      <th>sla</th>\n",
       "      <th>product_type</th>\n",
       "      <th>brand</th>\n",
       "      <th>service_type</th>\n",
       "      <th>incident_type</th>\n",
       "      <th>open_datetime</th>\n",
       "      <th>close_datetime</th>\n",
       "      <th>response_datetime</th>\n",
       "      <th>resolved_datetime</th>\n",
       "    </tr>\n",
       "  </thead>\n",
       "  <tbody>\n",
       "    <tr>\n",
       "      <th>0</th>\n",
       "      <td>2894</td>\n",
       "      <td>1</td>\n",
       "      <td>Critical</td>\n",
       "      <td>24x7 4Hrs Resolution Time</td>\n",
       "      <td>Server</td>\n",
       "      <td>Oracle</td>\n",
       "      <td>Incident</td>\n",
       "      <td>System Board Failure</td>\n",
       "      <td>2023-05-23 08:08:00</td>\n",
       "      <td>2023-05-24 21:16:00</td>\n",
       "      <td>2023-05-23 09:05:00</td>\n",
       "      <td>2023-05-24 21:16:00</td>\n",
       "    </tr>\n",
       "    <tr>\n",
       "      <th>1</th>\n",
       "      <td>2952</td>\n",
       "      <td>1</td>\n",
       "      <td>Critical</td>\n",
       "      <td>8x5 4Hrs Response Time</td>\n",
       "      <td>Server</td>\n",
       "      <td>QNAP</td>\n",
       "      <td>Incident</td>\n",
       "      <td>Controller/Node Failure</td>\n",
       "      <td>2023-06-19 13:16:00</td>\n",
       "      <td>2023-06-22 18:57:00</td>\n",
       "      <td>2023-06-19 13:39:00</td>\n",
       "      <td>2023-06-21 22:50:00</td>\n",
       "    </tr>\n",
       "    <tr>\n",
       "      <th>2</th>\n",
       "      <td>2708</td>\n",
       "      <td>1</td>\n",
       "      <td>Critical</td>\n",
       "      <td>24x7 4Hrs Resolution Time</td>\n",
       "      <td>Server</td>\n",
       "      <td>HPE</td>\n",
       "      <td>Incident</td>\n",
       "      <td>Upgrade Software</td>\n",
       "      <td>2023-04-26 06:00:00</td>\n",
       "      <td>2023-06-10 11:00:00</td>\n",
       "      <td>2023-04-26 06:00:00</td>\n",
       "      <td>2023-06-09 18:00:00</td>\n",
       "    </tr>\n",
       "    <tr>\n",
       "      <th>3</th>\n",
       "      <td>2815</td>\n",
       "      <td>1</td>\n",
       "      <td>Critical</td>\n",
       "      <td>24x7 4Hrs Response Time</td>\n",
       "      <td>Storage</td>\n",
       "      <td>Veritas</td>\n",
       "      <td>Incident</td>\n",
       "      <td>Backup Failure</td>\n",
       "      <td>2023-05-23 06:52:00</td>\n",
       "      <td>2023-05-24 15:45:00</td>\n",
       "      <td>2023-05-23 07:12:00</td>\n",
       "      <td>2023-05-23 21:00:00</td>\n",
       "    </tr>\n",
       "    <tr>\n",
       "      <th>4</th>\n",
       "      <td>2939</td>\n",
       "      <td>2</td>\n",
       "      <td>Major</td>\n",
       "      <td>24x7 6Hrs Resolution Time</td>\n",
       "      <td>Storage</td>\n",
       "      <td>YIP</td>\n",
       "      <td>Request</td>\n",
       "      <td>General Incident</td>\n",
       "      <td>2023-06-14 14:10:00</td>\n",
       "      <td>2023-06-15 01:30:00</td>\n",
       "      <td>2023-06-15 01:30:00</td>\n",
       "      <td>2023-06-15 01:30:00</td>\n",
       "    </tr>\n",
       "  </tbody>\n",
       "</table>\n",
       "</div>"
      ],
      "text/plain": [
       "     id  severity_id severity_name                        sla product_type  \\\n",
       "0  2894            1      Critical  24x7 4Hrs Resolution Time       Server   \n",
       "1  2952            1      Critical     8x5 4Hrs Response Time       Server   \n",
       "2  2708            1      Critical  24x7 4Hrs Resolution Time       Server   \n",
       "3  2815            1      Critical    24x7 4Hrs Response Time      Storage   \n",
       "4  2939            2         Major  24x7 6Hrs Resolution Time      Storage   \n",
       "\n",
       "     brand service_type            incident_type       open_datetime  \\\n",
       "0   Oracle     Incident     System Board Failure 2023-05-23 08:08:00   \n",
       "1     QNAP     Incident  Controller/Node Failure 2023-06-19 13:16:00   \n",
       "2      HPE     Incident         Upgrade Software 2023-04-26 06:00:00   \n",
       "3  Veritas     Incident           Backup Failure 2023-05-23 06:52:00   \n",
       "4      YIP      Request         General Incident 2023-06-14 14:10:00   \n",
       "\n",
       "       close_datetime   response_datetime   resolved_datetime  \n",
       "0 2023-05-24 21:16:00 2023-05-23 09:05:00 2023-05-24 21:16:00  \n",
       "1 2023-06-22 18:57:00 2023-06-19 13:39:00 2023-06-21 22:50:00  \n",
       "2 2023-06-10 11:00:00 2023-04-26 06:00:00 2023-06-09 18:00:00  \n",
       "3 2023-05-24 15:45:00 2023-05-23 07:12:00 2023-05-23 21:00:00  \n",
       "4 2023-06-15 01:30:00 2023-06-15 01:30:00 2023-06-15 01:30:00  "
      ]
     },
     "execution_count": 11,
     "metadata": {},
     "output_type": "execute_result"
    }
   ],
   "source": [
    "sql=f\"\"\"\n",
    "SELECT  id,\n",
    "severity_id,severity_name,sla,\n",
    "product_type,brand,service_type,incident_type,\n",
    "open_datetime,  close_datetime, response_datetime,resolved_datetime\n",
    "FROM `{table_dw_id}` \n",
    "WHERE imported_at>'{start_date_query}'\n",
    "order by imported_at\n",
    "\"\"\"\n",
    "#WHERE imported_at>='{start_date_query}' and imported_at<='2023-03-24'\n",
    "#WHERE imported_at>='{start_date_query}'\n",
    "\n",
    "print(sql)\n",
    "\n",
    "query_result=client.query(sql)\n",
    "df_all=query_result.to_dataframe()\n",
    "df_all=df_all.drop_duplicates(subset=['id'],keep='last')\n",
    "print(df_all.info())\n",
    "df_all.head()"
   ]
  },
  {
   "cell_type": "code",
   "execution_count": 30,
   "id": "3ebd31f4-9049-474f-aef7-4b8f46534b9e",
   "metadata": {},
   "outputs": [],
   "source": [
    "if len(df_all)==0:\n",
    " print(\"No record to load\")   \n",
    " # return \"No record to load\"  "
   ]
  },
  {
   "cell_type": "code",
   "execution_count": 31,
   "id": "3a635248-2316-4280-ac1a-25d334b0c1aa",
   "metadata": {},
   "outputs": [],
   "source": [
    "start_end_list=[ ['open_datetime','close_datetime'],['response_datetime','resolved_datetime']]\n",
    "listDiffDateDeltaCols=[]\n",
    "listDiffHourCols=[]\n",
    "for item  in  start_end_list:\n",
    "   diff_str=f\"{item[0]}_to_{item[1]}\" \n",
    "   diff_str=diff_str.replace('_datetime','')  \n",
    "   listDiffDateDeltaCols.append(diff_str)\n",
    "   df_all[diff_str]=df_all[item[1]]-df_all[item[0]]\n",
    "    \n",
    "   diff_hour=f'{diff_str}_hour'\n",
    "   listDiffHourCols.append(diff_hour)\n",
    "   df_all[diff_hour] = df_all[diff_str].apply(lambda x:  x.total_seconds() / (60*60) if x is not np.nan else np.nan  )\n"
   ]
  },
  {
   "cell_type": "code",
   "execution_count": 32,
   "id": "bab5415e-8cc3-4214-a852-6925d6bd3004",
   "metadata": {},
   "outputs": [
    {
     "name": "stdout",
     "output_type": "stream",
     "text": [
      "<class 'pandas.core.frame.DataFrame'>\n",
      "Int64Index: 48 entries, 0 to 54\n",
      "Data columns (total 11 columns):\n",
      " #   Column                     Non-Null Count  Dtype         \n",
      "---  ------                     --------------  -----         \n",
      " 0   id                         48 non-null     Int64         \n",
      " 1   severity_id                48 non-null     Int64         \n",
      " 2   severity_name              48 non-null     object        \n",
      " 3   sla                        48 non-null     object        \n",
      " 4   product_type               48 non-null     object        \n",
      " 5   brand                      48 non-null     object        \n",
      " 6   service_type               48 non-null     object        \n",
      " 7   incident_type              48 non-null     object        \n",
      " 8   open_to_close_hour         48 non-null     float64       \n",
      " 9   response_to_resolved_hour  48 non-null     float64       \n",
      " 10  imported_at                48 non-null     datetime64[ns]\n",
      "dtypes: Int64(2), datetime64[ns](1), float64(2), object(6)\n",
      "memory usage: 4.6+ KB\n",
      "None\n",
      "      id  severity_id severity_name                        sla product_type  \\\n",
      "50  2606            4      Cosmatic  24x7 6Hrs Resolution Time      Storage   \n",
      "51  2323            4      Cosmatic    24x7 4Hrs Response Time      Storage   \n",
      "52  2628            4      Cosmatic    24x7 4Hrs Response Time      Storage   \n",
      "53  2627            4      Cosmatic    24x7 4Hrs Response Time      Storage   \n",
      "54  2597            4      Cosmatic    24x7 4Hrs Response Time     Software   \n",
      "\n",
      "     brand service_type     incident_type  open_to_close_hour  \\\n",
      "50     YIP      Request     OS / Firmware            4.700000   \n",
      "51  NetApp      Request          Software         1362.166667   \n",
      "52  NetApp      Request  Upgrade Software           13.000000   \n",
      "53  NetApp      Request  Upgrade Software           12.000000   \n",
      "54  VMWare      Request  General Incident            3.516667   \n",
      "\n",
      "    response_to_resolved_hour                imported_at  \n",
      "50                   4.400000 2023-04-17 22:37:26.120221  \n",
      "51                1362.166667 2023-04-17 22:37:26.120221  \n",
      "52                  13.000000 2023-04-17 22:37:26.120221  \n",
      "53                  12.000000 2023-04-17 22:37:26.120221  \n",
      "54                   3.433333 2023-04-17 22:37:26.120221  \n"
     ]
    }
   ],
   "source": [
    "for col in numbericCols:\n",
    " df_all=df_all.query(f'{col}!=0')\n",
    "\n",
    "# get only last update of id\n",
    "df_all=df_all.drop_duplicates(subset=['id'],keep='first')\n",
    "df_all=df_all.drop(columns=removeCols)\n",
    "\n",
    "df_all['imported_at']=dt_imported\n",
    "\n",
    "df_all.dropna(inplace=True)\n",
    "\n",
    "print(df_all.info())\n",
    "print(df_all.tail())"
   ]
  },
  {
   "cell_type": "code",
   "execution_count": 19,
   "id": "f808705b-f1ac-4238-9b68-233d6bf7ba34",
   "metadata": {},
   "outputs": [],
   "source": [
    "# print(df_all[numbericCols].describe(percentiles=[.9,.75,.50,.25,.10]))"
   ]
  },
  {
   "cell_type": "code",
   "execution_count": 20,
   "id": "8f7f294d-3989-4e69-927e-1e1b23db7f7b",
   "metadata": {},
   "outputs": [],
   "source": [
    "# df_all.to_csv(\"data/New_Incident.csv\",index=False)\n"
   ]
  },
  {
   "cell_type": "code",
   "execution_count": null,
   "id": "9e2546ea-5925-4fb1-bed5-910169343c4f",
   "metadata": {},
   "outputs": [],
   "source": []
  },
  {
   "cell_type": "code",
   "execution_count": 21,
   "id": "25f5e411-6f4c-4b92-a6e1-5ac9055744a5",
   "metadata": {},
   "outputs": [
    {
     "name": "stdout",
     "output_type": "stream",
     "text": [
      "Total  48 Imported bigquery successfully\n"
     ]
    }
   ],
   "source": [
    "\n",
    "def loadDataFrameToBQ():\n",
    "    try:\n",
    "        job_config = bigquery.LoadJobConfig(\n",
    "            write_disposition=\"WRITE_APPEND\",\n",
    "        )\n",
    "\n",
    "        job = client.load_table_from_dataframe(\n",
    "            df_all, table_ml_id, job_config=job_config\n",
    "        )\n",
    "        job.result()  # Wait for the job to complete.\n",
    "        print(\"Total \", len(df_all), \"Imported bigquery successfully\")\n",
    "\n",
    "    except BadRequest as e:\n",
    "        print(\"Bigquery Error\\n\")\n",
    "        for e in job.errors:\n",
    "            print('ERROR: {}'.format(e['message']))\n",
    "\n",
    "try:\n",
    "    loadDataFrameToBQ()\n",
    "except Exception as ex:\n",
    "    raise ex\n"
   ]
  },
  {
   "cell_type": "code",
   "execution_count": null,
   "id": "fa3483c1-d9b2-4c3c-8364-1dd379a51873",
   "metadata": {},
   "outputs": [],
   "source": [
    "# return 'ok'"
   ]
  },
  {
   "cell_type": "code",
   "execution_count": null,
   "id": "cef25789-08b7-49f6-ae3c-ea081af1b51a",
   "metadata": {},
   "outputs": [],
   "source": [
    "# if __name__ == \"__main__\":\n",
    "#  result=load_new_incident_ml_to_bq(None)\n",
    "#  print(result)"
   ]
  }
 ],
 "metadata": {
  "kernelspec": {
   "display_name": "Python 3 (ipykernel)",
   "language": "python",
   "name": "python3"
  },
  "language_info": {
   "codemirror_mode": {
    "name": "ipython",
    "version": 3
   },
   "file_extension": ".py",
   "mimetype": "text/x-python",
   "name": "python",
   "nbconvert_exporter": "python",
   "pygments_lexer": "ipython3",
   "version": "3.9.16"
  }
 },
 "nbformat": 4,
 "nbformat_minor": 5
}
