{
 "cells": [
  {
   "cell_type": "code",
   "execution_count": 1,
   "id": "8fecb5f8-45bb-4a14-9446-37fd90d381e8",
   "metadata": {},
   "outputs": [],
   "source": [
    "from google.cloud import bigquery\n",
    "from google.cloud import storage\n",
    "#https://ruddra.com/tfrecords-pandas/"
   ]
  },
  {
   "cell_type": "code",
   "execution_count": 10,
   "id": "67dac8e7-5a44-464a-9169-8b110564451e",
   "metadata": {},
   "outputs": [
    {
     "name": "stdout",
     "output_type": "stream",
     "text": [
      "<class 'pandas.core.frame.DataFrame'>\n",
      "RangeIndex: 10 entries, 0 to 9\n",
      "Data columns (total 2 columns):\n",
      " #   Column        Non-Null Count  Dtype \n",
      "---  ------        --------------  ----- \n",
      " 0   company       10 non-null     object\n",
      " 1   count_detail  10 non-null     Int64 \n",
      "dtypes: Int64(1), object(1)\n",
      "memory usage: 298.0+ bytes\n"
     ]
    },
    {
     "data": {
      "text/html": [
       "<div>\n",
       "<style scoped>\n",
       "    .dataframe tbody tr th:only-of-type {\n",
       "        vertical-align: middle;\n",
       "    }\n",
       "\n",
       "    .dataframe tbody tr th {\n",
       "        vertical-align: top;\n",
       "    }\n",
       "\n",
       "    .dataframe thead th {\n",
       "        text-align: right;\n",
       "    }\n",
       "</style>\n",
       "<table border=\"1\" class=\"dataframe\">\n",
       "  <thead>\n",
       "    <tr style=\"text-align: right;\">\n",
       "      <th></th>\n",
       "      <th>company</th>\n",
       "      <th>count_detail</th>\n",
       "    </tr>\n",
       "  </thead>\n",
       "  <tbody>\n",
       "    <tr>\n",
       "      <th>0</th>\n",
       "      <td>INET-(NetApp and Non HPE)</td>\n",
       "      <td>3</td>\n",
       "    </tr>\n",
       "    <tr>\n",
       "      <th>1</th>\n",
       "      <td>INET-(NetApp and Non HPE)</td>\n",
       "      <td>3</td>\n",
       "    </tr>\n",
       "    <tr>\n",
       "      <th>2</th>\n",
       "      <td>KTBCS</td>\n",
       "      <td>4</td>\n",
       "    </tr>\n",
       "    <tr>\n",
       "      <th>3</th>\n",
       "      <td>KTBCS</td>\n",
       "      <td>14</td>\n",
       "    </tr>\n",
       "    <tr>\n",
       "      <th>4</th>\n",
       "      <td>KTBCS</td>\n",
       "      <td>2</td>\n",
       "    </tr>\n",
       "  </tbody>\n",
       "</table>\n",
       "</div>"
      ],
      "text/plain": [
       "                     company  count_detail\n",
       "0  INET-(NetApp and Non HPE)             3\n",
       "1  INET-(NetApp and Non HPE)             3\n",
       "2                      KTBCS             4\n",
       "3                      KTBCS            14\n",
       "4                      KTBCS             2"
      ]
     },
     "execution_count": 10,
     "metadata": {},
     "output_type": "execute_result"
    }
   ],
   "source": [
    "client_bq = bigquery.Client()\n",
    "\n",
    "sql = \"\"\"\n",
    "\n",
    " SELECT  company,count_detail\n",
    " FROM `pongthorn.SMartDW.incident` \n",
    " WHERE DATE(open_datetime) > \"2023-02-01\" order by updated_at desc LIMIT 10\n",
    "\"\"\"\n",
    "\n",
    "query_result=client_bq.query(sql)\n",
    "df=query_result.to_dataframe()\n",
    "df.info()\n",
    "df.head()"
   ]
  },
  {
   "cell_type": "code",
   "execution_count": 13,
   "id": "f44751dc-cf8c-47c6-a9a9-7cfb70163833",
   "metadata": {},
   "outputs": [],
   "source": [
    "import tensorflow as tf\n",
    "\n",
    "def create_tf_records_example(features):\n",
    "    tf_example = tf.train.Example(\n",
    "        features=tf.train.Features(feature={\n",
    "            'company': tf.train.Feature(bytes_list=tf.train.BytesList(\n",
    "                value=[features[0].encode('utf-8')])),\n",
    "            'count_detail': tf.train.Feature(float_list=tf.train.FeatureLists(\n",
    "                value=[features[1]])),\n",
    "    }))\n",
    "    return tf_example"
   ]
  },
  {
   "cell_type": "code",
   "execution_count": 14,
   "id": "a961f745-fa81-448e-a9af-2df8ff69ea6c",
   "metadata": {},
   "outputs": [
    {
     "ename": "ValueError",
     "evalue": "Protocol message FeatureLists has no \"value\" field.",
     "output_type": "error",
     "traceback": [
      "\u001b[1;31m---------------------------------------------------------------------------\u001b[0m",
      "\u001b[1;31mValueError\u001b[0m                                Traceback (most recent call last)",
      "Cell \u001b[1;32mIn[14], line 4\u001b[0m\n\u001b[0;32m      1\u001b[0m writer \u001b[38;5;241m=\u001b[39m tf\u001b[38;5;241m.\u001b[39mio\u001b[38;5;241m.\u001b[39mTFRecordWriter(\u001b[38;5;124m\"\u001b[39m\u001b[38;5;124mincident_tfrecords.tfrecords\u001b[39m\u001b[38;5;124m\"\u001b[39m)\n\u001b[0;32m      2\u001b[0m \u001b[38;5;28;01mfor\u001b[39;00m row \u001b[38;5;129;01min\u001b[39;00m df\u001b[38;5;241m.\u001b[39mvalues:\n\u001b[0;32m      3\u001b[0m     \u001b[38;5;66;03m# print(row)\u001b[39;00m\n\u001b[1;32m----> 4\u001b[0m     example \u001b[38;5;241m=\u001b[39m \u001b[43mcreate_tf_records_example\u001b[49m\u001b[43m(\u001b[49m\u001b[43mrow\u001b[49m\u001b[43m)\u001b[49m\n\u001b[0;32m      5\u001b[0m     writer\u001b[38;5;241m.\u001b[39mwrite(example\u001b[38;5;241m.\u001b[39mSerializeToString())\n",
      "Cell \u001b[1;32mIn[13], line 8\u001b[0m, in \u001b[0;36mcreate_tf_records_example\u001b[1;34m(features)\u001b[0m\n\u001b[0;32m      3\u001b[0m \u001b[38;5;28;01mdef\u001b[39;00m \u001b[38;5;21mcreate_tf_records_example\u001b[39m(features):\n\u001b[0;32m      4\u001b[0m     tf_example \u001b[38;5;241m=\u001b[39m tf\u001b[38;5;241m.\u001b[39mtrain\u001b[38;5;241m.\u001b[39mExample(\n\u001b[0;32m      5\u001b[0m         features\u001b[38;5;241m=\u001b[39mtf\u001b[38;5;241m.\u001b[39mtrain\u001b[38;5;241m.\u001b[39mFeatures(feature\u001b[38;5;241m=\u001b[39m{\n\u001b[0;32m      6\u001b[0m             \u001b[38;5;124m'\u001b[39m\u001b[38;5;124mcompany\u001b[39m\u001b[38;5;124m'\u001b[39m: tf\u001b[38;5;241m.\u001b[39mtrain\u001b[38;5;241m.\u001b[39mFeature(bytes_list\u001b[38;5;241m=\u001b[39mtf\u001b[38;5;241m.\u001b[39mtrain\u001b[38;5;241m.\u001b[39mBytesList(\n\u001b[0;32m      7\u001b[0m                 value\u001b[38;5;241m=\u001b[39m[features[\u001b[38;5;241m0\u001b[39m]\u001b[38;5;241m.\u001b[39mencode(\u001b[38;5;124m'\u001b[39m\u001b[38;5;124mutf-8\u001b[39m\u001b[38;5;124m'\u001b[39m)])),\n\u001b[1;32m----> 8\u001b[0m             \u001b[38;5;124m'\u001b[39m\u001b[38;5;124mcount_detail\u001b[39m\u001b[38;5;124m'\u001b[39m: tf\u001b[38;5;241m.\u001b[39mtrain\u001b[38;5;241m.\u001b[39mFeature(float_list\u001b[38;5;241m=\u001b[39m\u001b[43mtf\u001b[49m\u001b[38;5;241;43m.\u001b[39;49m\u001b[43mtrain\u001b[49m\u001b[38;5;241;43m.\u001b[39;49m\u001b[43mFeatureLists\u001b[49m\u001b[43m(\u001b[49m\n\u001b[0;32m      9\u001b[0m \u001b[43m                \u001b[49m\u001b[43mvalue\u001b[49m\u001b[38;5;241;43m=\u001b[39;49m\u001b[43m[\u001b[49m\u001b[43mfeatures\u001b[49m\u001b[43m[\u001b[49m\u001b[38;5;241;43m1\u001b[39;49m\u001b[43m]\u001b[49m\u001b[43m]\u001b[49m\u001b[43m)\u001b[49m),\n\u001b[0;32m     10\u001b[0m     }))\n\u001b[0;32m     11\u001b[0m     \u001b[38;5;28;01mreturn\u001b[39;00m tf_example\n",
      "\u001b[1;31mValueError\u001b[0m: Protocol message FeatureLists has no \"value\" field."
     ]
    }
   ],
   "source": [
    "writer = tf.io.TFRecordWriter(\"incident_tfrecords.tfrecords\")\n",
    "for row in df.values:\n",
    "    # print(row)\n",
    "    example = create_tf_records_example(row)\n",
    "    writer.write(example.SerializeToString())"
   ]
  },
  {
   "cell_type": "code",
   "execution_count": null,
   "id": "d44309cd-19d9-456e-86fc-fc1b757bc64d",
   "metadata": {},
   "outputs": [],
   "source": []
  }
 ],
 "metadata": {
  "kernelspec": {
   "display_name": "Python 3 (ipykernel)",
   "language": "python",
   "name": "python3"
  },
  "language_info": {
   "codemirror_mode": {
    "name": "ipython",
    "version": 3
   },
   "file_extension": ".py",
   "mimetype": "text/x-python",
   "name": "python",
   "nbconvert_exporter": "python",
   "pygments_lexer": "ipython3",
   "version": "3.9.12"
  }
 },
 "nbformat": 4,
 "nbformat_minor": 5
}
