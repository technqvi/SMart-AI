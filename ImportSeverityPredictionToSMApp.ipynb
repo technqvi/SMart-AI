{
 "cells": [
  {
   "cell_type": "code",
   "execution_count": 46,
   "id": "cce56c57-71a1-4db8-9873-696413f6baa6",
   "metadata": {},
   "outputs": [],
   "source": [
    "from google.cloud import bigquery\n",
    "import pandas as pd\n",
    "from datetime import date,datetime,timedelta,timezone\n",
    "from google.cloud import bigquery\n",
    "from google.oauth2 import service_account\n",
    "from dotenv import dotenv_values\n",
    "from datetime import datetime ,timezone\n",
    "import sys"
   ]
  },
  {
   "cell_type": "code",
   "execution_count": 47,
   "id": "17613c1e-9ffa-4467-861b-672b1de4aace",
   "metadata": {},
   "outputs": [
    {
     "name": "stdout",
     "output_type": "stream",
     "text": [
      "Get prediction as of 2023-07-22 00:00:00(UTC) at 2023-07-22 23:53:34.166869(Asian/BKK)-2023-07-22 16:53:34.166869+00:00(UTC)\n"
     ]
    }
   ],
   "source": [
    "load_from=''\n",
    "\n",
    "is_py=False\n",
    "modelType='multi'\n",
    "#modelType='binary'\n",
    "\n",
    "\n",
    "projectId='smart-data-ml'\n",
    "dataset_id='SMartML'\n",
    "\n",
    "\n",
    "imported_at_utc=datetime.now(timezone.utc)\n",
    "imported_at= datetime.now()\n",
    "\n",
    "today_str=imported_at_utc.strftime(\"%Y-%m-%d\")\n",
    "predict_datetime = datetime.strptime(today_str,\"%Y-%m-%d\")\n",
    "\n",
    "print(f\"Get prediction as of {predict_datetime}(UTC) at {imported_at}(Asian/BKK)-{imported_at_utc}(UTC)\")\n",
    "\n",
    "env_path=r'D:\\PythonDev\\MyQuantFinProject\\SMart-AI\\.env'\n",
    "config = dotenv_values(dotenv_path=env_path)"
   ]
  },
  {
   "cell_type": "code",
   "execution_count": 48,
   "id": "0c91bd23-499b-4f76-a1d7-9464eeea86f6",
   "metadata": {},
   "outputs": [],
   "source": [
    "if is_py:\n",
    "    press_Y=''\n",
    "    ok=False\n",
    "\n",
    "    if len(sys.argv) > 1:\n",
    "        modelType=sys.argv[1]\n",
    "        ok=True \n",
    "    else:\n",
    "        print(\"Enter the following input: \")\n",
    "        modelType = input(\"Type (multi,binary): \")\n",
    "        load_from = input(\"Load From (2023-07-20) : \")\n",
    "\n",
    "        print(f\"Confirm to {modelType} and {datetime.strptime(load_from,'%Y-%m-%d')}\")\n",
    "        press_Y=input(f\"Press Y=True But any key=False : \") \n",
    "        if press_Y=='Y':\n",
    "         ok=True\n",
    "        \n",
    "    if modelType not in ['binary','multi']:\n",
    "        raise Exception(\"model type must be binary or multi\")\n",
    "\n",
    "    if ok==False:\n",
    "        print(\"No any action\")\n",
    "        quit()\n",
    "    "
   ]
  },
  {
   "cell_type": "code",
   "execution_count": 49,
   "id": "7fc89a06-fe9b-4ba5-9dc3-3cdb9f0b9ff8",
   "metadata": {},
   "outputs": [
    {
     "name": "stdout",
     "output_type": "stream",
     "text": [
      "multi : model_v2_t150723\n",
      "smart-data-ml.SMartML.new_result_prediction_incident to app_prediction_ml_severity_incident\n",
      "\n",
      "    select id,predict_severity,prediction_item_date from smart-data-ml.SMartML.new_result_prediction_incident \n",
      "     where Date(prediction_datetime)='2023-07-22' \n"
     ]
    }
   ],
   "source": [
    "if modelType=='multi':\n",
    "  \n",
    " model_version='model_v2_t150723'\n",
    " table_id = f\"{projectId}.{dataset_id}.new_result_prediction_incident\"\n",
    " sm_table=\"app_prediction_ml_severity_incident\"   \n",
    " if load_from!='':\n",
    "    sql=f\"\"\" select id,predict_severity,prediction_item_date from {table_id} \n",
    "    where Date(prediction_datetime)>='{load_from}' \"\"\"\n",
    " else:\n",
    "    sql=f\"\"\"\n",
    "    select id,predict_severity,prediction_item_date from {table_id} \n",
    "     where Date(prediction_datetime)='{today_str}' \"\"\"   \n",
    "    \n",
    "elif modelType=='binary':\n",
    " model_version='tuned_binary_xgb_tf_model_v1_t150723'    \n",
    " table_id = f\"{projectId}.{dataset_id}.new2_result_binary_prediction_incident\"   \n",
    " sm_table=\"app_prediction_ml2_everity_incident\"      \n",
    " if load_from!='':\n",
    "    sql=f\"\"\" select id,label_binary_severity,prediction_item_date from {table_id} \n",
    "    where Date(prediction_datetime)>='{load_from}' \"\"\"\n",
    " else:\n",
    "    sql=f\"\"\"\n",
    "    select id,label_binary_severity,prediction_item_date from {table_id} \n",
    "    where Date(prediction_datetime)='{today_str}' \"\"\"   \n",
    "       \n",
    "\n",
    "print(f\"{modelType} : {model_version}\")\n",
    "print(f\"{table_id } to { sm_table}\")\n",
    "print(sql)\n",
    "    \n"
   ]
  },
  {
   "cell_type": "code",
   "execution_count": 50,
   "id": "57b5a2bf-1928-4e76-904d-0f586c7ef999",
   "metadata": {},
   "outputs": [],
   "source": [
    "credentials = service_account.Credentials.from_service_account_file(r'C:\\Windows\\smart-data-ml-91b6f6204773.json')\n",
    "client = bigquery.Client(credentials= credentials,project=projectId)"
   ]
  },
  {
   "cell_type": "code",
   "execution_count": null,
   "id": "70ee6486-77e1-4cce-a3d5-c0edbff782fc",
   "metadata": {},
   "outputs": [],
   "source": []
  },
  {
   "cell_type": "code",
   "execution_count": 51,
   "id": "fbb78d62-5704-46cc-9c35-f9fc3c0af632",
   "metadata": {},
   "outputs": [],
   "source": [
    "def load_data_bq(sql:str):\n",
    "\n",
    " query_result=client.query(sql)\n",
    " df_all=query_result.to_dataframe()\n",
    " return df_all\n",
    "\n"
   ]
  },
  {
   "cell_type": "code",
   "execution_count": 52,
   "id": "7e1a1aa3-29f2-4eb9-85cd-fe79da1fa71f",
   "metadata": {},
   "outputs": [],
   "source": [
    "df=load_data_bq(sql)\n",
    "if len(df)>0:\n",
    "    df.columns=['incident_id','severity_label','prediction_at']\n",
    "else:\n",
    "    quit()"
   ]
  },
  {
   "cell_type": "code",
   "execution_count": 53,
   "id": "48503275-c2de-49fe-a44d-340a17d7ea14",
   "metadata": {},
   "outputs": [
    {
     "name": "stdout",
     "output_type": "stream",
     "text": [
      "Map severity Name to LabelCode: {0: 'Cosmetic', 1: 'Minor', 2: 'Major', 3: 'Critical'}\n",
      "<class 'pandas.core.frame.DataFrame'>\n",
      "RangeIndex: 2 entries, 0 to 1\n",
      "Data columns (total 6 columns):\n",
      " #   Column          Non-Null Count  Dtype         \n",
      "---  ------          --------------  -----         \n",
      " 0   incident_id     2 non-null      Int64         \n",
      " 1   severity_label  2 non-null      Int64         \n",
      " 2   prediction_at   2 non-null      datetime64[ns]\n",
      " 3   severity_name   2 non-null      object        \n",
      " 4   imported_at     2 non-null      datetime64[ns]\n",
      " 5   model_version   2 non-null      object        \n",
      "dtypes: Int64(2), datetime64[ns](2), object(2)\n",
      "memory usage: 228.0+ bytes\n",
      "None\n"
     ]
    },
    {
     "data": {
      "text/html": [
       "<div>\n",
       "<style scoped>\n",
       "    .dataframe tbody tr th:only-of-type {\n",
       "        vertical-align: middle;\n",
       "    }\n",
       "\n",
       "    .dataframe tbody tr th {\n",
       "        vertical-align: top;\n",
       "    }\n",
       "\n",
       "    .dataframe thead th {\n",
       "        text-align: right;\n",
       "    }\n",
       "</style>\n",
       "<table border=\"1\" class=\"dataframe\">\n",
       "  <thead>\n",
       "    <tr style=\"text-align: right;\">\n",
       "      <th></th>\n",
       "      <th>incident_id</th>\n",
       "      <th>severity_label</th>\n",
       "      <th>prediction_at</th>\n",
       "      <th>severity_name</th>\n",
       "      <th>imported_at</th>\n",
       "      <th>model_version</th>\n",
       "    </tr>\n",
       "  </thead>\n",
       "  <tbody>\n",
       "    <tr>\n",
       "      <th>0</th>\n",
       "      <td>3213</td>\n",
       "      <td>2</td>\n",
       "      <td>2023-07-22</td>\n",
       "      <td>Major</td>\n",
       "      <td>2023-07-22 23:53:34.166869</td>\n",
       "      <td>model_v2_t150723</td>\n",
       "    </tr>\n",
       "    <tr>\n",
       "      <th>1</th>\n",
       "      <td>3198</td>\n",
       "      <td>1</td>\n",
       "      <td>2023-07-22</td>\n",
       "      <td>Minor</td>\n",
       "      <td>2023-07-22 23:53:34.166869</td>\n",
       "      <td>model_v2_t150723</td>\n",
       "    </tr>\n",
       "  </tbody>\n",
       "</table>\n",
       "</div>"
      ],
      "text/plain": [
       "   incident_id  severity_label prediction_at severity_name  \\\n",
       "0         3213               2    2023-07-22         Major   \n",
       "1         3198               1    2023-07-22         Minor   \n",
       "\n",
       "                 imported_at     model_version  \n",
       "0 2023-07-22 23:53:34.166869  model_v2_t150723  \n",
       "1 2023-07-22 23:53:34.166869  model_v2_t150723  "
      ]
     },
     "execution_count": 53,
     "metadata": {},
     "output_type": "execute_result"
    }
   ],
   "source": [
    "# load json file\n",
    "if modelType=='multi':\n",
    "    map_severity_to_class={'Cosmetic':0,'Minor': 1, \"Major\": 2, \"Critical\": 3}\n",
    "    revert_class_to_severity = {v: k for k, v in map_severity_to_class.items()}\n",
    "    print(f\"Map severity Name to LabelCode: {str(revert_class_to_severity)}\")\n",
    "    df['severity_name']=df['severity_label'].map(revert_class_to_severity)\n",
    "elif modelType=='binary':\n",
    "    map_severity_to_class={1:'Critical',0: 'Normal'}\n",
    "    print(f\"Map severity Name to LabelCode: {str(map_severity_to_class)}\")\n",
    "    df['severity_name']=df['severity_label'].map(map_severity_to_class)\n",
    "\n",
    "\n",
    "\n",
    "df['imported_at']=imported_at\n",
    "df['model_version']=model_version\n",
    "\n",
    "print(df.info())\n",
    "df"
   ]
  },
  {
   "cell_type": "code",
   "execution_count": 32,
   "id": "284c8970-ea42-4bbc-897a-3cf601c7b645",
   "metadata": {},
   "outputs": [
    {
     "name": "stdout",
     "output_type": "stream",
     "text": [
      "Error: insert or update on table \"app_prediction_ml_severity_incident\" violates foreign key constraint \"app_prediction_ml_se_incident_id_76a56c1f_fk_app_incid\"\n",
      "DETAIL:  Key (incident_id)=(3213) is not present in table \"app_incident\".\n",
      "\n"
     ]
    },
    {
     "ename": "ForeignKeyViolation",
     "evalue": "insert or update on table \"app_prediction_ml_severity_incident\" violates foreign key constraint \"app_prediction_ml_se_incident_id_76a56c1f_fk_app_incid\"\nDETAIL:  Key (incident_id)=(3213) is not present in table \"app_incident\".\n",
     "output_type": "error",
     "traceback": [
      "\u001b[1;31m---------------------------------------------------------------------------\u001b[0m",
      "\u001b[1;31mForeignKeyViolation\u001b[0m                       Traceback (most recent call last)",
      "Cell \u001b[1;32mIn[32], line 39\u001b[0m\n\u001b[0;32m     36\u001b[0m     \u001b[38;5;28;01mreturn\u001b[39;00m \u001b[38;5;241m1\u001b[39m\n\u001b[0;32m     37\u001b[0m     cursor\u001b[38;5;241m.\u001b[39mclose()\n\u001b[1;32m---> 39\u001b[0m result\u001b[38;5;241m=\u001b[39m\u001b[43madd_data_values\u001b[49m\u001b[43m(\u001b[49m\u001b[43mdf\u001b[49m\u001b[43m,\u001b[49m\u001b[43msm_table\u001b[49m\u001b[43m,\u001b[49m\u001b[43mget_postgres_conn\u001b[49m\u001b[43m(\u001b[49m\u001b[43m)\u001b[49m\u001b[43m)\u001b[49m\n\u001b[0;32m     41\u001b[0m \u001b[38;5;28;01mif\u001b[39;00m  result\u001b[38;5;241m==\u001b[39m\u001b[38;5;241m1\u001b[39m:\n\u001b[0;32m     42\u001b[0m     \u001b[38;5;28mprint\u001b[39m(\u001b[38;5;124mf\u001b[39m\u001b[38;5;124m\"\u001b[39m\u001b[38;5;132;01m{\u001b[39;00m\u001b[38;5;28mlen\u001b[39m(df\u001b[38;5;241m.\u001b[39mindex)\u001b[38;5;132;01m}\u001b[39;00m\u001b[38;5;124m items have been imported to \u001b[39m\u001b[38;5;132;01m{\u001b[39;00msm_table\u001b[38;5;132;01m}\u001b[39;00m\u001b[38;5;124m successfully.\u001b[39m\u001b[38;5;124m\"\u001b[39m)\n",
      "Cell \u001b[1;32mIn[32], line 33\u001b[0m, in \u001b[0;36madd_data_values\u001b[1;34m(df, table, conn)\u001b[0m\n\u001b[0;32m     31\u001b[0m     conn\u001b[38;5;241m.\u001b[39mrollback()\n\u001b[0;32m     32\u001b[0m     cursor\u001b[38;5;241m.\u001b[39mclose()\n\u001b[1;32m---> 33\u001b[0m     \u001b[38;5;28;01mraise\u001b[39;00m error\n\u001b[0;32m     34\u001b[0m     \u001b[38;5;28;01mreturn\u001b[39;00m \u001b[38;5;241m0\u001b[39m\n\u001b[0;32m     36\u001b[0m \u001b[38;5;28;01mreturn\u001b[39;00m \u001b[38;5;241m1\u001b[39m\n",
      "Cell \u001b[1;32mIn[32], line 28\u001b[0m, in \u001b[0;36madd_data_values\u001b[1;34m(df, table, conn)\u001b[0m\n\u001b[0;32m     26\u001b[0m \u001b[38;5;28;01mtry\u001b[39;00m:\n\u001b[0;32m     27\u001b[0m     extras\u001b[38;5;241m.\u001b[39mexecute_values(cursor, query, tuples)\n\u001b[1;32m---> 28\u001b[0m     \u001b[43mconn\u001b[49m\u001b[38;5;241;43m.\u001b[39;49m\u001b[43mcommit\u001b[49m\u001b[43m(\u001b[49m\u001b[43m)\u001b[49m\n\u001b[0;32m     29\u001b[0m \u001b[38;5;28;01mexcept\u001b[39;00m (\u001b[38;5;167;01mException\u001b[39;00m, psycopg2\u001b[38;5;241m.\u001b[39mDatabaseError) \u001b[38;5;28;01mas\u001b[39;00m error:\n\u001b[0;32m     30\u001b[0m     \u001b[38;5;28mprint\u001b[39m(\u001b[38;5;124m\"\u001b[39m\u001b[38;5;124mError: \u001b[39m\u001b[38;5;132;01m%s\u001b[39;00m\u001b[38;5;124m\"\u001b[39m \u001b[38;5;241m%\u001b[39m error)\n",
      "\u001b[1;31mForeignKeyViolation\u001b[0m: insert or update on table \"app_prediction_ml_severity_incident\" violates foreign key constraint \"app_prediction_ml_se_incident_id_76a56c1f_fk_app_incid\"\nDETAIL:  Key (incident_id)=(3213) is not present in table \"app_incident\".\n"
     ]
    }
   ],
   "source": [
    "import psycopg2\n",
    "import psycopg2.extras as extras\n",
    "\n",
    "def get_postgres_conn():\n",
    " try:\n",
    "  conn = psycopg2.connect(\n",
    "        database=config['DATABASES_NAME'], user=config['DATABASES_USER'],\n",
    "      password=config['DATABASES_PASSWORD'], host=config['DATABASES_HOST']\n",
    "     )\n",
    "  return conn\n",
    "\n",
    " except Exception as error:\n",
    "  print(error)      \n",
    "  raise error\n",
    "\n",
    "def add_data_values(df, table,conn):\n",
    "\n",
    "    tuples = [tuple(x) for x in df.to_numpy()]\n",
    "    # Comma-separated dataframe columns\n",
    "    cols = ','.join(list(df.columns))\n",
    "    # SQL quert to execute\n",
    "    query  = \"INSERT INTO %s(%s) VALUES %%s\" % (table, cols)\n",
    "    #print(query)\n",
    "    #return query,tuples\n",
    "    cursor = conn.cursor()\n",
    "    try:\n",
    "        extras.execute_values(cursor, query, tuples)\n",
    "        conn.commit()\n",
    "    except (Exception, psycopg2.DatabaseError) as error:\n",
    "        print(\"Error: %s\" % error)\n",
    "        conn.rollback()\n",
    "        cursor.close()\n",
    "        raise error\n",
    "        return 0\n",
    "    \n",
    "    return 1\n",
    "    cursor.close()\n",
    "\n",
    "result=add_data_values(df,sm_table,get_postgres_conn())\n",
    "\n",
    "if  result==1:\n",
    "    print(f\"{len(df.index)} items have been imported to {sm_table} successfully.\")"
   ]
  },
  {
   "cell_type": "code",
   "execution_count": null,
   "id": "aef32954-4ef2-4ea1-a702-3f9f8c569168",
   "metadata": {},
   "outputs": [],
   "source": []
  }
 ],
 "metadata": {
  "kernelspec": {
   "display_name": "Python 3 (ipykernel)",
   "language": "python",
   "name": "python3"
  },
  "language_info": {
   "codemirror_mode": {
    "name": "ipython",
    "version": 3
   },
   "file_extension": ".py",
   "mimetype": "text/x-python",
   "name": "python",
   "nbconvert_exporter": "python",
   "pygments_lexer": "ipython3",
   "version": "3.9.16"
  }
 },
 "nbformat": 4,
 "nbformat_minor": 5
}
